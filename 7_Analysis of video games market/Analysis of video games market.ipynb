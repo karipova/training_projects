{
 "cells": [
  {
   "cell_type": "markdown",
   "metadata": {
    "toc": true
   },
   "source": [
    "<h1>Table of Contents<span class=\"tocSkip\"></span></h1>\n",
    "<div class=\"toc\"><ul class=\"toc-item\"><li><span><a href=\"#Data-upload\" data-toc-modified-id=\"Data-upload-1\"><span class=\"toc-item-num\">1&nbsp;&nbsp;</span>Data upload</a></span><ul class=\"toc-item\"><li><span><a href=\"#Conclusion\" data-toc-modified-id=\"Conclusion-1.1\"><span class=\"toc-item-num\">1.1&nbsp;&nbsp;</span>Conclusion</a></span></li></ul></li><li><span><a href=\"#Data-preprocessing\" data-toc-modified-id=\"Data-preprocessing-2\"><span class=\"toc-item-num\">2&nbsp;&nbsp;</span>Data preprocessing</a></span><ul class=\"toc-item\"><li><span><a href=\"#Conclusion\" data-toc-modified-id=\"Conclusion-2.1\"><span class=\"toc-item-num\">2.1&nbsp;&nbsp;</span>Conclusion</a></span></li></ul></li><li><span><a href=\"#Exploratory-data-analysis\" data-toc-modified-id=\"Exploratory-data-analysis-3\"><span class=\"toc-item-num\">3&nbsp;&nbsp;</span>Exploratory data analysis</a></span><ul class=\"toc-item\"><li><span><a href=\"#Conclusion\" data-toc-modified-id=\"Conclusion-3.1\"><span class=\"toc-item-num\">3.1&nbsp;&nbsp;</span>Conclusion</a></span></li></ul></li><li><span><a href=\"#Defining-a-user-portrait-for-each-region\" data-toc-modified-id=\"Defining-a-user-portrait-for-each-region-4\"><span class=\"toc-item-num\">4&nbsp;&nbsp;</span>Defining a user portrait for each region</a></span><ul class=\"toc-item\"><li><span><a href=\"#User-profile-for-the-NA-region\" data-toc-modified-id=\"User-profile-for-the-NA-region-4.1\"><span class=\"toc-item-num\">4.1&nbsp;&nbsp;</span>User profile for the NA region</a></span></li><li><span><a href=\"#User-profile-for-the-EU-region\" data-toc-modified-id=\"User-profile-for-the-EU-region-4.2\"><span class=\"toc-item-num\">4.2&nbsp;&nbsp;</span>User profile for the EU region</a></span></li><li><span><a href=\"#User-profile-for-the-Japan-region\" data-toc-modified-id=\"User-profile-for-the-Japan-region-4.3\"><span class=\"toc-item-num\">4.3&nbsp;&nbsp;</span>User profile for the Japan region</a></span></li><li><span><a href=\"#Conclusion\" data-toc-modified-id=\"Conclusion-4.4\"><span class=\"toc-item-num\">4.4&nbsp;&nbsp;</span>Conclusion</a></span></li></ul></li><li><span><a href=\"#Testing-statistical-hypotheses\" data-toc-modified-id=\"Testing-statistical-hypotheses-5\"><span class=\"toc-item-num\">5&nbsp;&nbsp;</span>Testing statistical hypotheses</a></span><ul class=\"toc-item\"><li><span><a href=\"#The-average-user-ratings-of-the-Xbox-One-and-PC-platforms-are-the-same\" data-toc-modified-id=\"The-average-user-ratings-of-the-Xbox-One-and-PC-platforms-are-the-same-5.1\"><span class=\"toc-item-num\">5.1&nbsp;&nbsp;</span>The average user ratings of the Xbox One and PC platforms are the same</a></span></li><li><span><a href=\"#Average-user-ratings-of-the-genres-Action-(English-&quot;action&quot;,-action-games)-and-Sports-(English-&quot;sports-competitions&quot;)-are-different\" data-toc-modified-id=\"Average-user-ratings-of-the-genres-Action-(English-&quot;action&quot;,-action-games)-and-Sports-(English-&quot;sports-competitions&quot;)-are-different-5.2\"><span class=\"toc-item-num\">5.2&nbsp;&nbsp;</span>Average user ratings of the genres Action (English \"action\", action games) and Sports (English \"sports competitions\") are different</a></span></li><li><span><a href=\"#Conclusion\" data-toc-modified-id=\"Conclusion-5.3\"><span class=\"toc-item-num\">5.3&nbsp;&nbsp;</span>Conclusion</a></span></li></ul></li><li><span><a href=\"#Conclusion\" data-toc-modified-id=\"Conclusion-6\"><span class=\"toc-item-num\">6&nbsp;&nbsp;</span>Conclusion</a></span></li></ul></div>"
   ]
  },
  {
   "cell_type": "markdown",
   "metadata": {},
   "source": [
    "# Studying the patterns determining the game success"
   ]
  },
  {
   "cell_type": "markdown",
   "metadata": {},
   "source": [
    "## Data upload"
   ]
  },
  {
   "cell_type": "code",
   "execution_count": 1,
   "metadata": {},
   "outputs": [],
   "source": [
    "import pandas as pd\n",
    "import matplotlib.pyplot as plt\n",
    "import numpy as np\n",
    "import seaborn as sns\n",
    "import math\n",
    "from scipy import stats as st\n",
    "import warnings\n",
    "warnings.filterwarnings('ignore')\n",
    "\n",
    "df=pd.read_csv('/datasets/games.csv')"
   ]
  },
  {
   "cell_type": "code",
   "execution_count": 2,
   "metadata": {},
   "outputs": [
    {
     "data": {
      "text/html": [
       "<div>\n",
       "<style scoped>\n",
       "    .dataframe tbody tr th:only-of-type {\n",
       "        vertical-align: middle;\n",
       "    }\n",
       "\n",
       "    .dataframe tbody tr th {\n",
       "        vertical-align: top;\n",
       "    }\n",
       "\n",
       "    .dataframe thead th {\n",
       "        text-align: right;\n",
       "    }\n",
       "</style>\n",
       "<table border=\"1\" class=\"dataframe\">\n",
       "  <thead>\n",
       "    <tr style=\"text-align: right;\">\n",
       "      <th></th>\n",
       "      <th>Name</th>\n",
       "      <th>Platform</th>\n",
       "      <th>Year_of_Release</th>\n",
       "      <th>Genre</th>\n",
       "      <th>NA_sales</th>\n",
       "      <th>EU_sales</th>\n",
       "      <th>JP_sales</th>\n",
       "      <th>Other_sales</th>\n",
       "      <th>Critic_Score</th>\n",
       "      <th>User_Score</th>\n",
       "      <th>Rating</th>\n",
       "    </tr>\n",
       "  </thead>\n",
       "  <tbody>\n",
       "    <tr>\n",
       "      <th>16130</th>\n",
       "      <td>WinBack 2: Project Poseidon</td>\n",
       "      <td>PS2</td>\n",
       "      <td>2006.0</td>\n",
       "      <td>Shooter</td>\n",
       "      <td>0.01</td>\n",
       "      <td>0.01</td>\n",
       "      <td>0.00</td>\n",
       "      <td>0.00</td>\n",
       "      <td>48.0</td>\n",
       "      <td>tbd</td>\n",
       "      <td>T</td>\n",
       "    </tr>\n",
       "    <tr>\n",
       "      <th>1292</th>\n",
       "      <td>Disney Princess</td>\n",
       "      <td>GBA</td>\n",
       "      <td>2003.0</td>\n",
       "      <td>Platform</td>\n",
       "      <td>1.04</td>\n",
       "      <td>0.37</td>\n",
       "      <td>0.00</td>\n",
       "      <td>0.06</td>\n",
       "      <td>NaN</td>\n",
       "      <td>tbd</td>\n",
       "      <td>E</td>\n",
       "    </tr>\n",
       "    <tr>\n",
       "      <th>5210</th>\n",
       "      <td>MechAssault 2: Lone Wolf</td>\n",
       "      <td>XB</td>\n",
       "      <td>2004.0</td>\n",
       "      <td>Simulation</td>\n",
       "      <td>0.27</td>\n",
       "      <td>0.08</td>\n",
       "      <td>0.00</td>\n",
       "      <td>0.01</td>\n",
       "      <td>81.0</td>\n",
       "      <td>7.5</td>\n",
       "      <td>T</td>\n",
       "    </tr>\n",
       "    <tr>\n",
       "      <th>11483</th>\n",
       "      <td>Jikkyou Powerful Major League 2009</td>\n",
       "      <td>PS2</td>\n",
       "      <td>2009.0</td>\n",
       "      <td>Sports</td>\n",
       "      <td>0.00</td>\n",
       "      <td>0.00</td>\n",
       "      <td>0.08</td>\n",
       "      <td>0.00</td>\n",
       "      <td>NaN</td>\n",
       "      <td>NaN</td>\n",
       "      <td>NaN</td>\n",
       "    </tr>\n",
       "    <tr>\n",
       "      <th>7906</th>\n",
       "      <td>Singstar: Ultimate Party</td>\n",
       "      <td>PS4</td>\n",
       "      <td>2014.0</td>\n",
       "      <td>Misc</td>\n",
       "      <td>0.00</td>\n",
       "      <td>0.16</td>\n",
       "      <td>0.00</td>\n",
       "      <td>0.03</td>\n",
       "      <td>47.0</td>\n",
       "      <td>4.1</td>\n",
       "      <td>NaN</td>\n",
       "    </tr>\n",
       "  </tbody>\n",
       "</table>\n",
       "</div>"
      ],
      "text/plain": [
       "                                     Name Platform  Year_of_Release  \\\n",
       "16130         WinBack 2: Project Poseidon      PS2           2006.0   \n",
       "1292                      Disney Princess      GBA           2003.0   \n",
       "5210             MechAssault 2: Lone Wolf       XB           2004.0   \n",
       "11483  Jikkyou Powerful Major League 2009      PS2           2009.0   \n",
       "7906             Singstar: Ultimate Party      PS4           2014.0   \n",
       "\n",
       "            Genre  NA_sales  EU_sales  JP_sales  Other_sales  Critic_Score  \\\n",
       "16130     Shooter      0.01      0.01      0.00         0.00          48.0   \n",
       "1292     Platform      1.04      0.37      0.00         0.06           NaN   \n",
       "5210   Simulation      0.27      0.08      0.00         0.01          81.0   \n",
       "11483      Sports      0.00      0.00      0.08         0.00           NaN   \n",
       "7906         Misc      0.00      0.16      0.00         0.03          47.0   \n",
       "\n",
       "      User_Score Rating  \n",
       "16130        tbd      T  \n",
       "1292         tbd      E  \n",
       "5210         7.5      T  \n",
       "11483        NaN    NaN  \n",
       "7906         4.1    NaN  "
      ]
     },
     "execution_count": 2,
     "metadata": {},
     "output_type": "execute_result"
    }
   ],
   "source": [
    "df.sample(5)"
   ]
  },
  {
   "cell_type": "code",
   "execution_count": 3,
   "metadata": {},
   "outputs": [
    {
     "name": "stdout",
     "output_type": "stream",
     "text": [
      "<class 'pandas.core.frame.DataFrame'>\n",
      "RangeIndex: 16715 entries, 0 to 16714\n",
      "Data columns (total 11 columns):\n",
      " #   Column           Non-Null Count  Dtype  \n",
      "---  ------           --------------  -----  \n",
      " 0   Name             16713 non-null  object \n",
      " 1   Platform         16715 non-null  object \n",
      " 2   Year_of_Release  16446 non-null  float64\n",
      " 3   Genre            16713 non-null  object \n",
      " 4   NA_sales         16715 non-null  float64\n",
      " 5   EU_sales         16715 non-null  float64\n",
      " 6   JP_sales         16715 non-null  float64\n",
      " 7   Other_sales      16715 non-null  float64\n",
      " 8   Critic_Score     8137 non-null   float64\n",
      " 9   User_Score       10014 non-null  object \n",
      " 10  Rating           9949 non-null   object \n",
      "dtypes: float64(6), object(5)\n",
      "memory usage: 1.4+ MB\n"
     ]
    }
   ],
   "source": [
    "df.info()"
   ]
  },
  {
   "cell_type": "code",
   "execution_count": 4,
   "metadata": {},
   "outputs": [
    {
     "data": {
      "text/plain": [
       "0"
      ]
     },
     "execution_count": 4,
     "metadata": {},
     "output_type": "execute_result"
    }
   ],
   "source": [
    "df.duplicated().sum()"
   ]
  },
  {
   "cell_type": "markdown",
   "metadata": {},
   "source": [
    "There are no duplicates in the data."
   ]
  },
  {
   "cell_type": "code",
   "execution_count": 5,
   "metadata": {},
   "outputs": [
    {
     "data": {
      "text/plain": [
       "Name                  2\n",
       "Platform              0\n",
       "Year_of_Release     269\n",
       "Genre                 2\n",
       "NA_sales              0\n",
       "EU_sales              0\n",
       "JP_sales              0\n",
       "Other_sales           0\n",
       "Critic_Score       8578\n",
       "User_Score         6701\n",
       "Rating             6766\n",
       "dtype: int64"
      ]
     },
     "execution_count": 5,
     "metadata": {},
     "output_type": "execute_result"
    }
   ],
   "source": [
    "df.isnull().sum()"
   ]
  },
  {
   "cell_type": "markdown",
   "metadata": {},
   "source": [
    "Missed values in the 'Name' column are not critical for the further analysis. Rows with omissions in the Year_of_Release, Genre columns will be discarded due to their small number."
   ]
  },
  {
   "cell_type": "code",
   "execution_count": 6,
   "metadata": {},
   "outputs": [
    {
     "data": {
      "text/plain": [
       "array([2006., 1985., 2008., 2009., 1996., 1989., 1984., 2005., 1999.,\n",
       "       2007., 2010., 2013., 2004., 1990., 1988., 2002., 2001., 2011.,\n",
       "       1998., 2015., 2012., 2014., 1992., 1997., 1993., 1994., 1982.,\n",
       "       2016., 2003., 1986., 2000.,   nan, 1995., 1991., 1981., 1987.,\n",
       "       1980., 1983.])"
      ]
     },
     "execution_count": 6,
     "metadata": {},
     "output_type": "execute_result"
    }
   ],
   "source": [
    "df['Year_of_Release'].unique()"
   ]
  },
  {
   "cell_type": "markdown",
   "metadata": {},
   "source": [
    "The data contains information from 1980."
   ]
  },
  {
   "cell_type": "code",
   "execution_count": 7,
   "metadata": {},
   "outputs": [
    {
     "data": {
      "text/plain": [
       "array(['8', nan, '8.3', '8.5', '6.6', '8.4', '8.6', '7.7', '6.3', '7.4',\n",
       "       '8.2', '9', '7.9', '8.1', '8.7', '7.1', '3.4', '5.3', '4.8', '3.2',\n",
       "       '8.9', '6.4', '7.8', '7.5', '2.6', '7.2', '9.2', '7', '7.3', '4.3',\n",
       "       '7.6', '5.7', '5', '9.1', '6.5', 'tbd', '8.8', '6.9', '9.4', '6.8',\n",
       "       '6.1', '6.7', '5.4', '4', '4.9', '4.5', '9.3', '6.2', '4.2', '6',\n",
       "       '3.7', '4.1', '5.8', '5.6', '5.5', '4.4', '4.6', '5.9', '3.9',\n",
       "       '3.1', '2.9', '5.2', '3.3', '4.7', '5.1', '3.5', '2.5', '1.9', '3',\n",
       "       '2.7', '2.2', '2', '9.5', '2.1', '3.6', '2.8', '1.8', '3.8', '0',\n",
       "       '1.6', '9.6', '2.4', '1.7', '1.1', '0.3', '1.5', '0.7', '1.2',\n",
       "       '2.3', '0.5', '1.3', '0.2', '0.6', '1.4', '0.9', '1', '9.7'],\n",
       "      dtype=object)"
      ]
     },
     "execution_count": 7,
     "metadata": {},
     "output_type": "execute_result"
    }
   ],
   "source": [
    "df['User_Score'].unique()"
   ]
  },
  {
   "cell_type": "markdown",
   "metadata": {},
   "source": [
    "In addition to numeric values, the User_Score column contains the abbreviation \"tbd\"/ \"to be done\", i.e., the rating has not yet been assigned. Most likely, this is applicable for new games."
   ]
  },
  {
   "cell_type": "code",
   "execution_count": 8,
   "metadata": {},
   "outputs": [
    {
     "data": {
      "text/plain": [
       "array(['E', nan, 'M', 'T', 'E10+', 'K-A', 'AO', 'EC', 'RP'], dtype=object)"
      ]
     },
     "execution_count": 8,
     "metadata": {},
     "output_type": "execute_result"
    }
   ],
   "source": [
    "df['Rating'].unique()"
   ]
  },
  {
   "cell_type": "markdown",
   "metadata": {},
   "source": [
    "Let's see what each abbreviation means.\n",
    "\n",
    "\"E\" (\"Everyone\") — \"For everyone\"; \"M\" (\"Mature\") — \"For adults\"; \"T\" (\"Teen\") — \"Teenagers\"; \"E10+\" (\"Everyone 10 and older\"); \"K-A\" (\"Kids to Adults\"), equivalent to \"E\"; \"AO\" (\"Adults Only 18+\") — \"Adults only\"; \"EC\" (\"Early childhood\") — \"For younger children\"; \"RP\" (\"Rating Pending\") — \"Rating expected\".\n",
    "\n",
    "Most likely, the latter category is applicable for new games."
   ]
  },
  {
   "cell_type": "markdown",
   "metadata": {},
   "source": [
    "### Conclusion"
   ]
  },
  {
   "cell_type": "markdown",
   "metadata": {},
   "source": [
    "The columns will need to be formated to lowercase. There are no complete duplicates in the data. The name of the game can contain both the year and the country of release. The data contains information dating back to 1980, so the missed values the rating columns look logical, given that the ESRB was founded in 1994."
   ]
  },
  {
   "cell_type": "markdown",
   "metadata": {},
   "source": [
    "## Data preprocessing"
   ]
  },
  {
   "cell_type": "code",
   "execution_count": 9,
   "metadata": {},
   "outputs": [],
   "source": [
    "df.columns = df.columns.str.lower()\n",
    "\n",
    "#the column names to lowercase"
   ]
  },
  {
   "cell_type": "code",
   "execution_count": 10,
   "metadata": {},
   "outputs": [],
   "source": [
    "df = df.query('year_of_release>0')\n",
    "#вкщз the lines with the missing year of release of the game"
   ]
  },
  {
   "cell_type": "code",
   "execution_count": 11,
   "metadata": {},
   "outputs": [],
   "source": [
    "df['year_of_release'] = df['year_of_release'].astype('int')"
   ]
  },
  {
   "cell_type": "markdown",
   "metadata": {},
   "source": [
    "We do not know the reason for the formation of missed values in the user_score column. Replace them with the marker \"-1\". We will do the same with the values of \"tbd\"."
   ]
  },
  {
   "cell_type": "code",
   "execution_count": 12,
   "metadata": {},
   "outputs": [],
   "source": [
    "df['user_score']=df['user_score'].fillna(value=-1)"
   ]
  },
  {
   "cell_type": "code",
   "execution_count": 13,
   "metadata": {},
   "outputs": [],
   "source": [
    "df['user_score']=df['user_score'].replace(to_replace='tbd', value=-1)\n",
    "df['user_score']=df['user_score'].astype('float64')"
   ]
  },
  {
   "cell_type": "code",
   "execution_count": 14,
   "metadata": {},
   "outputs": [
    {
     "data": {
      "text/plain": [
       "array(['E', nan, 'M', 'T', 'E10+', 'K-A', 'AO', 'EC', 'RP'], dtype=object)"
      ]
     },
     "execution_count": 14,
     "metadata": {},
     "output_type": "execute_result"
    }
   ],
   "source": [
    "df['rating'].unique()"
   ]
  },
  {
   "cell_type": "code",
   "execution_count": 15,
   "metadata": {},
   "outputs": [
    {
     "data": {
      "text/plain": [
       "0          E\n",
       "1        NaN\n",
       "2          E\n",
       "3          E\n",
       "4        NaN\n",
       "        ... \n",
       "16710    NaN\n",
       "16711    NaN\n",
       "16712    NaN\n",
       "16713    NaN\n",
       "16714    NaN\n",
       "Name: rating, Length: 16446, dtype: object"
      ]
     },
     "execution_count": 15,
     "metadata": {},
     "output_type": "execute_result"
    }
   ],
   "source": [
    "df['rating'].replace(to_replace=\"K-A\", value=\"E\")\n",
    "#replace the \"K-A\" rating with an equivalent \"E\" rating"
   ]
  },
  {
   "cell_type": "code",
   "execution_count": 16,
   "metadata": {},
   "outputs": [],
   "source": [
    "df['total_sales']=df['na_sales']+df['eu_sales']+df['jp_sales']+df['other_sales']\n",
    "#let's calculate the total sales in all regions and record them in a separate column"
   ]
  },
  {
   "cell_type": "code",
   "execution_count": 17,
   "metadata": {
    "scrolled": true
   },
   "outputs": [
    {
     "data": {
      "text/html": [
       "<div>\n",
       "<style scoped>\n",
       "    .dataframe tbody tr th:only-of-type {\n",
       "        vertical-align: middle;\n",
       "    }\n",
       "\n",
       "    .dataframe tbody tr th {\n",
       "        vertical-align: top;\n",
       "    }\n",
       "\n",
       "    .dataframe thead th {\n",
       "        text-align: right;\n",
       "    }\n",
       "</style>\n",
       "<table border=\"1\" class=\"dataframe\">\n",
       "  <thead>\n",
       "    <tr style=\"text-align: right;\">\n",
       "      <th></th>\n",
       "      <th>year_of_release</th>\n",
       "      <th>na_sales</th>\n",
       "      <th>eu_sales</th>\n",
       "      <th>jp_sales</th>\n",
       "      <th>other_sales</th>\n",
       "      <th>critic_score</th>\n",
       "      <th>user_score</th>\n",
       "      <th>total_sales</th>\n",
       "    </tr>\n",
       "  </thead>\n",
       "  <tbody>\n",
       "    <tr>\n",
       "      <th>count</th>\n",
       "      <td>16446.000000</td>\n",
       "      <td>16446.000000</td>\n",
       "      <td>16446.000000</td>\n",
       "      <td>16446.000000</td>\n",
       "      <td>16446.000000</td>\n",
       "      <td>7983.000000</td>\n",
       "      <td>16446.000000</td>\n",
       "      <td>16446.000000</td>\n",
       "    </tr>\n",
       "    <tr>\n",
       "      <th>mean</th>\n",
       "      <td>2006.484616</td>\n",
       "      <td>0.264089</td>\n",
       "      <td>0.145945</td>\n",
       "      <td>0.078479</td>\n",
       "      <td>0.047593</td>\n",
       "      <td>68.994363</td>\n",
       "      <td>2.687632</td>\n",
       "      <td>0.536105</td>\n",
       "    </tr>\n",
       "    <tr>\n",
       "      <th>std</th>\n",
       "      <td>5.877050</td>\n",
       "      <td>0.818416</td>\n",
       "      <td>0.506696</td>\n",
       "      <td>0.311082</td>\n",
       "      <td>0.187994</td>\n",
       "      <td>13.920060</td>\n",
       "      <td>4.170069</td>\n",
       "      <td>1.558763</td>\n",
       "    </tr>\n",
       "    <tr>\n",
       "      <th>min</th>\n",
       "      <td>1980.000000</td>\n",
       "      <td>0.000000</td>\n",
       "      <td>0.000000</td>\n",
       "      <td>0.000000</td>\n",
       "      <td>0.000000</td>\n",
       "      <td>13.000000</td>\n",
       "      <td>-1.000000</td>\n",
       "      <td>0.000000</td>\n",
       "    </tr>\n",
       "    <tr>\n",
       "      <th>25%</th>\n",
       "      <td>2003.000000</td>\n",
       "      <td>0.000000</td>\n",
       "      <td>0.000000</td>\n",
       "      <td>0.000000</td>\n",
       "      <td>0.000000</td>\n",
       "      <td>60.000000</td>\n",
       "      <td>-1.000000</td>\n",
       "      <td>0.060000</td>\n",
       "    </tr>\n",
       "    <tr>\n",
       "      <th>50%</th>\n",
       "      <td>2007.000000</td>\n",
       "      <td>0.080000</td>\n",
       "      <td>0.020000</td>\n",
       "      <td>0.000000</td>\n",
       "      <td>0.010000</td>\n",
       "      <td>71.000000</td>\n",
       "      <td>-1.000000</td>\n",
       "      <td>0.170000</td>\n",
       "    </tr>\n",
       "    <tr>\n",
       "      <th>75%</th>\n",
       "      <td>2010.000000</td>\n",
       "      <td>0.240000</td>\n",
       "      <td>0.110000</td>\n",
       "      <td>0.040000</td>\n",
       "      <td>0.030000</td>\n",
       "      <td>79.000000</td>\n",
       "      <td>7.300000</td>\n",
       "      <td>0.470000</td>\n",
       "    </tr>\n",
       "    <tr>\n",
       "      <th>max</th>\n",
       "      <td>2016.000000</td>\n",
       "      <td>41.360000</td>\n",
       "      <td>28.960000</td>\n",
       "      <td>10.220000</td>\n",
       "      <td>10.570000</td>\n",
       "      <td>98.000000</td>\n",
       "      <td>9.700000</td>\n",
       "      <td>82.540000</td>\n",
       "    </tr>\n",
       "  </tbody>\n",
       "</table>\n",
       "</div>"
      ],
      "text/plain": [
       "       year_of_release      na_sales      eu_sales      jp_sales  \\\n",
       "count     16446.000000  16446.000000  16446.000000  16446.000000   \n",
       "mean       2006.484616      0.264089      0.145945      0.078479   \n",
       "std           5.877050      0.818416      0.506696      0.311082   \n",
       "min        1980.000000      0.000000      0.000000      0.000000   \n",
       "25%        2003.000000      0.000000      0.000000      0.000000   \n",
       "50%        2007.000000      0.080000      0.020000      0.000000   \n",
       "75%        2010.000000      0.240000      0.110000      0.040000   \n",
       "max        2016.000000     41.360000     28.960000     10.220000   \n",
       "\n",
       "        other_sales  critic_score    user_score   total_sales  \n",
       "count  16446.000000   7983.000000  16446.000000  16446.000000  \n",
       "mean       0.047593     68.994363      2.687632      0.536105  \n",
       "std        0.187994     13.920060      4.170069      1.558763  \n",
       "min        0.000000     13.000000     -1.000000      0.000000  \n",
       "25%        0.000000     60.000000     -1.000000      0.060000  \n",
       "50%        0.010000     71.000000     -1.000000      0.170000  \n",
       "75%        0.030000     79.000000      7.300000      0.470000  \n",
       "max       10.570000     98.000000      9.700000     82.540000  "
      ]
     },
     "execution_count": 17,
     "metadata": {},
     "output_type": "execute_result"
    }
   ],
   "source": [
    "df.describe()"
   ]
  },
  {
   "cell_type": "markdown",
   "metadata": {},
   "source": [
    "### Conclusion"
   ]
  },
  {
   "cell_type": "markdown",
   "metadata": {},
   "source": [
    "Some abnormal values are not visible in the final date frame. You can move on to EDA."
   ]
  },
  {
   "cell_type": "markdown",
   "metadata": {},
   "source": [
    "## Exploratory data analysis"
   ]
  },
  {
   "cell_type": "code",
   "execution_count": 18,
   "metadata": {
    "scrolled": true
   },
   "outputs": [
    {
     "data": {
      "text/html": [
       "<div>\n",
       "<style scoped>\n",
       "    .dataframe tbody tr th:only-of-type {\n",
       "        vertical-align: middle;\n",
       "    }\n",
       "\n",
       "    .dataframe tbody tr th {\n",
       "        vertical-align: top;\n",
       "    }\n",
       "\n",
       "    .dataframe thead th {\n",
       "        text-align: right;\n",
       "    }\n",
       "</style>\n",
       "<table border=\"1\" class=\"dataframe\">\n",
       "  <thead>\n",
       "    <tr style=\"text-align: right;\">\n",
       "      <th></th>\n",
       "      <th>name</th>\n",
       "      <th>platform</th>\n",
       "      <th>genre</th>\n",
       "      <th>na_sales</th>\n",
       "      <th>eu_sales</th>\n",
       "      <th>jp_sales</th>\n",
       "      <th>other_sales</th>\n",
       "      <th>critic_score</th>\n",
       "      <th>user_score</th>\n",
       "      <th>rating</th>\n",
       "      <th>total_sales</th>\n",
       "    </tr>\n",
       "    <tr>\n",
       "      <th>year_of_release</th>\n",
       "      <th></th>\n",
       "      <th></th>\n",
       "      <th></th>\n",
       "      <th></th>\n",
       "      <th></th>\n",
       "      <th></th>\n",
       "      <th></th>\n",
       "      <th></th>\n",
       "      <th></th>\n",
       "      <th></th>\n",
       "      <th></th>\n",
       "    </tr>\n",
       "  </thead>\n",
       "  <tbody>\n",
       "    <tr>\n",
       "      <th>1980</th>\n",
       "      <td>9</td>\n",
       "      <td>9</td>\n",
       "      <td>9</td>\n",
       "      <td>9</td>\n",
       "      <td>9</td>\n",
       "      <td>9</td>\n",
       "      <td>9</td>\n",
       "      <td>0</td>\n",
       "      <td>9</td>\n",
       "      <td>0</td>\n",
       "      <td>9</td>\n",
       "    </tr>\n",
       "    <tr>\n",
       "      <th>1981</th>\n",
       "      <td>46</td>\n",
       "      <td>46</td>\n",
       "      <td>46</td>\n",
       "      <td>46</td>\n",
       "      <td>46</td>\n",
       "      <td>46</td>\n",
       "      <td>46</td>\n",
       "      <td>0</td>\n",
       "      <td>46</td>\n",
       "      <td>0</td>\n",
       "      <td>46</td>\n",
       "    </tr>\n",
       "    <tr>\n",
       "      <th>1982</th>\n",
       "      <td>36</td>\n",
       "      <td>36</td>\n",
       "      <td>36</td>\n",
       "      <td>36</td>\n",
       "      <td>36</td>\n",
       "      <td>36</td>\n",
       "      <td>36</td>\n",
       "      <td>0</td>\n",
       "      <td>36</td>\n",
       "      <td>0</td>\n",
       "      <td>36</td>\n",
       "    </tr>\n",
       "    <tr>\n",
       "      <th>1983</th>\n",
       "      <td>17</td>\n",
       "      <td>17</td>\n",
       "      <td>17</td>\n",
       "      <td>17</td>\n",
       "      <td>17</td>\n",
       "      <td>17</td>\n",
       "      <td>17</td>\n",
       "      <td>0</td>\n",
       "      <td>17</td>\n",
       "      <td>0</td>\n",
       "      <td>17</td>\n",
       "    </tr>\n",
       "    <tr>\n",
       "      <th>1984</th>\n",
       "      <td>14</td>\n",
       "      <td>14</td>\n",
       "      <td>14</td>\n",
       "      <td>14</td>\n",
       "      <td>14</td>\n",
       "      <td>14</td>\n",
       "      <td>14</td>\n",
       "      <td>0</td>\n",
       "      <td>14</td>\n",
       "      <td>0</td>\n",
       "      <td>14</td>\n",
       "    </tr>\n",
       "    <tr>\n",
       "      <th>1985</th>\n",
       "      <td>14</td>\n",
       "      <td>14</td>\n",
       "      <td>14</td>\n",
       "      <td>14</td>\n",
       "      <td>14</td>\n",
       "      <td>14</td>\n",
       "      <td>14</td>\n",
       "      <td>1</td>\n",
       "      <td>14</td>\n",
       "      <td>1</td>\n",
       "      <td>14</td>\n",
       "    </tr>\n",
       "    <tr>\n",
       "      <th>1986</th>\n",
       "      <td>21</td>\n",
       "      <td>21</td>\n",
       "      <td>21</td>\n",
       "      <td>21</td>\n",
       "      <td>21</td>\n",
       "      <td>21</td>\n",
       "      <td>21</td>\n",
       "      <td>0</td>\n",
       "      <td>21</td>\n",
       "      <td>0</td>\n",
       "      <td>21</td>\n",
       "    </tr>\n",
       "    <tr>\n",
       "      <th>1987</th>\n",
       "      <td>16</td>\n",
       "      <td>16</td>\n",
       "      <td>16</td>\n",
       "      <td>16</td>\n",
       "      <td>16</td>\n",
       "      <td>16</td>\n",
       "      <td>16</td>\n",
       "      <td>0</td>\n",
       "      <td>16</td>\n",
       "      <td>0</td>\n",
       "      <td>16</td>\n",
       "    </tr>\n",
       "    <tr>\n",
       "      <th>1988</th>\n",
       "      <td>15</td>\n",
       "      <td>15</td>\n",
       "      <td>15</td>\n",
       "      <td>15</td>\n",
       "      <td>15</td>\n",
       "      <td>15</td>\n",
       "      <td>15</td>\n",
       "      <td>1</td>\n",
       "      <td>15</td>\n",
       "      <td>1</td>\n",
       "      <td>15</td>\n",
       "    </tr>\n",
       "    <tr>\n",
       "      <th>1989</th>\n",
       "      <td>17</td>\n",
       "      <td>17</td>\n",
       "      <td>17</td>\n",
       "      <td>17</td>\n",
       "      <td>17</td>\n",
       "      <td>17</td>\n",
       "      <td>17</td>\n",
       "      <td>0</td>\n",
       "      <td>17</td>\n",
       "      <td>0</td>\n",
       "      <td>17</td>\n",
       "    </tr>\n",
       "    <tr>\n",
       "      <th>1990</th>\n",
       "      <td>16</td>\n",
       "      <td>16</td>\n",
       "      <td>16</td>\n",
       "      <td>16</td>\n",
       "      <td>16</td>\n",
       "      <td>16</td>\n",
       "      <td>16</td>\n",
       "      <td>0</td>\n",
       "      <td>16</td>\n",
       "      <td>0</td>\n",
       "      <td>16</td>\n",
       "    </tr>\n",
       "    <tr>\n",
       "      <th>1991</th>\n",
       "      <td>41</td>\n",
       "      <td>41</td>\n",
       "      <td>41</td>\n",
       "      <td>41</td>\n",
       "      <td>41</td>\n",
       "      <td>41</td>\n",
       "      <td>41</td>\n",
       "      <td>0</td>\n",
       "      <td>41</td>\n",
       "      <td>0</td>\n",
       "      <td>41</td>\n",
       "    </tr>\n",
       "    <tr>\n",
       "      <th>1992</th>\n",
       "      <td>43</td>\n",
       "      <td>43</td>\n",
       "      <td>43</td>\n",
       "      <td>43</td>\n",
       "      <td>43</td>\n",
       "      <td>43</td>\n",
       "      <td>43</td>\n",
       "      <td>1</td>\n",
       "      <td>43</td>\n",
       "      <td>2</td>\n",
       "      <td>43</td>\n",
       "    </tr>\n",
       "    <tr>\n",
       "      <th>1993</th>\n",
       "      <td>60</td>\n",
       "      <td>62</td>\n",
       "      <td>60</td>\n",
       "      <td>62</td>\n",
       "      <td>62</td>\n",
       "      <td>62</td>\n",
       "      <td>62</td>\n",
       "      <td>0</td>\n",
       "      <td>62</td>\n",
       "      <td>0</td>\n",
       "      <td>62</td>\n",
       "    </tr>\n",
       "    <tr>\n",
       "      <th>1994</th>\n",
       "      <td>121</td>\n",
       "      <td>121</td>\n",
       "      <td>121</td>\n",
       "      <td>121</td>\n",
       "      <td>121</td>\n",
       "      <td>121</td>\n",
       "      <td>121</td>\n",
       "      <td>1</td>\n",
       "      <td>121</td>\n",
       "      <td>1</td>\n",
       "      <td>121</td>\n",
       "    </tr>\n",
       "    <tr>\n",
       "      <th>1995</th>\n",
       "      <td>219</td>\n",
       "      <td>219</td>\n",
       "      <td>219</td>\n",
       "      <td>219</td>\n",
       "      <td>219</td>\n",
       "      <td>219</td>\n",
       "      <td>219</td>\n",
       "      <td>0</td>\n",
       "      <td>219</td>\n",
       "      <td>0</td>\n",
       "      <td>219</td>\n",
       "    </tr>\n",
       "    <tr>\n",
       "      <th>1996</th>\n",
       "      <td>263</td>\n",
       "      <td>263</td>\n",
       "      <td>263</td>\n",
       "      <td>263</td>\n",
       "      <td>263</td>\n",
       "      <td>263</td>\n",
       "      <td>263</td>\n",
       "      <td>8</td>\n",
       "      <td>263</td>\n",
       "      <td>7</td>\n",
       "      <td>263</td>\n",
       "    </tr>\n",
       "    <tr>\n",
       "      <th>1997</th>\n",
       "      <td>289</td>\n",
       "      <td>289</td>\n",
       "      <td>289</td>\n",
       "      <td>289</td>\n",
       "      <td>289</td>\n",
       "      <td>289</td>\n",
       "      <td>289</td>\n",
       "      <td>17</td>\n",
       "      <td>289</td>\n",
       "      <td>19</td>\n",
       "      <td>289</td>\n",
       "    </tr>\n",
       "    <tr>\n",
       "      <th>1998</th>\n",
       "      <td>379</td>\n",
       "      <td>379</td>\n",
       "      <td>379</td>\n",
       "      <td>379</td>\n",
       "      <td>379</td>\n",
       "      <td>379</td>\n",
       "      <td>379</td>\n",
       "      <td>28</td>\n",
       "      <td>379</td>\n",
       "      <td>32</td>\n",
       "      <td>379</td>\n",
       "    </tr>\n",
       "    <tr>\n",
       "      <th>1999</th>\n",
       "      <td>338</td>\n",
       "      <td>338</td>\n",
       "      <td>338</td>\n",
       "      <td>338</td>\n",
       "      <td>338</td>\n",
       "      <td>338</td>\n",
       "      <td>338</td>\n",
       "      <td>39</td>\n",
       "      <td>338</td>\n",
       "      <td>42</td>\n",
       "      <td>338</td>\n",
       "    </tr>\n",
       "    <tr>\n",
       "      <th>2000</th>\n",
       "      <td>350</td>\n",
       "      <td>350</td>\n",
       "      <td>350</td>\n",
       "      <td>350</td>\n",
       "      <td>350</td>\n",
       "      <td>350</td>\n",
       "      <td>350</td>\n",
       "      <td>143</td>\n",
       "      <td>350</td>\n",
       "      <td>148</td>\n",
       "      <td>350</td>\n",
       "    </tr>\n",
       "    <tr>\n",
       "      <th>2001</th>\n",
       "      <td>482</td>\n",
       "      <td>482</td>\n",
       "      <td>482</td>\n",
       "      <td>482</td>\n",
       "      <td>482</td>\n",
       "      <td>482</td>\n",
       "      <td>482</td>\n",
       "      <td>326</td>\n",
       "      <td>482</td>\n",
       "      <td>339</td>\n",
       "      <td>482</td>\n",
       "    </tr>\n",
       "    <tr>\n",
       "      <th>2002</th>\n",
       "      <td>829</td>\n",
       "      <td>829</td>\n",
       "      <td>829</td>\n",
       "      <td>829</td>\n",
       "      <td>829</td>\n",
       "      <td>829</td>\n",
       "      <td>829</td>\n",
       "      <td>627</td>\n",
       "      <td>829</td>\n",
       "      <td>655</td>\n",
       "      <td>829</td>\n",
       "    </tr>\n",
       "    <tr>\n",
       "      <th>2003</th>\n",
       "      <td>775</td>\n",
       "      <td>775</td>\n",
       "      <td>775</td>\n",
       "      <td>775</td>\n",
       "      <td>775</td>\n",
       "      <td>775</td>\n",
       "      <td>775</td>\n",
       "      <td>585</td>\n",
       "      <td>775</td>\n",
       "      <td>613</td>\n",
       "      <td>775</td>\n",
       "    </tr>\n",
       "    <tr>\n",
       "      <th>2004</th>\n",
       "      <td>762</td>\n",
       "      <td>762</td>\n",
       "      <td>762</td>\n",
       "      <td>762</td>\n",
       "      <td>762</td>\n",
       "      <td>762</td>\n",
       "      <td>762</td>\n",
       "      <td>561</td>\n",
       "      <td>762</td>\n",
       "      <td>598</td>\n",
       "      <td>762</td>\n",
       "    </tr>\n",
       "    <tr>\n",
       "      <th>2005</th>\n",
       "      <td>939</td>\n",
       "      <td>939</td>\n",
       "      <td>939</td>\n",
       "      <td>939</td>\n",
       "      <td>939</td>\n",
       "      <td>939</td>\n",
       "      <td>939</td>\n",
       "      <td>655</td>\n",
       "      <td>939</td>\n",
       "      <td>706</td>\n",
       "      <td>939</td>\n",
       "    </tr>\n",
       "    <tr>\n",
       "      <th>2006</th>\n",
       "      <td>1006</td>\n",
       "      <td>1006</td>\n",
       "      <td>1006</td>\n",
       "      <td>1006</td>\n",
       "      <td>1006</td>\n",
       "      <td>1006</td>\n",
       "      <td>1006</td>\n",
       "      <td>620</td>\n",
       "      <td>1006</td>\n",
       "      <td>678</td>\n",
       "      <td>1006</td>\n",
       "    </tr>\n",
       "    <tr>\n",
       "      <th>2007</th>\n",
       "      <td>1197</td>\n",
       "      <td>1197</td>\n",
       "      <td>1197</td>\n",
       "      <td>1197</td>\n",
       "      <td>1197</td>\n",
       "      <td>1197</td>\n",
       "      <td>1197</td>\n",
       "      <td>692</td>\n",
       "      <td>1197</td>\n",
       "      <td>821</td>\n",
       "      <td>1197</td>\n",
       "    </tr>\n",
       "    <tr>\n",
       "      <th>2008</th>\n",
       "      <td>1427</td>\n",
       "      <td>1427</td>\n",
       "      <td>1427</td>\n",
       "      <td>1427</td>\n",
       "      <td>1427</td>\n",
       "      <td>1427</td>\n",
       "      <td>1427</td>\n",
       "      <td>715</td>\n",
       "      <td>1427</td>\n",
       "      <td>981</td>\n",
       "      <td>1427</td>\n",
       "    </tr>\n",
       "    <tr>\n",
       "      <th>2009</th>\n",
       "      <td>1426</td>\n",
       "      <td>1426</td>\n",
       "      <td>1426</td>\n",
       "      <td>1426</td>\n",
       "      <td>1426</td>\n",
       "      <td>1426</td>\n",
       "      <td>1426</td>\n",
       "      <td>651</td>\n",
       "      <td>1426</td>\n",
       "      <td>1011</td>\n",
       "      <td>1426</td>\n",
       "    </tr>\n",
       "    <tr>\n",
       "      <th>2010</th>\n",
       "      <td>1255</td>\n",
       "      <td>1255</td>\n",
       "      <td>1255</td>\n",
       "      <td>1255</td>\n",
       "      <td>1255</td>\n",
       "      <td>1255</td>\n",
       "      <td>1255</td>\n",
       "      <td>500</td>\n",
       "      <td>1255</td>\n",
       "      <td>799</td>\n",
       "      <td>1255</td>\n",
       "    </tr>\n",
       "    <tr>\n",
       "      <th>2011</th>\n",
       "      <td>1136</td>\n",
       "      <td>1136</td>\n",
       "      <td>1136</td>\n",
       "      <td>1136</td>\n",
       "      <td>1136</td>\n",
       "      <td>1136</td>\n",
       "      <td>1136</td>\n",
       "      <td>500</td>\n",
       "      <td>1136</td>\n",
       "      <td>703</td>\n",
       "      <td>1136</td>\n",
       "    </tr>\n",
       "    <tr>\n",
       "      <th>2012</th>\n",
       "      <td>653</td>\n",
       "      <td>653</td>\n",
       "      <td>653</td>\n",
       "      <td>653</td>\n",
       "      <td>653</td>\n",
       "      <td>653</td>\n",
       "      <td>653</td>\n",
       "      <td>321</td>\n",
       "      <td>653</td>\n",
       "      <td>355</td>\n",
       "      <td>653</td>\n",
       "    </tr>\n",
       "    <tr>\n",
       "      <th>2013</th>\n",
       "      <td>544</td>\n",
       "      <td>544</td>\n",
       "      <td>544</td>\n",
       "      <td>544</td>\n",
       "      <td>544</td>\n",
       "      <td>544</td>\n",
       "      <td>544</td>\n",
       "      <td>273</td>\n",
       "      <td>544</td>\n",
       "      <td>316</td>\n",
       "      <td>544</td>\n",
       "    </tr>\n",
       "    <tr>\n",
       "      <th>2014</th>\n",
       "      <td>581</td>\n",
       "      <td>581</td>\n",
       "      <td>581</td>\n",
       "      <td>581</td>\n",
       "      <td>581</td>\n",
       "      <td>581</td>\n",
       "      <td>581</td>\n",
       "      <td>261</td>\n",
       "      <td>581</td>\n",
       "      <td>345</td>\n",
       "      <td>581</td>\n",
       "    </tr>\n",
       "    <tr>\n",
       "      <th>2015</th>\n",
       "      <td>606</td>\n",
       "      <td>606</td>\n",
       "      <td>606</td>\n",
       "      <td>606</td>\n",
       "      <td>606</td>\n",
       "      <td>606</td>\n",
       "      <td>606</td>\n",
       "      <td>225</td>\n",
       "      <td>606</td>\n",
       "      <td>315</td>\n",
       "      <td>606</td>\n",
       "    </tr>\n",
       "    <tr>\n",
       "      <th>2016</th>\n",
       "      <td>502</td>\n",
       "      <td>502</td>\n",
       "      <td>502</td>\n",
       "      <td>502</td>\n",
       "      <td>502</td>\n",
       "      <td>502</td>\n",
       "      <td>502</td>\n",
       "      <td>232</td>\n",
       "      <td>502</td>\n",
       "      <td>280</td>\n",
       "      <td>502</td>\n",
       "    </tr>\n",
       "  </tbody>\n",
       "</table>\n",
       "</div>"
      ],
      "text/plain": [
       "                 name  platform  genre  na_sales  eu_sales  jp_sales  \\\n",
       "year_of_release                                                        \n",
       "1980                9         9      9         9         9         9   \n",
       "1981               46        46     46        46        46        46   \n",
       "1982               36        36     36        36        36        36   \n",
       "1983               17        17     17        17        17        17   \n",
       "1984               14        14     14        14        14        14   \n",
       "1985               14        14     14        14        14        14   \n",
       "1986               21        21     21        21        21        21   \n",
       "1987               16        16     16        16        16        16   \n",
       "1988               15        15     15        15        15        15   \n",
       "1989               17        17     17        17        17        17   \n",
       "1990               16        16     16        16        16        16   \n",
       "1991               41        41     41        41        41        41   \n",
       "1992               43        43     43        43        43        43   \n",
       "1993               60        62     60        62        62        62   \n",
       "1994              121       121    121       121       121       121   \n",
       "1995              219       219    219       219       219       219   \n",
       "1996              263       263    263       263       263       263   \n",
       "1997              289       289    289       289       289       289   \n",
       "1998              379       379    379       379       379       379   \n",
       "1999              338       338    338       338       338       338   \n",
       "2000              350       350    350       350       350       350   \n",
       "2001              482       482    482       482       482       482   \n",
       "2002              829       829    829       829       829       829   \n",
       "2003              775       775    775       775       775       775   \n",
       "2004              762       762    762       762       762       762   \n",
       "2005              939       939    939       939       939       939   \n",
       "2006             1006      1006   1006      1006      1006      1006   \n",
       "2007             1197      1197   1197      1197      1197      1197   \n",
       "2008             1427      1427   1427      1427      1427      1427   \n",
       "2009             1426      1426   1426      1426      1426      1426   \n",
       "2010             1255      1255   1255      1255      1255      1255   \n",
       "2011             1136      1136   1136      1136      1136      1136   \n",
       "2012              653       653    653       653       653       653   \n",
       "2013              544       544    544       544       544       544   \n",
       "2014              581       581    581       581       581       581   \n",
       "2015              606       606    606       606       606       606   \n",
       "2016              502       502    502       502       502       502   \n",
       "\n",
       "                 other_sales  critic_score  user_score  rating  total_sales  \n",
       "year_of_release                                                              \n",
       "1980                       9             0           9       0            9  \n",
       "1981                      46             0          46       0           46  \n",
       "1982                      36             0          36       0           36  \n",
       "1983                      17             0          17       0           17  \n",
       "1984                      14             0          14       0           14  \n",
       "1985                      14             1          14       1           14  \n",
       "1986                      21             0          21       0           21  \n",
       "1987                      16             0          16       0           16  \n",
       "1988                      15             1          15       1           15  \n",
       "1989                      17             0          17       0           17  \n",
       "1990                      16             0          16       0           16  \n",
       "1991                      41             0          41       0           41  \n",
       "1992                      43             1          43       2           43  \n",
       "1993                      62             0          62       0           62  \n",
       "1994                     121             1         121       1          121  \n",
       "1995                     219             0         219       0          219  \n",
       "1996                     263             8         263       7          263  \n",
       "1997                     289            17         289      19          289  \n",
       "1998                     379            28         379      32          379  \n",
       "1999                     338            39         338      42          338  \n",
       "2000                     350           143         350     148          350  \n",
       "2001                     482           326         482     339          482  \n",
       "2002                     829           627         829     655          829  \n",
       "2003                     775           585         775     613          775  \n",
       "2004                     762           561         762     598          762  \n",
       "2005                     939           655         939     706          939  \n",
       "2006                    1006           620        1006     678         1006  \n",
       "2007                    1197           692        1197     821         1197  \n",
       "2008                    1427           715        1427     981         1427  \n",
       "2009                    1426           651        1426    1011         1426  \n",
       "2010                    1255           500        1255     799         1255  \n",
       "2011                    1136           500        1136     703         1136  \n",
       "2012                     653           321         653     355          653  \n",
       "2013                     544           273         544     316          544  \n",
       "2014                     581           261         581     345          581  \n",
       "2015                     606           225         606     315          606  \n",
       "2016                     502           232         502     280          502  "
      ]
     },
     "execution_count": 18,
     "metadata": {},
     "output_type": "execute_result"
    }
   ],
   "source": [
    "df.groupby('year_of_release').count()"
   ]
  },
  {
   "cell_type": "markdown",
   "metadata": {},
   "source": [
    "Up until 2000, the games that were assigned a rating were rare cases."
   ]
  },
  {
   "cell_type": "code",
   "execution_count": 19,
   "metadata": {},
   "outputs": [
    {
     "data": {
      "text/plain": [
       "platform\n",
       "PS2     1233.56\n",
       "X360     961.24\n",
       "PS3      931.34\n",
       "Wii      891.18\n",
       "DS       802.78\n",
       "PS       727.58\n",
       "PS4      314.14\n",
       "GBA      312.88\n",
       "PSP      289.53\n",
       "3DS      257.81\n",
       "Name: total_sales, dtype: float64"
      ]
     },
     "metadata": {},
     "output_type": "display_data"
    }
   ],
   "source": [
    "display(df.groupby(by=[\"platform\"])['total_sales'].sum().sort_values(ascending=False).head(10))\n",
    "#let's choose the platforms with the highest total sales"
   ]
  },
  {
   "cell_type": "markdown",
   "metadata": {},
   "source": [
    "Let's look at the platforms where the number of game sales is close to 1 billion sales chart for the top 4 platforms copies."
   ]
  },
  {
   "cell_type": "code",
   "execution_count": 20,
   "metadata": {},
   "outputs": [],
   "source": [
    "platform_list=['PS2','X360','PS3','Wii']\n",
    "df_platforms=df.query('platform in @platform_list')\n",
    "#filter data"
   ]
  },
  {
   "cell_type": "code",
   "execution_count": 21,
   "metadata": {},
   "outputs": [
    {
     "data": {
      "image/png": "[encoded data removed]",
      "text/plain": [
       "<Figure size 432x288 with 1 Axes>"
      ]
     },
     "metadata": {
      "needs_background": "light"
     },
     "output_type": "display_data"
    }
   ],
   "source": [
    "sns.lineplot(data = df_platforms, x = \"year_of_release\", y = \"total_sales\", hue=\"platform\", ci=None)\n",
    "sns.set(rc={'figure.figsize':(15,6)})\n",
    "plt.title('Number of sales by year for the top 4 platforms')\n",
    "plt.ylabel('Total sales, mln. copies')\n",
    "plt.xlabel('Year of release')\n",
    "plt.show()\n",
    "# sales chart for the top 4 platforms"
   ]
  },
  {
   "cell_type": "markdown",
   "metadata": {},
   "source": [
    "The chart shows that the average lifetime of the platform is about 10 years."
   ]
  },
  {
   "cell_type": "code",
   "execution_count": 22,
   "metadata": {},
   "outputs": [
    {
     "data": {
      "image/png": "[encoded data removed]",
      "text/plain": [
       "<Figure size 1080x432 with 1 Axes>"
      ]
     },
     "metadata": {},
     "output_type": "display_data"
    }
   ],
   "source": [
    "df['year_of_release'].hist(bins=50)\n",
    "plt.title('Histogram of the distribution of games depending on the year of release')\n",
    "plt.ylabel('Number of games')\n",
    "plt.xlabel('Year of release')\n",
    "plt.show()"
   ]
  },
  {
   "cell_type": "markdown",
   "metadata": {},
   "source": [
    "The production of games reaches its peak between 2005 and 2010, and then sharply declines, which is associated with the spread of smartphones around the world. We can say that the market has stabilized since 2012: the number of games produced per year ranges from 502 to 653. We will use this data when building a sales forecast for 2017. The difference between the forecast year and the first year in the data is half of the average lifetime of the platform - 5 years."
   ]
  },
  {
   "cell_type": "code",
   "execution_count": 23,
   "metadata": {},
   "outputs": [],
   "source": [
    "df_work=df.query('year_of_release >= 2012')\n",
    "#saving the current data to the new dataframe for further work"
   ]
  },
  {
   "cell_type": "code",
   "execution_count": 24,
   "metadata": {},
   "outputs": [
    {
     "data": {
      "image/png": "[encoded data removed]",
      "text/plain": [
       "<Figure size 1080x432 with 1 Axes>"
      ]
     },
     "metadata": {},
     "output_type": "display_data"
    }
   ],
   "source": [
    "sns.lineplot(data = df_work, x = \"year_of_release\", y = \"total_sales\", hue=\"platform\", ci=None)\n",
    "sns.set(rc={'figure.figsize':(17,9)})\n",
    "plt.title('Sales by platforms')\n",
    "plt.ylabel('Total sales, million copies')\n",
    "plt.xlabel('Year of release')\n",
    "plt.show()"
   ]
  },
  {
   "cell_type": "markdown",
   "metadata": {},
   "source": [
    "Sales on all platforms are falling, except for PSV and 3DS."
   ]
  },
  {
   "cell_type": "code",
   "execution_count": 25,
   "metadata": {},
   "outputs": [
    {
     "data": {
      "image/png": "[encoded data removed]",
      "text/plain": [
       "<Figure size 1224x648 with 1 Axes>"
      ]
     },
     "metadata": {},
     "output_type": "display_data"
    },
    {
     "data": {
      "text/plain": [
       "<Figure size 1080x504 with 0 Axes>"
      ]
     },
     "metadata": {},
     "output_type": "display_data"
    }
   ],
   "source": [
    "df_work.boxplot('total_sales', by='platform')\n",
    "fig = plt.figure(figsize=(15,7))\n",
    "\n",
    "#building a boxplot chart chart for global game sales by platform"
   ]
  },
  {
   "cell_type": "markdown",
   "metadata": {},
   "source": [
    "There are platforms with exceptionally high sales cases: PS3, PS4, X360, 3DS. The smallest in terms of the number of copies sold of the PSP, DS, PSV platforms."
   ]
  },
  {
   "cell_type": "code",
   "execution_count": 26,
   "metadata": {},
   "outputs": [
    {
     "data": {
      "image/png": "[encoded data removed]",
      "text/plain": [
       "<Figure size 1224x648 with 1 Axes>"
      ]
     },
     "metadata": {},
     "output_type": "display_data"
    }
   ],
   "source": [
    "df_ps4=df_work.query('platform==\"PS4\"')\n",
    "sns.scatterplot(data = df_ps4, x = \"critic_score\", y = \"total_sales\")\n",
    "sns.set(rc={'figure.figsize':(17,9)})\n",
    "plt.title('Dependence of sales on critics reviews')\n",
    "plt.ylabel('Sales, mln. copies')\n",
    "plt.xlabel('Critics rating')\n",
    "plt.show()\n",
    "# looking at the scatter diagram of the relationship between reviews and sales for the PS4 platform"
   ]
  },
  {
   "cell_type": "code",
   "execution_count": 27,
   "metadata": {
    "scrolled": true
   },
   "outputs": [
    {
     "name": "stdout",
     "output_type": "stream",
     "text": [
      "Correlation between critical reviews and the number of copies sold for the PS4 platform 40.7%\n"
     ]
    }
   ],
   "source": [
    "corr=df_ps4['total_sales'].corr(df_ps4['critic_score'])\n",
    "print('Correlation between critical reviews and the number of copies sold for the PS4 platform', '{:.1%}'.format(corr))\n",
    "# calculating the correlation between reviews and sales"
   ]
  },
  {
   "cell_type": "markdown",
   "metadata": {},
   "source": [
    "There is a weak direct relationship between critics' reviews and game sales."
   ]
  },
  {
   "cell_type": "code",
   "execution_count": 28,
   "metadata": {},
   "outputs": [
    {
     "data": {
      "text/html": [
       "<div>\n",
       "<style scoped>\n",
       "    .dataframe tbody tr th:only-of-type {\n",
       "        vertical-align: middle;\n",
       "    }\n",
       "\n",
       "    .dataframe tbody tr th {\n",
       "        vertical-align: top;\n",
       "    }\n",
       "\n",
       "    .dataframe thead th {\n",
       "        text-align: right;\n",
       "    }\n",
       "</style>\n",
       "<table border=\"1\" class=\"dataframe\">\n",
       "  <thead>\n",
       "    <tr style=\"text-align: right;\">\n",
       "      <th></th>\n",
       "      <th>genre</th>\n",
       "      <th>total_sales</th>\n",
       "    </tr>\n",
       "  </thead>\n",
       "  <tbody>\n",
       "    <tr>\n",
       "      <th>0</th>\n",
       "      <td>Action</td>\n",
       "      <td>441.12</td>\n",
       "    </tr>\n",
       "    <tr>\n",
       "      <th>8</th>\n",
       "      <td>Shooter</td>\n",
       "      <td>304.73</td>\n",
       "    </tr>\n",
       "    <tr>\n",
       "      <th>7</th>\n",
       "      <td>Role-Playing</td>\n",
       "      <td>192.80</td>\n",
       "    </tr>\n",
       "    <tr>\n",
       "      <th>10</th>\n",
       "      <td>Sports</td>\n",
       "      <td>181.07</td>\n",
       "    </tr>\n",
       "    <tr>\n",
       "      <th>3</th>\n",
       "      <td>Misc</td>\n",
       "      <td>85.04</td>\n",
       "    </tr>\n",
       "    <tr>\n",
       "      <th>4</th>\n",
       "      <td>Platform</td>\n",
       "      <td>61.00</td>\n",
       "    </tr>\n",
       "    <tr>\n",
       "      <th>6</th>\n",
       "      <td>Racing</td>\n",
       "      <td>53.50</td>\n",
       "    </tr>\n",
       "    <tr>\n",
       "      <th>2</th>\n",
       "      <td>Fighting</td>\n",
       "      <td>44.49</td>\n",
       "    </tr>\n",
       "    <tr>\n",
       "      <th>9</th>\n",
       "      <td>Simulation</td>\n",
       "      <td>35.12</td>\n",
       "    </tr>\n",
       "    <tr>\n",
       "      <th>1</th>\n",
       "      <td>Adventure</td>\n",
       "      <td>29.43</td>\n",
       "    </tr>\n",
       "    <tr>\n",
       "      <th>11</th>\n",
       "      <td>Strategy</td>\n",
       "      <td>13.34</td>\n",
       "    </tr>\n",
       "    <tr>\n",
       "      <th>5</th>\n",
       "      <td>Puzzle</td>\n",
       "      <td>4.89</td>\n",
       "    </tr>\n",
       "  </tbody>\n",
       "</table>\n",
       "</div>"
      ],
      "text/plain": [
       "           genre  total_sales\n",
       "0         Action       441.12\n",
       "8        Shooter       304.73\n",
       "7   Role-Playing       192.80\n",
       "10        Sports       181.07\n",
       "3           Misc        85.04\n",
       "4       Platform        61.00\n",
       "6         Racing        53.50\n",
       "2       Fighting        44.49\n",
       "9     Simulation        35.12\n",
       "1      Adventure        29.43\n",
       "11      Strategy        13.34\n",
       "5         Puzzle         4.89"
      ]
     },
     "execution_count": 28,
     "metadata": {},
     "output_type": "execute_result"
    }
   ],
   "source": [
    "df_work_grouped=df_work.groupby(by=[\"genre\"])['total_sales'].sum().reset_index()\n",
    "df_work_grouped.sort_values(by='total_sales',ascending=False)\n",
    "#games sale by genre"
   ]
  },
  {
   "cell_type": "code",
   "execution_count": 29,
   "metadata": {},
   "outputs": [
    {
     "data": {
      "text/html": [
       "<div>\n",
       "<style scoped>\n",
       "    .dataframe tbody tr th:only-of-type {\n",
       "        vertical-align: middle;\n",
       "    }\n",
       "\n",
       "    .dataframe tbody tr th {\n",
       "        vertical-align: top;\n",
       "    }\n",
       "\n",
       "    .dataframe thead th {\n",
       "        text-align: right;\n",
       "    }\n",
       "</style>\n",
       "<table border=\"1\" class=\"dataframe\">\n",
       "  <thead>\n",
       "    <tr style=\"text-align: right;\">\n",
       "      <th></th>\n",
       "      <th>genre</th>\n",
       "      <th>total_sales</th>\n",
       "    </tr>\n",
       "  </thead>\n",
       "  <tbody>\n",
       "    <tr>\n",
       "      <th>0</th>\n",
       "      <td>Action</td>\n",
       "      <td>1031</td>\n",
       "    </tr>\n",
       "    <tr>\n",
       "      <th>7</th>\n",
       "      <td>Role-Playing</td>\n",
       "      <td>370</td>\n",
       "    </tr>\n",
       "    <tr>\n",
       "      <th>1</th>\n",
       "      <td>Adventure</td>\n",
       "      <td>302</td>\n",
       "    </tr>\n",
       "    <tr>\n",
       "      <th>10</th>\n",
       "      <td>Sports</td>\n",
       "      <td>268</td>\n",
       "    </tr>\n",
       "    <tr>\n",
       "      <th>8</th>\n",
       "      <td>Shooter</td>\n",
       "      <td>235</td>\n",
       "    </tr>\n",
       "    <tr>\n",
       "      <th>3</th>\n",
       "      <td>Misc</td>\n",
       "      <td>192</td>\n",
       "    </tr>\n",
       "    <tr>\n",
       "      <th>6</th>\n",
       "      <td>Racing</td>\n",
       "      <td>115</td>\n",
       "    </tr>\n",
       "    <tr>\n",
       "      <th>2</th>\n",
       "      <td>Fighting</td>\n",
       "      <td>109</td>\n",
       "    </tr>\n",
       "    <tr>\n",
       "      <th>4</th>\n",
       "      <td>Platform</td>\n",
       "      <td>85</td>\n",
       "    </tr>\n",
       "    <tr>\n",
       "      <th>9</th>\n",
       "      <td>Simulation</td>\n",
       "      <td>80</td>\n",
       "    </tr>\n",
       "    <tr>\n",
       "      <th>11</th>\n",
       "      <td>Strategy</td>\n",
       "      <td>71</td>\n",
       "    </tr>\n",
       "    <tr>\n",
       "      <th>5</th>\n",
       "      <td>Puzzle</td>\n",
       "      <td>28</td>\n",
       "    </tr>\n",
       "  </tbody>\n",
       "</table>\n",
       "</div>"
      ],
      "text/plain": [
       "           genre  total_sales\n",
       "0         Action         1031\n",
       "7   Role-Playing          370\n",
       "1      Adventure          302\n",
       "10        Sports          268\n",
       "8        Shooter          235\n",
       "3           Misc          192\n",
       "6         Racing          115\n",
       "2       Fighting          109\n",
       "4       Platform           85\n",
       "9     Simulation           80\n",
       "11      Strategy           71\n",
       "5         Puzzle           28"
      ]
     },
     "execution_count": 29,
     "metadata": {},
     "output_type": "execute_result"
    }
   ],
   "source": [
    "df_work_grouped=df_work.groupby(by=[\"genre\"])['total_sales'].count().reset_index()\n",
    "df_work_grouped.sort_values(by='total_sales',ascending=False)\n",
    "# looking at the number of games released on different platforms by genre"
   ]
  },
  {
   "cell_type": "code",
   "execution_count": 30,
   "metadata": {},
   "outputs": [
    {
     "data": {
      "text/plain": [
       "genre\n",
       "Action          0.427856\n",
       "Adventure       0.097450\n",
       "Fighting        0.408165\n",
       "Misc            0.442917\n",
       "Platform        0.717647\n",
       "Puzzle          0.174643\n",
       "Racing          0.465217\n",
       "Role-Playing    0.521081\n",
       "Shooter         1.296723\n",
       "Simulation      0.439000\n",
       "Sports          0.675634\n",
       "Strategy        0.187887\n",
       "Name: total_sales, dtype: float64"
      ]
     },
     "execution_count": 30,
     "metadata": {},
     "output_type": "execute_result"
    }
   ],
   "source": [
    "df_work.groupby(by=[\"genre\"])['total_sales'].mean()"
   ]
  },
  {
   "cell_type": "markdown",
   "metadata": {},
   "source": [
    "According to the number of games released on different platforms, the genres of Action, Role-Playing, Adventure are leading. The Shooter genre is in second place in terms of the number of copies sold after the Action genre, but only in fifth place in terms of the number of original games. On average, 1 Shooter genre game sells 1.3 million copies, and the Action genre - 0.43. The most unprofitable is the Adventure genre: on average, 1 game sells 0.1 million copies."
   ]
  },
  {
   "cell_type": "markdown",
   "metadata": {},
   "source": [
    "### Conclusion"
   ]
  },
  {
   "cell_type": "markdown",
   "metadata": {},
   "source": [
    "The genre of the game seems to be the main factor determining its success in the market, critics' ratings are not so important."
   ]
  },
  {
   "cell_type": "markdown",
   "metadata": {},
   "source": [
    "## Defining a user portrait for each region"
   ]
  },
  {
   "cell_type": "markdown",
   "metadata": {},
   "source": [
    "Let's look at popular genres, platforms, as well as the dependence of sales on ESRB ratings in the three largest markets separately: NA, EU and JP."
   ]
  },
  {
   "cell_type": "markdown",
   "metadata": {},
   "source": [
    "### User profile for the NA region"
   ]
  },
  {
   "cell_type": "code",
   "execution_count": 31,
   "metadata": {},
   "outputs": [],
   "source": [
    "df_na=df_work.query('na_sales>0')"
   ]
  },
  {
   "cell_type": "code",
   "execution_count": 32,
   "metadata": {},
   "outputs": [
    {
     "data": {
      "text/html": [
       "<div>\n",
       "<style scoped>\n",
       "    .dataframe tbody tr th:only-of-type {\n",
       "        vertical-align: middle;\n",
       "    }\n",
       "\n",
       "    .dataframe tbody tr th {\n",
       "        vertical-align: top;\n",
       "    }\n",
       "\n",
       "    .dataframe thead th {\n",
       "        text-align: right;\n",
       "    }\n",
       "</style>\n",
       "<table border=\"1\" class=\"dataframe\">\n",
       "  <thead>\n",
       "    <tr style=\"text-align: right;\">\n",
       "      <th></th>\n",
       "      <th>na_sales</th>\n",
       "    </tr>\n",
       "    <tr>\n",
       "      <th>platform</th>\n",
       "      <th></th>\n",
       "    </tr>\n",
       "  </thead>\n",
       "  <tbody>\n",
       "    <tr>\n",
       "      <th>X360</th>\n",
       "      <td>140.05</td>\n",
       "    </tr>\n",
       "    <tr>\n",
       "      <th>PS4</th>\n",
       "      <td>108.74</td>\n",
       "    </tr>\n",
       "    <tr>\n",
       "      <th>PS3</th>\n",
       "      <td>103.38</td>\n",
       "    </tr>\n",
       "    <tr>\n",
       "      <th>XOne</th>\n",
       "      <td>93.12</td>\n",
       "    </tr>\n",
       "    <tr>\n",
       "      <th>3DS</th>\n",
       "      <td>55.31</td>\n",
       "    </tr>\n",
       "  </tbody>\n",
       "</table>\n",
       "</div>"
      ],
      "text/plain": [
       "          na_sales\n",
       "platform          \n",
       "X360        140.05\n",
       "PS4         108.74\n",
       "PS3         103.38\n",
       "XOne         93.12\n",
       "3DS          55.31"
      ]
     },
     "metadata": {},
     "output_type": "display_data"
    }
   ],
   "source": [
    "display(df_na[['na_sales','platform']].groupby(by=[\"platform\"]).sum().sort_values(by=['na_sales'], ascending=False).head(5))\n",
    "#define the top 5 most popular platforms in this market"
   ]
  },
  {
   "cell_type": "code",
   "execution_count": 33,
   "metadata": {},
   "outputs": [
    {
     "data": {
      "text/html": [
       "<div>\n",
       "<style scoped>\n",
       "    .dataframe tbody tr th:only-of-type {\n",
       "        vertical-align: middle;\n",
       "    }\n",
       "\n",
       "    .dataframe tbody tr th {\n",
       "        vertical-align: top;\n",
       "    }\n",
       "\n",
       "    .dataframe thead th {\n",
       "        text-align: right;\n",
       "    }\n",
       "</style>\n",
       "<table border=\"1\" class=\"dataframe\">\n",
       "  <thead>\n",
       "    <tr style=\"text-align: right;\">\n",
       "      <th></th>\n",
       "      <th>na_sales</th>\n",
       "    </tr>\n",
       "    <tr>\n",
       "      <th>platform</th>\n",
       "      <th></th>\n",
       "    </tr>\n",
       "  </thead>\n",
       "  <tbody>\n",
       "    <tr>\n",
       "      <th>X360</th>\n",
       "      <td>23.70%</td>\n",
       "    </tr>\n",
       "    <tr>\n",
       "      <th>PS4</th>\n",
       "      <td>18.40%</td>\n",
       "    </tr>\n",
       "    <tr>\n",
       "      <th>PS3</th>\n",
       "      <td>17.49%</td>\n",
       "    </tr>\n",
       "    <tr>\n",
       "      <th>XOne</th>\n",
       "      <td>15.76%</td>\n",
       "    </tr>\n",
       "    <tr>\n",
       "      <th>3DS</th>\n",
       "      <td>9.36%</td>\n",
       "    </tr>\n",
       "    <tr>\n",
       "      <th>WiiU</th>\n",
       "      <td>6.45%</td>\n",
       "    </tr>\n",
       "    <tr>\n",
       "      <th>PC</th>\n",
       "      <td>3.24%</td>\n",
       "    </tr>\n",
       "    <tr>\n",
       "      <th>Wii</th>\n",
       "      <td>2.95%</td>\n",
       "    </tr>\n",
       "    <tr>\n",
       "      <th>PSV</th>\n",
       "      <td>1.86%</td>\n",
       "    </tr>\n",
       "    <tr>\n",
       "      <th>DS</th>\n",
       "      <td>0.78%</td>\n",
       "    </tr>\n",
       "    <tr>\n",
       "      <th>PSP</th>\n",
       "      <td>0.02%</td>\n",
       "    </tr>\n",
       "  </tbody>\n",
       "</table>\n",
       "</div>"
      ],
      "text/plain": [
       "          na_sales\n",
       "platform          \n",
       "X360        23.70%\n",
       "PS4         18.40%\n",
       "PS3         17.49%\n",
       "XOne        15.76%\n",
       "3DS          9.36%\n",
       "WiiU         6.45%\n",
       "PC           3.24%\n",
       "Wii          2.95%\n",
       "PSV          1.86%\n",
       "DS           0.78%\n",
       "PSP          0.02%"
      ]
     },
     "metadata": {},
     "output_type": "display_data"
    }
   ],
   "source": [
    "df_na_share = df_na[['na_sales','platform']].groupby(by=[\"platform\"]).sum().sort_values(by=['na_sales'], ascending=False)\n",
    "with pd.option_context('display.float_format', '{:.2%}'.format):\n",
    "    display(df_na_share.transform(lambda x: x/x.sum()))\n",
    "#look at the share of each platform in total sales by region"
   ]
  },
  {
   "cell_type": "code",
   "execution_count": 34,
   "metadata": {},
   "outputs": [
    {
     "data": {
      "text/html": [
       "<div>\n",
       "<style scoped>\n",
       "    .dataframe tbody tr th:only-of-type {\n",
       "        vertical-align: middle;\n",
       "    }\n",
       "\n",
       "    .dataframe tbody tr th {\n",
       "        vertical-align: top;\n",
       "    }\n",
       "\n",
       "    .dataframe thead th {\n",
       "        text-align: right;\n",
       "    }\n",
       "</style>\n",
       "<table border=\"1\" class=\"dataframe\">\n",
       "  <thead>\n",
       "    <tr style=\"text-align: right;\">\n",
       "      <th></th>\n",
       "      <th>year_of_release</th>\n",
       "      <th>na_sales</th>\n",
       "      <th>eu_sales</th>\n",
       "      <th>jp_sales</th>\n",
       "      <th>other_sales</th>\n",
       "      <th>critic_score</th>\n",
       "      <th>user_score</th>\n",
       "      <th>total_sales</th>\n",
       "    </tr>\n",
       "    <tr>\n",
       "      <th>genre</th>\n",
       "      <th></th>\n",
       "      <th></th>\n",
       "      <th></th>\n",
       "      <th></th>\n",
       "      <th></th>\n",
       "      <th></th>\n",
       "      <th></th>\n",
       "      <th></th>\n",
       "    </tr>\n",
       "  </thead>\n",
       "  <tbody>\n",
       "    <tr>\n",
       "      <th>Action</th>\n",
       "      <td>1186165</td>\n",
       "      <td>177.84</td>\n",
       "      <td>155.01</td>\n",
       "      <td>23.63</td>\n",
       "      <td>50.64</td>\n",
       "      <td>26618.0</td>\n",
       "      <td>2826.8</td>\n",
       "      <td>407.12</td>\n",
       "    </tr>\n",
       "    <tr>\n",
       "      <th>Shooter</th>\n",
       "      <td>426959</td>\n",
       "      <td>144.77</td>\n",
       "      <td>112.49</td>\n",
       "      <td>8.83</td>\n",
       "      <td>37.22</td>\n",
       "      <td>11937.0</td>\n",
       "      <td>1149.0</td>\n",
       "      <td>303.31</td>\n",
       "    </tr>\n",
       "    <tr>\n",
       "      <th>Sports</th>\n",
       "      <td>366543</td>\n",
       "      <td>81.53</td>\n",
       "      <td>64.77</td>\n",
       "      <td>3.53</td>\n",
       "      <td>21.88</td>\n",
       "      <td>8939.0</td>\n",
       "      <td>877.8</td>\n",
       "      <td>171.71</td>\n",
       "    </tr>\n",
       "    <tr>\n",
       "      <th>Role-Playing</th>\n",
       "      <td>392712</td>\n",
       "      <td>64.00</td>\n",
       "      <td>47.36</td>\n",
       "      <td>40.67</td>\n",
       "      <td>14.69</td>\n",
       "      <td>9835.0</td>\n",
       "      <td>956.6</td>\n",
       "      <td>166.72</td>\n",
       "    </tr>\n",
       "    <tr>\n",
       "      <th>Misc</th>\n",
       "      <td>209451</td>\n",
       "      <td>38.19</td>\n",
       "      <td>25.74</td>\n",
       "      <td>6.18</td>\n",
       "      <td>7.61</td>\n",
       "      <td>3863.0</td>\n",
       "      <td>396.8</td>\n",
       "      <td>77.72</td>\n",
       "    </tr>\n",
       "  </tbody>\n",
       "</table>\n",
       "</div>"
      ],
      "text/plain": [
       "              year_of_release  na_sales  eu_sales  jp_sales  other_sales  \\\n",
       "genre                                                                      \n",
       "Action                1186165    177.84    155.01     23.63        50.64   \n",
       "Shooter                426959    144.77    112.49      8.83        37.22   \n",
       "Sports                 366543     81.53     64.77      3.53        21.88   \n",
       "Role-Playing           392712     64.00     47.36     40.67        14.69   \n",
       "Misc                   209451     38.19     25.74      6.18         7.61   \n",
       "\n",
       "              critic_score  user_score  total_sales  \n",
       "genre                                                \n",
       "Action             26618.0      2826.8       407.12  \n",
       "Shooter            11937.0      1149.0       303.31  \n",
       "Sports              8939.0       877.8       171.71  \n",
       "Role-Playing        9835.0       956.6       166.72  \n",
       "Misc                3863.0       396.8        77.72  "
      ]
     },
     "metadata": {},
     "output_type": "display_data"
    }
   ],
   "source": [
    "display(df_na.groupby(by=[\"genre\"]).sum().sort_values(by=['na_sales'], ascending=False).head(5))\n",
    "#define the top 5 most popular genres in this market"
   ]
  },
  {
   "cell_type": "code",
   "execution_count": 35,
   "metadata": {},
   "outputs": [
    {
     "data": {
      "text/html": [
       "<div>\n",
       "<style scoped>\n",
       "    .dataframe tbody tr th:only-of-type {\n",
       "        vertical-align: middle;\n",
       "    }\n",
       "\n",
       "    .dataframe tbody tr th {\n",
       "        vertical-align: top;\n",
       "    }\n",
       "\n",
       "    .dataframe thead th {\n",
       "        text-align: right;\n",
       "    }\n",
       "</style>\n",
       "<table border=\"1\" class=\"dataframe\">\n",
       "  <thead>\n",
       "    <tr style=\"text-align: right;\">\n",
       "      <th></th>\n",
       "      <th>rating</th>\n",
       "      <th>na_sales</th>\n",
       "    </tr>\n",
       "  </thead>\n",
       "  <tbody>\n",
       "    <tr>\n",
       "      <th>2</th>\n",
       "      <td>M</td>\n",
       "      <td>231.57</td>\n",
       "    </tr>\n",
       "    <tr>\n",
       "      <th>0</th>\n",
       "      <td>E</td>\n",
       "      <td>114.37</td>\n",
       "    </tr>\n",
       "    <tr>\n",
       "      <th>1</th>\n",
       "      <td>E10+</td>\n",
       "      <td>75.70</td>\n",
       "    </tr>\n",
       "    <tr>\n",
       "      <th>3</th>\n",
       "      <td>T</td>\n",
       "      <td>66.02</td>\n",
       "    </tr>\n",
       "  </tbody>\n",
       "</table>\n",
       "</div>"
      ],
      "text/plain": [
       "  rating  na_sales\n",
       "2      M    231.57\n",
       "0      E    114.37\n",
       "1   E10+     75.70\n",
       "3      T     66.02"
      ]
     },
     "execution_count": 35,
     "metadata": {},
     "output_type": "execute_result"
    }
   ],
   "source": [
    "df_na_rating = df_na.groupby(by=[\"rating\"]).sum().reset_index()\n",
    "df_na_rating[['rating','na_sales']].sort_values(by=['na_sales'], ascending=False)\n",
    "#look at the total sales by region, depending on the ESRB rating"
   ]
  },
  {
   "cell_type": "markdown",
   "metadata": {},
   "source": [
    "Adults play games the most in North America: the number of sales of games with an \"M\" rating is 2 times higher than the number of sales of games with an \"E\" rating. The most popular genres are Action, Shooter and Sports, which are among the top 5 most popular genres in the general data set over the past years. The most popular 4 platforms are located close to each other: the value of their share in total sales ranges from 23.7% for X360 to 15.76% for XOne. We can say that Microsoft products are more popular in this market than Sony."
   ]
  },
  {
   "cell_type": "markdown",
   "metadata": {},
   "source": [
    "### User profile for the EU region"
   ]
  },
  {
   "cell_type": "code",
   "execution_count": 36,
   "metadata": {},
   "outputs": [],
   "source": [
    "df_eu=df_work.query('eu_sales>0')"
   ]
  },
  {
   "cell_type": "code",
   "execution_count": 37,
   "metadata": {},
   "outputs": [
    {
     "data": {
      "text/html": [
       "<div>\n",
       "<style scoped>\n",
       "    .dataframe tbody tr th:only-of-type {\n",
       "        vertical-align: middle;\n",
       "    }\n",
       "\n",
       "    .dataframe tbody tr th {\n",
       "        vertical-align: top;\n",
       "    }\n",
       "\n",
       "    .dataframe thead th {\n",
       "        text-align: right;\n",
       "    }\n",
       "</style>\n",
       "<table border=\"1\" class=\"dataframe\">\n",
       "  <thead>\n",
       "    <tr style=\"text-align: right;\">\n",
       "      <th></th>\n",
       "      <th>eu_sales</th>\n",
       "    </tr>\n",
       "    <tr>\n",
       "      <th>platform</th>\n",
       "      <th></th>\n",
       "    </tr>\n",
       "  </thead>\n",
       "  <tbody>\n",
       "    <tr>\n",
       "      <th>PS4</th>\n",
       "      <td>141.09</td>\n",
       "    </tr>\n",
       "    <tr>\n",
       "      <th>PS3</th>\n",
       "      <td>106.86</td>\n",
       "    </tr>\n",
       "    <tr>\n",
       "      <th>X360</th>\n",
       "      <td>74.52</td>\n",
       "    </tr>\n",
       "    <tr>\n",
       "      <th>XOne</th>\n",
       "      <td>51.59</td>\n",
       "    </tr>\n",
       "    <tr>\n",
       "      <th>3DS</th>\n",
       "      <td>42.64</td>\n",
       "    </tr>\n",
       "  </tbody>\n",
       "</table>\n",
       "</div>"
      ],
      "text/plain": [
       "          eu_sales\n",
       "platform          \n",
       "PS4         141.09\n",
       "PS3         106.86\n",
       "X360         74.52\n",
       "XOne         51.59\n",
       "3DS          42.64"
      ]
     },
     "metadata": {},
     "output_type": "display_data"
    }
   ],
   "source": [
    "display(df_eu[['eu_sales','platform']].groupby(by=[\"platform\"]).sum().sort_values(by=['eu_sales'], ascending=False).head(5))\n",
    "#define the top 5 most popular platforms in this market"
   ]
  },
  {
   "cell_type": "code",
   "execution_count": 38,
   "metadata": {},
   "outputs": [
    {
     "data": {
      "text/html": [
       "<div>\n",
       "<style scoped>\n",
       "    .dataframe tbody tr th:only-of-type {\n",
       "        vertical-align: middle;\n",
       "    }\n",
       "\n",
       "    .dataframe tbody tr th {\n",
       "        vertical-align: top;\n",
       "    }\n",
       "\n",
       "    .dataframe thead th {\n",
       "        text-align: right;\n",
       "    }\n",
       "</style>\n",
       "<table border=\"1\" class=\"dataframe\">\n",
       "  <thead>\n",
       "    <tr style=\"text-align: right;\">\n",
       "      <th></th>\n",
       "      <th>eu_sales</th>\n",
       "    </tr>\n",
       "    <tr>\n",
       "      <th>platform</th>\n",
       "      <th></th>\n",
       "    </tr>\n",
       "  </thead>\n",
       "  <tbody>\n",
       "    <tr>\n",
       "      <th>PS4</th>\n",
       "      <td>27.84%</td>\n",
       "    </tr>\n",
       "    <tr>\n",
       "      <th>PS3</th>\n",
       "      <td>21.08%</td>\n",
       "    </tr>\n",
       "    <tr>\n",
       "      <th>X360</th>\n",
       "      <td>14.70%</td>\n",
       "    </tr>\n",
       "    <tr>\n",
       "      <th>XOne</th>\n",
       "      <td>10.18%</td>\n",
       "    </tr>\n",
       "    <tr>\n",
       "      <th>3DS</th>\n",
       "      <td>8.41%</td>\n",
       "    </tr>\n",
       "    <tr>\n",
       "      <th>PC</th>\n",
       "      <td>7.45%</td>\n",
       "    </tr>\n",
       "    <tr>\n",
       "      <th>WiiU</th>\n",
       "      <td>4.96%</td>\n",
       "    </tr>\n",
       "    <tr>\n",
       "      <th>Wii</th>\n",
       "      <td>2.35%</td>\n",
       "    </tr>\n",
       "    <tr>\n",
       "      <th>PSV</th>\n",
       "      <td>2.24%</td>\n",
       "    </tr>\n",
       "    <tr>\n",
       "      <th>DS</th>\n",
       "      <td>0.70%</td>\n",
       "    </tr>\n",
       "    <tr>\n",
       "      <th>PSP</th>\n",
       "      <td>0.08%</td>\n",
       "    </tr>\n",
       "  </tbody>\n",
       "</table>\n",
       "</div>"
      ],
      "text/plain": [
       "          eu_sales\n",
       "platform          \n",
       "PS4         27.84%\n",
       "PS3         21.08%\n",
       "X360        14.70%\n",
       "XOne        10.18%\n",
       "3DS          8.41%\n",
       "PC           7.45%\n",
       "WiiU         4.96%\n",
       "Wii          2.35%\n",
       "PSV          2.24%\n",
       "DS           0.70%\n",
       "PSP          0.08%"
      ]
     },
     "metadata": {},
     "output_type": "display_data"
    }
   ],
   "source": [
    "df_eu_share = df_eu[['eu_sales','platform']].groupby(by=[\"platform\"]).sum().sort_values(by=['eu_sales'], ascending=False)\n",
    "with pd.option_context('display.float_format', '{:.2%}'.format):\n",
    "    display(df_eu_share.transform(lambda x: x/x.sum()))\n",
    "#look at the share of each platform in total sales by region"
   ]
  },
  {
   "cell_type": "code",
   "execution_count": 39,
   "metadata": {},
   "outputs": [
    {
     "data": {
      "text/html": [
       "<div>\n",
       "<style scoped>\n",
       "    .dataframe tbody tr th:only-of-type {\n",
       "        vertical-align: middle;\n",
       "    }\n",
       "\n",
       "    .dataframe tbody tr th {\n",
       "        vertical-align: top;\n",
       "    }\n",
       "\n",
       "    .dataframe thead th {\n",
       "        text-align: right;\n",
       "    }\n",
       "</style>\n",
       "<table border=\"1\" class=\"dataframe\">\n",
       "  <thead>\n",
       "    <tr style=\"text-align: right;\">\n",
       "      <th></th>\n",
       "      <th>eu_sales</th>\n",
       "    </tr>\n",
       "    <tr>\n",
       "      <th>genre</th>\n",
       "      <th></th>\n",
       "    </tr>\n",
       "  </thead>\n",
       "  <tbody>\n",
       "    <tr>\n",
       "      <th>Action</th>\n",
       "      <td>159.34</td>\n",
       "    </tr>\n",
       "    <tr>\n",
       "      <th>Shooter</th>\n",
       "      <td>113.47</td>\n",
       "    </tr>\n",
       "    <tr>\n",
       "      <th>Sports</th>\n",
       "      <td>69.09</td>\n",
       "    </tr>\n",
       "    <tr>\n",
       "      <th>Role-Playing</th>\n",
       "      <td>48.53</td>\n",
       "    </tr>\n",
       "    <tr>\n",
       "      <th>Racing</th>\n",
       "      <td>27.29</td>\n",
       "    </tr>\n",
       "  </tbody>\n",
       "</table>\n",
       "</div>"
      ],
      "text/plain": [
       "              eu_sales\n",
       "genre                 \n",
       "Action          159.34\n",
       "Shooter         113.47\n",
       "Sports           69.09\n",
       "Role-Playing     48.53\n",
       "Racing           27.29"
      ]
     },
     "metadata": {},
     "output_type": "display_data"
    }
   ],
   "source": [
    "display(df_eu[['eu_sales','genre']].groupby(by=[\"genre\"]).sum().sort_values(by=['eu_sales'], ascending=False).head(5))\n",
    "#define the top 5 most popular genres in this market"
   ]
  },
  {
   "cell_type": "code",
   "execution_count": 40,
   "metadata": {},
   "outputs": [
    {
     "data": {
      "text/html": [
       "<div>\n",
       "<style scoped>\n",
       "    .dataframe tbody tr th:only-of-type {\n",
       "        vertical-align: middle;\n",
       "    }\n",
       "\n",
       "    .dataframe tbody tr th {\n",
       "        vertical-align: top;\n",
       "    }\n",
       "\n",
       "    .dataframe thead th {\n",
       "        text-align: right;\n",
       "    }\n",
       "</style>\n",
       "<table border=\"1\" class=\"dataframe\">\n",
       "  <thead>\n",
       "    <tr style=\"text-align: right;\">\n",
       "      <th></th>\n",
       "      <th>rating</th>\n",
       "      <th>eu_sales</th>\n",
       "    </tr>\n",
       "  </thead>\n",
       "  <tbody>\n",
       "    <tr>\n",
       "      <th>2</th>\n",
       "      <td>M</td>\n",
       "      <td>193.96</td>\n",
       "    </tr>\n",
       "    <tr>\n",
       "      <th>0</th>\n",
       "      <td>E</td>\n",
       "      <td>113.03</td>\n",
       "    </tr>\n",
       "    <tr>\n",
       "      <th>1</th>\n",
       "      <td>E10+</td>\n",
       "      <td>55.37</td>\n",
       "    </tr>\n",
       "    <tr>\n",
       "      <th>3</th>\n",
       "      <td>T</td>\n",
       "      <td>52.96</td>\n",
       "    </tr>\n",
       "  </tbody>\n",
       "</table>\n",
       "</div>"
      ],
      "text/plain": [
       "  rating  eu_sales\n",
       "2      M    193.96\n",
       "0      E    113.03\n",
       "1   E10+     55.37\n",
       "3      T     52.96"
      ]
     },
     "execution_count": 40,
     "metadata": {},
     "output_type": "execute_result"
    }
   ],
   "source": [
    "df_eu_rating = df_eu.groupby(by=[\"rating\"]).sum().reset_index()\n",
    "df_eu_rating[['rating','eu_sales']].sort_values(by=['eu_sales'], ascending=False)\n",
    "#look at the total sales by region, depending on the ESRB rating"
   ]
  },
  {
   "cell_type": "markdown",
   "metadata": {},
   "source": [
    "The market leaders in console sales are still Microsoft and Playstation, but Playstation was more popular in Europe. As in North America, the most popular games are adult games. We see the same picture as in the North American market by genre."
   ]
  },
  {
   "cell_type": "markdown",
   "metadata": {},
   "source": [
    "### User profile for the Japan region"
   ]
  },
  {
   "cell_type": "code",
   "execution_count": 41,
   "metadata": {},
   "outputs": [],
   "source": [
    "df_jp=df_work.query('jp_sales>0')"
   ]
  },
  {
   "cell_type": "code",
   "execution_count": 42,
   "metadata": {},
   "outputs": [
    {
     "data": {
      "text/html": [
       "<div>\n",
       "<style scoped>\n",
       "    .dataframe tbody tr th:only-of-type {\n",
       "        vertical-align: middle;\n",
       "    }\n",
       "\n",
       "    .dataframe tbody tr th {\n",
       "        vertical-align: top;\n",
       "    }\n",
       "\n",
       "    .dataframe thead th {\n",
       "        text-align: right;\n",
       "    }\n",
       "</style>\n",
       "<table border=\"1\" class=\"dataframe\">\n",
       "  <thead>\n",
       "    <tr style=\"text-align: right;\">\n",
       "      <th></th>\n",
       "      <th>jp_sales</th>\n",
       "    </tr>\n",
       "    <tr>\n",
       "      <th>platform</th>\n",
       "      <th></th>\n",
       "    </tr>\n",
       "  </thead>\n",
       "  <tbody>\n",
       "    <tr>\n",
       "      <th>3DS</th>\n",
       "      <td>87.79</td>\n",
       "    </tr>\n",
       "    <tr>\n",
       "      <th>PS3</th>\n",
       "      <td>35.29</td>\n",
       "    </tr>\n",
       "    <tr>\n",
       "      <th>PSV</th>\n",
       "      <td>21.04</td>\n",
       "    </tr>\n",
       "    <tr>\n",
       "      <th>PS4</th>\n",
       "      <td>15.96</td>\n",
       "    </tr>\n",
       "    <tr>\n",
       "      <th>WiiU</th>\n",
       "      <td>13.01</td>\n",
       "    </tr>\n",
       "  </tbody>\n",
       "</table>\n",
       "</div>"
      ],
      "text/plain": [
       "          jp_sales\n",
       "platform          \n",
       "3DS          87.79\n",
       "PS3          35.29\n",
       "PSV          21.04\n",
       "PS4          15.96\n",
       "WiiU         13.01"
      ]
     },
     "metadata": {},
     "output_type": "display_data"
    }
   ],
   "source": [
    "display(df_jp[['jp_sales','platform']].groupby(by=[\"platform\"]).sum().sort_values(by=['jp_sales'], ascending=False).head(5))\n",
    "#define the top 5 most popular platforms in this market"
   ]
  },
  {
   "cell_type": "code",
   "execution_count": 43,
   "metadata": {},
   "outputs": [
    {
     "data": {
      "text/html": [
       "<div>\n",
       "<style scoped>\n",
       "    .dataframe tbody tr th:only-of-type {\n",
       "        vertical-align: middle;\n",
       "    }\n",
       "\n",
       "    .dataframe tbody tr th {\n",
       "        vertical-align: top;\n",
       "    }\n",
       "\n",
       "    .dataframe thead th {\n",
       "        text-align: right;\n",
       "    }\n",
       "</style>\n",
       "<table border=\"1\" class=\"dataframe\">\n",
       "  <thead>\n",
       "    <tr style=\"text-align: right;\">\n",
       "      <th></th>\n",
       "      <th>jp_sales</th>\n",
       "    </tr>\n",
       "    <tr>\n",
       "      <th>platform</th>\n",
       "      <th></th>\n",
       "    </tr>\n",
       "  </thead>\n",
       "  <tbody>\n",
       "    <tr>\n",
       "      <th>3DS</th>\n",
       "      <td>45.59%</td>\n",
       "    </tr>\n",
       "    <tr>\n",
       "      <th>PS3</th>\n",
       "      <td>18.32%</td>\n",
       "    </tr>\n",
       "    <tr>\n",
       "      <th>PSV</th>\n",
       "      <td>10.93%</td>\n",
       "    </tr>\n",
       "    <tr>\n",
       "      <th>PS4</th>\n",
       "      <td>8.29%</td>\n",
       "    </tr>\n",
       "    <tr>\n",
       "      <th>WiiU</th>\n",
       "      <td>6.76%</td>\n",
       "    </tr>\n",
       "    <tr>\n",
       "      <th>PSP</th>\n",
       "      <td>5.44%</td>\n",
       "    </tr>\n",
       "    <tr>\n",
       "      <th>DS</th>\n",
       "      <td>1.93%</td>\n",
       "    </tr>\n",
       "    <tr>\n",
       "      <th>Wii</th>\n",
       "      <td>1.76%</td>\n",
       "    </tr>\n",
       "    <tr>\n",
       "      <th>X360</th>\n",
       "      <td>0.82%</td>\n",
       "    </tr>\n",
       "    <tr>\n",
       "      <th>XOne</th>\n",
       "      <td>0.18%</td>\n",
       "    </tr>\n",
       "  </tbody>\n",
       "</table>\n",
       "</div>"
      ],
      "text/plain": [
       "          jp_sales\n",
       "platform          \n",
       "3DS         45.59%\n",
       "PS3         18.32%\n",
       "PSV         10.93%\n",
       "PS4          8.29%\n",
       "WiiU         6.76%\n",
       "PSP          5.44%\n",
       "DS           1.93%\n",
       "Wii          1.76%\n",
       "X360         0.82%\n",
       "XOne         0.18%"
      ]
     },
     "metadata": {},
     "output_type": "display_data"
    }
   ],
   "source": [
    "df_jp_share = df_jp[['jp_sales','platform']].groupby(by=[\"platform\"]).sum().sort_values(by=['jp_sales'], ascending=False)\n",
    "with pd.option_context('display.float_format', '{:.2%}'.format):\n",
    "    display(df_jp_share.transform(lambda x: x/x.sum()))\n",
    "#look at the share of each platform in total sales by region"
   ]
  },
  {
   "cell_type": "code",
   "execution_count": 44,
   "metadata": {},
   "outputs": [
    {
     "data": {
      "text/html": [
       "<div>\n",
       "<style scoped>\n",
       "    .dataframe tbody tr th:only-of-type {\n",
       "        vertical-align: middle;\n",
       "    }\n",
       "\n",
       "    .dataframe tbody tr th {\n",
       "        vertical-align: top;\n",
       "    }\n",
       "\n",
       "    .dataframe thead th {\n",
       "        text-align: right;\n",
       "    }\n",
       "</style>\n",
       "<table border=\"1\" class=\"dataframe\">\n",
       "  <thead>\n",
       "    <tr style=\"text-align: right;\">\n",
       "      <th></th>\n",
       "      <th>jp_sales</th>\n",
       "    </tr>\n",
       "    <tr>\n",
       "      <th>genre</th>\n",
       "      <th></th>\n",
       "    </tr>\n",
       "  </thead>\n",
       "  <tbody>\n",
       "    <tr>\n",
       "      <th>Role-Playing</th>\n",
       "      <td>65.44</td>\n",
       "    </tr>\n",
       "    <tr>\n",
       "      <th>Action</th>\n",
       "      <td>52.80</td>\n",
       "    </tr>\n",
       "    <tr>\n",
       "      <th>Misc</th>\n",
       "      <td>12.86</td>\n",
       "    </tr>\n",
       "    <tr>\n",
       "      <th>Simulation</th>\n",
       "      <td>10.41</td>\n",
       "    </tr>\n",
       "    <tr>\n",
       "      <th>Fighting</th>\n",
       "      <td>9.44</td>\n",
       "    </tr>\n",
       "  </tbody>\n",
       "</table>\n",
       "</div>"
      ],
      "text/plain": [
       "              jp_sales\n",
       "genre                 \n",
       "Role-Playing     65.44\n",
       "Action           52.80\n",
       "Misc             12.86\n",
       "Simulation       10.41\n",
       "Fighting          9.44"
      ]
     },
     "metadata": {},
     "output_type": "display_data"
    }
   ],
   "source": [
    "display(df_jp[['jp_sales','genre']].groupby(by=[\"genre\"]).sum().sort_values(by=['jp_sales'], ascending=False).head(5))\n",
    "#define the top 5 most popular genres in this market"
   ]
  },
  {
   "cell_type": "code",
   "execution_count": 45,
   "metadata": {},
   "outputs": [
    {
     "data": {
      "text/html": [
       "<div>\n",
       "<style scoped>\n",
       "    .dataframe tbody tr th:only-of-type {\n",
       "        vertical-align: middle;\n",
       "    }\n",
       "\n",
       "    .dataframe tbody tr th {\n",
       "        vertical-align: top;\n",
       "    }\n",
       "\n",
       "    .dataframe thead th {\n",
       "        text-align: right;\n",
       "    }\n",
       "</style>\n",
       "<table border=\"1\" class=\"dataframe\">\n",
       "  <thead>\n",
       "    <tr style=\"text-align: right;\">\n",
       "      <th></th>\n",
       "      <th>rating</th>\n",
       "      <th>jp_sales</th>\n",
       "    </tr>\n",
       "  </thead>\n",
       "  <tbody>\n",
       "    <tr>\n",
       "      <th>0</th>\n",
       "      <td>E</td>\n",
       "      <td>28.33</td>\n",
       "    </tr>\n",
       "    <tr>\n",
       "      <th>3</th>\n",
       "      <td>T</td>\n",
       "      <td>26.02</td>\n",
       "    </tr>\n",
       "    <tr>\n",
       "      <th>2</th>\n",
       "      <td>M</td>\n",
       "      <td>21.20</td>\n",
       "    </tr>\n",
       "    <tr>\n",
       "      <th>1</th>\n",
       "      <td>E10+</td>\n",
       "      <td>8.19</td>\n",
       "    </tr>\n",
       "  </tbody>\n",
       "</table>\n",
       "</div>"
      ],
      "text/plain": [
       "  rating  jp_sales\n",
       "0      E     28.33\n",
       "3      T     26.02\n",
       "2      M     21.20\n",
       "1   E10+      8.19"
      ]
     },
     "execution_count": 45,
     "metadata": {},
     "output_type": "execute_result"
    }
   ],
   "source": [
    "df_jp_rating = df_jp.groupby(by=[\"rating\"]).sum().reset_index()\n",
    "df_jp_rating[['rating','jp_sales']].sort_values(by=['jp_sales'], ascending=False)\n",
    "#look at the total sales by region, depending on the ESRB rating"
   ]
  },
  {
   "cell_type": "markdown",
   "metadata": {},
   "source": [
    "The absolute leader in the console market in Japan is the 3DS, which gives 3D images, produced by the Japanese company Nintendo. Among popular genres, Action has shifted to second place, giving way to the Role-Playing genre. Interestingly, this genre was not included in the top 5 popular in the market of Europe and NA. According to the ESRB rating, the Japanese market is also different from the previous two:"
   ]
  },
  {
   "cell_type": "markdown",
   "metadata": {},
   "source": [
    "### Conclusion"
   ]
  },
  {
   "cell_type": "markdown",
   "metadata": {},
   "source": [
    "The preferences of buyers in the EU and NA markets are similar, while the Japanese market presents a completely different picture. This should be taken into account when planning marketing campaigns."
   ]
  },
  {
   "cell_type": "markdown",
   "metadata": {},
   "source": [
    "## Testing statistical hypotheses"
   ]
  },
  {
   "cell_type": "markdown",
   "metadata": {},
   "source": [
    "### The average user ratings of the Xbox One and PC platforms are the same"
   ]
  },
  {
   "cell_type": "markdown",
   "metadata": {},
   "source": [
    "General populations are ratings for all games on the Xbox platform and ratings for all games on the PC platform. To determine the equal_var parameter for the st.ttest_ind method, we calculate the variances of both samples.\n",
    "\n",
    "Null hypothesis is the average user rating on the Xbox platform is equal to the average user rating on the PC platform. Alternative is average ratings are not equal. The statistical significance level is defined as 5% as the most common option for most tests."
   ]
  },
  {
   "cell_type": "code",
   "execution_count": 46,
   "metadata": {},
   "outputs": [
    {
     "name": "stdout",
     "output_type": "stream",
     "text": [
      "Variance of user ratings, Xbox platform 1.9069968429360695\n",
      "Variance of user ratings, PC platform 2.770443997158418\n"
     ]
    }
   ],
   "source": [
    "sample_1 = df_work.query('(platform==\"XOne\") & (user_score > -1)')['user_score'] \n",
    "sample_2 = df_work.query('(platform==\"PC\") & (user_score > -1)')['user_score'] \n",
    "\n",
    "variance_xbox = np.var(sample_1, ddof=1)\n",
    "print('Variance of user ratings, Xbox platform', variance_xbox)\n",
    "\n",
    "variance_pc = np.var(sample_2, ddof=1)\n",
    "print('Variance of user ratings, PC platform', variance_pc)\n",
    "\n",
    "#calculate the variances to determine the equal_var parameter in the statistical test\n",
    "#since we do not have the general population at our disposal, but a part of it, we will specify ddof=1 in the parameters"
   ]
  },
  {
   "cell_type": "code",
   "execution_count": 47,
   "metadata": {},
   "outputs": [
    {
     "name": "stdout",
     "output_type": "stream",
     "text": [
      "p-value: 0.5489537965134912\n",
      "Cannot reject the null hypothesis\n"
     ]
    }
   ],
   "source": [
    "results = st.ttest_ind(sample_1, sample_2, equal_var = False)\n",
    "alpha = 0.05  # critical level of statistical significance\n",
    "print('p-value:', results.pvalue)\n",
    "\n",
    "if results.pvalue < alpha:\n",
    "    print('Reject the null hypothesis')\n",
    "else:\n",
    "    print('Cannot reject the null hypothesis')"
   ]
  },
  {
   "cell_type": "markdown",
   "metadata": {},
   "source": [
    "Based on the available data, it is possible to reject the assumption that the average user ratings for the Xbox One and PC platforms are different, because with a 55% probability such differences can be obtained randomly. This is clearly too high a probability to conclude that there is a significant difference between the averages."
   ]
  },
  {
   "cell_type": "markdown",
   "metadata": {},
   "source": [
    "### Average user ratings of the genres Action (English \"action\", action games) and Sports (English \"sports competitions\") are different"
   ]
  },
  {
   "cell_type": "markdown",
   "metadata": {},
   "source": [
    "General populations are ratings for all games of the \"Action\" genre and ratings for all games of the \"Sports\" genre. To determine the equal_var parameter for the st.ttest_ind method, we calculate the variances of both samples.\n",
    "\n",
    "Null hypothesis - the average user rating for games of the \"Action\" genre is equal to the average user rating for games of the \"Sports\" genre. Alternative - average ratings are not equal. The statistical significance level is defined as 5% as the most common option for most tests."
   ]
  },
  {
   "cell_type": "code",
   "execution_count": 48,
   "metadata": {},
   "outputs": [
    {
     "name": "stdout",
     "output_type": "stream",
     "text": [
      "Variance of user ratings, Action genre 1.9069968429360695\n",
      "Variance of user ratings, Sports genre 2.770443997158418\n"
     ]
    }
   ],
   "source": [
    "sample_1 = df_work.query('genre==\"Action\" & user_score>-1')['user_score']\n",
    "sample_2 = df_work.query('genre==\"Sports\" & user_score>-1')['user_score']\n",
    "\n",
    "variance_action = np.var(sample_1, ddof=1)\n",
    "print('Variance of user ratings, Action genre', variance_xbox)\n",
    "\n",
    "variance_sports = np.var(sample_2, ddof=1)\n",
    "print('Variance of user ratings, Sports genre', variance_pc)\n",
    "\n",
    "#calculate the variances to determine the equal_var parameter in the statistical test\n",
    "#since we do not have the general population at our disposal, but a part of it, we will specify ddof=1 in the parameters"
   ]
  },
  {
   "cell_type": "code",
   "execution_count": 49,
   "metadata": {},
   "outputs": [
    {
     "name": "stdout",
     "output_type": "stream",
     "text": [
      "p-value: 4.24307776572644e-20\n",
      "Reject the null hypothesi\n"
     ]
    }
   ],
   "source": [
    "results = st.ttest_ind(sample_1, sample_2, equal_var = False)\n",
    "alpha = 0.05  # critical level of statistical significance\n",
    "print('p-value:', results.pvalue)\n",
    "\n",
    "if results.pvalue < alpha:\n",
    "    print('Reject the null hypothesi')\n",
    "else:\n",
    "    print('Cannot reject the null hypothesis')"
   ]
  },
  {
   "cell_type": "markdown",
   "metadata": {},
   "source": [
    "Based on the available data, we do not reject the assumption that the average user ratings for the two genres differ."
   ]
  },
  {
   "cell_type": "markdown",
   "metadata": {},
   "source": [
    "### Conclusion"
   ]
  },
  {
   "cell_type": "markdown",
   "metadata": {},
   "source": [
    "Probably, the genre of the game affects the user rating more than what kind of console it is played on."
   ]
  },
  {
   "cell_type": "markdown",
   "metadata": {},
   "source": [
    "## Conclusion"
   ]
  },
  {
   "cell_type": "markdown",
   "metadata": {},
   "source": [
    "The main factors determining the success of the game on the market are its genre, type of platform, and age rating.\n",
    "\n",
    "When planning companies in the Japanese market, it is worth betting on advertising Role-Playing games developed for the 3DS platform: these costs should bring the greatest return. For the North American market, the biggest sales potential is games developed for the X360 console in the Action genre, while for the European market it is worth betting on advertising products developed for the PS4, PS3 consoles.\n",
    "\n",
    "For the North American and European markets, games rated \"For adults\" will bring the greatest return, while for Japan it is worth betting on games for teenagers. In all markets, a significant share of sales are games with an \"E\" rating as with the greatest coverage."
   ]
  }
 ],
 "metadata": {
  "ExecuteTimeLog": [
   {
    "duration": 1198,
    "start_time": "2021-12-08T16:39:26.945Z"
   },
   {
    "duration": 17,
    "start_time": "2021-12-08T16:39:33.162Z"
   },
   {
    "duration": 10,
    "start_time": "2021-12-08T16:39:44.648Z"
   },
   {
    "duration": 15,
    "start_time": "2021-12-08T16:40:22.912Z"
   },
   {
    "duration": 9,
    "start_time": "2021-12-08T16:41:36.440Z"
   },
   {
    "duration": 1276,
    "start_time": "2021-12-08T16:48:46.954Z"
   },
   {
    "duration": 17,
    "start_time": "2021-12-08T16:48:48.232Z"
   },
   {
    "duration": 13,
    "start_time": "2021-12-08T16:48:48.252Z"
   },
   {
    "duration": 18,
    "start_time": "2021-12-08T16:48:48.266Z"
   },
   {
    "duration": 13,
    "start_time": "2021-12-08T16:48:48.288Z"
   },
   {
    "duration": 454,
    "start_time": "2021-12-08T16:48:48.303Z"
   },
   {
    "duration": 4,
    "start_time": "2021-12-08T16:49:44.874Z"
   },
   {
    "duration": 1335,
    "start_time": "2021-12-08T17:09:25.029Z"
   },
   {
    "duration": 16,
    "start_time": "2021-12-08T17:09:26.366Z"
   },
   {
    "duration": 15,
    "start_time": "2021-12-08T17:09:26.384Z"
   },
   {
    "duration": 24,
    "start_time": "2021-12-08T17:09:26.401Z"
   },
   {
    "duration": 21,
    "start_time": "2021-12-08T17:09:26.427Z"
   },
   {
    "duration": 3,
    "start_time": "2021-12-08T17:09:26.450Z"
   },
   {
    "duration": 327,
    "start_time": "2021-12-08T17:09:26.454Z"
   },
   {
    "duration": -4387,
    "start_time": "2021-12-08T17:09:31.170Z"
   },
   {
    "duration": 281,
    "start_time": "2021-12-08T17:11:10.582Z"
   },
   {
    "duration": 6,
    "start_time": "2021-12-08T17:12:12.305Z"
   },
   {
    "duration": 364,
    "start_time": "2021-12-08T17:12:20.272Z"
   },
   {
    "duration": 19,
    "start_time": "2021-12-08T17:12:34.518Z"
   },
   {
    "duration": 21,
    "start_time": "2021-12-08T17:13:45.440Z"
   },
   {
    "duration": 258,
    "start_time": "2021-12-08T17:14:06.073Z"
   },
   {
    "duration": 7,
    "start_time": "2021-12-08T17:15:14.557Z"
   },
   {
    "duration": 1128,
    "start_time": "2021-12-08T17:15:26.708Z"
   },
   {
    "duration": 17,
    "start_time": "2021-12-08T17:15:27.838Z"
   },
   {
    "duration": 16,
    "start_time": "2021-12-08T17:15:27.857Z"
   },
   {
    "duration": 35,
    "start_time": "2021-12-08T17:15:27.875Z"
   },
   {
    "duration": 16,
    "start_time": "2021-12-08T17:15:27.911Z"
   },
   {
    "duration": 22,
    "start_time": "2021-12-08T17:15:27.928Z"
   },
   {
    "duration": 34,
    "start_time": "2021-12-08T17:15:27.952Z"
   },
   {
    "duration": 41,
    "start_time": "2021-12-08T17:15:27.987Z"
   },
   {
    "duration": 1200,
    "start_time": "2021-12-08T17:17:24.634Z"
   },
   {
    "duration": 16,
    "start_time": "2021-12-08T17:17:25.837Z"
   },
   {
    "duration": 28,
    "start_time": "2021-12-08T17:17:25.857Z"
   },
   {
    "duration": 24,
    "start_time": "2021-12-08T17:17:25.887Z"
   },
   {
    "duration": 27,
    "start_time": "2021-12-08T17:17:25.912Z"
   },
   {
    "duration": 27,
    "start_time": "2021-12-08T17:17:25.941Z"
   },
   {
    "duration": 23,
    "start_time": "2021-12-08T17:17:25.970Z"
   },
   {
    "duration": 1455,
    "start_time": "2021-12-08T17:17:25.995Z"
   },
   {
    "duration": -4439,
    "start_time": "2021-12-08T17:17:31.891Z"
   },
   {
    "duration": 1263,
    "start_time": "2021-12-08T17:18:10.262Z"
   },
   {
    "duration": 17,
    "start_time": "2021-12-08T17:18:11.527Z"
   },
   {
    "duration": 16,
    "start_time": "2021-12-08T17:18:11.546Z"
   },
   {
    "duration": 18,
    "start_time": "2021-12-08T17:18:11.564Z"
   },
   {
    "duration": 10,
    "start_time": "2021-12-08T17:18:11.583Z"
   },
   {
    "duration": 19,
    "start_time": "2021-12-08T17:18:11.595Z"
   },
   {
    "duration": 12,
    "start_time": "2021-12-08T17:18:11.616Z"
   },
   {
    "duration": 1859,
    "start_time": "2021-12-08T17:18:11.629Z"
   },
   {
    "duration": -4474,
    "start_time": "2021-12-08T17:18:17.964Z"
   },
   {
    "duration": 955,
    "start_time": "2021-12-08T17:18:37.542Z"
   },
   {
    "duration": 21,
    "start_time": "2021-12-08T17:19:46.121Z"
   },
   {
    "duration": 370,
    "start_time": "2021-12-12T08:14:16.020Z"
   },
   {
    "duration": 1554,
    "start_time": "2021-12-12T08:14:34.106Z"
   },
   {
    "duration": 26,
    "start_time": "2021-12-12T08:14:35.663Z"
   },
   {
    "duration": 14,
    "start_time": "2021-12-12T08:14:35.692Z"
   },
   {
    "duration": 24,
    "start_time": "2021-12-12T08:14:35.710Z"
   },
   {
    "duration": 42,
    "start_time": "2021-12-12T08:14:35.737Z"
   },
   {
    "duration": 8,
    "start_time": "2021-12-12T08:14:35.781Z"
   },
   {
    "duration": 6,
    "start_time": "2021-12-12T08:14:35.791Z"
   },
   {
    "duration": 10,
    "start_time": "2021-12-12T08:14:35.800Z"
   },
   {
    "duration": 79,
    "start_time": "2021-12-12T08:14:35.813Z"
   },
   {
    "duration": 458,
    "start_time": "2021-12-12T08:16:03.664Z"
   },
   {
    "duration": 1542,
    "start_time": "2021-12-12T08:16:13.614Z"
   },
   {
    "duration": 28,
    "start_time": "2021-12-12T08:16:15.159Z"
   },
   {
    "duration": 14,
    "start_time": "2021-12-12T08:16:15.191Z"
   },
   {
    "duration": 27,
    "start_time": "2021-12-12T08:16:15.208Z"
   },
   {
    "duration": 18,
    "start_time": "2021-12-12T08:16:15.269Z"
   },
   {
    "duration": 440,
    "start_time": "2021-12-12T08:16:15.289Z"
   },
   {
    "duration": -2288,
    "start_time": "2021-12-12T08:16:18.020Z"
   },
   {
    "duration": -2290,
    "start_time": "2021-12-12T08:16:18.023Z"
   },
   {
    "duration": -2289,
    "start_time": "2021-12-12T08:16:18.024Z"
   },
   {
    "duration": 37,
    "start_time": "2021-12-12T08:16:21.866Z"
   },
   {
    "duration": 8,
    "start_time": "2021-12-12T08:16:46.012Z"
   },
   {
    "duration": 318,
    "start_time": "2021-12-12T08:17:01.168Z"
   },
   {
    "duration": 1617,
    "start_time": "2021-12-12T08:17:08.104Z"
   },
   {
    "duration": 25,
    "start_time": "2021-12-12T08:17:09.723Z"
   },
   {
    "duration": 18,
    "start_time": "2021-12-12T08:17:09.751Z"
   },
   {
    "duration": 24,
    "start_time": "2021-12-12T08:17:09.772Z"
   },
   {
    "duration": 12,
    "start_time": "2021-12-12T08:17:09.798Z"
   },
   {
    "duration": 10,
    "start_time": "2021-12-12T08:17:09.812Z"
   },
   {
    "duration": 43,
    "start_time": "2021-12-12T08:17:09.824Z"
   },
   {
    "duration": 12,
    "start_time": "2021-12-12T08:17:09.871Z"
   },
   {
    "duration": 31,
    "start_time": "2021-12-12T08:17:09.886Z"
   },
   {
    "duration": 7839,
    "start_time": "2021-12-12T08:19:51.136Z"
   },
   {
    "duration": 1547,
    "start_time": "2021-12-12T08:21:00.353Z"
   },
   {
    "duration": 28,
    "start_time": "2021-12-12T08:21:01.903Z"
   },
   {
    "duration": 41,
    "start_time": "2021-12-12T08:21:01.935Z"
   },
   {
    "duration": 33,
    "start_time": "2021-12-12T08:21:01.980Z"
   },
   {
    "duration": 17,
    "start_time": "2021-12-12T08:21:02.016Z"
   },
   {
    "duration": 34,
    "start_time": "2021-12-12T08:21:02.035Z"
   },
   {
    "duration": 25,
    "start_time": "2021-12-12T08:21:02.072Z"
   },
   {
    "duration": 12,
    "start_time": "2021-12-12T08:21:02.103Z"
   },
   {
    "duration": 16,
    "start_time": "2021-12-12T08:21:02.118Z"
   },
   {
    "duration": 6,
    "start_time": "2021-12-12T08:21:02.137Z"
   },
   {
    "duration": 11,
    "start_time": "2021-12-12T08:21:02.169Z"
   },
   {
    "duration": 37,
    "start_time": "2021-12-12T08:21:02.183Z"
   },
   {
    "duration": 7897,
    "start_time": "2021-12-12T08:32:13.936Z"
   },
   {
    "duration": 1568,
    "start_time": "2021-12-12T08:32:36.526Z"
   },
   {
    "duration": 26,
    "start_time": "2021-12-12T08:32:38.096Z"
   },
   {
    "duration": 27,
    "start_time": "2021-12-12T08:32:38.125Z"
   },
   {
    "duration": 36,
    "start_time": "2021-12-12T08:32:38.155Z"
   },
   {
    "duration": 17,
    "start_time": "2021-12-12T08:32:38.194Z"
   },
   {
    "duration": 38,
    "start_time": "2021-12-12T08:32:38.214Z"
   },
   {
    "duration": 18,
    "start_time": "2021-12-12T08:32:38.255Z"
   },
   {
    "duration": 36,
    "start_time": "2021-12-12T08:32:38.275Z"
   },
   {
    "duration": 30,
    "start_time": "2021-12-12T08:32:38.314Z"
   },
   {
    "duration": 19,
    "start_time": "2021-12-12T08:32:38.346Z"
   },
   {
    "duration": 17,
    "start_time": "2021-12-12T08:32:38.368Z"
   },
   {
    "duration": 27,
    "start_time": "2021-12-12T08:32:38.387Z"
   },
   {
    "duration": 40,
    "start_time": "2021-12-12T08:32:38.416Z"
   },
   {
    "duration": 8681,
    "start_time": "2021-12-12T08:34:58.298Z"
   },
   {
    "duration": 1580,
    "start_time": "2021-12-12T08:35:41.607Z"
   },
   {
    "duration": 27,
    "start_time": "2021-12-12T08:35:43.190Z"
   },
   {
    "duration": 16,
    "start_time": "2021-12-12T08:35:43.220Z"
   },
   {
    "duration": 50,
    "start_time": "2021-12-12T08:35:43.239Z"
   },
   {
    "duration": 530,
    "start_time": "2021-12-12T08:35:43.292Z"
   },
   {
    "duration": -2267,
    "start_time": "2021-12-12T08:35:46.091Z"
   },
   {
    "duration": -2309,
    "start_time": "2021-12-12T08:35:46.135Z"
   },
   {
    "duration": -2310,
    "start_time": "2021-12-12T08:35:46.137Z"
   },
   {
    "duration": -2310,
    "start_time": "2021-12-12T08:35:46.139Z"
   },
   {
    "duration": -2310,
    "start_time": "2021-12-12T08:35:46.141Z"
   },
   {
    "duration": -2313,
    "start_time": "2021-12-12T08:35:46.145Z"
   },
   {
    "duration": -2315,
    "start_time": "2021-12-12T08:35:46.148Z"
   },
   {
    "duration": -2317,
    "start_time": "2021-12-12T08:35:46.151Z"
   },
   {
    "duration": 1501,
    "start_time": "2021-12-12T08:36:14.787Z"
   },
   {
    "duration": 24,
    "start_time": "2021-12-12T08:36:16.290Z"
   },
   {
    "duration": 20,
    "start_time": "2021-12-12T08:36:16.317Z"
   },
   {
    "duration": 36,
    "start_time": "2021-12-12T08:36:16.340Z"
   },
   {
    "duration": 11,
    "start_time": "2021-12-12T08:36:16.378Z"
   },
   {
    "duration": 20,
    "start_time": "2021-12-12T08:36:16.391Z"
   },
   {
    "duration": 23,
    "start_time": "2021-12-12T08:36:16.414Z"
   },
   {
    "duration": 23,
    "start_time": "2021-12-12T08:36:16.439Z"
   },
   {
    "duration": 30,
    "start_time": "2021-12-12T08:36:16.465Z"
   },
   {
    "duration": 26,
    "start_time": "2021-12-12T08:36:16.498Z"
   },
   {
    "duration": 8,
    "start_time": "2021-12-12T08:36:16.526Z"
   },
   {
    "duration": 20,
    "start_time": "2021-12-12T08:36:16.536Z"
   },
   {
    "duration": 34,
    "start_time": "2021-12-12T08:36:16.558Z"
   },
   {
    "duration": 900,
    "start_time": "2021-12-12T08:38:09.639Z"
   },
   {
    "duration": 657,
    "start_time": "2021-12-12T08:38:19.495Z"
   },
   {
    "duration": 436,
    "start_time": "2021-12-12T08:38:25.834Z"
   },
   {
    "duration": 343,
    "start_time": "2021-12-12T08:38:31.677Z"
   },
   {
    "duration": 463,
    "start_time": "2021-12-12T08:38:37.346Z"
   },
   {
    "duration": 428,
    "start_time": "2021-12-12T08:38:44.691Z"
   },
   {
    "duration": 397,
    "start_time": "2021-12-12T08:38:58.185Z"
   },
   {
    "duration": 590,
    "start_time": "2021-12-12T08:39:10.265Z"
   },
   {
    "duration": 445,
    "start_time": "2021-12-12T08:39:19.739Z"
   },
   {
    "duration": 553,
    "start_time": "2021-12-12T08:42:28.479Z"
   },
   {
    "duration": 1510,
    "start_time": "2021-12-12T08:50:26.793Z"
   },
   {
    "duration": 25,
    "start_time": "2021-12-12T08:50:28.305Z"
   },
   {
    "duration": 28,
    "start_time": "2021-12-12T08:50:28.334Z"
   },
   {
    "duration": 36,
    "start_time": "2021-12-12T08:50:28.365Z"
   },
   {
    "duration": 14,
    "start_time": "2021-12-12T08:50:28.404Z"
   },
   {
    "duration": 39,
    "start_time": "2021-12-12T08:50:28.421Z"
   },
   {
    "duration": 13,
    "start_time": "2021-12-12T08:50:28.462Z"
   },
   {
    "duration": 16,
    "start_time": "2021-12-12T08:50:28.479Z"
   },
   {
    "duration": 25,
    "start_time": "2021-12-12T08:50:28.497Z"
   },
   {
    "duration": 19,
    "start_time": "2021-12-12T08:50:28.525Z"
   },
   {
    "duration": 22,
    "start_time": "2021-12-12T08:50:28.546Z"
   },
   {
    "duration": 37,
    "start_time": "2021-12-12T08:50:28.570Z"
   },
   {
    "duration": 11,
    "start_time": "2021-12-12T08:50:28.609Z"
   },
   {
    "duration": 50,
    "start_time": "2021-12-12T08:50:28.623Z"
   },
   {
    "duration": 475,
    "start_time": "2021-12-12T08:50:28.675Z"
   },
   {
    "duration": 18,
    "start_time": "2021-12-12T08:50:29.153Z"
   },
   {
    "duration": 29,
    "start_time": "2021-12-12T08:52:24.194Z"
   },
   {
    "duration": 26,
    "start_time": "2021-12-12T08:54:33.118Z"
   },
   {
    "duration": 9264,
    "start_time": "2021-12-12T08:55:41.896Z"
   },
   {
    "duration": 24,
    "start_time": "2021-12-12T08:56:00.960Z"
   },
   {
    "duration": 1578,
    "start_time": "2021-12-12T08:59:23.962Z"
   },
   {
    "duration": 27,
    "start_time": "2021-12-12T08:59:25.543Z"
   },
   {
    "duration": 17,
    "start_time": "2021-12-12T08:59:25.573Z"
   },
   {
    "duration": 27,
    "start_time": "2021-12-12T08:59:25.595Z"
   },
   {
    "duration": 45,
    "start_time": "2021-12-12T08:59:25.625Z"
   },
   {
    "duration": 26,
    "start_time": "2021-12-12T08:59:25.672Z"
   },
   {
    "duration": 10,
    "start_time": "2021-12-12T08:59:25.701Z"
   },
   {
    "duration": 9,
    "start_time": "2021-12-12T08:59:25.715Z"
   },
   {
    "duration": 40,
    "start_time": "2021-12-12T08:59:25.727Z"
   },
   {
    "duration": 10,
    "start_time": "2021-12-12T08:59:25.770Z"
   },
   {
    "duration": 5,
    "start_time": "2021-12-12T08:59:25.783Z"
   },
   {
    "duration": 11,
    "start_time": "2021-12-12T08:59:25.791Z"
   },
   {
    "duration": 11,
    "start_time": "2021-12-12T08:59:25.804Z"
   },
   {
    "duration": 83,
    "start_time": "2021-12-12T08:59:25.817Z"
   },
   {
    "duration": 558,
    "start_time": "2021-12-12T08:59:25.902Z"
   },
   {
    "duration": 27,
    "start_time": "2021-12-12T08:59:26.467Z"
   },
   {
    "duration": 445,
    "start_time": "2021-12-12T08:59:26.496Z"
   },
   {
    "duration": -2418,
    "start_time": "2021-12-12T08:59:29.361Z"
   },
   {
    "duration": 401,
    "start_time": "2021-12-12T09:00:00.559Z"
   },
   {
    "duration": 9,
    "start_time": "2021-12-12T09:00:39.847Z"
   },
   {
    "duration": 455,
    "start_time": "2021-12-12T09:03:16.030Z"
   },
   {
    "duration": 295,
    "start_time": "2021-12-12T09:06:39.944Z"
   },
   {
    "duration": 1263,
    "start_time": "2021-12-12T09:06:48.152Z"
   },
   {
    "duration": 24282,
    "start_time": "2021-12-12T09:13:06.939Z"
   },
   {
    "duration": 461,
    "start_time": "2021-12-12T09:15:59.418Z"
   },
   {
    "duration": 340,
    "start_time": "2021-12-12T09:16:09.549Z"
   },
   {
    "duration": 24,
    "start_time": "2021-12-12T09:17:50.680Z"
   },
   {
    "duration": 25,
    "start_time": "2021-12-12T09:19:05.485Z"
   },
   {
    "duration": 29,
    "start_time": "2021-12-12T09:20:10.816Z"
   },
   {
    "duration": 27,
    "start_time": "2021-12-12T09:20:18.085Z"
   },
   {
    "duration": 1513,
    "start_time": "2021-12-12T09:22:17.874Z"
   },
   {
    "duration": 25,
    "start_time": "2021-12-12T09:22:19.390Z"
   },
   {
    "duration": 15,
    "start_time": "2021-12-12T09:22:19.419Z"
   },
   {
    "duration": 51,
    "start_time": "2021-12-12T09:22:19.436Z"
   },
   {
    "duration": 14,
    "start_time": "2021-12-12T09:22:19.490Z"
   },
   {
    "duration": 26,
    "start_time": "2021-12-12T09:22:19.507Z"
   },
   {
    "duration": 32,
    "start_time": "2021-12-12T09:22:19.536Z"
   },
   {
    "duration": 7,
    "start_time": "2021-12-12T09:22:19.573Z"
   },
   {
    "duration": 12,
    "start_time": "2021-12-12T09:22:19.583Z"
   },
   {
    "duration": 10,
    "start_time": "2021-12-12T09:22:19.598Z"
   },
   {
    "duration": 6,
    "start_time": "2021-12-12T09:22:19.611Z"
   },
   {
    "duration": 50,
    "start_time": "2021-12-12T09:22:19.619Z"
   },
   {
    "duration": 10,
    "start_time": "2021-12-12T09:22:19.672Z"
   },
   {
    "duration": 52,
    "start_time": "2021-12-12T09:22:19.685Z"
   },
   {
    "duration": 508,
    "start_time": "2021-12-12T09:22:19.768Z"
   },
   {
    "duration": 24,
    "start_time": "2021-12-12T09:22:20.278Z"
   },
   {
    "duration": 9,
    "start_time": "2021-12-12T09:22:20.305Z"
   },
   {
    "duration": 858,
    "start_time": "2021-12-12T09:22:20.316Z"
   },
   {
    "duration": 447,
    "start_time": "2021-12-12T09:25:23.844Z"
   },
   {
    "duration": 486,
    "start_time": "2021-12-12T09:26:34.302Z"
   },
   {
    "duration": 9,
    "start_time": "2021-12-12T09:26:57.128Z"
   },
   {
    "duration": 462,
    "start_time": "2021-12-12T09:26:59.192Z"
   },
   {
    "duration": 9,
    "start_time": "2021-12-12T09:27:23.772Z"
   },
   {
    "duration": 448,
    "start_time": "2021-12-12T09:27:25.652Z"
   },
   {
    "duration": 9,
    "start_time": "2021-12-12T09:37:41.116Z"
   },
   {
    "duration": 7,
    "start_time": "2021-12-12T09:42:59.641Z"
   },
   {
    "duration": 790,
    "start_time": "2021-12-12T09:45:20.206Z"
   },
   {
    "duration": 1899,
    "start_time": "2021-12-12T09:46:58.591Z"
   },
   {
    "duration": 1113,
    "start_time": "2021-12-12T09:47:06.467Z"
   },
   {
    "duration": 1845,
    "start_time": "2021-12-12T09:47:13.001Z"
   },
   {
    "duration": 689,
    "start_time": "2021-12-12T09:50:01.982Z"
   },
   {
    "duration": 1205,
    "start_time": "2021-12-12T09:50:11.509Z"
   },
   {
    "duration": 1080,
    "start_time": "2021-12-12T09:50:21.695Z"
   },
   {
    "duration": 1146,
    "start_time": "2021-12-12T09:52:53.761Z"
   },
   {
    "duration": 309,
    "start_time": "2021-12-12T11:02:01.153Z"
   },
   {
    "duration": 1568,
    "start_time": "2021-12-12T11:02:08.427Z"
   },
   {
    "duration": 25,
    "start_time": "2021-12-12T11:02:09.998Z"
   },
   {
    "duration": 61,
    "start_time": "2021-12-12T11:02:10.026Z"
   },
   {
    "duration": 60,
    "start_time": "2021-12-12T11:02:10.090Z"
   },
   {
    "duration": 14,
    "start_time": "2021-12-12T11:02:10.153Z"
   },
   {
    "duration": 33,
    "start_time": "2021-12-12T11:02:10.169Z"
   },
   {
    "duration": 25,
    "start_time": "2021-12-12T11:02:10.204Z"
   },
   {
    "duration": 31,
    "start_time": "2021-12-12T11:02:10.233Z"
   },
   {
    "duration": 16,
    "start_time": "2021-12-12T11:02:10.268Z"
   },
   {
    "duration": 32,
    "start_time": "2021-12-12T11:02:10.287Z"
   },
   {
    "duration": 19,
    "start_time": "2021-12-12T11:02:10.322Z"
   },
   {
    "duration": 36,
    "start_time": "2021-12-12T11:02:10.343Z"
   },
   {
    "duration": 79,
    "start_time": "2021-12-12T11:02:10.382Z"
   },
   {
    "duration": 41,
    "start_time": "2021-12-12T11:02:10.464Z"
   },
   {
    "duration": 612,
    "start_time": "2021-12-12T11:02:10.508Z"
   },
   {
    "duration": 24,
    "start_time": "2021-12-12T11:02:11.123Z"
   },
   {
    "duration": 10,
    "start_time": "2021-12-12T11:02:11.167Z"
   },
   {
    "duration": 467,
    "start_time": "2021-12-12T11:02:11.180Z"
   },
   {
    "duration": 22,
    "start_time": "2021-12-12T11:02:11.649Z"
   },
   {
    "duration": 726,
    "start_time": "2021-12-12T11:02:11.673Z"
   },
   {
    "duration": 10,
    "start_time": "2021-12-12T11:02:12.402Z"
   },
   {
    "duration": 25,
    "start_time": "2021-12-12T11:02:12.415Z"
   },
   {
    "duration": 1776,
    "start_time": "2021-12-12T11:02:12.467Z"
   },
   {
    "duration": -129,
    "start_time": "2021-12-12T11:02:14.375Z"
   },
   {
    "duration": -134,
    "start_time": "2021-12-12T11:02:14.381Z"
   },
   {
    "duration": -137,
    "start_time": "2021-12-12T11:02:14.386Z"
   },
   {
    "duration": -138,
    "start_time": "2021-12-12T11:02:14.388Z"
   },
   {
    "duration": 1179,
    "start_time": "2021-12-12T11:02:40.378Z"
   },
   {
    "duration": 32322,
    "start_time": "2021-12-12T11:03:39.710Z"
   },
   {
    "duration": 369,
    "start_time": "2021-12-12T11:05:38.489Z"
   },
   {
    "duration": 17537,
    "start_time": "2021-12-12T11:05:44.490Z"
   },
   {
    "duration": 948,
    "start_time": "2021-12-12T11:10:54.851Z"
   },
   {
    "duration": 828,
    "start_time": "2021-12-12T11:11:03.045Z"
   },
   {
    "duration": 866,
    "start_time": "2021-12-12T11:12:45.014Z"
   },
   {
    "duration": 908,
    "start_time": "2021-12-12T11:13:08.631Z"
   },
   {
    "duration": 862,
    "start_time": "2021-12-12T11:13:20.100Z"
   },
   {
    "duration": 603,
    "start_time": "2021-12-12T11:21:03.313Z"
   },
   {
    "duration": 272,
    "start_time": "2021-12-12T18:16:04.025Z"
   },
   {
    "duration": 266,
    "start_time": "2021-12-12T18:19:54.989Z"
   },
   {
    "duration": 37,
    "start_time": "2021-12-12T18:25:05.316Z"
   },
   {
    "duration": 13,
    "start_time": "2021-12-12T18:25:05.354Z"
   },
   {
    "duration": 10,
    "start_time": "2021-12-12T18:25:05.368Z"
   },
   {
    "duration": 14,
    "start_time": "2021-12-12T18:25:05.379Z"
   },
   {
    "duration": 6,
    "start_time": "2021-12-12T18:25:05.395Z"
   },
   {
    "duration": 12,
    "start_time": "2021-12-12T18:25:05.403Z"
   },
   {
    "duration": 7,
    "start_time": "2021-12-12T18:25:05.416Z"
   },
   {
    "duration": 8,
    "start_time": "2021-12-12T18:25:05.424Z"
   },
   {
    "duration": 5,
    "start_time": "2021-12-12T18:25:05.463Z"
   },
   {
    "duration": 7,
    "start_time": "2021-12-12T18:25:05.469Z"
   },
   {
    "duration": 5,
    "start_time": "2021-12-12T18:25:05.477Z"
   },
   {
    "duration": 16,
    "start_time": "2021-12-12T18:25:05.483Z"
   },
   {
    "duration": 7,
    "start_time": "2021-12-12T18:25:05.500Z"
   },
   {
    "duration": 28,
    "start_time": "2021-12-12T18:25:05.511Z"
   },
   {
    "duration": 269,
    "start_time": "2021-12-12T18:25:05.541Z"
   },
   {
    "duration": 15,
    "start_time": "2021-12-12T18:25:05.812Z"
   },
   {
    "duration": 5,
    "start_time": "2021-12-12T18:25:05.829Z"
   },
   {
    "duration": 264,
    "start_time": "2021-12-12T18:25:05.836Z"
   },
   {
    "duration": 6,
    "start_time": "2021-12-12T18:25:06.102Z"
   },
   {
    "duration": 173,
    "start_time": "2021-12-12T18:25:06.109Z"
   },
   {
    "duration": 515,
    "start_time": "2021-12-12T18:25:06.284Z"
   },
   {
    "duration": 5,
    "start_time": "2021-12-12T18:25:06.802Z"
   },
   {
    "duration": 49,
    "start_time": "2021-12-12T18:25:06.809Z"
   },
   {
    "duration": 12,
    "start_time": "2021-12-12T18:25:06.859Z"
   },
   {
    "duration": 45,
    "start_time": "2021-12-12T18:25:06.873Z"
   },
   {
    "duration": 15,
    "start_time": "2021-12-12T18:25:06.920Z"
   },
   {
    "duration": 28,
    "start_time": "2021-12-12T18:25:06.937Z"
   },
   {
    "duration": 9296,
    "start_time": "2021-12-12T18:32:00.630Z"
   },
   {
    "duration": 135,
    "start_time": "2021-12-12T18:32:25.374Z"
   },
   {
    "duration": 305,
    "start_time": "2021-12-12T18:41:54.683Z"
   },
   {
    "duration": 243,
    "start_time": "2021-12-12T18:42:34.076Z"
   },
   {
    "duration": 243,
    "start_time": "2021-12-12T18:42:54.085Z"
   },
   {
    "duration": 237,
    "start_time": "2021-12-12T18:43:33.680Z"
   },
   {
    "duration": 250,
    "start_time": "2021-12-12T18:43:57.647Z"
   },
   {
    "duration": 1119,
    "start_time": "2021-12-12T18:44:29.510Z"
   },
   {
    "duration": 16,
    "start_time": "2021-12-12T18:44:30.631Z"
   },
   {
    "duration": 9,
    "start_time": "2021-12-12T18:44:30.649Z"
   },
   {
    "duration": 20,
    "start_time": "2021-12-12T18:44:30.663Z"
   },
   {
    "duration": 11,
    "start_time": "2021-12-12T18:44:30.685Z"
   },
   {
    "duration": 14,
    "start_time": "2021-12-12T18:44:30.697Z"
   },
   {
    "duration": 10,
    "start_time": "2021-12-12T18:44:30.713Z"
   },
   {
    "duration": 8,
    "start_time": "2021-12-12T18:44:30.725Z"
   },
   {
    "duration": 15,
    "start_time": "2021-12-12T18:44:30.735Z"
   },
   {
    "duration": 19,
    "start_time": "2021-12-12T18:44:30.751Z"
   },
   {
    "duration": 8,
    "start_time": "2021-12-12T18:44:30.772Z"
   },
   {
    "duration": 15,
    "start_time": "2021-12-12T18:44:30.782Z"
   },
   {
    "duration": 20,
    "start_time": "2021-12-12T18:44:30.798Z"
   },
   {
    "duration": 36,
    "start_time": "2021-12-12T18:44:30.820Z"
   },
   {
    "duration": 263,
    "start_time": "2021-12-12T18:44:30.857Z"
   },
   {
    "duration": 16,
    "start_time": "2021-12-12T18:44:31.122Z"
   },
   {
    "duration": 23,
    "start_time": "2021-12-12T18:44:31.140Z"
   },
   {
    "duration": 256,
    "start_time": "2021-12-12T18:44:31.165Z"
   },
   {
    "duration": 5,
    "start_time": "2021-12-12T18:44:31.423Z"
   },
   {
    "duration": 186,
    "start_time": "2021-12-12T18:44:31.430Z"
   },
   {
    "duration": 406,
    "start_time": "2021-12-12T18:44:31.618Z"
   },
   {
    "duration": 5,
    "start_time": "2021-12-12T18:44:32.025Z"
   },
   {
    "duration": 15,
    "start_time": "2021-12-12T18:44:32.033Z"
   },
   {
    "duration": 331,
    "start_time": "2021-12-12T18:44:32.062Z"
   },
   {
    "duration": -91,
    "start_time": "2021-12-12T18:44:32.486Z"
   },
   {
    "duration": -93,
    "start_time": "2021-12-12T18:44:32.489Z"
   },
   {
    "duration": -94,
    "start_time": "2021-12-12T18:44:32.491Z"
   },
   {
    "duration": -95,
    "start_time": "2021-12-12T18:44:32.493Z"
   },
   {
    "duration": 282,
    "start_time": "2021-12-12T18:44:56.021Z"
   },
   {
    "duration": 17,
    "start_time": "2021-12-12T18:45:17.881Z"
   },
   {
    "duration": 229,
    "start_time": "2021-12-12T18:45:41.577Z"
   },
   {
    "duration": 555,
    "start_time": "2021-12-12T18:47:15.193Z"
   },
   {
    "duration": 260,
    "start_time": "2021-12-12T18:47:28.985Z"
   },
   {
    "duration": 242,
    "start_time": "2021-12-12T18:47:52.327Z"
   },
   {
    "duration": 238,
    "start_time": "2021-12-12T18:47:57.275Z"
   },
   {
    "duration": 10,
    "start_time": "2021-12-12T18:52:45.531Z"
   },
   {
    "duration": 72,
    "start_time": "2021-12-12T18:57:55.324Z"
   },
   {
    "duration": 240,
    "start_time": "2021-12-12T18:58:07.514Z"
   },
   {
    "duration": 8,
    "start_time": "2021-12-12T18:58:25.299Z"
   },
   {
    "duration": 13,
    "start_time": "2021-12-12T18:58:30.962Z"
   },
   {
    "duration": 7,
    "start_time": "2021-12-12T18:58:35.971Z"
   },
   {
    "duration": 10,
    "start_time": "2021-12-12T18:58:50.648Z"
   },
   {
    "duration": 81,
    "start_time": "2021-12-12T18:59:49.544Z"
   },
   {
    "duration": 236,
    "start_time": "2021-12-12T19:00:09.930Z"
   },
   {
    "duration": 6065,
    "start_time": "2021-12-12T19:00:25.314Z"
   },
   {
    "duration": 6448,
    "start_time": "2021-12-12T19:00:40.856Z"
   },
   {
    "duration": 12,
    "start_time": "2021-12-12T19:01:06.869Z"
   },
   {
    "duration": 11,
    "start_time": "2021-12-12T19:01:21.730Z"
   },
   {
    "duration": 78,
    "start_time": "2021-12-12T19:03:32.603Z"
   },
   {
    "duration": 29,
    "start_time": "2021-12-12T19:03:39.525Z"
   },
   {
    "duration": 20,
    "start_time": "2021-12-12T19:04:04.575Z"
   },
   {
    "duration": 11,
    "start_time": "2021-12-12T19:06:19.063Z"
   },
   {
    "duration": 1249,
    "start_time": "2021-12-12T19:11:54.367Z"
   },
   {
    "duration": 20,
    "start_time": "2021-12-12T19:11:55.618Z"
   },
   {
    "duration": 10,
    "start_time": "2021-12-12T19:11:55.642Z"
   },
   {
    "duration": 19,
    "start_time": "2021-12-12T19:11:55.654Z"
   },
   {
    "duration": 6,
    "start_time": "2021-12-12T19:11:55.674Z"
   },
   {
    "duration": 10,
    "start_time": "2021-12-12T19:11:55.682Z"
   },
   {
    "duration": 5,
    "start_time": "2021-12-12T19:11:55.695Z"
   },
   {
    "duration": 5,
    "start_time": "2021-12-12T19:11:55.702Z"
   },
   {
    "duration": 8,
    "start_time": "2021-12-12T19:11:55.708Z"
   },
   {
    "duration": 11,
    "start_time": "2021-12-12T19:11:55.717Z"
   },
   {
    "duration": 4,
    "start_time": "2021-12-12T19:11:55.763Z"
   },
   {
    "duration": 9,
    "start_time": "2021-12-12T19:11:55.769Z"
   },
   {
    "duration": 6,
    "start_time": "2021-12-12T19:11:55.780Z"
   },
   {
    "duration": 35,
    "start_time": "2021-12-12T19:11:55.788Z"
   },
   {
    "duration": 275,
    "start_time": "2021-12-12T19:11:55.825Z"
   },
   {
    "duration": 15,
    "start_time": "2021-12-12T19:11:56.102Z"
   },
   {
    "duration": 6,
    "start_time": "2021-12-12T19:11:56.119Z"
   },
   {
    "duration": 272,
    "start_time": "2021-12-12T19:11:56.127Z"
   },
   {
    "duration": 5,
    "start_time": "2021-12-12T19:11:56.402Z"
   },
   {
    "duration": 184,
    "start_time": "2021-12-12T19:11:56.409Z"
   },
   {
    "duration": 453,
    "start_time": "2021-12-12T19:11:56.595Z"
   },
   {
    "duration": 13,
    "start_time": "2021-12-12T19:11:57.051Z"
   },
   {
    "duration": 14,
    "start_time": "2021-12-12T19:11:57.065Z"
   },
   {
    "duration": 14,
    "start_time": "2021-12-12T19:11:57.080Z"
   },
   {
    "duration": 4,
    "start_time": "2021-12-12T19:11:57.096Z"
   },
   {
    "duration": 13,
    "start_time": "2021-12-12T19:11:57.102Z"
   },
   {
    "duration": 12,
    "start_time": "2021-12-12T19:11:57.117Z"
   },
   {
    "duration": 6,
    "start_time": "2021-12-12T19:11:57.163Z"
   },
   {
    "duration": 16,
    "start_time": "2021-12-12T19:11:57.171Z"
   },
   {
    "duration": 11,
    "start_time": "2021-12-12T19:11:57.189Z"
   },
   {
    "duration": 13,
    "start_time": "2021-12-12T19:11:57.202Z"
   },
   {
    "duration": 14,
    "start_time": "2021-12-12T19:14:18.703Z"
   },
   {
    "duration": 13,
    "start_time": "2021-12-12T19:19:47.354Z"
   },
   {
    "duration": 6877,
    "start_time": "2021-12-12T19:21:01.734Z"
   },
   {
    "duration": 272,
    "start_time": "2021-12-12T19:21:35.370Z"
   },
   {
    "duration": 16,
    "start_time": "2021-12-12T19:21:51.106Z"
   },
   {
    "duration": 13,
    "start_time": "2021-12-12T19:22:34.322Z"
   },
   {
    "duration": 5986,
    "start_time": "2021-12-12T19:23:14.954Z"
   },
   {
    "duration": 6021,
    "start_time": "2021-12-12T19:24:25.354Z"
   },
   {
    "duration": 14,
    "start_time": "2021-12-12T19:24:44.715Z"
   },
   {
    "duration": 241,
    "start_time": "2021-12-12T19:26:52.979Z"
   },
   {
    "duration": 16,
    "start_time": "2021-12-12T19:27:42.402Z"
   },
   {
    "duration": 14,
    "start_time": "2021-12-12T19:27:55.736Z"
   },
   {
    "duration": 231,
    "start_time": "2021-12-12T19:28:37.770Z"
   },
   {
    "duration": 12,
    "start_time": "2021-12-12T19:28:58.256Z"
   },
   {
    "duration": 14,
    "start_time": "2021-12-12T19:30:44.830Z"
   },
   {
    "duration": 13,
    "start_time": "2021-12-12T19:31:27.018Z"
   },
   {
    "duration": 12,
    "start_time": "2021-12-12T19:31:34.164Z"
   },
   {
    "duration": 441,
    "start_time": "2021-12-12T19:33:17.164Z"
   },
   {
    "duration": 514,
    "start_time": "2021-12-12T19:33:27.663Z"
   },
   {
    "duration": 383,
    "start_time": "2021-12-12T19:34:51.732Z"
   },
   {
    "duration": 560,
    "start_time": "2021-12-12T19:35:03.490Z"
   },
   {
    "duration": 797,
    "start_time": "2021-12-12T19:35:12.810Z"
   },
   {
    "duration": 848,
    "start_time": "2021-12-12T19:35:23.880Z"
   },
   {
    "duration": 919,
    "start_time": "2021-12-12T19:35:48.850Z"
   },
   {
    "duration": 603,
    "start_time": "2021-12-12T19:36:10.084Z"
   },
   {
    "duration": 575,
    "start_time": "2021-12-12T19:40:41.520Z"
   },
   {
    "duration": 378,
    "start_time": "2021-12-12T19:42:32.814Z"
   },
   {
    "duration": 5,
    "start_time": "2021-12-12T19:45:05.552Z"
   },
   {
    "duration": 305,
    "start_time": "2021-12-12T20:32:30.645Z"
   },
   {
    "duration": 462,
    "start_time": "2021-12-12T20:32:48.818Z"
   },
   {
    "duration": 5,
    "start_time": "2021-12-12T20:33:37.040Z"
   },
   {
    "duration": 595,
    "start_time": "2021-12-12T20:40:11.414Z"
   },
   {
    "duration": 564,
    "start_time": "2021-12-12T20:40:38.111Z"
   },
   {
    "duration": 434,
    "start_time": "2021-12-12T20:41:00.104Z"
   },
   {
    "duration": 235,
    "start_time": "2021-12-12T20:49:32.865Z"
   },
   {
    "duration": 6,
    "start_time": "2021-12-12T20:49:42.138Z"
   },
   {
    "duration": 6,
    "start_time": "2021-12-12T20:50:43.524Z"
   },
   {
    "duration": 5,
    "start_time": "2021-12-12T20:51:10.547Z"
   },
   {
    "duration": 5,
    "start_time": "2021-12-12T20:52:57.077Z"
   },
   {
    "duration": 13,
    "start_time": "2021-12-12T20:56:08.076Z"
   },
   {
    "duration": 13,
    "start_time": "2021-12-12T20:56:16.294Z"
   },
   {
    "duration": 280,
    "start_time": "2021-12-12T20:57:30.738Z"
   },
   {
    "duration": 16,
    "start_time": "2021-12-12T20:57:40.491Z"
   },
   {
    "duration": 234,
    "start_time": "2021-12-12T20:57:58.682Z"
   },
   {
    "duration": 12,
    "start_time": "2021-12-12T20:58:15.729Z"
   },
   {
    "duration": 13,
    "start_time": "2021-12-12T20:58:31.858Z"
   },
   {
    "duration": 14,
    "start_time": "2021-12-12T20:58:58.172Z"
   },
   {
    "duration": 10,
    "start_time": "2021-12-12T21:06:32.796Z"
   },
   {
    "duration": 4719,
    "start_time": "2021-12-12T21:08:33.458Z"
   },
   {
    "duration": 5190,
    "start_time": "2021-12-12T21:08:46.798Z"
   },
   {
    "duration": 411,
    "start_time": "2021-12-12T21:10:54.487Z"
   },
   {
    "duration": 407,
    "start_time": "2021-12-12T21:14:16.763Z"
   },
   {
    "duration": 13,
    "start_time": "2021-12-12T21:14:30.252Z"
   },
   {
    "duration": 12,
    "start_time": "2021-12-12T21:15:08.933Z"
   },
   {
    "duration": 8,
    "start_time": "2021-12-12T21:18:15.723Z"
   },
   {
    "duration": 527,
    "start_time": "2021-12-12T21:18:18.289Z"
   },
   {
    "duration": 395,
    "start_time": "2021-12-12T21:21:28.679Z"
   },
   {
    "duration": 10,
    "start_time": "2021-12-12T21:21:57.866Z"
   },
   {
    "duration": 230,
    "start_time": "2021-12-12T21:24:37.325Z"
   },
   {
    "duration": 13,
    "start_time": "2021-12-12T21:24:52.271Z"
   },
   {
    "duration": 9,
    "start_time": "2021-12-12T21:25:05.338Z"
   },
   {
    "duration": 31,
    "start_time": "2021-12-12T21:29:55.805Z"
   },
   {
    "duration": 1174,
    "start_time": "2021-12-12T21:30:28.100Z"
   },
   {
    "duration": 16,
    "start_time": "2021-12-12T21:30:29.276Z"
   },
   {
    "duration": 12,
    "start_time": "2021-12-12T21:30:29.294Z"
   },
   {
    "duration": 15,
    "start_time": "2021-12-12T21:30:29.308Z"
   },
   {
    "duration": 6,
    "start_time": "2021-12-12T21:30:29.324Z"
   },
   {
    "duration": 32,
    "start_time": "2021-12-12T21:30:29.332Z"
   },
   {
    "duration": 4,
    "start_time": "2021-12-12T21:30:29.366Z"
   },
   {
    "duration": 8,
    "start_time": "2021-12-12T21:30:29.372Z"
   },
   {
    "duration": 9,
    "start_time": "2021-12-12T21:30:29.383Z"
   },
   {
    "duration": 6,
    "start_time": "2021-12-12T21:30:29.394Z"
   },
   {
    "duration": 30,
    "start_time": "2021-12-12T21:30:29.401Z"
   },
   {
    "duration": 3,
    "start_time": "2021-12-12T21:30:29.433Z"
   },
   {
    "duration": 31,
    "start_time": "2021-12-12T21:30:29.437Z"
   },
   {
    "duration": 9,
    "start_time": "2021-12-12T21:30:29.470Z"
   },
   {
    "duration": 21,
    "start_time": "2021-12-12T21:30:29.481Z"
   },
   {
    "duration": 267,
    "start_time": "2021-12-12T21:30:29.503Z"
   },
   {
    "duration": 16,
    "start_time": "2021-12-12T21:30:29.772Z"
   },
   {
    "duration": 7,
    "start_time": "2021-12-12T21:30:29.790Z"
   },
   {
    "duration": 271,
    "start_time": "2021-12-12T21:30:29.799Z"
   },
   {
    "duration": 6,
    "start_time": "2021-12-12T21:30:30.072Z"
   },
   {
    "duration": 398,
    "start_time": "2021-12-12T21:30:30.080Z"
   },
   {
    "duration": 303,
    "start_time": "2021-12-12T21:30:30.480Z"
   },
   {
    "duration": 405,
    "start_time": "2021-12-12T21:30:30.785Z"
   },
   {
    "duration": 4,
    "start_time": "2021-12-12T21:30:31.192Z"
   },
   {
    "duration": 409,
    "start_time": "2021-12-12T21:30:31.197Z"
   },
   {
    "duration": 14,
    "start_time": "2021-12-12T21:30:31.608Z"
   },
   {
    "duration": 33,
    "start_time": "2021-12-12T21:30:31.625Z"
   },
   {
    "duration": 18,
    "start_time": "2021-12-12T21:30:31.661Z"
   },
   {
    "duration": 12,
    "start_time": "2021-12-12T21:30:31.680Z"
   },
   {
    "duration": 325,
    "start_time": "2021-12-12T21:30:31.694Z"
   },
   {
    "duration": 2,
    "start_time": "2021-12-12T21:30:32.018Z"
   },
   {
    "duration": 0,
    "start_time": "2021-12-12T21:30:32.022Z"
   },
   {
    "duration": -4,
    "start_time": "2021-12-12T21:30:32.027Z"
   },
   {
    "duration": -13,
    "start_time": "2021-12-12T21:30:32.037Z"
   },
   {
    "duration": -14,
    "start_time": "2021-12-12T21:30:32.039Z"
   },
   {
    "duration": -18,
    "start_time": "2021-12-12T21:30:32.044Z"
   },
   {
    "duration": -21,
    "start_time": "2021-12-12T21:30:32.048Z"
   },
   {
    "duration": -22,
    "start_time": "2021-12-12T21:30:32.050Z"
   },
   {
    "duration": -24,
    "start_time": "2021-12-12T21:30:32.053Z"
   },
   {
    "duration": -26,
    "start_time": "2021-12-12T21:30:32.056Z"
   },
   {
    "duration": -29,
    "start_time": "2021-12-12T21:30:32.060Z"
   },
   {
    "duration": -32,
    "start_time": "2021-12-12T21:30:32.064Z"
   },
   {
    "duration": -34,
    "start_time": "2021-12-12T21:30:32.067Z"
   },
   {
    "duration": 1191,
    "start_time": "2021-12-12T21:31:11.553Z"
   },
   {
    "duration": 17,
    "start_time": "2021-12-12T21:31:12.746Z"
   },
   {
    "duration": 34,
    "start_time": "2021-12-12T21:31:12.765Z"
   },
   {
    "duration": 21,
    "start_time": "2021-12-12T21:31:12.801Z"
   },
   {
    "duration": 18,
    "start_time": "2021-12-12T21:31:12.823Z"
   },
   {
    "duration": 34,
    "start_time": "2021-12-12T21:31:12.842Z"
   },
   {
    "duration": 36,
    "start_time": "2021-12-12T21:31:12.877Z"
   },
   {
    "duration": 34,
    "start_time": "2021-12-12T21:31:12.915Z"
   },
   {
    "duration": 28,
    "start_time": "2021-12-12T21:31:12.952Z"
   },
   {
    "duration": 32,
    "start_time": "2021-12-12T21:31:12.981Z"
   },
   {
    "duration": 54,
    "start_time": "2021-12-12T21:31:13.015Z"
   },
   {
    "duration": 20,
    "start_time": "2021-12-12T21:31:13.071Z"
   },
   {
    "duration": 45,
    "start_time": "2021-12-12T21:31:13.093Z"
   },
   {
    "duration": 28,
    "start_time": "2021-12-12T21:31:13.140Z"
   },
   {
    "duration": 40,
    "start_time": "2021-12-12T21:31:13.169Z"
   },
   {
    "duration": 259,
    "start_time": "2021-12-12T21:31:13.211Z"
   },
   {
    "duration": 22,
    "start_time": "2021-12-12T21:31:13.472Z"
   },
   {
    "duration": 22,
    "start_time": "2021-12-12T21:31:13.496Z"
   },
   {
    "duration": 300,
    "start_time": "2021-12-12T21:31:13.520Z"
   },
   {
    "duration": 6,
    "start_time": "2021-12-12T21:31:13.822Z"
   },
   {
    "duration": 391,
    "start_time": "2021-12-12T21:31:13.830Z"
   },
   {
    "duration": 314,
    "start_time": "2021-12-12T21:31:14.223Z"
   },
   {
    "duration": 382,
    "start_time": "2021-12-12T21:31:14.540Z"
   },
   {
    "duration": 4,
    "start_time": "2021-12-12T21:31:14.924Z"
   },
   {
    "duration": 410,
    "start_time": "2021-12-12T21:31:14.929Z"
   },
   {
    "duration": 14,
    "start_time": "2021-12-12T21:31:15.340Z"
   },
   {
    "duration": 30,
    "start_time": "2021-12-12T21:31:15.364Z"
   },
   {
    "duration": 41,
    "start_time": "2021-12-12T21:31:15.396Z"
   },
   {
    "duration": 26,
    "start_time": "2021-12-12T21:31:15.438Z"
   },
   {
    "duration": 29,
    "start_time": "2021-12-12T21:31:15.466Z"
   },
   {
    "duration": 27,
    "start_time": "2021-12-12T21:31:15.497Z"
   },
   {
    "duration": 11,
    "start_time": "2021-12-12T21:31:15.526Z"
   },
   {
    "duration": 39,
    "start_time": "2021-12-12T21:31:15.538Z"
   },
   {
    "duration": 24,
    "start_time": "2021-12-12T21:31:15.579Z"
   },
   {
    "duration": 34,
    "start_time": "2021-12-12T21:31:15.605Z"
   },
   {
    "duration": 34,
    "start_time": "2021-12-12T21:31:15.640Z"
   },
   {
    "duration": 25,
    "start_time": "2021-12-12T21:31:15.676Z"
   },
   {
    "duration": 37,
    "start_time": "2021-12-12T21:31:15.703Z"
   },
   {
    "duration": 21,
    "start_time": "2021-12-12T21:31:15.741Z"
   },
   {
    "duration": 41,
    "start_time": "2021-12-12T21:31:15.764Z"
   },
   {
    "duration": 21,
    "start_time": "2021-12-12T21:31:15.806Z"
   },
   {
    "duration": 32,
    "start_time": "2021-12-12T21:31:15.829Z"
   },
   {
    "duration": 501,
    "start_time": "2021-12-12T21:31:15.863Z"
   },
   {
    "duration": 8,
    "start_time": "2021-12-12T21:35:46.125Z"
   },
   {
    "duration": 9,
    "start_time": "2021-12-12T21:38:51.427Z"
   },
   {
    "duration": 4,
    "start_time": "2021-12-12T21:39:16.895Z"
   },
   {
    "duration": 7,
    "start_time": "2021-12-12T21:40:00.637Z"
   },
   {
    "duration": 8,
    "start_time": "2021-12-12T21:42:35.680Z"
   },
   {
    "duration": 7,
    "start_time": "2021-12-12T21:42:46.555Z"
   },
   {
    "duration": 6,
    "start_time": "2021-12-12T21:42:51.443Z"
   },
   {
    "duration": 8,
    "start_time": "2021-12-12T21:43:04.459Z"
   },
   {
    "duration": 5,
    "start_time": "2021-12-12T21:43:23.741Z"
   },
   {
    "duration": 7,
    "start_time": "2021-12-12T21:43:27.397Z"
   },
   {
    "duration": 1204,
    "start_time": "2021-12-12T21:43:43.846Z"
   },
   {
    "duration": 18,
    "start_time": "2021-12-12T21:43:45.052Z"
   },
   {
    "duration": 11,
    "start_time": "2021-12-12T21:43:45.072Z"
   },
   {
    "duration": 15,
    "start_time": "2021-12-12T21:43:45.086Z"
   },
   {
    "duration": 7,
    "start_time": "2021-12-12T21:43:45.103Z"
   },
   {
    "duration": 9,
    "start_time": "2021-12-12T21:43:45.112Z"
   },
   {
    "duration": 5,
    "start_time": "2021-12-12T21:43:45.122Z"
   },
   {
    "duration": 44,
    "start_time": "2021-12-12T21:43:45.129Z"
   },
   {
    "duration": 5,
    "start_time": "2021-12-12T21:43:45.175Z"
   },
   {
    "duration": 6,
    "start_time": "2021-12-12T21:43:45.182Z"
   },
   {
    "duration": 28,
    "start_time": "2021-12-12T21:43:45.189Z"
   },
   {
    "duration": 3,
    "start_time": "2021-12-12T21:43:45.218Z"
   },
   {
    "duration": 10,
    "start_time": "2021-12-12T21:43:45.222Z"
   },
   {
    "duration": 13,
    "start_time": "2021-12-12T21:43:45.233Z"
   },
   {
    "duration": 3,
    "start_time": "2021-12-12T21:43:45.263Z"
   },
   {
    "duration": 13,
    "start_time": "2021-12-12T21:43:45.267Z"
   },
   {
    "duration": 22,
    "start_time": "2021-12-12T21:43:45.281Z"
   },
   {
    "duration": 261,
    "start_time": "2021-12-12T21:43:45.304Z"
   },
   {
    "duration": 16,
    "start_time": "2021-12-12T21:43:45.567Z"
   },
   {
    "duration": 6,
    "start_time": "2021-12-12T21:43:45.585Z"
   },
   {
    "duration": 273,
    "start_time": "2021-12-12T21:43:45.592Z"
   },
   {
    "duration": 6,
    "start_time": "2021-12-12T21:43:45.868Z"
   },
   {
    "duration": 390,
    "start_time": "2021-12-12T21:43:45.875Z"
   },
   {
    "duration": 293,
    "start_time": "2021-12-12T21:43:46.266Z"
   },
   {
    "duration": 422,
    "start_time": "2021-12-12T21:43:46.561Z"
   },
   {
    "duration": 4,
    "start_time": "2021-12-12T21:43:46.985Z"
   },
   {
    "duration": 398,
    "start_time": "2021-12-12T21:43:46.992Z"
   },
   {
    "duration": 13,
    "start_time": "2021-12-12T21:43:47.392Z"
   },
   {
    "duration": 7,
    "start_time": "2021-12-12T21:43:47.406Z"
   },
   {
    "duration": 14,
    "start_time": "2021-12-12T21:43:47.414Z"
   },
   {
    "duration": 35,
    "start_time": "2021-12-12T21:43:47.429Z"
   },
   {
    "duration": 12,
    "start_time": "2021-12-12T21:43:47.466Z"
   },
   {
    "duration": 11,
    "start_time": "2021-12-12T21:43:47.480Z"
   },
   {
    "duration": 4,
    "start_time": "2021-12-12T21:43:47.493Z"
   },
   {
    "duration": 13,
    "start_time": "2021-12-12T21:43:47.498Z"
   },
   {
    "duration": 11,
    "start_time": "2021-12-12T21:43:47.513Z"
   },
   {
    "duration": 46,
    "start_time": "2021-12-12T21:43:47.525Z"
   },
   {
    "duration": 12,
    "start_time": "2021-12-12T21:43:47.573Z"
   },
   {
    "duration": 7,
    "start_time": "2021-12-12T21:43:47.586Z"
   },
   {
    "duration": 14,
    "start_time": "2021-12-12T21:43:47.595Z"
   },
   {
    "duration": 11,
    "start_time": "2021-12-12T21:43:47.610Z"
   },
   {
    "duration": 17,
    "start_time": "2021-12-12T21:43:47.622Z"
   },
   {
    "duration": 34,
    "start_time": "2021-12-12T21:43:47.640Z"
   },
   {
    "duration": 9,
    "start_time": "2021-12-12T21:43:47.675Z"
   },
   {
    "duration": 7,
    "start_time": "2021-12-12T21:43:47.686Z"
   },
   {
    "duration": 530,
    "start_time": "2021-12-12T21:43:47.695Z"
   },
   {
    "duration": 913,
    "start_time": "2021-12-12T21:44:32.826Z"
   },
   {
    "duration": 5,
    "start_time": "2021-12-12T21:45:01.698Z"
   },
   {
    "duration": 5,
    "start_time": "2021-12-12T21:45:10.648Z"
   },
   {
    "duration": 7,
    "start_time": "2021-12-12T21:45:22.062Z"
   },
   {
    "duration": 4,
    "start_time": "2021-12-12T21:45:42.120Z"
   },
   {
    "duration": 1194,
    "start_time": "2021-12-12T21:45:50.768Z"
   },
   {
    "duration": 15,
    "start_time": "2021-12-12T21:45:51.964Z"
   },
   {
    "duration": 10,
    "start_time": "2021-12-12T21:45:51.984Z"
   },
   {
    "duration": 16,
    "start_time": "2021-12-12T21:45:51.996Z"
   },
   {
    "duration": 6,
    "start_time": "2021-12-12T21:45:52.014Z"
   },
   {
    "duration": 41,
    "start_time": "2021-12-12T21:45:52.022Z"
   },
   {
    "duration": 4,
    "start_time": "2021-12-12T21:45:52.066Z"
   },
   {
    "duration": 7,
    "start_time": "2021-12-12T21:45:52.073Z"
   },
   {
    "duration": 7,
    "start_time": "2021-12-12T21:45:52.081Z"
   },
   {
    "duration": 6,
    "start_time": "2021-12-12T21:45:52.090Z"
   },
   {
    "duration": 29,
    "start_time": "2021-12-12T21:45:52.097Z"
   },
   {
    "duration": 2,
    "start_time": "2021-12-12T21:45:52.128Z"
   },
   {
    "duration": 34,
    "start_time": "2021-12-12T21:45:52.132Z"
   },
   {
    "duration": 8,
    "start_time": "2021-12-12T21:45:52.167Z"
   },
   {
    "duration": 9,
    "start_time": "2021-12-12T21:45:52.177Z"
   },
   {
    "duration": 9,
    "start_time": "2021-12-12T21:45:52.188Z"
   },
   {
    "duration": 12,
    "start_time": "2021-12-12T21:45:52.199Z"
   },
   {
    "duration": 20,
    "start_time": "2021-12-12T21:45:52.213Z"
   },
   {
    "duration": 260,
    "start_time": "2021-12-12T21:45:52.235Z"
   },
   {
    "duration": 15,
    "start_time": "2021-12-12T21:45:52.496Z"
   },
   {
    "duration": 6,
    "start_time": "2021-12-12T21:45:52.513Z"
   },
   {
    "duration": 272,
    "start_time": "2021-12-12T21:45:52.522Z"
   },
   {
    "duration": 6,
    "start_time": "2021-12-12T21:45:52.796Z"
   },
   {
    "duration": 375,
    "start_time": "2021-12-12T21:45:52.804Z"
   },
   {
    "duration": 295,
    "start_time": "2021-12-12T21:45:53.181Z"
   },
   {
    "duration": 402,
    "start_time": "2021-12-12T21:45:53.477Z"
   },
   {
    "duration": 4,
    "start_time": "2021-12-12T21:45:53.881Z"
   },
   {
    "duration": 396,
    "start_time": "2021-12-12T21:45:53.886Z"
   },
   {
    "duration": 14,
    "start_time": "2021-12-12T21:45:54.283Z"
   },
   {
    "duration": 5,
    "start_time": "2021-12-12T21:45:54.299Z"
   },
   {
    "duration": 15,
    "start_time": "2021-12-12T21:45:54.306Z"
   },
   {
    "duration": 12,
    "start_time": "2021-12-12T21:45:54.322Z"
   },
   {
    "duration": 13,
    "start_time": "2021-12-12T21:45:54.364Z"
   },
   {
    "duration": 13,
    "start_time": "2021-12-12T21:45:54.379Z"
   },
   {
    "duration": 4,
    "start_time": "2021-12-12T21:45:54.394Z"
   },
   {
    "duration": 14,
    "start_time": "2021-12-12T21:45:54.400Z"
   },
   {
    "duration": 11,
    "start_time": "2021-12-12T21:45:54.416Z"
   },
   {
    "duration": 40,
    "start_time": "2021-12-12T21:45:54.429Z"
   },
   {
    "duration": 13,
    "start_time": "2021-12-12T21:45:54.471Z"
   },
   {
    "duration": 5,
    "start_time": "2021-12-12T21:45:54.485Z"
   },
   {
    "duration": 16,
    "start_time": "2021-12-12T21:45:54.491Z"
   },
   {
    "duration": 11,
    "start_time": "2021-12-12T21:45:54.508Z"
   },
   {
    "duration": 15,
    "start_time": "2021-12-12T21:45:54.520Z"
   },
   {
    "duration": 37,
    "start_time": "2021-12-12T21:45:54.536Z"
   },
   {
    "duration": 1144,
    "start_time": "2021-12-12T21:45:54.575Z"
   },
   {
    "duration": -70,
    "start_time": "2021-12-12T21:45:55.791Z"
   },
   {
    "duration": -72,
    "start_time": "2021-12-12T21:45:55.794Z"
   },
   {
    "duration": 1195,
    "start_time": "2021-12-12T21:48:21.963Z"
   },
   {
    "duration": 14,
    "start_time": "2021-12-12T21:48:23.160Z"
   },
   {
    "duration": 20,
    "start_time": "2021-12-12T21:48:23.176Z"
   },
   {
    "duration": 19,
    "start_time": "2021-12-12T21:48:23.198Z"
   },
   {
    "duration": 5,
    "start_time": "2021-12-12T21:48:23.219Z"
   },
   {
    "duration": 29,
    "start_time": "2021-12-12T21:48:23.226Z"
   },
   {
    "duration": 14,
    "start_time": "2021-12-12T21:48:23.257Z"
   },
   {
    "duration": 39,
    "start_time": "2021-12-12T21:48:23.273Z"
   },
   {
    "duration": 20,
    "start_time": "2021-12-12T21:48:23.313Z"
   },
   {
    "duration": 20,
    "start_time": "2021-12-12T21:48:23.334Z"
   },
   {
    "duration": 41,
    "start_time": "2021-12-12T21:48:23.356Z"
   },
   {
    "duration": 5,
    "start_time": "2021-12-12T21:48:23.399Z"
   },
   {
    "duration": 27,
    "start_time": "2021-12-12T21:48:23.405Z"
   },
   {
    "duration": 7,
    "start_time": "2021-12-12T21:48:23.434Z"
   },
   {
    "duration": 325,
    "start_time": "2021-12-12T21:48:23.443Z"
   },
   {
    "duration": 20,
    "start_time": "2021-12-12T21:48:23.750Z"
   },
   {
    "duration": 19,
    "start_time": "2021-12-12T21:48:23.752Z"
   },
   {
    "duration": 12,
    "start_time": "2021-12-12T21:48:23.760Z"
   },
   {
    "duration": 10,
    "start_time": "2021-12-12T21:48:23.763Z"
   },
   {
    "duration": 8,
    "start_time": "2021-12-12T21:48:23.766Z"
   },
   {
    "duration": 7,
    "start_time": "2021-12-12T21:48:23.768Z"
   },
   {
    "duration": 0,
    "start_time": "2021-12-12T21:48:23.776Z"
   },
   {
    "duration": -3,
    "start_time": "2021-12-12T21:48:23.780Z"
   },
   {
    "duration": -19,
    "start_time": "2021-12-12T21:48:23.797Z"
   },
   {
    "duration": -22,
    "start_time": "2021-12-12T21:48:23.801Z"
   },
   {
    "duration": -26,
    "start_time": "2021-12-12T21:48:23.806Z"
   },
   {
    "duration": -29,
    "start_time": "2021-12-12T21:48:23.810Z"
   },
   {
    "duration": -31,
    "start_time": "2021-12-12T21:48:23.813Z"
   },
   {
    "duration": -32,
    "start_time": "2021-12-12T21:48:23.815Z"
   },
   {
    "duration": -34,
    "start_time": "2021-12-12T21:48:23.818Z"
   },
   {
    "duration": -39,
    "start_time": "2021-12-12T21:48:23.824Z"
   },
   {
    "duration": -42,
    "start_time": "2021-12-12T21:48:23.828Z"
   },
   {
    "duration": -44,
    "start_time": "2021-12-12T21:48:23.831Z"
   },
   {
    "duration": -47,
    "start_time": "2021-12-12T21:48:23.834Z"
   },
   {
    "duration": -51,
    "start_time": "2021-12-12T21:48:23.839Z"
   },
   {
    "duration": -54,
    "start_time": "2021-12-12T21:48:23.843Z"
   },
   {
    "duration": -64,
    "start_time": "2021-12-12T21:48:23.854Z"
   },
   {
    "duration": -69,
    "start_time": "2021-12-12T21:48:23.860Z"
   },
   {
    "duration": -70,
    "start_time": "2021-12-12T21:48:23.862Z"
   },
   {
    "duration": -72,
    "start_time": "2021-12-12T21:48:23.865Z"
   },
   {
    "duration": -74,
    "start_time": "2021-12-12T21:48:23.868Z"
   },
   {
    "duration": -79,
    "start_time": "2021-12-12T21:48:23.874Z"
   },
   {
    "duration": -82,
    "start_time": "2021-12-12T21:48:23.877Z"
   },
   {
    "duration": -83,
    "start_time": "2021-12-12T21:48:23.880Z"
   },
   {
    "duration": -86,
    "start_time": "2021-12-12T21:48:23.883Z"
   },
   {
    "duration": -87,
    "start_time": "2021-12-12T21:48:23.885Z"
   },
   {
    "duration": -91,
    "start_time": "2021-12-12T21:48:23.890Z"
   },
   {
    "duration": 8,
    "start_time": "2021-12-12T21:48:54.495Z"
   },
   {
    "duration": 1131,
    "start_time": "2021-12-12T21:49:02.425Z"
   },
   {
    "duration": 16,
    "start_time": "2021-12-12T21:49:03.558Z"
   },
   {
    "duration": 10,
    "start_time": "2021-12-12T21:49:03.576Z"
   },
   {
    "duration": 15,
    "start_time": "2021-12-12T21:49:03.587Z"
   },
   {
    "duration": 6,
    "start_time": "2021-12-12T21:49:03.604Z"
   },
   {
    "duration": 8,
    "start_time": "2021-12-12T21:49:03.611Z"
   },
   {
    "duration": 9,
    "start_time": "2021-12-12T21:49:03.621Z"
   },
   {
    "duration": 32,
    "start_time": "2021-12-12T21:49:03.632Z"
   },
   {
    "duration": 4,
    "start_time": "2021-12-12T21:49:03.666Z"
   },
   {
    "duration": 7,
    "start_time": "2021-12-12T21:49:03.672Z"
   },
   {
    "duration": 27,
    "start_time": "2021-12-12T21:49:03.680Z"
   },
   {
    "duration": 2,
    "start_time": "2021-12-12T21:49:03.709Z"
   },
   {
    "duration": 15,
    "start_time": "2021-12-12T21:49:03.713Z"
   },
   {
    "duration": 12,
    "start_time": "2021-12-12T21:49:03.729Z"
   },
   {
    "duration": 23,
    "start_time": "2021-12-12T21:49:03.742Z"
   },
   {
    "duration": 4,
    "start_time": "2021-12-12T21:49:03.767Z"
   },
   {
    "duration": 11,
    "start_time": "2021-12-12T21:49:03.773Z"
   },
   {
    "duration": 21,
    "start_time": "2021-12-12T21:49:03.786Z"
   },
   {
    "duration": 268,
    "start_time": "2021-12-12T21:49:03.809Z"
   },
   {
    "duration": 15,
    "start_time": "2021-12-12T21:49:04.079Z"
   },
   {
    "duration": 6,
    "start_time": "2021-12-12T21:49:04.095Z"
   },
   {
    "duration": 281,
    "start_time": "2021-12-12T21:49:04.103Z"
   },
   {
    "duration": 5,
    "start_time": "2021-12-12T21:49:04.387Z"
   },
   {
    "duration": 375,
    "start_time": "2021-12-12T21:49:04.394Z"
   },
   {
    "duration": 300,
    "start_time": "2021-12-12T21:49:04.771Z"
   },
   {
    "duration": 408,
    "start_time": "2021-12-12T21:49:05.073Z"
   },
   {
    "duration": 5,
    "start_time": "2021-12-12T21:49:05.483Z"
   },
   {
    "duration": 397,
    "start_time": "2021-12-12T21:49:05.490Z"
   },
   {
    "duration": 13,
    "start_time": "2021-12-12T21:49:05.888Z"
   },
   {
    "duration": 12,
    "start_time": "2021-12-12T21:49:05.902Z"
   },
   {
    "duration": 24,
    "start_time": "2021-12-12T21:49:05.915Z"
   },
   {
    "duration": 12,
    "start_time": "2021-12-12T21:49:05.941Z"
   },
   {
    "duration": 20,
    "start_time": "2021-12-12T21:49:05.954Z"
   },
   {
    "duration": 12,
    "start_time": "2021-12-12T21:49:05.976Z"
   },
   {
    "duration": 4,
    "start_time": "2021-12-12T21:49:05.990Z"
   },
   {
    "duration": 13,
    "start_time": "2021-12-12T21:49:05.996Z"
   },
   {
    "duration": 11,
    "start_time": "2021-12-12T21:49:06.011Z"
   },
   {
    "duration": 46,
    "start_time": "2021-12-12T21:49:06.023Z"
   },
   {
    "duration": 11,
    "start_time": "2021-12-12T21:49:06.071Z"
   },
   {
    "duration": 6,
    "start_time": "2021-12-12T21:49:06.083Z"
   },
   {
    "duration": 15,
    "start_time": "2021-12-12T21:49:06.091Z"
   },
   {
    "duration": 11,
    "start_time": "2021-12-12T21:49:06.107Z"
   },
   {
    "duration": 15,
    "start_time": "2021-12-12T21:49:06.119Z"
   },
   {
    "duration": 36,
    "start_time": "2021-12-12T21:49:06.135Z"
   },
   {
    "duration": 1069,
    "start_time": "2021-12-12T21:49:06.173Z"
   },
   {
    "duration": -46,
    "start_time": "2021-12-12T21:49:07.290Z"
   },
   {
    "duration": -48,
    "start_time": "2021-12-12T21:49:07.293Z"
   },
   {
    "duration": 10,
    "start_time": "2021-12-12T21:49:54.375Z"
   },
   {
    "duration": 1204,
    "start_time": "2021-12-12T21:50:04.944Z"
   },
   {
    "duration": 15,
    "start_time": "2021-12-12T21:50:06.150Z"
   },
   {
    "duration": 11,
    "start_time": "2021-12-12T21:50:06.167Z"
   },
   {
    "duration": 17,
    "start_time": "2021-12-12T21:50:06.180Z"
   },
   {
    "duration": 5,
    "start_time": "2021-12-12T21:50:06.199Z"
   },
   {
    "duration": 10,
    "start_time": "2021-12-12T21:50:06.206Z"
   },
   {
    "duration": 4,
    "start_time": "2021-12-12T21:50:06.218Z"
   },
   {
    "duration": 5,
    "start_time": "2021-12-12T21:50:06.224Z"
   },
   {
    "duration": 9,
    "start_time": "2021-12-12T21:50:06.230Z"
   },
   {
    "duration": 26,
    "start_time": "2021-12-12T21:50:06.241Z"
   },
   {
    "duration": 28,
    "start_time": "2021-12-12T21:50:06.268Z"
   },
   {
    "duration": 3,
    "start_time": "2021-12-12T21:50:06.297Z"
   },
   {
    "duration": 13,
    "start_time": "2021-12-12T21:50:06.302Z"
   },
   {
    "duration": 10,
    "start_time": "2021-12-12T21:50:06.316Z"
   },
   {
    "duration": 13,
    "start_time": "2021-12-12T21:50:06.327Z"
   },
   {
    "duration": 22,
    "start_time": "2021-12-12T21:50:06.342Z"
   },
   {
    "duration": 9,
    "start_time": "2021-12-12T21:50:06.366Z"
   },
   {
    "duration": 22,
    "start_time": "2021-12-12T21:50:06.377Z"
   },
   {
    "duration": 24,
    "start_time": "2021-12-12T21:50:06.400Z"
   },
   {
    "duration": 253,
    "start_time": "2021-12-12T21:50:06.426Z"
   },
   {
    "duration": 16,
    "start_time": "2021-12-12T21:50:06.681Z"
   },
   {
    "duration": 6,
    "start_time": "2021-12-12T21:50:06.699Z"
   },
   {
    "duration": 276,
    "start_time": "2021-12-12T21:50:06.708Z"
   },
   {
    "duration": 6,
    "start_time": "2021-12-12T21:50:06.986Z"
   },
   {
    "duration": 384,
    "start_time": "2021-12-12T21:50:06.994Z"
   },
   {
    "duration": 299,
    "start_time": "2021-12-12T21:50:07.380Z"
   },
   {
    "duration": 372,
    "start_time": "2021-12-12T21:50:07.681Z"
   },
   {
    "duration": 11,
    "start_time": "2021-12-12T21:50:08.054Z"
   },
   {
    "duration": 405,
    "start_time": "2021-12-12T21:50:08.067Z"
   },
   {
    "duration": 13,
    "start_time": "2021-12-12T21:50:08.474Z"
   },
   {
    "duration": 5,
    "start_time": "2021-12-12T21:50:08.488Z"
   },
   {
    "duration": 15,
    "start_time": "2021-12-12T21:50:08.494Z"
   },
   {
    "duration": 11,
    "start_time": "2021-12-12T21:50:08.511Z"
   },
   {
    "duration": 43,
    "start_time": "2021-12-12T21:50:08.524Z"
   },
   {
    "duration": 12,
    "start_time": "2021-12-12T21:50:08.569Z"
   },
   {
    "duration": 7,
    "start_time": "2021-12-12T21:50:08.582Z"
   },
   {
    "duration": 15,
    "start_time": "2021-12-12T21:50:08.591Z"
   },
   {
    "duration": 11,
    "start_time": "2021-12-12T21:50:08.607Z"
   },
   {
    "duration": 14,
    "start_time": "2021-12-12T21:50:08.620Z"
   },
   {
    "duration": 37,
    "start_time": "2021-12-12T21:50:08.636Z"
   },
   {
    "duration": 5,
    "start_time": "2021-12-12T21:50:08.675Z"
   },
   {
    "duration": 15,
    "start_time": "2021-12-12T21:50:08.681Z"
   },
   {
    "duration": 11,
    "start_time": "2021-12-12T21:50:08.697Z"
   },
   {
    "duration": 25,
    "start_time": "2021-12-12T21:50:08.709Z"
   },
   {
    "duration": 34,
    "start_time": "2021-12-12T21:50:08.736Z"
   },
   {
    "duration": 982,
    "start_time": "2021-12-12T21:50:08.772Z"
   },
   {
    "duration": 6,
    "start_time": "2021-12-12T21:50:09.750Z"
   },
   {
    "duration": 3,
    "start_time": "2021-12-12T21:50:09.754Z"
   },
   {
    "duration": 1164,
    "start_time": "2021-12-12T21:50:33.587Z"
   },
   {
    "duration": 16,
    "start_time": "2021-12-12T21:50:34.753Z"
   },
   {
    "duration": 11,
    "start_time": "2021-12-12T21:50:34.771Z"
   },
   {
    "duration": 15,
    "start_time": "2021-12-12T21:50:34.784Z"
   },
   {
    "duration": 6,
    "start_time": "2021-12-12T21:50:34.800Z"
   },
   {
    "duration": 9,
    "start_time": "2021-12-12T21:50:34.808Z"
   },
   {
    "duration": 4,
    "start_time": "2021-12-12T21:50:34.819Z"
   },
   {
    "duration": 4,
    "start_time": "2021-12-12T21:50:34.825Z"
   },
   {
    "duration": 36,
    "start_time": "2021-12-12T21:50:34.831Z"
   },
   {
    "duration": 6,
    "start_time": "2021-12-12T21:50:34.869Z"
   },
   {
    "duration": 28,
    "start_time": "2021-12-12T21:50:34.877Z"
   },
   {
    "duration": 4,
    "start_time": "2021-12-12T21:50:34.906Z"
   },
   {
    "duration": 12,
    "start_time": "2021-12-12T21:50:34.912Z"
   },
   {
    "duration": 6,
    "start_time": "2021-12-12T21:50:34.926Z"
   },
   {
    "duration": 33,
    "start_time": "2021-12-12T21:50:34.934Z"
   },
   {
    "duration": 6,
    "start_time": "2021-12-12T21:50:34.969Z"
   },
   {
    "duration": 10,
    "start_time": "2021-12-12T21:50:34.976Z"
   },
   {
    "duration": 9,
    "start_time": "2021-12-12T21:50:34.988Z"
   },
   {
    "duration": 18,
    "start_time": "2021-12-12T21:50:34.999Z"
   },
   {
    "duration": 276,
    "start_time": "2021-12-12T21:50:35.019Z"
   },
   {
    "duration": 16,
    "start_time": "2021-12-12T21:50:35.297Z"
   },
   {
    "duration": 7,
    "start_time": "2021-12-12T21:50:35.314Z"
   },
   {
    "duration": 266,
    "start_time": "2021-12-12T21:50:35.325Z"
   },
   {
    "duration": 7,
    "start_time": "2021-12-12T21:50:35.593Z"
   },
   {
    "duration": 387,
    "start_time": "2021-12-12T21:50:35.602Z"
   },
   {
    "duration": 297,
    "start_time": "2021-12-12T21:50:35.991Z"
   },
   {
    "duration": 380,
    "start_time": "2021-12-12T21:50:36.290Z"
   },
   {
    "duration": 4,
    "start_time": "2021-12-12T21:50:36.672Z"
   },
   {
    "duration": 392,
    "start_time": "2021-12-12T21:50:36.677Z"
   },
   {
    "duration": 14,
    "start_time": "2021-12-12T21:50:37.070Z"
   },
   {
    "duration": 7,
    "start_time": "2021-12-12T21:50:37.085Z"
   },
   {
    "duration": 13,
    "start_time": "2021-12-12T21:50:37.094Z"
   },
   {
    "duration": 12,
    "start_time": "2021-12-12T21:50:37.108Z"
   },
   {
    "duration": 12,
    "start_time": "2021-12-12T21:50:37.122Z"
   },
   {
    "duration": 13,
    "start_time": "2021-12-12T21:50:37.164Z"
   },
   {
    "duration": 7,
    "start_time": "2021-12-12T21:50:37.178Z"
   },
   {
    "duration": 15,
    "start_time": "2021-12-12T21:50:37.186Z"
   },
   {
    "duration": 11,
    "start_time": "2021-12-12T21:50:37.203Z"
   },
   {
    "duration": 14,
    "start_time": "2021-12-12T21:50:37.216Z"
   },
   {
    "duration": 42,
    "start_time": "2021-12-12T21:50:37.231Z"
   },
   {
    "duration": 6,
    "start_time": "2021-12-12T21:50:37.275Z"
   },
   {
    "duration": 13,
    "start_time": "2021-12-12T21:50:37.282Z"
   },
   {
    "duration": 12,
    "start_time": "2021-12-12T21:50:37.297Z"
   },
   {
    "duration": 14,
    "start_time": "2021-12-12T21:50:37.311Z"
   },
   {
    "duration": 45,
    "start_time": "2021-12-12T21:50:37.327Z"
   },
   {
    "duration": 8,
    "start_time": "2021-12-12T21:50:37.374Z"
   },
   {
    "duration": 10,
    "start_time": "2021-12-12T21:50:37.383Z"
   },
   {
    "duration": 13,
    "start_time": "2021-12-12T21:50:37.395Z"
   },
   {
    "duration": 5,
    "start_time": "2021-12-12T21:51:49.304Z"
   },
   {
    "duration": 1212,
    "start_time": "2021-12-12T21:52:21.047Z"
   },
   {
    "duration": 16,
    "start_time": "2021-12-12T21:52:22.260Z"
   },
   {
    "duration": 10,
    "start_time": "2021-12-12T21:52:22.278Z"
   },
   {
    "duration": 18,
    "start_time": "2021-12-12T21:52:22.289Z"
   },
   {
    "duration": 5,
    "start_time": "2021-12-12T21:52:22.309Z"
   },
   {
    "duration": 10,
    "start_time": "2021-12-12T21:52:22.316Z"
   },
   {
    "duration": 4,
    "start_time": "2021-12-12T21:52:22.328Z"
   },
   {
    "duration": 30,
    "start_time": "2021-12-12T21:52:22.334Z"
   },
   {
    "duration": 7,
    "start_time": "2021-12-12T21:52:22.366Z"
   },
   {
    "duration": 7,
    "start_time": "2021-12-12T21:52:22.374Z"
   },
   {
    "duration": 29,
    "start_time": "2021-12-12T21:52:22.383Z"
   },
   {
    "duration": 3,
    "start_time": "2021-12-12T21:52:22.413Z"
   },
   {
    "duration": 12,
    "start_time": "2021-12-12T21:52:22.417Z"
   },
   {
    "duration": 11,
    "start_time": "2021-12-12T21:52:22.430Z"
   },
   {
    "duration": 21,
    "start_time": "2021-12-12T21:52:22.442Z"
   },
   {
    "duration": 6,
    "start_time": "2021-12-12T21:52:22.464Z"
   },
   {
    "duration": 13,
    "start_time": "2021-12-12T21:52:22.472Z"
   },
   {
    "duration": 16,
    "start_time": "2021-12-12T21:52:22.486Z"
   },
   {
    "duration": 18,
    "start_time": "2021-12-12T21:52:22.504Z"
   },
   {
    "duration": 266,
    "start_time": "2021-12-12T21:52:22.524Z"
   },
   {
    "duration": 16,
    "start_time": "2021-12-12T21:52:22.792Z"
   },
   {
    "duration": 6,
    "start_time": "2021-12-12T21:52:22.810Z"
   },
   {
    "duration": 264,
    "start_time": "2021-12-12T21:52:22.819Z"
   },
   {
    "duration": 5,
    "start_time": "2021-12-12T21:52:23.085Z"
   },
   {
    "duration": 404,
    "start_time": "2021-12-12T21:52:23.092Z"
   },
   {
    "duration": 294,
    "start_time": "2021-12-12T21:52:23.498Z"
   },
   {
    "duration": 370,
    "start_time": "2021-12-12T21:52:23.794Z"
   },
   {
    "duration": 5,
    "start_time": "2021-12-12T21:52:24.165Z"
   },
   {
    "duration": 406,
    "start_time": "2021-12-12T21:52:24.171Z"
   },
   {
    "duration": 13,
    "start_time": "2021-12-12T21:52:24.578Z"
   },
   {
    "duration": 17,
    "start_time": "2021-12-12T21:52:24.592Z"
   },
   {
    "duration": 23,
    "start_time": "2021-12-12T21:52:24.611Z"
   },
   {
    "duration": 24,
    "start_time": "2021-12-12T21:52:24.636Z"
   },
   {
    "duration": 19,
    "start_time": "2021-12-12T21:52:24.661Z"
   },
   {
    "duration": 14,
    "start_time": "2021-12-12T21:52:24.682Z"
   },
   {
    "duration": 22,
    "start_time": "2021-12-12T21:52:24.698Z"
   },
   {
    "duration": 22,
    "start_time": "2021-12-12T21:52:24.721Z"
   },
   {
    "duration": 19,
    "start_time": "2021-12-12T21:52:24.745Z"
   },
   {
    "duration": 20,
    "start_time": "2021-12-12T21:52:24.766Z"
   },
   {
    "duration": 17,
    "start_time": "2021-12-12T21:52:24.788Z"
   },
   {
    "duration": 16,
    "start_time": "2021-12-12T21:52:24.806Z"
   },
   {
    "duration": 21,
    "start_time": "2021-12-12T21:52:24.823Z"
   },
   {
    "duration": 31,
    "start_time": "2021-12-12T21:52:24.845Z"
   },
   {
    "duration": 16,
    "start_time": "2021-12-12T21:52:24.878Z"
   },
   {
    "duration": 22,
    "start_time": "2021-12-12T21:52:24.895Z"
   },
   {
    "duration": 20,
    "start_time": "2021-12-12T21:52:24.919Z"
   },
   {
    "duration": 11,
    "start_time": "2021-12-12T21:52:24.940Z"
   },
   {
    "duration": 24,
    "start_time": "2021-12-12T21:52:24.953Z"
   },
   {
    "duration": 11,
    "start_time": "2021-12-12T21:52:59.454Z"
   },
   {
    "duration": 12,
    "start_time": "2021-12-12T21:53:12.309Z"
   },
   {
    "duration": 10,
    "start_time": "2021-12-12T21:53:36.884Z"
   },
   {
    "duration": 4,
    "start_time": "2021-12-12T21:54:06.286Z"
   },
   {
    "duration": 5,
    "start_time": "2021-12-12T21:54:16.168Z"
   },
   {
    "duration": 4,
    "start_time": "2021-12-12T21:54:26.078Z"
   },
   {
    "duration": 4,
    "start_time": "2021-12-12T21:54:35.762Z"
   },
   {
    "duration": 536,
    "start_time": "2021-12-12T22:12:54.036Z"
   },
   {
    "duration": 482,
    "start_time": "2021-12-12T22:13:10.706Z"
   },
   {
    "duration": 729,
    "start_time": "2021-12-12T22:13:53.834Z"
   },
   {
    "duration": 435,
    "start_time": "2021-12-12T22:14:25.998Z"
   },
   {
    "duration": 665,
    "start_time": "2021-12-12T22:15:25.786Z"
   },
   {
    "duration": 503,
    "start_time": "2021-12-12T22:15:41.079Z"
   },
   {
    "duration": 453,
    "start_time": "2021-12-12T22:15:51.892Z"
   },
   {
    "duration": 426,
    "start_time": "2021-12-12T22:15:59.177Z"
   },
   {
    "duration": 330,
    "start_time": "2021-12-12T22:16:57.740Z"
   },
   {
    "duration": 4988,
    "start_time": "2021-12-12T22:17:16.082Z"
   },
   {
    "duration": 1212,
    "start_time": "2021-12-12T22:17:31.547Z"
   },
   {
    "duration": 18,
    "start_time": "2021-12-12T22:17:32.761Z"
   },
   {
    "duration": 11,
    "start_time": "2021-12-12T22:17:32.781Z"
   },
   {
    "duration": 18,
    "start_time": "2021-12-12T22:17:32.795Z"
   },
   {
    "duration": 8,
    "start_time": "2021-12-12T22:17:32.815Z"
   },
   {
    "duration": 39,
    "start_time": "2021-12-12T22:17:32.825Z"
   },
   {
    "duration": 5,
    "start_time": "2021-12-12T22:17:32.867Z"
   },
   {
    "duration": 7,
    "start_time": "2021-12-12T22:17:32.874Z"
   },
   {
    "duration": 5,
    "start_time": "2021-12-12T22:17:32.884Z"
   },
   {
    "duration": 6,
    "start_time": "2021-12-12T22:17:32.892Z"
   },
   {
    "duration": 63,
    "start_time": "2021-12-12T22:17:32.900Z"
   },
   {
    "duration": 4,
    "start_time": "2021-12-12T22:17:32.965Z"
   },
   {
    "duration": 3427,
    "start_time": "2021-12-12T22:17:32.971Z"
   },
   {
    "duration": -35,
    "start_time": "2021-12-12T22:17:36.437Z"
   },
   {
    "duration": -40,
    "start_time": "2021-12-12T22:17:36.443Z"
   },
   {
    "duration": -42,
    "start_time": "2021-12-12T22:17:36.446Z"
   },
   {
    "duration": -44,
    "start_time": "2021-12-12T22:17:36.449Z"
   },
   {
    "duration": -45,
    "start_time": "2021-12-12T22:17:36.451Z"
   },
   {
    "duration": -47,
    "start_time": "2021-12-12T22:17:36.454Z"
   },
   {
    "duration": -51,
    "start_time": "2021-12-12T22:17:36.459Z"
   },
   {
    "duration": -54,
    "start_time": "2021-12-12T22:17:36.463Z"
   },
   {
    "duration": -55,
    "start_time": "2021-12-12T22:17:36.465Z"
   },
   {
    "duration": -57,
    "start_time": "2021-12-12T22:17:36.468Z"
   },
   {
    "duration": -58,
    "start_time": "2021-12-12T22:17:36.470Z"
   },
   {
    "duration": -63,
    "start_time": "2021-12-12T22:17:36.476Z"
   },
   {
    "duration": -65,
    "start_time": "2021-12-12T22:17:36.479Z"
   },
   {
    "duration": -67,
    "start_time": "2021-12-12T22:17:36.482Z"
   },
   {
    "duration": -68,
    "start_time": "2021-12-12T22:17:36.484Z"
   },
   {
    "duration": -70,
    "start_time": "2021-12-12T22:17:36.487Z"
   },
   {
    "duration": -83,
    "start_time": "2021-12-12T22:17:36.501Z"
   },
   {
    "duration": -84,
    "start_time": "2021-12-12T22:17:36.503Z"
   },
   {
    "duration": -95,
    "start_time": "2021-12-12T22:17:36.514Z"
   },
   {
    "duration": -97,
    "start_time": "2021-12-12T22:17:36.517Z"
   },
   {
    "duration": -99,
    "start_time": "2021-12-12T22:17:36.520Z"
   },
   {
    "duration": -102,
    "start_time": "2021-12-12T22:17:36.524Z"
   },
   {
    "duration": -105,
    "start_time": "2021-12-12T22:17:36.528Z"
   },
   {
    "duration": -106,
    "start_time": "2021-12-12T22:17:36.530Z"
   },
   {
    "duration": -108,
    "start_time": "2021-12-12T22:17:36.533Z"
   },
   {
    "duration": -110,
    "start_time": "2021-12-12T22:17:36.536Z"
   },
   {
    "duration": -113,
    "start_time": "2021-12-12T22:17:36.540Z"
   },
   {
    "duration": -116,
    "start_time": "2021-12-12T22:17:36.544Z"
   },
   {
    "duration": -117,
    "start_time": "2021-12-12T22:17:36.546Z"
   },
   {
    "duration": -119,
    "start_time": "2021-12-12T22:17:36.549Z"
   },
   {
    "duration": -119,
    "start_time": "2021-12-12T22:17:36.551Z"
   },
   {
    "duration": -124,
    "start_time": "2021-12-12T22:17:36.557Z"
   },
   {
    "duration": -128,
    "start_time": "2021-12-12T22:17:36.562Z"
   },
   {
    "duration": -130,
    "start_time": "2021-12-12T22:17:36.565Z"
   },
   {
    "duration": 3503,
    "start_time": "2021-12-12T22:19:43.851Z"
   },
   {
    "duration": 1222,
    "start_time": "2021-12-12T22:20:04.735Z"
   },
   {
    "duration": 15,
    "start_time": "2021-12-12T22:20:05.959Z"
   },
   {
    "duration": 14,
    "start_time": "2021-12-12T22:20:05.976Z"
   },
   {
    "duration": 16,
    "start_time": "2021-12-12T22:20:05.991Z"
   },
   {
    "duration": 6,
    "start_time": "2021-12-12T22:20:06.009Z"
   },
   {
    "duration": 14,
    "start_time": "2021-12-12T22:20:06.016Z"
   },
   {
    "duration": 32,
    "start_time": "2021-12-12T22:20:06.032Z"
   },
   {
    "duration": 5,
    "start_time": "2021-12-12T22:20:06.066Z"
   },
   {
    "duration": 11,
    "start_time": "2021-12-12T22:20:06.072Z"
   },
   {
    "duration": 7,
    "start_time": "2021-12-12T22:20:06.084Z"
   },
   {
    "duration": 29,
    "start_time": "2021-12-12T22:20:06.092Z"
   },
   {
    "duration": 3,
    "start_time": "2021-12-12T22:20:06.122Z"
   },
   {
    "duration": 366,
    "start_time": "2021-12-12T22:20:06.127Z"
   },
   {
    "duration": -21,
    "start_time": "2021-12-12T22:20:06.520Z"
   },
   {
    "duration": -23,
    "start_time": "2021-12-12T22:20:06.523Z"
   },
   {
    "duration": -26,
    "start_time": "2021-12-12T22:20:06.528Z"
   },
   {
    "duration": -28,
    "start_time": "2021-12-12T22:20:06.531Z"
   },
   {
    "duration": -30,
    "start_time": "2021-12-12T22:20:06.534Z"
   },
   {
    "duration": -32,
    "start_time": "2021-12-12T22:20:06.537Z"
   },
   {
    "duration": -75,
    "start_time": "2021-12-12T22:20:06.581Z"
   },
   {
    "duration": -76,
    "start_time": "2021-12-12T22:20:06.584Z"
   },
   {
    "duration": -78,
    "start_time": "2021-12-12T22:20:06.587Z"
   },
   {
    "duration": -79,
    "start_time": "2021-12-12T22:20:06.589Z"
   },
   {
    "duration": -84,
    "start_time": "2021-12-12T22:20:06.595Z"
   },
   {
    "duration": -86,
    "start_time": "2021-12-12T22:20:06.598Z"
   },
   {
    "duration": -88,
    "start_time": "2021-12-12T22:20:06.601Z"
   },
   {
    "duration": -89,
    "start_time": "2021-12-12T22:20:06.603Z"
   },
   {
    "duration": -91,
    "start_time": "2021-12-12T22:20:06.607Z"
   },
   {
    "duration": -94,
    "start_time": "2021-12-12T22:20:06.611Z"
   },
   {
    "duration": -98,
    "start_time": "2021-12-12T22:20:06.616Z"
   },
   {
    "duration": -99,
    "start_time": "2021-12-12T22:20:06.618Z"
   },
   {
    "duration": -101,
    "start_time": "2021-12-12T22:20:06.621Z"
   },
   {
    "duration": -103,
    "start_time": "2021-12-12T22:20:06.624Z"
   },
   {
    "duration": -157,
    "start_time": "2021-12-12T22:20:06.679Z"
   },
   {
    "duration": -169,
    "start_time": "2021-12-12T22:20:06.693Z"
   },
   {
    "duration": -172,
    "start_time": "2021-12-12T22:20:06.697Z"
   },
   {
    "duration": -173,
    "start_time": "2021-12-12T22:20:06.699Z"
   },
   {
    "duration": -175,
    "start_time": "2021-12-12T22:20:06.702Z"
   },
   {
    "duration": -176,
    "start_time": "2021-12-12T22:20:06.704Z"
   },
   {
    "duration": -180,
    "start_time": "2021-12-12T22:20:06.709Z"
   },
   {
    "duration": -183,
    "start_time": "2021-12-12T22:20:06.713Z"
   },
   {
    "duration": -184,
    "start_time": "2021-12-12T22:20:06.716Z"
   },
   {
    "duration": -185,
    "start_time": "2021-12-12T22:20:06.718Z"
   },
   {
    "duration": -187,
    "start_time": "2021-12-12T22:20:06.721Z"
   },
   {
    "duration": -164,
    "start_time": "2021-12-12T22:20:06.727Z"
   },
   {
    "duration": -166,
    "start_time": "2021-12-12T22:20:06.731Z"
   },
   {
    "duration": -167,
    "start_time": "2021-12-12T22:20:06.733Z"
   },
   {
    "duration": 1227,
    "start_time": "2021-12-12T22:20:39.627Z"
   },
   {
    "duration": 14,
    "start_time": "2021-12-12T22:20:40.856Z"
   },
   {
    "duration": 12,
    "start_time": "2021-12-12T22:20:40.872Z"
   },
   {
    "duration": 16,
    "start_time": "2021-12-12T22:20:40.885Z"
   },
   {
    "duration": 6,
    "start_time": "2021-12-12T22:20:40.902Z"
   },
   {
    "duration": 10,
    "start_time": "2021-12-12T22:20:40.910Z"
   },
   {
    "duration": 4,
    "start_time": "2021-12-12T22:20:40.922Z"
   },
   {
    "duration": 38,
    "start_time": "2021-12-12T22:20:40.929Z"
   },
   {
    "duration": 7,
    "start_time": "2021-12-12T22:20:40.969Z"
   },
   {
    "duration": 7,
    "start_time": "2021-12-12T22:20:40.977Z"
   },
   {
    "duration": 43,
    "start_time": "2021-12-12T22:20:40.985Z"
   },
   {
    "duration": 3,
    "start_time": "2021-12-12T22:20:41.030Z"
   },
   {
    "duration": 29,
    "start_time": "2021-12-12T22:20:41.035Z"
   },
   {
    "duration": 345,
    "start_time": "2021-12-12T22:20:41.067Z"
   },
   {
    "duration": -10,
    "start_time": "2021-12-12T22:20:41.428Z"
   },
   {
    "duration": -13,
    "start_time": "2021-12-12T22:20:41.432Z"
   },
   {
    "duration": -14,
    "start_time": "2021-12-12T22:20:41.435Z"
   },
   {
    "duration": -28,
    "start_time": "2021-12-12T22:20:41.450Z"
   },
   {
    "duration": -61,
    "start_time": "2021-12-12T22:20:41.485Z"
   },
   {
    "duration": -62,
    "start_time": "2021-12-12T22:20:41.487Z"
   },
   {
    "duration": -63,
    "start_time": "2021-12-12T22:20:41.490Z"
   },
   {
    "duration": -68,
    "start_time": "2021-12-12T22:20:41.496Z"
   },
   {
    "duration": -76,
    "start_time": "2021-12-12T22:20:41.505Z"
   },
   {
    "duration": -78,
    "start_time": "2021-12-12T22:20:41.508Z"
   },
   {
    "duration": -81,
    "start_time": "2021-12-12T22:20:41.512Z"
   },
   {
    "duration": -85,
    "start_time": "2021-12-12T22:20:41.517Z"
   },
   {
    "duration": -86,
    "start_time": "2021-12-12T22:20:41.519Z"
   },
   {
    "duration": -88,
    "start_time": "2021-12-12T22:20:41.522Z"
   },
   {
    "duration": -89,
    "start_time": "2021-12-12T22:20:41.524Z"
   },
   {
    "duration": -99,
    "start_time": "2021-12-12T22:20:41.535Z"
   },
   {
    "duration": -101,
    "start_time": "2021-12-12T22:20:41.538Z"
   },
   {
    "duration": -136,
    "start_time": "2021-12-12T22:20:41.573Z"
   },
   {
    "duration": -156,
    "start_time": "2021-12-12T22:20:41.594Z"
   },
   {
    "duration": -159,
    "start_time": "2021-12-12T22:20:41.598Z"
   },
   {
    "duration": -160,
    "start_time": "2021-12-12T22:20:41.600Z"
   },
   {
    "duration": -162,
    "start_time": "2021-12-12T22:20:41.603Z"
   },
   {
    "duration": -163,
    "start_time": "2021-12-12T22:20:41.605Z"
   },
   {
    "duration": -165,
    "start_time": "2021-12-12T22:20:41.608Z"
   },
   {
    "duration": -168,
    "start_time": "2021-12-12T22:20:41.612Z"
   },
   {
    "duration": -173,
    "start_time": "2021-12-12T22:20:41.617Z"
   },
   {
    "duration": -174,
    "start_time": "2021-12-12T22:20:41.619Z"
   },
   {
    "duration": -176,
    "start_time": "2021-12-12T22:20:41.622Z"
   },
   {
    "duration": -178,
    "start_time": "2021-12-12T22:20:41.625Z"
   },
   {
    "duration": -182,
    "start_time": "2021-12-12T22:20:41.630Z"
   },
   {
    "duration": -184,
    "start_time": "2021-12-12T22:20:41.633Z"
   },
   {
    "duration": -213,
    "start_time": "2021-12-12T22:20:41.663Z"
   },
   {
    "duration": -204,
    "start_time": "2021-12-12T22:20:41.666Z"
   },
   {
    "duration": -206,
    "start_time": "2021-12-12T22:20:41.669Z"
   },
   {
    "duration": 1261,
    "start_time": "2021-12-12T22:24:14.169Z"
   },
   {
    "duration": 15,
    "start_time": "2021-12-12T22:24:15.432Z"
   },
   {
    "duration": 11,
    "start_time": "2021-12-12T22:24:15.449Z"
   },
   {
    "duration": 14,
    "start_time": "2021-12-12T22:24:15.463Z"
   },
   {
    "duration": 6,
    "start_time": "2021-12-12T22:24:15.478Z"
   },
   {
    "duration": 10,
    "start_time": "2021-12-12T22:24:15.486Z"
   },
   {
    "duration": 5,
    "start_time": "2021-12-12T22:24:15.498Z"
   },
   {
    "duration": 8,
    "start_time": "2021-12-12T22:24:15.505Z"
   },
   {
    "duration": 6,
    "start_time": "2021-12-12T22:24:15.516Z"
   },
   {
    "duration": 38,
    "start_time": "2021-12-12T22:24:15.525Z"
   },
   {
    "duration": 30,
    "start_time": "2021-12-12T22:24:15.565Z"
   },
   {
    "duration": 3,
    "start_time": "2021-12-12T22:24:15.597Z"
   },
   {
    "duration": 6088,
    "start_time": "2021-12-12T22:24:15.601Z"
   },
   {
    "duration": -163,
    "start_time": "2021-12-12T22:24:21.856Z"
   },
   {
    "duration": -167,
    "start_time": "2021-12-12T22:24:21.861Z"
   },
   {
    "duration": -169,
    "start_time": "2021-12-12T22:24:21.864Z"
   },
   {
    "duration": -170,
    "start_time": "2021-12-12T22:24:21.866Z"
   },
   {
    "duration": -175,
    "start_time": "2021-12-12T22:24:21.872Z"
   },
   {
    "duration": -179,
    "start_time": "2021-12-12T22:24:21.876Z"
   },
   {
    "duration": -181,
    "start_time": "2021-12-12T22:24:21.879Z"
   },
   {
    "duration": -183,
    "start_time": "2021-12-12T22:24:21.882Z"
   },
   {
    "duration": -187,
    "start_time": "2021-12-12T22:24:21.887Z"
   },
   {
    "duration": -190,
    "start_time": "2021-12-12T22:24:21.891Z"
   },
   {
    "duration": -192,
    "start_time": "2021-12-12T22:24:21.893Z"
   },
   {
    "duration": -201,
    "start_time": "2021-12-12T22:24:21.903Z"
   },
   {
    "duration": -204,
    "start_time": "2021-12-12T22:24:21.907Z"
   },
   {
    "duration": -206,
    "start_time": "2021-12-12T22:24:21.910Z"
   },
   {
    "duration": -209,
    "start_time": "2021-12-12T22:24:21.913Z"
   },
   {
    "duration": -211,
    "start_time": "2021-12-12T22:24:21.916Z"
   },
   {
    "duration": -215,
    "start_time": "2021-12-12T22:24:21.921Z"
   },
   {
    "duration": -218,
    "start_time": "2021-12-12T22:24:21.925Z"
   },
   {
    "duration": -221,
    "start_time": "2021-12-12T22:24:21.928Z"
   },
   {
    "duration": -223,
    "start_time": "2021-12-12T22:24:21.931Z"
   },
   {
    "duration": -228,
    "start_time": "2021-12-12T22:24:21.937Z"
   },
   {
    "duration": -232,
    "start_time": "2021-12-12T22:24:21.942Z"
   },
   {
    "duration": -234,
    "start_time": "2021-12-12T22:24:21.945Z"
   },
   {
    "duration": -236,
    "start_time": "2021-12-12T22:24:21.948Z"
   },
   {
    "duration": -239,
    "start_time": "2021-12-12T22:24:21.952Z"
   },
   {
    "duration": -255,
    "start_time": "2021-12-12T22:24:21.968Z"
   },
   {
    "duration": -260,
    "start_time": "2021-12-12T22:24:21.974Z"
   },
   {
    "duration": -262,
    "start_time": "2021-12-12T22:24:21.977Z"
   },
   {
    "duration": -264,
    "start_time": "2021-12-12T22:24:21.980Z"
   },
   {
    "duration": -265,
    "start_time": "2021-12-12T22:24:21.982Z"
   },
   {
    "duration": -271,
    "start_time": "2021-12-12T22:24:21.989Z"
   },
   {
    "duration": -273,
    "start_time": "2021-12-12T22:24:21.992Z"
   },
   {
    "duration": -275,
    "start_time": "2021-12-12T22:24:21.995Z"
   },
   {
    "duration": -277,
    "start_time": "2021-12-12T22:24:21.998Z"
   },
   {
    "duration": -281,
    "start_time": "2021-12-12T22:24:22.003Z"
   },
   {
    "duration": 1332,
    "start_time": "2021-12-12T22:24:57.229Z"
   },
   {
    "duration": 19,
    "start_time": "2021-12-12T22:24:58.563Z"
   },
   {
    "duration": 10,
    "start_time": "2021-12-12T22:24:58.584Z"
   },
   {
    "duration": 23,
    "start_time": "2021-12-12T22:24:58.597Z"
   },
   {
    "duration": 8,
    "start_time": "2021-12-12T22:24:58.622Z"
   },
   {
    "duration": 38,
    "start_time": "2021-12-12T22:24:58.632Z"
   },
   {
    "duration": 6,
    "start_time": "2021-12-12T22:24:58.672Z"
   },
   {
    "duration": 6,
    "start_time": "2021-12-12T22:24:58.681Z"
   },
   {
    "duration": 6,
    "start_time": "2021-12-12T22:24:58.689Z"
   },
   {
    "duration": 6,
    "start_time": "2021-12-12T22:24:58.697Z"
   },
   {
    "duration": 79,
    "start_time": "2021-12-12T22:24:58.705Z"
   },
   {
    "duration": 3,
    "start_time": "2021-12-12T22:24:58.786Z"
   },
   {
    "duration": 13,
    "start_time": "2021-12-12T22:24:58.791Z"
   },
   {
    "duration": 4,
    "start_time": "2021-12-12T22:24:58.806Z"
   },
   {
    "duration": 7,
    "start_time": "2021-12-12T22:24:58.811Z"
   },
   {
    "duration": 8,
    "start_time": "2021-12-12T22:24:58.819Z"
   },
   {
    "duration": 9,
    "start_time": "2021-12-12T22:24:58.829Z"
   },
   {
    "duration": 26,
    "start_time": "2021-12-12T22:24:58.840Z"
   },
   {
    "duration": 19,
    "start_time": "2021-12-12T22:24:58.868Z"
   },
   {
    "duration": 20,
    "start_time": "2021-12-12T22:24:58.889Z"
   },
   {
    "duration": 362,
    "start_time": "2021-12-12T22:24:58.911Z"
   },
   {
    "duration": 25,
    "start_time": "2021-12-12T22:24:59.275Z"
   },
   {
    "duration": 8,
    "start_time": "2021-12-12T22:24:59.304Z"
   },
   {
    "duration": 348,
    "start_time": "2021-12-12T22:24:59.315Z"
   },
   {
    "duration": 8,
    "start_time": "2021-12-12T22:24:59.665Z"
   },
   {
    "duration": 798,
    "start_time": "2021-12-12T22:24:59.675Z"
   },
   {
    "duration": 670,
    "start_time": "2021-12-12T22:25:00.475Z"
   },
   {
    "duration": 802,
    "start_time": "2021-12-12T22:25:01.147Z"
   },
   {
    "duration": 13,
    "start_time": "2021-12-12T22:25:01.952Z"
   },
   {
    "duration": 755,
    "start_time": "2021-12-12T22:25:01.967Z"
   },
   {
    "duration": 20,
    "start_time": "2021-12-12T22:25:02.725Z"
   },
   {
    "duration": 21,
    "start_time": "2021-12-12T22:25:02.747Z"
   },
   {
    "duration": 17,
    "start_time": "2021-12-12T22:25:02.770Z"
   },
   {
    "duration": 15,
    "start_time": "2021-12-12T22:25:02.788Z"
   },
   {
    "duration": 17,
    "start_time": "2021-12-12T22:25:02.805Z"
   },
   {
    "duration": 42,
    "start_time": "2021-12-12T22:25:02.824Z"
   },
   {
    "duration": 5,
    "start_time": "2021-12-12T22:25:02.868Z"
   },
   {
    "duration": 17,
    "start_time": "2021-12-12T22:25:02.874Z"
   },
   {
    "duration": 12,
    "start_time": "2021-12-12T22:25:02.892Z"
   },
   {
    "duration": 15,
    "start_time": "2021-12-12T22:25:02.906Z"
   },
   {
    "duration": 49,
    "start_time": "2021-12-12T22:25:02.923Z"
   },
   {
    "duration": 5,
    "start_time": "2021-12-12T22:25:02.973Z"
   },
   {
    "duration": 18,
    "start_time": "2021-12-12T22:25:02.979Z"
   },
   {
    "duration": 13,
    "start_time": "2021-12-12T22:25:02.998Z"
   },
   {
    "duration": 14,
    "start_time": "2021-12-12T22:25:03.013Z"
   },
   {
    "duration": 41,
    "start_time": "2021-12-12T22:25:03.029Z"
   },
   {
    "duration": 9,
    "start_time": "2021-12-12T22:25:03.071Z"
   },
   {
    "duration": 12,
    "start_time": "2021-12-12T22:25:03.081Z"
   },
   {
    "duration": 11,
    "start_time": "2021-12-12T22:27:08.718Z"
   },
   {
    "duration": 11,
    "start_time": "2021-12-12T22:27:48.965Z"
   },
   {
    "duration": 10,
    "start_time": "2021-12-12T22:30:00.926Z"
   },
   {
    "duration": 327,
    "start_time": "2021-12-12T22:30:23.178Z"
   },
   {
    "duration": 11,
    "start_time": "2021-12-12T22:30:34.913Z"
   },
   {
    "duration": 11,
    "start_time": "2021-12-12T22:31:27.616Z"
   },
   {
    "duration": 13,
    "start_time": "2021-12-12T22:31:44.780Z"
   },
   {
    "duration": 517,
    "start_time": "2021-12-12T22:31:58.586Z"
   },
   {
    "duration": 11,
    "start_time": "2021-12-12T22:32:09.006Z"
   },
   {
    "duration": 244,
    "start_time": "2021-12-12T22:43:38.150Z"
   },
   {
    "duration": 558,
    "start_time": "2021-12-12T22:43:59.328Z"
   },
   {
    "duration": 248,
    "start_time": "2021-12-12T22:45:16.651Z"
   },
   {
    "duration": 321,
    "start_time": "2021-12-12T22:45:47.251Z"
   },
   {
    "duration": 262,
    "start_time": "2021-12-12T22:46:04.030Z"
   },
   {
    "duration": 334,
    "start_time": "2021-12-13T17:19:06.795Z"
   },
   {
    "duration": 1564,
    "start_time": "2021-12-13T17:19:15.987Z"
   },
   {
    "duration": 23,
    "start_time": "2021-12-13T17:19:17.554Z"
   },
   {
    "duration": 15,
    "start_time": "2021-12-13T17:19:17.580Z"
   },
   {
    "duration": 25,
    "start_time": "2021-12-13T17:19:17.618Z"
   },
   {
    "duration": 9,
    "start_time": "2021-12-13T17:19:17.645Z"
   },
   {
    "duration": 14,
    "start_time": "2021-12-13T17:19:17.657Z"
   },
   {
    "duration": 6,
    "start_time": "2021-12-13T17:19:17.673Z"
   },
   {
    "duration": 39,
    "start_time": "2021-12-13T17:19:17.682Z"
   },
   {
    "duration": 10,
    "start_time": "2021-12-13T17:19:17.724Z"
   },
   {
    "duration": 8,
    "start_time": "2021-12-13T17:19:17.736Z"
   },
   {
    "duration": 74,
    "start_time": "2021-12-13T17:19:17.746Z"
   },
   {
    "duration": 4,
    "start_time": "2021-12-13T17:19:17.822Z"
   },
   {
    "duration": 15,
    "start_time": "2021-12-13T17:19:17.828Z"
   },
   {
    "duration": 6,
    "start_time": "2021-12-13T17:19:17.845Z"
   },
   {
    "duration": 7,
    "start_time": "2021-12-13T17:19:17.854Z"
   },
   {
    "duration": 10,
    "start_time": "2021-12-13T17:19:17.863Z"
   },
   {
    "duration": 46,
    "start_time": "2021-12-13T17:19:17.875Z"
   },
   {
    "duration": 6,
    "start_time": "2021-12-13T17:19:17.923Z"
   },
   {
    "duration": 17,
    "start_time": "2021-12-13T17:19:17.932Z"
   },
   {
    "duration": 32,
    "start_time": "2021-12-13T17:19:17.951Z"
   },
   {
    "duration": 498,
    "start_time": "2021-12-13T17:19:17.986Z"
   },
   {
    "duration": 38,
    "start_time": "2021-12-13T17:19:18.486Z"
   },
   {
    "duration": 8,
    "start_time": "2021-12-13T17:19:18.529Z"
   },
   {
    "duration": 447,
    "start_time": "2021-12-13T17:19:18.540Z"
   },
   {
    "duration": 8,
    "start_time": "2021-12-13T17:19:18.989Z"
   },
   {
    "duration": 935,
    "start_time": "2021-12-13T17:19:18.999Z"
   },
   {
    "duration": 896,
    "start_time": "2021-12-13T17:19:19.937Z"
   },
   {
    "duration": 871,
    "start_time": "2021-12-13T17:19:20.835Z"
   },
   {
    "duration": 11,
    "start_time": "2021-12-13T17:19:21.708Z"
   },
   {
    "duration": 390,
    "start_time": "2021-12-13T17:19:21.722Z"
   },
   {
    "duration": -1242,
    "start_time": "2021-12-13T17:19:23.357Z"
   },
   {
    "duration": -1243,
    "start_time": "2021-12-13T17:19:23.360Z"
   },
   {
    "duration": -1244,
    "start_time": "2021-12-13T17:19:23.363Z"
   },
   {
    "duration": -1253,
    "start_time": "2021-12-13T17:19:23.375Z"
   },
   {
    "duration": -1254,
    "start_time": "2021-12-13T17:19:23.378Z"
   },
   {
    "duration": -1258,
    "start_time": "2021-12-13T17:19:23.384Z"
   },
   {
    "duration": -1259,
    "start_time": "2021-12-13T17:19:23.387Z"
   },
   {
    "duration": -1260,
    "start_time": "2021-12-13T17:19:23.390Z"
   },
   {
    "duration": -1260,
    "start_time": "2021-12-13T17:19:23.393Z"
   },
   {
    "duration": -1261,
    "start_time": "2021-12-13T17:19:23.396Z"
   },
   {
    "duration": -1265,
    "start_time": "2021-12-13T17:19:23.402Z"
   },
   {
    "duration": -1267,
    "start_time": "2021-12-13T17:19:23.406Z"
   },
   {
    "duration": -1268,
    "start_time": "2021-12-13T17:19:23.409Z"
   },
   {
    "duration": -1270,
    "start_time": "2021-12-13T17:19:23.413Z"
   },
   {
    "duration": -1279,
    "start_time": "2021-12-13T17:19:23.425Z"
   },
   {
    "duration": -1293,
    "start_time": "2021-12-13T17:19:23.441Z"
   },
   {
    "duration": -1294,
    "start_time": "2021-12-13T17:19:23.444Z"
   },
   {
    "duration": -1297,
    "start_time": "2021-12-13T17:19:23.449Z"
   },
   {
    "duration": -1299,
    "start_time": "2021-12-13T17:19:23.453Z"
   },
   {
    "duration": 8,
    "start_time": "2021-12-13T17:19:52.147Z"
   },
   {
    "duration": 14,
    "start_time": "2021-12-13T17:22:45.853Z"
   },
   {
    "duration": 16,
    "start_time": "2021-12-13T17:23:10.080Z"
   },
   {
    "duration": 789,
    "start_time": "2021-12-13T17:25:02.680Z"
   },
   {
    "duration": 88,
    "start_time": "2021-12-13T17:26:38.336Z"
   },
   {
    "duration": 260,
    "start_time": "2021-12-13T17:26:45.145Z"
   },
   {
    "duration": 273,
    "start_time": "2021-12-13T17:26:51.475Z"
   },
   {
    "duration": 15,
    "start_time": "2021-12-13T17:27:34.101Z"
   },
   {
    "duration": 9,
    "start_time": "2021-12-13T17:33:58.302Z"
   },
   {
    "duration": 447,
    "start_time": "2021-12-13T17:38:24.259Z"
   },
   {
    "duration": 258,
    "start_time": "2021-12-13T17:38:41.318Z"
   },
   {
    "duration": 16,
    "start_time": "2021-12-13T17:38:48.902Z"
   },
   {
    "duration": 11,
    "start_time": "2021-12-13T17:39:06.939Z"
   },
   {
    "duration": 21,
    "start_time": "2021-12-13T17:39:54.704Z"
   },
   {
    "duration": 33,
    "start_time": "2021-12-13T17:53:25.803Z"
   },
   {
    "duration": 25,
    "start_time": "2021-12-13T17:53:37.992Z"
   },
   {
    "duration": 263,
    "start_time": "2021-12-13T17:54:01.044Z"
   },
   {
    "duration": 12,
    "start_time": "2021-12-13T17:54:16.199Z"
   },
   {
    "duration": 1567,
    "start_time": "2021-12-13T17:57:46.188Z"
   },
   {
    "duration": 27,
    "start_time": "2021-12-13T17:57:47.758Z"
   },
   {
    "duration": 14,
    "start_time": "2021-12-13T17:57:47.789Z"
   },
   {
    "duration": 23,
    "start_time": "2021-12-13T17:57:47.818Z"
   },
   {
    "duration": 9,
    "start_time": "2021-12-13T17:57:47.844Z"
   },
   {
    "duration": 15,
    "start_time": "2021-12-13T17:57:47.856Z"
   },
   {
    "duration": 44,
    "start_time": "2021-12-13T17:57:47.874Z"
   },
   {
    "duration": 7,
    "start_time": "2021-12-13T17:57:47.922Z"
   },
   {
    "duration": 8,
    "start_time": "2021-12-13T17:57:47.932Z"
   },
   {
    "duration": 9,
    "start_time": "2021-12-13T17:57:47.943Z"
   },
   {
    "duration": 99,
    "start_time": "2021-12-13T17:57:47.954Z"
   },
   {
    "duration": 5,
    "start_time": "2021-12-13T17:57:48.056Z"
   },
   {
    "duration": 26,
    "start_time": "2021-12-13T17:57:48.064Z"
   },
   {
    "duration": 5,
    "start_time": "2021-12-13T17:57:48.093Z"
   },
   {
    "duration": 20,
    "start_time": "2021-12-13T17:57:48.100Z"
   },
   {
    "duration": 11,
    "start_time": "2021-12-13T17:57:48.123Z"
   },
   {
    "duration": 6,
    "start_time": "2021-12-13T17:57:48.137Z"
   },
   {
    "duration": 6,
    "start_time": "2021-12-13T17:57:48.146Z"
   },
   {
    "duration": 16,
    "start_time": "2021-12-13T17:57:48.155Z"
   },
   {
    "duration": 71,
    "start_time": "2021-12-13T17:57:48.174Z"
   },
   {
    "duration": 477,
    "start_time": "2021-12-13T17:57:48.247Z"
   },
   {
    "duration": 11,
    "start_time": "2021-12-13T17:57:48.726Z"
   },
   {
    "duration": 8,
    "start_time": "2021-12-13T17:57:48.742Z"
   },
   {
    "duration": 473,
    "start_time": "2021-12-13T17:57:48.754Z"
   },
   {
    "duration": 7,
    "start_time": "2021-12-13T17:57:49.229Z"
   },
   {
    "duration": 937,
    "start_time": "2021-12-13T17:57:49.239Z"
   },
   {
    "duration": 818,
    "start_time": "2021-12-13T17:57:50.178Z"
   },
   {
    "duration": 926,
    "start_time": "2021-12-13T17:57:50.999Z"
   },
   {
    "duration": 7,
    "start_time": "2021-12-13T17:57:51.928Z"
   },
   {
    "duration": 23,
    "start_time": "2021-12-13T17:57:51.938Z"
   },
   {
    "duration": 16,
    "start_time": "2021-12-13T17:57:51.965Z"
   },
   {
    "duration": 10,
    "start_time": "2021-12-13T17:57:52.016Z"
   },
   {
    "duration": 9,
    "start_time": "2021-12-13T17:57:52.029Z"
   },
   {
    "duration": 24,
    "start_time": "2021-12-13T17:57:52.041Z"
   },
   {
    "duration": 58,
    "start_time": "2021-12-13T17:57:52.068Z"
   },
   {
    "duration": 30,
    "start_time": "2021-12-13T17:57:52.128Z"
   },
   {
    "duration": 19,
    "start_time": "2021-12-13T17:57:52.161Z"
   },
   {
    "duration": 37,
    "start_time": "2021-12-13T17:57:52.183Z"
   },
   {
    "duration": 22,
    "start_time": "2021-12-13T17:57:52.223Z"
   },
   {
    "duration": 22,
    "start_time": "2021-12-13T17:57:52.248Z"
   },
   {
    "duration": 56,
    "start_time": "2021-12-13T17:57:52.273Z"
   },
   {
    "duration": 28,
    "start_time": "2021-12-13T17:57:52.333Z"
   },
   {
    "duration": 10,
    "start_time": "2021-12-13T17:57:52.364Z"
   },
   {
    "duration": 52,
    "start_time": "2021-12-13T17:57:52.377Z"
   },
   {
    "duration": 21,
    "start_time": "2021-12-13T17:57:52.432Z"
   },
   {
    "duration": 15,
    "start_time": "2021-12-13T17:57:52.456Z"
   },
   {
    "duration": 55,
    "start_time": "2021-12-13T17:57:52.474Z"
   },
   {
    "duration": 17,
    "start_time": "2021-12-13T17:57:52.532Z"
   },
   {
    "duration": 23,
    "start_time": "2021-12-13T17:57:52.551Z"
   },
   {
    "duration": 52,
    "start_time": "2021-12-13T18:20:25.136Z"
   },
   {
    "duration": 385,
    "start_time": "2021-12-13T18:23:39.727Z"
   },
   {
    "duration": 17,
    "start_time": "2021-12-13T18:23:59.234Z"
   },
   {
    "duration": 16,
    "start_time": "2021-12-13T18:24:08.441Z"
   },
   {
    "duration": 18,
    "start_time": "2021-12-13T18:26:37.194Z"
   },
   {
    "duration": 1551,
    "start_time": "2021-12-13T18:32:42.582Z"
   },
   {
    "duration": 24,
    "start_time": "2021-12-13T18:32:44.135Z"
   },
   {
    "duration": 15,
    "start_time": "2021-12-13T18:32:44.162Z"
   },
   {
    "duration": 52,
    "start_time": "2021-12-13T18:32:44.180Z"
   },
   {
    "duration": 10,
    "start_time": "2021-12-13T18:32:44.235Z"
   },
   {
    "duration": 19,
    "start_time": "2021-12-13T18:32:44.248Z"
   },
   {
    "duration": 12,
    "start_time": "2021-12-13T18:32:44.270Z"
   },
   {
    "duration": 37,
    "start_time": "2021-12-13T18:32:44.286Z"
   },
   {
    "duration": 6,
    "start_time": "2021-12-13T18:32:44.326Z"
   },
   {
    "duration": 7,
    "start_time": "2021-12-13T18:32:44.335Z"
   },
   {
    "duration": 75,
    "start_time": "2021-12-13T18:32:44.344Z"
   },
   {
    "duration": 4,
    "start_time": "2021-12-13T18:32:44.422Z"
   },
   {
    "duration": 14,
    "start_time": "2021-12-13T18:32:44.428Z"
   },
   {
    "duration": 5,
    "start_time": "2021-12-13T18:32:44.445Z"
   },
   {
    "duration": 7,
    "start_time": "2021-12-13T18:32:44.452Z"
   },
   {
    "duration": 9,
    "start_time": "2021-12-13T18:32:44.461Z"
   },
   {
    "duration": 46,
    "start_time": "2021-12-13T18:32:44.472Z"
   },
   {
    "duration": 7021,
    "start_time": "2021-12-13T18:32:44.521Z"
   },
   {
    "duration": -1270,
    "start_time": "2021-12-13T18:32:52.817Z"
   },
   {
    "duration": -1282,
    "start_time": "2021-12-13T18:32:52.830Z"
   },
   {
    "duration": -1284,
    "start_time": "2021-12-13T18:32:52.834Z"
   },
   {
    "duration": -1285,
    "start_time": "2021-12-13T18:32:52.836Z"
   },
   {
    "duration": -1288,
    "start_time": "2021-12-13T18:32:52.840Z"
   },
   {
    "duration": -1288,
    "start_time": "2021-12-13T18:32:52.842Z"
   },
   {
    "duration": -1292,
    "start_time": "2021-12-13T18:32:52.847Z"
   },
   {
    "duration": -1323,
    "start_time": "2021-12-13T18:32:52.880Z"
   },
   {
    "duration": -1325,
    "start_time": "2021-12-13T18:32:52.884Z"
   },
   {
    "duration": -1326,
    "start_time": "2021-12-13T18:32:52.887Z"
   },
   {
    "duration": -1334,
    "start_time": "2021-12-13T18:32:52.897Z"
   },
   {
    "duration": -1334,
    "start_time": "2021-12-13T18:32:52.899Z"
   },
   {
    "duration": -1336,
    "start_time": "2021-12-13T18:32:52.903Z"
   },
   {
    "duration": -1337,
    "start_time": "2021-12-13T18:32:52.906Z"
   },
   {
    "duration": -1338,
    "start_time": "2021-12-13T18:32:52.909Z"
   },
   {
    "duration": -1341,
    "start_time": "2021-12-13T18:32:52.914Z"
   },
   {
    "duration": -1343,
    "start_time": "2021-12-13T18:32:52.918Z"
   },
   {
    "duration": -1343,
    "start_time": "2021-12-13T18:32:52.921Z"
   },
   {
    "duration": -1352,
    "start_time": "2021-12-13T18:32:52.931Z"
   },
   {
    "duration": -1425,
    "start_time": "2021-12-13T18:32:53.006Z"
   },
   {
    "duration": -1425,
    "start_time": "2021-12-13T18:32:53.009Z"
   },
   {
    "duration": -1397,
    "start_time": "2021-12-13T18:32:53.014Z"
   },
   {
    "duration": -1398,
    "start_time": "2021-12-13T18:32:53.017Z"
   },
   {
    "duration": -1399,
    "start_time": "2021-12-13T18:32:53.020Z"
   },
   {
    "duration": -1402,
    "start_time": "2021-12-13T18:32:53.025Z"
   },
   {
    "duration": -1406,
    "start_time": "2021-12-13T18:32:53.031Z"
   },
   {
    "duration": -1406,
    "start_time": "2021-12-13T18:32:53.034Z"
   },
   {
    "duration": -1408,
    "start_time": "2021-12-13T18:32:53.038Z"
   },
   {
    "duration": -1409,
    "start_time": "2021-12-13T18:32:53.041Z"
   },
   {
    "duration": -1412,
    "start_time": "2021-12-13T18:32:53.046Z"
   },
   {
    "duration": -1413,
    "start_time": "2021-12-13T18:32:53.049Z"
   },
   {
    "duration": -1414,
    "start_time": "2021-12-13T18:32:53.052Z"
   },
   {
    "duration": -1427,
    "start_time": "2021-12-13T18:32:53.066Z"
   },
   {
    "duration": -1427,
    "start_time": "2021-12-13T18:32:53.068Z"
   },
   {
    "duration": 1489,
    "start_time": "2021-12-13T18:33:34.469Z"
   },
   {
    "duration": 25,
    "start_time": "2021-12-13T18:33:35.961Z"
   },
   {
    "duration": 28,
    "start_time": "2021-12-13T18:33:35.990Z"
   },
   {
    "duration": 25,
    "start_time": "2021-12-13T18:33:36.021Z"
   },
   {
    "duration": 10,
    "start_time": "2021-12-13T18:33:36.050Z"
   },
   {
    "duration": 16,
    "start_time": "2021-12-13T18:33:36.063Z"
   },
   {
    "duration": 41,
    "start_time": "2021-12-13T18:33:36.081Z"
   },
   {
    "duration": 18,
    "start_time": "2021-12-13T18:33:36.126Z"
   },
   {
    "duration": 22,
    "start_time": "2021-12-13T18:33:36.147Z"
   },
   {
    "duration": 21,
    "start_time": "2021-12-13T18:33:36.171Z"
   },
   {
    "duration": 54,
    "start_time": "2021-12-13T18:33:36.194Z"
   },
   {
    "duration": 5,
    "start_time": "2021-12-13T18:33:36.250Z"
   },
   {
    "duration": 23,
    "start_time": "2021-12-13T18:33:36.257Z"
   },
   {
    "duration": 12,
    "start_time": "2021-12-13T18:33:36.283Z"
   },
   {
    "duration": 43,
    "start_time": "2021-12-13T18:33:36.297Z"
   },
   {
    "duration": 11,
    "start_time": "2021-12-13T18:33:36.343Z"
   },
   {
    "duration": 9,
    "start_time": "2021-12-13T18:33:36.357Z"
   },
   {
    "duration": 10,
    "start_time": "2021-12-13T18:33:36.368Z"
   },
   {
    "duration": 6,
    "start_time": "2021-12-13T18:33:36.381Z"
   },
   {
    "duration": 64,
    "start_time": "2021-12-13T18:33:36.389Z"
   },
   {
    "duration": 29,
    "start_time": "2021-12-13T18:33:36.456Z"
   },
   {
    "duration": 468,
    "start_time": "2021-12-13T18:33:36.487Z"
   },
   {
    "duration": 11,
    "start_time": "2021-12-13T18:33:36.960Z"
   },
   {
    "duration": 9,
    "start_time": "2021-12-13T18:33:36.974Z"
   },
   {
    "duration": 468,
    "start_time": "2021-12-13T18:33:36.985Z"
   },
   {
    "duration": 7,
    "start_time": "2021-12-13T18:33:37.455Z"
   },
   {
    "duration": 977,
    "start_time": "2021-12-13T18:33:37.465Z"
   },
   {
    "duration": 844,
    "start_time": "2021-12-13T18:33:38.445Z"
   },
   {
    "duration": 906,
    "start_time": "2021-12-13T18:33:39.291Z"
   },
   {
    "duration": 7,
    "start_time": "2021-12-13T18:33:40.199Z"
   },
   {
    "duration": 16,
    "start_time": "2021-12-13T18:33:40.217Z"
   },
   {
    "duration": 15,
    "start_time": "2021-12-13T18:33:40.236Z"
   },
   {
    "duration": 8,
    "start_time": "2021-12-13T18:33:40.254Z"
   },
   {
    "duration": 53,
    "start_time": "2021-12-13T18:33:40.264Z"
   },
   {
    "duration": 15,
    "start_time": "2021-12-13T18:33:40.320Z"
   },
   {
    "duration": 22,
    "start_time": "2021-12-13T18:33:40.338Z"
   },
   {
    "duration": 21,
    "start_time": "2021-12-13T18:33:40.363Z"
   },
   {
    "duration": 19,
    "start_time": "2021-12-13T18:33:40.417Z"
   },
   {
    "duration": 10,
    "start_time": "2021-12-13T18:33:40.438Z"
   },
   {
    "duration": 16,
    "start_time": "2021-12-13T18:33:40.451Z"
   },
   {
    "duration": 55,
    "start_time": "2021-12-13T18:33:40.470Z"
   },
   {
    "duration": 20,
    "start_time": "2021-12-13T18:33:40.528Z"
   },
   {
    "duration": 20,
    "start_time": "2021-12-13T18:33:40.551Z"
   },
   {
    "duration": 6,
    "start_time": "2021-12-13T18:33:40.574Z"
   },
   {
    "duration": 48,
    "start_time": "2021-12-13T18:33:40.583Z"
   },
   {
    "duration": 21,
    "start_time": "2021-12-13T18:33:40.633Z"
   },
   {
    "duration": 16,
    "start_time": "2021-12-13T18:33:40.656Z"
   },
   {
    "duration": 51,
    "start_time": "2021-12-13T18:33:40.675Z"
   },
   {
    "duration": 16,
    "start_time": "2021-12-13T18:33:40.729Z"
   },
   {
    "duration": 11,
    "start_time": "2021-12-13T18:33:40.748Z"
   },
   {
    "duration": 20,
    "start_time": "2021-12-13T18:33:40.762Z"
   },
   {
    "duration": 8,
    "start_time": "2021-12-13T18:33:40.817Z"
   },
   {
    "duration": 7,
    "start_time": "2021-12-13T18:34:45.587Z"
   },
   {
    "duration": 17,
    "start_time": "2021-12-13T18:35:17.368Z"
   },
   {
    "duration": 5,
    "start_time": "2021-12-13T18:35:37.434Z"
   },
   {
    "duration": 6,
    "start_time": "2021-12-13T18:35:43.637Z"
   },
   {
    "duration": 6,
    "start_time": "2021-12-13T18:35:52.804Z"
   },
   {
    "duration": 4,
    "start_time": "2021-12-13T18:35:57.700Z"
   },
   {
    "duration": 11,
    "start_time": "2021-12-13T18:36:15.151Z"
   },
   {
    "duration": 9,
    "start_time": "2021-12-13T18:36:26.334Z"
   },
   {
    "duration": 14,
    "start_time": "2021-12-13T18:36:30.484Z"
   },
   {
    "duration": 6,
    "start_time": "2021-12-13T18:37:09.497Z"
   },
   {
    "duration": 1515,
    "start_time": "2021-12-13T18:38:03.932Z"
   },
   {
    "duration": 25,
    "start_time": "2021-12-13T18:38:05.450Z"
   },
   {
    "duration": 15,
    "start_time": "2021-12-13T18:38:05.479Z"
   },
   {
    "duration": 23,
    "start_time": "2021-12-13T18:38:05.518Z"
   },
   {
    "duration": 9,
    "start_time": "2021-12-13T18:38:05.544Z"
   },
   {
    "duration": 19,
    "start_time": "2021-12-13T18:38:05.556Z"
   },
   {
    "duration": 11,
    "start_time": "2021-12-13T18:38:05.577Z"
   },
   {
    "duration": 7,
    "start_time": "2021-12-13T18:38:05.619Z"
   },
   {
    "duration": 7,
    "start_time": "2021-12-13T18:38:05.629Z"
   },
   {
    "duration": 9,
    "start_time": "2021-12-13T18:38:05.638Z"
   },
   {
    "duration": 82,
    "start_time": "2021-12-13T18:38:05.649Z"
   },
   {
    "duration": 4,
    "start_time": "2021-12-13T18:38:05.734Z"
   },
   {
    "duration": 16,
    "start_time": "2021-12-13T18:38:05.741Z"
   },
   {
    "duration": 5,
    "start_time": "2021-12-13T18:38:05.759Z"
   },
   {
    "duration": 12,
    "start_time": "2021-12-13T18:38:05.766Z"
   },
   {
    "duration": 42,
    "start_time": "2021-12-13T18:38:05.780Z"
   },
   {
    "duration": 11,
    "start_time": "2021-12-13T18:38:05.825Z"
   },
   {
    "duration": 18,
    "start_time": "2021-12-13T18:38:05.838Z"
   },
   {
    "duration": 20,
    "start_time": "2021-12-13T18:38:05.858Z"
   },
   {
    "duration": 70,
    "start_time": "2021-12-13T18:38:05.880Z"
   },
   {
    "duration": 48,
    "start_time": "2021-12-13T18:38:05.953Z"
   },
   {
    "duration": 463,
    "start_time": "2021-12-13T18:38:06.018Z"
   },
   {
    "duration": 10,
    "start_time": "2021-12-13T18:38:06.486Z"
   },
   {
    "duration": 26,
    "start_time": "2021-12-13T18:38:06.499Z"
   },
   {
    "duration": 473,
    "start_time": "2021-12-13T18:38:06.527Z"
   },
   {
    "duration": 18,
    "start_time": "2021-12-13T18:38:07.002Z"
   },
   {
    "duration": 1186,
    "start_time": "2021-12-13T18:38:07.023Z"
   },
   {
    "duration": 1020,
    "start_time": "2021-12-13T18:38:08.211Z"
   },
   {
    "duration": 903,
    "start_time": "2021-12-13T18:38:09.233Z"
   },
   {
    "duration": 6,
    "start_time": "2021-12-13T18:38:10.139Z"
   },
   {
    "duration": 22,
    "start_time": "2021-12-13T18:38:10.147Z"
   },
   {
    "duration": 15,
    "start_time": "2021-12-13T18:38:10.171Z"
   },
   {
    "duration": 10,
    "start_time": "2021-12-13T18:38:10.217Z"
   },
   {
    "duration": 8,
    "start_time": "2021-12-13T18:38:10.229Z"
   },
   {
    "duration": 15,
    "start_time": "2021-12-13T18:38:10.239Z"
   },
   {
    "duration": 60,
    "start_time": "2021-12-13T18:38:10.257Z"
   },
   {
    "duration": 23,
    "start_time": "2021-12-13T18:38:10.319Z"
   },
   {
    "duration": 20,
    "start_time": "2021-12-13T18:38:10.345Z"
   },
   {
    "duration": 12,
    "start_time": "2021-12-13T18:38:10.368Z"
   },
   {
    "duration": 46,
    "start_time": "2021-12-13T18:38:10.382Z"
   },
   {
    "duration": 19,
    "start_time": "2021-12-13T18:38:10.431Z"
   },
   {
    "duration": 16,
    "start_time": "2021-12-13T18:38:10.452Z"
   },
   {
    "duration": 57,
    "start_time": "2021-12-13T18:38:10.470Z"
   },
   {
    "duration": 8,
    "start_time": "2021-12-13T18:38:10.529Z"
   },
   {
    "duration": 18,
    "start_time": "2021-12-13T18:38:10.540Z"
   },
   {
    "duration": 20,
    "start_time": "2021-12-13T18:38:10.560Z"
   },
   {
    "duration": 17,
    "start_time": "2021-12-13T18:38:10.617Z"
   },
   {
    "duration": 19,
    "start_time": "2021-12-13T18:38:10.636Z"
   },
   {
    "duration": 6,
    "start_time": "2021-12-13T18:38:10.657Z"
   },
   {
    "duration": 61,
    "start_time": "2021-12-13T18:38:10.666Z"
   },
   {
    "duration": 9,
    "start_time": "2021-12-13T18:38:10.730Z"
   },
   {
    "duration": 7,
    "start_time": "2021-12-13T18:38:10.741Z"
   },
   {
    "duration": 19,
    "start_time": "2021-12-13T18:38:10.751Z"
   },
   {
    "duration": 49,
    "start_time": "2021-12-13T18:38:10.773Z"
   },
   {
    "duration": 1682,
    "start_time": "2021-12-13T18:39:23.449Z"
   },
   {
    "duration": 24,
    "start_time": "2021-12-13T18:39:25.134Z"
   },
   {
    "duration": 15,
    "start_time": "2021-12-13T18:39:25.161Z"
   },
   {
    "duration": 52,
    "start_time": "2021-12-13T18:39:25.179Z"
   },
   {
    "duration": 9,
    "start_time": "2021-12-13T18:39:25.234Z"
   },
   {
    "duration": 14,
    "start_time": "2021-12-13T18:39:25.245Z"
   },
   {
    "duration": 8,
    "start_time": "2021-12-13T18:39:25.262Z"
   },
   {
    "duration": 6,
    "start_time": "2021-12-13T18:39:25.318Z"
   },
   {
    "duration": 9,
    "start_time": "2021-12-13T18:39:25.328Z"
   },
   {
    "duration": 22,
    "start_time": "2021-12-13T18:39:25.339Z"
   },
   {
    "duration": 69,
    "start_time": "2021-12-13T18:39:25.364Z"
   },
   {
    "duration": 5,
    "start_time": "2021-12-13T18:39:25.436Z"
   },
   {
    "duration": 16,
    "start_time": "2021-12-13T18:39:25.443Z"
   },
   {
    "duration": 5,
    "start_time": "2021-12-13T18:39:25.462Z"
   },
   {
    "duration": 13,
    "start_time": "2021-12-13T18:39:25.470Z"
   },
   {
    "duration": 39,
    "start_time": "2021-12-13T18:39:25.486Z"
   },
   {
    "duration": 8,
    "start_time": "2021-12-13T18:39:25.527Z"
   },
   {
    "duration": 19,
    "start_time": "2021-12-13T18:39:25.538Z"
   },
   {
    "duration": 6,
    "start_time": "2021-12-13T18:39:25.559Z"
   },
   {
    "duration": 89,
    "start_time": "2021-12-13T18:39:25.567Z"
   },
   {
    "duration": 30,
    "start_time": "2021-12-13T18:39:25.658Z"
   },
   {
    "duration": 610,
    "start_time": "2021-12-13T18:39:25.691Z"
   },
   {
    "duration": 20,
    "start_time": "2021-12-13T18:39:26.306Z"
   },
   {
    "duration": 12,
    "start_time": "2021-12-13T18:39:26.331Z"
   },
   {
    "duration": 482,
    "start_time": "2021-12-13T18:39:26.347Z"
   },
   {
    "duration": 8,
    "start_time": "2021-12-13T18:39:26.832Z"
   },
   {
    "duration": 1376,
    "start_time": "2021-12-13T18:39:26.842Z"
   },
   {
    "duration": 1037,
    "start_time": "2021-12-13T18:39:28.221Z"
   },
   {
    "duration": 876,
    "start_time": "2021-12-13T18:39:29.260Z"
   },
   {
    "duration": 6,
    "start_time": "2021-12-13T18:39:30.138Z"
   },
   {
    "duration": 20,
    "start_time": "2021-12-13T18:39:30.146Z"
   },
   {
    "duration": 49,
    "start_time": "2021-12-13T18:39:30.168Z"
   },
   {
    "duration": 9,
    "start_time": "2021-12-13T18:39:30.219Z"
   },
   {
    "duration": 15,
    "start_time": "2021-12-13T18:39:30.230Z"
   },
   {
    "duration": 16,
    "start_time": "2021-12-13T18:39:30.248Z"
   },
   {
    "duration": 21,
    "start_time": "2021-12-13T18:39:30.267Z"
   },
   {
    "duration": 31,
    "start_time": "2021-12-13T18:39:30.319Z"
   },
   {
    "duration": 27,
    "start_time": "2021-12-13T18:39:30.353Z"
   },
   {
    "duration": 38,
    "start_time": "2021-12-13T18:39:30.383Z"
   },
   {
    "duration": 17,
    "start_time": "2021-12-13T18:39:30.424Z"
   },
   {
    "duration": 17,
    "start_time": "2021-12-13T18:39:30.444Z"
   },
   {
    "duration": 57,
    "start_time": "2021-12-13T18:39:30.464Z"
   },
   {
    "duration": 19,
    "start_time": "2021-12-13T18:39:30.523Z"
   },
   {
    "duration": 9,
    "start_time": "2021-12-13T18:39:30.545Z"
   },
   {
    "duration": 20,
    "start_time": "2021-12-13T18:39:30.557Z"
   },
   {
    "duration": 53,
    "start_time": "2021-12-13T18:39:30.580Z"
   },
   {
    "duration": 26,
    "start_time": "2021-12-13T18:39:30.637Z"
   },
   {
    "duration": 26,
    "start_time": "2021-12-13T18:39:30.666Z"
   },
   {
    "duration": 6,
    "start_time": "2021-12-13T18:39:30.717Z"
   },
   {
    "duration": 19,
    "start_time": "2021-12-13T18:39:30.726Z"
   },
   {
    "duration": 21,
    "start_time": "2021-12-13T18:39:30.748Z"
   },
   {
    "duration": 15,
    "start_time": "2021-12-13T18:39:30.772Z"
   },
   {
    "duration": 37,
    "start_time": "2021-12-13T18:39:30.789Z"
   },
   {
    "duration": 9,
    "start_time": "2021-12-13T18:39:30.829Z"
   },
   {
    "duration": 7,
    "start_time": "2021-12-13T18:41:39.657Z"
   },
   {
    "duration": 1456,
    "start_time": "2021-12-13T18:44:15.275Z"
   },
   {
    "duration": 26,
    "start_time": "2021-12-13T18:44:16.734Z"
   },
   {
    "duration": 15,
    "start_time": "2021-12-13T18:44:16.763Z"
   },
   {
    "duration": 54,
    "start_time": "2021-12-13T18:44:16.781Z"
   },
   {
    "duration": 9,
    "start_time": "2021-12-13T18:44:16.838Z"
   },
   {
    "duration": 13,
    "start_time": "2021-12-13T18:44:16.850Z"
   },
   {
    "duration": 7,
    "start_time": "2021-12-13T18:44:16.866Z"
   },
   {
    "duration": 6,
    "start_time": "2021-12-13T18:44:16.877Z"
   },
   {
    "duration": 36,
    "start_time": "2021-12-13T18:44:16.886Z"
   },
   {
    "duration": 9,
    "start_time": "2021-12-13T18:44:16.924Z"
   },
   {
    "duration": 44,
    "start_time": "2021-12-13T18:44:16.936Z"
   },
   {
    "duration": 5,
    "start_time": "2021-12-13T18:44:17.018Z"
   },
   {
    "duration": 15,
    "start_time": "2021-12-13T18:44:17.026Z"
   },
   {
    "duration": 5,
    "start_time": "2021-12-13T18:44:17.044Z"
   },
   {
    "duration": 7,
    "start_time": "2021-12-13T18:44:17.051Z"
   },
   {
    "duration": 12,
    "start_time": "2021-12-13T18:44:17.060Z"
   },
   {
    "duration": 44,
    "start_time": "2021-12-13T18:44:17.074Z"
   },
   {
    "duration": 8,
    "start_time": "2021-12-13T18:44:17.121Z"
   },
   {
    "duration": 9,
    "start_time": "2021-12-13T18:44:17.131Z"
   },
   {
    "duration": 80,
    "start_time": "2021-12-13T18:44:17.142Z"
   },
   {
    "duration": 29,
    "start_time": "2021-12-13T18:44:17.225Z"
   },
   {
    "duration": 463,
    "start_time": "2021-12-13T18:44:17.256Z"
   },
   {
    "duration": 10,
    "start_time": "2021-12-13T18:44:17.724Z"
   },
   {
    "duration": 10,
    "start_time": "2021-12-13T18:44:17.738Z"
   },
   {
    "duration": 470,
    "start_time": "2021-12-13T18:44:17.750Z"
   },
   {
    "duration": 7,
    "start_time": "2021-12-13T18:44:18.223Z"
   },
   {
    "duration": 920,
    "start_time": "2021-12-13T18:44:18.233Z"
   },
   {
    "duration": 787,
    "start_time": "2021-12-13T18:44:19.156Z"
   },
   {
    "duration": 875,
    "start_time": "2021-12-13T18:44:19.946Z"
   },
   {
    "duration": 5,
    "start_time": "2021-12-13T18:44:20.824Z"
   },
   {
    "duration": 17,
    "start_time": "2021-12-13T18:44:20.832Z"
   },
   {
    "duration": 15,
    "start_time": "2021-12-13T18:44:20.851Z"
   },
   {
    "duration": 48,
    "start_time": "2021-12-13T18:44:20.869Z"
   },
   {
    "duration": 7,
    "start_time": "2021-12-13T18:44:20.920Z"
   },
   {
    "duration": 16,
    "start_time": "2021-12-13T18:44:20.929Z"
   },
   {
    "duration": 22,
    "start_time": "2021-12-13T18:44:20.948Z"
   },
   {
    "duration": 58,
    "start_time": "2021-12-13T18:44:20.972Z"
   },
   {
    "duration": 19,
    "start_time": "2021-12-13T18:44:21.033Z"
   },
   {
    "duration": 8,
    "start_time": "2021-12-13T18:44:21.055Z"
   },
   {
    "duration": 26,
    "start_time": "2021-12-13T18:44:21.065Z"
   },
   {
    "duration": 18,
    "start_time": "2021-12-13T18:44:21.117Z"
   },
   {
    "duration": 23,
    "start_time": "2021-12-13T18:44:21.137Z"
   },
   {
    "duration": 18,
    "start_time": "2021-12-13T18:44:21.162Z"
   },
   {
    "duration": 6,
    "start_time": "2021-12-13T18:44:21.182Z"
   },
   {
    "duration": 14,
    "start_time": "2021-12-13T18:44:21.218Z"
   },
   {
    "duration": 18,
    "start_time": "2021-12-13T18:44:21.235Z"
   },
   {
    "duration": 18,
    "start_time": "2021-12-13T18:44:21.256Z"
   },
   {
    "duration": 55,
    "start_time": "2021-12-13T18:44:21.277Z"
   },
   {
    "duration": 6,
    "start_time": "2021-12-13T18:44:21.334Z"
   },
   {
    "duration": 16,
    "start_time": "2021-12-13T18:44:21.343Z"
   },
   {
    "duration": 7,
    "start_time": "2021-12-13T18:44:21.361Z"
   },
   {
    "duration": 55,
    "start_time": "2021-12-13T18:44:21.370Z"
   },
   {
    "duration": 7,
    "start_time": "2021-12-13T18:44:21.427Z"
   },
   {
    "duration": 6851,
    "start_time": "2021-12-13T18:49:34.691Z"
   },
   {
    "duration": 1627,
    "start_time": "2021-12-13T18:49:48.718Z"
   },
   {
    "duration": 24,
    "start_time": "2021-12-13T18:49:50.348Z"
   },
   {
    "duration": 21,
    "start_time": "2021-12-13T18:49:50.376Z"
   },
   {
    "duration": 36,
    "start_time": "2021-12-13T18:49:50.400Z"
   },
   {
    "duration": 11,
    "start_time": "2021-12-13T18:49:50.439Z"
   },
   {
    "duration": 378,
    "start_time": "2021-12-13T18:49:50.453Z"
   },
   {
    "duration": -1189,
    "start_time": "2021-12-13T18:49:52.025Z"
   },
   {
    "duration": -1191,
    "start_time": "2021-12-13T18:49:52.028Z"
   },
   {
    "duration": -1192,
    "start_time": "2021-12-13T18:49:52.031Z"
   },
   {
    "duration": -1194,
    "start_time": "2021-12-13T18:49:52.034Z"
   },
   {
    "duration": -1234,
    "start_time": "2021-12-13T18:49:52.075Z"
   },
   {
    "duration": -1239,
    "start_time": "2021-12-13T18:49:52.082Z"
   },
   {
    "duration": -1241,
    "start_time": "2021-12-13T18:49:52.085Z"
   },
   {
    "duration": -1245,
    "start_time": "2021-12-13T18:49:52.090Z"
   },
   {
    "duration": -1248,
    "start_time": "2021-12-13T18:49:52.095Z"
   },
   {
    "duration": -1250,
    "start_time": "2021-12-13T18:49:52.098Z"
   },
   {
    "duration": -1251,
    "start_time": "2021-12-13T18:49:52.101Z"
   },
   {
    "duration": -1254,
    "start_time": "2021-12-13T18:49:52.105Z"
   },
   {
    "duration": -1262,
    "start_time": "2021-12-13T18:49:52.114Z"
   },
   {
    "duration": -1264,
    "start_time": "2021-12-13T18:49:52.117Z"
   },
   {
    "duration": -1268,
    "start_time": "2021-12-13T18:49:52.123Z"
   },
   {
    "duration": -1270,
    "start_time": "2021-12-13T18:49:52.126Z"
   },
   {
    "duration": -1273,
    "start_time": "2021-12-13T18:49:52.130Z"
   },
   {
    "duration": -1275,
    "start_time": "2021-12-13T18:49:52.133Z"
   },
   {
    "duration": -1277,
    "start_time": "2021-12-13T18:49:52.137Z"
   },
   {
    "duration": -1278,
    "start_time": "2021-12-13T18:49:52.140Z"
   },
   {
    "duration": -1279,
    "start_time": "2021-12-13T18:49:52.143Z"
   },
   {
    "duration": -1281,
    "start_time": "2021-12-13T18:49:52.146Z"
   },
   {
    "duration": -1281,
    "start_time": "2021-12-13T18:49:52.149Z"
   },
   {
    "duration": -1333,
    "start_time": "2021-12-13T18:49:52.202Z"
   },
   {
    "duration": -1338,
    "start_time": "2021-12-13T18:49:52.208Z"
   },
   {
    "duration": -1353,
    "start_time": "2021-12-13T18:49:52.224Z"
   },
   {
    "duration": -1309,
    "start_time": "2021-12-13T18:49:52.227Z"
   },
   {
    "duration": -1311,
    "start_time": "2021-12-13T18:49:52.230Z"
   },
   {
    "duration": -1312,
    "start_time": "2021-12-13T18:49:52.233Z"
   },
   {
    "duration": -1376,
    "start_time": "2021-12-13T18:49:52.299Z"
   },
   {
    "duration": -1378,
    "start_time": "2021-12-13T18:49:52.302Z"
   },
   {
    "duration": -1380,
    "start_time": "2021-12-13T18:49:52.306Z"
   },
   {
    "duration": -1383,
    "start_time": "2021-12-13T18:49:52.310Z"
   },
   {
    "duration": -1384,
    "start_time": "2021-12-13T18:49:52.313Z"
   },
   {
    "duration": -1386,
    "start_time": "2021-12-13T18:49:52.316Z"
   },
   {
    "duration": -1389,
    "start_time": "2021-12-13T18:49:52.321Z"
   },
   {
    "duration": -1392,
    "start_time": "2021-12-13T18:49:52.325Z"
   },
   {
    "duration": -1394,
    "start_time": "2021-12-13T18:49:52.329Z"
   },
   {
    "duration": -1396,
    "start_time": "2021-12-13T18:49:52.332Z"
   },
   {
    "duration": -1398,
    "start_time": "2021-12-13T18:49:52.335Z"
   },
   {
    "duration": -1402,
    "start_time": "2021-12-13T18:49:52.341Z"
   },
   {
    "duration": -1404,
    "start_time": "2021-12-13T18:49:52.344Z"
   },
   {
    "duration": -1405,
    "start_time": "2021-12-13T18:49:52.347Z"
   },
   {
    "duration": -1406,
    "start_time": "2021-12-13T18:49:52.349Z"
   },
   {
    "duration": -1410,
    "start_time": "2021-12-13T18:49:52.354Z"
   },
   {
    "duration": 1656,
    "start_time": "2021-12-13T18:50:13.696Z"
   },
   {
    "duration": 24,
    "start_time": "2021-12-13T18:50:15.355Z"
   },
   {
    "duration": 18,
    "start_time": "2021-12-13T18:50:15.381Z"
   },
   {
    "duration": 32,
    "start_time": "2021-12-13T18:50:15.402Z"
   },
   {
    "duration": 13,
    "start_time": "2021-12-13T18:50:15.437Z"
   },
   {
    "duration": 7,
    "start_time": "2021-12-13T18:50:15.453Z"
   },
   {
    "duration": 12,
    "start_time": "2021-12-13T18:50:15.462Z"
   },
   {
    "duration": 44,
    "start_time": "2021-12-13T18:50:15.478Z"
   },
   {
    "duration": 8,
    "start_time": "2021-12-13T18:50:15.525Z"
   },
   {
    "duration": 42,
    "start_time": "2021-12-13T18:50:15.536Z"
   },
   {
    "duration": 4,
    "start_time": "2021-12-13T18:50:15.581Z"
   },
   {
    "duration": 40,
    "start_time": "2021-12-13T18:50:15.587Z"
   },
   {
    "duration": 5,
    "start_time": "2021-12-13T18:50:15.629Z"
   },
   {
    "duration": 8,
    "start_time": "2021-12-13T18:50:15.637Z"
   },
   {
    "duration": 9,
    "start_time": "2021-12-13T18:50:15.647Z"
   },
   {
    "duration": 7,
    "start_time": "2021-12-13T18:50:15.658Z"
   },
   {
    "duration": 52,
    "start_time": "2021-12-13T18:50:15.667Z"
   },
   {
    "duration": 7,
    "start_time": "2021-12-13T18:50:15.721Z"
   },
   {
    "duration": 51,
    "start_time": "2021-12-13T18:50:15.730Z"
   },
   {
    "duration": 55,
    "start_time": "2021-12-13T18:50:15.784Z"
   },
   {
    "duration": 552,
    "start_time": "2021-12-13T18:50:15.841Z"
   },
   {
    "duration": 23,
    "start_time": "2021-12-13T18:50:16.396Z"
   },
   {
    "duration": 9,
    "start_time": "2021-12-13T18:50:16.424Z"
   },
   {
    "duration": 460,
    "start_time": "2021-12-13T18:50:16.437Z"
   },
   {
    "duration": 17,
    "start_time": "2021-12-13T18:50:16.900Z"
   },
   {
    "duration": 915,
    "start_time": "2021-12-13T18:50:16.919Z"
   },
   {
    "duration": 801,
    "start_time": "2021-12-13T18:50:17.836Z"
   },
   {
    "duration": 866,
    "start_time": "2021-12-13T18:50:18.640Z"
   },
   {
    "duration": 9,
    "start_time": "2021-12-13T18:50:19.508Z"
   },
   {
    "duration": 15,
    "start_time": "2021-12-13T18:50:19.520Z"
   },
   {
    "duration": 15,
    "start_time": "2021-12-13T18:50:19.538Z"
   },
   {
    "duration": 9,
    "start_time": "2021-12-13T18:50:19.555Z"
   },
   {
    "duration": 51,
    "start_time": "2021-12-13T18:50:19.566Z"
   },
   {
    "duration": 15,
    "start_time": "2021-12-13T18:50:19.620Z"
   },
   {
    "duration": 18,
    "start_time": "2021-12-13T18:50:19.638Z"
   },
   {
    "duration": 24,
    "start_time": "2021-12-13T18:50:19.658Z"
   },
   {
    "duration": 20,
    "start_time": "2021-12-13T18:50:19.718Z"
   },
   {
    "duration": 7,
    "start_time": "2021-12-13T18:50:19.740Z"
   },
   {
    "duration": 15,
    "start_time": "2021-12-13T18:50:19.750Z"
   },
   {
    "duration": 54,
    "start_time": "2021-12-13T18:50:19.767Z"
   },
   {
    "duration": 15,
    "start_time": "2021-12-13T18:50:19.824Z"
   },
   {
    "duration": 17,
    "start_time": "2021-12-13T18:50:19.841Z"
   },
   {
    "duration": 6,
    "start_time": "2021-12-13T18:50:19.861Z"
   },
   {
    "duration": 55,
    "start_time": "2021-12-13T18:50:19.870Z"
   },
   {
    "duration": 29,
    "start_time": "2021-12-13T18:50:19.927Z"
   },
   {
    "duration": 15,
    "start_time": "2021-12-13T18:50:19.958Z"
   },
   {
    "duration": 18,
    "start_time": "2021-12-13T18:50:19.975Z"
   },
   {
    "duration": 15,
    "start_time": "2021-12-13T18:50:20.018Z"
   },
   {
    "duration": 10,
    "start_time": "2021-12-13T18:50:20.036Z"
   },
   {
    "duration": 18,
    "start_time": "2021-12-13T18:50:20.049Z"
   },
   {
    "duration": 7,
    "start_time": "2021-12-13T18:50:20.070Z"
   },
   {
    "duration": 710,
    "start_time": "2021-12-13T18:59:50.420Z"
   },
   {
    "duration": 991,
    "start_time": "2021-12-13T19:00:09.983Z"
   },
   {
    "duration": 892,
    "start_time": "2021-12-13T19:00:35.435Z"
   },
   {
    "duration": 267,
    "start_time": "2021-12-13T19:01:18.827Z"
   },
   {
    "duration": 349,
    "start_time": "2021-12-13T19:01:43.463Z"
   },
   {
    "duration": 1015,
    "start_time": "2021-12-13T19:02:18.695Z"
   },
   {
    "duration": 1681,
    "start_time": "2021-12-13T19:22:33.603Z"
   },
   {
    "duration": 24,
    "start_time": "2021-12-13T19:22:35.286Z"
   },
   {
    "duration": 22,
    "start_time": "2021-12-13T19:22:35.313Z"
   },
   {
    "duration": 24,
    "start_time": "2021-12-13T19:22:35.338Z"
   },
   {
    "duration": 13,
    "start_time": "2021-12-13T19:22:35.364Z"
   },
   {
    "duration": 39,
    "start_time": "2021-12-13T19:22:35.379Z"
   },
   {
    "duration": 8,
    "start_time": "2021-12-13T19:22:35.421Z"
   },
   {
    "duration": 8,
    "start_time": "2021-12-13T19:22:35.434Z"
   },
   {
    "duration": 12,
    "start_time": "2021-12-13T19:22:35.446Z"
   },
   {
    "duration": 20,
    "start_time": "2021-12-13T19:22:35.460Z"
   },
   {
    "duration": 38,
    "start_time": "2021-12-13T19:22:35.482Z"
   },
   {
    "duration": 9,
    "start_time": "2021-12-13T19:22:35.523Z"
   },
   {
    "duration": 10,
    "start_time": "2021-12-13T19:22:35.534Z"
   },
   {
    "duration": 15,
    "start_time": "2021-12-13T19:22:35.546Z"
   },
   {
    "duration": 11,
    "start_time": "2021-12-13T19:22:35.563Z"
   },
   {
    "duration": 8,
    "start_time": "2021-12-13T19:22:35.577Z"
   },
   {
    "duration": 52,
    "start_time": "2021-12-13T19:22:35.617Z"
   },
   {
    "duration": 51,
    "start_time": "2021-12-13T19:22:35.672Z"
   },
   {
    "duration": 11,
    "start_time": "2021-12-13T19:22:35.725Z"
   },
   {
    "duration": 9,
    "start_time": "2021-12-13T19:22:35.739Z"
   },
   {
    "duration": 584,
    "start_time": "2021-12-13T19:22:35.750Z"
   },
   {
    "duration": 714,
    "start_time": "2021-12-13T19:22:36.336Z"
   },
   {
    "duration": 8,
    "start_time": "2021-12-13T19:22:37.057Z"
   },
   {
    "duration": 1060,
    "start_time": "2021-12-13T19:22:37.069Z"
   },
   {
    "duration": 975,
    "start_time": "2021-12-13T19:22:38.132Z"
   },
   {
    "duration": 808,
    "start_time": "2021-12-13T19:22:39.123Z"
   },
   {
    "duration": 7,
    "start_time": "2021-12-13T19:22:39.933Z"
   },
   {
    "duration": 18,
    "start_time": "2021-12-13T19:22:39.943Z"
   },
   {
    "duration": 15,
    "start_time": "2021-12-13T19:22:39.963Z"
   },
   {
    "duration": 41,
    "start_time": "2021-12-13T19:22:39.981Z"
   },
   {
    "duration": 7,
    "start_time": "2021-12-13T19:22:40.024Z"
   },
   {
    "duration": 17,
    "start_time": "2021-12-13T19:22:40.033Z"
   },
   {
    "duration": 20,
    "start_time": "2021-12-13T19:22:40.053Z"
   },
   {
    "duration": 62,
    "start_time": "2021-12-13T19:22:40.075Z"
   },
   {
    "duration": 25,
    "start_time": "2021-12-13T19:22:40.140Z"
   },
   {
    "duration": 8,
    "start_time": "2021-12-13T19:22:40.167Z"
   },
   {
    "duration": 46,
    "start_time": "2021-12-13T19:22:40.177Z"
   },
   {
    "duration": 19,
    "start_time": "2021-12-13T19:22:40.226Z"
   },
   {
    "duration": 15,
    "start_time": "2021-12-13T19:22:40.248Z"
   },
   {
    "duration": 52,
    "start_time": "2021-12-13T19:22:40.265Z"
   },
   {
    "duration": 8,
    "start_time": "2021-12-13T19:22:40.320Z"
   },
   {
    "duration": 21,
    "start_time": "2021-12-13T19:22:40.331Z"
   },
   {
    "duration": 20,
    "start_time": "2021-12-13T19:22:40.355Z"
   },
   {
    "duration": 55,
    "start_time": "2021-12-13T19:22:40.378Z"
   },
   {
    "duration": 21,
    "start_time": "2021-12-13T19:22:40.436Z"
   },
   {
    "duration": 19,
    "start_time": "2021-12-13T19:22:40.459Z"
   },
   {
    "duration": 38,
    "start_time": "2021-12-13T19:22:40.480Z"
   },
   {
    "duration": 23,
    "start_time": "2021-12-13T19:22:40.520Z"
   },
   {
    "duration": 7,
    "start_time": "2021-12-13T19:22:40.545Z"
   },
   {
    "duration": 111,
    "start_time": "2021-12-13T19:22:40.555Z"
   },
   {
    "duration": 1612,
    "start_time": "2021-12-13T19:22:58.734Z"
   },
   {
    "duration": 23,
    "start_time": "2021-12-13T19:23:00.349Z"
   },
   {
    "duration": 22,
    "start_time": "2021-12-13T19:23:00.375Z"
   },
   {
    "duration": 39,
    "start_time": "2021-12-13T19:23:00.400Z"
   },
   {
    "duration": 12,
    "start_time": "2021-12-13T19:23:00.442Z"
   },
   {
    "duration": 14,
    "start_time": "2021-12-13T19:23:00.456Z"
   },
   {
    "duration": 20,
    "start_time": "2021-12-13T19:23:00.473Z"
   },
   {
    "duration": 26,
    "start_time": "2021-12-13T19:23:00.498Z"
   },
   {
    "duration": 9,
    "start_time": "2021-12-13T19:23:00.528Z"
   },
   {
    "duration": 17,
    "start_time": "2021-12-13T19:23:00.540Z"
   },
   {
    "duration": 20,
    "start_time": "2021-12-13T19:23:00.559Z"
   },
   {
    "duration": 15,
    "start_time": "2021-12-13T19:23:00.582Z"
   },
   {
    "duration": 27,
    "start_time": "2021-12-13T19:23:00.599Z"
   },
   {
    "duration": 12,
    "start_time": "2021-12-13T19:23:00.628Z"
   },
   {
    "duration": 16,
    "start_time": "2021-12-13T19:23:00.643Z"
   },
   {
    "duration": 17,
    "start_time": "2021-12-13T19:23:00.662Z"
   },
   {
    "duration": 67,
    "start_time": "2021-12-13T19:23:00.682Z"
   },
   {
    "duration": 31,
    "start_time": "2021-12-13T19:23:00.751Z"
   },
   {
    "duration": 10,
    "start_time": "2021-12-13T19:23:00.784Z"
   },
   {
    "duration": 15,
    "start_time": "2021-12-13T19:23:00.818Z"
   },
   {
    "duration": 461,
    "start_time": "2021-12-13T19:23:00.835Z"
   },
   {
    "duration": 723,
    "start_time": "2021-12-13T19:23:01.299Z"
   },
   {
    "duration": 7,
    "start_time": "2021-12-13T19:23:02.028Z"
   },
   {
    "duration": 934,
    "start_time": "2021-12-13T19:23:02.038Z"
   },
   {
    "duration": 979,
    "start_time": "2021-12-13T19:23:02.974Z"
   },
   {
    "duration": 845,
    "start_time": "2021-12-13T19:23:03.956Z"
   },
   {
    "duration": 6,
    "start_time": "2021-12-13T19:23:04.804Z"
   },
   {
    "duration": 17,
    "start_time": "2021-12-13T19:23:04.818Z"
   },
   {
    "duration": 17,
    "start_time": "2021-12-13T19:23:04.837Z"
   },
   {
    "duration": 10,
    "start_time": "2021-12-13T19:23:04.856Z"
   },
   {
    "duration": 49,
    "start_time": "2021-12-13T19:23:04.868Z"
   },
   {
    "duration": 20,
    "start_time": "2021-12-13T19:23:04.920Z"
   },
   {
    "duration": 29,
    "start_time": "2021-12-13T19:23:04.942Z"
   },
   {
    "duration": 28,
    "start_time": "2021-12-13T19:23:04.974Z"
   },
   {
    "duration": 27,
    "start_time": "2021-12-13T19:23:05.004Z"
   },
   {
    "duration": 17,
    "start_time": "2021-12-13T19:23:05.034Z"
   },
   {
    "duration": 40,
    "start_time": "2021-12-13T19:23:05.053Z"
   },
   {
    "duration": 24,
    "start_time": "2021-12-13T19:23:05.095Z"
   },
   {
    "duration": 27,
    "start_time": "2021-12-13T19:23:05.121Z"
   },
   {
    "duration": 20,
    "start_time": "2021-12-13T19:23:05.151Z"
   },
   {
    "duration": 8,
    "start_time": "2021-12-13T19:23:05.173Z"
   },
   {
    "duration": 35,
    "start_time": "2021-12-13T19:23:05.183Z"
   },
   {
    "duration": 18,
    "start_time": "2021-12-13T19:23:05.221Z"
   },
   {
    "duration": 23,
    "start_time": "2021-12-13T19:23:05.242Z"
   },
   {
    "duration": 29,
    "start_time": "2021-12-13T19:23:05.267Z"
   },
   {
    "duration": 32,
    "start_time": "2021-12-13T19:23:05.299Z"
   },
   {
    "duration": 8,
    "start_time": "2021-12-13T19:23:05.333Z"
   },
   {
    "duration": 51,
    "start_time": "2021-12-13T19:23:05.343Z"
   },
   {
    "duration": 22,
    "start_time": "2021-12-13T19:23:05.397Z"
   },
   {
    "duration": 1553,
    "start_time": "2021-12-13T19:48:49.496Z"
   },
   {
    "duration": 24,
    "start_time": "2021-12-13T19:48:51.052Z"
   },
   {
    "duration": 14,
    "start_time": "2021-12-13T19:48:51.080Z"
   },
   {
    "duration": 41,
    "start_time": "2021-12-13T19:48:51.097Z"
   },
   {
    "duration": 11,
    "start_time": "2021-12-13T19:48:51.141Z"
   },
   {
    "duration": 6,
    "start_time": "2021-12-13T19:48:51.154Z"
   },
   {
    "duration": 56,
    "start_time": "2021-12-13T19:48:51.163Z"
   },
   {
    "duration": 8,
    "start_time": "2021-12-13T19:48:51.223Z"
   },
   {
    "duration": 8,
    "start_time": "2021-12-13T19:48:51.234Z"
   },
   {
    "duration": 22,
    "start_time": "2021-12-13T19:48:51.244Z"
   },
   {
    "duration": 5,
    "start_time": "2021-12-13T19:48:51.269Z"
   },
   {
    "duration": 40,
    "start_time": "2021-12-13T19:48:51.277Z"
   },
   {
    "duration": 17,
    "start_time": "2021-12-13T19:48:51.320Z"
   },
   {
    "duration": 7,
    "start_time": "2021-12-13T19:48:51.339Z"
   },
   {
    "duration": 9,
    "start_time": "2021-12-13T19:48:51.348Z"
   },
   {
    "duration": 7,
    "start_time": "2021-12-13T19:48:51.360Z"
   },
   {
    "duration": 95,
    "start_time": "2021-12-13T19:48:51.370Z"
   },
   {
    "duration": 54,
    "start_time": "2021-12-13T19:48:51.468Z"
   },
   {
    "duration": 11,
    "start_time": "2021-12-13T19:48:51.525Z"
   },
   {
    "duration": 8,
    "start_time": "2021-12-13T19:48:51.539Z"
   },
   {
    "duration": 474,
    "start_time": "2021-12-13T19:48:51.550Z"
   },
   {
    "duration": 710,
    "start_time": "2021-12-13T19:48:52.027Z"
   },
   {
    "duration": 7,
    "start_time": "2021-12-13T19:48:52.743Z"
   },
   {
    "duration": 1034,
    "start_time": "2021-12-13T19:48:52.753Z"
   },
   {
    "duration": 1361,
    "start_time": "2021-12-13T19:48:53.789Z"
   },
   {
    "duration": 1206,
    "start_time": "2021-12-13T19:48:55.153Z"
   },
   {
    "duration": 8,
    "start_time": "2021-12-13T19:48:56.362Z"
   },
   {
    "duration": 46,
    "start_time": "2021-12-13T19:48:56.373Z"
   },
   {
    "duration": 22,
    "start_time": "2021-12-13T19:48:56.422Z"
   },
   {
    "duration": 10,
    "start_time": "2021-12-13T19:48:56.447Z"
   },
   {
    "duration": 8,
    "start_time": "2021-12-13T19:48:56.460Z"
   },
   {
    "duration": 55,
    "start_time": "2021-12-13T19:48:56.471Z"
   },
   {
    "duration": 19,
    "start_time": "2021-12-13T19:48:56.529Z"
   },
   {
    "duration": 23,
    "start_time": "2021-12-13T19:48:56.551Z"
   },
   {
    "duration": 58,
    "start_time": "2021-12-13T19:48:56.577Z"
   },
   {
    "duration": 10,
    "start_time": "2021-12-13T19:48:56.638Z"
   },
   {
    "duration": 22,
    "start_time": "2021-12-13T19:48:56.651Z"
   },
   {
    "duration": 57,
    "start_time": "2021-12-13T19:48:56.675Z"
   },
   {
    "duration": 17,
    "start_time": "2021-12-13T19:48:56.735Z"
   },
   {
    "duration": 19,
    "start_time": "2021-12-13T19:48:56.754Z"
   },
   {
    "duration": 46,
    "start_time": "2021-12-13T19:48:56.775Z"
   },
   {
    "duration": 16,
    "start_time": "2021-12-13T19:48:56.823Z"
   },
   {
    "duration": 18,
    "start_time": "2021-12-13T19:48:56.842Z"
   },
   {
    "duration": 63,
    "start_time": "2021-12-13T19:48:56.862Z"
   },
   {
    "duration": 19,
    "start_time": "2021-12-13T19:48:56.927Z"
   },
   {
    "duration": 16,
    "start_time": "2021-12-13T19:48:56.948Z"
   },
   {
    "duration": 12,
    "start_time": "2021-12-13T19:48:56.967Z"
   },
   {
    "duration": 46,
    "start_time": "2021-12-13T19:48:56.982Z"
   },
   {
    "duration": 7,
    "start_time": "2021-12-13T19:48:57.030Z"
   },
   {
    "duration": 2029,
    "start_time": "2021-12-14T13:16:21.520Z"
   },
   {
    "duration": 22,
    "start_time": "2021-12-14T13:16:23.551Z"
   },
   {
    "duration": 20,
    "start_time": "2021-12-14T13:16:23.575Z"
   },
   {
    "duration": 24,
    "start_time": "2021-12-14T13:16:23.597Z"
   },
   {
    "duration": 13,
    "start_time": "2021-12-14T13:16:23.623Z"
   },
   {
    "duration": 5,
    "start_time": "2021-12-14T13:16:23.638Z"
   },
   {
    "duration": 8,
    "start_time": "2021-12-14T13:16:23.646Z"
   },
   {
    "duration": 15,
    "start_time": "2021-12-14T13:16:23.655Z"
   },
   {
    "duration": 4,
    "start_time": "2021-12-14T13:16:23.673Z"
   },
   {
    "duration": 7,
    "start_time": "2021-12-14T13:16:23.708Z"
   },
   {
    "duration": 4,
    "start_time": "2021-12-14T13:16:23.717Z"
   },
   {
    "duration": 8,
    "start_time": "2021-12-14T13:16:23.723Z"
   },
   {
    "duration": 7,
    "start_time": "2021-12-14T13:16:23.733Z"
   },
   {
    "duration": 7,
    "start_time": "2021-12-14T13:16:23.742Z"
   },
   {
    "duration": 10,
    "start_time": "2021-12-14T13:16:23.751Z"
   },
   {
    "duration": 46,
    "start_time": "2021-12-14T13:16:23.763Z"
   },
   {
    "duration": 36,
    "start_time": "2021-12-14T13:16:23.811Z"
   },
   {
    "duration": 21,
    "start_time": "2021-12-14T13:16:23.858Z"
   },
   {
    "duration": 29,
    "start_time": "2021-12-14T13:16:23.880Z"
   },
   {
    "duration": 8,
    "start_time": "2021-12-14T13:16:23.911Z"
   },
   {
    "duration": 404,
    "start_time": "2021-12-14T13:16:23.920Z"
   },
   {
    "duration": 383,
    "start_time": "2021-12-14T13:16:24.325Z"
   },
   {
    "duration": 5,
    "start_time": "2021-12-14T13:16:24.710Z"
   },
   {
    "duration": 527,
    "start_time": "2021-12-14T13:16:24.717Z"
   },
   {
    "duration": 495,
    "start_time": "2021-12-14T13:16:25.246Z"
   },
   {
    "duration": 339,
    "start_time": "2021-12-14T13:16:25.743Z"
   },
   {
    "duration": 19,
    "start_time": "2021-12-14T13:16:26.088Z"
   },
   {
    "duration": 23,
    "start_time": "2021-12-14T13:16:26.111Z"
   },
   {
    "duration": 15,
    "start_time": "2021-12-14T13:16:26.137Z"
   },
   {
    "duration": 9,
    "start_time": "2021-12-14T13:16:26.154Z"
   },
   {
    "duration": 7,
    "start_time": "2021-12-14T13:16:26.166Z"
   },
   {
    "duration": 42,
    "start_time": "2021-12-14T13:16:26.176Z"
   },
   {
    "duration": 15,
    "start_time": "2021-12-14T13:16:26.220Z"
   },
   {
    "duration": 18,
    "start_time": "2021-12-14T13:16:26.237Z"
   },
   {
    "duration": 51,
    "start_time": "2021-12-14T13:16:26.257Z"
   },
   {
    "duration": 6,
    "start_time": "2021-12-14T13:16:26.310Z"
   },
   {
    "duration": 14,
    "start_time": "2021-12-14T13:16:26.318Z"
   },
   {
    "duration": 17,
    "start_time": "2021-12-14T13:16:26.334Z"
   },
   {
    "duration": 12,
    "start_time": "2021-12-14T13:16:26.354Z"
   },
   {
    "duration": 48,
    "start_time": "2021-12-14T13:16:26.369Z"
   },
   {
    "duration": 6,
    "start_time": "2021-12-14T13:16:26.419Z"
   },
   {
    "duration": 13,
    "start_time": "2021-12-14T13:16:26.427Z"
   },
   {
    "duration": 17,
    "start_time": "2021-12-14T13:16:26.443Z"
   },
   {
    "duration": 51,
    "start_time": "2021-12-14T13:16:26.462Z"
   },
   {
    "duration": 14,
    "start_time": "2021-12-14T13:16:26.515Z"
   },
   {
    "duration": 19,
    "start_time": "2021-12-14T13:16:26.531Z"
   },
   {
    "duration": 7,
    "start_time": "2021-12-14T13:16:26.552Z"
   },
   {
    "duration": 51,
    "start_time": "2021-12-14T13:16:26.562Z"
   },
   {
    "duration": 6,
    "start_time": "2021-12-14T13:16:26.615Z"
   },
   {
    "duration": 1279,
    "start_time": "2022-08-26T18:54:34.592Z"
   },
   {
    "duration": 17,
    "start_time": "2022-08-26T18:54:35.873Z"
   },
   {
    "duration": 13,
    "start_time": "2022-08-26T18:54:35.891Z"
   },
   {
    "duration": 15,
    "start_time": "2022-08-26T18:54:35.905Z"
   },
   {
    "duration": 8,
    "start_time": "2022-08-26T18:54:35.922Z"
   },
   {
    "duration": 12,
    "start_time": "2022-08-26T18:54:35.931Z"
   },
   {
    "duration": 7,
    "start_time": "2022-08-26T18:54:35.944Z"
   },
   {
    "duration": 8,
    "start_time": "2022-08-26T18:54:35.953Z"
   },
   {
    "duration": 5,
    "start_time": "2022-08-26T18:54:35.962Z"
   },
   {
    "duration": 8,
    "start_time": "2022-08-26T18:54:36.001Z"
   },
   {
    "duration": 6,
    "start_time": "2022-08-26T18:54:36.011Z"
   },
   {
    "duration": 4,
    "start_time": "2022-08-26T18:54:36.019Z"
   },
   {
    "duration": 12,
    "start_time": "2022-08-26T18:54:36.025Z"
   },
   {
    "duration": 8,
    "start_time": "2022-08-26T18:54:36.038Z"
   },
   {
    "duration": 13,
    "start_time": "2022-08-26T18:54:36.047Z"
   },
   {
    "duration": 6,
    "start_time": "2022-08-26T18:54:36.062Z"
   },
   {
    "duration": 46,
    "start_time": "2022-08-26T18:54:36.099Z"
   },
   {
    "duration": 24,
    "start_time": "2022-08-26T18:54:36.147Z"
   },
   {
    "duration": 26,
    "start_time": "2022-08-26T18:54:36.172Z"
   },
   {
    "duration": 6,
    "start_time": "2022-08-26T18:54:36.200Z"
   },
   {
    "duration": 231,
    "start_time": "2022-08-26T18:54:36.208Z"
   },
   {
    "duration": 235,
    "start_time": "2022-08-26T18:54:36.441Z"
   },
   {
    "duration": 6,
    "start_time": "2022-08-26T18:54:36.677Z"
   },
   {
    "duration": 360,
    "start_time": "2022-08-26T18:54:36.684Z"
   },
   {
    "duration": 284,
    "start_time": "2022-08-26T18:54:37.045Z"
   },
   {
    "duration": 239,
    "start_time": "2022-08-26T18:54:37.331Z"
   },
   {
    "duration": 4,
    "start_time": "2022-08-26T18:54:37.572Z"
   },
   {
    "duration": 46,
    "start_time": "2022-08-26T18:54:37.581Z"
   },
   {
    "duration": 15,
    "start_time": "2022-08-26T18:54:37.629Z"
   },
   {
    "duration": 6,
    "start_time": "2022-08-26T18:54:37.645Z"
   },
   {
    "duration": 16,
    "start_time": "2022-08-26T18:54:37.652Z"
   },
   {
    "duration": 13,
    "start_time": "2022-08-26T18:54:37.669Z"
   },
   {
    "duration": 99,
    "start_time": "2022-08-26T18:54:37.684Z"
   },
   {
    "duration": 28,
    "start_time": "2022-08-26T18:54:37.785Z"
   },
   {
    "duration": 14,
    "start_time": "2022-08-26T18:54:37.815Z"
   },
   {
    "duration": 33,
    "start_time": "2022-08-26T18:54:37.830Z"
   },
   {
    "duration": 15,
    "start_time": "2022-08-26T18:54:37.864Z"
   },
   {
    "duration": 16,
    "start_time": "2022-08-26T18:54:37.880Z"
   },
   {
    "duration": 12,
    "start_time": "2022-08-26T18:54:37.898Z"
   },
   {
    "duration": 15,
    "start_time": "2022-08-26T18:54:37.911Z"
   },
   {
    "duration": 5,
    "start_time": "2022-08-26T18:54:37.927Z"
   },
   {
    "duration": 15,
    "start_time": "2022-08-26T18:54:37.934Z"
   },
   {
    "duration": 14,
    "start_time": "2022-08-26T18:54:37.952Z"
   },
   {
    "duration": 42,
    "start_time": "2022-08-26T18:54:37.968Z"
   },
   {
    "duration": 17,
    "start_time": "2022-08-26T18:54:38.012Z"
   },
   {
    "duration": 12,
    "start_time": "2022-08-26T18:54:38.031Z"
   },
   {
    "duration": 6,
    "start_time": "2022-08-26T18:54:38.045Z"
   },
   {
    "duration": 46,
    "start_time": "2022-08-26T18:54:38.053Z"
   },
   {
    "duration": 5,
    "start_time": "2022-08-26T18:54:38.101Z"
   },
   {
    "duration": 1237,
    "start_time": "2022-09-06T17:02:07.093Z"
   },
   {
    "duration": 19,
    "start_time": "2022-09-06T17:02:08.332Z"
   },
   {
    "duration": 14,
    "start_time": "2022-09-06T17:02:08.353Z"
   },
   {
    "duration": 16,
    "start_time": "2022-09-06T17:02:08.370Z"
   },
   {
    "duration": 9,
    "start_time": "2022-09-06T17:02:08.389Z"
   },
   {
    "duration": 9,
    "start_time": "2022-09-06T17:02:08.400Z"
   },
   {
    "duration": 7,
    "start_time": "2022-09-06T17:02:08.411Z"
   },
   {
    "duration": 9,
    "start_time": "2022-09-06T17:02:08.420Z"
   },
   {
    "duration": 11,
    "start_time": "2022-09-06T17:02:08.430Z"
   },
   {
    "duration": 27,
    "start_time": "2022-09-06T17:02:08.444Z"
   },
   {
    "duration": 4,
    "start_time": "2022-09-06T17:02:08.473Z"
   },
   {
    "duration": 5,
    "start_time": "2022-09-06T17:02:08.479Z"
   },
   {
    "duration": 7,
    "start_time": "2022-09-06T17:02:08.485Z"
   },
   {
    "duration": 9,
    "start_time": "2022-09-06T17:02:08.494Z"
   },
   {
    "duration": 20,
    "start_time": "2022-09-06T17:02:08.504Z"
   },
   {
    "duration": 13,
    "start_time": "2022-09-06T17:02:08.525Z"
   },
   {
    "duration": 55,
    "start_time": "2022-09-06T17:02:08.540Z"
   },
   {
    "duration": 21,
    "start_time": "2022-09-06T17:02:08.596Z"
   },
   {
    "duration": 9,
    "start_time": "2022-09-06T17:02:08.620Z"
   },
   {
    "duration": 7,
    "start_time": "2022-09-06T17:02:08.631Z"
   },
   {
    "duration": 242,
    "start_time": "2022-09-06T17:02:08.667Z"
   },
   {
    "duration": 288,
    "start_time": "2022-09-06T17:02:08.911Z"
   },
   {
    "duration": 7,
    "start_time": "2022-09-06T17:02:09.201Z"
   },
   {
    "duration": 430,
    "start_time": "2022-09-06T17:02:09.209Z"
   },
   {
    "duration": 303,
    "start_time": "2022-09-06T17:02:09.641Z"
   },
   {
    "duration": 257,
    "start_time": "2022-09-06T17:02:09.946Z"
   },
   {
    "duration": 4,
    "start_time": "2022-09-06T17:02:10.205Z"
   },
   {
    "duration": 15,
    "start_time": "2022-09-06T17:02:10.212Z"
   },
   {
    "duration": 11,
    "start_time": "2022-09-06T17:02:10.228Z"
   },
   {
    "duration": 29,
    "start_time": "2022-09-06T17:02:10.240Z"
   },
   {
    "duration": 10,
    "start_time": "2022-09-06T17:02:10.271Z"
   },
   {
    "duration": 14,
    "start_time": "2022-09-06T17:02:10.283Z"
   },
   {
    "duration": 108,
    "start_time": "2022-09-06T17:02:10.299Z"
   },
   {
    "duration": 20,
    "start_time": "2022-09-06T17:02:10.409Z"
   },
   {
    "duration": 14,
    "start_time": "2022-09-06T17:02:10.431Z"
   },
   {
    "duration": 23,
    "start_time": "2022-09-06T17:02:10.448Z"
   },
   {
    "duration": 18,
    "start_time": "2022-09-06T17:02:10.473Z"
   },
   {
    "duration": 31,
    "start_time": "2022-09-06T17:02:10.493Z"
   },
   {
    "duration": 19,
    "start_time": "2022-09-06T17:02:10.526Z"
   },
   {
    "duration": 15,
    "start_time": "2022-09-06T17:02:10.547Z"
   },
   {
    "duration": 6,
    "start_time": "2022-09-06T17:02:10.564Z"
   },
   {
    "duration": 14,
    "start_time": "2022-09-06T17:02:10.572Z"
   },
   {
    "duration": 13,
    "start_time": "2022-09-06T17:02:10.587Z"
   },
   {
    "duration": 13,
    "start_time": "2022-09-06T17:02:10.601Z"
   },
   {
    "duration": 14,
    "start_time": "2022-09-06T17:02:10.615Z"
   },
   {
    "duration": 39,
    "start_time": "2022-09-06T17:02:10.631Z"
   },
   {
    "duration": 12,
    "start_time": "2022-09-06T17:02:10.672Z"
   },
   {
    "duration": 11,
    "start_time": "2022-09-06T17:02:10.686Z"
   },
   {
    "duration": 5,
    "start_time": "2022-09-06T17:02:10.699Z"
   }
  ],
  "kernelspec": {
   "display_name": "Python 3 (ipykernel)",
   "language": "python",
   "name": "python3"
  },
  "language_info": {
   "codemirror_mode": {
    "name": "ipython",
    "version": 3
   },
   "file_extension": ".py",
   "mimetype": "text/x-python",
   "name": "python",
   "nbconvert_exporter": "python",
   "pygments_lexer": "ipython3",
   "version": "3.9.5"
  },
  "toc": {
   "base_numbering": 1,
   "nav_menu": {
    "height": "416px",
    "width": "413px"
   },
   "number_sections": true,
   "sideBar": true,
   "skip_h1_title": true,
   "title_cell": "Table of Contents",
   "title_sidebar": "Contents",
   "toc_cell": true,
   "toc_position": {
    "height": "calc(100% - 180px)",
    "left": "10px",
    "top": "150px",
    "width": "360.225px"
   },
   "toc_section_display": true,
   "toc_window_display": true
  }
 },
 "nbformat": 4,
 "nbformat_minor": 2
}
