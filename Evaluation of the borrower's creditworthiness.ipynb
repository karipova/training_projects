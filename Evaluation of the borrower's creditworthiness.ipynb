{
 "cells": [
  {
   "cell_type": "markdown",
   "metadata": {},
   "source": [
    "# Evaluation of the borrower's creditworthiness"
   ]
  },
  {
   "cell_type": "markdown",
   "metadata": {},
   "source": [
    "## Data upload"
   ]
  },
  {
   "cell_type": "code",
   "execution_count": 1,
   "metadata": {},
   "outputs": [
    {
     "name": "stdout",
     "output_type": "stream",
     "text": [
      "<class 'pandas.core.frame.DataFrame'>\n",
      "RangeIndex: 21525 entries, 0 to 21524\n",
      "Data columns (total 12 columns):\n",
      " #   Column            Non-Null Count  Dtype  \n",
      "---  ------            --------------  -----  \n",
      " 0   children          21525 non-null  int64  \n",
      " 1   days_employed     19351 non-null  float64\n",
      " 2   dob_years         21525 non-null  int64  \n",
      " 3   education         21525 non-null  object \n",
      " 4   education_id      21525 non-null  int64  \n",
      " 5   family_status     21525 non-null  object \n",
      " 6   family_status_id  21525 non-null  int64  \n",
      " 7   gender            21525 non-null  object \n",
      " 8   income_type       21525 non-null  object \n",
      " 9   debt              21525 non-null  int64  \n",
      " 10  total_income      19351 non-null  float64\n",
      " 11  purpose           21525 non-null  object \n",
      "dtypes: float64(2), int64(5), object(5)\n",
      "memory usage: 2.0+ MB\n"
     ]
    }
   ],
   "source": [
    "import pandas as pd\n",
    "import matplotlib.pyplot as plt\n",
    "from pymystem3 import Mystem\n",
    "m = Mystem()\n",
    "import functools\n",
    "from string import punctuation\n",
    "from nltk.corpus import stopwords\n",
    "\n",
    "df = pd.read_csv('/datasets/data.csv')\n",
    "df.info()"
   ]
  },
  {
   "cell_type": "code",
   "execution_count": 2,
   "metadata": {
    "scrolled": true
   },
   "outputs": [
    {
     "data": {
      "text/html": [
       "<div>\n",
       "<style scoped>\n",
       "    .dataframe tbody tr th:only-of-type {\n",
       "        vertical-align: middle;\n",
       "    }\n",
       "\n",
       "    .dataframe tbody tr th {\n",
       "        vertical-align: top;\n",
       "    }\n",
       "\n",
       "    .dataframe thead th {\n",
       "        text-align: right;\n",
       "    }\n",
       "</style>\n",
       "<table border=\"1\" class=\"dataframe\">\n",
       "  <thead>\n",
       "    <tr style=\"text-align: right;\">\n",
       "      <th></th>\n",
       "      <th>children</th>\n",
       "      <th>days_employed</th>\n",
       "      <th>dob_years</th>\n",
       "      <th>education</th>\n",
       "      <th>education_id</th>\n",
       "      <th>family_status</th>\n",
       "      <th>family_status_id</th>\n",
       "      <th>gender</th>\n",
       "      <th>income_type</th>\n",
       "      <th>debt</th>\n",
       "      <th>total_income</th>\n",
       "      <th>purpose</th>\n",
       "    </tr>\n",
       "  </thead>\n",
       "  <tbody>\n",
       "    <tr>\n",
       "      <th>0</th>\n",
       "      <td>1</td>\n",
       "      <td>-8437.673028</td>\n",
       "      <td>42</td>\n",
       "      <td>высшее</td>\n",
       "      <td>0</td>\n",
       "      <td>женат / замужем</td>\n",
       "      <td>0</td>\n",
       "      <td>F</td>\n",
       "      <td>сотрудник</td>\n",
       "      <td>0</td>\n",
       "      <td>253875.639453</td>\n",
       "      <td>покупка жилья</td>\n",
       "    </tr>\n",
       "    <tr>\n",
       "      <th>1</th>\n",
       "      <td>1</td>\n",
       "      <td>-4024.803754</td>\n",
       "      <td>36</td>\n",
       "      <td>среднее</td>\n",
       "      <td>1</td>\n",
       "      <td>женат / замужем</td>\n",
       "      <td>0</td>\n",
       "      <td>F</td>\n",
       "      <td>сотрудник</td>\n",
       "      <td>0</td>\n",
       "      <td>112080.014102</td>\n",
       "      <td>приобретение автомобиля</td>\n",
       "    </tr>\n",
       "    <tr>\n",
       "      <th>2</th>\n",
       "      <td>0</td>\n",
       "      <td>-5623.422610</td>\n",
       "      <td>33</td>\n",
       "      <td>Среднее</td>\n",
       "      <td>1</td>\n",
       "      <td>женат / замужем</td>\n",
       "      <td>0</td>\n",
       "      <td>M</td>\n",
       "      <td>сотрудник</td>\n",
       "      <td>0</td>\n",
       "      <td>145885.952297</td>\n",
       "      <td>покупка жилья</td>\n",
       "    </tr>\n",
       "    <tr>\n",
       "      <th>3</th>\n",
       "      <td>3</td>\n",
       "      <td>-4124.747207</td>\n",
       "      <td>32</td>\n",
       "      <td>среднее</td>\n",
       "      <td>1</td>\n",
       "      <td>женат / замужем</td>\n",
       "      <td>0</td>\n",
       "      <td>M</td>\n",
       "      <td>сотрудник</td>\n",
       "      <td>0</td>\n",
       "      <td>267628.550329</td>\n",
       "      <td>дополнительное образование</td>\n",
       "    </tr>\n",
       "    <tr>\n",
       "      <th>4</th>\n",
       "      <td>0</td>\n",
       "      <td>340266.072047</td>\n",
       "      <td>53</td>\n",
       "      <td>среднее</td>\n",
       "      <td>1</td>\n",
       "      <td>гражданский брак</td>\n",
       "      <td>1</td>\n",
       "      <td>F</td>\n",
       "      <td>пенсионер</td>\n",
       "      <td>0</td>\n",
       "      <td>158616.077870</td>\n",
       "      <td>сыграть свадьбу</td>\n",
       "    </tr>\n",
       "  </tbody>\n",
       "</table>\n",
       "</div>"
      ],
      "text/plain": [
       "   children  days_employed  dob_years education  education_id  \\\n",
       "0         1   -8437.673028         42    высшее             0   \n",
       "1         1   -4024.803754         36   среднее             1   \n",
       "2         0   -5623.422610         33   Среднее             1   \n",
       "3         3   -4124.747207         32   среднее             1   \n",
       "4         0  340266.072047         53   среднее             1   \n",
       "\n",
       "      family_status  family_status_id gender income_type  debt   total_income  \\\n",
       "0   женат / замужем                 0      F   сотрудник     0  253875.639453   \n",
       "1   женат / замужем                 0      F   сотрудник     0  112080.014102   \n",
       "2   женат / замужем                 0      M   сотрудник     0  145885.952297   \n",
       "3   женат / замужем                 0      M   сотрудник     0  267628.550329   \n",
       "4  гражданский брак                 1      F   пенсионер     0  158616.077870   \n",
       "\n",
       "                      purpose  \n",
       "0               покупка жилья  \n",
       "1     приобретение автомобиля  \n",
       "2               покупка жилья  \n",
       "3  дополнительное образование  \n",
       "4             сыграть свадьбу  "
      ]
     },
     "execution_count": 2,
     "metadata": {},
     "output_type": "execute_result"
    }
   ],
   "source": [
    "df.head(5)"
   ]
  },
  {
   "cell_type": "markdown",
   "metadata": {},
   "source": [
    "**Conclusion**"
   ]
  },
  {
   "cell_type": "markdown",
   "metadata": {},
   "source": [
    "Already on the first five lines it is clear that the same values are case-sensitive (\"Average\" and \"average\" in the education column). Let's take this into account when preprocessing the data.\n",
    "There are negative values in the \"days_employed\" column. We have no information about the format of the data provided, perhaps it is the difference between the start date and the date serving as a reference point. We will ignore them for further analysis.\n",
    "The columns days_employed, total_income have zero values. Among the numeric data, there is both the float type and the int type."
   ]
  },
  {
   "cell_type": "markdown",
   "metadata": {},
   "source": [
    "## Data preprocessing"
   ]
  },
  {
   "cell_type": "markdown",
   "metadata": {},
   "source": [
    "### Missed values"
   ]
  },
  {
   "cell_type": "code",
   "execution_count": 3,
   "metadata": {},
   "outputs": [
    {
     "data": {
      "text/html": [
       "<div>\n",
       "<style scoped>\n",
       "    .dataframe tbody tr th:only-of-type {\n",
       "        vertical-align: middle;\n",
       "    }\n",
       "\n",
       "    .dataframe tbody tr th {\n",
       "        vertical-align: top;\n",
       "    }\n",
       "\n",
       "    .dataframe thead th {\n",
       "        text-align: right;\n",
       "    }\n",
       "</style>\n",
       "<table border=\"1\" class=\"dataframe\">\n",
       "  <thead>\n",
       "    <tr style=\"text-align: right;\">\n",
       "      <th></th>\n",
       "      <th>children</th>\n",
       "      <th>days_employed</th>\n",
       "      <th>dob_years</th>\n",
       "      <th>education</th>\n",
       "      <th>education_id</th>\n",
       "      <th>family_status</th>\n",
       "      <th>family_status_id</th>\n",
       "      <th>gender</th>\n",
       "      <th>income_type</th>\n",
       "      <th>debt</th>\n",
       "      <th>total_income</th>\n",
       "      <th>purpose</th>\n",
       "    </tr>\n",
       "  </thead>\n",
       "  <tbody>\n",
       "    <tr>\n",
       "      <th>12</th>\n",
       "      <td>0</td>\n",
       "      <td>NaN</td>\n",
       "      <td>65</td>\n",
       "      <td>среднее</td>\n",
       "      <td>1</td>\n",
       "      <td>гражданский брак</td>\n",
       "      <td>1</td>\n",
       "      <td>M</td>\n",
       "      <td>пенсионер</td>\n",
       "      <td>0</td>\n",
       "      <td>NaN</td>\n",
       "      <td>сыграть свадьбу</td>\n",
       "    </tr>\n",
       "    <tr>\n",
       "      <th>26</th>\n",
       "      <td>0</td>\n",
       "      <td>NaN</td>\n",
       "      <td>41</td>\n",
       "      <td>среднее</td>\n",
       "      <td>1</td>\n",
       "      <td>женат / замужем</td>\n",
       "      <td>0</td>\n",
       "      <td>M</td>\n",
       "      <td>госслужащий</td>\n",
       "      <td>0</td>\n",
       "      <td>NaN</td>\n",
       "      <td>образование</td>\n",
       "    </tr>\n",
       "    <tr>\n",
       "      <th>29</th>\n",
       "      <td>0</td>\n",
       "      <td>NaN</td>\n",
       "      <td>63</td>\n",
       "      <td>среднее</td>\n",
       "      <td>1</td>\n",
       "      <td>Не женат / не замужем</td>\n",
       "      <td>4</td>\n",
       "      <td>F</td>\n",
       "      <td>пенсионер</td>\n",
       "      <td>0</td>\n",
       "      <td>NaN</td>\n",
       "      <td>строительство жилой недвижимости</td>\n",
       "    </tr>\n",
       "    <tr>\n",
       "      <th>41</th>\n",
       "      <td>0</td>\n",
       "      <td>NaN</td>\n",
       "      <td>50</td>\n",
       "      <td>среднее</td>\n",
       "      <td>1</td>\n",
       "      <td>женат / замужем</td>\n",
       "      <td>0</td>\n",
       "      <td>F</td>\n",
       "      <td>госслужащий</td>\n",
       "      <td>0</td>\n",
       "      <td>NaN</td>\n",
       "      <td>сделка с подержанным автомобилем</td>\n",
       "    </tr>\n",
       "    <tr>\n",
       "      <th>55</th>\n",
       "      <td>0</td>\n",
       "      <td>NaN</td>\n",
       "      <td>54</td>\n",
       "      <td>среднее</td>\n",
       "      <td>1</td>\n",
       "      <td>гражданский брак</td>\n",
       "      <td>1</td>\n",
       "      <td>F</td>\n",
       "      <td>пенсионер</td>\n",
       "      <td>1</td>\n",
       "      <td>NaN</td>\n",
       "      <td>сыграть свадьбу</td>\n",
       "    </tr>\n",
       "    <tr>\n",
       "      <th>...</th>\n",
       "      <td>...</td>\n",
       "      <td>...</td>\n",
       "      <td>...</td>\n",
       "      <td>...</td>\n",
       "      <td>...</td>\n",
       "      <td>...</td>\n",
       "      <td>...</td>\n",
       "      <td>...</td>\n",
       "      <td>...</td>\n",
       "      <td>...</td>\n",
       "      <td>...</td>\n",
       "      <td>...</td>\n",
       "    </tr>\n",
       "    <tr>\n",
       "      <th>21489</th>\n",
       "      <td>2</td>\n",
       "      <td>NaN</td>\n",
       "      <td>47</td>\n",
       "      <td>Среднее</td>\n",
       "      <td>1</td>\n",
       "      <td>женат / замужем</td>\n",
       "      <td>0</td>\n",
       "      <td>M</td>\n",
       "      <td>компаньон</td>\n",
       "      <td>0</td>\n",
       "      <td>NaN</td>\n",
       "      <td>сделка с автомобилем</td>\n",
       "    </tr>\n",
       "    <tr>\n",
       "      <th>21495</th>\n",
       "      <td>1</td>\n",
       "      <td>NaN</td>\n",
       "      <td>50</td>\n",
       "      <td>среднее</td>\n",
       "      <td>1</td>\n",
       "      <td>гражданский брак</td>\n",
       "      <td>1</td>\n",
       "      <td>F</td>\n",
       "      <td>сотрудник</td>\n",
       "      <td>0</td>\n",
       "      <td>NaN</td>\n",
       "      <td>свадьба</td>\n",
       "    </tr>\n",
       "    <tr>\n",
       "      <th>21497</th>\n",
       "      <td>0</td>\n",
       "      <td>NaN</td>\n",
       "      <td>48</td>\n",
       "      <td>ВЫСШЕЕ</td>\n",
       "      <td>0</td>\n",
       "      <td>женат / замужем</td>\n",
       "      <td>0</td>\n",
       "      <td>F</td>\n",
       "      <td>компаньон</td>\n",
       "      <td>0</td>\n",
       "      <td>NaN</td>\n",
       "      <td>строительство недвижимости</td>\n",
       "    </tr>\n",
       "    <tr>\n",
       "      <th>21502</th>\n",
       "      <td>1</td>\n",
       "      <td>NaN</td>\n",
       "      <td>42</td>\n",
       "      <td>среднее</td>\n",
       "      <td>1</td>\n",
       "      <td>женат / замужем</td>\n",
       "      <td>0</td>\n",
       "      <td>F</td>\n",
       "      <td>сотрудник</td>\n",
       "      <td>0</td>\n",
       "      <td>NaN</td>\n",
       "      <td>строительство жилой недвижимости</td>\n",
       "    </tr>\n",
       "    <tr>\n",
       "      <th>21510</th>\n",
       "      <td>2</td>\n",
       "      <td>NaN</td>\n",
       "      <td>28</td>\n",
       "      <td>среднее</td>\n",
       "      <td>1</td>\n",
       "      <td>женат / замужем</td>\n",
       "      <td>0</td>\n",
       "      <td>F</td>\n",
       "      <td>сотрудник</td>\n",
       "      <td>0</td>\n",
       "      <td>NaN</td>\n",
       "      <td>приобретение автомобиля</td>\n",
       "    </tr>\n",
       "  </tbody>\n",
       "</table>\n",
       "<p>2174 rows × 12 columns</p>\n",
       "</div>"
      ],
      "text/plain": [
       "       children  days_employed  dob_years education  education_id  \\\n",
       "12            0            NaN         65   среднее             1   \n",
       "26            0            NaN         41   среднее             1   \n",
       "29            0            NaN         63   среднее             1   \n",
       "41            0            NaN         50   среднее             1   \n",
       "55            0            NaN         54   среднее             1   \n",
       "...         ...            ...        ...       ...           ...   \n",
       "21489         2            NaN         47   Среднее             1   \n",
       "21495         1            NaN         50   среднее             1   \n",
       "21497         0            NaN         48    ВЫСШЕЕ             0   \n",
       "21502         1            NaN         42   среднее             1   \n",
       "21510         2            NaN         28   среднее             1   \n",
       "\n",
       "               family_status  family_status_id gender  income_type  debt  \\\n",
       "12          гражданский брак                 1      M    пенсионер     0   \n",
       "26           женат / замужем                 0      M  госслужащий     0   \n",
       "29     Не женат / не замужем                 4      F    пенсионер     0   \n",
       "41           женат / замужем                 0      F  госслужащий     0   \n",
       "55          гражданский брак                 1      F    пенсионер     1   \n",
       "...                      ...               ...    ...          ...   ...   \n",
       "21489        женат / замужем                 0      M    компаньон     0   \n",
       "21495       гражданский брак                 1      F    сотрудник     0   \n",
       "21497        женат / замужем                 0      F    компаньон     0   \n",
       "21502        женат / замужем                 0      F    сотрудник     0   \n",
       "21510        женат / замужем                 0      F    сотрудник     0   \n",
       "\n",
       "       total_income                           purpose  \n",
       "12              NaN                   сыграть свадьбу  \n",
       "26              NaN                       образование  \n",
       "29              NaN  строительство жилой недвижимости  \n",
       "41              NaN  сделка с подержанным автомобилем  \n",
       "55              NaN                   сыграть свадьбу  \n",
       "...             ...                               ...  \n",
       "21489           NaN              сделка с автомобилем  \n",
       "21495           NaN                           свадьба  \n",
       "21497           NaN        строительство недвижимости  \n",
       "21502           NaN  строительство жилой недвижимости  \n",
       "21510           NaN           приобретение автомобиля  \n",
       "\n",
       "[2174 rows x 12 columns]"
      ]
     },
     "execution_count": 3,
     "metadata": {},
     "output_type": "execute_result"
    }
   ],
   "source": [
    "df[df['days_employed'].isna()==True]\n",
    "#let's look at the lines in which there are missing values"
   ]
  },
  {
   "cell_type": "markdown",
   "metadata": {},
   "source": [
    "The number of rows with missing values (more than 2 thousand) seems too large. In the formulation of the research task, the relationship of indicators with the number of days of employment does not appear anywhere - let's fill in the missing values in the days_employed column with zeros, and in the total_income column with the median value, as more resistant to outliers."
   ]
  },
  {
   "cell_type": "code",
   "execution_count": 4,
   "metadata": {},
   "outputs": [
    {
     "data": {
      "image/png": "[encoded data removed]",
      "text/plain": [
       "<Figure size 1080x504 with 1 Axes>"
      ]
     },
     "metadata": {
      "needs_background": "light"
     },
     "output_type": "display_data"
    },
    {
     "data": {
      "text/plain": [
       "<AxesSubplot:>"
      ]
     },
     "execution_count": 4,
     "metadata": {},
     "output_type": "execute_result"
    },
    {
     "data": {
      "image/png": "[encoded data removed]",
      "text/plain": [
       "<Figure size 432x288 with 1 Axes>"
      ]
     },
     "metadata": {
      "needs_background": "light"
     },
     "output_type": "display_data"
    }
   ],
   "source": [
    "fig = plt.figure(figsize=(15,7))\n",
    "\n",
    "df[df['days_employed'].isna()]['dob_years'].value_counts(normalize=True).sort_index().plot(kind='bar', alpha=0.9)\n",
    "df[df['days_employed'].notna()]['dob_years'].value_counts(normalize=True).sort_index().plot(kind='bar',color='pink', alpha=0.5)\n",
    "\n",
    "plt.show()\n",
    "\n",
    "df[df['days_employed'].isna()]['dob_years'].hist(density=True, bins=30, alpha=0.9)\n",
    "df[df['days_employed'].notna()]['dob_years'].hist(density=True, bins=30, alpha=0.5, color='pink')"
   ]
  },
  {
   "cell_type": "code",
   "execution_count": 5,
   "metadata": {},
   "outputs": [
    {
     "data": {
      "text/plain": [
       "children            0\n",
       "days_employed       0\n",
       "dob_years           0\n",
       "education           0\n",
       "education_id        0\n",
       "family_status       0\n",
       "family_status_id    0\n",
       "gender              0\n",
       "income_type         0\n",
       "debt                0\n",
       "total_income        0\n",
       "purpose             0\n",
       "dtype: int64"
      ]
     },
     "execution_count": 5,
     "metadata": {},
     "output_type": "execute_result"
    }
   ],
   "source": [
    "df_test=df[(df['days_employed'].isna()==False)&(df['days_employed'].isna()==False)]\n",
    "df_test.isnull().sum()\n",
    "#check that the missing values match for two columns"
   ]
  },
  {
   "cell_type": "code",
   "execution_count": 6,
   "metadata": {},
   "outputs": [
    {
     "data": {
      "text/plain": [
       "сотрудник          0.508280\n",
       "компаньон          0.233671\n",
       "пенсионер          0.189972\n",
       "госслужащий        0.067617\n",
       "предприниматель    0.000460\n",
       "Name: income_type, dtype: float64"
      ]
     },
     "execution_count": 6,
     "metadata": {},
     "output_type": "execute_result"
    }
   ],
   "source": [
    "income_missing_data=df[df['total_income'].isna()==True]\n",
    "income_missing_data['income_type'].value_counts(normalize=True)\n",
    "#let's look at the distribution of passes in the total_income column by employment categories"
   ]
  },
  {
   "cell_type": "code",
   "execution_count": 7,
   "metadata": {},
   "outputs": [
    {
     "data": {
      "text/plain": [
       "сотрудник          0.517493\n",
       "компаньон          0.236525\n",
       "пенсионер          0.177924\n",
       "госслужащий        0.067800\n",
       "безработный        0.000103\n",
       "студент            0.000052\n",
       "предприниматель    0.000052\n",
       "в декрете          0.000052\n",
       "Name: income_type, dtype: float64"
      ]
     },
     "execution_count": 7,
     "metadata": {},
     "output_type": "execute_result"
    }
   ],
   "source": [
    "income_without_missing_data=df[df['total_income'].isna()==False]\n",
    "income_without_missing_data['income_type'].value_counts(normalize=True)\n",
    "#let's look at the distribution in the total_income column by employment categories \n",
    "#for those rows where there are no missing values"
   ]
  },
  {
   "cell_type": "code",
   "execution_count": 8,
   "metadata": {},
   "outputs": [],
   "source": [
    "df['days_employed'] = df['days_employed'].fillna(df.groupby(['dob_years'])['days_employed'].transform('mean'))\n",
    "#replace the gaps in the days_employed column with average values depending on the age of the borrower,\n",
    "#making the assumption that work experience depends on age\n",
    "\n",
    "df['total_income'] = df['total_income'].fillna(df.groupby(['income_type'])['total_income'].transform('median'))\n",
    "#replace the gaps in the total_income column with the median values for each category"
   ]
  },
  {
   "cell_type": "code",
   "execution_count": 9,
   "metadata": {},
   "outputs": [
    {
     "data": {
      "text/plain": [
       "children            0\n",
       "days_employed       0\n",
       "dob_years           0\n",
       "education           0\n",
       "education_id        0\n",
       "family_status       0\n",
       "family_status_id    0\n",
       "gender              0\n",
       "income_type         0\n",
       "debt                0\n",
       "total_income        0\n",
       "purpose             0\n",
       "dtype: int64"
      ]
     },
     "execution_count": 9,
     "metadata": {},
     "output_type": "execute_result"
    }
   ],
   "source": [
    "df.isnull().sum()\n",
    "#check that there are no missing values left"
   ]
  },
  {
   "cell_type": "markdown",
   "metadata": {},
   "source": [
    "**Conclusion**"
   ]
  },
  {
   "cell_type": "markdown",
   "metadata": {},
   "source": [
    "The number of missing values in the original dataset is the same for the days_employed and total_income columns. There is not a single line where the value in the days_employed column was omitted, and not omitted in the total_income column, and vice versa. Probably, if they forget to fill in the value for one field in the questionnaire, a pass for another is automatically substituted. \t"
   ]
  },
  {
   "cell_type": "markdown",
   "metadata": {},
   "source": [
    "### Changing data types"
   ]
  },
  {
   "cell_type": "code",
   "execution_count": 10,
   "metadata": {},
   "outputs": [],
   "source": [
    "for column in ['children', 'total_income']:\n",
    "    df[column] = df[column].astype('int')\n",
    "#replacing data in columns with the float type with an integer"
   ]
  },
  {
   "cell_type": "code",
   "execution_count": 11,
   "metadata": {},
   "outputs": [
    {
     "name": "stdout",
     "output_type": "stream",
     "text": [
      "<class 'pandas.core.frame.DataFrame'>\n",
      "RangeIndex: 21525 entries, 0 to 21524\n",
      "Data columns (total 12 columns):\n",
      " #   Column            Non-Null Count  Dtype  \n",
      "---  ------            --------------  -----  \n",
      " 0   children          21525 non-null  int64  \n",
      " 1   days_employed     21525 non-null  float64\n",
      " 2   dob_years         21525 non-null  int64  \n",
      " 3   education         21525 non-null  object \n",
      " 4   education_id      21525 non-null  int64  \n",
      " 5   family_status     21525 non-null  object \n",
      " 6   family_status_id  21525 non-null  int64  \n",
      " 7   gender            21525 non-null  object \n",
      " 8   income_type       21525 non-null  object \n",
      " 9   debt              21525 non-null  int64  \n",
      " 10  total_income      21525 non-null  int64  \n",
      " 11  purpose           21525 non-null  object \n",
      "dtypes: float64(1), int64(6), object(5)\n",
      "memory usage: 2.0+ MB\n"
     ]
    }
   ],
   "source": [
    "df.info()"
   ]
  },
  {
   "cell_type": "markdown",
   "metadata": {},
   "source": [
    "**Conclusion**"
   ]
  },
  {
   "cell_type": "markdown",
   "metadata": {},
   "source": [
    "To increase the accuracy of the data, it is recommended to replace the real data type with an integer."
   ]
  },
  {
   "cell_type": "markdown",
   "metadata": {},
   "source": [
    "### Duplicate values processing"
   ]
  },
  {
   "cell_type": "code",
   "execution_count": 12,
   "metadata": {},
   "outputs": [
    {
     "data": {
      "text/plain": [
       "71"
      ]
     },
     "execution_count": 12,
     "metadata": {},
     "output_type": "execute_result"
    }
   ],
   "source": [
    "for column in ['education', 'family_status', 'gender', 'income_type', 'purpose']:\n",
    "    df[column] = df[column].str.lower()\n",
    "#reduce all values in columns with the \"object\" type to lowercase\n",
    "df.duplicated().sum()\n",
    "#let's look at the number of duplicates in the updated dataframe"
   ]
  },
  {
   "cell_type": "code",
   "execution_count": 13,
   "metadata": {},
   "outputs": [],
   "source": [
    "df=df.drop_duplicates().reset_index(drop=True)\n",
    "#dropping duplicates"
   ]
  },
  {
   "cell_type": "code",
   "execution_count": 14,
   "metadata": {},
   "outputs": [
    {
     "data": {
      "text/plain": [
       "0"
      ]
     },
     "execution_count": 14,
     "metadata": {},
     "output_type": "execute_result"
    }
   ],
   "source": [
    "df.duplicated().sum()\n",
    "#let's look at the number of duplicates in the updated dataframe"
   ]
  },
  {
   "cell_type": "markdown",
   "metadata": {},
   "source": [
    "**Conclusion**"
   ]
  },
  {
   "cell_type": "markdown",
   "metadata": {},
   "source": [
    "There were 71 fully duplicated lines in the original dataframe. It is unlikely that all the values for the 12 columns matched for so many people, so it was decided to delete these rows. There is probably some problem with collecting or uploading data."
   ]
  },
  {
   "cell_type": "markdown",
   "metadata": {},
   "source": [
    "### Lemmatization"
   ]
  },
  {
   "cell_type": "code",
   "execution_count": 15,
   "metadata": {},
   "outputs": [
    {
     "data": {
      "text/html": [
       "<div>\n",
       "<style scoped>\n",
       "    .dataframe tbody tr th:only-of-type {\n",
       "        vertical-align: middle;\n",
       "    }\n",
       "\n",
       "    .dataframe tbody tr th {\n",
       "        vertical-align: top;\n",
       "    }\n",
       "\n",
       "    .dataframe thead th {\n",
       "        text-align: right;\n",
       "    }\n",
       "</style>\n",
       "<table border=\"1\" class=\"dataframe\">\n",
       "  <thead>\n",
       "    <tr style=\"text-align: right;\">\n",
       "      <th></th>\n",
       "      <th>children</th>\n",
       "      <th>days_employed</th>\n",
       "      <th>dob_years</th>\n",
       "      <th>education</th>\n",
       "      <th>education_id</th>\n",
       "      <th>family_status</th>\n",
       "      <th>family_status_id</th>\n",
       "      <th>gender</th>\n",
       "      <th>income_type</th>\n",
       "      <th>debt</th>\n",
       "      <th>total_income</th>\n",
       "      <th>purpose</th>\n",
       "      <th>purpose_lemmas</th>\n",
       "    </tr>\n",
       "  </thead>\n",
       "  <tbody>\n",
       "    <tr>\n",
       "      <th>3007</th>\n",
       "      <td>0</td>\n",
       "      <td>-9746.372714</td>\n",
       "      <td>53</td>\n",
       "      <td>среднее</td>\n",
       "      <td>1</td>\n",
       "      <td>женат / замужем</td>\n",
       "      <td>0</td>\n",
       "      <td>f</td>\n",
       "      <td>компаньон</td>\n",
       "      <td>0</td>\n",
       "      <td>266487</td>\n",
       "      <td>на покупку автомобиля</td>\n",
       "      <td>[на,  , покупка,  , автомобиль, \\n]</td>\n",
       "    </tr>\n",
       "    <tr>\n",
       "      <th>446</th>\n",
       "      <td>2</td>\n",
       "      <td>-5444.643865</td>\n",
       "      <td>36</td>\n",
       "      <td>высшее</td>\n",
       "      <td>0</td>\n",
       "      <td>женат / замужем</td>\n",
       "      <td>0</td>\n",
       "      <td>m</td>\n",
       "      <td>госслужащий</td>\n",
       "      <td>0</td>\n",
       "      <td>164190</td>\n",
       "      <td>профильное образование</td>\n",
       "      <td>[профильный,  , образование, \\n]</td>\n",
       "    </tr>\n",
       "    <tr>\n",
       "      <th>9239</th>\n",
       "      <td>0</td>\n",
       "      <td>346047.256129</td>\n",
       "      <td>64</td>\n",
       "      <td>среднее</td>\n",
       "      <td>1</td>\n",
       "      <td>не женат / не замужем</td>\n",
       "      <td>4</td>\n",
       "      <td>f</td>\n",
       "      <td>пенсионер</td>\n",
       "      <td>0</td>\n",
       "      <td>91821</td>\n",
       "      <td>на покупку подержанного автомобиля</td>\n",
       "      <td>[на,  , покупка,  , подержать,  , автомобиль, \\n]</td>\n",
       "    </tr>\n",
       "    <tr>\n",
       "      <th>1299</th>\n",
       "      <td>0</td>\n",
       "      <td>372199.240892</td>\n",
       "      <td>61</td>\n",
       "      <td>среднее</td>\n",
       "      <td>1</td>\n",
       "      <td>гражданский брак</td>\n",
       "      <td>1</td>\n",
       "      <td>f</td>\n",
       "      <td>пенсионер</td>\n",
       "      <td>0</td>\n",
       "      <td>80833</td>\n",
       "      <td>сыграть свадьбу</td>\n",
       "      <td>[сыграть,  , свадьба, \\n]</td>\n",
       "    </tr>\n",
       "    <tr>\n",
       "      <th>866</th>\n",
       "      <td>0</td>\n",
       "      <td>-7150.743101</td>\n",
       "      <td>42</td>\n",
       "      <td>среднее</td>\n",
       "      <td>1</td>\n",
       "      <td>гражданский брак</td>\n",
       "      <td>1</td>\n",
       "      <td>f</td>\n",
       "      <td>сотрудник</td>\n",
       "      <td>0</td>\n",
       "      <td>127908</td>\n",
       "      <td>покупка жилой недвижимости</td>\n",
       "      <td>[покупка,  , жилой,  , недвижимость, \\n]</td>\n",
       "    </tr>\n",
       "    <tr>\n",
       "      <th>5483</th>\n",
       "      <td>0</td>\n",
       "      <td>-7748.198133</td>\n",
       "      <td>58</td>\n",
       "      <td>среднее</td>\n",
       "      <td>1</td>\n",
       "      <td>вдовец / вдова</td>\n",
       "      <td>2</td>\n",
       "      <td>f</td>\n",
       "      <td>сотрудник</td>\n",
       "      <td>0</td>\n",
       "      <td>86249</td>\n",
       "      <td>недвижимость</td>\n",
       "      <td>[недвижимость, \\n]</td>\n",
       "    </tr>\n",
       "    <tr>\n",
       "      <th>19945</th>\n",
       "      <td>0</td>\n",
       "      <td>-1403.779132</td>\n",
       "      <td>66</td>\n",
       "      <td>среднее</td>\n",
       "      <td>1</td>\n",
       "      <td>женат / замужем</td>\n",
       "      <td>0</td>\n",
       "      <td>f</td>\n",
       "      <td>сотрудник</td>\n",
       "      <td>0</td>\n",
       "      <td>165996</td>\n",
       "      <td>образование</td>\n",
       "      <td>[образование, \\n]</td>\n",
       "    </tr>\n",
       "    <tr>\n",
       "      <th>6825</th>\n",
       "      <td>1</td>\n",
       "      <td>-731.396794</td>\n",
       "      <td>0</td>\n",
       "      <td>высшее</td>\n",
       "      <td>0</td>\n",
       "      <td>в разводе</td>\n",
       "      <td>3</td>\n",
       "      <td>f</td>\n",
       "      <td>сотрудник</td>\n",
       "      <td>0</td>\n",
       "      <td>247540</td>\n",
       "      <td>покупка жилья</td>\n",
       "      <td>[покупка,  , жилье, \\n]</td>\n",
       "    </tr>\n",
       "    <tr>\n",
       "      <th>10211</th>\n",
       "      <td>1</td>\n",
       "      <td>-1661.074083</td>\n",
       "      <td>39</td>\n",
       "      <td>неоконченное высшее</td>\n",
       "      <td>2</td>\n",
       "      <td>женат / замужем</td>\n",
       "      <td>0</td>\n",
       "      <td>m</td>\n",
       "      <td>компаньон</td>\n",
       "      <td>0</td>\n",
       "      <td>97372</td>\n",
       "      <td>покупка жилья для сдачи</td>\n",
       "      <td>[покупка,  , жилье,  , для,  , сдача, \\n]</td>\n",
       "    </tr>\n",
       "    <tr>\n",
       "      <th>6508</th>\n",
       "      <td>0</td>\n",
       "      <td>-9838.162643</td>\n",
       "      <td>60</td>\n",
       "      <td>среднее</td>\n",
       "      <td>1</td>\n",
       "      <td>женат / замужем</td>\n",
       "      <td>0</td>\n",
       "      <td>f</td>\n",
       "      <td>сотрудник</td>\n",
       "      <td>0</td>\n",
       "      <td>126500</td>\n",
       "      <td>покупка жилья</td>\n",
       "      <td>[покупка,  , жилье, \\n]</td>\n",
       "    </tr>\n",
       "  </tbody>\n",
       "</table>\n",
       "</div>"
      ],
      "text/plain": [
       "       children  days_employed  dob_years            education  education_id  \\\n",
       "3007          0   -9746.372714         53              среднее             1   \n",
       "446           2   -5444.643865         36               высшее             0   \n",
       "9239          0  346047.256129         64              среднее             1   \n",
       "1299          0  372199.240892         61              среднее             1   \n",
       "866           0   -7150.743101         42              среднее             1   \n",
       "5483          0   -7748.198133         58              среднее             1   \n",
       "19945         0   -1403.779132         66              среднее             1   \n",
       "6825          1    -731.396794          0               высшее             0   \n",
       "10211         1   -1661.074083         39  неоконченное высшее             2   \n",
       "6508          0   -9838.162643         60              среднее             1   \n",
       "\n",
       "               family_status  family_status_id gender  income_type  debt  \\\n",
       "3007         женат / замужем                 0      f    компаньон     0   \n",
       "446          женат / замужем                 0      m  госслужащий     0   \n",
       "9239   не женат / не замужем                 4      f    пенсионер     0   \n",
       "1299        гражданский брак                 1      f    пенсионер     0   \n",
       "866         гражданский брак                 1      f    сотрудник     0   \n",
       "5483          вдовец / вдова                 2      f    сотрудник     0   \n",
       "19945        женат / замужем                 0      f    сотрудник     0   \n",
       "6825               в разводе                 3      f    сотрудник     0   \n",
       "10211        женат / замужем                 0      m    компаньон     0   \n",
       "6508         женат / замужем                 0      f    сотрудник     0   \n",
       "\n",
       "       total_income                             purpose  \\\n",
       "3007         266487               на покупку автомобиля   \n",
       "446          164190              профильное образование   \n",
       "9239          91821  на покупку подержанного автомобиля   \n",
       "1299          80833                     сыграть свадьбу   \n",
       "866          127908          покупка жилой недвижимости   \n",
       "5483          86249                        недвижимость   \n",
       "19945        165996                         образование   \n",
       "6825         247540                       покупка жилья   \n",
       "10211         97372             покупка жилья для сдачи   \n",
       "6508         126500                       покупка жилья   \n",
       "\n",
       "                                          purpose_lemmas  \n",
       "3007                 [на,  , покупка,  , автомобиль, \\n]  \n",
       "446                     [профильный,  , образование, \\n]  \n",
       "9239   [на,  , покупка,  , подержать,  , автомобиль, \\n]  \n",
       "1299                           [сыграть,  , свадьба, \\n]  \n",
       "866             [покупка,  , жилой,  , недвижимость, \\n]  \n",
       "5483                                  [недвижимость, \\n]  \n",
       "19945                                  [образование, \\n]  \n",
       "6825                             [покупка,  , жилье, \\n]  \n",
       "10211          [покупка,  , жилье,  , для,  , сдача, \\n]  \n",
       "6508                             [покупка,  , жилье, \\n]  "
      ]
     },
     "execution_count": 15,
     "metadata": {},
     "output_type": "execute_result"
    }
   ],
   "source": [
    "@functools.lru_cache()\n",
    "def get_lemmas(purpose):\n",
    "    return m.lemmatize(purpose)\n",
    "\n",
    "df['purpose_lemmas'] = df['purpose'].apply(get_lemmas)\n",
    "df.sample(10)\n",
    "#look at the result"
   ]
  },
  {
   "cell_type": "markdown",
   "metadata": {},
   "source": [
    "For more accurate data analysis, the value of the purpose column was lemmatized - now the rows with indexes 20 and 24 (\"car\" and \"cars\") in the list of unique values after lemmatization will no longer be unique. During the categorization of data, it will now be possible to divide all borrowers into groups depending on the purpose of the loan."
   ]
  },
  {
   "cell_type": "markdown",
   "metadata": {},
   "source": [
    "### Other data preprocessing"
   ]
  },
  {
   "cell_type": "code",
   "execution_count": 16,
   "metadata": {},
   "outputs": [
    {
     "data": {
      "text/plain": [
       "-1"
      ]
     },
     "execution_count": 16,
     "metadata": {},
     "output_type": "execute_result"
    }
   ],
   "source": [
    "df['children'].min()\n"
   ]
  },
  {
   "cell_type": "code",
   "execution_count": 17,
   "metadata": {},
   "outputs": [],
   "source": [
    "df['children']=df['children'].replace(-1,1)\n",
    "#we replace the negative value \"-1\" with \"1\""
   ]
  },
  {
   "cell_type": "markdown",
   "metadata": {},
   "source": [
    "**Conclusion**"
   ]
  },
  {
   "cell_type": "markdown",
   "metadata": {},
   "source": [
    "During further data analysis, a problem was discovered that was not identified at the initial stage of data preprocessing: negative values in the \"children\" column, probably related to incorrect filling out of the form on the website/in the database - an extra \"-\" was added before the digit."
   ]
  },
  {
   "cell_type": "markdown",
   "metadata": {},
   "source": [
    "### Data categorization"
   ]
  },
  {
   "cell_type": "code",
   "execution_count": 18,
   "metadata": {},
   "outputs": [
    {
     "data": {
      "text/html": [
       "<div>\n",
       "<style scoped>\n",
       "    .dataframe tbody tr th:only-of-type {\n",
       "        vertical-align: middle;\n",
       "    }\n",
       "\n",
       "    .dataframe tbody tr th {\n",
       "        vertical-align: top;\n",
       "    }\n",
       "\n",
       "    .dataframe thead th {\n",
       "        text-align: right;\n",
       "    }\n",
       "</style>\n",
       "<table border=\"1\" class=\"dataframe\">\n",
       "  <thead>\n",
       "    <tr style=\"text-align: right;\">\n",
       "      <th></th>\n",
       "      <th>children</th>\n",
       "      <th>days_employed</th>\n",
       "      <th>dob_years</th>\n",
       "      <th>education</th>\n",
       "      <th>education_id</th>\n",
       "      <th>family_status</th>\n",
       "      <th>family_status_id</th>\n",
       "      <th>gender</th>\n",
       "      <th>income_type</th>\n",
       "      <th>debt</th>\n",
       "      <th>total_income</th>\n",
       "      <th>purpose</th>\n",
       "      <th>purpose_lemmas</th>\n",
       "      <th>purpose_lemmas_clean</th>\n",
       "    </tr>\n",
       "  </thead>\n",
       "  <tbody>\n",
       "    <tr>\n",
       "      <th>18755</th>\n",
       "      <td>1</td>\n",
       "      <td>382095.717952</td>\n",
       "      <td>56</td>\n",
       "      <td>среднее</td>\n",
       "      <td>1</td>\n",
       "      <td>вдовец / вдова</td>\n",
       "      <td>2</td>\n",
       "      <td>m</td>\n",
       "      <td>пенсионер</td>\n",
       "      <td>1</td>\n",
       "      <td>162376</td>\n",
       "      <td>операции со своей недвижимостью</td>\n",
       "      <td>[операция,  , со,  , свой,  , недвижимость, \\n]</td>\n",
       "      <td>[операция,  ,  , свой,  , недвижимость, \\n]</td>\n",
       "    </tr>\n",
       "    <tr>\n",
       "      <th>15555</th>\n",
       "      <td>0</td>\n",
       "      <td>-4265.412485</td>\n",
       "      <td>41</td>\n",
       "      <td>среднее</td>\n",
       "      <td>1</td>\n",
       "      <td>гражданский брак</td>\n",
       "      <td>1</td>\n",
       "      <td>f</td>\n",
       "      <td>компаньон</td>\n",
       "      <td>0</td>\n",
       "      <td>222517</td>\n",
       "      <td>операции со своей недвижимостью</td>\n",
       "      <td>[операция,  , со,  , свой,  , недвижимость, \\n]</td>\n",
       "      <td>[операция,  ,  , свой,  , недвижимость, \\n]</td>\n",
       "    </tr>\n",
       "    <tr>\n",
       "      <th>10754</th>\n",
       "      <td>1</td>\n",
       "      <td>-880.626027</td>\n",
       "      <td>26</td>\n",
       "      <td>среднее</td>\n",
       "      <td>1</td>\n",
       "      <td>женат / замужем</td>\n",
       "      <td>0</td>\n",
       "      <td>m</td>\n",
       "      <td>сотрудник</td>\n",
       "      <td>1</td>\n",
       "      <td>152121</td>\n",
       "      <td>получение образования</td>\n",
       "      <td>[получение,  , образование, \\n]</td>\n",
       "      <td>[получение,  , образование, \\n]</td>\n",
       "    </tr>\n",
       "    <tr>\n",
       "      <th>20241</th>\n",
       "      <td>1</td>\n",
       "      <td>-3028.027736</td>\n",
       "      <td>37</td>\n",
       "      <td>среднее</td>\n",
       "      <td>1</td>\n",
       "      <td>не женат / не замужем</td>\n",
       "      <td>4</td>\n",
       "      <td>m</td>\n",
       "      <td>компаньон</td>\n",
       "      <td>0</td>\n",
       "      <td>114251</td>\n",
       "      <td>профильное образование</td>\n",
       "      <td>[профильный,  , образование, \\n]</td>\n",
       "      <td>[профильный,  , образование, \\n]</td>\n",
       "    </tr>\n",
       "    <tr>\n",
       "      <th>18637</th>\n",
       "      <td>1</td>\n",
       "      <td>-1487.619217</td>\n",
       "      <td>30</td>\n",
       "      <td>среднее</td>\n",
       "      <td>1</td>\n",
       "      <td>женат / замужем</td>\n",
       "      <td>0</td>\n",
       "      <td>f</td>\n",
       "      <td>сотрудник</td>\n",
       "      <td>0</td>\n",
       "      <td>69490</td>\n",
       "      <td>дополнительное образование</td>\n",
       "      <td>[дополнительный,  , образование, \\n]</td>\n",
       "      <td>[дополнительный,  , образование, \\n]</td>\n",
       "    </tr>\n",
       "    <tr>\n",
       "      <th>20425</th>\n",
       "      <td>0</td>\n",
       "      <td>341983.343845</td>\n",
       "      <td>67</td>\n",
       "      <td>среднее</td>\n",
       "      <td>1</td>\n",
       "      <td>в разводе</td>\n",
       "      <td>3</td>\n",
       "      <td>f</td>\n",
       "      <td>пенсионер</td>\n",
       "      <td>0</td>\n",
       "      <td>57327</td>\n",
       "      <td>жилье</td>\n",
       "      <td>[жилье, \\n]</td>\n",
       "      <td>[жилье, \\n]</td>\n",
       "    </tr>\n",
       "    <tr>\n",
       "      <th>5136</th>\n",
       "      <td>1</td>\n",
       "      <td>-895.075157</td>\n",
       "      <td>22</td>\n",
       "      <td>высшее</td>\n",
       "      <td>0</td>\n",
       "      <td>гражданский брак</td>\n",
       "      <td>1</td>\n",
       "      <td>f</td>\n",
       "      <td>компаньон</td>\n",
       "      <td>0</td>\n",
       "      <td>135450</td>\n",
       "      <td>на проведение свадьбы</td>\n",
       "      <td>[на,  , проведение,  , свадьба, \\n]</td>\n",
       "      <td>[ , проведение,  , свадьба, \\n]</td>\n",
       "    </tr>\n",
       "    <tr>\n",
       "      <th>12602</th>\n",
       "      <td>1</td>\n",
       "      <td>-3732.303070</td>\n",
       "      <td>38</td>\n",
       "      <td>высшее</td>\n",
       "      <td>0</td>\n",
       "      <td>женат / замужем</td>\n",
       "      <td>0</td>\n",
       "      <td>m</td>\n",
       "      <td>сотрудник</td>\n",
       "      <td>0</td>\n",
       "      <td>195502</td>\n",
       "      <td>операции с жильем</td>\n",
       "      <td>[операция,  , с,  , жилье, \\n]</td>\n",
       "      <td>[операция,  ,  , жилье, \\n]</td>\n",
       "    </tr>\n",
       "    <tr>\n",
       "      <th>17673</th>\n",
       "      <td>0</td>\n",
       "      <td>-2008.875809</td>\n",
       "      <td>46</td>\n",
       "      <td>среднее</td>\n",
       "      <td>1</td>\n",
       "      <td>женат / замужем</td>\n",
       "      <td>0</td>\n",
       "      <td>f</td>\n",
       "      <td>сотрудник</td>\n",
       "      <td>0</td>\n",
       "      <td>159265</td>\n",
       "      <td>профильное образование</td>\n",
       "      <td>[профильный,  , образование, \\n]</td>\n",
       "      <td>[профильный,  , образование, \\n]</td>\n",
       "    </tr>\n",
       "    <tr>\n",
       "      <th>14778</th>\n",
       "      <td>1</td>\n",
       "      <td>-2419.250511</td>\n",
       "      <td>30</td>\n",
       "      <td>среднее</td>\n",
       "      <td>1</td>\n",
       "      <td>гражданский брак</td>\n",
       "      <td>1</td>\n",
       "      <td>f</td>\n",
       "      <td>компаньон</td>\n",
       "      <td>0</td>\n",
       "      <td>229519</td>\n",
       "      <td>на покупку своего автомобиля</td>\n",
       "      <td>[на,  , покупка,  , свой,  , автомобиль, \\n]</td>\n",
       "      <td>[ , покупка,  , свой,  , автомобиль, \\n]</td>\n",
       "    </tr>\n",
       "  </tbody>\n",
       "</table>\n",
       "</div>"
      ],
      "text/plain": [
       "       children  days_employed  dob_years education  education_id  \\\n",
       "18755         1  382095.717952         56   среднее             1   \n",
       "15555         0   -4265.412485         41   среднее             1   \n",
       "10754         1    -880.626027         26   среднее             1   \n",
       "20241         1   -3028.027736         37   среднее             1   \n",
       "18637         1   -1487.619217         30   среднее             1   \n",
       "20425         0  341983.343845         67   среднее             1   \n",
       "5136          1    -895.075157         22    высшее             0   \n",
       "12602         1   -3732.303070         38    высшее             0   \n",
       "17673         0   -2008.875809         46   среднее             1   \n",
       "14778         1   -2419.250511         30   среднее             1   \n",
       "\n",
       "               family_status  family_status_id gender income_type  debt  \\\n",
       "18755         вдовец / вдова                 2      m   пенсионер     1   \n",
       "15555       гражданский брак                 1      f   компаньон     0   \n",
       "10754        женат / замужем                 0      m   сотрудник     1   \n",
       "20241  не женат / не замужем                 4      m   компаньон     0   \n",
       "18637        женат / замужем                 0      f   сотрудник     0   \n",
       "20425              в разводе                 3      f   пенсионер     0   \n",
       "5136        гражданский брак                 1      f   компаньон     0   \n",
       "12602        женат / замужем                 0      m   сотрудник     0   \n",
       "17673        женат / замужем                 0      f   сотрудник     0   \n",
       "14778       гражданский брак                 1      f   компаньон     0   \n",
       "\n",
       "       total_income                          purpose  \\\n",
       "18755        162376  операции со своей недвижимостью   \n",
       "15555        222517  операции со своей недвижимостью   \n",
       "10754        152121            получение образования   \n",
       "20241        114251           профильное образование   \n",
       "18637         69490       дополнительное образование   \n",
       "20425         57327                            жилье   \n",
       "5136         135450            на проведение свадьбы   \n",
       "12602        195502                операции с жильем   \n",
       "17673        159265           профильное образование   \n",
       "14778        229519     на покупку своего автомобиля   \n",
       "\n",
       "                                        purpose_lemmas  \\\n",
       "18755  [операция,  , со,  , свой,  , недвижимость, \\n]   \n",
       "15555  [операция,  , со,  , свой,  , недвижимость, \\n]   \n",
       "10754                  [получение,  , образование, \\n]   \n",
       "20241                 [профильный,  , образование, \\n]   \n",
       "18637             [дополнительный,  , образование, \\n]   \n",
       "20425                                      [жилье, \\n]   \n",
       "5136               [на,  , проведение,  , свадьба, \\n]   \n",
       "12602                   [операция,  , с,  , жилье, \\n]   \n",
       "17673                 [профильный,  , образование, \\n]   \n",
       "14778     [на,  , покупка,  , свой,  , автомобиль, \\n]   \n",
       "\n",
       "                              purpose_lemmas_clean  \n",
       "18755  [операция,  ,  , свой,  , недвижимость, \\n]  \n",
       "15555  [операция,  ,  , свой,  , недвижимость, \\n]  \n",
       "10754              [получение,  , образование, \\n]  \n",
       "20241             [профильный,  , образование, \\n]  \n",
       "18637         [дополнительный,  , образование, \\n]  \n",
       "20425                                  [жилье, \\n]  \n",
       "5136               [ , проведение,  , свадьба, \\n]  \n",
       "12602                  [операция,  ,  , жилье, \\n]  \n",
       "17673             [профильный,  , образование, \\n]  \n",
       "14778     [ , покупка,  , свой,  , автомобиль, \\n]  "
      ]
     },
     "execution_count": 18,
     "metadata": {},
     "output_type": "execute_result"
    }
   ],
   "source": [
    "stop_words=stopwords.words(\"russian\")\n",
    "lemmas_cleaned=[]\n",
    "\n",
    "for text in df['purpose_lemmas']:\n",
    "    text = [word for word in text if word not in stop_words]\n",
    "    lemmas_cleaned.append(text)\n",
    "\n",
    "df['purpose_lemmas_clean']=lemmas_cleaned\n",
    "df.sample(10)"
   ]
  },
  {
   "cell_type": "code",
   "execution_count": 19,
   "metadata": {},
   "outputs": [
    {
     "data": {
      "text/html": [
       "<div>\n",
       "<style scoped>\n",
       "    .dataframe tbody tr th:only-of-type {\n",
       "        vertical-align: middle;\n",
       "    }\n",
       "\n",
       "    .dataframe tbody tr th {\n",
       "        vertical-align: top;\n",
       "    }\n",
       "\n",
       "    .dataframe thead th {\n",
       "        text-align: right;\n",
       "    }\n",
       "</style>\n",
       "<table border=\"1\" class=\"dataframe\">\n",
       "  <thead>\n",
       "    <tr style=\"text-align: right;\">\n",
       "      <th></th>\n",
       "      <th>children</th>\n",
       "      <th>days_employed</th>\n",
       "      <th>dob_years</th>\n",
       "      <th>education</th>\n",
       "      <th>education_id</th>\n",
       "      <th>family_status</th>\n",
       "      <th>family_status_id</th>\n",
       "      <th>gender</th>\n",
       "      <th>income_type</th>\n",
       "      <th>debt</th>\n",
       "      <th>total_income</th>\n",
       "      <th>purpose</th>\n",
       "      <th>purpose_lemmas</th>\n",
       "      <th>purpose_lemmas_clean</th>\n",
       "    </tr>\n",
       "  </thead>\n",
       "  <tbody>\n",
       "    <tr>\n",
       "      <th>1298</th>\n",
       "      <td>0</td>\n",
       "      <td>-656.620416</td>\n",
       "      <td>42</td>\n",
       "      <td>среднее</td>\n",
       "      <td>1</td>\n",
       "      <td>гражданский брак</td>\n",
       "      <td>1</td>\n",
       "      <td>f</td>\n",
       "      <td>госслужащий</td>\n",
       "      <td>0</td>\n",
       "      <td>172907</td>\n",
       "      <td>на проведение свадьбы</td>\n",
       "      <td>[на,  , проведение,  , свадьба, \\n]</td>\n",
       "      <td>проведение свадьба</td>\n",
       "    </tr>\n",
       "    <tr>\n",
       "      <th>20319</th>\n",
       "      <td>0</td>\n",
       "      <td>-336.963372</td>\n",
       "      <td>47</td>\n",
       "      <td>среднее</td>\n",
       "      <td>1</td>\n",
       "      <td>гражданский брак</td>\n",
       "      <td>1</td>\n",
       "      <td>m</td>\n",
       "      <td>сотрудник</td>\n",
       "      <td>0</td>\n",
       "      <td>61724</td>\n",
       "      <td>свадьба</td>\n",
       "      <td>[свадьба, \\n]</td>\n",
       "      <td>свадьба</td>\n",
       "    </tr>\n",
       "    <tr>\n",
       "      <th>2688</th>\n",
       "      <td>0</td>\n",
       "      <td>-2263.846551</td>\n",
       "      <td>46</td>\n",
       "      <td>высшее</td>\n",
       "      <td>0</td>\n",
       "      <td>женат / замужем</td>\n",
       "      <td>0</td>\n",
       "      <td>m</td>\n",
       "      <td>сотрудник</td>\n",
       "      <td>0</td>\n",
       "      <td>567440</td>\n",
       "      <td>жилье</td>\n",
       "      <td>[жилье, \\n]</td>\n",
       "      <td>жилье</td>\n",
       "    </tr>\n",
       "    <tr>\n",
       "      <th>13991</th>\n",
       "      <td>1</td>\n",
       "      <td>-954.029054</td>\n",
       "      <td>37</td>\n",
       "      <td>высшее</td>\n",
       "      <td>0</td>\n",
       "      <td>гражданский брак</td>\n",
       "      <td>1</td>\n",
       "      <td>f</td>\n",
       "      <td>компаньон</td>\n",
       "      <td>0</td>\n",
       "      <td>137823</td>\n",
       "      <td>на проведение свадьбы</td>\n",
       "      <td>[на,  , проведение,  , свадьба, \\n]</td>\n",
       "      <td>проведение свадьба</td>\n",
       "    </tr>\n",
       "    <tr>\n",
       "      <th>19352</th>\n",
       "      <td>0</td>\n",
       "      <td>-2963.076314</td>\n",
       "      <td>25</td>\n",
       "      <td>среднее</td>\n",
       "      <td>1</td>\n",
       "      <td>женат / замужем</td>\n",
       "      <td>0</td>\n",
       "      <td>m</td>\n",
       "      <td>сотрудник</td>\n",
       "      <td>0</td>\n",
       "      <td>201598</td>\n",
       "      <td>покупка жилья для семьи</td>\n",
       "      <td>[покупка,  , жилье,  , для,  , семья, \\n]</td>\n",
       "      <td>покупка жилье  семья</td>\n",
       "    </tr>\n",
       "    <tr>\n",
       "      <th>7278</th>\n",
       "      <td>0</td>\n",
       "      <td>-1333.025172</td>\n",
       "      <td>27</td>\n",
       "      <td>среднее</td>\n",
       "      <td>1</td>\n",
       "      <td>не женат / не замужем</td>\n",
       "      <td>4</td>\n",
       "      <td>m</td>\n",
       "      <td>сотрудник</td>\n",
       "      <td>0</td>\n",
       "      <td>498767</td>\n",
       "      <td>покупка жилья для сдачи</td>\n",
       "      <td>[покупка,  , жилье,  , для,  , сдача, \\n]</td>\n",
       "      <td>покупка жилье  сдача</td>\n",
       "    </tr>\n",
       "    <tr>\n",
       "      <th>4030</th>\n",
       "      <td>0</td>\n",
       "      <td>-200.806514</td>\n",
       "      <td>28</td>\n",
       "      <td>неоконченное высшее</td>\n",
       "      <td>2</td>\n",
       "      <td>не женат / не замужем</td>\n",
       "      <td>4</td>\n",
       "      <td>m</td>\n",
       "      <td>компаньон</td>\n",
       "      <td>1</td>\n",
       "      <td>106950</td>\n",
       "      <td>покупка недвижимости</td>\n",
       "      <td>[покупка,  , недвижимость, \\n]</td>\n",
       "      <td>покупка недвижимость</td>\n",
       "    </tr>\n",
       "    <tr>\n",
       "      <th>1383</th>\n",
       "      <td>0</td>\n",
       "      <td>353802.811675</td>\n",
       "      <td>37</td>\n",
       "      <td>среднее</td>\n",
       "      <td>1</td>\n",
       "      <td>вдовец / вдова</td>\n",
       "      <td>2</td>\n",
       "      <td>f</td>\n",
       "      <td>пенсионер</td>\n",
       "      <td>0</td>\n",
       "      <td>216452</td>\n",
       "      <td>строительство недвижимости</td>\n",
       "      <td>[строительство,  , недвижимость, \\n]</td>\n",
       "      <td>строительство недвижимость</td>\n",
       "    </tr>\n",
       "    <tr>\n",
       "      <th>9510</th>\n",
       "      <td>0</td>\n",
       "      <td>-154.932211</td>\n",
       "      <td>22</td>\n",
       "      <td>неоконченное высшее</td>\n",
       "      <td>2</td>\n",
       "      <td>не женат / не замужем</td>\n",
       "      <td>4</td>\n",
       "      <td>f</td>\n",
       "      <td>компаньон</td>\n",
       "      <td>0</td>\n",
       "      <td>84849</td>\n",
       "      <td>покупка жилой недвижимости</td>\n",
       "      <td>[покупка,  , жилой,  , недвижимость, \\n]</td>\n",
       "      <td>покупка жилой недвижимость</td>\n",
       "    </tr>\n",
       "    <tr>\n",
       "      <th>17713</th>\n",
       "      <td>0</td>\n",
       "      <td>-2916.627480</td>\n",
       "      <td>43</td>\n",
       "      <td>среднее</td>\n",
       "      <td>1</td>\n",
       "      <td>гражданский брак</td>\n",
       "      <td>1</td>\n",
       "      <td>f</td>\n",
       "      <td>сотрудник</td>\n",
       "      <td>0</td>\n",
       "      <td>174931</td>\n",
       "      <td>на покупку подержанного автомобиля</td>\n",
       "      <td>[на,  , покупка,  , подержать,  , автомобиль, \\n]</td>\n",
       "      <td>покупка подержать автомобиль</td>\n",
       "    </tr>\n",
       "  </tbody>\n",
       "</table>\n",
       "</div>"
      ],
      "text/plain": [
       "       children  days_employed  dob_years            education  education_id  \\\n",
       "1298          0    -656.620416         42              среднее             1   \n",
       "20319         0    -336.963372         47              среднее             1   \n",
       "2688          0   -2263.846551         46               высшее             0   \n",
       "13991         1    -954.029054         37               высшее             0   \n",
       "19352         0   -2963.076314         25              среднее             1   \n",
       "7278          0   -1333.025172         27              среднее             1   \n",
       "4030          0    -200.806514         28  неоконченное высшее             2   \n",
       "1383          0  353802.811675         37              среднее             1   \n",
       "9510          0    -154.932211         22  неоконченное высшее             2   \n",
       "17713         0   -2916.627480         43              среднее             1   \n",
       "\n",
       "               family_status  family_status_id gender  income_type  debt  \\\n",
       "1298        гражданский брак                 1      f  госслужащий     0   \n",
       "20319       гражданский брак                 1      m    сотрудник     0   \n",
       "2688         женат / замужем                 0      m    сотрудник     0   \n",
       "13991       гражданский брак                 1      f    компаньон     0   \n",
       "19352        женат / замужем                 0      m    сотрудник     0   \n",
       "7278   не женат / не замужем                 4      m    сотрудник     0   \n",
       "4030   не женат / не замужем                 4      m    компаньон     1   \n",
       "1383          вдовец / вдова                 2      f    пенсионер     0   \n",
       "9510   не женат / не замужем                 4      f    компаньон     0   \n",
       "17713       гражданский брак                 1      f    сотрудник     0   \n",
       "\n",
       "       total_income                             purpose  \\\n",
       "1298         172907               на проведение свадьбы   \n",
       "20319         61724                             свадьба   \n",
       "2688         567440                               жилье   \n",
       "13991        137823               на проведение свадьбы   \n",
       "19352        201598             покупка жилья для семьи   \n",
       "7278         498767             покупка жилья для сдачи   \n",
       "4030         106950                покупка недвижимости   \n",
       "1383         216452          строительство недвижимости   \n",
       "9510          84849          покупка жилой недвижимости   \n",
       "17713        174931  на покупку подержанного автомобиля   \n",
       "\n",
       "                                          purpose_lemmas  \\\n",
       "1298                 [на,  , проведение,  , свадьба, \\n]   \n",
       "20319                                      [свадьба, \\n]   \n",
       "2688                                         [жилье, \\n]   \n",
       "13991                [на,  , проведение,  , свадьба, \\n]   \n",
       "19352          [покупка,  , жилье,  , для,  , семья, \\n]   \n",
       "7278           [покупка,  , жилье,  , для,  , сдача, \\n]   \n",
       "4030                      [покупка,  , недвижимость, \\n]   \n",
       "1383                [строительство,  , недвижимость, \\n]   \n",
       "9510            [покупка,  , жилой,  , недвижимость, \\n]   \n",
       "17713  [на,  , покупка,  , подержать,  , автомобиль, \\n]   \n",
       "\n",
       "               purpose_lemmas_clean  \n",
       "1298             проведение свадьба  \n",
       "20319                       свадьба  \n",
       "2688                          жилье  \n",
       "13991            проведение свадьба  \n",
       "19352          покупка жилье  семья  \n",
       "7278           покупка жилье  сдача  \n",
       "4030           покупка недвижимость  \n",
       "1383     строительство недвижимость  \n",
       "9510     покупка жилой недвижимость  \n",
       "17713  покупка подержать автомобиль  "
      ]
     },
     "execution_count": 19,
     "metadata": {},
     "output_type": "execute_result"
    }
   ],
   "source": [
    "df['purpose_lemmas_clean']=lemmas_cleaned\n",
    "#we clean the \"purpose_lemmas\" column from stop words and save everything to a new one\n",
    "#the \"purpose_lemmas_clean\" column\n",
    "\n",
    "lemmas_cleaned_final=[]\n",
    "for text in df['purpose_lemmas_clean']:\n",
    "    text = ''.join(c for c in text if c not in punctuation).strip()\n",
    "    lemmas_cleaned_final.append(text)\n",
    "    \n",
    "df['purpose_lemmas_clean']=lemmas_cleaned_final\n",
    "#removing punctuation marks\n",
    "\n",
    "df.sample(10)"
   ]
  },
  {
   "cell_type": "code",
   "execution_count": 20,
   "metadata": {},
   "outputs": [
    {
     "data": {
      "text/plain": [
       "автомобиль                                972\n",
       "свадьба                                   791\n",
       "проведение свадьба                        768\n",
       "сыграть свадьба                           765\n",
       "операция  недвижимость                    675\n",
       "покупка коммерческий недвижимость         661\n",
       "операция  жилье                           652\n",
       "покупка жилье  сдача                      651\n",
       "операция  коммерческий недвижимость       650\n",
       "жилье                                     646\n",
       "покупка жилье                             646\n",
       "покупка жилье  семья                      638\n",
       "строительство собственный недвижимость    635\n",
       "недвижимость                              633\n",
       "операция  свой недвижимость               627\n",
       "строительство жилой недвижимость          624\n",
       "покупка недвижимость                      621\n",
       "покупка свой жилье                        620\n",
       "строительство недвижимость                619\n",
       "ремонт жилье                              607\n",
       "покупка жилой недвижимость                606\n",
       "покупка свой автомобиль                   505\n",
       "заниматься высокий образование            496\n",
       "сделка  подержанный автомобиль            486\n",
       "покупка подержать автомобиль              478\n",
       "свой автомобиль                           478\n",
       "покупка автомобиль                        471\n",
       "приобретение автомобиль                   461\n",
       "дополнительный образование                460\n",
       "сделка  автомобиль                        455\n",
       "высокий образование                       452\n",
       "образование                               447\n",
       "получение дополнительный образование      446\n",
       "получение образование                     442\n",
       "профильный образование                    436\n",
       "получение высокий образование             426\n",
       "заниматься образование                    408\n",
       "Name: purpose_lemmas_clean, dtype: int64"
      ]
     },
     "execution_count": 20,
     "metadata": {},
     "output_type": "execute_result"
    }
   ],
   "source": [
    "df['purpose_lemmas_clean'].value_counts()"
   ]
  },
  {
   "cell_type": "code",
   "execution_count": 21,
   "metadata": {},
   "outputs": [],
   "source": [
    "def define_purpose_category (lem_group):\n",
    "    if ('недвижимость' in lem_group) | ('жилье' in lem_group):\n",
    "        return 'real estate'\n",
    "    elif 'автомобиль' in lem_group:\n",
    "        return 'vehicle'\n",
    "    elif 'образование' in lem_group:\n",
    "        return 'education'\n",
    "    elif 'свадьба' in lem_group:\n",
    "        return 'marriage'    \n",
    "    else:\n",
    "        return 'other'\n",
    "\n",
    "df['purpose_category'] = df['purpose_lemmas'].apply(define_purpose_category)\n",
    "#apply the function of categorizing the reasons for the purposes of the loan \n",
    "#to the \"purpose_lemmas\" column and write the result of the function in a new\n",
    "#the \"purpose_category\" column  "
   ]
  },
  {
   "cell_type": "code",
   "execution_count": 22,
   "metadata": {},
   "outputs": [
    {
     "data": {
      "text/plain": [
       "purpose_category\n",
       "education      2222\n",
       "marriage       1257\n",
       "real estate    5877\n",
       "vehicle        2322\n",
       "Name: children, dtype: int64"
      ]
     },
     "execution_count": 22,
     "metadata": {},
     "output_type": "execute_result"
    }
   ],
   "source": [
    "df.groupby('purpose_category')['children'].sum()\n",
    "#let's see how the number of children is distributed for each reason to take out a loan"
   ]
  },
  {
   "cell_type": "markdown",
   "metadata": {},
   "source": [
    "So far, everything seems logical: people who are planning a wedding should have fewer children than those who have not started a family life. Probably, families with children are more likely to upgrade and buy a car or improve living conditions, and parents don't have much free time to get additional education. The define_purpose_category function has not assigned the value 'other' to any row, therefore, there are only 4 generalized reasons for obtaining a loan in the data under study."
   ]
  },
  {
   "cell_type": "code",
   "execution_count": 23,
   "metadata": {},
   "outputs": [],
   "source": [
    "df_total_income = pd.DataFrame(df['total_income'],columns=['total_income']).astype('int')"
   ]
  },
  {
   "cell_type": "code",
   "execution_count": 24,
   "metadata": {},
   "outputs": [
    {
     "data": {
      "text/html": [
       "<div>\n",
       "<style scoped>\n",
       "    .dataframe tbody tr th:only-of-type {\n",
       "        vertical-align: middle;\n",
       "    }\n",
       "\n",
       "    .dataframe tbody tr th {\n",
       "        vertical-align: top;\n",
       "    }\n",
       "\n",
       "    .dataframe thead th {\n",
       "        text-align: right;\n",
       "    }\n",
       "</style>\n",
       "<table border=\"1\" class=\"dataframe\">\n",
       "  <thead>\n",
       "    <tr style=\"text-align: right;\">\n",
       "      <th></th>\n",
       "      <th>children</th>\n",
       "      <th>days_employed</th>\n",
       "      <th>dob_years</th>\n",
       "      <th>education</th>\n",
       "      <th>education_id</th>\n",
       "      <th>family_status</th>\n",
       "      <th>family_status_id</th>\n",
       "      <th>gender</th>\n",
       "      <th>income_type</th>\n",
       "      <th>debt</th>\n",
       "      <th>total_income</th>\n",
       "      <th>purpose</th>\n",
       "      <th>purpose_lemmas</th>\n",
       "      <th>purpose_lemmas_clean</th>\n",
       "      <th>purpose_category</th>\n",
       "      <th>income_category</th>\n",
       "    </tr>\n",
       "  </thead>\n",
       "  <tbody>\n",
       "    <tr>\n",
       "      <th>0</th>\n",
       "      <td>1</td>\n",
       "      <td>-8437.673028</td>\n",
       "      <td>42</td>\n",
       "      <td>высшее</td>\n",
       "      <td>0</td>\n",
       "      <td>женат / замужем</td>\n",
       "      <td>0</td>\n",
       "      <td>f</td>\n",
       "      <td>сотрудник</td>\n",
       "      <td>0</td>\n",
       "      <td>253875</td>\n",
       "      <td>покупка жилья</td>\n",
       "      <td>[покупка,  , жилье, \\n]</td>\n",
       "      <td>покупка жилье</td>\n",
       "      <td>real estate</td>\n",
       "      <td>rich</td>\n",
       "    </tr>\n",
       "    <tr>\n",
       "      <th>1</th>\n",
       "      <td>1</td>\n",
       "      <td>-4024.803754</td>\n",
       "      <td>36</td>\n",
       "      <td>среднее</td>\n",
       "      <td>1</td>\n",
       "      <td>женат / замужем</td>\n",
       "      <td>0</td>\n",
       "      <td>f</td>\n",
       "      <td>сотрудник</td>\n",
       "      <td>0</td>\n",
       "      <td>112080</td>\n",
       "      <td>приобретение автомобиля</td>\n",
       "      <td>[приобретение,  , автомобиль, \\n]</td>\n",
       "      <td>приобретение автомобиль</td>\n",
       "      <td>vehicle</td>\n",
       "      <td>income below or equal to average</td>\n",
       "    </tr>\n",
       "    <tr>\n",
       "      <th>2</th>\n",
       "      <td>0</td>\n",
       "      <td>-5623.422610</td>\n",
       "      <td>33</td>\n",
       "      <td>среднее</td>\n",
       "      <td>1</td>\n",
       "      <td>женат / замужем</td>\n",
       "      <td>0</td>\n",
       "      <td>m</td>\n",
       "      <td>сотрудник</td>\n",
       "      <td>0</td>\n",
       "      <td>145885</td>\n",
       "      <td>покупка жилья</td>\n",
       "      <td>[покупка,  , жилье, \\n]</td>\n",
       "      <td>покупка жилье</td>\n",
       "      <td>real estate</td>\n",
       "      <td>income above average</td>\n",
       "    </tr>\n",
       "    <tr>\n",
       "      <th>3</th>\n",
       "      <td>3</td>\n",
       "      <td>-4124.747207</td>\n",
       "      <td>32</td>\n",
       "      <td>среднее</td>\n",
       "      <td>1</td>\n",
       "      <td>женат / замужем</td>\n",
       "      <td>0</td>\n",
       "      <td>m</td>\n",
       "      <td>сотрудник</td>\n",
       "      <td>0</td>\n",
       "      <td>267628</td>\n",
       "      <td>дополнительное образование</td>\n",
       "      <td>[дополнительный,  , образование, \\n]</td>\n",
       "      <td>дополнительный образование</td>\n",
       "      <td>education</td>\n",
       "      <td>rich</td>\n",
       "    </tr>\n",
       "    <tr>\n",
       "      <th>4</th>\n",
       "      <td>0</td>\n",
       "      <td>340266.072047</td>\n",
       "      <td>53</td>\n",
       "      <td>среднее</td>\n",
       "      <td>1</td>\n",
       "      <td>гражданский брак</td>\n",
       "      <td>1</td>\n",
       "      <td>f</td>\n",
       "      <td>пенсионер</td>\n",
       "      <td>0</td>\n",
       "      <td>158616</td>\n",
       "      <td>сыграть свадьбу</td>\n",
       "      <td>[сыграть,  , свадьба, \\n]</td>\n",
       "      <td>сыграть свадьба</td>\n",
       "      <td>marriage</td>\n",
       "      <td>income above average</td>\n",
       "    </tr>\n",
       "    <tr>\n",
       "      <th>5</th>\n",
       "      <td>0</td>\n",
       "      <td>-926.185831</td>\n",
       "      <td>27</td>\n",
       "      <td>высшее</td>\n",
       "      <td>0</td>\n",
       "      <td>гражданский брак</td>\n",
       "      <td>1</td>\n",
       "      <td>m</td>\n",
       "      <td>компаньон</td>\n",
       "      <td>0</td>\n",
       "      <td>255763</td>\n",
       "      <td>покупка жилья</td>\n",
       "      <td>[покупка,  , жилье, \\n]</td>\n",
       "      <td>покупка жилье</td>\n",
       "      <td>real estate</td>\n",
       "      <td>rich</td>\n",
       "    </tr>\n",
       "    <tr>\n",
       "      <th>6</th>\n",
       "      <td>0</td>\n",
       "      <td>-2879.202052</td>\n",
       "      <td>43</td>\n",
       "      <td>высшее</td>\n",
       "      <td>0</td>\n",
       "      <td>женат / замужем</td>\n",
       "      <td>0</td>\n",
       "      <td>f</td>\n",
       "      <td>компаньон</td>\n",
       "      <td>0</td>\n",
       "      <td>240525</td>\n",
       "      <td>операции с жильем</td>\n",
       "      <td>[операция,  , с,  , жилье, \\n]</td>\n",
       "      <td>операция  жилье</td>\n",
       "      <td>real estate</td>\n",
       "      <td>rich</td>\n",
       "    </tr>\n",
       "    <tr>\n",
       "      <th>7</th>\n",
       "      <td>0</td>\n",
       "      <td>-152.779569</td>\n",
       "      <td>50</td>\n",
       "      <td>среднее</td>\n",
       "      <td>1</td>\n",
       "      <td>женат / замужем</td>\n",
       "      <td>0</td>\n",
       "      <td>m</td>\n",
       "      <td>сотрудник</td>\n",
       "      <td>0</td>\n",
       "      <td>135823</td>\n",
       "      <td>образование</td>\n",
       "      <td>[образование, \\n]</td>\n",
       "      <td>образование</td>\n",
       "      <td>education</td>\n",
       "      <td>income below or equal to average</td>\n",
       "    </tr>\n",
       "    <tr>\n",
       "      <th>8</th>\n",
       "      <td>2</td>\n",
       "      <td>-6929.865299</td>\n",
       "      <td>35</td>\n",
       "      <td>высшее</td>\n",
       "      <td>0</td>\n",
       "      <td>гражданский брак</td>\n",
       "      <td>1</td>\n",
       "      <td>f</td>\n",
       "      <td>сотрудник</td>\n",
       "      <td>0</td>\n",
       "      <td>95856</td>\n",
       "      <td>на проведение свадьбы</td>\n",
       "      <td>[на,  , проведение,  , свадьба, \\n]</td>\n",
       "      <td>проведение свадьба</td>\n",
       "      <td>marriage</td>\n",
       "      <td>poor</td>\n",
       "    </tr>\n",
       "    <tr>\n",
       "      <th>9</th>\n",
       "      <td>0</td>\n",
       "      <td>-2188.756445</td>\n",
       "      <td>41</td>\n",
       "      <td>среднее</td>\n",
       "      <td>1</td>\n",
       "      <td>женат / замужем</td>\n",
       "      <td>0</td>\n",
       "      <td>m</td>\n",
       "      <td>сотрудник</td>\n",
       "      <td>0</td>\n",
       "      <td>144425</td>\n",
       "      <td>покупка жилья для семьи</td>\n",
       "      <td>[покупка,  , жилье,  , для,  , семья, \\n]</td>\n",
       "      <td>покупка жилье  семья</td>\n",
       "      <td>real estate</td>\n",
       "      <td>income above average</td>\n",
       "    </tr>\n",
       "  </tbody>\n",
       "</table>\n",
       "</div>"
      ],
      "text/plain": [
       "   children  days_employed  dob_years education  education_id  \\\n",
       "0         1   -8437.673028         42    высшее             0   \n",
       "1         1   -4024.803754         36   среднее             1   \n",
       "2         0   -5623.422610         33   среднее             1   \n",
       "3         3   -4124.747207         32   среднее             1   \n",
       "4         0  340266.072047         53   среднее             1   \n",
       "5         0    -926.185831         27    высшее             0   \n",
       "6         0   -2879.202052         43    высшее             0   \n",
       "7         0    -152.779569         50   среднее             1   \n",
       "8         2   -6929.865299         35    высшее             0   \n",
       "9         0   -2188.756445         41   среднее             1   \n",
       "\n",
       "      family_status  family_status_id gender income_type  debt  total_income  \\\n",
       "0   женат / замужем                 0      f   сотрудник     0        253875   \n",
       "1   женат / замужем                 0      f   сотрудник     0        112080   \n",
       "2   женат / замужем                 0      m   сотрудник     0        145885   \n",
       "3   женат / замужем                 0      m   сотрудник     0        267628   \n",
       "4  гражданский брак                 1      f   пенсионер     0        158616   \n",
       "5  гражданский брак                 1      m   компаньон     0        255763   \n",
       "6   женат / замужем                 0      f   компаньон     0        240525   \n",
       "7   женат / замужем                 0      m   сотрудник     0        135823   \n",
       "8  гражданский брак                 1      f   сотрудник     0         95856   \n",
       "9   женат / замужем                 0      m   сотрудник     0        144425   \n",
       "\n",
       "                      purpose                             purpose_lemmas  \\\n",
       "0               покупка жилья                    [покупка,  , жилье, \\n]   \n",
       "1     приобретение автомобиля          [приобретение,  , автомобиль, \\n]   \n",
       "2               покупка жилья                    [покупка,  , жилье, \\n]   \n",
       "3  дополнительное образование       [дополнительный,  , образование, \\n]   \n",
       "4             сыграть свадьбу                  [сыграть,  , свадьба, \\n]   \n",
       "5               покупка жилья                    [покупка,  , жилье, \\n]   \n",
       "6           операции с жильем             [операция,  , с,  , жилье, \\n]   \n",
       "7                 образование                          [образование, \\n]   \n",
       "8       на проведение свадьбы        [на,  , проведение,  , свадьба, \\n]   \n",
       "9     покупка жилья для семьи  [покупка,  , жилье,  , для,  , семья, \\n]   \n",
       "\n",
       "         purpose_lemmas_clean purpose_category  \\\n",
       "0               покупка жилье      real estate   \n",
       "1     приобретение автомобиль          vehicle   \n",
       "2               покупка жилье      real estate   \n",
       "3  дополнительный образование        education   \n",
       "4             сыграть свадьба         marriage   \n",
       "5               покупка жилье      real estate   \n",
       "6             операция  жилье      real estate   \n",
       "7                 образование        education   \n",
       "8          проведение свадьба         marriage   \n",
       "9        покупка жилье  семья      real estate   \n",
       "\n",
       "                    income_category  \n",
       "0                              rich  \n",
       "1  income below or equal to average  \n",
       "2              income above average  \n",
       "3                              rich  \n",
       "4              income above average  \n",
       "5                              rich  \n",
       "6                              rich  \n",
       "7  income below or equal to average  \n",
       "8                              poor  \n",
       "9              income above average  "
      ]
     },
     "execution_count": 24,
     "metadata": {},
     "output_type": "execute_result"
    }
   ],
   "source": [
    "#we will divide debtors into 4 groups depending on the level of income\n",
    "labels=['poor','income below or equal to average','income above average','rich']\n",
    "df['income_category']=pd.qcut(df['total_income'],4, labels=labels)\n",
    "df.head(10)"
   ]
  },
  {
   "cell_type": "code",
   "execution_count": 25,
   "metadata": {},
   "outputs": [
    {
     "data": {
      "text/plain": [
       "count    21454.000000\n",
       "mean         0.544327\n",
       "std          1.381726\n",
       "min          0.000000\n",
       "25%          0.000000\n",
       "50%          0.000000\n",
       "75%          1.000000\n",
       "max         20.000000\n",
       "Name: children, dtype: float64"
      ]
     },
     "execution_count": 25,
     "metadata": {},
     "output_type": "execute_result"
    }
   ],
   "source": [
    "df['children'].describe()\n",
    "#let's define the interval boundaries for the cut function by the children column"
   ]
  },
  {
   "cell_type": "code",
   "execution_count": 26,
   "metadata": {},
   "outputs": [
    {
     "data": {
      "text/html": [
       "<div>\n",
       "<style scoped>\n",
       "    .dataframe tbody tr th:only-of-type {\n",
       "        vertical-align: middle;\n",
       "    }\n",
       "\n",
       "    .dataframe tbody tr th {\n",
       "        vertical-align: top;\n",
       "    }\n",
       "\n",
       "    .dataframe thead th {\n",
       "        text-align: right;\n",
       "    }\n",
       "</style>\n",
       "<table border=\"1\" class=\"dataframe\">\n",
       "  <thead>\n",
       "    <tr style=\"text-align: right;\">\n",
       "      <th></th>\n",
       "      <th>children</th>\n",
       "      <th>days_employed</th>\n",
       "      <th>dob_years</th>\n",
       "      <th>education</th>\n",
       "      <th>education_id</th>\n",
       "      <th>family_status</th>\n",
       "      <th>family_status_id</th>\n",
       "      <th>gender</th>\n",
       "      <th>income_type</th>\n",
       "      <th>debt</th>\n",
       "      <th>total_income</th>\n",
       "      <th>purpose</th>\n",
       "      <th>purpose_lemmas</th>\n",
       "      <th>purpose_lemmas_clean</th>\n",
       "      <th>purpose_category</th>\n",
       "      <th>income_category</th>\n",
       "      <th>children_category</th>\n",
       "    </tr>\n",
       "  </thead>\n",
       "  <tbody>\n",
       "    <tr>\n",
       "      <th>0</th>\n",
       "      <td>1</td>\n",
       "      <td>-8437.673028</td>\n",
       "      <td>42</td>\n",
       "      <td>высшее</td>\n",
       "      <td>0</td>\n",
       "      <td>женат / замужем</td>\n",
       "      <td>0</td>\n",
       "      <td>f</td>\n",
       "      <td>сотрудник</td>\n",
       "      <td>0</td>\n",
       "      <td>253875</td>\n",
       "      <td>покупка жилья</td>\n",
       "      <td>[покупка,  , жилье, \\n]</td>\n",
       "      <td>покупка жилье</td>\n",
       "      <td>real estate</td>\n",
       "      <td>rich</td>\n",
       "      <td>have children</td>\n",
       "    </tr>\n",
       "    <tr>\n",
       "      <th>1</th>\n",
       "      <td>1</td>\n",
       "      <td>-4024.803754</td>\n",
       "      <td>36</td>\n",
       "      <td>среднее</td>\n",
       "      <td>1</td>\n",
       "      <td>женат / замужем</td>\n",
       "      <td>0</td>\n",
       "      <td>f</td>\n",
       "      <td>сотрудник</td>\n",
       "      <td>0</td>\n",
       "      <td>112080</td>\n",
       "      <td>приобретение автомобиля</td>\n",
       "      <td>[приобретение,  , автомобиль, \\n]</td>\n",
       "      <td>приобретение автомобиль</td>\n",
       "      <td>vehicle</td>\n",
       "      <td>income below or equal to average</td>\n",
       "      <td>have children</td>\n",
       "    </tr>\n",
       "    <tr>\n",
       "      <th>2</th>\n",
       "      <td>0</td>\n",
       "      <td>-5623.422610</td>\n",
       "      <td>33</td>\n",
       "      <td>среднее</td>\n",
       "      <td>1</td>\n",
       "      <td>женат / замужем</td>\n",
       "      <td>0</td>\n",
       "      <td>m</td>\n",
       "      <td>сотрудник</td>\n",
       "      <td>0</td>\n",
       "      <td>145885</td>\n",
       "      <td>покупка жилья</td>\n",
       "      <td>[покупка,  , жилье, \\n]</td>\n",
       "      <td>покупка жилье</td>\n",
       "      <td>real estate</td>\n",
       "      <td>income above average</td>\n",
       "      <td>no children</td>\n",
       "    </tr>\n",
       "    <tr>\n",
       "      <th>3</th>\n",
       "      <td>3</td>\n",
       "      <td>-4124.747207</td>\n",
       "      <td>32</td>\n",
       "      <td>среднее</td>\n",
       "      <td>1</td>\n",
       "      <td>женат / замужем</td>\n",
       "      <td>0</td>\n",
       "      <td>m</td>\n",
       "      <td>сотрудник</td>\n",
       "      <td>0</td>\n",
       "      <td>267628</td>\n",
       "      <td>дополнительное образование</td>\n",
       "      <td>[дополнительный,  , образование, \\n]</td>\n",
       "      <td>дополнительный образование</td>\n",
       "      <td>education</td>\n",
       "      <td>rich</td>\n",
       "      <td>many children</td>\n",
       "    </tr>\n",
       "    <tr>\n",
       "      <th>4</th>\n",
       "      <td>0</td>\n",
       "      <td>340266.072047</td>\n",
       "      <td>53</td>\n",
       "      <td>среднее</td>\n",
       "      <td>1</td>\n",
       "      <td>гражданский брак</td>\n",
       "      <td>1</td>\n",
       "      <td>f</td>\n",
       "      <td>пенсионер</td>\n",
       "      <td>0</td>\n",
       "      <td>158616</td>\n",
       "      <td>сыграть свадьбу</td>\n",
       "      <td>[сыграть,  , свадьба, \\n]</td>\n",
       "      <td>сыграть свадьба</td>\n",
       "      <td>marriage</td>\n",
       "      <td>income above average</td>\n",
       "      <td>no children</td>\n",
       "    </tr>\n",
       "    <tr>\n",
       "      <th>5</th>\n",
       "      <td>0</td>\n",
       "      <td>-926.185831</td>\n",
       "      <td>27</td>\n",
       "      <td>высшее</td>\n",
       "      <td>0</td>\n",
       "      <td>гражданский брак</td>\n",
       "      <td>1</td>\n",
       "      <td>m</td>\n",
       "      <td>компаньон</td>\n",
       "      <td>0</td>\n",
       "      <td>255763</td>\n",
       "      <td>покупка жилья</td>\n",
       "      <td>[покупка,  , жилье, \\n]</td>\n",
       "      <td>покупка жилье</td>\n",
       "      <td>real estate</td>\n",
       "      <td>rich</td>\n",
       "      <td>no children</td>\n",
       "    </tr>\n",
       "    <tr>\n",
       "      <th>6</th>\n",
       "      <td>0</td>\n",
       "      <td>-2879.202052</td>\n",
       "      <td>43</td>\n",
       "      <td>высшее</td>\n",
       "      <td>0</td>\n",
       "      <td>женат / замужем</td>\n",
       "      <td>0</td>\n",
       "      <td>f</td>\n",
       "      <td>компаньон</td>\n",
       "      <td>0</td>\n",
       "      <td>240525</td>\n",
       "      <td>операции с жильем</td>\n",
       "      <td>[операция,  , с,  , жилье, \\n]</td>\n",
       "      <td>операция  жилье</td>\n",
       "      <td>real estate</td>\n",
       "      <td>rich</td>\n",
       "      <td>no children</td>\n",
       "    </tr>\n",
       "    <tr>\n",
       "      <th>7</th>\n",
       "      <td>0</td>\n",
       "      <td>-152.779569</td>\n",
       "      <td>50</td>\n",
       "      <td>среднее</td>\n",
       "      <td>1</td>\n",
       "      <td>женат / замужем</td>\n",
       "      <td>0</td>\n",
       "      <td>m</td>\n",
       "      <td>сотрудник</td>\n",
       "      <td>0</td>\n",
       "      <td>135823</td>\n",
       "      <td>образование</td>\n",
       "      <td>[образование, \\n]</td>\n",
       "      <td>образование</td>\n",
       "      <td>education</td>\n",
       "      <td>income below or equal to average</td>\n",
       "      <td>no children</td>\n",
       "    </tr>\n",
       "    <tr>\n",
       "      <th>8</th>\n",
       "      <td>2</td>\n",
       "      <td>-6929.865299</td>\n",
       "      <td>35</td>\n",
       "      <td>высшее</td>\n",
       "      <td>0</td>\n",
       "      <td>гражданский брак</td>\n",
       "      <td>1</td>\n",
       "      <td>f</td>\n",
       "      <td>сотрудник</td>\n",
       "      <td>0</td>\n",
       "      <td>95856</td>\n",
       "      <td>на проведение свадьбы</td>\n",
       "      <td>[на,  , проведение,  , свадьба, \\n]</td>\n",
       "      <td>проведение свадьба</td>\n",
       "      <td>marriage</td>\n",
       "      <td>poor</td>\n",
       "      <td>have children</td>\n",
       "    </tr>\n",
       "    <tr>\n",
       "      <th>9</th>\n",
       "      <td>0</td>\n",
       "      <td>-2188.756445</td>\n",
       "      <td>41</td>\n",
       "      <td>среднее</td>\n",
       "      <td>1</td>\n",
       "      <td>женат / замужем</td>\n",
       "      <td>0</td>\n",
       "      <td>m</td>\n",
       "      <td>сотрудник</td>\n",
       "      <td>0</td>\n",
       "      <td>144425</td>\n",
       "      <td>покупка жилья для семьи</td>\n",
       "      <td>[покупка,  , жилье,  , для,  , семья, \\n]</td>\n",
       "      <td>покупка жилье  семья</td>\n",
       "      <td>real estate</td>\n",
       "      <td>income above average</td>\n",
       "      <td>no children</td>\n",
       "    </tr>\n",
       "  </tbody>\n",
       "</table>\n",
       "</div>"
      ],
      "text/plain": [
       "   children  days_employed  dob_years education  education_id  \\\n",
       "0         1   -8437.673028         42    высшее             0   \n",
       "1         1   -4024.803754         36   среднее             1   \n",
       "2         0   -5623.422610         33   среднее             1   \n",
       "3         3   -4124.747207         32   среднее             1   \n",
       "4         0  340266.072047         53   среднее             1   \n",
       "5         0    -926.185831         27    высшее             0   \n",
       "6         0   -2879.202052         43    высшее             0   \n",
       "7         0    -152.779569         50   среднее             1   \n",
       "8         2   -6929.865299         35    высшее             0   \n",
       "9         0   -2188.756445         41   среднее             1   \n",
       "\n",
       "      family_status  family_status_id gender income_type  debt  total_income  \\\n",
       "0   женат / замужем                 0      f   сотрудник     0        253875   \n",
       "1   женат / замужем                 0      f   сотрудник     0        112080   \n",
       "2   женат / замужем                 0      m   сотрудник     0        145885   \n",
       "3   женат / замужем                 0      m   сотрудник     0        267628   \n",
       "4  гражданский брак                 1      f   пенсионер     0        158616   \n",
       "5  гражданский брак                 1      m   компаньон     0        255763   \n",
       "6   женат / замужем                 0      f   компаньон     0        240525   \n",
       "7   женат / замужем                 0      m   сотрудник     0        135823   \n",
       "8  гражданский брак                 1      f   сотрудник     0         95856   \n",
       "9   женат / замужем                 0      m   сотрудник     0        144425   \n",
       "\n",
       "                      purpose                             purpose_lemmas  \\\n",
       "0               покупка жилья                    [покупка,  , жилье, \\n]   \n",
       "1     приобретение автомобиля          [приобретение,  , автомобиль, \\n]   \n",
       "2               покупка жилья                    [покупка,  , жилье, \\n]   \n",
       "3  дополнительное образование       [дополнительный,  , образование, \\n]   \n",
       "4             сыграть свадьбу                  [сыграть,  , свадьба, \\n]   \n",
       "5               покупка жилья                    [покупка,  , жилье, \\n]   \n",
       "6           операции с жильем             [операция,  , с,  , жилье, \\n]   \n",
       "7                 образование                          [образование, \\n]   \n",
       "8       на проведение свадьбы        [на,  , проведение,  , свадьба, \\n]   \n",
       "9     покупка жилья для семьи  [покупка,  , жилье,  , для,  , семья, \\n]   \n",
       "\n",
       "         purpose_lemmas_clean purpose_category  \\\n",
       "0               покупка жилье      real estate   \n",
       "1     приобретение автомобиль          vehicle   \n",
       "2               покупка жилье      real estate   \n",
       "3  дополнительный образование        education   \n",
       "4             сыграть свадьба         marriage   \n",
       "5               покупка жилье      real estate   \n",
       "6             операция  жилье      real estate   \n",
       "7                 образование        education   \n",
       "8          проведение свадьба         marriage   \n",
       "9        покупка жилье  семья      real estate   \n",
       "\n",
       "                    income_category children_category  \n",
       "0                              rich     have children  \n",
       "1  income below or equal to average     have children  \n",
       "2              income above average       no children  \n",
       "3                              rich     many children  \n",
       "4              income above average       no children  \n",
       "5                              rich       no children  \n",
       "6                              rich       no children  \n",
       "7  income below or equal to average       no children  \n",
       "8                              poor     have children  \n",
       "9              income above average       no children  "
      ]
     },
     "execution_count": 26,
     "metadata": {},
     "output_type": "execute_result"
    }
   ],
   "source": [
    "bins=[-1,0,2,20]\n",
    "labels=['no children', 'have children', 'many children']\n",
    "df['children_category'] = pd.cut(df['children'], bins, labels=labels)\n",
    "df.head(10)"
   ]
  },
  {
   "cell_type": "markdown",
   "metadata": {},
   "source": [
    "**Conclusion**"
   ]
  },
  {
   "cell_type": "markdown",
   "metadata": {},
   "source": [
    "The generalized reasons for taking out a loan were real estate transactions, buying a car, education or, with a noticeable lag, a wedding. To simplify the work with the data, all borrowers were also categorized into 4 groups depending on the income level: upper and lower 25%, 25%-50% and 50%-75%. Depending on the number of children in the debtor's family, the debtors were categorized into large families (from 3 children and more, according to the legislation of the Russian Federation), childless, and just those who have children."
   ]
  },
  {
   "cell_type": "markdown",
   "metadata": {},
   "source": [
    "## Responding on study questions"
   ]
  },
  {
   "cell_type": "markdown",
   "metadata": {},
   "source": [
    "***- Is there a relationship between having children and repayment of the loan on time?***"
   ]
  },
  {
   "cell_type": "code",
   "execution_count": 27,
   "metadata": {},
   "outputs": [
    {
     "data": {
      "text/html": [
       "<div>\n",
       "<style scoped>\n",
       "    .dataframe tbody tr th:only-of-type {\n",
       "        vertical-align: middle;\n",
       "    }\n",
       "\n",
       "    .dataframe tbody tr th {\n",
       "        vertical-align: top;\n",
       "    }\n",
       "\n",
       "    .dataframe thead th {\n",
       "        text-align: right;\n",
       "    }\n",
       "</style>\n",
       "<table border=\"1\" class=\"dataframe\">\n",
       "  <thead>\n",
       "    <tr style=\"text-align: right;\">\n",
       "      <th></th>\n",
       "      <th>debtors_share</th>\n",
       "    </tr>\n",
       "    <tr>\n",
       "      <th>children_category</th>\n",
       "      <th></th>\n",
       "    </tr>\n",
       "  </thead>\n",
       "  <tbody>\n",
       "    <tr>\n",
       "      <th>no children</th>\n",
       "      <td>7.54%</td>\n",
       "    </tr>\n",
       "    <tr>\n",
       "      <th>have children</th>\n",
       "      <td>9.25%</td>\n",
       "    </tr>\n",
       "    <tr>\n",
       "      <th>many children</th>\n",
       "      <td>8.55%</td>\n",
       "    </tr>\n",
       "  </tbody>\n",
       "</table>\n",
       "</div>"
      ],
      "text/plain": [
       "                   debtors_share\n",
       "children_category               \n",
       "no children                7.54%\n",
       "have children              9.25%\n",
       "many children              8.55%"
      ]
     },
     "metadata": {},
     "output_type": "display_data"
    }
   ],
   "source": [
    "with pd.option_context('display.float_format', '{:.2%}'.format):\n",
    "    display(df.groupby('children_category').agg(debtors_share=('debt','mean')))       "
   ]
  },
  {
   "cell_type": "markdown",
   "metadata": {},
   "source": [
    "**Conclusion**"
   ]
  },
  {
   "cell_type": "markdown",
   "metadata": {},
   "source": [
    "If there are children in the family, the probability of delinquency of the loan increases."
   ]
  },
  {
   "cell_type": "markdown",
   "metadata": {},
   "source": [
    "***- Is there a relationship between marital status and repayment of the loan on time?***"
   ]
  },
  {
   "cell_type": "code",
   "execution_count": 28,
   "metadata": {},
   "outputs": [
    {
     "data": {
      "text/html": [
       "<div>\n",
       "<style scoped>\n",
       "    .dataframe tbody tr th:only-of-type {\n",
       "        vertical-align: middle;\n",
       "    }\n",
       "\n",
       "    .dataframe tbody tr th {\n",
       "        vertical-align: top;\n",
       "    }\n",
       "\n",
       "    .dataframe thead th {\n",
       "        text-align: right;\n",
       "    }\n",
       "</style>\n",
       "<table border=\"1\" class=\"dataframe\">\n",
       "  <thead>\n",
       "    <tr style=\"text-align: right;\">\n",
       "      <th></th>\n",
       "      <th>debtors_share</th>\n",
       "    </tr>\n",
       "    <tr>\n",
       "      <th>family_status</th>\n",
       "      <th></th>\n",
       "    </tr>\n",
       "  </thead>\n",
       "  <tbody>\n",
       "    <tr>\n",
       "      <th>в разводе</th>\n",
       "      <td>7.11%</td>\n",
       "    </tr>\n",
       "    <tr>\n",
       "      <th>вдовец / вдова</th>\n",
       "      <td>6.57%</td>\n",
       "    </tr>\n",
       "    <tr>\n",
       "      <th>гражданский брак</th>\n",
       "      <td>9.35%</td>\n",
       "    </tr>\n",
       "    <tr>\n",
       "      <th>женат / замужем</th>\n",
       "      <td>7.55%</td>\n",
       "    </tr>\n",
       "    <tr>\n",
       "      <th>не женат / не замужем</th>\n",
       "      <td>9.75%</td>\n",
       "    </tr>\n",
       "  </tbody>\n",
       "</table>\n",
       "</div>"
      ],
      "text/plain": [
       "                       debtors_share\n",
       "family_status                       \n",
       "в разводе                      7.11%\n",
       "вдовец / вдова                 6.57%\n",
       "гражданский брак               9.35%\n",
       "женат / замужем                7.55%\n",
       "не женат / не замужем          9.75%"
      ]
     },
     "metadata": {},
     "output_type": "display_data"
    }
   ],
   "source": [
    "with pd.option_context('display.float_format', '{:.2%}'.format):\n",
    "    display(df.groupby('family_status').agg(debtors_share=('debt','mean')))\n",
    "    \n",
    "# в разводе - divorced\n",
    "# вдовец / вдова - widower / widow\n",
    "# гражданский брак - civil marriage\n",
    "# женат / замужем - married\n",
    "# не женат / не замужем - unmarried    "
   ]
  },
  {
   "cell_type": "markdown",
   "metadata": {},
   "source": [
    "**Conclusion**"
   ]
  },
  {
   "cell_type": "markdown",
   "metadata": {},
   "source": [
    "The most risky group of clients are single people who have never been married."
   ]
  },
  {
   "cell_type": "markdown",
   "metadata": {},
   "source": [
    "***- Is there a relationship between the level of income and repayment of the loan on time?***"
   ]
  },
  {
   "cell_type": "code",
   "execution_count": 29,
   "metadata": {},
   "outputs": [
    {
     "data": {
      "text/html": [
       "<div>\n",
       "<style scoped>\n",
       "    .dataframe tbody tr th:only-of-type {\n",
       "        vertical-align: middle;\n",
       "    }\n",
       "\n",
       "    .dataframe tbody tr th {\n",
       "        vertical-align: top;\n",
       "    }\n",
       "\n",
       "    .dataframe thead th {\n",
       "        text-align: right;\n",
       "    }\n",
       "</style>\n",
       "<table border=\"1\" class=\"dataframe\">\n",
       "  <thead>\n",
       "    <tr style=\"text-align: right;\">\n",
       "      <th></th>\n",
       "      <th>debtors_share</th>\n",
       "    </tr>\n",
       "    <tr>\n",
       "      <th>income_category</th>\n",
       "      <th></th>\n",
       "    </tr>\n",
       "  </thead>\n",
       "  <tbody>\n",
       "    <tr>\n",
       "      <th>poor</th>\n",
       "      <td>7.96%</td>\n",
       "    </tr>\n",
       "    <tr>\n",
       "      <th>income below or equal to average</th>\n",
       "      <td>8.82%</td>\n",
       "    </tr>\n",
       "    <tr>\n",
       "      <th>income above average</th>\n",
       "      <td>8.54%</td>\n",
       "    </tr>\n",
       "    <tr>\n",
       "      <th>rich</th>\n",
       "      <td>7.14%</td>\n",
       "    </tr>\n",
       "  </tbody>\n",
       "</table>\n",
       "</div>"
      ],
      "text/plain": [
       "                                  debtors_share\n",
       "income_category                                \n",
       "poor                                      7.96%\n",
       "income below or equal to average          8.82%\n",
       "income above average                      8.54%\n",
       "rich                                      7.14%"
      ]
     },
     "metadata": {},
     "output_type": "display_data"
    }
   ],
   "source": [
    "with pd.option_context('display.float_format', '{:.2%}'.format):\n",
    "    display(df.groupby('income_category').agg(debtors_share=('debt','mean')))"
   ]
  },
  {
   "cell_type": "markdown",
   "metadata": {},
   "source": [
    "**Conclusion**"
   ]
  },
  {
   "cell_type": "markdown",
   "metadata": {},
   "source": [
    "People with incomes closer to the average represent the most risky group."
   ]
  },
  {
   "cell_type": "markdown",
   "metadata": {},
   "source": [
    " ***How do different loan goals affect its repayment on time?***"
   ]
  },
  {
   "cell_type": "code",
   "execution_count": 30,
   "metadata": {},
   "outputs": [
    {
     "data": {
      "text/html": [
       "<div>\n",
       "<style scoped>\n",
       "    .dataframe tbody tr th:only-of-type {\n",
       "        vertical-align: middle;\n",
       "    }\n",
       "\n",
       "    .dataframe tbody tr th {\n",
       "        vertical-align: top;\n",
       "    }\n",
       "\n",
       "    .dataframe thead th {\n",
       "        text-align: right;\n",
       "    }\n",
       "</style>\n",
       "<table border=\"1\" class=\"dataframe\">\n",
       "  <thead>\n",
       "    <tr style=\"text-align: right;\">\n",
       "      <th></th>\n",
       "      <th>debtors_share</th>\n",
       "    </tr>\n",
       "    <tr>\n",
       "      <th>purpose_category</th>\n",
       "      <th></th>\n",
       "    </tr>\n",
       "  </thead>\n",
       "  <tbody>\n",
       "    <tr>\n",
       "      <th>education</th>\n",
       "      <td>9.22%</td>\n",
       "    </tr>\n",
       "    <tr>\n",
       "      <th>marriage</th>\n",
       "      <td>8.00%</td>\n",
       "    </tr>\n",
       "    <tr>\n",
       "      <th>real estate</th>\n",
       "      <td>7.23%</td>\n",
       "    </tr>\n",
       "    <tr>\n",
       "      <th>vehicle</th>\n",
       "      <td>9.36%</td>\n",
       "    </tr>\n",
       "  </tbody>\n",
       "</table>\n",
       "</div>"
      ],
      "text/plain": [
       "                  debtors_share\n",
       "purpose_category               \n",
       "education                 9.22%\n",
       "marriage                  8.00%\n",
       "real estate               7.23%\n",
       "vehicle                   9.36%"
      ]
     },
     "metadata": {},
     "output_type": "display_data"
    }
   ],
   "source": [
    "with pd.option_context('display.float_format', '{:.2%}'.format):\n",
    "    display(df.groupby('purpose_category').agg(debtors_share=('debt','mean')))"
   ]
  },
  {
   "cell_type": "markdown",
   "metadata": {},
   "source": [
    "**Conclusion**"
   ]
  },
  {
   "cell_type": "markdown",
   "metadata": {},
   "source": [
    "If a loan is taken for the purchase of a car or education, the probability of delaying it increases. It may be worth looking at this category in more detail and breaking it down into subcategories. Loans taken on real estate are given on time most often."
   ]
  },
  {
   "cell_type": "markdown",
   "metadata": {},
   "source": [
    "## General conclusion"
   ]
  },
  {
   "cell_type": "markdown",
   "metadata": {},
   "source": [
    "Based on a preliminary analysis of the data, it can be concluded that the marital status and the number of children of the client affect the fact of repayment of the loan on time: the risk of having debt increases for single people, as well as for families with children. This should be taken into account in the further development of the credit scoring model."
   ]
  }
 ],
 "metadata": {
  "ExecuteTimeLog": [
   {
    "duration": 150,
    "start_time": "2021-10-27T15:17:40.600Z"
   },
   {
    "duration": 948,
    "start_time": "2021-10-27T15:17:53.183Z"
   },
   {
    "duration": 78,
    "start_time": "2021-10-27T15:18:16.347Z"
   },
   {
    "duration": 82,
    "start_time": "2021-10-27T15:20:09.236Z"
   },
   {
    "duration": 75,
    "start_time": "2021-10-27T15:20:32.293Z"
   },
   {
    "duration": 81,
    "start_time": "2021-10-27T15:20:47.388Z"
   },
   {
    "duration": 322,
    "start_time": "2021-10-31T09:18:49.450Z"
   },
   {
    "duration": 658,
    "start_time": "2021-10-31T09:19:20.908Z"
   },
   {
    "duration": 14,
    "start_time": "2021-10-31T09:19:24.988Z"
   },
   {
    "duration": 10,
    "start_time": "2021-10-31T09:19:55.861Z"
   },
   {
    "duration": 20,
    "start_time": "2021-10-31T09:47:25.964Z"
   },
   {
    "duration": 6,
    "start_time": "2021-10-31T09:48:30.195Z"
   },
   {
    "duration": 8,
    "start_time": "2021-10-31T09:48:43.755Z"
   },
   {
    "duration": 90,
    "start_time": "2021-10-31T09:49:07.000Z"
   },
   {
    "duration": 9,
    "start_time": "2021-10-31T09:49:17.553Z"
   },
   {
    "duration": 23,
    "start_time": "2021-10-31T09:49:26.067Z"
   },
   {
    "duration": 101,
    "start_time": "2021-10-31T12:07:55.526Z"
   },
   {
    "duration": 82,
    "start_time": "2021-10-31T12:08:01.734Z"
   },
   {
    "duration": 86,
    "start_time": "2021-10-31T12:08:24.897Z"
   },
   {
    "duration": 1160,
    "start_time": "2021-10-31T12:08:31.265Z"
   },
   {
    "duration": 1755,
    "start_time": "2021-10-31T12:08:54.137Z"
   },
   {
    "duration": 87,
    "start_time": "2021-10-31T12:09:11.231Z"
   },
   {
    "duration": 82,
    "start_time": "2021-10-31T12:09:22.367Z"
   },
   {
    "duration": 290,
    "start_time": "2021-10-31T12:09:39.512Z"
   },
   {
    "duration": 265,
    "start_time": "2021-10-31T12:10:01.314Z"
   },
   {
    "duration": 254,
    "start_time": "2021-10-31T12:10:08.897Z"
   },
   {
    "duration": 21,
    "start_time": "2021-10-31T12:10:20.956Z"
   },
   {
    "duration": 3186,
    "start_time": "2021-10-31T12:11:42.703Z"
   },
   {
    "duration": 130,
    "start_time": "2021-10-31T12:11:49.098Z"
   },
   {
    "duration": 130,
    "start_time": "2021-10-31T12:12:01.731Z"
   },
   {
    "duration": 10,
    "start_time": "2021-10-31T12:12:20.509Z"
   },
   {
    "duration": 3415,
    "start_time": "2021-10-31T12:12:23.669Z"
   },
   {
    "duration": 126,
    "start_time": "2021-10-31T12:12:26.961Z"
   },
   {
    "duration": 4,
    "start_time": "2021-10-31T12:12:39.432Z"
   },
   {
    "duration": 5,
    "start_time": "2021-10-31T12:12:41.671Z"
   },
   {
    "duration": 5,
    "start_time": "2021-10-31T12:12:53.388Z"
   },
   {
    "duration": 4,
    "start_time": "2021-10-31T12:15:50.900Z"
   },
   {
    "duration": 56,
    "start_time": "2021-10-31T12:16:02.390Z"
   },
   {
    "duration": 7,
    "start_time": "2021-10-31T12:16:06.207Z"
   },
   {
    "duration": 83,
    "start_time": "2021-10-31T12:20:24.136Z"
   },
   {
    "duration": 281,
    "start_time": "2021-10-31T12:20:31.184Z"
   },
   {
    "duration": 5,
    "start_time": "2021-10-31T12:21:23.780Z"
   },
   {
    "duration": 4,
    "start_time": "2021-10-31T12:21:26.449Z"
   },
   {
    "duration": 6,
    "start_time": "2021-10-31T12:21:36.654Z"
   },
   {
    "duration": 243,
    "start_time": "2021-10-31T12:22:17.419Z"
   },
   {
    "duration": 253,
    "start_time": "2021-10-31T12:22:23.788Z"
   },
   {
    "duration": 6,
    "start_time": "2021-10-31T12:22:33.354Z"
   },
   {
    "duration": 6,
    "start_time": "2021-10-31T12:22:42.007Z"
   },
   {
    "duration": 7,
    "start_time": "2021-10-31T12:26:27.943Z"
   },
   {
    "duration": 415,
    "start_time": "2021-10-31T12:30:00.881Z"
   },
   {
    "duration": 254,
    "start_time": "2021-10-31T12:30:20.687Z"
   },
   {
    "duration": 267,
    "start_time": "2021-10-31T12:30:27.326Z"
   },
   {
    "duration": 334,
    "start_time": "2021-10-31T12:31:19.778Z"
   },
   {
    "duration": 243,
    "start_time": "2021-10-31T12:34:17.741Z"
   },
   {
    "duration": 655,
    "start_time": "2021-10-31T12:35:10.608Z"
   },
   {
    "duration": 7,
    "start_time": "2021-10-31T12:35:11.265Z"
   },
   {
    "duration": 9,
    "start_time": "2021-10-31T12:35:11.274Z"
   },
   {
    "duration": 307,
    "start_time": "2021-10-31T12:35:11.285Z"
   },
   {
    "duration": 140,
    "start_time": "2021-10-31T12:35:11.453Z"
   },
   {
    "duration": 139,
    "start_time": "2021-10-31T12:35:11.456Z"
   },
   {
    "duration": 135,
    "start_time": "2021-10-31T12:35:11.461Z"
   },
   {
    "duration": 132,
    "start_time": "2021-10-31T12:35:11.465Z"
   },
   {
    "duration": 40,
    "start_time": "2021-10-31T12:36:01.790Z"
   },
   {
    "duration": 17,
    "start_time": "2021-10-31T12:41:11.022Z"
   },
   {
    "duration": 660,
    "start_time": "2021-10-31T12:45:20.836Z"
   },
   {
    "duration": 18,
    "start_time": "2021-10-31T12:45:21.498Z"
   },
   {
    "duration": 40,
    "start_time": "2021-10-31T12:45:21.520Z"
   },
   {
    "duration": 25,
    "start_time": "2021-10-31T12:45:21.561Z"
   },
   {
    "duration": 44,
    "start_time": "2021-10-31T12:45:21.588Z"
   },
   {
    "duration": 9,
    "start_time": "2021-10-31T12:45:21.634Z"
   },
   {
    "duration": 14,
    "start_time": "2021-10-31T12:50:45.729Z"
   },
   {
    "duration": 9,
    "start_time": "2021-10-31T12:50:47.850Z"
   },
   {
    "duration": 657,
    "start_time": "2021-10-31T13:14:45.207Z"
   },
   {
    "duration": 16,
    "start_time": "2021-10-31T13:14:45.865Z"
   },
   {
    "duration": 22,
    "start_time": "2021-10-31T13:14:45.883Z"
   },
   {
    "duration": 6,
    "start_time": "2021-10-31T13:14:45.907Z"
   },
   {
    "duration": 51,
    "start_time": "2021-10-31T13:14:45.914Z"
   },
   {
    "duration": 10,
    "start_time": "2021-10-31T13:14:45.967Z"
   },
   {
    "duration": 9,
    "start_time": "2021-10-31T13:14:45.979Z"
   },
   {
    "duration": 62,
    "start_time": "2021-10-31T13:14:45.990Z"
   },
   {
    "duration": 5,
    "start_time": "2021-10-31T13:14:46.054Z"
   },
   {
    "duration": 15,
    "start_time": "2021-10-31T13:14:46.061Z"
   },
   {
    "duration": 13,
    "start_time": "2021-10-31T13:14:59.688Z"
   },
   {
    "duration": 11,
    "start_time": "2021-10-31T13:15:23.758Z"
   },
   {
    "duration": 73,
    "start_time": "2021-10-31T13:18:58.643Z"
   },
   {
    "duration": 34,
    "start_time": "2021-10-31T13:20:37.070Z"
   },
   {
    "duration": 33,
    "start_time": "2021-10-31T13:20:40.444Z"
   },
   {
    "duration": 36,
    "start_time": "2021-10-31T13:21:25.620Z"
   },
   {
    "duration": 17,
    "start_time": "2021-10-31T13:21:43.717Z"
   },
   {
    "duration": 705,
    "start_time": "2021-10-31T13:22:41.912Z"
   },
   {
    "duration": 17,
    "start_time": "2021-10-31T13:22:42.618Z"
   },
   {
    "duration": 21,
    "start_time": "2021-10-31T13:22:42.637Z"
   },
   {
    "duration": 6,
    "start_time": "2021-10-31T13:22:42.660Z"
   },
   {
    "duration": 40,
    "start_time": "2021-10-31T13:22:42.668Z"
   },
   {
    "duration": 11,
    "start_time": "2021-10-31T13:22:42.709Z"
   },
   {
    "duration": 31,
    "start_time": "2021-10-31T13:22:42.722Z"
   },
   {
    "duration": 4,
    "start_time": "2021-10-31T13:22:42.755Z"
   },
   {
    "duration": 17,
    "start_time": "2021-10-31T13:22:42.761Z"
   },
   {
    "duration": 64,
    "start_time": "2021-10-31T13:22:42.780Z"
   },
   {
    "duration": 45,
    "start_time": "2021-10-31T13:22:42.846Z"
   },
   {
    "duration": 19,
    "start_time": "2021-10-31T13:22:42.893Z"
   },
   {
    "duration": 17,
    "start_time": "2021-10-31T13:25:33.920Z"
   },
   {
    "duration": 17,
    "start_time": "2021-10-31T13:25:48.111Z"
   },
   {
    "duration": 22,
    "start_time": "2021-10-31T13:26:02.791Z"
   },
   {
    "duration": 19,
    "start_time": "2021-10-31T13:26:06.440Z"
   },
   {
    "duration": 330,
    "start_time": "2021-10-31T13:34:45.369Z"
   },
   {
    "duration": 305,
    "start_time": "2021-10-31T13:35:10.222Z"
   },
   {
    "duration": 257,
    "start_time": "2021-10-31T13:35:17.656Z"
   },
   {
    "duration": 247,
    "start_time": "2021-10-31T13:37:18.820Z"
   },
   {
    "duration": 311,
    "start_time": "2021-10-31T13:37:32.731Z"
   },
   {
    "duration": 5,
    "start_time": "2021-10-31T13:37:57.461Z"
   },
   {
    "duration": 4,
    "start_time": "2021-10-31T13:37:59.785Z"
   },
   {
    "duration": 8,
    "start_time": "2021-10-31T13:38:07.295Z"
   },
   {
    "duration": 9,
    "start_time": "2021-10-31T13:39:31.956Z"
   },
   {
    "duration": 9,
    "start_time": "2021-10-31T13:41:14.066Z"
   },
   {
    "duration": 9,
    "start_time": "2021-10-31T13:44:01.900Z"
   },
   {
    "duration": 299,
    "start_time": "2021-10-31T13:44:34.380Z"
   },
   {
    "duration": 3391,
    "start_time": "2021-10-31T13:46:50.210Z"
   },
   {
    "duration": 3550,
    "start_time": "2021-10-31T13:47:02.868Z"
   },
   {
    "duration": 946,
    "start_time": "2021-10-31T13:50:58.338Z"
   },
   {
    "duration": 1105,
    "start_time": "2021-10-31T13:51:20.227Z"
   },
   {
    "duration": 270,
    "start_time": "2021-10-31T13:51:58.588Z"
   },
   {
    "duration": 8,
    "start_time": "2021-10-31T13:52:10.141Z"
   },
   {
    "duration": 272,
    "start_time": "2021-10-31T13:55:12.879Z"
   },
   {
    "duration": 13,
    "start_time": "2021-10-31T13:55:20.069Z"
   },
   {
    "duration": 358,
    "start_time": "2021-10-31T13:55:59.121Z"
   },
   {
    "duration": 986,
    "start_time": "2021-10-31T13:56:18.919Z"
   },
   {
    "duration": 705,
    "start_time": "2021-10-31T13:56:51.940Z"
   },
   {
    "duration": 600,
    "start_time": "2021-10-31T13:57:51.097Z"
   },
   {
    "duration": 17,
    "start_time": "2021-10-31T13:57:51.699Z"
   },
   {
    "duration": 30,
    "start_time": "2021-10-31T13:57:51.722Z"
   },
   {
    "duration": 8,
    "start_time": "2021-10-31T13:57:51.754Z"
   },
   {
    "duration": 59,
    "start_time": "2021-10-31T13:57:51.764Z"
   },
   {
    "duration": 19,
    "start_time": "2021-10-31T13:57:51.825Z"
   },
   {
    "duration": 11,
    "start_time": "2021-10-31T13:57:51.847Z"
   },
   {
    "duration": 18,
    "start_time": "2021-10-31T13:57:51.860Z"
   },
   {
    "duration": 16,
    "start_time": "2021-10-31T13:57:51.880Z"
   },
   {
    "duration": 62,
    "start_time": "2021-10-31T13:57:51.898Z"
   },
   {
    "duration": 31,
    "start_time": "2021-10-31T13:57:51.962Z"
   },
   {
    "duration": 18,
    "start_time": "2021-10-31T13:57:51.995Z"
   },
   {
    "duration": 29,
    "start_time": "2021-10-31T13:57:52.015Z"
   },
   {
    "duration": 708,
    "start_time": "2021-10-31T13:57:52.046Z"
   },
   {
    "duration": 692,
    "start_time": "2021-10-31T13:58:39.287Z"
   },
   {
    "duration": 683,
    "start_time": "2021-10-31T14:02:40.218Z"
   },
   {
    "duration": 690,
    "start_time": "2021-10-31T14:02:59.095Z"
   },
   {
    "duration": 982,
    "start_time": "2021-10-31T14:04:01.038Z"
   },
   {
    "duration": 957,
    "start_time": "2021-10-31T14:06:26.040Z"
   },
   {
    "duration": 723,
    "start_time": "2021-10-31T14:06:32.914Z"
   },
   {
    "duration": 91,
    "start_time": "2021-10-31T14:09:52.572Z"
   },
   {
    "duration": 86,
    "start_time": "2021-10-31T14:10:09.072Z"
   },
   {
    "duration": 939,
    "start_time": "2021-10-31T14:10:55.045Z"
   },
   {
    "duration": 925,
    "start_time": "2021-10-31T14:11:24.298Z"
   },
   {
    "duration": 948,
    "start_time": "2021-10-31T14:11:32.895Z"
   },
   {
    "duration": 723,
    "start_time": "2021-10-31T14:17:39.661Z"
   },
   {
    "duration": 647,
    "start_time": "2021-10-31T14:18:07.738Z"
   },
   {
    "duration": 17,
    "start_time": "2021-10-31T14:18:08.387Z"
   },
   {
    "duration": 22,
    "start_time": "2021-10-31T14:18:08.406Z"
   },
   {
    "duration": 7,
    "start_time": "2021-10-31T14:18:08.444Z"
   },
   {
    "duration": 41,
    "start_time": "2021-10-31T14:18:08.452Z"
   },
   {
    "duration": 11,
    "start_time": "2021-10-31T14:18:08.495Z"
   },
   {
    "duration": 9,
    "start_time": "2021-10-31T14:18:08.507Z"
   },
   {
    "duration": 25,
    "start_time": "2021-10-31T14:18:08.519Z"
   },
   {
    "duration": 11,
    "start_time": "2021-10-31T14:18:08.546Z"
   },
   {
    "duration": 42,
    "start_time": "2021-10-31T14:18:08.559Z"
   },
   {
    "duration": 45,
    "start_time": "2021-10-31T14:18:08.603Z"
   },
   {
    "duration": 16,
    "start_time": "2021-10-31T14:18:08.650Z"
   },
   {
    "duration": 13,
    "start_time": "2021-10-31T14:18:08.668Z"
   },
   {
    "duration": 719,
    "start_time": "2021-10-31T14:18:08.683Z"
   },
   {
    "duration": 6,
    "start_time": "2021-10-31T14:38:11.292Z"
   },
   {
    "duration": 6,
    "start_time": "2021-10-31T14:39:49.623Z"
   },
   {
    "duration": 25,
    "start_time": "2021-10-31T14:46:47.959Z"
   },
   {
    "duration": 305,
    "start_time": "2021-10-31T14:50:32.456Z"
   },
   {
    "duration": 4,
    "start_time": "2021-10-31T14:50:44.903Z"
   },
   {
    "duration": 5,
    "start_time": "2021-10-31T14:50:53.978Z"
   },
   {
    "duration": 238,
    "start_time": "2021-10-31T14:51:58.497Z"
   },
   {
    "duration": 5,
    "start_time": "2021-10-31T14:53:26.853Z"
   },
   {
    "duration": 4,
    "start_time": "2021-10-31T14:53:52.872Z"
   },
   {
    "duration": 20,
    "start_time": "2021-10-31T14:59:03.894Z"
   },
   {
    "duration": 629,
    "start_time": "2021-10-31T14:59:22.870Z"
   },
   {
    "duration": 16,
    "start_time": "2021-10-31T14:59:23.501Z"
   },
   {
    "duration": 22,
    "start_time": "2021-10-31T14:59:23.519Z"
   },
   {
    "duration": 6,
    "start_time": "2021-10-31T14:59:23.543Z"
   },
   {
    "duration": 45,
    "start_time": "2021-10-31T14:59:23.550Z"
   },
   {
    "duration": 11,
    "start_time": "2021-10-31T14:59:23.596Z"
   },
   {
    "duration": 9,
    "start_time": "2021-10-31T14:59:23.609Z"
   },
   {
    "duration": 11,
    "start_time": "2021-10-31T14:59:23.619Z"
   },
   {
    "duration": 11,
    "start_time": "2021-10-31T14:59:23.645Z"
   },
   {
    "duration": 49,
    "start_time": "2021-10-31T14:59:23.658Z"
   },
   {
    "duration": 47,
    "start_time": "2021-10-31T14:59:23.709Z"
   },
   {
    "duration": 18,
    "start_time": "2021-10-31T14:59:23.757Z"
   },
   {
    "duration": 15,
    "start_time": "2021-10-31T14:59:23.777Z"
   },
   {
    "duration": 764,
    "start_time": "2021-10-31T14:59:23.794Z"
   },
   {
    "duration": 6,
    "start_time": "2021-10-31T14:59:24.561Z"
   },
   {
    "duration": 8,
    "start_time": "2021-10-31T14:59:24.569Z"
   },
   {
    "duration": 20,
    "start_time": "2021-10-31T14:59:24.578Z"
   },
   {
    "duration": 5,
    "start_time": "2021-10-31T14:59:24.600Z"
   },
   {
    "duration": 51,
    "start_time": "2021-10-31T14:59:24.607Z"
   },
   {
    "duration": 9,
    "start_time": "2021-10-31T15:01:04.841Z"
   },
   {
    "duration": 640,
    "start_time": "2021-10-31T15:01:36.171Z"
   },
   {
    "duration": 266,
    "start_time": "2021-10-31T15:03:38.583Z"
   },
   {
    "duration": 442,
    "start_time": "2021-10-31T15:03:57.838Z"
   },
   {
    "duration": 14,
    "start_time": "2021-10-31T15:04:34.954Z"
   },
   {
    "duration": 14,
    "start_time": "2021-10-31T15:05:32.120Z"
   },
   {
    "duration": 13,
    "start_time": "2021-10-31T15:05:48.854Z"
   },
   {
    "duration": 15,
    "start_time": "2021-10-31T15:06:12.234Z"
   },
   {
    "duration": 264,
    "start_time": "2021-10-31T15:08:02.910Z"
   },
   {
    "duration": 4,
    "start_time": "2021-10-31T15:08:06.802Z"
   },
   {
    "duration": 4,
    "start_time": "2021-10-31T15:08:22.367Z"
   },
   {
    "duration": 2062,
    "start_time": "2021-10-31T15:09:22.505Z"
   },
   {
    "duration": 1763,
    "start_time": "2021-10-31T15:12:40.208Z"
   },
   {
    "duration": 4,
    "start_time": "2021-10-31T15:14:15.985Z"
   },
   {
    "duration": 34,
    "start_time": "2021-10-31T15:15:03.796Z"
   },
   {
    "duration": 8,
    "start_time": "2021-10-31T15:15:17.426Z"
   },
   {
    "duration": 6,
    "start_time": "2021-10-31T15:15:40.611Z"
   },
   {
    "duration": 6,
    "start_time": "2021-10-31T15:16:20.899Z"
   },
   {
    "duration": 91,
    "start_time": "2021-10-31T15:18:33.528Z"
   },
   {
    "duration": 6,
    "start_time": "2021-10-31T15:19:42.078Z"
   },
   {
    "duration": 5,
    "start_time": "2021-10-31T15:19:56.705Z"
   },
   {
    "duration": 9,
    "start_time": "2021-10-31T15:22:11.737Z"
   },
   {
    "duration": 9,
    "start_time": "2021-10-31T15:22:14.984Z"
   },
   {
    "duration": 10,
    "start_time": "2021-10-31T15:22:22.854Z"
   },
   {
    "duration": 4,
    "start_time": "2021-10-31T15:22:38.347Z"
   },
   {
    "duration": 10,
    "start_time": "2021-10-31T15:22:59.162Z"
   },
   {
    "duration": 10,
    "start_time": "2021-10-31T15:23:03.212Z"
   },
   {
    "duration": 260,
    "start_time": "2021-10-31T15:23:22.635Z"
   },
   {
    "duration": 377,
    "start_time": "2021-10-31T15:23:27.504Z"
   },
   {
    "duration": 5,
    "start_time": "2021-10-31T15:26:07.586Z"
   },
   {
    "duration": 7,
    "start_time": "2021-10-31T15:26:25.714Z"
   },
   {
    "duration": 6,
    "start_time": "2021-10-31T15:26:37.992Z"
   },
   {
    "duration": 6,
    "start_time": "2021-10-31T15:26:42.654Z"
   },
   {
    "duration": 18,
    "start_time": "2021-10-31T15:30:51.106Z"
   },
   {
    "duration": 31,
    "start_time": "2021-10-31T15:38:50.040Z"
   },
   {
    "duration": 34,
    "start_time": "2021-10-31T15:44:24.767Z"
   },
   {
    "duration": 22,
    "start_time": "2021-10-31T15:46:03.405Z"
   },
   {
    "duration": 16,
    "start_time": "2021-10-31T15:46:21.668Z"
   },
   {
    "duration": 17,
    "start_time": "2021-10-31T15:47:06.600Z"
   },
   {
    "duration": 18,
    "start_time": "2021-10-31T16:00:19.111Z"
   },
   {
    "duration": 38,
    "start_time": "2021-10-31T16:02:29.149Z"
   },
   {
    "duration": 35,
    "start_time": "2021-10-31T16:02:56.078Z"
   },
   {
    "duration": 17,
    "start_time": "2021-10-31T16:03:37.745Z"
   },
   {
    "duration": 40,
    "start_time": "2021-10-31T16:08:45.213Z"
   },
   {
    "duration": 38,
    "start_time": "2021-10-31T16:09:50.298Z"
   },
   {
    "duration": 210,
    "start_time": "2021-10-31T16:11:04.501Z"
   },
   {
    "duration": 6494,
    "start_time": "2021-10-31T16:11:07.605Z"
   },
   {
    "duration": 211,
    "start_time": "2021-10-31T16:11:34.840Z"
   },
   {
    "duration": 37,
    "start_time": "2021-10-31T16:12:40.451Z"
   },
   {
    "duration": 286,
    "start_time": "2021-10-31T16:15:00.231Z"
   },
   {
    "duration": 38,
    "start_time": "2021-10-31T16:15:16.694Z"
   },
   {
    "duration": 14,
    "start_time": "2021-10-31T16:19:02.740Z"
   },
   {
    "duration": 21,
    "start_time": "2021-10-31T16:19:08.887Z"
   },
   {
    "duration": 6,
    "start_time": "2021-10-31T16:19:45.934Z"
   },
   {
    "duration": 39,
    "start_time": "2021-10-31T16:23:34.998Z"
   },
   {
    "duration": 39,
    "start_time": "2021-10-31T16:26:20.185Z"
   },
   {
    "duration": 41,
    "start_time": "2021-10-31T16:26:36.029Z"
   },
   {
    "duration": 39,
    "start_time": "2021-10-31T16:27:05.607Z"
   },
   {
    "duration": 38,
    "start_time": "2021-10-31T16:27:16.805Z"
   },
   {
    "duration": 38,
    "start_time": "2021-10-31T16:27:34.069Z"
   },
   {
    "duration": 37,
    "start_time": "2021-10-31T16:28:01.488Z"
   },
   {
    "duration": 40,
    "start_time": "2021-10-31T16:34:16.941Z"
   },
   {
    "duration": 40,
    "start_time": "2021-10-31T16:34:19.600Z"
   },
   {
    "duration": 41,
    "start_time": "2021-10-31T16:34:29.522Z"
   },
   {
    "duration": 283,
    "start_time": "2021-10-31T16:36:31.401Z"
   },
   {
    "duration": 42,
    "start_time": "2021-10-31T16:36:38.495Z"
   },
   {
    "duration": 36,
    "start_time": "2021-10-31T16:36:54.183Z"
   },
   {
    "duration": 40,
    "start_time": "2021-10-31T16:37:01.005Z"
   },
   {
    "duration": 288,
    "start_time": "2021-10-31T16:38:26.376Z"
   },
   {
    "duration": 295,
    "start_time": "2021-10-31T16:38:31.566Z"
   },
   {
    "duration": 41,
    "start_time": "2021-10-31T16:38:40.712Z"
   },
   {
    "duration": 36,
    "start_time": "2021-10-31T16:38:48.703Z"
   },
   {
    "duration": 39,
    "start_time": "2021-10-31T16:38:55.014Z"
   },
   {
    "duration": 219,
    "start_time": "2021-10-31T16:43:04.605Z"
   },
   {
    "duration": 195,
    "start_time": "2021-10-31T16:43:15.655Z"
   },
   {
    "duration": 224,
    "start_time": "2021-10-31T16:43:40.836Z"
   },
   {
    "duration": 42,
    "start_time": "2021-10-31T16:43:50.536Z"
   },
   {
    "duration": 224,
    "start_time": "2021-10-31T16:44:53.665Z"
   },
   {
    "duration": 6327,
    "start_time": "2021-10-31T16:45:10.986Z"
   },
   {
    "duration": 289,
    "start_time": "2021-10-31T16:45:32.432Z"
   },
   {
    "duration": 294,
    "start_time": "2021-10-31T16:45:46.991Z"
   },
   {
    "duration": 34,
    "start_time": "2021-10-31T16:46:14.498Z"
   },
   {
    "duration": 34,
    "start_time": "2021-10-31T16:46:17.692Z"
   },
   {
    "duration": 34,
    "start_time": "2021-10-31T16:46:23.075Z"
   },
   {
    "duration": 679,
    "start_time": "2021-10-31T16:46:30.638Z"
   },
   {
    "duration": 19,
    "start_time": "2021-10-31T16:46:31.319Z"
   },
   {
    "duration": 19,
    "start_time": "2021-10-31T16:46:31.340Z"
   },
   {
    "duration": 38,
    "start_time": "2021-10-31T16:46:31.361Z"
   },
   {
    "duration": 17,
    "start_time": "2021-10-31T16:46:31.401Z"
   },
   {
    "duration": 86,
    "start_time": "2021-10-31T16:46:31.419Z"
   },
   {
    "duration": 11,
    "start_time": "2021-10-31T16:46:31.506Z"
   },
   {
    "duration": 22,
    "start_time": "2021-10-31T16:46:31.519Z"
   },
   {
    "duration": 44,
    "start_time": "2021-10-31T16:46:31.543Z"
   },
   {
    "duration": 26,
    "start_time": "2021-10-31T16:46:31.589Z"
   },
   {
    "duration": 51,
    "start_time": "2021-10-31T16:46:31.617Z"
   },
   {
    "duration": 33,
    "start_time": "2021-10-31T16:46:31.670Z"
   },
   {
    "duration": 20,
    "start_time": "2021-10-31T16:46:31.705Z"
   },
   {
    "duration": 18,
    "start_time": "2021-10-31T16:46:31.727Z"
   },
   {
    "duration": 726,
    "start_time": "2021-10-31T16:46:31.747Z"
   },
   {
    "duration": 4,
    "start_time": "2021-10-31T16:46:32.475Z"
   },
   {
    "duration": 9,
    "start_time": "2021-10-31T16:46:32.481Z"
   },
   {
    "duration": 14,
    "start_time": "2021-10-31T16:46:32.491Z"
   },
   {
    "duration": 30,
    "start_time": "2021-10-31T16:46:32.506Z"
   },
   {
    "duration": 26,
    "start_time": "2021-10-31T16:46:32.538Z"
   },
   {
    "duration": 40,
    "start_time": "2021-10-31T16:46:32.566Z"
   },
   {
    "duration": 42,
    "start_time": "2021-10-31T16:46:32.607Z"
   },
   {
    "duration": 36,
    "start_time": "2021-10-31T16:46:32.652Z"
   },
   {
    "duration": 16,
    "start_time": "2021-10-31T16:46:32.690Z"
   },
   {
    "duration": 42,
    "start_time": "2021-10-31T16:46:41.732Z"
   },
   {
    "duration": 39,
    "start_time": "2021-10-31T16:47:04.927Z"
   },
   {
    "duration": 6672,
    "start_time": "2021-10-31T16:47:23.474Z"
   },
   {
    "duration": 7745,
    "start_time": "2021-10-31T16:48:18.985Z"
   },
   {
    "duration": 6599,
    "start_time": "2021-10-31T16:49:55.375Z"
   },
   {
    "duration": 6658,
    "start_time": "2021-10-31T16:50:08.822Z"
   },
   {
    "duration": 19,
    "start_time": "2021-10-31T16:50:52.545Z"
   },
   {
    "duration": 16,
    "start_time": "2021-10-31T16:52:07.067Z"
   },
   {
    "duration": 40,
    "start_time": "2021-10-31T16:53:07.996Z"
   },
   {
    "duration": 39,
    "start_time": "2021-10-31T16:54:19.927Z"
   },
   {
    "duration": 683,
    "start_time": "2021-10-31T16:54:45.468Z"
   },
   {
    "duration": 39,
    "start_time": "2021-10-31T16:55:12.014Z"
   },
   {
    "duration": 39,
    "start_time": "2021-10-31T16:56:44.120Z"
   },
   {
    "duration": 42,
    "start_time": "2021-10-31T16:57:19.224Z"
   },
   {
    "duration": 5,
    "start_time": "2021-10-31T16:59:11.215Z"
   },
   {
    "duration": 33,
    "start_time": "2021-10-31T16:59:14.833Z"
   },
   {
    "duration": 42,
    "start_time": "2021-10-31T16:59:19.986Z"
   },
   {
    "duration": 6,
    "start_time": "2021-10-31T17:02:21.398Z"
   },
   {
    "duration": 43,
    "start_time": "2021-10-31T17:04:05.466Z"
   },
   {
    "duration": 1810,
    "start_time": "2021-10-31T19:05:00.273Z"
   },
   {
    "duration": 1785,
    "start_time": "2021-10-31T19:05:13.776Z"
   },
   {
    "duration": 598,
    "start_time": "2021-10-31T19:06:22.988Z"
   },
   {
    "duration": 16,
    "start_time": "2021-10-31T19:06:23.588Z"
   },
   {
    "duration": 36,
    "start_time": "2021-10-31T19:06:23.608Z"
   },
   {
    "duration": 6,
    "start_time": "2021-10-31T19:06:23.645Z"
   },
   {
    "duration": 37,
    "start_time": "2021-10-31T19:06:23.653Z"
   },
   {
    "duration": 10,
    "start_time": "2021-10-31T19:06:23.691Z"
   },
   {
    "duration": 8,
    "start_time": "2021-10-31T19:06:23.704Z"
   },
   {
    "duration": 5,
    "start_time": "2021-10-31T19:06:23.713Z"
   },
   {
    "duration": 18,
    "start_time": "2021-10-31T19:06:23.744Z"
   },
   {
    "duration": 65,
    "start_time": "2021-10-31T19:06:23.764Z"
   },
   {
    "duration": 27,
    "start_time": "2021-10-31T19:06:23.831Z"
   },
   {
    "duration": 17,
    "start_time": "2021-10-31T19:06:23.860Z"
   },
   {
    "duration": 12,
    "start_time": "2021-10-31T19:06:23.878Z"
   },
   {
    "duration": 703,
    "start_time": "2021-10-31T19:06:23.892Z"
   },
   {
    "duration": 5,
    "start_time": "2021-10-31T19:06:24.597Z"
   },
   {
    "duration": 6,
    "start_time": "2021-10-31T19:06:24.604Z"
   },
   {
    "duration": 9,
    "start_time": "2021-10-31T19:06:24.612Z"
   },
   {
    "duration": 24,
    "start_time": "2021-10-31T19:06:24.622Z"
   },
   {
    "duration": 14,
    "start_time": "2021-10-31T19:06:24.648Z"
   },
   {
    "duration": 29,
    "start_time": "2021-10-31T19:06:24.664Z"
   },
   {
    "duration": 65,
    "start_time": "2021-10-31T19:06:24.695Z"
   },
   {
    "duration": 9,
    "start_time": "2021-10-31T19:06:24.763Z"
   },
   {
    "duration": 8,
    "start_time": "2021-10-31T19:06:24.774Z"
   },
   {
    "duration": 44,
    "start_time": "2021-10-31T19:06:24.784Z"
   },
   {
    "duration": 26,
    "start_time": "2021-10-31T19:06:24.830Z"
   },
   {
    "duration": 5,
    "start_time": "2021-10-31T19:12:54.300Z"
   },
   {
    "duration": 1742,
    "start_time": "2021-10-31T19:19:07.419Z"
   },
   {
    "duration": 2116,
    "start_time": "2021-10-31T19:19:12.311Z"
   },
   {
    "duration": 926,
    "start_time": "2021-10-31T19:27:12.171Z"
   },
   {
    "duration": 710,
    "start_time": "2021-10-31T19:27:28.317Z"
   },
   {
    "duration": 707,
    "start_time": "2021-10-31T19:29:25.230Z"
   },
   {
    "duration": 771,
    "start_time": "2021-10-31T19:29:37.100Z"
   },
   {
    "duration": 438,
    "start_time": "2021-10-31T19:34:00.122Z"
   },
   {
    "duration": 3869,
    "start_time": "2021-10-31T19:34:10.830Z"
   },
   {
    "duration": 9180,
    "start_time": "2021-10-31T19:34:22.425Z"
   },
   {
    "duration": 9184,
    "start_time": "2021-10-31T19:34:55.696Z"
   },
   {
    "duration": 8931,
    "start_time": "2021-10-31T19:35:56.655Z"
   },
   {
    "duration": 9096,
    "start_time": "2021-10-31T19:36:14.762Z"
   },
   {
    "duration": 639,
    "start_time": "2021-10-31T19:37:10.166Z"
   },
   {
    "duration": 16,
    "start_time": "2021-10-31T19:37:10.807Z"
   },
   {
    "duration": 38,
    "start_time": "2021-10-31T19:37:10.825Z"
   },
   {
    "duration": 6,
    "start_time": "2021-10-31T19:37:10.865Z"
   },
   {
    "duration": 48,
    "start_time": "2021-10-31T19:37:10.873Z"
   },
   {
    "duration": 11,
    "start_time": "2021-10-31T19:37:10.923Z"
   },
   {
    "duration": 9,
    "start_time": "2021-10-31T19:37:10.945Z"
   },
   {
    "duration": 6,
    "start_time": "2021-10-31T19:37:10.956Z"
   },
   {
    "duration": 22,
    "start_time": "2021-10-31T19:37:10.964Z"
   },
   {
    "duration": 80,
    "start_time": "2021-10-31T19:37:10.989Z"
   },
   {
    "duration": 21,
    "start_time": "2021-10-31T19:37:11.070Z"
   },
   {
    "duration": 17,
    "start_time": "2021-10-31T19:37:11.092Z"
   },
   {
    "duration": 14,
    "start_time": "2021-10-31T19:37:11.111Z"
   },
   {
    "duration": 4,
    "start_time": "2021-10-31T19:37:20.271Z"
   },
   {
    "duration": 6,
    "start_time": "2021-10-31T19:37:20.277Z"
   },
   {
    "duration": 15,
    "start_time": "2021-10-31T19:37:20.285Z"
   },
   {
    "duration": 62,
    "start_time": "2021-10-31T19:37:20.302Z"
   },
   {
    "duration": 49,
    "start_time": "2021-10-31T19:37:20.367Z"
   },
   {
    "duration": 10,
    "start_time": "2021-10-31T19:37:20.418Z"
   },
   {
    "duration": 22,
    "start_time": "2021-10-31T19:37:20.429Z"
   },
   {
    "duration": 41,
    "start_time": "2021-10-31T19:37:20.453Z"
   },
   {
    "duration": 18,
    "start_time": "2021-10-31T19:37:20.496Z"
   },
   {
    "duration": 8846,
    "start_time": "2021-10-31T19:37:20.517Z"
   },
   {
    "duration": 25,
    "start_time": "2021-10-31T19:52:26.576Z"
   },
   {
    "duration": 8989,
    "start_time": "2021-10-31T19:56:08.834Z"
   },
   {
    "duration": 8583,
    "start_time": "2021-10-31T19:56:41.755Z"
   },
   {
    "duration": 8693,
    "start_time": "2021-10-31T19:57:13.008Z"
   },
   {
    "duration": 8607,
    "start_time": "2021-10-31T19:57:43.094Z"
   },
   {
    "duration": 48,
    "start_time": "2021-10-31T19:57:51.703Z"
   },
   {
    "duration": 8992,
    "start_time": "2021-10-31T19:59:15.134Z"
   },
   {
    "duration": 657,
    "start_time": "2021-10-31T19:59:26.857Z"
   },
   {
    "duration": 17,
    "start_time": "2021-10-31T19:59:27.516Z"
   },
   {
    "duration": 33,
    "start_time": "2021-10-31T19:59:27.534Z"
   },
   {
    "duration": 5,
    "start_time": "2021-10-31T19:59:27.569Z"
   },
   {
    "duration": 36,
    "start_time": "2021-10-31T19:59:27.576Z"
   },
   {
    "duration": 11,
    "start_time": "2021-10-31T19:59:27.613Z"
   },
   {
    "duration": 25,
    "start_time": "2021-10-31T19:59:27.625Z"
   },
   {
    "duration": 4,
    "start_time": "2021-10-31T19:59:27.652Z"
   },
   {
    "duration": 14,
    "start_time": "2021-10-31T19:59:27.657Z"
   },
   {
    "duration": 84,
    "start_time": "2021-10-31T19:59:27.673Z"
   },
   {
    "duration": 20,
    "start_time": "2021-10-31T19:59:27.759Z"
   },
   {
    "duration": 18,
    "start_time": "2021-10-31T19:59:27.780Z"
   },
   {
    "duration": 12,
    "start_time": "2021-10-31T19:59:27.800Z"
   },
   {
    "duration": 8870,
    "start_time": "2021-10-31T19:59:27.813Z"
   },
   {
    "duration": 44,
    "start_time": "2021-10-31T19:59:36.685Z"
   },
   {
    "duration": 36,
    "start_time": "2021-10-31T19:59:36.731Z"
   },
   {
    "duration": 5,
    "start_time": "2021-10-31T19:59:36.769Z"
   },
   {
    "duration": 12,
    "start_time": "2021-10-31T19:59:36.776Z"
   },
   {
    "duration": 21,
    "start_time": "2021-10-31T19:59:36.790Z"
   },
   {
    "duration": 61,
    "start_time": "2021-10-31T19:59:36.813Z"
   },
   {
    "duration": 47,
    "start_time": "2021-10-31T19:59:36.876Z"
   },
   {
    "duration": 20,
    "start_time": "2021-10-31T19:59:36.925Z"
   },
   {
    "duration": 8,
    "start_time": "2021-10-31T19:59:36.948Z"
   },
   {
    "duration": 40,
    "start_time": "2021-10-31T19:59:36.957Z"
   },
   {
    "duration": 15,
    "start_time": "2021-10-31T19:59:36.998Z"
   },
   {
    "duration": 9293,
    "start_time": "2021-10-31T20:04:21.559Z"
   },
   {
    "duration": 8788,
    "start_time": "2021-10-31T20:06:14.327Z"
   },
   {
    "duration": 8679,
    "start_time": "2021-10-31T20:06:36.668Z"
   },
   {
    "duration": 8578,
    "start_time": "2021-10-31T20:07:11.035Z"
   },
   {
    "duration": 9224,
    "start_time": "2021-10-31T20:07:51.760Z"
   },
   {
    "duration": 680,
    "start_time": "2021-10-31T20:17:57.344Z"
   },
   {
    "duration": 17,
    "start_time": "2021-10-31T20:17:58.025Z"
   },
   {
    "duration": 24,
    "start_time": "2021-10-31T20:17:58.044Z"
   },
   {
    "duration": 6,
    "start_time": "2021-10-31T20:17:58.070Z"
   },
   {
    "duration": 38,
    "start_time": "2021-10-31T20:17:58.077Z"
   },
   {
    "duration": 27,
    "start_time": "2021-10-31T20:17:58.117Z"
   },
   {
    "duration": 9,
    "start_time": "2021-10-31T20:17:58.146Z"
   },
   {
    "duration": 5,
    "start_time": "2021-10-31T20:17:58.157Z"
   },
   {
    "duration": 13,
    "start_time": "2021-10-31T20:17:58.164Z"
   },
   {
    "duration": 87,
    "start_time": "2021-10-31T20:17:58.178Z"
   },
   {
    "duration": 21,
    "start_time": "2021-10-31T20:17:58.267Z"
   },
   {
    "duration": 17,
    "start_time": "2021-10-31T20:17:58.289Z"
   },
   {
    "duration": 11,
    "start_time": "2021-10-31T20:17:58.308Z"
   },
   {
    "duration": 3404,
    "start_time": "2021-10-31T20:17:58.321Z"
   },
   {
    "duration": 50,
    "start_time": "2021-10-31T20:18:01.727Z"
   },
   {
    "duration": 5,
    "start_time": "2021-10-31T20:18:01.779Z"
   },
   {
    "duration": 16,
    "start_time": "2021-10-31T20:18:01.785Z"
   },
   {
    "duration": 5277,
    "start_time": "2021-10-31T20:18:01.803Z"
   },
   {
    "duration": 21,
    "start_time": "2021-10-31T20:18:07.082Z"
   },
   {
    "duration": 33,
    "start_time": "2021-10-31T20:18:07.105Z"
   },
   {
    "duration": 33,
    "start_time": "2021-10-31T20:18:07.140Z"
   },
   {
    "duration": 50,
    "start_time": "2021-10-31T20:18:07.175Z"
   },
   {
    "duration": 24,
    "start_time": "2021-10-31T20:18:07.228Z"
   },
   {
    "duration": 5,
    "start_time": "2021-10-31T20:18:07.253Z"
   },
   {
    "duration": 48,
    "start_time": "2021-10-31T20:18:07.260Z"
   },
   {
    "duration": 35,
    "start_time": "2021-10-31T20:18:07.310Z"
   },
   {
    "duration": 299,
    "start_time": "2021-10-31T20:23:50.100Z"
   },
   {
    "duration": 256,
    "start_time": "2021-10-31T20:24:24.830Z"
   },
   {
    "duration": 324,
    "start_time": "2021-10-31T20:24:47.019Z"
   },
   {
    "duration": 252,
    "start_time": "2021-10-31T20:27:16.183Z"
   },
   {
    "duration": 292,
    "start_time": "2021-10-31T20:28:28.026Z"
   },
   {
    "duration": 31,
    "start_time": "2021-10-31T20:29:21.373Z"
   },
   {
    "duration": 636,
    "start_time": "2021-10-31T20:29:38.864Z"
   },
   {
    "duration": 22,
    "start_time": "2021-10-31T20:29:39.503Z"
   },
   {
    "duration": 123,
    "start_time": "2021-10-31T20:29:39.528Z"
   },
   {
    "duration": 6,
    "start_time": "2021-10-31T20:29:39.653Z"
   },
   {
    "duration": 61,
    "start_time": "2021-10-31T20:29:39.661Z"
   },
   {
    "duration": 29,
    "start_time": "2021-10-31T20:29:39.724Z"
   },
   {
    "duration": 8,
    "start_time": "2021-10-31T20:29:39.755Z"
   },
   {
    "duration": 6,
    "start_time": "2021-10-31T20:29:39.764Z"
   },
   {
    "duration": 15,
    "start_time": "2021-10-31T20:29:39.772Z"
   },
   {
    "duration": 80,
    "start_time": "2021-10-31T20:29:39.789Z"
   },
   {
    "duration": 30,
    "start_time": "2021-10-31T20:29:39.871Z"
   },
   {
    "duration": 19,
    "start_time": "2021-10-31T20:29:39.903Z"
   },
   {
    "duration": 28,
    "start_time": "2021-10-31T20:29:39.924Z"
   },
   {
    "duration": 3419,
    "start_time": "2021-10-31T20:29:39.954Z"
   },
   {
    "duration": 40,
    "start_time": "2021-10-31T20:29:43.375Z"
   },
   {
    "duration": 4,
    "start_time": "2021-10-31T20:29:43.417Z"
   },
   {
    "duration": 22,
    "start_time": "2021-10-31T20:29:43.422Z"
   },
   {
    "duration": 5264,
    "start_time": "2021-10-31T20:29:43.446Z"
   },
   {
    "duration": 45,
    "start_time": "2021-10-31T20:29:48.712Z"
   },
   {
    "duration": 16,
    "start_time": "2021-10-31T20:29:48.759Z"
   },
   {
    "duration": 15,
    "start_time": "2021-10-31T20:29:48.777Z"
   },
   {
    "duration": 51,
    "start_time": "2021-10-31T20:29:48.794Z"
   },
   {
    "duration": 45,
    "start_time": "2021-10-31T20:29:48.848Z"
   },
   {
    "duration": 10,
    "start_time": "2021-10-31T20:29:48.894Z"
   },
   {
    "duration": 13,
    "start_time": "2021-10-31T20:29:48.906Z"
   },
   {
    "duration": 63,
    "start_time": "2021-10-31T20:29:48.920Z"
   },
   {
    "duration": 15,
    "start_time": "2021-10-31T20:29:48.986Z"
   },
   {
    "duration": 30,
    "start_time": "2021-10-31T20:30:10.701Z"
   },
   {
    "duration": 27,
    "start_time": "2021-10-31T20:30:18.487Z"
   },
   {
    "duration": 313,
    "start_time": "2021-10-31T20:30:51.265Z"
   },
   {
    "duration": 20,
    "start_time": "2021-10-31T20:34:21.890Z"
   },
   {
    "duration": 613,
    "start_time": "2021-10-31T20:34:30.775Z"
   },
   {
    "duration": 17,
    "start_time": "2021-10-31T20:34:31.390Z"
   },
   {
    "duration": 46,
    "start_time": "2021-10-31T20:34:31.409Z"
   },
   {
    "duration": 6,
    "start_time": "2021-10-31T20:34:31.457Z"
   },
   {
    "duration": 40,
    "start_time": "2021-10-31T20:34:31.465Z"
   },
   {
    "duration": 11,
    "start_time": "2021-10-31T20:34:31.506Z"
   },
   {
    "duration": 30,
    "start_time": "2021-10-31T20:34:31.518Z"
   },
   {
    "duration": 4,
    "start_time": "2021-10-31T20:34:31.549Z"
   },
   {
    "duration": 26,
    "start_time": "2021-10-31T20:34:31.556Z"
   },
   {
    "duration": 70,
    "start_time": "2021-10-31T20:34:31.584Z"
   },
   {
    "duration": 19,
    "start_time": "2021-10-31T20:34:31.655Z"
   },
   {
    "duration": 22,
    "start_time": "2021-10-31T20:34:31.676Z"
   },
   {
    "duration": 14,
    "start_time": "2021-10-31T20:34:31.700Z"
   },
   {
    "duration": 3444,
    "start_time": "2021-10-31T20:34:31.716Z"
   },
   {
    "duration": 37,
    "start_time": "2021-10-31T20:34:35.162Z"
   },
   {
    "duration": 4,
    "start_time": "2021-10-31T20:34:35.201Z"
   },
   {
    "duration": 26,
    "start_time": "2021-10-31T20:34:35.206Z"
   },
   {
    "duration": 5319,
    "start_time": "2021-10-31T20:34:35.234Z"
   },
   {
    "duration": 23,
    "start_time": "2021-10-31T20:34:40.555Z"
   },
   {
    "duration": 13,
    "start_time": "2021-10-31T20:34:40.580Z"
   },
   {
    "duration": 17,
    "start_time": "2021-10-31T20:34:40.594Z"
   },
   {
    "duration": 55,
    "start_time": "2021-10-31T20:34:40.612Z"
   },
   {
    "duration": 47,
    "start_time": "2021-10-31T20:34:40.668Z"
   },
   {
    "duration": 28,
    "start_time": "2021-10-31T20:34:40.716Z"
   },
   {
    "duration": 5,
    "start_time": "2021-10-31T20:34:40.746Z"
   },
   {
    "duration": 42,
    "start_time": "2021-10-31T20:34:40.753Z"
   },
   {
    "duration": 17,
    "start_time": "2021-10-31T20:34:40.799Z"
   },
   {
    "duration": 19,
    "start_time": "2021-10-31T20:35:00.029Z"
   },
   {
    "duration": 305,
    "start_time": "2021-10-31T20:35:11.998Z"
   },
   {
    "duration": 15,
    "start_time": "2021-10-31T20:35:25.236Z"
   },
   {
    "duration": 17,
    "start_time": "2021-10-31T20:35:40.553Z"
   },
   {
    "duration": 17,
    "start_time": "2021-10-31T20:36:10.850Z"
   },
   {
    "duration": 748,
    "start_time": "2021-10-31T20:37:20.055Z"
   },
   {
    "duration": 22,
    "start_time": "2021-10-31T20:37:29.426Z"
   },
   {
    "duration": 245,
    "start_time": "2021-10-31T20:48:38.916Z"
   },
   {
    "duration": 24,
    "start_time": "2021-10-31T20:48:44.890Z"
   },
   {
    "duration": 25,
    "start_time": "2021-10-31T20:50:43.525Z"
   },
   {
    "duration": 249,
    "start_time": "2021-10-31T20:51:22.754Z"
   },
   {
    "duration": 252,
    "start_time": "2021-10-31T20:51:46.789Z"
   },
   {
    "duration": 23,
    "start_time": "2021-10-31T20:52:26.412Z"
   },
   {
    "duration": 251,
    "start_time": "2021-10-31T20:52:48.540Z"
   },
   {
    "duration": 253,
    "start_time": "2021-10-31T20:52:58.752Z"
   },
   {
    "duration": 276,
    "start_time": "2021-10-31T20:53:11.390Z"
   },
   {
    "duration": 24,
    "start_time": "2021-10-31T20:53:23.929Z"
   },
   {
    "duration": 18,
    "start_time": "2021-10-31T20:53:52.318Z"
   },
   {
    "duration": 9,
    "start_time": "2021-10-31T20:54:38.275Z"
   },
   {
    "duration": 9,
    "start_time": "2021-10-31T20:55:31.264Z"
   },
   {
    "duration": 10,
    "start_time": "2021-10-31T21:04:00.589Z"
   },
   {
    "duration": 8,
    "start_time": "2021-10-31T21:04:51.876Z"
   },
   {
    "duration": 23,
    "start_time": "2021-10-31T21:05:12.198Z"
   },
   {
    "duration": 7,
    "start_time": "2021-10-31T21:05:17.865Z"
   },
   {
    "duration": 32,
    "start_time": "2021-10-31T21:06:26.030Z"
   },
   {
    "duration": 7,
    "start_time": "2021-10-31T21:06:29.642Z"
   },
   {
    "duration": 40,
    "start_time": "2021-10-31T21:11:44.921Z"
   },
   {
    "duration": 90,
    "start_time": "2021-10-31T21:21:25.689Z"
   },
   {
    "duration": 86,
    "start_time": "2021-10-31T21:21:33.982Z"
   },
   {
    "duration": 29,
    "start_time": "2021-10-31T21:21:52.310Z"
   },
   {
    "duration": 28,
    "start_time": "2021-10-31T21:27:24.685Z"
   },
   {
    "duration": 16,
    "start_time": "2021-10-31T21:28:06.389Z"
   },
   {
    "duration": 9,
    "start_time": "2021-10-31T21:28:10.001Z"
   },
   {
    "duration": 7,
    "start_time": "2021-10-31T21:28:13.895Z"
   },
   {
    "duration": 619,
    "start_time": "2021-10-31T21:28:21.792Z"
   },
   {
    "duration": 25,
    "start_time": "2021-10-31T21:28:22.414Z"
   },
   {
    "duration": 92,
    "start_time": "2021-10-31T21:28:22.447Z"
   },
   {
    "duration": 9,
    "start_time": "2021-10-31T21:28:22.542Z"
   },
   {
    "duration": 66,
    "start_time": "2021-10-31T21:28:22.553Z"
   },
   {
    "duration": 17,
    "start_time": "2021-10-31T21:28:22.622Z"
   },
   {
    "duration": 13,
    "start_time": "2021-10-31T21:28:22.647Z"
   },
   {
    "duration": 8,
    "start_time": "2021-10-31T21:28:22.663Z"
   },
   {
    "duration": 41,
    "start_time": "2021-10-31T21:28:22.674Z"
   },
   {
    "duration": 105,
    "start_time": "2021-10-31T21:28:22.717Z"
   },
   {
    "duration": 21,
    "start_time": "2021-10-31T21:28:22.824Z"
   },
   {
    "duration": 18,
    "start_time": "2021-10-31T21:28:22.847Z"
   },
   {
    "duration": 11,
    "start_time": "2021-10-31T21:28:22.867Z"
   },
   {
    "duration": 3282,
    "start_time": "2021-10-31T21:28:22.880Z"
   },
   {
    "duration": 39,
    "start_time": "2021-10-31T21:28:26.164Z"
   },
   {
    "duration": 4,
    "start_time": "2021-10-31T21:28:26.204Z"
   },
   {
    "duration": 9,
    "start_time": "2021-10-31T21:28:26.210Z"
   },
   {
    "duration": 5374,
    "start_time": "2021-10-31T21:28:26.221Z"
   },
   {
    "duration": 11,
    "start_time": "2021-10-31T21:28:31.597Z"
   },
   {
    "duration": 28,
    "start_time": "2021-10-31T21:28:31.610Z"
   },
   {
    "duration": 15,
    "start_time": "2021-10-31T21:28:31.640Z"
   },
   {
    "duration": 39,
    "start_time": "2021-10-31T21:28:31.656Z"
   },
   {
    "duration": 26,
    "start_time": "2021-10-31T21:28:31.698Z"
   },
   {
    "duration": 340,
    "start_time": "2021-10-31T21:28:31.726Z"
   },
   {
    "duration": 313,
    "start_time": "2021-10-31T21:28:31.754Z"
   },
   {
    "duration": 306,
    "start_time": "2021-10-31T21:28:31.762Z"
   },
   {
    "duration": 304,
    "start_time": "2021-10-31T21:28:31.765Z"
   },
   {
    "duration": 302,
    "start_time": "2021-10-31T21:28:31.768Z"
   },
   {
    "duration": 4,
    "start_time": "2021-10-31T21:28:46.665Z"
   },
   {
    "duration": 4,
    "start_time": "2021-10-31T21:28:50.485Z"
   },
   {
    "duration": 24,
    "start_time": "2021-10-31T21:29:14.796Z"
   },
   {
    "duration": 244,
    "start_time": "2021-10-31T21:29:45.507Z"
   },
   {
    "duration": 23,
    "start_time": "2021-10-31T21:29:49.492Z"
   },
   {
    "duration": 271,
    "start_time": "2021-10-31T21:30:59.647Z"
   },
   {
    "duration": 249,
    "start_time": "2021-10-31T21:31:16.455Z"
   },
   {
    "duration": 23,
    "start_time": "2021-10-31T21:31:25.126Z"
   },
   {
    "duration": 40,
    "start_time": "2021-10-31T21:32:36.332Z"
   },
   {
    "duration": 19,
    "start_time": "2021-10-31T21:33:02.396Z"
   },
   {
    "duration": 19,
    "start_time": "2021-10-31T21:36:06.898Z"
   },
   {
    "duration": 9,
    "start_time": "2021-10-31T21:40:43.314Z"
   },
   {
    "duration": 8,
    "start_time": "2021-10-31T21:40:51.691Z"
   },
   {
    "duration": 8,
    "start_time": "2021-10-31T21:41:16.496Z"
   },
   {
    "duration": 6,
    "start_time": "2021-10-31T21:42:16.486Z"
   },
   {
    "duration": 6,
    "start_time": "2021-10-31T21:42:20.913Z"
   },
   {
    "duration": 11,
    "start_time": "2021-10-31T21:42:26.848Z"
   },
   {
    "duration": 13,
    "start_time": "2021-10-31T21:43:06.892Z"
   },
   {
    "duration": 42,
    "start_time": "2021-10-31T21:50:43.558Z"
   },
   {
    "duration": 41,
    "start_time": "2021-10-31T21:51:02.372Z"
   },
   {
    "duration": 19,
    "start_time": "2021-10-31T21:51:27.553Z"
   },
   {
    "duration": 27,
    "start_time": "2021-10-31T21:54:12.873Z"
   },
   {
    "duration": 25,
    "start_time": "2021-10-31T21:57:01.731Z"
   },
   {
    "duration": 14,
    "start_time": "2021-10-31T21:57:12.706Z"
   },
   {
    "duration": 13,
    "start_time": "2021-10-31T21:57:22.939Z"
   },
   {
    "duration": 649,
    "start_time": "2021-10-31T22:06:28.750Z"
   },
   {
    "duration": 19,
    "start_time": "2021-10-31T22:06:29.401Z"
   },
   {
    "duration": 27,
    "start_time": "2021-10-31T22:06:29.422Z"
   },
   {
    "duration": 7,
    "start_time": "2021-10-31T22:06:29.452Z"
   },
   {
    "duration": 46,
    "start_time": "2021-10-31T22:06:29.461Z"
   },
   {
    "duration": 13,
    "start_time": "2021-10-31T22:06:29.509Z"
   },
   {
    "duration": 30,
    "start_time": "2021-10-31T22:06:29.523Z"
   },
   {
    "duration": 5,
    "start_time": "2021-10-31T22:06:29.556Z"
   },
   {
    "duration": 12,
    "start_time": "2021-10-31T22:06:29.563Z"
   },
   {
    "duration": 90,
    "start_time": "2021-10-31T22:06:29.576Z"
   },
   {
    "duration": 21,
    "start_time": "2021-10-31T22:06:29.667Z"
   },
   {
    "duration": 18,
    "start_time": "2021-10-31T22:06:29.690Z"
   },
   {
    "duration": 11,
    "start_time": "2021-10-31T22:06:29.710Z"
   },
   {
    "duration": 3865,
    "start_time": "2021-10-31T22:06:29.722Z"
   },
   {
    "duration": 39,
    "start_time": "2021-10-31T22:06:33.589Z"
   },
   {
    "duration": 17,
    "start_time": "2021-10-31T22:06:33.630Z"
   },
   {
    "duration": 10,
    "start_time": "2021-10-31T22:06:33.648Z"
   },
   {
    "duration": 5488,
    "start_time": "2021-10-31T22:06:33.660Z"
   },
   {
    "duration": 17,
    "start_time": "2021-10-31T22:06:39.150Z"
   },
   {
    "duration": 23,
    "start_time": "2021-10-31T22:06:39.169Z"
   },
   {
    "duration": 15,
    "start_time": "2021-10-31T22:06:39.194Z"
   },
   {
    "duration": 310,
    "start_time": "2021-10-31T22:06:39.211Z"
   },
   {
    "duration": 319,
    "start_time": "2021-10-31T22:06:39.204Z"
   },
   {
    "duration": 318,
    "start_time": "2021-10-31T22:06:39.206Z"
   },
   {
    "duration": 316,
    "start_time": "2021-10-31T22:06:39.209Z"
   },
   {
    "duration": 307,
    "start_time": "2021-10-31T22:06:39.219Z"
   },
   {
    "duration": 305,
    "start_time": "2021-10-31T22:06:39.222Z"
   },
   {
    "duration": 31,
    "start_time": "2021-10-31T22:06:58.654Z"
   },
   {
    "duration": 31,
    "start_time": "2021-10-31T22:07:10.793Z"
   },
   {
    "duration": 635,
    "start_time": "2021-10-31T22:07:20.796Z"
   },
   {
    "duration": 18,
    "start_time": "2021-10-31T22:07:21.433Z"
   },
   {
    "duration": 22,
    "start_time": "2021-10-31T22:07:21.455Z"
   },
   {
    "duration": 6,
    "start_time": "2021-10-31T22:07:21.479Z"
   },
   {
    "duration": 57,
    "start_time": "2021-10-31T22:07:21.487Z"
   },
   {
    "duration": 11,
    "start_time": "2021-10-31T22:07:21.546Z"
   },
   {
    "duration": 9,
    "start_time": "2021-10-31T22:07:21.560Z"
   },
   {
    "duration": 7,
    "start_time": "2021-10-31T22:07:21.571Z"
   },
   {
    "duration": 12,
    "start_time": "2021-10-31T22:07:21.580Z"
   },
   {
    "duration": 96,
    "start_time": "2021-10-31T22:07:21.594Z"
   },
   {
    "duration": 23,
    "start_time": "2021-10-31T22:07:21.692Z"
   },
   {
    "duration": 37,
    "start_time": "2021-10-31T22:07:21.717Z"
   },
   {
    "duration": 13,
    "start_time": "2021-10-31T22:07:21.755Z"
   },
   {
    "duration": 3518,
    "start_time": "2021-10-31T22:07:21.769Z"
   },
   {
    "duration": 42,
    "start_time": "2021-10-31T22:07:25.289Z"
   },
   {
    "duration": 14,
    "start_time": "2021-10-31T22:07:25.333Z"
   },
   {
    "duration": 5,
    "start_time": "2021-10-31T22:07:25.349Z"
   },
   {
    "duration": 5369,
    "start_time": "2021-10-31T22:07:25.355Z"
   },
   {
    "duration": 31,
    "start_time": "2021-10-31T22:07:30.726Z"
   },
   {
    "duration": 33,
    "start_time": "2021-10-31T22:07:30.758Z"
   },
   {
    "duration": 15,
    "start_time": "2021-10-31T22:07:30.793Z"
   },
   {
    "duration": 38,
    "start_time": "2021-10-31T22:07:30.812Z"
   },
   {
    "duration": 30,
    "start_time": "2021-10-31T22:07:30.851Z"
   },
   {
    "duration": 25,
    "start_time": "2021-10-31T22:07:30.883Z"
   },
   {
    "duration": 38,
    "start_time": "2021-10-31T22:07:30.910Z"
   },
   {
    "duration": 24,
    "start_time": "2021-10-31T22:07:30.950Z"
   },
   {
    "duration": 350,
    "start_time": "2021-10-31T22:07:30.976Z"
   },
   {
    "duration": 24,
    "start_time": "2021-10-31T22:09:04.586Z"
   },
   {
    "duration": 25,
    "start_time": "2021-10-31T22:09:55.887Z"
   },
   {
    "duration": 20,
    "start_time": "2021-10-31T22:10:25.236Z"
   },
   {
    "duration": 24,
    "start_time": "2021-10-31T22:10:32.450Z"
   },
   {
    "duration": 22,
    "start_time": "2021-10-31T22:11:13.459Z"
   },
   {
    "duration": 26,
    "start_time": "2021-10-31T22:11:48.006Z"
   },
   {
    "duration": 24,
    "start_time": "2021-10-31T22:12:06.006Z"
   },
   {
    "duration": 28,
    "start_time": "2021-10-31T22:12:20.557Z"
   },
   {
    "duration": 27,
    "start_time": "2021-10-31T22:14:15.664Z"
   },
   {
    "duration": 26,
    "start_time": "2021-10-31T22:16:56.335Z"
   },
   {
    "duration": 593,
    "start_time": "2021-10-31T22:21:00.592Z"
   },
   {
    "duration": 18,
    "start_time": "2021-10-31T22:21:01.187Z"
   },
   {
    "duration": 37,
    "start_time": "2021-10-31T22:21:01.208Z"
   },
   {
    "duration": 31,
    "start_time": "2021-10-31T22:21:01.248Z"
   },
   {
    "duration": 57,
    "start_time": "2021-10-31T22:21:01.281Z"
   },
   {
    "duration": 11,
    "start_time": "2021-10-31T22:21:01.340Z"
   },
   {
    "duration": 12,
    "start_time": "2021-10-31T22:21:01.353Z"
   },
   {
    "duration": 10,
    "start_time": "2021-10-31T22:21:01.368Z"
   },
   {
    "duration": 35,
    "start_time": "2021-10-31T22:21:01.379Z"
   },
   {
    "duration": 81,
    "start_time": "2021-10-31T22:21:01.416Z"
   },
   {
    "duration": 22,
    "start_time": "2021-10-31T22:21:01.499Z"
   },
   {
    "duration": 28,
    "start_time": "2021-10-31T22:21:01.523Z"
   },
   {
    "duration": 13,
    "start_time": "2021-10-31T22:21:01.553Z"
   },
   {
    "duration": 3582,
    "start_time": "2021-10-31T22:21:01.568Z"
   },
   {
    "duration": 38,
    "start_time": "2021-10-31T22:21:05.152Z"
   },
   {
    "duration": 5,
    "start_time": "2021-10-31T22:21:05.191Z"
   },
   {
    "duration": 12,
    "start_time": "2021-10-31T22:21:05.197Z"
   },
   {
    "duration": 5337,
    "start_time": "2021-10-31T22:21:05.211Z"
   },
   {
    "duration": 30,
    "start_time": "2021-10-31T22:21:10.550Z"
   },
   {
    "duration": 53,
    "start_time": "2021-10-31T22:21:10.582Z"
   },
   {
    "duration": 14,
    "start_time": "2021-10-31T22:21:10.637Z"
   },
   {
    "duration": 49,
    "start_time": "2021-10-31T22:21:10.653Z"
   },
   {
    "duration": 31,
    "start_time": "2021-10-31T22:21:10.705Z"
   },
   {
    "duration": 35,
    "start_time": "2021-10-31T22:21:10.738Z"
   },
   {
    "duration": 17,
    "start_time": "2021-10-31T22:21:10.775Z"
   },
   {
    "duration": 29,
    "start_time": "2021-10-31T22:21:10.794Z"
   },
   {
    "duration": 28,
    "start_time": "2021-10-31T22:21:10.825Z"
   },
   {
    "duration": 31,
    "start_time": "2021-10-31T22:21:10.855Z"
   },
   {
    "duration": 975,
    "start_time": "2021-11-01T08:26:08.679Z"
   },
   {
    "duration": 281,
    "start_time": "2021-11-01T08:26:17.146Z"
   },
   {
    "duration": 856,
    "start_time": "2021-11-01T08:26:38.754Z"
   },
   {
    "duration": 27,
    "start_time": "2021-11-01T08:26:39.613Z"
   },
   {
    "duration": 52,
    "start_time": "2021-11-01T08:26:39.644Z"
   },
   {
    "duration": 9,
    "start_time": "2021-11-01T08:26:39.699Z"
   },
   {
    "duration": 84,
    "start_time": "2021-11-01T08:26:39.711Z"
   },
   {
    "duration": 14,
    "start_time": "2021-11-01T08:26:39.797Z"
   },
   {
    "duration": 12,
    "start_time": "2021-11-01T08:26:39.814Z"
   },
   {
    "duration": 6,
    "start_time": "2021-11-01T08:26:39.829Z"
   },
   {
    "duration": 17,
    "start_time": "2021-11-01T08:26:39.869Z"
   },
   {
    "duration": 124,
    "start_time": "2021-11-01T08:26:39.888Z"
   },
   {
    "duration": 30,
    "start_time": "2021-11-01T08:26:40.014Z"
   },
   {
    "duration": 46,
    "start_time": "2021-11-01T08:26:40.046Z"
   },
   {
    "duration": 19,
    "start_time": "2021-11-01T08:26:40.095Z"
   },
   {
    "duration": 4583,
    "start_time": "2021-11-01T08:26:40.116Z"
   },
   {
    "duration": 65,
    "start_time": "2021-11-01T08:26:44.702Z"
   },
   {
    "duration": 6,
    "start_time": "2021-11-01T08:26:44.769Z"
   },
   {
    "duration": 5,
    "start_time": "2021-11-01T08:26:44.778Z"
   },
   {
    "duration": 8337,
    "start_time": "2021-11-01T08:26:44.786Z"
   },
   {
    "duration": 18,
    "start_time": "2021-11-01T08:26:53.126Z"
   },
   {
    "duration": 37,
    "start_time": "2021-11-01T08:26:53.147Z"
   },
   {
    "duration": 21,
    "start_time": "2021-11-01T08:26:53.188Z"
   },
   {
    "duration": 73,
    "start_time": "2021-11-01T08:26:53.212Z"
   },
   {
    "duration": 52,
    "start_time": "2021-11-01T08:26:53.290Z"
   },
   {
    "duration": 55,
    "start_time": "2021-11-01T08:26:53.345Z"
   },
   {
    "duration": 26,
    "start_time": "2021-11-01T08:26:53.403Z"
   },
   {
    "duration": 65,
    "start_time": "2021-11-01T08:26:53.431Z"
   },
   {
    "duration": 40,
    "start_time": "2021-11-01T08:26:53.499Z"
   },
   {
    "duration": 820,
    "start_time": "2021-11-01T08:26:53.542Z"
   },
   {
    "duration": 51,
    "start_time": "2021-11-01T08:27:18.396Z"
   },
   {
    "duration": 31,
    "start_time": "2021-11-01T08:47:57.453Z"
   },
   {
    "duration": 19,
    "start_time": "2021-11-01T08:48:00.532Z"
   },
   {
    "duration": 98,
    "start_time": "2021-11-01T08:59:22.293Z"
   },
   {
    "duration": 38,
    "start_time": "2021-11-01T08:59:52.035Z"
   },
   {
    "duration": 839,
    "start_time": "2021-11-01T09:00:21.093Z"
   },
   {
    "duration": 34,
    "start_time": "2021-11-01T09:00:21.935Z"
   },
   {
    "duration": 35,
    "start_time": "2021-11-01T09:00:21.973Z"
   },
   {
    "duration": 9,
    "start_time": "2021-11-01T09:00:22.011Z"
   },
   {
    "duration": 92,
    "start_time": "2021-11-01T09:00:22.023Z"
   },
   {
    "duration": 15,
    "start_time": "2021-11-01T09:00:22.118Z"
   },
   {
    "duration": 31,
    "start_time": "2021-11-01T09:00:22.136Z"
   },
   {
    "duration": 7,
    "start_time": "2021-11-01T09:00:22.172Z"
   },
   {
    "duration": 18,
    "start_time": "2021-11-01T09:00:22.183Z"
   },
   {
    "duration": 133,
    "start_time": "2021-11-01T09:00:22.204Z"
   },
   {
    "duration": 50,
    "start_time": "2021-11-01T09:00:22.340Z"
   },
   {
    "duration": 27,
    "start_time": "2021-11-01T09:00:22.393Z"
   },
   {
    "duration": 18,
    "start_time": "2021-11-01T09:00:22.422Z"
   },
   {
    "duration": 4583,
    "start_time": "2021-11-01T09:00:22.443Z"
   },
   {
    "duration": 71,
    "start_time": "2021-11-01T09:00:27.029Z"
   },
   {
    "duration": 6,
    "start_time": "2021-11-01T09:00:27.102Z"
   },
   {
    "duration": 19,
    "start_time": "2021-11-01T09:00:27.110Z"
   },
   {
    "duration": 8595,
    "start_time": "2021-11-01T09:00:27.131Z"
   },
   {
    "duration": 27,
    "start_time": "2021-11-01T09:00:35.729Z"
   },
   {
    "duration": 27,
    "start_time": "2021-11-01T09:00:35.766Z"
   },
   {
    "duration": 22,
    "start_time": "2021-11-01T09:00:35.796Z"
   },
   {
    "duration": 84,
    "start_time": "2021-11-01T09:00:35.821Z"
   },
   {
    "duration": 69,
    "start_time": "2021-11-01T09:00:35.910Z"
   },
   {
    "duration": 34,
    "start_time": "2021-11-01T09:00:35.982Z"
   },
   {
    "duration": 48,
    "start_time": "2021-11-01T09:00:36.019Z"
   },
   {
    "duration": 43,
    "start_time": "2021-11-01T09:00:36.069Z"
   },
   {
    "duration": 61,
    "start_time": "2021-11-01T09:00:36.114Z"
   },
   {
    "duration": 41,
    "start_time": "2021-11-01T09:00:36.177Z"
   },
   {
    "duration": 175,
    "start_time": "2021-11-01T09:00:36.220Z"
   },
   {
    "duration": 38,
    "start_time": "2021-11-01T09:02:12.707Z"
   },
   {
    "duration": 102,
    "start_time": "2021-11-01T09:04:18.134Z"
   },
   {
    "duration": 42,
    "start_time": "2021-11-01T09:04:22.135Z"
   },
   {
    "duration": 859,
    "start_time": "2021-11-01T10:13:57.432Z"
   },
   {
    "duration": 29,
    "start_time": "2021-11-01T10:13:58.293Z"
   },
   {
    "duration": 59,
    "start_time": "2021-11-01T10:13:58.327Z"
   },
   {
    "duration": 12,
    "start_time": "2021-11-01T10:13:58.389Z"
   },
   {
    "duration": 84,
    "start_time": "2021-11-01T10:13:58.403Z"
   },
   {
    "duration": 18,
    "start_time": "2021-11-01T10:13:58.489Z"
   },
   {
    "duration": 15,
    "start_time": "2021-11-01T10:13:58.510Z"
   },
   {
    "duration": 40,
    "start_time": "2021-11-01T10:13:58.531Z"
   },
   {
    "duration": 19,
    "start_time": "2021-11-01T10:13:58.574Z"
   },
   {
    "duration": 124,
    "start_time": "2021-11-01T10:13:58.595Z"
   },
   {
    "duration": 29,
    "start_time": "2021-11-01T10:13:58.722Z"
   },
   {
    "duration": 40,
    "start_time": "2021-11-01T10:13:58.753Z"
   },
   {
    "duration": 19,
    "start_time": "2021-11-01T10:13:58.795Z"
   },
   {
    "duration": 4658,
    "start_time": "2021-11-01T10:13:58.817Z"
   },
   {
    "duration": 60,
    "start_time": "2021-11-01T10:14:03.479Z"
   },
   {
    "duration": 7,
    "start_time": "2021-11-01T10:14:03.541Z"
   },
   {
    "duration": 5,
    "start_time": "2021-11-01T10:14:03.568Z"
   },
   {
    "duration": 8728,
    "start_time": "2021-11-01T10:14:03.576Z"
   },
   {
    "duration": 25,
    "start_time": "2021-11-01T10:14:12.306Z"
   },
   {
    "duration": 43,
    "start_time": "2021-11-01T10:14:12.333Z"
   },
   {
    "duration": 24,
    "start_time": "2021-11-01T10:14:12.378Z"
   },
   {
    "duration": 80,
    "start_time": "2021-11-01T10:14:12.405Z"
   },
   {
    "duration": 48,
    "start_time": "2021-11-01T10:14:12.489Z"
   },
   {
    "duration": 63,
    "start_time": "2021-11-01T10:14:12.539Z"
   },
   {
    "duration": 25,
    "start_time": "2021-11-01T10:14:12.604Z"
   },
   {
    "duration": 58,
    "start_time": "2021-11-01T10:14:12.631Z"
   },
   {
    "duration": 38,
    "start_time": "2021-11-01T10:14:12.691Z"
   },
   {
    "duration": 60,
    "start_time": "2021-11-01T10:14:12.732Z"
   },
   {
    "duration": 167,
    "start_time": "2021-11-01T10:14:12.794Z"
   },
   {
    "duration": 845,
    "start_time": "2021-11-01T13:53:57.713Z"
   },
   {
    "duration": 29,
    "start_time": "2021-11-01T13:53:58.561Z"
   },
   {
    "duration": 52,
    "start_time": "2021-11-01T13:53:58.594Z"
   },
   {
    "duration": 11,
    "start_time": "2021-11-01T13:53:58.650Z"
   },
   {
    "duration": 88,
    "start_time": "2021-11-01T13:53:58.664Z"
   },
   {
    "duration": 17,
    "start_time": "2021-11-01T13:53:58.755Z"
   },
   {
    "duration": 15,
    "start_time": "2021-11-01T13:53:58.775Z"
   },
   {
    "duration": 35,
    "start_time": "2021-11-01T13:53:58.795Z"
   },
   {
    "duration": 16,
    "start_time": "2021-11-01T13:53:58.833Z"
   },
   {
    "duration": 125,
    "start_time": "2021-11-01T13:53:58.852Z"
   },
   {
    "duration": 32,
    "start_time": "2021-11-01T13:53:58.979Z"
   },
   {
    "duration": 39,
    "start_time": "2021-11-01T13:53:59.013Z"
   },
   {
    "duration": 19,
    "start_time": "2021-11-01T13:53:59.055Z"
   },
   {
    "duration": 4587,
    "start_time": "2021-11-01T13:53:59.076Z"
   },
   {
    "duration": 65,
    "start_time": "2021-11-01T13:54:03.666Z"
   },
   {
    "duration": 6,
    "start_time": "2021-11-01T13:54:03.734Z"
   },
   {
    "duration": 6,
    "start_time": "2021-11-01T13:54:03.743Z"
   },
   {
    "duration": 8235,
    "start_time": "2021-11-01T13:54:03.751Z"
   },
   {
    "duration": 19,
    "start_time": "2021-11-01T13:54:11.989Z"
   },
   {
    "duration": 41,
    "start_time": "2021-11-01T13:54:12.011Z"
   },
   {
    "duration": 21,
    "start_time": "2021-11-01T13:54:12.054Z"
   },
   {
    "duration": 71,
    "start_time": "2021-11-01T13:54:12.077Z"
   },
   {
    "duration": 50,
    "start_time": "2021-11-01T13:54:12.155Z"
   },
   {
    "duration": 34,
    "start_time": "2021-11-01T13:54:12.230Z"
   },
   {
    "duration": 23,
    "start_time": "2021-11-01T13:54:12.267Z"
   },
   {
    "duration": 39,
    "start_time": "2021-11-01T13:54:12.292Z"
   },
   {
    "duration": 40,
    "start_time": "2021-11-01T13:54:12.333Z"
   },
   {
    "duration": 61,
    "start_time": "2021-11-01T13:54:12.375Z"
   },
   {
    "duration": 40,
    "start_time": "2021-11-01T13:54:12.439Z"
   },
   {
    "duration": 169,
    "start_time": "2021-11-01T13:54:12.481Z"
   },
   {
    "duration": 84,
    "start_time": "2021-11-01T13:55:07.163Z"
   },
   {
    "duration": 20,
    "start_time": "2021-11-01T13:55:11.599Z"
   },
   {
    "duration": 20,
    "start_time": "2021-11-01T13:55:52.306Z"
   },
   {
    "duration": 62,
    "start_time": "2021-11-01T19:15:42.119Z"
   },
   {
    "duration": 236,
    "start_time": "2021-11-01T20:17:37.858Z"
   },
   {
    "duration": 626,
    "start_time": "2021-11-01T20:17:58.182Z"
   },
   {
    "duration": 18,
    "start_time": "2021-11-01T20:17:58.810Z"
   },
   {
    "duration": 30,
    "start_time": "2021-11-01T20:17:58.829Z"
   },
   {
    "duration": 222,
    "start_time": "2021-11-01T20:17:58.861Z"
   },
   {
    "duration": -2147,
    "start_time": "2021-11-01T20:18:01.234Z"
   },
   {
    "duration": -2151,
    "start_time": "2021-11-01T20:18:01.239Z"
   },
   {
    "duration": -2173,
    "start_time": "2021-11-01T20:18:01.262Z"
   },
   {
    "duration": -2177,
    "start_time": "2021-11-01T20:18:01.268Z"
   },
   {
    "duration": -2179,
    "start_time": "2021-11-01T20:18:01.271Z"
   },
   {
    "duration": -2206,
    "start_time": "2021-11-01T20:18:01.299Z"
   },
   {
    "duration": -2207,
    "start_time": "2021-11-01T20:18:01.302Z"
   },
   {
    "duration": -2211,
    "start_time": "2021-11-01T20:18:01.307Z"
   },
   {
    "duration": -2214,
    "start_time": "2021-11-01T20:18:01.311Z"
   },
   {
    "duration": -2216,
    "start_time": "2021-11-01T20:18:01.315Z"
   },
   {
    "duration": -2218,
    "start_time": "2021-11-01T20:18:01.318Z"
   },
   {
    "duration": -2219,
    "start_time": "2021-11-01T20:18:01.321Z"
   },
   {
    "duration": -2224,
    "start_time": "2021-11-01T20:18:01.327Z"
   },
   {
    "duration": -2227,
    "start_time": "2021-11-01T20:18:01.332Z"
   },
   {
    "duration": -2230,
    "start_time": "2021-11-01T20:18:01.336Z"
   },
   {
    "duration": -2234,
    "start_time": "2021-11-01T20:18:01.341Z"
   },
   {
    "duration": -2238,
    "start_time": "2021-11-01T20:18:01.347Z"
   },
   {
    "duration": -2241,
    "start_time": "2021-11-01T20:18:01.351Z"
   },
   {
    "duration": -2244,
    "start_time": "2021-11-01T20:18:01.355Z"
   },
   {
    "duration": -2249,
    "start_time": "2021-11-01T20:18:01.361Z"
   },
   {
    "duration": -2250,
    "start_time": "2021-11-01T20:18:01.364Z"
   },
   {
    "duration": -2253,
    "start_time": "2021-11-01T20:18:01.368Z"
   },
   {
    "duration": -2255,
    "start_time": "2021-11-01T20:18:01.372Z"
   },
   {
    "duration": -2259,
    "start_time": "2021-11-01T20:18:01.377Z"
   },
   {
    "duration": -2261,
    "start_time": "2021-11-01T20:18:01.380Z"
   },
   {
    "duration": -2264,
    "start_time": "2021-11-01T20:18:01.384Z"
   },
   {
    "duration": -2267,
    "start_time": "2021-11-01T20:18:01.388Z"
   },
   {
    "duration": 174,
    "start_time": "2021-11-01T20:18:38.293Z"
   },
   {
    "duration": 170,
    "start_time": "2021-11-01T20:20:19.948Z"
   },
   {
    "duration": 10,
    "start_time": "2021-11-01T20:20:56.743Z"
   },
   {
    "duration": 11,
    "start_time": "2021-11-01T20:21:39.425Z"
   },
   {
    "duration": 67,
    "start_time": "2021-11-01T21:02:12.284Z"
   },
   {
    "duration": 181,
    "start_time": "2021-11-01T21:02:42.992Z"
   },
   {
    "duration": 250,
    "start_time": "2021-11-01T21:03:46.273Z"
   },
   {
    "duration": 74,
    "start_time": "2021-11-01T21:04:00.646Z"
   },
   {
    "duration": 237,
    "start_time": "2021-11-01T21:05:11.098Z"
   },
   {
    "duration": 180,
    "start_time": "2021-11-01T21:08:29.990Z"
   },
   {
    "duration": 186,
    "start_time": "2021-11-01T21:08:55.332Z"
   },
   {
    "duration": 181,
    "start_time": "2021-11-01T21:09:03.093Z"
   },
   {
    "duration": 9,
    "start_time": "2021-11-01T21:09:19.421Z"
   },
   {
    "duration": 1001,
    "start_time": "2021-11-01T21:10:00.766Z"
   },
   {
    "duration": 28,
    "start_time": "2021-11-01T21:12:48.262Z"
   },
   {
    "duration": 24,
    "start_time": "2021-11-01T21:13:19.136Z"
   },
   {
    "duration": 12,
    "start_time": "2021-11-01T21:14:11.998Z"
   },
   {
    "duration": 12,
    "start_time": "2021-11-01T21:14:18.802Z"
   },
   {
    "duration": 554,
    "start_time": "2021-11-01T21:14:33.737Z"
   },
   {
    "duration": 17,
    "start_time": "2021-11-01T21:14:34.293Z"
   },
   {
    "duration": 20,
    "start_time": "2021-11-01T21:14:34.314Z"
   },
   {
    "duration": 8,
    "start_time": "2021-11-01T21:14:34.336Z"
   },
   {
    "duration": 10,
    "start_time": "2021-11-01T21:14:34.345Z"
   },
   {
    "duration": 35,
    "start_time": "2021-11-01T21:14:34.356Z"
   },
   {
    "duration": 23,
    "start_time": "2021-11-01T21:14:34.394Z"
   },
   {
    "duration": 12,
    "start_time": "2021-11-01T21:14:34.419Z"
   },
   {
    "duration": 19,
    "start_time": "2021-11-01T21:14:34.432Z"
   },
   {
    "duration": 8,
    "start_time": "2021-11-01T21:14:34.452Z"
   },
   {
    "duration": 29,
    "start_time": "2021-11-01T21:14:34.462Z"
   },
   {
    "duration": 10,
    "start_time": "2021-11-01T21:14:34.492Z"
   },
   {
    "duration": 66,
    "start_time": "2021-11-01T21:14:34.504Z"
   },
   {
    "duration": 37,
    "start_time": "2021-11-01T21:14:34.572Z"
   },
   {
    "duration": 16,
    "start_time": "2021-11-01T21:14:34.610Z"
   },
   {
    "duration": 11,
    "start_time": "2021-11-01T21:14:34.628Z"
   },
   {
    "duration": 3472,
    "start_time": "2021-11-01T21:14:34.641Z"
   },
   {
    "duration": 37,
    "start_time": "2021-11-01T21:14:38.115Z"
   },
   {
    "duration": 4,
    "start_time": "2021-11-01T21:14:38.153Z"
   },
   {
    "duration": 7,
    "start_time": "2021-11-01T21:14:38.159Z"
   },
   {
    "duration": 5402,
    "start_time": "2021-11-01T21:14:38.167Z"
   },
   {
    "duration": 13,
    "start_time": "2021-11-01T21:14:43.572Z"
   },
   {
    "duration": 25,
    "start_time": "2021-11-01T21:14:43.592Z"
   },
   {
    "duration": 16,
    "start_time": "2021-11-01T21:14:43.619Z"
   },
   {
    "duration": 30,
    "start_time": "2021-11-01T21:14:43.637Z"
   },
   {
    "duration": 49,
    "start_time": "2021-11-01T21:14:43.669Z"
   },
   {
    "duration": 32,
    "start_time": "2021-11-01T21:14:43.719Z"
   },
   {
    "duration": 11,
    "start_time": "2021-11-01T21:14:43.753Z"
   },
   {
    "duration": 17,
    "start_time": "2021-11-01T21:14:43.765Z"
   },
   {
    "duration": 24,
    "start_time": "2021-11-01T21:14:43.791Z"
   },
   {
    "duration": 21,
    "start_time": "2021-11-01T21:14:43.816Z"
   },
   {
    "duration": 22,
    "start_time": "2021-11-01T21:14:43.838Z"
   },
   {
    "duration": 111,
    "start_time": "2021-11-01T21:14:43.861Z"
   },
   {
    "duration": 12,
    "start_time": "2021-11-01T21:15:21.387Z"
   },
   {
    "duration": 18,
    "start_time": "2021-11-01T21:15:28.671Z"
   },
   {
    "duration": 235,
    "start_time": "2021-11-01T21:16:16.439Z"
   },
   {
    "duration": 214,
    "start_time": "2021-11-01T21:16:22.144Z"
   },
   {
    "duration": 11,
    "start_time": "2021-11-01T21:16:32.467Z"
   },
   {
    "duration": 14,
    "start_time": "2021-11-01T21:17:12.894Z"
   },
   {
    "duration": 11,
    "start_time": "2021-11-01T21:18:56.871Z"
   },
   {
    "duration": 5,
    "start_time": "2021-11-01T21:19:04.944Z"
   },
   {
    "duration": 185,
    "start_time": "2021-11-01T21:19:15.780Z"
   },
   {
    "duration": 181,
    "start_time": "2021-11-01T21:19:24.751Z"
   },
   {
    "duration": 2534,
    "start_time": "2021-11-01T21:20:12.483Z"
   },
   {
    "duration": 2140,
    "start_time": "2021-11-01T21:20:38.220Z"
   },
   {
    "duration": 170,
    "start_time": "2021-11-01T21:20:49.641Z"
   },
   {
    "duration": 612,
    "start_time": "2021-11-01T21:20:58.279Z"
   },
   {
    "duration": 16,
    "start_time": "2021-11-01T21:20:58.893Z"
   },
   {
    "duration": 21,
    "start_time": "2021-11-01T21:20:58.911Z"
   },
   {
    "duration": 7,
    "start_time": "2021-11-01T21:20:58.934Z"
   },
   {
    "duration": 8,
    "start_time": "2021-11-01T21:20:58.943Z"
   },
   {
    "duration": 5,
    "start_time": "2021-11-01T21:20:58.953Z"
   },
   {
    "duration": 35,
    "start_time": "2021-11-01T21:20:58.960Z"
   },
   {
    "duration": 12,
    "start_time": "2021-11-01T21:20:58.997Z"
   },
   {
    "duration": 14,
    "start_time": "2021-11-01T21:20:59.012Z"
   },
   {
    "duration": 10,
    "start_time": "2021-11-01T21:20:59.027Z"
   },
   {
    "duration": 5,
    "start_time": "2021-11-01T21:20:59.039Z"
   },
   {
    "duration": 46,
    "start_time": "2021-11-01T21:20:59.045Z"
   },
   {
    "duration": 65,
    "start_time": "2021-11-01T21:20:59.093Z"
   },
   {
    "duration": 37,
    "start_time": "2021-11-01T21:20:59.160Z"
   },
   {
    "duration": 19,
    "start_time": "2021-11-01T21:20:59.198Z"
   },
   {
    "duration": 13,
    "start_time": "2021-11-01T21:20:59.219Z"
   },
   {
    "duration": 3480,
    "start_time": "2021-11-01T21:20:59.234Z"
   },
   {
    "duration": 35,
    "start_time": "2021-11-01T21:21:02.717Z"
   },
   {
    "duration": 4,
    "start_time": "2021-11-01T21:21:02.753Z"
   },
   {
    "duration": 8,
    "start_time": "2021-11-01T21:21:02.759Z"
   },
   {
    "duration": 5346,
    "start_time": "2021-11-01T21:21:02.769Z"
   },
   {
    "duration": 17,
    "start_time": "2021-11-01T21:21:08.117Z"
   },
   {
    "duration": 19,
    "start_time": "2021-11-01T21:21:08.138Z"
   },
   {
    "duration": 32,
    "start_time": "2021-11-01T21:21:08.159Z"
   },
   {
    "duration": 28,
    "start_time": "2021-11-01T21:21:08.193Z"
   },
   {
    "duration": 29,
    "start_time": "2021-11-01T21:21:08.223Z"
   },
   {
    "duration": 37,
    "start_time": "2021-11-01T21:21:08.254Z"
   },
   {
    "duration": 11,
    "start_time": "2021-11-01T21:21:08.293Z"
   },
   {
    "duration": 17,
    "start_time": "2021-11-01T21:21:08.306Z"
   },
   {
    "duration": 24,
    "start_time": "2021-11-01T21:21:08.324Z"
   },
   {
    "duration": 46,
    "start_time": "2021-11-01T21:21:08.350Z"
   },
   {
    "duration": 23,
    "start_time": "2021-11-01T21:21:08.397Z"
   },
   {
    "duration": 100,
    "start_time": "2021-11-01T21:21:08.421Z"
   },
   {
    "duration": 15,
    "start_time": "2021-11-01T21:22:17.055Z"
   },
   {
    "duration": 17,
    "start_time": "2021-11-01T21:22:20.719Z"
   },
   {
    "duration": 235,
    "start_time": "2021-11-01T21:25:23.810Z"
   },
   {
    "duration": 171,
    "start_time": "2021-11-01T21:25:44.385Z"
   },
   {
    "duration": 685,
    "start_time": "2021-11-01T21:26:24.507Z"
   },
   {
    "duration": 6421,
    "start_time": "2021-11-01T21:26:35.548Z"
   },
   {
    "duration": 20,
    "start_time": "2021-11-01T21:26:42.537Z"
   },
   {
    "duration": 62,
    "start_time": "2021-11-01T21:29:56.257Z"
   },
   {
    "duration": 18,
    "start_time": "2021-11-01T21:30:09.000Z"
   },
   {
    "duration": 15,
    "start_time": "2021-11-01T21:30:16.772Z"
   },
   {
    "duration": 18,
    "start_time": "2021-11-01T21:30:28.426Z"
   },
   {
    "duration": 15,
    "start_time": "2021-11-01T21:30:49.698Z"
   },
   {
    "duration": 18,
    "start_time": "2021-11-01T21:30:53.527Z"
   },
   {
    "duration": 15,
    "start_time": "2021-11-01T21:31:28.721Z"
   },
   {
    "duration": 5,
    "start_time": "2021-11-01T21:31:31.326Z"
   },
   {
    "duration": 181,
    "start_time": "2021-11-01T21:31:44.607Z"
   },
   {
    "duration": 182,
    "start_time": "2021-11-01T21:32:32.301Z"
   },
   {
    "duration": 188,
    "start_time": "2021-11-01T21:32:37.654Z"
   },
   {
    "duration": 180,
    "start_time": "2021-11-01T21:32:59.008Z"
   },
   {
    "duration": 171,
    "start_time": "2021-11-01T21:34:29.440Z"
   },
   {
    "duration": 177,
    "start_time": "2021-11-01T21:36:30.296Z"
   },
   {
    "duration": 622,
    "start_time": "2021-11-01T21:36:50.102Z"
   },
   {
    "duration": 17,
    "start_time": "2021-11-01T21:36:50.726Z"
   },
   {
    "duration": 37,
    "start_time": "2021-11-01T21:36:50.745Z"
   },
   {
    "duration": 8,
    "start_time": "2021-11-01T21:36:50.784Z"
   },
   {
    "duration": 10,
    "start_time": "2021-11-01T21:36:50.794Z"
   },
   {
    "duration": 7,
    "start_time": "2021-11-01T21:36:50.805Z"
   },
   {
    "duration": 365,
    "start_time": "2021-11-01T21:36:50.813Z"
   },
   {
    "duration": -42,
    "start_time": "2021-11-01T21:36:51.222Z"
   },
   {
    "duration": -47,
    "start_time": "2021-11-01T21:36:51.228Z"
   },
   {
    "duration": -50,
    "start_time": "2021-11-01T21:36:51.232Z"
   },
   {
    "duration": -54,
    "start_time": "2021-11-01T21:36:51.236Z"
   },
   {
    "duration": -56,
    "start_time": "2021-11-01T21:36:51.239Z"
   },
   {
    "duration": -60,
    "start_time": "2021-11-01T21:36:51.244Z"
   },
   {
    "duration": -62,
    "start_time": "2021-11-01T21:36:51.247Z"
   },
   {
    "duration": -65,
    "start_time": "2021-11-01T21:36:51.250Z"
   },
   {
    "duration": -67,
    "start_time": "2021-11-01T21:36:51.253Z"
   },
   {
    "duration": -71,
    "start_time": "2021-11-01T21:36:51.258Z"
   },
   {
    "duration": -74,
    "start_time": "2021-11-01T21:36:51.261Z"
   },
   {
    "duration": -76,
    "start_time": "2021-11-01T21:36:51.265Z"
   },
   {
    "duration": -79,
    "start_time": "2021-11-01T21:36:51.268Z"
   },
   {
    "duration": -81,
    "start_time": "2021-11-01T21:36:51.271Z"
   },
   {
    "duration": -84,
    "start_time": "2021-11-01T21:36:51.275Z"
   },
   {
    "duration": -86,
    "start_time": "2021-11-01T21:36:51.278Z"
   },
   {
    "duration": -89,
    "start_time": "2021-11-01T21:36:51.281Z"
   },
   {
    "duration": -93,
    "start_time": "2021-11-01T21:36:51.286Z"
   },
   {
    "duration": -95,
    "start_time": "2021-11-01T21:36:51.289Z"
   },
   {
    "duration": -99,
    "start_time": "2021-11-01T21:36:51.294Z"
   },
   {
    "duration": -102,
    "start_time": "2021-11-01T21:36:51.298Z"
   },
   {
    "duration": -104,
    "start_time": "2021-11-01T21:36:51.301Z"
   },
   {
    "duration": -106,
    "start_time": "2021-11-01T21:36:51.304Z"
   },
   {
    "duration": -111,
    "start_time": "2021-11-01T21:36:51.309Z"
   },
   {
    "duration": -113,
    "start_time": "2021-11-01T21:36:51.312Z"
   },
   {
    "duration": -115,
    "start_time": "2021-11-01T21:36:51.315Z"
   },
   {
    "duration": 415,
    "start_time": "2021-11-01T21:39:16.032Z"
   },
   {
    "duration": 37,
    "start_time": "2021-11-01T21:39:34.710Z"
   },
   {
    "duration": 13,
    "start_time": "2021-11-01T21:39:37.651Z"
   },
   {
    "duration": 7,
    "start_time": "2021-11-01T22:02:12.380Z"
   },
   {
    "duration": 13,
    "start_time": "2021-11-01T22:02:17.012Z"
   },
   {
    "duration": 10,
    "start_time": "2021-11-01T22:07:48.209Z"
   },
   {
    "duration": 10,
    "start_time": "2021-11-01T22:07:51.343Z"
   },
   {
    "duration": 7,
    "start_time": "2021-11-01T22:17:39.061Z"
   },
   {
    "duration": 7,
    "start_time": "2021-11-01T22:19:00.375Z"
   },
   {
    "duration": 564,
    "start_time": "2021-11-01T22:19:08.227Z"
   },
   {
    "duration": 17,
    "start_time": "2021-11-01T22:19:08.793Z"
   },
   {
    "duration": 25,
    "start_time": "2021-11-01T22:19:08.812Z"
   },
   {
    "duration": 8,
    "start_time": "2021-11-01T22:19:08.840Z"
   },
   {
    "duration": 10,
    "start_time": "2021-11-01T22:19:08.849Z"
   },
   {
    "duration": 36,
    "start_time": "2021-11-01T22:19:08.861Z"
   },
   {
    "duration": 12,
    "start_time": "2021-11-01T22:19:08.898Z"
   },
   {
    "duration": 9,
    "start_time": "2021-11-01T22:19:08.913Z"
   },
   {
    "duration": 5,
    "start_time": "2021-11-01T22:19:08.924Z"
   },
   {
    "duration": 12,
    "start_time": "2021-11-01T22:19:08.930Z"
   },
   {
    "duration": 107,
    "start_time": "2021-11-01T22:19:08.943Z"
   },
   {
    "duration": 20,
    "start_time": "2021-11-01T22:19:09.052Z"
   },
   {
    "duration": 29,
    "start_time": "2021-11-01T22:19:09.074Z"
   },
   {
    "duration": 12,
    "start_time": "2021-11-01T22:19:09.105Z"
   },
   {
    "duration": 3335,
    "start_time": "2021-11-01T22:19:09.118Z"
   },
   {
    "duration": 63,
    "start_time": "2021-11-01T22:19:12.455Z"
   },
   {
    "duration": 4,
    "start_time": "2021-11-01T22:19:12.520Z"
   },
   {
    "duration": 6,
    "start_time": "2021-11-01T22:19:12.525Z"
   },
   {
    "duration": 5221,
    "start_time": "2021-11-01T22:19:12.532Z"
   },
   {
    "duration": 12,
    "start_time": "2021-11-01T22:19:17.755Z"
   },
   {
    "duration": 27,
    "start_time": "2021-11-01T22:19:17.768Z"
   },
   {
    "duration": 14,
    "start_time": "2021-11-01T22:19:17.797Z"
   },
   {
    "duration": 31,
    "start_time": "2021-11-01T22:19:17.813Z"
   },
   {
    "duration": 52,
    "start_time": "2021-11-01T22:19:17.846Z"
   },
   {
    "duration": 22,
    "start_time": "2021-11-01T22:19:17.899Z"
   },
   {
    "duration": 12,
    "start_time": "2021-11-01T22:19:17.922Z"
   },
   {
    "duration": 15,
    "start_time": "2021-11-01T22:19:17.935Z"
   },
   {
    "duration": 48,
    "start_time": "2021-11-01T22:19:17.952Z"
   },
   {
    "duration": 24,
    "start_time": "2021-11-01T22:19:18.002Z"
   },
   {
    "duration": 24,
    "start_time": "2021-11-01T22:19:18.027Z"
   },
   {
    "duration": 112,
    "start_time": "2021-11-01T22:19:18.052Z"
   },
   {
    "duration": 15,
    "start_time": "2021-11-01T22:20:21.316Z"
   },
   {
    "duration": 28,
    "start_time": "2021-11-01T22:26:49.035Z"
   },
   {
    "duration": 31,
    "start_time": "2021-11-01T22:27:48.015Z"
   },
   {
    "duration": 21,
    "start_time": "2021-11-01T22:28:05.485Z"
   },
   {
    "duration": 13,
    "start_time": "2021-11-01T22:37:18.762Z"
   },
   {
    "duration": 7,
    "start_time": "2021-11-01T22:50:48.304Z"
   },
   {
    "duration": 7,
    "start_time": "2021-11-01T22:51:00.835Z"
   },
   {
    "duration": 606,
    "start_time": "2021-11-01T22:53:09.362Z"
   },
   {
    "duration": 16,
    "start_time": "2021-11-01T22:53:09.970Z"
   },
   {
    "duration": 20,
    "start_time": "2021-11-01T22:53:09.988Z"
   },
   {
    "duration": 12,
    "start_time": "2021-11-01T22:53:10.010Z"
   },
   {
    "duration": 8,
    "start_time": "2021-11-01T22:53:10.024Z"
   },
   {
    "duration": 10,
    "start_time": "2021-11-01T22:53:10.034Z"
   },
   {
    "duration": 97,
    "start_time": "2021-11-01T22:53:10.046Z"
   },
   {
    "duration": 9,
    "start_time": "2021-11-01T22:53:10.145Z"
   },
   {
    "duration": 9,
    "start_time": "2021-11-01T22:53:10.156Z"
   },
   {
    "duration": 3,
    "start_time": "2021-11-01T22:53:10.167Z"
   },
   {
    "duration": 13,
    "start_time": "2021-11-01T22:53:10.190Z"
   },
   {
    "duration": 66,
    "start_time": "2021-11-01T22:53:10.204Z"
   },
   {
    "duration": 35,
    "start_time": "2021-11-01T22:53:10.271Z"
   },
   {
    "duration": 15,
    "start_time": "2021-11-01T22:53:10.307Z"
   },
   {
    "duration": 11,
    "start_time": "2021-11-01T22:53:10.324Z"
   },
   {
    "duration": 3102,
    "start_time": "2021-11-01T22:53:10.336Z"
   },
   {
    "duration": 39,
    "start_time": "2021-11-01T22:53:13.440Z"
   },
   {
    "duration": 4,
    "start_time": "2021-11-01T22:53:13.492Z"
   },
   {
    "duration": 9,
    "start_time": "2021-11-01T22:53:13.497Z"
   },
   {
    "duration": 5140,
    "start_time": "2021-11-01T22:53:13.508Z"
   },
   {
    "duration": 20,
    "start_time": "2021-11-01T22:53:18.650Z"
   },
   {
    "duration": 20,
    "start_time": "2021-11-01T22:53:18.672Z"
   },
   {
    "duration": 13,
    "start_time": "2021-11-01T22:53:18.695Z"
   },
   {
    "duration": 27,
    "start_time": "2021-11-01T22:53:18.710Z"
   },
   {
    "duration": 26,
    "start_time": "2021-11-01T22:53:18.738Z"
   },
   {
    "duration": 42,
    "start_time": "2021-11-01T22:53:18.766Z"
   },
   {
    "duration": 12,
    "start_time": "2021-11-01T22:53:18.810Z"
   },
   {
    "duration": 15,
    "start_time": "2021-11-01T22:53:18.824Z"
   },
   {
    "duration": 52,
    "start_time": "2021-11-01T22:53:18.840Z"
   },
   {
    "duration": 22,
    "start_time": "2021-11-01T22:53:18.893Z"
   },
   {
    "duration": 21,
    "start_time": "2021-11-01T22:53:18.916Z"
   },
   {
    "duration": 21,
    "start_time": "2021-11-01T22:53:18.939Z"
   },
   {
    "duration": 8,
    "start_time": "2021-11-01T22:54:28.147Z"
   },
   {
    "duration": 7,
    "start_time": "2021-11-01T22:54:48.008Z"
   },
   {
    "duration": 710,
    "start_time": "2021-11-01T22:54:59.492Z"
   },
   {
    "duration": 16,
    "start_time": "2021-11-01T22:55:00.204Z"
   },
   {
    "duration": 24,
    "start_time": "2021-11-01T22:55:00.222Z"
   },
   {
    "duration": 12,
    "start_time": "2021-11-01T22:55:00.248Z"
   },
   {
    "duration": 29,
    "start_time": "2021-11-01T22:55:00.262Z"
   },
   {
    "duration": 10,
    "start_time": "2021-11-01T22:55:00.293Z"
   },
   {
    "duration": 87,
    "start_time": "2021-11-01T22:55:00.305Z"
   },
   {
    "duration": 10,
    "start_time": "2021-11-01T22:55:00.395Z"
   },
   {
    "duration": 27,
    "start_time": "2021-11-01T22:55:00.406Z"
   },
   {
    "duration": 6,
    "start_time": "2021-11-01T22:55:00.434Z"
   },
   {
    "duration": 19,
    "start_time": "2021-11-01T22:55:00.441Z"
   },
   {
    "duration": 66,
    "start_time": "2021-11-01T22:55:00.462Z"
   },
   {
    "duration": 20,
    "start_time": "2021-11-01T22:55:00.529Z"
   },
   {
    "duration": 16,
    "start_time": "2021-11-01T22:55:00.551Z"
   },
   {
    "duration": 28,
    "start_time": "2021-11-01T22:55:00.568Z"
   },
   {
    "duration": 3205,
    "start_time": "2021-11-01T22:55:00.599Z"
   },
   {
    "duration": 37,
    "start_time": "2021-11-01T22:55:03.806Z"
   },
   {
    "duration": 4,
    "start_time": "2021-11-01T22:55:03.845Z"
   },
   {
    "duration": 7,
    "start_time": "2021-11-01T22:55:03.850Z"
   },
   {
    "duration": 5141,
    "start_time": "2021-11-01T22:55:03.858Z"
   },
   {
    "duration": 18,
    "start_time": "2021-11-01T22:55:09.001Z"
   },
   {
    "duration": 21,
    "start_time": "2021-11-01T22:55:09.021Z"
   },
   {
    "duration": 13,
    "start_time": "2021-11-01T22:55:09.045Z"
   },
   {
    "duration": 40,
    "start_time": "2021-11-01T22:55:09.060Z"
   },
   {
    "duration": 25,
    "start_time": "2021-11-01T22:55:09.102Z"
   },
   {
    "duration": 22,
    "start_time": "2021-11-01T22:55:09.128Z"
   },
   {
    "duration": 11,
    "start_time": "2021-11-01T22:55:09.151Z"
   },
   {
    "duration": 30,
    "start_time": "2021-11-01T22:55:09.164Z"
   },
   {
    "duration": 24,
    "start_time": "2021-11-01T22:55:09.196Z"
   },
   {
    "duration": 22,
    "start_time": "2021-11-01T22:55:09.222Z"
   },
   {
    "duration": 47,
    "start_time": "2021-11-01T22:55:09.245Z"
   },
   {
    "duration": 22,
    "start_time": "2021-11-01T22:55:09.294Z"
   },
   {
    "duration": 8,
    "start_time": "2021-11-01T22:55:23.568Z"
   },
   {
    "duration": 594,
    "start_time": "2021-11-01T22:55:30.914Z"
   },
   {
    "duration": 17,
    "start_time": "2021-11-01T22:55:31.509Z"
   },
   {
    "duration": 27,
    "start_time": "2021-11-01T22:55:31.528Z"
   },
   {
    "duration": 11,
    "start_time": "2021-11-01T22:55:31.557Z"
   },
   {
    "duration": 23,
    "start_time": "2021-11-01T22:55:31.569Z"
   },
   {
    "duration": 9,
    "start_time": "2021-11-01T22:55:31.594Z"
   },
   {
    "duration": 71,
    "start_time": "2021-11-01T22:55:31.605Z"
   },
   {
    "duration": 11,
    "start_time": "2021-11-01T22:55:31.692Z"
   },
   {
    "duration": 9,
    "start_time": "2021-11-01T22:55:31.705Z"
   },
   {
    "duration": 7,
    "start_time": "2021-11-01T22:55:31.716Z"
   },
   {
    "duration": 21,
    "start_time": "2021-11-01T22:55:31.724Z"
   },
   {
    "duration": 78,
    "start_time": "2021-11-01T22:55:31.746Z"
   },
   {
    "duration": 21,
    "start_time": "2021-11-01T22:55:31.825Z"
   },
   {
    "duration": 17,
    "start_time": "2021-11-01T22:55:31.847Z"
   },
   {
    "duration": 29,
    "start_time": "2021-11-01T22:55:31.866Z"
   },
   {
    "duration": 3257,
    "start_time": "2021-11-01T22:55:31.897Z"
   },
   {
    "duration": 50,
    "start_time": "2021-11-01T22:55:35.156Z"
   },
   {
    "duration": 4,
    "start_time": "2021-11-01T22:55:35.207Z"
   },
   {
    "duration": 11,
    "start_time": "2021-11-01T22:55:35.213Z"
   },
   {
    "duration": 5227,
    "start_time": "2021-11-01T22:55:35.226Z"
   },
   {
    "duration": 14,
    "start_time": "2021-11-01T22:55:40.455Z"
   },
   {
    "duration": 25,
    "start_time": "2021-11-01T22:55:40.470Z"
   },
   {
    "duration": 14,
    "start_time": "2021-11-01T22:55:40.498Z"
   },
   {
    "duration": 28,
    "start_time": "2021-11-01T22:55:40.513Z"
   },
   {
    "duration": 49,
    "start_time": "2021-11-01T22:55:40.542Z"
   },
   {
    "duration": 21,
    "start_time": "2021-11-01T22:55:40.593Z"
   },
   {
    "duration": 11,
    "start_time": "2021-11-01T22:55:40.616Z"
   },
   {
    "duration": 17,
    "start_time": "2021-11-01T22:55:40.628Z"
   },
   {
    "duration": 24,
    "start_time": "2021-11-01T22:55:40.647Z"
   },
   {
    "duration": 22,
    "start_time": "2021-11-01T22:55:40.691Z"
   },
   {
    "duration": 22,
    "start_time": "2021-11-01T22:55:40.715Z"
   },
   {
    "duration": 22,
    "start_time": "2021-11-01T22:55:40.738Z"
   },
   {
    "duration": 10,
    "start_time": "2021-11-01T22:57:10.463Z"
   },
   {
    "duration": 7,
    "start_time": "2021-11-01T22:57:18.028Z"
   },
   {
    "duration": 605,
    "start_time": "2021-11-01T22:57:26.802Z"
   },
   {
    "duration": 16,
    "start_time": "2021-11-01T22:57:27.410Z"
   },
   {
    "duration": 20,
    "start_time": "2021-11-01T22:57:27.428Z"
   },
   {
    "duration": 12,
    "start_time": "2021-11-01T22:57:27.450Z"
   },
   {
    "duration": 34,
    "start_time": "2021-11-01T22:57:27.463Z"
   },
   {
    "duration": 10,
    "start_time": "2021-11-01T22:57:27.498Z"
   },
   {
    "duration": 85,
    "start_time": "2021-11-01T22:57:27.509Z"
   },
   {
    "duration": 10,
    "start_time": "2021-11-01T22:57:27.597Z"
   },
   {
    "duration": 8,
    "start_time": "2021-11-01T22:57:27.609Z"
   },
   {
    "duration": 4,
    "start_time": "2021-11-01T22:57:27.618Z"
   },
   {
    "duration": 12,
    "start_time": "2021-11-01T22:57:27.623Z"
   },
   {
    "duration": 93,
    "start_time": "2021-11-01T22:57:27.637Z"
   },
   {
    "duration": 20,
    "start_time": "2021-11-01T22:57:27.731Z"
   },
   {
    "duration": 16,
    "start_time": "2021-11-01T22:57:27.753Z"
   },
   {
    "duration": 28,
    "start_time": "2021-11-01T22:57:27.771Z"
   },
   {
    "duration": 3160,
    "start_time": "2021-11-01T22:57:27.801Z"
   },
   {
    "duration": 51,
    "start_time": "2021-11-01T22:57:30.963Z"
   },
   {
    "duration": 4,
    "start_time": "2021-11-01T22:57:31.015Z"
   },
   {
    "duration": 24,
    "start_time": "2021-11-01T22:57:31.020Z"
   },
   {
    "duration": 5164,
    "start_time": "2021-11-01T22:57:31.045Z"
   },
   {
    "duration": 15,
    "start_time": "2021-11-01T22:57:36.211Z"
   },
   {
    "duration": 20,
    "start_time": "2021-11-01T22:57:36.228Z"
   },
   {
    "duration": 13,
    "start_time": "2021-11-01T22:57:36.251Z"
   },
   {
    "duration": 52,
    "start_time": "2021-11-01T22:57:36.266Z"
   },
   {
    "duration": 26,
    "start_time": "2021-11-01T22:57:36.319Z"
   },
   {
    "duration": 21,
    "start_time": "2021-11-01T22:57:36.347Z"
   },
   {
    "duration": 30,
    "start_time": "2021-11-01T22:57:36.370Z"
   },
   {
    "duration": 15,
    "start_time": "2021-11-01T22:57:36.402Z"
   },
   {
    "duration": 24,
    "start_time": "2021-11-01T22:57:36.418Z"
   },
   {
    "duration": 22,
    "start_time": "2021-11-01T22:57:36.444Z"
   },
   {
    "duration": 24,
    "start_time": "2021-11-01T22:57:36.492Z"
   },
   {
    "duration": 23,
    "start_time": "2021-11-01T22:57:36.517Z"
   },
   {
    "duration": 242,
    "start_time": "2021-11-01T22:58:41.580Z"
   },
   {
    "duration": 198,
    "start_time": "2021-11-01T22:59:42.366Z"
   },
   {
    "duration": 552,
    "start_time": "2021-11-01T22:59:48.751Z"
   },
   {
    "duration": 17,
    "start_time": "2021-11-01T22:59:49.305Z"
   },
   {
    "duration": 32,
    "start_time": "2021-11-01T22:59:49.324Z"
   },
   {
    "duration": 11,
    "start_time": "2021-11-01T22:59:49.358Z"
   },
   {
    "duration": 22,
    "start_time": "2021-11-01T22:59:49.370Z"
   },
   {
    "duration": 19,
    "start_time": "2021-11-01T22:59:49.393Z"
   },
   {
    "duration": 233,
    "start_time": "2021-11-01T22:59:49.413Z"
   },
   {
    "duration": 10,
    "start_time": "2021-11-01T22:59:49.649Z"
   },
   {
    "duration": 32,
    "start_time": "2021-11-01T22:59:49.661Z"
   },
   {
    "duration": 23,
    "start_time": "2021-11-01T22:59:49.695Z"
   },
   {
    "duration": 33,
    "start_time": "2021-11-01T22:59:49.719Z"
   },
   {
    "duration": 69,
    "start_time": "2021-11-01T22:59:49.754Z"
   },
   {
    "duration": 19,
    "start_time": "2021-11-01T22:59:49.825Z"
   },
   {
    "duration": 19,
    "start_time": "2021-11-01T22:59:49.846Z"
   },
   {
    "duration": 16,
    "start_time": "2021-11-01T22:59:49.866Z"
   },
   {
    "duration": 3291,
    "start_time": "2021-11-01T22:59:49.883Z"
   },
   {
    "duration": 50,
    "start_time": "2021-11-01T22:59:53.176Z"
   },
   {
    "duration": 5,
    "start_time": "2021-11-01T22:59:53.229Z"
   },
   {
    "duration": 20,
    "start_time": "2021-11-01T22:59:53.236Z"
   },
   {
    "duration": 5336,
    "start_time": "2021-11-01T22:59:53.258Z"
   },
   {
    "duration": 18,
    "start_time": "2021-11-01T22:59:58.597Z"
   },
   {
    "duration": 20,
    "start_time": "2021-11-01T22:59:58.617Z"
   },
   {
    "duration": 18,
    "start_time": "2021-11-01T22:59:58.641Z"
   },
   {
    "duration": 42,
    "start_time": "2021-11-01T22:59:58.661Z"
   },
   {
    "duration": 27,
    "start_time": "2021-11-01T22:59:58.705Z"
   },
   {
    "duration": 22,
    "start_time": "2021-11-01T22:59:58.734Z"
   },
   {
    "duration": 40,
    "start_time": "2021-11-01T22:59:58.758Z"
   },
   {
    "duration": 13,
    "start_time": "2021-11-01T22:59:58.799Z"
   },
   {
    "duration": 30,
    "start_time": "2021-11-01T22:59:58.814Z"
   },
   {
    "duration": 21,
    "start_time": "2021-11-01T22:59:58.845Z"
   },
   {
    "duration": 42,
    "start_time": "2021-11-01T22:59:58.868Z"
   },
   {
    "duration": 22,
    "start_time": "2021-11-01T22:59:58.911Z"
   },
   {
    "duration": 8,
    "start_time": "2021-11-01T23:00:57.287Z"
   },
   {
    "duration": 558,
    "start_time": "2021-11-01T23:01:08.857Z"
   },
   {
    "duration": 16,
    "start_time": "2021-11-01T23:01:09.417Z"
   },
   {
    "duration": 28,
    "start_time": "2021-11-01T23:01:09.438Z"
   },
   {
    "duration": 30,
    "start_time": "2021-11-01T23:01:09.468Z"
   },
   {
    "duration": 9,
    "start_time": "2021-11-01T23:01:09.499Z"
   },
   {
    "duration": 14,
    "start_time": "2021-11-01T23:01:09.509Z"
   },
   {
    "duration": 87,
    "start_time": "2021-11-01T23:01:09.526Z"
   },
   {
    "duration": 10,
    "start_time": "2021-11-01T23:01:09.614Z"
   },
   {
    "duration": 9,
    "start_time": "2021-11-01T23:01:09.625Z"
   },
   {
    "duration": 4,
    "start_time": "2021-11-01T23:01:09.635Z"
   },
   {
    "duration": 14,
    "start_time": "2021-11-01T23:01:09.640Z"
   },
   {
    "duration": 83,
    "start_time": "2021-11-01T23:01:09.656Z"
   },
   {
    "duration": 20,
    "start_time": "2021-11-01T23:01:09.740Z"
   },
   {
    "duration": 15,
    "start_time": "2021-11-01T23:01:09.761Z"
   },
   {
    "duration": 11,
    "start_time": "2021-11-01T23:01:09.792Z"
   },
   {
    "duration": 3213,
    "start_time": "2021-11-01T23:01:09.805Z"
   },
   {
    "duration": 38,
    "start_time": "2021-11-01T23:01:13.020Z"
   },
   {
    "duration": 4,
    "start_time": "2021-11-01T23:01:13.060Z"
   },
   {
    "duration": 6,
    "start_time": "2021-11-01T23:01:13.065Z"
   },
   {
    "duration": 5220,
    "start_time": "2021-11-01T23:01:13.091Z"
   },
   {
    "duration": 13,
    "start_time": "2021-11-01T23:01:18.313Z"
   },
   {
    "duration": 17,
    "start_time": "2021-11-01T23:01:18.330Z"
   },
   {
    "duration": 15,
    "start_time": "2021-11-01T23:01:18.349Z"
   },
   {
    "duration": 29,
    "start_time": "2021-11-01T23:01:18.392Z"
   },
   {
    "duration": 27,
    "start_time": "2021-11-01T23:01:18.423Z"
   },
   {
    "duration": 46,
    "start_time": "2021-11-01T23:01:18.452Z"
   },
   {
    "duration": 12,
    "start_time": "2021-11-01T23:01:18.499Z"
   },
   {
    "duration": 16,
    "start_time": "2021-11-01T23:01:18.513Z"
   },
   {
    "duration": 24,
    "start_time": "2021-11-01T23:01:18.531Z"
   },
   {
    "duration": 42,
    "start_time": "2021-11-01T23:01:18.556Z"
   },
   {
    "duration": 22,
    "start_time": "2021-11-01T23:01:18.599Z"
   },
   {
    "duration": 24,
    "start_time": "2021-11-01T23:01:18.622Z"
   },
   {
    "duration": 244,
    "start_time": "2021-11-01T23:02:16.342Z"
   },
   {
    "duration": 558,
    "start_time": "2021-11-01T23:02:28.829Z"
   },
   {
    "duration": 15,
    "start_time": "2021-11-01T23:02:29.389Z"
   },
   {
    "duration": 19,
    "start_time": "2021-11-01T23:02:29.408Z"
   },
   {
    "duration": 11,
    "start_time": "2021-11-01T23:02:29.428Z"
   },
   {
    "duration": 8,
    "start_time": "2021-11-01T23:02:29.440Z"
   },
   {
    "duration": 9,
    "start_time": "2021-11-01T23:02:29.449Z"
   },
   {
    "duration": 247,
    "start_time": "2021-11-01T23:02:29.492Z"
   },
   {
    "duration": 10,
    "start_time": "2021-11-01T23:02:29.742Z"
   },
   {
    "duration": 14,
    "start_time": "2021-11-01T23:02:29.754Z"
   },
   {
    "duration": 4,
    "start_time": "2021-11-01T23:02:29.769Z"
   },
   {
    "duration": 24,
    "start_time": "2021-11-01T23:02:29.775Z"
   },
   {
    "duration": 65,
    "start_time": "2021-11-01T23:02:29.800Z"
   },
   {
    "duration": 35,
    "start_time": "2021-11-01T23:02:29.866Z"
   },
   {
    "duration": 15,
    "start_time": "2021-11-01T23:02:29.903Z"
   },
   {
    "duration": 11,
    "start_time": "2021-11-01T23:02:29.920Z"
   },
   {
    "duration": 3244,
    "start_time": "2021-11-01T23:02:29.933Z"
   },
   {
    "duration": 45,
    "start_time": "2021-11-01T23:02:33.179Z"
   },
   {
    "duration": 4,
    "start_time": "2021-11-01T23:02:33.226Z"
   },
   {
    "duration": 14,
    "start_time": "2021-11-01T23:02:33.232Z"
   },
   {
    "duration": 5333,
    "start_time": "2021-11-01T23:02:33.247Z"
   },
   {
    "duration": 16,
    "start_time": "2021-11-01T23:02:38.582Z"
   },
   {
    "duration": 19,
    "start_time": "2021-11-01T23:02:38.600Z"
   },
   {
    "duration": 14,
    "start_time": "2021-11-01T23:02:38.621Z"
   },
   {
    "duration": 55,
    "start_time": "2021-11-01T23:02:38.636Z"
   },
   {
    "duration": 29,
    "start_time": "2021-11-01T23:02:38.693Z"
   },
   {
    "duration": 22,
    "start_time": "2021-11-01T23:02:38.725Z"
   },
   {
    "duration": 12,
    "start_time": "2021-11-01T23:02:38.749Z"
   },
   {
    "duration": 14,
    "start_time": "2021-11-01T23:02:38.790Z"
   },
   {
    "duration": 25,
    "start_time": "2021-11-01T23:02:38.806Z"
   },
   {
    "duration": 22,
    "start_time": "2021-11-01T23:02:38.832Z"
   },
   {
    "duration": 48,
    "start_time": "2021-11-01T23:02:38.856Z"
   },
   {
    "duration": 23,
    "start_time": "2021-11-01T23:02:38.906Z"
   },
   {
    "duration": 61,
    "start_time": "2021-11-01T23:05:17.088Z"
   },
   {
    "duration": 176,
    "start_time": "2021-11-01T23:09:29.457Z"
   },
   {
    "duration": 2557,
    "start_time": "2021-11-01T23:10:02.668Z"
   },
   {
    "duration": 2291,
    "start_time": "2021-11-01T23:10:38.241Z"
   },
   {
    "duration": 174,
    "start_time": "2021-11-01T23:10:52.197Z"
   },
   {
    "duration": 176,
    "start_time": "2021-11-01T23:11:39.493Z"
   },
   {
    "duration": 178,
    "start_time": "2021-11-01T23:12:05.288Z"
   },
   {
    "duration": 172,
    "start_time": "2021-11-01T23:12:28.495Z"
   },
   {
    "duration": 173,
    "start_time": "2021-11-01T23:13:01.353Z"
   },
   {
    "duration": 172,
    "start_time": "2021-11-01T23:13:38.804Z"
   },
   {
    "duration": 192,
    "start_time": "2021-11-01T23:13:48.117Z"
   },
   {
    "duration": 174,
    "start_time": "2021-11-01T23:14:09.173Z"
   },
   {
    "duration": 183,
    "start_time": "2021-11-01T23:17:15.698Z"
   },
   {
    "duration": 189,
    "start_time": "2021-11-01T23:17:53.364Z"
   },
   {
    "duration": 193,
    "start_time": "2021-11-01T23:18:04.715Z"
   },
   {
    "duration": 562,
    "start_time": "2021-11-01T23:18:12.757Z"
   },
   {
    "duration": 16,
    "start_time": "2021-11-01T23:18:13.321Z"
   },
   {
    "duration": 23,
    "start_time": "2021-11-01T23:18:13.339Z"
   },
   {
    "duration": 11,
    "start_time": "2021-11-01T23:18:13.364Z"
   },
   {
    "duration": 20,
    "start_time": "2021-11-01T23:18:13.377Z"
   },
   {
    "duration": 9,
    "start_time": "2021-11-01T23:18:13.399Z"
   },
   {
    "duration": 276,
    "start_time": "2021-11-01T23:18:13.410Z"
   },
   {
    "duration": 191,
    "start_time": "2021-11-01T23:18:13.692Z"
   },
   {
    "duration": 14,
    "start_time": "2021-11-01T23:18:13.885Z"
   },
   {
    "duration": 9,
    "start_time": "2021-11-01T23:18:13.900Z"
   },
   {
    "duration": 4,
    "start_time": "2021-11-01T23:18:13.910Z"
   },
   {
    "duration": 11,
    "start_time": "2021-11-01T23:18:13.916Z"
   },
   {
    "duration": 88,
    "start_time": "2021-11-01T23:18:13.929Z"
   },
   {
    "duration": 19,
    "start_time": "2021-11-01T23:18:14.019Z"
   },
   {
    "duration": 16,
    "start_time": "2021-11-01T23:18:14.039Z"
   },
   {
    "duration": 12,
    "start_time": "2021-11-01T23:18:14.057Z"
   },
   {
    "duration": 3299,
    "start_time": "2021-11-01T23:18:14.070Z"
   },
   {
    "duration": 50,
    "start_time": "2021-11-01T23:18:17.371Z"
   },
   {
    "duration": 5,
    "start_time": "2021-11-01T23:18:17.422Z"
   },
   {
    "duration": 6,
    "start_time": "2021-11-01T23:18:17.428Z"
   },
   {
    "duration": 5508,
    "start_time": "2021-11-01T23:18:17.435Z"
   },
   {
    "duration": 16,
    "start_time": "2021-11-01T23:18:22.945Z"
   },
   {
    "duration": 27,
    "start_time": "2021-11-01T23:18:22.964Z"
   },
   {
    "duration": 14,
    "start_time": "2021-11-01T23:18:22.993Z"
   },
   {
    "duration": 29,
    "start_time": "2021-11-01T23:18:23.008Z"
   },
   {
    "duration": 30,
    "start_time": "2021-11-01T23:18:23.038Z"
   },
   {
    "duration": 41,
    "start_time": "2021-11-01T23:18:23.070Z"
   },
   {
    "duration": 12,
    "start_time": "2021-11-01T23:18:23.112Z"
   },
   {
    "duration": 17,
    "start_time": "2021-11-01T23:18:23.126Z"
   },
   {
    "duration": 24,
    "start_time": "2021-11-01T23:18:23.145Z"
   },
   {
    "duration": 42,
    "start_time": "2021-11-01T23:18:23.170Z"
   },
   {
    "duration": 23,
    "start_time": "2021-11-01T23:18:23.214Z"
   },
   {
    "duration": 23,
    "start_time": "2021-11-01T23:18:23.238Z"
   },
   {
    "duration": 92,
    "start_time": "2021-11-04T18:42:03.654Z"
   },
   {
    "duration": 96,
    "start_time": "2021-11-04T18:42:12.531Z"
   },
   {
    "duration": 676,
    "start_time": "2021-11-04T18:42:23.554Z"
   },
   {
    "duration": 20,
    "start_time": "2021-11-04T18:42:24.232Z"
   },
   {
    "duration": 22,
    "start_time": "2021-11-04T18:42:24.254Z"
   },
   {
    "duration": 13,
    "start_time": "2021-11-04T18:42:24.277Z"
   },
   {
    "duration": 9,
    "start_time": "2021-11-04T18:42:24.292Z"
   },
   {
    "duration": 13,
    "start_time": "2021-11-04T18:42:24.302Z"
   },
   {
    "duration": 35,
    "start_time": "2021-11-04T18:42:24.317Z"
   },
   {
    "duration": 8,
    "start_time": "2021-11-04T18:42:24.355Z"
   },
   {
    "duration": 4,
    "start_time": "2021-11-04T18:42:24.365Z"
   },
   {
    "duration": 13,
    "start_time": "2021-11-04T18:42:24.371Z"
   },
   {
    "duration": 94,
    "start_time": "2021-11-04T18:42:24.385Z"
   },
   {
    "duration": 21,
    "start_time": "2021-11-04T18:42:24.481Z"
   },
   {
    "duration": 19,
    "start_time": "2021-11-04T18:42:24.504Z"
   },
   {
    "duration": 30,
    "start_time": "2021-11-04T18:42:24.524Z"
   },
   {
    "duration": 3553,
    "start_time": "2021-11-04T18:42:24.556Z"
   },
   {
    "duration": 56,
    "start_time": "2021-11-04T18:42:28.111Z"
   },
   {
    "duration": 5,
    "start_time": "2021-11-04T18:42:28.169Z"
   },
   {
    "duration": 6,
    "start_time": "2021-11-04T18:42:28.176Z"
   },
   {
    "duration": 5487,
    "start_time": "2021-11-04T18:42:28.184Z"
   },
   {
    "duration": 35,
    "start_time": "2021-11-04T18:42:33.673Z"
   },
   {
    "duration": 27,
    "start_time": "2021-11-04T18:42:33.709Z"
   },
   {
    "duration": 14,
    "start_time": "2021-11-04T18:42:33.738Z"
   },
   {
    "duration": 96,
    "start_time": "2021-11-04T18:42:33.756Z"
   },
   {
    "duration": -676,
    "start_time": "2021-11-04T18:42:34.530Z"
   },
   {
    "duration": -679,
    "start_time": "2021-11-04T18:42:34.534Z"
   },
   {
    "duration": -692,
    "start_time": "2021-11-04T18:42:34.548Z"
   },
   {
    "duration": -695,
    "start_time": "2021-11-04T18:42:34.552Z"
   },
   {
    "duration": -704,
    "start_time": "2021-11-04T18:42:34.562Z"
   },
   {
    "duration": -706,
    "start_time": "2021-11-04T18:42:34.566Z"
   },
   {
    "duration": -713,
    "start_time": "2021-11-04T18:42:34.573Z"
   },
   {
    "duration": -716,
    "start_time": "2021-11-04T18:42:34.578Z"
   },
   {
    "duration": 120,
    "start_time": "2021-11-04T18:43:03.262Z"
   },
   {
    "duration": 88,
    "start_time": "2021-11-05T09:18:56.420Z"
   },
   {
    "duration": 91,
    "start_time": "2021-11-05T09:19:16.011Z"
   },
   {
    "duration": 947,
    "start_time": "2021-11-05T09:19:50.789Z"
   },
   {
    "duration": 27,
    "start_time": "2021-11-05T09:19:51.739Z"
   },
   {
    "duration": 43,
    "start_time": "2021-11-05T09:19:51.769Z"
   },
   {
    "duration": 17,
    "start_time": "2021-11-05T09:19:51.815Z"
   },
   {
    "duration": 19,
    "start_time": "2021-11-05T09:19:51.835Z"
   },
   {
    "duration": 15,
    "start_time": "2021-11-05T09:19:51.856Z"
   },
   {
    "duration": 15,
    "start_time": "2021-11-05T09:19:51.874Z"
   },
   {
    "duration": 12,
    "start_time": "2021-11-05T09:19:51.893Z"
   },
   {
    "duration": 14,
    "start_time": "2021-11-05T09:19:51.908Z"
   },
   {
    "duration": 22,
    "start_time": "2021-11-05T09:19:51.925Z"
   },
   {
    "duration": 99,
    "start_time": "2021-11-05T09:19:51.950Z"
   },
   {
    "duration": 28,
    "start_time": "2021-11-05T09:19:52.051Z"
   },
   {
    "duration": 53,
    "start_time": "2021-11-05T09:19:52.081Z"
   },
   {
    "duration": 17,
    "start_time": "2021-11-05T09:19:52.137Z"
   },
   {
    "duration": 4942,
    "start_time": "2021-11-05T09:19:52.156Z"
   },
   {
    "duration": 67,
    "start_time": "2021-11-05T09:19:57.121Z"
   },
   {
    "duration": 7,
    "start_time": "2021-11-05T09:19:57.222Z"
   },
   {
    "duration": 11,
    "start_time": "2021-11-05T09:19:57.231Z"
   },
   {
    "duration": 8249,
    "start_time": "2021-11-05T09:19:57.245Z"
   },
   {
    "duration": 29,
    "start_time": "2021-11-05T09:20:05.497Z"
   },
   {
    "duration": 20,
    "start_time": "2021-11-05T09:20:05.529Z"
   },
   {
    "duration": 22,
    "start_time": "2021-11-05T09:20:05.551Z"
   },
   {
    "duration": 87,
    "start_time": "2021-11-05T09:20:05.580Z"
   },
   {
    "duration": -41,
    "start_time": "2021-11-05T09:20:05.712Z"
   },
   {
    "duration": -43,
    "start_time": "2021-11-05T09:20:05.716Z"
   },
   {
    "duration": -52,
    "start_time": "2021-11-05T09:20:05.727Z"
   },
   {
    "duration": -76,
    "start_time": "2021-11-05T09:20:05.754Z"
   },
   {
    "duration": -78,
    "start_time": "2021-11-05T09:20:05.758Z"
   },
   {
    "duration": -80,
    "start_time": "2021-11-05T09:20:05.762Z"
   },
   {
    "duration": -80,
    "start_time": "2021-11-05T09:20:05.765Z"
   },
   {
    "duration": -81,
    "start_time": "2021-11-05T09:20:05.768Z"
   },
   {
    "duration": 86,
    "start_time": "2021-11-05T09:22:08.730Z"
   },
   {
    "duration": 47,
    "start_time": "2021-11-05T09:22:24.999Z"
   },
   {
    "duration": 45,
    "start_time": "2021-11-05T09:24:22.253Z"
   },
   {
    "duration": 54,
    "start_time": "2021-11-05T09:26:22.206Z"
   },
   {
    "duration": 365,
    "start_time": "2021-11-05T09:30:43.456Z"
   },
   {
    "duration": 379,
    "start_time": "2021-11-05T09:31:20.561Z"
   },
   {
    "duration": 304,
    "start_time": "2021-11-05T09:31:26.039Z"
   },
   {
    "duration": 17,
    "start_time": "2021-11-05T09:34:33.787Z"
   },
   {
    "duration": 14,
    "start_time": "2021-11-05T09:34:39.518Z"
   },
   {
    "duration": 34,
    "start_time": "2021-11-05T09:34:49.095Z"
   },
   {
    "duration": 260,
    "start_time": "2021-11-05T09:35:45.907Z"
   },
   {
    "duration": 32,
    "start_time": "2021-11-05T09:35:50.441Z"
   },
   {
    "duration": 14,
    "start_time": "2021-11-05T09:36:08.196Z"
   },
   {
    "duration": 13,
    "start_time": "2021-11-05T09:36:13.421Z"
   },
   {
    "duration": 6,
    "start_time": "2021-11-05T09:37:56.594Z"
   },
   {
    "duration": 5,
    "start_time": "2021-11-05T09:38:09.029Z"
   },
   {
    "duration": 6,
    "start_time": "2021-11-05T09:38:12.117Z"
   },
   {
    "duration": 34,
    "start_time": "2021-11-05T09:39:28.263Z"
   },
   {
    "duration": 35,
    "start_time": "2021-11-05T09:39:46.963Z"
   },
   {
    "duration": 280,
    "start_time": "2021-11-05T09:40:02.232Z"
   },
   {
    "duration": 34,
    "start_time": "2021-11-05T09:40:07.952Z"
   },
   {
    "duration": 274,
    "start_time": "2021-11-05T09:40:29.675Z"
   },
   {
    "duration": 271,
    "start_time": "2021-11-05T09:40:32.447Z"
   },
   {
    "duration": 311,
    "start_time": "2021-11-05T09:41:11.812Z"
   },
   {
    "duration": 36,
    "start_time": "2021-11-05T09:41:28.930Z"
   },
   {
    "duration": 34,
    "start_time": "2021-11-05T09:41:38.515Z"
   },
   {
    "duration": 50,
    "start_time": "2021-11-05T09:41:50.888Z"
   },
   {
    "duration": 34,
    "start_time": "2021-11-05T09:41:53.537Z"
   },
   {
    "duration": 53,
    "start_time": "2021-11-05T09:41:57.353Z"
   },
   {
    "duration": 40,
    "start_time": "2021-11-05T09:41:59.776Z"
   },
   {
    "duration": 33,
    "start_time": "2021-11-05T09:42:02.072Z"
   },
   {
    "duration": 34,
    "start_time": "2021-11-05T09:42:04.647Z"
   },
   {
    "duration": 35,
    "start_time": "2021-11-05T09:42:06.758Z"
   },
   {
    "duration": 34,
    "start_time": "2021-11-05T09:42:08.882Z"
   },
   {
    "duration": 33,
    "start_time": "2021-11-05T09:42:15.912Z"
   },
   {
    "duration": 33,
    "start_time": "2021-11-05T09:42:27.159Z"
   },
   {
    "duration": 7,
    "start_time": "2021-11-05T09:42:52.579Z"
   },
   {
    "duration": 11,
    "start_time": "2021-11-05T09:43:39.157Z"
   },
   {
    "duration": 48,
    "start_time": "2021-11-05T10:04:42.528Z"
   },
   {
    "duration": 46,
    "start_time": "2021-11-05T10:05:08.765Z"
   },
   {
    "duration": 956,
    "start_time": "2021-11-05T10:06:13.243Z"
   },
   {
    "duration": 965,
    "start_time": "2021-11-05T10:07:54.272Z"
   },
   {
    "duration": 7749,
    "start_time": "2021-11-05T10:13:09.922Z"
   },
   {
    "duration": 1818,
    "start_time": "2021-11-05T10:14:16.234Z"
   },
   {
    "duration": 7614,
    "start_time": "2021-11-05T10:14:58.294Z"
   },
   {
    "duration": 1278,
    "start_time": "2021-11-05T10:28:34.005Z"
   },
   {
    "duration": 354,
    "start_time": "2021-11-05T10:28:47.815Z"
   },
   {
    "duration": 320,
    "start_time": "2021-11-05T10:30:21.187Z"
   },
   {
    "duration": 436,
    "start_time": "2021-11-05T10:30:32.784Z"
   },
   {
    "duration": 330,
    "start_time": "2021-11-05T10:30:57.897Z"
   },
   {
    "duration": 326,
    "start_time": "2021-11-05T10:31:58.734Z"
   },
   {
    "duration": 279,
    "start_time": "2021-11-05T10:32:31.002Z"
   },
   {
    "duration": 327,
    "start_time": "2021-11-05T10:32:49.592Z"
   },
   {
    "duration": 408,
    "start_time": "2021-11-05T10:33:07.650Z"
   },
   {
    "duration": 7819,
    "start_time": "2021-11-05T10:34:07.579Z"
   },
   {
    "duration": 761,
    "start_time": "2021-11-05T10:34:49.372Z"
   },
   {
    "duration": 25,
    "start_time": "2021-11-05T10:34:50.136Z"
   },
   {
    "duration": 46,
    "start_time": "2021-11-05T10:34:50.164Z"
   },
   {
    "duration": 17,
    "start_time": "2021-11-05T10:34:50.222Z"
   },
   {
    "duration": 11,
    "start_time": "2021-11-05T10:34:50.242Z"
   },
   {
    "duration": 14,
    "start_time": "2021-11-05T10:34:50.256Z"
   },
   {
    "duration": 58,
    "start_time": "2021-11-05T10:34:50.272Z"
   },
   {
    "duration": 12,
    "start_time": "2021-11-05T10:34:50.334Z"
   },
   {
    "duration": 6,
    "start_time": "2021-11-05T10:34:50.349Z"
   },
   {
    "duration": 17,
    "start_time": "2021-11-05T10:34:50.357Z"
   },
   {
    "duration": 127,
    "start_time": "2021-11-05T10:34:50.377Z"
   },
   {
    "duration": 37,
    "start_time": "2021-11-05T10:34:50.506Z"
   },
   {
    "duration": 26,
    "start_time": "2021-11-05T10:34:50.546Z"
   },
   {
    "duration": 965,
    "start_time": "2021-11-05T10:34:50.575Z"
   },
   {
    "duration": 6,
    "start_time": "2021-11-05T10:34:51.543Z"
   },
   {
    "duration": 9,
    "start_time": "2021-11-05T10:34:51.551Z"
   },
   {
    "duration": 1132,
    "start_time": "2021-11-05T10:34:51.562Z"
   },
   {
    "duration": 7643,
    "start_time": "2021-11-05T10:34:52.697Z"
   },
   {
    "duration": 30,
    "start_time": "2021-11-05T10:35:00.343Z"
   },
   {
    "duration": 21,
    "start_time": "2021-11-05T10:35:00.375Z"
   },
   {
    "duration": 29,
    "start_time": "2021-11-05T10:35:00.398Z"
   },
   {
    "duration": 46,
    "start_time": "2021-11-05T10:35:00.429Z"
   },
   {
    "duration": 12,
    "start_time": "2021-11-05T10:35:00.479Z"
   },
   {
    "duration": 63,
    "start_time": "2021-11-05T10:35:00.494Z"
   },
   {
    "duration": 26,
    "start_time": "2021-11-05T10:35:00.560Z"
   },
   {
    "duration": 40,
    "start_time": "2021-11-05T10:35:00.589Z"
   },
   {
    "duration": 40,
    "start_time": "2021-11-05T10:35:00.632Z"
   },
   {
    "duration": 54,
    "start_time": "2021-11-05T10:35:00.675Z"
   },
   {
    "duration": 40,
    "start_time": "2021-11-05T10:35:00.731Z"
   },
   {
    "duration": 62,
    "start_time": "2021-11-05T10:35:00.773Z"
   },
   {
    "duration": 170,
    "start_time": "2021-11-05T10:35:00.837Z"
   },
   {
    "duration": 5748,
    "start_time": "2021-11-05T10:35:56.518Z"
   },
   {
    "duration": 145,
    "start_time": "2021-11-05T10:51:55.008Z"
   },
   {
    "duration": 816,
    "start_time": "2021-11-05T10:52:06.473Z"
   },
   {
    "duration": 637,
    "start_time": "2021-11-05T10:54:15.213Z"
   },
   {
    "duration": 392,
    "start_time": "2021-11-05T10:54:47.308Z"
   },
   {
    "duration": 442,
    "start_time": "2021-11-05T10:55:35.960Z"
   },
   {
    "duration": 420,
    "start_time": "2021-11-05T10:56:53.940Z"
   },
   {
    "duration": 138,
    "start_time": "2021-11-05T10:57:02.632Z"
   },
   {
    "duration": 842,
    "start_time": "2021-11-05T10:57:17.960Z"
   },
   {
    "duration": 30,
    "start_time": "2021-11-05T10:57:18.805Z"
   },
   {
    "duration": 55,
    "start_time": "2021-11-05T10:57:18.838Z"
   },
   {
    "duration": 45,
    "start_time": "2021-11-05T10:57:18.895Z"
   },
   {
    "duration": 18,
    "start_time": "2021-11-05T10:57:18.943Z"
   },
   {
    "duration": 71,
    "start_time": "2021-11-05T10:57:18.964Z"
   },
   {
    "duration": 22,
    "start_time": "2021-11-05T10:57:19.039Z"
   },
   {
    "duration": 13,
    "start_time": "2021-11-05T10:57:19.064Z"
   },
   {
    "duration": 13,
    "start_time": "2021-11-05T10:57:19.080Z"
   },
   {
    "duration": 17,
    "start_time": "2021-11-05T10:57:19.096Z"
   },
   {
    "duration": 114,
    "start_time": "2021-11-05T10:57:19.116Z"
   },
   {
    "duration": 37,
    "start_time": "2021-11-05T10:57:19.234Z"
   },
   {
    "duration": 49,
    "start_time": "2021-11-05T10:57:19.275Z"
   },
   {
    "duration": 1577,
    "start_time": "2021-11-05T10:57:19.328Z"
   },
   {
    "duration": 18,
    "start_time": "2021-11-05T10:57:20.908Z"
   },
   {
    "duration": 22,
    "start_time": "2021-11-05T10:57:20.929Z"
   },
   {
    "duration": 1194,
    "start_time": "2021-11-05T10:57:20.954Z"
   },
   {
    "duration": 108,
    "start_time": "2021-11-05T10:57:22.150Z"
   },
   {
    "duration": 1123,
    "start_time": "2021-11-05T10:57:22.261Z"
   },
   {
    "duration": 39,
    "start_time": "2021-11-05T10:57:23.387Z"
   },
   {
    "duration": 30,
    "start_time": "2021-11-05T10:57:23.429Z"
   },
   {
    "duration": 13,
    "start_time": "2021-11-05T10:57:23.462Z"
   },
   {
    "duration": 60,
    "start_time": "2021-11-05T10:57:23.479Z"
   },
   {
    "duration": 14,
    "start_time": "2021-11-05T10:57:23.544Z"
   },
   {
    "duration": 74,
    "start_time": "2021-11-05T10:57:23.560Z"
   },
   {
    "duration": 31,
    "start_time": "2021-11-05T10:57:23.637Z"
   },
   {
    "duration": 21,
    "start_time": "2021-11-05T10:57:23.670Z"
   },
   {
    "duration": 52,
    "start_time": "2021-11-05T10:57:23.694Z"
   },
   {
    "duration": 41,
    "start_time": "2021-11-05T10:57:23.749Z"
   },
   {
    "duration": 70,
    "start_time": "2021-11-05T10:57:23.792Z"
   },
   {
    "duration": 72,
    "start_time": "2021-11-05T10:57:23.864Z"
   },
   {
    "duration": 178,
    "start_time": "2021-11-05T10:57:23.940Z"
   },
   {
    "duration": 1199,
    "start_time": "2021-11-05T10:58:59.985Z"
   },
   {
    "duration": 471,
    "start_time": "2021-11-05T10:59:48.559Z"
   },
   {
    "duration": 94,
    "start_time": "2021-11-05T10:59:59.598Z"
   },
   {
    "duration": 1093,
    "start_time": "2021-11-05T11:00:30.896Z"
   },
   {
    "duration": 476,
    "start_time": "2021-11-05T11:01:30.828Z"
   },
   {
    "duration": 501,
    "start_time": "2021-11-05T11:02:06.392Z"
   },
   {
    "duration": 530,
    "start_time": "2021-11-05T11:02:36.073Z"
   },
   {
    "duration": 145,
    "start_time": "2021-11-05T11:02:45.155Z"
   },
   {
    "duration": 472,
    "start_time": "2021-11-05T11:03:20.939Z"
   },
   {
    "duration": 488,
    "start_time": "2021-11-05T11:03:40.915Z"
   },
   {
    "duration": 367,
    "start_time": "2021-11-05T11:03:50.951Z"
   },
   {
    "duration": 404,
    "start_time": "2021-11-05T11:04:13.697Z"
   },
   {
    "duration": 89,
    "start_time": "2021-11-05T11:04:37.036Z"
   },
   {
    "duration": 93,
    "start_time": "2021-11-05T11:05:44.274Z"
   },
   {
    "duration": 486,
    "start_time": "2021-11-05T11:05:53.330Z"
   },
   {
    "duration": 471,
    "start_time": "2021-11-05T11:06:08.223Z"
   },
   {
    "duration": 377,
    "start_time": "2021-11-05T11:06:13.168Z"
   },
   {
    "duration": 800,
    "start_time": "2021-11-05T11:07:31.930Z"
   },
   {
    "duration": 388,
    "start_time": "2021-11-05T11:07:40.797Z"
   },
   {
    "duration": 363,
    "start_time": "2021-11-05T11:07:48.194Z"
   },
   {
    "duration": 324,
    "start_time": "2021-11-05T11:08:03.551Z"
   },
   {
    "duration": 146,
    "start_time": "2021-11-05T11:08:48.357Z"
   },
   {
    "duration": 97,
    "start_time": "2021-11-05T11:09:38.674Z"
   },
   {
    "duration": 1095,
    "start_time": "2021-11-05T11:09:56.600Z"
   },
   {
    "duration": 1197,
    "start_time": "2021-11-05T11:10:10.203Z"
   },
   {
    "duration": 43,
    "start_time": "2021-11-05T11:10:11.404Z"
   },
   {
    "duration": 75,
    "start_time": "2021-11-05T11:10:11.452Z"
   },
   {
    "duration": 29,
    "start_time": "2021-11-05T11:10:11.531Z"
   },
   {
    "duration": 15,
    "start_time": "2021-11-05T11:10:11.563Z"
   },
   {
    "duration": 54,
    "start_time": "2021-11-05T11:10:11.580Z"
   },
   {
    "duration": 22,
    "start_time": "2021-11-05T11:10:11.636Z"
   },
   {
    "duration": 13,
    "start_time": "2021-11-05T11:10:11.663Z"
   },
   {
    "duration": 5,
    "start_time": "2021-11-05T11:10:11.679Z"
   },
   {
    "duration": 49,
    "start_time": "2021-11-05T11:10:11.687Z"
   },
   {
    "duration": 124,
    "start_time": "2021-11-05T11:10:11.738Z"
   },
   {
    "duration": 39,
    "start_time": "2021-11-05T11:10:11.866Z"
   },
   {
    "duration": 56,
    "start_time": "2021-11-05T11:10:11.908Z"
   },
   {
    "duration": 1429,
    "start_time": "2021-11-05T11:10:11.966Z"
   },
   {
    "duration": 6,
    "start_time": "2021-11-05T11:10:13.397Z"
   },
   {
    "duration": 25,
    "start_time": "2021-11-05T11:10:13.405Z"
   },
   {
    "duration": 1667,
    "start_time": "2021-11-05T11:10:13.434Z"
   },
   {
    "duration": 99,
    "start_time": "2021-11-05T11:10:15.104Z"
   },
   {
    "duration": 1020,
    "start_time": "2021-11-05T11:10:15.205Z"
   },
   {
    "duration": 24,
    "start_time": "2021-11-05T11:10:16.229Z"
   },
   {
    "duration": 25,
    "start_time": "2021-11-05T11:10:16.256Z"
   },
   {
    "duration": 40,
    "start_time": "2021-11-05T11:10:16.283Z"
   },
   {
    "duration": 40,
    "start_time": "2021-11-05T11:10:16.332Z"
   },
   {
    "duration": 11,
    "start_time": "2021-11-05T11:10:16.374Z"
   },
   {
    "duration": 43,
    "start_time": "2021-11-05T11:10:16.424Z"
   },
   {
    "duration": 71,
    "start_time": "2021-11-05T11:10:16.470Z"
   },
   {
    "duration": 21,
    "start_time": "2021-11-05T11:10:16.544Z"
   },
   {
    "duration": 24,
    "start_time": "2021-11-05T11:10:16.568Z"
   },
   {
    "duration": 75,
    "start_time": "2021-11-05T11:10:16.595Z"
   },
   {
    "duration": 95,
    "start_time": "2021-11-05T11:10:16.673Z"
   },
   {
    "duration": 53,
    "start_time": "2021-11-05T11:10:16.771Z"
   },
   {
    "duration": 265,
    "start_time": "2021-11-05T11:10:16.827Z"
   },
   {
    "duration": 14,
    "start_time": "2021-11-05T11:12:06.107Z"
   },
   {
    "duration": 96,
    "start_time": "2021-11-05T11:13:12.070Z"
   },
   {
    "duration": 18,
    "start_time": "2021-11-05T11:13:16.815Z"
   },
   {
    "duration": 1340,
    "start_time": "2021-11-05T11:19:12.012Z"
   },
   {
    "duration": 444,
    "start_time": "2021-11-05T11:19:43.981Z"
   },
   {
    "duration": 18,
    "start_time": "2021-11-05T11:21:35.520Z"
   },
   {
    "duration": 27,
    "start_time": "2021-11-05T11:22:45.975Z"
   },
   {
    "duration": 21,
    "start_time": "2021-11-05T11:24:44.496Z"
   },
   {
    "duration": 281,
    "start_time": "2021-11-05T11:25:47.358Z"
   },
   {
    "duration": 1186,
    "start_time": "2021-11-05T11:25:58.029Z"
   },
   {
    "duration": 30,
    "start_time": "2021-11-05T11:25:59.218Z"
   },
   {
    "duration": 36,
    "start_time": "2021-11-05T11:25:59.252Z"
   },
   {
    "duration": 29,
    "start_time": "2021-11-05T11:25:59.322Z"
   },
   {
    "duration": 21,
    "start_time": "2021-11-05T11:25:59.355Z"
   },
   {
    "duration": 58,
    "start_time": "2021-11-05T11:25:59.379Z"
   },
   {
    "duration": 23,
    "start_time": "2021-11-05T11:25:59.441Z"
   },
   {
    "duration": 21,
    "start_time": "2021-11-05T11:25:59.470Z"
   },
   {
    "duration": 8,
    "start_time": "2021-11-05T11:25:59.524Z"
   },
   {
    "duration": 18,
    "start_time": "2021-11-05T11:25:59.535Z"
   },
   {
    "duration": 141,
    "start_time": "2021-11-05T11:25:59.556Z"
   },
   {
    "duration": 41,
    "start_time": "2021-11-05T11:25:59.699Z"
   },
   {
    "duration": 26,
    "start_time": "2021-11-05T11:25:59.743Z"
   },
   {
    "duration": 1008,
    "start_time": "2021-11-05T11:25:59.772Z"
   },
   {
    "duration": 7,
    "start_time": "2021-11-05T11:26:00.783Z"
   },
   {
    "duration": 31,
    "start_time": "2021-11-05T11:26:00.792Z"
   },
   {
    "duration": 1196,
    "start_time": "2021-11-05T11:26:00.826Z"
   },
   {
    "duration": 99,
    "start_time": "2021-11-05T11:26:02.025Z"
   },
   {
    "duration": 14,
    "start_time": "2021-11-05T11:26:02.127Z"
   },
   {
    "duration": 186,
    "start_time": "2021-11-05T11:26:02.143Z"
   },
   {
    "duration": 20,
    "start_time": "2021-11-05T11:26:02.332Z"
   },
   {
    "duration": 30,
    "start_time": "2021-11-05T11:26:02.354Z"
   },
   {
    "duration": 6,
    "start_time": "2021-11-05T11:26:02.390Z"
   },
   {
    "duration": 57,
    "start_time": "2021-11-05T11:26:02.399Z"
   },
   {
    "duration": 11,
    "start_time": "2021-11-05T11:26:02.458Z"
   },
   {
    "duration": 79,
    "start_time": "2021-11-05T11:26:02.472Z"
   },
   {
    "duration": 71,
    "start_time": "2021-11-05T11:26:02.555Z"
   },
   {
    "duration": 24,
    "start_time": "2021-11-05T11:26:02.630Z"
   },
   {
    "duration": 26,
    "start_time": "2021-11-05T11:26:02.657Z"
   },
   {
    "duration": 102,
    "start_time": "2021-11-05T11:26:02.687Z"
   },
   {
    "duration": 80,
    "start_time": "2021-11-05T11:26:02.793Z"
   },
   {
    "duration": 93,
    "start_time": "2021-11-05T11:26:02.877Z"
   },
   {
    "duration": 179,
    "start_time": "2021-11-05T11:26:02.973Z"
   },
   {
    "duration": 24,
    "start_time": "2021-11-05T11:33:22.062Z"
   },
   {
    "duration": 36,
    "start_time": "2021-11-05T11:33:43.881Z"
   },
   {
    "duration": 26,
    "start_time": "2021-11-05T11:37:02.563Z"
   },
   {
    "duration": 436,
    "start_time": "2021-11-05T11:37:25.563Z"
   },
   {
    "duration": 473,
    "start_time": "2021-11-05T11:37:31.472Z"
   },
   {
    "duration": 437,
    "start_time": "2021-11-05T11:37:43.780Z"
   },
   {
    "duration": 465,
    "start_time": "2021-11-05T11:41:08.000Z"
   },
   {
    "duration": 401,
    "start_time": "2021-11-05T11:41:26.431Z"
   },
   {
    "duration": 304,
    "start_time": "2021-11-05T11:42:51.074Z"
   },
   {
    "duration": 18,
    "start_time": "2021-11-05T11:44:53.749Z"
   },
   {
    "duration": 42,
    "start_time": "2021-11-05T11:45:03.572Z"
   },
   {
    "duration": 290,
    "start_time": "2021-11-05T11:45:37.724Z"
   },
   {
    "duration": 69,
    "start_time": "2021-11-05T11:46:03.621Z"
   },
   {
    "duration": 41,
    "start_time": "2021-11-05T11:46:13.511Z"
   },
   {
    "duration": 490,
    "start_time": "2021-11-05T11:46:28.770Z"
   },
   {
    "duration": 545,
    "start_time": "2021-11-05T11:46:37.012Z"
   },
   {
    "duration": 64,
    "start_time": "2021-11-05T11:46:47.955Z"
   },
   {
    "duration": 856,
    "start_time": "2021-11-05T11:50:54.994Z"
   },
   {
    "duration": 28,
    "start_time": "2021-11-05T11:50:55.853Z"
   },
   {
    "duration": 54,
    "start_time": "2021-11-05T11:50:55.885Z"
   },
   {
    "duration": 21,
    "start_time": "2021-11-05T11:50:55.942Z"
   },
   {
    "duration": 22,
    "start_time": "2021-11-05T11:50:55.967Z"
   },
   {
    "duration": 16,
    "start_time": "2021-11-05T11:50:56.024Z"
   },
   {
    "duration": 17,
    "start_time": "2021-11-05T11:50:56.043Z"
   },
   {
    "duration": 14,
    "start_time": "2021-11-05T11:50:56.064Z"
   },
   {
    "duration": 8,
    "start_time": "2021-11-05T11:50:56.123Z"
   },
   {
    "duration": 32,
    "start_time": "2021-11-05T11:50:56.134Z"
   },
   {
    "duration": 207,
    "start_time": "2021-11-05T11:50:56.169Z"
   },
   {
    "duration": 48,
    "start_time": "2021-11-05T11:50:56.378Z"
   },
   {
    "duration": 41,
    "start_time": "2021-11-05T11:50:56.429Z"
   },
   {
    "duration": 994,
    "start_time": "2021-11-05T11:50:56.474Z"
   },
   {
    "duration": 9,
    "start_time": "2021-11-05T11:50:57.472Z"
   },
   {
    "duration": 8,
    "start_time": "2021-11-05T11:50:57.484Z"
   },
   {
    "duration": 1981,
    "start_time": "2021-11-05T11:50:57.495Z"
   },
   {
    "duration": 100,
    "start_time": "2021-11-05T11:50:59.480Z"
   },
   {
    "duration": 13,
    "start_time": "2021-11-05T11:50:59.583Z"
   },
   {
    "duration": 19,
    "start_time": "2021-11-05T11:51:37.235Z"
   },
   {
    "duration": 30,
    "start_time": "2021-11-05T11:51:37.258Z"
   },
   {
    "duration": 7,
    "start_time": "2021-11-05T11:51:37.323Z"
   },
   {
    "duration": 47,
    "start_time": "2021-11-05T11:51:37.334Z"
   },
   {
    "duration": 40,
    "start_time": "2021-11-05T11:51:37.383Z"
   },
   {
    "duration": 36,
    "start_time": "2021-11-05T11:51:37.425Z"
   },
   {
    "duration": 72,
    "start_time": "2021-11-05T11:51:37.465Z"
   },
   {
    "duration": 21,
    "start_time": "2021-11-05T11:51:37.540Z"
   },
   {
    "duration": 24,
    "start_time": "2021-11-05T11:51:37.564Z"
   },
   {
    "duration": 67,
    "start_time": "2021-11-05T11:51:37.592Z"
   },
   {
    "duration": 82,
    "start_time": "2021-11-05T11:51:37.664Z"
   },
   {
    "duration": 48,
    "start_time": "2021-11-05T11:51:37.749Z"
   },
   {
    "duration": 184,
    "start_time": "2021-11-05T11:51:37.800Z"
   },
   {
    "duration": 38011,
    "start_time": "2021-11-05T11:51:37.987Z"
   },
   {
    "duration": 12,
    "start_time": "2021-11-05T11:52:50.969Z"
   },
   {
    "duration": 425,
    "start_time": "2021-11-05T12:18:21.684Z"
   },
   {
    "duration": 576,
    "start_time": "2021-11-05T12:18:29.734Z"
   },
   {
    "duration": 104,
    "start_time": "2021-11-05T12:19:19.383Z"
   },
   {
    "duration": 93,
    "start_time": "2021-11-05T12:21:47.701Z"
   },
   {
    "duration": 110,
    "start_time": "2021-11-05T12:22:02.690Z"
   },
   {
    "duration": 4,
    "start_time": "2021-11-05T12:22:56.009Z"
   },
   {
    "duration": 14,
    "start_time": "2021-11-05T12:23:29.929Z"
   },
   {
    "duration": 1407,
    "start_time": "2021-11-05T12:23:41.722Z"
   },
   {
    "duration": 1332,
    "start_time": "2021-11-05T12:23:53.102Z"
   },
   {
    "duration": 273,
    "start_time": "2021-11-05T12:27:46.046Z"
   },
   {
    "duration": 294,
    "start_time": "2021-11-05T12:28:07.555Z"
   },
   {
    "duration": 20,
    "start_time": "2021-11-05T12:43:57.477Z"
   },
   {
    "duration": 20,
    "start_time": "2021-11-05T12:45:50.976Z"
   },
   {
    "duration": 21,
    "start_time": "2021-11-05T12:48:43.485Z"
   },
   {
    "duration": 21,
    "start_time": "2021-11-05T12:48:47.696Z"
   },
   {
    "duration": 28,
    "start_time": "2021-11-05T12:50:55.182Z"
   },
   {
    "duration": 28,
    "start_time": "2021-11-05T12:51:02.277Z"
   },
   {
    "duration": 21,
    "start_time": "2021-11-05T12:51:54.389Z"
   },
   {
    "duration": 19,
    "start_time": "2021-11-05T12:52:38.214Z"
   },
   {
    "duration": 287,
    "start_time": "2021-11-05T13:35:13.215Z"
   },
   {
    "duration": 371,
    "start_time": "2021-11-05T13:36:04.534Z"
   },
   {
    "duration": 95,
    "start_time": "2021-11-05T13:36:40.733Z"
   },
   {
    "duration": 36,
    "start_time": "2021-11-05T13:36:47.031Z"
   },
   {
    "duration": 20,
    "start_time": "2021-11-05T13:36:56.161Z"
   },
   {
    "duration": 120,
    "start_time": "2021-11-05T13:47:23.330Z"
   },
   {
    "duration": 858,
    "start_time": "2021-11-05T13:55:55.159Z"
   },
   {
    "duration": 33,
    "start_time": "2021-11-05T13:55:56.020Z"
   },
   {
    "duration": 78,
    "start_time": "2021-11-05T13:55:56.058Z"
   },
   {
    "duration": 20,
    "start_time": "2021-11-05T13:55:56.140Z"
   },
   {
    "duration": 16,
    "start_time": "2021-11-05T13:55:56.163Z"
   },
   {
    "duration": 58,
    "start_time": "2021-11-05T13:55:56.182Z"
   },
   {
    "duration": 21,
    "start_time": "2021-11-05T13:55:56.244Z"
   },
   {
    "duration": 52,
    "start_time": "2021-11-05T13:55:56.271Z"
   },
   {
    "duration": 9,
    "start_time": "2021-11-05T13:55:56.327Z"
   },
   {
    "duration": 23,
    "start_time": "2021-11-05T13:55:56.339Z"
   },
   {
    "duration": 131,
    "start_time": "2021-11-05T13:55:56.365Z"
   },
   {
    "duration": 46,
    "start_time": "2021-11-05T13:55:56.498Z"
   },
   {
    "duration": 26,
    "start_time": "2021-11-05T13:55:56.546Z"
   },
   {
    "duration": 991,
    "start_time": "2021-11-05T13:55:56.574Z"
   },
   {
    "duration": 5,
    "start_time": "2021-11-05T13:55:57.569Z"
   },
   {
    "duration": 8,
    "start_time": "2021-11-05T13:55:57.577Z"
   },
   {
    "duration": 1160,
    "start_time": "2021-11-05T13:55:57.588Z"
   },
   {
    "duration": 106,
    "start_time": "2021-11-05T13:55:58.751Z"
   },
   {
    "duration": 14,
    "start_time": "2021-11-05T13:55:58.861Z"
   },
   {
    "duration": 50,
    "start_time": "2021-11-05T13:55:58.878Z"
   },
   {
    "duration": 30,
    "start_time": "2021-11-05T13:55:58.931Z"
   },
   {
    "duration": 10,
    "start_time": "2021-11-05T13:55:58.964Z"
   },
   {
    "duration": 64,
    "start_time": "2021-11-05T13:55:58.979Z"
   },
   {
    "duration": 11,
    "start_time": "2021-11-05T13:55:59.046Z"
   },
   {
    "duration": 74,
    "start_time": "2021-11-05T13:55:59.059Z"
   },
   {
    "duration": 20,
    "start_time": "2021-11-05T13:55:59.135Z"
   },
   {
    "duration": 20,
    "start_time": "2021-11-05T13:55:59.158Z"
   },
   {
    "duration": 58,
    "start_time": "2021-11-05T13:55:59.181Z"
   },
   {
    "duration": 23,
    "start_time": "2021-11-05T13:55:59.242Z"
   },
   {
    "duration": 898,
    "start_time": "2021-11-05T13:59:52.553Z"
   },
   {
    "duration": 28,
    "start_time": "2021-11-05T13:59:53.454Z"
   },
   {
    "duration": 59,
    "start_time": "2021-11-05T13:59:53.485Z"
   },
   {
    "duration": 28,
    "start_time": "2021-11-05T13:59:53.547Z"
   },
   {
    "duration": 46,
    "start_time": "2021-11-05T13:59:53.578Z"
   },
   {
    "duration": 22,
    "start_time": "2021-11-05T13:59:53.628Z"
   },
   {
    "duration": 23,
    "start_time": "2021-11-05T13:59:53.657Z"
   },
   {
    "duration": 51,
    "start_time": "2021-11-05T13:59:53.684Z"
   },
   {
    "duration": 18,
    "start_time": "2021-11-05T13:59:53.738Z"
   },
   {
    "duration": 26,
    "start_time": "2021-11-05T13:59:53.759Z"
   },
   {
    "duration": 187,
    "start_time": "2021-11-05T13:59:53.788Z"
   },
   {
    "duration": 65,
    "start_time": "2021-11-05T13:59:53.978Z"
   },
   {
    "duration": 43,
    "start_time": "2021-11-05T13:59:54.046Z"
   },
   {
    "duration": 1084,
    "start_time": "2021-11-05T13:59:54.092Z"
   },
   {
    "duration": 7,
    "start_time": "2021-11-05T13:59:55.179Z"
   },
   {
    "duration": 14,
    "start_time": "2021-11-05T13:59:55.189Z"
   },
   {
    "duration": 1332,
    "start_time": "2021-11-05T13:59:55.222Z"
   },
   {
    "duration": 101,
    "start_time": "2021-11-05T13:59:56.556Z"
   },
   {
    "duration": 14,
    "start_time": "2021-11-05T13:59:56.660Z"
   },
   {
    "duration": 52,
    "start_time": "2021-11-05T13:59:56.677Z"
   },
   {
    "duration": 35,
    "start_time": "2021-11-05T13:59:56.733Z"
   },
   {
    "duration": 12,
    "start_time": "2021-11-05T13:59:56.772Z"
   },
   {
    "duration": 51,
    "start_time": "2021-11-05T13:59:56.787Z"
   },
   {
    "duration": 11,
    "start_time": "2021-11-05T13:59:56.841Z"
   },
   {
    "duration": 56,
    "start_time": "2021-11-05T13:59:56.855Z"
   },
   {
    "duration": 25,
    "start_time": "2021-11-05T13:59:56.913Z"
   },
   {
    "duration": 21,
    "start_time": "2021-11-05T13:59:56.941Z"
   },
   {
    "duration": 64,
    "start_time": "2021-11-05T13:59:56.964Z"
   },
   {
    "duration": 29,
    "start_time": "2021-11-05T13:59:57.031Z"
   },
   {
    "duration": 1068,
    "start_time": "2021-11-05T14:02:14.678Z"
   },
   {
    "duration": 29,
    "start_time": "2021-11-05T14:02:15.749Z"
   },
   {
    "duration": 50,
    "start_time": "2021-11-05T14:02:15.781Z"
   },
   {
    "duration": 21,
    "start_time": "2021-11-05T14:02:15.835Z"
   },
   {
    "duration": 17,
    "start_time": "2021-11-05T14:02:15.858Z"
   },
   {
    "duration": 56,
    "start_time": "2021-11-05T14:02:15.878Z"
   },
   {
    "duration": 22,
    "start_time": "2021-11-05T14:02:15.938Z"
   },
   {
    "duration": 19,
    "start_time": "2021-11-05T14:02:15.965Z"
   },
   {
    "duration": 41,
    "start_time": "2021-11-05T14:02:15.987Z"
   },
   {
    "duration": 34,
    "start_time": "2021-11-05T14:02:16.031Z"
   },
   {
    "duration": 184,
    "start_time": "2021-11-05T14:02:16.068Z"
   },
   {
    "duration": 31,
    "start_time": "2021-11-05T14:02:16.256Z"
   },
   {
    "duration": 51,
    "start_time": "2021-11-05T14:02:16.290Z"
   },
   {
    "duration": 1150,
    "start_time": "2021-11-05T14:02:16.344Z"
   },
   {
    "duration": 10,
    "start_time": "2021-11-05T14:02:17.497Z"
   },
   {
    "duration": 6,
    "start_time": "2021-11-05T14:02:17.523Z"
   },
   {
    "duration": 1293,
    "start_time": "2021-11-05T14:02:17.531Z"
   },
   {
    "duration": 103,
    "start_time": "2021-11-05T14:02:18.827Z"
   },
   {
    "duration": 15,
    "start_time": "2021-11-05T14:02:18.933Z"
   },
   {
    "duration": 22,
    "start_time": "2021-11-05T14:02:18.951Z"
   },
   {
    "duration": 57,
    "start_time": "2021-11-05T14:02:18.976Z"
   },
   {
    "duration": 11,
    "start_time": "2021-11-05T14:02:19.036Z"
   },
   {
    "duration": 91,
    "start_time": "2021-11-05T14:02:19.054Z"
   },
   {
    "duration": 15,
    "start_time": "2021-11-05T14:02:19.149Z"
   },
   {
    "duration": 72,
    "start_time": "2021-11-05T14:02:19.167Z"
   },
   {
    "duration": 31,
    "start_time": "2021-11-05T14:02:19.242Z"
   },
   {
    "duration": 32,
    "start_time": "2021-11-05T14:02:19.276Z"
   },
   {
    "duration": 30,
    "start_time": "2021-11-05T14:02:19.321Z"
   },
   {
    "duration": 39,
    "start_time": "2021-11-05T14:02:19.354Z"
   },
   {
    "duration": 424,
    "start_time": "2021-11-06T10:32:05.620Z"
   },
   {
    "duration": 819,
    "start_time": "2021-11-06T10:32:22.563Z"
   },
   {
    "duration": 45,
    "start_time": "2021-11-06T10:32:23.385Z"
   },
   {
    "duration": 40,
    "start_time": "2021-11-06T10:32:23.434Z"
   },
   {
    "duration": 58,
    "start_time": "2021-11-06T10:32:23.477Z"
   },
   {
    "duration": 18,
    "start_time": "2021-11-06T10:32:23.537Z"
   },
   {
    "duration": 12,
    "start_time": "2021-11-06T10:32:23.557Z"
   },
   {
    "duration": 17,
    "start_time": "2021-11-06T10:32:23.571Z"
   },
   {
    "duration": 15,
    "start_time": "2021-11-06T10:32:23.630Z"
   },
   {
    "duration": 13,
    "start_time": "2021-11-06T10:32:23.648Z"
   },
   {
    "duration": 5,
    "start_time": "2021-11-06T10:32:23.664Z"
   },
   {
    "duration": 16,
    "start_time": "2021-11-06T10:32:23.672Z"
   },
   {
    "duration": 111,
    "start_time": "2021-11-06T10:32:23.730Z"
   },
   {
    "duration": 27,
    "start_time": "2021-11-06T10:32:23.844Z"
   },
   {
    "duration": 25,
    "start_time": "2021-11-06T10:32:23.874Z"
   },
   {
    "duration": 947,
    "start_time": "2021-11-06T10:32:23.929Z"
   },
   {
    "duration": 7,
    "start_time": "2021-11-06T10:32:24.879Z"
   },
   {
    "duration": 7,
    "start_time": "2021-11-06T10:32:24.889Z"
   },
   {
    "duration": 1142,
    "start_time": "2021-11-06T10:32:24.899Z"
   },
   {
    "duration": 94,
    "start_time": "2021-11-06T10:32:26.045Z"
   },
   {
    "duration": 13,
    "start_time": "2021-11-06T10:32:26.141Z"
   },
   {
    "duration": 19,
    "start_time": "2021-11-06T10:32:26.156Z"
   },
   {
    "duration": 51,
    "start_time": "2021-11-06T10:32:26.178Z"
   },
   {
    "duration": 8,
    "start_time": "2021-11-06T10:32:26.234Z"
   },
   {
    "duration": 40,
    "start_time": "2021-11-06T10:32:26.245Z"
   },
   {
    "duration": 12,
    "start_time": "2021-11-06T10:32:26.287Z"
   },
   {
    "duration": 36,
    "start_time": "2021-11-06T10:32:26.330Z"
   },
   {
    "duration": 21,
    "start_time": "2021-11-06T10:32:26.368Z"
   },
   {
    "duration": 52,
    "start_time": "2021-11-06T10:32:26.391Z"
   },
   {
    "duration": 19,
    "start_time": "2021-11-06T10:32:26.445Z"
   },
   {
    "duration": 24,
    "start_time": "2021-11-06T10:32:26.466Z"
   },
   {
    "duration": 970,
    "start_time": "2021-11-06T10:34:34.450Z"
   },
   {
    "duration": 662,
    "start_time": "2021-11-06T10:34:48.700Z"
   },
   {
    "duration": 324,
    "start_time": "2021-11-06T10:35:04.567Z"
   },
   {
    "duration": 332,
    "start_time": "2021-11-06T10:35:10.190Z"
   },
   {
    "duration": 332,
    "start_time": "2021-11-06T10:35:23.821Z"
   },
   {
    "duration": 330,
    "start_time": "2021-11-06T10:35:27.135Z"
   },
   {
    "duration": 400,
    "start_time": "2021-11-06T10:35:33.547Z"
   },
   {
    "duration": 327,
    "start_time": "2021-11-06T10:35:42.475Z"
   },
   {
    "duration": 326,
    "start_time": "2021-11-06T10:35:44.573Z"
   },
   {
    "duration": 73,
    "start_time": "2021-11-06T10:35:49.825Z"
   },
   {
    "duration": 27,
    "start_time": "2021-11-06T10:35:49.901Z"
   },
   {
    "duration": 34,
    "start_time": "2021-11-06T10:35:49.931Z"
   },
   {
    "duration": 353,
    "start_time": "2021-11-06T10:36:01.795Z"
   },
   {
    "duration": 409,
    "start_time": "2021-11-06T10:36:36.816Z"
   },
   {
    "duration": 1087,
    "start_time": "2021-11-06T10:36:46.148Z"
   },
   {
    "duration": 971,
    "start_time": "2021-11-06T10:37:06.511Z"
   },
   {
    "duration": 1148,
    "start_time": "2021-11-06T10:37:27.910Z"
   },
   {
    "duration": 1167,
    "start_time": "2021-11-06T10:37:43.675Z"
   },
   {
    "duration": 1183,
    "start_time": "2021-11-06T10:38:07.130Z"
   },
   {
    "duration": 1643,
    "start_time": "2021-11-06T10:38:44.418Z"
   },
   {
    "duration": 1307,
    "start_time": "2021-11-06T10:38:54.129Z"
   },
   {
    "duration": 1412,
    "start_time": "2021-11-06T10:39:00.294Z"
   },
   {
    "duration": 1319,
    "start_time": "2021-11-06T10:39:04.882Z"
   },
   {
    "duration": 1789,
    "start_time": "2021-11-06T10:41:51.733Z"
   },
   {
    "duration": 1799,
    "start_time": "2021-11-06T10:42:06.005Z"
   },
   {
    "duration": 1778,
    "start_time": "2021-11-06T10:42:16.014Z"
   },
   {
    "duration": 1786,
    "start_time": "2021-11-06T10:42:45.220Z"
   },
   {
    "duration": 1774,
    "start_time": "2021-11-06T10:42:59.706Z"
   },
   {
    "duration": 82,
    "start_time": "2021-11-06T10:43:29.858Z"
   },
   {
    "duration": 18,
    "start_time": "2021-11-06T10:43:29.943Z"
   },
   {
    "duration": 35,
    "start_time": "2021-11-06T10:43:29.964Z"
   },
   {
    "duration": 2019,
    "start_time": "2021-11-06T10:43:30.030Z"
   },
   {
    "duration": 19,
    "start_time": "2021-11-06T10:43:32.052Z"
   },
   {
    "duration": 13,
    "start_time": "2021-11-06T10:43:32.073Z"
   },
   {
    "duration": 52,
    "start_time": "2021-11-06T10:43:32.088Z"
   },
   {
    "duration": 16,
    "start_time": "2021-11-06T10:43:32.142Z"
   },
   {
    "duration": 13,
    "start_time": "2021-11-06T10:43:32.162Z"
   },
   {
    "duration": 6,
    "start_time": "2021-11-06T10:43:32.179Z"
   },
   {
    "duration": 54,
    "start_time": "2021-11-06T10:43:32.187Z"
   },
   {
    "duration": 111,
    "start_time": "2021-11-06T10:43:32.243Z"
   },
   {
    "duration": 27,
    "start_time": "2021-11-06T10:43:32.356Z"
   },
   {
    "duration": 44,
    "start_time": "2021-11-06T10:43:32.386Z"
   },
   {
    "duration": 1003,
    "start_time": "2021-11-06T10:43:32.432Z"
   },
   {
    "duration": 6,
    "start_time": "2021-11-06T10:43:33.438Z"
   },
   {
    "duration": 7,
    "start_time": "2021-11-06T10:43:33.447Z"
   },
   {
    "duration": 401,
    "start_time": "2021-11-06T10:43:33.457Z"
   },
   {
    "duration": 89,
    "start_time": "2021-11-06T10:43:33.860Z"
   },
   {
    "duration": 12,
    "start_time": "2021-11-06T10:43:33.951Z"
   },
   {
    "duration": 28,
    "start_time": "2021-11-06T10:43:33.966Z"
   },
   {
    "duration": 32,
    "start_time": "2021-11-06T10:43:33.996Z"
   },
   {
    "duration": 11,
    "start_time": "2021-11-06T10:43:34.031Z"
   },
   {
    "duration": 49,
    "start_time": "2021-11-06T10:43:34.044Z"
   },
   {
    "duration": 10,
    "start_time": "2021-11-06T10:43:34.095Z"
   },
   {
    "duration": 36,
    "start_time": "2021-11-06T10:43:34.107Z"
   },
   {
    "duration": 21,
    "start_time": "2021-11-06T10:43:34.148Z"
   },
   {
    "duration": 20,
    "start_time": "2021-11-06T10:43:34.171Z"
   },
   {
    "duration": 19,
    "start_time": "2021-11-06T10:43:34.193Z"
   },
   {
    "duration": 31,
    "start_time": "2021-11-06T10:43:34.214Z"
   },
   {
    "duration": 125,
    "start_time": "2021-11-06T10:48:49.306Z"
   },
   {
    "duration": 2048,
    "start_time": "2022-09-07T00:38:21.597Z"
   },
   {
    "duration": 16,
    "start_time": "2022-09-07T00:38:23.647Z"
   },
   {
    "duration": 22,
    "start_time": "2022-09-07T00:38:23.664Z"
   },
   {
    "duration": 1145,
    "start_time": "2022-09-07T00:38:23.689Z"
   },
   {
    "duration": 13,
    "start_time": "2022-09-07T00:38:24.836Z"
   },
   {
    "duration": 21,
    "start_time": "2022-09-07T00:38:24.851Z"
   },
   {
    "duration": 11,
    "start_time": "2022-09-07T00:38:24.873Z"
   },
   {
    "duration": 8,
    "start_time": "2022-09-07T00:38:24.886Z"
   },
   {
    "duration": 8,
    "start_time": "2022-09-07T00:38:24.896Z"
   },
   {
    "duration": 6,
    "start_time": "2022-09-07T00:38:24.906Z"
   },
   {
    "duration": 14,
    "start_time": "2022-09-07T00:38:24.913Z"
   },
   {
    "duration": 96,
    "start_time": "2022-09-07T00:38:24.929Z"
   },
   {
    "duration": 23,
    "start_time": "2022-09-07T00:38:25.026Z"
   },
   {
    "duration": 34,
    "start_time": "2022-09-07T00:38:25.051Z"
   },
   {
    "duration": 966,
    "start_time": "2022-09-07T00:38:25.086Z"
   },
   {
    "duration": 5,
    "start_time": "2022-09-07T00:38:26.053Z"
   },
   {
    "duration": 7,
    "start_time": "2022-09-07T00:38:26.059Z"
   },
   {
    "duration": 168,
    "start_time": "2022-09-07T00:38:26.068Z"
   },
   {
    "duration": 52,
    "start_time": "2022-09-07T00:38:26.237Z"
   },
   {
    "duration": 9,
    "start_time": "2022-09-07T00:38:26.290Z"
   },
   {
    "duration": 13,
    "start_time": "2022-09-07T00:38:26.300Z"
   },
   {
    "duration": 12,
    "start_time": "2022-09-07T00:38:26.314Z"
   },
   {
    "duration": 5,
    "start_time": "2022-09-07T00:38:26.328Z"
   },
   {
    "duration": 40,
    "start_time": "2022-09-07T00:38:26.334Z"
   },
   {
    "duration": 8,
    "start_time": "2022-09-07T00:38:26.375Z"
   },
   {
    "duration": 22,
    "start_time": "2022-09-07T00:38:26.384Z"
   },
   {
    "duration": 14,
    "start_time": "2022-09-07T00:38:26.407Z"
   },
   {
    "duration": 48,
    "start_time": "2022-09-07T00:38:26.424Z"
   },
   {
    "duration": 18,
    "start_time": "2022-09-07T00:38:26.474Z"
   },
   {
    "duration": 16,
    "start_time": "2022-09-07T00:38:26.496Z"
   },
   {
    "duration": 23,
    "start_time": "2022-09-07T00:40:34.222Z"
   },
   {
    "duration": 20,
    "start_time": "2022-09-07T00:41:21.585Z"
   },
   {
    "duration": 11,
    "start_time": "2022-09-07T00:42:05.204Z"
   },
   {
    "duration": 9,
    "start_time": "2022-09-07T00:42:08.328Z"
   },
   {
    "duration": 1515,
    "start_time": "2022-09-07T00:42:47.762Z"
   },
   {
    "duration": 15,
    "start_time": "2022-09-07T00:42:49.278Z"
   },
   {
    "duration": 20,
    "start_time": "2022-09-07T00:42:49.294Z"
   },
   {
    "duration": 1128,
    "start_time": "2022-09-07T00:42:49.316Z"
   },
   {
    "duration": 21,
    "start_time": "2022-09-07T00:42:50.446Z"
   },
   {
    "duration": 8,
    "start_time": "2022-09-07T00:42:50.469Z"
   },
   {
    "duration": 10,
    "start_time": "2022-09-07T00:42:50.478Z"
   },
   {
    "duration": 8,
    "start_time": "2022-09-07T00:42:50.490Z"
   },
   {
    "duration": 8,
    "start_time": "2022-09-07T00:42:50.500Z"
   },
   {
    "duration": 7,
    "start_time": "2022-09-07T00:42:50.511Z"
   },
   {
    "duration": 22,
    "start_time": "2022-09-07T00:42:50.520Z"
   },
   {
    "duration": 88,
    "start_time": "2022-09-07T00:42:50.544Z"
   },
   {
    "duration": 34,
    "start_time": "2022-09-07T00:42:50.633Z"
   },
   {
    "duration": 18,
    "start_time": "2022-09-07T00:42:50.669Z"
   },
   {
    "duration": 711,
    "start_time": "2022-09-07T00:42:50.689Z"
   },
   {
    "duration": 4,
    "start_time": "2022-09-07T00:42:51.402Z"
   },
   {
    "duration": 5,
    "start_time": "2022-09-07T00:42:51.408Z"
   },
   {
    "duration": 193,
    "start_time": "2022-09-07T00:42:51.415Z"
   },
   {
    "duration": 45,
    "start_time": "2022-09-07T00:42:51.611Z"
   },
   {
    "duration": 8,
    "start_time": "2022-09-07T00:42:51.668Z"
   },
   {
    "duration": 13,
    "start_time": "2022-09-07T00:42:51.678Z"
   },
   {
    "duration": 12,
    "start_time": "2022-09-07T00:42:51.692Z"
   },
   {
    "duration": 4,
    "start_time": "2022-09-07T00:42:51.706Z"
   },
   {
    "duration": 25,
    "start_time": "2022-09-07T00:42:51.712Z"
   },
   {
    "duration": 7,
    "start_time": "2022-09-07T00:42:51.739Z"
   },
   {
    "duration": 19,
    "start_time": "2022-09-07T00:42:51.768Z"
   },
   {
    "duration": 13,
    "start_time": "2022-09-07T00:42:51.789Z"
   },
   {
    "duration": 14,
    "start_time": "2022-09-07T00:42:51.805Z"
   },
   {
    "duration": 12,
    "start_time": "2022-09-07T00:42:51.821Z"
   },
   {
    "duration": 42,
    "start_time": "2022-09-07T00:42:51.835Z"
   },
   {
    "duration": 3566,
    "start_time": "2022-09-07T00:45:26.894Z"
   },
   {
    "duration": 16,
    "start_time": "2022-09-07T00:45:30.462Z"
   },
   {
    "duration": 22,
    "start_time": "2022-09-07T00:45:30.480Z"
   },
   {
    "duration": 1153,
    "start_time": "2022-09-07T00:45:30.505Z"
   },
   {
    "duration": 19,
    "start_time": "2022-09-07T00:45:31.659Z"
   },
   {
    "duration": 7,
    "start_time": "2022-09-07T00:45:31.680Z"
   },
   {
    "duration": 15,
    "start_time": "2022-09-07T00:45:31.689Z"
   },
   {
    "duration": 13,
    "start_time": "2022-09-07T00:45:31.706Z"
   },
   {
    "duration": 26,
    "start_time": "2022-09-07T00:45:31.720Z"
   },
   {
    "duration": 11,
    "start_time": "2022-09-07T00:45:31.749Z"
   },
   {
    "duration": 28,
    "start_time": "2022-09-07T00:45:31.762Z"
   },
   {
    "duration": 65,
    "start_time": "2022-09-07T00:45:31.791Z"
   },
   {
    "duration": 27,
    "start_time": "2022-09-07T00:45:31.858Z"
   },
   {
    "duration": 18,
    "start_time": "2022-09-07T00:45:31.887Z"
   },
   {
    "duration": 702,
    "start_time": "2022-09-07T00:45:31.906Z"
   },
   {
    "duration": 4,
    "start_time": "2022-09-07T00:45:32.610Z"
   },
   {
    "duration": 10,
    "start_time": "2022-09-07T00:45:32.616Z"
   },
   {
    "duration": 179,
    "start_time": "2022-09-07T00:45:32.628Z"
   },
   {
    "duration": 45,
    "start_time": "2022-09-07T00:45:32.809Z"
   },
   {
    "duration": 16,
    "start_time": "2022-09-07T00:45:32.855Z"
   },
   {
    "duration": 13,
    "start_time": "2022-09-07T00:45:32.873Z"
   },
   {
    "duration": 7,
    "start_time": "2022-09-07T00:45:32.887Z"
   },
   {
    "duration": 7,
    "start_time": "2022-09-07T00:45:32.896Z"
   },
   {
    "duration": 23,
    "start_time": "2022-09-07T00:45:32.905Z"
   },
   {
    "duration": 7,
    "start_time": "2022-09-07T00:45:32.930Z"
   },
   {
    "duration": 23,
    "start_time": "2022-09-07T00:45:32.967Z"
   },
   {
    "duration": 18,
    "start_time": "2022-09-07T00:45:32.992Z"
   },
   {
    "duration": 16,
    "start_time": "2022-09-07T00:45:33.013Z"
   },
   {
    "duration": 43,
    "start_time": "2022-09-07T00:45:33.031Z"
   },
   {
    "duration": 15,
    "start_time": "2022-09-07T00:45:33.076Z"
   }
  ],
  "kernelspec": {
   "display_name": "Python 3 (ipykernel)",
   "language": "python",
   "name": "python3"
  },
  "language_info": {
   "codemirror_mode": {
    "name": "ipython",
    "version": 3
   },
   "file_extension": ".py",
   "mimetype": "text/x-python",
   "name": "python",
   "nbconvert_exporter": "python",
   "pygments_lexer": "ipython3",
   "version": "3.9.5"
  },
  "toc": {
   "base_numbering": 1,
   "nav_menu": {
    "height": "464.833px",
    "width": "784.367px"
   },
   "number_sections": true,
   "sideBar": true,
   "skip_h1_title": true,
   "title_cell": "Table of Contents",
   "title_sidebar": "Contents",
   "toc_cell": false,
   "toc_position": {},
   "toc_section_display": true,
   "toc_window_display": true
  }
 },
 "nbformat": 4,
 "nbformat_minor": 2
}
