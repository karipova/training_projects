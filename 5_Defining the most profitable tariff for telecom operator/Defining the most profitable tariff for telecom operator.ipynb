{
 "cells": [
  {
   "cell_type": "markdown",
   "metadata": {},
   "source": [
    "# Defining the most profitable tariff plan for telecom operator\n"
   ]
  },
  {
   "cell_type": "markdown",
   "metadata": {},
   "source": [
    "## Data upload"
   ]
  },
  {
   "cell_type": "code",
   "execution_count": 1,
   "metadata": {},
   "outputs": [],
   "source": [
    "import pandas as pd\n",
    "import matplotlib.pyplot as plt\n",
    "import numpy as np\n",
    "import seaborn as sns\n",
    "from scipy import stats as st\n",
    "\n",
    "df_calls=pd.read_csv('/datasets/calls.csv')\n",
    "df_internet=pd.read_csv('/datasets/internet.csv')\n",
    "df_messages=pd.read_csv('/datasets/messages.csv')\n",
    "df_tariffs=pd.read_csv('/datasets/tariffs.csv')\n",
    "df_users=pd.read_csv('/datasets/users.csv')"
   ]
  },
  {
   "cell_type": "code",
   "execution_count": 2,
   "metadata": {},
   "outputs": [
    {
     "data": {
      "text/html": [
       "<div>\n",
       "<style scoped>\n",
       "    .dataframe tbody tr th:only-of-type {\n",
       "        vertical-align: middle;\n",
       "    }\n",
       "\n",
       "    .dataframe tbody tr th {\n",
       "        vertical-align: top;\n",
       "    }\n",
       "\n",
       "    .dataframe thead th {\n",
       "        text-align: right;\n",
       "    }\n",
       "</style>\n",
       "<table border=\"1\" class=\"dataframe\">\n",
       "  <thead>\n",
       "    <tr style=\"text-align: right;\">\n",
       "      <th></th>\n",
       "      <th>id</th>\n",
       "      <th>call_date</th>\n",
       "      <th>duration</th>\n",
       "      <th>user_id</th>\n",
       "    </tr>\n",
       "  </thead>\n",
       "  <tbody>\n",
       "    <tr>\n",
       "      <th>62877</th>\n",
       "      <td>1158_435</td>\n",
       "      <td>2018-09-22</td>\n",
       "      <td>0.00</td>\n",
       "      <td>1158</td>\n",
       "    </tr>\n",
       "    <tr>\n",
       "      <th>172170</th>\n",
       "      <td>1425_782</td>\n",
       "      <td>2018-04-12</td>\n",
       "      <td>7.76</td>\n",
       "      <td>1425</td>\n",
       "    </tr>\n",
       "    <tr>\n",
       "      <th>196447</th>\n",
       "      <td>1481_254</td>\n",
       "      <td>2018-05-26</td>\n",
       "      <td>14.94</td>\n",
       "      <td>1481</td>\n",
       "    </tr>\n",
       "    <tr>\n",
       "      <th>154165</th>\n",
       "      <td>1381_1040</td>\n",
       "      <td>2018-02-12</td>\n",
       "      <td>16.52</td>\n",
       "      <td>1381</td>\n",
       "    </tr>\n",
       "    <tr>\n",
       "      <th>70710</th>\n",
       "      <td>1176_490</td>\n",
       "      <td>2018-03-28</td>\n",
       "      <td>2.07</td>\n",
       "      <td>1176</td>\n",
       "    </tr>\n",
       "  </tbody>\n",
       "</table>\n",
       "</div>"
      ],
      "text/plain": [
       "               id   call_date  duration  user_id\n",
       "62877    1158_435  2018-09-22      0.00     1158\n",
       "172170   1425_782  2018-04-12      7.76     1425\n",
       "196447   1481_254  2018-05-26     14.94     1481\n",
       "154165  1381_1040  2018-02-12     16.52     1381\n",
       "70710    1176_490  2018-03-28      2.07     1176"
      ]
     },
     "execution_count": 2,
     "metadata": {},
     "output_type": "execute_result"
    }
   ],
   "source": [
    "df_calls.sample(5)"
   ]
  },
  {
   "cell_type": "code",
   "execution_count": 3,
   "metadata": {},
   "outputs": [
    {
     "name": "stdout",
     "output_type": "stream",
     "text": [
      "<class 'pandas.core.frame.DataFrame'>\n",
      "RangeIndex: 202607 entries, 0 to 202606\n",
      "Data columns (total 4 columns):\n",
      " #   Column     Non-Null Count   Dtype  \n",
      "---  ------     --------------   -----  \n",
      " 0   id         202607 non-null  object \n",
      " 1   call_date  202607 non-null  object \n",
      " 2   duration   202607 non-null  float64\n",
      " 3   user_id    202607 non-null  int64  \n",
      "dtypes: float64(1), int64(1), object(2)\n",
      "memory usage: 6.2+ MB\n"
     ]
    }
   ],
   "source": [
    "df_calls.info()"
   ]
  },
  {
   "cell_type": "code",
   "execution_count": 4,
   "metadata": {},
   "outputs": [
    {
     "data": {
      "text/html": [
       "<div>\n",
       "<style scoped>\n",
       "    .dataframe tbody tr th:only-of-type {\n",
       "        vertical-align: middle;\n",
       "    }\n",
       "\n",
       "    .dataframe tbody tr th {\n",
       "        vertical-align: top;\n",
       "    }\n",
       "\n",
       "    .dataframe thead th {\n",
       "        text-align: right;\n",
       "    }\n",
       "</style>\n",
       "<table border=\"1\" class=\"dataframe\">\n",
       "  <thead>\n",
       "    <tr style=\"text-align: right;\">\n",
       "      <th></th>\n",
       "      <th>Unnamed: 0</th>\n",
       "      <th>id</th>\n",
       "      <th>mb_used</th>\n",
       "      <th>session_date</th>\n",
       "      <th>user_id</th>\n",
       "    </tr>\n",
       "  </thead>\n",
       "  <tbody>\n",
       "    <tr>\n",
       "      <th>142602</th>\n",
       "      <td>142602</td>\n",
       "      <td>1477_499</td>\n",
       "      <td>332.55</td>\n",
       "      <td>2018-12-30</td>\n",
       "      <td>1477</td>\n",
       "    </tr>\n",
       "    <tr>\n",
       "      <th>65361</th>\n",
       "      <td>65361</td>\n",
       "      <td>1224_7</td>\n",
       "      <td>518.69</td>\n",
       "      <td>2018-05-13</td>\n",
       "      <td>1224</td>\n",
       "    </tr>\n",
       "    <tr>\n",
       "      <th>117196</th>\n",
       "      <td>117196</td>\n",
       "      <td>1394_154</td>\n",
       "      <td>0.00</td>\n",
       "      <td>2018-09-15</td>\n",
       "      <td>1394</td>\n",
       "    </tr>\n",
       "    <tr>\n",
       "      <th>139650</th>\n",
       "      <td>139650</td>\n",
       "      <td>1469_38</td>\n",
       "      <td>872.76</td>\n",
       "      <td>2018-11-27</td>\n",
       "      <td>1469</td>\n",
       "    </tr>\n",
       "    <tr>\n",
       "      <th>149330</th>\n",
       "      <td>149330</td>\n",
       "      <td>1499_91</td>\n",
       "      <td>640.11</td>\n",
       "      <td>2018-10-09</td>\n",
       "      <td>1499</td>\n",
       "    </tr>\n",
       "  </tbody>\n",
       "</table>\n",
       "</div>"
      ],
      "text/plain": [
       "        Unnamed: 0        id  mb_used session_date  user_id\n",
       "142602      142602  1477_499   332.55   2018-12-30     1477\n",
       "65361        65361    1224_7   518.69   2018-05-13     1224\n",
       "117196      117196  1394_154     0.00   2018-09-15     1394\n",
       "139650      139650   1469_38   872.76   2018-11-27     1469\n",
       "149330      149330   1499_91   640.11   2018-10-09     1499"
      ]
     },
     "execution_count": 4,
     "metadata": {},
     "output_type": "execute_result"
    }
   ],
   "source": [
    "df_internet.sample(5)"
   ]
  },
  {
   "cell_type": "code",
   "execution_count": 5,
   "metadata": {},
   "outputs": [
    {
     "name": "stdout",
     "output_type": "stream",
     "text": [
      "<class 'pandas.core.frame.DataFrame'>\n",
      "RangeIndex: 149396 entries, 0 to 149395\n",
      "Data columns (total 5 columns):\n",
      " #   Column        Non-Null Count   Dtype  \n",
      "---  ------        --------------   -----  \n",
      " 0   Unnamed: 0    149396 non-null  int64  \n",
      " 1   id            149396 non-null  object \n",
      " 2   mb_used       149396 non-null  float64\n",
      " 3   session_date  149396 non-null  object \n",
      " 4   user_id       149396 non-null  int64  \n",
      "dtypes: float64(1), int64(2), object(2)\n",
      "memory usage: 5.7+ MB\n"
     ]
    }
   ],
   "source": [
    "df_internet.info()"
   ]
  },
  {
   "cell_type": "code",
   "execution_count": 6,
   "metadata": {},
   "outputs": [
    {
     "data": {
      "text/html": [
       "<div>\n",
       "<style scoped>\n",
       "    .dataframe tbody tr th:only-of-type {\n",
       "        vertical-align: middle;\n",
       "    }\n",
       "\n",
       "    .dataframe tbody tr th {\n",
       "        vertical-align: top;\n",
       "    }\n",
       "\n",
       "    .dataframe thead th {\n",
       "        text-align: right;\n",
       "    }\n",
       "</style>\n",
       "<table border=\"1\" class=\"dataframe\">\n",
       "  <thead>\n",
       "    <tr style=\"text-align: right;\">\n",
       "      <th></th>\n",
       "      <th>id</th>\n",
       "      <th>message_date</th>\n",
       "      <th>user_id</th>\n",
       "    </tr>\n",
       "  </thead>\n",
       "  <tbody>\n",
       "    <tr>\n",
       "      <th>93206</th>\n",
       "      <td>1382_667</td>\n",
       "      <td>2018-06-22</td>\n",
       "      <td>1382</td>\n",
       "    </tr>\n",
       "    <tr>\n",
       "      <th>26235</th>\n",
       "      <td>1110_100</td>\n",
       "      <td>2018-05-19</td>\n",
       "      <td>1110</td>\n",
       "    </tr>\n",
       "    <tr>\n",
       "      <th>87527</th>\n",
       "      <td>1364_261</td>\n",
       "      <td>2018-11-02</td>\n",
       "      <td>1364</td>\n",
       "    </tr>\n",
       "    <tr>\n",
       "      <th>3722</th>\n",
       "      <td>1014_339</td>\n",
       "      <td>2018-11-27</td>\n",
       "      <td>1014</td>\n",
       "    </tr>\n",
       "    <tr>\n",
       "      <th>98845</th>\n",
       "      <td>1403_369</td>\n",
       "      <td>2018-06-22</td>\n",
       "      <td>1403</td>\n",
       "    </tr>\n",
       "  </tbody>\n",
       "</table>\n",
       "</div>"
      ],
      "text/plain": [
       "             id message_date  user_id\n",
       "93206  1382_667   2018-06-22     1382\n",
       "26235  1110_100   2018-05-19     1110\n",
       "87527  1364_261   2018-11-02     1364\n",
       "3722   1014_339   2018-11-27     1014\n",
       "98845  1403_369   2018-06-22     1403"
      ]
     },
     "execution_count": 6,
     "metadata": {},
     "output_type": "execute_result"
    }
   ],
   "source": [
    "df_messages.sample(5)"
   ]
  },
  {
   "cell_type": "code",
   "execution_count": 7,
   "metadata": {},
   "outputs": [
    {
     "name": "stdout",
     "output_type": "stream",
     "text": [
      "<class 'pandas.core.frame.DataFrame'>\n",
      "RangeIndex: 123036 entries, 0 to 123035\n",
      "Data columns (total 3 columns):\n",
      " #   Column        Non-Null Count   Dtype \n",
      "---  ------        --------------   ----- \n",
      " 0   id            123036 non-null  object\n",
      " 1   message_date  123036 non-null  object\n",
      " 2   user_id       123036 non-null  int64 \n",
      "dtypes: int64(1), object(2)\n",
      "memory usage: 2.8+ MB\n"
     ]
    }
   ],
   "source": [
    "df_messages.info()"
   ]
  },
  {
   "cell_type": "code",
   "execution_count": 8,
   "metadata": {},
   "outputs": [
    {
     "data": {
      "text/html": [
       "<div>\n",
       "<style scoped>\n",
       "    .dataframe tbody tr th:only-of-type {\n",
       "        vertical-align: middle;\n",
       "    }\n",
       "\n",
       "    .dataframe tbody tr th {\n",
       "        vertical-align: top;\n",
       "    }\n",
       "\n",
       "    .dataframe thead th {\n",
       "        text-align: right;\n",
       "    }\n",
       "</style>\n",
       "<table border=\"1\" class=\"dataframe\">\n",
       "  <thead>\n",
       "    <tr style=\"text-align: right;\">\n",
       "      <th></th>\n",
       "      <th>messages_included</th>\n",
       "      <th>mb_per_month_included</th>\n",
       "      <th>minutes_included</th>\n",
       "      <th>rub_monthly_fee</th>\n",
       "      <th>rub_per_gb</th>\n",
       "      <th>rub_per_message</th>\n",
       "      <th>rub_per_minute</th>\n",
       "      <th>tariff_name</th>\n",
       "    </tr>\n",
       "  </thead>\n",
       "  <tbody>\n",
       "    <tr>\n",
       "      <th>0</th>\n",
       "      <td>50</td>\n",
       "      <td>15360</td>\n",
       "      <td>500</td>\n",
       "      <td>550</td>\n",
       "      <td>200</td>\n",
       "      <td>3</td>\n",
       "      <td>3</td>\n",
       "      <td>smart</td>\n",
       "    </tr>\n",
       "    <tr>\n",
       "      <th>1</th>\n",
       "      <td>1000</td>\n",
       "      <td>30720</td>\n",
       "      <td>3000</td>\n",
       "      <td>1950</td>\n",
       "      <td>150</td>\n",
       "      <td>1</td>\n",
       "      <td>1</td>\n",
       "      <td>ultra</td>\n",
       "    </tr>\n",
       "  </tbody>\n",
       "</table>\n",
       "</div>"
      ],
      "text/plain": [
       "   messages_included  mb_per_month_included  minutes_included  \\\n",
       "0                 50                  15360               500   \n",
       "1               1000                  30720              3000   \n",
       "\n",
       "   rub_monthly_fee  rub_per_gb  rub_per_message  rub_per_minute tariff_name  \n",
       "0              550         200                3               3       smart  \n",
       "1             1950         150                1               1       ultra  "
      ]
     },
     "execution_count": 8,
     "metadata": {},
     "output_type": "execute_result"
    }
   ],
   "source": [
    "df_tariffs"
   ]
  },
  {
   "cell_type": "code",
   "execution_count": 9,
   "metadata": {},
   "outputs": [
    {
     "name": "stdout",
     "output_type": "stream",
     "text": [
      "<class 'pandas.core.frame.DataFrame'>\n",
      "RangeIndex: 2 entries, 0 to 1\n",
      "Data columns (total 8 columns):\n",
      " #   Column                 Non-Null Count  Dtype \n",
      "---  ------                 --------------  ----- \n",
      " 0   messages_included      2 non-null      int64 \n",
      " 1   mb_per_month_included  2 non-null      int64 \n",
      " 2   minutes_included       2 non-null      int64 \n",
      " 3   rub_monthly_fee        2 non-null      int64 \n",
      " 4   rub_per_gb             2 non-null      int64 \n",
      " 5   rub_per_message        2 non-null      int64 \n",
      " 6   rub_per_minute         2 non-null      int64 \n",
      " 7   tariff_name            2 non-null      object\n",
      "dtypes: int64(7), object(1)\n",
      "memory usage: 256.0+ bytes\n"
     ]
    }
   ],
   "source": [
    "df_tariffs.info()"
   ]
  },
  {
   "cell_type": "code",
   "execution_count": 10,
   "metadata": {},
   "outputs": [
    {
     "data": {
      "text/html": [
       "<div>\n",
       "<style scoped>\n",
       "    .dataframe tbody tr th:only-of-type {\n",
       "        vertical-align: middle;\n",
       "    }\n",
       "\n",
       "    .dataframe tbody tr th {\n",
       "        vertical-align: top;\n",
       "    }\n",
       "\n",
       "    .dataframe thead th {\n",
       "        text-align: right;\n",
       "    }\n",
       "</style>\n",
       "<table border=\"1\" class=\"dataframe\">\n",
       "  <thead>\n",
       "    <tr style=\"text-align: right;\">\n",
       "      <th></th>\n",
       "      <th>user_id</th>\n",
       "      <th>age</th>\n",
       "      <th>churn_date</th>\n",
       "      <th>city</th>\n",
       "      <th>first_name</th>\n",
       "      <th>last_name</th>\n",
       "      <th>reg_date</th>\n",
       "      <th>tariff</th>\n",
       "    </tr>\n",
       "  </thead>\n",
       "  <tbody>\n",
       "    <tr>\n",
       "      <th>237</th>\n",
       "      <td>1237</td>\n",
       "      <td>43</td>\n",
       "      <td>NaN</td>\n",
       "      <td>Москва</td>\n",
       "      <td>Алина</td>\n",
       "      <td>Кошелева</td>\n",
       "      <td>2018-11-04</td>\n",
       "      <td>smart</td>\n",
       "    </tr>\n",
       "    <tr>\n",
       "      <th>464</th>\n",
       "      <td>1464</td>\n",
       "      <td>44</td>\n",
       "      <td>NaN</td>\n",
       "      <td>Саранск</td>\n",
       "      <td>Антонина</td>\n",
       "      <td>Авросинова</td>\n",
       "      <td>2018-02-17</td>\n",
       "      <td>smart</td>\n",
       "    </tr>\n",
       "    <tr>\n",
       "      <th>472</th>\n",
       "      <td>1472</td>\n",
       "      <td>53</td>\n",
       "      <td>NaN</td>\n",
       "      <td>Ярославль</td>\n",
       "      <td>Наида</td>\n",
       "      <td>Боброва</td>\n",
       "      <td>2018-01-18</td>\n",
       "      <td>smart</td>\n",
       "    </tr>\n",
       "    <tr>\n",
       "      <th>443</th>\n",
       "      <td>1443</td>\n",
       "      <td>21</td>\n",
       "      <td>NaN</td>\n",
       "      <td>Казань</td>\n",
       "      <td>Иван</td>\n",
       "      <td>Афинин</td>\n",
       "      <td>2018-09-17</td>\n",
       "      <td>smart</td>\n",
       "    </tr>\n",
       "    <tr>\n",
       "      <th>385</th>\n",
       "      <td>1385</td>\n",
       "      <td>26</td>\n",
       "      <td>NaN</td>\n",
       "      <td>Москва</td>\n",
       "      <td>Алиса</td>\n",
       "      <td>Дубинина</td>\n",
       "      <td>2018-01-13</td>\n",
       "      <td>ultra</td>\n",
       "    </tr>\n",
       "  </tbody>\n",
       "</table>\n",
       "</div>"
      ],
      "text/plain": [
       "     user_id  age churn_date       city first_name   last_name    reg_date  \\\n",
       "237     1237   43        NaN     Москва      Алина    Кошелева  2018-11-04   \n",
       "464     1464   44        NaN    Саранск   Антонина  Авросинова  2018-02-17   \n",
       "472     1472   53        NaN  Ярославль      Наида     Боброва  2018-01-18   \n",
       "443     1443   21        NaN     Казань       Иван      Афинин  2018-09-17   \n",
       "385     1385   26        NaN     Москва      Алиса    Дубинина  2018-01-13   \n",
       "\n",
       "    tariff  \n",
       "237  smart  \n",
       "464  smart  \n",
       "472  smart  \n",
       "443  smart  \n",
       "385  ultra  "
      ]
     },
     "execution_count": 10,
     "metadata": {},
     "output_type": "execute_result"
    }
   ],
   "source": [
    "df_users.sample(5)"
   ]
  },
  {
   "cell_type": "code",
   "execution_count": 11,
   "metadata": {},
   "outputs": [
    {
     "name": "stdout",
     "output_type": "stream",
     "text": [
      "<class 'pandas.core.frame.DataFrame'>\n",
      "RangeIndex: 500 entries, 0 to 499\n",
      "Data columns (total 8 columns):\n",
      " #   Column      Non-Null Count  Dtype \n",
      "---  ------      --------------  ----- \n",
      " 0   user_id     500 non-null    int64 \n",
      " 1   age         500 non-null    int64 \n",
      " 2   churn_date  38 non-null     object\n",
      " 3   city        500 non-null    object\n",
      " 4   first_name  500 non-null    object\n",
      " 5   last_name   500 non-null    object\n",
      " 6   reg_date    500 non-null    object\n",
      " 7   tariff      500 non-null    object\n",
      "dtypes: int64(2), object(6)\n",
      "memory usage: 31.4+ KB\n"
     ]
    }
   ],
   "source": [
    "df_users.info()"
   ]
  },
  {
   "cell_type": "code",
   "execution_count": 12,
   "metadata": {},
   "outputs": [
    {
     "data": {
      "text/plain": [
       "user_id         0\n",
       "age             0\n",
       "churn_date    462\n",
       "city            0\n",
       "first_name      0\n",
       "last_name       0\n",
       "reg_date        0\n",
       "tariff          0\n",
       "dtype: int64"
      ]
     },
     "execution_count": 12,
     "metadata": {},
     "output_type": "execute_result"
    }
   ],
   "source": [
    "df_users.isnull().sum()"
   ]
  },
  {
   "cell_type": "code",
   "execution_count": 13,
   "metadata": {},
   "outputs": [
    {
     "data": {
      "text/plain": [
       "Москва              99\n",
       "Санкт-Петербург     39\n",
       "Новосибирск         16\n",
       "Казань              14\n",
       "Омск                14\n",
       "Уфа                 12\n",
       "Ульяновск           11\n",
       "Краснодар           11\n",
       "Набережные Челны    11\n",
       "Екатеринбург        11\n",
       "Name: city, dtype: int64"
      ]
     },
     "metadata": {},
     "output_type": "display_data"
    }
   ],
   "source": [
    "display(df_users['city'].value_counts().head(10))\n",
    "#choose 10 cities with the largest number of users"
   ]
  },
  {
   "cell_type": "markdown",
   "metadata": {},
   "source": [
    "Most of the users are from Moscow (\"Москва\") - a fifth of the data. Then St. Petersburg (\"Санкт-Петербург\") and other regional centers go by a large margin."
   ]
  },
  {
   "cell_type": "code",
   "execution_count": 14,
   "metadata": {},
   "outputs": [
    {
     "data": {
      "text/plain": [
       "0"
      ]
     },
     "execution_count": 14,
     "metadata": {},
     "output_type": "execute_result"
    }
   ],
   "source": [
    "df_users.duplicated().sum()"
   ]
  },
  {
   "cell_type": "markdown",
   "metadata": {},
   "source": [
    "### Conclusion"
   ]
  },
  {
   "cell_type": "markdown",
   "metadata": {},
   "source": [
    "The data is obtained from several sources, probably they will have to be combined by the user_id identifier. The call number is formed as \"user ID+ call number\". There are missed values in the churn_rate column in the \"users\" upload, which means that the tariff was still valid at the time of data withdrawal. In all tables, columns with dates have the object data type, in order to be able to work with them in the future, you will need to convert these columns to the datetime64 data type."
   ]
  },
  {
   "cell_type": "markdown",
   "metadata": {},
   "source": [
    "## Data preprocessing"
   ]
  },
  {
   "cell_type": "markdown",
   "metadata": {},
   "source": [
    "Let's transform the dataframes to \"user - month - sum_duration\" view and combine them by \"user_id\"."
   ]
  },
  {
   "cell_type": "markdown",
   "metadata": {},
   "source": [
    "### Changing data types"
   ]
  },
  {
   "cell_type": "code",
   "execution_count": 15,
   "metadata": {},
   "outputs": [],
   "source": [
    "for df in [df_calls, df_internet, df_messages, df_users]:\n",
    "    for column in df:\n",
    "        if 'date' in column:\n",
    "            df[column] = pd.to_datetime(df[column], yearfirst=True)"
   ]
  },
  {
   "cell_type": "code",
   "execution_count": 16,
   "metadata": {},
   "outputs": [],
   "source": [
    "for df in [df_calls, df_internet, df_messages]:\n",
    "    for column in df:\n",
    "        if 'date' in column:\n",
    "            df['month'] = pd.DatetimeIndex(df[column]).month"
   ]
  },
  {
   "cell_type": "markdown",
   "metadata": {},
   "source": [
    "The terms of the project say: each call is rounded separately: even if it lasted only 1 second, it will be counted as 1 minute. Let's make the necessary rounding inside the df_calls dataframe before summing up the duration of calls by users in the context of months."
   ]
  },
  {
   "cell_type": "code",
   "execution_count": 17,
   "metadata": {},
   "outputs": [],
   "source": [
    "df_calls['duration'] = np.ceil(df_calls['duration'])"
   ]
  },
  {
   "cell_type": "code",
   "execution_count": 18,
   "metadata": {},
   "outputs": [
    {
     "data": {
      "text/html": [
       "<div>\n",
       "<style scoped>\n",
       "    .dataframe tbody tr th:only-of-type {\n",
       "        vertical-align: middle;\n",
       "    }\n",
       "\n",
       "    .dataframe tbody tr th {\n",
       "        vertical-align: top;\n",
       "    }\n",
       "\n",
       "    .dataframe thead th {\n",
       "        text-align: right;\n",
       "    }\n",
       "</style>\n",
       "<table border=\"1\" class=\"dataframe\">\n",
       "  <thead>\n",
       "    <tr style=\"text-align: right;\">\n",
       "      <th></th>\n",
       "      <th>id</th>\n",
       "      <th>call_date</th>\n",
       "      <th>duration</th>\n",
       "      <th>user_id</th>\n",
       "      <th>month</th>\n",
       "    </tr>\n",
       "  </thead>\n",
       "  <tbody>\n",
       "    <tr>\n",
       "      <th>0</th>\n",
       "      <td>1000_0</td>\n",
       "      <td>2018-07-25</td>\n",
       "      <td>0.0</td>\n",
       "      <td>1000</td>\n",
       "      <td>7</td>\n",
       "    </tr>\n",
       "    <tr>\n",
       "      <th>1</th>\n",
       "      <td>1000_1</td>\n",
       "      <td>2018-08-17</td>\n",
       "      <td>0.0</td>\n",
       "      <td>1000</td>\n",
       "      <td>8</td>\n",
       "    </tr>\n",
       "    <tr>\n",
       "      <th>2</th>\n",
       "      <td>1000_2</td>\n",
       "      <td>2018-06-11</td>\n",
       "      <td>3.0</td>\n",
       "      <td>1000</td>\n",
       "      <td>6</td>\n",
       "    </tr>\n",
       "    <tr>\n",
       "      <th>3</th>\n",
       "      <td>1000_3</td>\n",
       "      <td>2018-09-21</td>\n",
       "      <td>14.0</td>\n",
       "      <td>1000</td>\n",
       "      <td>9</td>\n",
       "    </tr>\n",
       "    <tr>\n",
       "      <th>4</th>\n",
       "      <td>1000_4</td>\n",
       "      <td>2018-12-15</td>\n",
       "      <td>6.0</td>\n",
       "      <td>1000</td>\n",
       "      <td>12</td>\n",
       "    </tr>\n",
       "  </tbody>\n",
       "</table>\n",
       "</div>"
      ],
      "text/plain": [
       "       id  call_date  duration  user_id  month\n",
       "0  1000_0 2018-07-25       0.0     1000      7\n",
       "1  1000_1 2018-08-17       0.0     1000      8\n",
       "2  1000_2 2018-06-11       3.0     1000      6\n",
       "3  1000_3 2018-09-21      14.0     1000      9\n",
       "4  1000_4 2018-12-15       6.0     1000     12"
      ]
     },
     "execution_count": 18,
     "metadata": {},
     "output_type": "execute_result"
    }
   ],
   "source": [
    "df_calls.head(5)"
   ]
  },
  {
   "cell_type": "code",
   "execution_count": 19,
   "metadata": {},
   "outputs": [],
   "source": [
    "df_calls_new=df_calls.groupby(['user_id','month']).agg(sum_duration=('duration','sum')).reset_index()\n",
    "df_internet_new=df_internet.groupby(['user_id','month']).agg(sum_mb_used=('mb_used','sum')).reset_index()\n",
    "df_messages_new=df_messages.groupby(['user_id','month']).agg(sms=('id','count')).reset_index()\n",
    "\n",
    "#calculate the duration of calls, the amount of Internet and SMS in each month for each user"
   ]
  },
  {
   "cell_type": "code",
   "execution_count": 20,
   "metadata": {},
   "outputs": [],
   "source": [
    "df_tariffs = df_tariffs.rename(columns={'tariff_name':'tariff'}) \n",
    "\n",
    "df_alldata = (((df_calls_new.merge(df_internet_new, how='outer', on=['user_id', 'month'])).merge(df_messages_new, how='outer', on=['user_id', 'month'])).merge(df_users, how='outer', on=['user_id'])).merge(df_tariffs, how='outer', on=['tariff'])\n"
   ]
  },
  {
   "cell_type": "markdown",
   "metadata": {},
   "source": [
    "The terms of the project say: for web traffic, individual sessions are not considered. Instead, the total amount for the month is rounded up. If a subscriber uses 1025 megabytes this month, they will be charged for 2 gigabytes (2000 megabytes). We will translate the data on the use of Internet traffic into gigabytes, and make the necessary rounding."
   ]
  },
  {
   "cell_type": "code",
   "execution_count": 21,
   "metadata": {},
   "outputs": [],
   "source": [
    "def roundmb(mb):\n",
    "    gb = np.ceil(mb/1000)\n",
    "    return gb\n",
    "\n",
    "df_alldata['sum_gb_used'] = df_alldata['sum_mb_used'].apply(roundmb)"
   ]
  },
  {
   "cell_type": "code",
   "execution_count": 22,
   "metadata": {},
   "outputs": [
    {
     "name": "stdout",
     "output_type": "stream",
     "text": [
      "<class 'pandas.core.frame.DataFrame'>\n",
      "Int64Index: 3216 entries, 0 to 3215\n",
      "Data columns (total 20 columns):\n",
      " #   Column                 Non-Null Count  Dtype         \n",
      "---  ------                 --------------  -----         \n",
      " 0   user_id                3216 non-null   int64         \n",
      " 1   month                  3214 non-null   float64       \n",
      " 2   sum_duration           3174 non-null   float64       \n",
      " 3   sum_mb_used            3203 non-null   float64       \n",
      " 4   sms                    2717 non-null   float64       \n",
      " 5   age                    3216 non-null   int64         \n",
      " 6   churn_date             189 non-null    datetime64[ns]\n",
      " 7   city                   3216 non-null   object        \n",
      " 8   first_name             3216 non-null   object        \n",
      " 9   last_name              3216 non-null   object        \n",
      " 10  reg_date               3216 non-null   datetime64[ns]\n",
      " 11  tariff                 3216 non-null   object        \n",
      " 12  messages_included      3216 non-null   int64         \n",
      " 13  mb_per_month_included  3216 non-null   int64         \n",
      " 14  minutes_included       3216 non-null   int64         \n",
      " 15  rub_monthly_fee        3216 non-null   int64         \n",
      " 16  rub_per_gb             3216 non-null   int64         \n",
      " 17  rub_per_message        3216 non-null   int64         \n",
      " 18  rub_per_minute         3216 non-null   int64         \n",
      " 19  sum_gb_used            3203 non-null   float64       \n",
      "dtypes: datetime64[ns](2), float64(5), int64(9), object(4)\n",
      "memory usage: 527.6+ KB\n"
     ]
    }
   ],
   "source": [
    "df_alldata.info()"
   ]
  },
  {
   "cell_type": "markdown",
   "metadata": {},
   "source": [
    "### Filling the missed values"
   ]
  },
  {
   "cell_type": "code",
   "execution_count": 23,
   "metadata": {},
   "outputs": [
    {
     "data": {
      "text/plain": [
       "user_id                     0\n",
       "month                       2\n",
       "sum_duration               42\n",
       "sum_mb_used                13\n",
       "sms                       499\n",
       "age                         0\n",
       "churn_date               3027\n",
       "city                        0\n",
       "first_name                  0\n",
       "last_name                   0\n",
       "reg_date                    0\n",
       "tariff                      0\n",
       "messages_included           0\n",
       "mb_per_month_included       0\n",
       "minutes_included            0\n",
       "rub_monthly_fee             0\n",
       "rub_per_gb                  0\n",
       "rub_per_message             0\n",
       "rub_per_minute              0\n",
       "sum_gb_used                13\n",
       "dtype: int64"
      ]
     },
     "execution_count": 23,
     "metadata": {},
     "output_type": "execute_result"
    }
   ],
   "source": [
    "df_alldata.isnull().sum()\n",
    "#look at the number of missing values in the resulting dataset"
   ]
  },
  {
   "cell_type": "markdown",
   "metadata": {},
   "source": [
    "There are missed values in the columns sum_duration, sum_mb_used, smz, sum_gb_used. Assuming that a particular user did not use this type of service in this month, we will replace the omissions with \"0\". Let's move on to calculating the monthly revenue from each user. By convention, omissions in the churn_date column mean that at the time of uploading the data, the client was still a member of the tariff - we will not replace them."
   ]
  },
  {
   "cell_type": "code",
   "execution_count": 24,
   "metadata": {},
   "outputs": [],
   "source": [
    "df_alldata['sum_duration'] = df_alldata['sum_duration'].fillna(0)\n",
    "df_alldata['sum_mb_used'] = df_alldata['sum_mb_used'].fillna(0)\n",
    "df_alldata['sms'] = df_alldata['sms'].fillna(0)\n",
    "df_alldata['sum_gb_used'] = df_alldata['sum_gb_used'].fillna(0)\n",
    "\n",
    "#fill in the missing values with zeros"
   ]
  },
  {
   "cell_type": "markdown",
   "metadata": {},
   "source": [
    "Let's see in which rows the values for the month column are missing."
   ]
  },
  {
   "cell_type": "code",
   "execution_count": 25,
   "metadata": {},
   "outputs": [
    {
     "data": {
      "text/html": [
       "<div>\n",
       "<style scoped>\n",
       "    .dataframe tbody tr th:only-of-type {\n",
       "        vertical-align: middle;\n",
       "    }\n",
       "\n",
       "    .dataframe tbody tr th {\n",
       "        vertical-align: top;\n",
       "    }\n",
       "\n",
       "    .dataframe thead th {\n",
       "        text-align: right;\n",
       "    }\n",
       "</style>\n",
       "<table border=\"1\" class=\"dataframe\">\n",
       "  <thead>\n",
       "    <tr style=\"text-align: right;\">\n",
       "      <th></th>\n",
       "      <th>user_id</th>\n",
       "      <th>month</th>\n",
       "      <th>sum_duration</th>\n",
       "      <th>sum_mb_used</th>\n",
       "      <th>sms</th>\n",
       "      <th>age</th>\n",
       "      <th>churn_date</th>\n",
       "      <th>city</th>\n",
       "      <th>first_name</th>\n",
       "      <th>last_name</th>\n",
       "      <th>reg_date</th>\n",
       "      <th>tariff</th>\n",
       "      <th>messages_included</th>\n",
       "      <th>mb_per_month_included</th>\n",
       "      <th>minutes_included</th>\n",
       "      <th>rub_monthly_fee</th>\n",
       "      <th>rub_per_gb</th>\n",
       "      <th>rub_per_message</th>\n",
       "      <th>rub_per_minute</th>\n",
       "      <th>sum_gb_used</th>\n",
       "    </tr>\n",
       "  </thead>\n",
       "  <tbody>\n",
       "  </tbody>\n",
       "</table>\n",
       "</div>"
      ],
      "text/plain": [
       "Empty DataFrame\n",
       "Columns: [user_id, month, sum_duration, sum_mb_used, sms, age, churn_date, city, first_name, last_name, reg_date, tariff, messages_included, mb_per_month_included, minutes_included, rub_monthly_fee, rub_per_gb, rub_per_message, rub_per_minute, sum_gb_used]\n",
       "Index: []"
      ]
     },
     "execution_count": 25,
     "metadata": {},
     "output_type": "execute_result"
    }
   ],
   "source": [
    "df_alldata.query('month == \"NaN\"')"
   ]
  },
  {
   "cell_type": "markdown",
   "metadata": {},
   "source": [
    "Users came and quite in December. Replace the missing values in the \"Month\" column with 12."
   ]
  },
  {
   "cell_type": "code",
   "execution_count": 26,
   "metadata": {},
   "outputs": [],
   "source": [
    "df_alldata['month'] = df_alldata['month'].fillna(12) "
   ]
  },
  {
   "cell_type": "markdown",
   "metadata": {},
   "source": [
    "### Adding calculated values"
   ]
  },
  {
   "cell_type": "code",
   "execution_count": 27,
   "metadata": {},
   "outputs": [],
   "source": [
    "def extra_minutes(sum_duration, minutes_included):\n",
    "    if sum_duration > minutes_included:\n",
    "        extra_minutes = sum_duration-minutes_included\n",
    "    else:\n",
    "        extra_minutes = 0\n",
    "    return extra_minutes\n",
    "         \n",
    "df_alldata['extra_minutes'] = df_alldata.apply(lambda x: extra_minutes(x['sum_duration'],x['minutes_included']), axis=1)\n",
    "\n",
    "#count the number of minutes in excess of the tariff package and save the received values in the extra_minutes column"
   ]
  },
  {
   "cell_type": "code",
   "execution_count": 28,
   "metadata": {},
   "outputs": [],
   "source": [
    "def extra_messages(messages, messages_included):\n",
    "    if messages > messages_included:\n",
    "        extra_messages = messages-messages_included\n",
    "    else:\n",
    "        extra_messages = 0\n",
    "    return extra_messages\n",
    "         \n",
    "df_alldata['extra_messages'] = df_alldata.apply(lambda x: extra_messages(x['sms'],x['messages_included']), axis=1)\n",
    "\n",
    "#count the number of messages in excess of the tariff package and save the received values in the extra_messages column"
   ]
  },
  {
   "cell_type": "code",
   "execution_count": 29,
   "metadata": {},
   "outputs": [],
   "source": [
    "def extra_gb(sum_gb_used, mb_per_month_included):\n",
    "    if sum_gb_used > np.ceil(mb_per_month_included/1000):\n",
    "        extra_gb = sum_gb_used-np.ceil(mb_per_month_included/1000)\n",
    "    else:\n",
    "        extra_gb = 0\n",
    "    return extra_gb\n",
    "         \n",
    "df_alldata['extra_gb'] = df_alldata.apply(lambda x: extra_gb(x['sum_gb_used'],x['mb_per_month_included']), axis=1)\n",
    "\n",
    "#count the number of gigabytes in excess of the tariff package and save the values obtained in the extra_gb column"
   ]
  },
  {
   "cell_type": "code",
   "execution_count": 30,
   "metadata": {},
   "outputs": [],
   "source": [
    "df_alldata['revenue'] = (df_alldata.rub_monthly_fee+df_alldata.extra_minutes*df_alldata.rub_per_minute+df_alldata.extra_messages*df_alldata.rub_per_message+df_alldata.extra_gb*df_alldata.rub_per_gb)\n",
    "\n",
    "#calculate the revenue per month for each client and save the received values in the revenue column"
   ]
  },
  {
   "cell_type": "code",
   "execution_count": 31,
   "metadata": {},
   "outputs": [
    {
     "data": {
      "text/html": [
       "<div>\n",
       "<style scoped>\n",
       "    .dataframe tbody tr th:only-of-type {\n",
       "        vertical-align: middle;\n",
       "    }\n",
       "\n",
       "    .dataframe tbody tr th {\n",
       "        vertical-align: top;\n",
       "    }\n",
       "\n",
       "    .dataframe thead th {\n",
       "        text-align: right;\n",
       "    }\n",
       "</style>\n",
       "<table border=\"1\" class=\"dataframe\">\n",
       "  <thead>\n",
       "    <tr style=\"text-align: right;\">\n",
       "      <th></th>\n",
       "      <th>user_id</th>\n",
       "      <th>month</th>\n",
       "      <th>sum_duration</th>\n",
       "      <th>sum_mb_used</th>\n",
       "      <th>sms</th>\n",
       "      <th>age</th>\n",
       "      <th>messages_included</th>\n",
       "      <th>mb_per_month_included</th>\n",
       "      <th>minutes_included</th>\n",
       "      <th>rub_monthly_fee</th>\n",
       "      <th>rub_per_gb</th>\n",
       "      <th>rub_per_message</th>\n",
       "      <th>rub_per_minute</th>\n",
       "      <th>sum_gb_used</th>\n",
       "      <th>extra_minutes</th>\n",
       "      <th>extra_messages</th>\n",
       "      <th>extra_gb</th>\n",
       "      <th>revenue</th>\n",
       "    </tr>\n",
       "  </thead>\n",
       "  <tbody>\n",
       "    <tr>\n",
       "      <th>count</th>\n",
       "      <td>3216.000000</td>\n",
       "      <td>3216.000000</td>\n",
       "      <td>3216.000000</td>\n",
       "      <td>3216.000000</td>\n",
       "      <td>3216.000000</td>\n",
       "      <td>3216.000000</td>\n",
       "      <td>3216.000000</td>\n",
       "      <td>3216.000000</td>\n",
       "      <td>3216.000000</td>\n",
       "      <td>3216.000000</td>\n",
       "      <td>3216.000000</td>\n",
       "      <td>3216.000000</td>\n",
       "      <td>3216.000000</td>\n",
       "      <td>3216.000000</td>\n",
       "      <td>3216.000000</td>\n",
       "      <td>3216.000000</td>\n",
       "      <td>3216.000000</td>\n",
       "      <td>3216.000000</td>\n",
       "    </tr>\n",
       "    <tr>\n",
       "      <th>mean</th>\n",
       "      <td>1251.588930</td>\n",
       "      <td>8.319652</td>\n",
       "      <td>450.964241</td>\n",
       "      <td>17196.911608</td>\n",
       "      <td>38.257463</td>\n",
       "      <td>46.643968</td>\n",
       "      <td>341.262438</td>\n",
       "      <td>20069.253731</td>\n",
       "      <td>1266.480100</td>\n",
       "      <td>979.228856</td>\n",
       "      <td>184.670398</td>\n",
       "      <td>2.386816</td>\n",
       "      <td>2.386816</td>\n",
       "      <td>17.686878</td>\n",
       "      <td>28.836754</td>\n",
       "      <td>4.019900</td>\n",
       "      <td>2.085199</td>\n",
       "      <td>1482.913868</td>\n",
       "    </tr>\n",
       "    <tr>\n",
       "      <th>std</th>\n",
       "      <td>144.645928</td>\n",
       "      <td>2.905960</td>\n",
       "      <td>242.096312</td>\n",
       "      <td>7580.754906</td>\n",
       "      <td>36.149684</td>\n",
       "      <td>16.581233</td>\n",
       "      <td>438.092669</td>\n",
       "      <td>7083.266729</td>\n",
       "      <td>1152.875444</td>\n",
       "      <td>645.610249</td>\n",
       "      <td>23.057509</td>\n",
       "      <td>0.922300</td>\n",
       "      <td>0.922300</td>\n",
       "      <td>7.591632</td>\n",
       "      <td>73.057981</td>\n",
       "      <td>11.505773</td>\n",
       "      <td>3.375728</td>\n",
       "      <td>793.967021</td>\n",
       "    </tr>\n",
       "    <tr>\n",
       "      <th>min</th>\n",
       "      <td>1000.000000</td>\n",
       "      <td>1.000000</td>\n",
       "      <td>0.000000</td>\n",
       "      <td>0.000000</td>\n",
       "      <td>0.000000</td>\n",
       "      <td>18.000000</td>\n",
       "      <td>50.000000</td>\n",
       "      <td>15360.000000</td>\n",
       "      <td>500.000000</td>\n",
       "      <td>550.000000</td>\n",
       "      <td>150.000000</td>\n",
       "      <td>1.000000</td>\n",
       "      <td>1.000000</td>\n",
       "      <td>0.000000</td>\n",
       "      <td>0.000000</td>\n",
       "      <td>0.000000</td>\n",
       "      <td>0.000000</td>\n",
       "      <td>550.000000</td>\n",
       "    </tr>\n",
       "    <tr>\n",
       "      <th>25%</th>\n",
       "      <td>1125.000000</td>\n",
       "      <td>6.000000</td>\n",
       "      <td>282.000000</td>\n",
       "      <td>12478.765000</td>\n",
       "      <td>9.000000</td>\n",
       "      <td>32.000000</td>\n",
       "      <td>50.000000</td>\n",
       "      <td>15360.000000</td>\n",
       "      <td>500.000000</td>\n",
       "      <td>550.000000</td>\n",
       "      <td>150.000000</td>\n",
       "      <td>1.000000</td>\n",
       "      <td>1.000000</td>\n",
       "      <td>13.000000</td>\n",
       "      <td>0.000000</td>\n",
       "      <td>0.000000</td>\n",
       "      <td>0.000000</td>\n",
       "      <td>691.000000</td>\n",
       "    </tr>\n",
       "    <tr>\n",
       "      <th>50%</th>\n",
       "      <td>1253.000000</td>\n",
       "      <td>9.000000</td>\n",
       "      <td>443.000000</td>\n",
       "      <td>16937.820000</td>\n",
       "      <td>30.000000</td>\n",
       "      <td>46.000000</td>\n",
       "      <td>50.000000</td>\n",
       "      <td>15360.000000</td>\n",
       "      <td>500.000000</td>\n",
       "      <td>550.000000</td>\n",
       "      <td>200.000000</td>\n",
       "      <td>3.000000</td>\n",
       "      <td>3.000000</td>\n",
       "      <td>17.000000</td>\n",
       "      <td>0.000000</td>\n",
       "      <td>0.000000</td>\n",
       "      <td>0.000000</td>\n",
       "      <td>1550.000000</td>\n",
       "    </tr>\n",
       "    <tr>\n",
       "      <th>75%</th>\n",
       "      <td>1378.250000</td>\n",
       "      <td>11.000000</td>\n",
       "      <td>589.000000</td>\n",
       "      <td>21422.375000</td>\n",
       "      <td>57.000000</td>\n",
       "      <td>62.000000</td>\n",
       "      <td>1000.000000</td>\n",
       "      <td>30720.000000</td>\n",
       "      <td>3000.000000</td>\n",
       "      <td>1950.000000</td>\n",
       "      <td>200.000000</td>\n",
       "      <td>3.000000</td>\n",
       "      <td>3.000000</td>\n",
       "      <td>22.000000</td>\n",
       "      <td>0.000000</td>\n",
       "      <td>0.000000</td>\n",
       "      <td>3.000000</td>\n",
       "      <td>1950.000000</td>\n",
       "    </tr>\n",
       "    <tr>\n",
       "      <th>max</th>\n",
       "      <td>1499.000000</td>\n",
       "      <td>12.000000</td>\n",
       "      <td>1673.000000</td>\n",
       "      <td>49745.690000</td>\n",
       "      <td>224.000000</td>\n",
       "      <td>75.000000</td>\n",
       "      <td>1000.000000</td>\n",
       "      <td>30720.000000</td>\n",
       "      <td>3000.000000</td>\n",
       "      <td>1950.000000</td>\n",
       "      <td>200.000000</td>\n",
       "      <td>3.000000</td>\n",
       "      <td>3.000000</td>\n",
       "      <td>50.000000</td>\n",
       "      <td>935.000000</td>\n",
       "      <td>93.000000</td>\n",
       "      <td>23.000000</td>\n",
       "      <td>6770.000000</td>\n",
       "    </tr>\n",
       "  </tbody>\n",
       "</table>\n",
       "</div>"
      ],
      "text/plain": [
       "           user_id        month  sum_duration   sum_mb_used          sms  \\\n",
       "count  3216.000000  3216.000000   3216.000000   3216.000000  3216.000000   \n",
       "mean   1251.588930     8.319652    450.964241  17196.911608    38.257463   \n",
       "std     144.645928     2.905960    242.096312   7580.754906    36.149684   \n",
       "min    1000.000000     1.000000      0.000000      0.000000     0.000000   \n",
       "25%    1125.000000     6.000000    282.000000  12478.765000     9.000000   \n",
       "50%    1253.000000     9.000000    443.000000  16937.820000    30.000000   \n",
       "75%    1378.250000    11.000000    589.000000  21422.375000    57.000000   \n",
       "max    1499.000000    12.000000   1673.000000  49745.690000   224.000000   \n",
       "\n",
       "               age  messages_included  mb_per_month_included  \\\n",
       "count  3216.000000        3216.000000            3216.000000   \n",
       "mean     46.643968         341.262438           20069.253731   \n",
       "std      16.581233         438.092669            7083.266729   \n",
       "min      18.000000          50.000000           15360.000000   \n",
       "25%      32.000000          50.000000           15360.000000   \n",
       "50%      46.000000          50.000000           15360.000000   \n",
       "75%      62.000000        1000.000000           30720.000000   \n",
       "max      75.000000        1000.000000           30720.000000   \n",
       "\n",
       "       minutes_included  rub_monthly_fee   rub_per_gb  rub_per_message  \\\n",
       "count       3216.000000      3216.000000  3216.000000      3216.000000   \n",
       "mean        1266.480100       979.228856   184.670398         2.386816   \n",
       "std         1152.875444       645.610249    23.057509         0.922300   \n",
       "min          500.000000       550.000000   150.000000         1.000000   \n",
       "25%          500.000000       550.000000   150.000000         1.000000   \n",
       "50%          500.000000       550.000000   200.000000         3.000000   \n",
       "75%         3000.000000      1950.000000   200.000000         3.000000   \n",
       "max         3000.000000      1950.000000   200.000000         3.000000   \n",
       "\n",
       "       rub_per_minute  sum_gb_used  extra_minutes  extra_messages  \\\n",
       "count     3216.000000  3216.000000    3216.000000     3216.000000   \n",
       "mean         2.386816    17.686878      28.836754        4.019900   \n",
       "std          0.922300     7.591632      73.057981       11.505773   \n",
       "min          1.000000     0.000000       0.000000        0.000000   \n",
       "25%          1.000000    13.000000       0.000000        0.000000   \n",
       "50%          3.000000    17.000000       0.000000        0.000000   \n",
       "75%          3.000000    22.000000       0.000000        0.000000   \n",
       "max          3.000000    50.000000     935.000000       93.000000   \n",
       "\n",
       "          extra_gb      revenue  \n",
       "count  3216.000000  3216.000000  \n",
       "mean      2.085199  1482.913868  \n",
       "std       3.375728   793.967021  \n",
       "min       0.000000   550.000000  \n",
       "25%       0.000000   691.000000  \n",
       "50%       0.000000  1550.000000  \n",
       "75%       3.000000  1950.000000  \n",
       "max      23.000000  6770.000000  "
      ]
     },
     "execution_count": 31,
     "metadata": {},
     "output_type": "execute_result"
    }
   ],
   "source": [
    "df_alldata.describe()\n",
    "#look at the characteristics of the final dataframe"
   ]
  },
  {
   "cell_type": "markdown",
   "metadata": {},
   "source": [
    "### Conclusion"
   ]
  },
  {
   "cell_type": "markdown",
   "metadata": {},
   "source": [
    "There are no abnormal values in the final date frame (negative amounts, zero age). We can move on to EDA."
   ]
  },
  {
   "cell_type": "markdown",
   "metadata": {},
   "source": [
    "## Exploratory data analysis"
   ]
  },
  {
   "cell_type": "markdown",
   "metadata": {},
   "source": [
    "### Calls"
   ]
  },
  {
   "cell_type": "code",
   "execution_count": 32,
   "metadata": {},
   "outputs": [
    {
     "data": {
      "image/png": "[encoded data removed]",
      "text/plain": [
       "<Figure size 1152x648 with 1 Axes>"
      ]
     },
     "metadata": {
      "needs_background": "light"
     },
     "output_type": "display_data"
    }
   ],
   "source": [
    "fig = plt.figure(figsize=(16,9))\n",
    "\n",
    "df_alldata_smart=df_alldata.query('tariff==\"smart\"')\n",
    "df_alldata_ultra=df_alldata.query('tariff==\"ultra\"')\n",
    "\n",
    "df_alldata_smart['sum_duration'].plot(kind='hist', alpha=0.9, label='smart', bins=150, grid=True)\n",
    "df_alldata_ultra['sum_duration'].plot(kind='hist',color='pink', alpha=0.5, label='ultra', bins=150, grid=True)\n",
    "\n",
    "plt.title('Histogram of the duration of calls on tariff plans')\n",
    "plt.ylabel('Frequency')\n",
    "plt.xlabel('Duration of calls per month, minutes')\n",
    "plt.legend() \n",
    "plt.show()\n",
    "\n",
    "#build histograms of the distribution of the duration of calls for both tariffs"
   ]
  },
  {
   "cell_type": "markdown",
   "metadata": {},
   "source": [
    "The distribution among the users of the \"Smart\" tariff has a close to normal, symmetrical appearance, for the users of the \"Ultra\" tariff - a shift to the left, to lower values."
   ]
  },
  {
   "cell_type": "code",
   "execution_count": 33,
   "metadata": {},
   "outputs": [
    {
     "data": {
      "text/plain": [
       "count    2230.000000\n",
       "mean      417.747534\n",
       "std       190.476754\n",
       "min         0.000000\n",
       "25%       282.000000\n",
       "50%       421.500000\n",
       "75%       545.000000\n",
       "max      1435.000000\n",
       "Name: sum_duration, dtype: float64"
      ]
     },
     "execution_count": 33,
     "metadata": {},
     "output_type": "execute_result"
    }
   ],
   "source": [
    "df_alldata_smart['sum_duration'].describe()\n",
    "#study descriptive statistics for users of the Smart tariff"
   ]
  },
  {
   "cell_type": "code",
   "execution_count": 34,
   "metadata": {},
   "outputs": [
    {
     "data": {
      "text/plain": [
       "351"
      ]
     },
     "execution_count": 34,
     "metadata": {},
     "output_type": "execute_result"
    }
   ],
   "source": [
    "len(df_alldata_smart['user_id'].unique())"
   ]
  },
  {
   "cell_type": "code",
   "execution_count": 35,
   "metadata": {},
   "outputs": [
    {
     "data": {
      "text/plain": [
       "count     986.000000\n",
       "mean      526.089249\n",
       "std       317.887549\n",
       "min         0.000000\n",
       "25%       282.500000\n",
       "50%       518.000000\n",
       "75%       751.750000\n",
       "max      1673.000000\n",
       "Name: sum_duration, dtype: float64"
      ]
     },
     "execution_count": 35,
     "metadata": {},
     "output_type": "execute_result"
    }
   ],
   "source": [
    "df_alldata_ultra['sum_duration'].describe()\n",
    "#study descriptive statistics for users of the \"Ultra\" tariff"
   ]
  },
  {
   "cell_type": "code",
   "execution_count": 36,
   "metadata": {},
   "outputs": [
    {
     "data": {
      "text/plain": [
       "149"
      ]
     },
     "execution_count": 36,
     "metadata": {},
     "output_type": "execute_result"
    }
   ],
   "source": [
    "len(df_alldata_ultra['user_id'].unique())"
   ]
  },
  {
   "cell_type": "code",
   "execution_count": 37,
   "metadata": {},
   "outputs": [
    {
     "name": "stdout",
     "output_type": "stream",
     "text": [
      "Variance of call duration, Smart tariff 36281.39383644458\n",
      "Variance of call duration, Ultra tariff 101052.49354928387\n"
     ]
    }
   ],
   "source": [
    "variance_smart = np.var(df_alldata_smart['sum_duration'], ddof=1)\n",
    "print('Variance of call duration, Smart tariff', variance_smart)\n",
    "\n",
    "variance_ultra = np.var(df_alldata_ultra['sum_duration'], ddof=1)\n",
    "print('Variance of call duration, Ultra tariff', variance_ultra)\n",
    "\n",
    "#since we do not have the general population at our disposal, but a part of it, we will specify ddof=1 in the parameters"
   ]
  },
  {
   "cell_type": "markdown",
   "metadata": {},
   "source": [
    "The smart tariff, as a more economical option, is much more popular in the current sample than ultra: 351 unique users versus 149. Considering this, the proportion of users who do not make/practically do not make calls looks about the same for the two tariffs.\n",
    "\n",
    "The average and median call time per month deviates slightly for both tariffs. Users of the \"Ultra\" tariff use on average about 1.3 times more minutes per month than users of the \"Smart\" tariff.\n",
    "\n",
    "The maximum call time per month in the \"Ultra\" tariff is slightly more than half of the minutes included in this package, whereas in the \"Smart\" tariff this indicator is 2.87 times more than the minimum package.\n",
    "\n",
    "The first quartiles for both tariffs are almost the same: 282 and 282.5 minutes. Probably, users who don't talk much on the phone make their choice of tariff depending on the width of the Internet/SMS package."
   ]
  },
  {
   "cell_type": "markdown",
   "metadata": {},
   "source": [
    "### SMS"
   ]
  },
  {
   "cell_type": "code",
   "execution_count": 38,
   "metadata": {},
   "outputs": [
    {
     "data": {
      "image/png": "[encoded data removed]",
      "text/plain": [
       "<Figure size 1152x648 with 1 Axes>"
      ]
     },
     "metadata": {
      "needs_background": "light"
     },
     "output_type": "display_data"
    }
   ],
   "source": [
    "fig = plt.figure(figsize=(16,9))\n",
    "\n",
    "df_alldata_smart['sms'].plot(kind='hist', alpha=0.9, label='smart', bins=50, grid=True)\n",
    "df_alldata_ultra['sms'].plot(kind='hist',color='pink', alpha=0.5, label='ultra', bins=50, grid=True)\n",
    "\n",
    "plt.title('Histogram of the distribution of the number of SMS messages per month by tariff plans')\n",
    "plt.ylabel('Frequency')\n",
    "plt.xlabel('Number of messages sent per month')\n",
    "plt.legend() \n",
    "plt.show()\n",
    "\n",
    "#building histograms of the distribution of the number of SMS sent per month for both tariffs"
   ]
  },
  {
   "cell_type": "markdown",
   "metadata": {},
   "source": [
    "Both distributions have a similar distribution type with the location of most values in the range from 0 to 100. Only a small part of the Ultra tariff users send more than 200 messages per month out of 1000 possible in a package."
   ]
  },
  {
   "cell_type": "code",
   "execution_count": 39,
   "metadata": {},
   "outputs": [
    {
     "data": {
      "text/plain": [
       "count    2230.000000\n",
       "mean       33.369058\n",
       "std        28.230396\n",
       "min         0.000000\n",
       "25%        10.000000\n",
       "50%        28.000000\n",
       "75%        51.000000\n",
       "max       143.000000\n",
       "Name: sms, dtype: float64"
      ]
     },
     "execution_count": 39,
     "metadata": {},
     "output_type": "execute_result"
    }
   ],
   "source": [
    "df_alldata_smart['sms'].describe()\n",
    "#let's study descriptive statistics for users of the Smart tariff"
   ]
  },
  {
   "cell_type": "markdown",
   "metadata": {},
   "source": [
    "The mean and median deviate slightly. The 3rd quartile is greater than the maximum allowable number of messages included in the basic package: in a quarter of cases, users had to purchase additional messages in a particular month. The sample is highly variable."
   ]
  },
  {
   "cell_type": "code",
   "execution_count": 40,
   "metadata": {},
   "outputs": [
    {
     "data": {
      "text/plain": [
       "count    986.000000\n",
       "mean      49.313387\n",
       "std       47.806040\n",
       "min        0.000000\n",
       "25%        6.000000\n",
       "50%       38.000000\n",
       "75%       78.750000\n",
       "max      224.000000\n",
       "Name: sms, dtype: float64"
      ]
     },
     "execution_count": 40,
     "metadata": {},
     "output_type": "execute_result"
    }
   ],
   "source": [
    "df_alldata_ultra['sms'].describe()\n",
    "#let's study descriptive statistics for users of the \"Ultra\" tariff"
   ]
  },
  {
   "cell_type": "markdown",
   "metadata": {},
   "source": [
    "The mean and median differ significantly. None of the users has ever exceeded the maximum allowable number of messages per month under the tariff plan. The sample is highly variable. On average, users of the \"Ultra\" tariff send 48 messages per month, and users of the \"Smart\" tariff - 33, i.e. 45% more."
   ]
  },
  {
   "cell_type": "markdown",
   "metadata": {},
   "source": [
    "### Internet traffic"
   ]
  },
  {
   "cell_type": "code",
   "execution_count": 41,
   "metadata": {},
   "outputs": [
    {
     "data": {
      "image/png": "[encoded data removed]",
      "text/plain": [
       "<Figure size 1152x648 with 1 Axes>"
      ]
     },
     "metadata": {
      "needs_background": "light"
     },
     "output_type": "display_data"
    }
   ],
   "source": [
    "fig = plt.figure(figsize=(16,9))\n",
    "\n",
    "df_alldata_smart['sum_gb_used'].plot(kind='hist', alpha=0.9, label='smart', bins=50, grid=True)\n",
    "df_alldata_ultra['sum_gb_used'].plot(kind='hist',color='pink', alpha=0.5, label='ultra', bins=50, grid=True)\n",
    "\n",
    "plt.title('Histogram of the distribution of the number of GB used for Internet traffic per month according to tariff plans')\n",
    "plt.ylabel('Frequency')\n",
    "plt.xlabel('Number of GB per month')\n",
    "plt.legend() \n",
    "plt.show()\n",
    "\n",
    "#build histograms of the distribution of Internet traffic usage per month for both tariffs"
   ]
  },
  {
   "cell_type": "markdown",
   "metadata": {},
   "source": [
    "The distributions are symmetrical for both tariffs, but for users of the \"Ultra\" tariff it is flatter. For users of the Smart tariff, most of the values are close to the median."
   ]
  },
  {
   "cell_type": "code",
   "execution_count": 42,
   "metadata": {},
   "outputs": [
    {
     "data": {
      "text/plain": [
       "count    2230.000000\n",
       "mean       16.688341\n",
       "std         5.886713\n",
       "min         0.000000\n",
       "25%        13.000000\n",
       "50%        17.000000\n",
       "75%        21.000000\n",
       "max        39.000000\n",
       "Name: sum_gb_used, dtype: float64"
      ]
     },
     "execution_count": 42,
     "metadata": {},
     "output_type": "execute_result"
    }
   ],
   "source": [
    "df_alldata_smart['sum_gb_used'].describe()\n",
    "#let's study descriptive statistics for users of the Smart tariff"
   ]
  },
  {
   "cell_type": "code",
   "execution_count": 43,
   "metadata": {},
   "outputs": [
    {
     "data": {
      "text/plain": [
       "count    986.000000\n",
       "mean      19.945233\n",
       "std       10.115829\n",
       "min        0.000000\n",
       "25%       12.000000\n",
       "50%       20.000000\n",
       "75%       27.000000\n",
       "max       50.000000\n",
       "Name: sum_gb_used, dtype: float64"
      ]
     },
     "execution_count": 43,
     "metadata": {},
     "output_type": "execute_result"
    }
   ],
   "source": [
    "df_alldata_ultra['sum_gb_used'].describe()\n",
    "#let's study descriptive statistics for users of the \"Ultra\" tariff"
   ]
  },
  {
   "cell_type": "markdown",
   "metadata": {},
   "source": [
    "The 1st, 2nd and 3rd quartiles are similar in both distributions. Judging by the standard deviation and distribution histograms, the use of the Internet for the \"Ultra\" tariff is more variable. In more than half of the cases under consideration, users of the \"Smart\" tariff went beyond the minimum package for Internet traffic (15 GB), we do not observe this for users of the \"Ultra\" tariff. The median and average deviate slightly from each other in both tariffs. On average, users of the \"Ultra\" tariff need 20 GB of Internet traffic per month, and users of the \"Smart\" tariff - 17."
   ]
  },
  {
   "cell_type": "markdown",
   "metadata": {},
   "source": [
    "### Revenue"
   ]
  },
  {
   "cell_type": "markdown",
   "metadata": {},
   "source": [
    "Let's look at the available data, how revenue changes per month for each user, depending on the tariff."
   ]
  },
  {
   "cell_type": "code",
   "execution_count": 44,
   "metadata": {},
   "outputs": [
    {
     "data": {
      "text/plain": [
       "count    2230.000000\n",
       "mean     1224.798655\n",
       "std       794.203978\n",
       "min       550.000000\n",
       "25%       550.000000\n",
       "50%       950.000000\n",
       "75%      1665.000000\n",
       "max      6770.000000\n",
       "Name: revenue, dtype: float64"
      ]
     },
     "execution_count": 44,
     "metadata": {},
     "output_type": "execute_result"
    }
   ],
   "source": [
    "df_alldata_smart['revenue'].describe()"
   ]
  },
  {
   "cell_type": "code",
   "execution_count": 45,
   "metadata": {},
   "outputs": [
    {
     "data": {
      "text/plain": [
       "count     986.000000\n",
       "mean     2066.683570\n",
       "std       371.760874\n",
       "min      1950.000000\n",
       "25%      1950.000000\n",
       "50%      1950.000000\n",
       "75%      1950.000000\n",
       "max      4800.000000\n",
       "Name: revenue, dtype: float64"
      ]
     },
     "execution_count": 45,
     "metadata": {},
     "output_type": "execute_result"
    }
   ],
   "source": [
    "df_alldata_ultra['revenue'].describe()"
   ]
  },
  {
   "cell_type": "markdown",
   "metadata": {},
   "source": [
    "Judging by the difference between the average and median in revenue for the Smart tariff, the contribution of users who go beyond the tariff package is significant. In the \"Ultra\" tariff, on the contrary, the average is close to the minimum subscription fee."
   ]
  },
  {
   "cell_type": "code",
   "execution_count": 46,
   "metadata": {},
   "outputs": [
    {
     "name": "stdout",
     "output_type": "stream",
     "text": [
      "The share of Smart tariff users who have gone beyond the package 72.4%\n",
      "The share of Ultra tariff users who have gone beyond the package 13.4%\n"
     ]
    }
   ],
   "source": [
    "df_alldata_smart_extra = df_alldata_smart.query('revenue > 550')\n",
    "df_alldata_ultra_extra = df_alldata_ultra.query('revenue > 1950')\n",
    "\n",
    "share_smart = len(df_alldata_smart_extra)/len(df_alldata_smart)\n",
    "share_ultra = len(df_alldata_ultra_extra)/len(df_alldata_ultra)\n",
    "\n",
    "print('The share of Smart tariff users who have gone beyond the package', '{:.1%}'.format(share_smart))\n",
    "print('The share of Ultra tariff users who have gone beyond the package', '{:.1%}'.format(share_ultra))\n",
    "\n",
    "#let's look at the available samples, in how many cases relative to the total number of users buy additional services at different rates"
   ]
  },
  {
   "cell_type": "code",
   "execution_count": 47,
   "metadata": {},
   "outputs": [
    {
     "data": {
      "image/png": "[encoded data removed]",
      "text/plain": [
       "<Figure size 1151.85x360 with 1 Axes>"
      ]
     },
     "metadata": {},
     "output_type": "display_data"
    }
   ],
   "source": [
    "sns.set(rc={'figure.figsize':(16, 9)})\n",
    "sns.catplot(data = df_alldata, kind = \"bar\", x = \"month\", y = \"revenue\", hue=\"tariff\", palette=\"dark\", alpha=.6, aspect=3\n",
    ")\n",
    "\n",
    "plt.title('Average revenue for two tariffs by month')\n",
    "plt.ylabel('Average revenue, roubles')\n",
    "plt.xlabel('Month')\n",
    "plt.show()\n"
   ]
  },
  {
   "cell_type": "markdown",
   "metadata": {},
   "source": [
    "Revenue under the \"Ultra\" tariff is on average close to the subscription fee for this package. "
   ]
  },
  {
   "cell_type": "code",
   "execution_count": 48,
   "metadata": {},
   "outputs": [
    {
     "data": {
      "image/png": "[encoded data removed]",
      "text/plain": [
       "<Figure size 1151.85x360 with 1 Axes>"
      ]
     },
     "metadata": {},
     "output_type": "display_data"
    }
   ],
   "source": [
    "df_alldata['extra_revenue'] = df_alldata['revenue'] - df_alldata['rub_monthly_fee']\n",
    "sns.set(rc={'figure.figsize':(16, 9)})\n",
    "sns.catplot(data = df_alldata, kind = \"bar\", x = \"month\", y = \"extra_revenue\", hue=\"tariff\", palette=\"dark\", alpha=.6, aspect=3\n",
    ")\n",
    "\n",
    "plt.title('Average revenue over the tariff plan for two tariffs by month')\n",
    "plt.ylabel('Revenue in excess of the tariff plan, roubles')\n",
    "plt.xlabel('Month')\n",
    "plt.show()"
   ]
  },
  {
   "cell_type": "markdown",
   "metadata": {},
   "source": [
    "Users of the Smart tariff have to buy significantly more extras. services. Perhaps the fact of additional purchase of the additional tariff services affect the rate of user outflow and it is worth conducting additional research on this issue (in the existing users who have disconnected from the tariff, only 38 out of 500, so no analysis was carried out)."
   ]
  },
  {
   "cell_type": "code",
   "execution_count": 49,
   "metadata": {},
   "outputs": [
    {
     "data": {
      "text/html": [
       "<div>\n",
       "<style scoped>\n",
       "    .dataframe tbody tr th:only-of-type {\n",
       "        vertical-align: middle;\n",
       "    }\n",
       "\n",
       "    .dataframe tbody tr th {\n",
       "        vertical-align: top;\n",
       "    }\n",
       "\n",
       "    .dataframe thead th {\n",
       "        text-align: right;\n",
       "    }\n",
       "</style>\n",
       "<table border=\"1\" class=\"dataframe\">\n",
       "  <thead>\n",
       "    <tr style=\"text-align: right;\">\n",
       "      <th></th>\n",
       "      <th>Average_SMS_revenue_over_the_tariff_plan</th>\n",
       "    </tr>\n",
       "    <tr>\n",
       "      <th>tariff</th>\n",
       "      <th></th>\n",
       "    </tr>\n",
       "  </thead>\n",
       "  <tbody>\n",
       "    <tr>\n",
       "      <th>smart</th>\n",
       "      <td>17.39</td>\n",
       "    </tr>\n",
       "    <tr>\n",
       "      <th>ultra</th>\n",
       "      <td>0.00</td>\n",
       "    </tr>\n",
       "  </tbody>\n",
       "</table>\n",
       "</div>"
      ],
      "text/plain": [
       "        Average_SMS_revenue_over_the_tariff_plan\n",
       "tariff                                          \n",
       "smart                                      17.39\n",
       "ultra                                       0.00"
      ]
     },
     "metadata": {},
     "output_type": "display_data"
    },
    {
     "data": {
      "text/html": [
       "<div>\n",
       "<style scoped>\n",
       "    .dataframe tbody tr th:only-of-type {\n",
       "        vertical-align: middle;\n",
       "    }\n",
       "\n",
       "    .dataframe tbody tr th {\n",
       "        vertical-align: top;\n",
       "    }\n",
       "\n",
       "    .dataframe thead th {\n",
       "        text-align: right;\n",
       "    }\n",
       "</style>\n",
       "<table border=\"1\" class=\"dataframe\">\n",
       "  <thead>\n",
       "    <tr style=\"text-align: right;\">\n",
       "      <th></th>\n",
       "      <th>Average_call_revenue_over_the_tariff_plan</th>\n",
       "    </tr>\n",
       "    <tr>\n",
       "      <th>tariff</th>\n",
       "      <th></th>\n",
       "    </tr>\n",
       "  </thead>\n",
       "  <tbody>\n",
       "    <tr>\n",
       "      <th>smart</th>\n",
       "      <td>124.76</td>\n",
       "    </tr>\n",
       "    <tr>\n",
       "      <th>ultra</th>\n",
       "      <td>0.00</td>\n",
       "    </tr>\n",
       "  </tbody>\n",
       "</table>\n",
       "</div>"
      ],
      "text/plain": [
       "        Average_call_revenue_over_the_tariff_plan\n",
       "tariff                                           \n",
       "smart                                      124.76\n",
       "ultra                                        0.00"
      ]
     },
     "metadata": {},
     "output_type": "display_data"
    },
    {
     "data": {
      "text/html": [
       "<div>\n",
       "<style scoped>\n",
       "    .dataframe tbody tr th:only-of-type {\n",
       "        vertical-align: middle;\n",
       "    }\n",
       "\n",
       "    .dataframe tbody tr th {\n",
       "        vertical-align: top;\n",
       "    }\n",
       "\n",
       "    .dataframe thead th {\n",
       "        text-align: right;\n",
       "    }\n",
       "</style>\n",
       "<table border=\"1\" class=\"dataframe\">\n",
       "  <thead>\n",
       "    <tr style=\"text-align: right;\">\n",
       "      <th></th>\n",
       "      <th>Average_internet_revenue_over_the_tariff_plan</th>\n",
       "    </tr>\n",
       "    <tr>\n",
       "      <th>tariff</th>\n",
       "      <th></th>\n",
       "    </tr>\n",
       "  </thead>\n",
       "  <tbody>\n",
       "    <tr>\n",
       "      <th>smart</th>\n",
       "      <td>532.65</td>\n",
       "    </tr>\n",
       "    <tr>\n",
       "      <th>ultra</th>\n",
       "      <td>116.68</td>\n",
       "    </tr>\n",
       "  </tbody>\n",
       "</table>\n",
       "</div>"
      ],
      "text/plain": [
       "        Average_internet_revenue_over_the_tariff_plan\n",
       "tariff                                               \n",
       "smart                                          532.65\n",
       "ultra                                          116.68"
      ]
     },
     "metadata": {},
     "output_type": "display_data"
    }
   ],
   "source": [
    "df_alldata['extrarevenue_sms'] = df_alldata['rub_per_message'] * df_alldata['extra_messages']\n",
    "df_alldata['extrarevenue_internet'] = df_alldata['rub_per_gb'] * df_alldata['extra_gb']\n",
    "df_alldata['extrarevenue_calls'] = df_alldata['rub_per_minute'] * df_alldata['extra_minutes']\n",
    "\n",
    "with pd.option_context('display.float_format', '{:.2f}'.format):\n",
    "    display(df_alldata.groupby('tariff').agg(Average_SMS_revenue_over_the_tariff_plan=('extrarevenue_sms','mean')))\n",
    "    display(df_alldata.groupby('tariff').agg(Average_call_revenue_over_the_tariff_plan=('extrarevenue_calls','mean')))\n",
    "    display(df_alldata.groupby('tariff').agg(Average_internet_revenue_over_the_tariff_plan=('extrarevenue_internet','mean')))\n",
    "\n",
    "#let's calculate the revenue in roubles in excess of the tariff plan for each type of service"
   ]
  },
  {
   "cell_type": "markdown",
   "metadata": {},
   "source": [
    "As noted above, users of the \"Ultra\" tariff do not go beyond the tariff package by SMS and calls. In terms of the \"Smart\" tariff, on average, it was possible to collect an amount for the Internet from the studied users, close to the tariff fee, i.e. double the revenue for the user twice."
   ]
  },
  {
   "cell_type": "markdown",
   "metadata": {},
   "source": [
    "### Conclusion"
   ]
  },
  {
   "cell_type": "markdown",
   "metadata": {},
   "source": [
    "Despite the fact that users of the \"Ultra\" tariff do not go beyond the tariff package, the average monthly revenue for users from this tariff looks more than the average monthly revenue for the \"Smart\" tariff. We are dealing with a limited sample of users, so we will check these statements using statistical methods. We will also see if there is a difference in average monthly revenue between the largest region represented in the dataset - Moscow, and other regions."
   ]
  },
  {
   "cell_type": "markdown",
   "metadata": {},
   "source": [
    "## Testing the statistical hypotheses"
   ]
  },
  {
   "cell_type": "markdown",
   "metadata": {},
   "source": [
    "### The average revenue of users of the \"Ultra\" and \"Smart\" tariffs differ"
   ]
  },
  {
   "cell_type": "markdown",
   "metadata": {},
   "source": [
    "The general aggregates are revenue for all users of the \"Smart\" tariff and revenue for all users of the \"Ultra\" tariff. Since the parameters of these tariffs are completely different, in the statistical test we will specify the equal_var = False parameter for the st.ttest_ind method.\n",
    "\n",
    "The null hypothesis is that the average revenue under the \"Ultra\" tariff is equal to the average revenue under the \"Smart\" tariff. Alternative - the average revenue is not equal. The statistical significance level is defined as 5% as the most common option for most tests."
   ]
  },
  {
   "cell_type": "code",
   "execution_count": 50,
   "metadata": {},
   "outputs": [
    {
     "name": "stdout",
     "output_type": "stream",
     "text": [
      "p-value: 5.153021355031254e-295\n",
      "Reject the null hypothesis\n"
     ]
    }
   ],
   "source": [
    "sample_1 = df_alldata_smart['revenue']\n",
    "sample_2 = df_alldata_ultra['revenue']\n",
    "\n",
    "\n",
    "results = st.ttest_ind(sample_1, sample_2, equal_var = False)\n",
    "alpha = 0.05\n",
    "print('p-value:', results.pvalue)\n",
    "\n",
    "\n",
    "if results.pvalue < alpha:\n",
    "    print('Reject the null hypothesis')\n",
    "else:\n",
    "    print('Cannot reject the null hypothesis')"
   ]
  },
  {
   "cell_type": "markdown",
   "metadata": {},
   "source": [
    "Based on the available data, we do not reject the assumption that the average revenue for users of the two tariffs differ."
   ]
  },
  {
   "cell_type": "markdown",
   "metadata": {},
   "source": [
    "### The average revenue of users from Moscow differs from the revenue of users from other regions"
   ]
  },
  {
   "cell_type": "markdown",
   "metadata": {},
   "source": [
    "General populations are the revenue for all users from Moscow and the revenue for all users from regions other than Moscow.\n",
    "\n",
    "The null hypothesis is that the average revenue for users from Moscow is equal to the average revenue for users from the regions. Alternative - the average revenue is not equal. The statistical significance level is defined as 5% as the most common option for most tests."
   ]
  },
  {
   "cell_type": "code",
   "execution_count": 51,
   "metadata": {},
   "outputs": [
    {
     "name": "stdout",
     "output_type": "stream",
     "text": [
      "p-value: 0.4398885916159705\n",
      "Cannot reject the null hypothesis\n"
     ]
    }
   ],
   "source": [
    "df_alldata_Moscow = df_alldata.query('city == \"Москва\"')\n",
    "df_alldata_province = df_alldata.query('city != \"Москва\"')\n",
    "\n",
    "sample_1 = df_alldata_Moscow['revenue']\n",
    "sample_2 = df_alldata_province['revenue']\n",
    "\n",
    "results = st.ttest_ind(sample_1, sample_2, equal_var = False)\n",
    "alpha = 0.05  \n",
    "print('p-value:', results.pvalue)\n",
    "\n",
    "\n",
    "if results.pvalue < alpha:\n",
    "    print('Reject the null hypothesis')\n",
    "else:\n",
    "    print('Cannot reject the null hypothesis')"
   ]
  },
  {
   "cell_type": "markdown",
   "metadata": {},
   "source": [
    "Based on the available data, it is possible to reject the assumption that the average revenue for users from Moscow and the regions differ, since with a probability of 44% such differences can be obtained randomly. This is clearly too high a probability to conclude that there is a significant difference between the averages."
   ]
  },
  {
   "cell_type": "markdown",
   "metadata": {},
   "source": [
    "### Conclusion"
   ]
  },
  {
   "cell_type": "markdown",
   "metadata": {},
   "source": [
    "Probably, the fact that the user has chosen the tariff has more influence on the final revenue than what region the client came from."
   ]
  },
  {
   "cell_type": "markdown",
   "metadata": {},
   "source": [
    "## General conclusion"
   ]
  },
  {
   "cell_type": "markdown",
   "metadata": {},
   "source": [
    "The average revenue for the Smart economy tariff (1,225 roubles) is more than the subscription fee for this tariff (550 roubles) by 675 roubles, i.e. users are willing to pay a large amount as a subscription fee. At the moment, the \"Ultra\" tariff is more profitable for the company, but it is worth testing an intermediate solution between the two tariffs, where a fixed package would include from 15 to 30 GB of Internet traffic, and less SMS than in the \"Ultra\" package. "
   ]
  }
 ],
 "metadata": {
  "ExecuteTimeLog": [
   {
    "duration": 352,
    "start_time": "2021-11-12T19:08:16.026Z"
   },
   {
    "duration": 1906,
    "start_time": "2021-11-12T19:08:20.822Z"
   },
   {
    "duration": 24,
    "start_time": "2021-11-12T19:08:25.277Z"
   },
   {
    "duration": 18,
    "start_time": "2021-11-12T19:08:56.206Z"
   },
   {
    "duration": 14,
    "start_time": "2021-11-12T19:09:08.029Z"
   },
   {
    "duration": 1301,
    "start_time": "2021-11-12T19:09:19.521Z"
   },
   {
    "duration": 13,
    "start_time": "2021-11-12T19:09:39.655Z"
   },
   {
    "duration": 12,
    "start_time": "2021-11-12T19:09:50.743Z"
   },
   {
    "duration": 16,
    "start_time": "2021-11-12T19:10:11.144Z"
   },
   {
    "duration": 36,
    "start_time": "2021-11-12T19:10:35.077Z"
   },
   {
    "duration": 27,
    "start_time": "2021-11-12T19:10:45.214Z"
   },
   {
    "duration": 24,
    "start_time": "2021-11-12T19:10:58.523Z"
   },
   {
    "duration": 20,
    "start_time": "2021-11-12T19:11:12.245Z"
   },
   {
    "duration": 9,
    "start_time": "2021-11-12T19:11:22.892Z"
   },
   {
    "duration": 9,
    "start_time": "2021-11-12T19:11:33.420Z"
   },
   {
    "duration": 17,
    "start_time": "2021-11-12T19:13:25.325Z"
   },
   {
    "duration": 429,
    "start_time": "2021-11-13T07:33:53.259Z"
   },
   {
    "duration": 358,
    "start_time": "2021-11-13T07:34:05.125Z"
   },
   {
    "duration": 356,
    "start_time": "2021-11-13T07:34:39.199Z"
   },
   {
    "duration": 501,
    "start_time": "2021-11-13T07:34:45.159Z"
   },
   {
    "duration": 434,
    "start_time": "2021-11-13T07:34:52.736Z"
   },
   {
    "duration": 372,
    "start_time": "2021-11-13T07:35:00.482Z"
   },
   {
    "duration": 372,
    "start_time": "2021-11-13T07:35:18.190Z"
   },
   {
    "duration": 1543,
    "start_time": "2021-11-13T07:35:28.476Z"
   },
   {
    "duration": 15,
    "start_time": "2021-11-13T07:35:30.021Z"
   },
   {
    "duration": 18,
    "start_time": "2021-11-13T07:35:30.038Z"
   },
   {
    "duration": 19,
    "start_time": "2021-11-13T07:35:30.058Z"
   },
   {
    "duration": 20,
    "start_time": "2021-11-13T07:35:30.079Z"
   },
   {
    "duration": 9,
    "start_time": "2021-11-13T07:35:30.100Z"
   },
   {
    "duration": 12,
    "start_time": "2021-11-13T07:35:30.111Z"
   },
   {
    "duration": 13,
    "start_time": "2021-11-13T07:35:30.125Z"
   },
   {
    "duration": 15,
    "start_time": "2021-11-13T07:35:30.140Z"
   },
   {
    "duration": 17,
    "start_time": "2021-11-13T07:35:30.156Z"
   },
   {
    "duration": 12,
    "start_time": "2021-11-13T07:35:30.175Z"
   },
   {
    "duration": 20,
    "start_time": "2021-11-13T07:35:30.189Z"
   },
   {
    "duration": 5,
    "start_time": "2021-11-13T07:35:40.210Z"
   },
   {
    "duration": 5,
    "start_time": "2021-11-13T07:36:10.971Z"
   },
   {
    "duration": 61,
    "start_time": "2021-11-13T07:49:44.801Z"
   },
   {
    "duration": 46,
    "start_time": "2021-11-13T08:03:42.701Z"
   },
   {
    "duration": 121,
    "start_time": "2021-11-13T08:03:54.417Z"
   },
   {
    "duration": 9,
    "start_time": "2021-11-13T08:04:01.060Z"
   },
   {
    "duration": 9,
    "start_time": "2021-11-13T08:08:04.546Z"
   },
   {
    "duration": 470,
    "start_time": "2021-11-13T08:08:29.175Z"
   },
   {
    "duration": 4,
    "start_time": "2021-11-13T08:08:45.329Z"
   },
   {
    "duration": 5,
    "start_time": "2021-11-13T08:09:03.183Z"
   },
   {
    "duration": 356,
    "start_time": "2021-11-13T08:20:20.758Z"
   },
   {
    "duration": 356,
    "start_time": "2021-11-13T08:20:48.893Z"
   },
   {
    "duration": 1476,
    "start_time": "2021-11-13T08:21:02.455Z"
   },
   {
    "duration": 16,
    "start_time": "2021-11-13T08:21:03.933Z"
   },
   {
    "duration": 20,
    "start_time": "2021-11-13T08:21:03.951Z"
   },
   {
    "duration": 15,
    "start_time": "2021-11-13T08:21:03.972Z"
   },
   {
    "duration": 17,
    "start_time": "2021-11-13T08:21:03.988Z"
   },
   {
    "duration": 8,
    "start_time": "2021-11-13T08:21:04.007Z"
   },
   {
    "duration": 15,
    "start_time": "2021-11-13T08:21:04.017Z"
   },
   {
    "duration": 14,
    "start_time": "2021-11-13T08:21:04.034Z"
   },
   {
    "duration": 11,
    "start_time": "2021-11-13T08:21:04.050Z"
   },
   {
    "duration": 18,
    "start_time": "2021-11-13T08:21:04.062Z"
   },
   {
    "duration": 32,
    "start_time": "2021-11-13T08:21:04.081Z"
   },
   {
    "duration": 11,
    "start_time": "2021-11-13T08:21:04.115Z"
   },
   {
    "duration": 76,
    "start_time": "2021-11-13T08:21:04.127Z"
   },
   {
    "duration": 46,
    "start_time": "2021-11-13T08:21:04.205Z"
   },
   {
    "duration": 9,
    "start_time": "2021-11-13T08:21:04.252Z"
   },
   {
    "duration": 29,
    "start_time": "2021-11-13T08:21:04.262Z"
   },
   {
    "duration": 7,
    "start_time": "2021-11-13T08:22:12.390Z"
   },
   {
    "duration": 5,
    "start_time": "2021-11-13T08:22:21.268Z"
   },
   {
    "duration": 1535,
    "start_time": "2021-11-13T08:26:20.881Z"
   },
   {
    "duration": 17,
    "start_time": "2021-11-13T08:26:22.419Z"
   },
   {
    "duration": 19,
    "start_time": "2021-11-13T08:26:22.438Z"
   },
   {
    "duration": 16,
    "start_time": "2021-11-13T08:26:22.459Z"
   },
   {
    "duration": 17,
    "start_time": "2021-11-13T08:26:22.477Z"
   },
   {
    "duration": 8,
    "start_time": "2021-11-13T08:26:22.506Z"
   },
   {
    "duration": 33,
    "start_time": "2021-11-13T08:26:22.515Z"
   },
   {
    "duration": 16,
    "start_time": "2021-11-13T08:26:22.550Z"
   },
   {
    "duration": 18,
    "start_time": "2021-11-13T08:26:22.568Z"
   },
   {
    "duration": 14,
    "start_time": "2021-11-13T08:26:22.588Z"
   },
   {
    "duration": 20,
    "start_time": "2021-11-13T08:26:22.603Z"
   },
   {
    "duration": 22,
    "start_time": "2021-11-13T08:26:22.624Z"
   },
   {
    "duration": 63,
    "start_time": "2021-11-13T08:26:22.648Z"
   },
   {
    "duration": 45,
    "start_time": "2021-11-13T08:26:22.713Z"
   },
   {
    "duration": 9,
    "start_time": "2021-11-13T08:26:22.760Z"
   },
   {
    "duration": 26,
    "start_time": "2021-11-13T08:26:22.771Z"
   },
   {
    "duration": 117,
    "start_time": "2021-11-13T08:26:22.806Z"
   },
   {
    "duration": 14,
    "start_time": "2021-11-13T08:26:34.298Z"
   },
   {
    "duration": 12,
    "start_time": "2021-11-13T08:26:55.947Z"
   },
   {
    "duration": 13,
    "start_time": "2021-11-13T08:27:12.769Z"
   },
   {
    "duration": 124,
    "start_time": "2021-11-13T08:28:37.427Z"
   },
   {
    "duration": 423,
    "start_time": "2021-11-13T08:28:44.889Z"
   },
   {
    "duration": 22,
    "start_time": "2021-11-13T08:28:53.181Z"
   },
   {
    "duration": 21,
    "start_time": "2021-11-13T08:33:55.552Z"
   },
   {
    "duration": 21,
    "start_time": "2021-11-13T08:36:16.221Z"
   },
   {
    "duration": 23,
    "start_time": "2021-11-13T08:38:30.366Z"
   },
   {
    "duration": 42,
    "start_time": "2021-11-13T08:39:41.351Z"
   },
   {
    "duration": 11,
    "start_time": "2021-11-13T08:44:05.666Z"
   },
   {
    "duration": 15,
    "start_time": "2021-11-13T08:45:24.391Z"
   },
   {
    "duration": 217,
    "start_time": "2021-11-20T19:13:16.040Z"
   },
   {
    "duration": 1356,
    "start_time": "2021-11-20T19:13:28.826Z"
   },
   {
    "duration": 15,
    "start_time": "2021-11-20T19:13:30.184Z"
   },
   {
    "duration": 22,
    "start_time": "2021-11-20T19:13:30.200Z"
   },
   {
    "duration": 10,
    "start_time": "2021-11-20T19:13:30.224Z"
   },
   {
    "duration": 30,
    "start_time": "2021-11-20T19:13:30.236Z"
   },
   {
    "duration": 8,
    "start_time": "2021-11-20T19:13:30.268Z"
   },
   {
    "duration": 27,
    "start_time": "2021-11-20T19:13:30.278Z"
   },
   {
    "duration": 13,
    "start_time": "2021-11-20T19:13:30.308Z"
   },
   {
    "duration": 17,
    "start_time": "2021-11-20T19:13:30.322Z"
   },
   {
    "duration": 18,
    "start_time": "2021-11-20T19:13:30.340Z"
   },
   {
    "duration": 10,
    "start_time": "2021-11-20T19:13:30.359Z"
   },
   {
    "duration": 19,
    "start_time": "2021-11-20T19:13:30.370Z"
   },
   {
    "duration": 71,
    "start_time": "2021-11-20T19:13:30.391Z"
   },
   {
    "duration": 46,
    "start_time": "2021-11-20T19:13:30.463Z"
   },
   {
    "duration": 8,
    "start_time": "2021-11-20T19:13:30.511Z"
   },
   {
    "duration": 72,
    "start_time": "2021-11-20T19:13:30.520Z"
   },
   {
    "duration": 14,
    "start_time": "2021-11-20T19:13:30.594Z"
   },
   {
    "duration": 10,
    "start_time": "2021-11-20T19:13:30.610Z"
   },
   {
    "duration": 6,
    "start_time": "2021-11-20T19:16:12.476Z"
   },
   {
    "duration": 7,
    "start_time": "2021-11-20T19:28:33.459Z"
   },
   {
    "duration": 7,
    "start_time": "2021-11-20T19:28:47.633Z"
   },
   {
    "duration": 289,
    "start_time": "2021-11-20T19:29:38.541Z"
   },
   {
    "duration": 1350,
    "start_time": "2021-11-20T19:29:51.248Z"
   },
   {
    "duration": 16,
    "start_time": "2021-11-20T19:29:52.600Z"
   },
   {
    "duration": 35,
    "start_time": "2021-11-20T19:29:52.617Z"
   },
   {
    "duration": 11,
    "start_time": "2021-11-20T19:29:52.653Z"
   },
   {
    "duration": 41,
    "start_time": "2021-11-20T19:29:52.665Z"
   },
   {
    "duration": 12,
    "start_time": "2021-11-20T19:29:52.707Z"
   },
   {
    "duration": 32,
    "start_time": "2021-11-20T19:29:52.720Z"
   },
   {
    "duration": 26,
    "start_time": "2021-11-20T19:29:52.754Z"
   },
   {
    "duration": 29,
    "start_time": "2021-11-20T19:29:52.782Z"
   },
   {
    "duration": 25,
    "start_time": "2021-11-20T19:29:52.812Z"
   },
   {
    "duration": 27,
    "start_time": "2021-11-20T19:29:52.839Z"
   },
   {
    "duration": 30,
    "start_time": "2021-11-20T19:29:52.867Z"
   },
   {
    "duration": 22,
    "start_time": "2021-11-20T19:29:52.899Z"
   },
   {
    "duration": 83,
    "start_time": "2021-11-20T19:29:52.922Z"
   },
   {
    "duration": 47,
    "start_time": "2021-11-20T19:29:53.007Z"
   },
   {
    "duration": 9,
    "start_time": "2021-11-20T19:29:53.055Z"
   },
   {
    "duration": 69,
    "start_time": "2021-11-20T19:29:53.065Z"
   },
   {
    "duration": 252,
    "start_time": "2021-11-20T19:29:53.135Z"
   },
   {
    "duration": -1077,
    "start_time": "2021-11-20T19:29:54.465Z"
   },
   {
    "duration": -1079,
    "start_time": "2021-11-20T19:29:54.468Z"
   },
   {
    "duration": -1081,
    "start_time": "2021-11-20T19:29:54.471Z"
   },
   {
    "duration": -1082,
    "start_time": "2021-11-20T19:29:54.473Z"
   },
   {
    "duration": 162,
    "start_time": "2021-11-20T19:30:03.845Z"
   },
   {
    "duration": 13,
    "start_time": "2021-11-20T19:30:35.852Z"
   },
   {
    "duration": 13,
    "start_time": "2021-11-20T19:30:40.536Z"
   },
   {
    "duration": 15,
    "start_time": "2021-11-20T19:31:13.734Z"
   },
   {
    "duration": 13,
    "start_time": "2021-11-20T19:31:16.587Z"
   },
   {
    "duration": 188,
    "start_time": "2021-11-20T19:36:20.075Z"
   },
   {
    "duration": 189,
    "start_time": "2021-11-20T19:36:38.578Z"
   },
   {
    "duration": 1516,
    "start_time": "2021-11-20T19:39:56.020Z"
   },
   {
    "duration": 16,
    "start_time": "2021-11-20T19:39:57.538Z"
   },
   {
    "duration": 51,
    "start_time": "2021-11-20T19:39:57.555Z"
   },
   {
    "duration": 18,
    "start_time": "2021-11-20T19:39:57.608Z"
   },
   {
    "duration": 48,
    "start_time": "2021-11-20T19:39:57.628Z"
   },
   {
    "duration": 33,
    "start_time": "2021-11-20T19:39:57.678Z"
   },
   {
    "duration": 49,
    "start_time": "2021-11-20T19:39:57.713Z"
   },
   {
    "duration": 36,
    "start_time": "2021-11-20T19:39:57.765Z"
   },
   {
    "duration": 32,
    "start_time": "2021-11-20T19:39:57.803Z"
   },
   {
    "duration": 43,
    "start_time": "2021-11-20T19:39:57.837Z"
   },
   {
    "duration": 39,
    "start_time": "2021-11-20T19:39:57.882Z"
   },
   {
    "duration": 36,
    "start_time": "2021-11-20T19:39:57.922Z"
   },
   {
    "duration": 23,
    "start_time": "2021-11-20T19:39:57.960Z"
   },
   {
    "duration": 84,
    "start_time": "2021-11-20T19:39:57.985Z"
   },
   {
    "duration": 51,
    "start_time": "2021-11-20T19:39:58.071Z"
   },
   {
    "duration": 9,
    "start_time": "2021-11-20T19:39:58.124Z"
   },
   {
    "duration": 102,
    "start_time": "2021-11-20T19:39:58.135Z"
   },
   {
    "duration": 21,
    "start_time": "2021-11-20T19:39:58.239Z"
   },
   {
    "duration": 25,
    "start_time": "2021-11-20T19:39:58.261Z"
   },
   {
    "duration": 21,
    "start_time": "2021-11-20T19:39:58.288Z"
   },
   {
    "duration": 9,
    "start_time": "2021-11-20T19:39:58.311Z"
   },
   {
    "duration": 79,
    "start_time": "2021-11-20T19:39:58.321Z"
   },
   {
    "duration": 1970,
    "start_time": "2021-11-21T08:28:41.280Z"
   },
   {
    "duration": 25,
    "start_time": "2021-11-21T08:28:43.253Z"
   },
   {
    "duration": 28,
    "start_time": "2021-11-21T08:28:43.282Z"
   },
   {
    "duration": 18,
    "start_time": "2021-11-21T08:28:43.313Z"
   },
   {
    "duration": 66,
    "start_time": "2021-11-21T08:28:43.334Z"
   },
   {
    "duration": 21,
    "start_time": "2021-11-21T08:28:43.403Z"
   },
   {
    "duration": 56,
    "start_time": "2021-11-21T08:28:43.427Z"
   },
   {
    "duration": 18,
    "start_time": "2021-11-21T08:28:43.489Z"
   },
   {
    "duration": 15,
    "start_time": "2021-11-21T08:28:43.511Z"
   },
   {
    "duration": 59,
    "start_time": "2021-11-21T08:28:43.530Z"
   },
   {
    "duration": 12,
    "start_time": "2021-11-21T08:28:43.593Z"
   },
   {
    "duration": 11,
    "start_time": "2021-11-21T08:28:43.608Z"
   },
   {
    "duration": 49,
    "start_time": "2021-11-21T08:28:43.622Z"
   },
   {
    "duration": 167,
    "start_time": "2021-11-21T08:28:43.675Z"
   },
   {
    "duration": 102,
    "start_time": "2021-11-21T08:28:43.845Z"
   },
   {
    "duration": 17,
    "start_time": "2021-11-21T08:28:43.950Z"
   },
   {
    "duration": 20,
    "start_time": "2021-11-21T08:28:43.970Z"
   },
   {
    "duration": 142,
    "start_time": "2021-11-21T08:28:43.994Z"
   },
   {
    "duration": 63,
    "start_time": "2021-11-21T08:28:44.140Z"
   },
   {
    "duration": 29,
    "start_time": "2021-11-21T08:28:44.207Z"
   },
   {
    "duration": 30,
    "start_time": "2021-11-21T08:28:44.238Z"
   },
   {
    "duration": 8,
    "start_time": "2021-11-21T08:28:44.271Z"
   },
   {
    "duration": 93,
    "start_time": "2021-11-21T08:28:44.284Z"
   },
   {
    "duration": 1952,
    "start_time": "2021-11-21T08:36:37.490Z"
   },
   {
    "duration": 24,
    "start_time": "2021-11-21T08:36:39.444Z"
   },
   {
    "duration": 27,
    "start_time": "2021-11-21T08:36:39.471Z"
   },
   {
    "duration": 17,
    "start_time": "2021-11-21T08:36:39.501Z"
   },
   {
    "duration": 58,
    "start_time": "2021-11-21T08:36:39.521Z"
   },
   {
    "duration": 15,
    "start_time": "2021-11-21T08:36:39.581Z"
   },
   {
    "duration": 19,
    "start_time": "2021-11-21T08:36:39.599Z"
   },
   {
    "duration": 11,
    "start_time": "2021-11-21T08:36:39.622Z"
   },
   {
    "duration": 9,
    "start_time": "2021-11-21T08:36:39.668Z"
   },
   {
    "duration": 16,
    "start_time": "2021-11-21T08:36:39.680Z"
   },
   {
    "duration": 10,
    "start_time": "2021-11-21T08:36:39.698Z"
   },
   {
    "duration": 11,
    "start_time": "2021-11-21T08:36:39.710Z"
   },
   {
    "duration": 49,
    "start_time": "2021-11-21T08:36:39.723Z"
   },
   {
    "duration": 110,
    "start_time": "2021-11-21T08:36:39.774Z"
   },
   {
    "duration": 81,
    "start_time": "2021-11-21T08:36:39.886Z"
   },
   {
    "duration": 7,
    "start_time": "2021-11-21T08:36:39.969Z"
   },
   {
    "duration": 15,
    "start_time": "2021-11-21T08:36:39.979Z"
   },
   {
    "duration": 106,
    "start_time": "2021-11-21T08:36:39.996Z"
   },
   {
    "duration": 31,
    "start_time": "2021-11-21T08:36:40.105Z"
   },
   {
    "duration": 32,
    "start_time": "2021-11-21T08:36:40.139Z"
   },
   {
    "duration": 38,
    "start_time": "2021-11-21T08:36:40.174Z"
   },
   {
    "duration": 11,
    "start_time": "2021-11-21T08:36:40.214Z"
   },
   {
    "duration": 10,
    "start_time": "2021-11-21T08:36:40.230Z"
   },
   {
    "duration": 30,
    "start_time": "2021-11-21T08:36:40.242Z"
   },
   {
    "duration": 94,
    "start_time": "2021-11-21T08:36:40.274Z"
   },
   {
    "duration": 2022,
    "start_time": "2021-11-21T08:57:36.698Z"
   },
   {
    "duration": 24,
    "start_time": "2021-11-21T08:57:38.723Z"
   },
   {
    "duration": 29,
    "start_time": "2021-11-21T08:57:38.750Z"
   },
   {
    "duration": 18,
    "start_time": "2021-11-21T08:57:38.782Z"
   },
   {
    "duration": 24,
    "start_time": "2021-11-21T08:57:38.802Z"
   },
   {
    "duration": 50,
    "start_time": "2021-11-21T08:57:38.829Z"
   },
   {
    "duration": 20,
    "start_time": "2021-11-21T08:57:38.882Z"
   },
   {
    "duration": 11,
    "start_time": "2021-11-21T08:57:38.908Z"
   },
   {
    "duration": 9,
    "start_time": "2021-11-21T08:57:38.922Z"
   },
   {
    "duration": 16,
    "start_time": "2021-11-21T08:57:38.968Z"
   },
   {
    "duration": 9,
    "start_time": "2021-11-21T08:57:38.987Z"
   },
   {
    "duration": 9,
    "start_time": "2021-11-21T08:57:38.999Z"
   },
   {
    "duration": 9,
    "start_time": "2021-11-21T08:57:39.011Z"
   },
   {
    "duration": 106,
    "start_time": "2021-11-21T08:57:39.068Z"
   },
   {
    "duration": 72,
    "start_time": "2021-11-21T08:57:39.176Z"
   },
   {
    "duration": 19,
    "start_time": "2021-11-21T08:57:39.251Z"
   },
   {
    "duration": 13,
    "start_time": "2021-11-21T08:57:39.272Z"
   },
   {
    "duration": 104,
    "start_time": "2021-11-21T08:57:39.288Z"
   },
   {
    "duration": 31,
    "start_time": "2021-11-21T08:57:39.395Z"
   },
   {
    "duration": 10,
    "start_time": "2021-11-21T08:57:39.429Z"
   },
   {
    "duration": 47,
    "start_time": "2021-11-21T08:57:39.442Z"
   },
   {
    "duration": 4549,
    "start_time": "2021-11-21T08:57:39.492Z"
   },
   {
    "duration": -46,
    "start_time": "2021-11-21T08:57:44.090Z"
   },
   {
    "duration": -53,
    "start_time": "2021-11-21T08:57:44.099Z"
   },
   {
    "duration": -53,
    "start_time": "2021-11-21T08:57:44.101Z"
   },
   {
    "duration": 4024,
    "start_time": "2021-11-21T08:58:16.002Z"
   },
   {
    "duration": 3975,
    "start_time": "2021-11-21T09:00:35.577Z"
   },
   {
    "duration": 744,
    "start_time": "2021-11-21T09:02:00.916Z"
   },
   {
    "duration": 4,
    "start_time": "2021-11-21T09:02:56.244Z"
   },
   {
    "duration": 472,
    "start_time": "2021-11-21T09:03:15.799Z"
   },
   {
    "duration": 113,
    "start_time": "2021-11-21T09:07:02.267Z"
   },
   {
    "duration": 2010,
    "start_time": "2021-11-21T09:07:13.797Z"
   },
   {
    "duration": 25,
    "start_time": "2021-11-21T09:07:15.810Z"
   },
   {
    "duration": 27,
    "start_time": "2021-11-21T09:07:15.838Z"
   },
   {
    "duration": 16,
    "start_time": "2021-11-21T09:07:15.868Z"
   },
   {
    "duration": 23,
    "start_time": "2021-11-21T09:07:15.886Z"
   },
   {
    "duration": 14,
    "start_time": "2021-11-21T09:07:15.912Z"
   },
   {
    "duration": 51,
    "start_time": "2021-11-21T09:07:15.929Z"
   },
   {
    "duration": 12,
    "start_time": "2021-11-21T09:07:15.984Z"
   },
   {
    "duration": 10,
    "start_time": "2021-11-21T09:07:15.999Z"
   },
   {
    "duration": 17,
    "start_time": "2021-11-21T09:07:16.012Z"
   },
   {
    "duration": 10,
    "start_time": "2021-11-21T09:07:16.068Z"
   },
   {
    "duration": 12,
    "start_time": "2021-11-21T09:07:16.081Z"
   },
   {
    "duration": 14,
    "start_time": "2021-11-21T09:07:16.096Z"
   },
   {
    "duration": 143,
    "start_time": "2021-11-21T09:07:16.112Z"
   },
   {
    "duration": 74,
    "start_time": "2021-11-21T09:07:16.257Z"
   },
   {
    "duration": 7,
    "start_time": "2021-11-21T09:07:16.333Z"
   },
   {
    "duration": 30,
    "start_time": "2021-11-21T09:07:16.343Z"
   },
   {
    "duration": 92,
    "start_time": "2021-11-21T09:07:16.375Z"
   },
   {
    "duration": 33,
    "start_time": "2021-11-21T09:07:16.470Z"
   },
   {
    "duration": 11,
    "start_time": "2021-11-21T09:07:16.506Z"
   },
   {
    "duration": 51,
    "start_time": "2021-11-21T09:07:16.519Z"
   },
   {
    "duration": 119,
    "start_time": "2021-11-21T09:07:16.572Z"
   },
   {
    "duration": 12,
    "start_time": "2021-11-21T09:07:16.695Z"
   },
   {
    "duration": 8,
    "start_time": "2021-11-21T09:07:16.710Z"
   },
   {
    "duration": 10,
    "start_time": "2021-11-21T09:07:16.721Z"
   },
   {
    "duration": 1973,
    "start_time": "2021-11-21T09:08:02.514Z"
   },
   {
    "duration": 24,
    "start_time": "2021-11-21T09:08:04.490Z"
   },
   {
    "duration": 27,
    "start_time": "2021-11-21T09:08:04.517Z"
   },
   {
    "duration": 25,
    "start_time": "2021-11-21T09:08:04.547Z"
   },
   {
    "duration": 22,
    "start_time": "2021-11-21T09:08:04.574Z"
   },
   {
    "duration": 14,
    "start_time": "2021-11-21T09:08:04.599Z"
   },
   {
    "duration": 56,
    "start_time": "2021-11-21T09:08:04.616Z"
   },
   {
    "duration": 11,
    "start_time": "2021-11-21T09:08:04.675Z"
   },
   {
    "duration": 9,
    "start_time": "2021-11-21T09:08:04.690Z"
   },
   {
    "duration": 19,
    "start_time": "2021-11-21T09:08:04.701Z"
   },
   {
    "duration": 47,
    "start_time": "2021-11-21T09:08:04.722Z"
   },
   {
    "duration": 11,
    "start_time": "2021-11-21T09:08:04.771Z"
   },
   {
    "duration": 12,
    "start_time": "2021-11-21T09:08:04.784Z"
   },
   {
    "duration": 125,
    "start_time": "2021-11-21T09:08:04.799Z"
   },
   {
    "duration": 88,
    "start_time": "2021-11-21T09:08:04.926Z"
   },
   {
    "duration": 10,
    "start_time": "2021-11-21T09:08:05.016Z"
   },
   {
    "duration": 21,
    "start_time": "2021-11-21T09:08:05.029Z"
   },
   {
    "duration": 99,
    "start_time": "2021-11-21T09:08:05.069Z"
   },
   {
    "duration": 43,
    "start_time": "2021-11-21T09:08:05.171Z"
   },
   {
    "duration": 11,
    "start_time": "2021-11-21T09:08:05.216Z"
   },
   {
    "duration": 126,
    "start_time": "2021-11-21T09:08:05.229Z"
   },
   {
    "duration": 44,
    "start_time": "2021-11-21T09:08:05.358Z"
   },
   {
    "duration": 14,
    "start_time": "2021-11-21T09:08:05.405Z"
   },
   {
    "duration": 9,
    "start_time": "2021-11-21T09:08:05.421Z"
   },
   {
    "duration": 40,
    "start_time": "2021-11-21T09:08:05.432Z"
   },
   {
    "duration": 31,
    "start_time": "2021-11-21T09:08:38.745Z"
   },
   {
    "duration": 1966,
    "start_time": "2021-11-21T09:21:12.796Z"
   },
   {
    "duration": 25,
    "start_time": "2021-11-21T09:21:14.765Z"
   },
   {
    "duration": 27,
    "start_time": "2021-11-21T09:21:14.793Z"
   },
   {
    "duration": 16,
    "start_time": "2021-11-21T09:21:14.823Z"
   },
   {
    "duration": 22,
    "start_time": "2021-11-21T09:21:14.868Z"
   },
   {
    "duration": 13,
    "start_time": "2021-11-21T09:21:14.893Z"
   },
   {
    "duration": 19,
    "start_time": "2021-11-21T09:21:14.909Z"
   },
   {
    "duration": 44,
    "start_time": "2021-11-21T09:21:14.932Z"
   },
   {
    "duration": 9,
    "start_time": "2021-11-21T09:21:14.979Z"
   },
   {
    "duration": 18,
    "start_time": "2021-11-21T09:21:14.990Z"
   },
   {
    "duration": 28,
    "start_time": "2021-11-21T09:21:15.010Z"
   },
   {
    "duration": 9,
    "start_time": "2021-11-21T09:21:15.066Z"
   },
   {
    "duration": 13,
    "start_time": "2021-11-21T09:21:15.078Z"
   },
   {
    "duration": 118,
    "start_time": "2021-11-21T09:21:15.093Z"
   },
   {
    "duration": 80,
    "start_time": "2021-11-21T09:21:15.214Z"
   },
   {
    "duration": 7,
    "start_time": "2021-11-21T09:21:15.296Z"
   },
   {
    "duration": 17,
    "start_time": "2021-11-21T09:21:15.305Z"
   },
   {
    "duration": 100,
    "start_time": "2021-11-21T09:21:15.325Z"
   },
   {
    "duration": 45,
    "start_time": "2021-11-21T09:21:15.428Z"
   },
   {
    "duration": 12,
    "start_time": "2021-11-21T09:21:15.475Z"
   },
   {
    "duration": 113,
    "start_time": "2021-11-21T09:21:15.489Z"
   },
   {
    "duration": 455,
    "start_time": "2021-11-21T09:21:15.605Z"
   },
   {
    "duration": -12,
    "start_time": "2021-11-21T09:21:16.075Z"
   },
   {
    "duration": -12,
    "start_time": "2021-11-21T09:21:16.077Z"
   },
   {
    "duration": -14,
    "start_time": "2021-11-21T09:21:16.080Z"
   },
   {
    "duration": -19,
    "start_time": "2021-11-21T09:21:16.086Z"
   },
   {
    "duration": 8330,
    "start_time": "2021-11-21T09:21:28.086Z"
   },
   {
    "duration": 8619,
    "start_time": "2021-11-21T09:23:27.804Z"
   },
   {
    "duration": 1968,
    "start_time": "2021-11-21T09:23:57.104Z"
   },
   {
    "duration": 24,
    "start_time": "2021-11-21T09:23:59.074Z"
   },
   {
    "duration": 27,
    "start_time": "2021-11-21T09:23:59.101Z"
   },
   {
    "duration": 37,
    "start_time": "2021-11-21T09:23:59.131Z"
   },
   {
    "duration": 22,
    "start_time": "2021-11-21T09:23:59.171Z"
   },
   {
    "duration": 16,
    "start_time": "2021-11-21T09:23:59.195Z"
   },
   {
    "duration": 19,
    "start_time": "2021-11-21T09:23:59.213Z"
   },
   {
    "duration": 12,
    "start_time": "2021-11-21T09:23:59.268Z"
   },
   {
    "duration": 9,
    "start_time": "2021-11-21T09:23:59.283Z"
   },
   {
    "duration": 26,
    "start_time": "2021-11-21T09:23:59.294Z"
   },
   {
    "duration": 15,
    "start_time": "2021-11-21T09:23:59.322Z"
   },
   {
    "duration": 32,
    "start_time": "2021-11-21T09:23:59.340Z"
   },
   {
    "duration": 14,
    "start_time": "2021-11-21T09:23:59.375Z"
   },
   {
    "duration": 119,
    "start_time": "2021-11-21T09:23:59.392Z"
   },
   {
    "duration": 77,
    "start_time": "2021-11-21T09:23:59.514Z"
   },
   {
    "duration": 7,
    "start_time": "2021-11-21T09:23:59.593Z"
   },
   {
    "duration": 14,
    "start_time": "2021-11-21T09:23:59.602Z"
   },
   {
    "duration": 105,
    "start_time": "2021-11-21T09:23:59.618Z"
   },
   {
    "duration": 41,
    "start_time": "2021-11-21T09:23:59.726Z"
   },
   {
    "duration": 10,
    "start_time": "2021-11-21T09:23:59.769Z"
   },
   {
    "duration": 115,
    "start_time": "2021-11-21T09:23:59.782Z"
   },
   {
    "duration": 8129,
    "start_time": "2021-11-21T09:23:59.900Z"
   },
   {
    "duration": -66,
    "start_time": "2021-11-21T09:24:08.098Z"
   },
   {
    "duration": -72,
    "start_time": "2021-11-21T09:24:08.106Z"
   },
   {
    "duration": -76,
    "start_time": "2021-11-21T09:24:08.111Z"
   },
   {
    "duration": -84,
    "start_time": "2021-11-21T09:24:08.121Z"
   },
   {
    "duration": 446,
    "start_time": "2021-11-21T09:24:33.854Z"
   },
   {
    "duration": 8177,
    "start_time": "2021-11-21T09:24:39.195Z"
   },
   {
    "duration": 31,
    "start_time": "2021-11-21T09:26:39.627Z"
   },
   {
    "duration": 349,
    "start_time": "2021-11-21T09:27:07.388Z"
   },
   {
    "duration": 6,
    "start_time": "2021-11-21T09:27:13.413Z"
   },
   {
    "duration": 110,
    "start_time": "2021-11-21T09:27:31.362Z"
   },
   {
    "duration": 664,
    "start_time": "2021-11-21T09:31:28.488Z"
   },
   {
    "duration": 2372,
    "start_time": "2021-11-21T09:32:09.478Z"
   },
   {
    "duration": 110,
    "start_time": "2021-11-21T09:32:35.793Z"
   },
   {
    "duration": 8055,
    "start_time": "2021-11-21T09:34:38.765Z"
   },
   {
    "duration": 101,
    "start_time": "2021-11-21T09:35:12.953Z"
   },
   {
    "duration": 2011,
    "start_time": "2021-11-21T09:36:30.874Z"
   },
   {
    "duration": 25,
    "start_time": "2021-11-21T09:36:32.888Z"
   },
   {
    "duration": 47,
    "start_time": "2021-11-21T09:36:32.922Z"
   },
   {
    "duration": 20,
    "start_time": "2021-11-21T09:36:32.972Z"
   },
   {
    "duration": 29,
    "start_time": "2021-11-21T09:36:32.995Z"
   },
   {
    "duration": 45,
    "start_time": "2021-11-21T09:36:33.028Z"
   },
   {
    "duration": 19,
    "start_time": "2021-11-21T09:36:33.077Z"
   },
   {
    "duration": 12,
    "start_time": "2021-11-21T09:36:33.099Z"
   },
   {
    "duration": 9,
    "start_time": "2021-11-21T09:36:33.114Z"
   },
   {
    "duration": 53,
    "start_time": "2021-11-21T09:36:33.126Z"
   },
   {
    "duration": 9,
    "start_time": "2021-11-21T09:36:33.181Z"
   },
   {
    "duration": 11,
    "start_time": "2021-11-21T09:36:33.192Z"
   },
   {
    "duration": 12,
    "start_time": "2021-11-21T09:36:33.205Z"
   },
   {
    "duration": 139,
    "start_time": "2021-11-21T09:36:33.219Z"
   },
   {
    "duration": 77,
    "start_time": "2021-11-21T09:36:33.360Z"
   },
   {
    "duration": 6,
    "start_time": "2021-11-21T09:36:33.440Z"
   },
   {
    "duration": 15,
    "start_time": "2021-11-21T09:36:33.467Z"
   },
   {
    "duration": 98,
    "start_time": "2021-11-21T09:36:33.484Z"
   },
   {
    "duration": 33,
    "start_time": "2021-11-21T09:36:33.585Z"
   },
   {
    "duration": 11,
    "start_time": "2021-11-21T09:36:33.621Z"
   },
   {
    "duration": 38,
    "start_time": "2021-11-21T09:36:33.635Z"
   },
   {
    "duration": 10,
    "start_time": "2021-11-21T09:36:33.677Z"
   },
   {
    "duration": 14,
    "start_time": "2021-11-21T09:36:33.689Z"
   },
   {
    "duration": 122,
    "start_time": "2021-11-21T09:36:33.705Z"
   },
   {
    "duration": 8369,
    "start_time": "2021-11-21T09:36:33.829Z"
   },
   {
    "duration": -22,
    "start_time": "2021-11-21T09:36:42.222Z"
   },
   {
    "duration": 2059,
    "start_time": "2021-11-21T09:37:20.531Z"
   },
   {
    "duration": 24,
    "start_time": "2021-11-21T09:37:22.593Z"
   },
   {
    "duration": 28,
    "start_time": "2021-11-21T09:37:22.621Z"
   },
   {
    "duration": 21,
    "start_time": "2021-11-21T09:37:22.652Z"
   },
   {
    "duration": 23,
    "start_time": "2021-11-21T09:37:22.675Z"
   },
   {
    "duration": 14,
    "start_time": "2021-11-21T09:37:22.701Z"
   },
   {
    "duration": 50,
    "start_time": "2021-11-21T09:37:22.718Z"
   },
   {
    "duration": 12,
    "start_time": "2021-11-21T09:37:22.772Z"
   },
   {
    "duration": 10,
    "start_time": "2021-11-21T09:37:22.787Z"
   },
   {
    "duration": 18,
    "start_time": "2021-11-21T09:37:22.799Z"
   },
   {
    "duration": 53,
    "start_time": "2021-11-21T09:37:22.820Z"
   },
   {
    "duration": 8,
    "start_time": "2021-11-21T09:37:22.875Z"
   },
   {
    "duration": 11,
    "start_time": "2021-11-21T09:37:22.886Z"
   },
   {
    "duration": 135,
    "start_time": "2021-11-21T09:37:22.899Z"
   },
   {
    "duration": 76,
    "start_time": "2021-11-21T09:37:23.037Z"
   },
   {
    "duration": 8,
    "start_time": "2021-11-21T09:37:23.116Z"
   },
   {
    "duration": 14,
    "start_time": "2021-11-21T09:37:23.126Z"
   },
   {
    "duration": 102,
    "start_time": "2021-11-21T09:37:23.142Z"
   },
   {
    "duration": 49,
    "start_time": "2021-11-21T09:37:23.247Z"
   },
   {
    "duration": 11,
    "start_time": "2021-11-21T09:37:23.298Z"
   },
   {
    "duration": 23,
    "start_time": "2021-11-21T09:37:23.311Z"
   },
   {
    "duration": 33,
    "start_time": "2021-11-21T09:37:23.337Z"
   },
   {
    "duration": 10,
    "start_time": "2021-11-21T09:37:23.376Z"
   },
   {
    "duration": 127,
    "start_time": "2021-11-21T09:37:23.389Z"
   },
   {
    "duration": 111,
    "start_time": "2021-11-21T09:37:23.518Z"
   },
   {
    "duration": 126,
    "start_time": "2021-11-21T09:37:23.632Z"
   },
   {
    "duration": 278,
    "start_time": "2021-11-21T09:44:20.342Z"
   },
   {
    "duration": 699,
    "start_time": "2021-11-21T11:40:49.539Z"
   },
   {
    "duration": 764,
    "start_time": "2021-11-21T11:41:16.930Z"
   },
   {
    "duration": 675,
    "start_time": "2021-11-21T11:41:23.270Z"
   },
   {
    "duration": 103,
    "start_time": "2021-11-21T11:55:39.459Z"
   },
   {
    "duration": 312,
    "start_time": "2021-11-21T11:55:46.448Z"
   },
   {
    "duration": 530,
    "start_time": "2021-11-21T12:02:11.408Z"
   },
   {
    "duration": 551,
    "start_time": "2021-11-21T12:06:31.185Z"
   },
   {
    "duration": 545,
    "start_time": "2021-11-21T12:09:20.847Z"
   },
   {
    "duration": 555,
    "start_time": "2021-11-21T12:09:35.872Z"
   },
   {
    "duration": 1331,
    "start_time": "2021-11-21T12:11:06.659Z"
   },
   {
    "duration": 4025,
    "start_time": "2021-11-21T12:11:35.405Z"
   },
   {
    "duration": 1834,
    "start_time": "2021-11-21T12:11:55.210Z"
   },
   {
    "duration": 2017,
    "start_time": "2021-11-21T12:12:04.989Z"
   },
   {
    "duration": 1222,
    "start_time": "2021-11-21T12:12:29.568Z"
   },
   {
    "duration": 277,
    "start_time": "2021-11-21T12:20:08.961Z"
   },
   {
    "duration": 6,
    "start_time": "2021-11-21T12:21:16.537Z"
   },
   {
    "duration": 395,
    "start_time": "2021-11-21T12:21:34.522Z"
   },
   {
    "duration": 8,
    "start_time": "2021-11-21T12:21:49.370Z"
   },
   {
    "duration": 8,
    "start_time": "2021-11-21T12:22:12.870Z"
   },
   {
    "duration": 9,
    "start_time": "2021-11-21T12:23:58.662Z"
   },
   {
    "duration": 11,
    "start_time": "2021-11-21T12:24:12.030Z"
   },
   {
    "duration": 12,
    "start_time": "2021-11-21T12:24:32.036Z"
   },
   {
    "duration": 14,
    "start_time": "2021-11-21T12:25:25.726Z"
   },
   {
    "duration": 13,
    "start_time": "2021-11-21T12:25:54.238Z"
   },
   {
    "duration": 8,
    "start_time": "2021-11-21T12:27:37.364Z"
   },
   {
    "duration": 13,
    "start_time": "2021-11-21T12:27:41.318Z"
   },
   {
    "duration": 11,
    "start_time": "2021-11-21T12:28:02.876Z"
   },
   {
    "duration": 282,
    "start_time": "2021-11-21T12:29:32.340Z"
   },
   {
    "duration": 8,
    "start_time": "2021-11-21T12:29:36.948Z"
   },
   {
    "duration": 268,
    "start_time": "2021-11-21T12:29:48.929Z"
   },
   {
    "duration": 281,
    "start_time": "2021-11-21T12:30:00.960Z"
   },
   {
    "duration": 265,
    "start_time": "2021-11-21T12:30:57.130Z"
   },
   {
    "duration": 6,
    "start_time": "2021-11-21T12:31:00.241Z"
   },
   {
    "duration": 269,
    "start_time": "2021-11-21T12:31:14.621Z"
   },
   {
    "duration": 6,
    "start_time": "2021-11-21T12:32:33.644Z"
   },
   {
    "duration": 5,
    "start_time": "2021-11-21T12:32:50.610Z"
   },
   {
    "duration": 1647,
    "start_time": "2021-11-21T12:35:32.637Z"
   },
   {
    "duration": 1630,
    "start_time": "2021-11-21T12:35:53.201Z"
   },
   {
    "duration": 11,
    "start_time": "2021-11-21T13:24:30.044Z"
   },
   {
    "duration": 12,
    "start_time": "2021-11-21T13:24:32.347Z"
   },
   {
    "duration": 1549,
    "start_time": "2021-11-21T13:26:39.167Z"
   },
   {
    "duration": 883,
    "start_time": "2021-11-21T13:26:52.558Z"
   },
   {
    "duration": 1070,
    "start_time": "2021-11-21T13:35:28.126Z"
   },
   {
    "duration": 897,
    "start_time": "2021-11-21T13:35:42.254Z"
   },
   {
    "duration": 12,
    "start_time": "2021-11-21T13:36:40.131Z"
   },
   {
    "duration": 12,
    "start_time": "2021-11-21T13:36:59.632Z"
   },
   {
    "duration": 2018,
    "start_time": "2021-11-21T14:37:28.051Z"
   },
   {
    "duration": 24,
    "start_time": "2021-11-21T14:37:30.072Z"
   },
   {
    "duration": 28,
    "start_time": "2021-11-21T14:37:30.099Z"
   },
   {
    "duration": 50,
    "start_time": "2021-11-21T14:37:30.130Z"
   },
   {
    "duration": 24,
    "start_time": "2021-11-21T14:37:30.183Z"
   },
   {
    "duration": 24,
    "start_time": "2021-11-21T14:37:30.209Z"
   },
   {
    "duration": 39,
    "start_time": "2021-11-21T14:37:30.236Z"
   },
   {
    "duration": 22,
    "start_time": "2021-11-21T14:37:30.279Z"
   },
   {
    "duration": 48,
    "start_time": "2021-11-21T14:37:30.304Z"
   },
   {
    "duration": 45,
    "start_time": "2021-11-21T14:37:30.355Z"
   },
   {
    "duration": 15,
    "start_time": "2021-11-21T14:37:30.403Z"
   },
   {
    "duration": 19,
    "start_time": "2021-11-21T14:37:30.420Z"
   },
   {
    "duration": 22,
    "start_time": "2021-11-21T14:37:30.442Z"
   },
   {
    "duration": 106,
    "start_time": "2021-11-21T14:37:30.466Z"
   },
   {
    "duration": 73,
    "start_time": "2021-11-21T14:37:30.574Z"
   },
   {
    "duration": 22,
    "start_time": "2021-11-21T14:37:30.650Z"
   },
   {
    "duration": 15,
    "start_time": "2021-11-21T14:37:30.675Z"
   },
   {
    "duration": 113,
    "start_time": "2021-11-21T14:37:30.693Z"
   },
   {
    "duration": 32,
    "start_time": "2021-11-21T14:37:30.808Z"
   },
   {
    "duration": 45,
    "start_time": "2021-11-21T14:37:30.843Z"
   },
   {
    "duration": 35,
    "start_time": "2021-11-21T14:37:30.891Z"
   },
   {
    "duration": 23,
    "start_time": "2021-11-21T14:37:30.928Z"
   },
   {
    "duration": 9,
    "start_time": "2021-11-21T14:37:30.955Z"
   },
   {
    "duration": 118,
    "start_time": "2021-11-21T14:37:30.968Z"
   },
   {
    "duration": 112,
    "start_time": "2021-11-21T14:37:31.089Z"
   },
   {
    "duration": 124,
    "start_time": "2021-11-21T14:37:31.204Z"
   },
   {
    "duration": 261,
    "start_time": "2021-11-21T14:37:31.330Z"
   },
   {
    "duration": 1581,
    "start_time": "2021-11-21T14:37:31.594Z"
   },
   {
    "duration": 10,
    "start_time": "2021-11-21T14:37:33.178Z"
   },
   {
    "duration": 9,
    "start_time": "2021-11-21T14:37:33.190Z"
   },
   {
    "duration": 24,
    "start_time": "2021-11-21T14:37:33.201Z"
   },
   {
    "duration": 6,
    "start_time": "2021-11-21T14:37:33.228Z"
   },
   {
    "duration": 934,
    "start_time": "2021-11-21T14:37:33.236Z"
   },
   {
    "duration": 11,
    "start_time": "2021-11-21T14:37:34.173Z"
   },
   {
    "duration": 14,
    "start_time": "2021-11-21T14:37:34.186Z"
   },
   {
    "duration": 1029,
    "start_time": "2021-11-21T14:37:34.202Z"
   },
   {
    "duration": 11,
    "start_time": "2021-11-21T14:37:35.233Z"
   },
   {
    "duration": 28,
    "start_time": "2021-11-21T14:37:35.246Z"
   },
   {
    "duration": 113,
    "start_time": "2021-11-21T14:37:35.276Z"
   },
   {
    "duration": 99,
    "start_time": "2021-11-21T17:05:39.969Z"
   },
   {
    "duration": 1712,
    "start_time": "2021-11-21T17:05:46.730Z"
   },
   {
    "duration": 17,
    "start_time": "2021-11-21T17:05:48.444Z"
   },
   {
    "duration": 20,
    "start_time": "2021-11-21T17:05:48.463Z"
   },
   {
    "duration": 11,
    "start_time": "2021-11-21T17:05:48.486Z"
   },
   {
    "duration": 15,
    "start_time": "2021-11-21T17:05:48.499Z"
   },
   {
    "duration": 9,
    "start_time": "2021-11-21T17:05:48.516Z"
   },
   {
    "duration": 43,
    "start_time": "2021-11-21T17:05:48.527Z"
   },
   {
    "duration": 11,
    "start_time": "2021-11-21T17:05:48.572Z"
   },
   {
    "duration": 7,
    "start_time": "2021-11-21T17:05:48.584Z"
   },
   {
    "duration": 13,
    "start_time": "2021-11-21T17:05:48.593Z"
   },
   {
    "duration": 7,
    "start_time": "2021-11-21T17:05:48.608Z"
   },
   {
    "duration": 11,
    "start_time": "2021-11-21T17:05:48.616Z"
   },
   {
    "duration": 20,
    "start_time": "2021-11-21T17:05:48.628Z"
   },
   {
    "duration": 83,
    "start_time": "2021-11-21T17:05:48.649Z"
   },
   {
    "duration": 63,
    "start_time": "2021-11-21T17:05:48.734Z"
   },
   {
    "duration": 6,
    "start_time": "2021-11-21T17:05:48.799Z"
   },
   {
    "duration": 10,
    "start_time": "2021-11-21T17:05:48.806Z"
   },
   {
    "duration": 77,
    "start_time": "2021-11-21T17:05:48.817Z"
   },
   {
    "duration": 21,
    "start_time": "2021-11-21T17:05:48.896Z"
   },
   {
    "duration": 6,
    "start_time": "2021-11-21T17:05:48.919Z"
   },
   {
    "duration": 11,
    "start_time": "2021-11-21T17:05:48.927Z"
   },
   {
    "duration": 24,
    "start_time": "2021-11-21T17:05:48.939Z"
   },
   {
    "duration": 6,
    "start_time": "2021-11-21T17:05:48.967Z"
   },
   {
    "duration": 56,
    "start_time": "2021-11-21T17:05:48.975Z"
   },
   {
    "duration": 73,
    "start_time": "2021-11-21T17:05:49.033Z"
   },
   {
    "duration": 72,
    "start_time": "2021-11-21T17:05:49.108Z"
   },
   {
    "duration": 147,
    "start_time": "2021-11-21T17:05:49.182Z"
   },
   {
    "duration": 892,
    "start_time": "2021-11-21T17:05:49.331Z"
   },
   {
    "duration": 8,
    "start_time": "2021-11-21T17:05:50.224Z"
   },
   {
    "duration": 12,
    "start_time": "2021-11-21T17:05:50.234Z"
   },
   {
    "duration": 19,
    "start_time": "2021-11-21T17:05:50.248Z"
   },
   {
    "duration": 4,
    "start_time": "2021-11-21T17:05:50.269Z"
   },
   {
    "duration": 500,
    "start_time": "2021-11-21T17:05:50.275Z"
   },
   {
    "duration": 8,
    "start_time": "2021-11-21T17:05:50.777Z"
   },
   {
    "duration": 7,
    "start_time": "2021-11-21T17:05:50.787Z"
   },
   {
    "duration": 622,
    "start_time": "2021-11-21T17:05:50.795Z"
   },
   {
    "duration": 8,
    "start_time": "2021-11-21T17:05:51.419Z"
   },
   {
    "duration": 11,
    "start_time": "2021-11-21T17:05:51.429Z"
   },
   {
    "duration": 89,
    "start_time": "2021-11-21T17:05:51.442Z"
   },
   {
    "duration": 6,
    "start_time": "2021-11-21T17:06:10.328Z"
   },
   {
    "duration": 94,
    "start_time": "2021-11-21T17:06:32.286Z"
   },
   {
    "duration": 6,
    "start_time": "2021-11-21T17:06:45.599Z"
   },
   {
    "duration": 6,
    "start_time": "2021-11-21T17:12:15.708Z"
   },
   {
    "duration": 3,
    "start_time": "2021-11-21T17:12:48.566Z"
   },
   {
    "duration": 6,
    "start_time": "2021-11-21T17:15:58.745Z"
   },
   {
    "duration": 6,
    "start_time": "2021-11-21T17:17:00.946Z"
   },
   {
    "duration": 7,
    "start_time": "2021-11-21T17:23:33.770Z"
   },
   {
    "duration": 6,
    "start_time": "2021-11-21T17:23:42.605Z"
   },
   {
    "duration": 438,
    "start_time": "2021-11-21T17:32:05.844Z"
   },
   {
    "duration": 374,
    "start_time": "2021-11-21T17:32:15.585Z"
   },
   {
    "duration": 6,
    "start_time": "2021-11-21T17:32:30.328Z"
   },
   {
    "duration": 126,
    "start_time": "2021-11-21T17:32:50.226Z"
   },
   {
    "duration": 10,
    "start_time": "2021-11-21T17:33:26.025Z"
   },
   {
    "duration": 15,
    "start_time": "2021-11-21T17:38:14.145Z"
   },
   {
    "duration": 9,
    "start_time": "2021-11-21T19:05:08.139Z"
   },
   {
    "duration": 8,
    "start_time": "2021-11-21T19:05:26.426Z"
   },
   {
    "duration": 643,
    "start_time": "2021-11-21T19:07:38.266Z"
   },
   {
    "duration": 1542,
    "start_time": "2021-11-21T19:12:03.293Z"
   },
   {
    "duration": 22,
    "start_time": "2021-11-21T19:12:04.837Z"
   },
   {
    "duration": 21,
    "start_time": "2021-11-21T19:12:04.861Z"
   },
   {
    "duration": 12,
    "start_time": "2021-11-21T19:12:04.884Z"
   },
   {
    "duration": 23,
    "start_time": "2021-11-21T19:12:04.897Z"
   },
   {
    "duration": 15,
    "start_time": "2021-11-21T19:12:04.922Z"
   },
   {
    "duration": 28,
    "start_time": "2021-11-21T19:12:04.939Z"
   },
   {
    "duration": 10,
    "start_time": "2021-11-21T19:12:04.970Z"
   },
   {
    "duration": 7,
    "start_time": "2021-11-21T19:12:04.982Z"
   },
   {
    "duration": 15,
    "start_time": "2021-11-21T19:12:04.991Z"
   },
   {
    "duration": 12,
    "start_time": "2021-11-21T19:12:05.008Z"
   },
   {
    "duration": 10,
    "start_time": "2021-11-21T19:12:05.022Z"
   },
   {
    "duration": 11,
    "start_time": "2021-11-21T19:12:05.033Z"
   },
   {
    "duration": 80,
    "start_time": "2021-11-21T19:12:05.046Z"
   },
   {
    "duration": 66,
    "start_time": "2021-11-21T19:12:05.128Z"
   },
   {
    "duration": 7,
    "start_time": "2021-11-21T19:12:05.196Z"
   },
   {
    "duration": 11,
    "start_time": "2021-11-21T19:12:05.205Z"
   },
   {
    "duration": 78,
    "start_time": "2021-11-21T19:12:05.218Z"
   },
   {
    "duration": 19,
    "start_time": "2021-11-21T19:12:05.298Z"
   },
   {
    "duration": 19,
    "start_time": "2021-11-21T19:12:05.318Z"
   },
   {
    "duration": 40,
    "start_time": "2021-11-21T19:12:05.339Z"
   },
   {
    "duration": 27,
    "start_time": "2021-11-21T19:12:05.381Z"
   },
   {
    "duration": 18,
    "start_time": "2021-11-21T19:12:05.411Z"
   },
   {
    "duration": 84,
    "start_time": "2021-11-21T19:12:05.431Z"
   },
   {
    "duration": 73,
    "start_time": "2021-11-21T19:12:05.517Z"
   },
   {
    "duration": 65,
    "start_time": "2021-11-21T19:12:05.591Z"
   },
   {
    "duration": 167,
    "start_time": "2021-11-21T19:12:05.663Z"
   },
   {
    "duration": 945,
    "start_time": "2021-11-21T19:12:05.832Z"
   },
   {
    "duration": 9,
    "start_time": "2021-11-21T19:12:06.780Z"
   },
   {
    "duration": 4,
    "start_time": "2021-11-21T19:12:06.791Z"
   },
   {
    "duration": 9,
    "start_time": "2021-11-21T19:12:06.796Z"
   },
   {
    "duration": 6,
    "start_time": "2021-11-21T19:12:06.806Z"
   },
   {
    "duration": 544,
    "start_time": "2021-11-21T19:12:06.813Z"
   },
   {
    "duration": 8,
    "start_time": "2021-11-21T19:12:07.363Z"
   },
   {
    "duration": 11,
    "start_time": "2021-11-21T19:12:07.373Z"
   },
   {
    "duration": 628,
    "start_time": "2021-11-21T19:12:07.385Z"
   },
   {
    "duration": 8,
    "start_time": "2021-11-21T19:12:08.015Z"
   },
   {
    "duration": 12,
    "start_time": "2021-11-21T19:12:08.024Z"
   },
   {
    "duration": 15,
    "start_time": "2021-11-21T19:12:08.038Z"
   },
   {
    "duration": 14,
    "start_time": "2021-11-21T19:12:08.063Z"
   },
   {
    "duration": 12,
    "start_time": "2021-11-21T19:12:08.079Z"
   },
   {
    "duration": 7,
    "start_time": "2021-11-21T19:12:08.093Z"
   },
   {
    "duration": 591,
    "start_time": "2021-11-21T19:12:08.102Z"
   },
   {
    "duration": 145,
    "start_time": "2021-11-21T19:18:48.320Z"
   },
   {
    "duration": 85,
    "start_time": "2021-11-21T19:19:09.270Z"
   },
   {
    "duration": 113,
    "start_time": "2021-11-21T19:19:30.998Z"
   },
   {
    "duration": 10,
    "start_time": "2021-11-21T19:19:38.869Z"
   },
   {
    "duration": 17618,
    "start_time": "2021-11-21T19:31:48.794Z"
   },
   {
    "duration": 24483,
    "start_time": "2021-11-21T19:32:31.975Z"
   },
   {
    "duration": 25210,
    "start_time": "2021-11-21T19:35:18.602Z"
   },
   {
    "duration": 25145,
    "start_time": "2021-11-21T19:36:51.165Z"
   },
   {
    "duration": 346,
    "start_time": "2021-11-21T19:37:52.195Z"
   },
   {
    "duration": 6803,
    "start_time": "2021-11-21T19:37:57.487Z"
   },
   {
    "duration": 6606,
    "start_time": "2021-11-21T19:39:35.385Z"
   },
   {
    "duration": 1065,
    "start_time": "2021-11-21T19:44:40.032Z"
   },
   {
    "duration": 356,
    "start_time": "2021-11-21T19:46:07.360Z"
   },
   {
    "duration": 628,
    "start_time": "2021-11-21T19:46:39.109Z"
   },
   {
    "duration": 545,
    "start_time": "2021-11-21T19:49:31.814Z"
   },
   {
    "duration": 1113,
    "start_time": "2021-11-21T19:49:57.427Z"
   },
   {
    "duration": 1170,
    "start_time": "2021-11-21T19:50:59.789Z"
   },
   {
    "duration": 591,
    "start_time": "2021-11-21T19:51:19.075Z"
   },
   {
    "duration": 1217,
    "start_time": "2021-11-21T19:51:32.085Z"
   },
   {
    "duration": 1097,
    "start_time": "2021-11-21T19:52:03.699Z"
   },
   {
    "duration": 238,
    "start_time": "2021-11-21T19:52:18.638Z"
   },
   {
    "duration": 952,
    "start_time": "2021-11-21T19:53:46.751Z"
   },
   {
    "duration": 1218,
    "start_time": "2021-11-21T19:54:10.434Z"
   },
   {
    "duration": 5,
    "start_time": "2021-11-21T20:44:41.103Z"
   },
   {
    "duration": 6421,
    "start_time": "2021-11-21T20:44:53.574Z"
   },
   {
    "duration": 21,
    "start_time": "2021-11-21T20:45:27.435Z"
   },
   {
    "duration": 1640,
    "start_time": "2021-11-21T20:46:22.341Z"
   },
   {
    "duration": 19,
    "start_time": "2021-11-21T20:46:23.983Z"
   },
   {
    "duration": 20,
    "start_time": "2021-11-21T20:46:24.004Z"
   },
   {
    "duration": 10,
    "start_time": "2021-11-21T20:46:24.025Z"
   },
   {
    "duration": 19,
    "start_time": "2021-11-21T20:46:24.036Z"
   },
   {
    "duration": 16,
    "start_time": "2021-11-21T20:46:24.065Z"
   },
   {
    "duration": 17,
    "start_time": "2021-11-21T20:46:24.084Z"
   },
   {
    "duration": 9,
    "start_time": "2021-11-21T20:46:24.103Z"
   },
   {
    "duration": 7,
    "start_time": "2021-11-21T20:46:24.114Z"
   },
   {
    "duration": 11,
    "start_time": "2021-11-21T20:46:24.122Z"
   },
   {
    "duration": 28,
    "start_time": "2021-11-21T20:46:24.135Z"
   },
   {
    "duration": 11,
    "start_time": "2021-11-21T20:46:24.166Z"
   },
   {
    "duration": 11,
    "start_time": "2021-11-21T20:46:24.180Z"
   },
   {
    "duration": 97,
    "start_time": "2021-11-21T20:46:24.193Z"
   },
   {
    "duration": 48,
    "start_time": "2021-11-21T20:46:24.292Z"
   },
   {
    "duration": 6,
    "start_time": "2021-11-21T20:46:24.342Z"
   },
   {
    "duration": 21,
    "start_time": "2021-11-21T20:46:24.350Z"
   },
   {
    "duration": 64,
    "start_time": "2021-11-21T20:46:24.373Z"
   },
   {
    "duration": 39,
    "start_time": "2021-11-21T20:46:24.438Z"
   },
   {
    "duration": 9,
    "start_time": "2021-11-21T20:46:24.480Z"
   },
   {
    "duration": 11,
    "start_time": "2021-11-21T20:46:24.491Z"
   },
   {
    "duration": 6,
    "start_time": "2021-11-21T20:46:24.503Z"
   },
   {
    "duration": 4,
    "start_time": "2021-11-21T20:46:24.512Z"
   },
   {
    "duration": 98,
    "start_time": "2021-11-21T20:46:24.518Z"
   },
   {
    "duration": 73,
    "start_time": "2021-11-21T20:46:24.617Z"
   },
   {
    "duration": 75,
    "start_time": "2021-11-21T20:46:24.693Z"
   },
   {
    "duration": 164,
    "start_time": "2021-11-21T20:46:24.772Z"
   },
   {
    "duration": 996,
    "start_time": "2021-11-21T20:46:24.938Z"
   },
   {
    "duration": 8,
    "start_time": "2021-11-21T20:46:25.935Z"
   },
   {
    "duration": 4,
    "start_time": "2021-11-21T20:46:25.944Z"
   },
   {
    "duration": 11,
    "start_time": "2021-11-21T20:46:25.964Z"
   },
   {
    "duration": 7,
    "start_time": "2021-11-21T20:46:25.977Z"
   },
   {
    "duration": 640,
    "start_time": "2021-11-21T20:46:25.986Z"
   },
   {
    "duration": 8,
    "start_time": "2021-11-21T20:46:26.629Z"
   },
   {
    "duration": 8,
    "start_time": "2021-11-21T20:46:26.639Z"
   },
   {
    "duration": 662,
    "start_time": "2021-11-21T20:46:26.649Z"
   },
   {
    "duration": 8,
    "start_time": "2021-11-21T20:46:27.312Z"
   },
   {
    "duration": 8,
    "start_time": "2021-11-21T20:46:27.321Z"
   },
   {
    "duration": 5,
    "start_time": "2021-11-21T20:46:27.331Z"
   },
   {
    "duration": 39,
    "start_time": "2021-11-21T20:46:27.338Z"
   },
   {
    "duration": 10,
    "start_time": "2021-11-21T20:46:27.380Z"
   },
   {
    "duration": 9,
    "start_time": "2021-11-21T20:46:27.392Z"
   },
   {
    "duration": 11,
    "start_time": "2021-11-21T20:46:27.403Z"
   },
   {
    "duration": 1163,
    "start_time": "2021-11-21T20:46:27.415Z"
   },
   {
    "duration": 22,
    "start_time": "2021-11-21T20:46:28.580Z"
   },
   {
    "duration": 1217,
    "start_time": "2021-11-21T20:47:32.406Z"
   },
   {
    "duration": 7725,
    "start_time": "2021-11-21T20:55:20.962Z"
   },
   {
    "duration": 6225,
    "start_time": "2021-11-21T20:55:43.963Z"
   },
   {
    "duration": 1650,
    "start_time": "2021-11-21T20:55:58.950Z"
   },
   {
    "duration": 17,
    "start_time": "2021-11-21T20:56:00.602Z"
   },
   {
    "duration": 19,
    "start_time": "2021-11-21T20:56:00.621Z"
   },
   {
    "duration": 11,
    "start_time": "2021-11-21T20:56:00.642Z"
   },
   {
    "duration": 41,
    "start_time": "2021-11-21T20:56:00.654Z"
   },
   {
    "duration": 11,
    "start_time": "2021-11-21T20:56:00.697Z"
   },
   {
    "duration": 14,
    "start_time": "2021-11-21T20:56:00.709Z"
   },
   {
    "duration": 7,
    "start_time": "2021-11-21T20:56:00.726Z"
   },
   {
    "duration": 22,
    "start_time": "2021-11-21T20:56:00.735Z"
   },
   {
    "duration": 34,
    "start_time": "2021-11-21T20:56:00.759Z"
   },
   {
    "duration": 26,
    "start_time": "2021-11-21T20:56:00.795Z"
   },
   {
    "duration": 16,
    "start_time": "2021-11-21T20:56:00.822Z"
   },
   {
    "duration": 25,
    "start_time": "2021-11-21T20:56:00.840Z"
   },
   {
    "duration": 82,
    "start_time": "2021-11-21T20:56:00.867Z"
   },
   {
    "duration": 65,
    "start_time": "2021-11-21T20:56:00.951Z"
   },
   {
    "duration": 8,
    "start_time": "2021-11-21T20:56:01.018Z"
   },
   {
    "duration": 26,
    "start_time": "2021-11-21T20:56:01.028Z"
   },
   {
    "duration": 74,
    "start_time": "2021-11-21T20:56:01.055Z"
   },
   {
    "duration": 46,
    "start_time": "2021-11-21T20:56:01.130Z"
   },
   {
    "duration": 62,
    "start_time": "2021-11-21T20:56:01.178Z"
   },
   {
    "duration": 15,
    "start_time": "2021-11-21T20:56:01.242Z"
   },
   {
    "duration": 25,
    "start_time": "2021-11-21T20:56:01.259Z"
   },
   {
    "duration": 6671,
    "start_time": "2021-11-21T20:56:01.288Z"
   },
   {
    "duration": -567,
    "start_time": "2021-11-21T20:56:08.529Z"
   },
   {
    "duration": -569,
    "start_time": "2021-11-21T20:56:08.533Z"
   },
   {
    "duration": -571,
    "start_time": "2021-11-21T20:56:08.536Z"
   },
   {
    "duration": -572,
    "start_time": "2021-11-21T20:56:08.539Z"
   },
   {
    "duration": -577,
    "start_time": "2021-11-21T20:56:08.545Z"
   },
   {
    "duration": -579,
    "start_time": "2021-11-21T20:56:08.548Z"
   },
   {
    "duration": -581,
    "start_time": "2021-11-21T20:56:08.551Z"
   },
   {
    "duration": -584,
    "start_time": "2021-11-21T20:56:08.555Z"
   },
   {
    "duration": -588,
    "start_time": "2021-11-21T20:56:08.560Z"
   },
   {
    "duration": -591,
    "start_time": "2021-11-21T20:56:08.563Z"
   },
   {
    "duration": -594,
    "start_time": "2021-11-21T20:56:08.567Z"
   },
   {
    "duration": -596,
    "start_time": "2021-11-21T20:56:08.570Z"
   },
   {
    "duration": -609,
    "start_time": "2021-11-21T20:56:08.584Z"
   },
   {
    "duration": -611,
    "start_time": "2021-11-21T20:56:08.587Z"
   },
   {
    "duration": -616,
    "start_time": "2021-11-21T20:56:08.593Z"
   },
   {
    "duration": -617,
    "start_time": "2021-11-21T20:56:08.597Z"
   },
   {
    "duration": -618,
    "start_time": "2021-11-21T20:56:08.600Z"
   },
   {
    "duration": -620,
    "start_time": "2021-11-21T20:56:08.603Z"
   },
   {
    "duration": -623,
    "start_time": "2021-11-21T20:56:08.607Z"
   },
   {
    "duration": -628,
    "start_time": "2021-11-21T20:56:08.613Z"
   },
   {
    "duration": -629,
    "start_time": "2021-11-21T20:56:08.616Z"
   },
   {
    "duration": -631,
    "start_time": "2021-11-21T20:56:08.619Z"
   },
   {
    "duration": 246,
    "start_time": "2021-11-21T20:59:58.318Z"
   },
   {
    "duration": 1753,
    "start_time": "2021-11-21T21:00:14.621Z"
   },
   {
    "duration": 1698,
    "start_time": "2021-11-21T21:00:28.626Z"
   },
   {
    "duration": 5,
    "start_time": "2021-11-21T21:01:28.327Z"
   },
   {
    "duration": 89,
    "start_time": "2021-11-21T21:03:30.492Z"
   },
   {
    "duration": 81,
    "start_time": "2021-11-21T21:03:34.557Z"
   },
   {
    "duration": 95,
    "start_time": "2021-11-21T21:03:38.960Z"
   },
   {
    "duration": 16,
    "start_time": "2021-11-21T21:03:56.823Z"
   },
   {
    "duration": 17,
    "start_time": "2021-11-21T21:04:05.907Z"
   },
   {
    "duration": 21,
    "start_time": "2021-11-21T21:06:29.604Z"
   },
   {
    "duration": 7,
    "start_time": "2021-11-21T21:06:45.516Z"
   },
   {
    "duration": 5,
    "start_time": "2021-11-21T21:07:30.558Z"
   },
   {
    "duration": 2168,
    "start_time": "2021-11-21T21:09:06.496Z"
   },
   {
    "duration": 22,
    "start_time": "2021-11-21T21:09:08.667Z"
   },
   {
    "duration": 25,
    "start_time": "2021-11-21T21:09:08.694Z"
   },
   {
    "duration": 22,
    "start_time": "2021-11-21T21:09:08.721Z"
   },
   {
    "duration": 42,
    "start_time": "2021-11-21T21:09:08.745Z"
   },
   {
    "duration": 18,
    "start_time": "2021-11-21T21:09:08.789Z"
   },
   {
    "duration": 18,
    "start_time": "2021-11-21T21:09:08.810Z"
   },
   {
    "duration": 33,
    "start_time": "2021-11-21T21:09:08.831Z"
   },
   {
    "duration": 23,
    "start_time": "2021-11-21T21:09:08.868Z"
   },
   {
    "duration": 28,
    "start_time": "2021-11-21T21:09:08.893Z"
   },
   {
    "duration": 22,
    "start_time": "2021-11-21T21:09:08.923Z"
   },
   {
    "duration": 24,
    "start_time": "2021-11-21T21:09:08.947Z"
   },
   {
    "duration": 32,
    "start_time": "2021-11-21T21:09:08.973Z"
   },
   {
    "duration": 94,
    "start_time": "2021-11-21T21:09:09.007Z"
   },
   {
    "duration": 50,
    "start_time": "2021-11-21T21:09:09.102Z"
   },
   {
    "duration": 11,
    "start_time": "2021-11-21T21:09:09.154Z"
   },
   {
    "duration": 31,
    "start_time": "2021-11-21T21:09:09.167Z"
   },
   {
    "duration": 80,
    "start_time": "2021-11-21T21:09:09.201Z"
   },
   {
    "duration": 23,
    "start_time": "2021-11-21T21:09:09.284Z"
   },
   {
    "duration": 29,
    "start_time": "2021-11-21T21:09:09.309Z"
   },
   {
    "duration": 20,
    "start_time": "2021-11-21T21:09:09.340Z"
   },
   {
    "duration": 42,
    "start_time": "2021-11-21T21:09:09.364Z"
   },
   {
    "duration": 26,
    "start_time": "2021-11-21T21:09:09.409Z"
   },
   {
    "duration": 40,
    "start_time": "2021-11-21T21:09:09.437Z"
   },
   {
    "duration": 624,
    "start_time": "2021-11-21T21:09:09.481Z"
   },
   {
    "duration": -548,
    "start_time": "2021-11-21T21:09:10.655Z"
   },
   {
    "duration": -551,
    "start_time": "2021-11-21T21:09:10.658Z"
   },
   {
    "duration": -555,
    "start_time": "2021-11-21T21:09:10.663Z"
   },
   {
    "duration": -557,
    "start_time": "2021-11-21T21:09:10.666Z"
   },
   {
    "duration": -560,
    "start_time": "2021-11-21T21:09:10.670Z"
   },
   {
    "duration": -562,
    "start_time": "2021-11-21T21:09:10.673Z"
   },
   {
    "duration": -564,
    "start_time": "2021-11-21T21:09:10.676Z"
   },
   {
    "duration": -568,
    "start_time": "2021-11-21T21:09:10.681Z"
   },
   {
    "duration": -571,
    "start_time": "2021-11-21T21:09:10.685Z"
   },
   {
    "duration": -573,
    "start_time": "2021-11-21T21:09:10.688Z"
   },
   {
    "duration": -575,
    "start_time": "2021-11-21T21:09:10.691Z"
   },
   {
    "duration": -578,
    "start_time": "2021-11-21T21:09:10.695Z"
   },
   {
    "duration": -581,
    "start_time": "2021-11-21T21:09:10.699Z"
   },
   {
    "duration": -583,
    "start_time": "2021-11-21T21:09:10.702Z"
   },
   {
    "duration": -585,
    "start_time": "2021-11-21T21:09:10.705Z"
   },
   {
    "duration": -587,
    "start_time": "2021-11-21T21:09:10.708Z"
   },
   {
    "duration": -590,
    "start_time": "2021-11-21T21:09:10.712Z"
   },
   {
    "duration": -593,
    "start_time": "2021-11-21T21:09:10.716Z"
   },
   {
    "duration": -595,
    "start_time": "2021-11-21T21:09:10.719Z"
   },
   {
    "duration": -597,
    "start_time": "2021-11-21T21:09:10.722Z"
   },
   {
    "duration": -599,
    "start_time": "2021-11-21T21:09:10.725Z"
   },
   {
    "duration": -602,
    "start_time": "2021-11-21T21:09:10.729Z"
   },
   {
    "duration": 602,
    "start_time": "2021-11-21T21:10:17.986Z"
   },
   {
    "duration": 385,
    "start_time": "2021-11-21T21:10:53.420Z"
   },
   {
    "duration": 282,
    "start_time": "2021-11-21T21:11:04.904Z"
   },
   {
    "duration": 3,
    "start_time": "2021-11-21T21:11:15.085Z"
   },
   {
    "duration": 1603,
    "start_time": "2021-11-21T21:11:23.149Z"
   },
   {
    "duration": 21,
    "start_time": "2021-11-21T21:11:24.755Z"
   },
   {
    "duration": 23,
    "start_time": "2021-11-21T21:11:24.781Z"
   },
   {
    "duration": 13,
    "start_time": "2021-11-21T21:11:24.806Z"
   },
   {
    "duration": 16,
    "start_time": "2021-11-21T21:11:24.821Z"
   },
   {
    "duration": 35,
    "start_time": "2021-11-21T21:11:24.839Z"
   },
   {
    "duration": 20,
    "start_time": "2021-11-21T21:11:24.878Z"
   },
   {
    "duration": 8,
    "start_time": "2021-11-21T21:11:24.900Z"
   },
   {
    "duration": 8,
    "start_time": "2021-11-21T21:11:24.910Z"
   },
   {
    "duration": 15,
    "start_time": "2021-11-21T21:11:24.919Z"
   },
   {
    "duration": 33,
    "start_time": "2021-11-21T21:11:24.936Z"
   },
   {
    "duration": 25,
    "start_time": "2021-11-21T21:11:24.971Z"
   },
   {
    "duration": 7,
    "start_time": "2021-11-21T21:11:24.997Z"
   },
   {
    "duration": 78,
    "start_time": "2021-11-21T21:11:25.005Z"
   },
   {
    "duration": 51,
    "start_time": "2021-11-21T21:11:25.085Z"
   },
   {
    "duration": 6,
    "start_time": "2021-11-21T21:11:25.138Z"
   },
   {
    "duration": 10,
    "start_time": "2021-11-21T21:11:25.145Z"
   },
   {
    "duration": 64,
    "start_time": "2021-11-21T21:11:25.156Z"
   },
   {
    "duration": 19,
    "start_time": "2021-11-21T21:11:25.222Z"
   },
   {
    "duration": 7,
    "start_time": "2021-11-21T21:11:25.242Z"
   },
   {
    "duration": 12,
    "start_time": "2021-11-21T21:11:25.250Z"
   },
   {
    "duration": 7,
    "start_time": "2021-11-21T21:11:25.266Z"
   },
   {
    "duration": 8,
    "start_time": "2021-11-21T21:11:25.275Z"
   },
   {
    "duration": 22,
    "start_time": "2021-11-21T21:11:25.285Z"
   },
   {
    "duration": 2,
    "start_time": "2021-11-21T21:11:25.309Z"
   },
   {
    "duration": 66,
    "start_time": "2021-11-21T21:11:25.313Z"
   },
   {
    "duration": 60,
    "start_time": "2021-11-21T21:11:25.381Z"
   },
   {
    "duration": 67,
    "start_time": "2021-11-21T21:11:25.443Z"
   },
   {
    "duration": 151,
    "start_time": "2021-11-21T21:11:25.512Z"
   },
   {
    "duration": 1098,
    "start_time": "2021-11-21T21:11:25.665Z"
   },
   {
    "duration": 9,
    "start_time": "2021-11-21T21:11:26.766Z"
   },
   {
    "duration": 6,
    "start_time": "2021-11-21T21:11:26.777Z"
   },
   {
    "duration": 12,
    "start_time": "2021-11-21T21:11:26.785Z"
   },
   {
    "duration": 4,
    "start_time": "2021-11-21T21:11:26.798Z"
   },
   {
    "duration": 541,
    "start_time": "2021-11-21T21:11:26.803Z"
   },
   {
    "duration": 8,
    "start_time": "2021-11-21T21:11:27.346Z"
   },
   {
    "duration": 8,
    "start_time": "2021-11-21T21:11:27.364Z"
   },
   {
    "duration": 632,
    "start_time": "2021-11-21T21:11:27.374Z"
   },
   {
    "duration": 8,
    "start_time": "2021-11-21T21:11:28.008Z"
   },
   {
    "duration": 8,
    "start_time": "2021-11-21T21:11:28.018Z"
   },
   {
    "duration": 5,
    "start_time": "2021-11-21T21:11:28.028Z"
   },
   {
    "duration": 35,
    "start_time": "2021-11-21T21:11:28.035Z"
   },
   {
    "duration": 10,
    "start_time": "2021-11-21T21:11:28.073Z"
   },
   {
    "duration": 16,
    "start_time": "2021-11-21T21:11:28.085Z"
   },
   {
    "duration": 12,
    "start_time": "2021-11-21T21:11:28.103Z"
   },
   {
    "duration": 1163,
    "start_time": "2021-11-21T21:11:28.117Z"
   },
   {
    "duration": 13,
    "start_time": "2021-11-21T21:11:29.282Z"
   },
   {
    "duration": 59,
    "start_time": "2021-11-21T21:12:10.625Z"
   },
   {
    "duration": 1190,
    "start_time": "2021-11-21T21:37:01.961Z"
   },
   {
    "duration": 1233,
    "start_time": "2021-11-21T21:37:08.906Z"
   },
   {
    "duration": 1235,
    "start_time": "2021-11-21T21:37:36.357Z"
   },
   {
    "duration": 318,
    "start_time": "2021-11-24T08:41:11.772Z"
   },
   {
    "duration": 1994,
    "start_time": "2021-11-24T08:41:20.199Z"
   },
   {
    "duration": 27,
    "start_time": "2021-11-24T08:41:22.196Z"
   },
   {
    "duration": 30,
    "start_time": "2021-11-24T08:41:22.226Z"
   },
   {
    "duration": 18,
    "start_time": "2021-11-24T08:41:22.259Z"
   },
   {
    "duration": 50,
    "start_time": "2021-11-24T08:41:22.280Z"
   },
   {
    "duration": 16,
    "start_time": "2021-11-24T08:41:22.333Z"
   },
   {
    "duration": 21,
    "start_time": "2021-11-24T08:41:22.352Z"
   },
   {
    "duration": 11,
    "start_time": "2021-11-24T08:41:22.377Z"
   },
   {
    "duration": 9,
    "start_time": "2021-11-24T08:41:22.430Z"
   },
   {
    "duration": 18,
    "start_time": "2021-11-24T08:41:22.441Z"
   },
   {
    "duration": 12,
    "start_time": "2021-11-24T08:41:22.462Z"
   },
   {
    "duration": 10,
    "start_time": "2021-11-24T08:41:22.477Z"
   },
   {
    "duration": 43,
    "start_time": "2021-11-24T08:41:22.489Z"
   },
   {
    "duration": 100,
    "start_time": "2021-11-24T08:41:22.534Z"
   },
   {
    "duration": 71,
    "start_time": "2021-11-24T08:41:22.637Z"
   },
   {
    "duration": 19,
    "start_time": "2021-11-24T08:41:22.710Z"
   },
   {
    "duration": 13,
    "start_time": "2021-11-24T08:41:22.731Z"
   },
   {
    "duration": 102,
    "start_time": "2021-11-24T08:41:22.746Z"
   },
   {
    "duration": 31,
    "start_time": "2021-11-24T08:41:22.850Z"
   },
   {
    "duration": 11,
    "start_time": "2021-11-24T08:41:22.884Z"
   },
   {
    "duration": 37,
    "start_time": "2021-11-24T08:41:22.897Z"
   },
   {
    "duration": 25,
    "start_time": "2021-11-24T08:41:22.936Z"
   },
   {
    "duration": 20,
    "start_time": "2021-11-24T08:41:22.966Z"
   },
   {
    "duration": 45,
    "start_time": "2021-11-24T08:41:22.989Z"
   },
   {
    "duration": 5,
    "start_time": "2021-11-24T08:41:23.036Z"
   },
   {
    "duration": 113,
    "start_time": "2021-11-24T08:41:23.043Z"
   },
   {
    "duration": 107,
    "start_time": "2021-11-24T08:41:23.159Z"
   },
   {
    "duration": 119,
    "start_time": "2021-11-24T08:41:23.269Z"
   },
   {
    "duration": 297,
    "start_time": "2021-11-24T08:41:23.390Z"
   },
   {
    "duration": 98,
    "start_time": "2021-11-24T08:41:23.689Z"
   },
   {
    "duration": 1555,
    "start_time": "2021-11-24T08:41:23.790Z"
   },
   {
    "duration": 12,
    "start_time": "2021-11-24T08:41:25.348Z"
   },
   {
    "duration": 9,
    "start_time": "2021-11-24T08:41:25.362Z"
   },
   {
    "duration": 13,
    "start_time": "2021-11-24T08:41:25.373Z"
   },
   {
    "duration": 41,
    "start_time": "2021-11-24T08:41:25.389Z"
   },
   {
    "duration": 874,
    "start_time": "2021-11-24T08:41:25.433Z"
   },
   {
    "duration": 20,
    "start_time": "2021-11-24T08:41:26.310Z"
   },
   {
    "duration": 10,
    "start_time": "2021-11-24T08:41:26.332Z"
   },
   {
    "duration": 985,
    "start_time": "2021-11-24T08:41:26.344Z"
   },
   {
    "duration": 10,
    "start_time": "2021-11-24T08:41:27.331Z"
   },
   {
    "duration": 14,
    "start_time": "2021-11-24T08:41:27.343Z"
   },
   {
    "duration": 10,
    "start_time": "2021-11-24T08:41:27.360Z"
   },
   {
    "duration": 12,
    "start_time": "2021-11-24T08:41:27.372Z"
   },
   {
    "duration": 52,
    "start_time": "2021-11-24T08:41:27.386Z"
   },
   {
    "duration": 1817,
    "start_time": "2021-11-24T08:41:27.440Z"
   },
   {
    "duration": 1848,
    "start_time": "2021-11-24T08:41:29.259Z"
   },
   {
    "duration": 476,
    "start_time": "2021-11-24T08:41:31.109Z"
   },
   {
    "duration": -25,
    "start_time": "2021-11-24T08:41:31.612Z"
   },
   {
    "duration": -27,
    "start_time": "2021-11-24T08:41:31.615Z"
   },
   {
    "duration": -31,
    "start_time": "2021-11-24T08:41:31.620Z"
   },
   {
    "duration": 5,
    "start_time": "2021-11-24T08:55:18.813Z"
   },
   {
    "duration": 80,
    "start_time": "2021-11-24T09:30:34.811Z"
   },
   {
    "duration": 641,
    "start_time": "2021-11-24T09:30:53.316Z"
   },
   {
    "duration": 94,
    "start_time": "2021-11-24T09:31:11.167Z"
   },
   {
    "duration": 283,
    "start_time": "2021-11-24T09:31:16.911Z"
   },
   {
    "duration": 8227,
    "start_time": "2021-11-24T09:31:55.095Z"
   },
   {
    "duration": 6160,
    "start_time": "2021-11-24T09:33:00.168Z"
   },
   {
    "duration": 6276,
    "start_time": "2021-11-24T09:33:36.332Z"
   },
   {
    "duration": 2027,
    "start_time": "2021-11-24T09:34:02.767Z"
   },
   {
    "duration": 24,
    "start_time": "2021-11-24T09:34:04.797Z"
   },
   {
    "duration": 28,
    "start_time": "2021-11-24T09:34:04.824Z"
   },
   {
    "duration": 17,
    "start_time": "2021-11-24T09:34:04.855Z"
   },
   {
    "duration": 23,
    "start_time": "2021-11-24T09:34:04.874Z"
   },
   {
    "duration": 39,
    "start_time": "2021-11-24T09:34:04.900Z"
   },
   {
    "duration": 19,
    "start_time": "2021-11-24T09:34:04.942Z"
   },
   {
    "duration": 12,
    "start_time": "2021-11-24T09:34:04.965Z"
   },
   {
    "duration": 50,
    "start_time": "2021-11-24T09:34:04.980Z"
   },
   {
    "duration": 15,
    "start_time": "2021-11-24T09:34:05.032Z"
   },
   {
    "duration": 12,
    "start_time": "2021-11-24T09:34:05.050Z"
   },
   {
    "duration": 11,
    "start_time": "2021-11-24T09:34:05.065Z"
   },
   {
    "duration": 53,
    "start_time": "2021-11-24T09:34:05.079Z"
   },
   {
    "duration": 169,
    "start_time": "2021-11-24T09:34:05.136Z"
   },
   {
    "duration": 94,
    "start_time": "2021-11-24T09:34:05.309Z"
   },
   {
    "duration": 22,
    "start_time": "2021-11-24T09:34:05.407Z"
   },
   {
    "duration": 18,
    "start_time": "2021-11-24T09:34:05.432Z"
   },
   {
    "duration": 98,
    "start_time": "2021-11-24T09:34:05.453Z"
   },
   {
    "duration": 34,
    "start_time": "2021-11-24T09:34:05.553Z"
   },
   {
    "duration": 10,
    "start_time": "2021-11-24T09:34:05.589Z"
   },
   {
    "duration": 36,
    "start_time": "2021-11-24T09:34:05.602Z"
   },
   {
    "duration": 9,
    "start_time": "2021-11-24T09:34:05.641Z"
   },
   {
    "duration": 8,
    "start_time": "2021-11-24T09:34:05.655Z"
   },
   {
    "duration": 35,
    "start_time": "2021-11-24T09:34:05.666Z"
   },
   {
    "duration": 26,
    "start_time": "2021-11-24T09:34:05.704Z"
   },
   {
    "duration": 116,
    "start_time": "2021-11-24T09:34:05.733Z"
   },
   {
    "duration": 106,
    "start_time": "2021-11-24T09:34:05.852Z"
   },
   {
    "duration": 124,
    "start_time": "2021-11-24T09:34:05.960Z"
   },
   {
    "duration": 263,
    "start_time": "2021-11-24T09:34:06.086Z"
   },
   {
    "duration": 102,
    "start_time": "2021-11-24T09:34:06.352Z"
   },
   {
    "duration": 1641,
    "start_time": "2021-11-24T09:34:06.456Z"
   },
   {
    "duration": 11,
    "start_time": "2021-11-24T09:34:08.099Z"
   },
   {
    "duration": 6,
    "start_time": "2021-11-24T09:34:08.131Z"
   },
   {
    "duration": 12,
    "start_time": "2021-11-24T09:34:08.140Z"
   },
   {
    "duration": 6,
    "start_time": "2021-11-24T09:34:08.155Z"
   },
   {
    "duration": 969,
    "start_time": "2021-11-24T09:34:08.163Z"
   },
   {
    "duration": 12,
    "start_time": "2021-11-24T09:34:09.135Z"
   },
   {
    "duration": 16,
    "start_time": "2021-11-24T09:34:09.149Z"
   },
   {
    "duration": 999,
    "start_time": "2021-11-24T09:34:09.168Z"
   },
   {
    "duration": 11,
    "start_time": "2021-11-24T09:34:10.169Z"
   },
   {
    "duration": 14,
    "start_time": "2021-11-24T09:34:10.183Z"
   },
   {
    "duration": 41,
    "start_time": "2021-11-24T09:34:10.199Z"
   },
   {
    "duration": 12,
    "start_time": "2021-11-24T09:34:10.243Z"
   },
   {
    "duration": 14,
    "start_time": "2021-11-24T09:34:10.258Z"
   },
   {
    "duration": 2017,
    "start_time": "2021-11-24T09:34:10.274Z"
   },
   {
    "duration": 2037,
    "start_time": "2021-11-24T09:34:12.294Z"
   },
   {
    "duration": 6577,
    "start_time": "2021-11-24T09:34:14.333Z"
   },
   {
    "duration": -41,
    "start_time": "2021-11-24T09:34:20.954Z"
   },
   {
    "duration": -47,
    "start_time": "2021-11-24T09:34:20.961Z"
   },
   {
    "duration": -49,
    "start_time": "2021-11-24T09:34:20.965Z"
   },
   {
    "duration": 2102,
    "start_time": "2021-11-24T09:34:51.396Z"
   },
   {
    "duration": 33,
    "start_time": "2021-11-24T09:34:53.501Z"
   },
   {
    "duration": 44,
    "start_time": "2021-11-24T09:34:53.538Z"
   },
   {
    "duration": 16,
    "start_time": "2021-11-24T09:34:53.585Z"
   },
   {
    "duration": 22,
    "start_time": "2021-11-24T09:34:53.629Z"
   },
   {
    "duration": 14,
    "start_time": "2021-11-24T09:34:53.655Z"
   },
   {
    "duration": 19,
    "start_time": "2021-11-24T09:34:53.672Z"
   },
   {
    "duration": 12,
    "start_time": "2021-11-24T09:34:53.731Z"
   },
   {
    "duration": 11,
    "start_time": "2021-11-24T09:34:53.747Z"
   },
   {
    "duration": 25,
    "start_time": "2021-11-24T09:34:53.761Z"
   },
   {
    "duration": 17,
    "start_time": "2021-11-24T09:34:53.789Z"
   },
   {
    "duration": 9,
    "start_time": "2021-11-24T09:34:53.828Z"
   },
   {
    "duration": 16,
    "start_time": "2021-11-24T09:34:53.839Z"
   },
   {
    "duration": 118,
    "start_time": "2021-11-24T09:34:53.857Z"
   },
   {
    "duration": 78,
    "start_time": "2021-11-24T09:34:53.977Z"
   },
   {
    "duration": 7,
    "start_time": "2021-11-24T09:34:54.057Z"
   },
   {
    "duration": 35,
    "start_time": "2021-11-24T09:34:54.066Z"
   },
   {
    "duration": 86,
    "start_time": "2021-11-24T09:34:54.103Z"
   },
   {
    "duration": 38,
    "start_time": "2021-11-24T09:34:54.192Z"
   },
   {
    "duration": 10,
    "start_time": "2021-11-24T09:34:54.233Z"
   },
   {
    "duration": 29,
    "start_time": "2021-11-24T09:34:54.245Z"
   },
   {
    "duration": 28,
    "start_time": "2021-11-24T09:34:54.276Z"
   },
   {
    "duration": 28,
    "start_time": "2021-11-24T09:34:54.309Z"
   },
   {
    "duration": 50,
    "start_time": "2021-11-24T09:34:54.340Z"
   },
   {
    "duration": 4,
    "start_time": "2021-11-24T09:34:54.393Z"
   },
   {
    "duration": 121,
    "start_time": "2021-11-24T09:34:54.399Z"
   },
   {
    "duration": 99,
    "start_time": "2021-11-24T09:34:54.522Z"
   },
   {
    "duration": 119,
    "start_time": "2021-11-24T09:34:54.623Z"
   },
   {
    "duration": 265,
    "start_time": "2021-11-24T09:34:54.745Z"
   },
   {
    "duration": 91,
    "start_time": "2021-11-24T09:34:55.012Z"
   },
   {
    "duration": 1587,
    "start_time": "2021-11-24T09:34:55.106Z"
   },
   {
    "duration": 10,
    "start_time": "2021-11-24T09:34:56.696Z"
   },
   {
    "duration": 26,
    "start_time": "2021-11-24T09:34:56.709Z"
   },
   {
    "duration": 17,
    "start_time": "2021-11-24T09:34:56.738Z"
   },
   {
    "duration": 15,
    "start_time": "2021-11-24T09:34:56.757Z"
   },
   {
    "duration": 888,
    "start_time": "2021-11-24T09:34:56.774Z"
   },
   {
    "duration": 10,
    "start_time": "2021-11-24T09:34:57.664Z"
   },
   {
    "duration": 13,
    "start_time": "2021-11-24T09:34:57.676Z"
   },
   {
    "duration": 1002,
    "start_time": "2021-11-24T09:34:57.691Z"
   },
   {
    "duration": 11,
    "start_time": "2021-11-24T09:34:58.695Z"
   },
   {
    "duration": 29,
    "start_time": "2021-11-24T09:34:58.708Z"
   },
   {
    "duration": 11,
    "start_time": "2021-11-24T09:34:58.739Z"
   },
   {
    "duration": 10,
    "start_time": "2021-11-24T09:34:58.752Z"
   },
   {
    "duration": 14,
    "start_time": "2021-11-24T09:34:58.764Z"
   },
   {
    "duration": 1981,
    "start_time": "2021-11-24T09:34:58.780Z"
   },
   {
    "duration": 1843,
    "start_time": "2021-11-24T09:35:00.764Z"
   },
   {
    "duration": 6,
    "start_time": "2021-11-24T09:35:02.610Z"
   },
   {
    "duration": 6758,
    "start_time": "2021-11-24T09:35:02.630Z"
   },
   {
    "duration": -19,
    "start_time": "2021-11-24T09:35:09.409Z"
   },
   {
    "duration": -22,
    "start_time": "2021-11-24T09:35:09.413Z"
   },
   {
    "duration": -26,
    "start_time": "2021-11-24T09:35:09.419Z"
   },
   {
    "duration": 7942,
    "start_time": "2021-11-24T09:35:25.961Z"
   },
   {
    "duration": 11,
    "start_time": "2021-11-24T09:35:57.396Z"
   },
   {
    "duration": 2130,
    "start_time": "2021-11-24T09:39:25.473Z"
   },
   {
    "duration": 25,
    "start_time": "2021-11-24T09:39:27.605Z"
   },
   {
    "duration": 29,
    "start_time": "2021-11-24T09:39:27.632Z"
   },
   {
    "duration": 22,
    "start_time": "2021-11-24T09:39:27.664Z"
   },
   {
    "duration": 43,
    "start_time": "2021-11-24T09:39:27.688Z"
   },
   {
    "duration": 15,
    "start_time": "2021-11-24T09:39:27.733Z"
   },
   {
    "duration": 28,
    "start_time": "2021-11-24T09:39:27.750Z"
   },
   {
    "duration": 26,
    "start_time": "2021-11-24T09:39:27.781Z"
   },
   {
    "duration": 34,
    "start_time": "2021-11-24T09:39:27.810Z"
   },
   {
    "duration": 40,
    "start_time": "2021-11-24T09:39:27.846Z"
   },
   {
    "duration": 14,
    "start_time": "2021-11-24T09:39:27.889Z"
   },
   {
    "duration": 26,
    "start_time": "2021-11-24T09:39:27.906Z"
   },
   {
    "duration": 19,
    "start_time": "2021-11-24T09:39:27.935Z"
   },
   {
    "duration": 102,
    "start_time": "2021-11-24T09:39:27.957Z"
   },
   {
    "duration": 86,
    "start_time": "2021-11-24T09:39:28.062Z"
   },
   {
    "duration": 8,
    "start_time": "2021-11-24T09:39:28.150Z"
   },
   {
    "duration": 27,
    "start_time": "2021-11-24T09:39:28.161Z"
   },
   {
    "duration": 110,
    "start_time": "2021-11-24T09:39:28.190Z"
   },
   {
    "duration": 41,
    "start_time": "2021-11-24T09:39:28.303Z"
   },
   {
    "duration": 11,
    "start_time": "2021-11-24T09:39:28.346Z"
   },
   {
    "duration": 16,
    "start_time": "2021-11-24T09:39:28.359Z"
   },
   {
    "duration": 13,
    "start_time": "2021-11-24T09:39:28.378Z"
   },
   {
    "duration": 33,
    "start_time": "2021-11-24T09:39:28.396Z"
   },
   {
    "duration": 36,
    "start_time": "2021-11-24T09:39:28.433Z"
   },
   {
    "duration": 4,
    "start_time": "2021-11-24T09:39:28.471Z"
   },
   {
    "duration": 122,
    "start_time": "2021-11-24T09:39:28.478Z"
   },
   {
    "duration": 110,
    "start_time": "2021-11-24T09:39:28.603Z"
   },
   {
    "duration": 130,
    "start_time": "2021-11-24T09:39:28.715Z"
   },
   {
    "duration": 272,
    "start_time": "2021-11-24T09:39:28.847Z"
   },
   {
    "duration": 92,
    "start_time": "2021-11-24T09:39:29.121Z"
   },
   {
    "duration": 1559,
    "start_time": "2021-11-24T09:39:29.215Z"
   },
   {
    "duration": 11,
    "start_time": "2021-11-24T09:39:30.776Z"
   },
   {
    "duration": 21,
    "start_time": "2021-11-24T09:39:30.789Z"
   },
   {
    "duration": 33,
    "start_time": "2021-11-24T09:39:30.813Z"
   },
   {
    "duration": 25,
    "start_time": "2021-11-24T09:39:30.849Z"
   },
   {
    "duration": 894,
    "start_time": "2021-11-24T09:39:30.877Z"
   },
   {
    "duration": 12,
    "start_time": "2021-11-24T09:39:31.773Z"
   },
   {
    "duration": 13,
    "start_time": "2021-11-24T09:39:31.788Z"
   },
   {
    "duration": 993,
    "start_time": "2021-11-24T09:39:31.803Z"
   },
   {
    "duration": 10,
    "start_time": "2021-11-24T09:39:32.799Z"
   },
   {
    "duration": 28,
    "start_time": "2021-11-24T09:39:32.811Z"
   },
   {
    "duration": 39,
    "start_time": "2021-11-24T09:39:32.841Z"
   },
   {
    "duration": 34,
    "start_time": "2021-11-24T09:39:32.882Z"
   },
   {
    "duration": 26,
    "start_time": "2021-11-24T09:39:32.918Z"
   },
   {
    "duration": 1853,
    "start_time": "2021-11-24T09:39:32.946Z"
   },
   {
    "duration": 1968,
    "start_time": "2021-11-24T09:39:34.801Z"
   },
   {
    "duration": 11,
    "start_time": "2021-11-24T09:39:36.772Z"
   },
   {
    "duration": 6914,
    "start_time": "2021-11-24T09:39:36.786Z"
   },
   {
    "duration": -28,
    "start_time": "2021-11-24T09:39:43.730Z"
   },
   {
    "duration": -34,
    "start_time": "2021-11-24T09:39:43.737Z"
   },
   {
    "duration": -35,
    "start_time": "2021-11-24T09:39:43.740Z"
   },
   {
    "duration": 274,
    "start_time": "2021-11-24T09:40:12.464Z"
   },
   {
    "duration": 284,
    "start_time": "2021-11-24T09:40:21.715Z"
   },
   {
    "duration": 21,
    "start_time": "2021-11-24T09:40:38.360Z"
   },
   {
    "duration": 21,
    "start_time": "2021-11-24T09:41:13.947Z"
   },
   {
    "duration": 36,
    "start_time": "2021-11-24T09:41:42.059Z"
   },
   {
    "duration": 46,
    "start_time": "2021-11-24T09:42:24.510Z"
   },
   {
    "duration": 260,
    "start_time": "2021-11-24T10:04:27.352Z"
   },
   {
    "duration": 1862,
    "start_time": "2021-11-24T10:06:36.083Z"
   },
   {
    "duration": 105,
    "start_time": "2021-11-24T10:28:13.972Z"
   },
   {
    "duration": 678,
    "start_time": "2021-11-24T10:28:21.171Z"
   },
   {
    "duration": 653,
    "start_time": "2021-11-24T10:28:40.120Z"
   },
   {
    "duration": 1255,
    "start_time": "2021-11-24T10:29:04.419Z"
   },
   {
    "duration": 786,
    "start_time": "2021-11-24T10:29:23.948Z"
   },
   {
    "duration": 80,
    "start_time": "2021-11-24T10:29:43.683Z"
   },
   {
    "duration": 131,
    "start_time": "2021-11-24T10:29:53.275Z"
   },
   {
    "duration": 606,
    "start_time": "2021-11-24T10:30:27.979Z"
   },
   {
    "duration": 843,
    "start_time": "2021-11-24T10:31:24.196Z"
   },
   {
    "duration": 9,
    "start_time": "2021-11-24T10:31:42.080Z"
   },
   {
    "duration": 2246,
    "start_time": "2021-11-24T10:31:54.835Z"
   },
   {
    "duration": 25,
    "start_time": "2021-11-24T10:31:57.084Z"
   },
   {
    "duration": 28,
    "start_time": "2021-11-24T10:31:57.115Z"
   },
   {
    "duration": 19,
    "start_time": "2021-11-24T10:31:57.146Z"
   },
   {
    "duration": 27,
    "start_time": "2021-11-24T10:31:57.167Z"
   },
   {
    "duration": 45,
    "start_time": "2021-11-24T10:31:57.197Z"
   },
   {
    "duration": 20,
    "start_time": "2021-11-24T10:31:57.246Z"
   },
   {
    "duration": 11,
    "start_time": "2021-11-24T10:31:57.269Z"
   },
   {
    "duration": 47,
    "start_time": "2021-11-24T10:31:57.283Z"
   },
   {
    "duration": 24,
    "start_time": "2021-11-24T10:31:57.333Z"
   },
   {
    "duration": 15,
    "start_time": "2021-11-24T10:31:57.360Z"
   },
   {
    "duration": 14,
    "start_time": "2021-11-24T10:31:57.378Z"
   },
   {
    "duration": 41,
    "start_time": "2021-11-24T10:31:57.394Z"
   },
   {
    "duration": 167,
    "start_time": "2021-11-24T10:31:57.438Z"
   },
   {
    "duration": 85,
    "start_time": "2021-11-24T10:31:57.608Z"
   },
   {
    "duration": 7,
    "start_time": "2021-11-24T10:31:57.695Z"
   },
   {
    "duration": 34,
    "start_time": "2021-11-24T10:31:57.705Z"
   },
   {
    "duration": 117,
    "start_time": "2021-11-24T10:31:57.742Z"
   },
   {
    "duration": 54,
    "start_time": "2021-11-24T10:31:57.862Z"
   },
   {
    "duration": 26,
    "start_time": "2021-11-24T10:31:57.919Z"
   },
   {
    "duration": 25,
    "start_time": "2021-11-24T10:31:57.948Z"
   },
   {
    "duration": 11,
    "start_time": "2021-11-24T10:31:57.982Z"
   },
   {
    "duration": 37,
    "start_time": "2021-11-24T10:31:57.998Z"
   },
   {
    "duration": 50,
    "start_time": "2021-11-24T10:31:58.038Z"
   },
   {
    "duration": 6,
    "start_time": "2021-11-24T10:31:58.091Z"
   },
   {
    "duration": 190,
    "start_time": "2021-11-24T10:31:58.100Z"
   },
   {
    "duration": 138,
    "start_time": "2021-11-24T10:31:58.292Z"
   },
   {
    "duration": 155,
    "start_time": "2021-11-24T10:31:58.432Z"
   },
   {
    "duration": 319,
    "start_time": "2021-11-24T10:31:58.590Z"
   },
   {
    "duration": 96,
    "start_time": "2021-11-24T10:31:58.911Z"
   },
   {
    "duration": 1743,
    "start_time": "2021-11-24T10:31:59.010Z"
   },
   {
    "duration": 13,
    "start_time": "2021-11-24T10:32:00.755Z"
   },
   {
    "duration": 69,
    "start_time": "2021-11-24T10:32:00.770Z"
   },
   {
    "duration": 31,
    "start_time": "2021-11-24T10:32:00.841Z"
   },
   {
    "duration": 60,
    "start_time": "2021-11-24T10:32:00.875Z"
   },
   {
    "duration": 1027,
    "start_time": "2021-11-24T10:32:00.938Z"
   },
   {
    "duration": 13,
    "start_time": "2021-11-24T10:32:01.967Z"
   },
   {
    "duration": 23,
    "start_time": "2021-11-24T10:32:01.983Z"
   },
   {
    "duration": 910,
    "start_time": "2021-11-24T10:32:02.009Z"
   },
   {
    "duration": 11,
    "start_time": "2021-11-24T10:32:02.929Z"
   },
   {
    "duration": 20,
    "start_time": "2021-11-24T10:32:02.942Z"
   },
   {
    "duration": 28,
    "start_time": "2021-11-24T10:32:02.964Z"
   },
   {
    "duration": 18,
    "start_time": "2021-11-24T10:32:02.995Z"
   },
   {
    "duration": 27,
    "start_time": "2021-11-24T10:32:03.016Z"
   },
   {
    "duration": 1924,
    "start_time": "2021-11-24T10:32:03.045Z"
   },
   {
    "duration": 2015,
    "start_time": "2021-11-24T10:32:04.972Z"
   },
   {
    "duration": 598,
    "start_time": "2021-11-24T10:32:06.989Z"
   },
   {
    "duration": -22,
    "start_time": "2021-11-24T10:32:07.612Z"
   },
   {
    "duration": -24,
    "start_time": "2021-11-24T10:32:07.616Z"
   },
   {
    "duration": -31,
    "start_time": "2021-11-24T10:32:07.624Z"
   },
   {
    "duration": -35,
    "start_time": "2021-11-24T10:32:07.630Z"
   },
   {
    "duration": -45,
    "start_time": "2021-11-24T10:32:07.641Z"
   },
   {
    "duration": 32,
    "start_time": "2021-11-24T10:34:28.609Z"
   },
   {
    "duration": 9,
    "start_time": "2021-11-24T10:34:37.628Z"
   },
   {
    "duration": 2017,
    "start_time": "2021-11-24T12:58:21.811Z"
   },
   {
    "duration": 23,
    "start_time": "2021-11-24T12:58:23.831Z"
   },
   {
    "duration": 34,
    "start_time": "2021-11-24T12:58:23.857Z"
   },
   {
    "duration": 36,
    "start_time": "2021-11-24T12:58:23.894Z"
   },
   {
    "duration": 23,
    "start_time": "2021-11-24T12:58:23.932Z"
   },
   {
    "duration": 21,
    "start_time": "2021-11-24T12:58:23.957Z"
   },
   {
    "duration": 34,
    "start_time": "2021-11-24T12:58:23.980Z"
   },
   {
    "duration": 20,
    "start_time": "2021-11-24T12:58:24.018Z"
   },
   {
    "duration": 32,
    "start_time": "2021-11-24T12:58:24.041Z"
   },
   {
    "duration": 33,
    "start_time": "2021-11-24T12:58:24.076Z"
   },
   {
    "duration": 20,
    "start_time": "2021-11-24T12:58:24.111Z"
   },
   {
    "duration": 33,
    "start_time": "2021-11-24T12:58:24.134Z"
   },
   {
    "duration": 22,
    "start_time": "2021-11-24T12:58:24.170Z"
   },
   {
    "duration": 126,
    "start_time": "2021-11-24T12:58:24.194Z"
   },
   {
    "duration": 75,
    "start_time": "2021-11-24T12:58:24.323Z"
   },
   {
    "duration": 7,
    "start_time": "2021-11-24T12:58:24.400Z"
   },
   {
    "duration": 28,
    "start_time": "2021-11-24T12:58:24.409Z"
   },
   {
    "duration": 93,
    "start_time": "2021-11-24T12:58:24.439Z"
   },
   {
    "duration": 34,
    "start_time": "2021-11-24T12:58:24.534Z"
   },
   {
    "duration": 10,
    "start_time": "2021-11-24T12:58:24.570Z"
   },
   {
    "duration": 21,
    "start_time": "2021-11-24T12:58:24.583Z"
   },
   {
    "duration": 30,
    "start_time": "2021-11-24T12:58:24.606Z"
   },
   {
    "duration": 7,
    "start_time": "2021-11-24T12:58:24.641Z"
   },
   {
    "duration": 30,
    "start_time": "2021-11-24T12:58:24.652Z"
   },
   {
    "duration": 5,
    "start_time": "2021-11-24T12:58:24.685Z"
   },
   {
    "duration": 170,
    "start_time": "2021-11-24T12:58:24.693Z"
   },
   {
    "duration": 135,
    "start_time": "2021-11-24T12:58:24.866Z"
   },
   {
    "duration": 157,
    "start_time": "2021-11-24T12:58:25.004Z"
   },
   {
    "duration": 290,
    "start_time": "2021-11-24T12:58:25.164Z"
   },
   {
    "duration": 95,
    "start_time": "2021-11-24T12:58:25.457Z"
   },
   {
    "duration": 1544,
    "start_time": "2021-11-24T12:58:25.554Z"
   },
   {
    "duration": 10,
    "start_time": "2021-11-24T12:58:27.101Z"
   },
   {
    "duration": 19,
    "start_time": "2021-11-24T12:58:27.113Z"
   },
   {
    "duration": 14,
    "start_time": "2021-11-24T12:58:27.134Z"
   },
   {
    "duration": 5,
    "start_time": "2021-11-24T12:58:27.150Z"
   },
   {
    "duration": 970,
    "start_time": "2021-11-24T12:58:27.158Z"
   },
   {
    "duration": 10,
    "start_time": "2021-11-24T12:58:28.131Z"
   },
   {
    "duration": 16,
    "start_time": "2021-11-24T12:58:28.143Z"
   },
   {
    "duration": 900,
    "start_time": "2021-11-24T12:58:28.161Z"
   },
   {
    "duration": 12,
    "start_time": "2021-11-24T12:58:29.065Z"
   },
   {
    "duration": 14,
    "start_time": "2021-11-24T12:58:29.080Z"
   },
   {
    "duration": 42,
    "start_time": "2021-11-24T12:58:29.097Z"
   },
   {
    "duration": 11,
    "start_time": "2021-11-24T12:58:29.141Z"
   },
   {
    "duration": 15,
    "start_time": "2021-11-24T12:58:29.154Z"
   },
   {
    "duration": 1966,
    "start_time": "2021-11-24T12:58:29.172Z"
   },
   {
    "duration": 1908,
    "start_time": "2021-11-24T12:58:31.141Z"
   },
   {
    "duration": 79,
    "start_time": "2021-11-24T12:58:33.052Z"
   },
   {
    "duration": 8,
    "start_time": "2021-11-24T12:58:33.133Z"
   },
   {
    "duration": 34,
    "start_time": "2021-11-24T12:58:33.144Z"
   },
   {
    "duration": 98,
    "start_time": "2021-11-24T12:58:33.181Z"
   },
   {
    "duration": 8,
    "start_time": "2021-11-24T13:00:58.106Z"
   },
   {
    "duration": 9,
    "start_time": "2021-11-24T13:02:33.163Z"
   },
   {
    "duration": 9,
    "start_time": "2021-11-24T13:03:55.107Z"
   },
   {
    "duration": 25,
    "start_time": "2021-11-24T13:05:25.914Z"
   },
   {
    "duration": 8,
    "start_time": "2021-11-24T13:08:08.236Z"
   },
   {
    "duration": 1956,
    "start_time": "2021-11-24T13:32:51.168Z"
   },
   {
    "duration": 24,
    "start_time": "2021-11-24T13:32:53.127Z"
   },
   {
    "duration": 30,
    "start_time": "2021-11-24T13:32:53.155Z"
   },
   {
    "duration": 51,
    "start_time": "2021-11-24T13:32:53.188Z"
   },
   {
    "duration": 25,
    "start_time": "2021-11-24T13:32:53.242Z"
   },
   {
    "duration": 14,
    "start_time": "2021-11-24T13:32:53.269Z"
   },
   {
    "duration": 53,
    "start_time": "2021-11-24T13:32:53.285Z"
   },
   {
    "duration": 11,
    "start_time": "2021-11-24T13:32:53.342Z"
   },
   {
    "duration": 15,
    "start_time": "2021-11-24T13:32:53.356Z"
   },
   {
    "duration": 22,
    "start_time": "2021-11-24T13:32:53.374Z"
   },
   {
    "duration": 9,
    "start_time": "2021-11-24T13:32:53.430Z"
   },
   {
    "duration": 13,
    "start_time": "2021-11-24T13:32:53.441Z"
   },
   {
    "duration": 13,
    "start_time": "2021-11-24T13:32:53.457Z"
   },
   {
    "duration": 9,
    "start_time": "2021-11-24T13:32:53.473Z"
   },
   {
    "duration": 138,
    "start_time": "2021-11-24T13:32:53.485Z"
   },
   {
    "duration": 71,
    "start_time": "2021-11-24T13:32:53.626Z"
   },
   {
    "duration": 7,
    "start_time": "2021-11-24T13:32:53.700Z"
   },
   {
    "duration": 13,
    "start_time": "2021-11-24T13:32:53.730Z"
   },
   {
    "duration": 98,
    "start_time": "2021-11-24T13:32:53.746Z"
   },
   {
    "duration": 35,
    "start_time": "2021-11-24T13:32:53.846Z"
   },
   {
    "duration": 11,
    "start_time": "2021-11-24T13:32:53.883Z"
   },
   {
    "duration": 37,
    "start_time": "2021-11-24T13:32:53.897Z"
   },
   {
    "duration": 8,
    "start_time": "2021-11-24T13:32:53.939Z"
   },
   {
    "duration": 8,
    "start_time": "2021-11-24T13:32:53.950Z"
   },
   {
    "duration": 32,
    "start_time": "2021-11-24T13:32:53.960Z"
   },
   {
    "duration": 4,
    "start_time": "2021-11-24T13:32:53.994Z"
   },
   {
    "duration": 155,
    "start_time": "2021-11-24T13:32:54.000Z"
   },
   {
    "duration": 126,
    "start_time": "2021-11-24T13:32:54.157Z"
   },
   {
    "duration": 144,
    "start_time": "2021-11-24T13:32:54.285Z"
   },
   {
    "duration": 283,
    "start_time": "2021-11-24T13:32:54.431Z"
   },
   {
    "duration": 92,
    "start_time": "2021-11-24T13:32:54.716Z"
   },
   {
    "duration": 1576,
    "start_time": "2021-11-24T13:32:54.810Z"
   },
   {
    "duration": 11,
    "start_time": "2021-11-24T13:32:56.388Z"
   },
   {
    "duration": 30,
    "start_time": "2021-11-24T13:32:56.401Z"
   },
   {
    "duration": 11,
    "start_time": "2021-11-24T13:32:56.434Z"
   },
   {
    "duration": 17,
    "start_time": "2021-11-24T13:32:56.447Z"
   },
   {
    "duration": 1005,
    "start_time": "2021-11-24T13:32:56.467Z"
   },
   {
    "duration": 11,
    "start_time": "2021-11-24T13:32:57.475Z"
   },
   {
    "duration": 15,
    "start_time": "2021-11-24T13:32:57.488Z"
   },
   {
    "duration": 907,
    "start_time": "2021-11-24T13:32:57.506Z"
   },
   {
    "duration": 19,
    "start_time": "2021-11-24T13:32:58.415Z"
   },
   {
    "duration": 16,
    "start_time": "2021-11-24T13:32:58.437Z"
   },
   {
    "duration": 9,
    "start_time": "2021-11-24T13:32:58.456Z"
   },
   {
    "duration": 10,
    "start_time": "2021-11-24T13:32:58.467Z"
   },
   {
    "duration": 51,
    "start_time": "2021-11-24T13:32:58.479Z"
   },
   {
    "duration": 1990,
    "start_time": "2021-11-24T13:32:58.533Z"
   },
   {
    "duration": 1924,
    "start_time": "2021-11-24T13:33:00.529Z"
   },
   {
    "duration": 75,
    "start_time": "2021-11-24T13:33:02.456Z"
   },
   {
    "duration": 9,
    "start_time": "2021-11-24T13:33:02.533Z"
   },
   {
    "duration": 25,
    "start_time": "2021-11-24T13:33:02.545Z"
   },
   {
    "duration": 1422,
    "start_time": "2021-11-24T19:37:33.868Z"
   },
   {
    "duration": 14,
    "start_time": "2021-11-24T19:37:35.292Z"
   },
   {
    "duration": 18,
    "start_time": "2021-11-24T19:37:35.308Z"
   },
   {
    "duration": 10,
    "start_time": "2021-11-24T19:37:35.327Z"
   },
   {
    "duration": 22,
    "start_time": "2021-11-24T19:37:35.338Z"
   },
   {
    "duration": 29,
    "start_time": "2021-11-24T19:37:35.362Z"
   },
   {
    "duration": 11,
    "start_time": "2021-11-24T19:37:35.393Z"
   },
   {
    "duration": 7,
    "start_time": "2021-11-24T19:37:35.407Z"
   },
   {
    "duration": 7,
    "start_time": "2021-11-24T19:37:35.416Z"
   },
   {
    "duration": 13,
    "start_time": "2021-11-24T19:37:35.424Z"
   },
   {
    "duration": 8,
    "start_time": "2021-11-24T19:37:35.439Z"
   },
   {
    "duration": 7,
    "start_time": "2021-11-24T19:37:35.448Z"
   },
   {
    "duration": 7,
    "start_time": "2021-11-24T19:37:35.456Z"
   },
   {
    "duration": 7,
    "start_time": "2021-11-24T19:37:35.488Z"
   },
   {
    "duration": 63,
    "start_time": "2021-11-24T19:37:35.496Z"
   },
   {
    "duration": 62,
    "start_time": "2021-11-24T19:37:35.560Z"
   },
   {
    "duration": 6,
    "start_time": "2021-11-24T19:37:35.624Z"
   },
   {
    "duration": 8,
    "start_time": "2021-11-24T19:37:35.631Z"
   },
   {
    "duration": 69,
    "start_time": "2021-11-24T19:37:35.640Z"
   },
   {
    "duration": 19,
    "start_time": "2021-11-24T19:37:35.711Z"
   },
   {
    "duration": 7,
    "start_time": "2021-11-24T19:37:35.731Z"
   },
   {
    "duration": 10,
    "start_time": "2021-11-24T19:37:35.739Z"
   },
   {
    "duration": 5,
    "start_time": "2021-11-24T19:37:35.752Z"
   },
   {
    "duration": 4,
    "start_time": "2021-11-24T19:37:35.759Z"
   },
   {
    "duration": 38,
    "start_time": "2021-11-24T19:37:35.765Z"
   },
   {
    "duration": 2,
    "start_time": "2021-11-24T19:37:35.805Z"
   },
   {
    "duration": 66,
    "start_time": "2021-11-24T19:37:35.809Z"
   },
   {
    "duration": 72,
    "start_time": "2021-11-24T19:37:35.877Z"
   },
   {
    "duration": 86,
    "start_time": "2021-11-24T19:37:35.950Z"
   },
   {
    "duration": 150,
    "start_time": "2021-11-24T19:37:36.038Z"
   },
   {
    "duration": 47,
    "start_time": "2021-11-24T19:37:36.189Z"
   },
   {
    "duration": 816,
    "start_time": "2021-11-24T19:37:36.238Z"
   },
   {
    "duration": 7,
    "start_time": "2021-11-24T19:37:37.055Z"
   },
   {
    "duration": 4,
    "start_time": "2021-11-24T19:37:37.064Z"
   },
   {
    "duration": 21,
    "start_time": "2021-11-24T19:37:37.069Z"
   },
   {
    "duration": 3,
    "start_time": "2021-11-24T19:37:37.092Z"
   },
   {
    "duration": 530,
    "start_time": "2021-11-24T19:37:37.097Z"
   },
   {
    "duration": 7,
    "start_time": "2021-11-24T19:37:37.629Z"
   },
   {
    "duration": 12,
    "start_time": "2021-11-24T19:37:37.637Z"
   },
   {
    "duration": 502,
    "start_time": "2021-11-24T19:37:37.650Z"
   },
   {
    "duration": 7,
    "start_time": "2021-11-24T19:37:38.153Z"
   },
   {
    "duration": 7,
    "start_time": "2021-11-24T19:37:38.162Z"
   },
   {
    "duration": 21,
    "start_time": "2021-11-24T19:37:38.171Z"
   },
   {
    "duration": 8,
    "start_time": "2021-11-24T19:37:38.194Z"
   },
   {
    "duration": 12,
    "start_time": "2021-11-24T19:37:38.203Z"
   },
   {
    "duration": 1338,
    "start_time": "2021-11-24T19:37:38.216Z"
   },
   {
    "duration": 1112,
    "start_time": "2021-11-24T19:37:39.556Z"
   },
   {
    "duration": 36,
    "start_time": "2021-11-24T19:37:40.670Z"
   },
   {
    "duration": 4,
    "start_time": "2021-11-24T19:37:40.708Z"
   },
   {
    "duration": 11,
    "start_time": "2021-11-24T19:37:40.714Z"
   },
   {
    "duration": 3,
    "start_time": "2021-11-24T19:43:37.584Z"
   },
   {
    "duration": 3,
    "start_time": "2021-11-24T19:43:39.623Z"
   },
   {
    "duration": 8,
    "start_time": "2021-11-24T19:49:04.328Z"
   },
   {
    "duration": 26,
    "start_time": "2021-11-24T19:51:05.588Z"
   },
   {
    "duration": 6,
    "start_time": "2021-11-24T19:51:57.921Z"
   },
   {
    "duration": 26,
    "start_time": "2021-11-24T20:03:56.650Z"
   },
   {
    "duration": 648,
    "start_time": "2021-11-24T20:04:18.981Z"
   },
   {
    "duration": 446,
    "start_time": "2021-11-24T21:13:17.946Z"
   },
   {
    "duration": 1975,
    "start_time": "2021-11-24T21:13:27.061Z"
   },
   {
    "duration": 27,
    "start_time": "2021-11-24T21:13:29.040Z"
   },
   {
    "duration": 28,
    "start_time": "2021-11-24T21:13:29.070Z"
   },
   {
    "duration": 16,
    "start_time": "2021-11-24T21:13:29.101Z"
   },
   {
    "duration": 55,
    "start_time": "2021-11-24T21:13:29.119Z"
   },
   {
    "duration": 15,
    "start_time": "2021-11-24T21:13:29.176Z"
   },
   {
    "duration": 18,
    "start_time": "2021-11-24T21:13:29.194Z"
   },
   {
    "duration": 43,
    "start_time": "2021-11-24T21:13:29.216Z"
   },
   {
    "duration": 10,
    "start_time": "2021-11-24T21:13:29.263Z"
   },
   {
    "duration": 16,
    "start_time": "2021-11-24T21:13:29.276Z"
   },
   {
    "duration": 10,
    "start_time": "2021-11-24T21:13:29.294Z"
   },
   {
    "duration": 8,
    "start_time": "2021-11-24T21:13:29.306Z"
   },
   {
    "duration": 8,
    "start_time": "2021-11-24T21:13:29.360Z"
   },
   {
    "duration": 9,
    "start_time": "2021-11-24T21:13:29.370Z"
   },
   {
    "duration": 120,
    "start_time": "2021-11-24T21:13:29.382Z"
   },
   {
    "duration": 74,
    "start_time": "2021-11-24T21:13:29.504Z"
   },
   {
    "duration": 7,
    "start_time": "2021-11-24T21:13:29.580Z"
   },
   {
    "duration": 13,
    "start_time": "2021-11-24T21:13:29.590Z"
   },
   {
    "duration": 105,
    "start_time": "2021-11-24T21:13:29.605Z"
   },
   {
    "duration": 33,
    "start_time": "2021-11-24T21:13:29.712Z"
   },
   {
    "duration": 18,
    "start_time": "2021-11-24T21:13:29.748Z"
   },
   {
    "duration": 15,
    "start_time": "2021-11-24T21:13:29.768Z"
   },
   {
    "duration": 7,
    "start_time": "2021-11-24T21:13:29.788Z"
   },
   {
    "duration": 13,
    "start_time": "2021-11-24T21:13:29.798Z"
   },
   {
    "duration": 59,
    "start_time": "2021-11-24T21:13:29.813Z"
   },
   {
    "duration": 5,
    "start_time": "2021-11-24T21:13:29.875Z"
   },
   {
    "duration": 139,
    "start_time": "2021-11-24T21:13:29.883Z"
   },
   {
    "duration": 125,
    "start_time": "2021-11-24T21:13:30.025Z"
   },
   {
    "duration": 138,
    "start_time": "2021-11-24T21:13:30.153Z"
   },
   {
    "duration": 8,
    "start_time": "2021-11-24T21:13:30.293Z"
   },
   {
    "duration": 106,
    "start_time": "2021-11-24T21:13:30.303Z"
   },
   {
    "duration": 1615,
    "start_time": "2021-11-24T21:13:30.411Z"
   },
   {
    "duration": 12,
    "start_time": "2021-11-24T21:13:32.029Z"
   },
   {
    "duration": 19,
    "start_time": "2021-11-24T21:13:32.043Z"
   },
   {
    "duration": 11,
    "start_time": "2021-11-24T21:13:32.065Z"
   },
   {
    "duration": 6,
    "start_time": "2021-11-24T21:13:32.079Z"
   },
   {
    "duration": 1012,
    "start_time": "2021-11-24T21:13:32.087Z"
   },
   {
    "duration": 12,
    "start_time": "2021-11-24T21:13:33.102Z"
   },
   {
    "duration": 11,
    "start_time": "2021-11-24T21:13:33.117Z"
   },
   {
    "duration": 951,
    "start_time": "2021-11-24T21:13:33.131Z"
   },
   {
    "duration": 12,
    "start_time": "2021-11-24T21:13:34.084Z"
   },
   {
    "duration": 12,
    "start_time": "2021-11-24T21:13:34.099Z"
   },
   {
    "duration": 10,
    "start_time": "2021-11-24T21:13:34.114Z"
   },
   {
    "duration": 13,
    "start_time": "2021-11-24T21:13:34.162Z"
   },
   {
    "duration": 19,
    "start_time": "2021-11-24T21:13:34.177Z"
   },
   {
    "duration": 2164,
    "start_time": "2021-11-24T21:13:34.198Z"
   },
   {
    "duration": 1935,
    "start_time": "2021-11-24T21:13:36.364Z"
   },
   {
    "duration": 67,
    "start_time": "2021-11-24T21:13:38.302Z"
   },
   {
    "duration": 8,
    "start_time": "2021-11-24T21:13:38.372Z"
   },
   {
    "duration": 19,
    "start_time": "2021-11-24T21:13:38.382Z"
   },
   {
    "duration": 37,
    "start_time": "2021-11-24T21:53:17.243Z"
   },
   {
    "duration": 6,
    "start_time": "2021-11-24T21:53:31.147Z"
   },
   {
    "duration": 7,
    "start_time": "2021-11-24T21:54:02.762Z"
   },
   {
    "duration": 8,
    "start_time": "2021-11-24T21:54:43.301Z"
   },
   {
    "duration": 2088,
    "start_time": "2021-11-24T22:06:54.243Z"
   },
   {
    "duration": 24,
    "start_time": "2021-11-24T22:06:56.333Z"
   },
   {
    "duration": 28,
    "start_time": "2021-11-24T22:06:56.360Z"
   },
   {
    "duration": 18,
    "start_time": "2021-11-24T22:06:56.391Z"
   },
   {
    "duration": 22,
    "start_time": "2021-11-24T22:06:56.412Z"
   },
   {
    "duration": 37,
    "start_time": "2021-11-24T22:06:56.437Z"
   },
   {
    "duration": 24,
    "start_time": "2021-11-24T22:06:56.477Z"
   },
   {
    "duration": 15,
    "start_time": "2021-11-24T22:06:56.505Z"
   },
   {
    "duration": 45,
    "start_time": "2021-11-24T22:06:56.523Z"
   },
   {
    "duration": 21,
    "start_time": "2021-11-24T22:06:56.571Z"
   },
   {
    "duration": 14,
    "start_time": "2021-11-24T22:06:56.594Z"
   },
   {
    "duration": 10,
    "start_time": "2021-11-24T22:06:56.610Z"
   },
   {
    "duration": 39,
    "start_time": "2021-11-24T22:06:56.622Z"
   },
   {
    "duration": 9,
    "start_time": "2021-11-24T22:06:56.664Z"
   },
   {
    "duration": 134,
    "start_time": "2021-11-24T22:06:56.675Z"
   },
   {
    "duration": 82,
    "start_time": "2021-11-24T22:06:56.811Z"
   },
   {
    "duration": 7,
    "start_time": "2021-11-24T22:06:56.896Z"
   },
   {
    "duration": 41,
    "start_time": "2021-11-24T22:06:56.906Z"
   },
   {
    "duration": 117,
    "start_time": "2021-11-24T22:06:56.950Z"
   },
   {
    "duration": 34,
    "start_time": "2021-11-24T22:06:57.070Z"
   },
   {
    "duration": 12,
    "start_time": "2021-11-24T22:06:57.107Z"
   },
   {
    "duration": 45,
    "start_time": "2021-11-24T22:06:57.122Z"
   },
   {
    "duration": 12,
    "start_time": "2021-11-24T22:06:57.172Z"
   },
   {
    "duration": 28,
    "start_time": "2021-11-24T22:06:57.188Z"
   },
   {
    "duration": 71,
    "start_time": "2021-11-24T22:06:57.219Z"
   },
   {
    "duration": 5,
    "start_time": "2021-11-24T22:06:57.293Z"
   },
   {
    "duration": 158,
    "start_time": "2021-11-24T22:06:57.301Z"
   },
   {
    "duration": 134,
    "start_time": "2021-11-24T22:06:57.462Z"
   },
   {
    "duration": 152,
    "start_time": "2021-11-24T22:06:57.599Z"
   },
   {
    "duration": 10,
    "start_time": "2021-11-24T22:06:57.754Z"
   },
   {
    "duration": 112,
    "start_time": "2021-11-24T22:06:57.767Z"
   },
   {
    "duration": 1525,
    "start_time": "2021-11-24T22:06:57.882Z"
   },
   {
    "duration": 11,
    "start_time": "2021-11-24T22:06:59.409Z"
   },
   {
    "duration": 17,
    "start_time": "2021-11-24T22:06:59.422Z"
   },
   {
    "duration": 31,
    "start_time": "2021-11-24T22:06:59.441Z"
   },
   {
    "duration": 18,
    "start_time": "2021-11-24T22:06:59.474Z"
   },
   {
    "duration": 21,
    "start_time": "2021-11-24T22:06:59.494Z"
   },
   {
    "duration": 920,
    "start_time": "2021-11-24T22:06:59.517Z"
   },
   {
    "duration": 24,
    "start_time": "2021-11-24T22:07:00.439Z"
   },
   {
    "duration": 48,
    "start_time": "2021-11-24T22:07:00.466Z"
   },
   {
    "duration": 953,
    "start_time": "2021-11-24T22:07:00.516Z"
   },
   {
    "duration": 11,
    "start_time": "2021-11-24T22:07:01.471Z"
   },
   {
    "duration": 15,
    "start_time": "2021-11-24T22:07:01.484Z"
   },
   {
    "duration": 11,
    "start_time": "2021-11-24T22:07:01.501Z"
   },
   {
    "duration": 49,
    "start_time": "2021-11-24T22:07:01.514Z"
   },
   {
    "duration": 15,
    "start_time": "2021-11-24T22:07:01.565Z"
   },
   {
    "duration": 1911,
    "start_time": "2021-11-24T22:07:01.582Z"
   },
   {
    "duration": 1867,
    "start_time": "2021-11-24T22:07:03.495Z"
   },
   {
    "duration": 52,
    "start_time": "2021-11-24T22:07:05.364Z"
   },
   {
    "duration": 7,
    "start_time": "2021-11-24T22:07:05.418Z"
   },
   {
    "duration": 17,
    "start_time": "2021-11-24T22:07:05.460Z"
   },
   {
    "duration": 1945,
    "start_time": "2021-11-24T22:07:26.272Z"
   },
   {
    "duration": 22,
    "start_time": "2021-11-24T22:07:28.220Z"
   },
   {
    "duration": 28,
    "start_time": "2021-11-24T22:07:28.245Z"
   },
   {
    "duration": 16,
    "start_time": "2021-11-24T22:07:28.276Z"
   },
   {
    "duration": 23,
    "start_time": "2021-11-24T22:07:28.295Z"
   },
   {
    "duration": 46,
    "start_time": "2021-11-24T22:07:28.321Z"
   },
   {
    "duration": 19,
    "start_time": "2021-11-24T22:07:28.369Z"
   },
   {
    "duration": 12,
    "start_time": "2021-11-24T22:07:28.392Z"
   },
   {
    "duration": 11,
    "start_time": "2021-11-24T22:07:28.407Z"
   },
   {
    "duration": 52,
    "start_time": "2021-11-24T22:07:28.420Z"
   },
   {
    "duration": 11,
    "start_time": "2021-11-24T22:07:28.475Z"
   },
   {
    "duration": 10,
    "start_time": "2021-11-24T22:07:28.489Z"
   },
   {
    "duration": 8,
    "start_time": "2021-11-24T22:07:28.502Z"
   },
   {
    "duration": 49,
    "start_time": "2021-11-24T22:07:28.513Z"
   },
   {
    "duration": 116,
    "start_time": "2021-11-24T22:07:28.564Z"
   },
   {
    "duration": 68,
    "start_time": "2021-11-24T22:07:28.682Z"
   },
   {
    "duration": 7,
    "start_time": "2021-11-24T22:07:28.759Z"
   },
   {
    "duration": 12,
    "start_time": "2021-11-24T22:07:28.768Z"
   },
   {
    "duration": 103,
    "start_time": "2021-11-24T22:07:28.783Z"
   },
   {
    "duration": 35,
    "start_time": "2021-11-24T22:07:28.888Z"
   },
   {
    "duration": 12,
    "start_time": "2021-11-24T22:07:28.925Z"
   },
   {
    "duration": 38,
    "start_time": "2021-11-24T22:07:28.941Z"
   },
   {
    "duration": 10,
    "start_time": "2021-11-24T22:07:28.986Z"
   },
   {
    "duration": 8,
    "start_time": "2021-11-24T22:07:29.001Z"
   },
   {
    "duration": 80,
    "start_time": "2021-11-24T22:07:29.012Z"
   },
   {
    "duration": 6,
    "start_time": "2021-11-24T22:07:29.095Z"
   },
   {
    "duration": 137,
    "start_time": "2021-11-24T22:07:29.104Z"
   },
   {
    "duration": 124,
    "start_time": "2021-11-24T22:07:29.244Z"
   },
   {
    "duration": 141,
    "start_time": "2021-11-24T22:07:29.371Z"
   },
   {
    "duration": 8,
    "start_time": "2021-11-24T22:07:29.514Z"
   },
   {
    "duration": 96,
    "start_time": "2021-11-24T22:07:29.524Z"
   },
   {
    "duration": 1588,
    "start_time": "2021-11-24T22:07:29.623Z"
   },
   {
    "duration": 12,
    "start_time": "2021-11-24T22:07:31.213Z"
   },
   {
    "duration": 9,
    "start_time": "2021-11-24T22:07:31.228Z"
   },
   {
    "duration": 16,
    "start_time": "2021-11-24T22:07:31.260Z"
   },
   {
    "duration": 11,
    "start_time": "2021-11-24T22:07:31.279Z"
   },
   {
    "duration": 14,
    "start_time": "2021-11-24T22:07:31.292Z"
   },
   {
    "duration": 1320,
    "start_time": "2021-11-24T22:07:31.309Z"
   },
   {
    "duration": 31,
    "start_time": "2021-11-24T22:07:32.632Z"
   },
   {
    "duration": 12,
    "start_time": "2021-11-24T22:07:32.666Z"
   },
   {
    "duration": 871,
    "start_time": "2021-11-24T22:07:32.680Z"
   },
   {
    "duration": 15,
    "start_time": "2021-11-24T22:07:33.553Z"
   },
   {
    "duration": 12,
    "start_time": "2021-11-24T22:07:33.570Z"
   },
   {
    "duration": 11,
    "start_time": "2021-11-24T22:07:33.584Z"
   },
   {
    "duration": 10,
    "start_time": "2021-11-24T22:07:33.597Z"
   },
   {
    "duration": 59,
    "start_time": "2021-11-24T22:07:33.610Z"
   },
   {
    "duration": 1939,
    "start_time": "2021-11-24T22:07:33.672Z"
   },
   {
    "duration": 2095,
    "start_time": "2021-11-24T22:07:35.613Z"
   },
   {
    "duration": 68,
    "start_time": "2021-11-24T22:07:37.711Z"
   },
   {
    "duration": 8,
    "start_time": "2021-11-24T22:07:37.781Z"
   },
   {
    "duration": 26,
    "start_time": "2021-11-24T22:07:37.792Z"
   },
   {
    "duration": 1980,
    "start_time": "2021-11-24T22:09:05.339Z"
   },
   {
    "duration": 26,
    "start_time": "2021-11-24T22:09:07.322Z"
   },
   {
    "duration": 27,
    "start_time": "2021-11-24T22:09:07.351Z"
   },
   {
    "duration": 17,
    "start_time": "2021-11-24T22:09:07.380Z"
   },
   {
    "duration": 39,
    "start_time": "2021-11-24T22:09:07.400Z"
   },
   {
    "duration": 26,
    "start_time": "2021-11-24T22:09:07.441Z"
   },
   {
    "duration": 20,
    "start_time": "2021-11-24T22:09:07.470Z"
   },
   {
    "duration": 13,
    "start_time": "2021-11-24T22:09:07.493Z"
   },
   {
    "duration": 25,
    "start_time": "2021-11-24T22:09:07.508Z"
   },
   {
    "duration": 34,
    "start_time": "2021-11-24T22:09:07.535Z"
   },
   {
    "duration": 13,
    "start_time": "2021-11-24T22:09:07.573Z"
   },
   {
    "duration": 29,
    "start_time": "2021-11-24T22:09:07.589Z"
   },
   {
    "duration": 18,
    "start_time": "2021-11-24T22:09:07.620Z"
   },
   {
    "duration": 19,
    "start_time": "2021-11-24T22:09:07.640Z"
   },
   {
    "duration": 114,
    "start_time": "2021-11-24T22:09:07.662Z"
   },
   {
    "duration": 80,
    "start_time": "2021-11-24T22:09:07.779Z"
   },
   {
    "duration": 7,
    "start_time": "2021-11-24T22:09:07.861Z"
   },
   {
    "duration": 35,
    "start_time": "2021-11-24T22:09:07.870Z"
   },
   {
    "duration": 88,
    "start_time": "2021-11-24T22:09:07.908Z"
   },
   {
    "duration": 526,
    "start_time": "2021-11-24T22:09:07.999Z"
   },
   {
    "duration": 401,
    "start_time": "2021-11-24T22:09:08.128Z"
   },
   {
    "duration": 393,
    "start_time": "2021-11-24T22:09:08.138Z"
   },
   {
    "duration": 389,
    "start_time": "2021-11-24T22:09:08.143Z"
   },
   {
    "duration": 381,
    "start_time": "2021-11-24T22:09:08.153Z"
   },
   {
    "duration": 378,
    "start_time": "2021-11-24T22:09:08.157Z"
   },
   {
    "duration": 368,
    "start_time": "2021-11-24T22:09:08.168Z"
   },
   {
    "duration": 366,
    "start_time": "2021-11-24T22:09:08.172Z"
   },
   {
    "duration": 361,
    "start_time": "2021-11-24T22:09:08.178Z"
   },
   {
    "duration": 354,
    "start_time": "2021-11-24T22:09:08.187Z"
   },
   {
    "duration": 351,
    "start_time": "2021-11-24T22:09:08.191Z"
   },
   {
    "duration": 347,
    "start_time": "2021-11-24T22:09:08.196Z"
   },
   {
    "duration": 340,
    "start_time": "2021-11-24T22:09:08.205Z"
   },
   {
    "duration": 334,
    "start_time": "2021-11-24T22:09:08.212Z"
   },
   {
    "duration": 331,
    "start_time": "2021-11-24T22:09:08.217Z"
   },
   {
    "duration": 329,
    "start_time": "2021-11-24T22:09:08.221Z"
   },
   {
    "duration": 325,
    "start_time": "2021-11-24T22:09:08.227Z"
   },
   {
    "duration": 323,
    "start_time": "2021-11-24T22:09:08.231Z"
   },
   {
    "duration": 320,
    "start_time": "2021-11-24T22:09:08.236Z"
   },
   {
    "duration": 318,
    "start_time": "2021-11-24T22:09:08.240Z"
   },
   {
    "duration": 314,
    "start_time": "2021-11-24T22:09:08.246Z"
   },
   {
    "duration": 313,
    "start_time": "2021-11-24T22:09:08.250Z"
   },
   {
    "duration": 311,
    "start_time": "2021-11-24T22:09:08.254Z"
   },
   {
    "duration": 309,
    "start_time": "2021-11-24T22:09:08.258Z"
   },
   {
    "duration": 306,
    "start_time": "2021-11-24T22:09:08.263Z"
   },
   {
    "duration": 304,
    "start_time": "2021-11-24T22:09:08.267Z"
   },
   {
    "duration": 302,
    "start_time": "2021-11-24T22:09:08.271Z"
   },
   {
    "duration": 300,
    "start_time": "2021-11-24T22:09:08.276Z"
   },
   {
    "duration": 299,
    "start_time": "2021-11-24T22:09:08.281Z"
   },
   {
    "duration": 297,
    "start_time": "2021-11-24T22:09:08.285Z"
   },
   {
    "duration": 296,
    "start_time": "2021-11-24T22:09:08.289Z"
   },
   {
    "duration": 293,
    "start_time": "2021-11-24T22:09:08.294Z"
   },
   {
    "duration": 440,
    "start_time": "2021-11-24T22:10:23.472Z"
   },
   {
    "duration": 34,
    "start_time": "2021-11-24T22:10:52.202Z"
   },
   {
    "duration": 2026,
    "start_time": "2021-11-24T22:17:05.810Z"
   },
   {
    "duration": 26,
    "start_time": "2021-11-24T22:17:07.839Z"
   },
   {
    "duration": 28,
    "start_time": "2021-11-24T22:17:07.868Z"
   },
   {
    "duration": 17,
    "start_time": "2021-11-24T22:17:07.899Z"
   },
   {
    "duration": 51,
    "start_time": "2021-11-24T22:17:07.918Z"
   },
   {
    "duration": 14,
    "start_time": "2021-11-24T22:17:07.972Z"
   },
   {
    "duration": 22,
    "start_time": "2021-11-24T22:17:07.989Z"
   },
   {
    "duration": 50,
    "start_time": "2021-11-24T22:17:08.013Z"
   },
   {
    "duration": 12,
    "start_time": "2021-11-24T22:17:08.067Z"
   },
   {
    "duration": 22,
    "start_time": "2021-11-24T22:17:08.082Z"
   },
   {
    "duration": 20,
    "start_time": "2021-11-24T22:17:08.107Z"
   },
   {
    "duration": 12,
    "start_time": "2021-11-24T22:17:08.129Z"
   },
   {
    "duration": 26,
    "start_time": "2021-11-24T22:17:08.143Z"
   },
   {
    "duration": 13,
    "start_time": "2021-11-24T22:17:08.172Z"
   },
   {
    "duration": 123,
    "start_time": "2021-11-24T22:17:08.188Z"
   },
   {
    "duration": 76,
    "start_time": "2021-11-24T22:17:08.314Z"
   },
   {
    "duration": 7,
    "start_time": "2021-11-24T22:17:08.393Z"
   },
   {
    "duration": 13,
    "start_time": "2021-11-24T22:17:08.402Z"
   },
   {
    "duration": 106,
    "start_time": "2021-11-24T22:17:08.417Z"
   },
   {
    "duration": 542,
    "start_time": "2021-11-24T22:17:08.525Z"
   },
   {
    "duration": 408,
    "start_time": "2021-11-24T22:17:08.663Z"
   },
   {
    "duration": 401,
    "start_time": "2021-11-24T22:17:08.672Z"
   },
   {
    "duration": 391,
    "start_time": "2021-11-24T22:17:08.683Z"
   },
   {
    "duration": 389,
    "start_time": "2021-11-24T22:17:08.687Z"
   },
   {
    "duration": 383,
    "start_time": "2021-11-24T22:17:08.694Z"
   },
   {
    "duration": 377,
    "start_time": "2021-11-24T22:17:08.702Z"
   },
   {
    "duration": 374,
    "start_time": "2021-11-24T22:17:08.706Z"
   },
   {
    "duration": 363,
    "start_time": "2021-11-24T22:17:08.719Z"
   },
   {
    "duration": 356,
    "start_time": "2021-11-24T22:17:08.727Z"
   },
   {
    "duration": 347,
    "start_time": "2021-11-24T22:17:08.738Z"
   },
   {
    "duration": 339,
    "start_time": "2021-11-24T22:17:08.747Z"
   },
   {
    "duration": 325,
    "start_time": "2021-11-24T22:17:08.763Z"
   },
   {
    "duration": 308,
    "start_time": "2021-11-24T22:17:08.781Z"
   },
   {
    "duration": 295,
    "start_time": "2021-11-24T22:17:08.795Z"
   },
   {
    "duration": 281,
    "start_time": "2021-11-24T22:17:08.810Z"
   },
   {
    "duration": 273,
    "start_time": "2021-11-24T22:17:08.820Z"
   },
   {
    "duration": 265,
    "start_time": "2021-11-24T22:17:08.829Z"
   },
   {
    "duration": 258,
    "start_time": "2021-11-24T22:17:08.838Z"
   },
   {
    "duration": 247,
    "start_time": "2021-11-24T22:17:08.850Z"
   },
   {
    "duration": 243,
    "start_time": "2021-11-24T22:17:08.855Z"
   },
   {
    "duration": 238,
    "start_time": "2021-11-24T22:17:08.862Z"
   },
   {
    "duration": 229,
    "start_time": "2021-11-24T22:17:08.872Z"
   },
   {
    "duration": 218,
    "start_time": "2021-11-24T22:17:08.885Z"
   },
   {
    "duration": 215,
    "start_time": "2021-11-24T22:17:08.889Z"
   },
   {
    "duration": 203,
    "start_time": "2021-11-24T22:17:08.902Z"
   },
   {
    "duration": 202,
    "start_time": "2021-11-24T22:17:08.905Z"
   },
   {
    "duration": 191,
    "start_time": "2021-11-24T22:17:08.917Z"
   },
   {
    "duration": 188,
    "start_time": "2021-11-24T22:17:08.921Z"
   },
   {
    "duration": 231,
    "start_time": "2021-11-24T22:17:08.928Z"
   },
   {
    "duration": 215,
    "start_time": "2021-11-24T22:17:08.945Z"
   },
   {
    "duration": 207,
    "start_time": "2021-11-24T22:17:08.955Z"
   },
   {
    "duration": 400,
    "start_time": "2021-11-24T22:17:32.930Z"
   },
   {
    "duration": 2043,
    "start_time": "2021-11-24T22:18:03.987Z"
   },
   {
    "duration": 24,
    "start_time": "2021-11-24T22:18:06.033Z"
   },
   {
    "duration": 27,
    "start_time": "2021-11-24T22:18:06.059Z"
   },
   {
    "duration": 18,
    "start_time": "2021-11-24T22:18:06.089Z"
   },
   {
    "duration": 57,
    "start_time": "2021-11-24T22:18:06.110Z"
   },
   {
    "duration": 16,
    "start_time": "2021-11-24T22:18:06.170Z"
   },
   {
    "duration": 22,
    "start_time": "2021-11-24T22:18:06.189Z"
   },
   {
    "duration": 46,
    "start_time": "2021-11-24T22:18:06.217Z"
   },
   {
    "duration": 15,
    "start_time": "2021-11-24T22:18:06.266Z"
   },
   {
    "duration": 17,
    "start_time": "2021-11-24T22:18:06.284Z"
   },
   {
    "duration": 15,
    "start_time": "2021-11-24T22:18:06.303Z"
   },
   {
    "duration": 44,
    "start_time": "2021-11-24T22:18:06.320Z"
   },
   {
    "duration": 7,
    "start_time": "2021-11-24T22:18:06.367Z"
   },
   {
    "duration": 16,
    "start_time": "2021-11-24T22:18:06.376Z"
   },
   {
    "duration": 115,
    "start_time": "2021-11-24T22:18:06.394Z"
   },
   {
    "duration": 80,
    "start_time": "2021-11-24T22:18:06.511Z"
   },
   {
    "duration": 7,
    "start_time": "2021-11-24T22:18:06.593Z"
   },
   {
    "duration": 23,
    "start_time": "2021-11-24T22:18:06.602Z"
   },
   {
    "duration": 89,
    "start_time": "2021-11-24T22:18:06.627Z"
   },
   {
    "duration": 47,
    "start_time": "2021-11-24T22:18:06.719Z"
   },
   {
    "duration": 12,
    "start_time": "2021-11-24T22:18:06.769Z"
   },
   {
    "duration": 17,
    "start_time": "2021-11-24T22:18:06.784Z"
   },
   {
    "duration": 10,
    "start_time": "2021-11-24T22:18:06.808Z"
   },
   {
    "duration": 45,
    "start_time": "2021-11-24T22:18:06.822Z"
   },
   {
    "duration": 34,
    "start_time": "2021-11-24T22:18:06.870Z"
   },
   {
    "duration": 6,
    "start_time": "2021-11-24T22:18:06.907Z"
   },
   {
    "duration": 150,
    "start_time": "2021-11-24T22:18:06.916Z"
   },
   {
    "duration": 131,
    "start_time": "2021-11-24T22:18:07.069Z"
   },
   {
    "duration": 135,
    "start_time": "2021-11-24T22:18:07.203Z"
   },
   {
    "duration": 7,
    "start_time": "2021-11-24T22:18:07.341Z"
   },
   {
    "duration": 87,
    "start_time": "2021-11-24T22:18:07.359Z"
   },
   {
    "duration": 1524,
    "start_time": "2021-11-24T22:18:07.460Z"
   },
   {
    "duration": 11,
    "start_time": "2021-11-24T22:18:08.987Z"
   },
   {
    "duration": 10,
    "start_time": "2021-11-24T22:18:09.001Z"
   },
   {
    "duration": 15,
    "start_time": "2021-11-24T22:18:09.013Z"
   },
   {
    "duration": 8,
    "start_time": "2021-11-24T22:18:09.060Z"
   },
   {
    "duration": 9,
    "start_time": "2021-11-24T22:18:09.071Z"
   },
   {
    "duration": 991,
    "start_time": "2021-11-24T22:18:09.083Z"
   },
   {
    "duration": 13,
    "start_time": "2021-11-24T22:18:10.077Z"
   },
   {
    "duration": 27,
    "start_time": "2021-11-24T22:18:10.092Z"
   },
   {
    "duration": 921,
    "start_time": "2021-11-24T22:18:10.122Z"
   },
   {
    "duration": 23,
    "start_time": "2021-11-24T22:18:11.045Z"
   },
   {
    "duration": 13,
    "start_time": "2021-11-24T22:18:11.071Z"
   },
   {
    "duration": 13,
    "start_time": "2021-11-24T22:18:11.086Z"
   },
   {
    "duration": 10,
    "start_time": "2021-11-24T22:18:11.102Z"
   },
   {
    "duration": 47,
    "start_time": "2021-11-24T22:18:11.114Z"
   },
   {
    "duration": 1975,
    "start_time": "2021-11-24T22:18:11.163Z"
   },
   {
    "duration": 2065,
    "start_time": "2021-11-24T22:18:13.140Z"
   },
   {
    "duration": 76,
    "start_time": "2021-11-24T22:18:15.207Z"
   },
   {
    "duration": 8,
    "start_time": "2021-11-24T22:18:15.286Z"
   },
   {
    "duration": 20,
    "start_time": "2021-11-24T22:18:15.297Z"
   },
   {
    "duration": 2362,
    "start_time": "2021-11-25T12:52:36.028Z"
   },
   {
    "duration": 24,
    "start_time": "2021-11-25T12:52:38.393Z"
   },
   {
    "duration": 29,
    "start_time": "2021-11-25T12:52:38.420Z"
   },
   {
    "duration": 21,
    "start_time": "2021-11-25T12:52:38.451Z"
   },
   {
    "duration": 23,
    "start_time": "2021-11-25T12:52:38.474Z"
   },
   {
    "duration": 15,
    "start_time": "2021-11-25T12:52:38.499Z"
   },
   {
    "duration": 51,
    "start_time": "2021-11-25T12:52:38.516Z"
   },
   {
    "duration": 11,
    "start_time": "2021-11-25T12:52:38.572Z"
   },
   {
    "duration": 10,
    "start_time": "2021-11-25T12:52:38.587Z"
   },
   {
    "duration": 18,
    "start_time": "2021-11-25T12:52:38.599Z"
   },
   {
    "duration": 50,
    "start_time": "2021-11-25T12:52:38.620Z"
   },
   {
    "duration": 12,
    "start_time": "2021-11-25T12:52:38.673Z"
   },
   {
    "duration": 19,
    "start_time": "2021-11-25T12:52:38.688Z"
   },
   {
    "duration": 12,
    "start_time": "2021-11-25T12:52:38.710Z"
   },
   {
    "duration": 142,
    "start_time": "2021-11-25T12:52:38.725Z"
   },
   {
    "duration": 75,
    "start_time": "2021-11-25T12:52:38.870Z"
   },
   {
    "duration": 26,
    "start_time": "2021-11-25T12:52:38.947Z"
   },
   {
    "duration": 15,
    "start_time": "2021-11-25T12:52:38.976Z"
   },
   {
    "duration": 120,
    "start_time": "2021-11-25T12:52:38.995Z"
   },
   {
    "duration": 50,
    "start_time": "2021-11-25T12:52:39.117Z"
   },
   {
    "duration": 12,
    "start_time": "2021-11-25T12:52:39.170Z"
   },
   {
    "duration": 24,
    "start_time": "2021-11-25T12:52:39.185Z"
   },
   {
    "duration": 10,
    "start_time": "2021-11-25T12:52:39.216Z"
   },
   {
    "duration": 40,
    "start_time": "2021-11-25T12:52:39.228Z"
   },
   {
    "duration": 47,
    "start_time": "2021-11-25T12:52:39.271Z"
   },
   {
    "duration": 5,
    "start_time": "2021-11-25T12:52:39.320Z"
   },
   {
    "duration": 135,
    "start_time": "2021-11-25T12:52:39.327Z"
   },
   {
    "duration": 132,
    "start_time": "2021-11-25T12:52:39.464Z"
   },
   {
    "duration": 144,
    "start_time": "2021-11-25T12:52:39.599Z"
   },
   {
    "duration": 8,
    "start_time": "2021-11-25T12:52:39.745Z"
   },
   {
    "duration": 99,
    "start_time": "2021-11-25T12:52:39.755Z"
   },
   {
    "duration": 1674,
    "start_time": "2021-11-25T12:52:39.867Z"
   },
   {
    "duration": 22,
    "start_time": "2021-11-25T12:52:41.544Z"
   },
   {
    "duration": 6,
    "start_time": "2021-11-25T12:52:41.569Z"
   },
   {
    "duration": 13,
    "start_time": "2021-11-25T12:52:41.578Z"
   },
   {
    "duration": 6,
    "start_time": "2021-11-25T12:52:41.594Z"
   },
   {
    "duration": 9,
    "start_time": "2021-11-25T12:52:41.603Z"
   },
   {
    "duration": 1042,
    "start_time": "2021-11-25T12:52:41.615Z"
   },
   {
    "duration": 10,
    "start_time": "2021-11-25T12:52:42.667Z"
   },
   {
    "duration": 16,
    "start_time": "2021-11-25T12:52:42.679Z"
   },
   {
    "duration": 988,
    "start_time": "2021-11-25T12:52:42.697Z"
   },
   {
    "duration": 10,
    "start_time": "2021-11-25T12:52:43.688Z"
   },
   {
    "duration": 13,
    "start_time": "2021-11-25T12:52:43.700Z"
   },
   {
    "duration": 12,
    "start_time": "2021-11-25T12:52:43.716Z"
   },
   {
    "duration": 44,
    "start_time": "2021-11-25T12:52:43.731Z"
   },
   {
    "duration": 24,
    "start_time": "2021-11-25T12:52:43.777Z"
   },
   {
    "duration": 2167,
    "start_time": "2021-11-25T12:52:43.803Z"
   },
   {
    "duration": 1963,
    "start_time": "2021-11-25T12:52:45.972Z"
   },
   {
    "duration": 64,
    "start_time": "2021-11-25T12:52:47.937Z"
   },
   {
    "duration": 9,
    "start_time": "2021-11-25T12:52:48.004Z"
   },
   {
    "duration": 30,
    "start_time": "2021-11-25T12:52:48.015Z"
   },
   {
    "duration": 2295,
    "start_time": "2022-09-06T18:54:25.675Z"
   },
   {
    "duration": 17,
    "start_time": "2022-09-06T18:54:27.972Z"
   },
   {
    "duration": 22,
    "start_time": "2022-09-06T18:54:27.991Z"
   },
   {
    "duration": 11,
    "start_time": "2022-09-06T18:54:28.015Z"
   },
   {
    "duration": 40,
    "start_time": "2022-09-06T18:54:28.028Z"
   },
   {
    "duration": 11,
    "start_time": "2022-09-06T18:54:28.069Z"
   },
   {
    "duration": 21,
    "start_time": "2022-09-06T18:54:28.082Z"
   },
   {
    "duration": 8,
    "start_time": "2022-09-06T18:54:28.104Z"
   },
   {
    "duration": 11,
    "start_time": "2022-09-06T18:54:28.114Z"
   },
   {
    "duration": 11,
    "start_time": "2022-09-06T18:54:28.128Z"
   },
   {
    "duration": 13,
    "start_time": "2022-09-06T18:54:28.168Z"
   },
   {
    "duration": 15,
    "start_time": "2022-09-06T18:54:28.183Z"
   },
   {
    "duration": 8,
    "start_time": "2022-09-06T18:54:28.200Z"
   },
   {
    "duration": 10,
    "start_time": "2022-09-06T18:54:28.209Z"
   },
   {
    "duration": 101,
    "start_time": "2022-09-06T18:54:28.221Z"
   },
   {
    "duration": 59,
    "start_time": "2022-09-06T18:54:28.324Z"
   },
   {
    "duration": 5,
    "start_time": "2022-09-06T18:54:28.384Z"
   },
   {
    "duration": 10,
    "start_time": "2022-09-06T18:54:28.391Z"
   },
   {
    "duration": 71,
    "start_time": "2022-09-06T18:54:28.402Z"
   },
   {
    "duration": 21,
    "start_time": "2022-09-06T18:54:28.475Z"
   },
   {
    "duration": 9,
    "start_time": "2022-09-06T18:54:28.497Z"
   },
   {
    "duration": 16,
    "start_time": "2022-09-06T18:54:28.508Z"
   },
   {
    "duration": 8,
    "start_time": "2022-09-06T18:54:28.526Z"
   },
   {
    "duration": 35,
    "start_time": "2022-09-06T18:54:28.536Z"
   },
   {
    "duration": 18,
    "start_time": "2022-09-06T18:54:28.572Z"
   },
   {
    "duration": 4,
    "start_time": "2022-09-06T18:54:28.591Z"
   },
   {
    "duration": 72,
    "start_time": "2022-09-06T18:54:28.596Z"
   },
   {
    "duration": 50,
    "start_time": "2022-09-06T18:54:28.672Z"
   },
   {
    "duration": 76,
    "start_time": "2022-09-06T18:54:28.723Z"
   },
   {
    "duration": 8,
    "start_time": "2022-09-06T18:54:28.801Z"
   },
   {
    "duration": 67,
    "start_time": "2022-09-06T18:54:28.810Z"
   },
   {
    "duration": 715,
    "start_time": "2022-09-06T18:54:28.879Z"
   },
   {
    "duration": 9,
    "start_time": "2022-09-06T18:54:29.596Z"
   },
   {
    "duration": 5,
    "start_time": "2022-09-06T18:54:29.607Z"
   },
   {
    "duration": 10,
    "start_time": "2022-09-06T18:54:29.614Z"
   },
   {
    "duration": 4,
    "start_time": "2022-09-06T18:54:29.626Z"
   },
   {
    "duration": 6,
    "start_time": "2022-09-06T18:54:29.667Z"
   },
   {
    "duration": 378,
    "start_time": "2022-09-06T18:54:29.675Z"
   },
   {
    "duration": 13,
    "start_time": "2022-09-06T18:54:30.055Z"
   },
   {
    "duration": 9,
    "start_time": "2022-09-06T18:54:30.070Z"
   },
   {
    "duration": 436,
    "start_time": "2022-09-06T18:54:30.080Z"
   },
   {
    "duration": 9,
    "start_time": "2022-09-06T18:54:30.518Z"
   },
   {
    "duration": 10,
    "start_time": "2022-09-06T18:54:30.529Z"
   },
   {
    "duration": 28,
    "start_time": "2022-09-06T18:54:30.543Z"
   },
   {
    "duration": 10,
    "start_time": "2022-09-06T18:54:30.573Z"
   },
   {
    "duration": 16,
    "start_time": "2022-09-06T18:54:30.585Z"
   },
   {
    "duration": 1070,
    "start_time": "2022-09-06T18:54:30.603Z"
   },
   {
    "duration": 989,
    "start_time": "2022-09-06T18:54:31.675Z"
   },
   {
    "duration": 32,
    "start_time": "2022-09-06T18:54:32.668Z"
   },
   {
    "duration": 8,
    "start_time": "2022-09-06T18:54:32.702Z"
   },
   {
    "duration": 14,
    "start_time": "2022-09-06T18:54:32.711Z"
   }
  ],
  "kernelspec": {
   "display_name": "Python 3 (ipykernel)",
   "language": "python",
   "name": "python3"
  },
  "language_info": {
   "codemirror_mode": {
    "name": "ipython",
    "version": 3
   },
   "file_extension": ".py",
   "mimetype": "text/x-python",
   "name": "python",
   "nbconvert_exporter": "python",
   "pygments_lexer": "ipython3",
   "version": "3.9.5"
  },
  "toc": {
   "base_numbering": 1,
   "nav_menu": {
    "height": "389px",
    "width": "236px"
   },
   "number_sections": true,
   "sideBar": true,
   "skip_h1_title": true,
   "title_cell": "Table of Contents",
   "title_sidebar": "Contents",
   "toc_cell": false,
   "toc_position": {},
   "toc_section_display": true,
   "toc_window_display": false
  }
 },
 "nbformat": 4,
 "nbformat_minor": 2
}
