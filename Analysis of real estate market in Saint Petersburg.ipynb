{
 "cells": [
  {
   "cell_type": "markdown",
   "metadata": {
    "toc": true
   },
   "source": [
    "<h1>Table of content<span class=\"tocSkip\"></span></h1>\n",
    "<div class=\"toc\"><ul class=\"toc-item\"><li><span><a href=\"#Data-upload\" data-toc-modified-id=\"Data-upload-1\"><span class=\"toc-item-num\">1&nbsp;&nbsp;</span>Data upload</a></span><ul class=\"toc-item\"><li><span><a href=\"#Conclusion\" data-toc-modified-id=\"Conclusion-1.1\"><span class=\"toc-item-num\">1.1&nbsp;&nbsp;</span>Conclusion</a></span></li></ul></li><li><span><a href=\"#Data-preprocessing\" data-toc-modified-id=\"Data-preprocessing-2\"><span class=\"toc-item-num\">2&nbsp;&nbsp;</span>Data preprocessing</a></span><ul class=\"toc-item\"><li><span><a href=\"#Missed-values\" data-toc-modified-id=\"Missed-values-2.1\"><span class=\"toc-item-num\">2.1&nbsp;&nbsp;</span>Missed values</a></span></li><li><span><a href=\"#Changing-data-type\" data-toc-modified-id=\"Changing-data-type-2.2\"><span class=\"toc-item-num\">2.2&nbsp;&nbsp;</span>Changing data type</a></span></li><li><span><a href=\"#Conclusion\" data-toc-modified-id=\"Conclusion-2.3\"><span class=\"toc-item-num\">2.3&nbsp;&nbsp;</span>Conclusion</a></span></li></ul></li><li><span><a href=\"#Calculations-and-adding-results-to-the-table\" data-toc-modified-id=\"Calculations-and-adding-results-to-the-table-3\"><span class=\"toc-item-num\">3&nbsp;&nbsp;</span>Calculations and adding results to the table</a></span><ul class=\"toc-item\"><li><span><a href=\"#Conclusion\" data-toc-modified-id=\"Conclusion-3.1\"><span class=\"toc-item-num\">3.1&nbsp;&nbsp;</span>Conclusion</a></span></li></ul></li><li><span><a href=\"#Exploratory-data-analysis\" data-toc-modified-id=\"Exploratory-data-analysis-4\"><span class=\"toc-item-num\">4&nbsp;&nbsp;</span>Exploratory data analysis</a></span><ul class=\"toc-item\"><li><span><a href=\"#Researching-parametres\" data-toc-modified-id=\"Researching-parametres-4.1\"><span class=\"toc-item-num\">4.1&nbsp;&nbsp;</span>Researching parametres</a></span><ul class=\"toc-item\"><li><span><a href=\"#Number-of-bedrooms\" data-toc-modified-id=\"Number-of-bedrooms-4.1.1\"><span class=\"toc-item-num\">4.1.1&nbsp;&nbsp;</span>Number of bedrooms</a></span></li><li><span><a href=\"#Square\" data-toc-modified-id=\"Square-4.1.2\"><span class=\"toc-item-num\">4.1.2&nbsp;&nbsp;</span>Square</a></span></li><li><span><a href=\"#Price\" data-toc-modified-id=\"Price-4.1.3\"><span class=\"toc-item-num\">4.1.3&nbsp;&nbsp;</span>Price</a></span></li><li><span><a href=\"#Ceiling-height\" data-toc-modified-id=\"Ceiling-height-4.1.4\"><span class=\"toc-item-num\">4.1.4&nbsp;&nbsp;</span>Ceiling height</a></span></li><li><span><a href=\"#Time-needed-to-sale-the-apartment\" data-toc-modified-id=\"Time-needed-to-sale-the-apartment-4.1.5\"><span class=\"toc-item-num\">4.1.5&nbsp;&nbsp;</span>Time needed to sale the apartment</a></span></li></ul></li><li><span><a href=\"#What-factors-most-affect-the-cost-of-an-apartment\" data-toc-modified-id=\"What-factors-most-affect-the-cost-of-an-apartment-4.2\"><span class=\"toc-item-num\">4.2&nbsp;&nbsp;</span>What factors most affect the cost of an apartment</a></span></li><li><span><a href=\"#The-segment-of-apartments-in-the-downtown\" data-toc-modified-id=\"The-segment-of-apartments-in-the-downtown-4.3\"><span class=\"toc-item-num\">4.3&nbsp;&nbsp;</span>The segment of apartments in the downtown</a></span></li><li><span><a href=\"#Conclusion\" data-toc-modified-id=\"Conclusion-4.4\"><span class=\"toc-item-num\">4.4&nbsp;&nbsp;</span>Conclusion</a></span></li></ul></li><li><span><a href=\"#General-conclusion\" data-toc-modified-id=\"General-conclusion-5\"><span class=\"toc-item-num\">5&nbsp;&nbsp;</span>General conclusion</a></span></li></ul></div>"
   ]
  },
  {
   "cell_type": "markdown",
   "metadata": {},
   "source": [
    "# Analysis of real estate market in St. Petersburg"
   ]
  },
  {
   "cell_type": "markdown",
   "metadata": {},
   "source": [
    "## Data upload"
   ]
  },
  {
   "cell_type": "code",
   "execution_count": 1,
   "metadata": {},
   "outputs": [],
   "source": [
    "import pandas as pd\n",
    "import matplotlib.pyplot as plt\n",
    "import numpy as np\n",
    "import seaborn as sns\n",
    "df=pd.read_csv('/datasets/real_estate_data.csv', sep='\\t')"
   ]
  },
  {
   "cell_type": "code",
   "execution_count": 2,
   "metadata": {},
   "outputs": [
    {
     "data": {
      "text/html": [
       "<div>\n",
       "<style scoped>\n",
       "    .dataframe tbody tr th:only-of-type {\n",
       "        vertical-align: middle;\n",
       "    }\n",
       "\n",
       "    .dataframe tbody tr th {\n",
       "        vertical-align: top;\n",
       "    }\n",
       "\n",
       "    .dataframe thead th {\n",
       "        text-align: right;\n",
       "    }\n",
       "</style>\n",
       "<table border=\"1\" class=\"dataframe\">\n",
       "  <thead>\n",
       "    <tr style=\"text-align: right;\">\n",
       "      <th></th>\n",
       "      <th>total_images</th>\n",
       "      <th>last_price</th>\n",
       "      <th>total_area</th>\n",
       "      <th>first_day_exposition</th>\n",
       "      <th>rooms</th>\n",
       "      <th>ceiling_height</th>\n",
       "      <th>floors_total</th>\n",
       "      <th>living_area</th>\n",
       "      <th>floor</th>\n",
       "      <th>is_apartment</th>\n",
       "      <th>...</th>\n",
       "      <th>kitchen_area</th>\n",
       "      <th>balcony</th>\n",
       "      <th>locality_name</th>\n",
       "      <th>airports_nearest</th>\n",
       "      <th>cityCenters_nearest</th>\n",
       "      <th>parks_around3000</th>\n",
       "      <th>parks_nearest</th>\n",
       "      <th>ponds_around3000</th>\n",
       "      <th>ponds_nearest</th>\n",
       "      <th>days_exposition</th>\n",
       "    </tr>\n",
       "  </thead>\n",
       "  <tbody>\n",
       "    <tr>\n",
       "      <th>10002</th>\n",
       "      <td>12</td>\n",
       "      <td>3200000.0</td>\n",
       "      <td>35.5</td>\n",
       "      <td>2018-01-12T00:00:00</td>\n",
       "      <td>1</td>\n",
       "      <td>2.6</td>\n",
       "      <td>12.0</td>\n",
       "      <td>16.4</td>\n",
       "      <td>11</td>\n",
       "      <td>NaN</td>\n",
       "      <td>...</td>\n",
       "      <td>8.1</td>\n",
       "      <td>2.0</td>\n",
       "      <td>посёлок Мурино</td>\n",
       "      <td>NaN</td>\n",
       "      <td>NaN</td>\n",
       "      <td>NaN</td>\n",
       "      <td>NaN</td>\n",
       "      <td>NaN</td>\n",
       "      <td>NaN</td>\n",
       "      <td>337.0</td>\n",
       "    </tr>\n",
       "    <tr>\n",
       "      <th>15480</th>\n",
       "      <td>13</td>\n",
       "      <td>3995000.0</td>\n",
       "      <td>48.0</td>\n",
       "      <td>2019-03-27T00:00:00</td>\n",
       "      <td>2</td>\n",
       "      <td>NaN</td>\n",
       "      <td>12.0</td>\n",
       "      <td>28.0</td>\n",
       "      <td>5</td>\n",
       "      <td>NaN</td>\n",
       "      <td>...</td>\n",
       "      <td>7.0</td>\n",
       "      <td>NaN</td>\n",
       "      <td>Кронштадт</td>\n",
       "      <td>65568.0</td>\n",
       "      <td>47294.0</td>\n",
       "      <td>1.0</td>\n",
       "      <td>146.0</td>\n",
       "      <td>1.0</td>\n",
       "      <td>293.0</td>\n",
       "      <td>29.0</td>\n",
       "    </tr>\n",
       "    <tr>\n",
       "      <th>3753</th>\n",
       "      <td>11</td>\n",
       "      <td>8500000.0</td>\n",
       "      <td>94.7</td>\n",
       "      <td>2017-04-24T00:00:00</td>\n",
       "      <td>3</td>\n",
       "      <td>NaN</td>\n",
       "      <td>3.0</td>\n",
       "      <td>62.6</td>\n",
       "      <td>2</td>\n",
       "      <td>NaN</td>\n",
       "      <td>...</td>\n",
       "      <td>9.1</td>\n",
       "      <td>0.0</td>\n",
       "      <td>Санкт-Петербург</td>\n",
       "      <td>23691.0</td>\n",
       "      <td>3232.0</td>\n",
       "      <td>0.0</td>\n",
       "      <td>NaN</td>\n",
       "      <td>3.0</td>\n",
       "      <td>386.0</td>\n",
       "      <td>115.0</td>\n",
       "    </tr>\n",
       "    <tr>\n",
       "      <th>5921</th>\n",
       "      <td>20</td>\n",
       "      <td>29000000.0</td>\n",
       "      <td>215.0</td>\n",
       "      <td>2017-12-29T00:00:00</td>\n",
       "      <td>5</td>\n",
       "      <td>NaN</td>\n",
       "      <td>5.0</td>\n",
       "      <td>80.0</td>\n",
       "      <td>3</td>\n",
       "      <td>NaN</td>\n",
       "      <td>...</td>\n",
       "      <td>23.0</td>\n",
       "      <td>NaN</td>\n",
       "      <td>Санкт-Петербург</td>\n",
       "      <td>24887.0</td>\n",
       "      <td>5455.0</td>\n",
       "      <td>1.0</td>\n",
       "      <td>443.0</td>\n",
       "      <td>0.0</td>\n",
       "      <td>NaN</td>\n",
       "      <td>24.0</td>\n",
       "    </tr>\n",
       "    <tr>\n",
       "      <th>5632</th>\n",
       "      <td>20</td>\n",
       "      <td>13000000.0</td>\n",
       "      <td>95.3</td>\n",
       "      <td>2019-01-05T00:00:00</td>\n",
       "      <td>3</td>\n",
       "      <td>2.5</td>\n",
       "      <td>15.0</td>\n",
       "      <td>51.0</td>\n",
       "      <td>9</td>\n",
       "      <td>NaN</td>\n",
       "      <td>...</td>\n",
       "      <td>16.6</td>\n",
       "      <td>NaN</td>\n",
       "      <td>Санкт-Петербург</td>\n",
       "      <td>38505.0</td>\n",
       "      <td>7765.0</td>\n",
       "      <td>1.0</td>\n",
       "      <td>496.0</td>\n",
       "      <td>2.0</td>\n",
       "      <td>219.0</td>\n",
       "      <td>NaN</td>\n",
       "    </tr>\n",
       "  </tbody>\n",
       "</table>\n",
       "<p>5 rows × 22 columns</p>\n",
       "</div>"
      ],
      "text/plain": [
       "       total_images  last_price  total_area first_day_exposition  rooms  \\\n",
       "10002            12   3200000.0        35.5  2018-01-12T00:00:00      1   \n",
       "15480            13   3995000.0        48.0  2019-03-27T00:00:00      2   \n",
       "3753             11   8500000.0        94.7  2017-04-24T00:00:00      3   \n",
       "5921             20  29000000.0       215.0  2017-12-29T00:00:00      5   \n",
       "5632             20  13000000.0        95.3  2019-01-05T00:00:00      3   \n",
       "\n",
       "       ceiling_height  floors_total  living_area  floor is_apartment  ...  \\\n",
       "10002             2.6          12.0         16.4     11          NaN  ...   \n",
       "15480             NaN          12.0         28.0      5          NaN  ...   \n",
       "3753              NaN           3.0         62.6      2          NaN  ...   \n",
       "5921              NaN           5.0         80.0      3          NaN  ...   \n",
       "5632              2.5          15.0         51.0      9          NaN  ...   \n",
       "\n",
       "       kitchen_area  balcony    locality_name  airports_nearest  \\\n",
       "10002           8.1      2.0   посёлок Мурино               NaN   \n",
       "15480           7.0      NaN        Кронштадт           65568.0   \n",
       "3753            9.1      0.0  Санкт-Петербург           23691.0   \n",
       "5921           23.0      NaN  Санкт-Петербург           24887.0   \n",
       "5632           16.6      NaN  Санкт-Петербург           38505.0   \n",
       "\n",
       "      cityCenters_nearest  parks_around3000  parks_nearest  ponds_around3000  \\\n",
       "10002                 NaN               NaN            NaN               NaN   \n",
       "15480             47294.0               1.0          146.0               1.0   \n",
       "3753               3232.0               0.0            NaN               3.0   \n",
       "5921               5455.0               1.0          443.0               0.0   \n",
       "5632               7765.0               1.0          496.0               2.0   \n",
       "\n",
       "       ponds_nearest  days_exposition  \n",
       "10002            NaN            337.0  \n",
       "15480          293.0             29.0  \n",
       "3753           386.0            115.0  \n",
       "5921             NaN             24.0  \n",
       "5632           219.0              NaN  \n",
       "\n",
       "[5 rows x 22 columns]"
      ]
     },
     "execution_count": 2,
     "metadata": {},
     "output_type": "execute_result"
    }
   ],
   "source": [
    "df.sample(5)"
   ]
  },
  {
   "cell_type": "code",
   "execution_count": 3,
   "metadata": {},
   "outputs": [
    {
     "name": "stdout",
     "output_type": "stream",
     "text": [
      "<class 'pandas.core.frame.DataFrame'>\n",
      "RangeIndex: 23699 entries, 0 to 23698\n",
      "Data columns (total 22 columns):\n",
      " #   Column                Non-Null Count  Dtype  \n",
      "---  ------                --------------  -----  \n",
      " 0   total_images          23699 non-null  int64  \n",
      " 1   last_price            23699 non-null  float64\n",
      " 2   total_area            23699 non-null  float64\n",
      " 3   first_day_exposition  23699 non-null  object \n",
      " 4   rooms                 23699 non-null  int64  \n",
      " 5   ceiling_height        14504 non-null  float64\n",
      " 6   floors_total          23613 non-null  float64\n",
      " 7   living_area           21796 non-null  float64\n",
      " 8   floor                 23699 non-null  int64  \n",
      " 9   is_apartment          2775 non-null   object \n",
      " 10  studio                23699 non-null  bool   \n",
      " 11  open_plan             23699 non-null  bool   \n",
      " 12  kitchen_area          21421 non-null  float64\n",
      " 13  balcony               12180 non-null  float64\n",
      " 14  locality_name         23650 non-null  object \n",
      " 15  airports_nearest      18157 non-null  float64\n",
      " 16  cityCenters_nearest   18180 non-null  float64\n",
      " 17  parks_around3000      18181 non-null  float64\n",
      " 18  parks_nearest         8079 non-null   float64\n",
      " 19  ponds_around3000      18181 non-null  float64\n",
      " 20  ponds_nearest         9110 non-null   float64\n",
      " 21  days_exposition       20518 non-null  float64\n",
      "dtypes: bool(2), float64(14), int64(3), object(3)\n",
      "memory usage: 3.7+ MB\n"
     ]
    }
   ],
   "source": [
    "df.info()"
   ]
  },
  {
   "cell_type": "markdown",
   "metadata": {},
   "source": [
    "There is a column containing both uppercase and lowercase letters in the name (cityCenters_nearest). For a part of the data, you will need to replace the data type from float to int in order to speed up the work with calculations later. The first_day_exposition column contains the date of publication of the announcement, for further work it will be necessary to convert this column to the date data type."
   ]
  },
  {
   "cell_type": "code",
   "execution_count": 4,
   "metadata": {},
   "outputs": [
    {
     "data": {
      "text/plain": [
       "total_images                0\n",
       "last_price                  0\n",
       "total_area                  0\n",
       "first_day_exposition        0\n",
       "rooms                       0\n",
       "ceiling_height           9195\n",
       "floors_total               86\n",
       "living_area              1903\n",
       "floor                       0\n",
       "is_apartment            20924\n",
       "studio                      0\n",
       "open_plan                   0\n",
       "kitchen_area             2278\n",
       "balcony                 11519\n",
       "locality_name              49\n",
       "airports_nearest         5542\n",
       "cityCenters_nearest      5519\n",
       "parks_around3000         5518\n",
       "parks_nearest           15620\n",
       "ponds_around3000         5518\n",
       "ponds_nearest           14589\n",
       "days_exposition          3181\n",
       "dtype: int64"
      ]
     },
     "execution_count": 4,
     "metadata": {},
     "output_type": "execute_result"
    }
   ],
   "source": [
    "df.isnull().sum()"
   ]
  },
  {
   "cell_type": "markdown",
   "metadata": {},
   "source": [
    "The number of omissions in the locality_name column is only 49. It is difficult to make an assumption about them based on other available data. Due to their small number, we will delete these lines further."
   ]
  },
  {
   "cell_type": "code",
   "execution_count": 5,
   "metadata": {},
   "outputs": [
    {
     "data": {
      "text/plain": [
       "<bound method Series.unique of 0            Санкт-Петербург\n",
       "1             посёлок Шушары\n",
       "2            Санкт-Петербург\n",
       "3            Санкт-Петербург\n",
       "4            Санкт-Петербург\n",
       "                ...         \n",
       "23694        Санкт-Петербург\n",
       "23695                  Тосно\n",
       "23696       село Рождествено\n",
       "23697        Санкт-Петербург\n",
       "23698    поселок Новый Учхоз\n",
       "Name: locality_name, Length: 23699, dtype: object>"
      ]
     },
     "execution_count": 5,
     "metadata": {},
     "output_type": "execute_result"
    }
   ],
   "source": [
    "df['locality_name'].unique"
   ]
  },
  {
   "cell_type": "markdown",
   "metadata": {},
   "source": [
    "Apparently, lemmatization for the locality_name column is not needed. In the course of further work, we will remove auxiliary words like \"village/село\", \"village/поселок\"."
   ]
  },
  {
   "cell_type": "code",
   "execution_count": 6,
   "metadata": {},
   "outputs": [
    {
     "data": {
      "text/html": [
       "<div>\n",
       "<style scoped>\n",
       "    .dataframe tbody tr th:only-of-type {\n",
       "        vertical-align: middle;\n",
       "    }\n",
       "\n",
       "    .dataframe tbody tr th {\n",
       "        vertical-align: top;\n",
       "    }\n",
       "\n",
       "    .dataframe thead th {\n",
       "        text-align: right;\n",
       "    }\n",
       "</style>\n",
       "<table border=\"1\" class=\"dataframe\">\n",
       "  <thead>\n",
       "    <tr style=\"text-align: right;\">\n",
       "      <th></th>\n",
       "      <th>total_images</th>\n",
       "      <th>last_price</th>\n",
       "      <th>total_area</th>\n",
       "      <th>rooms</th>\n",
       "      <th>ceiling_height</th>\n",
       "      <th>floors_total</th>\n",
       "      <th>living_area</th>\n",
       "      <th>floor</th>\n",
       "      <th>kitchen_area</th>\n",
       "      <th>balcony</th>\n",
       "      <th>airports_nearest</th>\n",
       "      <th>cityCenters_nearest</th>\n",
       "      <th>parks_around3000</th>\n",
       "      <th>parks_nearest</th>\n",
       "      <th>ponds_around3000</th>\n",
       "      <th>ponds_nearest</th>\n",
       "      <th>days_exposition</th>\n",
       "    </tr>\n",
       "  </thead>\n",
       "  <tbody>\n",
       "    <tr>\n",
       "      <th>count</th>\n",
       "      <td>23699.000000</td>\n",
       "      <td>2.369900e+04</td>\n",
       "      <td>23699.000000</td>\n",
       "      <td>23699.000000</td>\n",
       "      <td>14504.000000</td>\n",
       "      <td>23613.000000</td>\n",
       "      <td>21796.000000</td>\n",
       "      <td>23699.000000</td>\n",
       "      <td>21421.000000</td>\n",
       "      <td>12180.000000</td>\n",
       "      <td>18157.000000</td>\n",
       "      <td>18180.000000</td>\n",
       "      <td>18181.000000</td>\n",
       "      <td>8079.000000</td>\n",
       "      <td>18181.000000</td>\n",
       "      <td>9110.000000</td>\n",
       "      <td>20518.000000</td>\n",
       "    </tr>\n",
       "    <tr>\n",
       "      <th>mean</th>\n",
       "      <td>9.858475</td>\n",
       "      <td>6.541549e+06</td>\n",
       "      <td>60.348651</td>\n",
       "      <td>2.070636</td>\n",
       "      <td>2.771499</td>\n",
       "      <td>10.673824</td>\n",
       "      <td>34.457852</td>\n",
       "      <td>5.892358</td>\n",
       "      <td>10.569807</td>\n",
       "      <td>1.150082</td>\n",
       "      <td>28793.672193</td>\n",
       "      <td>14191.277833</td>\n",
       "      <td>0.611408</td>\n",
       "      <td>490.804555</td>\n",
       "      <td>0.770255</td>\n",
       "      <td>517.980900</td>\n",
       "      <td>180.888634</td>\n",
       "    </tr>\n",
       "    <tr>\n",
       "      <th>std</th>\n",
       "      <td>5.682529</td>\n",
       "      <td>1.088701e+07</td>\n",
       "      <td>35.654083</td>\n",
       "      <td>1.078405</td>\n",
       "      <td>1.261056</td>\n",
       "      <td>6.597173</td>\n",
       "      <td>22.030445</td>\n",
       "      <td>4.885249</td>\n",
       "      <td>5.905438</td>\n",
       "      <td>1.071300</td>\n",
       "      <td>12630.880622</td>\n",
       "      <td>8608.386210</td>\n",
       "      <td>0.802074</td>\n",
       "      <td>342.317995</td>\n",
       "      <td>0.938346</td>\n",
       "      <td>277.720643</td>\n",
       "      <td>219.727988</td>\n",
       "    </tr>\n",
       "    <tr>\n",
       "      <th>min</th>\n",
       "      <td>0.000000</td>\n",
       "      <td>1.219000e+04</td>\n",
       "      <td>12.000000</td>\n",
       "      <td>0.000000</td>\n",
       "      <td>1.000000</td>\n",
       "      <td>1.000000</td>\n",
       "      <td>2.000000</td>\n",
       "      <td>1.000000</td>\n",
       "      <td>1.300000</td>\n",
       "      <td>0.000000</td>\n",
       "      <td>0.000000</td>\n",
       "      <td>181.000000</td>\n",
       "      <td>0.000000</td>\n",
       "      <td>1.000000</td>\n",
       "      <td>0.000000</td>\n",
       "      <td>13.000000</td>\n",
       "      <td>1.000000</td>\n",
       "    </tr>\n",
       "    <tr>\n",
       "      <th>25%</th>\n",
       "      <td>6.000000</td>\n",
       "      <td>3.400000e+06</td>\n",
       "      <td>40.000000</td>\n",
       "      <td>1.000000</td>\n",
       "      <td>2.520000</td>\n",
       "      <td>5.000000</td>\n",
       "      <td>18.600000</td>\n",
       "      <td>2.000000</td>\n",
       "      <td>7.000000</td>\n",
       "      <td>0.000000</td>\n",
       "      <td>18585.000000</td>\n",
       "      <td>9238.000000</td>\n",
       "      <td>0.000000</td>\n",
       "      <td>288.000000</td>\n",
       "      <td>0.000000</td>\n",
       "      <td>294.000000</td>\n",
       "      <td>45.000000</td>\n",
       "    </tr>\n",
       "    <tr>\n",
       "      <th>50%</th>\n",
       "      <td>9.000000</td>\n",
       "      <td>4.650000e+06</td>\n",
       "      <td>52.000000</td>\n",
       "      <td>2.000000</td>\n",
       "      <td>2.650000</td>\n",
       "      <td>9.000000</td>\n",
       "      <td>30.000000</td>\n",
       "      <td>4.000000</td>\n",
       "      <td>9.100000</td>\n",
       "      <td>1.000000</td>\n",
       "      <td>26726.000000</td>\n",
       "      <td>13098.500000</td>\n",
       "      <td>0.000000</td>\n",
       "      <td>455.000000</td>\n",
       "      <td>1.000000</td>\n",
       "      <td>502.000000</td>\n",
       "      <td>95.000000</td>\n",
       "    </tr>\n",
       "    <tr>\n",
       "      <th>75%</th>\n",
       "      <td>14.000000</td>\n",
       "      <td>6.800000e+06</td>\n",
       "      <td>69.900000</td>\n",
       "      <td>3.000000</td>\n",
       "      <td>2.800000</td>\n",
       "      <td>16.000000</td>\n",
       "      <td>42.300000</td>\n",
       "      <td>8.000000</td>\n",
       "      <td>12.000000</td>\n",
       "      <td>2.000000</td>\n",
       "      <td>37273.000000</td>\n",
       "      <td>16293.000000</td>\n",
       "      <td>1.000000</td>\n",
       "      <td>612.000000</td>\n",
       "      <td>1.000000</td>\n",
       "      <td>729.000000</td>\n",
       "      <td>232.000000</td>\n",
       "    </tr>\n",
       "    <tr>\n",
       "      <th>max</th>\n",
       "      <td>50.000000</td>\n",
       "      <td>7.630000e+08</td>\n",
       "      <td>900.000000</td>\n",
       "      <td>19.000000</td>\n",
       "      <td>100.000000</td>\n",
       "      <td>60.000000</td>\n",
       "      <td>409.700000</td>\n",
       "      <td>33.000000</td>\n",
       "      <td>112.000000</td>\n",
       "      <td>5.000000</td>\n",
       "      <td>84869.000000</td>\n",
       "      <td>65968.000000</td>\n",
       "      <td>3.000000</td>\n",
       "      <td>3190.000000</td>\n",
       "      <td>3.000000</td>\n",
       "      <td>1344.000000</td>\n",
       "      <td>1580.000000</td>\n",
       "    </tr>\n",
       "  </tbody>\n",
       "</table>\n",
       "</div>"
      ],
      "text/plain": [
       "       total_images    last_price    total_area         rooms  ceiling_height  \\\n",
       "count  23699.000000  2.369900e+04  23699.000000  23699.000000    14504.000000   \n",
       "mean       9.858475  6.541549e+06     60.348651      2.070636        2.771499   \n",
       "std        5.682529  1.088701e+07     35.654083      1.078405        1.261056   \n",
       "min        0.000000  1.219000e+04     12.000000      0.000000        1.000000   \n",
       "25%        6.000000  3.400000e+06     40.000000      1.000000        2.520000   \n",
       "50%        9.000000  4.650000e+06     52.000000      2.000000        2.650000   \n",
       "75%       14.000000  6.800000e+06     69.900000      3.000000        2.800000   \n",
       "max       50.000000  7.630000e+08    900.000000     19.000000      100.000000   \n",
       "\n",
       "       floors_total   living_area         floor  kitchen_area       balcony  \\\n",
       "count  23613.000000  21796.000000  23699.000000  21421.000000  12180.000000   \n",
       "mean      10.673824     34.457852      5.892358     10.569807      1.150082   \n",
       "std        6.597173     22.030445      4.885249      5.905438      1.071300   \n",
       "min        1.000000      2.000000      1.000000      1.300000      0.000000   \n",
       "25%        5.000000     18.600000      2.000000      7.000000      0.000000   \n",
       "50%        9.000000     30.000000      4.000000      9.100000      1.000000   \n",
       "75%       16.000000     42.300000      8.000000     12.000000      2.000000   \n",
       "max       60.000000    409.700000     33.000000    112.000000      5.000000   \n",
       "\n",
       "       airports_nearest  cityCenters_nearest  parks_around3000  parks_nearest  \\\n",
       "count      18157.000000         18180.000000      18181.000000    8079.000000   \n",
       "mean       28793.672193         14191.277833          0.611408     490.804555   \n",
       "std        12630.880622          8608.386210          0.802074     342.317995   \n",
       "min            0.000000           181.000000          0.000000       1.000000   \n",
       "25%        18585.000000          9238.000000          0.000000     288.000000   \n",
       "50%        26726.000000         13098.500000          0.000000     455.000000   \n",
       "75%        37273.000000         16293.000000          1.000000     612.000000   \n",
       "max        84869.000000         65968.000000          3.000000    3190.000000   \n",
       "\n",
       "       ponds_around3000  ponds_nearest  days_exposition  \n",
       "count      18181.000000    9110.000000     20518.000000  \n",
       "mean           0.770255     517.980900       180.888634  \n",
       "std            0.938346     277.720643       219.727988  \n",
       "min            0.000000      13.000000         1.000000  \n",
       "25%            0.000000     294.000000        45.000000  \n",
       "50%            1.000000     502.000000        95.000000  \n",
       "75%            1.000000     729.000000       232.000000  \n",
       "max            3.000000    1344.000000      1580.000000  "
      ]
     },
     "execution_count": 6,
     "metadata": {},
     "output_type": "execute_result"
    }
   ],
   "source": [
    "df.describe()"
   ]
  },
  {
   "cell_type": "markdown",
   "metadata": {},
   "source": [
    "### Conclusion"
   ]
  },
  {
   "cell_type": "markdown",
   "metadata": {},
   "source": [
    "The minimum value in the rooms column is '0', probably the number of rooms is not filled for studio apartments. Min also looks strange. the value is 2 m in the living area column. Something strange is happening in the ceiling_height column: there is at least 1 sq. with a ceiling height of 100 m and at least one apartment with a ceiling height of 1 m.\n",
    "\n",
    "Judging by the fact that the maximum number in the days_exposition column is 1580, our archive of ads compiles data on apartment sales for the last 4 years at the time of data upload.\n",
    "\n",
    "The minimum value for the total_area column is 12 sq. m., which would not be surprising if we were analyzing the real estate market, for example, in Paris, but for St. Petersburg and the region, such an area even for studio apartments seems unlikely, as well as the minimum value for the living_area column is 2 sq.m, because on this it is impossible even to place a bed on the square. The minimum recommended area for developers (in our case, the living_area column) in Russia for one-room apartments is 14 sq. m. m (https://gsps.ru/poleznoe/minimalnaya-ploshchad-pomeshcheniy-kvartiry.php )."
   ]
  },
  {
   "cell_type": "markdown",
   "metadata": {},
   "source": [
    "## Data preprocessing"
   ]
  },
  {
   "cell_type": "code",
   "execution_count": 7,
   "metadata": {},
   "outputs": [],
   "source": [
    "df = df.rename(columns={'cityCenters_nearest': 'nearest_city_center'})\n",
    "#rename the incorrectly named column"
   ]
  },
  {
   "cell_type": "markdown",
   "metadata": {},
   "source": [
    "### Missed values"
   ]
  },
  {
   "cell_type": "code",
   "execution_count": 8,
   "metadata": {},
   "outputs": [],
   "source": [
    "df.dropna(subset=['locality_name'], inplace=True)\n",
    "df.dropna(subset=['floors_total'], inplace=True)\n",
    "\n",
    "#we will delete the rows with omissions in the columns locality_name and floors_total due to their small number - 49 and 86, respectively"
   ]
  },
  {
   "cell_type": "code",
   "execution_count": 9,
   "metadata": {},
   "outputs": [
    {
     "data": {
      "text/plain": [
       "0.486950986632718"
      ]
     },
     "metadata": {},
     "output_type": "display_data"
    }
   ],
   "source": [
    "display((df['balcony'].isnull().sum())/len(df['balcony']))\n",
    "#let's look at the ratio of missed values in the balcony column to the total number of rows"
   ]
  },
  {
   "cell_type": "markdown",
   "metadata": {},
   "source": [
    "It is unlikely that almost half of the apartments sold did not have balconies. Let's assume that there are no balconies in the apartments located on the 1st floor - replace them with \"0\". For the remaining omissions, we will leave the marker \"-1\"."
   ]
  },
  {
   "cell_type": "code",
   "execution_count": 10,
   "metadata": {},
   "outputs": [
    {
     "data": {
      "text/plain": [
       "0"
      ]
     },
     "metadata": {},
     "output_type": "display_data"
    }
   ],
   "source": [
    "df.loc[(df.floor == 1) & (pd.isna(df.balcony)),'balcony'] == 0\n",
    "df['balcony']=df['balcony'].fillna(-1)                  \n",
    "display(df['balcony'].isnull().sum())\n",
    "\n",
    "#fill in the gaps in the balcony column and check the remaining missing values"
   ]
  },
  {
   "cell_type": "code",
   "execution_count": 11,
   "metadata": {},
   "outputs": [],
   "source": [
    "df['is_apartment']=df['is_apartment'].fillna(False)\n",
    "df['ponds_around3000']=df['ponds_around3000'].fillna(0)\n",
    "df['parks_around3000']=df['parks_around3000'].fillna(0)"
   ]
  },
  {
   "cell_type": "markdown",
   "metadata": {},
   "source": [
    "Fill in the missing values based on the assumptions that:\n",
    "- missed values in the column \"is_apartment\" mean that these are not apartments - there are few apartments-apartments in Russia,\n",
    "- missed values in the columns ponds_around3000 mean that there is no reservoir in raudis 3 km\n",
    "- missed values in the parks_around3000 columns mean that there is no park in raudis 3 km away"
   ]
  },
  {
   "cell_type": "code",
   "execution_count": 12,
   "metadata": {},
   "outputs": [],
   "source": [
    "df['ceiling_height'] = df['ceiling_height'].fillna(df.groupby(['floors_total'])['ceiling_height'].transform('mean'))"
   ]
  },
  {
   "cell_type": "code",
   "execution_count": 13,
   "metadata": {},
   "outputs": [],
   "source": [
    "df['kitchen_area'] = df['kitchen_area'].fillna((df['total_area']-df['living_area']))\n",
    "#calculate the kitchen area based on data on the total area and residential"
   ]
  },
  {
   "cell_type": "code",
   "execution_count": 14,
   "metadata": {},
   "outputs": [],
   "source": [
    "df['ceiling_height'] = df['ceiling_height'].fillna(df.groupby(['floors_total'])['ceiling_height'].transform('mean'))\n",
    "#fill in the gaps in the ceiling_height column with average values depending on the number of floors of the house"
   ]
  },
  {
   "cell_type": "code",
   "execution_count": 15,
   "metadata": {},
   "outputs": [],
   "source": [
    "df['living_area'] = df['living_area'].fillna(df.groupby(['rooms'])['living_area'].transform('mean'))\n",
    "#fill in the gaps in the living_area column with average values depending on the number of rooms"
   ]
  },
  {
   "cell_type": "code",
   "execution_count": 16,
   "metadata": {},
   "outputs": [],
   "source": [
    "df['kitchen_area'] = df['kitchen_area'].fillna(df.groupby(['living_area'])['kitchen_area'].transform('mean'))\n",
    "#fill in the gaps in the living_area column with average values depending on the total area of the apartment"
   ]
  },
  {
   "cell_type": "markdown",
   "metadata": {},
   "source": [
    "For the remaining columns with gaps, it was decided to fill in the gaps with the \"-1\" marker, since it is impossible to find logical replacements based on the available data, and the total share of such rows in the sample is quite large."
   ]
  },
  {
   "cell_type": "code",
   "execution_count": 17,
   "metadata": {},
   "outputs": [],
   "source": [
    "df.loc[:,['airports_nearest','nearest_city_center','parks_nearest','ponds_nearest','days_exposition']] = df[['airports_nearest','nearest_city_center','parks_nearest','ponds_nearest','days_exposition']].fillna(-1)"
   ]
  },
  {
   "cell_type": "code",
   "execution_count": 18,
   "metadata": {},
   "outputs": [
    {
     "data": {
      "text/plain": [
       "total_images             0\n",
       "last_price               0\n",
       "total_area               0\n",
       "first_day_exposition     0\n",
       "rooms                    0\n",
       "ceiling_height           1\n",
       "floors_total             0\n",
       "living_area              0\n",
       "floor                    0\n",
       "is_apartment             0\n",
       "studio                   0\n",
       "open_plan                0\n",
       "kitchen_area            12\n",
       "balcony                  0\n",
       "locality_name            0\n",
       "airports_nearest         0\n",
       "nearest_city_center      0\n",
       "parks_around3000         0\n",
       "parks_nearest            0\n",
       "ponds_around3000         0\n",
       "ponds_nearest            0\n",
       "days_exposition          0\n",
       "dtype: int64"
      ]
     },
     "execution_count": 18,
     "metadata": {},
     "output_type": "execute_result"
    }
   ],
   "source": [
    "df.isnull().sum()\n",
    "#let's check the number of omissions in the dataset after all the conversions"
   ]
  },
  {
   "cell_type": "code",
   "execution_count": 19,
   "metadata": {},
   "outputs": [],
   "source": [
    "df.dropna(subset=['kitchen_area'], inplace=True)\n",
    "#drop 12 rows with gaps in the kitchen_area column"
   ]
  },
  {
   "cell_type": "markdown",
   "metadata": {},
   "source": [
    "Let's clean the column with the names of settlements from auxiliary words denoting the type of settlement and the extra spaces left after that."
   ]
  },
  {
   "cell_type": "code",
   "execution_count": 20,
   "metadata": {},
   "outputs": [],
   "source": [
    "df['locality_name'] = df['locality_name'].str.replace('ё', 'е', regex = True) # replacing 'ё' with 'е'\n",
    "#creating a list of auxiliary words\n",
    "location_type = ['городской поселок', 'поселок', 'деревня', 'село', 'поселок городского типа', 'садоводческое некоммерческое товарищество', 'садовое товарищество', 'коттеджный поселок', 'коттеджный']\n",
    "\n",
    "for type_name in location_type: #sort through the list of auxiliary words\n",
    "    df['locality_name'] = df['locality_name'].replace(type_name, '', regex = True) # replace the auxiliary part with an empty string\n",
    "    \n",
    "df['locality_name'] = df['locality_name'].apply(lambda x: x.strip())\n",
    "#remove the extra spaces"
   ]
  },
  {
   "cell_type": "code",
   "execution_count": 21,
   "metadata": {},
   "outputs": [
    {
     "data": {
      "text/plain": [
       "Санкт-Петербург    15644\n",
       "Мурино               585\n",
       "Кудрово              470\n",
       "Шушары               438\n",
       "Всеволожск           397\n",
       "Пушкин               369\n",
       "Колпино              338\n",
       "Парголово            327\n",
       "Гатчина              307\n",
       "Выборг               237\n",
       "Петергоф             201\n",
       "Сестрорецк           183\n",
       "Красное Село         176\n",
       "Новое Девяткино      143\n",
       "Сертолово            142\n",
       "Ломоносов            133\n",
       "Кириши               125\n",
       "Бугры                113\n",
       "Сланцы               112\n",
       "Волхов               111\n",
       "Кингисепп            104\n",
       "Тосно                103\n",
       "Кронштадт             96\n",
       "Никольское            94\n",
       "Коммунар              89\n",
       "Сосновый Бор          87\n",
       "Кировск               84\n",
       "Отрадное              80\n",
       "Янино-1               68\n",
       "Металлострой          66\n",
       "Name: locality_name, dtype: int64"
      ]
     },
     "metadata": {},
     "output_type": "display_data"
    }
   ],
   "source": [
    "display(df['locality_name'].value_counts().head(30))\n",
    "#look at the result"
   ]
  },
  {
   "cell_type": "markdown",
   "metadata": {},
   "source": [
    "### Changing data type"
   ]
  },
  {
   "cell_type": "code",
   "execution_count": 22,
   "metadata": {},
   "outputs": [],
   "source": [
    "df['ceiling_height'] = df['ceiling_height'].round(2)"
   ]
  },
  {
   "cell_type": "code",
   "execution_count": 23,
   "metadata": {},
   "outputs": [],
   "source": [
    "df['first_day_exposition'] = pd.to_datetime(df['first_day_exposition'], format='%Y-%m-%dt%H:%M:%S')"
   ]
  },
  {
   "cell_type": "markdown",
   "metadata": {},
   "source": [
    "The data for the last_price column is given in rubles, divide this column by 1000 to analyze the data in thousands of rubles."
   ]
  },
  {
   "cell_type": "code",
   "execution_count": 24,
   "metadata": {},
   "outputs": [],
   "source": [
    "df['last_price']=df['last_price']/1000\n",
    "#we translate the price data in thousand rubles"
   ]
  },
  {
   "cell_type": "code",
   "execution_count": 25,
   "metadata": {},
   "outputs": [],
   "source": [
    "df = df.astype({'floors_total':'int','last_price':'int'},errors='ignore')"
   ]
  },
  {
   "cell_type": "markdown",
   "metadata": {},
   "source": [
    "### Conclusion"
   ]
  },
  {
   "cell_type": "markdown",
   "metadata": {},
   "source": [
    "In order to make further calculations, the data type for the first_day_exposition column was changed. To make the code work faster, the data type in some columns was replaced from float to int for those columns where it does not cause data loss for analysis."
   ]
  },
  {
   "cell_type": "markdown",
   "metadata": {},
   "source": [
    "## Calculations and adding results to the table"
   ]
  },
  {
   "cell_type": "code",
   "execution_count": 26,
   "metadata": {},
   "outputs": [],
   "source": [
    "df['weekday_exposition']=pd.DatetimeIndex(df['first_day_exposition']).day_name()\n",
    "#add the day of week of the first ad publication to the table"
   ]
  },
  {
   "cell_type": "code",
   "execution_count": 27,
   "metadata": {},
   "outputs": [],
   "source": [
    "df['month_exposition']=pd.DatetimeIndex(df['first_day_exposition']).month_name()\n",
    "#add the month of the first ad publication to the table"
   ]
  },
  {
   "cell_type": "code",
   "execution_count": 28,
   "metadata": {},
   "outputs": [],
   "source": [
    "df['year_exposition'] = pd.DatetimeIndex(df['first_day_exposition']).year\n",
    "#add the year of the first ad publication to the table"
   ]
  },
  {
   "cell_type": "code",
   "execution_count": 29,
   "metadata": {},
   "outputs": [],
   "source": [
    "df['living_to_total'] = (df['living_area']/df['total_area']).round(2)\n",
    "df['kitchen_to_total'] = (df['kitchen_area']/df['total_area']).round(2)\n",
    "#let's add to the table the ratio of residential and total area, as well as the ratio of kitchen area to total"
   ]
  },
  {
   "cell_type": "code",
   "execution_count": 30,
   "metadata": {},
   "outputs": [],
   "source": [
    "df['square_metre_price'] = (df['last_price'] / df['total_area']).round(2)\n",
    "#let's add a column with the price per square meter to the table"
   ]
  },
  {
   "cell_type": "code",
   "execution_count": 31,
   "metadata": {},
   "outputs": [],
   "source": [
    "def define_floor_category (floors_total, floor):\n",
    "    if floor == floors_total:\n",
    "        return 'last'\n",
    "    elif floor == 1:\n",
    "        return 'first'    \n",
    "    else:\n",
    "        return 'other'\n",
    "\n",
    "df['floor_category'] = df.apply(lambda x: define_floor_category(x.floors_total, x.floor), axis=1)\n",
    "#let's apply the apartment floor categorization function to the floor and floors_total columns and write the result of the function to a new one\n",
    "#floor_category column"
   ]
  },
  {
   "cell_type": "code",
   "execution_count": 32,
   "metadata": {},
   "outputs": [
    {
     "data": {
      "text/html": [
       "<div>\n",
       "<style scoped>\n",
       "    .dataframe tbody tr th:only-of-type {\n",
       "        vertical-align: middle;\n",
       "    }\n",
       "\n",
       "    .dataframe tbody tr th {\n",
       "        vertical-align: top;\n",
       "    }\n",
       "\n",
       "    .dataframe thead th {\n",
       "        text-align: right;\n",
       "    }\n",
       "</style>\n",
       "<table border=\"1\" class=\"dataframe\">\n",
       "  <thead>\n",
       "    <tr style=\"text-align: right;\">\n",
       "      <th></th>\n",
       "      <th>total_images</th>\n",
       "      <th>last_price</th>\n",
       "      <th>total_area</th>\n",
       "      <th>first_day_exposition</th>\n",
       "      <th>rooms</th>\n",
       "      <th>ceiling_height</th>\n",
       "      <th>floors_total</th>\n",
       "      <th>living_area</th>\n",
       "      <th>floor</th>\n",
       "      <th>is_apartment</th>\n",
       "      <th>...</th>\n",
       "      <th>ponds_around3000</th>\n",
       "      <th>ponds_nearest</th>\n",
       "      <th>days_exposition</th>\n",
       "      <th>weekday_exposition</th>\n",
       "      <th>month_exposition</th>\n",
       "      <th>year_exposition</th>\n",
       "      <th>living_to_total</th>\n",
       "      <th>kitchen_to_total</th>\n",
       "      <th>square_metre_price</th>\n",
       "      <th>floor_category</th>\n",
       "    </tr>\n",
       "  </thead>\n",
       "  <tbody>\n",
       "    <tr>\n",
       "      <th>16907</th>\n",
       "      <td>17</td>\n",
       "      <td>4200</td>\n",
       "      <td>50.7</td>\n",
       "      <td>2017-04-28</td>\n",
       "      <td>2</td>\n",
       "      <td>2.78</td>\n",
       "      <td>19</td>\n",
       "      <td>29.3</td>\n",
       "      <td>10</td>\n",
       "      <td>False</td>\n",
       "      <td>...</td>\n",
       "      <td>1.0</td>\n",
       "      <td>183.0</td>\n",
       "      <td>39.0</td>\n",
       "      <td>Friday</td>\n",
       "      <td>April</td>\n",
       "      <td>2017</td>\n",
       "      <td>0.58</td>\n",
       "      <td>0.17</td>\n",
       "      <td>82.84</td>\n",
       "      <td>other</td>\n",
       "    </tr>\n",
       "    <tr>\n",
       "      <th>22116</th>\n",
       "      <td>20</td>\n",
       "      <td>3890</td>\n",
       "      <td>36.7</td>\n",
       "      <td>2017-04-18</td>\n",
       "      <td>1</td>\n",
       "      <td>2.78</td>\n",
       "      <td>25</td>\n",
       "      <td>18.7</td>\n",
       "      <td>16</td>\n",
       "      <td>False</td>\n",
       "      <td>...</td>\n",
       "      <td>0.0</td>\n",
       "      <td>-1.0</td>\n",
       "      <td>348.0</td>\n",
       "      <td>Tuesday</td>\n",
       "      <td>April</td>\n",
       "      <td>2017</td>\n",
       "      <td>0.51</td>\n",
       "      <td>0.26</td>\n",
       "      <td>105.99</td>\n",
       "      <td>other</td>\n",
       "    </tr>\n",
       "    <tr>\n",
       "      <th>3173</th>\n",
       "      <td>6</td>\n",
       "      <td>4800</td>\n",
       "      <td>44.5</td>\n",
       "      <td>2019-03-27</td>\n",
       "      <td>2</td>\n",
       "      <td>3.20</td>\n",
       "      <td>6</td>\n",
       "      <td>33.0</td>\n",
       "      <td>6</td>\n",
       "      <td>False</td>\n",
       "      <td>...</td>\n",
       "      <td>0.0</td>\n",
       "      <td>-1.0</td>\n",
       "      <td>26.0</td>\n",
       "      <td>Wednesday</td>\n",
       "      <td>March</td>\n",
       "      <td>2019</td>\n",
       "      <td>0.74</td>\n",
       "      <td>0.16</td>\n",
       "      <td>107.87</td>\n",
       "      <td>last</td>\n",
       "    </tr>\n",
       "    <tr>\n",
       "      <th>7614</th>\n",
       "      <td>17</td>\n",
       "      <td>6000</td>\n",
       "      <td>52.2</td>\n",
       "      <td>2017-01-07</td>\n",
       "      <td>2</td>\n",
       "      <td>2.62</td>\n",
       "      <td>12</td>\n",
       "      <td>31.2</td>\n",
       "      <td>1</td>\n",
       "      <td>False</td>\n",
       "      <td>...</td>\n",
       "      <td>1.0</td>\n",
       "      <td>665.0</td>\n",
       "      <td>60.0</td>\n",
       "      <td>Saturday</td>\n",
       "      <td>January</td>\n",
       "      <td>2017</td>\n",
       "      <td>0.60</td>\n",
       "      <td>0.14</td>\n",
       "      <td>114.94</td>\n",
       "      <td>first</td>\n",
       "    </tr>\n",
       "    <tr>\n",
       "      <th>4608</th>\n",
       "      <td>10</td>\n",
       "      <td>11000</td>\n",
       "      <td>65.9</td>\n",
       "      <td>2018-09-27</td>\n",
       "      <td>2</td>\n",
       "      <td>3.00</td>\n",
       "      <td>16</td>\n",
       "      <td>19.7</td>\n",
       "      <td>13</td>\n",
       "      <td>False</td>\n",
       "      <td>...</td>\n",
       "      <td>2.0</td>\n",
       "      <td>427.0</td>\n",
       "      <td>195.0</td>\n",
       "      <td>Thursday</td>\n",
       "      <td>September</td>\n",
       "      <td>2018</td>\n",
       "      <td>0.30</td>\n",
       "      <td>0.57</td>\n",
       "      <td>166.92</td>\n",
       "      <td>other</td>\n",
       "    </tr>\n",
       "  </tbody>\n",
       "</table>\n",
       "<p>5 rows × 29 columns</p>\n",
       "</div>"
      ],
      "text/plain": [
       "       total_images  last_price  total_area first_day_exposition  rooms  \\\n",
       "16907            17        4200        50.7           2017-04-28      2   \n",
       "22116            20        3890        36.7           2017-04-18      1   \n",
       "3173              6        4800        44.5           2019-03-27      2   \n",
       "7614             17        6000        52.2           2017-01-07      2   \n",
       "4608             10       11000        65.9           2018-09-27      2   \n",
       "\n",
       "       ceiling_height  floors_total  living_area  floor  is_apartment  ...  \\\n",
       "16907            2.78            19         29.3     10         False  ...   \n",
       "22116            2.78            25         18.7     16         False  ...   \n",
       "3173             3.20             6         33.0      6         False  ...   \n",
       "7614             2.62            12         31.2      1         False  ...   \n",
       "4608             3.00            16         19.7     13         False  ...   \n",
       "\n",
       "       ponds_around3000  ponds_nearest  days_exposition  weekday_exposition  \\\n",
       "16907               1.0          183.0             39.0              Friday   \n",
       "22116               0.0           -1.0            348.0             Tuesday   \n",
       "3173                0.0           -1.0             26.0           Wednesday   \n",
       "7614                1.0          665.0             60.0            Saturday   \n",
       "4608                2.0          427.0            195.0            Thursday   \n",
       "\n",
       "      month_exposition  year_exposition  living_to_total  kitchen_to_total  \\\n",
       "16907            April             2017             0.58              0.17   \n",
       "22116            April             2017             0.51              0.26   \n",
       "3173             March             2019             0.74              0.16   \n",
       "7614           January             2017             0.60              0.14   \n",
       "4608         September             2018             0.30              0.57   \n",
       "\n",
       "       square_metre_price  floor_category  \n",
       "16907               82.84           other  \n",
       "22116              105.99           other  \n",
       "3173               107.87            last  \n",
       "7614               114.94           first  \n",
       "4608               166.92           other  \n",
       "\n",
       "[5 rows x 29 columns]"
      ]
     },
     "execution_count": 32,
     "metadata": {},
     "output_type": "execute_result"
    }
   ],
   "source": [
    "df.sample(5)"
   ]
  },
  {
   "cell_type": "markdown",
   "metadata": {},
   "source": [
    "### Conclusion"
   ]
  },
  {
   "cell_type": "markdown",
   "metadata": {},
   "source": [
    "For further work, columns have been added to the dataframe that can provide additional information: the day of the week, the year and month of ad publication, the ratio of different types of areas to each other, as well as the price per sq.m."
   ]
  },
  {
   "cell_type": "markdown",
   "metadata": {},
   "source": [
    "## Exploratory data analysis"
   ]
  },
  {
   "cell_type": "markdown",
   "metadata": {},
   "source": [
    "### Researching parametres"
   ]
  },
  {
   "cell_type": "markdown",
   "metadata": {},
   "source": [
    "#### Number of bedrooms"
   ]
  },
  {
   "cell_type": "code",
   "execution_count": 33,
   "metadata": {},
   "outputs": [
    {
     "data": {
      "text/plain": [
       "1    33.98%\n",
       "2    33.53%\n",
       "3    24.54%\n",
       "4     4.98%\n",
       "5     1.38%\n",
       "0     0.78%\n",
       "6     0.44%\n",
       "7     0.25%\n",
       "8     0.05%\n",
       "9     0.03%\n",
       "10    0.01%\n",
       "11    0.01%\n",
       "14    0.01%\n",
       "19    0.00%\n",
       "16    0.00%\n",
       "12    0.00%\n",
       "15    0.00%\n",
       "Name: rooms, dtype: float64"
      ]
     },
     "metadata": {},
     "output_type": "display_data"
    }
   ],
   "source": [
    "with pd.option_context('display.float_format', '{:.2%}'.format):\n",
    "    display(df['rooms'].value_counts(normalize=True))\n",
    "#let's look at the distribution of apartments by the number of rooms"
   ]
  },
  {
   "cell_type": "markdown",
   "metadata": {},
   "source": [
    "There is no apartment where the number of rooms would be equal to 13. The number of rooms =0 was probably filled for studio apartments, but their share is also small. Due to the small number of values, it was decided to discard all apartments from the data analysis, the number of rooms in which is more than 5 and less than 1 - this will amount to about 3% of the data. This will probably make it easier to work with apartment prices in the future."
   ]
  },
  {
   "cell_type": "code",
   "execution_count": 34,
   "metadata": {},
   "outputs": [],
   "source": [
    "df = df.query('0 < rooms < 6')\n",
    "#we leave apartments with the number of rooms from 1 to 5"
   ]
  },
  {
   "cell_type": "markdown",
   "metadata": {},
   "source": [
    "#### Square"
   ]
  },
  {
   "cell_type": "code",
   "execution_count": 35,
   "metadata": {},
   "outputs": [
    {
     "data": {
      "image/png": "[encoded data removed]",
      "text/plain": [
       "<Figure size 432x288 with 1 Axes>"
      ]
     },
     "metadata": {
      "needs_background": "light"
     },
     "output_type": "display_data"
    }
   ],
   "source": [
    "df['total_area'].hist(bins=200)\n",
    "plt.title('Histogram of the distribution of apartments by square footage')\n",
    "plt.ylabel('Number of appartments')\n",
    "plt.xlabel('Square footage, square metres')\n",
    "plt.show()\n",
    "#let's see how the area of apartments is distributed after the exclusion of multi-room apartments"
   ]
  },
  {
   "cell_type": "markdown",
   "metadata": {},
   "source": [
    "According to the visualization, it can be seen that on the border of the total area of about 100 sq. m the number of apartments is halved, and after 200 sq. m becomes quite minimal. These values are small, but they can still influence the average numbers. Considering that we left the maximum possible number of rooms equal to 5, apartments with an area of 200 sq. m. (about 40 sq.m. per room) look strange. We can also notice that there are apartments with an abnormally small area, let's look at them in more detail."
   ]
  },
  {
   "cell_type": "code",
   "execution_count": 36,
   "metadata": {},
   "outputs": [
    {
     "data": {
      "image/png": "[encoded data removed]",
      "text/plain": [
       "<Figure size 432x288 with 1 Axes>"
      ]
     },
     "metadata": {
      "needs_background": "light"
     },
     "output_type": "display_data"
    }
   ],
   "source": [
    "df['living_area'].plot(kind='hist', bins=200, xlim=(0,150), grid=True)\n",
    "plt.title('Histogram of the distribution of apartments by living area')\n",
    "plt.ylabel('Number of appartments')\n",
    "plt.xlabel('Square footage, square metres')\n",
    "plt.show()\n",
    "#let's see how the living area of apartments is distributed after the exclusion of multi-room apartments"
   ]
  },
  {
   "cell_type": "code",
   "execution_count": 37,
   "metadata": {},
   "outputs": [
    {
     "data": {
      "image/png": "[encoded data removed]",
      "text/plain": [
       "<Figure size 720x504 with 1 Axes>"
      ]
     },
     "metadata": {
      "needs_background": "light"
     },
     "output_type": "display_data"
    }
   ],
   "source": [
    "df.plot(x='living_area', y='total_area', figsize=(10,7),grid=True,style='o')\n",
    "plt.title('Dependence of the living area on the total area of the apartment')\n",
    "plt.ylabel('Total area, sq.m.')\n",
    "plt.xlabel('Living area, square metres')\n",
    "plt.show()"
   ]
  },
  {
   "cell_type": "code",
   "execution_count": 38,
   "metadata": {},
   "outputs": [],
   "source": [
    "df = df.query('total_area <= 150')\n",
    "#we will remove apartments from the analyzed data, the total area of which is more than 150 sq.m."
   ]
  },
  {
   "cell_type": "code",
   "execution_count": 39,
   "metadata": {},
   "outputs": [
    {
     "data": {
      "text/plain": [
       "'1.33%'"
      ]
     },
     "metadata": {},
     "output_type": "display_data"
    }
   ],
   "source": [
    "display('{:.2%}'.format(len(df.query('living_area < 14'))/len(df)))\n",
    "#we will find out the share of apartments whose living area is less than the federal recommended standard of 14 sq.m. in the total data array"
   ]
  },
  {
   "cell_type": "markdown",
   "metadata": {},
   "source": [
    "Only 1.3%, the share is small. For reinsurance, we will discard all apartments where the living area is less than 13 sq. m., because, for example, there are apartments with an area of 13.59 sq. m."
   ]
  },
  {
   "cell_type": "code",
   "execution_count": 40,
   "metadata": {},
   "outputs": [],
   "source": [
    "df = df.query('living_area > 13')\n",
    "#we are removing apartments with abnormally small living space"
   ]
  },
  {
   "cell_type": "markdown",
   "metadata": {},
   "source": [
    "#### Price"
   ]
  },
  {
   "cell_type": "code",
   "execution_count": 41,
   "metadata": {},
   "outputs": [
    {
     "data": {
      "image/png": "[encoded data removed]",
      "text/plain": [
       "<Figure size 1080x504 with 1 Axes>"
      ]
     },
     "metadata": {
      "needs_background": "light"
     },
     "output_type": "display_data"
    }
   ],
   "source": [
    "df['last_price'].plot(kind = 'hist', figsize = (15,7), bins=500, grid=True)\n",
    "plt.title('Distribution of apartments depending on the sale price')\n",
    "plt.ylabel('Appartments')\n",
    "plt.xlabel('Selling price, kRUR')\n",
    "plt.show()"
   ]
  },
  {
   "cell_type": "markdown",
   "metadata": {},
   "source": [
    "Now the histogram is shifted to the left, there is an unusual peak for apartments whose cost is more than 60 million rubles. There are only 3 peaks of values in the segment where the cost of apartments is more than 10 million rubles. Let's discard abnormally high values."
   ]
  },
  {
   "cell_type": "code",
   "execution_count": 42,
   "metadata": {},
   "outputs": [],
   "source": [
    "df=df.query('last_price<=15000')\n",
    "#let's discard all values where the sale price is more than 15 million rubles"
   ]
  },
  {
   "cell_type": "markdown",
   "metadata": {},
   "source": [
    "#### Ceiling height"
   ]
  },
  {
   "cell_type": "code",
   "execution_count": 43,
   "metadata": {},
   "outputs": [
    {
     "data": {
      "image/png": "[encoded data removed]",
      "text/plain": [
       "<Figure size 432x288 with 1 Axes>"
      ]
     },
     "metadata": {
      "needs_background": "light"
     },
     "output_type": "display_data"
    }
   ],
   "source": [
    "df['ceiling_height'].plot(kind='hist', bins=100, grid=True)\n",
    "plt.title('Distribution of apartments depending on ceiling height')\n",
    "plt.ylabel('Appartments')\n",
    "plt.xlabel('Ceiling height, metres')\n",
    "plt.show()\n",
    "#let's evaluate visually with the help of a histogram whether there are many abnormally high/abnormally low values for ceiling height in the dataset"
   ]
  },
  {
   "cell_type": "code",
   "execution_count": 44,
   "metadata": {},
   "outputs": [
    {
     "data": {
      "text/plain": [
       "count    21844.000000\n",
       "mean         2.754235\n",
       "std          1.013768\n",
       "min          1.000000\n",
       "25%          2.600000\n",
       "50%          2.700000\n",
       "75%          2.790000\n",
       "max        100.000000\n",
       "Name: ceiling_height, dtype: float64"
      ]
     },
     "execution_count": 44,
     "metadata": {},
     "output_type": "execute_result"
    }
   ],
   "source": [
    "df['ceiling_height'].describe()"
   ]
  },
  {
   "cell_type": "markdown",
   "metadata": {},
   "source": [
    "The maximum ceiling height of 100 m seems unlikely, as does the minimum - 1 m. Most ceilings are in the range from 0 to 10 m."
   ]
  },
  {
   "cell_type": "code",
   "execution_count": 45,
   "metadata": {},
   "outputs": [
    {
     "data": {
      "text/plain": [
       "53"
      ]
     },
     "execution_count": 45,
     "metadata": {},
     "output_type": "execute_result"
    }
   ],
   "source": [
    "len(df.query('ceiling_height > 4'))\n",
    "#find out the exact number of objects in which the ceiling height is more than 4 meters"
   ]
  },
  {
   "cell_type": "code",
   "execution_count": 46,
   "metadata": {},
   "outputs": [
    {
     "data": {
      "text/plain": [
       "21"
      ]
     },
     "execution_count": 46,
     "metadata": {},
     "output_type": "execute_result"
    }
   ],
   "source": [
    "len(df.query('ceiling_height<2.4'))\n",
    "#find out the exact number of objects in which the ceiling height is less than 2.4 meters"
   ]
  },
  {
   "cell_type": "markdown",
   "metadata": {},
   "source": [
    "The minimum ceiling height in apartments in Russia is 2.4 m. In Stalinist houses, the ceiling height can reach 3.5 m. The number of rows with an abnormally low /abnormally high ceiling height value is small in the dataset, so we will delete these rows."
   ]
  },
  {
   "cell_type": "code",
   "execution_count": 47,
   "metadata": {},
   "outputs": [],
   "source": [
    "df=df.query('2.4<ceiling_height<4')\n",
    "#we cut off the lines where the ceiling height is less than 2.4 m and greater than / equal to 4 m"
   ]
  },
  {
   "cell_type": "markdown",
   "metadata": {},
   "source": [
    "#### Time needed to sale the apartment"
   ]
  },
  {
   "cell_type": "code",
   "execution_count": 48,
   "metadata": {},
   "outputs": [
    {
     "data": {
      "image/png": "[encoded data removed]",
      "text/plain": [
       "<Figure size 1080x504 with 1 Axes>"
      ]
     },
     "metadata": {
      "needs_background": "light"
     },
     "output_type": "display_data"
    }
   ],
   "source": [
    "df['days_exposition'].plot(kind = 'hist', figsize = (15,7), bins=100)\n",
    "plt.title('Time of selling')\n",
    "plt.ylabel('Appartments')\n",
    "plt.xlabel('Days')\n",
    "plt.show()"
   ]
  },
  {
   "cell_type": "code",
   "execution_count": 49,
   "metadata": {},
   "outputs": [
    {
     "data": {
      "text/plain": [
       "count    21723.000000\n",
       "mean       154.113244\n",
       "std        209.791654\n",
       "min         -1.000000\n",
       "25%         24.000000\n",
       "50%         73.000000\n",
       "75%        194.500000\n",
       "max       1580.000000\n",
       "Name: days_exposition, dtype: float64"
      ]
     },
     "execution_count": 49,
     "metadata": {},
     "output_type": "execute_result"
    }
   ],
   "source": [
    "df_days_exposition=df.query('days_exposition != \"-1\"')\n",
    "df_days_exposition['days_exposition'].describe()\n",
    "#let's remove the lines where there are gaps and look at the descriptive statistics"
   ]
  },
  {
   "cell_type": "code",
   "execution_count": 50,
   "metadata": {},
   "outputs": [
    {
     "data": {
      "image/png": "[encoded data removed]",
      "text/plain": [
       "<Figure size 432x288 with 1 Axes>"
      ]
     },
     "metadata": {
      "needs_background": "light"
     },
     "output_type": "display_data"
    }
   ],
   "source": [
    "df_days_exposition=df.query('days_exposition != -1')\n",
    "df_days_exposition['days_exposition'].plot(kind='box')\n",
    "plt.title('Time of selling')\n",
    "plt.ylabel('Days')\n",
    "plt.show()"
   ]
  },
  {
   "cell_type": "markdown",
   "metadata": {},
   "source": [
    "The average time for the sale of an apartment is about six months, while the median value is about 3 months (93 days). The standard deviation of 215 days indicates a high variability of the data. It cannot be said that there are any abnormally fast values for the sale of an apartment, but everything that has been on sale for more than 500 days can be considered unusually long."
   ]
  },
  {
   "cell_type": "markdown",
   "metadata": {},
   "source": [
    "### What factors most affect the cost of an apartment"
   ]
  },
  {
   "cell_type": "markdown",
   "metadata": {},
   "source": [
    "Let's look at the distribution of apartments by parameters after processing abnormal values."
   ]
  },
  {
   "cell_type": "code",
   "execution_count": 51,
   "metadata": {},
   "outputs": [
    {
     "data": {
      "image/png": "[encoded data removed]",
      "text/plain": [
       "<Figure size 1080x504 with 1 Axes>"
      ]
     },
     "metadata": {
      "needs_background": "light"
     },
     "output_type": "display_data"
    },
    {
     "data": {
      "image/png": "[encoded data removed]",
      "text/plain": [
       "<Figure size 1080x504 with 1 Axes>"
      ]
     },
     "metadata": {
      "needs_background": "light"
     },
     "output_type": "display_data"
    },
    {
     "data": {
      "image/png": "[encoded data removed]",
      "text/plain": [
       "<Figure size 1080x504 with 1 Axes>"
      ]
     },
     "metadata": {
      "needs_background": "light"
     },
     "output_type": "display_data"
    },
    {
     "data": {
      "image/png": "[encoded data removed]",
      "text/plain": [
       "<Figure size 1080x504 with 1 Axes>"
      ]
     },
     "metadata": {
      "needs_background": "light"
     },
     "output_type": "display_data"
    }
   ],
   "source": [
    "list_of_columns = ['total_area', 'last_price', 'rooms', 'ceiling_height']\n",
    "\n",
    "for column in list_of_columns:\n",
    "    df[column].plot(kind = 'hist', figsize = (15,7), bins=50)\n",
    "    plt.title('Histogram by column ' + column)\n",
    "    plt.show()"
   ]
  },
  {
   "cell_type": "markdown",
   "metadata": {},
   "source": [
    "The histogram for the ceiling_height column shows the influence of a typical building with a standard ceiling height: the graph is very intermittent. The main part of the apartments in the analyzed data are two-room and one-room apartments. Most of all, the form of distribution of the price of an apartment is similar to the form of distribution of apartments by area."
   ]
  },
  {
   "cell_type": "code",
   "execution_count": 52,
   "metadata": {},
   "outputs": [
    {
     "data": {
      "text/plain": [
       "'Correlation coefficient between the price per sq.m. and total_area: 1.72%'"
      ]
     },
     "metadata": {},
     "output_type": "display_data"
    },
    {
     "data": {
      "text/plain": [
       "'Correlation coefficient between the price per sq.m. and last_price: 64.88%'"
      ]
     },
     "metadata": {},
     "output_type": "display_data"
    },
    {
     "data": {
      "text/plain": [
       "'Correlation coefficient between the price per sq.m. and rooms: -16.48%'"
      ]
     },
     "metadata": {},
     "output_type": "display_data"
    },
    {
     "data": {
      "text/plain": [
       "'Correlation coefficient between the price per sq.m. and ceiling_height: 16.53%'"
      ]
     },
     "metadata": {},
     "output_type": "display_data"
    }
   ],
   "source": [
    "for column in list_of_columns:\n",
    "    corr = df[column].corr(df['square_metre_price'], method='pearson')\n",
    "    with pd.option_context('display.float_format', '{:.2%}'.format):\n",
    "        display('Correlation coefficient between the price per sq.m. and '+column+': {:.2%}'.format(corr))"
   ]
  },
  {
   "cell_type": "markdown",
   "metadata": {},
   "source": [
    "Based on the earlier categorization of apartments by number of floors, we will find out the average price per sq. m. for the group."
   ]
  },
  {
   "cell_type": "code",
   "execution_count": 53,
   "metadata": {},
   "outputs": [
    {
     "data": {
      "text/html": [
       "<div>\n",
       "<style scoped>\n",
       "    .dataframe tbody tr th:only-of-type {\n",
       "        vertical-align: middle;\n",
       "    }\n",
       "\n",
       "    .dataframe tbody tr th {\n",
       "        vertical-align: top;\n",
       "    }\n",
       "\n",
       "    .dataframe thead th {\n",
       "        text-align: right;\n",
       "    }\n",
       "</style>\n",
       "<table border=\"1\" class=\"dataframe\">\n",
       "  <thead>\n",
       "    <tr style=\"text-align: right;\">\n",
       "      <th></th>\n",
       "      <th>average_price_for_square_meter_kRUR</th>\n",
       "    </tr>\n",
       "    <tr>\n",
       "      <th>floor_category</th>\n",
       "      <th></th>\n",
       "    </tr>\n",
       "  </thead>\n",
       "  <tbody>\n",
       "    <tr>\n",
       "      <th>first</th>\n",
       "      <td>79.51</td>\n",
       "    </tr>\n",
       "    <tr>\n",
       "      <th>last</th>\n",
       "      <td>84.71</td>\n",
       "    </tr>\n",
       "    <tr>\n",
       "      <th>other</th>\n",
       "      <td>97.38</td>\n",
       "    </tr>\n",
       "  </tbody>\n",
       "</table>\n",
       "</div>"
      ],
      "text/plain": [
       "                average_price_for_square_meter_kRUR\n",
       "floor_category                                     \n",
       "first                                         79.51\n",
       "last                                          84.71\n",
       "other                                         97.38"
      ]
     },
     "metadata": {},
     "output_type": "display_data"
    }
   ],
   "source": [
    "with pd.option_context('display.float_format', '{:.2f}'.format):\n",
    "    display(df.groupby('floor_category').agg(average_price_for_square_meter_kRUR=('square_metre_price','mean')))"
   ]
  },
  {
   "cell_type": "markdown",
   "metadata": {},
   "source": [
    "Apartments on the ground floors are the cheapest, then there are apartments on the last, but most of all buyers prefer apartments located on the middle floors."
   ]
  },
  {
   "cell_type": "code",
   "execution_count": 54,
   "metadata": {},
   "outputs": [
    {
     "data": {
      "image/png": "[encoded data removed]",
      "text/plain": [
       "<Figure size 432x288 with 1 Axes>"
      ]
     },
     "metadata": {
      "needs_background": "light"
     },
     "output_type": "display_data"
    }
   ],
   "source": [
    "sns.scatterplot(data = df, x = \"rooms\", y = \"square_metre_price\")\n",
    "plt.title('Dependence of the price per sq.m. on the number of rooms')\n",
    "plt.ylabel('Price per sq. m., kRUR')\n",
    "plt.xlabel('Number of rooms')\n",
    "plt.show()\n",
    "#посмотрим диаграмму рассеяния по столбцам square_metre_price и rooms"
   ]
  },
  {
   "cell_type": "markdown",
   "metadata": {},
   "source": [
    "The larger the apartment by area, the lower the price per sq. m. will be in it, despite the fact that the total cost of the apartment is always more."
   ]
  },
  {
   "cell_type": "code",
   "execution_count": 55,
   "metadata": {},
   "outputs": [
    {
     "data": {
      "image/png": "[encoded data removed]",
      "text/plain": [
       "<Figure size 432x288 with 1 Axes>"
      ]
     },
     "metadata": {
      "needs_background": "light"
     },
     "output_type": "display_data"
    }
   ],
   "source": [
    "df['nearest_city_center_km']=round((df['nearest_city_center']/1000),)\n",
    "sns.scatterplot(data = df, x = \"nearest_city_center_km\", y = \"square_metre_price\", hue=\"rooms\")\n",
    "plt.title('Dependence of the price per sq.m. on the distance from the center')\n",
    "plt.ylabel('Price per sq. m., kRUR')\n",
    "plt.xlabel('The distance from downtown, km')\n",
    "plt.show()\n",
    "#let's look at the scattering diagram of the distance from the center and the price per sq.m., having previously converted the distance from m to km"
   ]
  },
  {
   "cell_type": "markdown",
   "metadata": {},
   "source": [
    "There is a decreasing relationship between the distance from the center and the price per square meter: the greater the distance, the lower the price. Multi-room apartments, painted with dark shades, are located closer to the lower left corner of the graph: the more rooms in the apartment, the lower the price for each sq.m. will be."
   ]
  },
  {
   "cell_type": "code",
   "execution_count": 56,
   "metadata": {},
   "outputs": [
    {
     "data": {
      "text/plain": [
       "0.1674812293724476"
      ]
     },
     "metadata": {},
     "output_type": "display_data"
    }
   ],
   "source": [
    "df_clean=df.query('nearest_city_center_km > -1')\n",
    "corr = df_clean['nearest_city_center_km'].corr(df['square_metre_price'], method='pearson')\n",
    "display(corr)"
   ]
  },
  {
   "cell_type": "code",
   "execution_count": 57,
   "metadata": {},
   "outputs": [
    {
     "data": {
      "text/html": [
       "<div>\n",
       "<style scoped>\n",
       "    .dataframe tbody tr th:only-of-type {\n",
       "        vertical-align: middle;\n",
       "    }\n",
       "\n",
       "    .dataframe tbody tr th {\n",
       "        vertical-align: top;\n",
       "    }\n",
       "\n",
       "    .dataframe thead th {\n",
       "        text-align: right;\n",
       "    }\n",
       "</style>\n",
       "<table border=\"1\" class=\"dataframe\">\n",
       "  <thead>\n",
       "    <tr style=\"text-align: right;\">\n",
       "      <th></th>\n",
       "      <th>average_price_for_square_meter_kRUR</th>\n",
       "    </tr>\n",
       "    <tr>\n",
       "      <th>weekday_exposition</th>\n",
       "      <th></th>\n",
       "    </tr>\n",
       "  </thead>\n",
       "  <tbody>\n",
       "    <tr>\n",
       "      <th>Tuesday</th>\n",
       "      <td>94.13</td>\n",
       "    </tr>\n",
       "    <tr>\n",
       "      <th>Wednesday</th>\n",
       "      <td>93.64</td>\n",
       "    </tr>\n",
       "    <tr>\n",
       "      <th>Friday</th>\n",
       "      <td>93.53</td>\n",
       "    </tr>\n",
       "    <tr>\n",
       "      <th>Monday</th>\n",
       "      <td>93.17</td>\n",
       "    </tr>\n",
       "    <tr>\n",
       "      <th>Thursday</th>\n",
       "      <td>93.12</td>\n",
       "    </tr>\n",
       "    <tr>\n",
       "      <th>Sunday</th>\n",
       "      <td>92.80</td>\n",
       "    </tr>\n",
       "    <tr>\n",
       "      <th>Saturday</th>\n",
       "      <td>91.91</td>\n",
       "    </tr>\n",
       "  </tbody>\n",
       "</table>\n",
       "</div>"
      ],
      "text/plain": [
       "                    average_price_for_square_meter_kRUR\n",
       "weekday_exposition                                     \n",
       "Tuesday                                           94.13\n",
       "Wednesday                                         93.64\n",
       "Friday                                            93.53\n",
       "Monday                                            93.17\n",
       "Thursday                                          93.12\n",
       "Sunday                                            92.80\n",
       "Saturday                                          91.91"
      ]
     },
     "metadata": {},
     "output_type": "display_data"
    }
   ],
   "source": [
    "with pd.option_context('display.float_format', '{:.2f}'.format):\n",
    "    display(df.groupby('weekday_exposition').agg(average_price_for_square_meter_kRUR=('square_metre_price','mean')).sort_values(by='average_price_for_square_meter_kRUR',ascending=False))\n",
    "#we will find out the average price per sq. m. for the group by the days of the week of ad placement"
   ]
  },
  {
   "cell_type": "markdown",
   "metadata": {},
   "source": [
    "Considering the average values of the sale price per sq.m., on Saturdays, apartment owners are most unsure that the object can be sold profitably, and the most expensive apartments are placed on Tuesdays."
   ]
  },
  {
   "cell_type": "code",
   "execution_count": 58,
   "metadata": {},
   "outputs": [
    {
     "data": {
      "text/html": [
       "<div>\n",
       "<style scoped>\n",
       "    .dataframe tbody tr th:only-of-type {\n",
       "        vertical-align: middle;\n",
       "    }\n",
       "\n",
       "    .dataframe tbody tr th {\n",
       "        vertical-align: top;\n",
       "    }\n",
       "\n",
       "    .dataframe thead th {\n",
       "        text-align: right;\n",
       "    }\n",
       "</style>\n",
       "<table border=\"1\" class=\"dataframe\">\n",
       "  <thead>\n",
       "    <tr style=\"text-align: right;\">\n",
       "      <th></th>\n",
       "      <th>average_price_for_square_meter_kRUR</th>\n",
       "    </tr>\n",
       "    <tr>\n",
       "      <th>month_exposition</th>\n",
       "      <th></th>\n",
       "    </tr>\n",
       "  </thead>\n",
       "  <tbody>\n",
       "    <tr>\n",
       "      <th>April</th>\n",
       "      <td>95.15</td>\n",
       "    </tr>\n",
       "    <tr>\n",
       "      <th>September</th>\n",
       "      <td>94.69</td>\n",
       "    </tr>\n",
       "    <tr>\n",
       "      <th>August</th>\n",
       "      <td>94.27</td>\n",
       "    </tr>\n",
       "    <tr>\n",
       "      <th>March</th>\n",
       "      <td>93.70</td>\n",
       "    </tr>\n",
       "    <tr>\n",
       "      <th>November</th>\n",
       "      <td>93.59</td>\n",
       "    </tr>\n",
       "    <tr>\n",
       "      <th>May</th>\n",
       "      <td>93.54</td>\n",
       "    </tr>\n",
       "    <tr>\n",
       "      <th>January</th>\n",
       "      <td>93.32</td>\n",
       "    </tr>\n",
       "    <tr>\n",
       "      <th>October</th>\n",
       "      <td>92.85</td>\n",
       "    </tr>\n",
       "    <tr>\n",
       "      <th>July</th>\n",
       "      <td>92.75</td>\n",
       "    </tr>\n",
       "    <tr>\n",
       "      <th>February</th>\n",
       "      <td>92.72</td>\n",
       "    </tr>\n",
       "    <tr>\n",
       "      <th>December</th>\n",
       "      <td>92.21</td>\n",
       "    </tr>\n",
       "    <tr>\n",
       "      <th>June</th>\n",
       "      <td>90.60</td>\n",
       "    </tr>\n",
       "  </tbody>\n",
       "</table>\n",
       "</div>"
      ],
      "text/plain": [
       "                  average_price_for_square_meter_kRUR\n",
       "month_exposition                                     \n",
       "April                                           95.15\n",
       "September                                       94.69\n",
       "August                                          94.27\n",
       "March                                           93.70\n",
       "November                                        93.59\n",
       "May                                             93.54\n",
       "January                                         93.32\n",
       "October                                         92.85\n",
       "July                                            92.75\n",
       "February                                        92.72\n",
       "December                                        92.21\n",
       "June                                            90.60"
      ]
     },
     "metadata": {},
     "output_type": "display_data"
    }
   ],
   "source": [
    "with pd.option_context('display.float_format', '{:.2f}'.format):\n",
    "    display(df.groupby('month_exposition').agg(average_price_for_square_meter_kRUR=('square_metre_price','mean')).sort_values(by='average_price_for_square_meter_kRUR',ascending=False))\n",
    "#we will find out the average price per sq. m. for the group by months of ad placement"
   ]
  },
  {
   "cell_type": "markdown",
   "metadata": {},
   "source": [
    "Judging by the average values of the sale price per sq.m., apartment prices increase in the spring (all 3 spring months are located in the upper half of the table) and at the beginning of the school year. The cheapest apartments are trying to sell in June."
   ]
  },
  {
   "cell_type": "code",
   "execution_count": 59,
   "metadata": {},
   "outputs": [
    {
     "data": {
      "text/html": [
       "<div>\n",
       "<style scoped>\n",
       "    .dataframe tbody tr th:only-of-type {\n",
       "        vertical-align: middle;\n",
       "    }\n",
       "\n",
       "    .dataframe tbody tr th {\n",
       "        vertical-align: top;\n",
       "    }\n",
       "\n",
       "    .dataframe thead th {\n",
       "        text-align: right;\n",
       "    }\n",
       "</style>\n",
       "<table border=\"1\" class=\"dataframe\">\n",
       "  <thead>\n",
       "    <tr style=\"text-align: right;\">\n",
       "      <th></th>\n",
       "      <th>average_price_for_square_meter_kRUR</th>\n",
       "    </tr>\n",
       "    <tr>\n",
       "      <th>year_exposition</th>\n",
       "      <th></th>\n",
       "    </tr>\n",
       "  </thead>\n",
       "  <tbody>\n",
       "    <tr>\n",
       "      <th>2014</th>\n",
       "      <td>100.69</td>\n",
       "    </tr>\n",
       "    <tr>\n",
       "      <th>2015</th>\n",
       "      <td>92.94</td>\n",
       "    </tr>\n",
       "    <tr>\n",
       "      <th>2016</th>\n",
       "      <td>91.02</td>\n",
       "    </tr>\n",
       "    <tr>\n",
       "      <th>2017</th>\n",
       "      <td>91.47</td>\n",
       "    </tr>\n",
       "    <tr>\n",
       "      <th>2018</th>\n",
       "      <td>93.41</td>\n",
       "    </tr>\n",
       "    <tr>\n",
       "      <th>2019</th>\n",
       "      <td>100.47</td>\n",
       "    </tr>\n",
       "  </tbody>\n",
       "</table>\n",
       "</div>"
      ],
      "text/plain": [
       "                 average_price_for_square_meter_kRUR\n",
       "year_exposition                                     \n",
       "2014                                          100.69\n",
       "2015                                           92.94\n",
       "2016                                           91.02\n",
       "2017                                           91.47\n",
       "2018                                           93.41\n",
       "2019                                          100.47"
      ]
     },
     "metadata": {},
     "output_type": "display_data"
    }
   ],
   "source": [
    "with pd.option_context('display.float_format', '{:.2f}'.format):\n",
    "    display(df.groupby('year_exposition').agg(average_price_for_square_meter_kRUR=('square_metre_price','mean')).sort_values(by='year_exposition'))\n",
    "#calculate the average price depending on the year of publication of the ad"
   ]
  },
  {
   "cell_type": "markdown",
   "metadata": {},
   "source": [
    "Considering the average values of the sale price per sq.m., apartment prices decreased in the period 2014-2017, and then went up again."
   ]
  },
  {
   "cell_type": "code",
   "execution_count": 60,
   "metadata": {},
   "outputs": [
    {
     "data": {
      "text/plain": [
       "Санкт-Петербург    14085\n",
       "Мурино               546\n",
       "Кудрово              441\n",
       "Шушары               424\n",
       "Всеволожск           383\n",
       "Пушкин               345\n",
       "Колпино              334\n",
       "Парголово            309\n",
       "Гатчина              304\n",
       "Выборг               229\n",
       "Name: locality_name, dtype: int64"
      ]
     },
     "metadata": {},
     "output_type": "display_data"
    }
   ],
   "source": [
    "display(df['locality_name'].value_counts().head(10))\n",
    "#let's choose 10 localities with the largest number of ads"
   ]
  },
  {
   "cell_type": "code",
   "execution_count": 61,
   "metadata": {},
   "outputs": [
    {
     "data": {
      "text/html": [
       "<div>\n",
       "<style scoped>\n",
       "    .dataframe tbody tr th:only-of-type {\n",
       "        vertical-align: middle;\n",
       "    }\n",
       "\n",
       "    .dataframe tbody tr th {\n",
       "        vertical-align: top;\n",
       "    }\n",
       "\n",
       "    .dataframe thead th {\n",
       "        text-align: right;\n",
       "    }\n",
       "</style>\n",
       "<table border=\"1\" class=\"dataframe\">\n",
       "  <thead>\n",
       "    <tr style=\"text-align: right;\">\n",
       "      <th></th>\n",
       "      <th>average_price_for_square_meter_kRUR</th>\n",
       "    </tr>\n",
       "    <tr>\n",
       "      <th>locality_name</th>\n",
       "      <th></th>\n",
       "    </tr>\n",
       "  </thead>\n",
       "  <tbody>\n",
       "    <tr>\n",
       "      <th>Санкт-Петербург</th>\n",
       "      <td>107.04</td>\n",
       "    </tr>\n",
       "    <tr>\n",
       "      <th>Пушкин</th>\n",
       "      <td>101.21</td>\n",
       "    </tr>\n",
       "    <tr>\n",
       "      <th>Кудрово</th>\n",
       "      <td>95.09</td>\n",
       "    </tr>\n",
       "    <tr>\n",
       "      <th>Парголово</th>\n",
       "      <td>90.06</td>\n",
       "    </tr>\n",
       "    <tr>\n",
       "      <th>Мурино</th>\n",
       "      <td>85.34</td>\n",
       "    </tr>\n",
       "    <tr>\n",
       "      <th>Шушары</th>\n",
       "      <td>77.78</td>\n",
       "    </tr>\n",
       "    <tr>\n",
       "      <th>Колпино</th>\n",
       "      <td>75.32</td>\n",
       "    </tr>\n",
       "    <tr>\n",
       "      <th>Гатчина</th>\n",
       "      <td>69.00</td>\n",
       "    </tr>\n",
       "    <tr>\n",
       "      <th>Всеволожск</th>\n",
       "      <td>67.13</td>\n",
       "    </tr>\n",
       "    <tr>\n",
       "      <th>Выборг</th>\n",
       "      <td>58.01</td>\n",
       "    </tr>\n",
       "  </tbody>\n",
       "</table>\n",
       "</div>"
      ],
      "text/plain": [
       "                 average_price_for_square_meter_kRUR\n",
       "locality_name                                       \n",
       "Санкт-Петербург                               107.04\n",
       "Пушкин                                        101.21\n",
       "Кудрово                                        95.09\n",
       "Парголово                                      90.06\n",
       "Мурино                                         85.34\n",
       "Шушары                                         77.78\n",
       "Колпино                                        75.32\n",
       "Гатчина                                        69.00\n",
       "Всеволожск                                     67.13\n",
       "Выборг                                         58.01"
      ]
     },
     "metadata": {},
     "output_type": "display_data"
    }
   ],
   "source": [
    "town_list=['Санкт-Петербург','Мурино','Кудрово','Шушары','Всеволожск','Пушкин','Колпино','Парголово','Гатчина','Выборг']\n",
    "df_most_popular=df.query('locality_name in @town_list')\n",
    "#filter data\n",
    "\n",
    "with pd.option_context('display.float_format', '{:.2f}'.format):\n",
    "    display(df_most_popular.groupby('locality_name').agg(average_price_for_square_meter_kRUR=('square_metre_price','mean')).sort_values(by='average_price_for_square_meter_kRUR',ascending=False))\n",
    "#we calculate the average price by suburbs"
   ]
  },
  {
   "cell_type": "markdown",
   "metadata": {},
   "source": [
    "The lowest cost of housing among the 10 largest settlements on offer is in Vyborg and Vsevolozhsk, and the highest is in St. Petersburg and Pushkin. The upper value (the cost of sq. m. in St. Petersburg) is 1.85 times higher than the lower one (Vyborg)."
   ]
  },
  {
   "cell_type": "code",
   "execution_count": 62,
   "metadata": {},
   "outputs": [
    {
     "data": {
      "text/html": [
       "<div>\n",
       "<style scoped>\n",
       "    .dataframe tbody tr th:only-of-type {\n",
       "        vertical-align: middle;\n",
       "    }\n",
       "\n",
       "    .dataframe tbody tr th {\n",
       "        vertical-align: top;\n",
       "    }\n",
       "\n",
       "    .dataframe thead th {\n",
       "        text-align: right;\n",
       "    }\n",
       "</style>\n",
       "<table border=\"1\" class=\"dataframe\">\n",
       "  <thead>\n",
       "    <tr style=\"text-align: right;\">\n",
       "      <th></th>\n",
       "      <th>count</th>\n",
       "      <th>mean</th>\n",
       "    </tr>\n",
       "    <tr>\n",
       "      <th>locality_name</th>\n",
       "      <th></th>\n",
       "      <th></th>\n",
       "    </tr>\n",
       "  </thead>\n",
       "  <tbody>\n",
       "    <tr>\n",
       "      <th>Санкт-Петербург</th>\n",
       "      <td>14085</td>\n",
       "      <td>107.04</td>\n",
       "    </tr>\n",
       "    <tr>\n",
       "      <th>Пушкин</th>\n",
       "      <td>345</td>\n",
       "      <td>101.21</td>\n",
       "    </tr>\n",
       "    <tr>\n",
       "      <th>Кудрово</th>\n",
       "      <td>441</td>\n",
       "      <td>95.09</td>\n",
       "    </tr>\n",
       "    <tr>\n",
       "      <th>Парголово</th>\n",
       "      <td>309</td>\n",
       "      <td>90.06</td>\n",
       "    </tr>\n",
       "    <tr>\n",
       "      <th>Мурино</th>\n",
       "      <td>546</td>\n",
       "      <td>85.34</td>\n",
       "    </tr>\n",
       "    <tr>\n",
       "      <th>Шушары</th>\n",
       "      <td>424</td>\n",
       "      <td>77.78</td>\n",
       "    </tr>\n",
       "    <tr>\n",
       "      <th>Колпино</th>\n",
       "      <td>334</td>\n",
       "      <td>75.32</td>\n",
       "    </tr>\n",
       "    <tr>\n",
       "      <th>Гатчина</th>\n",
       "      <td>304</td>\n",
       "      <td>69.00</td>\n",
       "    </tr>\n",
       "    <tr>\n",
       "      <th>Всеволожск</th>\n",
       "      <td>383</td>\n",
       "      <td>67.13</td>\n",
       "    </tr>\n",
       "    <tr>\n",
       "      <th>Выборг</th>\n",
       "      <td>229</td>\n",
       "      <td>58.01</td>\n",
       "    </tr>\n",
       "  </tbody>\n",
       "</table>\n",
       "</div>"
      ],
      "text/plain": [
       "                 count   mean\n",
       "locality_name                \n",
       "Санкт-Петербург  14085 107.04\n",
       "Пушкин             345 101.21\n",
       "Кудрово            441  95.09\n",
       "Парголово          309  90.06\n",
       "Мурино             546  85.34\n",
       "Шушары             424  77.78\n",
       "Колпино            334  75.32\n",
       "Гатчина            304  69.00\n",
       "Всеволожск         383  67.13\n",
       "Выборг             229  58.01"
      ]
     },
     "metadata": {},
     "output_type": "display_data"
    }
   ],
   "source": [
    "with pd.option_context('display.float_format', '{:.2f}'.format):\n",
    "    display(\n",
    "df.groupby('locality_name').square_metre_price.agg(['count','mean']).sort_values('count', ascending=False).head(10).sort_values('mean', ascending=False))"
   ]
  },
  {
   "cell_type": "code",
   "execution_count": 63,
   "metadata": {},
   "outputs": [
    {
     "data": {
      "image/png": "[encoded data removed]",
      "text/plain": [
       "<Figure size 1080x504 with 1 Axes>"
      ]
     },
     "metadata": {
      "needs_background": "light"
     },
     "output_type": "display_data"
    }
   ],
   "source": [
    "df_st_peter = df.query('locality_name==\"Санкт-Петербург\"')\n",
    "#filter data\n",
    "\n",
    "df_st_peter_fin=df_st_peter.groupby('nearest_city_center_km').agg(average_price_for_square_meter_kRUR=('square_metre_price','mean')).sort_values(by='nearest_city_center_km').reset_index()\n",
    "\n",
    "df_st_peter_fin.plot(x='nearest_city_center_km', figsize = (15,7), grid=True, xlim=(0,15))\n",
    "plt.title('Dependence of the price per sq.m. on the distance from the downtown')\n",
    "plt.ylabel('Average price per sq. m., kRUR')\n",
    "plt.xlabel('The distance from downtown, km')\n",
    "plt.show()\n"
   ]
  },
  {
   "cell_type": "markdown",
   "metadata": {},
   "source": [
    "The graph of the dependence of the price per sq. m. on the distance to the center reaches its maximum at around 6 km. Then the price per sq. m. decreases. It can be concluded that the central zone in St. Petersburg is outlined by a zone of 6 km."
   ]
  },
  {
   "cell_type": "markdown",
   "metadata": {},
   "source": [
    "### The segment of apartments in the downtown"
   ]
  },
  {
   "cell_type": "markdown",
   "metadata": {},
   "source": [
    "Let's see if there are any peculiarities in pricing for apartments located in the central zone."
   ]
  },
  {
   "cell_type": "code",
   "execution_count": 64,
   "metadata": {},
   "outputs": [
    {
     "data": {
      "image/png": "[encoded data removed]",
      "text/plain": [
       "<Figure size 720x504 with 1 Axes>"
      ]
     },
     "metadata": {
      "needs_background": "light"
     },
     "output_type": "display_data"
    },
    {
     "data": {
      "image/png": "[encoded data removed]",
      "text/plain": [
       "<Figure size 432x288 with 1 Axes>"
      ]
     },
     "metadata": {
      "needs_background": "light"
     },
     "output_type": "display_data"
    },
    {
     "data": {
      "image/png": "[encoded data removed]",
      "text/plain": [
       "<Figure size 432x288 with 1 Axes>"
      ]
     },
     "metadata": {
      "needs_background": "light"
     },
     "output_type": "display_data"
    },
    {
     "data": {
      "image/png": "[encoded data removed]",
      "text/plain": [
       "<Figure size 432x288 with 1 Axes>"
      ]
     },
     "metadata": {
      "needs_background": "light"
     },
     "output_type": "display_data"
    }
   ],
   "source": [
    "df_center=df.query('nearest_city_center_km <= 6')\n",
    "#we will allocate apartments in the center to a separate dataframe\n",
    "\n",
    "#let's build normalized histograms according to 4 parameters, and superimpose them on each other, coloring the apartments from the main dataframe pink\n",
    "list_of_columns = ['total_area', 'last_price', 'rooms', 'ceiling_height']\n",
    "\n",
    "fig = plt.figure(figsize=(10,7))\n",
    "\n",
    "for column in list_of_columns:\n",
    "\n",
    "    bins = min(df_center[column].nunique(), 30)\n",
    "\n",
    "    df[column].hist(bins = bins, alpha = 0.7, label='city')\n",
    "    df_center[column].hist(bins = bins, alpha = 0.7, label='center')\n",
    "\n",
    "    plt.title('Histogram for apartments in the center and for all apartments by column ' + column)\n",
    "    plt.legend(loc=0)\n",
    "    plt.show()\n"
   ]
  },
  {
   "cell_type": "markdown",
   "metadata": {},
   "source": [
    "The histograms show that the distributions of apartments in the center differ significantly only in the last_price parameter. Let's study what parameters the price depends on. "
   ]
  },
  {
   "cell_type": "code",
   "execution_count": 65,
   "metadata": {},
   "outputs": [
    {
     "data": {
      "image/png": "[encoded data removed]",
      "text/plain": [
       "<Figure size 432x288 with 1 Axes>"
      ]
     },
     "metadata": {
      "needs_background": "light"
     },
     "output_type": "display_data"
    }
   ],
   "source": [
    "sns.scatterplot(data = df_center, x = \"nearest_city_center_km\", y = \"square_metre_price\")\n",
    "plt.title('Dependence of the price per sq.m. on the distance from the center')\n",
    "plt.ylabel('Average price per sq. m., kRUR')\n",
    "plt.xlabel('The distance from downtown, km')\n",
    "plt.show()\n",
    "#let's look at the scattering diagram of distance from the center and prices per sq.m."
   ]
  },
  {
   "cell_type": "markdown",
   "metadata": {},
   "source": [
    "Within a radius of 0-6 km from the center, it is difficult to talk about some strong dependence of the price of an apartment on the distance from the center."
   ]
  },
  {
   "cell_type": "code",
   "execution_count": 66,
   "metadata": {},
   "outputs": [
    {
     "data": {
      "text/html": [
       "<div>\n",
       "<style scoped>\n",
       "    .dataframe tbody tr th:only-of-type {\n",
       "        vertical-align: middle;\n",
       "    }\n",
       "\n",
       "    .dataframe tbody tr th {\n",
       "        vertical-align: top;\n",
       "    }\n",
       "\n",
       "    .dataframe thead th {\n",
       "        text-align: right;\n",
       "    }\n",
       "</style>\n",
       "<table border=\"1\" class=\"dataframe\">\n",
       "  <thead>\n",
       "    <tr style=\"text-align: right;\">\n",
       "      <th></th>\n",
       "      <th>average_price_for_square_meter_kRUR</th>\n",
       "    </tr>\n",
       "    <tr>\n",
       "      <th>weekday_exposition</th>\n",
       "      <th></th>\n",
       "    </tr>\n",
       "  </thead>\n",
       "  <tbody>\n",
       "    <tr>\n",
       "      <th>Friday</th>\n",
       "      <td>80.87</td>\n",
       "    </tr>\n",
       "    <tr>\n",
       "      <th>Wednesday</th>\n",
       "      <td>79.95</td>\n",
       "    </tr>\n",
       "    <tr>\n",
       "      <th>Monday</th>\n",
       "      <td>79.51</td>\n",
       "    </tr>\n",
       "    <tr>\n",
       "      <th>Thursday</th>\n",
       "      <td>78.94</td>\n",
       "    </tr>\n",
       "    <tr>\n",
       "      <th>Tuesday</th>\n",
       "      <td>78.26</td>\n",
       "    </tr>\n",
       "    <tr>\n",
       "      <th>Saturday</th>\n",
       "      <td>76.21</td>\n",
       "    </tr>\n",
       "    <tr>\n",
       "      <th>Sunday</th>\n",
       "      <td>74.98</td>\n",
       "    </tr>\n",
       "  </tbody>\n",
       "</table>\n",
       "</div>"
      ],
      "text/plain": [
       "                    average_price_for_square_meter_kRUR\n",
       "weekday_exposition                                     \n",
       "Friday                                            80.87\n",
       "Wednesday                                         79.95\n",
       "Monday                                            79.51\n",
       "Thursday                                          78.94\n",
       "Tuesday                                           78.26\n",
       "Saturday                                          76.21\n",
       "Sunday                                            74.98"
      ]
     },
     "metadata": {},
     "output_type": "display_data"
    }
   ],
   "source": [
    "with pd.option_context('display.float_format', '{:.2f}'.format):\n",
    "    display(df_center.groupby('weekday_exposition').agg(average_price_for_square_meter_kRUR=('square_metre_price','mean')).sort_values(by='average_price_for_square_meter_kRUR',ascending=False))\n",
    "#let's look at the average price per square meter, depending on what day of the week the ad was placed"
   ]
  },
  {
   "cell_type": "markdown",
   "metadata": {},
   "source": [
    "As for the entire data set, prices on weekends are the lowest."
   ]
  },
  {
   "cell_type": "code",
   "execution_count": 67,
   "metadata": {},
   "outputs": [
    {
     "data": {
      "text/html": [
       "<div>\n",
       "<style scoped>\n",
       "    .dataframe tbody tr th:only-of-type {\n",
       "        vertical-align: middle;\n",
       "    }\n",
       "\n",
       "    .dataframe tbody tr th {\n",
       "        vertical-align: top;\n",
       "    }\n",
       "\n",
       "    .dataframe thead th {\n",
       "        text-align: right;\n",
       "    }\n",
       "</style>\n",
       "<table border=\"1\" class=\"dataframe\">\n",
       "  <thead>\n",
       "    <tr style=\"text-align: right;\">\n",
       "      <th></th>\n",
       "      <th>average_price_for_square_meter_kRUR</th>\n",
       "    </tr>\n",
       "    <tr>\n",
       "      <th>month_exposition</th>\n",
       "      <th></th>\n",
       "    </tr>\n",
       "  </thead>\n",
       "  <tbody>\n",
       "    <tr>\n",
       "      <th>September</th>\n",
       "      <td>82.81</td>\n",
       "    </tr>\n",
       "    <tr>\n",
       "      <th>May</th>\n",
       "      <td>82.58</td>\n",
       "    </tr>\n",
       "    <tr>\n",
       "      <th>April</th>\n",
       "      <td>80.11</td>\n",
       "    </tr>\n",
       "    <tr>\n",
       "      <th>November</th>\n",
       "      <td>79.77</td>\n",
       "    </tr>\n",
       "    <tr>\n",
       "      <th>August</th>\n",
       "      <td>79.40</td>\n",
       "    </tr>\n",
       "    <tr>\n",
       "      <th>March</th>\n",
       "      <td>79.27</td>\n",
       "    </tr>\n",
       "    <tr>\n",
       "      <th>July</th>\n",
       "      <td>78.62</td>\n",
       "    </tr>\n",
       "    <tr>\n",
       "      <th>October</th>\n",
       "      <td>77.89</td>\n",
       "    </tr>\n",
       "    <tr>\n",
       "      <th>June</th>\n",
       "      <td>77.18</td>\n",
       "    </tr>\n",
       "    <tr>\n",
       "      <th>February</th>\n",
       "      <td>77.00</td>\n",
       "    </tr>\n",
       "    <tr>\n",
       "      <th>January</th>\n",
       "      <td>76.66</td>\n",
       "    </tr>\n",
       "    <tr>\n",
       "      <th>December</th>\n",
       "      <td>76.35</td>\n",
       "    </tr>\n",
       "  </tbody>\n",
       "</table>\n",
       "</div>"
      ],
      "text/plain": [
       "                  average_price_for_square_meter_kRUR\n",
       "month_exposition                                     \n",
       "September                                       82.81\n",
       "May                                             82.58\n",
       "April                                           80.11\n",
       "November                                        79.77\n",
       "August                                          79.40\n",
       "March                                           79.27\n",
       "July                                            78.62\n",
       "October                                         77.89\n",
       "June                                            77.18\n",
       "February                                        77.00\n",
       "January                                         76.66\n",
       "December                                        76.35"
      ]
     },
     "metadata": {},
     "output_type": "display_data"
    }
   ],
   "source": [
    "with pd.option_context('display.float_format', '{:.2f}'.format):\n",
    "    display(df_center.groupby('month_exposition').agg(average_price_for_square_meter_kRUR=('square_metre_price','mean')).sort_values(by='average_price_for_square_meter_kRUR',ascending=False))\n",
    "#we will find out the average price per sq. m. for the group by months of ad placement"
   ]
  },
  {
   "cell_type": "markdown",
   "metadata": {},
   "source": [
    "In the entire data set, the most \"expensive\" months were April, September and August. For apartments in the center, the data are slightly different - the most expensive months are September, May and April. The two \"cheapest\" months coincided for both analyzed groups - December and June (but not in terms of the average cost of sq. m)."
   ]
  },
  {
   "cell_type": "code",
   "execution_count": 68,
   "metadata": {},
   "outputs": [
    {
     "data": {
      "text/html": [
       "<div>\n",
       "<style scoped>\n",
       "    .dataframe tbody tr th:only-of-type {\n",
       "        vertical-align: middle;\n",
       "    }\n",
       "\n",
       "    .dataframe tbody tr th {\n",
       "        vertical-align: top;\n",
       "    }\n",
       "\n",
       "    .dataframe thead th {\n",
       "        text-align: right;\n",
       "    }\n",
       "</style>\n",
       "<table border=\"1\" class=\"dataframe\">\n",
       "  <thead>\n",
       "    <tr style=\"text-align: right;\">\n",
       "      <th></th>\n",
       "      <th>average_price_for_square_meter_kRUR</th>\n",
       "    </tr>\n",
       "    <tr>\n",
       "      <th>year_exposition</th>\n",
       "      <th></th>\n",
       "    </tr>\n",
       "  </thead>\n",
       "  <tbody>\n",
       "    <tr>\n",
       "      <th>2014</th>\n",
       "      <td>72.38</td>\n",
       "    </tr>\n",
       "    <tr>\n",
       "      <th>2015</th>\n",
       "      <td>87.97</td>\n",
       "    </tr>\n",
       "    <tr>\n",
       "      <th>2016</th>\n",
       "      <td>80.14</td>\n",
       "    </tr>\n",
       "    <tr>\n",
       "      <th>2017</th>\n",
       "      <td>79.30</td>\n",
       "    </tr>\n",
       "    <tr>\n",
       "      <th>2018</th>\n",
       "      <td>76.41</td>\n",
       "    </tr>\n",
       "    <tr>\n",
       "      <th>2019</th>\n",
       "      <td>80.76</td>\n",
       "    </tr>\n",
       "  </tbody>\n",
       "</table>\n",
       "</div>"
      ],
      "text/plain": [
       "                 average_price_for_square_meter_kRUR\n",
       "year_exposition                                     \n",
       "2014                                           72.38\n",
       "2015                                           87.97\n",
       "2016                                           80.14\n",
       "2017                                           79.30\n",
       "2018                                           76.41\n",
       "2019                                           80.76"
      ]
     },
     "metadata": {},
     "output_type": "display_data"
    }
   ],
   "source": [
    "with pd.option_context('display.float_format', '{:.2f}'.format):\n",
    "    display(df_center.groupby('year_exposition').agg(average_price_for_square_meter_kRUR=('square_metre_price','mean')).sort_values(by='year_exposition'))\n",
    "#calculate the average price depending on the year of publication of the ad\n"
   ]
  },
  {
   "cell_type": "markdown",
   "metadata": {},
   "source": [
    "The highest average price for apartments in the center was for apartments put up for sale in 2015. It is possible that several large business-class residential properties were commissioned this year. The lowest average price per sq.m. for the general group was in 2016-2017, for apartments in the center \"failure\" at prices - 2017-2018. The decline in prices in 2016-2017 in the St. Petersburg Leningrad Region as a whole could have been caused by mass construction of the outskirts of St. Petersburg, and the housing market in the center reacted to this with a time lag."
   ]
  },
  {
   "cell_type": "code",
   "execution_count": 69,
   "metadata": {},
   "outputs": [
    {
     "data": {
      "text/html": [
       "<div>\n",
       "<style scoped>\n",
       "    .dataframe tbody tr th:only-of-type {\n",
       "        vertical-align: middle;\n",
       "    }\n",
       "\n",
       "    .dataframe tbody tr th {\n",
       "        vertical-align: top;\n",
       "    }\n",
       "\n",
       "    .dataframe thead th {\n",
       "        text-align: right;\n",
       "    }\n",
       "</style>\n",
       "<table border=\"1\" class=\"dataframe\">\n",
       "  <thead>\n",
       "    <tr style=\"text-align: right;\">\n",
       "      <th></th>\n",
       "      <th>average_price_for_square_meter_kRUR</th>\n",
       "    </tr>\n",
       "    <tr>\n",
       "      <th>floor_category</th>\n",
       "      <th></th>\n",
       "    </tr>\n",
       "  </thead>\n",
       "  <tbody>\n",
       "    <tr>\n",
       "      <th>first</th>\n",
       "      <td>66.09</td>\n",
       "    </tr>\n",
       "    <tr>\n",
       "      <th>last</th>\n",
       "      <td>70.58</td>\n",
       "    </tr>\n",
       "    <tr>\n",
       "      <th>other</th>\n",
       "      <td>84.28</td>\n",
       "    </tr>\n",
       "  </tbody>\n",
       "</table>\n",
       "</div>"
      ],
      "text/plain": [
       "                average_price_for_square_meter_kRUR\n",
       "floor_category                                     \n",
       "first                                         66.09\n",
       "last                                          70.58\n",
       "other                                         84.28"
      ]
     },
     "metadata": {},
     "output_type": "display_data"
    }
   ],
   "source": [
    "with pd.option_context('display.float_format', '{:.2f}'.format):\n",
    "    display(df_center.groupby('floor_category').agg(average_price_for_square_meter_kRUR=('square_metre_price','mean')))"
   ]
  },
  {
   "cell_type": "markdown",
   "metadata": {},
   "source": [
    "As with the entire data set, for apartments in the center, the objects on the first and last floors are the cheapest."
   ]
  },
  {
   "cell_type": "code",
   "execution_count": 70,
   "metadata": {},
   "outputs": [
    {
     "data": {
      "text/html": [
       "<style  type=\"text/css\" >\n",
       "#T_6736e_row0_col0,#T_6736e_row1_col1,#T_6736e_row2_col2,#T_6736e_row3_col3,#T_6736e_row4_col4,#T_6736e_row5_col5,#T_6736e_row6_col6,#T_6736e_row7_col7,#T_6736e_row8_col8,#T_6736e_row9_col9,#T_6736e_row10_col10,#T_6736e_row11_col11{\n",
       "            background-color:  #b40426;\n",
       "            color:  #f1f1f1;\n",
       "        }#T_6736e_row0_col1{\n",
       "            background-color:  #c6d6f1;\n",
       "            color:  #000000;\n",
       "        }#T_6736e_row0_col2{\n",
       "            background-color:  #aac7fd;\n",
       "            color:  #000000;\n",
       "        }#T_6736e_row0_col3{\n",
       "            background-color:  #d5dbe5;\n",
       "            color:  #000000;\n",
       "        }#T_6736e_row0_col4,#T_6736e_row6_col1{\n",
       "            background-color:  #6a8bef;\n",
       "            color:  #000000;\n",
       "        }#T_6736e_row0_col5,#T_6736e_row7_col11,#T_6736e_row11_col9{\n",
       "            background-color:  #e9d5cb;\n",
       "            color:  #000000;\n",
       "        }#T_6736e_row0_col6,#T_6736e_row1_col3{\n",
       "            background-color:  #ecd3c5;\n",
       "            color:  #000000;\n",
       "        }#T_6736e_row0_col7{\n",
       "            background-color:  #ee8669;\n",
       "            color:  #000000;\n",
       "        }#T_6736e_row0_col8,#T_6736e_row11_col4{\n",
       "            background-color:  #abc8fd;\n",
       "            color:  #000000;\n",
       "        }#T_6736e_row0_col9{\n",
       "            background-color:  #c3d5f4;\n",
       "            color:  #000000;\n",
       "        }#T_6736e_row0_col10{\n",
       "            background-color:  #688aef;\n",
       "            color:  #000000;\n",
       "        }#T_6736e_row0_col11{\n",
       "            background-color:  #cdd9ec;\n",
       "            color:  #000000;\n",
       "        }#T_6736e_row1_col0{\n",
       "            background-color:  #b2ccfb;\n",
       "            color:  #000000;\n",
       "        }#T_6736e_row1_col2{\n",
       "            background-color:  #7597f6;\n",
       "            color:  #000000;\n",
       "        }#T_6736e_row1_col4{\n",
       "            background-color:  #4b64d5;\n",
       "            color:  #f1f1f1;\n",
       "        }#T_6736e_row1_col5,#T_6736e_row1_col6,#T_6736e_row1_col11,#T_6736e_row2_col3,#T_6736e_row3_col2,#T_6736e_row3_col4,#T_6736e_row3_col7,#T_6736e_row3_col9,#T_6736e_row3_col10,#T_6736e_row4_col0,#T_6736e_row4_col1,#T_6736e_row4_col8{\n",
       "            background-color:  #3b4cc0;\n",
       "            color:  #f1f1f1;\n",
       "        }#T_6736e_row1_col7{\n",
       "            background-color:  #6687ed;\n",
       "            color:  #000000;\n",
       "        }#T_6736e_row1_col8{\n",
       "            background-color:  #f29072;\n",
       "            color:  #000000;\n",
       "        }#T_6736e_row1_col9{\n",
       "            background-color:  #7699f6;\n",
       "            color:  #000000;\n",
       "        }#T_6736e_row1_col10,#T_6736e_row8_col11{\n",
       "            background-color:  #455cce;\n",
       "            color:  #f1f1f1;\n",
       "        }#T_6736e_row2_col0,#T_6736e_row8_col7,#T_6736e_row9_col10{\n",
       "            background-color:  #6788ee;\n",
       "            color:  #000000;\n",
       "        }#T_6736e_row2_col1,#T_6736e_row2_col8{\n",
       "            background-color:  #4961d2;\n",
       "            color:  #f1f1f1;\n",
       "        }#T_6736e_row2_col4{\n",
       "            background-color:  #f7b79b;\n",
       "            color:  #000000;\n",
       "        }#T_6736e_row2_col5,#T_6736e_row2_col11{\n",
       "            background-color:  #b1cbfc;\n",
       "            color:  #000000;\n",
       "        }#T_6736e_row2_col6{\n",
       "            background-color:  #9bbcff;\n",
       "            color:  #000000;\n",
       "        }#T_6736e_row2_col7,#T_6736e_row5_col9{\n",
       "            background-color:  #e3d9d3;\n",
       "            color:  #000000;\n",
       "        }#T_6736e_row2_col9{\n",
       "            background-color:  #de614d;\n",
       "            color:  #000000;\n",
       "        }#T_6736e_row2_col10,#T_6736e_row9_col1{\n",
       "            background-color:  #6485ec;\n",
       "            color:  #000000;\n",
       "        }#T_6736e_row3_col0,#T_6736e_row6_col3{\n",
       "            background-color:  #a5c3fe;\n",
       "            color:  #000000;\n",
       "        }#T_6736e_row3_col1{\n",
       "            background-color:  #dbdcde;\n",
       "            color:  #000000;\n",
       "        }#T_6736e_row3_col5,#T_6736e_row5_col10,#T_6736e_row11_col10{\n",
       "            background-color:  #5673e0;\n",
       "            color:  #000000;\n",
       "        }#T_6736e_row3_col6,#T_6736e_row8_col10{\n",
       "            background-color:  #4f69d9;\n",
       "            color:  #000000;\n",
       "        }#T_6736e_row3_col8{\n",
       "            background-color:  #bbd1f8;\n",
       "            color:  #000000;\n",
       "        }#T_6736e_row3_col11,#T_6736e_row5_col1,#T_6736e_row8_col4,#T_6736e_row11_col1{\n",
       "            background-color:  #5e7de7;\n",
       "            color:  #000000;\n",
       "        }#T_6736e_row4_col2{\n",
       "            background-color:  #f7ad90;\n",
       "            color:  #000000;\n",
       "        }#T_6736e_row4_col3{\n",
       "            background-color:  #5470de;\n",
       "            color:  #000000;\n",
       "        }#T_6736e_row4_col5{\n",
       "            background-color:  #80a3fa;\n",
       "            color:  #000000;\n",
       "        }#T_6736e_row4_col6{\n",
       "            background-color:  #6384eb;\n",
       "            color:  #000000;\n",
       "        }#T_6736e_row4_col7,#T_6736e_row5_col8{\n",
       "            background-color:  #5977e3;\n",
       "            color:  #000000;\n",
       "        }#T_6736e_row4_col9,#T_6736e_row9_col4,#T_6736e_row11_col6{\n",
       "            background-color:  #cbd8ee;\n",
       "            color:  #000000;\n",
       "        }#T_6736e_row4_col10{\n",
       "            background-color:  #516ddb;\n",
       "            color:  #000000;\n",
       "        }#T_6736e_row4_col11,#T_6736e_row10_col7,#T_6736e_row10_col8{\n",
       "            background-color:  #7da0f9;\n",
       "            color:  #000000;\n",
       "        }#T_6736e_row5_col0{\n",
       "            background-color:  #ead4c8;\n",
       "            color:  #000000;\n",
       "        }#T_6736e_row5_col2,#T_6736e_row5_col11,#T_6736e_row11_col5{\n",
       "            background-color:  #dedcdb;\n",
       "            color:  #000000;\n",
       "        }#T_6736e_row5_col3,#T_6736e_row8_col0{\n",
       "            background-color:  #a1c0ff;\n",
       "            color:  #000000;\n",
       "        }#T_6736e_row5_col4{\n",
       "            background-color:  #adc9fd;\n",
       "            color:  #000000;\n",
       "        }#T_6736e_row5_col6,#T_6736e_row7_col5{\n",
       "            background-color:  #f2cbb7;\n",
       "            color:  #000000;\n",
       "        }#T_6736e_row5_col7{\n",
       "            background-color:  #efcebd;\n",
       "            color:  #000000;\n",
       "        }#T_6736e_row6_col0{\n",
       "            background-color:  #f0cdbb;\n",
       "            color:  #000000;\n",
       "        }#T_6736e_row6_col2{\n",
       "            background-color:  #d7dce3;\n",
       "            color:  #000000;\n",
       "        }#T_6736e_row6_col4,#T_6736e_row9_col0,#T_6736e_row10_col4{\n",
       "            background-color:  #9fbfff;\n",
       "            color:  #000000;\n",
       "        }#T_6736e_row6_col5{\n",
       "            background-color:  #f4c6af;\n",
       "            color:  #000000;\n",
       "        }#T_6736e_row6_col7,#T_6736e_row7_col6{\n",
       "            background-color:  #f1ccb8;\n",
       "            color:  #000000;\n",
       "        }#T_6736e_row6_col8,#T_6736e_row9_col8,#T_6736e_row10_col6{\n",
       "            background-color:  #6180e9;\n",
       "            color:  #000000;\n",
       "        }#T_6736e_row6_col9,#T_6736e_row11_col2{\n",
       "            background-color:  #dfdbd9;\n",
       "            color:  #000000;\n",
       "        }#T_6736e_row6_col10{\n",
       "            background-color:  #506bda;\n",
       "            color:  #000000;\n",
       "        }#T_6736e_row6_col11,#T_6736e_row9_col11{\n",
       "            background-color:  #d2dbe8;\n",
       "            color:  #000000;\n",
       "        }#T_6736e_row7_col0{\n",
       "            background-color:  #ec8165;\n",
       "            color:  #000000;\n",
       "        }#T_6736e_row7_col1,#T_6736e_row7_col3{\n",
       "            background-color:  #94b6ff;\n",
       "            color:  #000000;\n",
       "        }#T_6736e_row7_col2{\n",
       "            background-color:  #f7bca1;\n",
       "            color:  #000000;\n",
       "        }#T_6736e_row7_col4{\n",
       "            background-color:  #98b9ff;\n",
       "            color:  #000000;\n",
       "        }#T_6736e_row7_col8,#T_6736e_row8_col2,#T_6736e_row10_col1{\n",
       "            background-color:  #85a8fc;\n",
       "            color:  #000000;\n",
       "        }#T_6736e_row7_col9{\n",
       "            background-color:  #ee8468;\n",
       "            color:  #000000;\n",
       "        }#T_6736e_row7_col10{\n",
       "            background-color:  #6c8ff1;\n",
       "            color:  #000000;\n",
       "        }#T_6736e_row8_col1{\n",
       "            background-color:  #f08a6c;\n",
       "            color:  #000000;\n",
       "        }#T_6736e_row8_col3{\n",
       "            background-color:  #dddcdc;\n",
       "            color:  #000000;\n",
       "        }#T_6736e_row8_col5{\n",
       "            background-color:  #485fd1;\n",
       "            color:  #f1f1f1;\n",
       "        }#T_6736e_row8_col6{\n",
       "            background-color:  #4358cb;\n",
       "            color:  #f1f1f1;\n",
       "        }#T_6736e_row8_col9{\n",
       "            background-color:  #82a6fb;\n",
       "            color:  #000000;\n",
       "        }#T_6736e_row9_col2{\n",
       "            background-color:  #da5a49;\n",
       "            color:  #000000;\n",
       "        }#T_6736e_row9_col3{\n",
       "            background-color:  #5572df;\n",
       "            color:  #000000;\n",
       "        }#T_6736e_row9_col5{\n",
       "            background-color:  #cad8ef;\n",
       "            color:  #000000;\n",
       "        }#T_6736e_row9_col6{\n",
       "            background-color:  #bcd2f7;\n",
       "            color:  #000000;\n",
       "        }#T_6736e_row9_col7{\n",
       "            background-color:  #f49a7b;\n",
       "            color:  #000000;\n",
       "        }#T_6736e_row10_col0{\n",
       "            background-color:  #8badfd;\n",
       "            color:  #000000;\n",
       "        }#T_6736e_row10_col2{\n",
       "            background-color:  #c1d4f4;\n",
       "            color:  #000000;\n",
       "        }#T_6736e_row10_col3{\n",
       "            background-color:  #a2c1ff;\n",
       "            color:  #000000;\n",
       "        }#T_6736e_row10_col5,#T_6736e_row10_col11{\n",
       "            background-color:  #7396f5;\n",
       "            color:  #000000;\n",
       "        }#T_6736e_row10_col9{\n",
       "            background-color:  #afcafc;\n",
       "            color:  #000000;\n",
       "        }#T_6736e_row11_col0{\n",
       "            background-color:  #d1dae9;\n",
       "            color:  #000000;\n",
       "        }#T_6736e_row11_col3{\n",
       "            background-color:  #a7c5fe;\n",
       "            color:  #000000;\n",
       "        }#T_6736e_row11_col7{\n",
       "            background-color:  #e4d9d2;\n",
       "            color:  #000000;\n",
       "        }#T_6736e_row11_col8{\n",
       "            background-color:  #5875e1;\n",
       "            color:  #000000;\n",
       "        }</style><table id=\"T_6736e_\" ><thead>    <tr>        <th class=\"blank level0\" ></th>        <th class=\"col_heading level0 col0\" >square_metre_price</th>        <th class=\"col_heading level0 col1\" >floors_total</th>        <th class=\"col_heading level0 col2\" >rooms</th>        <th class=\"col_heading level0 col3\" >kitchen_to_total</th>        <th class=\"col_heading level0 col4\" >living_to_total</th>        <th class=\"col_heading level0 col5\" >parks_around3000</th>        <th class=\"col_heading level0 col6\" >ponds_around3000</th>        <th class=\"col_heading level0 col7\" >last_price</th>        <th class=\"col_heading level0 col8\" >floor</th>        <th class=\"col_heading level0 col9\" >total_area</th>        <th class=\"col_heading level0 col10\" >total_images</th>        <th class=\"col_heading level0 col11\" >ceiling_height</th>    </tr></thead><tbody>\n",
       "                <tr>\n",
       "                        <th id=\"T_6736e_level0_row0\" class=\"row_heading level0 row0\" >square_metre_price</th>\n",
       "                        <td id=\"T_6736e_row0_col0\" class=\"data row0 col0\" >1.000000</td>\n",
       "                        <td id=\"T_6736e_row0_col1\" class=\"data row0 col1\" >0.222682</td>\n",
       "                        <td id=\"T_6736e_row0_col2\" class=\"data row0 col2\" >-0.032517</td>\n",
       "                        <td id=\"T_6736e_row0_col3\" class=\"data row0 col3\" >0.179751</td>\n",
       "                        <td id=\"T_6736e_row0_col4\" class=\"data row0 col4\" >-0.206585</td>\n",
       "                        <td id=\"T_6736e_row0_col5\" class=\"data row0 col5\" >0.465355</td>\n",
       "                        <td id=\"T_6736e_row0_col6\" class=\"data row0 col6\" >0.503659</td>\n",
       "                        <td id=\"T_6736e_row0_col7\" class=\"data row0 col7\" >0.768277</td>\n",
       "                        <td id=\"T_6736e_row0_col8\" class=\"data row0 col8\" >0.165479</td>\n",
       "                        <td id=\"T_6736e_row0_col9\" class=\"data row0 col9\" >0.159537</td>\n",
       "                        <td id=\"T_6736e_row0_col10\" class=\"data row0 col10\" >0.085659</td>\n",
       "                        <td id=\"T_6736e_row0_col11\" class=\"data row0 col11\" >0.343204</td>\n",
       "            </tr>\n",
       "            <tr>\n",
       "                        <th id=\"T_6736e_level0_row1\" class=\"row_heading level0 row1\" >floors_total</th>\n",
       "                        <td id=\"T_6736e_row1_col0\" class=\"data row1 col0\" >0.222682</td>\n",
       "                        <td id=\"T_6736e_row1_col1\" class=\"data row1 col1\" >1.000000</td>\n",
       "                        <td id=\"T_6736e_row1_col2\" class=\"data row1 col2\" >-0.271971</td>\n",
       "                        <td id=\"T_6736e_row1_col3\" class=\"data row1 col3\" >0.324683</td>\n",
       "                        <td id=\"T_6736e_row1_col4\" class=\"data row1 col4\" >-0.338296</td>\n",
       "                        <td id=\"T_6736e_row1_col5\" class=\"data row1 col5\" >-0.183862</td>\n",
       "                        <td id=\"T_6736e_row1_col6\" class=\"data row1 col6\" >-0.136838</td>\n",
       "                        <td id=\"T_6736e_row1_col7\" class=\"data row1 col7\" >0.023552</td>\n",
       "                        <td id=\"T_6736e_row1_col8\" class=\"data row1 col8\" >0.714184</td>\n",
       "                        <td id=\"T_6736e_row1_col9\" class=\"data row1 col9\" >-0.156063</td>\n",
       "                        <td id=\"T_6736e_row1_col10\" class=\"data row1 col10\" >-0.031229</td>\n",
       "                        <td id=\"T_6736e_row1_col11\" class=\"data row1 col11\" >-0.182173</td>\n",
       "            </tr>\n",
       "            <tr>\n",
       "                        <th id=\"T_6736e_level0_row2\" class=\"row_heading level0 row2\" >rooms</th>\n",
       "                        <td id=\"T_6736e_row2_col0\" class=\"data row2 col0\" >-0.032517</td>\n",
       "                        <td id=\"T_6736e_row2_col1\" class=\"data row2 col1\" >-0.271971</td>\n",
       "                        <td id=\"T_6736e_row2_col2\" class=\"data row2 col2\" >1.000000</td>\n",
       "                        <td id=\"T_6736e_row2_col3\" class=\"data row2 col3\" >-0.552720</td>\n",
       "                        <td id=\"T_6736e_row2_col4\" class=\"data row2 col4\" >0.528570</td>\n",
       "                        <td id=\"T_6736e_row2_col5\" class=\"data row2 col5\" >0.234107</td>\n",
       "                        <td id=\"T_6736e_row2_col6\" class=\"data row2 col6\" >0.192598</td>\n",
       "                        <td id=\"T_6736e_row2_col7\" class=\"data row2 col7\" >0.463737</td>\n",
       "                        <td id=\"T_6736e_row2_col8\" class=\"data row2 col8\" >-0.195640</td>\n",
       "                        <td id=\"T_6736e_row2_col9\" class=\"data row2 col9\" >0.819234</td>\n",
       "                        <td id=\"T_6736e_row2_col10\" class=\"data row2 col10\" >0.073876</td>\n",
       "                        <td id=\"T_6736e_row2_col11\" class=\"data row2 col11\" >0.236435</td>\n",
       "            </tr>\n",
       "            <tr>\n",
       "                        <th id=\"T_6736e_level0_row3\" class=\"row_heading level0 row3\" >kitchen_to_total</th>\n",
       "                        <td id=\"T_6736e_row3_col0\" class=\"data row3 col0\" >0.179751</td>\n",
       "                        <td id=\"T_6736e_row3_col1\" class=\"data row3 col1\" >0.324683</td>\n",
       "                        <td id=\"T_6736e_row3_col2\" class=\"data row3 col2\" >-0.552720</td>\n",
       "                        <td id=\"T_6736e_row3_col3\" class=\"data row3 col3\" >1.000000</td>\n",
       "                        <td id=\"T_6736e_row3_col4\" class=\"data row3 col4\" >-0.420320</td>\n",
       "                        <td id=\"T_6736e_row3_col5\" class=\"data row3 col5\" >-0.077205</td>\n",
       "                        <td id=\"T_6736e_row3_col6\" class=\"data row3 col6\" >-0.057470</td>\n",
       "                        <td id=\"T_6736e_row3_col7\" class=\"data row3 col7\" >-0.134135</td>\n",
       "                        <td id=\"T_6736e_row3_col8\" class=\"data row3 col8\" >0.227754</td>\n",
       "                        <td id=\"T_6736e_row3_col9\" class=\"data row3 col9\" >-0.416958</td>\n",
       "                        <td id=\"T_6736e_row3_col10\" class=\"data row3 col10\" >-0.072254</td>\n",
       "                        <td id=\"T_6736e_row3_col11\" class=\"data row3 col11\" >-0.046944</td>\n",
       "            </tr>\n",
       "            <tr>\n",
       "                        <th id=\"T_6736e_level0_row4\" class=\"row_heading level0 row4\" >living_to_total</th>\n",
       "                        <td id=\"T_6736e_row4_col0\" class=\"data row4 col0\" >-0.206585</td>\n",
       "                        <td id=\"T_6736e_row4_col1\" class=\"data row4 col1\" >-0.338296</td>\n",
       "                        <td id=\"T_6736e_row4_col2\" class=\"data row4 col2\" >0.528570</td>\n",
       "                        <td id=\"T_6736e_row4_col3\" class=\"data row4 col3\" >-0.420320</td>\n",
       "                        <td id=\"T_6736e_row4_col4\" class=\"data row4 col4\" >1.000000</td>\n",
       "                        <td id=\"T_6736e_row4_col5\" class=\"data row4 col5\" >0.067349</td>\n",
       "                        <td id=\"T_6736e_row4_col6\" class=\"data row4 col6\" >0.011544</td>\n",
       "                        <td id=\"T_6736e_row4_col7\" class=\"data row4 col7\" >-0.019066</td>\n",
       "                        <td id=\"T_6736e_row4_col8\" class=\"data row4 col8\" >-0.258477</td>\n",
       "                        <td id=\"T_6736e_row4_col9\" class=\"data row4 col9\" >0.198139</td>\n",
       "                        <td id=\"T_6736e_row4_col10\" class=\"data row4 col10\" >0.008670</td>\n",
       "                        <td id=\"T_6736e_row4_col11\" class=\"data row4 col11\" >0.060168</td>\n",
       "            </tr>\n",
       "            <tr>\n",
       "                        <th id=\"T_6736e_level0_row5\" class=\"row_heading level0 row5\" >parks_around3000</th>\n",
       "                        <td id=\"T_6736e_row5_col0\" class=\"data row5 col0\" >0.465355</td>\n",
       "                        <td id=\"T_6736e_row5_col1\" class=\"data row5 col1\" >-0.183862</td>\n",
       "                        <td id=\"T_6736e_row5_col2\" class=\"data row5 col2\" >0.234107</td>\n",
       "                        <td id=\"T_6736e_row5_col3\" class=\"data row5 col3\" >-0.077205</td>\n",
       "                        <td id=\"T_6736e_row5_col4\" class=\"data row5 col4\" >0.067349</td>\n",
       "                        <td id=\"T_6736e_row5_col5\" class=\"data row5 col5\" >1.000000</td>\n",
       "                        <td id=\"T_6736e_row5_col6\" class=\"data row5 col6\" >0.546941</td>\n",
       "                        <td id=\"T_6736e_row5_col7\" class=\"data row5 col7\" >0.526544</td>\n",
       "                        <td id=\"T_6736e_row5_col8\" class=\"data row5 col8\" >-0.132991</td>\n",
       "                        <td id=\"T_6736e_row5_col9\" class=\"data row5 col9\" >0.325833</td>\n",
       "                        <td id=\"T_6736e_row5_col10\" class=\"data row5 col10\" >0.024677</td>\n",
       "                        <td id=\"T_6736e_row5_col11\" class=\"data row5 col11\" >0.414786</td>\n",
       "            </tr>\n",
       "            <tr>\n",
       "                        <th id=\"T_6736e_level0_row6\" class=\"row_heading level0 row6\" >ponds_around3000</th>\n",
       "                        <td id=\"T_6736e_row6_col0\" class=\"data row6 col0\" >0.503659</td>\n",
       "                        <td id=\"T_6736e_row6_col1\" class=\"data row6 col1\" >-0.136838</td>\n",
       "                        <td id=\"T_6736e_row6_col2\" class=\"data row6 col2\" >0.192598</td>\n",
       "                        <td id=\"T_6736e_row6_col3\" class=\"data row6 col3\" >-0.057470</td>\n",
       "                        <td id=\"T_6736e_row6_col4\" class=\"data row6 col4\" >0.011544</td>\n",
       "                        <td id=\"T_6736e_row6_col5\" class=\"data row6 col5\" >0.546941</td>\n",
       "                        <td id=\"T_6736e_row6_col6\" class=\"data row6 col6\" >1.000000</td>\n",
       "                        <td id=\"T_6736e_row6_col7\" class=\"data row6 col7\" >0.539791</td>\n",
       "                        <td id=\"T_6736e_row6_col8\" class=\"data row6 col8\" >-0.103073</td>\n",
       "                        <td id=\"T_6736e_row6_col9\" class=\"data row6 col9\" >0.307131</td>\n",
       "                        <td id=\"T_6736e_row6_col10\" class=\"data row6 col10\" >0.004504</td>\n",
       "                        <td id=\"T_6736e_row6_col11\" class=\"data row6 col11\" >0.359187</td>\n",
       "            </tr>\n",
       "            <tr>\n",
       "                        <th id=\"T_6736e_level0_row7\" class=\"row_heading level0 row7\" >last_price</th>\n",
       "                        <td id=\"T_6736e_row7_col0\" class=\"data row7 col0\" >0.768277</td>\n",
       "                        <td id=\"T_6736e_row7_col1\" class=\"data row7 col1\" >0.023552</td>\n",
       "                        <td id=\"T_6736e_row7_col2\" class=\"data row7 col2\" >0.463737</td>\n",
       "                        <td id=\"T_6736e_row7_col3\" class=\"data row7 col3\" >-0.134135</td>\n",
       "                        <td id=\"T_6736e_row7_col4\" class=\"data row7 col4\" >-0.019066</td>\n",
       "                        <td id=\"T_6736e_row7_col5\" class=\"data row7 col5\" >0.526544</td>\n",
       "                        <td id=\"T_6736e_row7_col6\" class=\"data row7 col6\" >0.539791</td>\n",
       "                        <td id=\"T_6736e_row7_col7\" class=\"data row7 col7\" >1.000000</td>\n",
       "                        <td id=\"T_6736e_row7_col8\" class=\"data row7 col8\" >0.029435</td>\n",
       "                        <td id=\"T_6736e_row7_col9\" class=\"data row7 col9\" >0.716065</td>\n",
       "                        <td id=\"T_6736e_row7_col10\" class=\"data row7 col10\" >0.099011</td>\n",
       "                        <td id=\"T_6736e_row7_col11\" class=\"data row7 col11\" >0.467796</td>\n",
       "            </tr>\n",
       "            <tr>\n",
       "                        <th id=\"T_6736e_level0_row8\" class=\"row_heading level0 row8\" >floor</th>\n",
       "                        <td id=\"T_6736e_row8_col0\" class=\"data row8 col0\" >0.165479</td>\n",
       "                        <td id=\"T_6736e_row8_col1\" class=\"data row8 col1\" >0.714184</td>\n",
       "                        <td id=\"T_6736e_row8_col2\" class=\"data row8 col2\" >-0.195640</td>\n",
       "                        <td id=\"T_6736e_row8_col3\" class=\"data row8 col3\" >0.227754</td>\n",
       "                        <td id=\"T_6736e_row8_col4\" class=\"data row8 col4\" >-0.258477</td>\n",
       "                        <td id=\"T_6736e_row8_col5\" class=\"data row8 col5\" >-0.132991</td>\n",
       "                        <td id=\"T_6736e_row8_col6\" class=\"data row8 col6\" >-0.103073</td>\n",
       "                        <td id=\"T_6736e_row8_col7\" class=\"data row8 col7\" >0.029435</td>\n",
       "                        <td id=\"T_6736e_row8_col8\" class=\"data row8 col8\" >1.000000</td>\n",
       "                        <td id=\"T_6736e_row8_col9\" class=\"data row8 col9\" >-0.105336</td>\n",
       "                        <td id=\"T_6736e_row8_col10\" class=\"data row8 col10\" >-0.000869</td>\n",
       "                        <td id=\"T_6736e_row8_col11\" class=\"data row8 col11\" >-0.138084</td>\n",
       "            </tr>\n",
       "            <tr>\n",
       "                        <th id=\"T_6736e_level0_row9\" class=\"row_heading level0 row9\" >total_area</th>\n",
       "                        <td id=\"T_6736e_row9_col0\" class=\"data row9 col0\" >0.159537</td>\n",
       "                        <td id=\"T_6736e_row9_col1\" class=\"data row9 col1\" >-0.156063</td>\n",
       "                        <td id=\"T_6736e_row9_col2\" class=\"data row9 col2\" >0.819234</td>\n",
       "                        <td id=\"T_6736e_row9_col3\" class=\"data row9 col3\" >-0.416958</td>\n",
       "                        <td id=\"T_6736e_row9_col4\" class=\"data row9 col4\" >0.198139</td>\n",
       "                        <td id=\"T_6736e_row9_col5\" class=\"data row9 col5\" >0.325833</td>\n",
       "                        <td id=\"T_6736e_row9_col6\" class=\"data row9 col6\" >0.307131</td>\n",
       "                        <td id=\"T_6736e_row9_col7\" class=\"data row9 col7\" >0.716065</td>\n",
       "                        <td id=\"T_6736e_row9_col8\" class=\"data row9 col8\" >-0.105336</td>\n",
       "                        <td id=\"T_6736e_row9_col9\" class=\"data row9 col9\" >1.000000</td>\n",
       "                        <td id=\"T_6736e_row9_col10\" class=\"data row9 col10\" >0.078854</td>\n",
       "                        <td id=\"T_6736e_row9_col11\" class=\"data row9 col11\" >0.358998</td>\n",
       "            </tr>\n",
       "            <tr>\n",
       "                        <th id=\"T_6736e_level0_row10\" class=\"row_heading level0 row10\" >total_images</th>\n",
       "                        <td id=\"T_6736e_row10_col0\" class=\"data row10 col0\" >0.085659</td>\n",
       "                        <td id=\"T_6736e_row10_col1\" class=\"data row10 col1\" >-0.031229</td>\n",
       "                        <td id=\"T_6736e_row10_col2\" class=\"data row10 col2\" >0.073876</td>\n",
       "                        <td id=\"T_6736e_row10_col3\" class=\"data row10 col3\" >-0.072254</td>\n",
       "                        <td id=\"T_6736e_row10_col4\" class=\"data row10 col4\" >0.008670</td>\n",
       "                        <td id=\"T_6736e_row10_col5\" class=\"data row10 col5\" >0.024677</td>\n",
       "                        <td id=\"T_6736e_row10_col6\" class=\"data row10 col6\" >0.004504</td>\n",
       "                        <td id=\"T_6736e_row10_col7\" class=\"data row10 col7\" >0.099011</td>\n",
       "                        <td id=\"T_6736e_row10_col8\" class=\"data row10 col8\" >-0.000869</td>\n",
       "                        <td id=\"T_6736e_row10_col9\" class=\"data row10 col9\" >0.078854</td>\n",
       "                        <td id=\"T_6736e_row10_col10\" class=\"data row10 col10\" >1.000000</td>\n",
       "                        <td id=\"T_6736e_row10_col11\" class=\"data row10 col11\" >0.026512</td>\n",
       "            </tr>\n",
       "            <tr>\n",
       "                        <th id=\"T_6736e_level0_row11\" class=\"row_heading level0 row11\" >ceiling_height</th>\n",
       "                        <td id=\"T_6736e_row11_col0\" class=\"data row11 col0\" >0.343204</td>\n",
       "                        <td id=\"T_6736e_row11_col1\" class=\"data row11 col1\" >-0.182173</td>\n",
       "                        <td id=\"T_6736e_row11_col2\" class=\"data row11 col2\" >0.236435</td>\n",
       "                        <td id=\"T_6736e_row11_col3\" class=\"data row11 col3\" >-0.046944</td>\n",
       "                        <td id=\"T_6736e_row11_col4\" class=\"data row11 col4\" >0.060168</td>\n",
       "                        <td id=\"T_6736e_row11_col5\" class=\"data row11 col5\" >0.414786</td>\n",
       "                        <td id=\"T_6736e_row11_col6\" class=\"data row11 col6\" >0.359187</td>\n",
       "                        <td id=\"T_6736e_row11_col7\" class=\"data row11 col7\" >0.467796</td>\n",
       "                        <td id=\"T_6736e_row11_col8\" class=\"data row11 col8\" >-0.138084</td>\n",
       "                        <td id=\"T_6736e_row11_col9\" class=\"data row11 col9\" >0.358998</td>\n",
       "                        <td id=\"T_6736e_row11_col10\" class=\"data row11 col10\" >0.026512</td>\n",
       "                        <td id=\"T_6736e_row11_col11\" class=\"data row11 col11\" >1.000000</td>\n",
       "            </tr>\n",
       "    </tbody></table>"
      ],
      "text/plain": [
       "<pandas.io.formats.style.Styler at 0x7f3c860b7fa0>"
      ]
     },
     "execution_count": 70,
     "metadata": {},
     "output_type": "execute_result"
    }
   ],
   "source": [
    "df_center_factors = df_center[['square_metre_price','floor_category','floors_total','rooms','kitchen_to_total','living_to_total','parks_around3000','ponds_around3000','last_price','floor','total_area','first_day_exposition','total_images','ceiling_height']]\n",
    "#let's build a matrix of price correlation and factors influencing the pricing of apartments for apartments in the center\n",
    "corr = df_center_factors.corr()\n",
    "\n",
    "corr.style.background_gradient(cmap='coolwarm')\n"
   ]
  },
  {
   "cell_type": "code",
   "execution_count": 71,
   "metadata": {},
   "outputs": [
    {
     "data": {
      "text/html": [
       "<style  type=\"text/css\" >\n",
       "#T_14047_row0_col0,#T_14047_row1_col1,#T_14047_row2_col2,#T_14047_row3_col3,#T_14047_row4_col4,#T_14047_row5_col5,#T_14047_row6_col6,#T_14047_row7_col7,#T_14047_row8_col8,#T_14047_row9_col9,#T_14047_row10_col10,#T_14047_row11_col11{\n",
       "            background-color:  #b40426;\n",
       "            color:  #f1f1f1;\n",
       "        }#T_14047_row0_col1{\n",
       "            background-color:  #dedcdb;\n",
       "            color:  #000000;\n",
       "        }#T_14047_row0_col2,#T_14047_row5_col11,#T_14047_row8_col2{\n",
       "            background-color:  #8fb1fe;\n",
       "            color:  #000000;\n",
       "        }#T_14047_row0_col3{\n",
       "            background-color:  #dddcdc;\n",
       "            color:  #000000;\n",
       "        }#T_14047_row0_col4{\n",
       "            background-color:  #6f92f3;\n",
       "            color:  #000000;\n",
       "        }#T_14047_row0_col5{\n",
       "            background-color:  #b5cdfa;\n",
       "            color:  #000000;\n",
       "        }#T_14047_row0_col6,#T_14047_row7_col6{\n",
       "            background-color:  #a3c2fe;\n",
       "            color:  #000000;\n",
       "        }#T_14047_row0_col7{\n",
       "            background-color:  #f7b093;\n",
       "            color:  #000000;\n",
       "        }#T_14047_row0_col8{\n",
       "            background-color:  #bfd3f6;\n",
       "            color:  #000000;\n",
       "        }#T_14047_row0_col9{\n",
       "            background-color:  #9abbff;\n",
       "            color:  #000000;\n",
       "        }#T_14047_row0_col10{\n",
       "            background-color:  #7396f5;\n",
       "            color:  #000000;\n",
       "        }#T_14047_row0_col11,#T_14047_row8_col7,#T_14047_row9_col5{\n",
       "            background-color:  #85a8fc;\n",
       "            color:  #000000;\n",
       "        }#T_14047_row1_col0,#T_14047_row6_col5{\n",
       "            background-color:  #d1dae9;\n",
       "            color:  #000000;\n",
       "        }#T_14047_row1_col2{\n",
       "            background-color:  #84a7fc;\n",
       "            color:  #000000;\n",
       "        }#T_14047_row1_col3{\n",
       "            background-color:  #ead5c9;\n",
       "            color:  #000000;\n",
       "        }#T_14047_row1_col4,#T_14047_row5_col10{\n",
       "            background-color:  #516ddb;\n",
       "            color:  #000000;\n",
       "        }#T_14047_row1_col5,#T_14047_row1_col6,#T_14047_row1_col11,#T_14047_row2_col3,#T_14047_row3_col2,#T_14047_row3_col4,#T_14047_row3_col7,#T_14047_row3_col9,#T_14047_row3_col10,#T_14047_row4_col0,#T_14047_row4_col1,#T_14047_row4_col8{\n",
       "            background-color:  #3b4cc0;\n",
       "            color:  #f1f1f1;\n",
       "        }#T_14047_row1_col7{\n",
       "            background-color:  #94b6ff;\n",
       "            color:  #000000;\n",
       "        }#T_14047_row1_col8{\n",
       "            background-color:  #f59c7d;\n",
       "            color:  #000000;\n",
       "        }#T_14047_row1_col9,#T_14047_row8_col9,#T_14047_row9_col1,#T_14047_row10_col7{\n",
       "            background-color:  #90b2fe;\n",
       "            color:  #000000;\n",
       "        }#T_14047_row1_col10{\n",
       "            background-color:  #536edd;\n",
       "            color:  #000000;\n",
       "        }#T_14047_row2_col0{\n",
       "            background-color:  #4f69d9;\n",
       "            color:  #000000;\n",
       "        }#T_14047_row2_col1,#T_14047_row3_col11,#T_14047_row9_col3{\n",
       "            background-color:  #5f7fe8;\n",
       "            color:  #000000;\n",
       "        }#T_14047_row2_col4{\n",
       "            background-color:  #f7a688;\n",
       "            color:  #000000;\n",
       "        }#T_14047_row2_col5,#T_14047_row6_col8,#T_14047_row9_col8{\n",
       "            background-color:  #7a9df8;\n",
       "            color:  #000000;\n",
       "        }#T_14047_row2_col6{\n",
       "            background-color:  #5673e0;\n",
       "            color:  #000000;\n",
       "        }#T_14047_row2_col7{\n",
       "            background-color:  #e5d8d1;\n",
       "            color:  #000000;\n",
       "        }#T_14047_row2_col8{\n",
       "            background-color:  #5572df;\n",
       "            color:  #000000;\n",
       "        }#T_14047_row2_col9{\n",
       "            background-color:  #e36b54;\n",
       "            color:  #000000;\n",
       "        }#T_14047_row2_col10{\n",
       "            background-color:  #6485ec;\n",
       "            color:  #000000;\n",
       "        }#T_14047_row2_col11{\n",
       "            background-color:  #779af7;\n",
       "            color:  #000000;\n",
       "        }#T_14047_row3_col0{\n",
       "            background-color:  #b9d0f9;\n",
       "            color:  #000000;\n",
       "        }#T_14047_row3_col1,#T_14047_row11_col9{\n",
       "            background-color:  #dbdcde;\n",
       "            color:  #000000;\n",
       "        }#T_14047_row3_col5{\n",
       "            background-color:  #4c66d6;\n",
       "            color:  #000000;\n",
       "        }#T_14047_row3_col6{\n",
       "            background-color:  #3f53c6;\n",
       "            color:  #f1f1f1;\n",
       "        }#T_14047_row3_col8,#T_14047_row6_col7,#T_14047_row6_col9{\n",
       "            background-color:  #bad0f8;\n",
       "            color:  #000000;\n",
       "        }#T_14047_row4_col2{\n",
       "            background-color:  #f6a283;\n",
       "            color:  #000000;\n",
       "        }#T_14047_row4_col3{\n",
       "            background-color:  #485fd1;\n",
       "            color:  #f1f1f1;\n",
       "        }#T_14047_row4_col5,#T_14047_row5_col1,#T_14047_row9_col6{\n",
       "            background-color:  #7295f4;\n",
       "            color:  #000000;\n",
       "        }#T_14047_row4_col6{\n",
       "            background-color:  #3c4ec2;\n",
       "            color:  #f1f1f1;\n",
       "        }#T_14047_row4_col7{\n",
       "            background-color:  #5a78e4;\n",
       "            color:  #000000;\n",
       "        }#T_14047_row4_col9,#T_14047_row11_col7{\n",
       "            background-color:  #c6d6f1;\n",
       "            color:  #000000;\n",
       "        }#T_14047_row4_col10,#T_14047_row6_col10{\n",
       "            background-color:  #4b64d5;\n",
       "            color:  #f1f1f1;\n",
       "        }#T_14047_row4_col11{\n",
       "            background-color:  #445acc;\n",
       "            color:  #f1f1f1;\n",
       "        }#T_14047_row5_col0{\n",
       "            background-color:  #c7d7f0;\n",
       "            color:  #000000;\n",
       "        }#T_14047_row5_col2{\n",
       "            background-color:  #c5d6f2;\n",
       "            color:  #000000;\n",
       "        }#T_14047_row5_col3,#T_14047_row6_col4,#T_14047_row7_col4{\n",
       "            background-color:  #a5c3fe;\n",
       "            color:  #000000;\n",
       "        }#T_14047_row5_col4{\n",
       "            background-color:  #b7cff9;\n",
       "            color:  #000000;\n",
       "        }#T_14047_row5_col6,#T_14047_row7_col1{\n",
       "            background-color:  #c0d4f5;\n",
       "            color:  #000000;\n",
       "        }#T_14047_row5_col7,#T_14047_row6_col3,#T_14047_row9_col11{\n",
       "            background-color:  #b1cbfc;\n",
       "            color:  #000000;\n",
       "        }#T_14047_row5_col8,#T_14047_row10_col5{\n",
       "            background-color:  #6687ed;\n",
       "            color:  #000000;\n",
       "        }#T_14047_row5_col9{\n",
       "            background-color:  #b3cdfb;\n",
       "            color:  #000000;\n",
       "        }#T_14047_row6_col0{\n",
       "            background-color:  #cbd8ee;\n",
       "            color:  #000000;\n",
       "        }#T_14047_row6_col1{\n",
       "            background-color:  #8db0fe;\n",
       "            color:  #000000;\n",
       "        }#T_14047_row6_col2{\n",
       "            background-color:  #c1d4f4;\n",
       "            color:  #000000;\n",
       "        }#T_14047_row6_col11{\n",
       "            background-color:  #89acfd;\n",
       "            color:  #000000;\n",
       "        }#T_14047_row7_col0{\n",
       "            background-color:  #f6a586;\n",
       "            color:  #000000;\n",
       "        }#T_14047_row7_col2{\n",
       "            background-color:  #f7b99e;\n",
       "            color:  #000000;\n",
       "        }#T_14047_row7_col3{\n",
       "            background-color:  #96b7ff;\n",
       "            color:  #000000;\n",
       "        }#T_14047_row7_col5{\n",
       "            background-color:  #b2ccfb;\n",
       "            color:  #000000;\n",
       "        }#T_14047_row7_col8{\n",
       "            background-color:  #a2c1ff;\n",
       "            color:  #000000;\n",
       "        }#T_14047_row7_col9{\n",
       "            background-color:  #ec7f63;\n",
       "            color:  #000000;\n",
       "        }#T_14047_row7_col10,#T_14047_row11_col6{\n",
       "            background-color:  #7da0f9;\n",
       "            color:  #000000;\n",
       "        }#T_14047_row7_col11,#T_14047_row8_col0{\n",
       "            background-color:  #bcd2f7;\n",
       "            color:  #000000;\n",
       "        }#T_14047_row8_col1{\n",
       "            background-color:  #f39475;\n",
       "            color:  #000000;\n",
       "        }#T_14047_row8_col3{\n",
       "            background-color:  #dcdddd;\n",
       "            color:  #000000;\n",
       "        }#T_14047_row8_col4{\n",
       "            background-color:  #6a8bef;\n",
       "            color:  #000000;\n",
       "        }#T_14047_row8_col5{\n",
       "            background-color:  #455cce;\n",
       "            color:  #f1f1f1;\n",
       "        }#T_14047_row8_col6{\n",
       "            background-color:  #3d50c3;\n",
       "            color:  #f1f1f1;\n",
       "        }#T_14047_row8_col10{\n",
       "            background-color:  #5875e1;\n",
       "            color:  #000000;\n",
       "        }#T_14047_row8_col11{\n",
       "            background-color:  #4257c9;\n",
       "            color:  #f1f1f1;\n",
       "        }#T_14047_row9_col0,#T_14047_row11_col1{\n",
       "            background-color:  #81a4fb;\n",
       "            color:  #000000;\n",
       "        }#T_14047_row9_col2{\n",
       "            background-color:  #df634e;\n",
       "            color:  #000000;\n",
       "        }#T_14047_row9_col4{\n",
       "            background-color:  #d3dbe7;\n",
       "            color:  #000000;\n",
       "        }#T_14047_row9_col7{\n",
       "            background-color:  #f29072;\n",
       "            color:  #000000;\n",
       "        }#T_14047_row9_col10{\n",
       "            background-color:  #6c8ff1;\n",
       "            color:  #000000;\n",
       "        }#T_14047_row10_col0,#T_14047_row11_col4{\n",
       "            background-color:  #9fbfff;\n",
       "            color:  #000000;\n",
       "        }#T_14047_row10_col1,#T_14047_row11_col5{\n",
       "            background-color:  #9bbcff;\n",
       "            color:  #000000;\n",
       "        }#T_14047_row10_col2{\n",
       "            background-color:  #c4d5f3;\n",
       "            color:  #000000;\n",
       "        }#T_14047_row10_col3{\n",
       "            background-color:  #a6c4fe;\n",
       "            color:  #000000;\n",
       "        }#T_14047_row10_col4{\n",
       "            background-color:  #a9c6fd;\n",
       "            color:  #000000;\n",
       "        }#T_14047_row10_col6{\n",
       "            background-color:  #4358cb;\n",
       "            color:  #f1f1f1;\n",
       "        }#T_14047_row10_col8{\n",
       "            background-color:  #8badfd;\n",
       "            color:  #000000;\n",
       "        }#T_14047_row10_col9{\n",
       "            background-color:  #afcafc;\n",
       "            color:  #000000;\n",
       "        }#T_14047_row10_col11{\n",
       "            background-color:  #4e68d8;\n",
       "            color:  #000000;\n",
       "        }#T_14047_row11_col0{\n",
       "            background-color:  #aac7fd;\n",
       "            color:  #000000;\n",
       "        }#T_14047_row11_col2{\n",
       "            background-color:  #ccd9ed;\n",
       "            color:  #000000;\n",
       "        }#T_14047_row11_col3{\n",
       "            background-color:  #bed2f6;\n",
       "            color:  #000000;\n",
       "        }#T_14047_row11_col8{\n",
       "            background-color:  #7093f3;\n",
       "            color:  #000000;\n",
       "        }#T_14047_row11_col10{\n",
       "            background-color:  #4961d2;\n",
       "            color:  #f1f1f1;\n",
       "        }</style><table id=\"T_14047_\" ><thead>    <tr>        <th class=\"blank level0\" ></th>        <th class=\"col_heading level0 col0\" >square_metre_price</th>        <th class=\"col_heading level0 col1\" >floors_total</th>        <th class=\"col_heading level0 col2\" >rooms</th>        <th class=\"col_heading level0 col3\" >kitchen_to_total</th>        <th class=\"col_heading level0 col4\" >living_to_total</th>        <th class=\"col_heading level0 col5\" >parks_around3000</th>        <th class=\"col_heading level0 col6\" >ponds_around3000</th>        <th class=\"col_heading level0 col7\" >last_price</th>        <th class=\"col_heading level0 col8\" >floor</th>        <th class=\"col_heading level0 col9\" >total_area</th>        <th class=\"col_heading level0 col10\" >total_images</th>        <th class=\"col_heading level0 col11\" >ceiling_height</th>    </tr></thead><tbody>\n",
       "                <tr>\n",
       "                        <th id=\"T_14047_level0_row0\" class=\"row_heading level0 row0\" >square_metre_price</th>\n",
       "                        <td id=\"T_14047_row0_col0\" class=\"data row0 col0\" >1.000000</td>\n",
       "                        <td id=\"T_14047_row0_col1\" class=\"data row0 col1\" >0.317329</td>\n",
       "                        <td id=\"T_14047_row0_col2\" class=\"data row0 col2\" >-0.164840</td>\n",
       "                        <td id=\"T_14047_row0_col3\" class=\"data row0 col3\" >0.219473</td>\n",
       "                        <td id=\"T_14047_row0_col4\" class=\"data row0 col4\" >-0.252512</td>\n",
       "                        <td id=\"T_14047_row0_col5\" class=\"data row0 col5\" >0.277072</td>\n",
       "                        <td id=\"T_14047_row0_col6\" class=\"data row0 col6\" >0.291179</td>\n",
       "                        <td id=\"T_14047_row0_col7\" class=\"data row0 col7\" >0.648779</td>\n",
       "                        <td id=\"T_14047_row0_col8\" class=\"data row0 col8\" >0.232631</td>\n",
       "                        <td id=\"T_14047_row0_col9\" class=\"data row0 col9\" >0.017240</td>\n",
       "                        <td id=\"T_14047_row0_col10\" class=\"data row0 col10\" >0.127300</td>\n",
       "                        <td id=\"T_14047_row0_col11\" class=\"data row0 col11\" >0.165305</td>\n",
       "            </tr>\n",
       "            <tr>\n",
       "                        <th id=\"T_14047_level0_row1\" class=\"row_heading level0 row1\" >floors_total</th>\n",
       "                        <td id=\"T_14047_row1_col0\" class=\"data row1 col0\" >0.317329</td>\n",
       "                        <td id=\"T_14047_row1_col1\" class=\"data row1 col1\" >1.000000</td>\n",
       "                        <td id=\"T_14047_row1_col2\" class=\"data row1 col2\" >-0.216592</td>\n",
       "                        <td id=\"T_14047_row1_col3\" class=\"data row1 col3\" >0.300266</td>\n",
       "                        <td id=\"T_14047_row1_col4\" class=\"data row1 col4\" >-0.382677</td>\n",
       "                        <td id=\"T_14047_row1_col5\" class=\"data row1 col5\" >-0.139885</td>\n",
       "                        <td id=\"T_14047_row1_col6\" class=\"data row1 col6\" >-0.031639</td>\n",
       "                        <td id=\"T_14047_row1_col7\" class=\"data row1 col7\" >0.169639</td>\n",
       "                        <td id=\"T_14047_row1_col8\" class=\"data row1 col8\" >0.675547</td>\n",
       "                        <td id=\"T_14047_row1_col9\" class=\"data row1 col9\" >-0.021240</td>\n",
       "                        <td id=\"T_14047_row1_col10\" class=\"data row1 col10\" >0.019892</td>\n",
       "                        <td id=\"T_14047_row1_col11\" class=\"data row1 col11\" >-0.082538</td>\n",
       "            </tr>\n",
       "            <tr>\n",
       "                        <th id=\"T_14047_level0_row2\" class=\"row_heading level0 row2\" >rooms</th>\n",
       "                        <td id=\"T_14047_row2_col0\" class=\"data row2 col0\" >-0.164840</td>\n",
       "                        <td id=\"T_14047_row2_col1\" class=\"data row2 col1\" >-0.216592</td>\n",
       "                        <td id=\"T_14047_row2_col2\" class=\"data row2 col2\" >1.000000</td>\n",
       "                        <td id=\"T_14047_row2_col3\" class=\"data row2 col3\" >-0.568811</td>\n",
       "                        <td id=\"T_14047_row2_col4\" class=\"data row2 col4\" >0.576411</td>\n",
       "                        <td id=\"T_14047_row2_col5\" class=\"data row2 col5\" >0.084247</td>\n",
       "                        <td id=\"T_14047_row2_col6\" class=\"data row2 col6\" >0.064537</td>\n",
       "                        <td id=\"T_14047_row2_col7\" class=\"data row2 col7\" >0.467174</td>\n",
       "                        <td id=\"T_14047_row2_col8\" class=\"data row2 col8\" >-0.164617</td>\n",
       "                        <td id=\"T_14047_row2_col9\" class=\"data row2 col9\" >0.797549</td>\n",
       "                        <td id=\"T_14047_row2_col10\" class=\"data row2 col10\" >0.079350</td>\n",
       "                        <td id=\"T_14047_row2_col11\" class=\"data row2 col11\" >0.123362</td>\n",
       "            </tr>\n",
       "            <tr>\n",
       "                        <th id=\"T_14047_level0_row3\" class=\"row_heading level0 row3\" >kitchen_to_total</th>\n",
       "                        <td id=\"T_14047_row3_col0\" class=\"data row3 col0\" >0.219473</td>\n",
       "                        <td id=\"T_14047_row3_col1\" class=\"data row3 col1\" >0.300266</td>\n",
       "                        <td id=\"T_14047_row3_col2\" class=\"data row3 col2\" >-0.568811</td>\n",
       "                        <td id=\"T_14047_row3_col3\" class=\"data row3 col3\" >1.000000</td>\n",
       "                        <td id=\"T_14047_row3_col4\" class=\"data row3 col4\" >-0.499058</td>\n",
       "                        <td id=\"T_14047_row3_col5\" class=\"data row3 col5\" >-0.068937</td>\n",
       "                        <td id=\"T_14047_row3_col6\" class=\"data row3 col6\" >-0.011569</td>\n",
       "                        <td id=\"T_14047_row3_col7\" class=\"data row3 col7\" >-0.137842</td>\n",
       "                        <td id=\"T_14047_row3_col8\" class=\"data row3 col8\" >0.209768</td>\n",
       "                        <td id=\"T_14047_row3_col9\" class=\"data row3 col9\" >-0.381591</td>\n",
       "                        <td id=\"T_14047_row3_col10\" class=\"data row3 col10\" >-0.063340</td>\n",
       "                        <td id=\"T_14047_row3_col11\" class=\"data row3 col11\" >0.044921</td>\n",
       "            </tr>\n",
       "            <tr>\n",
       "                        <th id=\"T_14047_level0_row4\" class=\"row_heading level0 row4\" >living_to_total</th>\n",
       "                        <td id=\"T_14047_row4_col0\" class=\"data row4 col0\" >-0.252512</td>\n",
       "                        <td id=\"T_14047_row4_col1\" class=\"data row4 col1\" >-0.382677</td>\n",
       "                        <td id=\"T_14047_row4_col2\" class=\"data row4 col2\" >0.576411</td>\n",
       "                        <td id=\"T_14047_row4_col3\" class=\"data row4 col3\" >-0.499058</td>\n",
       "                        <td id=\"T_14047_row4_col4\" class=\"data row4 col4\" >1.000000</td>\n",
       "                        <td id=\"T_14047_row4_col5\" class=\"data row4 col5\" >0.059653</td>\n",
       "                        <td id=\"T_14047_row4_col6\" class=\"data row4 col6\" >-0.024670</td>\n",
       "                        <td id=\"T_14047_row4_col7\" class=\"data row4 col7\" >-0.019940</td>\n",
       "                        <td id=\"T_14047_row4_col8\" class=\"data row4 col8\" >-0.274333</td>\n",
       "                        <td id=\"T_14047_row4_col9\" class=\"data row4 col9\" >0.197513</td>\n",
       "                        <td id=\"T_14047_row4_col10\" class=\"data row4 col10\" >-0.003383</td>\n",
       "                        <td id=\"T_14047_row4_col11\" class=\"data row4 col11\" >-0.047556</td>\n",
       "            </tr>\n",
       "            <tr>\n",
       "                        <th id=\"T_14047_level0_row5\" class=\"row_heading level0 row5\" >parks_around3000</th>\n",
       "                        <td id=\"T_14047_row5_col0\" class=\"data row5 col0\" >0.277072</td>\n",
       "                        <td id=\"T_14047_row5_col1\" class=\"data row5 col1\" >-0.139885</td>\n",
       "                        <td id=\"T_14047_row5_col2\" class=\"data row5 col2\" >0.084247</td>\n",
       "                        <td id=\"T_14047_row5_col3\" class=\"data row5 col3\" >-0.068937</td>\n",
       "                        <td id=\"T_14047_row5_col4\" class=\"data row5 col4\" >0.059653</td>\n",
       "                        <td id=\"T_14047_row5_col5\" class=\"data row5 col5\" >1.000000</td>\n",
       "                        <td id=\"T_14047_row5_col6\" class=\"data row5 col6\" >0.380187</td>\n",
       "                        <td id=\"T_14047_row5_col7\" class=\"data row5 col7\" >0.266047</td>\n",
       "                        <td id=\"T_14047_row5_col8\" class=\"data row5 col8\" >-0.095593</td>\n",
       "                        <td id=\"T_14047_row5_col9\" class=\"data row5 col9\" >0.119300</td>\n",
       "                        <td id=\"T_14047_row5_col10\" class=\"data row5 col10\" >0.018267</td>\n",
       "                        <td id=\"T_14047_row5_col11\" class=\"data row5 col11\" >0.193218</td>\n",
       "            </tr>\n",
       "            <tr>\n",
       "                        <th id=\"T_14047_level0_row6\" class=\"row_heading level0 row6\" >ponds_around3000</th>\n",
       "                        <td id=\"T_14047_row6_col0\" class=\"data row6 col0\" >0.291179</td>\n",
       "                        <td id=\"T_14047_row6_col1\" class=\"data row6 col1\" >-0.031639</td>\n",
       "                        <td id=\"T_14047_row6_col2\" class=\"data row6 col2\" >0.064537</td>\n",
       "                        <td id=\"T_14047_row6_col3\" class=\"data row6 col3\" >-0.011569</td>\n",
       "                        <td id=\"T_14047_row6_col4\" class=\"data row6 col4\" >-0.024670</td>\n",
       "                        <td id=\"T_14047_row6_col5\" class=\"data row6 col5\" >0.380187</td>\n",
       "                        <td id=\"T_14047_row6_col6\" class=\"data row6 col6\" >1.000000</td>\n",
       "                        <td id=\"T_14047_row6_col7\" class=\"data row6 col7\" >0.294774</td>\n",
       "                        <td id=\"T_14047_row6_col8\" class=\"data row6 col8\" >-0.021433</td>\n",
       "                        <td id=\"T_14047_row6_col9\" class=\"data row6 col9\" >0.146505</td>\n",
       "                        <td id=\"T_14047_row6_col10\" class=\"data row6 col10\" >-0.003050</td>\n",
       "                        <td id=\"T_14047_row6_col11\" class=\"data row6 col11\" >0.178539</td>\n",
       "            </tr>\n",
       "            <tr>\n",
       "                        <th id=\"T_14047_level0_row7\" class=\"row_heading level0 row7\" >last_price</th>\n",
       "                        <td id=\"T_14047_row7_col0\" class=\"data row7 col0\" >0.648779</td>\n",
       "                        <td id=\"T_14047_row7_col1\" class=\"data row7 col1\" >0.169639</td>\n",
       "                        <td id=\"T_14047_row7_col2\" class=\"data row7 col2\" >0.467174</td>\n",
       "                        <td id=\"T_14047_row7_col3\" class=\"data row7 col3\" >-0.137842</td>\n",
       "                        <td id=\"T_14047_row7_col4\" class=\"data row7 col4\" >-0.019940</td>\n",
       "                        <td id=\"T_14047_row7_col5\" class=\"data row7 col5\" >0.266047</td>\n",
       "                        <td id=\"T_14047_row7_col6\" class=\"data row7 col6\" >0.294774</td>\n",
       "                        <td id=\"T_14047_row7_col7\" class=\"data row7 col7\" >1.000000</td>\n",
       "                        <td id=\"T_14047_row7_col8\" class=\"data row7 col8\" >0.120199</td>\n",
       "                        <td id=\"T_14047_row7_col9\" class=\"data row7 col9\" >0.740732</td>\n",
       "                        <td id=\"T_14047_row7_col10\" class=\"data row7 col10\" >0.156318</td>\n",
       "                        <td id=\"T_14047_row7_col11\" class=\"data row7 col11\" >0.338365</td>\n",
       "            </tr>\n",
       "            <tr>\n",
       "                        <th id=\"T_14047_level0_row8\" class=\"row_heading level0 row8\" >floor</th>\n",
       "                        <td id=\"T_14047_row8_col0\" class=\"data row8 col0\" >0.232631</td>\n",
       "                        <td id=\"T_14047_row8_col1\" class=\"data row8 col1\" >0.675547</td>\n",
       "                        <td id=\"T_14047_row8_col2\" class=\"data row8 col2\" >-0.164617</td>\n",
       "                        <td id=\"T_14047_row8_col3\" class=\"data row8 col3\" >0.209768</td>\n",
       "                        <td id=\"T_14047_row8_col4\" class=\"data row8 col4\" >-0.274333</td>\n",
       "                        <td id=\"T_14047_row8_col5\" class=\"data row8 col5\" >-0.095593</td>\n",
       "                        <td id=\"T_14047_row8_col6\" class=\"data row8 col6\" >-0.021433</td>\n",
       "                        <td id=\"T_14047_row8_col7\" class=\"data row8 col7\" >0.120199</td>\n",
       "                        <td id=\"T_14047_row8_col8\" class=\"data row8 col8\" >1.000000</td>\n",
       "                        <td id=\"T_14047_row8_col9\" class=\"data row8 col9\" >-0.024163</td>\n",
       "                        <td id=\"T_14047_row8_col10\" class=\"data row8 col10\" >0.036771</td>\n",
       "                        <td id=\"T_14047_row8_col11\" class=\"data row8 col11\" >-0.055711</td>\n",
       "            </tr>\n",
       "            <tr>\n",
       "                        <th id=\"T_14047_level0_row9\" class=\"row_heading level0 row9\" >total_area</th>\n",
       "                        <td id=\"T_14047_row9_col0\" class=\"data row9 col0\" >0.017240</td>\n",
       "                        <td id=\"T_14047_row9_col1\" class=\"data row9 col1\" >-0.021240</td>\n",
       "                        <td id=\"T_14047_row9_col2\" class=\"data row9 col2\" >0.797549</td>\n",
       "                        <td id=\"T_14047_row9_col3\" class=\"data row9 col3\" >-0.381591</td>\n",
       "                        <td id=\"T_14047_row9_col4\" class=\"data row9 col4\" >0.197513</td>\n",
       "                        <td id=\"T_14047_row9_col5\" class=\"data row9 col5\" >0.119300</td>\n",
       "                        <td id=\"T_14047_row9_col6\" class=\"data row9 col6\" >0.146505</td>\n",
       "                        <td id=\"T_14047_row9_col7\" class=\"data row9 col7\" >0.740732</td>\n",
       "                        <td id=\"T_14047_row9_col8\" class=\"data row9 col8\" >-0.024163</td>\n",
       "                        <td id=\"T_14047_row9_col9\" class=\"data row9 col9\" >1.000000</td>\n",
       "                        <td id=\"T_14047_row9_col10\" class=\"data row9 col10\" >0.103134</td>\n",
       "                        <td id=\"T_14047_row9_col11\" class=\"data row9 col11\" >0.301012</td>\n",
       "            </tr>\n",
       "            <tr>\n",
       "                        <th id=\"T_14047_level0_row10\" class=\"row_heading level0 row10\" >total_images</th>\n",
       "                        <td id=\"T_14047_row10_col0\" class=\"data row10 col0\" >0.127300</td>\n",
       "                        <td id=\"T_14047_row10_col1\" class=\"data row10 col1\" >0.019892</td>\n",
       "                        <td id=\"T_14047_row10_col2\" class=\"data row10 col2\" >0.079350</td>\n",
       "                        <td id=\"T_14047_row10_col3\" class=\"data row10 col3\" >-0.063340</td>\n",
       "                        <td id=\"T_14047_row10_col4\" class=\"data row10 col4\" >-0.003383</td>\n",
       "                        <td id=\"T_14047_row10_col5\" class=\"data row10 col5\" >0.018267</td>\n",
       "                        <td id=\"T_14047_row10_col6\" class=\"data row10 col6\" >-0.003050</td>\n",
       "                        <td id=\"T_14047_row10_col7\" class=\"data row10 col7\" >0.156318</td>\n",
       "                        <td id=\"T_14047_row10_col8\" class=\"data row10 col8\" >0.036771</td>\n",
       "                        <td id=\"T_14047_row10_col9\" class=\"data row10 col9\" >0.103134</td>\n",
       "                        <td id=\"T_14047_row10_col10\" class=\"data row10 col10\" >1.000000</td>\n",
       "                        <td id=\"T_14047_row10_col11\" class=\"data row10 col11\" >-0.011769</td>\n",
       "            </tr>\n",
       "            <tr>\n",
       "                        <th id=\"T_14047_level0_row11\" class=\"row_heading level0 row11\" >ceiling_height</th>\n",
       "                        <td id=\"T_14047_row11_col0\" class=\"data row11 col0\" >0.165305</td>\n",
       "                        <td id=\"T_14047_row11_col1\" class=\"data row11 col1\" >-0.082538</td>\n",
       "                        <td id=\"T_14047_row11_col2\" class=\"data row11 col2\" >0.123362</td>\n",
       "                        <td id=\"T_14047_row11_col3\" class=\"data row11 col3\" >0.044921</td>\n",
       "                        <td id=\"T_14047_row11_col4\" class=\"data row11 col4\" >-0.047556</td>\n",
       "                        <td id=\"T_14047_row11_col5\" class=\"data row11 col5\" >0.193218</td>\n",
       "                        <td id=\"T_14047_row11_col6\" class=\"data row11 col6\" >0.178539</td>\n",
       "                        <td id=\"T_14047_row11_col7\" class=\"data row11 col7\" >0.338365</td>\n",
       "                        <td id=\"T_14047_row11_col8\" class=\"data row11 col8\" >-0.055711</td>\n",
       "                        <td id=\"T_14047_row11_col9\" class=\"data row11 col9\" >0.301012</td>\n",
       "                        <td id=\"T_14047_row11_col10\" class=\"data row11 col10\" >-0.011769</td>\n",
       "                        <td id=\"T_14047_row11_col11\" class=\"data row11 col11\" >1.000000</td>\n",
       "            </tr>\n",
       "    </tbody></table>"
      ],
      "text/plain": [
       "<pandas.io.formats.style.Styler at 0x7f3c86343c70>"
      ]
     },
     "execution_count": 71,
     "metadata": {},
     "output_type": "execute_result"
    }
   ],
   "source": [
    "df_factors = df[['square_metre_price','floor_category','floors_total','rooms','kitchen_to_total','living_to_total','parks_around3000','ponds_around3000','last_price','floor','total_area','first_day_exposition','total_images','ceiling_height']]\n",
    "#let's build a matrix of price correlation and factors affecting apartment pricing for all apartments\n",
    "corr = df_factors.corr()\n",
    "\n",
    "corr.style.background_gradient(cmap='coolwarm')\n"
   ]
  },
  {
   "cell_type": "markdown",
   "metadata": {},
   "source": [
    "### Conclusion"
   ]
  },
  {
   "cell_type": "markdown",
   "metadata": {},
   "source": [
    "For apartments in the center, the number of storeys of the building is not as important as for the general array of apartments - perhaps this is due to the peculiarities of typical buildings in Russia, whereas in the center of St. Petersburg, the number of storeys is the same for the main part of the houses.\n",
    "\n",
    "The larger the share of the kitchen in the total area of the apartment, the higher the price for it, and an increase in the share of living space to the total area of the apartment negatively affects its price.\n",
    "\n",
    "The presence of parks and ponds within a radius of 3 km has a much stronger impact on apartments in the center than in the whole data set. The effect of the number of rooms on the total cost of the apartment is the same for both groups."
   ]
  },
  {
   "cell_type": "markdown",
   "metadata": {},
   "source": [
    "## General conclusion"
   ]
  },
  {
   "cell_type": "markdown",
   "metadata": {},
   "source": [
    "Most of all, the cost of apartments is influenced by such factors as the number of rooms, the total area of the apartment, the kitchen area, ceiling height.\n",
    "\n",
    "There is a pattern between the price per sq. m. and the date of placement of the ad: on weekends, prices in publications are lower.\n",
    "\n",
    "At the same time, there are features for apartments in the center that should be taken into account when building a model.\n",
    "\n",
    "For apartments in the center, their location is no longer important: apartments on the \"border\" of the central zone cost the same as apartments located in its center. For apartments in the center, the fact that there are ponds or parks nearby, the ceiling height plays a much greater importance than in the whole data set."
   ]
  }
 ],
 "metadata": {
  "ExecuteTimeLog": [
   {
    "duration": 89,
    "start_time": "2021-11-06T13:05:16.330Z"
   },
   {
    "duration": 702,
    "start_time": "2021-11-06T13:05:22.741Z"
   },
   {
    "duration": 74,
    "start_time": "2021-11-06T13:05:38.817Z"
   },
   {
    "duration": 90,
    "start_time": "2021-11-06T13:05:59.733Z"
   },
   {
    "duration": 66,
    "start_time": "2021-11-06T13:06:18.959Z"
   },
   {
    "duration": 64,
    "start_time": "2021-11-06T13:06:39.198Z"
   },
   {
    "duration": 1813,
    "start_time": "2021-11-06T13:12:01.490Z"
   },
   {
    "duration": 68,
    "start_time": "2021-11-06T13:12:11.838Z"
   },
   {
    "duration": 84,
    "start_time": "2021-11-06T13:12:28.854Z"
   },
   {
    "duration": 67,
    "start_time": "2021-11-06T13:13:46.189Z"
   },
   {
    "duration": 86,
    "start_time": "2021-11-06T13:13:55.377Z"
   },
   {
    "duration": 102,
    "start_time": "2021-11-06T13:14:14.684Z"
   },
   {
    "duration": 98,
    "start_time": "2021-11-06T13:14:50.619Z"
   },
   {
    "duration": 94,
    "start_time": "2021-11-06T13:16:05.447Z"
   },
   {
    "duration": 111,
    "start_time": "2021-11-06T13:16:10.109Z"
   },
   {
    "duration": 86,
    "start_time": "2021-11-06T13:16:19.058Z"
   },
   {
    "duration": 79,
    "start_time": "2021-11-06T13:16:26.162Z"
   },
   {
    "duration": 104,
    "start_time": "2021-11-06T13:16:33.159Z"
   },
   {
    "duration": 67,
    "start_time": "2021-11-06T13:19:45.055Z"
   },
   {
    "duration": 138,
    "start_time": "2021-11-06T13:20:09.521Z"
   },
   {
    "duration": 84,
    "start_time": "2021-11-06T13:20:17.134Z"
   },
   {
    "duration": 62,
    "start_time": "2021-11-06T13:20:21.824Z"
   },
   {
    "duration": 62,
    "start_time": "2021-11-06T13:20:23.741Z"
   },
   {
    "duration": 63,
    "start_time": "2021-11-06T13:20:29.477Z"
   },
   {
    "duration": 83,
    "start_time": "2021-11-06T13:20:40.478Z"
   },
   {
    "duration": 86,
    "start_time": "2021-11-06T13:20:46.201Z"
   },
   {
    "duration": 81,
    "start_time": "2021-11-06T13:21:51.680Z"
   },
   {
    "duration": 61,
    "start_time": "2021-11-06T13:21:56.499Z"
   },
   {
    "duration": 88,
    "start_time": "2021-11-06T13:22:01.951Z"
   },
   {
    "duration": 100,
    "start_time": "2021-11-06T13:22:08.919Z"
   },
   {
    "duration": 89,
    "start_time": "2021-11-06T13:22:32.455Z"
   },
   {
    "duration": 91,
    "start_time": "2021-11-06T13:22:49.274Z"
   },
   {
    "duration": 7,
    "start_time": "2021-11-06T13:23:02.375Z"
   },
   {
    "duration": 84,
    "start_time": "2021-11-06T13:23:05.409Z"
   },
   {
    "duration": 155,
    "start_time": "2021-11-06T13:23:59.596Z"
   },
   {
    "duration": -239,
    "start_time": "2021-11-06T13:23:59.995Z"
   },
   {
    "duration": 85,
    "start_time": "2021-11-06T13:24:05.619Z"
   },
   {
    "duration": 723,
    "start_time": "2021-11-06T13:25:54.274Z"
   },
   {
    "duration": 26,
    "start_time": "2021-11-06T13:25:56.615Z"
   },
   {
    "duration": 73,
    "start_time": "2021-11-06T13:28:12.198Z"
   },
   {
    "duration": 26,
    "start_time": "2021-11-06T13:28:14.481Z"
   },
   {
    "duration": 26,
    "start_time": "2021-11-06T13:40:27.863Z"
   },
   {
    "duration": 12,
    "start_time": "2021-11-06T13:41:52.516Z"
   },
   {
    "duration": 11,
    "start_time": "2021-11-06T13:42:14.753Z"
   },
   {
    "duration": 79,
    "start_time": "2021-11-06T13:43:25.826Z"
   },
   {
    "duration": 37,
    "start_time": "2021-11-06T13:46:41.452Z"
   },
   {
    "duration": 5,
    "start_time": "2021-11-06T13:49:00.070Z"
   },
   {
    "duration": 4,
    "start_time": "2021-11-06T13:49:22.123Z"
   },
   {
    "duration": 4,
    "start_time": "2021-11-06T13:49:32.317Z"
   },
   {
    "duration": 6,
    "start_time": "2021-11-06T13:49:35.176Z"
   },
   {
    "duration": 6,
    "start_time": "2021-11-06T13:50:07.706Z"
   },
   {
    "duration": 5,
    "start_time": "2021-11-06T13:51:14.952Z"
   },
   {
    "duration": 6,
    "start_time": "2021-11-06T13:51:22.633Z"
   },
   {
    "duration": 353,
    "start_time": "2021-11-06T15:18:51.198Z"
   },
   {
    "duration": 4,
    "start_time": "2021-11-06T15:19:17.107Z"
   },
   {
    "duration": 5,
    "start_time": "2021-11-06T15:20:29.413Z"
   },
   {
    "duration": 5,
    "start_time": "2021-11-06T15:22:57.709Z"
   },
   {
    "duration": 702,
    "start_time": "2021-11-06T15:23:18.910Z"
   },
   {
    "duration": 29,
    "start_time": "2021-11-06T15:23:19.614Z"
   },
   {
    "duration": 20,
    "start_time": "2021-11-06T15:23:19.645Z"
   },
   {
    "duration": 10,
    "start_time": "2021-11-06T15:23:19.667Z"
   },
   {
    "duration": 64,
    "start_time": "2021-11-06T15:23:19.678Z"
   },
   {
    "duration": 10,
    "start_time": "2021-11-06T15:23:19.764Z"
   },
   {
    "duration": 5,
    "start_time": "2021-11-06T15:23:19.776Z"
   },
   {
    "duration": 6,
    "start_time": "2021-11-06T15:23:19.783Z"
   },
   {
    "duration": 5,
    "start_time": "2021-11-06T15:23:19.792Z"
   },
   {
    "duration": 100,
    "start_time": "2021-11-06T15:29:34.951Z"
   },
   {
    "duration": 144,
    "start_time": "2021-11-06T15:29:39.549Z"
   },
   {
    "duration": 84,
    "start_time": "2021-11-06T15:30:05.903Z"
   },
   {
    "duration": 80,
    "start_time": "2021-11-06T15:31:05.397Z"
   },
   {
    "duration": 84,
    "start_time": "2021-11-06T15:31:19.802Z"
   },
   {
    "duration": 104,
    "start_time": "2021-11-06T15:31:33.980Z"
   },
   {
    "duration": 87,
    "start_time": "2021-11-06T15:31:46.817Z"
   },
   {
    "duration": 81,
    "start_time": "2021-11-06T15:31:52.538Z"
   },
   {
    "duration": 329,
    "start_time": "2021-11-06T15:32:06.607Z"
   },
   {
    "duration": 91,
    "start_time": "2021-11-06T15:32:20.416Z"
   },
   {
    "duration": 757,
    "start_time": "2021-11-06T15:32:27.466Z"
   },
   {
    "duration": 28,
    "start_time": "2021-11-06T15:32:28.228Z"
   },
   {
    "duration": 11,
    "start_time": "2021-11-06T15:32:28.263Z"
   },
   {
    "duration": 8,
    "start_time": "2021-11-06T15:32:28.276Z"
   },
   {
    "duration": 88,
    "start_time": "2021-11-06T15:32:28.286Z"
   },
   {
    "duration": 8,
    "start_time": "2021-11-06T15:32:28.376Z"
   },
   {
    "duration": 86,
    "start_time": "2021-11-06T15:32:28.387Z"
   },
   {
    "duration": -204,
    "start_time": "2021-11-06T15:32:28.679Z"
   },
   {
    "duration": -204,
    "start_time": "2021-11-06T15:32:28.681Z"
   },
   {
    "duration": 78,
    "start_time": "2021-11-06T15:32:42.408Z"
   },
   {
    "duration": 313,
    "start_time": "2021-11-06T15:32:52.884Z"
   },
   {
    "duration": 242,
    "start_time": "2021-11-06T15:33:06.265Z"
   },
   {
    "duration": 834,
    "start_time": "2021-11-06T15:33:36.146Z"
   },
   {
    "duration": 954,
    "start_time": "2021-11-06T15:34:29.519Z"
   },
   {
    "duration": 6,
    "start_time": "2021-11-06T15:35:20.983Z"
   },
   {
    "duration": 5,
    "start_time": "2021-11-06T15:35:44.477Z"
   },
   {
    "duration": 5,
    "start_time": "2021-11-06T15:35:57.017Z"
   },
   {
    "duration": 6,
    "start_time": "2021-11-06T15:37:43.032Z"
   },
   {
    "duration": 5,
    "start_time": "2021-11-06T15:38:05.580Z"
   },
   {
    "duration": 6,
    "start_time": "2021-11-06T15:38:36.927Z"
   },
   {
    "duration": 5,
    "start_time": "2021-11-06T15:42:57.337Z"
   },
   {
    "duration": 259,
    "start_time": "2021-11-06T15:43:50.834Z"
   },
   {
    "duration": 15,
    "start_time": "2021-11-06T15:44:11.958Z"
   },
   {
    "duration": 9,
    "start_time": "2021-11-06T15:48:46.118Z"
   },
   {
    "duration": 10,
    "start_time": "2021-11-06T15:50:54.870Z"
   },
   {
    "duration": 301,
    "start_time": "2021-11-06T15:54:53.811Z"
   },
   {
    "duration": 272,
    "start_time": "2021-11-06T15:55:05.860Z"
   },
   {
    "duration": 6,
    "start_time": "2021-11-06T15:55:15.033Z"
   },
   {
    "duration": 11,
    "start_time": "2021-11-06T15:55:18.061Z"
   },
   {
    "duration": 259,
    "start_time": "2021-11-06T15:55:22.825Z"
   },
   {
    "duration": 9,
    "start_time": "2021-11-06T15:55:26.974Z"
   },
   {
    "duration": 257,
    "start_time": "2021-11-06T15:56:28.766Z"
   },
   {
    "duration": 213,
    "start_time": "2021-11-06T15:56:34.598Z"
   },
   {
    "duration": 421,
    "start_time": "2021-11-06T15:56:47.470Z"
   },
   {
    "duration": 201,
    "start_time": "2021-11-06T15:56:51.555Z"
   },
   {
    "duration": 82,
    "start_time": "2021-11-06T15:57:51.065Z"
   },
   {
    "duration": 182,
    "start_time": "2021-11-06T15:58:12.709Z"
   },
   {
    "duration": 186,
    "start_time": "2021-11-06T15:58:54.289Z"
   },
   {
    "duration": 186,
    "start_time": "2021-11-06T15:59:00.985Z"
   },
   {
    "duration": 255,
    "start_time": "2021-11-06T15:59:37.758Z"
   },
   {
    "duration": 176,
    "start_time": "2021-11-06T15:59:47.473Z"
   },
   {
    "duration": 619,
    "start_time": "2021-11-06T16:00:37.638Z"
   },
   {
    "duration": 416,
    "start_time": "2021-11-06T16:00:46.287Z"
   },
   {
    "duration": 228,
    "start_time": "2021-11-06T16:00:58.867Z"
   },
   {
    "duration": 197,
    "start_time": "2021-11-06T16:02:01.338Z"
   },
   {
    "duration": 10,
    "start_time": "2021-11-06T16:02:44.501Z"
   },
   {
    "duration": 8,
    "start_time": "2021-11-06T16:02:59.643Z"
   },
   {
    "duration": 8,
    "start_time": "2021-11-06T16:03:38.876Z"
   },
   {
    "duration": 7,
    "start_time": "2021-11-06T16:03:53.917Z"
   },
   {
    "duration": 6,
    "start_time": "2021-11-06T16:21:38.769Z"
   },
   {
    "duration": 7,
    "start_time": "2021-11-06T16:21:47.221Z"
   },
   {
    "duration": 7,
    "start_time": "2021-11-06T16:23:20.886Z"
   },
   {
    "duration": 11,
    "start_time": "2021-11-06T16:28:00.240Z"
   },
   {
    "duration": 46,
    "start_time": "2021-11-06T16:28:13.551Z"
   },
   {
    "duration": 10,
    "start_time": "2021-11-06T16:29:38.797Z"
   },
   {
    "duration": 138,
    "start_time": "2021-11-06T16:41:08.272Z"
   },
   {
    "duration": 79,
    "start_time": "2021-11-06T16:41:13.140Z"
   },
   {
    "duration": 249,
    "start_time": "2021-11-06T16:53:48.473Z"
   },
   {
    "duration": 703,
    "start_time": "2021-11-06T16:57:15.091Z"
   },
   {
    "duration": 28,
    "start_time": "2021-11-06T16:57:15.796Z"
   },
   {
    "duration": 10,
    "start_time": "2021-11-06T16:57:15.826Z"
   },
   {
    "duration": 25,
    "start_time": "2021-11-06T16:57:15.838Z"
   },
   {
    "duration": 68,
    "start_time": "2021-11-06T16:57:15.865Z"
   },
   {
    "duration": 9,
    "start_time": "2021-11-06T16:57:15.935Z"
   },
   {
    "duration": 18,
    "start_time": "2021-11-06T16:57:15.946Z"
   },
   {
    "duration": 6,
    "start_time": "2021-11-06T16:57:15.967Z"
   },
   {
    "duration": 14,
    "start_time": "2021-11-06T16:57:15.975Z"
   },
   {
    "duration": 11,
    "start_time": "2021-11-06T16:57:15.991Z"
   },
   {
    "duration": 194,
    "start_time": "2021-11-06T16:57:16.004Z"
   },
   {
    "duration": 12,
    "start_time": "2021-11-06T16:57:16.200Z"
   },
   {
    "duration": 7,
    "start_time": "2021-11-06T16:57:16.214Z"
   },
   {
    "duration": 5,
    "start_time": "2021-11-06T16:57:16.223Z"
   },
   {
    "duration": 33,
    "start_time": "2021-11-06T16:57:16.230Z"
   },
   {
    "duration": 9,
    "start_time": "2021-11-06T16:57:16.265Z"
   },
   {
    "duration": 365,
    "start_time": "2021-11-06T16:57:16.276Z"
   },
   {
    "duration": 187,
    "start_time": "2021-11-06T17:01:34.204Z"
   },
   {
    "duration": 373,
    "start_time": "2021-11-06T17:01:46.492Z"
   },
   {
    "duration": 255,
    "start_time": "2021-11-06T17:01:52.234Z"
   },
   {
    "duration": 208,
    "start_time": "2021-11-06T17:02:37.805Z"
   },
   {
    "duration": 243,
    "start_time": "2021-11-06T17:03:30.829Z"
   },
   {
    "duration": 215,
    "start_time": "2021-11-06T17:03:36.185Z"
   },
   {
    "duration": 197,
    "start_time": "2021-11-06T17:03:41.679Z"
   },
   {
    "duration": 182,
    "start_time": "2021-11-06T17:03:48.331Z"
   },
   {
    "duration": 24,
    "start_time": "2021-11-06T17:04:24.415Z"
   },
   {
    "duration": 751,
    "start_time": "2021-11-06T17:12:57.788Z"
   },
   {
    "duration": 27,
    "start_time": "2021-11-06T17:12:58.541Z"
   },
   {
    "duration": 13,
    "start_time": "2021-11-06T17:12:58.570Z"
   },
   {
    "duration": 10,
    "start_time": "2021-11-06T17:12:58.585Z"
   },
   {
    "duration": 98,
    "start_time": "2021-11-06T17:12:58.597Z"
   },
   {
    "duration": 11,
    "start_time": "2021-11-06T17:12:58.697Z"
   },
   {
    "duration": 6,
    "start_time": "2021-11-06T17:12:58.709Z"
   },
   {
    "duration": 5,
    "start_time": "2021-11-06T17:12:58.718Z"
   },
   {
    "duration": 10,
    "start_time": "2021-11-06T17:12:58.725Z"
   },
   {
    "duration": 11,
    "start_time": "2021-11-06T17:12:58.764Z"
   },
   {
    "duration": 291,
    "start_time": "2021-11-06T17:12:58.777Z"
   },
   {
    "duration": 215,
    "start_time": "2021-11-06T17:12:59.070Z"
   },
   {
    "duration": 12,
    "start_time": "2021-11-06T17:12:59.287Z"
   },
   {
    "duration": 6,
    "start_time": "2021-11-06T17:12:59.301Z"
   },
   {
    "duration": 7,
    "start_time": "2021-11-06T17:12:59.309Z"
   },
   {
    "duration": 17,
    "start_time": "2021-11-06T17:12:59.318Z"
   },
   {
    "duration": 29,
    "start_time": "2021-11-06T17:12:59.336Z"
   },
   {
    "duration": 12,
    "start_time": "2021-11-06T17:12:59.367Z"
   },
   {
    "duration": 301,
    "start_time": "2021-11-06T17:12:59.380Z"
   },
   {
    "duration": 9,
    "start_time": "2021-11-06T17:18:36.572Z"
   },
   {
    "duration": 763,
    "start_time": "2021-11-06T17:25:30.262Z"
   },
   {
    "duration": 25,
    "start_time": "2021-11-06T17:25:31.028Z"
   },
   {
    "duration": 16,
    "start_time": "2021-11-06T17:25:31.055Z"
   },
   {
    "duration": 8,
    "start_time": "2021-11-06T17:25:31.073Z"
   },
   {
    "duration": 83,
    "start_time": "2021-11-06T17:25:31.083Z"
   },
   {
    "duration": 5,
    "start_time": "2021-11-06T17:25:31.168Z"
   },
   {
    "duration": 22,
    "start_time": "2021-11-06T17:25:31.174Z"
   },
   {
    "duration": 8,
    "start_time": "2021-11-06T17:25:31.199Z"
   },
   {
    "duration": 11,
    "start_time": "2021-11-06T17:25:31.208Z"
   },
   {
    "duration": 8,
    "start_time": "2021-11-06T17:25:31.221Z"
   },
   {
    "duration": 7,
    "start_time": "2021-11-06T17:25:31.231Z"
   },
   {
    "duration": 199,
    "start_time": "2021-11-06T17:25:31.240Z"
   },
   {
    "duration": 209,
    "start_time": "2021-11-06T17:25:31.440Z"
   },
   {
    "duration": 16,
    "start_time": "2021-11-06T17:25:31.650Z"
   },
   {
    "duration": 10,
    "start_time": "2021-11-06T17:25:31.668Z"
   },
   {
    "duration": 8,
    "start_time": "2021-11-06T17:25:31.680Z"
   },
   {
    "duration": 9,
    "start_time": "2021-11-06T17:25:31.689Z"
   },
   {
    "duration": 10,
    "start_time": "2021-11-06T17:25:31.699Z"
   },
   {
    "duration": 296,
    "start_time": "2021-11-06T17:25:31.711Z"
   },
   {
    "duration": -191,
    "start_time": "2021-11-06T17:25:32.199Z"
   },
   {
    "duration": 8,
    "start_time": "2021-11-06T17:27:38.882Z"
   },
   {
    "duration": 9,
    "start_time": "2021-11-06T17:27:49.783Z"
   },
   {
    "duration": 6,
    "start_time": "2021-11-06T17:28:24.667Z"
   },
   {
    "duration": 9,
    "start_time": "2021-11-06T17:28:31.103Z"
   },
   {
    "duration": 290,
    "start_time": "2021-11-06T17:31:37.684Z"
   },
   {
    "duration": 7,
    "start_time": "2021-11-06T17:31:47.021Z"
   },
   {
    "duration": 603,
    "start_time": "2021-11-06T17:34:06.323Z"
   },
   {
    "duration": 294,
    "start_time": "2021-11-06T17:36:04.218Z"
   },
   {
    "duration": 10,
    "start_time": "2021-11-06T17:41:15.563Z"
   },
   {
    "duration": 14,
    "start_time": "2021-11-06T17:41:26.031Z"
   },
   {
    "duration": 24,
    "start_time": "2021-11-06T17:44:35.809Z"
   },
   {
    "duration": 24,
    "start_time": "2021-11-06T17:44:41.083Z"
   },
   {
    "duration": 25,
    "start_time": "2021-11-06T17:44:46.005Z"
   },
   {
    "duration": 28,
    "start_time": "2021-11-06T17:44:48.467Z"
   },
   {
    "duration": 24,
    "start_time": "2021-11-06T17:44:51.789Z"
   },
   {
    "duration": 24,
    "start_time": "2021-11-06T17:44:53.771Z"
   },
   {
    "duration": 24,
    "start_time": "2021-11-06T17:44:55.596Z"
   },
   {
    "duration": 24,
    "start_time": "2021-11-06T17:44:57.727Z"
   },
   {
    "duration": 25,
    "start_time": "2021-11-06T17:45:00.101Z"
   },
   {
    "duration": 721,
    "start_time": "2021-11-06T17:45:18.314Z"
   },
   {
    "duration": 27,
    "start_time": "2021-11-06T17:45:19.037Z"
   },
   {
    "duration": 12,
    "start_time": "2021-11-06T17:45:19.066Z"
   },
   {
    "duration": 9,
    "start_time": "2021-11-06T17:45:19.080Z"
   },
   {
    "duration": 89,
    "start_time": "2021-11-06T17:45:19.091Z"
   },
   {
    "duration": 4,
    "start_time": "2021-11-06T17:45:19.182Z"
   },
   {
    "duration": 9,
    "start_time": "2021-11-06T17:45:19.188Z"
   },
   {
    "duration": 6,
    "start_time": "2021-11-06T17:45:19.199Z"
   },
   {
    "duration": 13,
    "start_time": "2021-11-06T17:45:19.207Z"
   },
   {
    "duration": 8,
    "start_time": "2021-11-06T17:45:19.221Z"
   },
   {
    "duration": 34,
    "start_time": "2021-11-06T17:45:19.231Z"
   },
   {
    "duration": 6,
    "start_time": "2021-11-06T17:45:19.267Z"
   },
   {
    "duration": 8,
    "start_time": "2021-11-06T17:45:19.275Z"
   },
   {
    "duration": 182,
    "start_time": "2021-11-06T17:45:19.285Z"
   },
   {
    "duration": 206,
    "start_time": "2021-11-06T17:45:19.469Z"
   },
   {
    "duration": 7,
    "start_time": "2021-11-06T17:45:19.676Z"
   },
   {
    "duration": 8,
    "start_time": "2021-11-06T17:45:19.685Z"
   },
   {
    "duration": 6,
    "start_time": "2021-11-06T17:45:19.695Z"
   },
   {
    "duration": 8,
    "start_time": "2021-11-06T17:45:19.702Z"
   },
   {
    "duration": 11,
    "start_time": "2021-11-06T17:45:19.711Z"
   },
   {
    "duration": 305,
    "start_time": "2021-11-06T17:45:19.723Z"
   },
   {
    "duration": -174,
    "start_time": "2021-11-06T17:45:20.205Z"
   },
   {
    "duration": 10,
    "start_time": "2021-11-06T17:46:11.224Z"
   },
   {
    "duration": 15,
    "start_time": "2021-11-06T17:46:23.354Z"
   },
   {
    "duration": -165,
    "start_time": "2021-11-06T17:46:46.673Z"
   },
   {
    "duration": 6537,
    "start_time": "2021-11-06T17:47:16.003Z"
   },
   {
    "duration": -165,
    "start_time": "2021-11-06T17:47:28.891Z"
   },
   {
    "duration": 7,
    "start_time": "2021-11-06T17:47:30.677Z"
   },
   {
    "duration": 5,
    "start_time": "2021-11-06T17:47:59.350Z"
   },
   {
    "duration": 6,
    "start_time": "2021-11-06T17:49:12.868Z"
   },
   {
    "duration": 9,
    "start_time": "2021-11-06T17:51:08.410Z"
   },
   {
    "duration": 8,
    "start_time": "2021-11-06T17:56:08.462Z"
   },
   {
    "duration": 10,
    "start_time": "2021-11-06T17:56:11.084Z"
   },
   {
    "duration": 7,
    "start_time": "2021-11-06T17:57:12.836Z"
   },
   {
    "duration": 7,
    "start_time": "2021-11-06T17:57:15.097Z"
   },
   {
    "duration": 8,
    "start_time": "2021-11-06T17:57:40.188Z"
   },
   {
    "duration": 10,
    "start_time": "2021-11-06T17:57:42.500Z"
   },
   {
    "duration": 8,
    "start_time": "2021-11-06T17:59:07.000Z"
   },
   {
    "duration": 14,
    "start_time": "2021-11-06T17:59:11.217Z"
   },
   {
    "duration": 758,
    "start_time": "2021-11-06T20:57:09.634Z"
   },
   {
    "duration": 25,
    "start_time": "2021-11-06T20:57:10.395Z"
   },
   {
    "duration": 10,
    "start_time": "2021-11-06T20:57:10.424Z"
   },
   {
    "duration": 29,
    "start_time": "2021-11-06T20:57:10.435Z"
   },
   {
    "duration": 77,
    "start_time": "2021-11-06T20:57:10.466Z"
   },
   {
    "duration": 4,
    "start_time": "2021-11-06T20:57:10.545Z"
   },
   {
    "duration": 21,
    "start_time": "2021-11-06T20:57:10.551Z"
   },
   {
    "duration": 7,
    "start_time": "2021-11-06T20:57:10.574Z"
   },
   {
    "duration": 11,
    "start_time": "2021-11-06T20:57:10.582Z"
   },
   {
    "duration": 17,
    "start_time": "2021-11-06T20:57:10.595Z"
   },
   {
    "duration": 6,
    "start_time": "2021-11-06T20:57:10.614Z"
   },
   {
    "duration": 9,
    "start_time": "2021-11-06T20:57:10.621Z"
   },
   {
    "duration": 10,
    "start_time": "2021-11-06T20:57:10.632Z"
   },
   {
    "duration": 22,
    "start_time": "2021-11-06T20:57:10.644Z"
   },
   {
    "duration": 9,
    "start_time": "2021-11-06T20:57:10.667Z"
   },
   {
    "duration": 183,
    "start_time": "2021-11-06T20:57:10.677Z"
   },
   {
    "duration": 208,
    "start_time": "2021-11-06T20:57:10.861Z"
   },
   {
    "duration": 7,
    "start_time": "2021-11-06T20:57:11.071Z"
   },
   {
    "duration": 8,
    "start_time": "2021-11-06T20:57:11.080Z"
   },
   {
    "duration": 6,
    "start_time": "2021-11-06T20:57:11.090Z"
   },
   {
    "duration": 5,
    "start_time": "2021-11-06T20:57:11.098Z"
   },
   {
    "duration": 11,
    "start_time": "2021-11-06T20:57:11.106Z"
   },
   {
    "duration": 306,
    "start_time": "2021-11-06T20:57:11.119Z"
   },
   {
    "duration": -122,
    "start_time": "2021-11-06T20:57:11.549Z"
   },
   {
    "duration": 9,
    "start_time": "2021-11-06T20:58:05.365Z"
   },
   {
    "duration": 7,
    "start_time": "2021-11-06T20:58:09.654Z"
   },
   {
    "duration": 10,
    "start_time": "2021-11-06T20:58:12.219Z"
   },
   {
    "duration": 5,
    "start_time": "2021-11-06T21:04:50.906Z"
   },
   {
    "duration": 236,
    "start_time": "2021-11-06T21:06:18.207Z"
   },
   {
    "duration": 70,
    "start_time": "2021-11-06T21:06:34.601Z"
   },
   {
    "duration": 59,
    "start_time": "2021-11-06T21:12:52.821Z"
   },
   {
    "duration": 6765,
    "start_time": "2021-11-06T21:23:22.862Z"
   },
   {
    "duration": 5896,
    "start_time": "2021-11-06T21:23:33.084Z"
   },
   {
    "duration": 528,
    "start_time": "2021-11-06T21:23:55.242Z"
   },
   {
    "duration": 2641,
    "start_time": "2021-11-06T21:33:32.836Z"
   },
   {
    "duration": 86,
    "start_time": "2021-11-06T21:34:04.397Z"
   },
   {
    "duration": 16,
    "start_time": "2021-11-06T21:34:27.085Z"
   },
   {
    "duration": 24,
    "start_time": "2021-11-06T21:34:38.320Z"
   },
   {
    "duration": 25,
    "start_time": "2021-11-06T21:36:28.900Z"
   },
   {
    "duration": 27,
    "start_time": "2021-11-06T21:36:40.389Z"
   },
   {
    "duration": 23,
    "start_time": "2021-11-06T21:37:29.901Z"
   },
   {
    "duration": 28,
    "start_time": "2021-11-06T21:37:53.483Z"
   },
   {
    "duration": 233,
    "start_time": "2021-11-06T21:39:05.901Z"
   },
   {
    "duration": 30,
    "start_time": "2021-11-06T21:39:09.820Z"
   },
   {
    "duration": 254,
    "start_time": "2021-11-06T21:40:24.248Z"
   },
   {
    "duration": 247,
    "start_time": "2021-11-06T21:40:29.301Z"
   },
   {
    "duration": 273,
    "start_time": "2021-11-06T21:41:04.167Z"
   },
   {
    "duration": 239,
    "start_time": "2021-11-06T21:41:17.632Z"
   },
   {
    "duration": 10,
    "start_time": "2021-11-06T21:41:40.265Z"
   },
   {
    "duration": 232,
    "start_time": "2021-11-06T21:42:54.420Z"
   },
   {
    "duration": 769,
    "start_time": "2021-11-06T21:43:12.226Z"
   },
   {
    "duration": 26,
    "start_time": "2021-11-06T21:43:12.997Z"
   },
   {
    "duration": 10,
    "start_time": "2021-11-06T21:43:13.026Z"
   },
   {
    "duration": 27,
    "start_time": "2021-11-06T21:43:13.038Z"
   },
   {
    "duration": 5,
    "start_time": "2021-11-06T21:43:13.067Z"
   },
   {
    "duration": 108,
    "start_time": "2021-11-06T21:43:13.074Z"
   },
   {
    "duration": 5,
    "start_time": "2021-11-06T21:43:13.184Z"
   },
   {
    "duration": 9,
    "start_time": "2021-11-06T21:43:13.192Z"
   },
   {
    "duration": 14,
    "start_time": "2021-11-06T21:43:13.203Z"
   },
   {
    "duration": 19,
    "start_time": "2021-11-06T21:43:13.218Z"
   },
   {
    "duration": 28,
    "start_time": "2021-11-06T21:43:13.239Z"
   },
   {
    "duration": 7,
    "start_time": "2021-11-06T21:43:13.269Z"
   },
   {
    "duration": 11,
    "start_time": "2021-11-06T21:43:13.278Z"
   },
   {
    "duration": 14,
    "start_time": "2021-11-06T21:43:13.290Z"
   },
   {
    "duration": 13,
    "start_time": "2021-11-06T21:43:13.306Z"
   },
   {
    "duration": 18,
    "start_time": "2021-11-06T21:43:13.320Z"
   },
   {
    "duration": 184,
    "start_time": "2021-11-06T21:43:13.340Z"
   },
   {
    "duration": 212,
    "start_time": "2021-11-06T21:43:13.526Z"
   },
   {
    "duration": 8,
    "start_time": "2021-11-06T21:43:13.740Z"
   },
   {
    "duration": 20,
    "start_time": "2021-11-06T21:43:13.750Z"
   },
   {
    "duration": 6,
    "start_time": "2021-11-06T21:43:13.772Z"
   },
   {
    "duration": 16,
    "start_time": "2021-11-06T21:43:13.780Z"
   },
   {
    "duration": 12,
    "start_time": "2021-11-06T21:43:13.799Z"
   },
   {
    "duration": 82,
    "start_time": "2021-11-06T21:43:13.813Z"
   },
   {
    "duration": 88,
    "start_time": "2021-11-06T21:43:13.897Z"
   },
   {
    "duration": 353,
    "start_time": "2021-11-06T21:43:13.987Z"
   },
   {
    "duration": -98,
    "start_time": "2021-11-06T21:43:14.440Z"
   },
   {
    "duration": -100,
    "start_time": "2021-11-06T21:43:14.443Z"
   },
   {
    "duration": -101,
    "start_time": "2021-11-06T21:43:14.445Z"
   },
   {
    "duration": -103,
    "start_time": "2021-11-06T21:43:14.448Z"
   },
   {
    "duration": -104,
    "start_time": "2021-11-06T21:43:14.450Z"
   },
   {
    "duration": -106,
    "start_time": "2021-11-06T21:43:14.453Z"
   },
   {
    "duration": -109,
    "start_time": "2021-11-06T21:43:14.457Z"
   },
   {
    "duration": 23,
    "start_time": "2021-11-06T21:43:28.549Z"
   },
   {
    "duration": 11,
    "start_time": "2021-11-06T21:43:42.108Z"
   },
   {
    "duration": 263,
    "start_time": "2021-11-06T21:43:45.116Z"
   },
   {
    "duration": 23,
    "start_time": "2021-11-06T21:44:19.882Z"
   },
   {
    "duration": 6,
    "start_time": "2021-11-06T21:48:23.209Z"
   },
   {
    "duration": 22,
    "start_time": "2021-11-06T21:48:25.238Z"
   },
   {
    "duration": 6223,
    "start_time": "2021-11-06T21:50:18.247Z"
   },
   {
    "duration": 20,
    "start_time": "2021-11-06T21:50:35.482Z"
   },
   {
    "duration": 16,
    "start_time": "2021-11-06T21:50:48.009Z"
   },
   {
    "duration": 13,
    "start_time": "2021-11-06T21:50:56.113Z"
   },
   {
    "duration": 13,
    "start_time": "2021-11-06T21:51:10.466Z"
   },
   {
    "duration": 16,
    "start_time": "2021-11-06T21:51:19.776Z"
   },
   {
    "duration": 20,
    "start_time": "2021-11-06T21:55:42.595Z"
   },
   {
    "duration": 430,
    "start_time": "2021-11-06T21:56:08.075Z"
   },
   {
    "duration": 22,
    "start_time": "2021-11-06T21:56:45.562Z"
   },
   {
    "duration": 9,
    "start_time": "2021-11-06T21:56:59.901Z"
   },
   {
    "duration": 12,
    "start_time": "2021-11-06T22:00:58.602Z"
   },
   {
    "duration": 18,
    "start_time": "2021-11-06T22:01:13.763Z"
   },
   {
    "duration": 226,
    "start_time": "2021-11-06T22:02:24.416Z"
   },
   {
    "duration": 10,
    "start_time": "2021-11-06T22:02:38.656Z"
   },
   {
    "duration": 841,
    "start_time": "2021-11-06T22:02:40.946Z"
   },
   {
    "duration": 759,
    "start_time": "2021-11-06T22:04:18.860Z"
   },
   {
    "duration": 27,
    "start_time": "2021-11-06T22:04:19.621Z"
   },
   {
    "duration": 15,
    "start_time": "2021-11-06T22:04:19.650Z"
   },
   {
    "duration": 10,
    "start_time": "2021-11-06T22:04:19.667Z"
   },
   {
    "duration": 6,
    "start_time": "2021-11-06T22:04:19.678Z"
   },
   {
    "duration": 87,
    "start_time": "2021-11-06T22:04:19.685Z"
   },
   {
    "duration": 10,
    "start_time": "2021-11-06T22:04:19.774Z"
   },
   {
    "duration": 4,
    "start_time": "2021-11-06T22:04:19.787Z"
   },
   {
    "duration": 8,
    "start_time": "2021-11-06T22:04:19.794Z"
   },
   {
    "duration": 8,
    "start_time": "2021-11-06T22:04:19.804Z"
   },
   {
    "duration": 11,
    "start_time": "2021-11-06T22:04:19.814Z"
   },
   {
    "duration": 44,
    "start_time": "2021-11-06T22:04:19.827Z"
   },
   {
    "duration": 8,
    "start_time": "2021-11-06T22:04:19.874Z"
   },
   {
    "duration": 6,
    "start_time": "2021-11-06T22:04:19.884Z"
   },
   {
    "duration": 6,
    "start_time": "2021-11-06T22:04:19.892Z"
   },
   {
    "duration": 13,
    "start_time": "2021-11-06T22:04:19.900Z"
   },
   {
    "duration": 8,
    "start_time": "2021-11-06T22:04:19.915Z"
   },
   {
    "duration": 239,
    "start_time": "2021-11-06T22:04:19.925Z"
   },
   {
    "duration": 230,
    "start_time": "2021-11-06T22:04:20.166Z"
   },
   {
    "duration": 8,
    "start_time": "2021-11-06T22:04:20.397Z"
   },
   {
    "duration": 14,
    "start_time": "2021-11-06T22:04:20.406Z"
   },
   {
    "duration": 9,
    "start_time": "2021-11-06T22:04:20.422Z"
   },
   {
    "duration": 9,
    "start_time": "2021-11-06T22:04:20.434Z"
   },
   {
    "duration": 26,
    "start_time": "2021-11-06T22:04:20.446Z"
   },
   {
    "duration": 89,
    "start_time": "2021-11-06T22:04:20.474Z"
   },
   {
    "duration": 99,
    "start_time": "2021-11-06T22:04:20.565Z"
   },
   {
    "duration": 22,
    "start_time": "2021-11-06T22:04:20.666Z"
   },
   {
    "duration": 7,
    "start_time": "2021-11-06T22:04:20.690Z"
   },
   {
    "duration": 338,
    "start_time": "2021-11-06T22:04:20.698Z"
   },
   {
    "duration": -108,
    "start_time": "2021-11-06T22:04:21.147Z"
   },
   {
    "duration": -120,
    "start_time": "2021-11-06T22:04:21.160Z"
   },
   {
    "duration": -125,
    "start_time": "2021-11-06T22:04:21.167Z"
   },
   {
    "duration": -133,
    "start_time": "2021-11-06T22:04:21.176Z"
   },
   {
    "duration": -135,
    "start_time": "2021-11-06T22:04:21.180Z"
   },
   {
    "duration": -137,
    "start_time": "2021-11-06T22:04:21.183Z"
   },
   {
    "duration": -152,
    "start_time": "2021-11-06T22:04:21.199Z"
   },
   {
    "duration": 6,
    "start_time": "2021-11-06T22:09:54.420Z"
   },
   {
    "duration": 9,
    "start_time": "2021-11-06T22:10:04.772Z"
   },
   {
    "duration": 15,
    "start_time": "2021-11-06T22:11:02.795Z"
   },
   {
    "duration": 9,
    "start_time": "2021-11-06T22:11:09.044Z"
   },
   {
    "duration": 6,
    "start_time": "2021-11-06T22:14:08.404Z"
   },
   {
    "duration": 9,
    "start_time": "2021-11-06T22:14:14.637Z"
   },
   {
    "duration": 5706,
    "start_time": "2021-11-06T22:23:01.226Z"
   },
   {
    "duration": 1612,
    "start_time": "2021-11-06T22:23:39.271Z"
   },
   {
    "duration": 255,
    "start_time": "2021-11-06T22:23:50.080Z"
   },
   {
    "duration": 15,
    "start_time": "2021-11-06T22:26:24.986Z"
   },
   {
    "duration": 13,
    "start_time": "2021-11-06T22:26:35.209Z"
   },
   {
    "duration": 21,
    "start_time": "2021-11-06T22:27:07.866Z"
   },
   {
    "duration": 81,
    "start_time": "2021-11-06T22:27:59.627Z"
   },
   {
    "duration": 20,
    "start_time": "2021-11-06T22:28:18.771Z"
   },
   {
    "duration": 12,
    "start_time": "2021-11-06T22:28:20.933Z"
   },
   {
    "duration": 19,
    "start_time": "2021-11-06T22:28:34.912Z"
   },
   {
    "duration": 15,
    "start_time": "2021-11-06T22:28:37.295Z"
   },
   {
    "duration": 244,
    "start_time": "2021-11-06T22:31:58.250Z"
   },
   {
    "duration": 851,
    "start_time": "2021-11-06T22:32:57.677Z"
   },
   {
    "duration": 35,
    "start_time": "2021-11-06T22:32:58.530Z"
   },
   {
    "duration": 11,
    "start_time": "2021-11-06T22:32:58.567Z"
   },
   {
    "duration": 9,
    "start_time": "2021-11-06T22:32:58.579Z"
   },
   {
    "duration": 5,
    "start_time": "2021-11-06T22:32:58.589Z"
   },
   {
    "duration": 89,
    "start_time": "2021-11-06T22:32:58.596Z"
   },
   {
    "duration": 16,
    "start_time": "2021-11-06T22:32:58.687Z"
   },
   {
    "duration": 5,
    "start_time": "2021-11-06T22:32:58.705Z"
   },
   {
    "duration": 9,
    "start_time": "2021-11-06T22:32:58.712Z"
   },
   {
    "duration": 7,
    "start_time": "2021-11-06T22:32:58.723Z"
   },
   {
    "duration": 31,
    "start_time": "2021-11-06T22:32:58.732Z"
   },
   {
    "duration": 7,
    "start_time": "2021-11-06T22:32:58.765Z"
   },
   {
    "duration": 7,
    "start_time": "2021-11-06T22:32:58.774Z"
   },
   {
    "duration": 7,
    "start_time": "2021-11-06T22:32:58.783Z"
   },
   {
    "duration": 8,
    "start_time": "2021-11-06T22:32:58.791Z"
   },
   {
    "duration": 445,
    "start_time": "2021-11-06T22:32:58.800Z"
   },
   {
    "duration": -103,
    "start_time": "2021-11-06T22:32:59.350Z"
   },
   {
    "duration": -105,
    "start_time": "2021-11-06T22:32:59.353Z"
   },
   {
    "duration": -107,
    "start_time": "2021-11-06T22:32:59.356Z"
   },
   {
    "duration": -111,
    "start_time": "2021-11-06T22:32:59.361Z"
   },
   {
    "duration": -113,
    "start_time": "2021-11-06T22:32:59.364Z"
   },
   {
    "duration": -116,
    "start_time": "2021-11-06T22:32:59.367Z"
   },
   {
    "duration": -118,
    "start_time": "2021-11-06T22:32:59.370Z"
   },
   {
    "duration": -122,
    "start_time": "2021-11-06T22:32:59.375Z"
   },
   {
    "duration": -127,
    "start_time": "2021-11-06T22:32:59.381Z"
   },
   {
    "duration": -129,
    "start_time": "2021-11-06T22:32:59.384Z"
   },
   {
    "duration": -131,
    "start_time": "2021-11-06T22:32:59.387Z"
   },
   {
    "duration": -139,
    "start_time": "2021-11-06T22:32:59.396Z"
   },
   {
    "duration": -141,
    "start_time": "2021-11-06T22:32:59.399Z"
   },
   {
    "duration": -143,
    "start_time": "2021-11-06T22:32:59.402Z"
   },
   {
    "duration": -145,
    "start_time": "2021-11-06T22:32:59.405Z"
   },
   {
    "duration": -148,
    "start_time": "2021-11-06T22:32:59.409Z"
   },
   {
    "duration": -151,
    "start_time": "2021-11-06T22:32:59.413Z"
   },
   {
    "duration": -152,
    "start_time": "2021-11-06T22:32:59.415Z"
   },
   {
    "duration": -154,
    "start_time": "2021-11-06T22:32:59.418Z"
   },
   {
    "duration": -157,
    "start_time": "2021-11-06T22:32:59.422Z"
   },
   {
    "duration": -161,
    "start_time": "2021-11-06T22:32:59.427Z"
   },
   {
    "duration": 743,
    "start_time": "2021-11-06T22:35:46.457Z"
   },
   {
    "duration": 26,
    "start_time": "2021-11-06T22:35:47.202Z"
   },
   {
    "duration": 11,
    "start_time": "2021-11-06T22:35:47.230Z"
   },
   {
    "duration": 26,
    "start_time": "2021-11-06T22:35:47.243Z"
   },
   {
    "duration": 5,
    "start_time": "2021-11-06T22:35:47.271Z"
   },
   {
    "duration": 72,
    "start_time": "2021-11-06T22:35:47.278Z"
   },
   {
    "duration": 17,
    "start_time": "2021-11-06T22:35:47.352Z"
   },
   {
    "duration": 15,
    "start_time": "2021-11-06T22:35:47.372Z"
   },
   {
    "duration": 4,
    "start_time": "2021-11-06T22:35:47.389Z"
   },
   {
    "duration": 8,
    "start_time": "2021-11-06T22:35:47.395Z"
   },
   {
    "duration": 7,
    "start_time": "2021-11-06T22:35:47.405Z"
   },
   {
    "duration": 9,
    "start_time": "2021-11-06T22:35:47.413Z"
   },
   {
    "duration": 5,
    "start_time": "2021-11-06T22:35:47.424Z"
   },
   {
    "duration": 38,
    "start_time": "2021-11-06T22:35:47.430Z"
   },
   {
    "duration": 7,
    "start_time": "2021-11-06T22:35:47.470Z"
   },
   {
    "duration": 14,
    "start_time": "2021-11-06T22:35:47.479Z"
   },
   {
    "duration": 45,
    "start_time": "2021-11-06T22:35:47.494Z"
   },
   {
    "duration": 23,
    "start_time": "2021-11-06T22:35:47.541Z"
   },
   {
    "duration": 8,
    "start_time": "2021-11-06T22:35:47.566Z"
   },
   {
    "duration": 175,
    "start_time": "2021-11-06T22:35:47.576Z"
   },
   {
    "duration": 212,
    "start_time": "2021-11-06T22:35:47.753Z"
   },
   {
    "duration": 7,
    "start_time": "2021-11-06T22:35:47.966Z"
   },
   {
    "duration": 7,
    "start_time": "2021-11-06T22:35:47.976Z"
   },
   {
    "duration": 6,
    "start_time": "2021-11-06T22:35:47.985Z"
   },
   {
    "duration": 6,
    "start_time": "2021-11-06T22:35:47.992Z"
   },
   {
    "duration": 10,
    "start_time": "2021-11-06T22:35:47.999Z"
   },
   {
    "duration": 99,
    "start_time": "2021-11-06T22:35:48.011Z"
   },
   {
    "duration": 90,
    "start_time": "2021-11-06T22:35:48.112Z"
   },
   {
    "duration": 24,
    "start_time": "2021-11-06T22:35:48.203Z"
   },
   {
    "duration": 332,
    "start_time": "2021-11-06T22:35:48.229Z"
   },
   {
    "duration": -78,
    "start_time": "2021-11-06T22:35:48.640Z"
   },
   {
    "duration": -81,
    "start_time": "2021-11-06T22:35:48.644Z"
   },
   {
    "duration": -89,
    "start_time": "2021-11-06T22:35:48.653Z"
   },
   {
    "duration": -91,
    "start_time": "2021-11-06T22:35:48.656Z"
   },
   {
    "duration": -93,
    "start_time": "2021-11-06T22:35:48.659Z"
   },
   {
    "duration": -101,
    "start_time": "2021-11-06T22:35:48.668Z"
   },
   {
    "duration": -103,
    "start_time": "2021-11-06T22:35:48.671Z"
   },
   {
    "duration": 716,
    "start_time": "2021-11-06T22:36:34.378Z"
   },
   {
    "duration": 25,
    "start_time": "2021-11-06T22:36:35.096Z"
   },
   {
    "duration": 17,
    "start_time": "2021-11-06T22:36:35.123Z"
   },
   {
    "duration": 10,
    "start_time": "2021-11-06T22:36:35.142Z"
   },
   {
    "duration": 13,
    "start_time": "2021-11-06T22:36:35.154Z"
   },
   {
    "duration": 72,
    "start_time": "2021-11-06T22:36:35.169Z"
   },
   {
    "duration": 26,
    "start_time": "2021-11-06T22:36:35.243Z"
   },
   {
    "duration": 14,
    "start_time": "2021-11-06T22:36:35.272Z"
   },
   {
    "duration": 5,
    "start_time": "2021-11-06T22:36:35.288Z"
   },
   {
    "duration": 9,
    "start_time": "2021-11-06T22:36:35.295Z"
   },
   {
    "duration": 10,
    "start_time": "2021-11-06T22:36:35.305Z"
   },
   {
    "duration": 16,
    "start_time": "2021-11-06T22:36:35.316Z"
   },
   {
    "duration": 9,
    "start_time": "2021-11-06T22:36:35.333Z"
   },
   {
    "duration": 23,
    "start_time": "2021-11-06T22:36:35.344Z"
   },
   {
    "duration": 6,
    "start_time": "2021-11-06T22:36:35.368Z"
   },
   {
    "duration": 8,
    "start_time": "2021-11-06T22:36:35.376Z"
   },
   {
    "duration": 42,
    "start_time": "2021-11-06T22:36:35.386Z"
   },
   {
    "duration": 33,
    "start_time": "2021-11-06T22:36:35.430Z"
   },
   {
    "duration": 8,
    "start_time": "2021-11-06T22:36:35.465Z"
   },
   {
    "duration": 172,
    "start_time": "2021-11-06T22:36:35.475Z"
   },
   {
    "duration": 215,
    "start_time": "2021-11-06T22:36:35.648Z"
   },
   {
    "duration": 7,
    "start_time": "2021-11-06T22:36:35.865Z"
   },
   {
    "duration": 12,
    "start_time": "2021-11-06T22:36:35.875Z"
   },
   {
    "duration": 7,
    "start_time": "2021-11-06T22:36:35.889Z"
   },
   {
    "duration": 9,
    "start_time": "2021-11-06T22:36:35.897Z"
   },
   {
    "duration": 9,
    "start_time": "2021-11-06T22:36:35.907Z"
   },
   {
    "duration": 90,
    "start_time": "2021-11-06T22:36:35.918Z"
   },
   {
    "duration": 71,
    "start_time": "2021-11-06T22:36:36.010Z"
   },
   {
    "duration": 96,
    "start_time": "2021-11-06T22:36:36.082Z"
   },
   {
    "duration": 25,
    "start_time": "2021-11-06T22:36:36.181Z"
   },
   {
    "duration": 10,
    "start_time": "2021-11-06T22:36:36.208Z"
   },
   {
    "duration": 386,
    "start_time": "2021-11-06T22:36:36.220Z"
   },
   {
    "duration": -74,
    "start_time": "2021-11-06T22:36:36.682Z"
   },
   {
    "duration": -75,
    "start_time": "2021-11-06T22:36:36.684Z"
   },
   {
    "duration": -79,
    "start_time": "2021-11-06T22:36:36.689Z"
   },
   {
    "duration": -82,
    "start_time": "2021-11-06T22:36:36.693Z"
   },
   {
    "duration": -84,
    "start_time": "2021-11-06T22:36:36.696Z"
   },
   {
    "duration": 261,
    "start_time": "2021-11-06T22:38:11.421Z"
   },
   {
    "duration": 238,
    "start_time": "2021-11-06T22:39:17.449Z"
   },
   {
    "duration": 11,
    "start_time": "2021-11-06T22:39:20.805Z"
   },
   {
    "duration": 10,
    "start_time": "2021-11-06T22:40:46.295Z"
   },
   {
    "duration": 264,
    "start_time": "2021-11-06T22:40:55.367Z"
   },
   {
    "duration": 229,
    "start_time": "2021-11-06T22:40:58.052Z"
   },
   {
    "duration": 22,
    "start_time": "2021-11-06T22:41:08.114Z"
   },
   {
    "duration": 6,
    "start_time": "2021-11-06T22:41:43.867Z"
   },
   {
    "duration": 22,
    "start_time": "2021-11-06T22:41:46.622Z"
   },
   {
    "duration": 244,
    "start_time": "2021-11-06T22:55:54.206Z"
   },
   {
    "duration": 1057,
    "start_time": "2021-11-06T22:56:04.437Z"
   },
   {
    "duration": 14028,
    "start_time": "2021-11-06T22:56:54.493Z"
   },
   {
    "duration": 1634,
    "start_time": "2021-11-06T22:57:15.242Z"
   },
   {
    "duration": 224,
    "start_time": "2021-11-06T22:58:04.493Z"
   },
   {
    "duration": 238,
    "start_time": "2021-11-06T22:59:01.132Z"
   },
   {
    "duration": 466,
    "start_time": "2021-11-06T22:59:04.722Z"
   },
   {
    "duration": 240,
    "start_time": "2021-11-06T22:59:18.290Z"
   },
   {
    "duration": 742,
    "start_time": "2021-11-06T22:59:30.924Z"
   },
   {
    "duration": 899,
    "start_time": "2021-11-06T22:59:41.984Z"
   },
   {
    "duration": 725,
    "start_time": "2021-11-06T23:11:09.847Z"
   },
   {
    "duration": 24,
    "start_time": "2021-11-06T23:11:10.574Z"
   },
   {
    "duration": 12,
    "start_time": "2021-11-06T23:11:10.601Z"
   },
   {
    "duration": 8,
    "start_time": "2021-11-06T23:11:10.615Z"
   },
   {
    "duration": 6,
    "start_time": "2021-11-06T23:11:10.625Z"
   },
   {
    "duration": 88,
    "start_time": "2021-11-06T23:11:10.632Z"
   },
   {
    "duration": 8,
    "start_time": "2021-11-06T23:11:10.722Z"
   },
   {
    "duration": 12,
    "start_time": "2021-11-06T23:11:10.733Z"
   },
   {
    "duration": 18,
    "start_time": "2021-11-06T23:11:10.748Z"
   },
   {
    "duration": 6,
    "start_time": "2021-11-06T23:11:10.768Z"
   },
   {
    "duration": 8,
    "start_time": "2021-11-06T23:11:10.775Z"
   },
   {
    "duration": 7,
    "start_time": "2021-11-06T23:11:10.785Z"
   },
   {
    "duration": 6,
    "start_time": "2021-11-06T23:11:10.793Z"
   },
   {
    "duration": 8,
    "start_time": "2021-11-06T23:11:10.800Z"
   },
   {
    "duration": 12,
    "start_time": "2021-11-06T23:11:10.810Z"
   },
   {
    "duration": 9,
    "start_time": "2021-11-06T23:11:10.824Z"
   },
   {
    "duration": 64,
    "start_time": "2021-11-06T23:11:10.834Z"
   },
   {
    "duration": 16,
    "start_time": "2021-11-06T23:11:10.900Z"
   },
   {
    "duration": 8,
    "start_time": "2021-11-06T23:11:10.917Z"
   },
   {
    "duration": 177,
    "start_time": "2021-11-06T23:11:10.927Z"
   },
   {
    "duration": 200,
    "start_time": "2021-11-06T23:11:11.106Z"
   },
   {
    "duration": 9,
    "start_time": "2021-11-06T23:11:11.308Z"
   },
   {
    "duration": 11,
    "start_time": "2021-11-06T23:11:11.319Z"
   },
   {
    "duration": 6,
    "start_time": "2021-11-06T23:11:11.332Z"
   },
   {
    "duration": 25,
    "start_time": "2021-11-06T23:11:11.340Z"
   },
   {
    "duration": 13,
    "start_time": "2021-11-06T23:11:11.367Z"
   },
   {
    "duration": 66,
    "start_time": "2021-11-06T23:11:11.382Z"
   },
   {
    "duration": 67,
    "start_time": "2021-11-06T23:11:11.464Z"
   },
   {
    "duration": 100,
    "start_time": "2021-11-06T23:11:11.532Z"
   },
   {
    "duration": 40,
    "start_time": "2021-11-06T23:11:11.634Z"
   },
   {
    "duration": 10,
    "start_time": "2021-11-06T23:11:11.676Z"
   },
   {
    "duration": 14,
    "start_time": "2021-11-06T23:11:11.688Z"
   },
   {
    "duration": 8,
    "start_time": "2021-11-06T23:11:11.703Z"
   },
   {
    "duration": 5,
    "start_time": "2021-11-06T23:11:11.713Z"
   },
   {
    "duration": 21,
    "start_time": "2021-11-06T23:11:11.719Z"
   },
   {
    "duration": 24,
    "start_time": "2021-11-06T23:11:11.742Z"
   },
   {
    "duration": 638,
    "start_time": "2021-11-06T23:11:11.768Z"
   },
   {
    "duration": 330,
    "start_time": "2021-11-06T23:11:12.408Z"
   },
   {
    "duration": -83,
    "start_time": "2021-11-06T23:11:12.823Z"
   },
   {
    "duration": 7,
    "start_time": "2021-11-06T23:13:37.514Z"
   },
   {
    "duration": 20,
    "start_time": "2021-11-06T23:13:42.105Z"
   },
   {
    "duration": 13,
    "start_time": "2021-11-06T23:15:10.309Z"
   },
   {
    "duration": 15,
    "start_time": "2021-11-06T23:15:13.699Z"
   },
   {
    "duration": 255,
    "start_time": "2021-11-06T23:15:34.240Z"
   },
   {
    "duration": 7,
    "start_time": "2021-11-06T23:16:55.556Z"
   },
   {
    "duration": 17,
    "start_time": "2021-11-06T23:20:04.407Z"
   },
   {
    "duration": 239,
    "start_time": "2021-11-06T23:20:11.485Z"
   },
   {
    "duration": 740,
    "start_time": "2021-11-06T23:20:18.942Z"
   },
   {
    "duration": 25,
    "start_time": "2021-11-06T23:20:19.684Z"
   },
   {
    "duration": 11,
    "start_time": "2021-11-06T23:20:19.713Z"
   },
   {
    "duration": 8,
    "start_time": "2021-11-06T23:20:19.726Z"
   },
   {
    "duration": 30,
    "start_time": "2021-11-06T23:20:19.736Z"
   },
   {
    "duration": 69,
    "start_time": "2021-11-06T23:20:19.768Z"
   },
   {
    "duration": 30,
    "start_time": "2021-11-06T23:20:19.839Z"
   },
   {
    "duration": 12,
    "start_time": "2021-11-06T23:20:19.871Z"
   },
   {
    "duration": 4,
    "start_time": "2021-11-06T23:20:19.885Z"
   },
   {
    "duration": 7,
    "start_time": "2021-11-06T23:20:19.892Z"
   },
   {
    "duration": 7,
    "start_time": "2021-11-06T23:20:19.901Z"
   },
   {
    "duration": 13,
    "start_time": "2021-11-06T23:20:19.910Z"
   },
   {
    "duration": 6,
    "start_time": "2021-11-06T23:20:19.925Z"
   },
   {
    "duration": 35,
    "start_time": "2021-11-06T23:20:19.933Z"
   },
   {
    "duration": 6,
    "start_time": "2021-11-06T23:20:19.970Z"
   },
   {
    "duration": 9,
    "start_time": "2021-11-06T23:20:19.978Z"
   },
   {
    "duration": 14,
    "start_time": "2021-11-06T23:20:19.989Z"
   },
   {
    "duration": 16,
    "start_time": "2021-11-06T23:20:20.004Z"
   },
   {
    "duration": 14,
    "start_time": "2021-11-06T23:20:20.022Z"
   },
   {
    "duration": 11,
    "start_time": "2021-11-06T23:20:20.038Z"
   },
   {
    "duration": 176,
    "start_time": "2021-11-06T23:20:20.064Z"
   },
   {
    "duration": 205,
    "start_time": "2021-11-06T23:20:20.243Z"
   },
   {
    "duration": 14,
    "start_time": "2021-11-06T23:20:20.450Z"
   },
   {
    "duration": 6,
    "start_time": "2021-11-06T23:20:20.465Z"
   },
   {
    "duration": 11,
    "start_time": "2021-11-06T23:20:20.473Z"
   },
   {
    "duration": 10,
    "start_time": "2021-11-06T23:20:20.485Z"
   },
   {
    "duration": 11,
    "start_time": "2021-11-06T23:20:20.497Z"
   },
   {
    "duration": 74,
    "start_time": "2021-11-06T23:20:20.509Z"
   },
   {
    "duration": 299,
    "start_time": "2021-11-06T23:20:20.585Z"
   },
   {
    "duration": -63,
    "start_time": "2021-11-06T23:20:20.949Z"
   },
   {
    "duration": -68,
    "start_time": "2021-11-06T23:20:20.954Z"
   },
   {
    "duration": -71,
    "start_time": "2021-11-06T23:20:20.958Z"
   },
   {
    "duration": -73,
    "start_time": "2021-11-06T23:20:20.961Z"
   },
   {
    "duration": -75,
    "start_time": "2021-11-06T23:20:20.964Z"
   },
   {
    "duration": -77,
    "start_time": "2021-11-06T23:20:20.967Z"
   },
   {
    "duration": -80,
    "start_time": "2021-11-06T23:20:20.971Z"
   },
   {
    "duration": -82,
    "start_time": "2021-11-06T23:20:20.974Z"
   },
   {
    "duration": -85,
    "start_time": "2021-11-06T23:20:20.977Z"
   },
   {
    "duration": -86,
    "start_time": "2021-11-06T23:20:20.979Z"
   },
   {
    "duration": -88,
    "start_time": "2021-11-06T23:20:20.982Z"
   },
   {
    "duration": -91,
    "start_time": "2021-11-06T23:20:20.986Z"
   },
   {
    "duration": 964,
    "start_time": "2021-11-06T23:21:08.260Z"
   },
   {
    "duration": 26,
    "start_time": "2021-11-06T23:21:09.226Z"
   },
   {
    "duration": 15,
    "start_time": "2021-11-06T23:21:09.254Z"
   },
   {
    "duration": 9,
    "start_time": "2021-11-06T23:21:09.271Z"
   },
   {
    "duration": 5,
    "start_time": "2021-11-06T23:21:09.282Z"
   },
   {
    "duration": 95,
    "start_time": "2021-11-06T23:21:09.289Z"
   },
   {
    "duration": 10,
    "start_time": "2021-11-06T23:21:09.386Z"
   },
   {
    "duration": 15,
    "start_time": "2021-11-06T23:21:09.399Z"
   },
   {
    "duration": 4,
    "start_time": "2021-11-06T23:21:09.416Z"
   },
   {
    "duration": 7,
    "start_time": "2021-11-06T23:21:09.422Z"
   },
   {
    "duration": 38,
    "start_time": "2021-11-06T23:21:09.430Z"
   },
   {
    "duration": 9,
    "start_time": "2021-11-06T23:21:09.470Z"
   },
   {
    "duration": 6,
    "start_time": "2021-11-06T23:21:09.481Z"
   },
   {
    "duration": 7,
    "start_time": "2021-11-06T23:21:09.489Z"
   },
   {
    "duration": 9,
    "start_time": "2021-11-06T23:21:09.498Z"
   },
   {
    "duration": 8,
    "start_time": "2021-11-06T23:21:09.509Z"
   },
   {
    "duration": 10,
    "start_time": "2021-11-06T23:21:09.519Z"
   },
   {
    "duration": 35,
    "start_time": "2021-11-06T23:21:09.531Z"
   },
   {
    "duration": 8,
    "start_time": "2021-11-06T23:21:09.567Z"
   },
   {
    "duration": 8,
    "start_time": "2021-11-06T23:21:09.577Z"
   },
   {
    "duration": 181,
    "start_time": "2021-11-06T23:21:09.587Z"
   },
   {
    "duration": 220,
    "start_time": "2021-11-06T23:21:09.770Z"
   },
   {
    "duration": 8,
    "start_time": "2021-11-06T23:21:09.994Z"
   },
   {
    "duration": 7,
    "start_time": "2021-11-06T23:21:10.005Z"
   },
   {
    "duration": 19,
    "start_time": "2021-11-06T23:21:10.014Z"
   },
   {
    "duration": 28,
    "start_time": "2021-11-06T23:21:10.035Z"
   },
   {
    "duration": 12,
    "start_time": "2021-11-06T23:21:10.066Z"
   },
   {
    "duration": 147,
    "start_time": "2021-11-06T23:21:10.080Z"
   },
   {
    "duration": 149,
    "start_time": "2021-11-06T23:21:10.229Z"
   },
   {
    "duration": 23,
    "start_time": "2021-11-06T23:21:10.380Z"
   },
   {
    "duration": 5,
    "start_time": "2021-11-06T23:21:10.405Z"
   },
   {
    "duration": 14,
    "start_time": "2021-11-06T23:21:10.412Z"
   },
   {
    "duration": 38,
    "start_time": "2021-11-06T23:21:10.428Z"
   },
   {
    "duration": 7,
    "start_time": "2021-11-06T23:21:10.468Z"
   },
   {
    "duration": 7,
    "start_time": "2021-11-06T23:21:10.477Z"
   },
   {
    "duration": 29,
    "start_time": "2021-11-06T23:21:10.485Z"
   },
   {
    "duration": 5,
    "start_time": "2021-11-06T23:21:10.516Z"
   },
   {
    "duration": 667,
    "start_time": "2021-11-06T23:21:10.523Z"
   },
   {
    "duration": 273,
    "start_time": "2021-11-06T23:21:11.192Z"
   },
   {
    "duration": 998,
    "start_time": "2021-11-06T23:21:11.467Z"
   },
   {
    "duration": 381,
    "start_time": "2021-11-06T23:21:50.527Z"
   },
   {
    "duration": 2762,
    "start_time": "2021-11-06T23:21:59.197Z"
   },
   {
    "duration": 383,
    "start_time": "2021-11-06T23:22:11.466Z"
   },
   {
    "duration": 1763,
    "start_time": "2021-11-06T23:22:44.154Z"
   },
   {
    "duration": 989,
    "start_time": "2021-11-06T23:22:52.320Z"
   },
   {
    "duration": 1165,
    "start_time": "2021-11-06T23:22:58.956Z"
   },
   {
    "duration": 1360,
    "start_time": "2021-11-06T23:23:09.326Z"
   },
   {
    "duration": 295,
    "start_time": "2021-11-06T23:24:52.500Z"
   },
   {
    "duration": 1115,
    "start_time": "2021-11-06T23:25:21.863Z"
   },
   {
    "duration": 11,
    "start_time": "2021-11-06T23:26:49.711Z"
   },
   {
    "duration": 15,
    "start_time": "2021-11-06T23:27:38.754Z"
   },
   {
    "duration": 16,
    "start_time": "2021-11-06T23:27:53.217Z"
   },
   {
    "duration": 14,
    "start_time": "2021-11-06T23:28:45.491Z"
   },
   {
    "duration": 13,
    "start_time": "2021-11-06T23:33:43.449Z"
   },
   {
    "duration": 329,
    "start_time": "2021-11-06T23:34:45.948Z"
   },
   {
    "duration": 308,
    "start_time": "2021-11-06T23:40:57.755Z"
   },
   {
    "duration": 325,
    "start_time": "2021-11-06T23:43:31.010Z"
   },
   {
    "duration": 392,
    "start_time": "2021-11-06T23:47:26.959Z"
   },
   {
    "duration": 324,
    "start_time": "2021-11-06T23:47:48.452Z"
   },
   {
    "duration": 309,
    "start_time": "2021-11-06T23:48:56.871Z"
   },
   {
    "duration": 283,
    "start_time": "2021-11-06T23:49:15.106Z"
   },
   {
    "duration": 445,
    "start_time": "2021-11-06T23:52:55.802Z"
   },
   {
    "duration": 287,
    "start_time": "2021-11-06T23:53:09.132Z"
   },
   {
    "duration": 248,
    "start_time": "2021-11-06T23:53:22.978Z"
   },
   {
    "duration": 407,
    "start_time": "2021-11-06T23:53:30.285Z"
   },
   {
    "duration": 808,
    "start_time": "2021-11-07T00:03:41.088Z"
   },
   {
    "duration": 666,
    "start_time": "2021-11-07T00:05:32.735Z"
   },
   {
    "duration": 602,
    "start_time": "2021-11-07T00:05:46.447Z"
   },
   {
    "duration": 644,
    "start_time": "2021-11-07T00:06:01.179Z"
   },
   {
    "duration": 132,
    "start_time": "2021-11-07T00:06:28.990Z"
   },
   {
    "duration": 228,
    "start_time": "2021-11-07T00:06:40.119Z"
   },
   {
    "duration": 136,
    "start_time": "2021-11-07T00:08:04.582Z"
   },
   {
    "duration": 126,
    "start_time": "2021-11-07T00:09:12.814Z"
   },
   {
    "duration": 126,
    "start_time": "2021-11-07T00:09:22.814Z"
   },
   {
    "duration": 125,
    "start_time": "2021-11-07T00:09:54.992Z"
   },
   {
    "duration": 128,
    "start_time": "2021-11-07T00:10:01.702Z"
   },
   {
    "duration": 385,
    "start_time": "2021-11-07T00:12:25.076Z"
   },
   {
    "duration": 380,
    "start_time": "2021-11-07T00:12:49.786Z"
   },
   {
    "duration": 523,
    "start_time": "2021-11-07T00:13:19.463Z"
   },
   {
    "duration": 130,
    "start_time": "2021-11-07T00:15:51.370Z"
   },
   {
    "duration": 138,
    "start_time": "2021-11-07T00:17:34.492Z"
   },
   {
    "duration": 136,
    "start_time": "2021-11-07T00:17:45.777Z"
   },
   {
    "duration": 436,
    "start_time": "2021-11-07T08:49:55.132Z"
   },
   {
    "duration": -281,
    "start_time": "2021-11-07T08:50:44.243Z"
   },
   {
    "duration": -294,
    "start_time": "2021-11-07T08:50:44.258Z"
   },
   {
    "duration": -298,
    "start_time": "2021-11-07T08:50:44.264Z"
   },
   {
    "duration": -306,
    "start_time": "2021-11-07T08:50:44.274Z"
   },
   {
    "duration": -307,
    "start_time": "2021-11-07T08:50:44.278Z"
   },
   {
    "duration": -311,
    "start_time": "2021-11-07T08:50:44.283Z"
   },
   {
    "duration": -320,
    "start_time": "2021-11-07T08:50:44.294Z"
   },
   {
    "duration": -323,
    "start_time": "2021-11-07T08:50:44.299Z"
   },
   {
    "duration": -331,
    "start_time": "2021-11-07T08:50:44.309Z"
   },
   {
    "duration": -335,
    "start_time": "2021-11-07T08:50:44.315Z"
   },
   {
    "duration": -344,
    "start_time": "2021-11-07T08:50:44.326Z"
   },
   {
    "duration": -348,
    "start_time": "2021-11-07T08:50:44.332Z"
   },
   {
    "duration": -357,
    "start_time": "2021-11-07T08:50:44.343Z"
   },
   {
    "duration": -361,
    "start_time": "2021-11-07T08:50:44.349Z"
   },
   {
    "duration": -364,
    "start_time": "2021-11-07T08:50:44.353Z"
   },
   {
    "duration": -368,
    "start_time": "2021-11-07T08:50:44.359Z"
   },
   {
    "duration": -372,
    "start_time": "2021-11-07T08:50:44.365Z"
   },
   {
    "duration": -374,
    "start_time": "2021-11-07T08:50:44.368Z"
   },
   {
    "duration": -396,
    "start_time": "2021-11-07T08:50:44.392Z"
   },
   {
    "duration": -422,
    "start_time": "2021-11-07T08:50:44.419Z"
   },
   {
    "duration": -433,
    "start_time": "2021-11-07T08:50:44.432Z"
   },
   {
    "duration": -441,
    "start_time": "2021-11-07T08:50:44.441Z"
   },
   {
    "duration": -449,
    "start_time": "2021-11-07T08:50:44.451Z"
   },
   {
    "duration": -472,
    "start_time": "2021-11-07T08:50:44.476Z"
   },
   {
    "duration": -416,
    "start_time": "2021-11-07T08:50:44.482Z"
   },
   {
    "duration": -472,
    "start_time": "2021-11-07T08:50:44.540Z"
   },
   {
    "duration": -473,
    "start_time": "2021-11-07T08:50:44.543Z"
   },
   {
    "duration": -517,
    "start_time": "2021-11-07T08:50:44.589Z"
   },
   {
    "duration": -518,
    "start_time": "2021-11-07T08:50:44.592Z"
   },
   {
    "duration": -520,
    "start_time": "2021-11-07T08:50:44.595Z"
   },
   {
    "duration": -537,
    "start_time": "2021-11-07T08:50:44.614Z"
   },
   {
    "duration": -593,
    "start_time": "2021-11-07T08:50:44.671Z"
   },
   {
    "duration": -594,
    "start_time": "2021-11-07T08:50:44.674Z"
   },
   {
    "duration": -594,
    "start_time": "2021-11-07T08:50:44.676Z"
   },
   {
    "duration": -598,
    "start_time": "2021-11-07T08:50:44.682Z"
   },
   {
    "duration": -599,
    "start_time": "2021-11-07T08:50:44.685Z"
   },
   {
    "duration": -600,
    "start_time": "2021-11-07T08:50:44.688Z"
   },
   {
    "duration": -600,
    "start_time": "2021-11-07T08:50:44.690Z"
   },
   {
    "duration": -601,
    "start_time": "2021-11-07T08:50:44.693Z"
   },
   {
    "duration": -604,
    "start_time": "2021-11-07T08:50:44.698Z"
   },
   {
    "duration": -604,
    "start_time": "2021-11-07T08:50:44.701Z"
   },
   {
    "duration": -604,
    "start_time": "2021-11-07T08:50:44.703Z"
   },
   {
    "duration": -547,
    "start_time": "2021-11-07T08:50:44.706Z"
   },
   {
    "duration": -548,
    "start_time": "2021-11-07T08:50:44.709Z"
   },
   {
    "duration": -550,
    "start_time": "2021-11-07T08:50:44.713Z"
   },
   {
    "duration": -551,
    "start_time": "2021-11-07T08:50:44.716Z"
   },
   {
    "duration": 89,
    "start_time": "2021-11-07T08:51:00.172Z"
   },
   {
    "duration": 86,
    "start_time": "2021-11-07T08:51:02.919Z"
   },
   {
    "duration": 392,
    "start_time": "2021-11-07T08:51:11.376Z"
   },
   {
    "duration": 13,
    "start_time": "2021-11-07T08:52:11.366Z"
   },
   {
    "duration": 10,
    "start_time": "2021-11-07T08:52:52.885Z"
   },
   {
    "duration": 402,
    "start_time": "2021-11-07T08:53:08.415Z"
   },
   {
    "duration": 8,
    "start_time": "2021-11-07T08:53:13.434Z"
   },
   {
    "duration": 122,
    "start_time": "2021-11-07T08:53:37.321Z"
   },
   {
    "duration": 9,
    "start_time": "2021-11-07T08:53:43.148Z"
   },
   {
    "duration": 9,
    "start_time": "2021-11-07T08:54:59.318Z"
   },
   {
    "duration": 495,
    "start_time": "2021-11-07T09:00:55.887Z"
   },
   {
    "duration": 616,
    "start_time": "2021-11-07T09:01:03.825Z"
   },
   {
    "duration": 2122,
    "start_time": "2021-11-07T09:01:10.492Z"
   },
   {
    "duration": 16166,
    "start_time": "2021-11-07T09:01:21.096Z"
   },
   {
    "duration": -298,
    "start_time": "2021-11-07T09:02:13.216Z"
   },
   {
    "duration": 23103,
    "start_time": "2021-11-07T09:02:33.513Z"
   },
   {
    "duration": 17,
    "start_time": "2021-11-07T09:03:04.798Z"
   },
   {
    "duration": 19980,
    "start_time": "2021-11-07T09:04:30.036Z"
   },
   {
    "duration": 9,
    "start_time": "2021-11-07T09:05:28.850Z"
   },
   {
    "duration": 15,
    "start_time": "2021-11-07T09:05:37.749Z"
   },
   {
    "duration": 18,
    "start_time": "2021-11-07T09:06:47.086Z"
   },
   {
    "duration": 365,
    "start_time": "2021-11-07T09:08:43.693Z"
   },
   {
    "duration": 438,
    "start_time": "2021-11-07T09:09:25.689Z"
   },
   {
    "duration": 384,
    "start_time": "2021-11-07T09:10:24.815Z"
   },
   {
    "duration": 403,
    "start_time": "2021-11-07T09:10:57.067Z"
   },
   {
    "duration": 9,
    "start_time": "2021-11-07T09:14:42.269Z"
   },
   {
    "duration": 10,
    "start_time": "2021-11-07T09:15:23.216Z"
   },
   {
    "duration": 7,
    "start_time": "2021-11-07T09:15:57.652Z"
   },
   {
    "duration": 520,
    "start_time": "2021-11-07T09:16:24.755Z"
   },
   {
    "duration": 889,
    "start_time": "2021-11-07T09:16:31.709Z"
   },
   {
    "duration": 97,
    "start_time": "2021-11-07T09:18:46.542Z"
   },
   {
    "duration": 378,
    "start_time": "2021-11-07T09:26:08.855Z"
   },
   {
    "duration": 1283,
    "start_time": "2021-11-07T09:26:27.585Z"
   },
   {
    "duration": 415,
    "start_time": "2021-11-07T09:26:36.160Z"
   },
   {
    "duration": 384,
    "start_time": "2021-11-07T09:26:46.236Z"
   },
   {
    "duration": 12,
    "start_time": "2021-11-07T09:27:02.265Z"
   },
   {
    "duration": 396,
    "start_time": "2021-11-07T09:27:15.959Z"
   },
   {
    "duration": 380,
    "start_time": "2021-11-07T09:27:21.177Z"
   },
   {
    "duration": 392,
    "start_time": "2021-11-07T09:27:26.036Z"
   },
   {
    "duration": 37,
    "start_time": "2021-11-07T09:27:30.511Z"
   },
   {
    "duration": 58,
    "start_time": "2021-11-07T09:27:49.437Z"
   },
   {
    "duration": 9,
    "start_time": "2021-11-07T09:28:39.639Z"
   },
   {
    "duration": 9,
    "start_time": "2021-11-07T09:29:40.770Z"
   },
   {
    "duration": 10,
    "start_time": "2021-11-07T09:30:17.732Z"
   },
   {
    "duration": 9,
    "start_time": "2021-11-07T09:30:21.234Z"
   },
   {
    "duration": 119,
    "start_time": "2021-11-07T09:31:13.806Z"
   },
   {
    "duration": 135,
    "start_time": "2021-11-07T09:31:42.455Z"
   },
   {
    "duration": 155,
    "start_time": "2021-11-07T09:31:58.369Z"
   },
   {
    "duration": 8,
    "start_time": "2021-11-07T09:32:05.113Z"
   },
   {
    "duration": 187,
    "start_time": "2021-11-07T09:32:07.154Z"
   },
   {
    "duration": 120,
    "start_time": "2021-11-07T09:32:19.779Z"
   },
   {
    "duration": 12,
    "start_time": "2021-11-07T09:32:28.925Z"
   },
   {
    "duration": 9,
    "start_time": "2021-11-07T09:32:41.062Z"
   },
   {
    "duration": 10,
    "start_time": "2021-11-07T09:32:44.768Z"
   },
   {
    "duration": 11,
    "start_time": "2021-11-07T09:33:45.367Z"
   },
   {
    "duration": 130,
    "start_time": "2021-11-07T09:33:51.382Z"
   },
   {
    "duration": 11,
    "start_time": "2021-11-07T09:33:59.426Z"
   },
   {
    "duration": 7,
    "start_time": "2021-11-07T09:35:11.116Z"
   },
   {
    "duration": 627,
    "start_time": "2021-11-07T09:42:47.508Z"
   },
   {
    "duration": 7,
    "start_time": "2021-11-07T09:43:17.500Z"
   },
   {
    "duration": 5,
    "start_time": "2021-11-07T09:45:17.188Z"
   },
   {
    "duration": 957,
    "start_time": "2021-11-07T09:45:39.078Z"
   },
   {
    "duration": 1808,
    "start_time": "2021-11-07T09:45:51.042Z"
   },
   {
    "duration": 7,
    "start_time": "2021-11-07T09:51:09.978Z"
   },
   {
    "duration": 666,
    "start_time": "2021-11-07T09:53:30.925Z"
   },
   {
    "duration": 18,
    "start_time": "2021-11-07T10:33:48.257Z"
   },
   {
    "duration": 1557,
    "start_time": "2021-11-07T10:33:59.260Z"
   },
   {
    "duration": 45,
    "start_time": "2021-11-07T10:34:00.820Z"
   },
   {
    "duration": 15,
    "start_time": "2021-11-07T10:34:00.868Z"
   },
   {
    "duration": 11,
    "start_time": "2021-11-07T10:34:00.886Z"
   },
   {
    "duration": 7,
    "start_time": "2021-11-07T10:34:00.900Z"
   },
   {
    "duration": 152,
    "start_time": "2021-11-07T10:34:00.909Z"
   },
   {
    "duration": 12,
    "start_time": "2021-11-07T10:34:01.063Z"
   },
   {
    "duration": 19,
    "start_time": "2021-11-07T10:34:01.079Z"
   },
   {
    "duration": 7,
    "start_time": "2021-11-07T10:34:01.102Z"
   },
   {
    "duration": 50,
    "start_time": "2021-11-07T10:34:01.112Z"
   },
   {
    "duration": 11,
    "start_time": "2021-11-07T10:34:01.164Z"
   },
   {
    "duration": 14,
    "start_time": "2021-11-07T10:34:01.178Z"
   },
   {
    "duration": 19,
    "start_time": "2021-11-07T10:34:01.195Z"
   },
   {
    "duration": 44,
    "start_time": "2021-11-07T10:34:01.217Z"
   },
   {
    "duration": 8,
    "start_time": "2021-11-07T10:34:01.263Z"
   },
   {
    "duration": 24,
    "start_time": "2021-11-07T10:34:01.274Z"
   },
   {
    "duration": 34,
    "start_time": "2021-11-07T10:34:01.300Z"
   },
   {
    "duration": 21,
    "start_time": "2021-11-07T10:34:01.336Z"
   },
   {
    "duration": 42,
    "start_time": "2021-11-07T10:34:01.359Z"
   },
   {
    "duration": 23,
    "start_time": "2021-11-07T10:34:01.404Z"
   },
   {
    "duration": 294,
    "start_time": "2021-11-07T10:34:01.430Z"
   },
   {
    "duration": 328,
    "start_time": "2021-11-07T10:34:01.726Z"
   },
   {
    "duration": 11,
    "start_time": "2021-11-07T10:34:02.062Z"
   },
   {
    "duration": 40,
    "start_time": "2021-11-07T10:34:02.076Z"
   },
   {
    "duration": 24,
    "start_time": "2021-11-07T10:34:02.118Z"
   },
   {
    "duration": 34,
    "start_time": "2021-11-07T10:34:02.144Z"
   },
   {
    "duration": 10,
    "start_time": "2021-11-07T10:34:02.180Z"
   },
   {
    "duration": 122,
    "start_time": "2021-11-07T10:34:02.192Z"
   },
   {
    "duration": 147,
    "start_time": "2021-11-07T10:34:02.316Z"
   },
   {
    "duration": 4,
    "start_time": "2021-11-07T10:34:02.466Z"
   },
   {
    "duration": 41,
    "start_time": "2021-11-07T10:34:02.472Z"
   },
   {
    "duration": 11,
    "start_time": "2021-11-07T10:34:02.516Z"
   },
   {
    "duration": 39,
    "start_time": "2021-11-07T10:34:02.529Z"
   },
   {
    "duration": 19,
    "start_time": "2021-11-07T10:34:02.570Z"
   },
   {
    "duration": 10,
    "start_time": "2021-11-07T10:34:02.592Z"
   },
   {
    "duration": 7,
    "start_time": "2021-11-07T10:34:02.605Z"
   },
   {
    "duration": 63,
    "start_time": "2021-11-07T10:34:02.614Z"
   },
   {
    "duration": 5,
    "start_time": "2021-11-07T10:34:02.680Z"
   },
   {
    "duration": 1006,
    "start_time": "2021-11-07T10:34:02.687Z"
   },
   {
    "duration": 10,
    "start_time": "2021-11-07T10:34:03.695Z"
   },
   {
    "duration": 23,
    "start_time": "2021-11-07T10:34:03.707Z"
   },
   {
    "duration": 870,
    "start_time": "2021-11-07T10:34:03.733Z"
   },
   {
    "duration": 11,
    "start_time": "2021-11-07T10:34:04.605Z"
   },
   {
    "duration": 13,
    "start_time": "2021-11-07T10:34:04.618Z"
   },
   {
    "duration": 2078,
    "start_time": "2021-11-07T10:34:04.633Z"
   },
   {
    "duration": 13,
    "start_time": "2021-11-07T10:34:06.713Z"
   },
   {
    "duration": 618,
    "start_time": "2021-11-07T10:34:06.728Z"
   },
   {
    "duration": -271,
    "start_time": "2021-11-07T10:34:07.619Z"
   },
   {
    "duration": -274,
    "start_time": "2021-11-07T10:34:07.624Z"
   },
   {
    "duration": -279,
    "start_time": "2021-11-07T10:34:07.630Z"
   },
   {
    "duration": -284,
    "start_time": "2021-11-07T10:34:07.637Z"
   },
   {
    "duration": -286,
    "start_time": "2021-11-07T10:34:07.640Z"
   },
   {
    "duration": -289,
    "start_time": "2021-11-07T10:34:07.644Z"
   },
   {
    "duration": -293,
    "start_time": "2021-11-07T10:34:07.650Z"
   },
   {
    "duration": 19,
    "start_time": "2021-11-07T10:36:23.635Z"
   },
   {
    "duration": 19,
    "start_time": "2021-11-07T10:36:32.704Z"
   },
   {
    "duration": 426,
    "start_time": "2021-11-07T10:36:42.520Z"
   },
   {
    "duration": 371,
    "start_time": "2021-11-07T10:36:49.057Z"
   },
   {
    "duration": 19,
    "start_time": "2021-11-07T10:36:53.013Z"
   },
   {
    "duration": 18,
    "start_time": "2021-11-07T10:37:48.188Z"
   },
   {
    "duration": 21,
    "start_time": "2021-11-07T10:37:53.633Z"
   },
   {
    "duration": 693,
    "start_time": "2021-11-07T10:47:03.379Z"
   },
   {
    "duration": 626,
    "start_time": "2021-11-07T10:47:33.331Z"
   },
   {
    "duration": 8816,
    "start_time": "2021-11-07T10:49:46.060Z"
   },
   {
    "duration": 695,
    "start_time": "2021-11-07T10:50:23.764Z"
   },
   {
    "duration": 684,
    "start_time": "2021-11-07T10:51:18.514Z"
   },
   {
    "duration": 143,
    "start_time": "2021-11-07T10:52:17.987Z"
   },
   {
    "duration": 702,
    "start_time": "2021-11-07T10:55:44.828Z"
   },
   {
    "duration": 692,
    "start_time": "2021-11-07T10:58:13.305Z"
   },
   {
    "duration": 698,
    "start_time": "2021-11-07T10:58:30.514Z"
   },
   {
    "duration": 1894,
    "start_time": "2021-11-07T11:02:58.635Z"
   },
   {
    "duration": 24,
    "start_time": "2021-11-07T11:06:44.204Z"
   },
   {
    "duration": 19,
    "start_time": "2021-11-07T11:08:01.744Z"
   },
   {
    "duration": 20,
    "start_time": "2021-11-07T11:10:15.031Z"
   },
   {
    "duration": 18,
    "start_time": "2021-11-07T11:10:28.051Z"
   },
   {
    "duration": 21,
    "start_time": "2021-11-07T11:12:48.404Z"
   },
   {
    "duration": 2486,
    "start_time": "2021-11-07T11:17:29.294Z"
   },
   {
    "duration": 676,
    "start_time": "2021-11-07T11:17:58.386Z"
   },
   {
    "duration": 673,
    "start_time": "2021-11-07T11:19:58.715Z"
   },
   {
    "duration": 666,
    "start_time": "2021-11-07T11:20:06.944Z"
   },
   {
    "duration": 569,
    "start_time": "2021-11-07T11:21:04.833Z"
   },
   {
    "duration": 568,
    "start_time": "2021-11-07T11:21:12.439Z"
   },
   {
    "duration": 963,
    "start_time": "2021-11-07T11:21:20.648Z"
   },
   {
    "duration": 556,
    "start_time": "2021-11-07T11:23:22.214Z"
   },
   {
    "duration": 413,
    "start_time": "2021-11-07T11:23:38.833Z"
   },
   {
    "duration": 743,
    "start_time": "2021-11-07T11:24:02.445Z"
   },
   {
    "duration": 901,
    "start_time": "2021-11-07T11:24:18.006Z"
   },
   {
    "duration": 20,
    "start_time": "2021-11-07T11:25:15.040Z"
   },
   {
    "duration": 399,
    "start_time": "2021-11-07T11:25:27.803Z"
   },
   {
    "duration": 24,
    "start_time": "2021-11-07T11:25:44.004Z"
   },
   {
    "duration": 18,
    "start_time": "2021-11-07T11:29:21.179Z"
   },
   {
    "duration": 18,
    "start_time": "2021-11-07T11:29:29.998Z"
   },
   {
    "duration": 388,
    "start_time": "2021-11-07T11:31:20.733Z"
   },
   {
    "duration": 35,
    "start_time": "2021-11-07T11:31:27.616Z"
   },
   {
    "duration": 7,
    "start_time": "2021-11-07T11:31:55.982Z"
   },
   {
    "duration": 8,
    "start_time": "2021-11-07T11:32:52.972Z"
   },
   {
    "duration": 371,
    "start_time": "2021-11-07T11:33:20.973Z"
   },
   {
    "duration": 11,
    "start_time": "2021-11-07T11:33:53.906Z"
   },
   {
    "duration": 115,
    "start_time": "2021-11-07T11:34:39.500Z"
   },
   {
    "duration": 12,
    "start_time": "2021-11-07T11:34:41.802Z"
   },
   {
    "duration": 102,
    "start_time": "2021-11-07T11:34:59.703Z"
   },
   {
    "duration": 115,
    "start_time": "2021-11-07T11:35:12.123Z"
   },
   {
    "duration": 12,
    "start_time": "2021-11-07T11:35:15.012Z"
   },
   {
    "duration": 560,
    "start_time": "2021-11-07T11:41:13.063Z"
   },
   {
    "duration": 379,
    "start_time": "2021-11-07T11:41:25.585Z"
   },
   {
    "duration": 58,
    "start_time": "2021-11-07T11:41:29.536Z"
   },
   {
    "duration": 40,
    "start_time": "2021-11-07T11:41:51.213Z"
   },
   {
    "duration": 25,
    "start_time": "2021-11-07T11:42:06.719Z"
   },
   {
    "duration": 384,
    "start_time": "2021-11-07T11:42:22.819Z"
   },
   {
    "duration": 42,
    "start_time": "2021-11-07T11:42:29.555Z"
   },
   {
    "duration": 357,
    "start_time": "2021-11-07T11:44:53.168Z"
   },
   {
    "duration": 359,
    "start_time": "2021-11-07T11:44:59.238Z"
   },
   {
    "duration": 50,
    "start_time": "2021-11-07T11:45:05.736Z"
   },
   {
    "duration": 40,
    "start_time": "2021-11-07T11:47:04.727Z"
   },
   {
    "duration": 40,
    "start_time": "2021-11-07T11:47:08.118Z"
   },
   {
    "duration": 395,
    "start_time": "2021-11-07T11:47:46.164Z"
   },
   {
    "duration": 44,
    "start_time": "2021-11-07T11:48:01.046Z"
   },
   {
    "duration": 8,
    "start_time": "2021-11-07T11:48:42.290Z"
   },
   {
    "duration": 8,
    "start_time": "2021-11-07T11:48:45.436Z"
   },
   {
    "duration": 11,
    "start_time": "2021-11-07T11:48:48.794Z"
   },
   {
    "duration": 369,
    "start_time": "2021-11-07T11:50:38.544Z"
   },
   {
    "duration": 20,
    "start_time": "2021-11-07T11:51:28.587Z"
   },
   {
    "duration": 17,
    "start_time": "2021-11-07T11:51:48.544Z"
   },
   {
    "duration": 127,
    "start_time": "2021-11-07T11:52:38.556Z"
   },
   {
    "duration": 15,
    "start_time": "2021-11-07T11:52:40.995Z"
   },
   {
    "duration": 11,
    "start_time": "2021-11-07T11:53:09.568Z"
   },
   {
    "duration": 374,
    "start_time": "2021-11-07T11:55:41.657Z"
   },
   {
    "duration": 805,
    "start_time": "2021-11-07T11:55:59.662Z"
   },
   {
    "duration": 11,
    "start_time": "2021-11-07T11:56:12.816Z"
   },
   {
    "duration": 118,
    "start_time": "2021-11-07T11:59:48.524Z"
   },
   {
    "duration": 121,
    "start_time": "2021-11-07T11:59:58.246Z"
   },
   {
    "duration": 388,
    "start_time": "2021-11-07T12:00:04.428Z"
   },
   {
    "duration": 424,
    "start_time": "2021-11-07T12:03:18.390Z"
   },
   {
    "duration": 383,
    "start_time": "2021-11-07T12:06:16.271Z"
   },
   {
    "duration": 446,
    "start_time": "2021-11-07T12:06:31.320Z"
   },
   {
    "duration": 126,
    "start_time": "2021-11-07T12:09:05.788Z"
   },
   {
    "duration": 124,
    "start_time": "2021-11-07T12:10:17.165Z"
   },
   {
    "duration": 12,
    "start_time": "2021-11-07T12:16:23.440Z"
   },
   {
    "duration": 60,
    "start_time": "2021-11-07T12:16:41.658Z"
   },
   {
    "duration": 9,
    "start_time": "2021-11-07T12:16:58.992Z"
   },
   {
    "duration": 373,
    "start_time": "2021-11-07T12:17:04.868Z"
   },
   {
    "duration": 379,
    "start_time": "2021-11-07T12:17:13.484Z"
   },
   {
    "duration": 378,
    "start_time": "2021-11-07T12:17:19.282Z"
   },
   {
    "duration": 422,
    "start_time": "2021-11-07T12:17:22.492Z"
   },
   {
    "duration": 10,
    "start_time": "2021-11-07T12:17:29.019Z"
   },
   {
    "duration": 679,
    "start_time": "2021-11-07T12:19:31.746Z"
   },
   {
    "duration": 364,
    "start_time": "2021-11-07T12:19:53.149Z"
   },
   {
    "duration": 21,
    "start_time": "2021-11-07T12:21:40.948Z"
   },
   {
    "duration": 31,
    "start_time": "2021-11-07T12:22:27.816Z"
   },
   {
    "duration": 1903,
    "start_time": "2021-11-07T13:13:39.014Z"
   },
   {
    "duration": 126,
    "start_time": "2021-11-07T13:15:46.329Z"
   },
   {
    "duration": 426,
    "start_time": "2021-11-07T13:16:06.057Z"
   },
   {
    "duration": 27,
    "start_time": "2021-11-07T13:16:16.832Z"
   },
   {
    "duration": 32,
    "start_time": "2021-11-07T13:16:53.068Z"
   },
   {
    "duration": 33,
    "start_time": "2021-11-07T13:17:11.607Z"
   },
   {
    "duration": 28,
    "start_time": "2021-11-07T13:17:25.572Z"
   },
   {
    "duration": 37,
    "start_time": "2021-11-07T13:18:06.968Z"
   },
   {
    "duration": 51,
    "start_time": "2021-11-07T13:18:22.063Z"
   },
   {
    "duration": 37,
    "start_time": "2021-11-07T13:18:46.617Z"
   },
   {
    "duration": 52,
    "start_time": "2021-11-07T13:19:22.362Z"
   },
   {
    "duration": 30,
    "start_time": "2021-11-07T13:19:33.197Z"
   },
   {
    "duration": 11884,
    "start_time": "2021-11-07T13:21:00.785Z"
   },
   {
    "duration": 11018,
    "start_time": "2021-11-07T13:21:19.205Z"
   },
   {
    "duration": 461,
    "start_time": "2021-11-07T13:23:07.458Z"
   },
   {
    "duration": 11,
    "start_time": "2021-11-07T13:23:14.941Z"
   },
   {
    "duration": 413,
    "start_time": "2021-11-07T13:23:23.727Z"
   },
   {
    "duration": 64,
    "start_time": "2021-11-07T13:23:28.779Z"
   },
   {
    "duration": 23,
    "start_time": "2021-11-07T13:24:27.054Z"
   },
   {
    "duration": 30,
    "start_time": "2021-11-07T13:24:38.537Z"
   },
   {
    "duration": 462,
    "start_time": "2021-11-07T13:25:50.107Z"
   },
   {
    "duration": 30,
    "start_time": "2021-11-07T13:26:09.705Z"
   },
   {
    "duration": 10761,
    "start_time": "2021-11-07T13:27:34.238Z"
   },
   {
    "duration": 387,
    "start_time": "2021-11-07T13:29:33.361Z"
   },
   {
    "duration": 326,
    "start_time": "2021-11-07T13:30:00.682Z"
   },
   {
    "duration": 39,
    "start_time": "2021-11-07T13:30:19.923Z"
   },
   {
    "duration": 27,
    "start_time": "2021-11-07T13:30:35.774Z"
   },
   {
    "duration": 1911,
    "start_time": "2021-11-07T13:30:59.413Z"
   },
   {
    "duration": 48,
    "start_time": "2021-11-07T13:31:01.327Z"
   },
   {
    "duration": 18,
    "start_time": "2021-11-07T13:31:01.378Z"
   },
   {
    "duration": 14,
    "start_time": "2021-11-07T13:31:01.400Z"
   },
   {
    "duration": 44,
    "start_time": "2021-11-07T13:31:01.417Z"
   },
   {
    "duration": 136,
    "start_time": "2021-11-07T13:31:01.465Z"
   },
   {
    "duration": 11,
    "start_time": "2021-11-07T13:31:01.604Z"
   },
   {
    "duration": 43,
    "start_time": "2021-11-07T13:31:01.619Z"
   },
   {
    "duration": 8,
    "start_time": "2021-11-07T13:31:01.667Z"
   },
   {
    "duration": 12,
    "start_time": "2021-11-07T13:31:01.678Z"
   },
   {
    "duration": 35,
    "start_time": "2021-11-07T13:31:01.693Z"
   },
   {
    "duration": 28,
    "start_time": "2021-11-07T13:31:01.731Z"
   },
   {
    "duration": 14,
    "start_time": "2021-11-07T13:31:01.762Z"
   },
   {
    "duration": 8,
    "start_time": "2021-11-07T13:31:01.779Z"
   },
   {
    "duration": 13,
    "start_time": "2021-11-07T13:31:01.789Z"
   },
   {
    "duration": 9,
    "start_time": "2021-11-07T13:31:01.805Z"
   },
   {
    "duration": 44,
    "start_time": "2021-11-07T13:31:01.817Z"
   },
   {
    "duration": 12,
    "start_time": "2021-11-07T13:31:01.864Z"
   },
   {
    "duration": 16,
    "start_time": "2021-11-07T13:31:01.879Z"
   },
   {
    "duration": 23,
    "start_time": "2021-11-07T13:31:01.898Z"
   },
   {
    "duration": 360,
    "start_time": "2021-11-07T13:31:01.923Z"
   },
   {
    "duration": 446,
    "start_time": "2021-11-07T13:31:02.286Z"
   },
   {
    "duration": 9,
    "start_time": "2021-11-07T13:31:02.738Z"
   },
   {
    "duration": 8,
    "start_time": "2021-11-07T13:31:02.761Z"
   },
   {
    "duration": 11,
    "start_time": "2021-11-07T13:31:02.772Z"
   },
   {
    "duration": 12,
    "start_time": "2021-11-07T13:31:02.786Z"
   },
   {
    "duration": 58,
    "start_time": "2021-11-07T13:31:02.801Z"
   },
   {
    "duration": 227,
    "start_time": "2021-11-07T13:31:02.862Z"
   },
   {
    "duration": 15,
    "start_time": "2021-11-07T13:31:03.092Z"
   },
   {
    "duration": 154,
    "start_time": "2021-11-07T13:31:03.109Z"
   },
   {
    "duration": 4,
    "start_time": "2021-11-07T13:31:03.266Z"
   },
   {
    "duration": 33,
    "start_time": "2021-11-07T13:31:03.273Z"
   },
   {
    "duration": 12,
    "start_time": "2021-11-07T13:31:03.309Z"
   },
   {
    "duration": 55,
    "start_time": "2021-11-07T13:31:03.323Z"
   },
   {
    "duration": 15,
    "start_time": "2021-11-07T13:31:03.380Z"
   },
   {
    "duration": 8,
    "start_time": "2021-11-07T13:31:03.398Z"
   },
   {
    "duration": 13,
    "start_time": "2021-11-07T13:31:03.408Z"
   },
   {
    "duration": 59,
    "start_time": "2021-11-07T13:31:03.424Z"
   },
   {
    "duration": 6,
    "start_time": "2021-11-07T13:31:03.486Z"
   },
   {
    "duration": 1209,
    "start_time": "2021-11-07T13:31:03.495Z"
   },
   {
    "duration": 11,
    "start_time": "2021-11-07T13:31:04.706Z"
   },
   {
    "duration": 43,
    "start_time": "2021-11-07T13:31:04.719Z"
   },
   {
    "duration": 1358,
    "start_time": "2021-11-07T13:31:04.765Z"
   },
   {
    "duration": 11,
    "start_time": "2021-11-07T13:31:06.125Z"
   },
   {
    "duration": 28,
    "start_time": "2021-11-07T13:31:06.139Z"
   },
   {
    "duration": 1821,
    "start_time": "2021-11-07T13:31:06.170Z"
   },
   {
    "duration": 12,
    "start_time": "2021-11-07T13:31:07.994Z"
   },
   {
    "duration": 19,
    "start_time": "2021-11-07T13:31:08.009Z"
   },
   {
    "duration": 763,
    "start_time": "2021-11-07T13:31:08.031Z"
   },
   {
    "duration": 1783,
    "start_time": "2021-11-07T13:31:08.797Z"
   },
   {
    "duration": 26,
    "start_time": "2021-11-07T13:31:10.583Z"
   },
   {
    "duration": 21,
    "start_time": "2021-11-07T13:31:10.611Z"
   },
   {
    "duration": 21,
    "start_time": "2021-11-07T13:31:10.660Z"
   },
   {
    "duration": 11,
    "start_time": "2021-11-07T13:31:10.684Z"
   },
   {
    "duration": 66,
    "start_time": "2021-11-07T13:31:10.698Z"
   },
   {
    "duration": 540,
    "start_time": "2021-11-07T13:31:10.767Z"
   },
   {
    "duration": -217,
    "start_time": "2021-11-07T13:31:11.527Z"
   },
   {
    "duration": -221,
    "start_time": "2021-11-07T13:31:11.533Z"
   },
   {
    "duration": -222,
    "start_time": "2021-11-07T13:31:11.537Z"
   },
   {
    "duration": -226,
    "start_time": "2021-11-07T13:31:11.543Z"
   },
   {
    "duration": -233,
    "start_time": "2021-11-07T13:31:11.553Z"
   },
   {
    "duration": -236,
    "start_time": "2021-11-07T13:31:11.558Z"
   },
   {
    "duration": -238,
    "start_time": "2021-11-07T13:31:11.562Z"
   },
   {
    "duration": 10503,
    "start_time": "2021-11-07T13:31:31.029Z"
   },
   {
    "duration": 20,
    "start_time": "2021-11-07T13:33:24.609Z"
   },
   {
    "duration": 28,
    "start_time": "2021-11-07T13:33:30.540Z"
   },
   {
    "duration": 28,
    "start_time": "2021-11-07T13:33:40.069Z"
   },
   {
    "duration": 12,
    "start_time": "2021-11-07T13:33:51.320Z"
   },
   {
    "duration": 16,
    "start_time": "2021-11-07T13:34:07.921Z"
   },
   {
    "duration": 17,
    "start_time": "2021-11-07T13:34:22.080Z"
   },
   {
    "duration": 19,
    "start_time": "2021-11-07T13:35:15.604Z"
   },
   {
    "duration": 28,
    "start_time": "2021-11-07T13:35:25.163Z"
   },
   {
    "duration": 18,
    "start_time": "2021-11-07T13:35:31.386Z"
   },
   {
    "duration": 18,
    "start_time": "2021-11-07T13:35:55.644Z"
   },
   {
    "duration": 16,
    "start_time": "2021-11-07T13:36:31.475Z"
   },
   {
    "duration": 382,
    "start_time": "2021-11-07T13:36:41.488Z"
   },
   {
    "duration": 400,
    "start_time": "2021-11-07T13:36:46.163Z"
   },
   {
    "duration": 412,
    "start_time": "2021-11-07T13:37:52.061Z"
   },
   {
    "duration": 499,
    "start_time": "2021-11-07T13:38:15.321Z"
   },
   {
    "duration": 461,
    "start_time": "2021-11-07T13:40:34.086Z"
   },
   {
    "duration": 657,
    "start_time": "2021-11-07T13:40:43.211Z"
   },
   {
    "duration": 32,
    "start_time": "2021-11-07T13:42:05.842Z"
   },
   {
    "duration": 25,
    "start_time": "2021-11-07T13:42:16.786Z"
   },
   {
    "duration": 30,
    "start_time": "2021-11-07T13:42:31.020Z"
   },
   {
    "duration": 31,
    "start_time": "2021-11-07T13:43:29.724Z"
   },
   {
    "duration": 909,
    "start_time": "2021-11-07T13:46:24.719Z"
   },
   {
    "duration": 124,
    "start_time": "2021-11-07T13:46:53.657Z"
   },
   {
    "duration": 745,
    "start_time": "2021-11-07T13:46:56.092Z"
   },
   {
    "duration": 443,
    "start_time": "2021-11-07T13:49:37.027Z"
   },
   {
    "duration": 448,
    "start_time": "2021-11-07T13:50:11.114Z"
   },
   {
    "duration": 458,
    "start_time": "2021-11-07T13:50:23.759Z"
   },
   {
    "duration": 477,
    "start_time": "2021-11-07T13:50:30.844Z"
   },
   {
    "duration": 457,
    "start_time": "2021-11-07T13:51:57.529Z"
   },
   {
    "duration": 459,
    "start_time": "2021-11-07T13:52:10.493Z"
   },
   {
    "duration": 465,
    "start_time": "2021-11-07T13:52:21.099Z"
   },
   {
    "duration": 447,
    "start_time": "2021-11-07T13:52:36.876Z"
   },
   {
    "duration": 641,
    "start_time": "2021-11-07T13:52:50.241Z"
   },
   {
    "duration": 455,
    "start_time": "2021-11-07T13:52:58.125Z"
   },
   {
    "duration": 441,
    "start_time": "2021-11-07T13:53:26.027Z"
   },
   {
    "duration": 540,
    "start_time": "2021-11-07T13:53:32.291Z"
   },
   {
    "duration": 442,
    "start_time": "2021-11-07T13:55:35.258Z"
   },
   {
    "duration": 464,
    "start_time": "2021-11-07T13:55:45.488Z"
   },
   {
    "duration": 456,
    "start_time": "2021-11-07T13:56:56.303Z"
   },
   {
    "duration": 640,
    "start_time": "2021-11-07T20:17:17.533Z"
   },
   {
    "duration": 18,
    "start_time": "2021-11-07T20:17:24.823Z"
   },
   {
    "duration": 630,
    "start_time": "2021-11-07T20:17:29.333Z"
   },
   {
    "duration": 525,
    "start_time": "2021-11-07T20:17:34.358Z"
   },
   {
    "duration": 644,
    "start_time": "2021-11-07T20:17:37.300Z"
   },
   {
    "duration": 230,
    "start_time": "2021-11-07T20:17:40.991Z"
   },
   {
    "duration": 2183,
    "start_time": "2021-11-07T20:17:44.326Z"
   },
   {
    "duration": 492,
    "start_time": "2021-11-07T20:25:17.045Z"
   },
   {
    "duration": 37,
    "start_time": "2021-11-07T20:47:16.353Z"
   },
   {
    "duration": 1494,
    "start_time": "2021-11-07T20:50:41.701Z"
   },
   {
    "duration": 41,
    "start_time": "2021-11-07T20:50:43.198Z"
   },
   {
    "duration": 29,
    "start_time": "2021-11-07T20:50:43.243Z"
   },
   {
    "duration": 13,
    "start_time": "2021-11-07T20:50:43.276Z"
   },
   {
    "duration": 8,
    "start_time": "2021-11-07T20:50:43.291Z"
   },
   {
    "duration": 131,
    "start_time": "2021-11-07T20:50:43.302Z"
   },
   {
    "duration": 11,
    "start_time": "2021-11-07T20:50:43.435Z"
   },
   {
    "duration": 18,
    "start_time": "2021-11-07T20:50:43.461Z"
   },
   {
    "duration": 6,
    "start_time": "2021-11-07T20:50:43.482Z"
   },
   {
    "duration": 7,
    "start_time": "2021-11-07T20:50:43.490Z"
   },
   {
    "duration": 11,
    "start_time": "2021-11-07T20:50:43.499Z"
   },
   {
    "duration": 47,
    "start_time": "2021-11-07T20:50:43.512Z"
   },
   {
    "duration": 12,
    "start_time": "2021-11-07T20:50:43.562Z"
   },
   {
    "duration": 8,
    "start_time": "2021-11-07T20:50:43.576Z"
   },
   {
    "duration": 10,
    "start_time": "2021-11-07T20:50:43.586Z"
   },
   {
    "duration": 16,
    "start_time": "2021-11-07T20:50:43.598Z"
   },
   {
    "duration": 13,
    "start_time": "2021-11-07T20:50:43.616Z"
   },
   {
    "duration": 36,
    "start_time": "2021-11-07T20:50:43.632Z"
   },
   {
    "duration": 18,
    "start_time": "2021-11-07T20:50:43.670Z"
   },
   {
    "duration": 149,
    "start_time": "2021-11-07T20:50:43.691Z"
   },
   {
    "duration": 20,
    "start_time": "2021-11-07T20:50:43.843Z"
   },
   {
    "duration": 117,
    "start_time": "2021-11-07T20:50:43.866Z"
   },
   {
    "duration": 8,
    "start_time": "2021-11-07T20:50:43.989Z"
   },
   {
    "duration": 25,
    "start_time": "2021-11-07T20:50:44.001Z"
   },
   {
    "duration": 31,
    "start_time": "2021-11-07T20:50:44.028Z"
   },
   {
    "duration": 14,
    "start_time": "2021-11-07T20:50:44.062Z"
   },
   {
    "duration": 15,
    "start_time": "2021-11-07T20:50:44.078Z"
   },
   {
    "duration": 6,
    "start_time": "2021-11-07T20:50:44.095Z"
   },
   {
    "duration": 6,
    "start_time": "2021-11-07T20:50:44.103Z"
   },
   {
    "duration": 1005,
    "start_time": "2021-11-07T20:50:44.111Z"
   },
   {
    "duration": 44,
    "start_time": "2021-11-07T20:50:45.119Z"
   },
   {
    "duration": 7,
    "start_time": "2021-11-07T20:50:45.166Z"
   },
   {
    "duration": 20,
    "start_time": "2021-11-07T20:50:45.176Z"
   },
   {
    "duration": 864,
    "start_time": "2021-11-07T20:50:45.199Z"
   },
   {
    "duration": 10,
    "start_time": "2021-11-07T20:50:46.066Z"
   },
   {
    "duration": 13,
    "start_time": "2021-11-07T20:50:46.078Z"
   },
   {
    "duration": 1859,
    "start_time": "2021-11-07T20:50:46.093Z"
   },
   {
    "duration": 11,
    "start_time": "2021-11-07T20:50:47.959Z"
   },
   {
    "duration": 286,
    "start_time": "2021-11-07T20:50:47.973Z"
   },
   {
    "duration": 11,
    "start_time": "2021-11-07T20:50:48.261Z"
   },
   {
    "duration": 8,
    "start_time": "2021-11-07T20:50:48.275Z"
   },
   {
    "duration": 9,
    "start_time": "2021-11-07T20:50:48.285Z"
   },
   {
    "duration": 8,
    "start_time": "2021-11-07T20:50:48.296Z"
   },
   {
    "duration": 56,
    "start_time": "2021-11-07T20:50:48.306Z"
   },
   {
    "duration": 512,
    "start_time": "2021-11-07T20:50:48.364Z"
   },
   {
    "duration": 2106,
    "start_time": "2021-11-07T20:50:48.879Z"
   },
   {
    "duration": 534,
    "start_time": "2021-11-07T20:50:50.987Z"
   },
   {
    "duration": 10,
    "start_time": "2021-11-07T20:50:51.523Z"
   },
   {
    "duration": 26,
    "start_time": "2021-11-07T20:50:51.535Z"
   },
   {
    "duration": 750,
    "start_time": "2021-11-07T20:50:51.564Z"
   },
   {
    "duration": 1958,
    "start_time": "2021-11-07T20:50:52.316Z"
   },
   {
    "duration": 28,
    "start_time": "2021-11-07T20:50:54.277Z"
   },
   {
    "duration": 54,
    "start_time": "2021-11-07T20:50:54.308Z"
   },
   {
    "duration": 20,
    "start_time": "2021-11-07T20:50:54.365Z"
   },
   {
    "duration": 11,
    "start_time": "2021-11-07T20:50:54.388Z"
   },
   {
    "duration": 76,
    "start_time": "2021-11-07T20:50:54.402Z"
   },
   {
    "duration": 456,
    "start_time": "2021-11-07T20:50:54.481Z"
   },
   {
    "duration": 675,
    "start_time": "2021-11-07T20:50:54.939Z"
   },
   {
    "duration": 18,
    "start_time": "2021-11-07T20:50:55.617Z"
   },
   {
    "duration": 662,
    "start_time": "2021-11-07T20:50:55.637Z"
   },
   {
    "duration": 533,
    "start_time": "2021-11-07T20:50:56.301Z"
   },
   {
    "duration": 657,
    "start_time": "2021-11-07T20:50:56.836Z"
   },
   {
    "duration": 230,
    "start_time": "2021-11-07T20:50:57.495Z"
   },
   {
    "duration": 9,
    "start_time": "2021-11-07T20:50:57.727Z"
   },
   {
    "duration": 9,
    "start_time": "2021-11-07T20:52:41.597Z"
   },
   {
    "duration": 1519,
    "start_time": "2021-11-07T20:52:58.564Z"
   },
   {
    "duration": 41,
    "start_time": "2021-11-07T20:53:00.086Z"
   },
   {
    "duration": 32,
    "start_time": "2021-11-07T20:53:00.129Z"
   },
   {
    "duration": 11,
    "start_time": "2021-11-07T20:53:00.163Z"
   },
   {
    "duration": 16,
    "start_time": "2021-11-07T20:53:00.177Z"
   },
   {
    "duration": 121,
    "start_time": "2021-11-07T20:53:00.195Z"
   },
   {
    "duration": 11,
    "start_time": "2021-11-07T20:53:00.318Z"
   },
   {
    "duration": 37,
    "start_time": "2021-11-07T20:53:00.333Z"
   },
   {
    "duration": 7,
    "start_time": "2021-11-07T20:53:00.373Z"
   },
   {
    "duration": 20,
    "start_time": "2021-11-07T20:53:00.382Z"
   },
   {
    "duration": 21,
    "start_time": "2021-11-07T20:53:00.404Z"
   },
   {
    "duration": 22,
    "start_time": "2021-11-07T20:53:00.428Z"
   },
   {
    "duration": 17,
    "start_time": "2021-11-07T20:53:00.452Z"
   },
   {
    "duration": 18,
    "start_time": "2021-11-07T20:53:00.472Z"
   },
   {
    "duration": 15,
    "start_time": "2021-11-07T20:53:00.492Z"
   },
   {
    "duration": 27,
    "start_time": "2021-11-07T20:53:00.510Z"
   },
   {
    "duration": 25,
    "start_time": "2021-11-07T20:53:00.540Z"
   },
   {
    "duration": 24,
    "start_time": "2021-11-07T20:53:00.568Z"
   },
   {
    "duration": 17,
    "start_time": "2021-11-07T20:53:00.595Z"
   },
   {
    "duration": 145,
    "start_time": "2021-11-07T20:53:00.615Z"
   },
   {
    "duration": 11,
    "start_time": "2021-11-07T20:53:00.762Z"
   },
   {
    "duration": 121,
    "start_time": "2021-11-07T20:53:00.776Z"
   },
   {
    "duration": 21,
    "start_time": "2021-11-07T20:53:00.903Z"
   },
   {
    "duration": 33,
    "start_time": "2021-11-07T20:53:00.927Z"
   },
   {
    "duration": 17,
    "start_time": "2021-11-07T20:53:00.963Z"
   },
   {
    "duration": 18,
    "start_time": "2021-11-07T20:53:00.983Z"
   },
   {
    "duration": 15,
    "start_time": "2021-11-07T20:53:01.003Z"
   },
   {
    "duration": 13,
    "start_time": "2021-11-07T20:53:01.021Z"
   },
   {
    "duration": 25,
    "start_time": "2021-11-07T20:53:01.037Z"
   },
   {
    "duration": 1004,
    "start_time": "2021-11-07T20:53:01.065Z"
   },
   {
    "duration": 36,
    "start_time": "2021-11-07T20:53:02.072Z"
   },
   {
    "duration": 9,
    "start_time": "2021-11-07T20:53:02.110Z"
   },
   {
    "duration": 52,
    "start_time": "2021-11-07T20:53:02.121Z"
   },
   {
    "duration": 820,
    "start_time": "2021-11-07T20:53:02.175Z"
   },
   {
    "duration": 11,
    "start_time": "2021-11-07T20:53:02.997Z"
   },
   {
    "duration": 27,
    "start_time": "2021-11-07T20:53:03.010Z"
   },
   {
    "duration": 1761,
    "start_time": "2021-11-07T20:53:03.039Z"
   },
   {
    "duration": 12,
    "start_time": "2021-11-07T20:53:04.802Z"
   },
   {
    "duration": 286,
    "start_time": "2021-11-07T20:53:04.816Z"
   },
   {
    "duration": 12,
    "start_time": "2021-11-07T20:53:05.105Z"
   },
   {
    "duration": 10,
    "start_time": "2021-11-07T20:53:05.119Z"
   },
   {
    "duration": 30,
    "start_time": "2021-11-07T20:53:05.131Z"
   },
   {
    "duration": 24,
    "start_time": "2021-11-07T20:53:05.163Z"
   },
   {
    "duration": 508,
    "start_time": "2021-11-07T20:53:05.190Z"
   },
   {
    "duration": 2099,
    "start_time": "2021-11-07T20:53:05.700Z"
   },
   {
    "duration": 461,
    "start_time": "2021-11-07T20:53:07.802Z"
   },
   {
    "duration": 10,
    "start_time": "2021-11-07T20:53:08.265Z"
   },
   {
    "duration": 24,
    "start_time": "2021-11-07T20:53:08.277Z"
   },
   {
    "duration": 733,
    "start_time": "2021-11-07T20:53:08.304Z"
   },
   {
    "duration": 1809,
    "start_time": "2021-11-07T20:53:09.040Z"
   },
   {
    "duration": 24,
    "start_time": "2021-11-07T20:53:10.859Z"
   },
   {
    "duration": 23,
    "start_time": "2021-11-07T20:53:10.886Z"
   },
   {
    "duration": 57,
    "start_time": "2021-11-07T20:53:10.912Z"
   },
   {
    "duration": 12,
    "start_time": "2021-11-07T20:53:10.972Z"
   },
   {
    "duration": 38,
    "start_time": "2021-11-07T20:53:10.987Z"
   },
   {
    "duration": 511,
    "start_time": "2021-11-07T20:53:11.028Z"
   },
   {
    "duration": 675,
    "start_time": "2021-11-07T20:53:11.542Z"
   },
   {
    "duration": 21,
    "start_time": "2021-11-07T20:53:12.219Z"
   },
   {
    "duration": 565,
    "start_time": "2021-11-07T20:53:12.259Z"
   },
   {
    "duration": 536,
    "start_time": "2021-11-07T20:53:12.826Z"
   },
   {
    "duration": 652,
    "start_time": "2021-11-07T20:53:13.365Z"
   },
   {
    "duration": 236,
    "start_time": "2021-11-07T20:53:14.020Z"
   },
   {
    "duration": 10,
    "start_time": "2021-11-07T20:53:14.260Z"
   },
   {
    "duration": 15,
    "start_time": "2021-11-07T20:55:47.493Z"
   },
   {
    "duration": 899,
    "start_time": "2021-11-07T20:56:00.281Z"
   },
   {
    "duration": 881,
    "start_time": "2021-11-07T20:58:32.400Z"
   },
   {
    "duration": 118,
    "start_time": "2021-11-07T20:59:32.933Z"
   },
   {
    "duration": 1321,
    "start_time": "2021-11-07T20:59:37.050Z"
   },
   {
    "duration": 781,
    "start_time": "2021-11-07T21:01:02.240Z"
   },
   {
    "duration": 787,
    "start_time": "2021-11-07T21:01:17.180Z"
   },
   {
    "duration": 893,
    "start_time": "2021-11-07T21:01:37.082Z"
   },
   {
    "duration": 801,
    "start_time": "2021-11-07T21:01:42.850Z"
   },
   {
    "duration": 130,
    "start_time": "2021-11-07T21:05:15.163Z"
   },
   {
    "duration": 8193,
    "start_time": "2021-11-07T21:05:44.381Z"
   },
   {
    "duration": 555,
    "start_time": "2021-11-07T21:09:28.792Z"
   },
   {
    "duration": 431,
    "start_time": "2021-11-07T21:10:40.520Z"
   },
   {
    "duration": 747,
    "start_time": "2021-11-07T21:12:22.313Z"
   },
   {
    "duration": 990,
    "start_time": "2021-11-07T21:12:59.018Z"
   },
   {
    "duration": 1992,
    "start_time": "2021-11-07T21:13:20.811Z"
   },
   {
    "duration": 570,
    "start_time": "2021-11-07T21:13:37.481Z"
   },
   {
    "duration": 474,
    "start_time": "2021-11-07T21:13:59.797Z"
   },
   {
    "duration": 9,
    "start_time": "2021-11-07T21:16:43.839Z"
   },
   {
    "duration": 502,
    "start_time": "2021-11-07T21:22:33.245Z"
   },
   {
    "duration": 534,
    "start_time": "2021-11-07T21:23:41.715Z"
   },
   {
    "duration": 561,
    "start_time": "2021-11-07T21:24:20.327Z"
   },
   {
    "duration": 521,
    "start_time": "2021-11-07T21:25:50.967Z"
   },
   {
    "duration": 519,
    "start_time": "2021-11-07T21:26:00.408Z"
   },
   {
    "duration": 516,
    "start_time": "2021-11-07T21:26:22.450Z"
   },
   {
    "duration": 223,
    "start_time": "2021-11-07T21:36:50.417Z"
   },
   {
    "duration": 214,
    "start_time": "2021-11-07T21:40:27.984Z"
   },
   {
    "duration": 678,
    "start_time": "2021-11-07T21:40:40.145Z"
   },
   {
    "duration": 746,
    "start_time": "2021-11-07T21:51:12.885Z"
   },
   {
    "duration": 1402,
    "start_time": "2021-11-07T21:51:22.760Z"
   },
   {
    "duration": 1814,
    "start_time": "2021-11-07T21:52:17.107Z"
   },
   {
    "duration": 1489,
    "start_time": "2021-11-07T21:52:41.245Z"
   },
   {
    "duration": 467,
    "start_time": "2021-11-07T21:54:00.535Z"
   },
   {
    "duration": 661,
    "start_time": "2021-11-07T21:54:19.036Z"
   },
   {
    "duration": 425,
    "start_time": "2021-11-07T21:54:48.085Z"
   },
   {
    "duration": 638,
    "start_time": "2021-11-07T21:55:14.539Z"
   },
   {
    "duration": 2038,
    "start_time": "2021-11-07T21:57:32.224Z"
   },
   {
    "duration": 2465,
    "start_time": "2021-11-07T21:57:49.004Z"
   },
   {
    "duration": 1998,
    "start_time": "2021-11-07T21:57:53.411Z"
   },
   {
    "duration": 2018,
    "start_time": "2021-11-07T21:57:57.772Z"
   },
   {
    "duration": 2014,
    "start_time": "2021-11-07T21:58:10.431Z"
   },
   {
    "duration": 2364,
    "start_time": "2021-11-07T21:59:07.095Z"
   },
   {
    "duration": 1989,
    "start_time": "2021-11-07T21:59:44.248Z"
   },
   {
    "duration": 1721,
    "start_time": "2021-11-07T21:59:52.380Z"
   },
   {
    "duration": 1899,
    "start_time": "2021-11-07T21:59:59.835Z"
   },
   {
    "duration": 2391,
    "start_time": "2021-11-07T22:03:15.056Z"
   },
   {
    "duration": 4168,
    "start_time": "2021-11-07T22:04:55.028Z"
   },
   {
    "duration": 2362,
    "start_time": "2021-11-07T22:10:22.577Z"
   },
   {
    "duration": 2404,
    "start_time": "2021-11-07T22:11:22.768Z"
   },
   {
    "duration": 2516,
    "start_time": "2021-11-07T22:11:54.036Z"
   },
   {
    "duration": 2215,
    "start_time": "2021-11-07T22:12:29.076Z"
   },
   {
    "duration": 2768,
    "start_time": "2021-11-07T22:13:03.399Z"
   },
   {
    "duration": 3033,
    "start_time": "2021-11-07T22:13:59.035Z"
   },
   {
    "duration": 2749,
    "start_time": "2021-11-07T22:16:19.622Z"
   },
   {
    "duration": 4204,
    "start_time": "2021-11-07T22:22:09.325Z"
   },
   {
    "duration": 2785,
    "start_time": "2021-11-07T22:22:37.268Z"
   },
   {
    "duration": 20,
    "start_time": "2021-11-07T22:24:19.586Z"
   },
   {
    "duration": 2859,
    "start_time": "2021-11-07T22:33:15.947Z"
   },
   {
    "duration": 2727,
    "start_time": "2021-11-07T22:33:19.842Z"
   },
   {
    "duration": 2558,
    "start_time": "2021-11-07T22:33:28.372Z"
   },
   {
    "duration": 2371,
    "start_time": "2021-11-07T22:33:33.691Z"
   },
   {
    "duration": 3785,
    "start_time": "2021-11-07T22:33:40.356Z"
   },
   {
    "duration": 57,
    "start_time": "2021-11-07T22:34:30.152Z"
   },
   {
    "duration": 495,
    "start_time": "2021-11-07T22:38:47.225Z"
   },
   {
    "duration": 22,
    "start_time": "2021-11-07T22:40:19.468Z"
   },
   {
    "duration": 1564,
    "start_time": "2021-11-07T22:56:39.128Z"
   },
   {
    "duration": 39,
    "start_time": "2021-11-07T22:56:40.694Z"
   },
   {
    "duration": 28,
    "start_time": "2021-11-07T22:56:40.735Z"
   },
   {
    "duration": 12,
    "start_time": "2021-11-07T22:56:40.765Z"
   },
   {
    "duration": 6,
    "start_time": "2021-11-07T22:56:40.779Z"
   },
   {
    "duration": 131,
    "start_time": "2021-11-07T22:56:40.787Z"
   },
   {
    "duration": 11,
    "start_time": "2021-11-07T22:56:40.920Z"
   },
   {
    "duration": 34,
    "start_time": "2021-11-07T22:56:40.934Z"
   },
   {
    "duration": 6,
    "start_time": "2021-11-07T22:56:40.971Z"
   },
   {
    "duration": 9,
    "start_time": "2021-11-07T22:56:40.979Z"
   },
   {
    "duration": 9,
    "start_time": "2021-11-07T22:56:40.990Z"
   },
   {
    "duration": 11,
    "start_time": "2021-11-07T22:56:41.001Z"
   },
   {
    "duration": 46,
    "start_time": "2021-11-07T22:56:41.014Z"
   },
   {
    "duration": 8,
    "start_time": "2021-11-07T22:56:41.063Z"
   },
   {
    "duration": 7,
    "start_time": "2021-11-07T22:56:41.073Z"
   },
   {
    "duration": 13,
    "start_time": "2021-11-07T22:56:41.083Z"
   },
   {
    "duration": 10,
    "start_time": "2021-11-07T22:56:41.099Z"
   },
   {
    "duration": 56,
    "start_time": "2021-11-07T22:56:41.111Z"
   },
   {
    "duration": 9,
    "start_time": "2021-11-07T22:56:41.169Z"
   },
   {
    "duration": 163,
    "start_time": "2021-11-07T22:56:41.181Z"
   },
   {
    "duration": 18,
    "start_time": "2021-11-07T22:56:41.346Z"
   },
   {
    "duration": 111,
    "start_time": "2021-11-07T22:56:41.367Z"
   },
   {
    "duration": 4,
    "start_time": "2021-11-07T22:56:41.484Z"
   },
   {
    "duration": 18,
    "start_time": "2021-11-07T22:56:41.492Z"
   },
   {
    "duration": 15,
    "start_time": "2021-11-07T22:56:41.512Z"
   },
   {
    "duration": 38,
    "start_time": "2021-11-07T22:56:41.529Z"
   },
   {
    "duration": 9,
    "start_time": "2021-11-07T22:56:41.569Z"
   },
   {
    "duration": 6,
    "start_time": "2021-11-07T22:56:41.581Z"
   },
   {
    "duration": 7,
    "start_time": "2021-11-07T22:56:41.589Z"
   },
   {
    "duration": 1120,
    "start_time": "2021-11-07T22:56:41.598Z"
   },
   {
    "duration": 45,
    "start_time": "2021-11-07T22:56:42.720Z"
   },
   {
    "duration": 9,
    "start_time": "2021-11-07T22:56:42.767Z"
   },
   {
    "duration": 18,
    "start_time": "2021-11-07T22:56:42.778Z"
   },
   {
    "duration": 1043,
    "start_time": "2021-11-07T22:56:42.798Z"
   },
   {
    "duration": 918,
    "start_time": "2021-11-07T22:56:43.844Z"
   },
   {
    "duration": 499,
    "start_time": "2021-11-07T22:56:44.765Z"
   },
   {
    "duration": 8,
    "start_time": "2021-11-07T22:56:45.267Z"
   },
   {
    "duration": 11,
    "start_time": "2021-11-07T22:56:45.278Z"
   },
   {
    "duration": 6,
    "start_time": "2021-11-07T22:56:45.292Z"
   },
   {
    "duration": 1847,
    "start_time": "2021-11-07T22:56:45.301Z"
   },
   {
    "duration": 13,
    "start_time": "2021-11-07T22:56:47.150Z"
   },
   {
    "duration": 561,
    "start_time": "2021-11-07T22:56:47.165Z"
   },
   {
    "duration": 11,
    "start_time": "2021-11-07T22:56:47.728Z"
   },
   {
    "duration": 22,
    "start_time": "2021-11-07T22:56:47.742Z"
   },
   {
    "duration": 11,
    "start_time": "2021-11-07T22:56:47.767Z"
   },
   {
    "duration": 10,
    "start_time": "2021-11-07T22:56:47.781Z"
   },
   {
    "duration": 807,
    "start_time": "2021-11-07T22:56:47.794Z"
   },
   {
    "duration": 16,
    "start_time": "2021-11-07T22:56:48.604Z"
   },
   {
    "duration": 241,
    "start_time": "2021-11-07T22:56:48.623Z"
   },
   {
    "duration": 2125,
    "start_time": "2021-11-07T22:56:48.867Z"
   },
   {
    "duration": 351,
    "start_time": "2021-11-07T22:56:50.994Z"
   },
   {
    "duration": 28,
    "start_time": "2021-11-07T22:56:51.348Z"
   },
   {
    "duration": 434,
    "start_time": "2021-11-07T22:56:51.378Z"
   },
   {
    "duration": 568,
    "start_time": "2021-11-07T22:56:51.815Z"
   },
   {
    "duration": 20,
    "start_time": "2021-11-07T22:56:52.386Z"
   },
   {
    "duration": 20,
    "start_time": "2021-11-07T22:56:52.408Z"
   },
   {
    "duration": 18,
    "start_time": "2021-11-07T22:56:52.430Z"
   },
   {
    "duration": 14,
    "start_time": "2021-11-07T22:56:52.450Z"
   },
   {
    "duration": 28,
    "start_time": "2021-11-07T22:56:52.466Z"
   },
   {
    "duration": 481,
    "start_time": "2021-11-07T22:56:52.496Z"
   },
   {
    "duration": 2788,
    "start_time": "2021-11-07T22:56:52.979Z"
   },
   {
    "duration": 53,
    "start_time": "2021-11-07T22:56:55.770Z"
   },
   {
    "duration": 49,
    "start_time": "2021-11-07T22:56:55.826Z"
   },
   {
    "duration": 520,
    "start_time": "2021-11-07T22:56:55.877Z"
   },
   {
    "duration": 19,
    "start_time": "2021-11-07T22:56:56.400Z"
   },
   {
    "duration": 121,
    "start_time": "2021-11-07T23:13:57.170Z"
   },
   {
    "duration": 9,
    "start_time": "2021-11-07T23:14:06.687Z"
   },
   {
    "duration": 10,
    "start_time": "2021-11-07T23:15:31.774Z"
   },
   {
    "duration": 1567,
    "start_time": "2021-11-07T23:15:48.711Z"
   },
   {
    "duration": 42,
    "start_time": "2021-11-07T23:15:50.280Z"
   },
   {
    "duration": 15,
    "start_time": "2021-11-07T23:15:50.325Z"
   },
   {
    "duration": 11,
    "start_time": "2021-11-07T23:15:50.360Z"
   },
   {
    "duration": 6,
    "start_time": "2021-11-07T23:15:50.374Z"
   },
   {
    "duration": 129,
    "start_time": "2021-11-07T23:15:50.382Z"
   },
   {
    "duration": 12,
    "start_time": "2021-11-07T23:15:50.513Z"
   },
   {
    "duration": 504,
    "start_time": "2021-11-07T23:15:50.529Z"
   },
   {
    "duration": -43,
    "start_time": "2021-11-07T23:15:51.081Z"
   },
   {
    "duration": -47,
    "start_time": "2021-11-07T23:15:51.087Z"
   },
   {
    "duration": -52,
    "start_time": "2021-11-07T23:15:51.093Z"
   },
   {
    "duration": -54,
    "start_time": "2021-11-07T23:15:51.097Z"
   },
   {
    "duration": -58,
    "start_time": "2021-11-07T23:15:51.103Z"
   },
   {
    "duration": -63,
    "start_time": "2021-11-07T23:15:51.109Z"
   },
   {
    "duration": -65,
    "start_time": "2021-11-07T23:15:51.113Z"
   },
   {
    "duration": -70,
    "start_time": "2021-11-07T23:15:51.119Z"
   },
   {
    "duration": -72,
    "start_time": "2021-11-07T23:15:51.123Z"
   },
   {
    "duration": -75,
    "start_time": "2021-11-07T23:15:51.127Z"
   },
   {
    "duration": -77,
    "start_time": "2021-11-07T23:15:51.131Z"
   },
   {
    "duration": -88,
    "start_time": "2021-11-07T23:15:51.143Z"
   },
   {
    "duration": -90,
    "start_time": "2021-11-07T23:15:51.147Z"
   },
   {
    "duration": -95,
    "start_time": "2021-11-07T23:15:51.153Z"
   },
   {
    "duration": -97,
    "start_time": "2021-11-07T23:15:51.157Z"
   },
   {
    "duration": -100,
    "start_time": "2021-11-07T23:15:51.161Z"
   },
   {
    "duration": -102,
    "start_time": "2021-11-07T23:15:51.165Z"
   },
   {
    "duration": -106,
    "start_time": "2021-11-07T23:15:51.170Z"
   },
   {
    "duration": -109,
    "start_time": "2021-11-07T23:15:51.175Z"
   },
   {
    "duration": -113,
    "start_time": "2021-11-07T23:15:51.180Z"
   },
   {
    "duration": -117,
    "start_time": "2021-11-07T23:15:51.186Z"
   },
   {
    "duration": -121,
    "start_time": "2021-11-07T23:15:51.191Z"
   },
   {
    "duration": -123,
    "start_time": "2021-11-07T23:15:51.195Z"
   },
   {
    "duration": -126,
    "start_time": "2021-11-07T23:15:51.199Z"
   },
   {
    "duration": -130,
    "start_time": "2021-11-07T23:15:51.205Z"
   },
   {
    "duration": -134,
    "start_time": "2021-11-07T23:15:51.210Z"
   },
   {
    "duration": -136,
    "start_time": "2021-11-07T23:15:51.214Z"
   },
   {
    "duration": -141,
    "start_time": "2021-11-07T23:15:51.220Z"
   },
   {
    "duration": -144,
    "start_time": "2021-11-07T23:15:51.224Z"
   },
   {
    "duration": -176,
    "start_time": "2021-11-07T23:15:51.258Z"
   },
   {
    "duration": -178,
    "start_time": "2021-11-07T23:15:51.261Z"
   },
   {
    "duration": -180,
    "start_time": "2021-11-07T23:15:51.265Z"
   },
   {
    "duration": -184,
    "start_time": "2021-11-07T23:15:51.270Z"
   },
   {
    "duration": -207,
    "start_time": "2021-11-07T23:15:51.294Z"
   },
   {
    "duration": -209,
    "start_time": "2021-11-07T23:15:51.298Z"
   },
   {
    "duration": -214,
    "start_time": "2021-11-07T23:15:51.305Z"
   },
   {
    "duration": -233,
    "start_time": "2021-11-07T23:15:51.325Z"
   },
   {
    "duration": -235,
    "start_time": "2021-11-07T23:15:51.329Z"
   },
   {
    "duration": -264,
    "start_time": "2021-11-07T23:15:51.359Z"
   },
   {
    "duration": -268,
    "start_time": "2021-11-07T23:15:51.364Z"
   },
   {
    "duration": -283,
    "start_time": "2021-11-07T23:15:51.381Z"
   },
   {
    "duration": -286,
    "start_time": "2021-11-07T23:15:51.386Z"
   },
   {
    "duration": -238,
    "start_time": "2021-11-07T23:15:51.401Z"
   },
   {
    "duration": -240,
    "start_time": "2021-11-07T23:15:51.405Z"
   },
   {
    "duration": -253,
    "start_time": "2021-11-07T23:15:51.420Z"
   },
   {
    "duration": -257,
    "start_time": "2021-11-07T23:15:51.425Z"
   },
   {
    "duration": -259,
    "start_time": "2021-11-07T23:15:51.429Z"
   },
   {
    "duration": -271,
    "start_time": "2021-11-07T23:15:51.443Z"
   },
   {
    "duration": -281,
    "start_time": "2021-11-07T23:15:51.454Z"
   },
   {
    "duration": -291,
    "start_time": "2021-11-07T23:15:51.466Z"
   },
   {
    "duration": -301,
    "start_time": "2021-11-07T23:15:51.477Z"
   },
   {
    "duration": -333,
    "start_time": "2021-11-07T23:15:51.511Z"
   },
   {
    "duration": -368,
    "start_time": "2021-11-07T23:15:51.548Z"
   },
   {
    "duration": -376,
    "start_time": "2021-11-07T23:15:51.557Z"
   },
   {
    "duration": -378,
    "start_time": "2021-11-07T23:15:51.561Z"
   },
   {
    "duration": -389,
    "start_time": "2021-11-07T23:15:51.573Z"
   },
   {
    "duration": -391,
    "start_time": "2021-11-07T23:15:51.576Z"
   },
   {
    "duration": 1637,
    "start_time": "2021-11-07T23:16:48.661Z"
   },
   {
    "duration": 41,
    "start_time": "2021-11-07T23:16:50.301Z"
   },
   {
    "duration": 26,
    "start_time": "2021-11-07T23:16:50.345Z"
   },
   {
    "duration": 10,
    "start_time": "2021-11-07T23:16:50.374Z"
   },
   {
    "duration": 8,
    "start_time": "2021-11-07T23:16:50.387Z"
   },
   {
    "duration": 130,
    "start_time": "2021-11-07T23:16:50.398Z"
   },
   {
    "duration": 12,
    "start_time": "2021-11-07T23:16:50.530Z"
   },
   {
    "duration": 19,
    "start_time": "2021-11-07T23:16:50.561Z"
   },
   {
    "duration": 7,
    "start_time": "2021-11-07T23:16:50.583Z"
   },
   {
    "duration": 16,
    "start_time": "2021-11-07T23:16:50.592Z"
   },
   {
    "duration": 9,
    "start_time": "2021-11-07T23:16:50.610Z"
   },
   {
    "duration": 48,
    "start_time": "2021-11-07T23:16:50.622Z"
   },
   {
    "duration": 714,
    "start_time": "2021-11-07T23:16:50.672Z"
   },
   {
    "duration": -63,
    "start_time": "2021-11-07T23:16:51.453Z"
   },
   {
    "duration": -66,
    "start_time": "2021-11-07T23:16:51.457Z"
   },
   {
    "duration": -69,
    "start_time": "2021-11-07T23:16:51.461Z"
   },
   {
    "duration": -73,
    "start_time": "2021-11-07T23:16:51.467Z"
   },
   {
    "duration": -77,
    "start_time": "2021-11-07T23:16:51.472Z"
   },
   {
    "duration": -80,
    "start_time": "2021-11-07T23:16:51.476Z"
   },
   {
    "duration": -82,
    "start_time": "2021-11-07T23:16:51.480Z"
   },
   {
    "duration": -95,
    "start_time": "2021-11-07T23:16:51.494Z"
   },
   {
    "duration": -98,
    "start_time": "2021-11-07T23:16:51.498Z"
   },
   {
    "duration": -102,
    "start_time": "2021-11-07T23:16:51.504Z"
   },
   {
    "duration": -1825,
    "start_time": "2021-11-07T23:16:53.228Z"
   },
   {
    "duration": -1847,
    "start_time": "2021-11-07T23:16:53.251Z"
   },
   {
    "duration": -1849,
    "start_time": "2021-11-07T23:16:53.255Z"
   },
   {
    "duration": -1853,
    "start_time": "2021-11-07T23:16:53.260Z"
   },
   {
    "duration": -1858,
    "start_time": "2021-11-07T23:16:53.266Z"
   },
   {
    "duration": -1868,
    "start_time": "2021-11-07T23:16:53.277Z"
   },
   {
    "duration": -1873,
    "start_time": "2021-11-07T23:16:53.283Z"
   },
   {
    "duration": -1875,
    "start_time": "2021-11-07T23:16:53.287Z"
   },
   {
    "duration": -1878,
    "start_time": "2021-11-07T23:16:53.291Z"
   },
   {
    "duration": -1883,
    "start_time": "2021-11-07T23:16:53.297Z"
   },
   {
    "duration": -1888,
    "start_time": "2021-11-07T23:16:53.303Z"
   },
   {
    "duration": -1891,
    "start_time": "2021-11-07T23:16:53.308Z"
   },
   {
    "duration": -1896,
    "start_time": "2021-11-07T23:16:53.314Z"
   },
   {
    "duration": -1900,
    "start_time": "2021-11-07T23:16:53.319Z"
   },
   {
    "duration": -1903,
    "start_time": "2021-11-07T23:16:53.323Z"
   },
   {
    "duration": -1906,
    "start_time": "2021-11-07T23:16:53.327Z"
   },
   {
    "duration": -1912,
    "start_time": "2021-11-07T23:16:53.335Z"
   },
   {
    "duration": -1916,
    "start_time": "2021-11-07T23:16:53.340Z"
   },
   {
    "duration": -1919,
    "start_time": "2021-11-07T23:16:53.344Z"
   },
   {
    "duration": -1890,
    "start_time": "2021-11-07T23:16:53.350Z"
   },
   {
    "duration": -1893,
    "start_time": "2021-11-07T23:16:53.354Z"
   },
   {
    "duration": -1908,
    "start_time": "2021-11-07T23:16:53.370Z"
   },
   {
    "duration": -1912,
    "start_time": "2021-11-07T23:16:53.375Z"
   },
   {
    "duration": -1916,
    "start_time": "2021-11-07T23:16:53.381Z"
   },
   {
    "duration": -1920,
    "start_time": "2021-11-07T23:16:53.386Z"
   },
   {
    "duration": -1923,
    "start_time": "2021-11-07T23:16:53.390Z"
   },
   {
    "duration": -1925,
    "start_time": "2021-11-07T23:16:53.394Z"
   },
   {
    "duration": -1930,
    "start_time": "2021-11-07T23:16:53.400Z"
   },
   {
    "duration": -1932,
    "start_time": "2021-11-07T23:16:53.404Z"
   },
   {
    "duration": -1936,
    "start_time": "2021-11-07T23:16:53.409Z"
   },
   {
    "duration": -1940,
    "start_time": "2021-11-07T23:16:53.415Z"
   },
   {
    "duration": -1943,
    "start_time": "2021-11-07T23:16:53.419Z"
   },
   {
    "duration": -1945,
    "start_time": "2021-11-07T23:16:53.423Z"
   },
   {
    "duration": -1949,
    "start_time": "2021-11-07T23:16:53.428Z"
   },
   {
    "duration": -1953,
    "start_time": "2021-11-07T23:16:53.434Z"
   },
   {
    "duration": -1956,
    "start_time": "2021-11-07T23:16:53.438Z"
   },
   {
    "duration": -1958,
    "start_time": "2021-11-07T23:16:53.442Z"
   },
   {
    "duration": -1962,
    "start_time": "2021-11-07T23:16:53.448Z"
   },
   {
    "duration": -1965,
    "start_time": "2021-11-07T23:16:53.452Z"
   },
   {
    "duration": -1973,
    "start_time": "2021-11-07T23:16:53.461Z"
   },
   {
    "duration": -2000,
    "start_time": "2021-11-07T23:16:53.490Z"
   },
   {
    "duration": -2010,
    "start_time": "2021-11-07T23:16:53.501Z"
   },
   {
    "duration": 133,
    "start_time": "2021-11-07T23:18:14.270Z"
   },
   {
    "duration": 6,
    "start_time": "2021-11-07T23:18:34.794Z"
   },
   {
    "duration": 1544,
    "start_time": "2021-11-07T23:18:48.450Z"
   },
   {
    "duration": 40,
    "start_time": "2021-11-07T23:18:49.996Z"
   },
   {
    "duration": 28,
    "start_time": "2021-11-07T23:18:50.039Z"
   },
   {
    "duration": 11,
    "start_time": "2021-11-07T23:18:50.069Z"
   },
   {
    "duration": 6,
    "start_time": "2021-11-07T23:18:50.083Z"
   },
   {
    "duration": 134,
    "start_time": "2021-11-07T23:18:50.091Z"
   },
   {
    "duration": 11,
    "start_time": "2021-11-07T23:18:50.228Z"
   },
   {
    "duration": 31,
    "start_time": "2021-11-07T23:18:50.243Z"
   },
   {
    "duration": 6,
    "start_time": "2021-11-07T23:18:50.277Z"
   },
   {
    "duration": 14,
    "start_time": "2021-11-07T23:18:50.286Z"
   },
   {
    "duration": 13,
    "start_time": "2021-11-07T23:18:50.303Z"
   },
   {
    "duration": 43,
    "start_time": "2021-11-07T23:18:50.318Z"
   },
   {
    "duration": 11,
    "start_time": "2021-11-07T23:18:50.364Z"
   },
   {
    "duration": 9,
    "start_time": "2021-11-07T23:18:50.377Z"
   },
   {
    "duration": 8,
    "start_time": "2021-11-07T23:18:50.388Z"
   },
   {
    "duration": 10,
    "start_time": "2021-11-07T23:18:50.398Z"
   },
   {
    "duration": 49,
    "start_time": "2021-11-07T23:18:50.410Z"
   },
   {
    "duration": 15,
    "start_time": "2021-11-07T23:18:50.462Z"
   },
   {
    "duration": 22,
    "start_time": "2021-11-07T23:18:50.479Z"
   },
   {
    "duration": 158,
    "start_time": "2021-11-07T23:18:50.504Z"
   },
   {
    "duration": 12,
    "start_time": "2021-11-07T23:18:50.665Z"
   },
   {
    "duration": 123,
    "start_time": "2021-11-07T23:18:50.680Z"
   },
   {
    "duration": 5,
    "start_time": "2021-11-07T23:18:50.811Z"
   },
   {
    "duration": 21,
    "start_time": "2021-11-07T23:18:50.820Z"
   },
   {
    "duration": 29,
    "start_time": "2021-11-07T23:18:50.844Z"
   },
   {
    "duration": 15,
    "start_time": "2021-11-07T23:18:50.876Z"
   },
   {
    "duration": 12,
    "start_time": "2021-11-07T23:18:50.894Z"
   },
   {
    "duration": 7,
    "start_time": "2021-11-07T23:18:50.908Z"
   },
   {
    "duration": 5,
    "start_time": "2021-11-07T23:18:50.917Z"
   },
   {
    "duration": 1110,
    "start_time": "2021-11-07T23:18:50.960Z"
   },
   {
    "duration": 36,
    "start_time": "2021-11-07T23:18:52.072Z"
   },
   {
    "duration": 8,
    "start_time": "2021-11-07T23:18:52.111Z"
   },
   {
    "duration": 15,
    "start_time": "2021-11-07T23:18:52.121Z"
   },
   {
    "duration": 792,
    "start_time": "2021-11-07T23:18:52.139Z"
   },
   {
    "duration": 977,
    "start_time": "2021-11-07T23:18:52.933Z"
   },
   {
    "duration": 550,
    "start_time": "2021-11-07T23:18:53.912Z"
   },
   {
    "duration": 10,
    "start_time": "2021-11-07T23:18:54.464Z"
   },
   {
    "duration": 10,
    "start_time": "2021-11-07T23:18:54.476Z"
   },
   {
    "duration": 10,
    "start_time": "2021-11-07T23:18:54.488Z"
   },
   {
    "duration": 1677,
    "start_time": "2021-11-07T23:18:54.500Z"
   },
   {
    "duration": 8,
    "start_time": "2021-11-07T23:18:56.180Z"
   },
   {
    "duration": 569,
    "start_time": "2021-11-07T23:18:56.190Z"
   },
   {
    "duration": 10,
    "start_time": "2021-11-07T23:18:56.762Z"
   },
   {
    "duration": 17,
    "start_time": "2021-11-07T23:18:56.774Z"
   },
   {
    "duration": 12,
    "start_time": "2021-11-07T23:18:56.794Z"
   },
   {
    "duration": 19,
    "start_time": "2021-11-07T23:18:56.808Z"
   },
   {
    "duration": 752,
    "start_time": "2021-11-07T23:18:56.829Z"
   },
   {
    "duration": 14,
    "start_time": "2021-11-07T23:18:57.583Z"
   },
   {
    "duration": 230,
    "start_time": "2021-11-07T23:18:57.599Z"
   },
   {
    "duration": 2148,
    "start_time": "2021-11-07T23:18:57.832Z"
   },
   {
    "duration": 344,
    "start_time": "2021-11-07T23:18:59.982Z"
   },
   {
    "duration": 33,
    "start_time": "2021-11-07T23:19:00.329Z"
   },
   {
    "duration": 436,
    "start_time": "2021-11-07T23:19:00.365Z"
   },
   {
    "duration": 536,
    "start_time": "2021-11-07T23:19:00.804Z"
   },
   {
    "duration": 33,
    "start_time": "2021-11-07T23:19:01.344Z"
   },
   {
    "duration": 29,
    "start_time": "2021-11-07T23:19:01.380Z"
   },
   {
    "duration": 21,
    "start_time": "2021-11-07T23:19:01.412Z"
   },
   {
    "duration": 8,
    "start_time": "2021-11-07T23:19:01.460Z"
   },
   {
    "duration": 33,
    "start_time": "2021-11-07T23:19:01.470Z"
   },
   {
    "duration": 463,
    "start_time": "2021-11-07T23:19:01.505Z"
   },
   {
    "duration": 2389,
    "start_time": "2021-11-07T23:19:01.970Z"
   },
   {
    "duration": 55,
    "start_time": "2021-11-07T23:19:04.362Z"
   },
   {
    "duration": 48,
    "start_time": "2021-11-07T23:19:04.420Z"
   },
   {
    "duration": 471,
    "start_time": "2021-11-07T23:19:04.471Z"
   },
   {
    "duration": 30,
    "start_time": "2021-11-07T23:19:04.945Z"
   },
   {
    "duration": 5,
    "start_time": "2021-11-07T23:23:48.387Z"
   },
   {
    "duration": 12,
    "start_time": "2021-11-07T23:24:42.670Z"
   },
   {
    "duration": 1484,
    "start_time": "2021-11-07T23:25:20.701Z"
   },
   {
    "duration": 40,
    "start_time": "2021-11-07T23:25:22.188Z"
   },
   {
    "duration": 31,
    "start_time": "2021-11-07T23:25:22.230Z"
   },
   {
    "duration": 11,
    "start_time": "2021-11-07T23:25:22.264Z"
   },
   {
    "duration": 7,
    "start_time": "2021-11-07T23:25:22.277Z"
   },
   {
    "duration": 130,
    "start_time": "2021-11-07T23:25:22.286Z"
   },
   {
    "duration": 11,
    "start_time": "2021-11-07T23:25:22.418Z"
   },
   {
    "duration": 35,
    "start_time": "2021-11-07T23:25:22.431Z"
   },
   {
    "duration": 6,
    "start_time": "2021-11-07T23:25:22.470Z"
   },
   {
    "duration": 11,
    "start_time": "2021-11-07T23:25:22.479Z"
   },
   {
    "duration": 9,
    "start_time": "2021-11-07T23:25:22.493Z"
   },
   {
    "duration": 12,
    "start_time": "2021-11-07T23:25:22.505Z"
   },
   {
    "duration": 48,
    "start_time": "2021-11-07T23:25:22.519Z"
   },
   {
    "duration": 7,
    "start_time": "2021-11-07T23:25:22.570Z"
   },
   {
    "duration": 8,
    "start_time": "2021-11-07T23:25:22.580Z"
   },
   {
    "duration": 8,
    "start_time": "2021-11-07T23:25:22.590Z"
   },
   {
    "duration": 9,
    "start_time": "2021-11-07T23:25:22.601Z"
   },
   {
    "duration": 51,
    "start_time": "2021-11-07T23:25:22.613Z"
   },
   {
    "duration": 12,
    "start_time": "2021-11-07T23:25:22.666Z"
   },
   {
    "duration": 148,
    "start_time": "2021-11-07T23:25:22.680Z"
   },
   {
    "duration": 10,
    "start_time": "2021-11-07T23:25:22.830Z"
   },
   {
    "duration": 17,
    "start_time": "2021-11-07T23:25:22.842Z"
   },
   {
    "duration": 106,
    "start_time": "2021-11-07T23:25:22.861Z"
   },
   {
    "duration": 4,
    "start_time": "2021-11-07T23:25:22.970Z"
   },
   {
    "duration": 16,
    "start_time": "2021-11-07T23:25:22.976Z"
   },
   {
    "duration": 14,
    "start_time": "2021-11-07T23:25:22.994Z"
   },
   {
    "duration": 13,
    "start_time": "2021-11-07T23:25:23.014Z"
   },
   {
    "duration": 15,
    "start_time": "2021-11-07T23:25:23.058Z"
   },
   {
    "duration": 14,
    "start_time": "2021-11-07T23:25:23.075Z"
   },
   {
    "duration": 7,
    "start_time": "2021-11-07T23:25:23.091Z"
   },
   {
    "duration": 5,
    "start_time": "2021-11-07T23:25:23.101Z"
   },
   {
    "duration": 1019,
    "start_time": "2021-11-07T23:25:23.108Z"
   },
   {
    "duration": 49,
    "start_time": "2021-11-07T23:25:24.130Z"
   },
   {
    "duration": 10,
    "start_time": "2021-11-07T23:25:24.182Z"
   },
   {
    "duration": 15,
    "start_time": "2021-11-07T23:25:24.195Z"
   },
   {
    "duration": 817,
    "start_time": "2021-11-07T23:25:24.213Z"
   },
   {
    "duration": 843,
    "start_time": "2021-11-07T23:25:25.033Z"
   },
   {
    "duration": 492,
    "start_time": "2021-11-07T23:25:25.880Z"
   },
   {
    "duration": 9,
    "start_time": "2021-11-07T23:25:26.376Z"
   },
   {
    "duration": 12,
    "start_time": "2021-11-07T23:25:26.388Z"
   },
   {
    "duration": 7,
    "start_time": "2021-11-07T23:25:26.402Z"
   },
   {
    "duration": 1792,
    "start_time": "2021-11-07T23:25:26.412Z"
   },
   {
    "duration": 8,
    "start_time": "2021-11-07T23:25:28.206Z"
   },
   {
    "duration": 532,
    "start_time": "2021-11-07T23:25:28.216Z"
   },
   {
    "duration": 16,
    "start_time": "2021-11-07T23:25:28.750Z"
   },
   {
    "duration": 12,
    "start_time": "2021-11-07T23:25:28.768Z"
   },
   {
    "duration": 14,
    "start_time": "2021-11-07T23:25:28.782Z"
   },
   {
    "duration": 8,
    "start_time": "2021-11-07T23:25:28.798Z"
   },
   {
    "duration": 809,
    "start_time": "2021-11-07T23:25:28.808Z"
   },
   {
    "duration": 14,
    "start_time": "2021-11-07T23:25:29.619Z"
   },
   {
    "duration": 231,
    "start_time": "2021-11-07T23:25:29.636Z"
   },
   {
    "duration": 2042,
    "start_time": "2021-11-07T23:25:29.870Z"
   },
   {
    "duration": 351,
    "start_time": "2021-11-07T23:25:31.914Z"
   },
   {
    "duration": 19,
    "start_time": "2021-11-07T23:25:32.267Z"
   },
   {
    "duration": 371,
    "start_time": "2021-11-07T23:25:32.288Z"
   },
   {
    "duration": 439,
    "start_time": "2021-11-07T23:25:32.661Z"
   },
   {
    "duration": 20,
    "start_time": "2021-11-07T23:25:33.103Z"
   },
   {
    "duration": 42,
    "start_time": "2021-11-07T23:25:33.126Z"
   },
   {
    "duration": 17,
    "start_time": "2021-11-07T23:25:33.171Z"
   },
   {
    "duration": 9,
    "start_time": "2021-11-07T23:25:33.191Z"
   },
   {
    "duration": 58,
    "start_time": "2021-11-07T23:25:33.203Z"
   },
   {
    "duration": 469,
    "start_time": "2021-11-07T23:25:33.263Z"
   },
   {
    "duration": 2608,
    "start_time": "2021-11-07T23:25:33.735Z"
   },
   {
    "duration": 65,
    "start_time": "2021-11-07T23:25:36.346Z"
   },
   {
    "duration": 47,
    "start_time": "2021-11-07T23:25:36.414Z"
   },
   {
    "duration": 475,
    "start_time": "2021-11-07T23:25:36.464Z"
   },
   {
    "duration": 30,
    "start_time": "2021-11-07T23:25:36.942Z"
   },
   {
    "duration": 10,
    "start_time": "2021-11-07T23:26:24.923Z"
   },
   {
    "duration": 11,
    "start_time": "2021-11-07T23:26:32.990Z"
   },
   {
    "duration": 1495,
    "start_time": "2021-11-07T23:26:40.885Z"
   },
   {
    "duration": 41,
    "start_time": "2021-11-07T23:26:42.383Z"
   },
   {
    "duration": 15,
    "start_time": "2021-11-07T23:26:42.427Z"
   },
   {
    "duration": 25,
    "start_time": "2021-11-07T23:26:42.444Z"
   },
   {
    "duration": 7,
    "start_time": "2021-11-07T23:26:42.471Z"
   },
   {
    "duration": 126,
    "start_time": "2021-11-07T23:26:42.481Z"
   },
   {
    "duration": 11,
    "start_time": "2021-11-07T23:26:42.609Z"
   },
   {
    "duration": 35,
    "start_time": "2021-11-07T23:26:42.624Z"
   },
   {
    "duration": 20,
    "start_time": "2021-11-07T23:26:42.662Z"
   },
   {
    "duration": 15,
    "start_time": "2021-11-07T23:26:42.685Z"
   },
   {
    "duration": 6,
    "start_time": "2021-11-07T23:26:42.702Z"
   },
   {
    "duration": 50,
    "start_time": "2021-11-07T23:26:42.711Z"
   },
   {
    "duration": 9,
    "start_time": "2021-11-07T23:26:42.763Z"
   },
   {
    "duration": 14,
    "start_time": "2021-11-07T23:26:42.774Z"
   },
   {
    "duration": 12,
    "start_time": "2021-11-07T23:26:42.790Z"
   },
   {
    "duration": 8,
    "start_time": "2021-11-07T23:26:42.804Z"
   },
   {
    "duration": 8,
    "start_time": "2021-11-07T23:26:42.814Z"
   },
   {
    "duration": 42,
    "start_time": "2021-11-07T23:26:42.824Z"
   },
   {
    "duration": 10,
    "start_time": "2021-11-07T23:26:42.869Z"
   },
   {
    "duration": 11,
    "start_time": "2021-11-07T23:26:42.881Z"
   },
   {
    "duration": 17,
    "start_time": "2021-11-07T23:26:42.895Z"
   },
   {
    "duration": 166,
    "start_time": "2021-11-07T23:26:42.914Z"
   },
   {
    "duration": 10,
    "start_time": "2021-11-07T23:26:43.086Z"
   },
   {
    "duration": 7,
    "start_time": "2021-11-07T23:26:43.100Z"
   },
   {
    "duration": 113,
    "start_time": "2021-11-07T23:26:43.109Z"
   },
   {
    "duration": 5,
    "start_time": "2021-11-07T23:26:43.224Z"
   },
   {
    "duration": 29,
    "start_time": "2021-11-07T23:26:43.231Z"
   },
   {
    "duration": 14,
    "start_time": "2021-11-07T23:26:43.262Z"
   },
   {
    "duration": 14,
    "start_time": "2021-11-07T23:26:43.278Z"
   },
   {
    "duration": 27,
    "start_time": "2021-11-07T23:26:43.294Z"
   },
   {
    "duration": 13,
    "start_time": "2021-11-07T23:26:43.323Z"
   },
   {
    "duration": 22,
    "start_time": "2021-11-07T23:26:43.338Z"
   },
   {
    "duration": 6,
    "start_time": "2021-11-07T23:26:43.362Z"
   },
   {
    "duration": 1063,
    "start_time": "2021-11-07T23:26:43.370Z"
   },
   {
    "duration": 44,
    "start_time": "2021-11-07T23:26:44.435Z"
   },
   {
    "duration": 9,
    "start_time": "2021-11-07T23:26:44.482Z"
   },
   {
    "duration": 14,
    "start_time": "2021-11-07T23:26:44.493Z"
   },
   {
    "duration": 852,
    "start_time": "2021-11-07T23:26:44.510Z"
   },
   {
    "duration": 951,
    "start_time": "2021-11-07T23:26:45.366Z"
   },
   {
    "duration": 482,
    "start_time": "2021-11-07T23:26:46.320Z"
   },
   {
    "duration": 11,
    "start_time": "2021-11-07T23:26:46.805Z"
   },
   {
    "duration": 13,
    "start_time": "2021-11-07T23:26:46.818Z"
   },
   {
    "duration": 8,
    "start_time": "2021-11-07T23:26:46.858Z"
   },
   {
    "duration": 1666,
    "start_time": "2021-11-07T23:26:46.869Z"
   },
   {
    "duration": 8,
    "start_time": "2021-11-07T23:26:48.538Z"
   },
   {
    "duration": 532,
    "start_time": "2021-11-07T23:26:48.560Z"
   },
   {
    "duration": 10,
    "start_time": "2021-11-07T23:26:49.095Z"
   },
   {
    "duration": 17,
    "start_time": "2021-11-07T23:26:49.107Z"
   },
   {
    "duration": 9,
    "start_time": "2021-11-07T23:26:49.126Z"
   },
   {
    "duration": 9,
    "start_time": "2021-11-07T23:26:49.159Z"
   },
   {
    "duration": 747,
    "start_time": "2021-11-07T23:26:49.171Z"
   },
   {
    "duration": 15,
    "start_time": "2021-11-07T23:26:49.921Z"
   },
   {
    "duration": 235,
    "start_time": "2021-11-07T23:26:49.938Z"
   },
   {
    "duration": 2325,
    "start_time": "2021-11-07T23:26:50.176Z"
   },
   {
    "duration": 332,
    "start_time": "2021-11-07T23:26:52.503Z"
   },
   {
    "duration": 24,
    "start_time": "2021-11-07T23:26:52.838Z"
   },
   {
    "duration": 389,
    "start_time": "2021-11-07T23:26:52.865Z"
   },
   {
    "duration": 458,
    "start_time": "2021-11-07T23:26:53.260Z"
   },
   {
    "duration": 19,
    "start_time": "2021-11-07T23:26:53.721Z"
   },
   {
    "duration": 30,
    "start_time": "2021-11-07T23:26:53.742Z"
   },
   {
    "duration": 21,
    "start_time": "2021-11-07T23:26:53.774Z"
   },
   {
    "duration": 12,
    "start_time": "2021-11-07T23:26:53.798Z"
   },
   {
    "duration": 24,
    "start_time": "2021-11-07T23:26:53.812Z"
   },
   {
    "duration": 638,
    "start_time": "2021-11-07T23:26:53.839Z"
   },
   {
    "duration": 2742,
    "start_time": "2021-11-07T23:26:54.480Z"
   },
   {
    "duration": 67,
    "start_time": "2021-11-07T23:26:57.224Z"
   },
   {
    "duration": 19,
    "start_time": "2021-11-07T23:26:57.294Z"
   },
   {
    "duration": 486,
    "start_time": "2021-11-07T23:26:57.320Z"
   },
   {
    "duration": 19,
    "start_time": "2021-11-07T23:26:57.808Z"
   },
   {
    "duration": 11,
    "start_time": "2021-11-07T23:27:34.176Z"
   },
   {
    "duration": 7,
    "start_time": "2021-11-07T23:31:26.621Z"
   },
   {
    "duration": 493,
    "start_time": "2021-11-07T23:31:48.535Z"
   },
   {
    "duration": 374,
    "start_time": "2021-11-07T23:31:52.147Z"
   },
   {
    "duration": 471,
    "start_time": "2021-11-07T23:31:56.502Z"
   },
   {
    "duration": 381,
    "start_time": "2021-11-07T23:31:59.089Z"
   },
   {
    "duration": 359,
    "start_time": "2021-11-07T23:32:02.838Z"
   },
   {
    "duration": 354,
    "start_time": "2021-11-07T23:32:11.197Z"
   },
   {
    "duration": 6,
    "start_time": "2021-11-07T23:32:14.831Z"
   },
   {
    "duration": 6,
    "start_time": "2021-11-07T23:32:20.192Z"
   },
   {
    "duration": 5,
    "start_time": "2021-11-08T09:54:14.971Z"
   },
   {
    "duration": 38,
    "start_time": "2021-11-08T09:54:59.319Z"
   },
   {
    "duration": 10,
    "start_time": "2021-11-08T10:03:57.554Z"
   },
   {
    "duration": 1626,
    "start_time": "2021-11-08T10:04:05.569Z"
   },
   {
    "duration": 39,
    "start_time": "2021-11-08T10:04:07.197Z"
   },
   {
    "duration": 136,
    "start_time": "2021-11-08T10:04:07.239Z"
   },
   {
    "duration": 22,
    "start_time": "2021-11-08T10:04:07.377Z"
   },
   {
    "duration": 6,
    "start_time": "2021-11-08T10:04:07.402Z"
   },
   {
    "duration": 112,
    "start_time": "2021-11-08T10:04:07.410Z"
   },
   {
    "duration": 11,
    "start_time": "2021-11-08T10:04:07.524Z"
   },
   {
    "duration": 34,
    "start_time": "2021-11-08T10:04:07.540Z"
   },
   {
    "duration": 19,
    "start_time": "2021-11-08T10:04:07.578Z"
   },
   {
    "duration": 16,
    "start_time": "2021-11-08T10:04:07.600Z"
   },
   {
    "duration": 42,
    "start_time": "2021-11-08T10:04:07.619Z"
   },
   {
    "duration": 13,
    "start_time": "2021-11-08T10:04:07.663Z"
   },
   {
    "duration": 17,
    "start_time": "2021-11-08T10:04:07.678Z"
   },
   {
    "duration": 20,
    "start_time": "2021-11-08T10:04:07.697Z"
   },
   {
    "duration": 10,
    "start_time": "2021-11-08T10:04:07.719Z"
   },
   {
    "duration": 34,
    "start_time": "2021-11-08T10:04:07.732Z"
   },
   {
    "duration": 10,
    "start_time": "2021-11-08T10:04:07.769Z"
   },
   {
    "duration": 7,
    "start_time": "2021-11-08T10:04:07.782Z"
   },
   {
    "duration": 11,
    "start_time": "2021-11-08T10:04:07.791Z"
   },
   {
    "duration": 20,
    "start_time": "2021-11-08T10:04:07.804Z"
   },
   {
    "duration": 35,
    "start_time": "2021-11-08T10:04:07.826Z"
   },
   {
    "duration": 10,
    "start_time": "2021-11-08T10:04:07.864Z"
   },
   {
    "duration": 10,
    "start_time": "2021-11-08T10:04:07.880Z"
   },
   {
    "duration": 159,
    "start_time": "2021-11-08T10:04:07.895Z"
   },
   {
    "duration": 10,
    "start_time": "2021-11-08T10:04:08.057Z"
   },
   {
    "duration": 30,
    "start_time": "2021-11-08T10:04:08.070Z"
   },
   {
    "duration": 106,
    "start_time": "2021-11-08T10:04:08.102Z"
   },
   {
    "duration": 17,
    "start_time": "2021-11-08T10:04:08.211Z"
   },
   {
    "duration": 21,
    "start_time": "2021-11-08T10:04:08.231Z"
   },
   {
    "duration": 13,
    "start_time": "2021-11-08T10:04:08.254Z"
   },
   {
    "duration": 14,
    "start_time": "2021-11-08T10:04:08.269Z"
   },
   {
    "duration": 15,
    "start_time": "2021-11-08T10:04:08.285Z"
   },
   {
    "duration": 10,
    "start_time": "2021-11-08T10:04:08.303Z"
   },
   {
    "duration": 6,
    "start_time": "2021-11-08T10:04:08.316Z"
   },
   {
    "duration": 36,
    "start_time": "2021-11-08T10:04:08.324Z"
   },
   {
    "duration": 1007,
    "start_time": "2021-11-08T10:04:08.363Z"
   },
   {
    "duration": 37,
    "start_time": "2021-11-08T10:04:09.372Z"
   },
   {
    "duration": 8,
    "start_time": "2021-11-08T10:04:09.412Z"
   },
   {
    "duration": 39,
    "start_time": "2021-11-08T10:04:09.422Z"
   },
   {
    "duration": 789,
    "start_time": "2021-11-08T10:04:09.464Z"
   },
   {
    "duration": 861,
    "start_time": "2021-11-08T10:04:10.260Z"
   },
   {
    "duration": 496,
    "start_time": "2021-11-08T10:04:11.123Z"
   },
   {
    "duration": 8,
    "start_time": "2021-11-08T10:04:11.622Z"
   },
   {
    "duration": 31,
    "start_time": "2021-11-08T10:04:11.633Z"
   },
   {
    "duration": 11,
    "start_time": "2021-11-08T10:04:11.667Z"
   },
   {
    "duration": 1696,
    "start_time": "2021-11-08T10:04:11.680Z"
   },
   {
    "duration": 7,
    "start_time": "2021-11-08T10:04:13.379Z"
   },
   {
    "duration": 550,
    "start_time": "2021-11-08T10:04:13.388Z"
   },
   {
    "duration": 20,
    "start_time": "2021-11-08T10:04:13.941Z"
   },
   {
    "duration": 11,
    "start_time": "2021-11-08T10:04:13.964Z"
   },
   {
    "duration": 12,
    "start_time": "2021-11-08T10:04:13.978Z"
   },
   {
    "duration": 289,
    "start_time": "2021-11-08T10:04:13.992Z"
   },
   {
    "duration": 746,
    "start_time": "2021-11-08T10:04:14.283Z"
   },
   {
    "duration": 28,
    "start_time": "2021-11-08T10:04:15.032Z"
   },
   {
    "duration": 230,
    "start_time": "2021-11-08T10:04:15.063Z"
   },
   {
    "duration": 2043,
    "start_time": "2021-11-08T10:04:15.295Z"
   },
   {
    "duration": 338,
    "start_time": "2021-11-08T10:04:17.341Z"
   },
   {
    "duration": 18,
    "start_time": "2021-11-08T10:04:17.682Z"
   },
   {
    "duration": 409,
    "start_time": "2021-11-08T10:04:17.702Z"
   },
   {
    "duration": 501,
    "start_time": "2021-11-08T10:04:18.113Z"
   },
   {
    "duration": 42,
    "start_time": "2021-11-08T10:04:18.617Z"
   },
   {
    "duration": 21,
    "start_time": "2021-11-08T10:04:18.662Z"
   },
   {
    "duration": 19,
    "start_time": "2021-11-08T10:04:18.686Z"
   },
   {
    "duration": 46,
    "start_time": "2021-11-08T10:04:18.707Z"
   },
   {
    "duration": 26,
    "start_time": "2021-11-08T10:04:18.756Z"
   },
   {
    "duration": 465,
    "start_time": "2021-11-08T10:04:18.784Z"
   },
   {
    "duration": 2643,
    "start_time": "2021-11-08T10:04:19.251Z"
   },
   {
    "duration": 77,
    "start_time": "2021-11-08T10:04:21.902Z"
   },
   {
    "duration": 20,
    "start_time": "2021-11-08T10:04:21.982Z"
   },
   {
    "duration": 505,
    "start_time": "2021-11-08T10:04:22.004Z"
   },
   {
    "duration": 20,
    "start_time": "2021-11-08T10:04:22.512Z"
   },
   {
    "duration": 11,
    "start_time": "2021-11-08T10:05:58.247Z"
   },
   {
    "duration": 1504,
    "start_time": "2021-11-08T10:06:09.891Z"
   },
   {
    "duration": 40,
    "start_time": "2021-11-08T10:06:11.397Z"
   },
   {
    "duration": 29,
    "start_time": "2021-11-08T10:06:11.440Z"
   },
   {
    "duration": 26,
    "start_time": "2021-11-08T10:06:11.471Z"
   },
   {
    "duration": 19,
    "start_time": "2021-11-08T10:06:11.499Z"
   },
   {
    "duration": 127,
    "start_time": "2021-11-08T10:06:11.521Z"
   },
   {
    "duration": 10,
    "start_time": "2021-11-08T10:06:11.650Z"
   },
   {
    "duration": 41,
    "start_time": "2021-11-08T10:06:11.664Z"
   },
   {
    "duration": 35,
    "start_time": "2021-11-08T10:06:11.708Z"
   },
   {
    "duration": 23,
    "start_time": "2021-11-08T10:06:11.746Z"
   },
   {
    "duration": 29,
    "start_time": "2021-11-08T10:06:11.772Z"
   },
   {
    "duration": 37,
    "start_time": "2021-11-08T10:06:11.804Z"
   },
   {
    "duration": 29,
    "start_time": "2021-11-08T10:06:11.844Z"
   },
   {
    "duration": 43,
    "start_time": "2021-11-08T10:06:11.875Z"
   },
   {
    "duration": 34,
    "start_time": "2021-11-08T10:06:11.920Z"
   },
   {
    "duration": 45,
    "start_time": "2021-11-08T10:06:11.956Z"
   },
   {
    "duration": 44,
    "start_time": "2021-11-08T10:06:12.003Z"
   },
   {
    "duration": 49,
    "start_time": "2021-11-08T10:06:12.049Z"
   },
   {
    "duration": 26,
    "start_time": "2021-11-08T10:06:12.100Z"
   },
   {
    "duration": 32,
    "start_time": "2021-11-08T10:06:12.129Z"
   },
   {
    "duration": 29,
    "start_time": "2021-11-08T10:06:12.163Z"
   },
   {
    "duration": 167,
    "start_time": "2021-11-08T10:06:12.195Z"
   },
   {
    "duration": 10,
    "start_time": "2021-11-08T10:06:12.369Z"
   },
   {
    "duration": 38,
    "start_time": "2021-11-08T10:06:12.383Z"
   },
   {
    "duration": 26,
    "start_time": "2021-11-08T10:06:12.423Z"
   },
   {
    "duration": 135,
    "start_time": "2021-11-08T10:06:12.452Z"
   },
   {
    "duration": 41,
    "start_time": "2021-11-08T10:06:12.590Z"
   },
   {
    "duration": 62,
    "start_time": "2021-11-08T10:06:12.634Z"
   },
   {
    "duration": 42,
    "start_time": "2021-11-08T10:06:12.699Z"
   },
   {
    "duration": 46,
    "start_time": "2021-11-08T10:06:12.744Z"
   },
   {
    "duration": 38,
    "start_time": "2021-11-08T10:06:12.793Z"
   },
   {
    "duration": 44,
    "start_time": "2021-11-08T10:06:12.834Z"
   },
   {
    "duration": 28,
    "start_time": "2021-11-08T10:06:12.881Z"
   },
   {
    "duration": 41,
    "start_time": "2021-11-08T10:06:12.911Z"
   },
   {
    "duration": 1079,
    "start_time": "2021-11-08T10:06:12.955Z"
   },
   {
    "duration": 47,
    "start_time": "2021-11-08T10:06:14.037Z"
   },
   {
    "duration": 8,
    "start_time": "2021-11-08T10:06:14.086Z"
   },
   {
    "duration": 39,
    "start_time": "2021-11-08T10:06:14.096Z"
   },
   {
    "duration": 876,
    "start_time": "2021-11-08T10:06:14.138Z"
   },
   {
    "duration": 1014,
    "start_time": "2021-11-08T10:06:15.017Z"
   },
   {
    "duration": 512,
    "start_time": "2021-11-08T10:06:16.033Z"
   },
   {
    "duration": 17,
    "start_time": "2021-11-08T10:06:16.548Z"
   },
   {
    "duration": 20,
    "start_time": "2021-11-08T10:06:16.567Z"
   },
   {
    "duration": 16,
    "start_time": "2021-11-08T10:06:16.589Z"
   },
   {
    "duration": 1809,
    "start_time": "2021-11-08T10:06:16.607Z"
   },
   {
    "duration": 8,
    "start_time": "2021-11-08T10:06:18.418Z"
   },
   {
    "duration": 537,
    "start_time": "2021-11-08T10:06:18.428Z"
   },
   {
    "duration": 10,
    "start_time": "2021-11-08T10:06:18.968Z"
   },
   {
    "duration": 30,
    "start_time": "2021-11-08T10:06:18.980Z"
   },
   {
    "duration": 13,
    "start_time": "2021-11-08T10:06:19.012Z"
   },
   {
    "duration": 20,
    "start_time": "2021-11-08T10:06:19.027Z"
   },
   {
    "duration": 774,
    "start_time": "2021-11-08T10:06:19.049Z"
   },
   {
    "duration": 14,
    "start_time": "2021-11-08T10:06:19.826Z"
   },
   {
    "duration": 226,
    "start_time": "2021-11-08T10:06:19.842Z"
   },
   {
    "duration": 2046,
    "start_time": "2021-11-08T10:06:20.070Z"
   },
   {
    "duration": 343,
    "start_time": "2021-11-08T10:06:22.119Z"
   },
   {
    "duration": 20,
    "start_time": "2021-11-08T10:06:22.464Z"
   },
   {
    "duration": 380,
    "start_time": "2021-11-08T10:06:22.486Z"
   },
   {
    "duration": 450,
    "start_time": "2021-11-08T10:06:22.869Z"
   },
   {
    "duration": 20,
    "start_time": "2021-11-08T10:06:23.321Z"
   },
   {
    "duration": 19,
    "start_time": "2021-11-08T10:06:23.359Z"
   },
   {
    "duration": 21,
    "start_time": "2021-11-08T10:06:23.380Z"
   },
   {
    "duration": 9,
    "start_time": "2021-11-08T10:06:23.403Z"
   },
   {
    "duration": 56,
    "start_time": "2021-11-08T10:06:23.414Z"
   },
   {
    "duration": 460,
    "start_time": "2021-11-08T10:06:23.472Z"
   },
   {
    "duration": 2653,
    "start_time": "2021-11-08T10:06:23.935Z"
   },
   {
    "duration": 75,
    "start_time": "2021-11-08T10:06:26.590Z"
   },
   {
    "duration": 21,
    "start_time": "2021-11-08T10:06:26.673Z"
   },
   {
    "duration": 497,
    "start_time": "2021-11-08T10:06:26.697Z"
   },
   {
    "duration": 29,
    "start_time": "2021-11-08T10:06:27.198Z"
   },
   {
    "duration": 15,
    "start_time": "2021-11-08T10:15:40.708Z"
   },
   {
    "duration": 11,
    "start_time": "2021-11-08T10:16:55.773Z"
   },
   {
    "duration": 11,
    "start_time": "2021-11-08T10:17:20.082Z"
   },
   {
    "duration": 2277,
    "start_time": "2021-11-08T10:17:30.959Z"
   },
   {
    "duration": 80,
    "start_time": "2021-11-08T10:17:33.240Z"
   },
   {
    "duration": 42,
    "start_time": "2021-11-08T10:17:33.325Z"
   },
   {
    "duration": 19,
    "start_time": "2021-11-08T10:17:33.371Z"
   },
   {
    "duration": 10,
    "start_time": "2021-11-08T10:17:33.394Z"
   },
   {
    "duration": 138,
    "start_time": "2021-11-08T10:17:33.407Z"
   },
   {
    "duration": 18,
    "start_time": "2021-11-08T10:17:33.548Z"
   },
   {
    "duration": 16,
    "start_time": "2021-11-08T10:17:33.571Z"
   },
   {
    "duration": 20,
    "start_time": "2021-11-08T10:17:33.590Z"
   },
   {
    "duration": 47,
    "start_time": "2021-11-08T10:17:33.613Z"
   },
   {
    "duration": 6,
    "start_time": "2021-11-08T10:17:33.663Z"
   },
   {
    "duration": 22,
    "start_time": "2021-11-08T10:17:33.671Z"
   },
   {
    "duration": 9,
    "start_time": "2021-11-08T10:17:33.695Z"
   },
   {
    "duration": 13,
    "start_time": "2021-11-08T10:17:33.707Z"
   },
   {
    "duration": 7,
    "start_time": "2021-11-08T10:17:33.722Z"
   },
   {
    "duration": 8,
    "start_time": "2021-11-08T10:17:33.760Z"
   },
   {
    "duration": 11,
    "start_time": "2021-11-08T10:17:33.771Z"
   },
   {
    "duration": 10,
    "start_time": "2021-11-08T10:17:33.785Z"
   },
   {
    "duration": 11,
    "start_time": "2021-11-08T10:17:33.797Z"
   },
   {
    "duration": 53,
    "start_time": "2021-11-08T10:17:33.810Z"
   },
   {
    "duration": 11,
    "start_time": "2021-11-08T10:17:33.865Z"
   },
   {
    "duration": 153,
    "start_time": "2021-11-08T10:17:33.878Z"
   },
   {
    "duration": 12,
    "start_time": "2021-11-08T10:17:34.037Z"
   },
   {
    "duration": 22,
    "start_time": "2021-11-08T10:17:34.052Z"
   },
   {
    "duration": 5,
    "start_time": "2021-11-08T10:17:34.076Z"
   },
   {
    "duration": 126,
    "start_time": "2021-11-08T10:17:34.083Z"
   },
   {
    "duration": 6,
    "start_time": "2021-11-08T10:17:34.213Z"
   },
   {
    "duration": 41,
    "start_time": "2021-11-08T10:17:34.222Z"
   },
   {
    "duration": 20,
    "start_time": "2021-11-08T10:17:34.267Z"
   },
   {
    "duration": 14,
    "start_time": "2021-11-08T10:17:34.290Z"
   },
   {
    "duration": 19,
    "start_time": "2021-11-08T10:17:34.306Z"
   },
   {
    "duration": 34,
    "start_time": "2021-11-08T10:17:34.328Z"
   },
   {
    "duration": 7,
    "start_time": "2021-11-08T10:17:34.365Z"
   },
   {
    "duration": 10,
    "start_time": "2021-11-08T10:17:34.374Z"
   },
   {
    "duration": 1045,
    "start_time": "2021-11-08T10:17:34.386Z"
   },
   {
    "duration": 46,
    "start_time": "2021-11-08T10:17:35.434Z"
   },
   {
    "duration": 18,
    "start_time": "2021-11-08T10:17:35.482Z"
   },
   {
    "duration": 8,
    "start_time": "2021-11-08T10:17:35.503Z"
   },
   {
    "duration": 46,
    "start_time": "2021-11-08T10:17:35.514Z"
   },
   {
    "duration": 21,
    "start_time": "2021-11-08T10:17:35.563Z"
   },
   {
    "duration": 884,
    "start_time": "2021-11-08T10:17:35.587Z"
   },
   {
    "duration": 919,
    "start_time": "2021-11-08T10:17:36.474Z"
   },
   {
    "duration": 521,
    "start_time": "2021-11-08T10:17:37.396Z"
   },
   {
    "duration": 8,
    "start_time": "2021-11-08T10:17:37.920Z"
   },
   {
    "duration": 33,
    "start_time": "2021-11-08T10:17:37.931Z"
   },
   {
    "duration": 14,
    "start_time": "2021-11-08T10:17:37.967Z"
   },
   {
    "duration": 1813,
    "start_time": "2021-11-08T10:17:37.984Z"
   },
   {
    "duration": 8,
    "start_time": "2021-11-08T10:17:39.800Z"
   },
   {
    "duration": 579,
    "start_time": "2021-11-08T10:17:39.810Z"
   },
   {
    "duration": 12,
    "start_time": "2021-11-08T10:17:40.391Z"
   },
   {
    "duration": 14,
    "start_time": "2021-11-08T10:17:40.405Z"
   },
   {
    "duration": 12,
    "start_time": "2021-11-08T10:17:40.421Z"
   },
   {
    "duration": 35,
    "start_time": "2021-11-08T10:17:40.435Z"
   },
   {
    "duration": 815,
    "start_time": "2021-11-08T10:17:40.473Z"
   },
   {
    "duration": 17,
    "start_time": "2021-11-08T10:17:41.291Z"
   },
   {
    "duration": 259,
    "start_time": "2021-11-08T10:17:41.310Z"
   },
   {
    "duration": 2804,
    "start_time": "2021-11-08T10:17:41.572Z"
   },
   {
    "duration": 337,
    "start_time": "2021-11-08T10:17:44.378Z"
   },
   {
    "duration": 19,
    "start_time": "2021-11-08T10:17:44.717Z"
   },
   {
    "duration": 429,
    "start_time": "2021-11-08T10:17:44.739Z"
   },
   {
    "duration": 446,
    "start_time": "2021-11-08T10:17:45.171Z"
   },
   {
    "duration": 22,
    "start_time": "2021-11-08T10:17:45.620Z"
   },
   {
    "duration": 19,
    "start_time": "2021-11-08T10:17:45.660Z"
   },
   {
    "duration": 20,
    "start_time": "2021-11-08T10:17:45.682Z"
   },
   {
    "duration": 16,
    "start_time": "2021-11-08T10:17:45.704Z"
   },
   {
    "duration": 56,
    "start_time": "2021-11-08T10:17:45.722Z"
   },
   {
    "duration": 483,
    "start_time": "2021-11-08T10:17:45.780Z"
   },
   {
    "duration": 2667,
    "start_time": "2021-11-08T10:17:46.270Z"
   },
   {
    "duration": 67,
    "start_time": "2021-11-08T10:17:48.940Z"
   },
   {
    "duration": 21,
    "start_time": "2021-11-08T10:17:49.009Z"
   },
   {
    "duration": 473,
    "start_time": "2021-11-08T10:17:49.060Z"
   },
   {
    "duration": 28,
    "start_time": "2021-11-08T10:17:49.535Z"
   },
   {
    "duration": 11,
    "start_time": "2021-11-08T10:18:57.802Z"
   },
   {
    "duration": 11,
    "start_time": "2021-11-08T10:19:16.828Z"
   },
   {
    "duration": 1816,
    "start_time": "2021-11-08T10:19:30.509Z"
   },
   {
    "duration": 46,
    "start_time": "2021-11-08T10:19:32.328Z"
   },
   {
    "duration": 15,
    "start_time": "2021-11-08T10:19:32.377Z"
   },
   {
    "duration": 13,
    "start_time": "2021-11-08T10:19:32.395Z"
   },
   {
    "duration": 16,
    "start_time": "2021-11-08T10:19:32.411Z"
   },
   {
    "duration": 133,
    "start_time": "2021-11-08T10:19:32.429Z"
   },
   {
    "duration": 11,
    "start_time": "2021-11-08T10:19:32.564Z"
   },
   {
    "duration": 24,
    "start_time": "2021-11-08T10:19:32.579Z"
   },
   {
    "duration": 17,
    "start_time": "2021-11-08T10:19:32.606Z"
   },
   {
    "duration": 42,
    "start_time": "2021-11-08T10:19:32.625Z"
   },
   {
    "duration": 6,
    "start_time": "2021-11-08T10:19:32.670Z"
   },
   {
    "duration": 14,
    "start_time": "2021-11-08T10:19:32.678Z"
   },
   {
    "duration": 38,
    "start_time": "2021-11-08T10:19:32.695Z"
   },
   {
    "duration": 12,
    "start_time": "2021-11-08T10:19:32.736Z"
   },
   {
    "duration": 25,
    "start_time": "2021-11-08T10:19:32.758Z"
   },
   {
    "duration": 8,
    "start_time": "2021-11-08T10:19:32.785Z"
   },
   {
    "duration": 11,
    "start_time": "2021-11-08T10:19:32.795Z"
   },
   {
    "duration": 12,
    "start_time": "2021-11-08T10:19:32.808Z"
   },
   {
    "duration": 37,
    "start_time": "2021-11-08T10:19:32.822Z"
   },
   {
    "duration": 13,
    "start_time": "2021-11-08T10:19:32.862Z"
   },
   {
    "duration": 14,
    "start_time": "2021-11-08T10:19:32.878Z"
   },
   {
    "duration": 155,
    "start_time": "2021-11-08T10:19:32.894Z"
   },
   {
    "duration": 10,
    "start_time": "2021-11-08T10:19:33.061Z"
   },
   {
    "duration": 17,
    "start_time": "2021-11-08T10:19:33.075Z"
   },
   {
    "duration": 4,
    "start_time": "2021-11-08T10:19:33.095Z"
   },
   {
    "duration": 126,
    "start_time": "2021-11-08T10:19:33.101Z"
   },
   {
    "duration": 4,
    "start_time": "2021-11-08T10:19:33.230Z"
   },
   {
    "duration": 27,
    "start_time": "2021-11-08T10:19:33.236Z"
   },
   {
    "duration": 13,
    "start_time": "2021-11-08T10:19:33.265Z"
   },
   {
    "duration": 14,
    "start_time": "2021-11-08T10:19:33.280Z"
   },
   {
    "duration": 20,
    "start_time": "2021-11-08T10:19:33.296Z"
   },
   {
    "duration": 40,
    "start_time": "2021-11-08T10:19:33.319Z"
   },
   {
    "duration": 8,
    "start_time": "2021-11-08T10:19:33.361Z"
   },
   {
    "duration": 11,
    "start_time": "2021-11-08T10:19:33.371Z"
   },
   {
    "duration": 988,
    "start_time": "2021-11-08T10:19:33.384Z"
   },
   {
    "duration": 39,
    "start_time": "2021-11-08T10:19:34.374Z"
   },
   {
    "duration": 18,
    "start_time": "2021-11-08T10:19:34.415Z"
   },
   {
    "duration": 9,
    "start_time": "2021-11-08T10:19:34.460Z"
   },
   {
    "duration": 16,
    "start_time": "2021-11-08T10:19:34.472Z"
   },
   {
    "duration": 18,
    "start_time": "2021-11-08T10:19:34.490Z"
   },
   {
    "duration": 863,
    "start_time": "2021-11-08T10:19:34.511Z"
   },
   {
    "duration": 903,
    "start_time": "2021-11-08T10:19:35.377Z"
   },
   {
    "duration": 490,
    "start_time": "2021-11-08T10:19:36.283Z"
   },
   {
    "duration": 8,
    "start_time": "2021-11-08T10:19:36.777Z"
   },
   {
    "duration": 18,
    "start_time": "2021-11-08T10:19:36.788Z"
   },
   {
    "duration": 8,
    "start_time": "2021-11-08T10:19:36.809Z"
   },
   {
    "duration": 42,
    "start_time": "2021-11-08T10:19:36.820Z"
   },
   {
    "duration": 1873,
    "start_time": "2021-11-08T10:19:36.864Z"
   },
   {
    "duration": 20,
    "start_time": "2021-11-08T10:19:38.740Z"
   },
   {
    "duration": 18,
    "start_time": "2021-11-08T10:19:38.763Z"
   },
   {
    "duration": 565,
    "start_time": "2021-11-08T10:19:38.784Z"
   },
   {
    "duration": 15,
    "start_time": "2021-11-08T10:19:39.351Z"
   },
   {
    "duration": 8,
    "start_time": "2021-11-08T10:19:39.369Z"
   },
   {
    "duration": 9,
    "start_time": "2021-11-08T10:19:39.379Z"
   },
   {
    "duration": 9,
    "start_time": "2021-11-08T10:19:39.390Z"
   },
   {
    "duration": 12,
    "start_time": "2021-11-08T10:19:39.401Z"
   },
   {
    "duration": 809,
    "start_time": "2021-11-08T10:19:39.416Z"
   },
   {
    "duration": 14,
    "start_time": "2021-11-08T10:19:40.228Z"
   },
   {
    "duration": 229,
    "start_time": "2021-11-08T10:19:40.259Z"
   },
   {
    "duration": 2165,
    "start_time": "2021-11-08T10:19:40.491Z"
   },
   {
    "duration": 353,
    "start_time": "2021-11-08T10:19:42.660Z"
   },
   {
    "duration": 19,
    "start_time": "2021-11-08T10:19:43.015Z"
   },
   {
    "duration": 423,
    "start_time": "2021-11-08T10:19:43.036Z"
   },
   {
    "duration": 461,
    "start_time": "2021-11-08T10:19:43.461Z"
   },
   {
    "duration": 36,
    "start_time": "2021-11-08T10:19:43.925Z"
   },
   {
    "duration": 34,
    "start_time": "2021-11-08T10:19:43.964Z"
   },
   {
    "duration": 27,
    "start_time": "2021-11-08T10:19:44.001Z"
   },
   {
    "duration": 8,
    "start_time": "2021-11-08T10:19:44.063Z"
   },
   {
    "duration": 24,
    "start_time": "2021-11-08T10:19:44.074Z"
   },
   {
    "duration": 510,
    "start_time": "2021-11-08T10:19:44.100Z"
   },
   {
    "duration": 2662,
    "start_time": "2021-11-08T10:19:44.612Z"
   },
   {
    "duration": 59,
    "start_time": "2021-11-08T10:19:47.276Z"
   },
   {
    "duration": 36,
    "start_time": "2021-11-08T10:19:47.337Z"
   },
   {
    "duration": 466,
    "start_time": "2021-11-08T10:19:47.375Z"
   },
   {
    "duration": 29,
    "start_time": "2021-11-08T10:19:47.843Z"
   },
   {
    "duration": 12,
    "start_time": "2021-11-08T10:21:14.150Z"
   },
   {
    "duration": 25,
    "start_time": "2021-11-08T10:21:35.869Z"
   },
   {
    "duration": 7,
    "start_time": "2021-11-08T10:21:41.305Z"
   },
   {
    "duration": 11,
    "start_time": "2021-11-08T10:21:45.181Z"
   },
   {
    "duration": 1604,
    "start_time": "2021-11-08T10:22:01.696Z"
   },
   {
    "duration": 42,
    "start_time": "2021-11-08T10:22:03.302Z"
   },
   {
    "duration": 27,
    "start_time": "2021-11-08T10:22:03.347Z"
   },
   {
    "duration": 16,
    "start_time": "2021-11-08T10:22:03.378Z"
   },
   {
    "duration": 19,
    "start_time": "2021-11-08T10:22:03.397Z"
   },
   {
    "duration": 131,
    "start_time": "2021-11-08T10:22:03.418Z"
   },
   {
    "duration": 15,
    "start_time": "2021-11-08T10:22:03.552Z"
   },
   {
    "duration": 22,
    "start_time": "2021-11-08T10:22:03.570Z"
   },
   {
    "duration": 29,
    "start_time": "2021-11-08T10:22:03.594Z"
   },
   {
    "duration": 31,
    "start_time": "2021-11-08T10:22:03.626Z"
   },
   {
    "duration": 23,
    "start_time": "2021-11-08T10:22:03.659Z"
   },
   {
    "duration": 31,
    "start_time": "2021-11-08T10:22:03.685Z"
   },
   {
    "duration": 27,
    "start_time": "2021-11-08T10:22:03.718Z"
   },
   {
    "duration": 22,
    "start_time": "2021-11-08T10:22:03.747Z"
   },
   {
    "duration": 20,
    "start_time": "2021-11-08T10:22:03.771Z"
   },
   {
    "duration": 24,
    "start_time": "2021-11-08T10:22:03.793Z"
   },
   {
    "duration": 28,
    "start_time": "2021-11-08T10:22:03.820Z"
   },
   {
    "duration": 24,
    "start_time": "2021-11-08T10:22:03.850Z"
   },
   {
    "duration": 18,
    "start_time": "2021-11-08T10:22:03.876Z"
   },
   {
    "duration": 144,
    "start_time": "2021-11-08T10:22:03.896Z"
   },
   {
    "duration": 10,
    "start_time": "2021-11-08T10:22:04.043Z"
   },
   {
    "duration": 13,
    "start_time": "2021-11-08T10:22:04.058Z"
   },
   {
    "duration": 103,
    "start_time": "2021-11-08T10:22:04.077Z"
   },
   {
    "duration": 9,
    "start_time": "2021-11-08T10:22:04.184Z"
   },
   {
    "duration": 19,
    "start_time": "2021-11-08T10:22:04.195Z"
   },
   {
    "duration": 16,
    "start_time": "2021-11-08T10:22:04.217Z"
   },
   {
    "duration": 39,
    "start_time": "2021-11-08T10:22:04.236Z"
   },
   {
    "duration": 15,
    "start_time": "2021-11-08T10:22:04.277Z"
   },
   {
    "duration": 8,
    "start_time": "2021-11-08T10:22:04.294Z"
   },
   {
    "duration": 8,
    "start_time": "2021-11-08T10:22:04.304Z"
   },
   {
    "duration": 1068,
    "start_time": "2021-11-08T10:22:04.315Z"
   },
   {
    "duration": 38,
    "start_time": "2021-11-08T10:22:05.386Z"
   },
   {
    "duration": 9,
    "start_time": "2021-11-08T10:22:05.427Z"
   },
   {
    "duration": 14,
    "start_time": "2021-11-08T10:22:05.460Z"
   },
   {
    "duration": 912,
    "start_time": "2021-11-08T10:22:05.477Z"
   },
   {
    "duration": 894,
    "start_time": "2021-11-08T10:22:06.391Z"
   },
   {
    "duration": 499,
    "start_time": "2021-11-08T10:22:07.288Z"
   },
   {
    "duration": 10,
    "start_time": "2021-11-08T10:22:07.790Z"
   },
   {
    "duration": 17,
    "start_time": "2021-11-08T10:22:07.803Z"
   },
   {
    "duration": 38,
    "start_time": "2021-11-08T10:22:07.822Z"
   },
   {
    "duration": 11,
    "start_time": "2021-11-08T10:22:07.862Z"
   },
   {
    "duration": 1806,
    "start_time": "2021-11-08T10:22:07.876Z"
   },
   {
    "duration": 12,
    "start_time": "2021-11-08T10:22:09.684Z"
   },
   {
    "duration": 18,
    "start_time": "2021-11-08T10:22:09.698Z"
   },
   {
    "duration": 577,
    "start_time": "2021-11-08T10:22:09.719Z"
   },
   {
    "duration": 12,
    "start_time": "2021-11-08T10:22:10.299Z"
   },
   {
    "duration": 9,
    "start_time": "2021-11-08T10:22:10.313Z"
   },
   {
    "duration": 36,
    "start_time": "2021-11-08T10:22:10.324Z"
   },
   {
    "duration": 13,
    "start_time": "2021-11-08T10:22:10.362Z"
   },
   {
    "duration": 17,
    "start_time": "2021-11-08T10:22:10.378Z"
   },
   {
    "duration": 779,
    "start_time": "2021-11-08T10:22:10.398Z"
   },
   {
    "duration": 19,
    "start_time": "2021-11-08T10:22:11.179Z"
   },
   {
    "duration": 259,
    "start_time": "2021-11-08T10:22:11.200Z"
   },
   {
    "duration": 2349,
    "start_time": "2021-11-08T10:22:11.461Z"
   },
   {
    "duration": 354,
    "start_time": "2021-11-08T10:22:13.813Z"
   },
   {
    "duration": 21,
    "start_time": "2021-11-08T10:22:14.169Z"
   },
   {
    "duration": 730,
    "start_time": "2021-11-08T10:22:14.192Z"
   },
   {
    "duration": 1889,
    "start_time": "2021-11-08T10:22:14.925Z"
   },
   {
    "duration": 42,
    "start_time": "2021-11-08T10:22:16.817Z"
   },
   {
    "duration": 23,
    "start_time": "2021-11-08T10:22:16.862Z"
   },
   {
    "duration": 21,
    "start_time": "2021-11-08T10:22:16.888Z"
   },
   {
    "duration": 47,
    "start_time": "2021-11-08T10:22:16.912Z"
   },
   {
    "duration": 35,
    "start_time": "2021-11-08T10:22:16.963Z"
   },
   {
    "duration": 516,
    "start_time": "2021-11-08T10:22:17.001Z"
   },
   {
    "duration": 75064,
    "start_time": "2021-11-08T10:22:17.520Z"
   },
   {
    "duration": 78,
    "start_time": "2021-11-08T10:23:32.587Z"
   },
   {
    "duration": 19,
    "start_time": "2021-11-08T10:23:32.668Z"
   },
   {
    "duration": 1176,
    "start_time": "2021-11-08T10:23:32.694Z"
   },
   {
    "duration": 22,
    "start_time": "2021-11-08T10:23:33.872Z"
   },
   {
    "duration": 75681,
    "start_time": "2021-11-08T10:25:36.188Z"
   },
   {
    "duration": 505,
    "start_time": "2021-11-08T10:28:57.386Z"
   },
   {
    "duration": 75462,
    "start_time": "2021-11-08T10:30:51.549Z"
   },
   {
    "duration": 463,
    "start_time": "2021-11-08T10:32:48.512Z"
   },
   {
    "duration": 454,
    "start_time": "2021-11-08T10:32:54.757Z"
   },
   {
    "duration": 461,
    "start_time": "2021-11-08T10:33:01.957Z"
   },
   {
    "duration": 75720,
    "start_time": "2021-11-08T10:33:13.800Z"
   },
   {
    "duration": 27053,
    "start_time": "2021-11-08T10:37:09.623Z"
   },
   {
    "duration": 210,
    "start_time": "2021-11-08T10:51:31.503Z"
   },
   {
    "duration": 21,
    "start_time": "2021-11-08T11:00:14.608Z"
   },
   {
    "duration": 117,
    "start_time": "2021-11-08T11:00:18.656Z"
   },
   {
    "duration": 1853,
    "start_time": "2021-11-08T11:00:35.407Z"
   },
   {
    "duration": 1794,
    "start_time": "2021-11-08T11:11:53.380Z"
   },
   {
    "duration": 1179,
    "start_time": "2021-11-08T11:12:00.722Z"
   },
   {
    "duration": 1219,
    "start_time": "2021-11-08T11:12:12.301Z"
   },
   {
    "duration": 538,
    "start_time": "2021-11-08T11:12:20.921Z"
   },
   {
    "duration": 27,
    "start_time": "2021-11-08T11:47:07.210Z"
   },
   {
    "duration": 22,
    "start_time": "2021-11-08T11:49:54.824Z"
   },
   {
    "duration": 1230,
    "start_time": "2021-11-08T11:55:34.023Z"
   },
   {
    "duration": 19,
    "start_time": "2021-11-08T11:55:49.473Z"
   },
   {
    "duration": 526,
    "start_time": "2021-11-08T11:56:38.662Z"
   },
   {
    "duration": 21,
    "start_time": "2021-11-08T11:57:02.684Z"
   },
   {
    "duration": 1452,
    "start_time": "2021-11-08T11:59:11.126Z"
   },
   {
    "duration": 563,
    "start_time": "2021-11-08T11:59:18.704Z"
   },
   {
    "duration": 1023,
    "start_time": "2021-11-08T12:33:01.606Z"
   },
   {
    "duration": 628,
    "start_time": "2021-11-08T12:38:28.245Z"
   },
   {
    "duration": 408,
    "start_time": "2021-11-08T12:39:08.766Z"
   },
   {
    "duration": 425,
    "start_time": "2021-11-08T12:39:41.475Z"
   },
   {
    "duration": 21,
    "start_time": "2021-11-08T12:40:19.164Z"
   },
   {
    "duration": 15,
    "start_time": "2021-11-08T12:40:33.688Z"
   },
   {
    "duration": 119,
    "start_time": "2021-11-08T12:40:47.962Z"
   },
   {
    "duration": 718,
    "start_time": "2021-11-08T12:41:03.980Z"
   },
   {
    "duration": 392,
    "start_time": "2021-11-08T12:41:31.489Z"
   },
   {
    "duration": 1522,
    "start_time": "2021-11-08T12:44:09.698Z"
   },
   {
    "duration": 42,
    "start_time": "2021-11-08T12:44:11.223Z"
   },
   {
    "duration": 15,
    "start_time": "2021-11-08T12:44:11.268Z"
   },
   {
    "duration": 11,
    "start_time": "2021-11-08T12:44:11.286Z"
   },
   {
    "duration": 17,
    "start_time": "2021-11-08T12:44:11.300Z"
   },
   {
    "duration": 133,
    "start_time": "2021-11-08T12:44:11.319Z"
   },
   {
    "duration": 11,
    "start_time": "2021-11-08T12:44:11.458Z"
   },
   {
    "duration": 18,
    "start_time": "2021-11-08T12:44:11.473Z"
   },
   {
    "duration": 14,
    "start_time": "2021-11-08T12:44:11.494Z"
   },
   {
    "duration": 22,
    "start_time": "2021-11-08T12:44:11.510Z"
   },
   {
    "duration": 31,
    "start_time": "2021-11-08T12:44:11.535Z"
   },
   {
    "duration": 19,
    "start_time": "2021-11-08T12:44:11.568Z"
   },
   {
    "duration": 12,
    "start_time": "2021-11-08T12:44:11.589Z"
   },
   {
    "duration": 10,
    "start_time": "2021-11-08T12:44:11.603Z"
   },
   {
    "duration": 10,
    "start_time": "2021-11-08T12:44:11.615Z"
   },
   {
    "duration": 32,
    "start_time": "2021-11-08T12:44:11.627Z"
   },
   {
    "duration": 11,
    "start_time": "2021-11-08T12:44:11.662Z"
   },
   {
    "duration": 26,
    "start_time": "2021-11-08T12:44:11.675Z"
   },
   {
    "duration": 12,
    "start_time": "2021-11-08T12:44:11.704Z"
   },
   {
    "duration": 148,
    "start_time": "2021-11-08T12:44:11.719Z"
   },
   {
    "duration": 10,
    "start_time": "2021-11-08T12:44:11.870Z"
   },
   {
    "duration": 22,
    "start_time": "2021-11-08T12:44:11.883Z"
   },
   {
    "duration": 104,
    "start_time": "2021-11-08T12:44:11.911Z"
   },
   {
    "duration": 16,
    "start_time": "2021-11-08T12:44:12.018Z"
   },
   {
    "duration": 32,
    "start_time": "2021-11-08T12:44:12.036Z"
   },
   {
    "duration": 27,
    "start_time": "2021-11-08T12:44:12.070Z"
   },
   {
    "duration": 22,
    "start_time": "2021-11-08T12:44:12.099Z"
   },
   {
    "duration": 23,
    "start_time": "2021-11-08T12:44:12.124Z"
   },
   {
    "duration": 11,
    "start_time": "2021-11-08T12:44:12.149Z"
   },
   {
    "duration": 10,
    "start_time": "2021-11-08T12:44:12.162Z"
   },
   {
    "duration": 1010,
    "start_time": "2021-11-08T12:44:12.175Z"
   },
   {
    "duration": 39,
    "start_time": "2021-11-08T12:44:13.187Z"
   },
   {
    "duration": 31,
    "start_time": "2021-11-08T12:44:13.228Z"
   },
   {
    "duration": 17,
    "start_time": "2021-11-08T12:44:13.261Z"
   },
   {
    "duration": 902,
    "start_time": "2021-11-08T12:44:13.280Z"
   },
   {
    "duration": 886,
    "start_time": "2021-11-08T12:44:14.185Z"
   },
   {
    "duration": 491,
    "start_time": "2021-11-08T12:44:15.074Z"
   },
   {
    "duration": 11,
    "start_time": "2021-11-08T12:44:15.568Z"
   },
   {
    "duration": 13,
    "start_time": "2021-11-08T12:44:15.581Z"
   },
   {
    "duration": 12,
    "start_time": "2021-11-08T12:44:15.597Z"
   },
   {
    "duration": 1849,
    "start_time": "2021-11-08T12:44:15.611Z"
   },
   {
    "duration": 13,
    "start_time": "2021-11-08T12:44:17.463Z"
   },
   {
    "duration": 568,
    "start_time": "2021-11-08T12:44:17.479Z"
   },
   {
    "duration": 19,
    "start_time": "2021-11-08T12:44:18.049Z"
   },
   {
    "duration": 10,
    "start_time": "2021-11-08T12:44:18.070Z"
   },
   {
    "duration": 17,
    "start_time": "2021-11-08T12:44:18.082Z"
   },
   {
    "duration": 13,
    "start_time": "2021-11-08T12:44:18.101Z"
   },
   {
    "duration": 804,
    "start_time": "2021-11-08T12:44:18.116Z"
   },
   {
    "duration": 20,
    "start_time": "2021-11-08T12:44:18.922Z"
   },
   {
    "duration": 241,
    "start_time": "2021-11-08T12:44:18.960Z"
   },
   {
    "duration": 2149,
    "start_time": "2021-11-08T12:44:19.204Z"
   },
   {
    "duration": 21,
    "start_time": "2021-11-08T12:44:21.360Z"
   },
   {
    "duration": 720,
    "start_time": "2021-11-08T12:44:21.383Z"
   },
   {
    "duration": 1674,
    "start_time": "2021-11-08T12:44:22.105Z"
   },
   {
    "duration": 27,
    "start_time": "2021-11-08T12:44:23.781Z"
   },
   {
    "duration": 20,
    "start_time": "2021-11-08T12:44:23.810Z"
   },
   {
    "duration": 19,
    "start_time": "2021-11-08T12:44:23.860Z"
   },
   {
    "duration": 9,
    "start_time": "2021-11-08T12:44:23.881Z"
   },
   {
    "duration": 32,
    "start_time": "2021-11-08T12:44:23.893Z"
   },
   {
    "duration": 487,
    "start_time": "2021-11-08T12:44:23.927Z"
   },
   {
    "duration": 25895,
    "start_time": "2021-11-08T12:44:24.417Z"
   },
   {
    "duration": 545,
    "start_time": "2021-11-08T12:44:50.314Z"
   },
   {
    "duration": 20,
    "start_time": "2021-11-08T12:44:50.861Z"
   },
   {
    "duration": 19,
    "start_time": "2021-11-08T12:44:50.884Z"
   },
   {
    "duration": 58,
    "start_time": "2021-11-08T12:44:50.905Z"
   },
   {
    "duration": 26,
    "start_time": "2021-11-08T12:44:50.965Z"
   },
   {
    "duration": 2426,
    "start_time": "2021-11-08T12:44:50.993Z"
   },
   {
    "duration": 36,
    "start_time": "2021-11-08T12:44:53.427Z"
   },
   {
    "duration": 26,
    "start_time": "2021-11-08T12:45:36.871Z"
   },
   {
    "duration": 508,
    "start_time": "2021-11-08T12:46:24.099Z"
   },
   {
    "duration": 27,
    "start_time": "2021-11-08T12:46:28.993Z"
   },
   {
    "duration": 26,
    "start_time": "2021-11-08T12:46:54.163Z"
   },
   {
    "duration": 25,
    "start_time": "2021-11-08T12:47:04.449Z"
   },
   {
    "duration": 35,
    "start_time": "2021-11-08T12:49:25.053Z"
   },
   {
    "duration": 32,
    "start_time": "2021-11-08T12:49:27.804Z"
   },
   {
    "duration": 68,
    "start_time": "2021-11-08T12:51:55.566Z"
   },
   {
    "duration": 55,
    "start_time": "2021-11-08T12:52:39.267Z"
   },
   {
    "duration": 350,
    "start_time": "2021-11-08T21:12:45.600Z"
   },
   {
    "duration": 1699,
    "start_time": "2021-11-08T21:12:55.775Z"
   },
   {
    "duration": 59,
    "start_time": "2021-11-08T21:12:57.478Z"
   },
   {
    "duration": 36,
    "start_time": "2021-11-08T21:12:57.540Z"
   },
   {
    "duration": 15,
    "start_time": "2021-11-08T21:12:57.580Z"
   },
   {
    "duration": 6,
    "start_time": "2021-11-08T21:12:57.598Z"
   },
   {
    "duration": 152,
    "start_time": "2021-11-08T21:12:57.607Z"
   },
   {
    "duration": 20,
    "start_time": "2021-11-08T21:12:57.761Z"
   },
   {
    "duration": 21,
    "start_time": "2021-11-08T21:12:57.787Z"
   },
   {
    "duration": 6,
    "start_time": "2021-11-08T21:12:57.811Z"
   },
   {
    "duration": 50,
    "start_time": "2021-11-08T21:12:57.819Z"
   },
   {
    "duration": 15,
    "start_time": "2021-11-08T21:12:57.873Z"
   },
   {
    "duration": 23,
    "start_time": "2021-11-08T21:12:57.891Z"
   },
   {
    "duration": 14,
    "start_time": "2021-11-08T21:12:57.917Z"
   },
   {
    "duration": 33,
    "start_time": "2021-11-08T21:12:57.934Z"
   },
   {
    "duration": 13,
    "start_time": "2021-11-08T21:12:57.970Z"
   },
   {
    "duration": 10,
    "start_time": "2021-11-08T21:12:57.987Z"
   },
   {
    "duration": 12,
    "start_time": "2021-11-08T21:12:58.000Z"
   },
   {
    "duration": 11,
    "start_time": "2021-11-08T21:12:58.015Z"
   },
   {
    "duration": 11,
    "start_time": "2021-11-08T21:12:58.068Z"
   },
   {
    "duration": 177,
    "start_time": "2021-11-08T21:12:58.081Z"
   },
   {
    "duration": 11,
    "start_time": "2021-11-08T21:12:58.261Z"
   },
   {
    "duration": 5,
    "start_time": "2021-11-08T21:12:58.276Z"
   },
   {
    "duration": 147,
    "start_time": "2021-11-08T21:12:58.287Z"
   },
   {
    "duration": 15,
    "start_time": "2021-11-08T21:12:58.440Z"
   },
   {
    "duration": 22,
    "start_time": "2021-11-08T21:12:58.458Z"
   },
   {
    "duration": 21,
    "start_time": "2021-11-08T21:12:58.483Z"
   },
   {
    "duration": 16,
    "start_time": "2021-11-08T21:12:58.507Z"
   },
   {
    "duration": 50,
    "start_time": "2021-11-08T21:12:58.525Z"
   },
   {
    "duration": 10,
    "start_time": "2021-11-08T21:12:58.580Z"
   },
   {
    "duration": 14,
    "start_time": "2021-11-08T21:12:58.592Z"
   },
   {
    "duration": 1254,
    "start_time": "2021-11-08T21:12:58.608Z"
   },
   {
    "duration": 48,
    "start_time": "2021-11-08T21:12:59.867Z"
   },
   {
    "duration": 9,
    "start_time": "2021-11-08T21:12:59.917Z"
   },
   {
    "duration": 48,
    "start_time": "2021-11-08T21:12:59.929Z"
   },
   {
    "duration": 945,
    "start_time": "2021-11-08T21:12:59.981Z"
   },
   {
    "duration": 1007,
    "start_time": "2021-11-08T21:13:00.929Z"
   },
   {
    "duration": 563,
    "start_time": "2021-11-08T21:13:01.939Z"
   },
   {
    "duration": 13,
    "start_time": "2021-11-08T21:13:02.504Z"
   },
   {
    "duration": 12,
    "start_time": "2021-11-08T21:13:02.520Z"
   },
   {
    "duration": 42,
    "start_time": "2021-11-08T21:13:02.535Z"
   },
   {
    "duration": 1958,
    "start_time": "2021-11-08T21:13:02.582Z"
   },
   {
    "duration": 30,
    "start_time": "2021-11-08T21:13:04.542Z"
   },
   {
    "duration": 640,
    "start_time": "2021-11-08T21:13:04.575Z"
   },
   {
    "duration": 11,
    "start_time": "2021-11-08T21:13:05.218Z"
   },
   {
    "duration": 11,
    "start_time": "2021-11-08T21:13:05.232Z"
   },
   {
    "duration": 12,
    "start_time": "2021-11-08T21:13:05.269Z"
   },
   {
    "duration": 14,
    "start_time": "2021-11-08T21:13:05.284Z"
   },
   {
    "duration": 897,
    "start_time": "2021-11-08T21:13:05.300Z"
   },
   {
    "duration": 25,
    "start_time": "2021-11-08T21:13:06.199Z"
   },
   {
    "duration": 289,
    "start_time": "2021-11-08T21:13:06.226Z"
   },
   {
    "duration": 2468,
    "start_time": "2021-11-08T21:13:06.519Z"
   },
   {
    "duration": 26,
    "start_time": "2021-11-08T21:13:08.990Z"
   },
   {
    "duration": 769,
    "start_time": "2021-11-08T21:13:09.018Z"
   },
   {
    "duration": 1982,
    "start_time": "2021-11-08T21:13:09.791Z"
   },
   {
    "duration": 33,
    "start_time": "2021-11-08T21:13:11.775Z"
   },
   {
    "duration": 22,
    "start_time": "2021-11-08T21:13:11.810Z"
   },
   {
    "duration": 26,
    "start_time": "2021-11-08T21:13:11.868Z"
   },
   {
    "duration": 11,
    "start_time": "2021-11-08T21:13:11.896Z"
   },
   {
    "duration": 62,
    "start_time": "2021-11-08T21:13:11.910Z"
   },
   {
    "duration": 541,
    "start_time": "2021-11-08T21:13:11.975Z"
   },
   {
    "duration": 29012,
    "start_time": "2021-11-08T21:13:12.518Z"
   },
   {
    "duration": 550,
    "start_time": "2021-11-08T21:13:41.533Z"
   },
   {
    "duration": 20,
    "start_time": "2021-11-08T21:13:42.086Z"
   },
   {
    "duration": 21,
    "start_time": "2021-11-08T21:13:42.109Z"
   },
   {
    "duration": 57,
    "start_time": "2021-11-08T21:13:42.133Z"
   },
   {
    "duration": 20,
    "start_time": "2021-11-08T21:13:42.193Z"
   },
   {
    "duration": 2154,
    "start_time": "2021-11-08T21:13:42.216Z"
   },
   {
    "duration": 92,
    "start_time": "2021-11-08T21:13:44.382Z"
   },
   {
    "duration": 80,
    "start_time": "2021-11-08T21:19:27.811Z"
   },
   {
    "duration": 86,
    "start_time": "2021-11-08T21:19:40.234Z"
   },
   {
    "duration": 85,
    "start_time": "2021-11-08T21:21:15.652Z"
   },
   {
    "duration": 64,
    "start_time": "2021-11-08T21:21:18.280Z"
   },
   {
    "duration": 51,
    "start_time": "2021-11-08T21:26:41.001Z"
   },
   {
    "duration": 47,
    "start_time": "2021-11-08T21:26:43.183Z"
   },
   {
    "duration": 53,
    "start_time": "2021-11-08T21:27:14.126Z"
   },
   {
    "duration": 57,
    "start_time": "2021-11-08T21:27:29.392Z"
   },
   {
    "duration": 78,
    "start_time": "2021-11-08T21:31:33.396Z"
   },
   {
    "duration": 66,
    "start_time": "2021-11-08T21:31:36.351Z"
   },
   {
    "duration": 70,
    "start_time": "2021-11-08T21:39:02.891Z"
   },
   {
    "duration": 78,
    "start_time": "2021-11-08T21:39:05.458Z"
   },
   {
    "duration": 126,
    "start_time": "2021-11-08T21:40:11.737Z"
   },
   {
    "duration": 84,
    "start_time": "2021-11-08T21:40:13.936Z"
   },
   {
    "duration": 97,
    "start_time": "2021-11-08T21:46:11.155Z"
   },
   {
    "duration": 90,
    "start_time": "2021-11-08T21:46:14.254Z"
   },
   {
    "duration": 1552,
    "start_time": "2021-11-08T21:53:36.073Z"
   },
   {
    "duration": 54,
    "start_time": "2021-11-08T21:53:37.628Z"
   },
   {
    "duration": 19,
    "start_time": "2021-11-08T21:53:37.685Z"
   },
   {
    "duration": 12,
    "start_time": "2021-11-08T21:53:37.708Z"
   },
   {
    "duration": 7,
    "start_time": "2021-11-08T21:53:37.723Z"
   },
   {
    "duration": 145,
    "start_time": "2021-11-08T21:53:37.733Z"
   },
   {
    "duration": 11,
    "start_time": "2021-11-08T21:53:37.880Z"
   },
   {
    "duration": 20,
    "start_time": "2021-11-08T21:53:37.896Z"
   },
   {
    "duration": 7,
    "start_time": "2021-11-08T21:53:37.919Z"
   },
   {
    "duration": 47,
    "start_time": "2021-11-08T21:53:37.928Z"
   },
   {
    "duration": 12,
    "start_time": "2021-11-08T21:53:37.977Z"
   },
   {
    "duration": 11,
    "start_time": "2021-11-08T21:53:37.992Z"
   },
   {
    "duration": 10,
    "start_time": "2021-11-08T21:53:38.006Z"
   },
   {
    "duration": 9,
    "start_time": "2021-11-08T21:53:38.019Z"
   },
   {
    "duration": 44,
    "start_time": "2021-11-08T21:53:38.030Z"
   },
   {
    "duration": 11,
    "start_time": "2021-11-08T21:53:38.076Z"
   },
   {
    "duration": 11,
    "start_time": "2021-11-08T21:53:38.090Z"
   },
   {
    "duration": 11,
    "start_time": "2021-11-08T21:53:38.104Z"
   },
   {
    "duration": 51,
    "start_time": "2021-11-08T21:53:38.117Z"
   },
   {
    "duration": 156,
    "start_time": "2021-11-08T21:53:38.171Z"
   },
   {
    "duration": 12,
    "start_time": "2021-11-08T21:53:38.329Z"
   },
   {
    "duration": 24,
    "start_time": "2021-11-08T21:53:38.343Z"
   },
   {
    "duration": 106,
    "start_time": "2021-11-08T21:53:38.373Z"
   },
   {
    "duration": 10,
    "start_time": "2021-11-08T21:53:38.483Z"
   },
   {
    "duration": 16,
    "start_time": "2021-11-08T21:53:38.496Z"
   },
   {
    "duration": 16,
    "start_time": "2021-11-08T21:53:38.514Z"
   },
   {
    "duration": 44,
    "start_time": "2021-11-08T21:53:38.532Z"
   },
   {
    "duration": 13,
    "start_time": "2021-11-08T21:53:38.579Z"
   },
   {
    "duration": 8,
    "start_time": "2021-11-08T21:53:38.595Z"
   },
   {
    "duration": 8,
    "start_time": "2021-11-08T21:53:38.605Z"
   },
   {
    "duration": 1047,
    "start_time": "2021-11-08T21:53:38.615Z"
   },
   {
    "duration": 40,
    "start_time": "2021-11-08T21:53:39.664Z"
   },
   {
    "duration": 9,
    "start_time": "2021-11-08T21:53:39.706Z"
   },
   {
    "duration": 17,
    "start_time": "2021-11-08T21:53:39.717Z"
   },
   {
    "duration": 948,
    "start_time": "2021-11-08T21:53:39.737Z"
   },
   {
    "duration": 925,
    "start_time": "2021-11-08T21:53:40.688Z"
   },
   {
    "duration": 527,
    "start_time": "2021-11-08T21:53:41.615Z"
   },
   {
    "duration": 23,
    "start_time": "2021-11-08T21:53:42.144Z"
   },
   {
    "duration": 11,
    "start_time": "2021-11-08T21:53:42.169Z"
   },
   {
    "duration": 23,
    "start_time": "2021-11-08T21:53:42.182Z"
   },
   {
    "duration": 1815,
    "start_time": "2021-11-08T21:53:42.208Z"
   },
   {
    "duration": 13,
    "start_time": "2021-11-08T21:53:44.025Z"
   },
   {
    "duration": 596,
    "start_time": "2021-11-08T21:53:44.041Z"
   },
   {
    "duration": 12,
    "start_time": "2021-11-08T21:53:44.639Z"
   },
   {
    "duration": 11,
    "start_time": "2021-11-08T21:53:44.667Z"
   },
   {
    "duration": 10,
    "start_time": "2021-11-08T21:53:44.680Z"
   },
   {
    "duration": 15,
    "start_time": "2021-11-08T21:53:44.693Z"
   },
   {
    "duration": 832,
    "start_time": "2021-11-08T21:53:44.710Z"
   },
   {
    "duration": 31,
    "start_time": "2021-11-08T21:53:45.545Z"
   },
   {
    "duration": 268,
    "start_time": "2021-11-08T21:53:45.578Z"
   },
   {
    "duration": 2253,
    "start_time": "2021-11-08T21:53:45.849Z"
   },
   {
    "duration": 21,
    "start_time": "2021-11-08T21:53:48.104Z"
   },
   {
    "duration": 824,
    "start_time": "2021-11-08T21:53:48.127Z"
   },
   {
    "duration": 1831,
    "start_time": "2021-11-08T21:53:48.954Z"
   },
   {
    "duration": 25,
    "start_time": "2021-11-08T21:53:50.788Z"
   },
   {
    "duration": 18,
    "start_time": "2021-11-08T21:53:50.816Z"
   },
   {
    "duration": 45,
    "start_time": "2021-11-08T21:53:50.837Z"
   },
   {
    "duration": 9,
    "start_time": "2021-11-08T21:53:50.884Z"
   },
   {
    "duration": 35,
    "start_time": "2021-11-08T21:53:50.896Z"
   },
   {
    "duration": 519,
    "start_time": "2021-11-08T21:53:50.933Z"
   },
   {
    "duration": 27206,
    "start_time": "2021-11-08T21:53:51.454Z"
   },
   {
    "duration": 527,
    "start_time": "2021-11-08T21:54:18.663Z"
   },
   {
    "duration": 21,
    "start_time": "2021-11-08T21:54:19.192Z"
   },
   {
    "duration": 21,
    "start_time": "2021-11-08T21:54:19.216Z"
   },
   {
    "duration": 21,
    "start_time": "2021-11-08T21:54:19.267Z"
   },
   {
    "duration": 27,
    "start_time": "2021-11-08T21:54:19.291Z"
   },
   {
    "duration": 1565,
    "start_time": "2021-11-08T21:54:19.320Z"
   },
   {
    "duration": 115,
    "start_time": "2021-11-08T21:54:20.893Z"
   },
   {
    "duration": 1224,
    "start_time": "2021-11-09T08:37:51.020Z"
   },
   {
    "duration": 28,
    "start_time": "2021-11-09T08:37:52.246Z"
   },
   {
    "duration": 12,
    "start_time": "2021-11-09T08:37:52.277Z"
   },
   {
    "duration": 38,
    "start_time": "2021-11-09T08:37:52.291Z"
   },
   {
    "duration": 21,
    "start_time": "2021-11-09T08:37:52.331Z"
   },
   {
    "duration": 84,
    "start_time": "2021-11-09T08:37:52.354Z"
   },
   {
    "duration": 9,
    "start_time": "2021-11-09T08:37:52.440Z"
   },
   {
    "duration": 15,
    "start_time": "2021-11-09T08:37:52.451Z"
   },
   {
    "duration": 14,
    "start_time": "2021-11-09T08:37:52.469Z"
   },
   {
    "duration": 18,
    "start_time": "2021-11-09T08:37:52.485Z"
   },
   {
    "duration": 16,
    "start_time": "2021-11-09T08:37:52.505Z"
   },
   {
    "duration": 13,
    "start_time": "2021-11-09T08:37:52.523Z"
   },
   {
    "duration": 26,
    "start_time": "2021-11-09T08:37:52.538Z"
   },
   {
    "duration": 6,
    "start_time": "2021-11-09T08:37:52.566Z"
   },
   {
    "duration": 28,
    "start_time": "2021-11-09T08:37:52.574Z"
   },
   {
    "duration": 19,
    "start_time": "2021-11-09T08:37:52.604Z"
   },
   {
    "duration": 26,
    "start_time": "2021-11-09T08:37:52.625Z"
   },
   {
    "duration": 23,
    "start_time": "2021-11-09T08:37:52.653Z"
   },
   {
    "duration": 21,
    "start_time": "2021-11-09T08:37:52.678Z"
   },
   {
    "duration": 102,
    "start_time": "2021-11-09T08:37:52.701Z"
   },
   {
    "duration": 7,
    "start_time": "2021-11-09T08:37:52.805Z"
   },
   {
    "duration": 9,
    "start_time": "2021-11-09T08:37:52.814Z"
   },
   {
    "duration": 75,
    "start_time": "2021-11-09T08:37:52.825Z"
   },
   {
    "duration": 7,
    "start_time": "2021-11-09T08:37:52.902Z"
   },
   {
    "duration": 14,
    "start_time": "2021-11-09T08:37:52.910Z"
   },
   {
    "duration": 19,
    "start_time": "2021-11-09T08:37:52.925Z"
   },
   {
    "duration": 11,
    "start_time": "2021-11-09T08:37:52.950Z"
   },
   {
    "duration": 11,
    "start_time": "2021-11-09T08:37:52.964Z"
   },
   {
    "duration": 18,
    "start_time": "2021-11-09T08:37:52.977Z"
   },
   {
    "duration": 13,
    "start_time": "2021-11-09T08:37:52.996Z"
   },
   {
    "duration": 698,
    "start_time": "2021-11-09T08:37:53.010Z"
   },
   {
    "duration": 35,
    "start_time": "2021-11-09T08:37:53.709Z"
   },
   {
    "duration": 8,
    "start_time": "2021-11-09T08:37:53.746Z"
   },
   {
    "duration": 23,
    "start_time": "2021-11-09T08:37:53.756Z"
   },
   {
    "duration": 476,
    "start_time": "2021-11-09T08:37:53.781Z"
   },
   {
    "duration": 542,
    "start_time": "2021-11-09T08:37:54.259Z"
   },
   {
    "duration": 318,
    "start_time": "2021-11-09T08:37:54.803Z"
   },
   {
    "duration": 21,
    "start_time": "2021-11-09T08:37:55.123Z"
   },
   {
    "duration": 9,
    "start_time": "2021-11-09T08:37:55.146Z"
   },
   {
    "duration": 15,
    "start_time": "2021-11-09T08:37:55.157Z"
   },
   {
    "duration": 988,
    "start_time": "2021-11-09T08:37:55.173Z"
   },
   {
    "duration": 11,
    "start_time": "2021-11-09T08:37:56.163Z"
   },
   {
    "duration": 438,
    "start_time": "2021-11-09T08:37:56.175Z"
   },
   {
    "duration": 10,
    "start_time": "2021-11-09T08:37:56.615Z"
   },
   {
    "duration": 24,
    "start_time": "2021-11-09T08:37:56.627Z"
   },
   {
    "duration": 29,
    "start_time": "2021-11-09T08:37:56.653Z"
   },
   {
    "duration": 20,
    "start_time": "2021-11-09T08:37:56.684Z"
   },
   {
    "duration": 502,
    "start_time": "2021-11-09T08:37:56.706Z"
   },
   {
    "duration": 15,
    "start_time": "2021-11-09T08:37:57.210Z"
   },
   {
    "duration": 291,
    "start_time": "2021-11-09T08:37:57.227Z"
   },
   {
    "duration": 1366,
    "start_time": "2021-11-09T08:37:57.520Z"
   },
   {
    "duration": 12,
    "start_time": "2021-11-09T08:37:58.887Z"
   },
   {
    "duration": 513,
    "start_time": "2021-11-09T08:37:58.900Z"
   },
   {
    "duration": 1324,
    "start_time": "2021-11-09T08:37:59.414Z"
   },
   {
    "duration": 18,
    "start_time": "2021-11-09T08:38:00.744Z"
   },
   {
    "duration": 26,
    "start_time": "2021-11-09T08:38:00.764Z"
   },
   {
    "duration": 19,
    "start_time": "2021-11-09T08:38:00.792Z"
   },
   {
    "duration": 85,
    "start_time": "2021-11-09T08:38:00.813Z"
   },
   {
    "duration": 52,
    "start_time": "2021-11-09T08:38:00.900Z"
   },
   {
    "duration": 294,
    "start_time": "2021-11-09T08:38:00.954Z"
   },
   {
    "duration": 15646,
    "start_time": "2021-11-09T08:38:01.250Z"
   },
   {
    "duration": 449,
    "start_time": "2021-11-09T08:38:16.898Z"
   },
   {
    "duration": 14,
    "start_time": "2021-11-09T08:38:17.349Z"
   },
   {
    "duration": 13,
    "start_time": "2021-11-09T08:38:17.365Z"
   },
   {
    "duration": 14,
    "start_time": "2021-11-09T08:38:17.380Z"
   },
   {
    "duration": 23,
    "start_time": "2021-11-09T08:38:17.396Z"
   },
   {
    "duration": 1538,
    "start_time": "2021-11-09T08:38:17.421Z"
   },
   {
    "duration": 58,
    "start_time": "2021-11-09T08:38:18.961Z"
   },
   {
    "duration": 1222,
    "start_time": "2021-11-09T14:35:56.670Z"
   },
   {
    "duration": 25,
    "start_time": "2021-11-09T14:35:57.894Z"
   },
   {
    "duration": 13,
    "start_time": "2021-11-09T14:35:57.921Z"
   },
   {
    "duration": 8,
    "start_time": "2021-11-09T14:35:57.936Z"
   },
   {
    "duration": 21,
    "start_time": "2021-11-09T14:35:57.945Z"
   },
   {
    "duration": 74,
    "start_time": "2021-11-09T14:35:57.968Z"
   },
   {
    "duration": 8,
    "start_time": "2021-11-09T14:35:58.044Z"
   },
   {
    "duration": 17,
    "start_time": "2021-11-09T14:35:58.064Z"
   },
   {
    "duration": 5,
    "start_time": "2021-11-09T14:35:58.083Z"
   },
   {
    "duration": 29,
    "start_time": "2021-11-09T14:35:58.090Z"
   },
   {
    "duration": 9,
    "start_time": "2021-11-09T14:35:58.122Z"
   },
   {
    "duration": 13,
    "start_time": "2021-11-09T14:35:58.132Z"
   },
   {
    "duration": 17,
    "start_time": "2021-11-09T14:35:58.147Z"
   },
   {
    "duration": 7,
    "start_time": "2021-11-09T14:35:58.166Z"
   },
   {
    "duration": 8,
    "start_time": "2021-11-09T14:35:58.175Z"
   },
   {
    "duration": 11,
    "start_time": "2021-11-09T14:35:58.184Z"
   },
   {
    "duration": 9,
    "start_time": "2021-11-09T14:35:58.197Z"
   },
   {
    "duration": 13,
    "start_time": "2021-11-09T14:35:58.207Z"
   },
   {
    "duration": 8,
    "start_time": "2021-11-09T14:35:58.222Z"
   },
   {
    "duration": 80,
    "start_time": "2021-11-09T14:35:58.263Z"
   },
   {
    "duration": 7,
    "start_time": "2021-11-09T14:35:58.345Z"
   },
   {
    "duration": 3,
    "start_time": "2021-11-09T14:35:58.363Z"
   },
   {
    "duration": 67,
    "start_time": "2021-11-09T14:35:58.370Z"
   },
   {
    "duration": 23,
    "start_time": "2021-11-09T14:35:58.440Z"
   },
   {
    "duration": 11,
    "start_time": "2021-11-09T14:35:58.465Z"
   },
   {
    "duration": 10,
    "start_time": "2021-11-09T14:35:58.478Z"
   },
   {
    "duration": 15,
    "start_time": "2021-11-09T14:35:58.490Z"
   },
   {
    "duration": 6,
    "start_time": "2021-11-09T14:35:58.507Z"
   },
   {
    "duration": 5,
    "start_time": "2021-11-09T14:35:58.515Z"
   },
   {
    "duration": 4,
    "start_time": "2021-11-09T14:35:58.521Z"
   },
   {
    "duration": 608,
    "start_time": "2021-11-09T14:35:58.527Z"
   },
   {
    "duration": 35,
    "start_time": "2021-11-09T14:35:59.137Z"
   },
   {
    "duration": 7,
    "start_time": "2021-11-09T14:35:59.173Z"
   },
   {
    "duration": 13,
    "start_time": "2021-11-09T14:35:59.181Z"
   },
   {
    "duration": 494,
    "start_time": "2021-11-09T14:35:59.196Z"
   },
   {
    "duration": 562,
    "start_time": "2021-11-09T14:35:59.692Z"
   },
   {
    "duration": 323,
    "start_time": "2021-11-09T14:36:00.255Z"
   },
   {
    "duration": 9,
    "start_time": "2021-11-09T14:36:00.580Z"
   },
   {
    "duration": 18,
    "start_time": "2021-11-09T14:36:00.591Z"
   },
   {
    "duration": 13,
    "start_time": "2021-11-09T14:36:00.611Z"
   },
   {
    "duration": 1014,
    "start_time": "2021-11-09T14:36:00.625Z"
   },
   {
    "duration": 24,
    "start_time": "2021-11-09T14:36:01.642Z"
   },
   {
    "duration": 351,
    "start_time": "2021-11-09T14:36:01.668Z"
   },
   {
    "duration": 11,
    "start_time": "2021-11-09T14:36:02.021Z"
   },
   {
    "duration": 31,
    "start_time": "2021-11-09T14:36:02.034Z"
   },
   {
    "duration": 28,
    "start_time": "2021-11-09T14:36:02.067Z"
   },
   {
    "duration": 21,
    "start_time": "2021-11-09T14:36:02.097Z"
   },
   {
    "duration": 515,
    "start_time": "2021-11-09T14:36:02.120Z"
   },
   {
    "duration": 28,
    "start_time": "2021-11-09T14:36:02.638Z"
   },
   {
    "duration": 155,
    "start_time": "2021-11-09T14:36:02.667Z"
   },
   {
    "duration": 1292,
    "start_time": "2021-11-09T14:36:02.824Z"
   },
   {
    "duration": 13,
    "start_time": "2021-11-09T14:36:04.118Z"
   },
   {
    "duration": 500,
    "start_time": "2021-11-09T14:36:04.133Z"
   },
   {
    "duration": 1210,
    "start_time": "2021-11-09T14:36:04.635Z"
   },
   {
    "duration": 26,
    "start_time": "2021-11-09T14:36:05.848Z"
   },
   {
    "duration": 15,
    "start_time": "2021-11-09T14:36:05.876Z"
   },
   {
    "duration": 13,
    "start_time": "2021-11-09T14:36:05.893Z"
   },
   {
    "duration": 8,
    "start_time": "2021-11-09T14:36:05.909Z"
   },
   {
    "duration": 60,
    "start_time": "2021-11-09T14:36:05.919Z"
   },
   {
    "duration": 291,
    "start_time": "2021-11-09T14:36:05.981Z"
   },
   {
    "duration": 15389,
    "start_time": "2021-11-09T14:36:06.274Z"
   },
   {
    "duration": 370,
    "start_time": "2021-11-09T14:36:21.664Z"
   },
   {
    "duration": 14,
    "start_time": "2021-11-09T14:36:22.036Z"
   },
   {
    "duration": 24,
    "start_time": "2021-11-09T14:36:22.052Z"
   },
   {
    "duration": 25,
    "start_time": "2021-11-09T14:36:22.078Z"
   },
   {
    "duration": 24,
    "start_time": "2021-11-09T14:36:22.105Z"
   },
   {
    "duration": 1558,
    "start_time": "2021-11-09T14:36:22.130Z"
   },
   {
    "duration": 59,
    "start_time": "2021-11-09T14:36:23.694Z"
   },
   {
    "duration": 14,
    "start_time": "2021-11-09T17:43:51.606Z"
   },
   {
    "duration": 6,
    "start_time": "2021-11-09T17:43:54.375Z"
   },
   {
    "duration": 6,
    "start_time": "2021-11-09T17:44:00.825Z"
   },
   {
    "duration": 5,
    "start_time": "2021-11-09T17:44:04.689Z"
   },
   {
    "duration": 6,
    "start_time": "2021-11-09T17:44:27.779Z"
   },
   {
    "duration": 323,
    "start_time": "2021-11-09T17:44:40.303Z"
   },
   {
    "duration": 6,
    "start_time": "2021-11-09T17:44:45.861Z"
   },
   {
    "duration": 1545,
    "start_time": "2021-11-09T17:48:10.261Z"
   },
   {
    "duration": 40,
    "start_time": "2021-11-09T17:48:11.809Z"
   },
   {
    "duration": 16,
    "start_time": "2021-11-09T17:48:11.851Z"
   },
   {
    "duration": 17,
    "start_time": "2021-11-09T17:48:11.869Z"
   },
   {
    "duration": 6,
    "start_time": "2021-11-09T17:48:11.889Z"
   },
   {
    "duration": 112,
    "start_time": "2021-11-09T17:48:11.921Z"
   },
   {
    "duration": 11,
    "start_time": "2021-11-09T17:48:12.035Z"
   },
   {
    "duration": 20,
    "start_time": "2021-11-09T17:48:12.050Z"
   },
   {
    "duration": 6,
    "start_time": "2021-11-09T17:48:12.073Z"
   },
   {
    "duration": 44,
    "start_time": "2021-11-09T17:48:12.081Z"
   },
   {
    "duration": 9,
    "start_time": "2021-11-09T17:48:12.128Z"
   },
   {
    "duration": 12,
    "start_time": "2021-11-09T17:48:12.139Z"
   },
   {
    "duration": 12,
    "start_time": "2021-11-09T17:48:12.153Z"
   },
   {
    "duration": 9,
    "start_time": "2021-11-09T17:48:12.167Z"
   },
   {
    "duration": 49,
    "start_time": "2021-11-09T17:48:12.178Z"
   },
   {
    "duration": 9,
    "start_time": "2021-11-09T17:48:12.229Z"
   },
   {
    "duration": 12,
    "start_time": "2021-11-09T17:48:12.241Z"
   },
   {
    "duration": 17,
    "start_time": "2021-11-09T17:48:12.256Z"
   },
   {
    "duration": 10,
    "start_time": "2021-11-09T17:48:12.275Z"
   },
   {
    "duration": 140,
    "start_time": "2021-11-09T17:48:12.322Z"
   },
   {
    "duration": 11,
    "start_time": "2021-11-09T17:48:12.464Z"
   },
   {
    "duration": 6,
    "start_time": "2021-11-09T17:48:12.477Z"
   },
   {
    "duration": 123,
    "start_time": "2021-11-09T17:48:12.490Z"
   },
   {
    "duration": 4,
    "start_time": "2021-11-09T17:48:12.623Z"
   },
   {
    "duration": 18,
    "start_time": "2021-11-09T17:48:12.630Z"
   },
   {
    "duration": 16,
    "start_time": "2021-11-09T17:48:12.650Z"
   },
   {
    "duration": 19,
    "start_time": "2021-11-09T17:48:12.668Z"
   },
   {
    "duration": 35,
    "start_time": "2021-11-09T17:48:12.690Z"
   },
   {
    "duration": 10,
    "start_time": "2021-11-09T17:48:12.728Z"
   },
   {
    "duration": 13,
    "start_time": "2021-11-09T17:48:12.741Z"
   },
   {
    "duration": 1021,
    "start_time": "2021-11-09T17:48:12.757Z"
   },
   {
    "duration": 50,
    "start_time": "2021-11-09T17:48:13.781Z"
   },
   {
    "duration": 8,
    "start_time": "2021-11-09T17:48:13.834Z"
   },
   {
    "duration": 17,
    "start_time": "2021-11-09T17:48:13.846Z"
   },
   {
    "duration": 870,
    "start_time": "2021-11-09T17:48:13.865Z"
   },
   {
    "duration": 925,
    "start_time": "2021-11-09T17:48:14.738Z"
   },
   {
    "duration": 504,
    "start_time": "2021-11-09T17:48:15.666Z"
   },
   {
    "duration": 11,
    "start_time": "2021-11-09T17:48:16.173Z"
   },
   {
    "duration": 10,
    "start_time": "2021-11-09T17:48:16.187Z"
   },
   {
    "duration": 13,
    "start_time": "2021-11-09T17:48:16.222Z"
   },
   {
    "duration": 1879,
    "start_time": "2021-11-09T17:48:16.237Z"
   },
   {
    "duration": 13,
    "start_time": "2021-11-09T17:48:18.118Z"
   },
   {
    "duration": 591,
    "start_time": "2021-11-09T17:48:18.134Z"
   },
   {
    "duration": 11,
    "start_time": "2021-11-09T17:48:18.728Z"
   },
   {
    "duration": 11,
    "start_time": "2021-11-09T17:48:18.741Z"
   },
   {
    "duration": 14,
    "start_time": "2021-11-09T17:48:18.754Z"
   },
   {
    "duration": 51,
    "start_time": "2021-11-09T17:48:18.771Z"
   },
   {
    "duration": 897,
    "start_time": "2021-11-09T17:48:18.825Z"
   },
   {
    "duration": 23,
    "start_time": "2021-11-09T17:48:19.725Z"
   },
   {
    "duration": 274,
    "start_time": "2021-11-09T17:48:19.751Z"
   },
   {
    "duration": 2204,
    "start_time": "2021-11-09T17:48:20.027Z"
   },
   {
    "duration": 24,
    "start_time": "2021-11-09T17:48:22.234Z"
   },
   {
    "duration": 752,
    "start_time": "2021-11-09T17:48:22.260Z"
   },
   {
    "duration": 1778,
    "start_time": "2021-11-09T17:48:23.014Z"
   },
   {
    "duration": 38,
    "start_time": "2021-11-09T17:48:24.795Z"
   },
   {
    "duration": 21,
    "start_time": "2021-11-09T17:48:24.835Z"
   },
   {
    "duration": 17,
    "start_time": "2021-11-09T17:48:24.859Z"
   },
   {
    "duration": 11,
    "start_time": "2021-11-09T17:48:24.879Z"
   },
   {
    "duration": 31,
    "start_time": "2021-11-09T17:48:24.924Z"
   },
   {
    "duration": 502,
    "start_time": "2021-11-09T17:48:24.957Z"
   },
   {
    "duration": 27205,
    "start_time": "2021-11-09T17:48:25.462Z"
   },
   {
    "duration": 544,
    "start_time": "2021-11-09T17:48:52.670Z"
   },
   {
    "duration": 25,
    "start_time": "2021-11-09T17:48:53.216Z"
   },
   {
    "duration": 19,
    "start_time": "2021-11-09T17:48:53.243Z"
   },
   {
    "duration": 17,
    "start_time": "2021-11-09T17:48:53.264Z"
   },
   {
    "duration": 52,
    "start_time": "2021-11-09T17:48:53.283Z"
   },
   {
    "duration": 1843,
    "start_time": "2021-11-09T17:48:53.338Z"
   },
   {
    "duration": 108,
    "start_time": "2021-11-09T17:48:55.191Z"
   },
   {
    "duration": 440,
    "start_time": "2021-11-09T17:50:27.913Z"
   },
   {
    "duration": 24,
    "start_time": "2021-11-09T18:02:40.372Z"
   },
   {
    "duration": 19,
    "start_time": "2021-11-09T18:02:53.656Z"
   },
   {
    "duration": 87,
    "start_time": "2021-11-09T18:03:11.281Z"
   },
   {
    "duration": 20,
    "start_time": "2021-11-09T18:03:20.252Z"
   },
   {
    "duration": 274,
    "start_time": "2021-11-09T18:58:53.565Z"
   },
   {
    "duration": 1188,
    "start_time": "2021-11-09T18:59:06.399Z"
   },
   {
    "duration": 26,
    "start_time": "2021-11-09T18:59:07.589Z"
   },
   {
    "duration": 12,
    "start_time": "2021-11-09T18:59:07.617Z"
   },
   {
    "duration": 10,
    "start_time": "2021-11-09T18:59:07.632Z"
   },
   {
    "duration": 6,
    "start_time": "2021-11-09T18:59:07.664Z"
   },
   {
    "duration": 76,
    "start_time": "2021-11-09T18:59:07.672Z"
   },
   {
    "duration": 10,
    "start_time": "2021-11-09T18:59:07.763Z"
   },
   {
    "duration": 16,
    "start_time": "2021-11-09T18:59:07.777Z"
   },
   {
    "duration": 4,
    "start_time": "2021-11-09T18:59:07.796Z"
   },
   {
    "duration": 9,
    "start_time": "2021-11-09T18:59:07.802Z"
   },
   {
    "duration": 7,
    "start_time": "2021-11-09T18:59:07.813Z"
   },
   {
    "duration": 43,
    "start_time": "2021-11-09T18:59:07.822Z"
   },
   {
    "duration": 9,
    "start_time": "2021-11-09T18:59:07.866Z"
   },
   {
    "duration": 6,
    "start_time": "2021-11-09T18:59:07.877Z"
   },
   {
    "duration": 11,
    "start_time": "2021-11-09T18:59:07.885Z"
   },
   {
    "duration": 11,
    "start_time": "2021-11-09T18:59:07.897Z"
   },
   {
    "duration": 10,
    "start_time": "2021-11-09T18:59:07.910Z"
   },
   {
    "duration": 12,
    "start_time": "2021-11-09T18:59:07.922Z"
   },
   {
    "duration": 27,
    "start_time": "2021-11-09T18:59:07.936Z"
   },
   {
    "duration": 81,
    "start_time": "2021-11-09T18:59:07.965Z"
   },
   {
    "duration": 21,
    "start_time": "2021-11-09T18:59:08.048Z"
   },
   {
    "duration": 5,
    "start_time": "2021-11-09T18:59:08.071Z"
   },
   {
    "duration": 66,
    "start_time": "2021-11-09T18:59:08.080Z"
   },
   {
    "duration": 14,
    "start_time": "2021-11-09T18:59:08.149Z"
   },
   {
    "duration": 17,
    "start_time": "2021-11-09T18:59:08.165Z"
   },
   {
    "duration": 10,
    "start_time": "2021-11-09T18:59:08.184Z"
   },
   {
    "duration": 17,
    "start_time": "2021-11-09T18:59:08.196Z"
   },
   {
    "duration": 12,
    "start_time": "2021-11-09T18:59:08.216Z"
   },
   {
    "duration": 8,
    "start_time": "2021-11-09T18:59:08.232Z"
   },
   {
    "duration": 22,
    "start_time": "2021-11-09T18:59:08.242Z"
   },
   {
    "duration": 598,
    "start_time": "2021-11-09T18:59:08.266Z"
   },
   {
    "duration": 26,
    "start_time": "2021-11-09T18:59:08.866Z"
   },
   {
    "duration": 12,
    "start_time": "2021-11-09T18:59:08.895Z"
   },
   {
    "duration": 13,
    "start_time": "2021-11-09T18:59:08.909Z"
   },
   {
    "duration": 518,
    "start_time": "2021-11-09T18:59:08.924Z"
   },
   {
    "duration": 943,
    "start_time": "2021-11-09T18:59:09.444Z"
   },
   {
    "duration": 484,
    "start_time": "2021-11-09T18:59:10.389Z"
   },
   {
    "duration": 10,
    "start_time": "2021-11-09T18:59:10.876Z"
   },
   {
    "duration": 16,
    "start_time": "2021-11-09T18:59:10.888Z"
   },
   {
    "duration": 11,
    "start_time": "2021-11-09T18:59:10.907Z"
   },
   {
    "duration": 1790,
    "start_time": "2021-11-09T18:59:10.920Z"
   },
   {
    "duration": 14,
    "start_time": "2021-11-09T18:59:12.712Z"
   },
   {
    "duration": 592,
    "start_time": "2021-11-09T18:59:12.728Z"
   },
   {
    "duration": 10,
    "start_time": "2021-11-09T18:59:13.322Z"
   },
   {
    "duration": 30,
    "start_time": "2021-11-09T18:59:13.334Z"
   },
   {
    "duration": 8,
    "start_time": "2021-11-09T18:59:13.366Z"
   },
   {
    "duration": 12,
    "start_time": "2021-11-09T18:59:13.376Z"
   },
   {
    "duration": 575,
    "start_time": "2021-11-09T18:59:13.390Z"
   },
   {
    "duration": 13,
    "start_time": "2021-11-09T18:59:13.967Z"
   },
   {
    "duration": 153,
    "start_time": "2021-11-09T18:59:13.982Z"
   },
   {
    "duration": 1336,
    "start_time": "2021-11-09T18:59:14.137Z"
   },
   {
    "duration": 347,
    "start_time": "2021-11-09T18:59:15.474Z"
   },
   {
    "duration": -59,
    "start_time": "2021-11-09T18:59:15.881Z"
   },
   {
    "duration": -66,
    "start_time": "2021-11-09T18:59:15.889Z"
   },
   {
    "duration": -71,
    "start_time": "2021-11-09T18:59:15.895Z"
   },
   {
    "duration": -90,
    "start_time": "2021-11-09T18:59:15.915Z"
   },
   {
    "duration": -101,
    "start_time": "2021-11-09T18:59:15.927Z"
   },
   {
    "duration": -109,
    "start_time": "2021-11-09T18:59:15.935Z"
   },
   {
    "duration": -118,
    "start_time": "2021-11-09T18:59:15.945Z"
   },
   {
    "duration": -125,
    "start_time": "2021-11-09T18:59:15.953Z"
   },
   {
    "duration": -135,
    "start_time": "2021-11-09T18:59:15.963Z"
   },
   {
    "duration": -149,
    "start_time": "2021-11-09T18:59:15.978Z"
   },
   {
    "duration": -157,
    "start_time": "2021-11-09T18:59:15.987Z"
   },
   {
    "duration": -177,
    "start_time": "2021-11-09T18:59:16.008Z"
   },
   {
    "duration": -209,
    "start_time": "2021-11-09T18:59:16.040Z"
   },
   {
    "duration": -236,
    "start_time": "2021-11-09T18:59:16.068Z"
   },
   {
    "duration": -255,
    "start_time": "2021-11-09T18:59:16.088Z"
   },
   {
    "duration": -273,
    "start_time": "2021-11-09T18:59:16.106Z"
   },
   {
    "duration": -294,
    "start_time": "2021-11-09T18:59:16.128Z"
   },
   {
    "duration": 243,
    "start_time": "2021-11-09T19:01:16.820Z"
   },
   {
    "duration": 77,
    "start_time": "2021-11-09T19:01:53.995Z"
   },
   {
    "duration": 84,
    "start_time": "2021-11-09T19:02:03.299Z"
   },
   {
    "duration": 79,
    "start_time": "2021-11-09T19:02:46.375Z"
   },
   {
    "duration": 92,
    "start_time": "2021-11-09T19:02:56.918Z"
   },
   {
    "duration": 105,
    "start_time": "2021-11-09T19:03:08.771Z"
   },
   {
    "duration": 88,
    "start_time": "2021-11-09T19:03:13.311Z"
   },
   {
    "duration": 85,
    "start_time": "2021-11-09T19:03:36.698Z"
   },
   {
    "duration": 105,
    "start_time": "2021-11-09T19:03:48.688Z"
   },
   {
    "duration": 4106,
    "start_time": "2021-11-09T19:04:19.518Z"
   },
   {
    "duration": 254,
    "start_time": "2021-11-09T19:07:36.719Z"
   },
   {
    "duration": 274,
    "start_time": "2021-11-09T19:09:02.317Z"
   },
   {
    "duration": 6,
    "start_time": "2021-11-09T19:09:28.626Z"
   },
   {
    "duration": 11,
    "start_time": "2021-11-09T19:10:12.543Z"
   },
   {
    "duration": 12,
    "start_time": "2021-11-09T19:11:13.523Z"
   },
   {
    "duration": 12,
    "start_time": "2021-11-09T19:12:59.808Z"
   },
   {
    "duration": 29,
    "start_time": "2021-11-09T19:14:24.051Z"
   },
   {
    "duration": 23,
    "start_time": "2021-11-09T19:14:44.258Z"
   },
   {
    "duration": 119,
    "start_time": "2021-11-09T19:14:51.484Z"
   },
   {
    "duration": 20,
    "start_time": "2021-11-09T19:14:58.859Z"
   },
   {
    "duration": 20,
    "start_time": "2021-11-09T19:15:38.939Z"
   },
   {
    "duration": 15,
    "start_time": "2021-11-09T19:16:31.430Z"
   },
   {
    "duration": 15,
    "start_time": "2021-11-09T19:16:37.973Z"
   },
   {
    "duration": 18,
    "start_time": "2021-11-09T19:16:47.958Z"
   },
   {
    "duration": 164,
    "start_time": "2021-11-09T19:17:08.386Z"
   },
   {
    "duration": 13,
    "start_time": "2021-11-09T19:17:17.373Z"
   },
   {
    "duration": 80,
    "start_time": "2021-11-09T19:17:25.170Z"
   },
   {
    "duration": 84,
    "start_time": "2021-11-09T19:17:34.664Z"
   },
   {
    "duration": 87,
    "start_time": "2021-11-09T19:17:48.987Z"
   },
   {
    "duration": 16,
    "start_time": "2021-11-09T19:17:52.747Z"
   },
   {
    "duration": 15,
    "start_time": "2021-11-09T19:18:29.481Z"
   },
   {
    "duration": 12,
    "start_time": "2021-11-09T19:18:33.672Z"
   },
   {
    "duration": 12,
    "start_time": "2021-11-09T19:18:38.622Z"
   },
   {
    "duration": 11,
    "start_time": "2021-11-09T19:18:48.743Z"
   },
   {
    "duration": 11,
    "start_time": "2021-11-09T19:19:12.009Z"
   },
   {
    "duration": 12,
    "start_time": "2021-11-09T19:19:33.068Z"
   },
   {
    "duration": 85,
    "start_time": "2021-11-09T19:27:19.005Z"
   },
   {
    "duration": 73,
    "start_time": "2021-11-09T19:27:32.830Z"
   },
   {
    "duration": 6090,
    "start_time": "2021-11-09T19:27:45.394Z"
   },
   {
    "duration": 1186,
    "start_time": "2021-11-09T19:28:00.508Z"
   },
   {
    "duration": 33,
    "start_time": "2021-11-09T19:28:01.696Z"
   },
   {
    "duration": 33,
    "start_time": "2021-11-09T19:28:01.732Z"
   },
   {
    "duration": 13,
    "start_time": "2021-11-09T19:28:01.767Z"
   },
   {
    "duration": 12,
    "start_time": "2021-11-09T19:28:01.782Z"
   },
   {
    "duration": 128,
    "start_time": "2021-11-09T19:28:01.796Z"
   },
   {
    "duration": 11,
    "start_time": "2021-11-09T19:28:01.926Z"
   },
   {
    "duration": 32,
    "start_time": "2021-11-09T19:28:01.941Z"
   },
   {
    "duration": 16,
    "start_time": "2021-11-09T19:28:01.976Z"
   },
   {
    "duration": 39,
    "start_time": "2021-11-09T19:28:01.994Z"
   },
   {
    "duration": 9,
    "start_time": "2021-11-09T19:28:02.036Z"
   },
   {
    "duration": 34,
    "start_time": "2021-11-09T19:28:02.047Z"
   },
   {
    "duration": 18,
    "start_time": "2021-11-09T19:28:02.083Z"
   },
   {
    "duration": 22,
    "start_time": "2021-11-09T19:28:02.103Z"
   },
   {
    "duration": 20,
    "start_time": "2021-11-09T19:28:02.127Z"
   },
   {
    "duration": 26,
    "start_time": "2021-11-09T19:28:02.148Z"
   },
   {
    "duration": 21,
    "start_time": "2021-11-09T19:28:02.176Z"
   },
   {
    "duration": 26,
    "start_time": "2021-11-09T19:28:02.199Z"
   },
   {
    "duration": 26,
    "start_time": "2021-11-09T19:28:02.227Z"
   },
   {
    "duration": 93,
    "start_time": "2021-11-09T19:28:02.255Z"
   },
   {
    "duration": 13,
    "start_time": "2021-11-09T19:28:02.350Z"
   },
   {
    "duration": 16,
    "start_time": "2021-11-09T19:28:02.365Z"
   },
   {
    "duration": 72,
    "start_time": "2021-11-09T19:28:02.386Z"
   },
   {
    "duration": 33,
    "start_time": "2021-11-09T19:28:02.461Z"
   },
   {
    "duration": 25,
    "start_time": "2021-11-09T19:28:02.496Z"
   },
   {
    "duration": 18,
    "start_time": "2021-11-09T19:28:02.523Z"
   },
   {
    "duration": 23,
    "start_time": "2021-11-09T19:28:02.543Z"
   },
   {
    "duration": 19,
    "start_time": "2021-11-09T19:28:02.568Z"
   },
   {
    "duration": 13,
    "start_time": "2021-11-09T19:28:02.589Z"
   },
   {
    "duration": 32,
    "start_time": "2021-11-09T19:28:02.604Z"
   },
   {
    "duration": 621,
    "start_time": "2021-11-09T19:28:02.637Z"
   },
   {
    "duration": 27,
    "start_time": "2021-11-09T19:28:03.260Z"
   },
   {
    "duration": 7,
    "start_time": "2021-11-09T19:28:03.289Z"
   },
   {
    "duration": 15,
    "start_time": "2021-11-09T19:28:03.298Z"
   },
   {
    "duration": 524,
    "start_time": "2021-11-09T19:28:03.315Z"
   },
   {
    "duration": 551,
    "start_time": "2021-11-09T19:28:03.841Z"
   },
   {
    "duration": 328,
    "start_time": "2021-11-09T19:28:04.394Z"
   },
   {
    "duration": 10,
    "start_time": "2021-11-09T19:28:04.724Z"
   },
   {
    "duration": 17,
    "start_time": "2021-11-09T19:28:04.735Z"
   },
   {
    "duration": 19,
    "start_time": "2021-11-09T19:28:04.753Z"
   },
   {
    "duration": 995,
    "start_time": "2021-11-09T19:28:04.773Z"
   },
   {
    "duration": 9,
    "start_time": "2021-11-09T19:28:05.770Z"
   },
   {
    "duration": 343,
    "start_time": "2021-11-09T19:28:05.781Z"
   },
   {
    "duration": 8,
    "start_time": "2021-11-09T19:28:06.126Z"
   },
   {
    "duration": 7,
    "start_time": "2021-11-09T19:28:06.135Z"
   },
   {
    "duration": 20,
    "start_time": "2021-11-09T19:28:06.144Z"
   },
   {
    "duration": 11,
    "start_time": "2021-11-09T19:28:06.166Z"
   },
   {
    "duration": 587,
    "start_time": "2021-11-09T19:28:06.179Z"
   },
   {
    "duration": 16,
    "start_time": "2021-11-09T19:28:06.768Z"
   },
   {
    "duration": 147,
    "start_time": "2021-11-09T19:28:06.785Z"
   },
   {
    "duration": 1647,
    "start_time": "2021-11-09T19:28:06.934Z"
   },
   {
    "duration": 11,
    "start_time": "2021-11-09T19:28:08.582Z"
   },
   {
    "duration": 16,
    "start_time": "2021-11-09T19:28:08.595Z"
   },
   {
    "duration": 534,
    "start_time": "2021-11-09T19:28:08.612Z"
   },
   {
    "duration": 1181,
    "start_time": "2021-11-09T19:28:09.148Z"
   },
   {
    "duration": 5,
    "start_time": "2021-11-09T19:28:10.331Z"
   },
   {
    "duration": 36,
    "start_time": "2021-11-09T19:28:10.337Z"
   },
   {
    "duration": 14,
    "start_time": "2021-11-09T19:28:10.374Z"
   },
   {
    "duration": 11,
    "start_time": "2021-11-09T19:28:10.390Z"
   },
   {
    "duration": 20,
    "start_time": "2021-11-09T19:28:10.403Z"
   },
   {
    "duration": 21,
    "start_time": "2021-11-09T19:28:10.425Z"
   },
   {
    "duration": 292,
    "start_time": "2021-11-09T19:28:10.464Z"
   },
   {
    "duration": 16000,
    "start_time": "2021-11-09T19:28:10.758Z"
   },
   {
    "duration": 383,
    "start_time": "2021-11-09T19:28:26.763Z"
   },
   {
    "duration": 17,
    "start_time": "2021-11-09T19:28:27.147Z"
   },
   {
    "duration": 19,
    "start_time": "2021-11-09T19:28:27.165Z"
   },
   {
    "duration": 14,
    "start_time": "2021-11-09T19:28:27.186Z"
   },
   {
    "duration": 11,
    "start_time": "2021-11-09T19:28:27.205Z"
   },
   {
    "duration": 1619,
    "start_time": "2021-11-09T19:28:27.217Z"
   },
   {
    "duration": 76,
    "start_time": "2021-11-09T19:28:28.838Z"
   },
   {
    "duration": 18860,
    "start_time": "2021-11-09T19:29:31.512Z"
   },
   {
    "duration": 21137,
    "start_time": "2021-11-09T19:38:16.144Z"
   },
   {
    "duration": 20961,
    "start_time": "2021-11-09T19:39:15.090Z"
   },
   {
    "duration": 21044,
    "start_time": "2021-11-09T19:40:53.550Z"
   },
   {
    "duration": 21107,
    "start_time": "2021-11-09T19:41:21.310Z"
   },
   {
    "duration": 16322,
    "start_time": "2021-11-09T19:42:42.030Z"
   },
   {
    "duration": 16692,
    "start_time": "2021-11-09T19:43:15.717Z"
   },
   {
    "duration": 17580,
    "start_time": "2021-11-09T19:43:51.883Z"
   },
   {
    "duration": 17964,
    "start_time": "2021-11-09T19:44:56.452Z"
   },
   {
    "duration": 16948,
    "start_time": "2021-11-09T19:45:38.641Z"
   },
   {
    "duration": 1222,
    "start_time": "2021-11-09T19:47:27.415Z"
   },
   {
    "duration": 27,
    "start_time": "2021-11-09T19:47:28.639Z"
   },
   {
    "duration": 13,
    "start_time": "2021-11-09T19:47:28.668Z"
   },
   {
    "duration": 9,
    "start_time": "2021-11-09T19:47:28.683Z"
   },
   {
    "duration": 5,
    "start_time": "2021-11-09T19:47:28.694Z"
   },
   {
    "duration": 89,
    "start_time": "2021-11-09T19:47:28.701Z"
   },
   {
    "duration": 10,
    "start_time": "2021-11-09T19:47:28.792Z"
   },
   {
    "duration": 16,
    "start_time": "2021-11-09T19:47:28.805Z"
   },
   {
    "duration": 5,
    "start_time": "2021-11-09T19:47:28.824Z"
   },
   {
    "duration": 38,
    "start_time": "2021-11-09T19:47:28.831Z"
   },
   {
    "duration": 10,
    "start_time": "2021-11-09T19:47:28.871Z"
   },
   {
    "duration": 11,
    "start_time": "2021-11-09T19:47:28.883Z"
   },
   {
    "duration": 8,
    "start_time": "2021-11-09T19:47:28.896Z"
   },
   {
    "duration": 6,
    "start_time": "2021-11-09T19:47:28.905Z"
   },
   {
    "duration": 6,
    "start_time": "2021-11-09T19:47:28.912Z"
   },
   {
    "duration": 12,
    "start_time": "2021-11-09T19:47:28.920Z"
   },
   {
    "duration": 30,
    "start_time": "2021-11-09T19:47:28.933Z"
   },
   {
    "duration": 8,
    "start_time": "2021-11-09T19:47:28.966Z"
   },
   {
    "duration": 12,
    "start_time": "2021-11-09T19:47:28.976Z"
   },
   {
    "duration": 96,
    "start_time": "2021-11-09T19:47:28.990Z"
   },
   {
    "duration": 8,
    "start_time": "2021-11-09T19:47:29.088Z"
   },
   {
    "duration": 9,
    "start_time": "2021-11-09T19:47:29.098Z"
   },
   {
    "duration": 72,
    "start_time": "2021-11-09T19:47:29.111Z"
   },
   {
    "duration": 3,
    "start_time": "2021-11-09T19:47:29.186Z"
   },
   {
    "duration": 14,
    "start_time": "2021-11-09T19:47:29.191Z"
   },
   {
    "duration": 10,
    "start_time": "2021-11-09T19:47:29.206Z"
   },
   {
    "duration": 15,
    "start_time": "2021-11-09T19:47:29.218Z"
   },
   {
    "duration": 29,
    "start_time": "2021-11-09T19:47:29.235Z"
   },
   {
    "duration": 7,
    "start_time": "2021-11-09T19:47:29.266Z"
   },
   {
    "duration": 5,
    "start_time": "2021-11-09T19:47:29.275Z"
   },
   {
    "duration": 599,
    "start_time": "2021-11-09T19:47:29.282Z"
   },
   {
    "duration": 26,
    "start_time": "2021-11-09T19:47:29.883Z"
   },
   {
    "duration": 8,
    "start_time": "2021-11-09T19:47:29.911Z"
   },
   {
    "duration": 11,
    "start_time": "2021-11-09T19:47:29.921Z"
   },
   {
    "duration": 515,
    "start_time": "2021-11-09T19:47:29.934Z"
   },
   {
    "duration": 579,
    "start_time": "2021-11-09T19:47:30.451Z"
   },
   {
    "duration": 341,
    "start_time": "2021-11-09T19:47:31.031Z"
   },
   {
    "duration": 9,
    "start_time": "2021-11-09T19:47:31.374Z"
   },
   {
    "duration": 18,
    "start_time": "2021-11-09T19:47:31.385Z"
   },
   {
    "duration": 28,
    "start_time": "2021-11-09T19:47:31.405Z"
   },
   {
    "duration": 1066,
    "start_time": "2021-11-09T19:47:31.434Z"
   },
   {
    "duration": 10,
    "start_time": "2021-11-09T19:47:32.502Z"
   },
   {
    "duration": 361,
    "start_time": "2021-11-09T19:47:32.513Z"
   },
   {
    "duration": 9,
    "start_time": "2021-11-09T19:47:32.875Z"
   },
   {
    "duration": 7,
    "start_time": "2021-11-09T19:47:32.885Z"
   },
   {
    "duration": 9,
    "start_time": "2021-11-09T19:47:32.893Z"
   },
   {
    "duration": 11,
    "start_time": "2021-11-09T19:47:32.904Z"
   },
   {
    "duration": 657,
    "start_time": "2021-11-09T19:47:32.917Z"
   },
   {
    "duration": 15,
    "start_time": "2021-11-09T19:47:33.576Z"
   },
   {
    "duration": 191,
    "start_time": "2021-11-09T19:47:33.592Z"
   },
   {
    "duration": 1433,
    "start_time": "2021-11-09T19:47:33.785Z"
   },
   {
    "duration": 10,
    "start_time": "2021-11-09T19:47:35.221Z"
   },
   {
    "duration": 35,
    "start_time": "2021-11-09T19:47:35.233Z"
   },
   {
    "duration": 486,
    "start_time": "2021-11-09T19:47:35.270Z"
   },
   {
    "duration": 1264,
    "start_time": "2021-11-09T19:47:35.758Z"
   },
   {
    "duration": 5,
    "start_time": "2021-11-09T19:47:37.024Z"
   },
   {
    "duration": 36,
    "start_time": "2021-11-09T19:47:37.030Z"
   },
   {
    "duration": 14,
    "start_time": "2021-11-09T19:47:37.068Z"
   },
   {
    "duration": 16,
    "start_time": "2021-11-09T19:47:37.083Z"
   },
   {
    "duration": 8,
    "start_time": "2021-11-09T19:47:37.100Z"
   },
   {
    "duration": 31,
    "start_time": "2021-11-09T19:47:37.109Z"
   },
   {
    "duration": 318,
    "start_time": "2021-11-09T19:47:37.142Z"
   },
   {
    "duration": 17279,
    "start_time": "2021-11-09T19:47:37.462Z"
   },
   {
    "duration": 420,
    "start_time": "2021-11-09T19:47:54.743Z"
   },
   {
    "duration": 16,
    "start_time": "2021-11-09T19:47:55.165Z"
   },
   {
    "duration": 14,
    "start_time": "2021-11-09T19:47:55.183Z"
   },
   {
    "duration": 14,
    "start_time": "2021-11-09T19:47:55.199Z"
   },
   {
    "duration": 45,
    "start_time": "2021-11-09T19:47:55.218Z"
   },
   {
    "duration": 1642,
    "start_time": "2021-11-09T19:47:55.265Z"
   },
   {
    "duration": 79,
    "start_time": "2021-11-09T19:47:56.910Z"
   },
   {
    "duration": 336,
    "start_time": "2021-11-09T19:53:04.855Z"
   },
   {
    "duration": 241,
    "start_time": "2021-11-09T19:53:20.568Z"
   },
   {
    "duration": 12,
    "start_time": "2021-11-09T19:54:08.643Z"
   },
   {
    "duration": 1237,
    "start_time": "2021-11-09T19:57:30.385Z"
   },
   {
    "duration": 26,
    "start_time": "2021-11-09T19:57:31.624Z"
   },
   {
    "duration": 20,
    "start_time": "2021-11-09T19:57:31.652Z"
   },
   {
    "duration": 9,
    "start_time": "2021-11-09T19:57:31.675Z"
   },
   {
    "duration": 6,
    "start_time": "2021-11-09T19:57:31.685Z"
   },
   {
    "duration": 102,
    "start_time": "2021-11-09T19:57:31.693Z"
   },
   {
    "duration": 9,
    "start_time": "2021-11-09T19:57:31.797Z"
   },
   {
    "duration": 12,
    "start_time": "2021-11-09T19:57:31.809Z"
   },
   {
    "duration": 11,
    "start_time": "2021-11-09T19:57:31.823Z"
   },
   {
    "duration": 20,
    "start_time": "2021-11-09T19:57:31.835Z"
   },
   {
    "duration": 12,
    "start_time": "2021-11-09T19:57:31.856Z"
   },
   {
    "duration": 15,
    "start_time": "2021-11-09T19:57:31.870Z"
   },
   {
    "duration": 13,
    "start_time": "2021-11-09T19:57:31.886Z"
   },
   {
    "duration": 18,
    "start_time": "2021-11-09T19:57:31.901Z"
   },
   {
    "duration": 11,
    "start_time": "2021-11-09T19:57:31.921Z"
   },
   {
    "duration": 12,
    "start_time": "2021-11-09T19:57:31.934Z"
   },
   {
    "duration": 13,
    "start_time": "2021-11-09T19:57:31.948Z"
   },
   {
    "duration": 18,
    "start_time": "2021-11-09T19:57:31.963Z"
   },
   {
    "duration": 15,
    "start_time": "2021-11-09T19:57:31.982Z"
   },
   {
    "duration": 86,
    "start_time": "2021-11-09T19:57:31.998Z"
   },
   {
    "duration": 8,
    "start_time": "2021-11-09T19:57:32.086Z"
   },
   {
    "duration": 18,
    "start_time": "2021-11-09T19:57:32.095Z"
   },
   {
    "duration": 67,
    "start_time": "2021-11-09T19:57:32.117Z"
   },
   {
    "duration": 18,
    "start_time": "2021-11-09T19:57:32.187Z"
   },
   {
    "duration": 49,
    "start_time": "2021-11-09T19:57:32.207Z"
   },
   {
    "duration": 16,
    "start_time": "2021-11-09T19:57:32.259Z"
   },
   {
    "duration": 21,
    "start_time": "2021-11-09T19:57:32.277Z"
   },
   {
    "duration": 24,
    "start_time": "2021-11-09T19:57:32.300Z"
   },
   {
    "duration": 18,
    "start_time": "2021-11-09T19:57:32.326Z"
   },
   {
    "duration": 25,
    "start_time": "2021-11-09T19:57:32.346Z"
   },
   {
    "duration": 634,
    "start_time": "2021-11-09T19:57:32.373Z"
   },
   {
    "duration": 26,
    "start_time": "2021-11-09T19:57:33.009Z"
   },
   {
    "duration": 6,
    "start_time": "2021-11-09T19:57:33.036Z"
   },
   {
    "duration": 11,
    "start_time": "2021-11-09T19:57:33.064Z"
   },
   {
    "duration": 517,
    "start_time": "2021-11-09T19:57:33.077Z"
   },
   {
    "duration": 598,
    "start_time": "2021-11-09T19:57:33.596Z"
   },
   {
    "duration": 332,
    "start_time": "2021-11-09T19:57:34.196Z"
   },
   {
    "duration": 11,
    "start_time": "2021-11-09T19:57:34.531Z"
   },
   {
    "duration": 21,
    "start_time": "2021-11-09T19:57:34.544Z"
   },
   {
    "duration": 12,
    "start_time": "2021-11-09T19:57:34.566Z"
   },
   {
    "duration": 1011,
    "start_time": "2021-11-09T19:57:34.580Z"
   },
   {
    "duration": 10,
    "start_time": "2021-11-09T19:57:35.593Z"
   },
   {
    "duration": 342,
    "start_time": "2021-11-09T19:57:35.605Z"
   },
   {
    "duration": 17,
    "start_time": "2021-11-09T19:57:35.949Z"
   },
   {
    "duration": 6,
    "start_time": "2021-11-09T19:57:35.968Z"
   },
   {
    "duration": 10,
    "start_time": "2021-11-09T19:57:35.975Z"
   },
   {
    "duration": 14,
    "start_time": "2021-11-09T19:57:35.987Z"
   },
   {
    "duration": 520,
    "start_time": "2021-11-09T19:57:36.002Z"
   },
   {
    "duration": 14,
    "start_time": "2021-11-09T19:57:36.524Z"
   },
   {
    "duration": 164,
    "start_time": "2021-11-09T19:57:36.540Z"
   },
   {
    "duration": 1324,
    "start_time": "2021-11-09T19:57:36.706Z"
   },
   {
    "duration": 11,
    "start_time": "2021-11-09T19:57:38.032Z"
   },
   {
    "duration": 28,
    "start_time": "2021-11-09T19:57:38.044Z"
   },
   {
    "duration": 481,
    "start_time": "2021-11-09T19:57:38.074Z"
   },
   {
    "duration": 1165,
    "start_time": "2021-11-09T19:57:38.557Z"
   },
   {
    "duration": 16,
    "start_time": "2021-11-09T19:57:39.723Z"
   },
   {
    "duration": 26,
    "start_time": "2021-11-09T19:57:39.741Z"
   },
   {
    "duration": 13,
    "start_time": "2021-11-09T19:57:39.769Z"
   },
   {
    "duration": 13,
    "start_time": "2021-11-09T19:57:39.784Z"
   },
   {
    "duration": 7,
    "start_time": "2021-11-09T19:57:39.799Z"
   },
   {
    "duration": 25,
    "start_time": "2021-11-09T19:57:39.807Z"
   },
   {
    "duration": 295,
    "start_time": "2021-11-09T19:57:39.864Z"
   },
   {
    "duration": 16059,
    "start_time": "2021-11-09T19:57:40.163Z"
   },
   {
    "duration": 433,
    "start_time": "2021-11-09T19:57:56.224Z"
   },
   {
    "duration": 16,
    "start_time": "2021-11-09T19:57:56.659Z"
   },
   {
    "duration": 41,
    "start_time": "2021-11-09T19:57:56.677Z"
   },
   {
    "duration": 25,
    "start_time": "2021-11-09T19:57:56.720Z"
   },
   {
    "duration": 20,
    "start_time": "2021-11-09T19:57:56.751Z"
   },
   {
    "duration": 1606,
    "start_time": "2021-11-09T19:57:56.773Z"
   },
   {
    "duration": 84,
    "start_time": "2021-11-09T19:57:58.381Z"
   },
   {
    "duration": 93,
    "start_time": "2021-11-09T19:59:36.142Z"
   },
   {
    "duration": 74,
    "start_time": "2021-11-09T20:00:09.075Z"
   },
   {
    "duration": 16,
    "start_time": "2021-11-09T20:00:19.485Z"
   },
   {
    "duration": 14,
    "start_time": "2021-11-09T20:01:10.443Z"
   },
   {
    "duration": 1196,
    "start_time": "2021-11-09T20:02:53.396Z"
   },
   {
    "duration": 27,
    "start_time": "2021-11-09T20:02:54.594Z"
   },
   {
    "duration": 12,
    "start_time": "2021-11-09T20:02:54.623Z"
   },
   {
    "duration": 11,
    "start_time": "2021-11-09T20:02:54.636Z"
   },
   {
    "duration": 17,
    "start_time": "2021-11-09T20:02:54.649Z"
   },
   {
    "duration": 72,
    "start_time": "2021-11-09T20:02:54.667Z"
   },
   {
    "duration": 7,
    "start_time": "2021-11-09T20:02:54.741Z"
   },
   {
    "duration": 24,
    "start_time": "2021-11-09T20:02:54.750Z"
   },
   {
    "duration": 4,
    "start_time": "2021-11-09T20:02:54.776Z"
   },
   {
    "duration": 14,
    "start_time": "2021-11-09T20:02:54.782Z"
   },
   {
    "duration": 8,
    "start_time": "2021-11-09T20:02:54.798Z"
   },
   {
    "duration": 10,
    "start_time": "2021-11-09T20:02:54.807Z"
   },
   {
    "duration": 6,
    "start_time": "2021-11-09T20:02:54.819Z"
   },
   {
    "duration": 15,
    "start_time": "2021-11-09T20:02:54.827Z"
   },
   {
    "duration": 9,
    "start_time": "2021-11-09T20:02:54.843Z"
   },
   {
    "duration": 21,
    "start_time": "2021-11-09T20:02:54.854Z"
   },
   {
    "duration": 18,
    "start_time": "2021-11-09T20:02:54.877Z"
   },
   {
    "duration": 11,
    "start_time": "2021-11-09T20:02:54.897Z"
   },
   {
    "duration": 9,
    "start_time": "2021-11-09T20:02:54.910Z"
   },
   {
    "duration": 87,
    "start_time": "2021-11-09T20:02:54.921Z"
   },
   {
    "duration": 10,
    "start_time": "2021-11-09T20:02:55.010Z"
   },
   {
    "duration": 8,
    "start_time": "2021-11-09T20:02:55.022Z"
   },
   {
    "duration": 78,
    "start_time": "2021-11-09T20:02:55.032Z"
   },
   {
    "duration": 8,
    "start_time": "2021-11-09T20:02:55.112Z"
   },
   {
    "duration": 17,
    "start_time": "2021-11-09T20:02:55.122Z"
   },
   {
    "duration": 13,
    "start_time": "2021-11-09T20:02:55.141Z"
   },
   {
    "duration": 12,
    "start_time": "2021-11-09T20:02:55.166Z"
   },
   {
    "duration": 21,
    "start_time": "2021-11-09T20:02:55.181Z"
   },
   {
    "duration": 10,
    "start_time": "2021-11-09T20:02:55.204Z"
   },
   {
    "duration": 9,
    "start_time": "2021-11-09T20:02:55.216Z"
   },
   {
    "duration": 594,
    "start_time": "2021-11-09T20:02:55.227Z"
   },
   {
    "duration": 25,
    "start_time": "2021-11-09T20:02:55.822Z"
   },
   {
    "duration": 19,
    "start_time": "2021-11-09T20:02:55.849Z"
   },
   {
    "duration": 33,
    "start_time": "2021-11-09T20:02:55.869Z"
   },
   {
    "duration": 478,
    "start_time": "2021-11-09T20:02:55.904Z"
   },
   {
    "duration": 542,
    "start_time": "2021-11-09T20:02:56.383Z"
   },
   {
    "duration": 316,
    "start_time": "2021-11-09T20:02:56.927Z"
   },
   {
    "duration": 18,
    "start_time": "2021-11-09T20:02:57.245Z"
   },
   {
    "duration": 7,
    "start_time": "2021-11-09T20:02:57.265Z"
   },
   {
    "duration": 12,
    "start_time": "2021-11-09T20:02:57.274Z"
   },
   {
    "duration": 1075,
    "start_time": "2021-11-09T20:02:57.288Z"
   },
   {
    "duration": 11,
    "start_time": "2021-11-09T20:02:58.365Z"
   },
   {
    "duration": 339,
    "start_time": "2021-11-09T20:02:58.378Z"
   },
   {
    "duration": 8,
    "start_time": "2021-11-09T20:02:58.719Z"
   },
   {
    "duration": 6,
    "start_time": "2021-11-09T20:02:58.729Z"
   },
   {
    "duration": 27,
    "start_time": "2021-11-09T20:02:58.737Z"
   },
   {
    "duration": 10,
    "start_time": "2021-11-09T20:02:58.766Z"
   },
   {
    "duration": 536,
    "start_time": "2021-11-09T20:02:58.778Z"
   },
   {
    "duration": 15,
    "start_time": "2021-11-09T20:02:59.316Z"
   },
   {
    "duration": 162,
    "start_time": "2021-11-09T20:02:59.333Z"
   },
   {
    "duration": 1399,
    "start_time": "2021-11-09T20:02:59.497Z"
   },
   {
    "duration": 13,
    "start_time": "2021-11-09T20:03:00.899Z"
   },
   {
    "duration": 43,
    "start_time": "2021-11-09T20:03:00.914Z"
   },
   {
    "duration": 481,
    "start_time": "2021-11-09T20:03:00.960Z"
   },
   {
    "duration": 1278,
    "start_time": "2021-11-09T20:03:01.443Z"
   },
   {
    "duration": 16,
    "start_time": "2021-11-09T20:03:02.723Z"
   },
   {
    "duration": 33,
    "start_time": "2021-11-09T20:03:02.741Z"
   },
   {
    "duration": 16,
    "start_time": "2021-11-09T20:03:02.776Z"
   },
   {
    "duration": 14,
    "start_time": "2021-11-09T20:03:02.793Z"
   },
   {
    "duration": 7,
    "start_time": "2021-11-09T20:03:02.808Z"
   },
   {
    "duration": 50,
    "start_time": "2021-11-09T20:03:02.817Z"
   },
   {
    "duration": 14,
    "start_time": "2021-11-09T20:03:02.868Z"
   },
   {
    "duration": 320,
    "start_time": "2021-11-09T20:03:02.884Z"
   },
   {
    "duration": 15957,
    "start_time": "2021-11-09T20:03:03.206Z"
   },
   {
    "duration": 380,
    "start_time": "2021-11-09T20:03:19.165Z"
   },
   {
    "duration": 23,
    "start_time": "2021-11-09T20:03:19.547Z"
   },
   {
    "duration": 14,
    "start_time": "2021-11-09T20:03:19.572Z"
   },
   {
    "duration": 13,
    "start_time": "2021-11-09T20:03:19.587Z"
   },
   {
    "duration": 13,
    "start_time": "2021-11-09T20:03:19.602Z"
   },
   {
    "duration": 1371,
    "start_time": "2021-11-09T20:03:19.617Z"
   },
   {
    "duration": 59,
    "start_time": "2021-11-09T20:03:20.991Z"
   },
   {
    "duration": 2150,
    "start_time": "2021-11-10T12:48:20.987Z"
   },
   {
    "duration": 58,
    "start_time": "2021-11-10T12:48:23.142Z"
   },
   {
    "duration": 37,
    "start_time": "2021-11-10T12:48:23.204Z"
   },
   {
    "duration": 16,
    "start_time": "2021-11-10T12:48:23.245Z"
   },
   {
    "duration": 8,
    "start_time": "2021-11-10T12:48:23.264Z"
   },
   {
    "duration": 150,
    "start_time": "2021-11-10T12:48:23.274Z"
   },
   {
    "duration": 12,
    "start_time": "2021-11-10T12:48:23.431Z"
   },
   {
    "duration": 28,
    "start_time": "2021-11-10T12:48:23.448Z"
   },
   {
    "duration": 8,
    "start_time": "2021-11-10T12:48:23.480Z"
   },
   {
    "duration": 50,
    "start_time": "2021-11-10T12:48:23.491Z"
   },
   {
    "duration": 9,
    "start_time": "2021-11-10T12:48:23.544Z"
   },
   {
    "duration": 14,
    "start_time": "2021-11-10T12:48:23.555Z"
   },
   {
    "duration": 11,
    "start_time": "2021-11-10T12:48:23.572Z"
   },
   {
    "duration": 10,
    "start_time": "2021-11-10T12:48:23.585Z"
   },
   {
    "duration": 9,
    "start_time": "2021-11-10T12:48:23.628Z"
   },
   {
    "duration": 9,
    "start_time": "2021-11-10T12:48:23.640Z"
   },
   {
    "duration": 12,
    "start_time": "2021-11-10T12:48:23.652Z"
   },
   {
    "duration": 17,
    "start_time": "2021-11-10T12:48:23.666Z"
   },
   {
    "duration": 48,
    "start_time": "2021-11-10T12:48:23.685Z"
   },
   {
    "duration": 155,
    "start_time": "2021-11-10T12:48:23.735Z"
   },
   {
    "duration": 11,
    "start_time": "2021-11-10T12:48:23.893Z"
   },
   {
    "duration": 6,
    "start_time": "2021-11-10T12:48:23.906Z"
   },
   {
    "duration": 111,
    "start_time": "2021-11-10T12:48:23.931Z"
   },
   {
    "duration": 5,
    "start_time": "2021-11-10T12:48:24.046Z"
   },
   {
    "duration": 16,
    "start_time": "2021-11-10T12:48:24.053Z"
   },
   {
    "duration": 15,
    "start_time": "2021-11-10T12:48:24.072Z"
   },
   {
    "duration": 47,
    "start_time": "2021-11-10T12:48:24.090Z"
   },
   {
    "duration": 13,
    "start_time": "2021-11-10T12:48:24.140Z"
   },
   {
    "duration": 7,
    "start_time": "2021-11-10T12:48:24.156Z"
   },
   {
    "duration": 19,
    "start_time": "2021-11-10T12:48:24.165Z"
   },
   {
    "duration": 1064,
    "start_time": "2021-11-10T12:48:24.186Z"
   },
   {
    "duration": 42,
    "start_time": "2021-11-10T12:48:25.254Z"
   },
   {
    "duration": 35,
    "start_time": "2021-11-10T12:48:25.299Z"
   },
   {
    "duration": 15,
    "start_time": "2021-11-10T12:48:25.336Z"
   },
   {
    "duration": 858,
    "start_time": "2021-11-10T12:48:25.354Z"
   },
   {
    "duration": 931,
    "start_time": "2021-11-10T12:48:26.214Z"
   },
   {
    "duration": 512,
    "start_time": "2021-11-10T12:48:27.148Z"
   },
   {
    "duration": 12,
    "start_time": "2021-11-10T12:48:27.662Z"
   },
   {
    "duration": 24,
    "start_time": "2021-11-10T12:48:27.676Z"
   },
   {
    "duration": 27,
    "start_time": "2021-11-10T12:48:27.702Z"
   },
   {
    "duration": 1880,
    "start_time": "2021-11-10T12:48:27.731Z"
   },
   {
    "duration": 23,
    "start_time": "2021-11-10T12:48:29.613Z"
   },
   {
    "duration": 603,
    "start_time": "2021-11-10T12:48:29.638Z"
   },
   {
    "duration": 11,
    "start_time": "2021-11-10T12:48:30.244Z"
   },
   {
    "duration": 29,
    "start_time": "2021-11-10T12:48:30.257Z"
   },
   {
    "duration": 22,
    "start_time": "2021-11-10T12:48:30.289Z"
   },
   {
    "duration": 36,
    "start_time": "2021-11-10T12:48:30.314Z"
   },
   {
    "duration": 796,
    "start_time": "2021-11-10T12:48:30.353Z"
   },
   {
    "duration": 19,
    "start_time": "2021-11-10T12:48:31.151Z"
   },
   {
    "duration": 267,
    "start_time": "2021-11-10T12:48:31.172Z"
   },
   {
    "duration": 3151,
    "start_time": "2021-11-10T12:48:31.441Z"
   },
   {
    "duration": 36,
    "start_time": "2021-11-10T12:48:34.595Z"
   },
   {
    "duration": 22,
    "start_time": "2021-11-10T12:48:34.634Z"
   },
   {
    "duration": 736,
    "start_time": "2021-11-10T12:48:34.658Z"
   },
   {
    "duration": 1896,
    "start_time": "2021-11-10T12:48:35.397Z"
   },
   {
    "duration": 34,
    "start_time": "2021-11-10T12:48:37.296Z"
   },
   {
    "duration": 21,
    "start_time": "2021-11-10T12:48:37.332Z"
   },
   {
    "duration": 21,
    "start_time": "2021-11-10T12:48:37.355Z"
   },
   {
    "duration": 59,
    "start_time": "2021-11-10T12:48:37.378Z"
   },
   {
    "duration": 11,
    "start_time": "2021-11-10T12:48:37.439Z"
   },
   {
    "duration": 33,
    "start_time": "2021-11-10T12:48:37.453Z"
   },
   {
    "duration": 51,
    "start_time": "2021-11-10T12:48:37.490Z"
   },
   {
    "duration": 498,
    "start_time": "2021-11-10T12:48:37.543Z"
   },
   {
    "duration": 28209,
    "start_time": "2021-11-10T12:48:38.044Z"
   },
   {
    "duration": 602,
    "start_time": "2021-11-10T12:49:06.256Z"
   },
   {
    "duration": 24,
    "start_time": "2021-11-10T12:49:06.861Z"
   },
   {
    "duration": 54,
    "start_time": "2021-11-10T12:49:06.888Z"
   },
   {
    "duration": 20,
    "start_time": "2021-11-10T12:49:06.951Z"
   },
   {
    "duration": 54,
    "start_time": "2021-11-10T12:49:06.975Z"
   },
   {
    "duration": 1832,
    "start_time": "2021-11-10T12:49:07.031Z"
   },
   {
    "duration": 116,
    "start_time": "2021-11-10T12:49:08.866Z"
   },
   {
    "duration": 16,
    "start_time": "2021-11-10T13:17:31.640Z"
   },
   {
    "duration": 11,
    "start_time": "2021-11-10T13:17:35.808Z"
   },
   {
    "duration": 8,
    "start_time": "2021-11-10T13:20:49.112Z"
   },
   {
    "duration": 13,
    "start_time": "2021-11-10T13:21:11.949Z"
   },
   {
    "duration": 7,
    "start_time": "2021-11-10T13:22:01.754Z"
   },
   {
    "duration": 19,
    "start_time": "2021-11-10T13:22:23.731Z"
   },
   {
    "duration": 14,
    "start_time": "2021-11-10T13:23:25.497Z"
   },
   {
    "duration": 15,
    "start_time": "2021-11-10T13:23:30.610Z"
   },
   {
    "duration": 13,
    "start_time": "2021-11-10T13:23:43.177Z"
   },
   {
    "duration": 9,
    "start_time": "2021-11-10T13:24:05.689Z"
   },
   {
    "duration": 7,
    "start_time": "2021-11-10T13:24:13.432Z"
   },
   {
    "duration": 6,
    "start_time": "2021-11-10T13:25:57.047Z"
   },
   {
    "duration": 6,
    "start_time": "2021-11-10T13:26:04.782Z"
   },
   {
    "duration": 339,
    "start_time": "2021-11-10T13:26:26.278Z"
   },
   {
    "duration": 924,
    "start_time": "2021-11-10T13:26:32.446Z"
   },
   {
    "duration": 543,
    "start_time": "2021-11-10T13:26:45.782Z"
   },
   {
    "duration": 86,
    "start_time": "2021-11-10T13:27:12.133Z"
   },
   {
    "duration": 62,
    "start_time": "2021-11-10T13:27:16.758Z"
   },
   {
    "duration": 630,
    "start_time": "2021-11-10T13:27:29.242Z"
   },
   {
    "duration": 6,
    "start_time": "2021-11-10T13:27:43.308Z"
   },
   {
    "duration": 625,
    "start_time": "2021-11-10T13:27:54.427Z"
   },
   {
    "duration": 7,
    "start_time": "2021-11-10T13:28:14.884Z"
   },
   {
    "duration": 12,
    "start_time": "2021-11-10T13:28:40.595Z"
   },
   {
    "duration": 12,
    "start_time": "2021-11-10T13:28:51.924Z"
   },
   {
    "duration": 14,
    "start_time": "2021-11-10T13:29:03.096Z"
   },
   {
    "duration": 10,
    "start_time": "2021-11-10T13:29:06.818Z"
   },
   {
    "duration": 12,
    "start_time": "2021-11-10T13:29:10.371Z"
   },
   {
    "duration": 7,
    "start_time": "2021-11-10T13:29:36.706Z"
   },
   {
    "duration": 374,
    "start_time": "2021-11-10T13:29:47.660Z"
   },
   {
    "duration": 20,
    "start_time": "2021-11-10T13:31:29.321Z"
   },
   {
    "duration": 78447,
    "start_time": "2021-11-10T13:33:59.288Z"
   },
   {
    "duration": 394,
    "start_time": "2021-11-10T13:37:18.148Z"
   },
   {
    "duration": 24899,
    "start_time": "2021-11-10T13:37:32.187Z"
   },
   {
    "duration": 2021,
    "start_time": "2021-11-10T13:38:01.514Z"
   },
   {
    "duration": 2837,
    "start_time": "2021-11-10T13:38:37.548Z"
   },
   {
    "duration": 3389,
    "start_time": "2021-11-10T13:40:42.248Z"
   },
   {
    "duration": 725,
    "start_time": "2021-11-10T13:41:02.113Z"
   },
   {
    "duration": 2698,
    "start_time": "2021-11-10T13:41:06.883Z"
   },
   {
    "duration": 2366,
    "start_time": "2021-11-10T13:42:14.431Z"
   },
   {
    "duration": 2481,
    "start_time": "2021-11-10T13:42:23.727Z"
   },
   {
    "duration": 2596,
    "start_time": "2021-11-10T13:42:33.949Z"
   },
   {
    "duration": 2731,
    "start_time": "2021-11-10T13:45:01.869Z"
   },
   {
    "duration": 2825,
    "start_time": "2021-11-10T13:45:18.339Z"
   },
   {
    "duration": 2871,
    "start_time": "2021-11-10T13:46:15.977Z"
   },
   {
    "duration": 2471,
    "start_time": "2021-11-10T13:46:44.667Z"
   },
   {
    "duration": 2363,
    "start_time": "2021-11-10T13:48:22.216Z"
   },
   {
    "duration": 2537,
    "start_time": "2021-11-10T13:48:30.295Z"
   },
   {
    "duration": 3397,
    "start_time": "2021-11-10T13:48:44.270Z"
   },
   {
    "duration": 358,
    "start_time": "2021-11-10T13:49:07.238Z"
   },
   {
    "duration": 2124,
    "start_time": "2021-11-10T13:49:20.335Z"
   },
   {
    "duration": 2162,
    "start_time": "2021-11-10T13:49:25.270Z"
   },
   {
    "duration": 1163,
    "start_time": "2021-11-13T08:23:13.840Z"
   },
   {
    "duration": 24,
    "start_time": "2021-11-13T08:23:15.007Z"
   },
   {
    "duration": 17,
    "start_time": "2021-11-13T08:23:15.033Z"
   },
   {
    "duration": 20,
    "start_time": "2021-11-13T08:23:15.052Z"
   },
   {
    "duration": 19,
    "start_time": "2021-11-13T08:23:15.074Z"
   },
   {
    "duration": 86,
    "start_time": "2021-11-13T08:23:15.095Z"
   },
   {
    "duration": 7,
    "start_time": "2021-11-13T08:23:15.183Z"
   },
   {
    "duration": 28,
    "start_time": "2021-11-13T08:23:15.193Z"
   },
   {
    "duration": 18,
    "start_time": "2021-11-13T08:23:15.223Z"
   },
   {
    "duration": 28,
    "start_time": "2021-11-13T08:23:15.243Z"
   },
   {
    "duration": 19,
    "start_time": "2021-11-13T08:23:15.272Z"
   },
   {
    "duration": 27,
    "start_time": "2021-11-13T08:23:15.292Z"
   },
   {
    "duration": 26,
    "start_time": "2021-11-13T08:23:15.320Z"
   },
   {
    "duration": 20,
    "start_time": "2021-11-13T08:23:15.348Z"
   },
   {
    "duration": 26,
    "start_time": "2021-11-13T08:23:15.370Z"
   },
   {
    "duration": 17,
    "start_time": "2021-11-13T08:23:15.398Z"
   },
   {
    "duration": 26,
    "start_time": "2021-11-13T08:23:15.416Z"
   },
   {
    "duration": 34,
    "start_time": "2021-11-13T08:23:15.443Z"
   },
   {
    "duration": 21,
    "start_time": "2021-11-13T08:23:15.479Z"
   },
   {
    "duration": 87,
    "start_time": "2021-11-13T08:23:15.502Z"
   },
   {
    "duration": 8,
    "start_time": "2021-11-13T08:23:15.590Z"
   },
   {
    "duration": 25,
    "start_time": "2021-11-13T08:23:15.599Z"
   },
   {
    "duration": 81,
    "start_time": "2021-11-13T08:23:15.627Z"
   },
   {
    "duration": 3,
    "start_time": "2021-11-13T08:23:15.710Z"
   },
   {
    "duration": 29,
    "start_time": "2021-11-13T08:23:15.715Z"
   },
   {
    "duration": 31,
    "start_time": "2021-11-13T08:23:15.745Z"
   },
   {
    "duration": 40,
    "start_time": "2021-11-13T08:23:15.777Z"
   },
   {
    "duration": 44,
    "start_time": "2021-11-13T08:23:15.819Z"
   },
   {
    "duration": 16,
    "start_time": "2021-11-13T08:23:15.864Z"
   },
   {
    "duration": 11,
    "start_time": "2021-11-13T08:23:15.882Z"
   },
   {
    "duration": 588,
    "start_time": "2021-11-13T08:23:15.894Z"
   },
   {
    "duration": 28,
    "start_time": "2021-11-13T08:23:16.484Z"
   },
   {
    "duration": 6,
    "start_time": "2021-11-13T08:23:16.514Z"
   },
   {
    "duration": 14,
    "start_time": "2021-11-13T08:23:16.522Z"
   },
   {
    "duration": 465,
    "start_time": "2021-11-13T08:23:16.538Z"
   },
   {
    "duration": 511,
    "start_time": "2021-11-13T08:23:17.006Z"
   },
   {
    "duration": 302,
    "start_time": "2021-11-13T08:23:17.519Z"
   },
   {
    "duration": 7,
    "start_time": "2021-11-13T08:23:17.823Z"
   },
   {
    "duration": 24,
    "start_time": "2021-11-13T08:23:17.832Z"
   },
   {
    "duration": 24,
    "start_time": "2021-11-13T08:23:17.858Z"
   },
   {
    "duration": 938,
    "start_time": "2021-11-13T08:23:17.884Z"
   },
   {
    "duration": 9,
    "start_time": "2021-11-13T08:23:18.824Z"
   },
   {
    "duration": 317,
    "start_time": "2021-11-13T08:23:18.835Z"
   },
   {
    "duration": 8,
    "start_time": "2021-11-13T08:23:19.154Z"
   },
   {
    "duration": 12,
    "start_time": "2021-11-13T08:23:19.163Z"
   },
   {
    "duration": 20,
    "start_time": "2021-11-13T08:23:19.177Z"
   },
   {
    "duration": 9,
    "start_time": "2021-11-13T08:23:19.199Z"
   },
   {
    "duration": 476,
    "start_time": "2021-11-13T08:23:19.209Z"
   },
   {
    "duration": 21,
    "start_time": "2021-11-13T08:23:19.686Z"
   },
   {
    "duration": 142,
    "start_time": "2021-11-13T08:23:19.709Z"
   },
   {
    "duration": 1244,
    "start_time": "2021-11-13T08:23:19.852Z"
   },
   {
    "duration": 16,
    "start_time": "2021-11-13T08:23:21.098Z"
   },
   {
    "duration": 22,
    "start_time": "2021-11-13T08:23:21.116Z"
   },
   {
    "duration": 517,
    "start_time": "2021-11-13T08:23:21.140Z"
   },
   {
    "duration": 1117,
    "start_time": "2021-11-13T08:23:21.658Z"
   },
   {
    "duration": 13,
    "start_time": "2021-11-13T08:23:22.777Z"
   },
   {
    "duration": 24,
    "start_time": "2021-11-13T08:23:22.792Z"
   },
   {
    "duration": 12,
    "start_time": "2021-11-13T08:23:22.818Z"
   },
   {
    "duration": 11,
    "start_time": "2021-11-13T08:23:22.831Z"
   },
   {
    "duration": 9,
    "start_time": "2021-11-13T08:23:22.844Z"
   },
   {
    "duration": 34,
    "start_time": "2021-11-13T08:23:22.854Z"
   },
   {
    "duration": 25,
    "start_time": "2021-11-13T08:23:22.890Z"
   },
   {
    "duration": 279,
    "start_time": "2021-11-13T08:23:22.917Z"
   },
   {
    "duration": 14788,
    "start_time": "2021-11-13T08:23:23.198Z"
   },
   {
    "duration": 365,
    "start_time": "2021-11-13T08:23:37.987Z"
   },
   {
    "duration": 12,
    "start_time": "2021-11-13T08:23:38.354Z"
   },
   {
    "duration": 17,
    "start_time": "2021-11-13T08:23:38.368Z"
   },
   {
    "duration": 43,
    "start_time": "2021-11-13T08:23:38.390Z"
   },
   {
    "duration": 27,
    "start_time": "2021-11-13T08:23:38.435Z"
   },
   {
    "duration": 1358,
    "start_time": "2021-11-13T08:23:38.464Z"
   },
   {
    "duration": 54,
    "start_time": "2021-11-13T08:23:39.824Z"
   },
   {
    "duration": 54,
    "start_time": "2022-03-19T15:29:47.955Z"
   },
   {
    "duration": 1608,
    "start_time": "2022-05-07T01:35:22.997Z"
   },
   {
    "duration": 42,
    "start_time": "2022-05-07T01:35:24.608Z"
   },
   {
    "duration": 42,
    "start_time": "2022-05-07T01:35:24.653Z"
   },
   {
    "duration": 13,
    "start_time": "2022-05-07T01:35:24.698Z"
   },
   {
    "duration": 7,
    "start_time": "2022-05-07T01:35:24.713Z"
   },
   {
    "duration": 122,
    "start_time": "2022-05-07T01:35:24.722Z"
   },
   {
    "duration": 7,
    "start_time": "2022-05-07T01:35:24.847Z"
   },
   {
    "duration": 40,
    "start_time": "2022-05-07T01:35:24.856Z"
   },
   {
    "duration": 7,
    "start_time": "2022-05-07T01:35:24.898Z"
   },
   {
    "duration": 17,
    "start_time": "2022-05-07T01:35:24.909Z"
   },
   {
    "duration": 10,
    "start_time": "2022-05-07T01:35:24.929Z"
   },
   {
    "duration": 7,
    "start_time": "2022-05-07T01:35:24.941Z"
   },
   {
    "duration": 5,
    "start_time": "2022-05-07T01:35:24.951Z"
   },
   {
    "duration": 40,
    "start_time": "2022-05-07T01:35:24.958Z"
   },
   {
    "duration": 7,
    "start_time": "2022-05-07T01:35:25.000Z"
   },
   {
    "duration": 9,
    "start_time": "2022-05-07T01:35:25.009Z"
   },
   {
    "duration": 11,
    "start_time": "2022-05-07T01:35:25.020Z"
   },
   {
    "duration": 11,
    "start_time": "2022-05-07T01:35:25.034Z"
   },
   {
    "duration": 46,
    "start_time": "2022-05-07T01:35:25.047Z"
   },
   {
    "duration": 332,
    "start_time": "2022-05-07T01:35:25.095Z"
   },
   {
    "duration": 10,
    "start_time": "2022-05-07T01:35:25.429Z"
   },
   {
    "duration": 8,
    "start_time": "2022-05-07T01:35:25.441Z"
   },
   {
    "duration": 108,
    "start_time": "2022-05-07T01:35:25.450Z"
   },
   {
    "duration": 8,
    "start_time": "2022-05-07T01:35:25.560Z"
   },
   {
    "duration": 26,
    "start_time": "2022-05-07T01:35:25.570Z"
   },
   {
    "duration": 15,
    "start_time": "2022-05-07T01:35:25.598Z"
   },
   {
    "duration": 21,
    "start_time": "2022-05-07T01:35:25.615Z"
   },
   {
    "duration": 6,
    "start_time": "2022-05-07T01:35:25.643Z"
   },
   {
    "duration": 7,
    "start_time": "2022-05-07T01:35:25.651Z"
   },
   {
    "duration": 5,
    "start_time": "2022-05-07T01:35:25.660Z"
   },
   {
    "duration": 660,
    "start_time": "2022-05-07T01:35:25.667Z"
   },
   {
    "duration": 38,
    "start_time": "2022-05-07T01:35:26.329Z"
   },
   {
    "duration": 25,
    "start_time": "2022-05-07T01:35:26.369Z"
   },
   {
    "duration": 14,
    "start_time": "2022-05-07T01:35:26.396Z"
   },
   {
    "duration": 572,
    "start_time": "2022-05-07T01:35:26.412Z"
   },
   {
    "duration": 614,
    "start_time": "2022-05-07T01:35:26.986Z"
   },
   {
    "duration": 333,
    "start_time": "2022-05-07T01:35:27.602Z"
   },
   {
    "duration": 14,
    "start_time": "2022-05-07T01:35:27.937Z"
   },
   {
    "duration": 12,
    "start_time": "2022-05-07T01:35:27.953Z"
   },
   {
    "duration": 34,
    "start_time": "2022-05-07T01:35:27.967Z"
   },
   {
    "duration": 1229,
    "start_time": "2022-05-07T01:35:28.003Z"
   },
   {
    "duration": 13,
    "start_time": "2022-05-07T01:35:29.234Z"
   },
   {
    "duration": 401,
    "start_time": "2022-05-07T01:35:29.248Z"
   },
   {
    "duration": 11,
    "start_time": "2022-05-07T01:35:29.651Z"
   },
   {
    "duration": 33,
    "start_time": "2022-05-07T01:35:29.664Z"
   },
   {
    "duration": 10,
    "start_time": "2022-05-07T01:35:29.699Z"
   },
   {
    "duration": 14,
    "start_time": "2022-05-07T01:35:29.711Z"
   },
   {
    "duration": 550,
    "start_time": "2022-05-07T01:35:29.727Z"
   },
   {
    "duration": 28,
    "start_time": "2022-05-07T01:35:30.279Z"
   },
   {
    "duration": 195,
    "start_time": "2022-05-07T01:35:30.309Z"
   },
   {
    "duration": 1467,
    "start_time": "2022-05-07T01:35:30.506Z"
   },
   {
    "duration": 27,
    "start_time": "2022-05-07T01:35:31.975Z"
   },
   {
    "duration": 20,
    "start_time": "2022-05-07T01:35:32.004Z"
   },
   {
    "duration": 303,
    "start_time": "2022-05-07T01:35:32.026Z"
   },
   {
    "duration": 1005,
    "start_time": "2022-05-07T01:35:32.332Z"
   },
   {
    "duration": 19,
    "start_time": "2022-05-07T01:35:33.339Z"
   },
   {
    "duration": 45,
    "start_time": "2022-05-07T01:35:33.360Z"
   },
   {
    "duration": 22,
    "start_time": "2022-05-07T01:35:33.407Z"
   },
   {
    "duration": 19,
    "start_time": "2022-05-07T01:35:33.431Z"
   },
   {
    "duration": 43,
    "start_time": "2022-05-07T01:35:33.452Z"
   },
   {
    "duration": 35,
    "start_time": "2022-05-07T01:35:33.497Z"
   },
   {
    "duration": 17,
    "start_time": "2022-05-07T01:35:33.534Z"
   },
   {
    "duration": 340,
    "start_time": "2022-05-07T01:35:33.553Z"
   },
   {
    "duration": 22051,
    "start_time": "2022-05-07T01:35:33.895Z"
   },
   {
    "duration": 355,
    "start_time": "2022-05-07T01:35:55.948Z"
   },
   {
    "duration": 21,
    "start_time": "2022-05-07T01:35:56.305Z"
   },
   {
    "duration": 20,
    "start_time": "2022-05-07T01:35:56.328Z"
   },
   {
    "duration": 54,
    "start_time": "2022-05-07T01:35:56.350Z"
   },
   {
    "duration": 19,
    "start_time": "2022-05-07T01:35:56.406Z"
   },
   {
    "duration": 128,
    "start_time": "2022-05-07T01:35:56.427Z"
   },
   {
    "duration": 71,
    "start_time": "2022-05-07T01:35:56.557Z"
   },
   {
    "duration": 1240,
    "start_time": "2022-09-06T23:08:45.710Z"
   },
   {
    "duration": 31,
    "start_time": "2022-09-06T23:08:46.952Z"
   },
   {
    "duration": 14,
    "start_time": "2022-09-06T23:08:46.985Z"
   },
   {
    "duration": 11,
    "start_time": "2022-09-06T23:08:47.001Z"
   },
   {
    "duration": 5,
    "start_time": "2022-09-06T23:08:47.014Z"
   },
   {
    "duration": 92,
    "start_time": "2022-09-06T23:08:47.020Z"
   },
   {
    "duration": 4,
    "start_time": "2022-09-06T23:08:47.255Z"
   },
   {
    "duration": 16,
    "start_time": "2022-09-06T23:08:47.496Z"
   },
   {
    "duration": 5,
    "start_time": "2022-09-06T23:08:47.514Z"
   },
   {
    "duration": 7,
    "start_time": "2022-09-06T23:08:47.764Z"
   },
   {
    "duration": 7,
    "start_time": "2022-09-06T23:08:47.773Z"
   },
   {
    "duration": 6,
    "start_time": "2022-09-06T23:08:47.981Z"
   },
   {
    "duration": 7,
    "start_time": "2022-09-06T23:08:47.989Z"
   },
   {
    "duration": 10,
    "start_time": "2022-09-06T23:08:47.998Z"
   },
   {
    "duration": 5,
    "start_time": "2022-09-06T23:08:48.010Z"
   },
   {
    "duration": 5,
    "start_time": "2022-09-06T23:08:48.017Z"
   },
   {
    "duration": 8,
    "start_time": "2022-09-06T23:08:48.237Z"
   },
   {
    "duration": 8,
    "start_time": "2022-09-06T23:08:48.260Z"
   },
   {
    "duration": 6,
    "start_time": "2022-09-06T23:08:48.270Z"
   },
   {
    "duration": 196,
    "start_time": "2022-09-06T23:08:48.500Z"
   },
   {
    "duration": 8,
    "start_time": "2022-09-06T23:08:48.698Z"
   },
   {
    "duration": 4,
    "start_time": "2022-09-06T23:08:48.768Z"
   },
   {
    "duration": 64,
    "start_time": "2022-09-06T23:08:48.773Z"
   },
   {
    "duration": 4,
    "start_time": "2022-09-06T23:08:49.006Z"
   },
   {
    "duration": 12,
    "start_time": "2022-09-06T23:08:49.012Z"
   },
   {
    "duration": 11,
    "start_time": "2022-09-06T23:08:49.765Z"
   },
   {
    "duration": 10,
    "start_time": "2022-09-06T23:08:49.778Z"
   },
   {
    "duration": 9,
    "start_time": "2022-09-06T23:08:49.789Z"
   },
   {
    "duration": 8,
    "start_time": "2022-09-06T23:08:49.800Z"
   },
   {
    "duration": 4,
    "start_time": "2022-09-06T23:08:49.810Z"
   },
   {
    "duration": 392,
    "start_time": "2022-09-06T23:08:49.815Z"
   },
   {
    "duration": 24,
    "start_time": "2022-09-06T23:08:50.209Z"
   },
   {
    "duration": 6,
    "start_time": "2022-09-06T23:08:51.281Z"
   },
   {
    "duration": 10,
    "start_time": "2022-09-06T23:08:51.622Z"
   },
   {
    "duration": 399,
    "start_time": "2022-09-06T23:08:51.871Z"
   },
   {
    "duration": 458,
    "start_time": "2022-09-06T23:08:52.273Z"
   },
   {
    "duration": 242,
    "start_time": "2022-09-06T23:08:52.733Z"
   },
   {
    "duration": 8,
    "start_time": "2022-09-06T23:08:52.978Z"
   },
   {
    "duration": 9,
    "start_time": "2022-09-06T23:08:52.988Z"
   },
   {
    "duration": 9,
    "start_time": "2022-09-06T23:08:52.998Z"
   },
   {
    "duration": 794,
    "start_time": "2022-09-06T23:08:53.009Z"
   },
   {
    "duration": 9,
    "start_time": "2022-09-06T23:08:53.805Z"
   },
   {
    "duration": 286,
    "start_time": "2022-09-06T23:08:53.816Z"
   },
   {
    "duration": 14,
    "start_time": "2022-09-06T23:08:54.103Z"
   },
   {
    "duration": 13,
    "start_time": "2022-09-06T23:08:54.118Z"
   },
   {
    "duration": 11,
    "start_time": "2022-09-06T23:08:54.132Z"
   },
   {
    "duration": 21,
    "start_time": "2022-09-06T23:08:54.146Z"
   },
   {
    "duration": 390,
    "start_time": "2022-09-06T23:08:54.170Z"
   },
   {
    "duration": 16,
    "start_time": "2022-09-06T23:08:54.567Z"
   },
   {
    "duration": 131,
    "start_time": "2022-09-06T23:08:54.585Z"
   },
   {
    "duration": 866,
    "start_time": "2022-09-06T23:08:54.799Z"
   },
   {
    "duration": 12,
    "start_time": "2022-09-06T23:08:55.668Z"
   },
   {
    "duration": 12,
    "start_time": "2022-09-06T23:08:55.682Z"
   },
   {
    "duration": 202,
    "start_time": "2022-09-06T23:08:55.696Z"
   },
   {
    "duration": 654,
    "start_time": "2022-09-06T23:08:56.029Z"
   },
   {
    "duration": 17,
    "start_time": "2022-09-06T23:08:56.685Z"
   },
   {
    "duration": 16,
    "start_time": "2022-09-06T23:08:56.704Z"
   },
   {
    "duration": 15,
    "start_time": "2022-09-06T23:08:56.784Z"
   },
   {
    "duration": 13,
    "start_time": "2022-09-06T23:08:57.168Z"
   },
   {
    "duration": 7,
    "start_time": "2022-09-06T23:08:57.599Z"
   },
   {
    "duration": 22,
    "start_time": "2022-09-06T23:08:57.608Z"
   },
   {
    "duration": 13,
    "start_time": "2022-09-06T23:08:58.019Z"
   },
   {
    "duration": 186,
    "start_time": "2022-09-06T23:08:58.033Z"
   },
   {
    "duration": 1000,
    "start_time": "2022-09-06T23:08:58.969Z"
   },
   {
    "duration": 190,
    "start_time": "2022-09-06T23:08:59.971Z"
   },
   {
    "duration": 18,
    "start_time": "2022-09-06T23:09:00.162Z"
   },
   {
    "duration": 14,
    "start_time": "2022-09-06T23:09:00.183Z"
   },
   {
    "duration": 14,
    "start_time": "2022-09-06T23:09:00.487Z"
   },
   {
    "duration": 14,
    "start_time": "2022-09-06T23:09:00.874Z"
   },
   {
    "duration": 73,
    "start_time": "2022-09-06T23:09:01.222Z"
   },
   {
    "duration": 47,
    "start_time": "2022-09-06T23:09:01.297Z"
   },
   {
    "duration": 1198,
    "start_time": "2022-09-06T23:09:57.828Z"
   },
   {
    "duration": 31,
    "start_time": "2022-09-06T23:09:59.029Z"
   },
   {
    "duration": 14,
    "start_time": "2022-09-06T23:09:59.068Z"
   },
   {
    "duration": 8,
    "start_time": "2022-09-06T23:09:59.084Z"
   },
   {
    "duration": 5,
    "start_time": "2022-09-06T23:09:59.093Z"
   },
   {
    "duration": 93,
    "start_time": "2022-09-06T23:09:59.100Z"
   },
   {
    "duration": 4,
    "start_time": "2022-09-06T23:09:59.195Z"
   },
   {
    "duration": 18,
    "start_time": "2022-09-06T23:09:59.201Z"
   },
   {
    "duration": 5,
    "start_time": "2022-09-06T23:09:59.221Z"
   },
   {
    "duration": 11,
    "start_time": "2022-09-06T23:09:59.229Z"
   },
   {
    "duration": 26,
    "start_time": "2022-09-06T23:09:59.242Z"
   },
   {
    "duration": 6,
    "start_time": "2022-09-06T23:09:59.269Z"
   },
   {
    "duration": 7,
    "start_time": "2022-09-06T23:09:59.276Z"
   },
   {
    "duration": 6,
    "start_time": "2022-09-06T23:09:59.284Z"
   },
   {
    "duration": 6,
    "start_time": "2022-09-06T23:09:59.291Z"
   },
   {
    "duration": 6,
    "start_time": "2022-09-06T23:09:59.298Z"
   },
   {
    "duration": 7,
    "start_time": "2022-09-06T23:09:59.305Z"
   },
   {
    "duration": 11,
    "start_time": "2022-09-06T23:09:59.314Z"
   },
   {
    "duration": 9,
    "start_time": "2022-09-06T23:09:59.327Z"
   },
   {
    "duration": 216,
    "start_time": "2022-09-06T23:09:59.338Z"
   },
   {
    "duration": 14,
    "start_time": "2022-09-06T23:09:59.555Z"
   },
   {
    "duration": 5,
    "start_time": "2022-09-06T23:09:59.571Z"
   },
   {
    "duration": 60,
    "start_time": "2022-09-06T23:09:59.578Z"
   },
   {
    "duration": 11,
    "start_time": "2022-09-06T23:09:59.639Z"
   },
   {
    "duration": 19,
    "start_time": "2022-09-06T23:09:59.651Z"
   },
   {
    "duration": 10,
    "start_time": "2022-09-06T23:09:59.671Z"
   },
   {
    "duration": 13,
    "start_time": "2022-09-06T23:09:59.683Z"
   },
   {
    "duration": 5,
    "start_time": "2022-09-06T23:09:59.699Z"
   },
   {
    "duration": 5,
    "start_time": "2022-09-06T23:09:59.706Z"
   },
   {
    "duration": 4,
    "start_time": "2022-09-06T23:09:59.712Z"
   },
   {
    "duration": 393,
    "start_time": "2022-09-06T23:09:59.717Z"
   },
   {
    "duration": 30,
    "start_time": "2022-09-06T23:10:00.112Z"
   },
   {
    "duration": 24,
    "start_time": "2022-09-06T23:10:00.144Z"
   },
   {
    "duration": 16,
    "start_time": "2022-09-06T23:10:00.169Z"
   },
   {
    "duration": 373,
    "start_time": "2022-09-06T23:10:00.187Z"
   },
   {
    "duration": 433,
    "start_time": "2022-09-06T23:10:00.562Z"
   },
   {
    "duration": 240,
    "start_time": "2022-09-06T23:10:00.996Z"
   },
   {
    "duration": 10,
    "start_time": "2022-09-06T23:10:01.238Z"
   },
   {
    "duration": 21,
    "start_time": "2022-09-06T23:10:01.250Z"
   },
   {
    "duration": 10,
    "start_time": "2022-09-06T23:10:01.273Z"
   },
   {
    "duration": 790,
    "start_time": "2022-09-06T23:10:01.285Z"
   },
   {
    "duration": 9,
    "start_time": "2022-09-06T23:10:02.077Z"
   },
   {
    "duration": 257,
    "start_time": "2022-09-06T23:10:02.088Z"
   },
   {
    "duration": 9,
    "start_time": "2022-09-06T23:10:02.347Z"
   },
   {
    "duration": 7,
    "start_time": "2022-09-06T23:10:02.368Z"
   },
   {
    "duration": 9,
    "start_time": "2022-09-06T23:10:02.377Z"
   },
   {
    "duration": 9,
    "start_time": "2022-09-06T23:10:02.388Z"
   },
   {
    "duration": 401,
    "start_time": "2022-09-06T23:10:02.399Z"
   },
   {
    "duration": 16,
    "start_time": "2022-09-06T23:10:02.802Z"
   },
   {
    "duration": 134,
    "start_time": "2022-09-06T23:10:02.820Z"
   },
   {
    "duration": 896,
    "start_time": "2022-09-06T23:10:02.956Z"
   },
   {
    "duration": 21,
    "start_time": "2022-09-06T23:10:03.854Z"
   },
   {
    "duration": 15,
    "start_time": "2022-09-06T23:10:03.876Z"
   },
   {
    "duration": 218,
    "start_time": "2022-09-06T23:10:03.893Z"
   },
   {
    "duration": 688,
    "start_time": "2022-09-06T23:10:04.112Z"
   },
   {
    "duration": 16,
    "start_time": "2022-09-06T23:10:04.802Z"
   },
   {
    "duration": 16,
    "start_time": "2022-09-06T23:10:04.820Z"
   },
   {
    "duration": 43,
    "start_time": "2022-09-06T23:10:04.838Z"
   },
   {
    "duration": 15,
    "start_time": "2022-09-06T23:10:04.883Z"
   },
   {
    "duration": 9,
    "start_time": "2022-09-06T23:10:04.899Z"
   },
   {
    "duration": 24,
    "start_time": "2022-09-06T23:10:04.910Z"
   },
   {
    "duration": 40,
    "start_time": "2022-09-06T23:10:04.936Z"
   },
   {
    "duration": 213,
    "start_time": "2022-09-06T23:10:04.978Z"
   },
   {
    "duration": 1078,
    "start_time": "2022-09-06T23:10:05.193Z"
   },
   {
    "duration": 179,
    "start_time": "2022-09-06T23:10:06.273Z"
   },
   {
    "duration": 23,
    "start_time": "2022-09-06T23:10:06.454Z"
   },
   {
    "duration": 22,
    "start_time": "2022-09-06T23:10:06.479Z"
   },
   {
    "duration": 19,
    "start_time": "2022-09-06T23:10:06.503Z"
   },
   {
    "duration": 16,
    "start_time": "2022-09-06T23:10:06.527Z"
   },
   {
    "duration": 73,
    "start_time": "2022-09-06T23:10:06.568Z"
   },
   {
    "duration": 57,
    "start_time": "2022-09-06T23:10:06.642Z"
   },
   {
    "duration": 1291,
    "start_time": "2022-09-06T23:12:36.565Z"
   },
   {
    "duration": 30,
    "start_time": "2022-09-06T23:12:37.858Z"
   },
   {
    "duration": 16,
    "start_time": "2022-09-06T23:12:37.890Z"
   },
   {
    "duration": 8,
    "start_time": "2022-09-06T23:12:37.907Z"
   },
   {
    "duration": 5,
    "start_time": "2022-09-06T23:12:37.918Z"
   },
   {
    "duration": 106,
    "start_time": "2022-09-06T23:12:37.925Z"
   },
   {
    "duration": 5,
    "start_time": "2022-09-06T23:12:38.033Z"
   },
   {
    "duration": 30,
    "start_time": "2022-09-06T23:12:38.039Z"
   },
   {
    "duration": 5,
    "start_time": "2022-09-06T23:12:38.071Z"
   },
   {
    "duration": 8,
    "start_time": "2022-09-06T23:12:38.077Z"
   },
   {
    "duration": 7,
    "start_time": "2022-09-06T23:12:38.087Z"
   },
   {
    "duration": 7,
    "start_time": "2022-09-06T23:12:38.095Z"
   },
   {
    "duration": 4,
    "start_time": "2022-09-06T23:12:38.104Z"
   },
   {
    "duration": 5,
    "start_time": "2022-09-06T23:12:38.110Z"
   },
   {
    "duration": 5,
    "start_time": "2022-09-06T23:12:38.116Z"
   },
   {
    "duration": 6,
    "start_time": "2022-09-06T23:12:38.122Z"
   },
   {
    "duration": 9,
    "start_time": "2022-09-06T23:12:38.167Z"
   },
   {
    "duration": 12,
    "start_time": "2022-09-06T23:12:38.177Z"
   },
   {
    "duration": 6,
    "start_time": "2022-09-06T23:12:38.191Z"
   },
   {
    "duration": 210,
    "start_time": "2022-09-06T23:12:38.199Z"
   },
   {
    "duration": 8,
    "start_time": "2022-09-06T23:12:38.411Z"
   },
   {
    "duration": 5,
    "start_time": "2022-09-06T23:12:38.421Z"
   },
   {
    "duration": 81,
    "start_time": "2022-09-06T23:12:38.428Z"
   },
   {
    "duration": 4,
    "start_time": "2022-09-06T23:12:38.511Z"
   },
   {
    "duration": 11,
    "start_time": "2022-09-06T23:12:38.517Z"
   },
   {
    "duration": 10,
    "start_time": "2022-09-06T23:12:38.530Z"
   },
   {
    "duration": 29,
    "start_time": "2022-09-06T23:12:38.542Z"
   },
   {
    "duration": 6,
    "start_time": "2022-09-06T23:12:38.573Z"
   },
   {
    "duration": 6,
    "start_time": "2022-09-06T23:12:38.581Z"
   },
   {
    "duration": 5,
    "start_time": "2022-09-06T23:12:38.588Z"
   },
   {
    "duration": 390,
    "start_time": "2022-09-06T23:12:38.595Z"
   },
   {
    "duration": 26,
    "start_time": "2022-09-06T23:12:38.987Z"
   },
   {
    "duration": 8,
    "start_time": "2022-09-06T23:12:39.014Z"
   },
   {
    "duration": 11,
    "start_time": "2022-09-06T23:12:39.024Z"
   },
   {
    "duration": 378,
    "start_time": "2022-09-06T23:12:39.036Z"
   },
   {
    "duration": 419,
    "start_time": "2022-09-06T23:12:39.416Z"
   },
   {
    "duration": 226,
    "start_time": "2022-09-06T23:12:39.837Z"
   },
   {
    "duration": 8,
    "start_time": "2022-09-06T23:12:40.067Z"
   },
   {
    "duration": 8,
    "start_time": "2022-09-06T23:12:40.077Z"
   },
   {
    "duration": 16,
    "start_time": "2022-09-06T23:12:40.086Z"
   },
   {
    "duration": 719,
    "start_time": "2022-09-06T23:12:40.106Z"
   },
   {
    "duration": 8,
    "start_time": "2022-09-06T23:12:40.827Z"
   },
   {
    "duration": 242,
    "start_time": "2022-09-06T23:12:40.836Z"
   },
   {
    "duration": 8,
    "start_time": "2022-09-06T23:12:41.080Z"
   },
   {
    "duration": 6,
    "start_time": "2022-09-06T23:12:41.090Z"
   },
   {
    "duration": 7,
    "start_time": "2022-09-06T23:12:41.097Z"
   },
   {
    "duration": 8,
    "start_time": "2022-09-06T23:12:41.106Z"
   },
   {
    "duration": 397,
    "start_time": "2022-09-06T23:12:41.115Z"
   },
   {
    "duration": 18,
    "start_time": "2022-09-06T23:12:41.514Z"
   },
   {
    "duration": 126,
    "start_time": "2022-09-06T23:12:41.533Z"
   },
   {
    "duration": 810,
    "start_time": "2022-09-06T23:12:41.660Z"
   },
   {
    "duration": 9,
    "start_time": "2022-09-06T23:12:42.472Z"
   },
   {
    "duration": 13,
    "start_time": "2022-09-06T23:12:42.482Z"
   },
   {
    "duration": 206,
    "start_time": "2022-09-06T23:12:42.496Z"
   },
   {
    "duration": 624,
    "start_time": "2022-09-06T23:12:42.703Z"
   },
   {
    "duration": 14,
    "start_time": "2022-09-06T23:12:43.328Z"
   },
   {
    "duration": 29,
    "start_time": "2022-09-06T23:12:43.343Z"
   },
   {
    "duration": 14,
    "start_time": "2022-09-06T23:12:43.373Z"
   },
   {
    "duration": 13,
    "start_time": "2022-09-06T23:12:43.388Z"
   },
   {
    "duration": 6,
    "start_time": "2022-09-06T23:12:43.402Z"
   },
   {
    "duration": 22,
    "start_time": "2022-09-06T23:12:43.410Z"
   },
   {
    "duration": 40,
    "start_time": "2022-09-06T23:12:43.433Z"
   },
   {
    "duration": 196,
    "start_time": "2022-09-06T23:12:43.474Z"
   },
   {
    "duration": 986,
    "start_time": "2022-09-06T23:12:43.672Z"
   },
   {
    "duration": 159,
    "start_time": "2022-09-06T23:12:44.660Z"
   },
   {
    "duration": 16,
    "start_time": "2022-09-06T23:12:44.821Z"
   },
   {
    "duration": 34,
    "start_time": "2022-09-06T23:12:44.839Z"
   },
   {
    "duration": 12,
    "start_time": "2022-09-06T23:12:44.875Z"
   },
   {
    "duration": 11,
    "start_time": "2022-09-06T23:12:44.889Z"
   },
   {
    "duration": 87,
    "start_time": "2022-09-06T23:12:44.902Z"
   },
   {
    "duration": 42,
    "start_time": "2022-09-06T23:12:44.991Z"
   }
  ],
  "kernelspec": {
   "display_name": "Python 3 (ipykernel)",
   "language": "python",
   "name": "python3"
  },
  "language_info": {
   "codemirror_mode": {
    "name": "ipython",
    "version": 3
   },
   "file_extension": ".py",
   "mimetype": "text/x-python",
   "name": "python",
   "nbconvert_exporter": "python",
   "pygments_lexer": "ipython3",
   "version": "3.9.5"
  },
  "toc": {
   "base_numbering": 1,
   "nav_menu": {
    "height": "241px",
    "width": "591px"
   },
   "number_sections": true,
   "sideBar": true,
   "skip_h1_title": true,
   "title_cell": "Table of content",
   "title_sidebar": "Contents",
   "toc_cell": true,
   "toc_position": {
    "height": "calc(100% - 180px)",
    "left": "10px",
    "top": "150px",
    "width": "330.594px"
   },
   "toc_section_display": true,
   "toc_window_display": true
  }
 },
 "nbformat": 4,
 "nbformat_minor": 2
}
