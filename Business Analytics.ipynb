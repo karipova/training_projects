{
 "cells": [
  {
   "cell_type": "markdown",
   "metadata": {},
   "source": [
    "\n",
    "### Project description:\n",
    "\n",
    "It is necessary to analyze the results of users acquisition to the mobile application for the period from 2019-05-01 to 2019-10-27. \n",
    "\n",
    "Input data:\n",
    "- server log with information regarding app visits; \n",
    "- order information for the analysed period;\n",
    "- advertising costs.\n",
    "\n",
    "The object is to find the reasons of unefficient advertising compaign and give recomendations for the marketing department.\n",
    "\n",
    "#### Data description:\n",
    "Table visits_log_short (server log with information regarding application visits):\n",
    "\n",
    "    1. User Id — unique user id\n",
    "    2. Device — user's device\n",
    "    3. Session start — date and time of the beginning user's session\n",
    "    4. Session End — date and time of finishing the session\n",
    "    5. Channel — advertisement source which attracted the user\n",
    "    6. Region - user's country\n",
    "\n",
    "Table orders_log_short (information about the orders):\n",
    "\n",
    "    1. User Id — unique user id, who made an order\n",
    "    2. Event Dt — дата и время покупки\n",
    "    3. Revenue — revenue\n",
    "\n",
    "Table costs_short (marketing costs):\n",
    "\n",
    "    1. Channel — advertisement channel\n",
    "    2. Dt — date\n",
    "    3. Costs — costs for the advertising source in a specific day"
   ]
  },
  {
   "cell_type": "markdown",
   "metadata": {},
   "source": [
    "## Assess data and data preparation"
   ]
  },
  {
   "cell_type": "code",
   "execution_count": 1,
   "metadata": {},
   "outputs": [
    {
     "name": "stderr",
     "output_type": "stream",
     "text": [
      "Matplotlib is building the font cache; this may take a moment.\n"
     ]
    },
    {
     "ename": "FileNotFoundError",
     "evalue": "[Errno 2] No such file or directory: '/datasets/visits_info_short.csv'",
     "output_type": "error",
     "traceback": [
      "\u001b[1;31m---------------------------------------------------------------------------\u001b[0m",
      "\u001b[1;31mFileNotFoundError\u001b[0m                         Traceback (most recent call last)",
      "\u001b[1;32m<ipython-input-1-dfc1b23896e1>\u001b[0m in \u001b[0;36m<module>\u001b[1;34m\u001b[0m\n\u001b[0;32m      8\u001b[0m \u001b[0mget_ipython\u001b[0m\u001b[1;33m(\u001b[0m\u001b[1;33m)\u001b[0m\u001b[1;33m.\u001b[0m\u001b[0mrun_line_magic\u001b[0m\u001b[1;33m(\u001b[0m\u001b[1;34m'matplotlib'\u001b[0m\u001b[1;33m,\u001b[0m \u001b[1;34m'inline'\u001b[0m\u001b[1;33m)\u001b[0m\u001b[1;33m\u001b[0m\u001b[1;33m\u001b[0m\u001b[0m\n\u001b[0;32m      9\u001b[0m \u001b[1;33m\u001b[0m\u001b[0m\n\u001b[1;32m---> 10\u001b[1;33m \u001b[0mvisits\u001b[0m \u001b[1;33m=\u001b[0m \u001b[0mpd\u001b[0m\u001b[1;33m.\u001b[0m\u001b[0mread_csv\u001b[0m\u001b[1;33m(\u001b[0m\u001b[1;34m'/datasets/visits_info_short.csv'\u001b[0m\u001b[1;33m)\u001b[0m\u001b[1;33m\u001b[0m\u001b[1;33m\u001b[0m\u001b[0m\n\u001b[0m\u001b[0;32m     11\u001b[0m \u001b[0morders\u001b[0m \u001b[1;33m=\u001b[0m \u001b[0mpd\u001b[0m\u001b[1;33m.\u001b[0m\u001b[0mread_csv\u001b[0m\u001b[1;33m(\u001b[0m\u001b[1;34m'/datasets/orders_info_short.csv'\u001b[0m\u001b[1;33m)\u001b[0m\u001b[1;33m\u001b[0m\u001b[1;33m\u001b[0m\u001b[0m\n\u001b[0;32m     12\u001b[0m \u001b[0mcosts\u001b[0m \u001b[1;33m=\u001b[0m \u001b[0mpd\u001b[0m\u001b[1;33m.\u001b[0m\u001b[0mread_csv\u001b[0m\u001b[1;33m(\u001b[0m\u001b[1;34m'/datasets/costs_info_short.csv'\u001b[0m\u001b[1;33m)\u001b[0m\u001b[1;33m\u001b[0m\u001b[1;33m\u001b[0m\u001b[0m\n",
      "\u001b[1;32mC:\\ProgramData\\Anaconda3\\lib\\site-packages\\pandas\\io\\parsers.py\u001b[0m in \u001b[0;36mread_csv\u001b[1;34m(filepath_or_buffer, sep, delimiter, header, names, index_col, usecols, squeeze, prefix, mangle_dupe_cols, dtype, engine, converters, true_values, false_values, skipinitialspace, skiprows, skipfooter, nrows, na_values, keep_default_na, na_filter, verbose, skip_blank_lines, parse_dates, infer_datetime_format, keep_date_col, date_parser, dayfirst, cache_dates, iterator, chunksize, compression, thousands, decimal, lineterminator, quotechar, quoting, doublequote, escapechar, comment, encoding, dialect, error_bad_lines, warn_bad_lines, delim_whitespace, low_memory, memory_map, float_precision, storage_options)\u001b[0m\n\u001b[0;32m    608\u001b[0m     \u001b[0mkwds\u001b[0m\u001b[1;33m.\u001b[0m\u001b[0mupdate\u001b[0m\u001b[1;33m(\u001b[0m\u001b[0mkwds_defaults\u001b[0m\u001b[1;33m)\u001b[0m\u001b[1;33m\u001b[0m\u001b[1;33m\u001b[0m\u001b[0m\n\u001b[0;32m    609\u001b[0m \u001b[1;33m\u001b[0m\u001b[0m\n\u001b[1;32m--> 610\u001b[1;33m     \u001b[1;32mreturn\u001b[0m \u001b[0m_read\u001b[0m\u001b[1;33m(\u001b[0m\u001b[0mfilepath_or_buffer\u001b[0m\u001b[1;33m,\u001b[0m \u001b[0mkwds\u001b[0m\u001b[1;33m)\u001b[0m\u001b[1;33m\u001b[0m\u001b[1;33m\u001b[0m\u001b[0m\n\u001b[0m\u001b[0;32m    611\u001b[0m \u001b[1;33m\u001b[0m\u001b[0m\n\u001b[0;32m    612\u001b[0m \u001b[1;33m\u001b[0m\u001b[0m\n",
      "\u001b[1;32mC:\\ProgramData\\Anaconda3\\lib\\site-packages\\pandas\\io\\parsers.py\u001b[0m in \u001b[0;36m_read\u001b[1;34m(filepath_or_buffer, kwds)\u001b[0m\n\u001b[0;32m    460\u001b[0m \u001b[1;33m\u001b[0m\u001b[0m\n\u001b[0;32m    461\u001b[0m     \u001b[1;31m# Create the parser.\u001b[0m\u001b[1;33m\u001b[0m\u001b[1;33m\u001b[0m\u001b[1;33m\u001b[0m\u001b[0m\n\u001b[1;32m--> 462\u001b[1;33m     \u001b[0mparser\u001b[0m \u001b[1;33m=\u001b[0m \u001b[0mTextFileReader\u001b[0m\u001b[1;33m(\u001b[0m\u001b[0mfilepath_or_buffer\u001b[0m\u001b[1;33m,\u001b[0m \u001b[1;33m**\u001b[0m\u001b[0mkwds\u001b[0m\u001b[1;33m)\u001b[0m\u001b[1;33m\u001b[0m\u001b[1;33m\u001b[0m\u001b[0m\n\u001b[0m\u001b[0;32m    463\u001b[0m \u001b[1;33m\u001b[0m\u001b[0m\n\u001b[0;32m    464\u001b[0m     \u001b[1;32mif\u001b[0m \u001b[0mchunksize\u001b[0m \u001b[1;32mor\u001b[0m \u001b[0miterator\u001b[0m\u001b[1;33m:\u001b[0m\u001b[1;33m\u001b[0m\u001b[1;33m\u001b[0m\u001b[0m\n",
      "\u001b[1;32mC:\\ProgramData\\Anaconda3\\lib\\site-packages\\pandas\\io\\parsers.py\u001b[0m in \u001b[0;36m__init__\u001b[1;34m(self, f, engine, **kwds)\u001b[0m\n\u001b[0;32m    817\u001b[0m             \u001b[0mself\u001b[0m\u001b[1;33m.\u001b[0m\u001b[0moptions\u001b[0m\u001b[1;33m[\u001b[0m\u001b[1;34m\"has_index_names\"\u001b[0m\u001b[1;33m]\u001b[0m \u001b[1;33m=\u001b[0m \u001b[0mkwds\u001b[0m\u001b[1;33m[\u001b[0m\u001b[1;34m\"has_index_names\"\u001b[0m\u001b[1;33m]\u001b[0m\u001b[1;33m\u001b[0m\u001b[1;33m\u001b[0m\u001b[0m\n\u001b[0;32m    818\u001b[0m \u001b[1;33m\u001b[0m\u001b[0m\n\u001b[1;32m--> 819\u001b[1;33m         \u001b[0mself\u001b[0m\u001b[1;33m.\u001b[0m\u001b[0m_engine\u001b[0m \u001b[1;33m=\u001b[0m \u001b[0mself\u001b[0m\u001b[1;33m.\u001b[0m\u001b[0m_make_engine\u001b[0m\u001b[1;33m(\u001b[0m\u001b[0mself\u001b[0m\u001b[1;33m.\u001b[0m\u001b[0mengine\u001b[0m\u001b[1;33m)\u001b[0m\u001b[1;33m\u001b[0m\u001b[1;33m\u001b[0m\u001b[0m\n\u001b[0m\u001b[0;32m    820\u001b[0m \u001b[1;33m\u001b[0m\u001b[0m\n\u001b[0;32m    821\u001b[0m     \u001b[1;32mdef\u001b[0m \u001b[0mclose\u001b[0m\u001b[1;33m(\u001b[0m\u001b[0mself\u001b[0m\u001b[1;33m)\u001b[0m\u001b[1;33m:\u001b[0m\u001b[1;33m\u001b[0m\u001b[1;33m\u001b[0m\u001b[0m\n",
      "\u001b[1;32mC:\\ProgramData\\Anaconda3\\lib\\site-packages\\pandas\\io\\parsers.py\u001b[0m in \u001b[0;36m_make_engine\u001b[1;34m(self, engine)\u001b[0m\n\u001b[0;32m   1048\u001b[0m             )\n\u001b[0;32m   1049\u001b[0m         \u001b[1;31m# error: Too many arguments for \"ParserBase\"\u001b[0m\u001b[1;33m\u001b[0m\u001b[1;33m\u001b[0m\u001b[1;33m\u001b[0m\u001b[0m\n\u001b[1;32m-> 1050\u001b[1;33m         \u001b[1;32mreturn\u001b[0m \u001b[0mmapping\u001b[0m\u001b[1;33m[\u001b[0m\u001b[0mengine\u001b[0m\u001b[1;33m]\u001b[0m\u001b[1;33m(\u001b[0m\u001b[0mself\u001b[0m\u001b[1;33m.\u001b[0m\u001b[0mf\u001b[0m\u001b[1;33m,\u001b[0m \u001b[1;33m**\u001b[0m\u001b[0mself\u001b[0m\u001b[1;33m.\u001b[0m\u001b[0moptions\u001b[0m\u001b[1;33m)\u001b[0m  \u001b[1;31m# type: ignore[call-arg]\u001b[0m\u001b[1;33m\u001b[0m\u001b[1;33m\u001b[0m\u001b[0m\n\u001b[0m\u001b[0;32m   1051\u001b[0m \u001b[1;33m\u001b[0m\u001b[0m\n\u001b[0;32m   1052\u001b[0m     \u001b[1;32mdef\u001b[0m \u001b[0m_failover_to_python\u001b[0m\u001b[1;33m(\u001b[0m\u001b[0mself\u001b[0m\u001b[1;33m)\u001b[0m\u001b[1;33m:\u001b[0m\u001b[1;33m\u001b[0m\u001b[1;33m\u001b[0m\u001b[0m\n",
      "\u001b[1;32mC:\\ProgramData\\Anaconda3\\lib\\site-packages\\pandas\\io\\parsers.py\u001b[0m in \u001b[0;36m__init__\u001b[1;34m(self, src, **kwds)\u001b[0m\n\u001b[0;32m   1865\u001b[0m \u001b[1;33m\u001b[0m\u001b[0m\n\u001b[0;32m   1866\u001b[0m         \u001b[1;31m# open handles\u001b[0m\u001b[1;33m\u001b[0m\u001b[1;33m\u001b[0m\u001b[1;33m\u001b[0m\u001b[0m\n\u001b[1;32m-> 1867\u001b[1;33m         \u001b[0mself\u001b[0m\u001b[1;33m.\u001b[0m\u001b[0m_open_handles\u001b[0m\u001b[1;33m(\u001b[0m\u001b[0msrc\u001b[0m\u001b[1;33m,\u001b[0m \u001b[0mkwds\u001b[0m\u001b[1;33m)\u001b[0m\u001b[1;33m\u001b[0m\u001b[1;33m\u001b[0m\u001b[0m\n\u001b[0m\u001b[0;32m   1868\u001b[0m         \u001b[1;32massert\u001b[0m \u001b[0mself\u001b[0m\u001b[1;33m.\u001b[0m\u001b[0mhandles\u001b[0m \u001b[1;32mis\u001b[0m \u001b[1;32mnot\u001b[0m \u001b[1;32mNone\u001b[0m\u001b[1;33m\u001b[0m\u001b[1;33m\u001b[0m\u001b[0m\n\u001b[0;32m   1869\u001b[0m         \u001b[1;32mfor\u001b[0m \u001b[0mkey\u001b[0m \u001b[1;32min\u001b[0m \u001b[1;33m(\u001b[0m\u001b[1;34m\"storage_options\"\u001b[0m\u001b[1;33m,\u001b[0m \u001b[1;34m\"encoding\"\u001b[0m\u001b[1;33m,\u001b[0m \u001b[1;34m\"memory_map\"\u001b[0m\u001b[1;33m,\u001b[0m \u001b[1;34m\"compression\"\u001b[0m\u001b[1;33m)\u001b[0m\u001b[1;33m:\u001b[0m\u001b[1;33m\u001b[0m\u001b[1;33m\u001b[0m\u001b[0m\n",
      "\u001b[1;32mC:\\ProgramData\\Anaconda3\\lib\\site-packages\\pandas\\io\\parsers.py\u001b[0m in \u001b[0;36m_open_handles\u001b[1;34m(self, src, kwds)\u001b[0m\n\u001b[0;32m   1360\u001b[0m         \u001b[0mLet\u001b[0m \u001b[0mthe\u001b[0m \u001b[0mreaders\u001b[0m \u001b[0mopen\u001b[0m \u001b[0mIOHanldes\u001b[0m \u001b[0mafter\u001b[0m \u001b[0mthey\u001b[0m \u001b[0mare\u001b[0m \u001b[0mdone\u001b[0m \u001b[1;32mwith\u001b[0m \u001b[0mtheir\u001b[0m \u001b[0mpotential\u001b[0m \u001b[0mraises\u001b[0m\u001b[1;33m.\u001b[0m\u001b[1;33m\u001b[0m\u001b[1;33m\u001b[0m\u001b[0m\n\u001b[0;32m   1361\u001b[0m         \"\"\"\n\u001b[1;32m-> 1362\u001b[1;33m         self.handles = get_handle(\n\u001b[0m\u001b[0;32m   1363\u001b[0m             \u001b[0msrc\u001b[0m\u001b[1;33m,\u001b[0m\u001b[1;33m\u001b[0m\u001b[1;33m\u001b[0m\u001b[0m\n\u001b[0;32m   1364\u001b[0m             \u001b[1;34m\"r\"\u001b[0m\u001b[1;33m,\u001b[0m\u001b[1;33m\u001b[0m\u001b[1;33m\u001b[0m\u001b[0m\n",
      "\u001b[1;32mC:\\ProgramData\\Anaconda3\\lib\\site-packages\\pandas\\io\\common.py\u001b[0m in \u001b[0;36mget_handle\u001b[1;34m(path_or_buf, mode, encoding, compression, memory_map, is_text, errors, storage_options)\u001b[0m\n\u001b[0;32m    640\u001b[0m                 \u001b[0merrors\u001b[0m \u001b[1;33m=\u001b[0m \u001b[1;34m\"replace\"\u001b[0m\u001b[1;33m\u001b[0m\u001b[1;33m\u001b[0m\u001b[0m\n\u001b[0;32m    641\u001b[0m             \u001b[1;31m# Encoding\u001b[0m\u001b[1;33m\u001b[0m\u001b[1;33m\u001b[0m\u001b[1;33m\u001b[0m\u001b[0m\n\u001b[1;32m--> 642\u001b[1;33m             handle = open(\n\u001b[0m\u001b[0;32m    643\u001b[0m                 \u001b[0mhandle\u001b[0m\u001b[1;33m,\u001b[0m\u001b[1;33m\u001b[0m\u001b[1;33m\u001b[0m\u001b[0m\n\u001b[0;32m    644\u001b[0m                 \u001b[0mioargs\u001b[0m\u001b[1;33m.\u001b[0m\u001b[0mmode\u001b[0m\u001b[1;33m,\u001b[0m\u001b[1;33m\u001b[0m\u001b[1;33m\u001b[0m\u001b[0m\n",
      "\u001b[1;31mFileNotFoundError\u001b[0m: [Errno 2] No such file or directory: '/datasets/visits_info_short.csv'"
     ]
    }
   ],
   "source": [
    "# import libraries\n",
    "\n",
    "import pandas as pd\n",
    "from datetime import datetime, timedelta\n",
    "import seaborn as sns\n",
    "from matplotlib import pyplot as plt\n",
    "import numpy as np\n",
    "%matplotlib inline\n",
    "\n",
    "visits = pd.read_csv('/datasets/visits_info_short.csv')\n",
    "orders = pd.read_csv('/datasets/orders_info_short.csv')\n",
    "costs = pd.read_csv('/datasets/costs_info_short.csv')\n"
   ]
  },
  {
   "cell_type": "code",
   "execution_count": null,
   "metadata": {
    "scrolled": true
   },
   "outputs": [],
   "source": [
    "#function for the quick datset analysis\n",
    "\n",
    "def dataset (dataset):\n",
    "    dataset.columns = [x.lower().replace(' ', '_') for x in dataset.columns.values]\n",
    "    print(dataset.info())\n",
    "    print('\\n')\n",
    "    print(dataset.describe())\n",
    "    print('\\n')\n",
    "    print('Missed data')\n",
    "    print(dataset.isnull().sum())\n",
    "    print('\\n')\n",
    "    print(dataset.head(5))\n",
    "    print('\\n')\n",
    "    print('Duplicates quantity', dataset.duplicated().sum())\n",
    "    \n",
    "dataset(visits)"
   ]
  },
  {
   "cell_type": "code",
   "execution_count": null,
   "metadata": {
    "scrolled": true
   },
   "outputs": [],
   "source": [
    "dataset(orders)"
   ]
  },
  {
   "cell_type": "code",
   "execution_count": null,
   "metadata": {
    "scrolled": true
   },
   "outputs": [],
   "source": [
    "dataset(costs)"
   ]
  },
  {
   "cell_type": "code",
   "execution_count": null,
   "metadata": {},
   "outputs": [],
   "source": [
    "visits['session_start'] = pd.to_datetime(visits['session_start']) # bring the data to datetime format\n",
    "visits['session_end'] = pd.to_datetime(visits['session_end'])"
   ]
  },
  {
   "cell_type": "code",
   "execution_count": null,
   "metadata": {},
   "outputs": [],
   "source": [
    "orders['event_dt'] = pd.to_datetime(orders['event_dt']) # bring the data to datetime format"
   ]
  },
  {
   "cell_type": "code",
   "execution_count": null,
   "metadata": {},
   "outputs": [],
   "source": [
    "costs['dt'] = pd.to_datetime(costs['dt']).dt.date # bring the data to datetime format"
   ]
  },
  {
   "cell_type": "markdown",
   "metadata": {},
   "source": [
    "### Conclusion\n",
    "We prepared data for the upcoming analysis by changing the format and checking the missing and duplicate values."
   ]
  },
  {
   "cell_type": "markdown",
   "metadata": {},
   "source": [
    "## The functions to calculate and analyze LTV, ROI, retention and conversion\n",
    "\n",
    "Further we will define functions for creating user profiles, conversion, LTV, ROI and for visualizing these metrics — filter_data(), plot_retention(), plot_conversion() и plot_ltv_roi()."
   ]
  },
  {
   "cell_type": "markdown",
   "metadata": {},
   "source": [
    "### The function for creating user profiles"
   ]
  },
  {
   "cell_type": "code",
   "execution_count": null,
   "metadata": {},
   "outputs": [],
   "source": [
    "\n",
    "def get_profiles(sessions, orders, ad_costs):\n",
    "\n",
    "    # sort sessions by user ID and engagement date\n",
    "    # grouping by id and finding the parametres of first visits\n",
    "    profiles = (\n",
    "        sessions.sort_values(by=['user_id', 'session_start'])\n",
    "        .groupby('user_id')\n",
    "        .agg(\n",
    "            {\n",
    "                'session_start': 'first',\n",
    "                'channel': 'first',\n",
    "                'device': 'first',\n",
    "                'region': 'first',\n",
    "            }\n",
    "        )\n",
    "         # giving the name for the first session as 'first_ts'\n",
    "        .rename(columns={'session_start': 'first_ts'})\n",
    "        .reset_index()  # returning user_id from index\n",
    "    )\n",
    "\n",
    "    # defining the date of first visit for the cohort analysis\n",
    "    # and the first day of month in which the first visit had place\n",
    "    profiles['dt'] = profiles['first_ts'].dt.date\n",
    "    profiles['month'] = profiles['first_ts'].astype('datetime64[M]')\n",
    "\n",
    "    # adding an indicator of paying user\n",
    "    profiles['payer'] = profiles['user_id'].isin(orders['user_id'].unique())\n",
    "\n",
    "\n",
    "    # calculating the number if unique users\n",
    "    # who have the same source and acquisition date\n",
    "    new_users = (\n",
    "        profiles.groupby(['dt', 'channel'])\n",
    "        .agg({'user_id': 'nunique'})\n",
    "         # giving the name for the number of users as 'unique_users'\n",
    "        .rename(columns={'user_id': 'unique_users'})\n",
    "        .reset_index()  # returning dt and channel from indexes\n",
    "    )\n",
    "\n",
    "    # uniting advertising costs and the number of acquired users\n",
    "    # by date and acqusition channel\n",
    "    ad_costs = ad_costs.merge(new_users, on=['dt', 'channel'], how='left')\n",
    "\n",
    "    # dividing the advertisiment costs by the number of acquired users\n",
    "    # saving the calculation results into column acquisition_cost (CAC)\n",
    "    ad_costs['acquisition_cost'] = ad_costs['costs'] / ad_costs['unique_users']\n",
    "\n",
    "    # adding acquisition cost to the profiles\n",
    "    profiles = profiles.merge(\n",
    "        ad_costs[['dt', 'channel', 'acquisition_cost']],\n",
    "        on=['dt', 'channel'],\n",
    "        how='left',\n",
    "    )\n",
    "\n",
    "    # as the users, attracted organically, are connected to the advertisiment costs\n",
    "    # they have in the 'acquisition_cost' column 'NaN' values\n",
    "    # so we can change these values for '0' as the acquisition cost is equal to zero\n",
    "    profiles['acquisition_cost'] = profiles['acquisition_cost'].fillna(0)\n",
    "    \n",
    "    return profiles  # returning profiles with CAC"
   ]
  },
  {
   "cell_type": "markdown",
   "metadata": {},
   "source": [
    "### The function to calculate users retention"
   ]
  },
  {
   "cell_type": "code",
   "execution_count": null,
   "metadata": {},
   "outputs": [],
   "source": [
    "\n",
    "def get_retention(profiles, sessions, observation_date, horizon_days, dimensions = [], ignore_horizon = False):\n",
    "    \n",
    "    # решаем какие столбцы оставим для группировки удержания, столбец признака платящего пользователя остается всегда\n",
    "    dimensions = ['payer'] + dimensions\n",
    "    \n",
    "    # оттсекаем всех пользователей, которые не могли \"дожить\" до нужного горизонта \n",
    "    # (присоединились позже чем observation_date - horizon)\n",
    "    last_suitable_acquisition_date = observation_date\n",
    "    if not ignore_horizon:\n",
    "        last_suitable_acquisition_date = observation_date - timedelta(days = horizon_days - 1)\n",
    "    result_raw = profiles.query('dt <= @last_suitable_acquisition_date')\n",
    "\n",
    "    # forming the raw data massive\n",
    "    result_raw = result_raw.merge(sessions[['user_id', 'session_start']], on = 'user_id', how = 'left')\n",
    "    result_raw['lifetime'] = (result_raw['session_start'] - result_raw['first_ts']).dt.days\n",
    "    \n",
    "    # function to make grouping by desired dimension\n",
    "    def group_by_dimensions(df, dims, horizon_days):     \n",
    "        result = df.pivot_table(index = dims, columns = 'lifetime', values = 'user_id', aggfunc = 'nunique')     # building \"triangle table\" \n",
    "        cohort_sizes = df.groupby(dims).agg({'user_id': 'nunique'}).rename(columns = {'user_id': 'cohort_size'}) # defining the cohort sizes\n",
    "        result = cohort_sizes.merge(result, on = dims, how = 'left').fillna(0)                                   # combining the cohort sizes and triangle table\n",
    "        result = result.div(result['cohort_size'], axis = 0)                                                     # divide every column by the cohort size - to calculate retention rate %\n",
    "        result = result[['cohort_size'] + list(range(horizon_days))]                                             # remain only the data before the analysis horizon and the column with the cohort size\n",
    "        result['cohort_size'] = cohort_sizes                                                                     # redefining the cilumn with the cohorts sizes as in the previous step it became equal to '1'\n",
    "        return result\n",
    "    \n",
    "    # calculating retention \n",
    "    result_grouped = group_by_dimensions(result_raw, dimensions, horizon_days)\n",
    "    \n",
    "    # calculating retention by all dimensions + date\n",
    "    result_in_time = group_by_dimensions(result_raw, dimensions + ['dt'], horizon_days)\n",
    "    \n",
    "    # returning retention table and raw data (so we remain possibility to return to the beginning of analysis in case of any problems)\n",
    "    return result_raw, result_grouped, result_in_time"
   ]
  },
  {
   "cell_type": "markdown",
   "metadata": {},
   "source": [
    "### The function to calculate conversion"
   ]
  },
  {
   "cell_type": "code",
   "execution_count": null,
   "metadata": {},
   "outputs": [],
   "source": [
    "\n",
    "def get_conversion(\n",
    "    profiles,\n",
    "    purchases,\n",
    "    observation_date,\n",
    "    horizon_days,\n",
    "    dimensions=[],\n",
    "    ignore_horizon=False,\n",
    "):\n",
    "\n",
    "    # excluding users outside of the analysis horizon\n",
    "    last_suitable_acquisition_date = observation_date\n",
    "    if not ignore_horizon:\n",
    "        last_suitable_acquisition_date = observation_date - timedelta(\n",
    "            days=horizon_days - 1\n",
    "        )\n",
    "    result_raw = profiles.query('dt <= @last_suitable_acquisition_date')\n",
    "\n",
    "    # defining the date and first purchase time for every single user\n",
    "    first_purchases = (\n",
    "        purchases.sort_values(by=['user_id', 'event_dt'])\n",
    "        .groupby('user_id')\n",
    "        .agg({'event_dt': 'first'})\n",
    "        .reset_index()\n",
    "    )\n",
    "\n",
    "    # adding purchasing data into profiles\n",
    "    result_raw = result_raw.merge(\n",
    "        first_purchases[['user_id', 'event_dt']], on='user_id', how='left'\n",
    "    )\n",
    "\n",
    "    # calculating lifetime value for every single purchase\n",
    "    result_raw['lifetime'] = (\n",
    "        result_raw['event_dt'] - result_raw['first_ts']\n",
    "    ).dt.days\n",
    "\n",
    "    # grouping by cohort, if there is nothing in dimensions\n",
    "    if len(dimensions) == 0:\n",
    "        result_raw['cohort'] = 'All users'\n",
    "        dimensions = dimensions + ['cohort']\n",
    "\n",
    "    # function for grouping table by desired dimensions\n",
    "    def group_by_dimensions(df, dims, horizon_days):\n",
    "        # building \"triangle\" conversion table\n",
    "        result = df.pivot_table(\n",
    "            index=dims, columns='lifetime', values='user_id', aggfunc='nunique'\n",
    "        )\n",
    "        # calculating cumulative amount for every line\n",
    "        result = result.fillna(0).cumsum(axis = 1)\n",
    "        # calculating cohort size\n",
    "        cohort_sizes = (\n",
    "            df.groupby(dims)\n",
    "            .agg({'user_id': 'nunique'})\n",
    "            .rename(columns={'user_id': 'cohort_size'})\n",
    "        )\n",
    "        # adding the cohort size to the conversion table\n",
    "        result = cohort_sizes.merge(result, on=dims, how='left').fillna(0)\n",
    "        # dividing every 'cell' in a line by the cohort size\n",
    "        # and getting the conversion rate\n",
    "        result = result.div(result['cohort_size'], axis=0)\n",
    "        # excluding all lifetimes after the analysis horizon\n",
    "        result = result[['cohort_size'] + list(range(horizon_days))]\n",
    "        # recovering the cohort size\n",
    "        result['cohort_size'] = cohort_sizes\n",
    "        return result\n",
    "\n",
    "    # getting the conversion table\n",
    "    result_grouped = group_by_dimensions(result_raw, dimensions, horizon_days)\n",
    "\n",
    "    # for the dynamic of conversion table drop 'cohort' from dimensions\n",
    "    if 'cohort' in dimensions: \n",
    "        dimensions = []\n",
    "\n",
    "    # getting the conversion dynamics table\n",
    "    result_in_time = group_by_dimensions(\n",
    "        result_raw, dimensions + ['dt'], horizon_days\n",
    "    )\n",
    "\n",
    "    # returning both tables and raw data\n",
    "    return result_raw, result_grouped, result_in_time"
   ]
  },
  {
   "cell_type": "markdown",
   "metadata": {},
   "source": [
    "### The function to calculte LTV and ROI"
   ]
  },
  {
   "cell_type": "code",
   "execution_count": null,
   "metadata": {},
   "outputs": [],
   "source": [
    "\n",
    "def get_ltv(\n",
    "    profiles,\n",
    "    purchases,\n",
    "    observation_date,\n",
    "    horizon_days,\n",
    "    dimensions=[],\n",
    "    ignore_horizon=False,\n",
    "):\n",
    "\n",
    "    # excluding users outside of the analysis horizon\n",
    "    last_suitable_acquisition_date = observation_date\n",
    "    if not ignore_horizon:\n",
    "        last_suitable_acquisition_date = observation_date - timedelta(\n",
    "            days=horizon_days - 1\n",
    "        )\n",
    "    result_raw = profiles.query('dt <= @last_suitable_acquisition_date')\n",
    "    # add data about ourchases to profiles\n",
    "    result_raw = result_raw.merge(\n",
    "        purchases[['user_id', 'event_dt', 'revenue']], on='user_id', how='left'\n",
    "    )\n",
    "    # calculating users lifetime for every purchase\n",
    "    result_raw['lifetime'] = (\n",
    "        result_raw['event_dt'] - result_raw['first_ts']\n",
    "    ).dt.days\n",
    "    # group by cohort, if there is nothing in dimensions\n",
    "    if len(dimensions) == 0:\n",
    "        result_raw['cohort'] = 'All users'\n",
    "        dimensions = dimensions + ['cohort']\n",
    "\n",
    "    # function for grouping table by desired dimensions\n",
    "    def group_by_dimensions(df, dims, horizon_days):\n",
    "        # building \"triangle\" revenue table\n",
    "        result = df.pivot_table(\n",
    "            index=dims, columns='lifetime', values='revenue', aggfunc='sum'\n",
    "        )\n",
    "        # calculating cumulative revenue amount\n",
    "        result = result.fillna(0).cumsum(axis=1)\n",
    "        # calculating cohort size\n",
    "        cohort_sizes = (\n",
    "            df.groupby(dims)\n",
    "            .agg({'user_id': 'nunique'})\n",
    "            .rename(columns={'user_id': 'cohort_size'})\n",
    "        )\n",
    "        # combine the cohort sizes and the revenue table\n",
    "        result = cohort_sizes.merge(result, on=dims, how='left').fillna(0)\n",
    "        # calculating LTV: divide each \"cell\" in a row by the size of the cohort\n",
    "        result = result.div(result['cohort_size'], axis=0)\n",
    "        # exclude all liftimes exceeding the analysis horizon\n",
    "        result = result[['cohort_size'] + list(range(horizon_days))]\n",
    "        # redefining cohort size\n",
    "        result['cohort_size'] = cohort_sizes\n",
    "\n",
    "        # saving user data and CAC values to the dataframe,\n",
    "        # adding parameters from dimensions\n",
    "        cac = df[['user_id', 'acquisition_cost'] + dims].drop_duplicates()\n",
    "\n",
    "        # calculating average CAC by parametres from dimensions\n",
    "        cac = (\n",
    "            cac.groupby(dims)\n",
    "            .agg({'acquisition_cost': 'mean'})\n",
    "            .rename(columns={'acquisition_cost': 'cac'})\n",
    "        )\n",
    "\n",
    "        # calculate ROI: ratio of LTV to CAC\n",
    "        roi = result.div(cac['cac'], axis=0)\n",
    "\n",
    "        # dropping lines with infinite ROI\n",
    "        roi = roi[~roi['cohort_size'].isin([np.inf])]\n",
    "\n",
    "        # redefining cohort size in ROI table\n",
    "        roi['cohort_size'] = cohort_sizes\n",
    "\n",
    "        # adding CAC to the ROI table\n",
    "        roi['cac'] = cac['cac']\n",
    "\n",
    "        # in the final table we leave the cohort sizes, CAC\n",
    "        # and ROI in lifetimes not exceeding the analysis horizon\n",
    "        roi = roi[['cohort_size', 'cac'] + list(range(horizon_days))]\n",
    "\n",
    "        # returning tables for LTV and ROI\n",
    "        return result, roi\n",
    "\n",
    "    # getting the tables for LTV and ROI\n",
    "    result_grouped, roi_grouped = group_by_dimensions(\n",
    "        result_raw, dimensions, horizon_days\n",
    "    )\n",
    "\n",
    "    # for tables with historical data excluding 'cohort' from dimensions\n",
    "    if 'cohort' in dimensions:\n",
    "        dimensions = []\n",
    "\n",
    "    # getting the LTV and ROI dynamic tables\n",
    "    result_in_time, roi_in_time = group_by_dimensions(\n",
    "        result_raw, dimensions + ['dt'], horizon_days\n",
    "    )\n",
    "\n",
    "    return (\n",
    "        result_raw,  # raw data\n",
    "        result_grouped,  # LTV table\n",
    "        result_in_time,  # LTV dynamic table\n",
    "        roi_grouped,  # ROI table\n",
    "        roi_in_time,  # ROI dynamic table\n",
    "    )"
   ]
  },
  {
   "cell_type": "markdown",
   "metadata": {},
   "source": [
    "### Function for smoothing the frame"
   ]
  },
  {
   "cell_type": "code",
   "execution_count": null,
   "metadata": {},
   "outputs": [],
   "source": [
    "\n",
    "def filter_data(df, window):\n",
    "    # application of an mooving average for every column\n",
    "    for column in df.columns.values:\n",
    "        df[column] = df[column].rolling(window).mean() \n",
    "    return df "
   ]
  },
  {
   "cell_type": "markdown",
   "metadata": {},
   "source": [
    "### Function for visualizing retention"
   ]
  },
  {
   "cell_type": "code",
   "execution_count": null,
   "metadata": {},
   "outputs": [],
   "source": [
    "# function for visualizing retention\n",
    "\n",
    "def plot_retention(retention, retention_history, horizon, window=14):\n",
    "\n",
    "    # setting the grid size for graphs\n",
    "    plt.figure(figsize=(15, 10))\n",
    "\n",
    "    # excluding cohort sizes and retention of the first day\n",
    "    retention = retention.drop(columns=['cohort_size', 0])\n",
    "    # leaving only the necessary lifetime in the dynamics table\n",
    "    retention_history = retention_history.drop(columns=['cohort_size'])[\n",
    "        [horizon - 1]\n",
    "    ]\n",
    "\n",
    "    # if only payer is in the retention table indexes,\n",
    "    # adding the second attribute — cohort\n",
    "    if retention.index.nlevels == 1:\n",
    "        retention['cohort'] = 'All users'\n",
    "        retention = retention.reset_index().set_index(['cohort', 'payer'])\n",
    "\n",
    "    # in the graph table — two columns and two rows, four cells\n",
    "    # in the first one, we build retention curves for paying users\n",
    "    ax1 = plt.subplot(2, 2, 1)\n",
    "    retention.query('payer == True').droplevel('payer').T.plot(\n",
    "        grid=True, ax=ax1\n",
    "    )\n",
    "    plt.legend()\n",
    "    plt.xlabel('Lifetime')\n",
    "    plt.title('Paying user retention')\n",
    "\n",
    "    # construct retention curves for non-paying in the second cell\n",
    "    # vertical axis — from the graph from the first cell\n",
    "    ax2 = plt.subplot(2, 2, 2, sharey=ax1)\n",
    "    retention.query('payer == False').droplevel('payer').T.plot(\n",
    "        grid=True, ax=ax2\n",
    "    )\n",
    "    plt.legend()\n",
    "    plt.xlabel('Lifetime')\n",
    "    plt.title('Non-paying user retention')\n",
    "\n",
    "    # the dynamics of paying retention is in the third cell\n",
    "    ax3 = plt.subplot(2, 2, 3)\n",
    "    # getting the column names for the pivot table\n",
    "    columns = [\n",
    "        name\n",
    "        for name in retention_history.index.names\n",
    "        if name not in ['dt', 'payer']\n",
    "    ]\n",
    "    # filter data and build visualization\n",
    "    filtered_data = retention_history.query('payer == True').pivot_table(\n",
    "        index='dt', columns=columns, values=horizon - 1, aggfunc='mean'\n",
    "    )\n",
    "    filter_data(filtered_data, window).plot(grid=True, ax=ax3)\n",
    "    plt.xlabel('Acquisition date')\n",
    "    plt.title(\n",
    "        'Paying user retention dynamics на {} day'.format(\n",
    "            horizon\n",
    "        )\n",
    "    )\n",
    "\n",
    "    # the dynamics of non-paying retention is in the fourth cell\n",
    "    ax4 = plt.subplot(2, 2, 4, sharey=ax3)\n",
    "    # filter data and build visualization\n",
    "    filtered_data = retention_history.query('payer == False').pivot_table(\n",
    "        index='dt', columns=columns, values=horizon - 1, aggfunc='mean'\n",
    "    )\n",
    "    filter_data(filtered_data, window).plot(grid=True, ax=ax4)\n",
    "    plt.xlabel('Acquisition date')\n",
    "    plt.title(\n",
    "        'User retention dynamics на {} day'.format(\n",
    "            horizon\n",
    "        )\n",
    "    )\n",
    "    \n",
    "    plt.tight_layout()\n",
    "    plt.show() \n"
   ]
  },
  {
   "cell_type": "markdown",
   "metadata": {},
   "source": [
    "### Conversion visualization function"
   ]
  },
  {
   "cell_type": "code",
   "execution_count": null,
   "metadata": {},
   "outputs": [],
   "source": [
    "# conversion visualization function\n",
    "\n",
    "def plot_conversion(conversion, conversion_history, horizon, window=14):\n",
    "\n",
    "    # setting the grid size for charts\n",
    "    plt.figure(figsize=(15, 5))\n",
    "\n",
    "    # excluding cohort size\n",
    "    conversion = conversion.drop(columns=['cohort_size'])\n",
    "    # we leave only the necessary lifetime in the dynamics table\n",
    "    conversion_history = conversion_history.drop(columns=['cohort_size'])[\n",
    "        [horizon - 1]\n",
    "    ]\n",
    "\n",
    "    # the first chart - conversion lines\n",
    "    ax1 = plt.subplot(1, 2, 1)\n",
    "    conversion.T.plot(grid=True, ax=ax1)\n",
    "    plt.legend()\n",
    "    plt.xlabel('Lifetime')\n",
    "    plt.title('User conversion')\n",
    "\n",
    "    # the first chart - conversion dynamics\n",
    "    ax2 = plt.subplot(1, 2, 2, sharey=ax1)\n",
    "    columns = [\n",
    "        # the columns of the pivot table will be all the columns of the index, except for the date\n",
    "        name for name in conversion_history.index.names if name not in ['dt']\n",
    "    ]\n",
    "    filtered_data = conversion_history.pivot_table(\n",
    "        index='dt', columns=columns, values=horizon - 1, aggfunc='mean'\n",
    "    )\n",
    "    filter_data(filtered_data, window).plot(grid=True, ax=ax2)\n",
    "    plt.xlabel('Acquisition date')\n",
    "    plt.title('User conversion dynamics на {} day'.format(horizon))\n",
    "\n",
    "    plt.tight_layout()\n",
    "    plt.show()"
   ]
  },
  {
   "cell_type": "markdown",
   "metadata": {},
   "source": [
    "### The function for LTV and ROI visualization"
   ]
  },
  {
   "cell_type": "code",
   "execution_count": null,
   "metadata": {},
   "outputs": [],
   "source": [
    "# function for LTV and ROI visualization\n",
    "\n",
    "def plot_ltv_roi(ltv, ltv_history, roi, roi_history, horizon, window=14):\n",
    "\n",
    "    plt.figure(figsize=(20, 10))\n",
    "\n",
    "    # excluding from ltv table cohort size\n",
    "    ltv = ltv.drop(columns=['cohort_size'])\n",
    "    # saving in ltv dynamic table only relevant lifetime\n",
    "    ltv_history = ltv_history.drop(columns=['cohort_size'])[[horizon - 1]]\n",
    "\n",
    "    # save acqusition cost to the separate dataframe\n",
    "    cac_history = roi_history[['cac']]\n",
    "\n",
    "    # excluding from roi table cohort sizes and cac\n",
    "    roi = roi.drop(columns=['cohort_size', 'cac'])\n",
    "    # saving in roi dynamic table only relevant lifetime\n",
    "    roi_history = roi_history.drop(columns=['cohort_size', 'cac'])[\n",
    "        [horizon - 1]\n",
    "    ]\n",
    "\n",
    "    # LTV curves\n",
    "    ax1 = plt.subplot(2, 3, 1)\n",
    "    ltv.T.plot(grid=True, ax=ax1)\n",
    "    plt.legend()\n",
    "    plt.xlabel('Lifetime')\n",
    "    plt.title('LTV')\n",
    "\n",
    "    # LTV dynamics\n",
    "    ax2 = plt.subplot(2, 3, 2, sharey=ax1)\n",
    "    # the columns of the pivot table will be all the columns of the index, except for the date\n",
    "    columns = [name for name in ltv_history.index.names if name not in ['dt']]\n",
    "    filtered_data = ltv_history.pivot_table(\n",
    "        index='dt', columns=columns, values=horizon - 1, aggfunc='mean'\n",
    "    )\n",
    "    filter_data(filtered_data, window).plot(grid=True, ax=ax2)\n",
    "    plt.xlabel('Acquisition date')\n",
    "    plt.title('Динамика LTV пользователей на {}-й день'.format(horizon))\n",
    "\n",
    "    # CAC dynamics\n",
    "    ax3 = plt.subplot(2, 3, 3, sharey=ax1)\n",
    "    # the columns of the pivot table will be all the columns of the index, except for the date\n",
    "    columns = [name for name in cac_history.index.names if name not in ['dt']]\n",
    "    filtered_data = cac_history.pivot_table(\n",
    "        index='dt', columns=columns, values='cac', aggfunc='mean'\n",
    "    )\n",
    "    filter_data(filtered_data, window).plot(grid=True, ax=ax3)\n",
    "    plt.xlabel('Acquisition date')\n",
    "    plt.title('Acquistion cost dynamics')\n",
    "\n",
    "    # ROI curves\n",
    "    ax4 = plt.subplot(2, 3, 4)\n",
    "    roi.T.plot(grid=True, ax=ax4)\n",
    "    plt.axhline(y=1, color='red', linestyle='--', label='Breakeven level')\n",
    "    plt.legend()\n",
    "    plt.xlabel('Lifetime')\n",
    "    plt.title('ROI')\n",
    "\n",
    "    # ROI dynamics\n",
    "    ax5 = plt.subplot(2, 3, 5, sharey=ax4)\n",
    "    # the columns of the pivot table will be all the columns of the index, except for the date\n",
    "    columns = [name for name in roi_history.index.names if name not in ['dt']]\n",
    "    filtered_data = roi_history.pivot_table(\n",
    "        index='dt', columns=columns, values=horizon - 1, aggfunc='mean'\n",
    "    )\n",
    "    filter_data(filtered_data, window).plot(grid=True, ax=ax5)\n",
    "    plt.axhline(y=1, color='red', linestyle='--', label='Уровень окупаемости')\n",
    "    plt.xlabel('Acquisition date')\n",
    "    plt.title('Users ROI dynamic for the {} day'.format(horizon))\n",
    "\n",
    "    plt.tight_layout()\n",
    "    plt.show()"
   ]
  },
  {
   "cell_type": "markdown",
   "metadata": {},
   "source": [
    "## EDA"
   ]
  },
  {
   "cell_type": "markdown",
   "metadata": {},
   "source": [
    "Let's define the last and the first date of users acquisition."
   ]
  },
  {
   "cell_type": "code",
   "execution_count": null,
   "metadata": {},
   "outputs": [],
   "source": [
    "print(visits['session_start'].min())"
   ]
  },
  {
   "cell_type": "code",
   "execution_count": null,
   "metadata": {},
   "outputs": [],
   "source": [
    "print(visits['session_start'].max())"
   ]
  },
  {
   "cell_type": "markdown",
   "metadata": {},
   "source": [
    "The analysis is carried out as of November 1, 2019, the data period corresponds to expectations - in the terms of the project it was said that the analysis is carried out for users attracted from May to October 27, 2019."
   ]
  },
  {
   "cell_type": "markdown",
   "metadata": {},
   "source": [
    "Let's build user profiles, immediately excluding users who came organically and are not subject of marketing costs."
   ]
  },
  {
   "cell_type": "code",
   "execution_count": null,
   "metadata": {},
   "outputs": [],
   "source": [
    "profiles = get_profiles(visits, orders, costs)\n",
    "\n",
    "# excluding organic traffic users\n",
    "profiles = profiles.query('channel != \"organic\"')\n",
    "profiles['dt'] = pd.to_datetime(profiles['dt'])\n",
    "\n",
    "profiles"
   ]
  },
  {
   "cell_type": "markdown",
   "metadata": {},
   "source": [
    "Let's define from which countries users are coming and what is the conversion to paying user in every specific country."
   ]
  },
  {
   "cell_type": "code",
   "execution_count": null,
   "metadata": {},
   "outputs": [],
   "source": [
    "#function for calculating the shares and the number of paying customers by dimension\n",
    "\n",
    "def payers_count (dimension):\n",
    "    print(\n",
    "    profiles.groupby(dimension)\n",
    "    .agg({'payer':'sum'})\n",
    "    .sort_values(by='payer', ascending=False)\n",
    "    )\n",
    "    with pd.option_context('display.float_format', '{:.2%}'.format):\n",
    "        display(\n",
    "        profiles.groupby(dimension)\n",
    "        .agg({'payer':'mean'})\n",
    "        .sort_values(by='payer', ascending=False)\n",
    "        )\n",
    "\n",
    "dimension = ['region']\n",
    "payers_count(dimension=dimension)"
   ]
  },
  {
   "cell_type": "markdown",
   "metadata": {},
   "source": [
    "The highest conversion rate is for users which came from the US."
   ]
  },
  {
   "cell_type": "code",
   "execution_count": null,
   "metadata": {},
   "outputs": [],
   "source": [
    "dimension = ['device']\n",
    "payers_count(dimension=dimension)"
   ]
  },
  {
   "cell_type": "markdown",
   "metadata": {},
   "source": [
    "The highest conversion rate is for users with IPhone device, the lowest conversion is observed on PC devices."
   ]
  },
  {
   "cell_type": "code",
   "execution_count": null,
   "metadata": {},
   "outputs": [],
   "source": [
    "dimension = ['channel']\n",
    "payers_count(dimension=dimension)"
   ]
  },
  {
   "cell_type": "markdown",
   "metadata": {},
   "source": [
    "### Conclusion"
   ]
  },
  {
   "cell_type": "markdown",
   "metadata": {},
   "source": [
    "1. The countries from which visitors come: USA, Great Britain, France and Germany. At the same time, most of the paying users come from the USA.\n",
    "\n",
    "2. Users use the following devices: Mac, iPhone, Android, PC. Mac and iPhone users have the largest conversion.\n",
    "\n",
    "3. Top 3 channels for acqusition of paying users: FaceBoom, AdNonSense, lambdaMediaAds - the conversion rate on each of these channels is more than 10%. At the same time, most new visitors come through the channels FaceBoom, TipTop, organic."
   ]
  },
  {
   "cell_type": "markdown",
   "metadata": {},
   "source": [
    "## Marketing"
   ]
  },
  {
   "cell_type": "code",
   "execution_count": null,
   "metadata": {},
   "outputs": [],
   "source": [
    "print('{:.0f}'.format(costs['costs'].sum()))"
   ]
  },
  {
   "cell_type": "markdown",
   "metadata": {},
   "source": [
    "The total spending on the advertising is $ 105,497. Let's calculate average CAC:"
   ]
  },
  {
   "cell_type": "code",
   "execution_count": null,
   "metadata": {},
   "outputs": [],
   "source": [
    "print('{:.2f}'.format(profiles['acquisition_cost'].mean()))"
   ]
  },
  {
   "cell_type": "code",
   "execution_count": null,
   "metadata": {},
   "outputs": [],
   "source": [
    "print('{:.2f}'.format(profiles['acquisition_cost'].median()))"
   ]
  },
  {
   "cell_type": "markdown",
   "metadata": {},
   "source": [
    "Average CAC for the observing period is $ 1.13, while the median one is $ 1.08."
   ]
  },
  {
   "cell_type": "code",
   "execution_count": null,
   "metadata": {},
   "outputs": [],
   "source": [
    "with pd.option_context('display.float_format', '{:.0f}'.format):\n",
    "    display(costs.groupby('channel').agg(total_costs=('costs','sum')).sort_values(by='total_costs', ascending=False))"
   ]
  },
  {
   "cell_type": "markdown",
   "metadata": {},
   "source": [
    "Most of the money was spent on TipTop and FaceBoom. Taking into account the average cost of attraction, these are also the most expensive sources - the average cost of attracting customers through these channels is more than the median one:"
   ]
  },
  {
   "cell_type": "code",
   "execution_count": null,
   "metadata": {},
   "outputs": [],
   "source": [
    "with pd.option_context('display.float_format', '{:.2f}'.format):\n",
    "    display(profiles.groupby('channel').agg(average_CAC =('acquisition_cost','mean')).sort_values(by='average_CAC', ascending=False))"
   ]
  },
  {
   "cell_type": "code",
   "execution_count": null,
   "metadata": {},
   "outputs": [],
   "source": [
    "# creating CAC visualization for the five most expensive channels\n",
    "top3channels = ['TipTop','FaceBoom', 'AdNonSense', 'lambdaMediaAds', 'WahooNetBanner']\n",
    "profiles_top3channels = profiles.query('channel in @top3channels')\n",
    "\n",
    "profiles_top3channels.pivot_table(\n",
    "    index='dt', columns='channel', values='acquisition_cost', aggfunc='mean'\n",
    ").plot(grid=True, figsize=(10, 5))\n",
    "plt.ylabel('CAC, $')\n",
    "plt.xlabel('Acquisition date')\n",
    "plt.title('CAC dynamics by channels')\n",
    "plt.show()"
   ]
  },
  {
   "cell_type": "markdown",
   "metadata": {},
   "source": [
    "Рекламный бюджет по пользователям в TipTop увеличивался каждый месяц вплоть до сентября - видимо, у компании была особая стратегия для этой платформы."
   ]
  },
  {
   "cell_type": "code",
   "execution_count": null,
   "metadata": {},
   "outputs": [],
   "source": [
    "costs['costs_month'] = costs['dt'].astype('datetime64[M]').dt.date\n",
    "costs_by_month = costs.groupby('costs_month')['costs'].sum().reset_index()\n",
    "costs_by_month"
   ]
  },
  {
   "cell_type": "code",
   "execution_count": null,
   "metadata": {},
   "outputs": [],
   "source": [
    "plt.figure(figsize = (10, 5))\n",
    "ax = sns.barplot(x=\"costs_month\", y=\"costs\", color='blue', data=costs_by_month)\n",
    "plt.title('Расходы помесячно')\n",
    "ax.set_xlabel('Months')\n",
    "ax.set_ylabel('Costs')\n",
    "plt.show()"
   ]
  },
  {
   "cell_type": "markdown",
   "metadata": {},
   "source": [
    "The maximum advertisement spent occured in September, October and August."
   ]
  },
  {
   "cell_type": "markdown",
   "metadata": {},
   "source": [
    "### Conclusion"
   ]
  },
  {
   "cell_type": "markdown",
   "metadata": {},
   "source": [
    "The acquisition cost for the TipTop channel has been increasing gradually for the five months. The costs for this channel take more than a half of all advertising budget."
   ]
  },
  {
   "cell_type": "markdown",
   "metadata": {},
   "source": [
    "## Analysis of the total return on advertisement costs for the users acquisition"
   ]
  },
  {
   "cell_type": "markdown",
   "metadata": {},
   "source": [
    "### Analysis of the total return on advertisement costs"
   ]
  },
  {
   "cell_type": "markdown",
   "metadata": {},
   "source": [
    "The defining of the moment and horizon of data analysis is needed. According to the training case, the analysis is performing on the November 1st, 2019. We will set a two-week analysis horizon, because it is considered that payback should come no later than two weeks after the user acquisition."
   ]
  },
  {
   "cell_type": "code",
   "execution_count": null,
   "metadata": {},
   "outputs": [],
   "source": [
    "observation_date = datetime(2019, 10, 31).date()  # moment of analysis\n",
    "horizon_days = 14  # analysis horizon"
   ]
  },
  {
   "cell_type": "markdown",
   "metadata": {},
   "source": [
    "For the beginning we will estimate the general return on advertisement costs. By using the functions get_ltv() and plot_ltv_roi(), we will calculate and visualize LTV and ROI."
   ]
  },
  {
   "cell_type": "code",
   "execution_count": null,
   "metadata": {},
   "outputs": [],
   "source": [
    "# calculating LTV and ROI\n",
    "ltv_raw, ltv_grouped, ltv_history, roi_grouped, roi_history = get_ltv(\n",
    "    profiles, orders, observation_date, horizon_days\n",
    ")\n",
    "\n",
    "# building visualization\n",
    "plot_ltv_roi(ltv_grouped, ltv_history, roi_grouped, roi_history, horizon_days)"
   ]
  },
  {
   "cell_type": "markdown",
   "metadata": {},
   "source": [
    "1. Advertising does not pay off. The ROI at the end of two weeks is slightly above 80%.\n",
    "2. CAC increases all the time incrementally from month to month. Most likely, this is due to a consistent increase in the advertising budget for TipTop - out of the top 5 largest channels in terms of total spending, only spending on it has a similar dynamics with the general schedule.\n",
    "3. LTV is affected by the seasonal factor, but this indicator is quite stable. So, it's not about the negative dynamic of quality of users.\n",
    "\n",
    "To understand the reasons, we will go through all the available characteristics of users — the country, the source and the device of the first visit."
   ]
  },
  {
   "cell_type": "markdown",
   "metadata": {},
   "source": [
    "### Analysis of the return on advertisement costs by countries"
   ]
  },
  {
   "cell_type": "code",
   "execution_count": null,
   "metadata": {
    "scrolled": true
   },
   "outputs": [],
   "source": [
    "dimensions = ['region']\n",
    "\n",
    "ltv_raw, ltv_grouped, ltv_history, roi_grouped, roi_history = get_ltv(\n",
    "    profiles, orders, observation_date, horizon_days, dimensions=dimensions\n",
    ")\n",
    "\n",
    "plot_ltv_roi(\n",
    "    ltv_grouped, ltv_history, roi_grouped, roi_history, horizon_days, window=14\n",
    ") "
   ]
  },
  {
   "cell_type": "markdown",
   "metadata": {},
   "source": [
    "The breakdown by countries shows a clear problem with users from the US:\n",
    "\n",
    "1. Of all countries, advertising does not pay off only in the US - at the end of two weeks, the ROI for this country is about 70%, while other countries are close to 150%.\n",
    "2. The cost of attraction is stable for all countries except the USA, where this indicator is constantly growing and reaches a constant level only from mid-September 2019.\n",
    "3. Users from the USA have the highest LTV. Then go Great Britain and Germany. Users from France bring the least revenue to the application."
   ]
  },
  {
   "cell_type": "code",
   "execution_count": null,
   "metadata": {},
   "outputs": [],
   "source": [
    "conversion_raw, conversion, conversion_history = get_conversion(\n",
    "    profiles, orders, observation_date, horizon_days, dimensions=['region']\n",
    ")\n",
    "\n",
    "# creating heatmap by conversion table\n",
    "plt.figure(figsize=(15, 5))\n",
    "sns.heatmap(conversion.drop(columns=['cohort_size']), linewidths=.3, annot=True, fmt='.2%')\n",
    "plt.title('Conversion heatmap by contries')\n",
    "plt.show() "
   ]
  },
  {
   "cell_type": "code",
   "execution_count": null,
   "metadata": {},
   "outputs": [],
   "source": [
    "# creating conversion curve\n",
    "\n",
    "report = conversion.drop(columns=['cohort_size'])\n",
    "report.T.plot(grid=True, xticks=list(report.columns.values), figsize=(10, 5))\n",
    "plt.title('Conversion curve')\n",
    "plt.show()"
   ]
  },
  {
   "cell_type": "markdown",
   "metadata": {},
   "source": [
    "Throughout the entire horizon of the analysis, the conversion of users from the United States is about 2 times higher than the conversion of those from other countries, although this is the only region where advertising does not pay off."
   ]
  },
  {
   "cell_type": "code",
   "execution_count": null,
   "metadata": {},
   "outputs": [],
   "source": [
    "# buiding retention by countries\n",
    "\n",
    "retention_raw, retention_grouped, retention_history = get_retention(\n",
    "    profiles, visits, observation_date, horizon_days, dimensions=dimensions\n",
    ")\n",
    "\n",
    "plot_retention(retention_grouped, retention_history, horizon_days)"
   ]
  },
  {
   "cell_type": "markdown",
   "metadata": {},
   "source": [
    "Users from the USA are consistently poorly retained. Retention of users from the USA is about 10% lower than for other countries. "
   ]
  },
  {
   "cell_type": "markdown",
   "metadata": {},
   "source": [
    "### Analysis of the return on advertisement costs by countries by devices"
   ]
  },
  {
   "cell_type": "code",
   "execution_count": null,
   "metadata": {},
   "outputs": [],
   "source": [
    "# return by device dimension\n",
    "\n",
    "dimensions = ['device']\n",
    "\n",
    "ltv_raw, ltv_grouped, ltv_history, roi_grouped, roi_history = get_ltv(\n",
    "    profiles, orders, observation_date, horizon_days, dimensions=dimensions\n",
    ")\n",
    "\n",
    "plot_ltv_roi(\n",
    "    ltv_grouped, ltv_history, roi_grouped, roi_history, horizon_days, window=14\n",
    ") "
   ]
  },
  {
   "cell_type": "markdown",
   "metadata": {},
   "source": [
    "PC users are steadily paying off, Mac and Iphone - definitely not since July 2019. In May 2019, advertising budgets for users of all devices were approximately at the same level, but since June, the cost of attracting Mac and Iphone users has been growing equally. Users of Android mobile devices are also trending with them, and the budget for PC users has increased slightly. "
   ]
  },
  {
   "cell_type": "code",
   "execution_count": null,
   "metadata": {},
   "outputs": [],
   "source": [
    "# retention by device dimension\n",
    "\n",
    "retention_raw, retention_grouped, retention_history = get_retention(\n",
    "    profiles, visits, observation_date, horizon_days, dimensions=dimensions\n",
    ")\n",
    "\n",
    "plot_retention(retention_grouped, retention_history, horizon_days)"
   ]
  },
  {
   "cell_type": "markdown",
   "metadata": {},
   "source": [
    "The retention dynamics for users of all devices is approximately the same, for a PC it is even higher than other devices. It's probably all about conversion. Let's take a closer look at the retention of users through channels using a heat map."
   ]
  },
  {
   "cell_type": "code",
   "execution_count": null,
   "metadata": {},
   "outputs": [],
   "source": [
    "conversion_raw, conversion, conversion_history = get_conversion(\n",
    "    profiles, orders, observation_date, horizon_days, dimensions=['device']\n",
    ")\n",
    "\n",
    "# creating heatmap by a conversion table\n",
    "plt.figure(figsize=(15, 5))\n",
    "sns.heatmap(conversion.drop(columns=['cohort_size']), linewidths=.3, annot=True, fmt='.2%')\n",
    "plt.title('Heatmap in breakdown by devices')\n",
    "plt.show() "
   ]
  },
  {
   "cell_type": "markdown",
   "metadata": {},
   "source": [
    "The highest conversion rate is among Mac device users, the lowest is among PC users. Perhaps the current advertising companies are not optimized for this type of device."
   ]
  },
  {
   "cell_type": "code",
   "execution_count": null,
   "metadata": {},
   "outputs": [],
   "source": [
    "# conversion rate by devices\n",
    "\n",
    "conversion_raw, conversion_grouped, conversion_history = get_conversion(\n",
    "    profiles, orders, observation_date, horizon_days, dimensions=dimensions\n",
    ")\n",
    "\n",
    "plot_conversion(conversion_grouped, conversion_history, horizon_days)"
   ]
  },
  {
   "cell_type": "markdown",
   "metadata": {},
   "source": [
    "all users are converted approximately the same in dynamics, but the conversion rate for PC users is lower. The decline in the conversion rate of PC users attracted in the second half of July 2019 is particularly noticeable."
   ]
  },
  {
   "cell_type": "markdown",
   "metadata": {},
   "source": [
    "### Analysi of the return on advertising expences by channels"
   ]
  },
  {
   "cell_type": "markdown",
   "metadata": {},
   "source": [
    "Let's check the sources of acquisition (channels). It is possible there is an unsuccessful advertising campaign in one channel."
   ]
  },
  {
   "cell_type": "code",
   "execution_count": null,
   "metadata": {},
   "outputs": [],
   "source": [
    "# calculating LTV and ROI\n",
    "\n",
    "dimensions=['channel']\n",
    "\n",
    "ltv_raw, ltv, ltv_history, roi, roi_history = get_ltv(\n",
    "    profiles, orders, observation_date, horizon_days, dimensions\n",
    ")\n",
    "\n",
    "display(roi)  # ROI table\n",
    "\n",
    "# LTV table\n",
    "display(ltv)\n",
    "\n",
    "# LTV curves\n",
    "report = ltv.drop(columns=['cohort_size'])\n",
    "report.T.plot(grid=True, figsize=(10, 5), xticks=list(report.columns.values))\n",
    "plt.title('LTV by sources')\n",
    "plt.ylabel('LTV, $')\n",
    "plt.xlabel('Lifetime')\n",
    "plt.show()"
   ]
  },
  {
   "cell_type": "markdown",
   "metadata": {},
   "source": [
    "Users came from TipTop and lambdaMediaAds bring the major part of revenue."
   ]
  },
  {
   "cell_type": "code",
   "execution_count": null,
   "metadata": {
    "scrolled": true
   },
   "outputs": [],
   "source": [
    "roi_history"
   ]
  },
  {
   "cell_type": "code",
   "execution_count": null,
   "metadata": {},
   "outputs": [],
   "source": [
    "# building the visualization of CAC changing history\n",
    "\n",
    "roi_history.pivot_table(\n",
    "    index='dt', columns='channel', values='cac', aggfunc='mean'\n",
    ").plot(grid=True, figsize=(10, 5))\n",
    "\n",
    "plt.ylabel('CAC, $')\n",
    "plt.xlabel('Acquisition date')\n",
    "plt.title('САС dynamics by channels')\n",
    "plt.show()"
   ]
  },
  {
   "cell_type": "code",
   "execution_count": null,
   "metadata": {},
   "outputs": [],
   "source": [
    "# conversion by advert. channels\n",
    "\n",
    "conversion_raw, conversion_grouped, conversion_history = get_conversion(\n",
    "    profiles, orders, observation_date, horizon_days, dimensions=dimensions\n",
    ")\n",
    "\n",
    "plot_conversion(conversion_grouped, conversion_history, horizon_days)"
   ]
  },
  {
   "cell_type": "markdown",
   "metadata": {},
   "source": [
    "It seems that some experiments have been carried out with advertising companies on the 'lambda Media Ads' channel - the conversion of users on the 14th day is constantly changing throughout the year."
   ]
  },
  {
   "cell_type": "code",
   "execution_count": null,
   "metadata": {},
   "outputs": [],
   "source": [
    "conversion_raw, conversion, conversion_history = get_conversion(\n",
    "    profiles, orders, observation_date, horizon_days, dimensions\n",
    ")\n",
    "\n",
    "# creating heatmap according to conversion table\n",
    "plt.figure(figsize=(15, 5))\n",
    "sns.heatmap(conversion.drop(columns=['cohort_size']), linewidths=.3, annot=True, fmt='.2%')\n",
    "plt.title('Conversion heatmep by channels')\n",
    "plt.show() "
   ]
  },
  {
   "cell_type": "markdown",
   "metadata": {},
   "source": [
    "We can single out the most inefficient channels in terms of user conversion: OppleCreativeMedia, MediaTornade, LeapBob, YRabbit. The conversion rate for the TipTop channel, which is the most expensive in terms of the cost of attracting a user, is lower than for the Ad Non Sense and FaceBoom, lambdaMediaAd channels, where the user's advertising budget is approximately the same."
   ]
  },
  {
   "cell_type": "code",
   "execution_count": null,
   "metadata": {},
   "outputs": [],
   "source": [
    "# visualizing of retention by advertising channels\n",
    "\n",
    "retention_raw, retention_grouped, retention_history = get_retention(\n",
    "    profiles, visits, observation_date, horizon_days, dimensions\n",
    ")\n",
    "\n",
    "plot_retention(retention_grouped, retention_history, 14) "
   ]
  },
  {
   "cell_type": "markdown",
   "metadata": {},
   "source": [
    "Users from AdNonSense and FaceBoom show worse retention than others. "
   ]
  },
  {
   "cell_type": "code",
   "execution_count": null,
   "metadata": {},
   "outputs": [],
   "source": [
    "# building heatmap for retention by channels\n",
    "\n",
    "plt.figure(figsize=(15, 6))\n",
    "sns.heatmap(retention_grouped.drop(columns=['cohort_size', 0]), linewidths=.015, annot=True, fmt='.2%')\n",
    "plt.title('Retention heatmap by channels')\n",
    "plt.show()"
   ]
  },
  {
   "cell_type": "markdown",
   "metadata": {},
   "source": [
    "For all paying users, the retention on the first day is about 50% and above, except for users who came through AdNonSense and FaceBoom. For these channels the retention on the first day does not reach even 30%."
   ]
  },
  {
   "cell_type": "markdown",
   "metadata": {},
   "source": [
    "### Conclusion\n",
    "\n",
    "The most paying users come from the USA, however, this is the only region where advertising does not pay off due to poor user retention. Perhaps the quality of advertising companies used in these markets suffers. Let's see which advertising channels users from the USA come from:"
   ]
  },
  {
   "cell_type": "code",
   "execution_count": null,
   "metadata": {},
   "outputs": [],
   "source": [
    "profiles_us = profiles.query('region == \"United States\"')\n",
    "\n",
    "with pd.option_context('display.float_format', '{:.2}'.format):\n",
    "    display(\n",
    "    profiles_us.groupby('channel')\n",
    "    .agg({'payer':'count'})\n",
    "    .sort_values(by='payer', ascending=False)\n",
    ")"
   ]
  },
  {
   "cell_type": "markdown",
   "metadata": {},
   "source": [
    "It all fits together: the bulk of users come through the Facebook channel, which has the worst retention rate and through the TipTop channel, which is the most expensive."
   ]
  },
  {
   "cell_type": "markdown",
   "metadata": {},
   "source": [
    "## Conclusion\n",
    "\n",
    "### The reasons of inefficient acquisition campaign\n",
    "\n",
    "- The low retention for the users from the US, which are the most siginificant part of the paying customers\n",
    "\n",
    "- The major channels for acquiring US users are FaceBoom and TipTop. Faceboom gives the users with the lowest retention meanwhile TipTop gives the most expensive users.\n",
    "\n",
    "### The recomendations to the marketing department to increase effiecincy\n",
    "\n",
    "Based on the results of the analysis, the following recommendations can be given for the marketing department:\n",
    "\n",
    "- review the advertising strategy for AdNonSense and FaceBoom channels, possibly abandon them as channels that bring the most \"leaked\" users\n",
    "\n",
    "- work on retaining users from the USA. It is possible to attract users of these countries through advertising channels with a lower conversion rate, but a better audience for our application, for example, TipTop. Users from the USA paid off for the last time in May 2019 - it's worth seeing what the advertising companies were in this month\n",
    "\n",
    "- ask testers to check the effectiveness of the application on Apple and Android devices\n",
    "\n",
    "- inform the product manager about the general situation with user retention - you can attract users indefinitely, but there are much more growth points in user retention. Perhaps new features should be added to the application for greater user engagement\n",
    "\n",
    "- introduce interim control of the results of the marketing department, pay more attention to metrics."
   ]
  }
 ],
 "metadata": {
  "ExecuteTimeLog": [
   {
    "duration": 1260,
    "start_time": "2022-01-28T21:56:53.178Z"
   },
   {
    "duration": 710,
    "start_time": "2022-01-28T21:57:25.530Z"
   },
   {
    "duration": 674,
    "start_time": "2022-01-28T21:57:32.073Z"
   },
   {
    "duration": 636,
    "start_time": "2022-01-28T21:57:41.245Z"
   },
   {
    "duration": 9,
    "start_time": "2022-01-28T21:59:19.693Z"
   },
   {
    "duration": 6,
    "start_time": "2022-01-28T21:59:30.445Z"
   },
   {
    "duration": 340,
    "start_time": "2022-03-12T17:03:16.898Z"
   },
   {
    "duration": 1768,
    "start_time": "2022-03-12T17:03:33.175Z"
   },
   {
    "duration": 394,
    "start_time": "2022-03-12T17:03:34.944Z"
   },
   {
    "duration": 6,
    "start_time": "2022-03-12T17:03:35.334Z"
   },
   {
    "duration": 4,
    "start_time": "2022-03-12T17:03:35.337Z"
   },
   {
    "duration": -116,
    "start_time": "2022-03-12T17:03:35.458Z"
   },
   {
    "duration": -120,
    "start_time": "2022-03-12T17:03:35.463Z"
   },
   {
    "duration": -121,
    "start_time": "2022-03-12T17:03:35.465Z"
   },
   {
    "duration": -125,
    "start_time": "2022-03-12T17:03:35.470Z"
   },
   {
    "duration": -126,
    "start_time": "2022-03-12T17:03:35.472Z"
   },
   {
    "duration": -127,
    "start_time": "2022-03-12T17:03:35.474Z"
   },
   {
    "duration": 1652,
    "start_time": "2022-03-12T17:04:25.758Z"
   },
   {
    "duration": 154,
    "start_time": "2022-03-12T17:04:27.412Z"
   },
   {
    "duration": 7,
    "start_time": "2022-03-12T17:04:27.568Z"
   },
   {
    "duration": 10,
    "start_time": "2022-03-12T17:04:27.577Z"
   },
   {
    "duration": 4,
    "start_time": "2022-03-12T17:04:27.602Z"
   },
   {
    "duration": 7952,
    "start_time": "2022-03-12T17:04:27.608Z"
   },
   {
    "duration": -129,
    "start_time": "2022-03-12T17:04:35.691Z"
   },
   {
    "duration": -132,
    "start_time": "2022-03-12T17:04:35.694Z"
   },
   {
    "duration": -132,
    "start_time": "2022-03-12T17:04:35.695Z"
   },
   {
    "duration": -135,
    "start_time": "2022-03-12T17:04:35.699Z"
   },
   {
    "duration": 1678,
    "start_time": "2022-03-12T17:05:45.649Z"
   },
   {
    "duration": 145,
    "start_time": "2022-03-12T17:05:47.329Z"
   },
   {
    "duration": 7,
    "start_time": "2022-03-12T17:05:47.476Z"
   },
   {
    "duration": 22,
    "start_time": "2022-03-12T17:05:47.485Z"
   },
   {
    "duration": 6,
    "start_time": "2022-03-12T17:05:47.509Z"
   },
   {
    "duration": 4,
    "start_time": "2022-03-12T17:05:47.517Z"
   },
   {
    "duration": 397,
    "start_time": "2022-03-12T17:05:47.522Z"
   },
   {
    "duration": -3,
    "start_time": "2022-03-12T17:05:47.924Z"
   },
   {
    "duration": -4,
    "start_time": "2022-03-12T17:05:47.926Z"
   },
   {
    "duration": -5,
    "start_time": "2022-03-12T17:05:47.927Z"
   },
   {
    "duration": 98,
    "start_time": "2022-03-12T17:06:03.607Z"
   },
   {
    "duration": 88,
    "start_time": "2022-03-12T17:06:11.561Z"
   },
   {
    "duration": 8,
    "start_time": "2022-03-12T17:06:35.338Z"
   },
   {
    "duration": 6,
    "start_time": "2022-03-12T17:06:46.637Z"
   },
   {
    "duration": 8182,
    "start_time": "2022-03-12T17:17:57.764Z"
   },
   {
    "duration": 89,
    "start_time": "2022-03-12T17:18:56.359Z"
   },
   {
    "duration": 53,
    "start_time": "2022-03-12T17:19:38.542Z"
   },
   {
    "duration": 8,
    "start_time": "2022-03-12T17:19:45.846Z"
   },
   {
    "duration": 6,
    "start_time": "2022-03-12T17:19:58.376Z"
   },
   {
    "duration": 7,
    "start_time": "2022-03-12T17:20:09.086Z"
   },
   {
    "duration": 314,
    "start_time": "2022-03-12T17:26:33.797Z"
   },
   {
    "duration": 1651,
    "start_time": "2022-03-12T17:27:12.739Z"
   },
   {
    "duration": 191,
    "start_time": "2022-03-12T17:27:14.392Z"
   },
   {
    "duration": 17,
    "start_time": "2022-03-12T17:27:14.586Z"
   },
   {
    "duration": 11,
    "start_time": "2022-03-12T17:27:14.605Z"
   },
   {
    "duration": 5,
    "start_time": "2022-03-12T17:27:14.617Z"
   },
   {
    "duration": 4,
    "start_time": "2022-03-12T17:27:14.624Z"
   },
   {
    "duration": 147,
    "start_time": "2022-03-12T17:27:14.630Z"
   },
   {
    "duration": 11,
    "start_time": "2022-03-12T17:27:14.780Z"
   },
   {
    "duration": 7,
    "start_time": "2022-03-12T17:27:14.800Z"
   },
   {
    "duration": 8,
    "start_time": "2022-03-12T17:27:14.809Z"
   },
   {
    "duration": 6,
    "start_time": "2022-03-12T17:27:14.819Z"
   },
   {
    "duration": 9,
    "start_time": "2022-03-12T17:27:14.826Z"
   },
   {
    "duration": 11,
    "start_time": "2022-03-12T17:27:14.836Z"
   },
   {
    "duration": 7,
    "start_time": "2022-03-12T17:27:14.848Z"
   },
   {
    "duration": 382,
    "start_time": "2022-03-12T17:27:14.856Z"
   },
   {
    "duration": 1642,
    "start_time": "2022-03-12T17:36:12.836Z"
   },
   {
    "duration": 459,
    "start_time": "2022-03-12T17:36:14.480Z"
   },
   {
    "duration": -108,
    "start_time": "2022-03-12T17:36:15.049Z"
   },
   {
    "duration": -110,
    "start_time": "2022-03-12T17:36:15.052Z"
   },
   {
    "duration": -111,
    "start_time": "2022-03-12T17:36:15.054Z"
   },
   {
    "duration": -115,
    "start_time": "2022-03-12T17:36:15.059Z"
   },
   {
    "duration": -118,
    "start_time": "2022-03-12T17:36:15.063Z"
   },
   {
    "duration": -119,
    "start_time": "2022-03-12T17:36:15.065Z"
   },
   {
    "duration": -120,
    "start_time": "2022-03-12T17:36:15.066Z"
   },
   {
    "duration": -121,
    "start_time": "2022-03-12T17:36:15.068Z"
   },
   {
    "duration": -122,
    "start_time": "2022-03-12T17:36:15.070Z"
   },
   {
    "duration": -123,
    "start_time": "2022-03-12T17:36:15.072Z"
   },
   {
    "duration": -124,
    "start_time": "2022-03-12T17:36:15.074Z"
   },
   {
    "duration": -128,
    "start_time": "2022-03-12T17:36:15.079Z"
   },
   {
    "duration": -130,
    "start_time": "2022-03-12T17:36:15.082Z"
   },
   {
    "duration": -131,
    "start_time": "2022-03-12T17:36:15.084Z"
   },
   {
    "duration": -132,
    "start_time": "2022-03-12T17:36:15.086Z"
   },
   {
    "duration": -134,
    "start_time": "2022-03-12T17:36:15.089Z"
   },
   {
    "duration": -137,
    "start_time": "2022-03-12T17:36:15.092Z"
   },
   {
    "duration": 1712,
    "start_time": "2022-03-12T17:39:09.167Z"
   },
   {
    "duration": 490,
    "start_time": "2022-03-12T17:39:10.880Z"
   },
   {
    "duration": 21,
    "start_time": "2022-03-12T17:39:11.351Z"
   },
   {
    "duration": 12,
    "start_time": "2022-03-12T17:39:11.360Z"
   },
   {
    "duration": 10,
    "start_time": "2022-03-12T17:39:11.363Z"
   },
   {
    "duration": -106,
    "start_time": "2022-03-12T17:39:11.480Z"
   },
   {
    "duration": -108,
    "start_time": "2022-03-12T17:39:11.483Z"
   },
   {
    "duration": -109,
    "start_time": "2022-03-12T17:39:11.485Z"
   },
   {
    "duration": -111,
    "start_time": "2022-03-12T17:39:11.487Z"
   },
   {
    "duration": -112,
    "start_time": "2022-03-12T17:39:11.489Z"
   },
   {
    "duration": -115,
    "start_time": "2022-03-12T17:39:11.493Z"
   },
   {
    "duration": -116,
    "start_time": "2022-03-12T17:39:11.495Z"
   },
   {
    "duration": -117,
    "start_time": "2022-03-12T17:39:11.497Z"
   },
   {
    "duration": -118,
    "start_time": "2022-03-12T17:39:11.499Z"
   },
   {
    "duration": -119,
    "start_time": "2022-03-12T17:39:11.501Z"
   },
   {
    "duration": -121,
    "start_time": "2022-03-12T17:39:11.503Z"
   },
   {
    "duration": -122,
    "start_time": "2022-03-12T17:39:11.505Z"
   },
   {
    "duration": -125,
    "start_time": "2022-03-12T17:39:11.509Z"
   },
   {
    "duration": -126,
    "start_time": "2022-03-12T17:39:11.511Z"
   },
   {
    "duration": 1819,
    "start_time": "2022-03-12T17:42:28.803Z"
   },
   {
    "duration": 43,
    "start_time": "2022-03-12T17:42:30.624Z"
   },
   {
    "duration": 389,
    "start_time": "2022-03-12T17:42:30.669Z"
   },
   {
    "duration": 32,
    "start_time": "2022-03-12T17:42:31.028Z"
   },
   {
    "duration": 31,
    "start_time": "2022-03-12T17:42:31.030Z"
   },
   {
    "duration": 28,
    "start_time": "2022-03-12T17:42:31.034Z"
   },
   {
    "duration": -105,
    "start_time": "2022-03-12T17:42:31.167Z"
   },
   {
    "duration": -111,
    "start_time": "2022-03-12T17:42:31.174Z"
   },
   {
    "duration": -112,
    "start_time": "2022-03-12T17:42:31.176Z"
   },
   {
    "duration": -113,
    "start_time": "2022-03-12T17:42:31.178Z"
   },
   {
    "duration": -114,
    "start_time": "2022-03-12T17:42:31.180Z"
   },
   {
    "duration": -117,
    "start_time": "2022-03-12T17:42:31.184Z"
   },
   {
    "duration": -118,
    "start_time": "2022-03-12T17:42:31.186Z"
   },
   {
    "duration": -119,
    "start_time": "2022-03-12T17:42:31.188Z"
   },
   {
    "duration": -120,
    "start_time": "2022-03-12T17:42:31.190Z"
   },
   {
    "duration": -121,
    "start_time": "2022-03-12T17:42:31.192Z"
   },
   {
    "duration": -122,
    "start_time": "2022-03-12T17:42:31.194Z"
   },
   {
    "duration": -123,
    "start_time": "2022-03-12T17:42:31.196Z"
   },
   {
    "duration": -124,
    "start_time": "2022-03-12T17:42:31.198Z"
   },
   {
    "duration": 93,
    "start_time": "2022-03-12T17:43:39.480Z"
   },
   {
    "duration": 355,
    "start_time": "2022-03-12T17:43:48.944Z"
   },
   {
    "duration": 343,
    "start_time": "2022-03-12T17:44:57.998Z"
   },
   {
    "duration": 302,
    "start_time": "2022-03-12T17:45:18.366Z"
   },
   {
    "duration": 330,
    "start_time": "2022-03-12T17:46:07.515Z"
   },
   {
    "duration": 1711,
    "start_time": "2022-03-12T17:46:14.380Z"
   },
   {
    "duration": 3,
    "start_time": "2022-03-12T17:46:16.094Z"
   },
   {
    "duration": 7793,
    "start_time": "2022-03-12T17:46:16.099Z"
   },
   {
    "duration": -109,
    "start_time": "2022-03-12T17:46:24.003Z"
   },
   {
    "duration": -114,
    "start_time": "2022-03-12T17:46:24.009Z"
   },
   {
    "duration": -116,
    "start_time": "2022-03-12T17:46:24.012Z"
   },
   {
    "duration": -119,
    "start_time": "2022-03-12T17:46:24.016Z"
   },
   {
    "duration": -120,
    "start_time": "2022-03-12T17:46:24.018Z"
   },
   {
    "duration": -121,
    "start_time": "2022-03-12T17:46:24.020Z"
   },
   {
    "duration": -122,
    "start_time": "2022-03-12T17:46:24.022Z"
   },
   {
    "duration": -123,
    "start_time": "2022-03-12T17:46:24.024Z"
   },
   {
    "duration": -123,
    "start_time": "2022-03-12T17:46:24.025Z"
   },
   {
    "duration": -123,
    "start_time": "2022-03-12T17:46:24.027Z"
   },
   {
    "duration": -125,
    "start_time": "2022-03-12T17:46:24.030Z"
   },
   {
    "duration": -127,
    "start_time": "2022-03-12T17:46:24.033Z"
   },
   {
    "duration": -128,
    "start_time": "2022-03-12T17:46:24.035Z"
   },
   {
    "duration": -129,
    "start_time": "2022-03-12T17:46:24.037Z"
   },
   {
    "duration": -130,
    "start_time": "2022-03-12T17:46:24.039Z"
   },
   {
    "duration": -131,
    "start_time": "2022-03-12T17:46:24.041Z"
   },
   {
    "duration": 30,
    "start_time": "2022-03-12T17:48:07.349Z"
   },
   {
    "duration": 557,
    "start_time": "2022-03-12T17:48:21.194Z"
   },
   {
    "duration": 1638,
    "start_time": "2022-03-12T17:48:28.053Z"
   },
   {
    "duration": 30,
    "start_time": "2022-03-12T17:48:29.693Z"
   },
   {
    "duration": 7836,
    "start_time": "2022-03-12T17:48:29.725Z"
   },
   {
    "duration": -110,
    "start_time": "2022-03-12T17:48:37.673Z"
   },
   {
    "duration": -111,
    "start_time": "2022-03-12T17:48:37.675Z"
   },
   {
    "duration": -112,
    "start_time": "2022-03-12T17:48:37.677Z"
   },
   {
    "duration": -113,
    "start_time": "2022-03-12T17:48:37.679Z"
   },
   {
    "duration": -116,
    "start_time": "2022-03-12T17:48:37.683Z"
   },
   {
    "duration": -116,
    "start_time": "2022-03-12T17:48:37.684Z"
   },
   {
    "duration": -118,
    "start_time": "2022-03-12T17:48:37.687Z"
   },
   {
    "duration": -118,
    "start_time": "2022-03-12T17:48:37.689Z"
   },
   {
    "duration": -119,
    "start_time": "2022-03-12T17:48:37.691Z"
   },
   {
    "duration": -120,
    "start_time": "2022-03-12T17:48:37.693Z"
   },
   {
    "duration": -120,
    "start_time": "2022-03-12T17:48:37.694Z"
   },
   {
    "duration": -122,
    "start_time": "2022-03-12T17:48:37.697Z"
   },
   {
    "duration": -123,
    "start_time": "2022-03-12T17:48:37.699Z"
   },
   {
    "duration": -124,
    "start_time": "2022-03-12T17:48:37.701Z"
   },
   {
    "duration": -124,
    "start_time": "2022-03-12T17:48:37.703Z"
   },
   {
    "duration": -125,
    "start_time": "2022-03-12T17:48:37.705Z"
   },
   {
    "duration": 6,
    "start_time": "2022-03-12T17:49:26.012Z"
   },
   {
    "duration": 3668,
    "start_time": "2022-03-12T17:49:46.628Z"
   },
   {
    "duration": 30,
    "start_time": "2022-03-12T17:49:50.298Z"
   },
   {
    "duration": 161,
    "start_time": "2022-03-12T17:49:50.330Z"
   },
   {
    "duration": 9,
    "start_time": "2022-03-12T17:49:50.493Z"
   },
   {
    "duration": 9,
    "start_time": "2022-03-12T17:49:50.504Z"
   },
   {
    "duration": 411,
    "start_time": "2022-03-12T17:49:50.515Z"
   },
   {
    "duration": 34,
    "start_time": "2022-03-12T17:49:50.894Z"
   },
   {
    "duration": 33,
    "start_time": "2022-03-12T17:49:50.897Z"
   },
   {
    "duration": 30,
    "start_time": "2022-03-12T17:49:50.901Z"
   },
   {
    "duration": 28,
    "start_time": "2022-03-12T17:49:50.904Z"
   },
   {
    "duration": 27,
    "start_time": "2022-03-12T17:49:50.906Z"
   },
   {
    "duration": 27,
    "start_time": "2022-03-12T17:49:50.907Z"
   },
   {
    "duration": 26,
    "start_time": "2022-03-12T17:49:50.909Z"
   },
   {
    "duration": 15,
    "start_time": "2022-03-12T17:49:50.921Z"
   },
   {
    "duration": 12,
    "start_time": "2022-03-12T17:49:50.924Z"
   },
   {
    "duration": 10,
    "start_time": "2022-03-12T17:49:50.927Z"
   },
   {
    "duration": 9,
    "start_time": "2022-03-12T17:49:50.929Z"
   },
   {
    "duration": 7,
    "start_time": "2022-03-12T17:49:50.932Z"
   },
   {
    "duration": 5,
    "start_time": "2022-03-12T17:49:50.935Z"
   },
   {
    "duration": -96,
    "start_time": "2022-03-12T17:49:51.037Z"
   },
   {
    "duration": 1651,
    "start_time": "2022-03-12T17:51:12.350Z"
   },
   {
    "duration": 28,
    "start_time": "2022-03-12T17:51:14.003Z"
   },
   {
    "duration": 147,
    "start_time": "2022-03-12T17:51:14.033Z"
   },
   {
    "duration": 8,
    "start_time": "2022-03-12T17:51:14.181Z"
   },
   {
    "duration": 412,
    "start_time": "2022-03-12T17:51:14.190Z"
   },
   {
    "duration": 24,
    "start_time": "2022-03-12T17:51:14.580Z"
   },
   {
    "duration": 23,
    "start_time": "2022-03-12T17:51:14.582Z"
   },
   {
    "duration": 22,
    "start_time": "2022-03-12T17:51:14.584Z"
   },
   {
    "duration": -97,
    "start_time": "2022-03-12T17:51:14.703Z"
   },
   {
    "duration": -99,
    "start_time": "2022-03-12T17:51:14.706Z"
   },
   {
    "duration": -99,
    "start_time": "2022-03-12T17:51:14.707Z"
   },
   {
    "duration": -102,
    "start_time": "2022-03-12T17:51:14.711Z"
   },
   {
    "duration": -103,
    "start_time": "2022-03-12T17:51:14.713Z"
   },
   {
    "duration": -104,
    "start_time": "2022-03-12T17:51:14.715Z"
   },
   {
    "duration": -106,
    "start_time": "2022-03-12T17:51:14.717Z"
   },
   {
    "duration": -107,
    "start_time": "2022-03-12T17:51:14.719Z"
   },
   {
    "duration": -108,
    "start_time": "2022-03-12T17:51:14.721Z"
   },
   {
    "duration": -109,
    "start_time": "2022-03-12T17:51:14.723Z"
   },
   {
    "duration": -110,
    "start_time": "2022-03-12T17:51:14.725Z"
   },
   {
    "duration": 1639,
    "start_time": "2022-03-12T17:52:07.727Z"
   },
   {
    "duration": 28,
    "start_time": "2022-03-12T17:52:09.368Z"
   },
   {
    "duration": 135,
    "start_time": "2022-03-12T17:52:09.397Z"
   },
   {
    "duration": 7,
    "start_time": "2022-03-12T17:52:09.534Z"
   },
   {
    "duration": 16,
    "start_time": "2022-03-12T17:52:09.542Z"
   },
   {
    "duration": 413,
    "start_time": "2022-03-12T17:52:09.559Z"
   },
   {
    "duration": 24,
    "start_time": "2022-03-12T17:52:09.951Z"
   },
   {
    "duration": 23,
    "start_time": "2022-03-12T17:52:09.953Z"
   },
   {
    "duration": 23,
    "start_time": "2022-03-12T17:52:09.954Z"
   },
   {
    "duration": 18,
    "start_time": "2022-03-12T17:52:09.960Z"
   },
   {
    "duration": -96,
    "start_time": "2022-03-12T17:52:10.075Z"
   },
   {
    "duration": -102,
    "start_time": "2022-03-12T17:52:10.082Z"
   },
   {
    "duration": -103,
    "start_time": "2022-03-12T17:52:10.084Z"
   },
   {
    "duration": -105,
    "start_time": "2022-03-12T17:52:10.087Z"
   },
   {
    "duration": -106,
    "start_time": "2022-03-12T17:52:10.089Z"
   },
   {
    "duration": -107,
    "start_time": "2022-03-12T17:52:10.091Z"
   },
   {
    "duration": -108,
    "start_time": "2022-03-12T17:52:10.093Z"
   },
   {
    "duration": -111,
    "start_time": "2022-03-12T17:52:10.097Z"
   },
   {
    "duration": -112,
    "start_time": "2022-03-12T17:52:10.099Z"
   },
   {
    "duration": 305,
    "start_time": "2022-03-12T17:55:03.326Z"
   },
   {
    "duration": 314,
    "start_time": "2022-03-12T17:55:14.759Z"
   },
   {
    "duration": 1738,
    "start_time": "2022-03-12T17:55:30.714Z"
   },
   {
    "duration": 29,
    "start_time": "2022-03-12T17:55:32.454Z"
   },
   {
    "duration": 142,
    "start_time": "2022-03-12T17:55:32.485Z"
   },
   {
    "duration": 7,
    "start_time": "2022-03-12T17:55:32.629Z"
   },
   {
    "duration": 5,
    "start_time": "2022-03-12T17:55:32.638Z"
   },
   {
    "duration": 409,
    "start_time": "2022-03-12T17:55:32.645Z"
   },
   {
    "duration": 27,
    "start_time": "2022-03-12T17:55:33.029Z"
   },
   {
    "duration": 25,
    "start_time": "2022-03-12T17:55:33.032Z"
   },
   {
    "duration": 22,
    "start_time": "2022-03-12T17:55:33.037Z"
   },
   {
    "duration": -91,
    "start_time": "2022-03-12T17:55:33.151Z"
   },
   {
    "duration": -96,
    "start_time": "2022-03-12T17:55:33.157Z"
   },
   {
    "duration": -97,
    "start_time": "2022-03-12T17:55:33.159Z"
   },
   {
    "duration": -98,
    "start_time": "2022-03-12T17:55:33.161Z"
   },
   {
    "duration": -98,
    "start_time": "2022-03-12T17:55:33.162Z"
   },
   {
    "duration": -99,
    "start_time": "2022-03-12T17:55:33.164Z"
   },
   {
    "duration": -100,
    "start_time": "2022-03-12T17:55:33.166Z"
   },
   {
    "duration": -103,
    "start_time": "2022-03-12T17:55:33.171Z"
   },
   {
    "duration": -104,
    "start_time": "2022-03-12T17:55:33.173Z"
   },
   {
    "duration": -105,
    "start_time": "2022-03-12T17:55:33.175Z"
   },
   {
    "duration": -105,
    "start_time": "2022-03-12T17:55:33.176Z"
   },
   {
    "duration": 289,
    "start_time": "2022-03-12T17:56:41.499Z"
   },
   {
    "duration": 1610,
    "start_time": "2022-03-12T17:56:55.228Z"
   },
   {
    "duration": 28,
    "start_time": "2022-03-12T17:56:56.839Z"
   },
   {
    "duration": 149,
    "start_time": "2022-03-12T17:56:56.869Z"
   },
   {
    "duration": 7,
    "start_time": "2022-03-12T17:56:57.020Z"
   },
   {
    "duration": 5,
    "start_time": "2022-03-12T17:56:57.028Z"
   },
   {
    "duration": 385,
    "start_time": "2022-03-12T17:56:57.034Z"
   },
   {
    "duration": 18,
    "start_time": "2022-03-12T17:56:57.403Z"
   },
   {
    "duration": 17,
    "start_time": "2022-03-12T17:56:57.405Z"
   },
   {
    "duration": 15,
    "start_time": "2022-03-12T17:56:57.408Z"
   },
   {
    "duration": 14,
    "start_time": "2022-03-12T17:56:57.410Z"
   },
   {
    "duration": -99,
    "start_time": "2022-03-12T17:56:57.523Z"
   },
   {
    "duration": -100,
    "start_time": "2022-03-12T17:56:57.525Z"
   },
   {
    "duration": -103,
    "start_time": "2022-03-12T17:56:57.529Z"
   },
   {
    "duration": -105,
    "start_time": "2022-03-12T17:56:57.532Z"
   },
   {
    "duration": -107,
    "start_time": "2022-03-12T17:56:57.535Z"
   },
   {
    "duration": -108,
    "start_time": "2022-03-12T17:56:57.537Z"
   },
   {
    "duration": -109,
    "start_time": "2022-03-12T17:56:57.539Z"
   },
   {
    "duration": -110,
    "start_time": "2022-03-12T17:56:57.541Z"
   },
   {
    "duration": -114,
    "start_time": "2022-03-12T17:56:57.546Z"
   },
   {
    "duration": -116,
    "start_time": "2022-03-12T17:56:57.549Z"
   },
   {
    "duration": 363,
    "start_time": "2022-03-12T18:23:31.400Z"
   },
   {
    "duration": 431,
    "start_time": "2022-03-12T18:23:38.670Z"
   },
   {
    "duration": 1700,
    "start_time": "2022-03-12T18:23:50.797Z"
   },
   {
    "duration": 33,
    "start_time": "2022-03-12T18:23:52.499Z"
   },
   {
    "duration": 138,
    "start_time": "2022-03-12T18:23:52.534Z"
   },
   {
    "duration": 8,
    "start_time": "2022-03-12T18:23:52.673Z"
   },
   {
    "duration": 5,
    "start_time": "2022-03-12T18:23:52.683Z"
   },
   {
    "duration": 420,
    "start_time": "2022-03-12T18:23:52.690Z"
   },
   {
    "duration": 47,
    "start_time": "2022-03-12T18:23:53.065Z"
   },
   {
    "duration": 45,
    "start_time": "2022-03-12T18:23:53.068Z"
   },
   {
    "duration": 20,
    "start_time": "2022-03-12T18:23:53.094Z"
   },
   {
    "duration": -126,
    "start_time": "2022-03-12T18:23:53.241Z"
   },
   {
    "duration": -132,
    "start_time": "2022-03-12T18:23:53.248Z"
   },
   {
    "duration": -134,
    "start_time": "2022-03-12T18:23:53.251Z"
   },
   {
    "duration": -138,
    "start_time": "2022-03-12T18:23:53.256Z"
   },
   {
    "duration": -140,
    "start_time": "2022-03-12T18:23:53.259Z"
   },
   {
    "duration": -141,
    "start_time": "2022-03-12T18:23:53.261Z"
   },
   {
    "duration": -142,
    "start_time": "2022-03-12T18:23:53.263Z"
   },
   {
    "duration": -142,
    "start_time": "2022-03-12T18:23:53.265Z"
   },
   {
    "duration": -143,
    "start_time": "2022-03-12T18:23:53.267Z"
   },
   {
    "duration": -148,
    "start_time": "2022-03-12T18:23:53.273Z"
   },
   {
    "duration": -148,
    "start_time": "2022-03-12T18:23:53.275Z"
   },
   {
    "duration": 2174,
    "start_time": "2022-03-19T13:50:35.315Z"
   },
   {
    "duration": 3,
    "start_time": "2022-03-19T13:50:37.492Z"
   },
   {
    "duration": 176,
    "start_time": "2022-03-19T13:50:37.497Z"
   },
   {
    "duration": 13,
    "start_time": "2022-03-19T13:50:37.675Z"
   },
   {
    "duration": 4,
    "start_time": "2022-03-19T13:50:37.690Z"
   },
   {
    "duration": 116,
    "start_time": "2022-03-19T13:50:37.696Z"
   },
   {
    "duration": 0,
    "start_time": "2022-03-19T13:50:37.814Z"
   },
   {
    "duration": 0,
    "start_time": "2022-03-19T13:50:37.816Z"
   },
   {
    "duration": 0,
    "start_time": "2022-03-19T13:50:37.817Z"
   },
   {
    "duration": 0,
    "start_time": "2022-03-19T13:50:37.818Z"
   },
   {
    "duration": 0,
    "start_time": "2022-03-19T13:50:37.831Z"
   },
   {
    "duration": 0,
    "start_time": "2022-03-19T13:50:37.832Z"
   },
   {
    "duration": 0,
    "start_time": "2022-03-19T13:50:37.833Z"
   },
   {
    "duration": 0,
    "start_time": "2022-03-19T13:50:37.838Z"
   },
   {
    "duration": 0,
    "start_time": "2022-03-19T13:50:37.839Z"
   },
   {
    "duration": 0,
    "start_time": "2022-03-19T13:50:37.841Z"
   },
   {
    "duration": 0,
    "start_time": "2022-03-19T13:50:37.842Z"
   },
   {
    "duration": 0,
    "start_time": "2022-03-19T13:50:37.844Z"
   },
   {
    "duration": 0,
    "start_time": "2022-03-19T13:50:37.844Z"
   },
   {
    "duration": 0,
    "start_time": "2022-03-19T13:50:37.846Z"
   },
   {
    "duration": 1942,
    "start_time": "2022-03-19T13:53:31.805Z"
   },
   {
    "duration": 4,
    "start_time": "2022-03-19T13:53:33.749Z"
   },
   {
    "duration": 189,
    "start_time": "2022-03-19T13:53:33.755Z"
   },
   {
    "duration": 13,
    "start_time": "2022-03-19T13:53:33.946Z"
   },
   {
    "duration": 4,
    "start_time": "2022-03-19T13:53:33.961Z"
   },
   {
    "duration": 105,
    "start_time": "2022-03-19T13:53:33.966Z"
   },
   {
    "duration": 0,
    "start_time": "2022-03-19T13:53:34.073Z"
   },
   {
    "duration": 0,
    "start_time": "2022-03-19T13:53:34.075Z"
   },
   {
    "duration": 0,
    "start_time": "2022-03-19T13:53:34.076Z"
   },
   {
    "duration": 0,
    "start_time": "2022-03-19T13:53:34.077Z"
   },
   {
    "duration": 0,
    "start_time": "2022-03-19T13:53:34.078Z"
   },
   {
    "duration": 0,
    "start_time": "2022-03-19T13:53:34.078Z"
   },
   {
    "duration": 0,
    "start_time": "2022-03-19T13:53:34.079Z"
   },
   {
    "duration": 0,
    "start_time": "2022-03-19T13:53:34.080Z"
   },
   {
    "duration": 0,
    "start_time": "2022-03-19T13:53:34.081Z"
   },
   {
    "duration": 0,
    "start_time": "2022-03-19T13:53:34.082Z"
   },
   {
    "duration": 0,
    "start_time": "2022-03-19T13:53:34.083Z"
   },
   {
    "duration": 0,
    "start_time": "2022-03-19T13:53:34.084Z"
   },
   {
    "duration": 0,
    "start_time": "2022-03-19T13:53:34.085Z"
   },
   {
    "duration": 0,
    "start_time": "2022-03-19T13:53:34.086Z"
   },
   {
    "duration": 1910,
    "start_time": "2022-03-19T13:54:49.985Z"
   },
   {
    "duration": 4,
    "start_time": "2022-03-19T13:54:51.897Z"
   },
   {
    "duration": 183,
    "start_time": "2022-03-19T13:54:51.903Z"
   },
   {
    "duration": 13,
    "start_time": "2022-03-19T13:54:52.088Z"
   },
   {
    "duration": 4,
    "start_time": "2022-03-19T13:54:52.103Z"
   },
   {
    "duration": 30,
    "start_time": "2022-03-19T13:54:52.109Z"
   },
   {
    "duration": 16,
    "start_time": "2022-03-19T13:54:52.141Z"
   },
   {
    "duration": 5,
    "start_time": "2022-03-19T13:54:52.159Z"
   },
   {
    "duration": 8,
    "start_time": "2022-03-19T13:54:52.166Z"
   },
   {
    "duration": 143,
    "start_time": "2022-03-19T13:54:52.176Z"
   },
   {
    "duration": 19,
    "start_time": "2022-03-19T13:54:52.322Z"
   },
   {
    "duration": 10,
    "start_time": "2022-03-19T13:54:52.343Z"
   },
   {
    "duration": 10,
    "start_time": "2022-03-19T13:54:52.355Z"
   },
   {
    "duration": 22,
    "start_time": "2022-03-19T13:54:52.367Z"
   },
   {
    "duration": 24,
    "start_time": "2022-03-19T13:54:52.391Z"
   },
   {
    "duration": 122,
    "start_time": "2022-03-19T13:54:52.417Z"
   },
   {
    "duration": 0,
    "start_time": "2022-03-19T13:54:52.541Z"
   },
   {
    "duration": 0,
    "start_time": "2022-03-19T13:54:52.542Z"
   },
   {
    "duration": 0,
    "start_time": "2022-03-19T13:54:52.546Z"
   },
   {
    "duration": 7,
    "start_time": "2022-03-19T13:55:25.464Z"
   },
   {
    "duration": 9,
    "start_time": "2022-03-19T13:55:37.998Z"
   },
   {
    "duration": 5,
    "start_time": "2022-03-19T13:55:42.747Z"
   },
   {
    "duration": 15,
    "start_time": "2022-03-19T13:56:18.671Z"
   },
   {
    "duration": 1984,
    "start_time": "2022-03-19T13:58:11.631Z"
   },
   {
    "duration": 4,
    "start_time": "2022-03-19T13:58:13.617Z"
   },
   {
    "duration": 175,
    "start_time": "2022-03-19T13:58:13.623Z"
   },
   {
    "duration": 14,
    "start_time": "2022-03-19T13:58:13.800Z"
   },
   {
    "duration": 23,
    "start_time": "2022-03-19T13:58:13.817Z"
   },
   {
    "duration": 22,
    "start_time": "2022-03-19T13:58:13.842Z"
   },
   {
    "duration": 13,
    "start_time": "2022-03-19T13:58:13.865Z"
   },
   {
    "duration": 5,
    "start_time": "2022-03-19T13:58:13.879Z"
   },
   {
    "duration": 7,
    "start_time": "2022-03-19T13:58:13.885Z"
   },
   {
    "duration": 142,
    "start_time": "2022-03-19T13:58:13.894Z"
   },
   {
    "duration": 16,
    "start_time": "2022-03-19T13:58:14.038Z"
   },
   {
    "duration": 6,
    "start_time": "2022-03-19T13:58:14.056Z"
   },
   {
    "duration": 10,
    "start_time": "2022-03-19T13:58:14.063Z"
   },
   {
    "duration": 8,
    "start_time": "2022-03-19T13:58:14.075Z"
   },
   {
    "duration": 9,
    "start_time": "2022-03-19T13:58:14.085Z"
   },
   {
    "duration": 14,
    "start_time": "2022-03-19T13:58:14.095Z"
   },
   {
    "duration": 12,
    "start_time": "2022-03-19T13:58:14.132Z"
   },
   {
    "duration": 4,
    "start_time": "2022-03-19T13:58:14.146Z"
   },
   {
    "duration": 121,
    "start_time": "2022-03-19T13:58:14.152Z"
   },
   {
    "duration": 2007,
    "start_time": "2022-03-19T14:07:24.914Z"
   },
   {
    "duration": 41,
    "start_time": "2022-03-19T14:07:26.923Z"
   },
   {
    "duration": 3060,
    "start_time": "2022-03-19T14:07:26.966Z"
   },
   {
    "duration": 0,
    "start_time": "2022-03-19T14:07:30.028Z"
   },
   {
    "duration": 0,
    "start_time": "2022-03-19T14:07:30.029Z"
   },
   {
    "duration": 0,
    "start_time": "2022-03-19T14:07:30.031Z"
   },
   {
    "duration": 0,
    "start_time": "2022-03-19T14:07:30.032Z"
   },
   {
    "duration": 0,
    "start_time": "2022-03-19T14:07:30.032Z"
   },
   {
    "duration": 0,
    "start_time": "2022-03-19T14:07:30.033Z"
   },
   {
    "duration": 0,
    "start_time": "2022-03-19T14:07:30.035Z"
   },
   {
    "duration": 0,
    "start_time": "2022-03-19T14:07:30.036Z"
   },
   {
    "duration": 0,
    "start_time": "2022-03-19T14:07:30.037Z"
   },
   {
    "duration": 0,
    "start_time": "2022-03-19T14:07:30.038Z"
   },
   {
    "duration": 0,
    "start_time": "2022-03-19T14:07:30.040Z"
   },
   {
    "duration": 0,
    "start_time": "2022-03-19T14:07:30.041Z"
   },
   {
    "duration": 0,
    "start_time": "2022-03-19T14:07:30.042Z"
   },
   {
    "duration": 0,
    "start_time": "2022-03-19T14:07:30.043Z"
   },
   {
    "duration": 0,
    "start_time": "2022-03-19T14:07:30.045Z"
   },
   {
    "duration": 0,
    "start_time": "2022-03-19T14:07:30.046Z"
   },
   {
    "duration": 2022,
    "start_time": "2022-03-19T14:08:28.408Z"
   },
   {
    "duration": 36,
    "start_time": "2022-03-19T14:08:30.432Z"
   },
   {
    "duration": 175,
    "start_time": "2022-03-19T14:08:30.469Z"
   },
   {
    "duration": 13,
    "start_time": "2022-03-19T14:08:30.646Z"
   },
   {
    "duration": 8,
    "start_time": "2022-03-19T14:08:30.661Z"
   },
   {
    "duration": 18,
    "start_time": "2022-03-19T14:08:30.671Z"
   },
   {
    "duration": 23,
    "start_time": "2022-03-19T14:08:30.691Z"
   },
   {
    "duration": 19,
    "start_time": "2022-03-19T14:08:30.715Z"
   },
   {
    "duration": 8,
    "start_time": "2022-03-19T14:08:30.736Z"
   },
   {
    "duration": 139,
    "start_time": "2022-03-19T14:08:30.746Z"
   },
   {
    "duration": 12,
    "start_time": "2022-03-19T14:08:30.886Z"
   },
   {
    "duration": 7,
    "start_time": "2022-03-19T14:08:30.900Z"
   },
   {
    "duration": 32,
    "start_time": "2022-03-19T14:08:30.909Z"
   },
   {
    "duration": 13,
    "start_time": "2022-03-19T14:08:30.944Z"
   },
   {
    "duration": 11,
    "start_time": "2022-03-19T14:08:30.959Z"
   },
   {
    "duration": 17,
    "start_time": "2022-03-19T14:08:30.972Z"
   },
   {
    "duration": 8,
    "start_time": "2022-03-19T14:08:30.991Z"
   },
   {
    "duration": 31,
    "start_time": "2022-03-19T14:08:31.001Z"
   },
   {
    "duration": 381,
    "start_time": "2022-03-19T14:08:31.034Z"
   },
   {
    "duration": 2008,
    "start_time": "2022-03-19T14:14:16.731Z"
   },
   {
    "duration": 36,
    "start_time": "2022-03-19T14:14:18.741Z"
   },
   {
    "duration": 177,
    "start_time": "2022-03-19T14:14:18.779Z"
   },
   {
    "duration": 13,
    "start_time": "2022-03-19T14:14:18.958Z"
   },
   {
    "duration": 5,
    "start_time": "2022-03-19T14:14:18.974Z"
   },
   {
    "duration": 15,
    "start_time": "2022-03-19T14:14:18.981Z"
   },
   {
    "duration": 36,
    "start_time": "2022-03-19T14:14:18.998Z"
   },
   {
    "duration": 7,
    "start_time": "2022-03-19T14:14:19.036Z"
   },
   {
    "duration": 5,
    "start_time": "2022-03-19T14:14:19.045Z"
   },
   {
    "duration": 153,
    "start_time": "2022-03-19T14:14:19.052Z"
   },
   {
    "duration": 10,
    "start_time": "2022-03-19T14:14:19.207Z"
   },
   {
    "duration": 8,
    "start_time": "2022-03-19T14:14:19.232Z"
   },
   {
    "duration": 11,
    "start_time": "2022-03-19T14:14:19.242Z"
   },
   {
    "duration": 10,
    "start_time": "2022-03-19T14:14:19.256Z"
   },
   {
    "duration": 9,
    "start_time": "2022-03-19T14:14:19.268Z"
   },
   {
    "duration": 12,
    "start_time": "2022-03-19T14:14:19.279Z"
   },
   {
    "duration": 40,
    "start_time": "2022-03-19T14:14:19.293Z"
   },
   {
    "duration": 5,
    "start_time": "2022-03-19T14:14:19.334Z"
   },
   {
    "duration": 411,
    "start_time": "2022-03-19T14:14:19.340Z"
   },
   {
    "duration": 2043,
    "start_time": "2022-03-19T14:17:02.660Z"
   },
   {
    "duration": 36,
    "start_time": "2022-03-19T14:17:04.705Z"
   },
   {
    "duration": 160,
    "start_time": "2022-03-19T14:17:04.742Z"
   },
   {
    "duration": 13,
    "start_time": "2022-03-19T14:17:04.904Z"
   },
   {
    "duration": 5,
    "start_time": "2022-03-19T14:17:04.931Z"
   },
   {
    "duration": 23,
    "start_time": "2022-03-19T14:17:04.937Z"
   },
   {
    "duration": 20,
    "start_time": "2022-03-19T14:17:04.962Z"
   },
   {
    "duration": 11,
    "start_time": "2022-03-19T14:17:04.984Z"
   },
   {
    "duration": 17,
    "start_time": "2022-03-19T14:17:04.997Z"
   },
   {
    "duration": 134,
    "start_time": "2022-03-19T14:17:05.017Z"
   },
   {
    "duration": 10,
    "start_time": "2022-03-19T14:17:05.153Z"
   },
   {
    "duration": 6,
    "start_time": "2022-03-19T14:17:05.165Z"
   },
   {
    "duration": 11,
    "start_time": "2022-03-19T14:17:05.172Z"
   },
   {
    "duration": 9,
    "start_time": "2022-03-19T14:17:05.185Z"
   },
   {
    "duration": 36,
    "start_time": "2022-03-19T14:17:05.196Z"
   },
   {
    "duration": 14,
    "start_time": "2022-03-19T14:17:05.234Z"
   },
   {
    "duration": 7,
    "start_time": "2022-03-19T14:17:05.250Z"
   },
   {
    "duration": 5,
    "start_time": "2022-03-19T14:17:05.259Z"
   },
   {
    "duration": 112,
    "start_time": "2022-03-19T14:17:05.266Z"
   },
   {
    "duration": 434,
    "start_time": "2022-03-19T14:17:18.366Z"
   },
   {
    "duration": 21,
    "start_time": "2022-03-19T14:19:40.926Z"
   },
   {
    "duration": 19,
    "start_time": "2022-03-19T14:20:55.096Z"
   },
   {
    "duration": 21,
    "start_time": "2022-03-19T14:22:59.672Z"
   },
   {
    "duration": 18,
    "start_time": "2022-03-19T14:23:09.572Z"
   },
   {
    "duration": 21,
    "start_time": "2022-03-19T14:23:56.049Z"
   },
   {
    "duration": 19,
    "start_time": "2022-03-19T14:29:16.263Z"
   },
   {
    "duration": 21,
    "start_time": "2022-03-19T14:29:19.245Z"
   },
   {
    "duration": 17,
    "start_time": "2022-03-19T14:34:44.225Z"
   },
   {
    "duration": 20,
    "start_time": "2022-03-19T14:34:47.822Z"
   },
   {
    "duration": 12,
    "start_time": "2022-03-19T15:26:21.672Z"
   },
   {
    "duration": 5,
    "start_time": "2022-03-19T15:26:27.705Z"
   },
   {
    "duration": 24,
    "start_time": "2022-03-19T15:28:49.552Z"
   },
   {
    "duration": 22,
    "start_time": "2022-03-19T15:29:00.320Z"
   },
   {
    "duration": 13,
    "start_time": "2022-03-19T15:29:09.897Z"
   },
   {
    "duration": 15,
    "start_time": "2022-03-19T15:29:23.559Z"
   },
   {
    "duration": 13,
    "start_time": "2022-03-19T15:30:13.882Z"
   },
   {
    "duration": 15,
    "start_time": "2022-03-19T15:31:57.163Z"
   },
   {
    "duration": 2195,
    "start_time": "2022-03-19T16:10:50.358Z"
   },
   {
    "duration": 37,
    "start_time": "2022-03-19T16:10:52.557Z"
   },
   {
    "duration": 210,
    "start_time": "2022-03-19T16:10:52.596Z"
   },
   {
    "duration": 14,
    "start_time": "2022-03-19T16:10:52.808Z"
   },
   {
    "duration": 5,
    "start_time": "2022-03-19T16:10:52.832Z"
   },
   {
    "duration": 30,
    "start_time": "2022-03-19T16:10:52.844Z"
   },
   {
    "duration": 14,
    "start_time": "2022-03-19T16:10:52.876Z"
   },
   {
    "duration": 5,
    "start_time": "2022-03-19T16:10:52.891Z"
   },
   {
    "duration": 7,
    "start_time": "2022-03-19T16:10:52.898Z"
   },
   {
    "duration": 156,
    "start_time": "2022-03-19T16:10:52.907Z"
   },
   {
    "duration": 10,
    "start_time": "2022-03-19T16:10:53.065Z"
   },
   {
    "duration": 7,
    "start_time": "2022-03-19T16:10:53.077Z"
   },
   {
    "duration": 10,
    "start_time": "2022-03-19T16:10:53.085Z"
   },
   {
    "duration": 11,
    "start_time": "2022-03-19T16:10:53.098Z"
   },
   {
    "duration": 32,
    "start_time": "2022-03-19T16:10:53.110Z"
   },
   {
    "duration": 28,
    "start_time": "2022-03-19T16:10:53.144Z"
   },
   {
    "duration": 11,
    "start_time": "2022-03-19T16:10:53.174Z"
   },
   {
    "duration": 7,
    "start_time": "2022-03-19T16:10:53.187Z"
   },
   {
    "duration": 618,
    "start_time": "2022-03-19T16:10:53.196Z"
   },
   {
    "duration": 0,
    "start_time": "2022-03-19T16:10:53.816Z"
   },
   {
    "duration": 0,
    "start_time": "2022-03-19T16:10:53.818Z"
   },
   {
    "duration": 0,
    "start_time": "2022-03-19T16:10:53.818Z"
   },
   {
    "duration": 0,
    "start_time": "2022-03-19T16:10:53.820Z"
   },
   {
    "duration": 0,
    "start_time": "2022-03-19T16:10:53.820Z"
   },
   {
    "duration": 0,
    "start_time": "2022-03-19T16:10:53.821Z"
   },
   {
    "duration": 0,
    "start_time": "2022-03-19T16:10:53.823Z"
   },
   {
    "duration": 0,
    "start_time": "2022-03-19T16:10:53.840Z"
   },
   {
    "duration": 2013,
    "start_time": "2022-03-19T16:14:40.727Z"
   },
   {
    "duration": 36,
    "start_time": "2022-03-19T16:14:42.743Z"
   },
   {
    "duration": 180,
    "start_time": "2022-03-19T16:14:42.781Z"
   },
   {
    "duration": 13,
    "start_time": "2022-03-19T16:14:42.963Z"
   },
   {
    "duration": 4,
    "start_time": "2022-03-19T16:14:42.978Z"
   },
   {
    "duration": 16,
    "start_time": "2022-03-19T16:14:42.984Z"
   },
   {
    "duration": 14,
    "start_time": "2022-03-19T16:14:43.002Z"
   },
   {
    "duration": 23,
    "start_time": "2022-03-19T16:14:43.018Z"
   },
   {
    "duration": 12,
    "start_time": "2022-03-19T16:14:43.043Z"
   },
   {
    "duration": 143,
    "start_time": "2022-03-19T16:14:43.058Z"
   },
   {
    "duration": 11,
    "start_time": "2022-03-19T16:14:43.203Z"
   },
   {
    "duration": 21,
    "start_time": "2022-03-19T16:14:43.216Z"
   },
   {
    "duration": 16,
    "start_time": "2022-03-19T16:14:43.240Z"
   },
   {
    "duration": 9,
    "start_time": "2022-03-19T16:14:43.258Z"
   },
   {
    "duration": 10,
    "start_time": "2022-03-19T16:14:43.270Z"
   },
   {
    "duration": 14,
    "start_time": "2022-03-19T16:14:43.282Z"
   },
   {
    "duration": 7,
    "start_time": "2022-03-19T16:14:43.298Z"
   },
   {
    "duration": 9,
    "start_time": "2022-03-19T16:14:43.332Z"
   },
   {
    "duration": 597,
    "start_time": "2022-03-19T16:14:43.348Z"
   },
   {
    "duration": 0,
    "start_time": "2022-03-19T16:14:43.947Z"
   },
   {
    "duration": 0,
    "start_time": "2022-03-19T16:14:43.948Z"
   },
   {
    "duration": 0,
    "start_time": "2022-03-19T16:14:43.949Z"
   },
   {
    "duration": 0,
    "start_time": "2022-03-19T16:14:43.950Z"
   },
   {
    "duration": 0,
    "start_time": "2022-03-19T16:14:43.951Z"
   },
   {
    "duration": 0,
    "start_time": "2022-03-19T16:14:43.952Z"
   },
   {
    "duration": 0,
    "start_time": "2022-03-19T16:14:43.953Z"
   },
   {
    "duration": 0,
    "start_time": "2022-03-19T16:14:43.953Z"
   },
   {
    "duration": 10,
    "start_time": "2022-03-19T16:15:29.912Z"
   },
   {
    "duration": 11,
    "start_time": "2022-03-19T16:15:49.545Z"
   },
   {
    "duration": 57,
    "start_time": "2022-03-19T16:16:07.211Z"
   },
   {
    "duration": 2062,
    "start_time": "2022-03-19T16:21:46.211Z"
   },
   {
    "duration": 35,
    "start_time": "2022-03-19T16:21:48.275Z"
   },
   {
    "duration": 201,
    "start_time": "2022-03-19T16:21:48.312Z"
   },
   {
    "duration": 20,
    "start_time": "2022-03-19T16:21:48.515Z"
   },
   {
    "duration": 22,
    "start_time": "2022-03-19T16:21:48.539Z"
   },
   {
    "duration": 17,
    "start_time": "2022-03-19T16:21:48.562Z"
   },
   {
    "duration": 12,
    "start_time": "2022-03-19T16:21:48.581Z"
   },
   {
    "duration": 6,
    "start_time": "2022-03-19T16:21:48.595Z"
   },
   {
    "duration": 8,
    "start_time": "2022-03-19T16:21:48.602Z"
   },
   {
    "duration": 158,
    "start_time": "2022-03-19T16:21:48.613Z"
   },
   {
    "duration": 9,
    "start_time": "2022-03-19T16:21:48.773Z"
   },
   {
    "duration": 8,
    "start_time": "2022-03-19T16:21:48.784Z"
   },
   {
    "duration": 11,
    "start_time": "2022-03-19T16:21:48.793Z"
   },
   {
    "duration": 35,
    "start_time": "2022-03-19T16:21:48.806Z"
   },
   {
    "duration": 27,
    "start_time": "2022-03-19T16:21:48.844Z"
   },
   {
    "duration": 15,
    "start_time": "2022-03-19T16:21:48.873Z"
   },
   {
    "duration": 7,
    "start_time": "2022-03-19T16:21:48.889Z"
   },
   {
    "duration": 7,
    "start_time": "2022-03-19T16:21:48.898Z"
   },
   {
    "duration": 86,
    "start_time": "2022-03-19T16:21:48.906Z"
   },
   {
    "duration": 632,
    "start_time": "2022-03-19T16:21:48.994Z"
   },
   {
    "duration": 0,
    "start_time": "2022-03-19T16:21:49.636Z"
   },
   {
    "duration": 0,
    "start_time": "2022-03-19T16:21:49.638Z"
   },
   {
    "duration": 0,
    "start_time": "2022-03-19T16:21:49.639Z"
   },
   {
    "duration": 0,
    "start_time": "2022-03-19T16:21:49.640Z"
   },
   {
    "duration": 0,
    "start_time": "2022-03-19T16:21:49.642Z"
   },
   {
    "duration": 0,
    "start_time": "2022-03-19T16:21:49.643Z"
   },
   {
    "duration": 0,
    "start_time": "2022-03-19T16:21:49.644Z"
   },
   {
    "duration": 0,
    "start_time": "2022-03-19T16:21:49.648Z"
   },
   {
    "duration": 1960,
    "start_time": "2022-03-19T16:25:43.448Z"
   },
   {
    "duration": 35,
    "start_time": "2022-03-19T16:25:45.410Z"
   },
   {
    "duration": 162,
    "start_time": "2022-03-19T16:25:45.446Z"
   },
   {
    "duration": 13,
    "start_time": "2022-03-19T16:25:45.610Z"
   },
   {
    "duration": 5,
    "start_time": "2022-03-19T16:25:45.631Z"
   },
   {
    "duration": 17,
    "start_time": "2022-03-19T16:25:45.637Z"
   },
   {
    "duration": 12,
    "start_time": "2022-03-19T16:25:45.656Z"
   },
   {
    "duration": 5,
    "start_time": "2022-03-19T16:25:45.670Z"
   },
   {
    "duration": 7,
    "start_time": "2022-03-19T16:25:45.676Z"
   },
   {
    "duration": 160,
    "start_time": "2022-03-19T16:25:45.687Z"
   },
   {
    "duration": 12,
    "start_time": "2022-03-19T16:25:45.848Z"
   },
   {
    "duration": 7,
    "start_time": "2022-03-19T16:25:45.861Z"
   },
   {
    "duration": 10,
    "start_time": "2022-03-19T16:25:45.870Z"
   },
   {
    "duration": 9,
    "start_time": "2022-03-19T16:25:45.882Z"
   },
   {
    "duration": 40,
    "start_time": "2022-03-19T16:25:45.892Z"
   },
   {
    "duration": 13,
    "start_time": "2022-03-19T16:25:45.934Z"
   },
   {
    "duration": 8,
    "start_time": "2022-03-19T16:25:45.949Z"
   },
   {
    "duration": 7,
    "start_time": "2022-03-19T16:25:45.959Z"
   },
   {
    "duration": 533,
    "start_time": "2022-03-19T16:25:45.968Z"
   },
   {
    "duration": 29,
    "start_time": "2022-03-19T16:25:46.503Z"
   },
   {
    "duration": 22,
    "start_time": "2022-03-19T16:25:46.533Z"
   },
   {
    "duration": 18,
    "start_time": "2022-03-19T16:25:46.556Z"
   },
   {
    "duration": 19,
    "start_time": "2022-03-19T16:25:46.575Z"
   },
   {
    "duration": 48,
    "start_time": "2022-03-19T16:25:46.596Z"
   },
   {
    "duration": 21,
    "start_time": "2022-03-19T16:25:46.646Z"
   },
   {
    "duration": 4,
    "start_time": "2022-03-19T16:25:46.669Z"
   },
   {
    "duration": 17,
    "start_time": "2022-03-19T16:25:46.675Z"
   },
   {
    "duration": 116,
    "start_time": "2022-03-19T16:27:55.585Z"
   },
   {
    "duration": 26,
    "start_time": "2022-03-19T16:28:29.792Z"
   },
   {
    "duration": 473,
    "start_time": "2022-03-19T16:30:07.187Z"
   },
   {
    "duration": 3050,
    "start_time": "2022-03-19T16:31:12.970Z"
   },
   {
    "duration": 3253,
    "start_time": "2022-03-19T16:31:55.743Z"
   },
   {
    "duration": 14,
    "start_time": "2022-03-19T16:34:45.422Z"
   },
   {
    "duration": 252,
    "start_time": "2022-03-19T16:37:36.815Z"
   },
   {
    "duration": 292,
    "start_time": "2022-03-19T16:38:15.066Z"
   },
   {
    "duration": 36,
    "start_time": "2022-03-19T20:39:22.385Z"
   },
   {
    "duration": 2039,
    "start_time": "2022-03-19T20:40:22.981Z"
   },
   {
    "duration": 40,
    "start_time": "2022-03-19T20:40:25.023Z"
   },
   {
    "duration": 171,
    "start_time": "2022-03-19T20:40:25.065Z"
   },
   {
    "duration": 14,
    "start_time": "2022-03-19T20:40:25.237Z"
   },
   {
    "duration": 5,
    "start_time": "2022-03-19T20:40:25.255Z"
   },
   {
    "duration": 17,
    "start_time": "2022-03-19T20:40:25.262Z"
   },
   {
    "duration": 19,
    "start_time": "2022-03-19T20:40:25.281Z"
   },
   {
    "duration": 9,
    "start_time": "2022-03-19T20:40:25.301Z"
   },
   {
    "duration": 24,
    "start_time": "2022-03-19T20:40:25.311Z"
   },
   {
    "duration": 142,
    "start_time": "2022-03-19T20:40:25.336Z"
   },
   {
    "duration": 10,
    "start_time": "2022-03-19T20:40:25.480Z"
   },
   {
    "duration": 11,
    "start_time": "2022-03-19T20:40:25.491Z"
   },
   {
    "duration": 28,
    "start_time": "2022-03-19T20:40:25.504Z"
   },
   {
    "duration": 11,
    "start_time": "2022-03-19T20:40:25.535Z"
   },
   {
    "duration": 37,
    "start_time": "2022-03-19T20:40:25.548Z"
   },
   {
    "duration": 52,
    "start_time": "2022-03-19T20:40:25.586Z"
   },
   {
    "duration": 20,
    "start_time": "2022-03-19T20:40:25.640Z"
   },
   {
    "duration": 29,
    "start_time": "2022-03-19T20:40:25.662Z"
   },
   {
    "duration": 548,
    "start_time": "2022-03-19T20:40:25.693Z"
   },
   {
    "duration": 16,
    "start_time": "2022-03-19T20:40:26.243Z"
   },
   {
    "duration": 30,
    "start_time": "2022-03-19T20:40:26.260Z"
   },
   {
    "duration": 17,
    "start_time": "2022-03-19T20:40:26.292Z"
   },
   {
    "duration": 37,
    "start_time": "2022-03-19T20:40:26.311Z"
   },
   {
    "duration": 23,
    "start_time": "2022-03-19T20:40:26.350Z"
   },
   {
    "duration": 20,
    "start_time": "2022-03-19T20:40:26.375Z"
   },
   {
    "duration": 16,
    "start_time": "2022-03-19T20:40:26.397Z"
   },
   {
    "duration": 31,
    "start_time": "2022-03-19T20:40:26.415Z"
   },
   {
    "duration": 37,
    "start_time": "2022-03-19T20:40:26.448Z"
   },
   {
    "duration": 407,
    "start_time": "2022-03-19T20:40:26.486Z"
   },
   {
    "duration": 303,
    "start_time": "2022-03-19T20:40:26.895Z"
   },
   {
    "duration": 2018,
    "start_time": "2022-03-19T20:41:14.909Z"
   },
   {
    "duration": 38,
    "start_time": "2022-03-19T20:41:16.929Z"
   },
   {
    "duration": 166,
    "start_time": "2022-03-19T20:41:16.969Z"
   },
   {
    "duration": 12,
    "start_time": "2022-03-19T20:41:17.137Z"
   },
   {
    "duration": 13,
    "start_time": "2022-03-19T20:41:17.152Z"
   },
   {
    "duration": 23,
    "start_time": "2022-03-19T20:41:17.167Z"
   },
   {
    "duration": 27,
    "start_time": "2022-03-19T20:41:17.192Z"
   },
   {
    "duration": 21,
    "start_time": "2022-03-19T20:41:17.221Z"
   },
   {
    "duration": 22,
    "start_time": "2022-03-19T20:41:17.244Z"
   },
   {
    "duration": 156,
    "start_time": "2022-03-19T20:41:17.268Z"
   },
   {
    "duration": 11,
    "start_time": "2022-03-19T20:41:17.426Z"
   },
   {
    "duration": 21,
    "start_time": "2022-03-19T20:41:17.438Z"
   },
   {
    "duration": 20,
    "start_time": "2022-03-19T20:41:17.461Z"
   },
   {
    "duration": 22,
    "start_time": "2022-03-19T20:41:17.485Z"
   },
   {
    "duration": 37,
    "start_time": "2022-03-19T20:41:17.508Z"
   },
   {
    "duration": 22,
    "start_time": "2022-03-19T20:41:17.547Z"
   },
   {
    "duration": 23,
    "start_time": "2022-03-19T20:41:17.571Z"
   },
   {
    "duration": 18,
    "start_time": "2022-03-19T20:41:17.596Z"
   },
   {
    "duration": 544,
    "start_time": "2022-03-19T20:41:17.615Z"
   },
   {
    "duration": 19,
    "start_time": "2022-03-19T20:41:18.161Z"
   },
   {
    "duration": 22,
    "start_time": "2022-03-19T20:41:18.182Z"
   },
   {
    "duration": 37,
    "start_time": "2022-03-19T20:41:18.206Z"
   },
   {
    "duration": 30,
    "start_time": "2022-03-19T20:41:18.245Z"
   },
   {
    "duration": 17,
    "start_time": "2022-03-19T20:41:18.276Z"
   },
   {
    "duration": 42,
    "start_time": "2022-03-19T20:41:18.295Z"
   },
   {
    "duration": 4,
    "start_time": "2022-03-19T20:41:18.338Z"
   },
   {
    "duration": 15,
    "start_time": "2022-03-19T20:41:18.344Z"
   },
   {
    "duration": 26,
    "start_time": "2022-03-19T20:41:18.361Z"
   },
   {
    "duration": 422,
    "start_time": "2022-03-19T20:41:18.389Z"
   },
   {
    "duration": 467,
    "start_time": "2022-03-19T20:41:18.812Z"
   },
   {
    "duration": 772,
    "start_time": "2022-03-19T20:45:41.583Z"
   },
   {
    "duration": 542,
    "start_time": "2022-03-19T20:48:19.662Z"
   },
   {
    "duration": 834,
    "start_time": "2022-03-19T23:27:39.758Z"
   },
   {
    "duration": 177,
    "start_time": "2022-03-19T23:28:24.471Z"
   },
   {
    "duration": 501,
    "start_time": "2022-03-19T23:28:27.588Z"
   },
   {
    "duration": 519,
    "start_time": "2022-03-19T23:28:42.356Z"
   },
   {
    "duration": 110,
    "start_time": "2022-03-19T23:29:01.066Z"
   },
   {
    "duration": 499,
    "start_time": "2022-03-19T23:29:12.560Z"
   },
   {
    "duration": 289,
    "start_time": "2022-03-19T23:31:49.245Z"
   },
   {
    "duration": 1927,
    "start_time": "2022-03-19T23:32:34.280Z"
   },
   {
    "duration": 38,
    "start_time": "2022-03-19T23:32:36.209Z"
   },
   {
    "duration": 173,
    "start_time": "2022-03-19T23:32:36.249Z"
   },
   {
    "duration": 16,
    "start_time": "2022-03-19T23:32:36.424Z"
   },
   {
    "duration": 17,
    "start_time": "2022-03-19T23:32:36.442Z"
   },
   {
    "duration": 24,
    "start_time": "2022-03-19T23:32:36.461Z"
   },
   {
    "duration": 27,
    "start_time": "2022-03-19T23:32:36.487Z"
   },
   {
    "duration": 8,
    "start_time": "2022-03-19T23:32:36.516Z"
   },
   {
    "duration": 19,
    "start_time": "2022-03-19T23:32:36.526Z"
   },
   {
    "duration": 146,
    "start_time": "2022-03-19T23:32:36.546Z"
   },
   {
    "duration": 10,
    "start_time": "2022-03-19T23:32:36.694Z"
   },
   {
    "duration": 15,
    "start_time": "2022-03-19T23:32:36.705Z"
   },
   {
    "duration": 13,
    "start_time": "2022-03-19T23:32:36.722Z"
   },
   {
    "duration": 34,
    "start_time": "2022-03-19T23:32:36.738Z"
   },
   {
    "duration": 34,
    "start_time": "2022-03-19T23:32:36.775Z"
   },
   {
    "duration": 24,
    "start_time": "2022-03-19T23:32:36.811Z"
   },
   {
    "duration": 20,
    "start_time": "2022-03-19T23:32:36.837Z"
   },
   {
    "duration": 23,
    "start_time": "2022-03-19T23:32:36.859Z"
   },
   {
    "duration": 536,
    "start_time": "2022-03-19T23:32:36.884Z"
   },
   {
    "duration": 25,
    "start_time": "2022-03-19T23:32:37.422Z"
   },
   {
    "duration": 28,
    "start_time": "2022-03-19T23:32:37.448Z"
   },
   {
    "duration": 18,
    "start_time": "2022-03-19T23:32:37.478Z"
   },
   {
    "duration": 36,
    "start_time": "2022-03-19T23:32:37.497Z"
   },
   {
    "duration": 20,
    "start_time": "2022-03-19T23:32:37.535Z"
   },
   {
    "duration": 21,
    "start_time": "2022-03-19T23:32:37.558Z"
   },
   {
    "duration": 15,
    "start_time": "2022-03-19T23:32:37.581Z"
   },
   {
    "duration": 39,
    "start_time": "2022-03-19T23:32:37.598Z"
   },
   {
    "duration": 26,
    "start_time": "2022-03-19T23:32:37.639Z"
   },
   {
    "duration": 406,
    "start_time": "2022-03-19T23:32:37.667Z"
   },
   {
    "duration": 786,
    "start_time": "2022-03-19T23:32:38.075Z"
   },
   {
    "duration": 390,
    "start_time": "2022-03-19T23:32:38.863Z"
   },
   {
    "duration": 26,
    "start_time": "2022-03-19T23:33:49.164Z"
   },
   {
    "duration": 376,
    "start_time": "2022-03-19T23:34:07.522Z"
   },
   {
    "duration": 546,
    "start_time": "2022-03-19T23:34:38.209Z"
   },
   {
    "duration": 636,
    "start_time": "2022-03-19T23:42:33.714Z"
   },
   {
    "duration": 621,
    "start_time": "2022-03-19T23:43:43.121Z"
   },
   {
    "duration": 19,
    "start_time": "2022-03-19T23:53:34.431Z"
   },
   {
    "duration": 1890,
    "start_time": "2022-03-19T23:53:56.668Z"
   },
   {
    "duration": 39,
    "start_time": "2022-03-19T23:53:58.560Z"
   },
   {
    "duration": 172,
    "start_time": "2022-03-19T23:53:58.600Z"
   },
   {
    "duration": 14,
    "start_time": "2022-03-19T23:53:58.774Z"
   },
   {
    "duration": 7,
    "start_time": "2022-03-19T23:53:58.790Z"
   },
   {
    "duration": 15,
    "start_time": "2022-03-19T23:53:58.799Z"
   },
   {
    "duration": 11,
    "start_time": "2022-03-19T23:53:58.831Z"
   },
   {
    "duration": 7,
    "start_time": "2022-03-19T23:53:58.844Z"
   },
   {
    "duration": 8,
    "start_time": "2022-03-19T23:53:58.853Z"
   },
   {
    "duration": 144,
    "start_time": "2022-03-19T23:53:58.863Z"
   },
   {
    "duration": 9,
    "start_time": "2022-03-19T23:53:59.009Z"
   },
   {
    "duration": 6,
    "start_time": "2022-03-19T23:53:59.031Z"
   },
   {
    "duration": 9,
    "start_time": "2022-03-19T23:53:59.039Z"
   },
   {
    "duration": 7,
    "start_time": "2022-03-19T23:53:59.052Z"
   },
   {
    "duration": 114,
    "start_time": "2022-03-19T23:53:59.060Z"
   },
   {
    "duration": 0,
    "start_time": "2022-03-19T23:53:59.176Z"
   },
   {
    "duration": 0,
    "start_time": "2022-03-19T23:53:59.177Z"
   },
   {
    "duration": 0,
    "start_time": "2022-03-19T23:53:59.178Z"
   },
   {
    "duration": 0,
    "start_time": "2022-03-19T23:53:59.179Z"
   },
   {
    "duration": 0,
    "start_time": "2022-03-19T23:53:59.181Z"
   },
   {
    "duration": 0,
    "start_time": "2022-03-19T23:53:59.182Z"
   },
   {
    "duration": 0,
    "start_time": "2022-03-19T23:53:59.183Z"
   },
   {
    "duration": 0,
    "start_time": "2022-03-19T23:53:59.184Z"
   },
   {
    "duration": 0,
    "start_time": "2022-03-19T23:53:59.185Z"
   },
   {
    "duration": 0,
    "start_time": "2022-03-19T23:53:59.186Z"
   },
   {
    "duration": 0,
    "start_time": "2022-03-19T23:53:59.187Z"
   },
   {
    "duration": 0,
    "start_time": "2022-03-19T23:53:59.188Z"
   },
   {
    "duration": 0,
    "start_time": "2022-03-19T23:53:59.189Z"
   },
   {
    "duration": 0,
    "start_time": "2022-03-19T23:53:59.190Z"
   },
   {
    "duration": 0,
    "start_time": "2022-03-19T23:53:59.191Z"
   },
   {
    "duration": 0,
    "start_time": "2022-03-19T23:53:59.192Z"
   },
   {
    "duration": 0,
    "start_time": "2022-03-19T23:53:59.193Z"
   },
   {
    "duration": 0,
    "start_time": "2022-03-19T23:53:59.231Z"
   },
   {
    "duration": 0,
    "start_time": "2022-03-19T23:53:59.233Z"
   },
   {
    "duration": 0,
    "start_time": "2022-03-19T23:53:59.234Z"
   },
   {
    "duration": 0,
    "start_time": "2022-03-19T23:53:59.235Z"
   },
   {
    "duration": 10,
    "start_time": "2022-03-20T00:06:10.700Z"
   },
   {
    "duration": 2972,
    "start_time": "2022-03-20T00:06:36.676Z"
   },
   {
    "duration": 8,
    "start_time": "2022-03-20T00:06:54.740Z"
   },
   {
    "duration": 14,
    "start_time": "2022-03-20T00:07:10.325Z"
   },
   {
    "duration": 187,
    "start_time": "2022-03-20T00:07:30.072Z"
   },
   {
    "duration": 180,
    "start_time": "2022-03-20T00:08:43.127Z"
   },
   {
    "duration": 180,
    "start_time": "2022-03-20T00:08:49.020Z"
   },
   {
    "duration": 142,
    "start_time": "2022-03-20T00:09:41.925Z"
   },
   {
    "duration": 146,
    "start_time": "2022-03-20T00:11:52.826Z"
   },
   {
    "duration": 1918,
    "start_time": "2022-03-20T00:18:27.380Z"
   },
   {
    "duration": 43,
    "start_time": "2022-03-20T00:18:29.300Z"
   },
   {
    "duration": 168,
    "start_time": "2022-03-20T00:18:29.344Z"
   },
   {
    "duration": 23,
    "start_time": "2022-03-20T00:18:29.513Z"
   },
   {
    "duration": 4,
    "start_time": "2022-03-20T00:18:29.539Z"
   },
   {
    "duration": 21,
    "start_time": "2022-03-20T00:18:29.544Z"
   },
   {
    "duration": 17,
    "start_time": "2022-03-20T00:18:29.567Z"
   },
   {
    "duration": 5,
    "start_time": "2022-03-20T00:18:29.585Z"
   },
   {
    "duration": 8,
    "start_time": "2022-03-20T00:18:29.591Z"
   },
   {
    "duration": 150,
    "start_time": "2022-03-20T00:18:29.601Z"
   },
   {
    "duration": 10,
    "start_time": "2022-03-20T00:18:29.753Z"
   },
   {
    "duration": 6,
    "start_time": "2022-03-20T00:18:29.765Z"
   },
   {
    "duration": 11,
    "start_time": "2022-03-20T00:18:29.772Z"
   },
   {
    "duration": 10,
    "start_time": "2022-03-20T00:18:29.786Z"
   },
   {
    "duration": 35,
    "start_time": "2022-03-20T00:18:29.797Z"
   },
   {
    "duration": 15,
    "start_time": "2022-03-20T00:18:29.834Z"
   },
   {
    "duration": 9,
    "start_time": "2022-03-20T00:18:29.850Z"
   },
   {
    "duration": 7,
    "start_time": "2022-03-20T00:18:29.861Z"
   },
   {
    "duration": 542,
    "start_time": "2022-03-20T00:18:29.870Z"
   },
   {
    "duration": 28,
    "start_time": "2022-03-20T00:18:30.414Z"
   },
   {
    "duration": 21,
    "start_time": "2022-03-20T00:18:30.443Z"
   },
   {
    "duration": 18,
    "start_time": "2022-03-20T00:18:30.466Z"
   },
   {
    "duration": 19,
    "start_time": "2022-03-20T00:18:30.487Z"
   },
   {
    "duration": 20,
    "start_time": "2022-03-20T00:18:30.532Z"
   },
   {
    "duration": 23,
    "start_time": "2022-03-20T00:18:30.554Z"
   },
   {
    "duration": 5,
    "start_time": "2022-03-20T00:18:30.578Z"
   },
   {
    "duration": 20,
    "start_time": "2022-03-20T00:18:30.584Z"
   },
   {
    "duration": 27,
    "start_time": "2022-03-20T00:18:30.632Z"
   },
   {
    "duration": 400,
    "start_time": "2022-03-20T00:18:30.661Z"
   },
   {
    "duration": 8,
    "start_time": "2022-03-20T00:18:31.063Z"
   },
   {
    "duration": 27,
    "start_time": "2022-03-20T00:18:31.073Z"
   },
   {
    "duration": 160,
    "start_time": "2022-03-20T00:18:31.102Z"
   },
   {
    "duration": 107,
    "start_time": "2022-03-20T00:18:31.264Z"
   },
   {
    "duration": 0,
    "start_time": "2022-03-20T00:18:31.372Z"
   },
   {
    "duration": 0,
    "start_time": "2022-03-20T00:18:31.374Z"
   },
   {
    "duration": 0,
    "start_time": "2022-03-20T00:18:31.375Z"
   },
   {
    "duration": 0,
    "start_time": "2022-03-20T00:18:31.376Z"
   },
   {
    "duration": 0,
    "start_time": "2022-03-20T00:18:31.377Z"
   },
   {
    "duration": 0,
    "start_time": "2022-03-20T00:18:31.378Z"
   },
   {
    "duration": 0,
    "start_time": "2022-03-20T00:18:31.380Z"
   },
   {
    "duration": 53,
    "start_time": "2022-03-20T00:20:05.522Z"
   },
   {
    "duration": 10,
    "start_time": "2022-03-20T00:20:32.086Z"
   },
   {
    "duration": 48,
    "start_time": "2022-03-20T00:20:36.173Z"
   },
   {
    "duration": 47,
    "start_time": "2022-03-20T00:23:32.357Z"
   },
   {
    "duration": 9,
    "start_time": "2022-03-20T00:23:42.432Z"
   },
   {
    "duration": 1970,
    "start_time": "2022-03-20T00:25:40.644Z"
   },
   {
    "duration": 38,
    "start_time": "2022-03-20T00:25:42.616Z"
   },
   {
    "duration": 160,
    "start_time": "2022-03-20T00:25:42.656Z"
   },
   {
    "duration": 17,
    "start_time": "2022-03-20T00:25:42.818Z"
   },
   {
    "duration": 4,
    "start_time": "2022-03-20T00:25:42.837Z"
   },
   {
    "duration": 18,
    "start_time": "2022-03-20T00:25:42.843Z"
   },
   {
    "duration": 15,
    "start_time": "2022-03-20T00:25:42.863Z"
   },
   {
    "duration": 6,
    "start_time": "2022-03-20T00:25:42.879Z"
   },
   {
    "duration": 9,
    "start_time": "2022-03-20T00:25:42.887Z"
   },
   {
    "duration": 154,
    "start_time": "2022-03-20T00:25:42.899Z"
   },
   {
    "duration": 10,
    "start_time": "2022-03-20T00:25:43.054Z"
   },
   {
    "duration": 22,
    "start_time": "2022-03-20T00:25:43.066Z"
   },
   {
    "duration": 23,
    "start_time": "2022-03-20T00:25:43.090Z"
   },
   {
    "duration": 23,
    "start_time": "2022-03-20T00:25:43.115Z"
   },
   {
    "duration": 12,
    "start_time": "2022-03-20T00:25:43.140Z"
   },
   {
    "duration": 24,
    "start_time": "2022-03-20T00:25:43.154Z"
   },
   {
    "duration": 7,
    "start_time": "2022-03-20T00:25:43.180Z"
   },
   {
    "duration": 7,
    "start_time": "2022-03-20T00:25:43.188Z"
   },
   {
    "duration": 534,
    "start_time": "2022-03-20T00:25:43.197Z"
   },
   {
    "duration": 18,
    "start_time": "2022-03-20T00:25:43.732Z"
   },
   {
    "duration": 21,
    "start_time": "2022-03-20T00:25:43.751Z"
   },
   {
    "duration": 18,
    "start_time": "2022-03-20T00:25:43.774Z"
   },
   {
    "duration": 46,
    "start_time": "2022-03-20T00:25:43.794Z"
   },
   {
    "duration": 18,
    "start_time": "2022-03-20T00:25:43.842Z"
   },
   {
    "duration": 27,
    "start_time": "2022-03-20T00:25:43.862Z"
   },
   {
    "duration": 8,
    "start_time": "2022-03-20T00:25:43.891Z"
   },
   {
    "duration": 39,
    "start_time": "2022-03-20T00:25:43.901Z"
   },
   {
    "duration": 26,
    "start_time": "2022-03-20T00:25:43.943Z"
   },
   {
    "duration": 398,
    "start_time": "2022-03-20T00:25:43.971Z"
   },
   {
    "duration": 9,
    "start_time": "2022-03-20T00:25:44.371Z"
   },
   {
    "duration": 29,
    "start_time": "2022-03-20T00:25:44.381Z"
   },
   {
    "duration": 159,
    "start_time": "2022-03-20T00:25:44.412Z"
   },
   {
    "duration": 149,
    "start_time": "2022-03-20T00:25:44.573Z"
   },
   {
    "duration": 0,
    "start_time": "2022-03-20T00:25:44.724Z"
   },
   {
    "duration": 0,
    "start_time": "2022-03-20T00:25:44.726Z"
   },
   {
    "duration": 0,
    "start_time": "2022-03-20T00:25:44.727Z"
   },
   {
    "duration": 0,
    "start_time": "2022-03-20T00:25:44.731Z"
   },
   {
    "duration": 0,
    "start_time": "2022-03-20T00:25:44.733Z"
   },
   {
    "duration": 0,
    "start_time": "2022-03-20T00:25:44.734Z"
   },
   {
    "duration": 0,
    "start_time": "2022-03-20T00:25:44.735Z"
   },
   {
    "duration": 0,
    "start_time": "2022-03-20T00:25:44.736Z"
   },
   {
    "duration": 36,
    "start_time": "2022-03-20T00:28:12.160Z"
   },
   {
    "duration": 2003,
    "start_time": "2022-03-20T00:28:39.799Z"
   },
   {
    "duration": 42,
    "start_time": "2022-03-20T00:28:41.804Z"
   },
   {
    "duration": 175,
    "start_time": "2022-03-20T00:28:41.848Z"
   },
   {
    "duration": 14,
    "start_time": "2022-03-20T00:28:42.025Z"
   },
   {
    "duration": 5,
    "start_time": "2022-03-20T00:28:42.040Z"
   },
   {
    "duration": 17,
    "start_time": "2022-03-20T00:28:42.046Z"
   },
   {
    "duration": 13,
    "start_time": "2022-03-20T00:28:42.064Z"
   },
   {
    "duration": 9,
    "start_time": "2022-03-20T00:28:42.079Z"
   },
   {
    "duration": 9,
    "start_time": "2022-03-20T00:28:42.090Z"
   },
   {
    "duration": 152,
    "start_time": "2022-03-20T00:28:42.102Z"
   },
   {
    "duration": 10,
    "start_time": "2022-03-20T00:28:42.256Z"
   },
   {
    "duration": 5,
    "start_time": "2022-03-20T00:28:42.268Z"
   },
   {
    "duration": 10,
    "start_time": "2022-03-20T00:28:42.275Z"
   },
   {
    "duration": 10,
    "start_time": "2022-03-20T00:28:42.287Z"
   },
   {
    "duration": 38,
    "start_time": "2022-03-20T00:28:42.299Z"
   },
   {
    "duration": 13,
    "start_time": "2022-03-20T00:28:42.339Z"
   },
   {
    "duration": 9,
    "start_time": "2022-03-20T00:28:42.353Z"
   },
   {
    "duration": 6,
    "start_time": "2022-03-20T00:28:42.364Z"
   },
   {
    "duration": 536,
    "start_time": "2022-03-20T00:28:42.372Z"
   },
   {
    "duration": 23,
    "start_time": "2022-03-20T00:28:42.909Z"
   },
   {
    "duration": 21,
    "start_time": "2022-03-20T00:28:42.934Z"
   },
   {
    "duration": 18,
    "start_time": "2022-03-20T00:28:42.956Z"
   },
   {
    "duration": 19,
    "start_time": "2022-03-20T00:28:42.976Z"
   },
   {
    "duration": 53,
    "start_time": "2022-03-20T00:28:42.996Z"
   },
   {
    "duration": 22,
    "start_time": "2022-03-20T00:28:43.050Z"
   },
   {
    "duration": 4,
    "start_time": "2022-03-20T00:28:43.073Z"
   },
   {
    "duration": 20,
    "start_time": "2022-03-20T00:28:43.079Z"
   },
   {
    "duration": 49,
    "start_time": "2022-03-20T00:28:43.103Z"
   },
   {
    "duration": 404,
    "start_time": "2022-03-20T00:28:43.154Z"
   },
   {
    "duration": 8,
    "start_time": "2022-03-20T00:28:43.560Z"
   },
   {
    "duration": 15,
    "start_time": "2022-03-20T00:28:43.570Z"
   },
   {
    "duration": 170,
    "start_time": "2022-03-20T00:28:43.587Z"
   },
   {
    "duration": 82,
    "start_time": "2022-03-20T00:28:43.759Z"
   },
   {
    "duration": 147,
    "start_time": "2022-03-20T00:28:43.842Z"
   },
   {
    "duration": 0,
    "start_time": "2022-03-20T00:28:43.991Z"
   },
   {
    "duration": 0,
    "start_time": "2022-03-20T00:28:43.992Z"
   },
   {
    "duration": 0,
    "start_time": "2022-03-20T00:28:43.993Z"
   },
   {
    "duration": 0,
    "start_time": "2022-03-20T00:28:43.994Z"
   },
   {
    "duration": 0,
    "start_time": "2022-03-20T00:28:43.995Z"
   },
   {
    "duration": 0,
    "start_time": "2022-03-20T00:28:43.996Z"
   },
   {
    "duration": 0,
    "start_time": "2022-03-20T00:28:43.997Z"
   },
   {
    "duration": 0,
    "start_time": "2022-03-20T00:28:43.999Z"
   },
   {
    "duration": 36,
    "start_time": "2022-03-20T00:29:12.968Z"
   },
   {
    "duration": 73,
    "start_time": "2022-03-20T00:29:21.972Z"
   },
   {
    "duration": 37,
    "start_time": "2022-03-20T00:29:24.053Z"
   },
   {
    "duration": 31,
    "start_time": "2022-03-20T00:29:34.828Z"
   },
   {
    "duration": 29,
    "start_time": "2022-03-20T00:29:36.903Z"
   },
   {
    "duration": 47,
    "start_time": "2022-03-20T00:29:41.415Z"
   },
   {
    "duration": 2032,
    "start_time": "2022-03-20T00:37:02.097Z"
   },
   {
    "duration": 37,
    "start_time": "2022-03-20T00:37:04.131Z"
   },
   {
    "duration": 171,
    "start_time": "2022-03-20T00:37:04.169Z"
   },
   {
    "duration": 13,
    "start_time": "2022-03-20T00:37:04.342Z"
   },
   {
    "duration": 5,
    "start_time": "2022-03-20T00:37:04.357Z"
   },
   {
    "duration": 17,
    "start_time": "2022-03-20T00:37:04.364Z"
   },
   {
    "duration": 18,
    "start_time": "2022-03-20T00:37:04.383Z"
   },
   {
    "duration": 30,
    "start_time": "2022-03-20T00:37:04.402Z"
   },
   {
    "duration": 5,
    "start_time": "2022-03-20T00:37:04.434Z"
   },
   {
    "duration": 147,
    "start_time": "2022-03-20T00:37:04.443Z"
   },
   {
    "duration": 10,
    "start_time": "2022-03-20T00:37:04.591Z"
   },
   {
    "duration": 5,
    "start_time": "2022-03-20T00:37:04.603Z"
   },
   {
    "duration": 27,
    "start_time": "2022-03-20T00:37:04.610Z"
   },
   {
    "duration": 13,
    "start_time": "2022-03-20T00:37:04.639Z"
   },
   {
    "duration": 9,
    "start_time": "2022-03-20T00:37:04.653Z"
   },
   {
    "duration": 22,
    "start_time": "2022-03-20T00:37:04.664Z"
   },
   {
    "duration": 16,
    "start_time": "2022-03-20T00:37:04.687Z"
   },
   {
    "duration": 8,
    "start_time": "2022-03-20T00:37:04.705Z"
   },
   {
    "duration": 554,
    "start_time": "2022-03-20T00:37:04.715Z"
   },
   {
    "duration": 18,
    "start_time": "2022-03-20T00:37:05.271Z"
   },
   {
    "duration": 21,
    "start_time": "2022-03-20T00:37:05.291Z"
   },
   {
    "duration": 19,
    "start_time": "2022-03-20T00:37:05.332Z"
   },
   {
    "duration": 26,
    "start_time": "2022-03-20T00:37:05.353Z"
   },
   {
    "duration": 21,
    "start_time": "2022-03-20T00:37:05.381Z"
   },
   {
    "duration": 21,
    "start_time": "2022-03-20T00:37:05.431Z"
   },
   {
    "duration": 4,
    "start_time": "2022-03-20T00:37:05.454Z"
   },
   {
    "duration": 33,
    "start_time": "2022-03-20T00:37:05.459Z"
   },
   {
    "duration": 36,
    "start_time": "2022-03-20T00:37:05.495Z"
   },
   {
    "duration": 403,
    "start_time": "2022-03-20T00:37:05.533Z"
   },
   {
    "duration": 9,
    "start_time": "2022-03-20T00:37:05.937Z"
   },
   {
    "duration": 18,
    "start_time": "2022-03-20T00:37:05.948Z"
   },
   {
    "duration": 164,
    "start_time": "2022-03-20T00:37:05.968Z"
   },
   {
    "duration": 172,
    "start_time": "2022-03-20T00:37:06.134Z"
   },
   {
    "duration": 0,
    "start_time": "2022-03-20T00:37:06.307Z"
   },
   {
    "duration": 0,
    "start_time": "2022-03-20T00:37:06.309Z"
   },
   {
    "duration": 0,
    "start_time": "2022-03-20T00:37:06.310Z"
   },
   {
    "duration": 0,
    "start_time": "2022-03-20T00:37:06.311Z"
   },
   {
    "duration": 0,
    "start_time": "2022-03-20T00:37:06.312Z"
   },
   {
    "duration": 0,
    "start_time": "2022-03-20T00:37:06.313Z"
   },
   {
    "duration": 0,
    "start_time": "2022-03-20T00:37:06.314Z"
   },
   {
    "duration": 0,
    "start_time": "2022-03-20T00:37:06.331Z"
   },
   {
    "duration": 568,
    "start_time": "2022-03-20T00:38:07.893Z"
   },
   {
    "duration": 43,
    "start_time": "2022-03-20T00:38:21.553Z"
   },
   {
    "duration": 24,
    "start_time": "2022-03-20T00:39:06.644Z"
   },
   {
    "duration": 44,
    "start_time": "2022-03-20T00:49:29.925Z"
   },
   {
    "duration": 743,
    "start_time": "2022-03-20T00:49:53.796Z"
   },
   {
    "duration": 994,
    "start_time": "2022-03-20T00:50:14.766Z"
   },
   {
    "duration": 8,
    "start_time": "2022-03-20T00:50:43.373Z"
   },
   {
    "duration": 12,
    "start_time": "2022-03-20T00:50:55.077Z"
   },
   {
    "duration": 4,
    "start_time": "2022-03-20T00:51:51.339Z"
   },
   {
    "duration": 36,
    "start_time": "2022-03-20T00:52:12.024Z"
   },
   {
    "duration": 1970,
    "start_time": "2022-03-20T00:52:23.900Z"
   },
   {
    "duration": 36,
    "start_time": "2022-03-20T00:52:25.872Z"
   },
   {
    "duration": 178,
    "start_time": "2022-03-20T00:52:25.910Z"
   },
   {
    "duration": 12,
    "start_time": "2022-03-20T00:52:26.091Z"
   },
   {
    "duration": 21,
    "start_time": "2022-03-20T00:52:26.105Z"
   },
   {
    "duration": 26,
    "start_time": "2022-03-20T00:52:26.128Z"
   },
   {
    "duration": 34,
    "start_time": "2022-03-20T00:52:26.156Z"
   },
   {
    "duration": 22,
    "start_time": "2022-03-20T00:52:26.192Z"
   },
   {
    "duration": 27,
    "start_time": "2022-03-20T00:52:26.216Z"
   },
   {
    "duration": 155,
    "start_time": "2022-03-20T00:52:26.246Z"
   },
   {
    "duration": 10,
    "start_time": "2022-03-20T00:52:26.403Z"
   },
   {
    "duration": 21,
    "start_time": "2022-03-20T00:52:26.414Z"
   },
   {
    "duration": 17,
    "start_time": "2022-03-20T00:52:26.437Z"
   },
   {
    "duration": 42,
    "start_time": "2022-03-20T00:52:26.456Z"
   },
   {
    "duration": 31,
    "start_time": "2022-03-20T00:52:26.500Z"
   },
   {
    "duration": 36,
    "start_time": "2022-03-20T00:52:26.532Z"
   },
   {
    "duration": 34,
    "start_time": "2022-03-20T00:52:26.570Z"
   },
   {
    "duration": 19,
    "start_time": "2022-03-20T00:52:26.606Z"
   },
   {
    "duration": 587,
    "start_time": "2022-03-20T00:52:26.626Z"
   },
   {
    "duration": 19,
    "start_time": "2022-03-20T00:52:27.215Z"
   },
   {
    "duration": 15,
    "start_time": "2022-03-20T00:52:27.236Z"
   },
   {
    "duration": 29,
    "start_time": "2022-03-20T00:52:27.253Z"
   },
   {
    "duration": 32,
    "start_time": "2022-03-20T00:52:27.284Z"
   },
   {
    "duration": 19,
    "start_time": "2022-03-20T00:52:27.318Z"
   },
   {
    "duration": 29,
    "start_time": "2022-03-20T00:52:27.339Z"
   },
   {
    "duration": 10,
    "start_time": "2022-03-20T00:52:27.370Z"
   },
   {
    "duration": 30,
    "start_time": "2022-03-20T00:52:27.382Z"
   },
   {
    "duration": 22,
    "start_time": "2022-03-20T00:52:27.415Z"
   },
   {
    "duration": 318,
    "start_time": "2022-03-20T00:52:27.439Z"
   },
   {
    "duration": 10,
    "start_time": "2022-03-20T00:52:27.759Z"
   },
   {
    "duration": 22,
    "start_time": "2022-03-20T00:52:27.771Z"
   },
   {
    "duration": 164,
    "start_time": "2022-03-20T00:52:27.795Z"
   },
   {
    "duration": 5,
    "start_time": "2022-03-20T00:52:27.961Z"
   },
   {
    "duration": 141,
    "start_time": "2022-03-20T00:52:27.968Z"
   },
   {
    "duration": 0,
    "start_time": "2022-03-20T00:52:28.111Z"
   },
   {
    "duration": 0,
    "start_time": "2022-03-20T00:52:28.113Z"
   },
   {
    "duration": 0,
    "start_time": "2022-03-20T00:52:28.114Z"
   },
   {
    "duration": 0,
    "start_time": "2022-03-20T00:52:28.116Z"
   },
   {
    "duration": 0,
    "start_time": "2022-03-20T00:52:28.117Z"
   },
   {
    "duration": 0,
    "start_time": "2022-03-20T00:52:28.118Z"
   },
   {
    "duration": 0,
    "start_time": "2022-03-20T00:52:28.119Z"
   },
   {
    "duration": 0,
    "start_time": "2022-03-20T00:52:28.132Z"
   },
   {
    "duration": 41,
    "start_time": "2022-03-20T00:53:28.198Z"
   },
   {
    "duration": 40,
    "start_time": "2022-03-20T00:53:33.564Z"
   },
   {
    "duration": 4,
    "start_time": "2022-03-20T00:56:04.178Z"
   },
   {
    "duration": 41,
    "start_time": "2022-03-20T00:56:08.131Z"
   },
   {
    "duration": 468,
    "start_time": "2022-03-20T00:58:04.530Z"
   },
   {
    "duration": 40,
    "start_time": "2022-03-20T00:58:08.908Z"
   },
   {
    "duration": 449,
    "start_time": "2022-03-20T00:59:06.856Z"
   },
   {
    "duration": 367,
    "start_time": "2022-03-20T00:59:32.495Z"
   },
   {
    "duration": 42,
    "start_time": "2022-03-20T00:59:38.948Z"
   },
   {
    "duration": 61,
    "start_time": "2022-03-20T00:59:52.154Z"
   },
   {
    "duration": 517,
    "start_time": "2022-03-20T01:00:47.502Z"
   },
   {
    "duration": 195,
    "start_time": "2022-03-20T01:00:56.851Z"
   },
   {
    "duration": 10,
    "start_time": "2022-03-20T01:01:10.887Z"
   },
   {
    "duration": 552,
    "start_time": "2022-03-20T01:01:35.540Z"
   },
   {
    "duration": 859,
    "start_time": "2022-03-20T01:01:47.014Z"
   },
   {
    "duration": 197,
    "start_time": "2022-03-20T01:06:08.991Z"
   },
   {
    "duration": 1994,
    "start_time": "2022-03-20T01:07:32.097Z"
   },
   {
    "duration": 41,
    "start_time": "2022-03-20T01:07:34.094Z"
   },
   {
    "duration": 169,
    "start_time": "2022-03-20T01:07:34.137Z"
   },
   {
    "duration": 12,
    "start_time": "2022-03-20T01:07:34.309Z"
   },
   {
    "duration": 5,
    "start_time": "2022-03-20T01:07:34.331Z"
   },
   {
    "duration": 37,
    "start_time": "2022-03-20T01:07:34.337Z"
   },
   {
    "duration": 19,
    "start_time": "2022-03-20T01:07:34.376Z"
   },
   {
    "duration": 19,
    "start_time": "2022-03-20T01:07:34.396Z"
   },
   {
    "duration": 9,
    "start_time": "2022-03-20T01:07:34.417Z"
   },
   {
    "duration": 137,
    "start_time": "2022-03-20T01:07:34.429Z"
   },
   {
    "duration": 10,
    "start_time": "2022-03-20T01:07:34.568Z"
   },
   {
    "duration": 6,
    "start_time": "2022-03-20T01:07:34.581Z"
   },
   {
    "duration": 19,
    "start_time": "2022-03-20T01:07:34.588Z"
   },
   {
    "duration": 23,
    "start_time": "2022-03-20T01:07:34.609Z"
   },
   {
    "duration": 23,
    "start_time": "2022-03-20T01:07:34.634Z"
   },
   {
    "duration": 37,
    "start_time": "2022-03-20T01:07:34.659Z"
   },
   {
    "duration": 37,
    "start_time": "2022-03-20T01:07:34.698Z"
   },
   {
    "duration": 24,
    "start_time": "2022-03-20T01:07:34.737Z"
   },
   {
    "duration": 595,
    "start_time": "2022-03-20T01:07:34.763Z"
   },
   {
    "duration": 15,
    "start_time": "2022-03-20T01:07:35.360Z"
   },
   {
    "duration": 20,
    "start_time": "2022-03-20T01:07:35.377Z"
   },
   {
    "duration": 33,
    "start_time": "2022-03-20T01:07:35.399Z"
   },
   {
    "duration": 25,
    "start_time": "2022-03-20T01:07:35.433Z"
   },
   {
    "duration": 18,
    "start_time": "2022-03-20T01:07:35.460Z"
   },
   {
    "duration": 18,
    "start_time": "2022-03-20T01:07:35.480Z"
   },
   {
    "duration": 4,
    "start_time": "2022-03-20T01:07:35.500Z"
   },
   {
    "duration": 34,
    "start_time": "2022-03-20T01:07:35.505Z"
   },
   {
    "duration": 34,
    "start_time": "2022-03-20T01:07:35.542Z"
   },
   {
    "duration": 337,
    "start_time": "2022-03-20T01:07:35.578Z"
   },
   {
    "duration": 17,
    "start_time": "2022-03-20T01:07:35.917Z"
   },
   {
    "duration": 32,
    "start_time": "2022-03-20T01:07:35.936Z"
   },
   {
    "duration": 154,
    "start_time": "2022-03-20T01:07:35.970Z"
   },
   {
    "duration": 534,
    "start_time": "2022-03-20T01:07:36.126Z"
   },
   {
    "duration": 307,
    "start_time": "2022-03-20T01:07:36.662Z"
   },
   {
    "duration": 0,
    "start_time": "2022-03-20T01:07:36.971Z"
   },
   {
    "duration": 0,
    "start_time": "2022-03-20T01:07:36.972Z"
   },
   {
    "duration": 0,
    "start_time": "2022-03-20T01:07:36.974Z"
   },
   {
    "duration": 0,
    "start_time": "2022-03-20T01:07:36.975Z"
   },
   {
    "duration": 0,
    "start_time": "2022-03-20T01:07:36.976Z"
   },
   {
    "duration": 0,
    "start_time": "2022-03-20T01:07:36.977Z"
   },
   {
    "duration": 0,
    "start_time": "2022-03-20T01:07:36.978Z"
   },
   {
    "duration": 1,
    "start_time": "2022-03-20T01:07:36.979Z"
   },
   {
    "duration": 0,
    "start_time": "2022-03-20T01:07:36.980Z"
   },
   {
    "duration": 0,
    "start_time": "2022-03-20T01:07:36.981Z"
   },
   {
    "duration": 10,
    "start_time": "2022-03-20T01:09:07.064Z"
   },
   {
    "duration": 1994,
    "start_time": "2022-04-02T15:05:22.160Z"
   },
   {
    "duration": 34,
    "start_time": "2022-04-02T15:05:24.156Z"
   },
   {
    "duration": 149,
    "start_time": "2022-04-02T15:05:24.192Z"
   },
   {
    "duration": 14,
    "start_time": "2022-04-02T15:05:24.343Z"
   },
   {
    "duration": 7,
    "start_time": "2022-04-02T15:05:24.358Z"
   },
   {
    "duration": 13,
    "start_time": "2022-04-02T15:05:24.367Z"
   },
   {
    "duration": 14,
    "start_time": "2022-04-02T15:05:24.381Z"
   },
   {
    "duration": 3,
    "start_time": "2022-04-02T15:05:24.397Z"
   },
   {
    "duration": 6,
    "start_time": "2022-04-02T15:05:24.402Z"
   },
   {
    "duration": 158,
    "start_time": "2022-04-02T15:05:24.411Z"
   },
   {
    "duration": 10,
    "start_time": "2022-04-02T15:05:24.570Z"
   },
   {
    "duration": 5,
    "start_time": "2022-04-02T15:05:24.582Z"
   },
   {
    "duration": 6,
    "start_time": "2022-04-02T15:05:24.589Z"
   },
   {
    "duration": 10,
    "start_time": "2022-04-02T15:05:24.597Z"
   },
   {
    "duration": 32,
    "start_time": "2022-04-02T15:05:24.608Z"
   },
   {
    "duration": 9,
    "start_time": "2022-04-02T15:05:24.642Z"
   },
   {
    "duration": 14,
    "start_time": "2022-04-02T15:05:24.653Z"
   },
   {
    "duration": 7,
    "start_time": "2022-04-02T15:05:24.668Z"
   },
   {
    "duration": 539,
    "start_time": "2022-04-02T15:05:24.676Z"
   },
   {
    "duration": 22,
    "start_time": "2022-04-02T15:05:25.216Z"
   },
   {
    "duration": 17,
    "start_time": "2022-04-02T15:05:25.240Z"
   },
   {
    "duration": 18,
    "start_time": "2022-04-02T15:05:25.259Z"
   },
   {
    "duration": 15,
    "start_time": "2022-04-02T15:05:25.280Z"
   },
   {
    "duration": 41,
    "start_time": "2022-04-02T15:05:25.297Z"
   },
   {
    "duration": 17,
    "start_time": "2022-04-02T15:05:25.340Z"
   },
   {
    "duration": 4,
    "start_time": "2022-04-02T15:05:25.359Z"
   },
   {
    "duration": 15,
    "start_time": "2022-04-02T15:05:25.365Z"
   },
   {
    "duration": 21,
    "start_time": "2022-04-02T15:05:25.383Z"
   },
   {
    "duration": 360,
    "start_time": "2022-04-02T15:05:25.406Z"
   },
   {
    "duration": 9,
    "start_time": "2022-04-02T15:05:25.768Z"
   },
   {
    "duration": 18,
    "start_time": "2022-04-02T15:05:25.779Z"
   },
   {
    "duration": 129,
    "start_time": "2022-04-02T15:05:25.799Z"
   },
   {
    "duration": 566,
    "start_time": "2022-04-02T15:05:25.930Z"
   },
   {
    "duration": 103,
    "start_time": "2022-04-02T15:05:26.498Z"
   },
   {
    "duration": 0,
    "start_time": "2022-04-02T15:05:26.602Z"
   },
   {
    "duration": 0,
    "start_time": "2022-04-02T15:05:26.604Z"
   },
   {
    "duration": 0,
    "start_time": "2022-04-02T15:05:26.605Z"
   },
   {
    "duration": 0,
    "start_time": "2022-04-02T15:05:26.606Z"
   },
   {
    "duration": 0,
    "start_time": "2022-04-02T15:05:26.607Z"
   },
   {
    "duration": 0,
    "start_time": "2022-04-02T15:05:26.608Z"
   },
   {
    "duration": 0,
    "start_time": "2022-04-02T15:05:26.609Z"
   },
   {
    "duration": 0,
    "start_time": "2022-04-02T15:05:26.610Z"
   },
   {
    "duration": 0,
    "start_time": "2022-04-02T15:05:26.611Z"
   },
   {
    "duration": 0,
    "start_time": "2022-04-02T15:05:26.612Z"
   },
   {
    "duration": 1793,
    "start_time": "2022-04-02T15:22:46.822Z"
   },
   {
    "duration": 36,
    "start_time": "2022-04-02T15:22:48.617Z"
   },
   {
    "duration": 145,
    "start_time": "2022-04-02T15:22:48.654Z"
   },
   {
    "duration": 13,
    "start_time": "2022-04-02T15:22:48.802Z"
   },
   {
    "duration": 5,
    "start_time": "2022-04-02T15:22:48.816Z"
   },
   {
    "duration": 24,
    "start_time": "2022-04-02T15:22:48.822Z"
   },
   {
    "duration": 11,
    "start_time": "2022-04-02T15:22:48.848Z"
   },
   {
    "duration": 5,
    "start_time": "2022-04-02T15:22:48.861Z"
   },
   {
    "duration": 9,
    "start_time": "2022-04-02T15:22:48.868Z"
   },
   {
    "duration": 149,
    "start_time": "2022-04-02T15:22:48.879Z"
   },
   {
    "duration": 10,
    "start_time": "2022-04-02T15:22:49.030Z"
   },
   {
    "duration": 6,
    "start_time": "2022-04-02T15:22:49.041Z"
   },
   {
    "duration": 6,
    "start_time": "2022-04-02T15:22:49.049Z"
   },
   {
    "duration": 9,
    "start_time": "2022-04-02T15:22:49.057Z"
   },
   {
    "duration": 8,
    "start_time": "2022-04-02T15:22:49.068Z"
   },
   {
    "duration": 10,
    "start_time": "2022-04-02T15:22:49.077Z"
   },
   {
    "duration": 12,
    "start_time": "2022-04-02T15:22:49.088Z"
   },
   {
    "duration": 41,
    "start_time": "2022-04-02T15:22:49.101Z"
   },
   {
    "duration": 516,
    "start_time": "2022-04-02T15:22:49.144Z"
   },
   {
    "duration": 13,
    "start_time": "2022-04-02T15:22:49.662Z"
   },
   {
    "duration": 14,
    "start_time": "2022-04-02T15:22:49.676Z"
   },
   {
    "duration": 12,
    "start_time": "2022-04-02T15:22:49.692Z"
   },
   {
    "duration": 40,
    "start_time": "2022-04-02T15:22:49.706Z"
   },
   {
    "duration": 14,
    "start_time": "2022-04-02T15:22:49.747Z"
   },
   {
    "duration": 16,
    "start_time": "2022-04-02T15:22:49.762Z"
   },
   {
    "duration": 4,
    "start_time": "2022-04-02T15:22:49.780Z"
   },
   {
    "duration": 19,
    "start_time": "2022-04-02T15:22:49.785Z"
   },
   {
    "duration": 49,
    "start_time": "2022-04-02T15:22:49.807Z"
   },
   {
    "duration": 320,
    "start_time": "2022-04-02T15:22:49.858Z"
   },
   {
    "duration": 8,
    "start_time": "2022-04-02T15:22:50.180Z"
   },
   {
    "duration": 15,
    "start_time": "2022-04-02T15:22:50.189Z"
   },
   {
    "duration": 131,
    "start_time": "2022-04-02T15:22:50.206Z"
   },
   {
    "duration": 465,
    "start_time": "2022-04-02T15:22:50.339Z"
   },
   {
    "duration": 457,
    "start_time": "2022-04-02T15:22:50.805Z"
   },
   {
    "duration": 789,
    "start_time": "2022-04-02T15:22:51.264Z"
   },
   {
    "duration": 694,
    "start_time": "2022-04-02T15:22:52.054Z"
   },
   {
    "duration": 446,
    "start_time": "2022-04-02T15:22:52.750Z"
   },
   {
    "duration": 417,
    "start_time": "2022-04-02T15:22:53.198Z"
   },
   {
    "duration": 531,
    "start_time": "2022-04-02T15:22:53.617Z"
   },
   {
    "duration": 24,
    "start_time": "2022-04-02T15:22:54.150Z"
   },
   {
    "duration": 384,
    "start_time": "2022-04-02T15:22:54.176Z"
   },
   {
    "duration": 341,
    "start_time": "2022-04-02T15:22:54.562Z"
   },
   {
    "duration": 463,
    "start_time": "2022-04-02T15:22:54.904Z"
   },
   {
    "duration": 111,
    "start_time": "2022-04-02T15:22:55.369Z"
   },
   {
    "duration": 1804,
    "start_time": "2022-04-02T15:29:31.149Z"
   },
   {
    "duration": 35,
    "start_time": "2022-04-02T15:29:32.955Z"
   },
   {
    "duration": 154,
    "start_time": "2022-04-02T15:29:32.992Z"
   },
   {
    "duration": 12,
    "start_time": "2022-04-02T15:29:33.148Z"
   },
   {
    "duration": 12,
    "start_time": "2022-04-02T15:29:33.163Z"
   },
   {
    "duration": 13,
    "start_time": "2022-04-02T15:29:33.177Z"
   },
   {
    "duration": 15,
    "start_time": "2022-04-02T15:29:33.192Z"
   },
   {
    "duration": 9,
    "start_time": "2022-04-02T15:29:33.208Z"
   },
   {
    "duration": 11,
    "start_time": "2022-04-02T15:29:33.218Z"
   },
   {
    "duration": 135,
    "start_time": "2022-04-02T15:29:33.230Z"
   },
   {
    "duration": 9,
    "start_time": "2022-04-02T15:29:33.366Z"
   },
   {
    "duration": 7,
    "start_time": "2022-04-02T15:29:33.377Z"
   },
   {
    "duration": 6,
    "start_time": "2022-04-02T15:29:33.385Z"
   },
   {
    "duration": 9,
    "start_time": "2022-04-02T15:29:33.394Z"
   },
   {
    "duration": 33,
    "start_time": "2022-04-02T15:29:33.405Z"
   },
   {
    "duration": 9,
    "start_time": "2022-04-02T15:29:33.440Z"
   },
   {
    "duration": 12,
    "start_time": "2022-04-02T15:29:33.450Z"
   },
   {
    "duration": 6,
    "start_time": "2022-04-02T15:29:33.463Z"
   },
   {
    "duration": 524,
    "start_time": "2022-04-02T15:29:33.470Z"
   },
   {
    "duration": 13,
    "start_time": "2022-04-02T15:29:33.996Z"
   },
   {
    "duration": 29,
    "start_time": "2022-04-02T15:29:34.011Z"
   },
   {
    "duration": 14,
    "start_time": "2022-04-02T15:29:34.042Z"
   },
   {
    "duration": 16,
    "start_time": "2022-04-02T15:29:34.058Z"
   },
   {
    "duration": 13,
    "start_time": "2022-04-02T15:29:34.075Z"
   },
   {
    "duration": 49,
    "start_time": "2022-04-02T15:29:34.090Z"
   },
   {
    "duration": 4,
    "start_time": "2022-04-02T15:29:34.141Z"
   },
   {
    "duration": 17,
    "start_time": "2022-04-02T15:29:34.147Z"
   },
   {
    "duration": 23,
    "start_time": "2022-04-02T15:29:34.166Z"
   },
   {
    "duration": 351,
    "start_time": "2022-04-02T15:29:34.191Z"
   },
   {
    "duration": 9,
    "start_time": "2022-04-02T15:29:34.544Z"
   },
   {
    "duration": 13,
    "start_time": "2022-04-02T15:29:34.555Z"
   },
   {
    "duration": 143,
    "start_time": "2022-04-02T15:29:34.569Z"
   },
   {
    "duration": 507,
    "start_time": "2022-04-02T15:29:34.713Z"
   },
   {
    "duration": 458,
    "start_time": "2022-04-02T15:29:35.221Z"
   },
   {
    "duration": 794,
    "start_time": "2022-04-02T15:29:35.681Z"
   },
   {
    "duration": 689,
    "start_time": "2022-04-02T15:29:36.476Z"
   },
   {
    "duration": 439,
    "start_time": "2022-04-02T15:29:37.167Z"
   },
   {
    "duration": 424,
    "start_time": "2022-04-02T15:29:37.608Z"
   },
   {
    "duration": 522,
    "start_time": "2022-04-02T15:29:38.038Z"
   },
   {
    "duration": 26,
    "start_time": "2022-04-02T15:29:38.562Z"
   },
   {
    "duration": 367,
    "start_time": "2022-04-02T15:29:38.592Z"
   },
   {
    "duration": 348,
    "start_time": "2022-04-02T15:29:38.961Z"
   },
   {
    "duration": 465,
    "start_time": "2022-04-02T15:29:39.310Z"
   },
   {
    "duration": 101,
    "start_time": "2022-04-02T15:29:39.776Z"
   },
   {
    "duration": 0,
    "start_time": "2022-04-02T15:29:39.878Z"
   },
   {
    "duration": 10,
    "start_time": "2022-04-02T15:36:08.660Z"
   },
   {
    "duration": 292,
    "start_time": "2022-04-02T15:36:49.417Z"
   },
   {
    "duration": 1896,
    "start_time": "2022-04-02T15:38:44.105Z"
   },
   {
    "duration": 45,
    "start_time": "2022-04-02T15:38:46.004Z"
   },
   {
    "duration": 159,
    "start_time": "2022-04-02T15:38:46.051Z"
   },
   {
    "duration": 13,
    "start_time": "2022-04-02T15:38:46.213Z"
   },
   {
    "duration": 4,
    "start_time": "2022-04-02T15:38:46.238Z"
   },
   {
    "duration": 14,
    "start_time": "2022-04-02T15:38:46.244Z"
   },
   {
    "duration": 27,
    "start_time": "2022-04-02T15:38:46.260Z"
   },
   {
    "duration": 9,
    "start_time": "2022-04-02T15:38:46.288Z"
   },
   {
    "duration": 7,
    "start_time": "2022-04-02T15:38:46.299Z"
   },
   {
    "duration": 151,
    "start_time": "2022-04-02T15:38:46.309Z"
   },
   {
    "duration": 11,
    "start_time": "2022-04-02T15:38:46.462Z"
   },
   {
    "duration": 6,
    "start_time": "2022-04-02T15:38:46.474Z"
   },
   {
    "duration": 7,
    "start_time": "2022-04-02T15:38:46.482Z"
   },
   {
    "duration": 12,
    "start_time": "2022-04-02T15:38:46.491Z"
   },
   {
    "duration": 36,
    "start_time": "2022-04-02T15:38:46.505Z"
   },
   {
    "duration": 11,
    "start_time": "2022-04-02T15:38:46.543Z"
   },
   {
    "duration": 112,
    "start_time": "2022-04-02T15:38:46.555Z"
   },
   {
    "duration": 0,
    "start_time": "2022-04-02T15:38:46.669Z"
   },
   {
    "duration": 0,
    "start_time": "2022-04-02T15:38:46.671Z"
   },
   {
    "duration": 0,
    "start_time": "2022-04-02T15:38:46.672Z"
   },
   {
    "duration": 0,
    "start_time": "2022-04-02T15:38:46.673Z"
   },
   {
    "duration": 0,
    "start_time": "2022-04-02T15:38:46.674Z"
   },
   {
    "duration": 0,
    "start_time": "2022-04-02T15:38:46.675Z"
   },
   {
    "duration": 0,
    "start_time": "2022-04-02T15:38:46.676Z"
   },
   {
    "duration": 0,
    "start_time": "2022-04-02T15:38:46.677Z"
   },
   {
    "duration": 0,
    "start_time": "2022-04-02T15:38:46.678Z"
   },
   {
    "duration": 0,
    "start_time": "2022-04-02T15:38:46.679Z"
   },
   {
    "duration": 0,
    "start_time": "2022-04-02T15:38:46.680Z"
   },
   {
    "duration": 0,
    "start_time": "2022-04-02T15:38:46.681Z"
   },
   {
    "duration": 0,
    "start_time": "2022-04-02T15:38:46.683Z"
   },
   {
    "duration": 0,
    "start_time": "2022-04-02T15:38:46.683Z"
   },
   {
    "duration": 0,
    "start_time": "2022-04-02T15:38:46.684Z"
   },
   {
    "duration": 0,
    "start_time": "2022-04-02T15:38:46.685Z"
   },
   {
    "duration": 0,
    "start_time": "2022-04-02T15:38:46.687Z"
   },
   {
    "duration": 0,
    "start_time": "2022-04-02T15:38:46.688Z"
   },
   {
    "duration": 0,
    "start_time": "2022-04-02T15:38:46.690Z"
   },
   {
    "duration": 0,
    "start_time": "2022-04-02T15:38:46.691Z"
   },
   {
    "duration": 0,
    "start_time": "2022-04-02T15:38:46.692Z"
   },
   {
    "duration": 0,
    "start_time": "2022-04-02T15:38:46.693Z"
   },
   {
    "duration": 0,
    "start_time": "2022-04-02T15:38:46.694Z"
   },
   {
    "duration": 0,
    "start_time": "2022-04-02T15:38:46.696Z"
   },
   {
    "duration": 0,
    "start_time": "2022-04-02T15:38:46.738Z"
   },
   {
    "duration": 0,
    "start_time": "2022-04-02T15:38:46.739Z"
   },
   {
    "duration": 0,
    "start_time": "2022-04-02T15:38:46.741Z"
   },
   {
    "duration": 0,
    "start_time": "2022-04-02T15:38:46.742Z"
   },
   {
    "duration": 1938,
    "start_time": "2022-04-02T15:39:43.950Z"
   },
   {
    "duration": 39,
    "start_time": "2022-04-02T15:39:45.891Z"
   },
   {
    "duration": 179,
    "start_time": "2022-04-02T15:39:45.931Z"
   },
   {
    "duration": 13,
    "start_time": "2022-04-02T15:39:46.113Z"
   },
   {
    "duration": 4,
    "start_time": "2022-04-02T15:39:46.138Z"
   },
   {
    "duration": 15,
    "start_time": "2022-04-02T15:39:46.144Z"
   },
   {
    "duration": 13,
    "start_time": "2022-04-02T15:39:46.161Z"
   },
   {
    "duration": 7,
    "start_time": "2022-04-02T15:39:46.175Z"
   },
   {
    "duration": 9,
    "start_time": "2022-04-02T15:39:46.184Z"
   },
   {
    "duration": 167,
    "start_time": "2022-04-02T15:39:46.196Z"
   },
   {
    "duration": 10,
    "start_time": "2022-04-02T15:39:46.365Z"
   },
   {
    "duration": 7,
    "start_time": "2022-04-02T15:39:46.376Z"
   },
   {
    "duration": 8,
    "start_time": "2022-04-02T15:39:46.384Z"
   },
   {
    "duration": 13,
    "start_time": "2022-04-02T15:39:46.394Z"
   },
   {
    "duration": 31,
    "start_time": "2022-04-02T15:39:46.409Z"
   },
   {
    "duration": 10,
    "start_time": "2022-04-02T15:39:46.442Z"
   },
   {
    "duration": 9,
    "start_time": "2022-04-02T15:39:46.454Z"
   },
   {
    "duration": 15,
    "start_time": "2022-04-02T15:39:46.465Z"
   },
   {
    "duration": 8,
    "start_time": "2022-04-02T15:39:46.481Z"
   },
   {
    "duration": 578,
    "start_time": "2022-04-02T15:39:46.491Z"
   },
   {
    "duration": 13,
    "start_time": "2022-04-02T15:39:47.071Z"
   },
   {
    "duration": 17,
    "start_time": "2022-04-02T15:39:47.086Z"
   },
   {
    "duration": 36,
    "start_time": "2022-04-02T15:39:47.104Z"
   },
   {
    "duration": 15,
    "start_time": "2022-04-02T15:39:47.141Z"
   },
   {
    "duration": 14,
    "start_time": "2022-04-02T15:39:47.158Z"
   },
   {
    "duration": 16,
    "start_time": "2022-04-02T15:39:47.173Z"
   },
   {
    "duration": 5,
    "start_time": "2022-04-02T15:39:47.190Z"
   },
   {
    "duration": 48,
    "start_time": "2022-04-02T15:39:47.198Z"
   },
   {
    "duration": 28,
    "start_time": "2022-04-02T15:39:47.248Z"
   },
   {
    "duration": 340,
    "start_time": "2022-04-02T15:39:47.278Z"
   },
   {
    "duration": 9,
    "start_time": "2022-04-02T15:39:47.619Z"
   },
   {
    "duration": 17,
    "start_time": "2022-04-02T15:39:47.629Z"
   },
   {
    "duration": 137,
    "start_time": "2022-04-02T15:39:47.647Z"
   },
   {
    "duration": 534,
    "start_time": "2022-04-02T15:39:47.785Z"
   },
   {
    "duration": 471,
    "start_time": "2022-04-02T15:39:48.321Z"
   },
   {
    "duration": 790,
    "start_time": "2022-04-02T15:39:48.794Z"
   },
   {
    "duration": 694,
    "start_time": "2022-04-02T15:39:49.586Z"
   },
   {
    "duration": 444,
    "start_time": "2022-04-02T15:39:50.282Z"
   },
   {
    "duration": 433,
    "start_time": "2022-04-02T15:39:50.727Z"
   },
   {
    "duration": 536,
    "start_time": "2022-04-02T15:39:51.162Z"
   },
   {
    "duration": 38,
    "start_time": "2022-04-02T15:39:51.699Z"
   },
   {
    "duration": 334,
    "start_time": "2022-04-02T15:39:51.739Z"
   },
   {
    "duration": 357,
    "start_time": "2022-04-02T15:39:52.075Z"
   },
   {
    "duration": 516,
    "start_time": "2022-04-02T15:39:52.437Z"
   },
   {
    "duration": 407,
    "start_time": "2022-04-02T15:39:52.955Z"
   },
   {
    "duration": 313,
    "start_time": "2022-04-02T15:40:14.661Z"
   },
   {
    "duration": 308,
    "start_time": "2022-04-02T15:40:31.101Z"
   },
   {
    "duration": 316,
    "start_time": "2022-04-02T15:42:18.351Z"
   },
   {
    "duration": 1917,
    "start_time": "2022-04-02T15:42:27.395Z"
   },
   {
    "duration": 38,
    "start_time": "2022-04-02T15:42:29.315Z"
   },
   {
    "duration": 152,
    "start_time": "2022-04-02T15:42:29.355Z"
   },
   {
    "duration": 12,
    "start_time": "2022-04-02T15:42:29.510Z"
   },
   {
    "duration": 17,
    "start_time": "2022-04-02T15:42:29.523Z"
   },
   {
    "duration": 14,
    "start_time": "2022-04-02T15:42:29.542Z"
   },
   {
    "duration": 11,
    "start_time": "2022-04-02T15:42:29.558Z"
   },
   {
    "duration": 3,
    "start_time": "2022-04-02T15:42:29.571Z"
   },
   {
    "duration": 7,
    "start_time": "2022-04-02T15:42:29.575Z"
   },
   {
    "duration": 142,
    "start_time": "2022-04-02T15:42:29.585Z"
   },
   {
    "duration": 14,
    "start_time": "2022-04-02T15:42:29.728Z"
   },
   {
    "duration": 6,
    "start_time": "2022-04-02T15:42:29.744Z"
   },
   {
    "duration": 6,
    "start_time": "2022-04-02T15:42:29.751Z"
   },
   {
    "duration": 10,
    "start_time": "2022-04-02T15:42:29.759Z"
   },
   {
    "duration": 11,
    "start_time": "2022-04-02T15:42:29.771Z"
   },
   {
    "duration": 10,
    "start_time": "2022-04-02T15:42:29.783Z"
   },
   {
    "duration": 7,
    "start_time": "2022-04-02T15:42:29.795Z"
   },
   {
    "duration": 34,
    "start_time": "2022-04-02T15:42:29.804Z"
   },
   {
    "duration": 7,
    "start_time": "2022-04-02T15:42:29.840Z"
   },
   {
    "duration": 544,
    "start_time": "2022-04-02T15:42:29.848Z"
   },
   {
    "duration": 14,
    "start_time": "2022-04-02T15:42:30.394Z"
   },
   {
    "duration": 39,
    "start_time": "2022-04-02T15:42:30.409Z"
   },
   {
    "duration": 13,
    "start_time": "2022-04-02T15:42:30.450Z"
   },
   {
    "duration": 27,
    "start_time": "2022-04-02T15:42:30.465Z"
   },
   {
    "duration": 15,
    "start_time": "2022-04-02T15:42:30.494Z"
   },
   {
    "duration": 25,
    "start_time": "2022-04-02T15:42:30.510Z"
   },
   {
    "duration": 5,
    "start_time": "2022-04-02T15:42:30.537Z"
   },
   {
    "duration": 31,
    "start_time": "2022-04-02T15:42:30.545Z"
   },
   {
    "duration": 46,
    "start_time": "2022-04-02T15:42:30.578Z"
   },
   {
    "duration": 336,
    "start_time": "2022-04-02T15:42:30.626Z"
   },
   {
    "duration": 9,
    "start_time": "2022-04-02T15:42:30.964Z"
   },
   {
    "duration": 30,
    "start_time": "2022-04-02T15:42:30.975Z"
   },
   {
    "duration": 163,
    "start_time": "2022-04-02T15:42:31.007Z"
   },
   {
    "duration": 531,
    "start_time": "2022-04-02T15:42:31.171Z"
   },
   {
    "duration": 474,
    "start_time": "2022-04-02T15:42:31.704Z"
   },
   {
    "duration": 789,
    "start_time": "2022-04-02T15:42:32.180Z"
   },
   {
    "duration": 708,
    "start_time": "2022-04-02T15:42:32.971Z"
   },
   {
    "duration": 465,
    "start_time": "2022-04-02T15:42:33.681Z"
   },
   {
    "duration": 445,
    "start_time": "2022-04-02T15:42:34.149Z"
   },
   {
    "duration": 545,
    "start_time": "2022-04-02T15:42:34.596Z"
   },
   {
    "duration": 27,
    "start_time": "2022-04-02T15:42:35.143Z"
   },
   {
    "duration": 387,
    "start_time": "2022-04-02T15:42:35.172Z"
   },
   {
    "duration": 356,
    "start_time": "2022-04-02T15:42:35.561Z"
   },
   {
    "duration": 489,
    "start_time": "2022-04-02T15:42:35.919Z"
   },
   {
    "duration": 406,
    "start_time": "2022-04-02T15:42:36.410Z"
   },
   {
    "duration": 784,
    "start_time": "2022-04-02T15:44:40.690Z"
   },
   {
    "duration": 1841,
    "start_time": "2022-04-02T15:55:55.641Z"
   },
   {
    "duration": 39,
    "start_time": "2022-04-02T15:55:57.484Z"
   },
   {
    "duration": 160,
    "start_time": "2022-04-02T15:55:57.524Z"
   },
   {
    "duration": 14,
    "start_time": "2022-04-02T15:55:57.687Z"
   },
   {
    "duration": 4,
    "start_time": "2022-04-02T15:55:57.703Z"
   },
   {
    "duration": 31,
    "start_time": "2022-04-02T15:55:57.709Z"
   },
   {
    "duration": 11,
    "start_time": "2022-04-02T15:55:57.742Z"
   },
   {
    "duration": 6,
    "start_time": "2022-04-02T15:55:57.755Z"
   },
   {
    "duration": 12,
    "start_time": "2022-04-02T15:55:57.762Z"
   },
   {
    "duration": 160,
    "start_time": "2022-04-02T15:55:57.778Z"
   },
   {
    "duration": 10,
    "start_time": "2022-04-02T15:55:57.940Z"
   },
   {
    "duration": 5,
    "start_time": "2022-04-02T15:55:57.952Z"
   },
   {
    "duration": 6,
    "start_time": "2022-04-02T15:55:57.959Z"
   },
   {
    "duration": 10,
    "start_time": "2022-04-02T15:55:57.967Z"
   },
   {
    "duration": 9,
    "start_time": "2022-04-02T15:55:57.979Z"
   },
   {
    "duration": 14,
    "start_time": "2022-04-02T15:55:57.990Z"
   },
   {
    "duration": 32,
    "start_time": "2022-04-02T15:55:58.006Z"
   },
   {
    "duration": 9,
    "start_time": "2022-04-02T15:55:58.040Z"
   },
   {
    "duration": 8,
    "start_time": "2022-04-02T15:55:58.050Z"
   },
   {
    "duration": 10,
    "start_time": "2022-04-02T15:55:58.060Z"
   },
   {
    "duration": 11,
    "start_time": "2022-04-02T15:55:58.072Z"
   },
   {
    "duration": 8,
    "start_time": "2022-04-02T15:55:58.085Z"
   },
   {
    "duration": 560,
    "start_time": "2022-04-02T15:55:58.095Z"
   },
   {
    "duration": 13,
    "start_time": "2022-04-02T15:55:58.657Z"
   },
   {
    "duration": 15,
    "start_time": "2022-04-02T15:55:58.672Z"
   },
   {
    "duration": 13,
    "start_time": "2022-04-02T15:55:58.688Z"
   },
   {
    "duration": 41,
    "start_time": "2022-04-02T15:55:58.703Z"
   },
   {
    "duration": 13,
    "start_time": "2022-04-02T15:55:58.748Z"
   },
   {
    "duration": 17,
    "start_time": "2022-04-02T15:55:58.763Z"
   },
   {
    "duration": 4,
    "start_time": "2022-04-02T15:55:58.782Z"
   },
   {
    "duration": 16,
    "start_time": "2022-04-02T15:55:58.787Z"
   },
   {
    "duration": 53,
    "start_time": "2022-04-02T15:55:58.805Z"
   },
   {
    "duration": 326,
    "start_time": "2022-04-02T15:55:58.860Z"
   },
   {
    "duration": 8,
    "start_time": "2022-04-02T15:55:59.188Z"
   },
   {
    "duration": 14,
    "start_time": "2022-04-02T15:55:59.198Z"
   },
   {
    "duration": 133,
    "start_time": "2022-04-02T15:55:59.214Z"
   },
   {
    "duration": 475,
    "start_time": "2022-04-02T15:55:59.348Z"
   },
   {
    "duration": 474,
    "start_time": "2022-04-02T15:55:59.825Z"
   },
   {
    "duration": 774,
    "start_time": "2022-04-02T15:56:00.300Z"
   },
   {
    "duration": 718,
    "start_time": "2022-04-02T15:56:01.075Z"
   },
   {
    "duration": 473,
    "start_time": "2022-04-02T15:56:01.795Z"
   },
   {
    "duration": 434,
    "start_time": "2022-04-02T15:56:02.269Z"
   },
   {
    "duration": 573,
    "start_time": "2022-04-02T15:56:02.706Z"
   },
   {
    "duration": 26,
    "start_time": "2022-04-02T15:56:03.281Z"
   },
   {
    "duration": 360,
    "start_time": "2022-04-02T15:56:03.308Z"
   },
   {
    "duration": 354,
    "start_time": "2022-04-02T15:56:03.669Z"
   },
   {
    "duration": 475,
    "start_time": "2022-04-02T15:56:04.025Z"
   },
   {
    "duration": 1345,
    "start_time": "2022-04-02T15:56:04.502Z"
   },
   {
    "duration": 1836,
    "start_time": "2022-04-02T16:01:45.459Z"
   },
   {
    "duration": 38,
    "start_time": "2022-04-02T16:01:47.296Z"
   },
   {
    "duration": 152,
    "start_time": "2022-04-02T16:01:47.337Z"
   },
   {
    "duration": 12,
    "start_time": "2022-04-02T16:01:47.491Z"
   },
   {
    "duration": 5,
    "start_time": "2022-04-02T16:01:47.504Z"
   },
   {
    "duration": 28,
    "start_time": "2022-04-02T16:01:47.510Z"
   },
   {
    "duration": 11,
    "start_time": "2022-04-02T16:01:47.540Z"
   },
   {
    "duration": 5,
    "start_time": "2022-04-02T16:01:47.553Z"
   },
   {
    "duration": 11,
    "start_time": "2022-04-02T16:01:47.560Z"
   },
   {
    "duration": 144,
    "start_time": "2022-04-02T16:01:47.573Z"
   },
   {
    "duration": 10,
    "start_time": "2022-04-02T16:01:47.718Z"
   },
   {
    "duration": 7,
    "start_time": "2022-04-02T16:01:47.737Z"
   },
   {
    "duration": 7,
    "start_time": "2022-04-02T16:01:47.746Z"
   },
   {
    "duration": 8,
    "start_time": "2022-04-02T16:01:47.755Z"
   },
   {
    "duration": 8,
    "start_time": "2022-04-02T16:01:47.764Z"
   },
   {
    "duration": 9,
    "start_time": "2022-04-02T16:01:47.774Z"
   },
   {
    "duration": 7,
    "start_time": "2022-04-02T16:01:47.785Z"
   },
   {
    "duration": 9,
    "start_time": "2022-04-02T16:01:47.793Z"
   },
   {
    "duration": 35,
    "start_time": "2022-04-02T16:01:47.804Z"
   },
   {
    "duration": 10,
    "start_time": "2022-04-02T16:01:47.841Z"
   },
   {
    "duration": 12,
    "start_time": "2022-04-02T16:01:47.852Z"
   },
   {
    "duration": 6,
    "start_time": "2022-04-02T16:01:47.866Z"
   },
   {
    "duration": 530,
    "start_time": "2022-04-02T16:01:47.873Z"
   },
   {
    "duration": 14,
    "start_time": "2022-04-02T16:01:48.405Z"
   },
   {
    "duration": 25,
    "start_time": "2022-04-02T16:01:48.420Z"
   },
   {
    "duration": 13,
    "start_time": "2022-04-02T16:01:48.446Z"
   },
   {
    "duration": 16,
    "start_time": "2022-04-02T16:01:48.461Z"
   },
   {
    "duration": 14,
    "start_time": "2022-04-02T16:01:48.481Z"
   },
   {
    "duration": 49,
    "start_time": "2022-04-02T16:01:48.497Z"
   },
   {
    "duration": 4,
    "start_time": "2022-04-02T16:01:48.548Z"
   },
   {
    "duration": 16,
    "start_time": "2022-04-02T16:01:48.553Z"
   },
   {
    "duration": 21,
    "start_time": "2022-04-02T16:01:48.570Z"
   },
   {
    "duration": 345,
    "start_time": "2022-04-02T16:01:48.593Z"
   },
   {
    "duration": 8,
    "start_time": "2022-04-02T16:01:48.940Z"
   },
   {
    "duration": 15,
    "start_time": "2022-04-02T16:01:48.949Z"
   },
   {
    "duration": 143,
    "start_time": "2022-04-02T16:01:48.965Z"
   },
   {
    "duration": 493,
    "start_time": "2022-04-02T16:01:49.110Z"
   },
   {
    "duration": 448,
    "start_time": "2022-04-02T16:01:49.605Z"
   },
   {
    "duration": 782,
    "start_time": "2022-04-02T16:01:50.055Z"
   },
   {
    "duration": 711,
    "start_time": "2022-04-02T16:01:50.839Z"
   },
   {
    "duration": 435,
    "start_time": "2022-04-02T16:01:51.551Z"
   },
   {
    "duration": 409,
    "start_time": "2022-04-02T16:01:51.988Z"
   },
   {
    "duration": 534,
    "start_time": "2022-04-02T16:01:52.399Z"
   },
   {
    "duration": 25,
    "start_time": "2022-04-02T16:01:52.937Z"
   },
   {
    "duration": 381,
    "start_time": "2022-04-02T16:01:52.964Z"
   },
   {
    "duration": 344,
    "start_time": "2022-04-02T16:01:53.347Z"
   },
   {
    "duration": 470,
    "start_time": "2022-04-02T16:01:53.693Z"
   },
   {
    "duration": 1268,
    "start_time": "2022-04-02T16:01:54.165Z"
   },
   {
    "duration": 1827,
    "start_time": "2022-04-02T16:05:32.790Z"
   },
   {
    "duration": 38,
    "start_time": "2022-04-02T16:05:34.619Z"
   },
   {
    "duration": 156,
    "start_time": "2022-04-02T16:05:34.659Z"
   },
   {
    "duration": 12,
    "start_time": "2022-04-02T16:05:34.817Z"
   },
   {
    "duration": 13,
    "start_time": "2022-04-02T16:05:34.831Z"
   },
   {
    "duration": 19,
    "start_time": "2022-04-02T16:05:34.845Z"
   },
   {
    "duration": 11,
    "start_time": "2022-04-02T16:05:34.866Z"
   },
   {
    "duration": 9,
    "start_time": "2022-04-02T16:05:34.878Z"
   },
   {
    "duration": 8,
    "start_time": "2022-04-02T16:05:34.888Z"
   },
   {
    "duration": 144,
    "start_time": "2022-04-02T16:05:34.899Z"
   },
   {
    "duration": 10,
    "start_time": "2022-04-02T16:05:35.044Z"
   },
   {
    "duration": 6,
    "start_time": "2022-04-02T16:05:35.055Z"
   },
   {
    "duration": 6,
    "start_time": "2022-04-02T16:05:35.063Z"
   },
   {
    "duration": 9,
    "start_time": "2022-04-02T16:05:35.071Z"
   },
   {
    "duration": 10,
    "start_time": "2022-04-02T16:05:35.081Z"
   },
   {
    "duration": 9,
    "start_time": "2022-04-02T16:05:35.093Z"
   },
   {
    "duration": 34,
    "start_time": "2022-04-02T16:05:35.104Z"
   },
   {
    "duration": 9,
    "start_time": "2022-04-02T16:05:35.139Z"
   },
   {
    "duration": 9,
    "start_time": "2022-04-02T16:05:35.150Z"
   },
   {
    "duration": 10,
    "start_time": "2022-04-02T16:05:35.161Z"
   },
   {
    "duration": 15,
    "start_time": "2022-04-02T16:05:35.172Z"
   },
   {
    "duration": 6,
    "start_time": "2022-04-02T16:05:35.189Z"
   },
   {
    "duration": 551,
    "start_time": "2022-04-02T16:05:35.197Z"
   },
   {
    "duration": 13,
    "start_time": "2022-04-02T16:05:35.750Z"
   },
   {
    "duration": 15,
    "start_time": "2022-04-02T16:05:35.765Z"
   },
   {
    "duration": 16,
    "start_time": "2022-04-02T16:05:35.782Z"
   },
   {
    "duration": 39,
    "start_time": "2022-04-02T16:05:35.800Z"
   },
   {
    "duration": 15,
    "start_time": "2022-04-02T16:05:35.842Z"
   },
   {
    "duration": 16,
    "start_time": "2022-04-02T16:05:35.859Z"
   },
   {
    "duration": 4,
    "start_time": "2022-04-02T16:05:35.877Z"
   },
   {
    "duration": 22,
    "start_time": "2022-04-02T16:05:35.883Z"
   },
   {
    "duration": 51,
    "start_time": "2022-04-02T16:05:35.907Z"
   },
   {
    "duration": 338,
    "start_time": "2022-04-02T16:05:35.960Z"
   },
   {
    "duration": 9,
    "start_time": "2022-04-02T16:05:36.300Z"
   },
   {
    "duration": 15,
    "start_time": "2022-04-02T16:05:36.310Z"
   },
   {
    "duration": 132,
    "start_time": "2022-04-02T16:05:36.326Z"
   },
   {
    "duration": 532,
    "start_time": "2022-04-02T16:05:36.460Z"
   },
   {
    "duration": 457,
    "start_time": "2022-04-02T16:05:36.993Z"
   },
   {
    "duration": 792,
    "start_time": "2022-04-02T16:05:37.451Z"
   },
   {
    "duration": 709,
    "start_time": "2022-04-02T16:05:38.245Z"
   },
   {
    "duration": 456,
    "start_time": "2022-04-02T16:05:38.956Z"
   },
   {
    "duration": 440,
    "start_time": "2022-04-02T16:05:39.414Z"
   },
   {
    "duration": 546,
    "start_time": "2022-04-02T16:05:39.856Z"
   },
   {
    "duration": 23,
    "start_time": "2022-04-02T16:05:40.404Z"
   },
   {
    "duration": 350,
    "start_time": "2022-04-02T16:05:40.428Z"
   },
   {
    "duration": 350,
    "start_time": "2022-04-02T16:05:40.780Z"
   },
   {
    "duration": 470,
    "start_time": "2022-04-02T16:05:41.132Z"
   },
   {
    "duration": 1337,
    "start_time": "2022-04-02T16:05:41.604Z"
   },
   {
    "duration": 1936,
    "start_time": "2022-04-02T16:19:29.386Z"
   },
   {
    "duration": 39,
    "start_time": "2022-04-02T16:19:31.324Z"
   },
   {
    "duration": 175,
    "start_time": "2022-04-02T16:19:31.365Z"
   },
   {
    "duration": 14,
    "start_time": "2022-04-02T16:19:31.542Z"
   },
   {
    "duration": 11,
    "start_time": "2022-04-02T16:19:31.559Z"
   },
   {
    "duration": 36,
    "start_time": "2022-04-02T16:19:31.572Z"
   },
   {
    "duration": 27,
    "start_time": "2022-04-02T16:19:31.610Z"
   },
   {
    "duration": 29,
    "start_time": "2022-04-02T16:19:31.640Z"
   },
   {
    "duration": 28,
    "start_time": "2022-04-02T16:19:31.671Z"
   },
   {
    "duration": 170,
    "start_time": "2022-04-02T16:19:31.702Z"
   },
   {
    "duration": 10,
    "start_time": "2022-04-02T16:19:31.874Z"
   },
   {
    "duration": 15,
    "start_time": "2022-04-02T16:19:31.886Z"
   },
   {
    "duration": 16,
    "start_time": "2022-04-02T16:19:31.903Z"
   },
   {
    "duration": 26,
    "start_time": "2022-04-02T16:19:31.923Z"
   },
   {
    "duration": 24,
    "start_time": "2022-04-02T16:19:31.950Z"
   },
   {
    "duration": 35,
    "start_time": "2022-04-02T16:19:31.975Z"
   },
   {
    "duration": 32,
    "start_time": "2022-04-02T16:19:32.012Z"
   },
   {
    "duration": 18,
    "start_time": "2022-04-02T16:19:32.047Z"
   },
   {
    "duration": 22,
    "start_time": "2022-04-02T16:19:32.067Z"
   },
   {
    "duration": 35,
    "start_time": "2022-04-02T16:19:32.092Z"
   },
   {
    "duration": 61,
    "start_time": "2022-04-02T16:19:32.129Z"
   },
   {
    "duration": 38,
    "start_time": "2022-04-02T16:19:32.192Z"
   },
   {
    "duration": 605,
    "start_time": "2022-04-02T16:19:32.233Z"
   },
   {
    "duration": 14,
    "start_time": "2022-04-02T16:19:32.840Z"
   },
   {
    "duration": 22,
    "start_time": "2022-04-02T16:19:32.856Z"
   },
   {
    "duration": 14,
    "start_time": "2022-04-02T16:19:32.880Z"
   },
   {
    "duration": 17,
    "start_time": "2022-04-02T16:19:32.896Z"
   },
   {
    "duration": 16,
    "start_time": "2022-04-02T16:19:32.939Z"
   },
   {
    "duration": 17,
    "start_time": "2022-04-02T16:19:32.957Z"
   },
   {
    "duration": 4,
    "start_time": "2022-04-02T16:19:32.976Z"
   },
   {
    "duration": 20,
    "start_time": "2022-04-02T16:19:32.982Z"
   },
   {
    "duration": 66,
    "start_time": "2022-04-02T16:19:33.004Z"
   },
   {
    "duration": 350,
    "start_time": "2022-04-02T16:19:33.072Z"
   },
   {
    "duration": 9,
    "start_time": "2022-04-02T16:19:33.424Z"
   },
   {
    "duration": 15,
    "start_time": "2022-04-02T16:19:33.435Z"
   },
   {
    "duration": 149,
    "start_time": "2022-04-02T16:19:33.451Z"
   },
   {
    "duration": 3,
    "start_time": "2022-04-02T16:19:33.602Z"
   },
   {
    "duration": 1452,
    "start_time": "2022-04-02T16:19:33.606Z"
   },
   {
    "duration": 554,
    "start_time": "2022-04-02T16:19:35.060Z"
   },
   {
    "duration": 581,
    "start_time": "2022-04-02T16:19:35.616Z"
   },
   {
    "duration": 795,
    "start_time": "2022-04-02T16:19:36.201Z"
   },
   {
    "duration": 685,
    "start_time": "2022-04-02T16:19:36.998Z"
   },
   {
    "duration": 541,
    "start_time": "2022-04-02T16:19:37.685Z"
   },
   {
    "duration": 872,
    "start_time": "2022-04-02T16:19:38.228Z"
   },
   {
    "duration": 619,
    "start_time": "2022-04-02T16:19:39.101Z"
   },
   {
    "duration": 30,
    "start_time": "2022-04-02T16:19:39.722Z"
   },
   {
    "duration": 428,
    "start_time": "2022-04-02T16:19:39.754Z"
   },
   {
    "duration": 498,
    "start_time": "2022-04-02T16:19:40.184Z"
   },
   {
    "duration": 498,
    "start_time": "2022-04-02T16:19:40.684Z"
   },
   {
    "duration": 1319,
    "start_time": "2022-04-02T16:19:41.185Z"
   },
   {
    "duration": 1591,
    "start_time": "2022-04-02T16:24:45.960Z"
   },
   {
    "duration": 1659,
    "start_time": "2022-04-02T16:32:21.801Z"
   },
   {
    "duration": 728,
    "start_time": "2022-04-02T16:37:15.159Z"
   },
   {
    "duration": 1273,
    "start_time": "2022-04-02T16:40:51.367Z"
   },
   {
    "duration": 1935,
    "start_time": "2022-04-02T16:42:20.442Z"
   },
   {
    "duration": 40,
    "start_time": "2022-04-02T16:42:22.378Z"
   },
   {
    "duration": 182,
    "start_time": "2022-04-02T16:42:22.420Z"
   },
   {
    "duration": 13,
    "start_time": "2022-04-02T16:42:22.605Z"
   },
   {
    "duration": 17,
    "start_time": "2022-04-02T16:42:22.620Z"
   },
   {
    "duration": 12,
    "start_time": "2022-04-02T16:42:22.639Z"
   },
   {
    "duration": 16,
    "start_time": "2022-04-02T16:42:22.653Z"
   },
   {
    "duration": 7,
    "start_time": "2022-04-02T16:42:22.671Z"
   },
   {
    "duration": 7,
    "start_time": "2022-04-02T16:42:22.680Z"
   },
   {
    "duration": 164,
    "start_time": "2022-04-02T16:42:22.690Z"
   },
   {
    "duration": 10,
    "start_time": "2022-04-02T16:42:22.856Z"
   },
   {
    "duration": 6,
    "start_time": "2022-04-02T16:42:22.868Z"
   },
   {
    "duration": 7,
    "start_time": "2022-04-02T16:42:22.876Z"
   },
   {
    "duration": 13,
    "start_time": "2022-04-02T16:42:22.884Z"
   },
   {
    "duration": 19,
    "start_time": "2022-04-02T16:42:22.899Z"
   },
   {
    "duration": 26,
    "start_time": "2022-04-02T16:42:22.920Z"
   },
   {
    "duration": 10,
    "start_time": "2022-04-02T16:42:22.948Z"
   },
   {
    "duration": 9,
    "start_time": "2022-04-02T16:42:22.960Z"
   },
   {
    "duration": 8,
    "start_time": "2022-04-02T16:42:22.971Z"
   },
   {
    "duration": 11,
    "start_time": "2022-04-02T16:42:22.981Z"
   },
   {
    "duration": 15,
    "start_time": "2022-04-02T16:42:22.994Z"
   },
   {
    "duration": 31,
    "start_time": "2022-04-02T16:42:23.011Z"
   },
   {
    "duration": 534,
    "start_time": "2022-04-02T16:42:23.045Z"
   },
   {
    "duration": 14,
    "start_time": "2022-04-02T16:42:23.581Z"
   },
   {
    "duration": 17,
    "start_time": "2022-04-02T16:42:23.597Z"
   },
   {
    "duration": 25,
    "start_time": "2022-04-02T16:42:23.616Z"
   },
   {
    "duration": 21,
    "start_time": "2022-04-02T16:42:23.644Z"
   },
   {
    "duration": 16,
    "start_time": "2022-04-02T16:42:23.669Z"
   },
   {
    "duration": 29,
    "start_time": "2022-04-02T16:42:23.687Z"
   },
   {
    "duration": 21,
    "start_time": "2022-04-02T16:42:23.718Z"
   },
   {
    "duration": 16,
    "start_time": "2022-04-02T16:42:23.741Z"
   },
   {
    "duration": 24,
    "start_time": "2022-04-02T16:42:23.759Z"
   },
   {
    "duration": 357,
    "start_time": "2022-04-02T16:42:23.785Z"
   },
   {
    "duration": 9,
    "start_time": "2022-04-02T16:42:24.144Z"
   },
   {
    "duration": 16,
    "start_time": "2022-04-02T16:42:24.155Z"
   },
   {
    "duration": 149,
    "start_time": "2022-04-02T16:42:24.173Z"
   },
   {
    "duration": 3,
    "start_time": "2022-04-02T16:42:24.323Z"
   },
   {
    "duration": 1360,
    "start_time": "2022-04-02T16:42:24.328Z"
   },
   {
    "duration": 521,
    "start_time": "2022-04-02T16:42:25.690Z"
   },
   {
    "duration": 106,
    "start_time": "2022-04-02T16:42:26.213Z"
   },
   {
    "duration": 0,
    "start_time": "2022-04-02T16:42:26.321Z"
   },
   {
    "duration": 0,
    "start_time": "2022-04-02T16:42:26.322Z"
   },
   {
    "duration": 0,
    "start_time": "2022-04-02T16:42:26.323Z"
   },
   {
    "duration": 0,
    "start_time": "2022-04-02T16:42:26.325Z"
   },
   {
    "duration": 0,
    "start_time": "2022-04-02T16:42:26.338Z"
   },
   {
    "duration": 0,
    "start_time": "2022-04-02T16:42:26.339Z"
   },
   {
    "duration": 0,
    "start_time": "2022-04-02T16:42:26.340Z"
   },
   {
    "duration": 0,
    "start_time": "2022-04-02T16:42:26.341Z"
   },
   {
    "duration": 0,
    "start_time": "2022-04-02T16:42:26.342Z"
   },
   {
    "duration": 0,
    "start_time": "2022-04-02T16:42:26.343Z"
   },
   {
    "duration": 0,
    "start_time": "2022-04-02T16:42:26.344Z"
   },
   {
    "duration": 0,
    "start_time": "2022-04-02T16:42:26.345Z"
   },
   {
    "duration": 0,
    "start_time": "2022-04-02T16:42:26.346Z"
   },
   {
    "duration": 1879,
    "start_time": "2022-04-02T16:45:53.815Z"
   },
   {
    "duration": 43,
    "start_time": "2022-04-02T16:45:55.696Z"
   },
   {
    "duration": 165,
    "start_time": "2022-04-02T16:45:55.741Z"
   },
   {
    "duration": 13,
    "start_time": "2022-04-02T16:45:55.909Z"
   },
   {
    "duration": 16,
    "start_time": "2022-04-02T16:45:55.925Z"
   },
   {
    "duration": 16,
    "start_time": "2022-04-02T16:45:55.943Z"
   },
   {
    "duration": 13,
    "start_time": "2022-04-02T16:45:55.961Z"
   },
   {
    "duration": 5,
    "start_time": "2022-04-02T16:45:55.977Z"
   },
   {
    "duration": 9,
    "start_time": "2022-04-02T16:45:55.983Z"
   },
   {
    "duration": 163,
    "start_time": "2022-04-02T16:45:55.995Z"
   },
   {
    "duration": 11,
    "start_time": "2022-04-02T16:45:56.159Z"
   },
   {
    "duration": 6,
    "start_time": "2022-04-02T16:45:56.172Z"
   },
   {
    "duration": 6,
    "start_time": "2022-04-02T16:45:56.180Z"
   },
   {
    "duration": 8,
    "start_time": "2022-04-02T16:45:56.188Z"
   },
   {
    "duration": 40,
    "start_time": "2022-04-02T16:45:56.198Z"
   },
   {
    "duration": 12,
    "start_time": "2022-04-02T16:45:56.240Z"
   },
   {
    "duration": 12,
    "start_time": "2022-04-02T16:45:56.254Z"
   },
   {
    "duration": 11,
    "start_time": "2022-04-02T16:45:56.267Z"
   },
   {
    "duration": 9,
    "start_time": "2022-04-02T16:45:56.279Z"
   },
   {
    "duration": 10,
    "start_time": "2022-04-02T16:45:56.290Z"
   },
   {
    "duration": 13,
    "start_time": "2022-04-02T16:45:56.302Z"
   },
   {
    "duration": 26,
    "start_time": "2022-04-02T16:45:56.316Z"
   },
   {
    "duration": 554,
    "start_time": "2022-04-02T16:45:56.344Z"
   },
   {
    "duration": 13,
    "start_time": "2022-04-02T16:45:56.900Z"
   },
   {
    "duration": 29,
    "start_time": "2022-04-02T16:45:56.915Z"
   },
   {
    "duration": 13,
    "start_time": "2022-04-02T16:45:56.946Z"
   },
   {
    "duration": 16,
    "start_time": "2022-04-02T16:45:56.961Z"
   },
   {
    "duration": 14,
    "start_time": "2022-04-02T16:45:56.981Z"
   },
   {
    "duration": 52,
    "start_time": "2022-04-02T16:45:56.997Z"
   },
   {
    "duration": 4,
    "start_time": "2022-04-02T16:45:57.051Z"
   },
   {
    "duration": 19,
    "start_time": "2022-04-02T16:45:57.057Z"
   },
   {
    "duration": 28,
    "start_time": "2022-04-02T16:45:57.078Z"
   },
   {
    "duration": 375,
    "start_time": "2022-04-02T16:45:57.107Z"
   },
   {
    "duration": 13,
    "start_time": "2022-04-02T16:45:57.485Z"
   },
   {
    "duration": 16,
    "start_time": "2022-04-02T16:45:57.500Z"
   },
   {
    "duration": 156,
    "start_time": "2022-04-02T16:45:57.518Z"
   },
   {
    "duration": 3,
    "start_time": "2022-04-02T16:45:57.677Z"
   },
   {
    "duration": 1450,
    "start_time": "2022-04-02T16:45:57.682Z"
   },
   {
    "duration": 498,
    "start_time": "2022-04-02T16:45:59.134Z"
   },
   {
    "duration": 1767,
    "start_time": "2022-04-02T16:45:59.638Z"
   },
   {
    "duration": 865,
    "start_time": "2022-04-02T16:46:01.407Z"
   },
   {
    "duration": 1291,
    "start_time": "2022-04-02T16:46:02.274Z"
   },
   {
    "duration": 1755,
    "start_time": "2022-04-02T16:46:03.567Z"
   },
   {
    "duration": 829,
    "start_time": "2022-04-02T16:46:05.324Z"
   },
   {
    "duration": 747,
    "start_time": "2022-04-02T16:46:06.155Z"
   },
   {
    "duration": 1265,
    "start_time": "2022-04-02T16:46:06.904Z"
   },
   {
    "duration": 551,
    "start_time": "2022-04-02T16:46:08.171Z"
   },
   {
    "duration": 35,
    "start_time": "2022-04-02T16:46:08.724Z"
   },
   {
    "duration": 502,
    "start_time": "2022-04-02T16:46:08.761Z"
   },
   {
    "duration": 373,
    "start_time": "2022-04-02T16:46:09.265Z"
   },
   {
    "duration": 530,
    "start_time": "2022-04-02T16:46:09.640Z"
   },
   {
    "duration": 1283,
    "start_time": "2022-04-02T16:46:10.172Z"
   },
   {
    "duration": 1602,
    "start_time": "2022-04-02T16:50:14.689Z"
   },
   {
    "duration": 1969,
    "start_time": "2022-04-02T17:06:01.005Z"
   },
   {
    "duration": 39,
    "start_time": "2022-04-02T17:06:02.976Z"
   },
   {
    "duration": 159,
    "start_time": "2022-04-02T17:06:03.016Z"
   },
   {
    "duration": 12,
    "start_time": "2022-04-02T17:06:03.177Z"
   },
   {
    "duration": 5,
    "start_time": "2022-04-02T17:06:03.191Z"
   },
   {
    "duration": 17,
    "start_time": "2022-04-02T17:06:03.197Z"
   },
   {
    "duration": 27,
    "start_time": "2022-04-02T17:06:03.216Z"
   },
   {
    "duration": 3,
    "start_time": "2022-04-02T17:06:03.245Z"
   },
   {
    "duration": 17,
    "start_time": "2022-04-02T17:06:03.250Z"
   },
   {
    "duration": 135,
    "start_time": "2022-04-02T17:06:03.271Z"
   },
   {
    "duration": 10,
    "start_time": "2022-04-02T17:06:03.408Z"
   },
   {
    "duration": 18,
    "start_time": "2022-04-02T17:06:03.420Z"
   },
   {
    "duration": 7,
    "start_time": "2022-04-02T17:06:03.440Z"
   },
   {
    "duration": 11,
    "start_time": "2022-04-02T17:06:03.448Z"
   },
   {
    "duration": 10,
    "start_time": "2022-04-02T17:06:03.461Z"
   },
   {
    "duration": 10,
    "start_time": "2022-04-02T17:06:03.473Z"
   },
   {
    "duration": 8,
    "start_time": "2022-04-02T17:06:03.485Z"
   },
   {
    "duration": 13,
    "start_time": "2022-04-02T17:06:03.495Z"
   },
   {
    "duration": 11,
    "start_time": "2022-04-02T17:06:03.509Z"
   },
   {
    "duration": 23,
    "start_time": "2022-04-02T17:06:03.522Z"
   },
   {
    "duration": 17,
    "start_time": "2022-04-02T17:06:03.547Z"
   },
   {
    "duration": 7,
    "start_time": "2022-04-02T17:06:03.566Z"
   },
   {
    "duration": 545,
    "start_time": "2022-04-02T17:06:03.575Z"
   },
   {
    "duration": 22,
    "start_time": "2022-04-02T17:06:04.122Z"
   },
   {
    "duration": 16,
    "start_time": "2022-04-02T17:06:04.146Z"
   },
   {
    "duration": 14,
    "start_time": "2022-04-02T17:06:04.164Z"
   },
   {
    "duration": 16,
    "start_time": "2022-04-02T17:06:04.180Z"
   },
   {
    "duration": 38,
    "start_time": "2022-04-02T17:06:04.200Z"
   },
   {
    "duration": 19,
    "start_time": "2022-04-02T17:06:04.240Z"
   },
   {
    "duration": 5,
    "start_time": "2022-04-02T17:06:04.261Z"
   },
   {
    "duration": 14,
    "start_time": "2022-04-02T17:06:04.267Z"
   },
   {
    "duration": 59,
    "start_time": "2022-04-02T17:06:04.283Z"
   },
   {
    "duration": 318,
    "start_time": "2022-04-02T17:06:04.344Z"
   },
   {
    "duration": 9,
    "start_time": "2022-04-02T17:06:04.664Z"
   },
   {
    "duration": 13,
    "start_time": "2022-04-02T17:06:04.675Z"
   },
   {
    "duration": 159,
    "start_time": "2022-04-02T17:06:04.690Z"
   },
   {
    "duration": 4,
    "start_time": "2022-04-02T17:06:04.851Z"
   },
   {
    "duration": 1325,
    "start_time": "2022-04-02T17:06:04.856Z"
   },
   {
    "duration": 516,
    "start_time": "2022-04-02T17:06:06.183Z"
   },
   {
    "duration": 1641,
    "start_time": "2022-04-02T17:06:06.701Z"
   },
   {
    "duration": 809,
    "start_time": "2022-04-02T17:06:08.344Z"
   },
   {
    "duration": 1230,
    "start_time": "2022-04-02T17:06:09.155Z"
   },
   {
    "duration": 1722,
    "start_time": "2022-04-02T17:06:10.388Z"
   },
   {
    "duration": 803,
    "start_time": "2022-04-02T17:06:12.112Z"
   },
   {
    "duration": 702,
    "start_time": "2022-04-02T17:06:12.917Z"
   },
   {
    "duration": 1218,
    "start_time": "2022-04-02T17:06:13.621Z"
   },
   {
    "duration": 550,
    "start_time": "2022-04-02T17:06:14.841Z"
   },
   {
    "duration": 24,
    "start_time": "2022-04-02T17:06:15.392Z"
   },
   {
    "duration": 459,
    "start_time": "2022-04-02T17:06:15.418Z"
   },
   {
    "duration": 893,
    "start_time": "2022-04-02T17:06:15.879Z"
   },
   {
    "duration": 1492,
    "start_time": "2022-04-02T17:06:16.774Z"
   },
   {
    "duration": 1848,
    "start_time": "2022-04-02T18:48:31.110Z"
   },
   {
    "duration": 39,
    "start_time": "2022-04-02T18:48:32.960Z"
   },
   {
    "duration": 167,
    "start_time": "2022-04-02T18:48:33.000Z"
   },
   {
    "duration": 12,
    "start_time": "2022-04-02T18:48:33.169Z"
   },
   {
    "duration": 5,
    "start_time": "2022-04-02T18:48:33.183Z"
   },
   {
    "duration": 16,
    "start_time": "2022-04-02T18:48:33.189Z"
   },
   {
    "duration": 13,
    "start_time": "2022-04-02T18:48:33.206Z"
   },
   {
    "duration": 3,
    "start_time": "2022-04-02T18:48:33.237Z"
   },
   {
    "duration": 11,
    "start_time": "2022-04-02T18:48:33.242Z"
   },
   {
    "duration": 134,
    "start_time": "2022-04-02T18:48:33.256Z"
   },
   {
    "duration": 8,
    "start_time": "2022-04-02T18:48:33.392Z"
   },
   {
    "duration": 5,
    "start_time": "2022-04-02T18:48:33.402Z"
   },
   {
    "duration": 6,
    "start_time": "2022-04-02T18:48:33.409Z"
   },
   {
    "duration": 6,
    "start_time": "2022-04-02T18:48:33.437Z"
   },
   {
    "duration": 8,
    "start_time": "2022-04-02T18:48:33.445Z"
   },
   {
    "duration": 9,
    "start_time": "2022-04-02T18:48:33.455Z"
   },
   {
    "duration": 9,
    "start_time": "2022-04-02T18:48:33.465Z"
   },
   {
    "duration": 7,
    "start_time": "2022-04-02T18:48:33.476Z"
   },
   {
    "duration": 10,
    "start_time": "2022-04-02T18:48:33.485Z"
   },
   {
    "duration": 10,
    "start_time": "2022-04-02T18:48:33.496Z"
   },
   {
    "duration": 33,
    "start_time": "2022-04-02T18:48:33.508Z"
   },
   {
    "duration": 7,
    "start_time": "2022-04-02T18:48:33.542Z"
   },
   {
    "duration": 555,
    "start_time": "2022-04-02T18:48:33.551Z"
   },
   {
    "duration": 15,
    "start_time": "2022-04-02T18:48:34.108Z"
   },
   {
    "duration": 26,
    "start_time": "2022-04-02T18:48:34.124Z"
   },
   {
    "duration": 15,
    "start_time": "2022-04-02T18:48:34.152Z"
   },
   {
    "duration": 15,
    "start_time": "2022-04-02T18:48:34.168Z"
   },
   {
    "duration": 14,
    "start_time": "2022-04-02T18:48:34.187Z"
   },
   {
    "duration": 47,
    "start_time": "2022-04-02T18:48:34.202Z"
   },
   {
    "duration": 6,
    "start_time": "2022-04-02T18:48:34.251Z"
   },
   {
    "duration": 15,
    "start_time": "2022-04-02T18:48:34.259Z"
   },
   {
    "duration": 20,
    "start_time": "2022-04-02T18:48:34.276Z"
   },
   {
    "duration": 321,
    "start_time": "2022-04-02T18:48:34.297Z"
   },
   {
    "duration": 8,
    "start_time": "2022-04-02T18:48:34.620Z"
   },
   {
    "duration": 27,
    "start_time": "2022-04-02T18:48:34.638Z"
   },
   {
    "duration": 133,
    "start_time": "2022-04-02T18:48:34.667Z"
   },
   {
    "duration": 3,
    "start_time": "2022-04-02T18:48:34.802Z"
   },
   {
    "duration": 1282,
    "start_time": "2022-04-02T18:48:34.807Z"
   },
   {
    "duration": 1642,
    "start_time": "2022-04-02T18:48:36.091Z"
   },
   {
    "duration": 788,
    "start_time": "2022-04-02T18:48:37.734Z"
   },
   {
    "duration": 1231,
    "start_time": "2022-04-02T18:48:38.524Z"
   },
   {
    "duration": 1642,
    "start_time": "2022-04-02T18:48:39.757Z"
   },
   {
    "duration": 1202,
    "start_time": "2022-04-02T18:48:41.400Z"
   },
   {
    "duration": 783,
    "start_time": "2022-04-02T18:48:42.604Z"
   },
   {
    "duration": 691,
    "start_time": "2022-04-02T18:48:43.388Z"
   },
   {
    "duration": 531,
    "start_time": "2022-04-02T18:48:44.080Z"
   },
   {
    "duration": 35,
    "start_time": "2022-04-02T18:48:44.613Z"
   },
   {
    "duration": 470,
    "start_time": "2022-04-02T18:48:44.649Z"
   },
   {
    "duration": 894,
    "start_time": "2022-04-02T18:48:45.121Z"
   },
   {
    "duration": 1203,
    "start_time": "2022-04-02T18:48:46.017Z"
   },
   {
    "duration": 1627,
    "start_time": "2022-04-02T18:48:47.222Z"
   },
   {
    "duration": 20,
    "start_time": "2022-04-02T19:27:19.386Z"
   },
   {
    "duration": 1878,
    "start_time": "2022-04-02T19:30:52.834Z"
   },
   {
    "duration": 39,
    "start_time": "2022-04-02T19:30:54.714Z"
   },
   {
    "duration": 154,
    "start_time": "2022-04-02T19:30:54.754Z"
   },
   {
    "duration": 13,
    "start_time": "2022-04-02T19:30:54.910Z"
   },
   {
    "duration": 14,
    "start_time": "2022-04-02T19:30:54.926Z"
   },
   {
    "duration": 13,
    "start_time": "2022-04-02T19:30:54.942Z"
   },
   {
    "duration": 11,
    "start_time": "2022-04-02T19:30:54.957Z"
   },
   {
    "duration": 5,
    "start_time": "2022-04-02T19:30:54.970Z"
   },
   {
    "duration": 7,
    "start_time": "2022-04-02T19:30:54.976Z"
   },
   {
    "duration": 165,
    "start_time": "2022-04-02T19:30:54.985Z"
   },
   {
    "duration": 9,
    "start_time": "2022-04-02T19:30:55.152Z"
   },
   {
    "duration": 9,
    "start_time": "2022-04-02T19:30:55.163Z"
   },
   {
    "duration": 6,
    "start_time": "2022-04-02T19:30:55.174Z"
   },
   {
    "duration": 8,
    "start_time": "2022-04-02T19:30:55.183Z"
   },
   {
    "duration": 13,
    "start_time": "2022-04-02T19:30:55.193Z"
   },
   {
    "duration": 31,
    "start_time": "2022-04-02T19:30:55.208Z"
   },
   {
    "duration": 9,
    "start_time": "2022-04-02T19:30:55.241Z"
   },
   {
    "duration": 11,
    "start_time": "2022-04-02T19:30:55.252Z"
   },
   {
    "duration": 8,
    "start_time": "2022-04-02T19:30:55.265Z"
   },
   {
    "duration": 9,
    "start_time": "2022-04-02T19:30:55.275Z"
   },
   {
    "duration": 13,
    "start_time": "2022-04-02T19:30:55.286Z"
   },
   {
    "duration": 6,
    "start_time": "2022-04-02T19:30:55.301Z"
   },
   {
    "duration": 547,
    "start_time": "2022-04-02T19:30:55.308Z"
   },
   {
    "duration": 14,
    "start_time": "2022-04-02T19:30:55.857Z"
   },
   {
    "duration": 16,
    "start_time": "2022-04-02T19:30:55.873Z"
   },
   {
    "duration": 13,
    "start_time": "2022-04-02T19:30:55.891Z"
   },
   {
    "duration": 40,
    "start_time": "2022-04-02T19:30:55.906Z"
   },
   {
    "duration": 13,
    "start_time": "2022-04-02T19:30:55.948Z"
   },
   {
    "duration": 16,
    "start_time": "2022-04-02T19:30:55.963Z"
   },
   {
    "duration": 4,
    "start_time": "2022-04-02T19:30:55.981Z"
   },
   {
    "duration": 52,
    "start_time": "2022-04-02T19:30:55.987Z"
   },
   {
    "duration": 30,
    "start_time": "2022-04-02T19:30:56.042Z"
   },
   {
    "duration": 329,
    "start_time": "2022-04-02T19:30:56.073Z"
   },
   {
    "duration": 9,
    "start_time": "2022-04-02T19:30:56.403Z"
   },
   {
    "duration": 27,
    "start_time": "2022-04-02T19:30:56.413Z"
   },
   {
    "duration": 143,
    "start_time": "2022-04-02T19:30:56.441Z"
   },
   {
    "duration": 3,
    "start_time": "2022-04-02T19:30:56.585Z"
   },
   {
    "duration": 1305,
    "start_time": "2022-04-02T19:30:56.590Z"
   },
   {
    "duration": 1647,
    "start_time": "2022-04-02T19:30:57.897Z"
   },
   {
    "duration": 824,
    "start_time": "2022-04-02T19:30:59.545Z"
   },
   {
    "duration": 1321,
    "start_time": "2022-04-02T19:31:00.373Z"
   },
   {
    "duration": 1745,
    "start_time": "2022-04-02T19:31:01.695Z"
   },
   {
    "duration": 1220,
    "start_time": "2022-04-02T19:31:03.442Z"
   },
   {
    "duration": 814,
    "start_time": "2022-04-02T19:31:04.664Z"
   },
   {
    "duration": 712,
    "start_time": "2022-04-02T19:31:05.479Z"
   },
   {
    "duration": 562,
    "start_time": "2022-04-02T19:31:06.192Z"
   },
   {
    "duration": 26,
    "start_time": "2022-04-02T19:31:06.756Z"
   },
   {
    "duration": 503,
    "start_time": "2022-04-02T19:31:06.783Z"
   },
   {
    "duration": 925,
    "start_time": "2022-04-02T19:31:07.287Z"
   },
   {
    "duration": 1207,
    "start_time": "2022-04-02T19:31:08.214Z"
   },
   {
    "duration": 1544,
    "start_time": "2022-04-02T19:31:09.423Z"
   },
   {
    "duration": 21,
    "start_time": "2022-04-02T19:31:10.969Z"
   },
   {
    "duration": 1639,
    "start_time": "2022-04-02T19:43:30.754Z"
   },
   {
    "duration": 104,
    "start_time": "2022-04-02T19:49:04.945Z"
   },
   {
    "duration": 319,
    "start_time": "2022-04-02T19:49:47.654Z"
   },
   {
    "duration": 339,
    "start_time": "2022-04-02T19:50:03.909Z"
   },
   {
    "duration": 1570,
    "start_time": "2022-04-02T19:50:18.704Z"
   },
   {
    "duration": 3523,
    "start_time": "2022-04-02T19:51:12.375Z"
   },
   {
    "duration": 1786,
    "start_time": "2022-04-02T19:52:54.862Z"
   },
   {
    "duration": 39,
    "start_time": "2022-04-02T19:52:56.650Z"
   },
   {
    "duration": 161,
    "start_time": "2022-04-02T19:52:56.691Z"
   },
   {
    "duration": 13,
    "start_time": "2022-04-02T19:52:56.854Z"
   },
   {
    "duration": 5,
    "start_time": "2022-04-02T19:52:56.869Z"
   },
   {
    "duration": 15,
    "start_time": "2022-04-02T19:52:56.875Z"
   },
   {
    "duration": 14,
    "start_time": "2022-04-02T19:52:56.892Z"
   },
   {
    "duration": 13,
    "start_time": "2022-04-02T19:52:56.907Z"
   },
   {
    "duration": 5,
    "start_time": "2022-04-02T19:52:56.937Z"
   },
   {
    "duration": 136,
    "start_time": "2022-04-02T19:52:56.944Z"
   },
   {
    "duration": 10,
    "start_time": "2022-04-02T19:52:57.082Z"
   },
   {
    "duration": 6,
    "start_time": "2022-04-02T19:52:57.094Z"
   },
   {
    "duration": 9,
    "start_time": "2022-04-02T19:52:57.102Z"
   },
   {
    "duration": 7,
    "start_time": "2022-04-02T19:52:57.137Z"
   },
   {
    "duration": 9,
    "start_time": "2022-04-02T19:52:57.146Z"
   },
   {
    "duration": 12,
    "start_time": "2022-04-02T19:52:57.156Z"
   },
   {
    "duration": 7,
    "start_time": "2022-04-02T19:52:57.170Z"
   },
   {
    "duration": 8,
    "start_time": "2022-04-02T19:52:57.178Z"
   },
   {
    "duration": 8,
    "start_time": "2022-04-02T19:52:57.187Z"
   },
   {
    "duration": 16,
    "start_time": "2022-04-02T19:52:57.196Z"
   },
   {
    "duration": 29,
    "start_time": "2022-04-02T19:52:57.214Z"
   },
   {
    "duration": 7,
    "start_time": "2022-04-02T19:52:57.245Z"
   },
   {
    "duration": 529,
    "start_time": "2022-04-02T19:52:57.253Z"
   },
   {
    "duration": 12,
    "start_time": "2022-04-02T19:52:57.784Z"
   },
   {
    "duration": 15,
    "start_time": "2022-04-02T19:52:57.798Z"
   },
   {
    "duration": 31,
    "start_time": "2022-04-02T19:52:57.814Z"
   },
   {
    "duration": 14,
    "start_time": "2022-04-02T19:52:57.847Z"
   },
   {
    "duration": 13,
    "start_time": "2022-04-02T19:52:57.863Z"
   },
   {
    "duration": 15,
    "start_time": "2022-04-02T19:52:57.878Z"
   },
   {
    "duration": 4,
    "start_time": "2022-04-02T19:52:57.895Z"
   },
   {
    "duration": 49,
    "start_time": "2022-04-02T19:52:57.901Z"
   },
   {
    "duration": 20,
    "start_time": "2022-04-02T19:52:57.952Z"
   },
   {
    "duration": 318,
    "start_time": "2022-04-02T19:52:57.974Z"
   },
   {
    "duration": 8,
    "start_time": "2022-04-02T19:52:58.294Z"
   },
   {
    "duration": 19,
    "start_time": "2022-04-02T19:52:58.304Z"
   },
   {
    "duration": 146,
    "start_time": "2022-04-02T19:52:58.325Z"
   },
   {
    "duration": 3,
    "start_time": "2022-04-02T19:52:58.473Z"
   },
   {
    "duration": 1296,
    "start_time": "2022-04-02T19:52:58.477Z"
   },
   {
    "duration": 1663,
    "start_time": "2022-04-02T19:52:59.775Z"
   },
   {
    "duration": 818,
    "start_time": "2022-04-02T19:53:01.441Z"
   },
   {
    "duration": 1238,
    "start_time": "2022-04-02T19:53:02.263Z"
   },
   {
    "duration": 1693,
    "start_time": "2022-04-02T19:53:03.503Z"
   },
   {
    "duration": 1207,
    "start_time": "2022-04-02T19:53:05.197Z"
   },
   {
    "duration": 904,
    "start_time": "2022-04-02T19:53:06.406Z"
   },
   {
    "duration": 766,
    "start_time": "2022-04-02T19:53:07.312Z"
   },
   {
    "duration": 690,
    "start_time": "2022-04-02T19:53:08.080Z"
   },
   {
    "duration": 631,
    "start_time": "2022-04-02T19:53:08.772Z"
   },
   {
    "duration": 39,
    "start_time": "2022-04-02T19:53:09.409Z"
   },
   {
    "duration": 345,
    "start_time": "2022-04-02T19:53:09.449Z"
   },
   {
    "duration": 919,
    "start_time": "2022-04-02T19:53:09.796Z"
   },
   {
    "duration": 1184,
    "start_time": "2022-04-02T19:53:10.717Z"
   },
   {
    "duration": 1650,
    "start_time": "2022-04-02T19:53:11.903Z"
   },
   {
    "duration": 19,
    "start_time": "2022-04-02T19:53:13.555Z"
   },
   {
    "duration": 96,
    "start_time": "2022-04-02T19:57:14.822Z"
   },
   {
    "duration": 337,
    "start_time": "2022-04-02T19:57:22.798Z"
   },
   {
    "duration": 1712,
    "start_time": "2022-04-02T19:57:46.385Z"
   },
   {
    "duration": 1888,
    "start_time": "2022-04-02T20:04:43.791Z"
   },
   {
    "duration": 38,
    "start_time": "2022-04-02T20:04:45.681Z"
   },
   {
    "duration": 153,
    "start_time": "2022-04-02T20:04:45.721Z"
   },
   {
    "duration": 12,
    "start_time": "2022-04-02T20:04:45.876Z"
   },
   {
    "duration": 4,
    "start_time": "2022-04-02T20:04:45.890Z"
   },
   {
    "duration": 19,
    "start_time": "2022-04-02T20:04:45.895Z"
   },
   {
    "duration": 23,
    "start_time": "2022-04-02T20:04:45.915Z"
   },
   {
    "duration": 5,
    "start_time": "2022-04-02T20:04:45.939Z"
   },
   {
    "duration": 7,
    "start_time": "2022-04-02T20:04:45.945Z"
   },
   {
    "duration": 147,
    "start_time": "2022-04-02T20:04:45.953Z"
   },
   {
    "duration": 10,
    "start_time": "2022-04-02T20:04:46.101Z"
   },
   {
    "duration": 7,
    "start_time": "2022-04-02T20:04:46.113Z"
   },
   {
    "duration": 6,
    "start_time": "2022-04-02T20:04:46.138Z"
   },
   {
    "duration": 8,
    "start_time": "2022-04-02T20:04:46.147Z"
   },
   {
    "duration": 10,
    "start_time": "2022-04-02T20:04:46.156Z"
   },
   {
    "duration": 10,
    "start_time": "2022-04-02T20:04:46.167Z"
   },
   {
    "duration": 11,
    "start_time": "2022-04-02T20:04:46.178Z"
   },
   {
    "duration": 10,
    "start_time": "2022-04-02T20:04:46.191Z"
   },
   {
    "duration": 12,
    "start_time": "2022-04-02T20:04:46.202Z"
   },
   {
    "duration": 27,
    "start_time": "2022-04-02T20:04:46.216Z"
   },
   {
    "duration": 12,
    "start_time": "2022-04-02T20:04:46.245Z"
   },
   {
    "duration": 6,
    "start_time": "2022-04-02T20:04:46.259Z"
   },
   {
    "duration": 561,
    "start_time": "2022-04-02T20:04:46.267Z"
   },
   {
    "duration": 19,
    "start_time": "2022-04-02T20:04:46.830Z"
   },
   {
    "duration": 16,
    "start_time": "2022-04-02T20:04:46.850Z"
   },
   {
    "duration": 13,
    "start_time": "2022-04-02T20:04:46.868Z"
   },
   {
    "duration": 23,
    "start_time": "2022-04-02T20:04:46.883Z"
   },
   {
    "duration": 36,
    "start_time": "2022-04-02T20:04:46.907Z"
   },
   {
    "duration": 17,
    "start_time": "2022-04-02T20:04:46.945Z"
   },
   {
    "duration": 4,
    "start_time": "2022-04-02T20:04:46.964Z"
   },
   {
    "duration": 21,
    "start_time": "2022-04-02T20:04:46.970Z"
   },
   {
    "duration": 53,
    "start_time": "2022-04-02T20:04:46.993Z"
   },
   {
    "duration": 313,
    "start_time": "2022-04-02T20:04:47.048Z"
   },
   {
    "duration": 9,
    "start_time": "2022-04-02T20:04:47.363Z"
   },
   {
    "duration": 15,
    "start_time": "2022-04-02T20:04:47.373Z"
   },
   {
    "duration": 153,
    "start_time": "2022-04-02T20:04:47.390Z"
   },
   {
    "duration": 3,
    "start_time": "2022-04-02T20:04:47.544Z"
   },
   {
    "duration": 1229,
    "start_time": "2022-04-02T20:04:47.549Z"
   },
   {
    "duration": 1630,
    "start_time": "2022-04-02T20:04:48.779Z"
   },
   {
    "duration": 758,
    "start_time": "2022-04-02T20:04:50.410Z"
   },
   {
    "duration": 1221,
    "start_time": "2022-04-02T20:04:51.172Z"
   },
   {
    "duration": 1705,
    "start_time": "2022-04-02T20:04:52.395Z"
   },
   {
    "duration": 1176,
    "start_time": "2022-04-02T20:04:54.102Z"
   },
   {
    "duration": 786,
    "start_time": "2022-04-02T20:04:55.280Z"
   },
   {
    "duration": 695,
    "start_time": "2022-04-02T20:04:56.068Z"
   },
   {
    "duration": 525,
    "start_time": "2022-04-02T20:04:56.765Z"
   },
   {
    "duration": 25,
    "start_time": "2022-04-02T20:04:57.292Z"
   },
   {
    "duration": 456,
    "start_time": "2022-04-02T20:04:57.318Z"
   },
   {
    "duration": 842,
    "start_time": "2022-04-02T20:04:57.776Z"
   },
   {
    "duration": 1163,
    "start_time": "2022-04-02T20:04:58.619Z"
   },
   {
    "duration": 1543,
    "start_time": "2022-04-02T20:04:59.784Z"
   },
   {
    "duration": 1818,
    "start_time": "2022-04-02T20:05:01.329Z"
   },
   {
    "duration": 21,
    "start_time": "2022-04-02T20:05:03.148Z"
   },
   {
    "duration": 341,
    "start_time": "2022-04-02T20:13:57.707Z"
   },
   {
    "duration": 48,
    "start_time": "2022-04-03T13:48:03.453Z"
   },
   {
    "duration": 2124,
    "start_time": "2022-04-03T13:48:23.342Z"
   },
   {
    "duration": 3,
    "start_time": "2022-04-03T13:48:25.469Z"
   },
   {
    "duration": 153,
    "start_time": "2022-04-03T13:48:25.474Z"
   },
   {
    "duration": 19,
    "start_time": "2022-04-03T13:48:25.629Z"
   },
   {
    "duration": 3,
    "start_time": "2022-04-03T13:48:25.651Z"
   },
   {
    "duration": 14,
    "start_time": "2022-04-03T13:48:25.656Z"
   },
   {
    "duration": 12,
    "start_time": "2022-04-03T13:48:25.672Z"
   },
   {
    "duration": 5,
    "start_time": "2022-04-03T13:48:25.686Z"
   },
   {
    "duration": 10,
    "start_time": "2022-04-03T13:48:25.693Z"
   },
   {
    "duration": 146,
    "start_time": "2022-04-03T13:48:25.737Z"
   },
   {
    "duration": 9,
    "start_time": "2022-04-03T13:48:25.885Z"
   },
   {
    "duration": 6,
    "start_time": "2022-04-03T13:48:25.896Z"
   },
   {
    "duration": 37,
    "start_time": "2022-04-03T13:48:25.904Z"
   },
   {
    "duration": 8,
    "start_time": "2022-04-03T13:48:25.945Z"
   },
   {
    "duration": 9,
    "start_time": "2022-04-03T13:48:25.954Z"
   },
   {
    "duration": 10,
    "start_time": "2022-04-03T13:48:25.964Z"
   },
   {
    "duration": 9,
    "start_time": "2022-04-03T13:48:25.975Z"
   },
   {
    "duration": 9,
    "start_time": "2022-04-03T13:48:25.986Z"
   },
   {
    "duration": 46,
    "start_time": "2022-04-03T13:48:25.997Z"
   },
   {
    "duration": 10,
    "start_time": "2022-04-03T13:48:26.046Z"
   },
   {
    "duration": 14,
    "start_time": "2022-04-03T13:48:26.058Z"
   },
   {
    "duration": 9,
    "start_time": "2022-04-03T13:48:26.073Z"
   },
   {
    "duration": 565,
    "start_time": "2022-04-03T13:48:26.083Z"
   },
   {
    "duration": 15,
    "start_time": "2022-04-03T13:48:26.650Z"
   },
   {
    "duration": 22,
    "start_time": "2022-04-03T13:48:26.666Z"
   },
   {
    "duration": 14,
    "start_time": "2022-04-03T13:48:26.690Z"
   },
   {
    "duration": 48,
    "start_time": "2022-04-03T13:48:26.705Z"
   },
   {
    "duration": 17,
    "start_time": "2022-04-03T13:48:26.756Z"
   },
   {
    "duration": 19,
    "start_time": "2022-04-03T13:48:26.775Z"
   },
   {
    "duration": 5,
    "start_time": "2022-04-03T13:48:26.797Z"
   },
   {
    "duration": 49,
    "start_time": "2022-04-03T13:48:26.804Z"
   },
   {
    "duration": 33,
    "start_time": "2022-04-03T13:48:26.856Z"
   },
   {
    "duration": 435,
    "start_time": "2022-04-03T13:48:26.891Z"
   },
   {
    "duration": 12,
    "start_time": "2022-04-03T13:48:27.329Z"
   },
   {
    "duration": 18,
    "start_time": "2022-04-03T13:48:27.343Z"
   },
   {
    "duration": 169,
    "start_time": "2022-04-03T13:48:27.363Z"
   },
   {
    "duration": 5,
    "start_time": "2022-04-03T13:48:27.537Z"
   },
   {
    "duration": 1479,
    "start_time": "2022-04-03T13:48:27.544Z"
   },
   {
    "duration": 1772,
    "start_time": "2022-04-03T13:48:29.025Z"
   },
   {
    "duration": 825,
    "start_time": "2022-04-03T13:48:30.799Z"
   },
   {
    "duration": 1358,
    "start_time": "2022-04-03T13:48:31.628Z"
   },
   {
    "duration": 1755,
    "start_time": "2022-04-03T13:48:32.988Z"
   },
   {
    "duration": 1271,
    "start_time": "2022-04-03T13:48:34.745Z"
   },
   {
    "duration": 867,
    "start_time": "2022-04-03T13:48:36.019Z"
   },
   {
    "duration": 709,
    "start_time": "2022-04-03T13:48:36.888Z"
   },
   {
    "duration": 545,
    "start_time": "2022-04-03T13:48:37.599Z"
   },
   {
    "duration": 25,
    "start_time": "2022-04-03T13:48:38.146Z"
   },
   {
    "duration": 495,
    "start_time": "2022-04-03T13:48:38.172Z"
   },
   {
    "duration": 890,
    "start_time": "2022-04-03T13:48:38.669Z"
   },
   {
    "duration": 1259,
    "start_time": "2022-04-03T13:48:39.561Z"
   },
   {
    "duration": 1557,
    "start_time": "2022-04-03T13:48:40.822Z"
   },
   {
    "duration": 1957,
    "start_time": "2022-04-03T13:48:42.381Z"
   },
   {
    "duration": 20,
    "start_time": "2022-04-03T13:48:44.340Z"
   },
   {
    "duration": 1841,
    "start_time": "2022-04-03T20:58:04.404Z"
   },
   {
    "duration": 3,
    "start_time": "2022-04-03T20:58:06.247Z"
   },
   {
    "duration": 153,
    "start_time": "2022-04-03T20:58:06.251Z"
   },
   {
    "duration": 12,
    "start_time": "2022-04-03T20:58:06.406Z"
   },
   {
    "duration": 3,
    "start_time": "2022-04-03T20:58:06.420Z"
   },
   {
    "duration": 11,
    "start_time": "2022-04-03T20:58:06.437Z"
   },
   {
    "duration": 13,
    "start_time": "2022-04-03T20:58:06.450Z"
   },
   {
    "duration": 8,
    "start_time": "2022-04-03T20:58:06.464Z"
   },
   {
    "duration": 8,
    "start_time": "2022-04-03T20:58:06.474Z"
   },
   {
    "duration": 163,
    "start_time": "2022-04-03T20:58:06.485Z"
   },
   {
    "duration": 9,
    "start_time": "2022-04-03T20:58:06.650Z"
   },
   {
    "duration": 12,
    "start_time": "2022-04-03T20:58:06.661Z"
   },
   {
    "duration": 10,
    "start_time": "2022-04-03T20:58:06.674Z"
   },
   {
    "duration": 15,
    "start_time": "2022-04-03T20:58:06.686Z"
   },
   {
    "duration": 12,
    "start_time": "2022-04-03T20:58:06.703Z"
   },
   {
    "duration": 23,
    "start_time": "2022-04-03T20:58:06.716Z"
   },
   {
    "duration": 8,
    "start_time": "2022-04-03T20:58:06.740Z"
   },
   {
    "duration": 8,
    "start_time": "2022-04-03T20:58:06.750Z"
   },
   {
    "duration": 11,
    "start_time": "2022-04-03T20:58:06.760Z"
   },
   {
    "duration": 16,
    "start_time": "2022-04-03T20:58:06.773Z"
   },
   {
    "duration": 16,
    "start_time": "2022-04-03T20:58:06.790Z"
   },
   {
    "duration": 7,
    "start_time": "2022-04-03T20:58:06.807Z"
   },
   {
    "duration": 548,
    "start_time": "2022-04-03T20:58:06.815Z"
   },
   {
    "duration": 13,
    "start_time": "2022-04-03T20:58:07.364Z"
   },
   {
    "duration": 15,
    "start_time": "2022-04-03T20:58:07.379Z"
   },
   {
    "duration": 14,
    "start_time": "2022-04-03T20:58:07.396Z"
   },
   {
    "duration": 39,
    "start_time": "2022-04-03T20:58:07.412Z"
   },
   {
    "duration": 13,
    "start_time": "2022-04-03T20:58:07.455Z"
   },
   {
    "duration": 16,
    "start_time": "2022-04-03T20:58:07.470Z"
   },
   {
    "duration": 4,
    "start_time": "2022-04-03T20:58:07.488Z"
   },
   {
    "duration": 46,
    "start_time": "2022-04-03T20:58:07.494Z"
   },
   {
    "duration": 26,
    "start_time": "2022-04-03T20:58:07.541Z"
   },
   {
    "duration": 361,
    "start_time": "2022-04-03T20:58:07.569Z"
   },
   {
    "duration": 8,
    "start_time": "2022-04-03T20:58:07.932Z"
   },
   {
    "duration": 17,
    "start_time": "2022-04-03T20:58:07.942Z"
   },
   {
    "duration": 138,
    "start_time": "2022-04-03T20:58:07.960Z"
   },
   {
    "duration": 3,
    "start_time": "2022-04-03T20:58:08.099Z"
   },
   {
    "duration": 1277,
    "start_time": "2022-04-03T20:58:08.103Z"
   },
   {
    "duration": 1614,
    "start_time": "2022-04-03T20:58:09.381Z"
   },
   {
    "duration": 761,
    "start_time": "2022-04-03T20:58:10.997Z"
   },
   {
    "duration": 1197,
    "start_time": "2022-04-03T20:58:11.760Z"
   },
   {
    "duration": 1634,
    "start_time": "2022-04-03T20:58:12.959Z"
   },
   {
    "duration": 1228,
    "start_time": "2022-04-03T20:58:14.595Z"
   },
   {
    "duration": 787,
    "start_time": "2022-04-03T20:58:15.825Z"
   },
   {
    "duration": 679,
    "start_time": "2022-04-03T20:58:16.614Z"
   },
   {
    "duration": 536,
    "start_time": "2022-04-03T20:58:17.295Z"
   },
   {
    "duration": 25,
    "start_time": "2022-04-03T20:58:17.837Z"
   },
   {
    "duration": 478,
    "start_time": "2022-04-03T20:58:17.863Z"
   },
   {
    "duration": 891,
    "start_time": "2022-04-03T20:58:18.343Z"
   },
   {
    "duration": 1221,
    "start_time": "2022-04-03T20:58:19.236Z"
   },
   {
    "duration": 1587,
    "start_time": "2022-04-03T20:58:20.459Z"
   },
   {
    "duration": 1672,
    "start_time": "2022-04-03T20:58:22.048Z"
   },
   {
    "duration": 29,
    "start_time": "2022-04-03T20:58:23.722Z"
   },
   {
    "duration": 139,
    "start_time": "2022-04-04T00:06:58.237Z"
   },
   {
    "duration": 1166,
    "start_time": "2022-04-04T00:26:20.213Z"
   },
   {
    "duration": 1168,
    "start_time": "2022-04-04T00:26:28.992Z"
   },
   {
    "duration": 1262,
    "start_time": "2022-04-04T00:26:39.698Z"
   },
   {
    "duration": 788,
    "start_time": "2022-04-04T00:27:08.253Z"
   },
   {
    "duration": 744,
    "start_time": "2022-04-04T00:27:20.117Z"
   },
   {
    "duration": 1632,
    "start_time": "2022-04-04T00:28:52.735Z"
   },
   {
    "duration": 1764,
    "start_time": "2022-04-04T00:29:00.265Z"
   },
   {
    "duration": 1635,
    "start_time": "2022-04-04T00:29:07.942Z"
   },
   {
    "duration": 1659,
    "start_time": "2022-04-04T00:29:21.435Z"
   },
   {
    "duration": 1786,
    "start_time": "2022-04-04T00:29:41.532Z"
   },
   {
    "duration": 106,
    "start_time": "2022-04-04T00:30:19.276Z"
   },
   {
    "duration": 22,
    "start_time": "2022-04-04T00:30:34.714Z"
   },
   {
    "duration": 7,
    "start_time": "2022-04-04T02:22:06.412Z"
   },
   {
    "duration": 5,
    "start_time": "2022-04-04T02:22:20.730Z"
   },
   {
    "duration": 119,
    "start_time": "2022-04-04T02:22:54.527Z"
   },
   {
    "duration": 4,
    "start_time": "2022-04-04T02:23:01.544Z"
   },
   {
    "duration": 4,
    "start_time": "2022-04-04T02:35:48.503Z"
   },
   {
    "duration": 10,
    "start_time": "2022-04-04T02:39:35.697Z"
   },
   {
    "duration": 5,
    "start_time": "2022-04-04T02:40:10.268Z"
   },
   {
    "duration": 111,
    "start_time": "2022-04-04T02:40:42.642Z"
   },
   {
    "duration": 6,
    "start_time": "2022-04-04T02:40:58.588Z"
   },
   {
    "duration": 5,
    "start_time": "2022-04-04T02:43:34.682Z"
   },
   {
    "duration": 109,
    "start_time": "2022-04-04T02:51:08.226Z"
   },
   {
    "duration": 4,
    "start_time": "2022-04-04T02:51:17.837Z"
   },
   {
    "duration": 122,
    "start_time": "2022-04-04T02:52:00.488Z"
   },
   {
    "duration": 4,
    "start_time": "2022-04-04T02:52:05.119Z"
   },
   {
    "duration": 4,
    "start_time": "2022-04-04T02:52:13.983Z"
   },
   {
    "duration": 58,
    "start_time": "2022-04-04T20:52:03.641Z"
   },
   {
    "duration": 2159,
    "start_time": "2022-04-04T20:52:09.602Z"
   },
   {
    "duration": 415,
    "start_time": "2022-04-04T20:52:15.133Z"
   },
   {
    "duration": 404,
    "start_time": "2022-04-04T20:53:08.679Z"
   },
   {
    "duration": 421,
    "start_time": "2022-04-04T20:54:05.563Z"
   },
   {
    "duration": 153,
    "start_time": "2022-04-04T20:56:46.708Z"
   },
   {
    "duration": 136,
    "start_time": "2022-04-04T20:57:02.065Z"
   },
   {
    "duration": 407,
    "start_time": "2022-04-04T20:57:27.921Z"
   },
   {
    "duration": 421,
    "start_time": "2022-04-04T20:57:47.200Z"
   },
   {
    "duration": 406,
    "start_time": "2022-04-04T20:58:18.643Z"
   },
   {
    "duration": 419,
    "start_time": "2022-04-04T20:58:41.404Z"
   },
   {
    "duration": 407,
    "start_time": "2022-04-04T20:59:13.768Z"
   },
   {
    "duration": 414,
    "start_time": "2022-04-04T21:00:11.527Z"
   },
   {
    "duration": 432,
    "start_time": "2022-04-04T21:00:25.874Z"
   },
   {
    "duration": 503,
    "start_time": "2022-04-04T21:00:56.975Z"
   },
   {
    "duration": 416,
    "start_time": "2022-04-04T21:01:10.938Z"
   },
   {
    "duration": 412,
    "start_time": "2022-04-04T21:01:55.881Z"
   },
   {
    "duration": 2035,
    "start_time": "2022-04-04T21:04:32.285Z"
   },
   {
    "duration": 410,
    "start_time": "2022-04-04T21:04:34.323Z"
   },
   {
    "duration": 45,
    "start_time": "2022-04-04T21:04:34.735Z"
   },
   {
    "duration": 23,
    "start_time": "2022-04-04T21:04:34.801Z"
   },
   {
    "duration": 175,
    "start_time": "2022-04-04T21:04:34.826Z"
   },
   {
    "duration": 12,
    "start_time": "2022-04-04T21:04:35.003Z"
   },
   {
    "duration": 9,
    "start_time": "2022-04-04T21:04:35.017Z"
   },
   {
    "duration": 12,
    "start_time": "2022-04-04T21:04:35.028Z"
   },
   {
    "duration": 40,
    "start_time": "2022-04-04T21:04:35.042Z"
   },
   {
    "duration": 43,
    "start_time": "2022-04-04T21:04:35.085Z"
   },
   {
    "duration": 79,
    "start_time": "2022-04-04T21:04:35.130Z"
   },
   {
    "duration": 31,
    "start_time": "2022-04-04T21:04:35.211Z"
   },
   {
    "duration": 59,
    "start_time": "2022-04-04T21:04:35.244Z"
   },
   {
    "duration": 45,
    "start_time": "2022-04-04T21:04:35.305Z"
   },
   {
    "duration": 52,
    "start_time": "2022-04-04T21:04:35.352Z"
   },
   {
    "duration": 46,
    "start_time": "2022-04-04T21:04:35.406Z"
   },
   {
    "duration": 13,
    "start_time": "2022-04-04T21:04:35.455Z"
   },
   {
    "duration": 622,
    "start_time": "2022-04-04T21:04:35.470Z"
   },
   {
    "duration": 21,
    "start_time": "2022-04-04T21:04:36.094Z"
   },
   {
    "duration": 24,
    "start_time": "2022-04-04T21:04:36.118Z"
   },
   {
    "duration": 25,
    "start_time": "2022-04-04T21:04:36.144Z"
   },
   {
    "duration": 35,
    "start_time": "2022-04-04T21:04:36.171Z"
   },
   {
    "duration": 19,
    "start_time": "2022-04-04T21:04:36.208Z"
   },
   {
    "duration": 29,
    "start_time": "2022-04-04T21:04:36.229Z"
   },
   {
    "duration": 10,
    "start_time": "2022-04-04T21:04:36.260Z"
   },
   {
    "duration": 26,
    "start_time": "2022-04-04T21:04:36.272Z"
   },
   {
    "duration": 31,
    "start_time": "2022-04-04T21:04:36.299Z"
   },
   {
    "duration": 25,
    "start_time": "2022-04-04T21:04:36.336Z"
   },
   {
    "duration": 335,
    "start_time": "2022-04-04T21:04:36.363Z"
   },
   {
    "duration": 9,
    "start_time": "2022-04-04T21:04:36.700Z"
   },
   {
    "duration": 30,
    "start_time": "2022-04-04T21:04:36.711Z"
   },
   {
    "duration": 243,
    "start_time": "2022-04-04T21:04:36.743Z"
   },
   {
    "duration": 4,
    "start_time": "2022-04-04T21:04:36.987Z"
   },
   {
    "duration": 1375,
    "start_time": "2022-04-04T21:04:36.992Z"
   },
   {
    "duration": 1819,
    "start_time": "2022-04-04T21:04:38.369Z"
   },
   {
    "duration": 873,
    "start_time": "2022-04-04T21:04:40.190Z"
   },
   {
    "duration": 1352,
    "start_time": "2022-04-04T21:04:41.065Z"
   },
   {
    "duration": 1929,
    "start_time": "2022-04-04T21:04:42.420Z"
   },
   {
    "duration": 1274,
    "start_time": "2022-04-04T21:04:44.351Z"
   },
   {
    "duration": 850,
    "start_time": "2022-04-04T21:04:45.627Z"
   },
   {
    "duration": 1121,
    "start_time": "2022-04-04T21:04:46.480Z"
   },
   {
    "duration": 576,
    "start_time": "2022-04-04T21:04:47.603Z"
   },
   {
    "duration": 33,
    "start_time": "2022-04-04T21:04:48.181Z"
   },
   {
    "duration": 462,
    "start_time": "2022-04-04T21:04:48.215Z"
   },
   {
    "duration": 927,
    "start_time": "2022-04-04T21:04:48.679Z"
   },
   {
    "duration": 1247,
    "start_time": "2022-04-04T21:04:49.608Z"
   },
   {
    "duration": 1686,
    "start_time": "2022-04-04T21:04:50.857Z"
   },
   {
    "duration": 1803,
    "start_time": "2022-04-04T21:04:52.545Z"
   },
   {
    "duration": 22,
    "start_time": "2022-04-04T21:04:54.350Z"
   },
   {
    "duration": 293,
    "start_time": "2022-04-04T21:17:49.313Z"
   },
   {
    "duration": 105,
    "start_time": "2022-04-04T21:18:17.083Z"
   },
   {
    "duration": 11,
    "start_time": "2022-04-04T21:19:44.135Z"
   },
   {
    "duration": 32,
    "start_time": "2022-04-04T21:21:49.085Z"
   },
   {
    "duration": 29,
    "start_time": "2022-04-04T21:22:08.373Z"
   },
   {
    "duration": 2012,
    "start_time": "2022-04-04T21:24:00.443Z"
   },
   {
    "duration": 449,
    "start_time": "2022-04-04T21:24:02.457Z"
   },
   {
    "duration": 47,
    "start_time": "2022-04-04T21:24:02.908Z"
   },
   {
    "duration": 50,
    "start_time": "2022-04-04T21:24:02.957Z"
   },
   {
    "duration": 216,
    "start_time": "2022-04-04T21:24:03.009Z"
   },
   {
    "duration": 13,
    "start_time": "2022-04-04T21:24:03.227Z"
   },
   {
    "duration": 17,
    "start_time": "2022-04-04T21:24:03.242Z"
   },
   {
    "duration": 19,
    "start_time": "2022-04-04T21:24:03.261Z"
   },
   {
    "duration": 30,
    "start_time": "2022-04-04T21:24:03.282Z"
   },
   {
    "duration": 27,
    "start_time": "2022-04-04T21:24:03.315Z"
   },
   {
    "duration": 28,
    "start_time": "2022-04-04T21:24:03.344Z"
   },
   {
    "duration": 36,
    "start_time": "2022-04-04T21:24:03.374Z"
   },
   {
    "duration": 45,
    "start_time": "2022-04-04T21:24:03.413Z"
   },
   {
    "duration": 18,
    "start_time": "2022-04-04T21:24:03.460Z"
   },
   {
    "duration": 22,
    "start_time": "2022-04-04T21:24:03.481Z"
   },
   {
    "duration": 17,
    "start_time": "2022-04-04T21:24:03.505Z"
   },
   {
    "duration": 26,
    "start_time": "2022-04-04T21:24:03.524Z"
   },
   {
    "duration": 584,
    "start_time": "2022-04-04T21:24:03.552Z"
   },
   {
    "duration": 31,
    "start_time": "2022-04-04T21:24:04.138Z"
   },
   {
    "duration": 49,
    "start_time": "2022-04-04T21:24:04.170Z"
   },
   {
    "duration": 15,
    "start_time": "2022-04-04T21:24:04.220Z"
   },
   {
    "duration": 17,
    "start_time": "2022-04-04T21:24:04.236Z"
   },
   {
    "duration": 55,
    "start_time": "2022-04-04T21:24:04.255Z"
   },
   {
    "duration": 16,
    "start_time": "2022-04-04T21:24:04.312Z"
   },
   {
    "duration": 19,
    "start_time": "2022-04-04T21:24:04.330Z"
   },
   {
    "duration": 4,
    "start_time": "2022-04-04T21:24:04.351Z"
   },
   {
    "duration": 13,
    "start_time": "2022-04-04T21:24:04.357Z"
   },
   {
    "duration": 40,
    "start_time": "2022-04-04T21:24:04.374Z"
   },
   {
    "duration": 25,
    "start_time": "2022-04-04T21:24:04.415Z"
   },
   {
    "duration": 368,
    "start_time": "2022-04-04T21:24:04.442Z"
   },
   {
    "duration": 10,
    "start_time": "2022-04-04T21:24:04.812Z"
   },
   {
    "duration": 19,
    "start_time": "2022-04-04T21:24:04.823Z"
   },
   {
    "duration": 231,
    "start_time": "2022-04-04T21:24:04.844Z"
   },
   {
    "duration": 4,
    "start_time": "2022-04-04T21:24:05.078Z"
   },
   {
    "duration": 1416,
    "start_time": "2022-04-04T21:24:05.084Z"
   },
   {
    "duration": 1865,
    "start_time": "2022-04-04T21:24:06.504Z"
   },
   {
    "duration": 887,
    "start_time": "2022-04-04T21:24:08.372Z"
   },
   {
    "duration": 1340,
    "start_time": "2022-04-04T21:24:09.261Z"
   },
   {
    "duration": 1852,
    "start_time": "2022-04-04T21:24:10.603Z"
   },
   {
    "duration": 1496,
    "start_time": "2022-04-04T21:24:12.457Z"
   },
   {
    "duration": 1019,
    "start_time": "2022-04-04T21:24:13.955Z"
   },
   {
    "duration": 1156,
    "start_time": "2022-04-04T21:24:14.976Z"
   },
   {
    "duration": 933,
    "start_time": "2022-04-04T21:24:16.135Z"
   },
   {
    "duration": 49,
    "start_time": "2022-04-04T21:24:17.070Z"
   },
   {
    "duration": 549,
    "start_time": "2022-04-04T21:24:17.121Z"
   },
   {
    "duration": 1175,
    "start_time": "2022-04-04T21:24:17.672Z"
   },
   {
    "duration": 1978,
    "start_time": "2022-04-04T21:24:18.849Z"
   },
   {
    "duration": 2765,
    "start_time": "2022-04-04T21:24:20.830Z"
   },
   {
    "duration": 2719,
    "start_time": "2022-04-04T21:24:23.600Z"
   },
   {
    "duration": 33,
    "start_time": "2022-04-04T21:24:26.321Z"
   },
   {
    "duration": 6,
    "start_time": "2022-04-04T21:56:55.280Z"
   },
   {
    "duration": 17,
    "start_time": "2022-04-04T22:02:33.012Z"
   },
   {
    "duration": 18,
    "start_time": "2022-04-04T22:02:51.567Z"
   },
   {
    "duration": 111,
    "start_time": "2022-04-04T22:05:38.547Z"
   },
   {
    "duration": 18,
    "start_time": "2022-04-04T22:05:51.391Z"
   },
   {
    "duration": 24,
    "start_time": "2022-04-04T22:06:01.941Z"
   },
   {
    "duration": 24,
    "start_time": "2022-04-04T22:06:10.649Z"
   },
   {
    "duration": 25,
    "start_time": "2022-04-04T22:06:18.135Z"
   },
   {
    "duration": 25,
    "start_time": "2022-04-04T22:06:23.007Z"
   },
   {
    "duration": 24,
    "start_time": "2022-04-04T22:06:48.949Z"
   },
   {
    "duration": 23,
    "start_time": "2022-04-04T22:06:56.681Z"
   },
   {
    "duration": 46,
    "start_time": "2022-04-05T04:18:19.515Z"
   },
   {
    "duration": 2004,
    "start_time": "2022-04-05T04:18:28.674Z"
   },
   {
    "duration": 403,
    "start_time": "2022-04-05T04:18:30.680Z"
   },
   {
    "duration": 37,
    "start_time": "2022-04-05T04:18:31.085Z"
   },
   {
    "duration": 21,
    "start_time": "2022-04-05T04:18:31.133Z"
   },
   {
    "duration": 163,
    "start_time": "2022-04-05T04:18:31.157Z"
   },
   {
    "duration": 15,
    "start_time": "2022-04-05T04:18:31.322Z"
   },
   {
    "duration": 17,
    "start_time": "2022-04-05T04:18:31.339Z"
   },
   {
    "duration": 7,
    "start_time": "2022-04-05T04:18:31.358Z"
   },
   {
    "duration": 7,
    "start_time": "2022-04-05T04:18:31.367Z"
   },
   {
    "duration": 13,
    "start_time": "2022-04-05T04:18:31.376Z"
   },
   {
    "duration": 10,
    "start_time": "2022-04-05T04:18:31.390Z"
   },
   {
    "duration": 7,
    "start_time": "2022-04-05T04:18:31.402Z"
   },
   {
    "duration": 25,
    "start_time": "2022-04-05T04:18:31.411Z"
   },
   {
    "duration": 7,
    "start_time": "2022-04-05T04:18:31.439Z"
   },
   {
    "duration": 10,
    "start_time": "2022-04-05T04:18:31.448Z"
   },
   {
    "duration": 16,
    "start_time": "2022-04-05T04:18:31.460Z"
   },
   {
    "duration": 8,
    "start_time": "2022-04-05T04:18:31.478Z"
   },
   {
    "duration": 517,
    "start_time": "2022-04-05T04:18:31.488Z"
   },
   {
    "duration": 37,
    "start_time": "2022-04-05T04:18:32.007Z"
   },
   {
    "duration": 25,
    "start_time": "2022-04-05T04:18:32.046Z"
   },
   {
    "duration": 27,
    "start_time": "2022-04-05T04:18:32.072Z"
   },
   {
    "duration": 3,
    "start_time": "2022-04-05T04:18:32.101Z"
   },
   {
    "duration": 29,
    "start_time": "2022-04-05T04:18:32.106Z"
   },
   {
    "duration": 6,
    "start_time": "2022-04-05T04:18:32.137Z"
   },
   {
    "duration": 14,
    "start_time": "2022-04-05T04:18:32.144Z"
   },
   {
    "duration": 20,
    "start_time": "2022-04-05T04:18:32.160Z"
   },
   {
    "duration": 344,
    "start_time": "2022-04-05T04:18:32.182Z"
   },
   {
    "duration": 13,
    "start_time": "2022-04-05T04:18:32.527Z"
   },
   {
    "duration": 135,
    "start_time": "2022-04-05T04:18:32.541Z"
   },
   {
    "duration": 3,
    "start_time": "2022-04-05T04:18:32.678Z"
   },
   {
    "duration": 1344,
    "start_time": "2022-04-05T04:18:32.682Z"
   },
   {
    "duration": 1552,
    "start_time": "2022-04-05T04:18:34.028Z"
   },
   {
    "duration": 745,
    "start_time": "2022-04-05T04:18:35.582Z"
   },
   {
    "duration": 194,
    "start_time": "2022-04-05T04:18:36.333Z"
   },
   {
    "duration": 1187,
    "start_time": "2022-04-05T04:18:36.532Z"
   },
   {
    "duration": 1543,
    "start_time": "2022-04-05T04:18:37.721Z"
   },
   {
    "duration": 1157,
    "start_time": "2022-04-05T04:18:39.266Z"
   },
   {
    "duration": 723,
    "start_time": "2022-04-05T04:18:40.433Z"
   },
   {
    "duration": 680,
    "start_time": "2022-04-05T04:18:41.158Z"
   },
   {
    "duration": 517,
    "start_time": "2022-04-05T04:18:41.841Z"
   },
   {
    "duration": 25,
    "start_time": "2022-04-05T04:18:42.363Z"
   },
   {
    "duration": 446,
    "start_time": "2022-04-05T04:18:42.390Z"
   },
   {
    "duration": 833,
    "start_time": "2022-04-05T04:18:42.838Z"
   },
   {
    "duration": 1116,
    "start_time": "2022-04-05T04:18:43.673Z"
   },
   {
    "duration": 1542,
    "start_time": "2022-04-05T04:18:44.791Z"
   },
   {
    "duration": 1550,
    "start_time": "2022-04-05T04:18:46.335Z"
   },
   {
    "duration": 23,
    "start_time": "2022-04-05T04:18:47.887Z"
   },
   {
    "duration": 1744,
    "start_time": "2022-04-05T04:26:12.453Z"
   },
   {
    "duration": 404,
    "start_time": "2022-04-05T04:26:14.199Z"
   },
   {
    "duration": 42,
    "start_time": "2022-04-05T04:26:14.605Z"
   },
   {
    "duration": 22,
    "start_time": "2022-04-05T04:26:14.649Z"
   },
   {
    "duration": 167,
    "start_time": "2022-04-05T04:26:14.673Z"
   },
   {
    "duration": 11,
    "start_time": "2022-04-05T04:26:14.842Z"
   },
   {
    "duration": 6,
    "start_time": "2022-04-05T04:26:14.855Z"
   },
   {
    "duration": 7,
    "start_time": "2022-04-05T04:26:14.862Z"
   },
   {
    "duration": 7,
    "start_time": "2022-04-05T04:26:14.871Z"
   },
   {
    "duration": 11,
    "start_time": "2022-04-05T04:26:14.880Z"
   },
   {
    "duration": 14,
    "start_time": "2022-04-05T04:26:14.893Z"
   },
   {
    "duration": 25,
    "start_time": "2022-04-05T04:26:14.909Z"
   },
   {
    "duration": 8,
    "start_time": "2022-04-05T04:26:14.936Z"
   },
   {
    "duration": 6,
    "start_time": "2022-04-05T04:26:14.946Z"
   },
   {
    "duration": 11,
    "start_time": "2022-04-05T04:26:14.954Z"
   },
   {
    "duration": 8,
    "start_time": "2022-04-05T04:26:14.966Z"
   },
   {
    "duration": 4,
    "start_time": "2022-04-05T04:26:14.976Z"
   },
   {
    "duration": 546,
    "start_time": "2022-04-05T04:26:14.982Z"
   },
   {
    "duration": 28,
    "start_time": "2022-04-05T04:26:15.533Z"
   },
   {
    "duration": 27,
    "start_time": "2022-04-05T04:26:15.563Z"
   },
   {
    "duration": 52,
    "start_time": "2022-04-05T04:26:15.592Z"
   },
   {
    "duration": 4,
    "start_time": "2022-04-05T04:26:15.645Z"
   },
   {
    "duration": 6,
    "start_time": "2022-04-05T04:26:15.650Z"
   },
   {
    "duration": 5,
    "start_time": "2022-04-05T04:26:15.657Z"
   },
   {
    "duration": 13,
    "start_time": "2022-04-05T04:26:15.664Z"
   },
   {
    "duration": 55,
    "start_time": "2022-04-05T04:26:15.679Z"
   },
   {
    "duration": 310,
    "start_time": "2022-04-05T04:26:15.735Z"
   },
   {
    "duration": 13,
    "start_time": "2022-04-05T04:26:16.049Z"
   },
   {
    "duration": 122,
    "start_time": "2022-04-05T04:26:16.064Z"
   },
   {
    "duration": 3,
    "start_time": "2022-04-05T04:26:16.188Z"
   },
   {
    "duration": 1247,
    "start_time": "2022-04-05T04:26:16.192Z"
   },
   {
    "duration": 1613,
    "start_time": "2022-04-05T04:26:17.440Z"
   },
   {
    "duration": 750,
    "start_time": "2022-04-05T04:26:19.055Z"
   },
   {
    "duration": 195,
    "start_time": "2022-04-05T04:26:19.806Z"
   },
   {
    "duration": 1194,
    "start_time": "2022-04-05T04:26:20.003Z"
   },
   {
    "duration": 1555,
    "start_time": "2022-04-05T04:26:21.199Z"
   },
   {
    "duration": 1141,
    "start_time": "2022-04-05T04:26:22.756Z"
   },
   {
    "duration": 737,
    "start_time": "2022-04-05T04:26:23.899Z"
   },
   {
    "duration": 652,
    "start_time": "2022-04-05T04:26:24.638Z"
   },
   {
    "duration": 511,
    "start_time": "2022-04-05T04:26:25.291Z"
   },
   {
    "duration": 33,
    "start_time": "2022-04-05T04:26:25.803Z"
   },
   {
    "duration": 433,
    "start_time": "2022-04-05T04:26:25.838Z"
   },
   {
    "duration": 806,
    "start_time": "2022-04-05T04:26:26.272Z"
   },
   {
    "duration": 1132,
    "start_time": "2022-04-05T04:26:27.080Z"
   },
   {
    "duration": 1515,
    "start_time": "2022-04-05T04:26:28.213Z"
   },
   {
    "duration": 1563,
    "start_time": "2022-04-05T04:26:29.732Z"
   },
   {
    "duration": 21,
    "start_time": "2022-04-05T04:26:31.296Z"
   },
   {
    "duration": 1733,
    "start_time": "2022-04-05T04:29:20.424Z"
   },
   {
    "duration": 389,
    "start_time": "2022-04-05T04:29:22.159Z"
   },
   {
    "duration": 37,
    "start_time": "2022-04-05T04:29:22.549Z"
   },
   {
    "duration": 46,
    "start_time": "2022-04-05T04:29:22.588Z"
   },
   {
    "duration": 154,
    "start_time": "2022-04-05T04:29:22.635Z"
   },
   {
    "duration": 11,
    "start_time": "2022-04-05T04:29:22.791Z"
   },
   {
    "duration": 6,
    "start_time": "2022-04-05T04:29:22.804Z"
   },
   {
    "duration": 22,
    "start_time": "2022-04-05T04:29:22.811Z"
   },
   {
    "duration": 6,
    "start_time": "2022-04-05T04:29:22.835Z"
   },
   {
    "duration": 8,
    "start_time": "2022-04-05T04:29:22.844Z"
   },
   {
    "duration": 8,
    "start_time": "2022-04-05T04:29:22.854Z"
   },
   {
    "duration": 6,
    "start_time": "2022-04-05T04:29:22.864Z"
   },
   {
    "duration": 12,
    "start_time": "2022-04-05T04:29:22.871Z"
   },
   {
    "duration": 15,
    "start_time": "2022-04-05T04:29:22.884Z"
   },
   {
    "duration": 9,
    "start_time": "2022-04-05T04:29:22.901Z"
   },
   {
    "duration": 21,
    "start_time": "2022-04-05T04:29:22.912Z"
   },
   {
    "duration": 6,
    "start_time": "2022-04-05T04:29:22.935Z"
   },
   {
    "duration": 534,
    "start_time": "2022-04-05T04:29:22.943Z"
   },
   {
    "duration": 27,
    "start_time": "2022-04-05T04:29:23.479Z"
   },
   {
    "duration": 40,
    "start_time": "2022-04-05T04:29:23.507Z"
   },
   {
    "duration": 25,
    "start_time": "2022-04-05T04:29:23.549Z"
   },
   {
    "duration": 3,
    "start_time": "2022-04-05T04:29:23.576Z"
   },
   {
    "duration": 5,
    "start_time": "2022-04-05T04:29:23.581Z"
   },
   {
    "duration": 6,
    "start_time": "2022-04-05T04:29:23.587Z"
   },
   {
    "duration": 46,
    "start_time": "2022-04-05T04:29:23.594Z"
   },
   {
    "duration": 22,
    "start_time": "2022-04-05T04:29:23.641Z"
   },
   {
    "duration": 314,
    "start_time": "2022-04-05T04:29:23.664Z"
   },
   {
    "duration": 12,
    "start_time": "2022-04-05T04:29:23.981Z"
   },
   {
    "duration": 119,
    "start_time": "2022-04-05T04:29:23.995Z"
   },
   {
    "duration": 3,
    "start_time": "2022-04-05T04:29:24.115Z"
   },
   {
    "duration": 1216,
    "start_time": "2022-04-05T04:29:24.120Z"
   },
   {
    "duration": 1600,
    "start_time": "2022-04-05T04:29:25.338Z"
   },
   {
    "duration": 752,
    "start_time": "2022-04-05T04:29:26.940Z"
   },
   {
    "duration": 196,
    "start_time": "2022-04-05T04:29:27.694Z"
   },
   {
    "duration": 1187,
    "start_time": "2022-04-05T04:29:27.892Z"
   },
   {
    "duration": 1557,
    "start_time": "2022-04-05T04:29:29.081Z"
   },
   {
    "duration": 1144,
    "start_time": "2022-04-05T04:29:30.639Z"
   },
   {
    "duration": 731,
    "start_time": "2022-04-05T04:29:31.785Z"
   },
   {
    "duration": 638,
    "start_time": "2022-04-05T04:29:32.518Z"
   },
   {
    "duration": 528,
    "start_time": "2022-04-05T04:29:33.158Z"
   },
   {
    "duration": 24,
    "start_time": "2022-04-05T04:29:33.687Z"
   },
   {
    "duration": 449,
    "start_time": "2022-04-05T04:29:33.714Z"
   },
   {
    "duration": 826,
    "start_time": "2022-04-05T04:29:34.165Z"
   },
   {
    "duration": 1130,
    "start_time": "2022-04-05T04:29:34.993Z"
   },
   {
    "duration": 1594,
    "start_time": "2022-04-05T04:29:36.124Z"
   },
   {
    "duration": 1588,
    "start_time": "2022-04-05T04:29:37.719Z"
   },
   {
    "duration": 35,
    "start_time": "2022-04-05T04:29:39.309Z"
   }
  ],
  "kernelspec": {
   "display_name": "Python 3",
   "language": "python",
   "name": "python3"
  },
  "language_info": {
   "codemirror_mode": {
    "name": "ipython",
    "version": 3
   },
   "file_extension": ".py",
   "mimetype": "text/x-python",
   "name": "python",
   "nbconvert_exporter": "python",
   "pygments_lexer": "ipython3",
   "version": "3.8.8"
  },
  "toc": {
   "base_numbering": 1,
   "nav_menu": {
    "height": "234px",
    "width": "332px"
   },
   "number_sections": true,
   "sideBar": true,
   "skip_h1_title": true,
   "title_cell": "Table of Contents",
   "title_sidebar": "Contents",
   "toc_cell": false,
   "toc_position": {
    "height": "calc(100% - 180px)",
    "left": "10px",
    "top": "150px",
    "width": "405px"
   },
   "toc_section_display": true,
   "toc_window_display": true
  }
 },
 "nbformat": 4,
 "nbformat_minor": 4
}
